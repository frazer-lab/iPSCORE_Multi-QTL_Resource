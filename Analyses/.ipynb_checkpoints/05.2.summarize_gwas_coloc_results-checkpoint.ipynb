{
 "cells": [
  {
   "cell_type": "code",
   "execution_count": 10,
   "metadata": {},
   "outputs": [],
   "source": [
    "setwd(\"/projects/CARDIPS/analysis/epigenome_resource\")\n",
    "suppressPackageStartupMessages(source(\"analyses/jennifer/notebooks/functions.R\"))\n",
    "\n",
    "set.seed(5366)"
   ]
  },
  {
   "cell_type": "code",
   "execution_count": 11,
   "metadata": {},
   "outputs": [],
   "source": [
    "tissues = c(\"iPSC\", \"PPC\", \"CVPC\")\n",
    "analyses = c(\"eqtls\", \"caqtls\", \"haqtls\")"
   ]
  },
  {
   "cell_type": "markdown",
   "metadata": {},
   "source": [
    "# **Summarize and process GWAS colocalization results**"
   ]
  },
  {
   "cell_type": "code",
   "execution_count": 12,
   "metadata": {},
   "outputs": [],
   "source": [
    "coloc_results_dir = \"/projects/CARDIPS/analysis/epigenome_resource/analyses/tim/gwas_coloc2\""
   ]
  },
  {
   "cell_type": "markdown",
   "metadata": {},
   "source": [
    "## **load downstream qtls**"
   ]
  },
  {
   "cell_type": "code",
   "execution_count": 13,
   "metadata": {},
   "outputs": [
    {
     "data": {
      "text/plain": [
       "\n",
       "FALSE  TRUE \n",
       " 7932 52374 "
      ]
     },
     "metadata": {},
     "output_type": "display_data"
    },
    {
     "data": {
      "text/html": [
       "<table class=\"dataframe\">\n",
       "<caption>A data.table: 6 × 11</caption>\n",
       "<thead>\n",
       "\t<tr><th scope=col>tissue_element</th><th scope=col>Tissue</th><th scope=col>Cluster_ID</th><th scope=col>Element_ID</th><th scope=col>qElement_Type</th><th scope=col>Complexity</th><th scope=col>qElements_inQTL</th><th scope=col>Nominated</th><th scope=col>qtl_combo</th><th scope=col>in1kg</th><th scope=col>qtl_type</th></tr>\n",
       "\t<tr><th scope=col>&lt;chr&gt;</th><th scope=col>&lt;chr&gt;</th><th scope=col>&lt;chr&gt;</th><th scope=col>&lt;chr&gt;</th><th scope=col>&lt;chr&gt;</th><th scope=col>&lt;chr&gt;</th><th scope=col>&lt;int&gt;</th><th scope=col>&lt;lgl&gt;</th><th scope=col>&lt;chr&gt;</th><th scope=col>&lt;lgl&gt;</th><th scope=col>&lt;chr&gt;</th></tr>\n",
       "</thead>\n",
       "<tbody>\n",
       "\t<tr><td>CVPC_cvpc_atac_peak_10001 </td><td>CVPC</td><td>CVPC_6611</td><td>cvpc_atac_peak_10001 </td><td>caPeak</td><td>Singleton</td><td>1</td><td> TRUE</td><td>caQTL      </td><td>TRUE</td><td>caQTL</td></tr>\n",
       "\t<tr><td>CVPC_cvpc_atac_peak_100016</td><td>CVPC</td><td>CVPC_6612</td><td>cvpc_atac_peak_100016</td><td>caPeak</td><td>Singleton</td><td>1</td><td> TRUE</td><td>caQTL      </td><td>TRUE</td><td>caQTL</td></tr>\n",
       "\t<tr><td>CVPC_cvpc_atac_peak_100021</td><td>CVPC</td><td>CVPC_6613</td><td>cvpc_atac_peak_100021</td><td>caPeak</td><td>Singleton</td><td>1</td><td> TRUE</td><td>caQTL      </td><td>TRUE</td><td>caQTL</td></tr>\n",
       "\t<tr><td>CVPC_cvpc_atac_peak_100058</td><td>CVPC</td><td>CVPC_6614</td><td>cvpc_atac_peak_100058</td><td>caPeak</td><td>Singleton</td><td>1</td><td> TRUE</td><td>caQTL      </td><td>TRUE</td><td>caQTL</td></tr>\n",
       "\t<tr><td>CVPC_cvpc_atac_peak_100078</td><td>CVPC</td><td>CVPC_6615</td><td>cvpc_atac_peak_100078</td><td>caPeak</td><td>Singleton</td><td>1</td><td> TRUE</td><td>caQTL      </td><td>TRUE</td><td>caQTL</td></tr>\n",
       "\t<tr><td>CVPC_cvpc_atac_peak_100105</td><td>CVPC</td><td>CVPC_1370</td><td>cvpc_atac_peak_100105</td><td>caPeak</td><td>Complex  </td><td>2</td><td>FALSE</td><td>caQTL-haQTL</td><td>TRUE</td><td>caQTL</td></tr>\n",
       "</tbody>\n",
       "</table>\n"
      ],
      "text/latex": [
       "A data.table: 6 × 11\n",
       "\\begin{tabular}{lllllllllll}\n",
       " tissue\\_element & Tissue & Cluster\\_ID & Element\\_ID & qElement\\_Type & Complexity & qElements\\_inQTL & Nominated & qtl\\_combo & in1kg & qtl\\_type\\\\\n",
       " <chr> & <chr> & <chr> & <chr> & <chr> & <chr> & <int> & <lgl> & <chr> & <lgl> & <chr>\\\\\n",
       "\\hline\n",
       "\t CVPC\\_cvpc\\_atac\\_peak\\_10001  & CVPC & CVPC\\_6611 & cvpc\\_atac\\_peak\\_10001  & caPeak & Singleton & 1 &  TRUE & caQTL       & TRUE & caQTL\\\\\n",
       "\t CVPC\\_cvpc\\_atac\\_peak\\_100016 & CVPC & CVPC\\_6612 & cvpc\\_atac\\_peak\\_100016 & caPeak & Singleton & 1 &  TRUE & caQTL       & TRUE & caQTL\\\\\n",
       "\t CVPC\\_cvpc\\_atac\\_peak\\_100021 & CVPC & CVPC\\_6613 & cvpc\\_atac\\_peak\\_100021 & caPeak & Singleton & 1 &  TRUE & caQTL       & TRUE & caQTL\\\\\n",
       "\t CVPC\\_cvpc\\_atac\\_peak\\_100058 & CVPC & CVPC\\_6614 & cvpc\\_atac\\_peak\\_100058 & caPeak & Singleton & 1 &  TRUE & caQTL       & TRUE & caQTL\\\\\n",
       "\t CVPC\\_cvpc\\_atac\\_peak\\_100078 & CVPC & CVPC\\_6615 & cvpc\\_atac\\_peak\\_100078 & caPeak & Singleton & 1 &  TRUE & caQTL       & TRUE & caQTL\\\\\n",
       "\t CVPC\\_cvpc\\_atac\\_peak\\_100105 & CVPC & CVPC\\_1370 & cvpc\\_atac\\_peak\\_100105 & caPeak & Complex   & 2 & FALSE & caQTL-haQTL & TRUE & caQTL\\\\\n",
       "\\end{tabular}\n"
      ],
      "text/markdown": [
       "\n",
       "A data.table: 6 × 11\n",
       "\n",
       "| tissue_element &lt;chr&gt; | Tissue &lt;chr&gt; | Cluster_ID &lt;chr&gt; | Element_ID &lt;chr&gt; | qElement_Type &lt;chr&gt; | Complexity &lt;chr&gt; | qElements_inQTL &lt;int&gt; | Nominated &lt;lgl&gt; | qtl_combo &lt;chr&gt; | in1kg &lt;lgl&gt; | qtl_type &lt;chr&gt; |\n",
       "|---|---|---|---|---|---|---|---|---|---|---|\n",
       "| CVPC_cvpc_atac_peak_10001  | CVPC | CVPC_6611 | cvpc_atac_peak_10001  | caPeak | Singleton | 1 |  TRUE | caQTL       | TRUE | caQTL |\n",
       "| CVPC_cvpc_atac_peak_100016 | CVPC | CVPC_6612 | cvpc_atac_peak_100016 | caPeak | Singleton | 1 |  TRUE | caQTL       | TRUE | caQTL |\n",
       "| CVPC_cvpc_atac_peak_100021 | CVPC | CVPC_6613 | cvpc_atac_peak_100021 | caPeak | Singleton | 1 |  TRUE | caQTL       | TRUE | caQTL |\n",
       "| CVPC_cvpc_atac_peak_100058 | CVPC | CVPC_6614 | cvpc_atac_peak_100058 | caPeak | Singleton | 1 |  TRUE | caQTL       | TRUE | caQTL |\n",
       "| CVPC_cvpc_atac_peak_100078 | CVPC | CVPC_6615 | cvpc_atac_peak_100078 | caPeak | Singleton | 1 |  TRUE | caQTL       | TRUE | caQTL |\n",
       "| CVPC_cvpc_atac_peak_100105 | CVPC | CVPC_1370 | cvpc_atac_peak_100105 | caPeak | Complex   | 2 | FALSE | caQTL-haQTL | TRUE | caQTL |\n",
       "\n"
      ],
      "text/plain": [
       "  tissue_element             Tissue Cluster_ID Element_ID           \n",
       "1 CVPC_cvpc_atac_peak_10001  CVPC   CVPC_6611  cvpc_atac_peak_10001 \n",
       "2 CVPC_cvpc_atac_peak_100016 CVPC   CVPC_6612  cvpc_atac_peak_100016\n",
       "3 CVPC_cvpc_atac_peak_100021 CVPC   CVPC_6613  cvpc_atac_peak_100021\n",
       "4 CVPC_cvpc_atac_peak_100058 CVPC   CVPC_6614  cvpc_atac_peak_100058\n",
       "5 CVPC_cvpc_atac_peak_100078 CVPC   CVPC_6615  cvpc_atac_peak_100078\n",
       "6 CVPC_cvpc_atac_peak_100105 CVPC   CVPC_1370  cvpc_atac_peak_100105\n",
       "  qElement_Type Complexity qElements_inQTL Nominated qtl_combo   in1kg qtl_type\n",
       "1 caPeak        Singleton  1                TRUE     caQTL       TRUE  caQTL   \n",
       "2 caPeak        Singleton  1                TRUE     caQTL       TRUE  caQTL   \n",
       "3 caPeak        Singleton  1                TRUE     caQTL       TRUE  caQTL   \n",
       "4 caPeak        Singleton  1                TRUE     caQTL       TRUE  caQTL   \n",
       "5 caPeak        Singleton  1                TRUE     caQTL       TRUE  caQTL   \n",
       "6 caPeak        Complex    2               FALSE     caQTL-haQTL TRUE  caQTL   "
      ]
     },
     "metadata": {},
     "output_type": "display_data"
    }
   ],
   "source": [
    "qtls = fread(\"analyses/tim/ld_modules/modules/all_modules_091124.txt\", data.table = T)\n",
    "qtls$tissue_element = paste(qtls$Tissue, qtls$Element_ID, sep=\"_\")\n",
    "table(qtls$Nominated)\n",
    "head(qtls)"
   ]
  },
  {
   "cell_type": "markdown",
   "metadata": {},
   "source": [
    "## **load manifest**"
   ]
  },
  {
   "cell_type": "code",
   "execution_count": 14,
   "metadata": {},
   "outputs": [],
   "source": [
    "manifest_file = \"analyses/tim/gwas_coloc/scripts/manifest_subset.txt\"\n",
    "manifest = fread(manifest_file, data.table = F)\n",
    "\n"
   ]
  },
  {
   "cell_type": "markdown",
   "metadata": {},
   "source": [
    "## **combine GWAS coloc results**"
   ]
  },
  {
   "cell_type": "code",
   "execution_count": 15,
   "metadata": {},
   "outputs": [
    {
     "name": "stderr",
     "output_type": "stream",
     "text": [
      "iPSC eqtls\n",
      "iPSC caqtls\n",
      "iPSC haqtls\n",
      "PPC eqtls\n",
      "PPC caqtls\n",
      "Missing PPC haqtls\n",
      "\n",
      "CVPC eqtls\n",
      "CVPC caqtls\n",
      "CVPC haqtls\n"
     ]
    },
    {
     "data": {
      "text/html": [
       "716091"
      ],
      "text/latex": [
       "716091"
      ],
      "text/markdown": [
       "716091"
      ],
      "text/plain": [
       "[1] 716091"
      ]
     },
     "metadata": {},
     "output_type": "display_data"
    }
   ],
   "source": [
    "summary = as.data.frame(rbindlist(lapply(tissues, function(t)\n",
    "{\n",
    "    as.data.frame(rbindlist(lapply(analyses, function(a)\n",
    "    {\n",
    "        file = paste(coloc_results_dir, \"results\", paste(paste(a, t, \"summary\", sep = \"_\"), \"txt\", sep = \".\"), sep = \"/\")\n",
    "\n",
    "        if (file.exists(file))\n",
    "        {\n",
    "            message(paste(t, a),  appendLF = F)\n",
    "            fread(file, data.table = F) \n",
    "        } else\n",
    "        {\n",
    "            message(paste(\"Missing\", t, a))\n",
    "        }\n",
    "    })))\n",
    "}))) %>% mutate(p.gwas = as.double(p.gwas), p.eqtl = as.double(p.eqtl)) %>% dplyr::rename(type = discovery_order) \n",
    "nrow(summary)"
   ]
  },
  {
   "cell_type": "code",
   "execution_count": 16,
   "metadata": {},
   "outputs": [
    {
     "data": {
      "text/html": [
       "522034"
      ],
      "text/latex": [
       "522034"
      ],
      "text/markdown": [
       "522034"
      ],
      "text/plain": [
       "[1] 522034"
      ]
     },
     "metadata": {},
     "output_type": "display_data"
    }
   ],
   "source": [
    "summary = summary[ summary$trait_id %in% manifest$full_trait_id ,]\n",
    "nrow(summary)"
   ]
  },
  {
   "cell_type": "code",
   "execution_count": 17,
   "metadata": {},
   "outputs": [],
   "source": [
    "summary$tissue_element = paste(summary$tissue, summary$element_id,sep= \"_\")\n"
   ]
  },
  {
   "cell_type": "markdown",
   "metadata": {},
   "source": [
    "## **add trait description**"
   ]
  },
  {
   "cell_type": "code",
   "execution_count": 18,
   "metadata": {},
   "outputs": [],
   "source": [
    "summary2 = merge(summary %>% dplyr::rename(full_trait_id = trait_id), \n",
    "                 manifest[,c(\"trait_id\", \"full_trait_id\", \"description\")], by = \"full_trait_id\", all.x = T)"
   ]
  },
  {
   "cell_type": "code",
   "execution_count": 19,
   "metadata": {},
   "outputs": [
    {
     "data": {
      "text/html": [
       "522034"
      ],
      "text/latex": [
       "522034"
      ],
      "text/markdown": [
       "522034"
      ],
      "text/plain": [
       "[1] 522034"
      ]
     },
     "metadata": {},
     "output_type": "display_data"
    }
   ],
   "source": [
    "nrow(summary2)\n"
   ]
  },
  {
   "cell_type": "code",
   "execution_count": 20,
   "metadata": {},
   "outputs": [
    {
     "data": {
      "text/plain": [
       "      \n",
       "       caqtls eqtls haqtls\n",
       "  CVPC    200   100    172\n",
       "  iPSC    151   181      0\n",
       "  PPC     158    95      0"
      ]
     },
     "metadata": {},
     "output_type": "display_data"
    }
   ],
   "source": [
    "coloced = unique(summary2[ summary2$p.eqtl <= 5e-5 & summary2$p.gwas <= 5e-8 & summary2$topsnp_pp >= 0.01 & summary2$PP.H4.abf >= 0.8, \n",
    "                  c(\"analysis\",\"tissue\",\"element_id\",\"topsnp\")])\n",
    "table(coloced$tissue, coloced$analysis)\n",
    "# coloced"
   ]
  },
  {
   "cell_type": "markdown",
   "metadata": {},
   "source": [
    "## **add gene and peak coordinates**"
   ]
  },
  {
   "cell_type": "code",
   "execution_count": 21,
   "metadata": {},
   "outputs": [],
   "source": [
    "element_info = fread(\"analyses/jennifer/summary_files/all.phenotype_info.txt\", data.table = F)\n",
    "gene_info = fread(\"eqtls/iPSC/input/phenotype_info.txt\",sep=\"\\t\",data.table=F) [,c(1:4,6,5)]\n",
    "colnames(gene_info) = colnames(element_info)\n",
    "\n",
    "chip_peaks = as.data.frame(rbindlist(list(fread(\"haqtls/iPSC/input/phenotype_info.bed\",sep=\"\\t\"),\n",
    "                           fread(\"haqtls/CVPC/input/phenotype_info.bed\",sep=\"\\t\")))) %>% mutate(element_name = V4, strand = \"\")\n",
    "colnames(chip_peaks) = colnames(element_info)\n",
    "atac_peaks = as.data.frame(rbindlist(list(fread(\"caqtls/iPSC/input/phenotype_info.bed\",sep=\"\\t\"),\n",
    "                           fread(\"caqtls/CVPC/input/phenotype_info.bed\",sep=\"\\t\"),\n",
    "                                         fread(\"caqtls/PPC/input/phenotype_info.bed\",sep=\"\\t\")))) %>% mutate(element_name = V4, strand = \"\")\n",
    "colnames(atac_peaks) = colnames(element_info)\n",
    "element_info = as.data.frame(rbindlist(list(gene_info,chip_peaks,atac_peaks)))\n"
   ]
  },
  {
   "cell_type": "code",
   "execution_count": 22,
   "metadata": {},
   "outputs": [
    {
     "name": "stderr",
     "output_type": "stream",
     "text": [
      "Warning message in cbind(parts$left, chars$ellip_h, parts$right, deparse.level = 0L):\n",
      "“number of rows of result is not a multiple of vector length (arg 2)”\n",
      "Warning message in cbind(parts$left, chars$ellip_h, parts$right, deparse.level = 0L):\n",
      "“number of rows of result is not a multiple of vector length (arg 2)”\n",
      "Warning message in cbind(parts$left, chars$ellip_h, parts$right, deparse.level = 0L):\n",
      "“number of rows of result is not a multiple of vector length (arg 2)”\n",
      "Warning message in cbind(parts$left, chars$ellip_h, parts$right, deparse.level = 0L):\n",
      "“number of rows of result is not a multiple of vector length (arg 2)”\n"
     ]
    },
    {
     "data": {
      "text/html": [
       "<table class=\"dataframe\">\n",
       "<caption>A data.frame: 0 × 33</caption>\n",
       "<thead>\n",
       "\t<tr><th scope=col>element_id</th><th scope=col>element_chr</th><th scope=col>element_start</th><th scope=col>element_end</th><th scope=col>element_name</th><th scope=col>element_strand</th><th scope=col>full_trait_id</th><th scope=col>analysis</th><th scope=col>tissue</th><th scope=col>qtl_id</th><th scope=col>⋯</th><th scope=col>se.eqtl</th><th scope=col>p.eqtl</th><th scope=col>beta.gwas</th><th scope=col>se.gwas</th><th scope=col>p.gwas</th><th scope=col>bonferroni.eqtl</th><th scope=col>cs_size</th><th scope=col>tissue_element</th><th scope=col>trait_id</th><th scope=col>description</th></tr>\n",
       "\t<tr><th scope=col>&lt;chr&gt;</th><th scope=col>&lt;chr&gt;</th><th scope=col>&lt;int&gt;</th><th scope=col>&lt;int&gt;</th><th scope=col>&lt;chr&gt;</th><th scope=col>&lt;chr&gt;</th><th scope=col>&lt;chr&gt;</th><th scope=col>&lt;chr&gt;</th><th scope=col>&lt;chr&gt;</th><th scope=col>&lt;chr&gt;</th><th scope=col>⋯</th><th scope=col>&lt;dbl&gt;</th><th scope=col>&lt;dbl&gt;</th><th scope=col>&lt;dbl&gt;</th><th scope=col>&lt;dbl&gt;</th><th scope=col>&lt;dbl&gt;</th><th scope=col>&lt;dbl&gt;</th><th scope=col>&lt;int&gt;</th><th scope=col>&lt;chr&gt;</th><th scope=col>&lt;chr&gt;</th><th scope=col>&lt;chr&gt;</th></tr>\n",
       "</thead>\n",
       "<tbody>\n",
       "</tbody>\n",
       "</table>\n"
      ],
      "text/latex": [
       "A data.frame: 0 × 33\n",
       "\\begin{tabular}{lllllllllllllllllllll}\n",
       " element\\_id & element\\_chr & element\\_start & element\\_end & element\\_name & element\\_strand & full\\_trait\\_id & analysis & tissue & qtl\\_id & ⋯ & se.eqtl & p.eqtl & beta.gwas & se.gwas & p.gwas & bonferroni.eqtl & cs\\_size & tissue\\_element & trait\\_id & description\\\\\n",
       " <chr> & <chr> & <int> & <int> & <chr> & <chr> & <chr> & <chr> & <chr> & <chr> & ⋯ & <dbl> & <dbl> & <dbl> & <dbl> & <dbl> & <dbl> & <int> & <chr> & <chr> & <chr>\\\\\n",
       "\\hline\n",
       "\\end{tabular}\n"
      ],
      "text/markdown": [
       "\n",
       "A data.frame: 0 × 33\n",
       "\n",
       "| element_id &lt;chr&gt; | element_chr &lt;chr&gt; | element_start &lt;int&gt; | element_end &lt;int&gt; | element_name &lt;chr&gt; | element_strand &lt;chr&gt; | full_trait_id &lt;chr&gt; | analysis &lt;chr&gt; | tissue &lt;chr&gt; | qtl_id &lt;chr&gt; | ⋯ ⋯ | se.eqtl &lt;dbl&gt; | p.eqtl &lt;dbl&gt; | beta.gwas &lt;dbl&gt; | se.gwas &lt;dbl&gt; | p.gwas &lt;dbl&gt; | bonferroni.eqtl &lt;dbl&gt; | cs_size &lt;int&gt; | tissue_element &lt;chr&gt; | trait_id &lt;chr&gt; | description &lt;chr&gt; |\n",
       "|---|---|---|---|---|---|---|---|---|---|---|---|---|---|---|---|---|---|---|---|---|\n",
       "\n"
      ],
      "text/plain": [
       "     element_id element_chr element_start element_end element_name\n",
       "     element_strand full_trait_id analysis tissue qtl_id ⋯ se.eqtl p.eqtl\n",
       "     beta.gwas se.gwas p.gwas bonferroni.eqtl cs_size tissue_element trait_id\n",
       "     description"
      ]
     },
     "metadata": {},
     "output_type": "display_data"
    }
   ],
   "source": [
    "summary3 = merge(element_info, summary2, by = \"element_id\", all.y = T)\n",
    "\n",
    "# check that all elements have coordinates\n",
    "summary3 %>% filter(is.na(element_start))\n"
   ]
  },
  {
   "cell_type": "code",
   "execution_count": 23,
   "metadata": {},
   "outputs": [
    {
     "data": {
      "text/html": [
       "522034"
      ],
      "text/latex": [
       "522034"
      ],
      "text/markdown": [
       "522034"
      ],
      "text/plain": [
       "[1] 522034"
      ]
     },
     "metadata": {},
     "output_type": "display_data"
    }
   ],
   "source": [
    "nrow(summary3)"
   ]
  },
  {
   "cell_type": "markdown",
   "metadata": {},
   "source": [
    "## **annotate each qtl with lead beta and snp.pp**"
   ]
  },
  {
   "cell_type": "code",
   "execution_count": 26,
   "metadata": {},
   "outputs": [],
   "source": [
    "summary4 = summary3\n",
    "\n",
    "summary5 = merge(summary4, \n",
    "                qtls %>% select(tissue_element, Cluster_ID, Tissue, Complexity,qtl_combo, Nominated), \n",
    "                by = c(\"tissue_element\"), all.x = T)\n",
    "\n"
   ]
  },
  {
   "cell_type": "code",
   "execution_count": 27,
   "metadata": {},
   "outputs": [
    {
     "name": "stderr",
     "output_type": "stream",
     "text": [
      "Each QTL has an assigned cluster ID\n",
      "\n"
     ]
    }
   ],
   "source": [
    "a = summary5 %>% filter(is.na(Cluster_ID))\n",
    "\n",
    "if (nrow(a) > 0)\n",
    "{\n",
    "    message(\"Error: Some QTLs do not have an assigned cluster ID\")\n",
    "} else\n",
    "{\n",
    "    message(\"Each QTL has an assigned cluster ID\")\n",
    "}"
   ]
  },
  {
   "cell_type": "code",
   "execution_count": 30,
   "metadata": {},
   "outputs": [
    {
     "data": {
      "text/html": [
       "52374"
      ],
      "text/latex": [
       "52374"
      ],
      "text/markdown": [
       "52374"
      ],
      "text/plain": [
       "[1] 52374"
      ]
     },
     "metadata": {},
     "output_type": "display_data"
    },
    {
     "data": {
      "text/html": [
       "52374"
      ],
      "text/latex": [
       "52374"
      ],
      "text/markdown": [
       "52374"
      ],
      "text/plain": [
       "[1] 52374"
      ]
     },
     "metadata": {},
     "output_type": "display_data"
    }
   ],
   "source": [
    "length(unique(qtls$Cluster_ID))\n",
    "nrow(qtls[ qtls$Nominated == \"TRUE\",])"
   ]
  },
  {
   "cell_type": "markdown",
   "metadata": {},
   "source": [
    "## **how many clusters do not have its nominated QTLs present**"
   ]
  },
  {
   "cell_type": "code",
   "execution_count": 31,
   "metadata": {},
   "outputs": [
    {
     "name": "stderr",
     "output_type": "stream",
     "text": [
      "# clusters total: 52374\n",
      "\n",
      "# clusters tested total: 52225\n",
      "\n",
      "# clusters with its nominated QTL tested: 52205\n",
      "\n"
     ]
    }
   ],
   "source": [
    "# there might be some modules whose nominated QTLs were not tested for GWAS \n",
    "# but the other qtls in the modules were\n",
    "clusters_tested = unique(summary5$Cluster_ID)\n",
    "nom_clusters = unique(summary5[ summary5$Nominated == \"TRUE\",]$Cluster_ID)\n",
    "\n",
    "message(paste(\"# clusters total:\", length(unique(qtls$Cluster_ID))))\n",
    "message(paste(\"# clusters tested total:\", length(clusters_tested)))\n",
    "message(paste(\"# clusters with its nominated QTL tested:\", length(nom_clusters)))\n"
   ]
  },
  {
   "cell_type": "code",
   "execution_count": 40,
   "metadata": {},
   "outputs": [
    {
     "name": "stderr",
     "output_type": "stream",
     "text": [
      "# clusters without nominated QTL that colocalized with GWAS: 3\n",
      "\n"
     ]
    }
   ],
   "source": [
    "# clusters without nominated QTLs that coloc'd (very few)\n",
    "a = summary5 %>% filter(!Cluster_ID %in% summary5[summary5$Nominated == \"TRUE\",]$Cluster_ID) %>% \n",
    "                    filter(PP.H4.abf >= 0.8 & topsnp_pp >= 0.01 & p.eqtl <= 5e-5 & p.gwas <= 5e-8)\n",
    "\n",
    "message(paste(\"# clusters without nominated QTL that colocalized with GWAS:\", length(unique(a$Cluster_ID))))\n"
   ]
  },
  {
   "cell_type": "markdown",
   "metadata": {},
   "source": [
    "## annotate which qtls colocalized?"
   ]
  },
  {
   "cell_type": "code",
   "execution_count": 36,
   "metadata": {},
   "outputs": [
    {
     "name": "stderr",
     "output_type": "stream",
     "text": [
      "# of clusters that colocalized: 695\n",
      "\n"
     ]
    }
   ],
   "source": [
    "summary5$coloc_gwas = ifelse(summary5$topsnp_pp >= 0.01 & \n",
    "                             summary5$PP.H4.abf >= 0.8 & \n",
    "                             summary5$p.eqtl <= 5e-5 & \n",
    "                             summary5$p.gwas <= 5e-8,\n",
    "                             T, F) \n",
    "\n",
    "summary5$cluster_gwas = paste(summary5$Cluster_ID, summary5$full_trait_id)\n",
    "\n",
    "message(paste(\"# of clusters that colocalized:\", length(unique(summary5[summary5$Nominated == T & summary5$coloc_gwas == T,]$Cluster_ID))))\n"
   ]
  },
  {
   "cell_type": "code",
   "execution_count": 29,
   "metadata": {},
   "outputs": [
    {
     "data": {
      "text/plain": [
       "                                     \n",
       "                                      FALSE  TRUE\n",
       "  birth weight (eur)                  30008    29\n",
       "  Body mass index (BMI)               59348   330\n",
       "  childhood obesity (eur)              4393     4\n",
       "  fasting glucose                     42800    29\n",
       "  HDL cholesterol                     59490   293\n",
       "  I20 Angina pectoris                 31236    12\n",
       "  I21 Acute myocardial infarction     25660    10\n",
       "  I25 Chronic ischaemic heart disease 34423    22\n",
       "  I48 Atrial fibrillation and flutter 28559    40\n",
       "  LDL direct                          59667   116\n",
       "  Multivariate Longevity              18906    16\n",
       "  Pulse rate                          37237    65\n",
       "  QRS duration                        18718    15\n",
       "  type 2 diabetes                     49207   126\n",
       "  Ventricular rate                    19309     3"
      ]
     },
     "metadata": {},
     "output_type": "display_data"
    }
   ],
   "source": [
    "table(summary5$description, summary5$coloc_gwas)"
   ]
  },
  {
   "cell_type": "markdown",
   "metadata": {},
   "source": [
    "## save all results"
   ]
  },
  {
   "cell_type": "code",
   "execution_count": 39,
   "metadata": {},
   "outputs": [
    {
     "name": "stderr",
     "output_type": "stream",
     "text": [
      "Saving..\n",
      "Saved: ~/projects/Resource/Figshare/all.gwas_summary.2024_0925.txt\n"
     ]
    }
   ],
   "source": [
    "message(\"Saving..\", appendLF = F)\n",
    "\n",
    "file = \"~/projects/Resource/Figshare/all.gwas_summary.2024_0925.txt\"\n",
    "\n",
    "fwrite(summary5, file, row.names = F, sep = \"\\t\")\n",
    "message(paste(\"Saved:\", file), appendLF = F)"
   ]
  },
  {
   "cell_type": "code",
   "execution_count": null,
   "metadata": {},
   "outputs": [],
   "source": []
  }
 ],
 "metadata": {
  "kernelspec": {
   "display_name": "R 4.2.1",
   "language": "R",
   "name": "ir421"
  },
  "language_info": {
   "codemirror_mode": "r",
   "file_extension": ".r",
   "mimetype": "text/x-r-source",
   "name": "R",
   "pygments_lexer": "r",
   "version": "4.2.1"
  }
 },
 "nbformat": 4,
 "nbformat_minor": 2
}
