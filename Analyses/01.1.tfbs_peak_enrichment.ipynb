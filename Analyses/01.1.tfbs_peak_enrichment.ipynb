{
 "cells": [
  {
   "cell_type": "code",
   "execution_count": 2,
   "metadata": {},
   "outputs": [],
   "source": [
    "source(\"~/software/notebook_assist/functions.R\")\n",
    "source(\"~/software/notebook_assist/packages.R\")\n",
    "library(umap)\n",
    "# setwd(\"/projects/CARDIPS/analysis/epigenome_resource/\")\n",
    "theme_bw2 = theme_bw() +\n",
    "    theme(\n",
    "        axis.text = element_text(size = 12),\n",
    "        strip.text = element_text(size = 12),\n",
    "        axis.title = element_text(size = 12),\n",
    "        legend.text = element_text(size = 12),\n",
    "        legend.title = element_text(size = 12),\n",
    "        legend.position = \"top\"\n",
    "    )"
   ]
  },
  {
   "cell_type": "code",
   "execution_count": 3,
   "metadata": {},
   "outputs": [],
   "source": [
    "### This notebook contains"
   ]
  },
  {
   "cell_type": "markdown",
   "metadata": {},
   "source": [
    "### Figure S4 - Shared and Specific peaks"
   ]
  },
  {
   "cell_type": "code",
   "execution_count": 4,
   "metadata": {},
   "outputs": [],
   "source": [
    "### ATAC and ChIP Peaks found on Figshare\n",
    "ipsc_path=\"path/to/ipsc/atac/peak/bed\"\n",
    "cvpc_path=\"path/to/cvpc/atac/peak/bed\"\n",
    "ppc_path=\"path/to/ppc/atac/peak/bed\"\n",
    "\n",
    "ipsc_path=\"/projects/CARDIPS/analysis/epigenome_resource/analyses/tim/tobias/ipsc_atac/accessible_peaks.bed\"\n",
    "cvpc_path=\"/projects/CARDIPS/analysis/epigenome_resource/analyses/tim/tobias/cvpc_atac/accessible_peaks.bed\"\n",
    "ppc_path =\"/projects/CARDIPS/analysis/epigenome_resource/analyses/tim/tobias/ppc_atac/accessible_peaks.bed\"\n",
    "\n",
    "\n",
    "atac_peaks = rbind(rbind(fread(ipsc_path,sep=\"\\t\",data.table=F),fread(cvpc_path,sep=\"\\t\",data.table=F)),\n",
    "                   fread(ppc_path,sep=\"\\t\",data.table=F))\n",
    "\n",
    "atac_peaks$Tissue = ifelse(grepl(\"ipsc\",atac_peaks$V4), \"iPSC\",\n",
    "                          ifelse(grepl(\"cvpc\",atac_peaks$V4), \"CVPC\",\"PPC\"))\n",
    "\n",
    "atac_peak_path = \"sourcedata/all_atac_peaks.bed\"\n",
    "fwrite(atac_peaks %>% arrange(V1,V2,V3),atac_peak_path, sep=\"\\t\",row.names=F, col.names=F,quote=F)\n",
    "bedtools=\"path/to/bedtools\"\n",
    "bedtools = \"/frazer01/software/bedtools-2.25.0/bin/bedtools\"\n",
    "\n",
    "merge_peak_path = \"sourcedata/merged_peaks.bed\"\n",
    "cmd = paste(bedtools, \"merge -i\", atac_peak_path, \"-c 4 -o distinct >\", merge_peak_path)\n",
    "system(cmd)\n",
    "\n",
    "merged_peaks = fread(merge_peak_path, sep=\"\\t\",data.table=F)\n"
   ]
  },
  {
   "cell_type": "code",
   "execution_count": 5,
   "metadata": {},
   "outputs": [],
   "source": [
    "merged_peaks$Shared = ifelse(grepl(\",\",merged_peaks$V4), \"Shared\",\"Specific\")\n",
    "merged_peaks_long = merged_peaks %>% separate_rows(V4, sep = \",\")"
   ]
  },
  {
   "cell_type": "code",
   "execution_count": 6,
   "metadata": {},
   "outputs": [
    {
     "data": {
      "text/plain": [
       "      \n",
       "       Shared Specific\n",
       "  CVPC 123446    79495\n",
       "  iPSC 105742    66333\n",
       "  PPC  127771    65657"
      ]
     },
     "metadata": {},
     "output_type": "display_data"
    }
   ],
   "source": [
    "merged_peaks_long$Tissue = ifelse(grepl(\"ipsc\",merged_peaks_long$V4), \"iPSC\",\n",
    "                          ifelse(grepl(\"cvpc\",merged_peaks_long$V4), \"CVPC\",\"PPC\"))\n",
    "table(merged_peaks_long$Tissue,merged_peaks_long$Shared)"
   ]
  },
  {
   "cell_type": "code",
   "execution_count": 7,
   "metadata": {},
   "outputs": [
    {
     "name": "stderr",
     "output_type": "stream",
     "text": [
      "\u001b[1m\u001b[22m`summarise()` has grouped output by 'Tissue'. You can override using the\n",
      "`.groups` argument.\n"
     ]
    }
   ],
   "source": [
    "figure_s4a = merged_peaks_long %>%\n",
    "                  group_by(Tissue, Shared) %>% \n",
    "                  summarize(n_peaks = n()) %>%  # Calculate the total number of peaks per tissue\n",
    "                  ungroup() %>%\n",
    "                  group_by(Tissue) %>%\n",
    "                  mutate(total_peaks = sum(n_peaks), Percent = (n_peaks/total_peaks)*100)\n",
    "\n",
    "figure_sXa$Tissue = factor(figure_sXa$Tissue, levels = c(\"iPSC\",\"CVPC\",\"PPC\"))\n",
    "figure_sXa$Specificity = factor(figure_sXa$Shared, levels = c(\"Specific\",\"Shared\"))\n",
    "psize(4,4)\n"
   ]
  },
  {
   "cell_type": "markdown",
   "metadata": {},
   "source": [
    "### TFBS Enrichment in Tissue-Specific Peaks"
   ]
  },
  {
   "cell_type": "code",
   "execution_count": 13,
   "metadata": {},
   "outputs": [],
   "source": [
    "### Load HOCOMOCO metadata (https://hocomoco11.autosome.org/final_bundle/hocomoco11/core/HUMAN/mono/HOCOMOCOv11_core_annotation_HUMAN_mono.tsv)\n",
    "hocomoco_meta_path=\"path/to/hocomoco/metadata\"\n",
    "hocomoco_meta_path=\"sourcedata/HOCOMOCOv11_core_annotation_HUMAN_mono.tsv\"\n",
    "hocomoco_meta  =  fread(hocomoco_meta_path, sep=\"\\t\",data.table=F)[,1:2]\n",
    "colnames(hocomoco_meta) = c(\"Model\",\"TF\")\n",
    "### TFBS Predictions found on Figshare ()\n",
    "tfbs_path=\"path/to/tfbs/predictions\"\n",
    "tfbs_path=\"sourcedata/TFBS_Predictions.txt\"\n",
    "tfbs = fread(tfbs_path, sep=\"\\t\",data.table=F)\n",
    "jaspar_tfbs = tfbs %>% filter(Database == \"JASPAR\") %>% select(MotifID, PeakID,Tissue)\n",
    "hocomo_tfbs = tfbs %>% filter(Database == \"HOCOMOCO\") %>% select(MotifID, PeakID,Tissue)\n"
   ]
  },
  {
   "cell_type": "code",
   "execution_count": 20,
   "metadata": {},
   "outputs": [],
   "source": []
  },
  {
   "cell_type": "code",
   "execution_count": 18,
   "metadata": {},
   "outputs": [],
   "source": [
    "tf_enrichment = function(tissue, tfbs, database) {\n",
    "    tissue_tf    = tfbs[ tfbs$Tissue == tissue, ]\n",
    "    tissue_peaks = merged_peaks_long[ merged_peaks_long$Tissue == tissue & merged_peaks_long$V4 %in% tissue_tf$PeakID, ]\n",
    "    \n",
    "    by_tf        = rbindlist(lapply(unique(tissue_tf$MotifID), function(tf, peaks2test,tfdf){\n",
    "        peaks2test$Bound = ifelse(peaks2test$V4 %in% tfdf$PeakID [ tfdf$MotifID == tf],\"TRUE\",\"FALSE\")\n",
    "        peaks2test$Motif = tf\n",
    "        x11 = nrow(peaks2test[ peaks2test$Bound == \"TRUE\" & peaks2test$Shared == \"Specific\",])\n",
    "        x12 = nrow(peaks2test[ peaks2test$Bound == \"FALSE\" & peaks2test$Shared == \"Specific\",])\n",
    "        x21 = nrow(peaks2test[ peaks2test$Bound == \"TRUE\" & peaks2test$Shared == \"Shared\",])\n",
    "        x22 = nrow(peaks2test[ peaks2test$Bound == \"FALSE\" & peaks2test$Shared == \"Shared\",])\n",
    "        fish = fisher.test(matrix(c(x11, x12, x21, x22),nrow=2, byrow = TRUE))\n",
    "        out = data.frame(MotifID = tf, Pvalue = fish$p.value, OddsRatio = fish$estimate,\n",
    "                         CI_low = fish$conf.int[1], CI_high = fish$conf.int[2])#, CI_low = fish$\n",
    "        return(out)\n",
    "    }, peaks2test =  tissue_peaks, tfdf = tissue_tf))\n",
    "    \n",
    "    by_tf$Tissue = tissue\n",
    "    by_tf$Database = database\n",
    "    by_tf$AdjustedPvalue = p.adjust(by_tf$Pvalue, method =\"BH\")\n",
    "    return(by_tf[,c(6,7,1,3,2,8,4,5)])\n",
    "}\n",
    "\n",
    "jaspar_enrich = rbindlist(lapply(c(\"iPSC\",\"CVPC\",\"PPC\"),tf_enrichment, tfbs = jaspar_tfbs, database = \"JASPAR\"))\n",
    "hocomo_enrich = rbindlist(lapply(c(\"iPSC\",\"CVPC\",\"PPC\"),tf_enrichment, tfbs = hocomo_tfbs, database = \"HOCOMOCO\"))"
   ]
  },
  {
   "cell_type": "code",
   "execution_count": 14,
   "metadata": {},
   "outputs": [
    {
     "data": {
      "text/plain": [
       "\n",
       "  Shared Specific \n",
       "  105742    66333 "
      ]
     },
     "metadata": {},
     "output_type": "display_data"
    }
   ],
   "source": [
    "tmp = merged_peaks_long[ merged_peaks_long$Tissue == \"iPSC\",]\n",
    "table(tmp$Shared)"
   ]
  },
  {
   "cell_type": "code",
   "execution_count": 15,
   "metadata": {},
   "outputs": [
    {
     "data": {
      "text/plain": [
       "          \n",
       "           FALSE  TRUE\n",
       "  Shared   65109 40633\n",
       "  Specific 61224  5109"
      ]
     },
     "metadata": {},
     "output_type": "display_data"
    }
   ],
   "source": [
    "tmp$bound = ifelse(tmp$V4 %in% unique(jaspar_tfbs$PeakID[ jaspar_tfbs$Tissue == \"iPSC\"]),\n",
    "                   \"TRUE\",\"FALSE\")\n",
    "table(tmp$Shared,tmp$bound)"
   ]
  },
  {
   "cell_type": "code",
   "execution_count": 19,
   "metadata": {},
   "outputs": [],
   "source": [
    "hocomo_enrich$Model = str_extract( hocomo_enrich$MotifID, \"[A-Z0-9]+_HUMAN.H11MO.[0-9].[A-D]\")\n",
    "\n",
    "hocomo_enrich2 = merge(hocomo_enrich, hocomoco_meta)\n",
    "# hocomo_enrich2"
   ]
  },
  {
   "cell_type": "code",
   "execution_count": 20,
   "metadata": {},
   "outputs": [
    {
     "data": {
      "text/html": [
       "<table class=\"dataframe\">\n",
       "<caption>A data.table: 6 × 9</caption>\n",
       "<thead>\n",
       "\t<tr><th scope=col>Tissue</th><th scope=col>Database</th><th scope=col>MotifID</th><th scope=col>OddsRatio</th><th scope=col>Pvalue</th><th scope=col>AdjustedPvalue</th><th scope=col>CI_low</th><th scope=col>CI_high</th><th scope=col>TF</th></tr>\n",
       "\t<tr><th scope=col>&lt;chr&gt;</th><th scope=col>&lt;chr&gt;</th><th scope=col>&lt;chr&gt;</th><th scope=col>&lt;dbl&gt;</th><th scope=col>&lt;dbl&gt;</th><th scope=col>&lt;dbl&gt;</th><th scope=col>&lt;dbl&gt;</th><th scope=col>&lt;dbl&gt;</th><th scope=col>&lt;chr&gt;</th></tr>\n",
       "</thead>\n",
       "<tbody>\n",
       "\t<tr><td>iPSC</td><td>JASPAR</td><td>AhrArnt_MA0006.1</td><td>0.2057878</td><td>7.185386e-100</td><td>9.241893e-99</td><td>0.1692201</td><td>0.2481626</td><td>AhrArnt</td></tr>\n",
       "\t<tr><td>iPSC</td><td>JASPAR</td><td>Alx1_MA0854.1   </td><td>1.2205123</td><td> 5.097808e-02</td><td>6.500794e-02</td><td>0.9928672</td><td>1.4892390</td><td>Alx1   </td></tr>\n",
       "\t<tr><td>iPSC</td><td>JASPAR</td><td>ALX3_MA0634.1   </td><td>1.2199359</td><td> 4.101859e-02</td><td>5.321717e-02</td><td>1.0048023</td><td>1.4714542</td><td>ALX3   </td></tr>\n",
       "\t<tr><td>iPSC</td><td>JASPAR</td><td>Alx4_MA0853.1   </td><td>1.0797366</td><td> 4.515160e-01</td><td>4.975347e-01</td><td>0.8711134</td><td>1.3270785</td><td>Alx4   </td></tr>\n",
       "\t<tr><td>iPSC</td><td>JASPAR</td><td>Ar_MA0007.3     </td><td>0.5781970</td><td> 5.576146e-07</td><td>1.047810e-06</td><td>0.4540033</td><td>0.7275584</td><td>Ar     </td></tr>\n",
       "\t<tr><td>iPSC</td><td>JASPAR</td><td>ARGFX_MA1463.1  </td><td>1.2682155</td><td> 1.468632e-02</td><td>2.032652e-02</td><td>1.0440966</td><td>1.5305062</td><td>ARGFX  </td></tr>\n",
       "</tbody>\n",
       "</table>\n"
      ],
      "text/latex": [
       "A data.table: 6 × 9\n",
       "\\begin{tabular}{lllllllll}\n",
       " Tissue & Database & MotifID & OddsRatio & Pvalue & AdjustedPvalue & CI\\_low & CI\\_high & TF\\\\\n",
       " <chr> & <chr> & <chr> & <dbl> & <dbl> & <dbl> & <dbl> & <dbl> & <chr>\\\\\n",
       "\\hline\n",
       "\t iPSC & JASPAR & AhrArnt\\_MA0006.1 & 0.2057878 & 7.185386e-100 & 9.241893e-99 & 0.1692201 & 0.2481626 & AhrArnt\\\\\n",
       "\t iPSC & JASPAR & Alx1\\_MA0854.1    & 1.2205123 &  5.097808e-02 & 6.500794e-02 & 0.9928672 & 1.4892390 & Alx1   \\\\\n",
       "\t iPSC & JASPAR & ALX3\\_MA0634.1    & 1.2199359 &  4.101859e-02 & 5.321717e-02 & 1.0048023 & 1.4714542 & ALX3   \\\\\n",
       "\t iPSC & JASPAR & Alx4\\_MA0853.1    & 1.0797366 &  4.515160e-01 & 4.975347e-01 & 0.8711134 & 1.3270785 & Alx4   \\\\\n",
       "\t iPSC & JASPAR & Ar\\_MA0007.3      & 0.5781970 &  5.576146e-07 & 1.047810e-06 & 0.4540033 & 0.7275584 & Ar     \\\\\n",
       "\t iPSC & JASPAR & ARGFX\\_MA1463.1   & 1.2682155 &  1.468632e-02 & 2.032652e-02 & 1.0440966 & 1.5305062 & ARGFX  \\\\\n",
       "\\end{tabular}\n"
      ],
      "text/markdown": [
       "\n",
       "A data.table: 6 × 9\n",
       "\n",
       "| Tissue &lt;chr&gt; | Database &lt;chr&gt; | MotifID &lt;chr&gt; | OddsRatio &lt;dbl&gt; | Pvalue &lt;dbl&gt; | AdjustedPvalue &lt;dbl&gt; | CI_low &lt;dbl&gt; | CI_high &lt;dbl&gt; | TF &lt;chr&gt; |\n",
       "|---|---|---|---|---|---|---|---|---|\n",
       "| iPSC | JASPAR | AhrArnt_MA0006.1 | 0.2057878 | 7.185386e-100 | 9.241893e-99 | 0.1692201 | 0.2481626 | AhrArnt |\n",
       "| iPSC | JASPAR | Alx1_MA0854.1    | 1.2205123 |  5.097808e-02 | 6.500794e-02 | 0.9928672 | 1.4892390 | Alx1    |\n",
       "| iPSC | JASPAR | ALX3_MA0634.1    | 1.2199359 |  4.101859e-02 | 5.321717e-02 | 1.0048023 | 1.4714542 | ALX3    |\n",
       "| iPSC | JASPAR | Alx4_MA0853.1    | 1.0797366 |  4.515160e-01 | 4.975347e-01 | 0.8711134 | 1.3270785 | Alx4    |\n",
       "| iPSC | JASPAR | Ar_MA0007.3      | 0.5781970 |  5.576146e-07 | 1.047810e-06 | 0.4540033 | 0.7275584 | Ar      |\n",
       "| iPSC | JASPAR | ARGFX_MA1463.1   | 1.2682155 |  1.468632e-02 | 2.032652e-02 | 1.0440966 | 1.5305062 | ARGFX   |\n",
       "\n"
      ],
      "text/plain": [
       "  Tissue Database MotifID          OddsRatio Pvalue        AdjustedPvalue\n",
       "1 iPSC   JASPAR   AhrArnt_MA0006.1 0.2057878 7.185386e-100 9.241893e-99  \n",
       "2 iPSC   JASPAR   Alx1_MA0854.1    1.2205123  5.097808e-02 6.500794e-02  \n",
       "3 iPSC   JASPAR   ALX3_MA0634.1    1.2199359  4.101859e-02 5.321717e-02  \n",
       "4 iPSC   JASPAR   Alx4_MA0853.1    1.0797366  4.515160e-01 4.975347e-01  \n",
       "5 iPSC   JASPAR   Ar_MA0007.3      0.5781970  5.576146e-07 1.047810e-06  \n",
       "6 iPSC   JASPAR   ARGFX_MA1463.1   1.2682155  1.468632e-02 2.032652e-02  \n",
       "  CI_low    CI_high   TF     \n",
       "1 0.1692201 0.2481626 AhrArnt\n",
       "2 0.9928672 1.4892390 Alx1   \n",
       "3 1.0048023 1.4714542 ALX3   \n",
       "4 0.8711134 1.3270785 Alx4   \n",
       "5 0.4540033 0.7275584 Ar     \n",
       "6 1.0440966 1.5305062 ARGFX  "
      ]
     },
     "metadata": {},
     "output_type": "display_data"
    }
   ],
   "source": [
    "jaspar_enrich$TF = gsub(\"_MA.*\",\"\",jaspar_enrich$MotifID)\n",
    "head(jaspar_enrich)"
   ]
  },
  {
   "cell_type": "code",
   "execution_count": 21,
   "metadata": {},
   "outputs": [],
   "source": [
    "hocomo_enrich2$Model = NULL\n",
    "\n"
   ]
  },
  {
   "cell_type": "code",
   "execution_count": 25,
   "metadata": {},
   "outputs": [],
   "source": [
    "all_enrich = rbind(jaspar_enrich[ ,c(\"Tissue\",\"Database\",\"TF\",\"OddsRatio\",\"AdjustedPvalue\")],\n",
    "                   hocomo_enrich2[ ,c(\"Tissue\",\"Database\",\"TF\",\"OddsRatio\",\"AdjustedPvalue\")])"
   ]
  },
  {
   "cell_type": "code",
   "execution_count": 26,
   "metadata": {},
   "outputs": [
    {
     "data": {
      "image/png": "[encoded data removed]",
      "text/plain": [
       "plot without title"
      ]
     },
     "metadata": {
      "image/png": {
       "height": 420,
       "width": 150
      }
     },
     "output_type": "display_data"
    }
   ],
   "source": [
    "all_enrich$Tissue = factor(all_enrich$Tissue, levels = c(\"iPSC\",\"CVPC\",\"PPC\"))\n",
    "\n",
    "\n",
    "tf_toplot = all_enrich %>% filter(Database == \"JASPAR\" | TF == \"NANOG\")\n",
    "\n",
    "tf_toplot = tf_toplot[ tf_toplot$TF %in% c(\"MEIS2\",\"MEF2C\",\"SOX2\",\"POU5F1\",\"ONECUT1\",\"NKX2-5\",\"NANOG\",\"PDX1\",\"NKX6-1\",\"HNF1B\",\"GATA4\",\"CTCF\",\"EGR1\",\"E2F2\",\"E2F5\",\n",
    "                                                \"SOX9\",\"Pou5f1Sox2\",\"E2F4\",\"E2F3\",\"E2F1\",\"MEIS1\",\"TGIF2\",\"MEIS1var.2\",\"KLF3\",\"SP9\",\"YY2\",\"POU2F1\",\"CTCFL\"),]\n",
    "tf_toplot$Significance = ifelse(tf_toplot$AdjustedPvalue < 5e-10, \"***\",\n",
    "                                  ifelse(tf_toplot$AdjustedPvalue < 5e-3, \"**\",\n",
    "                                         ifelse(tf_toplot$AdjustedPvalue < 0.05, \"*\", \"\")))\n",
    "tf_toplot$`log2(OR)` = log2(tf_toplot$OddsRatio)\n",
    "\n",
    "tf_toplot$`log2(OR)`[ tf_toplot$`log2(OR)` < -2.5 ] = -2.5\n",
    "tf_toplot$`log2(OR)`[ tf_toplot$`log2(OR)` > 2.5 ] = 2.5\n",
    "tf_toplot$Tissue = factor(tf_toplot$Tissue , levels = c(\"iPSC\",\"CVPC\",\"PPC\",\"Shared\"))\n",
    "\n",
    "cast = reshape2::dcast(Tissue ~ TF, data = tf_toplot, fun.aggregate = mean, value.var = \"log2(OR)\")\n",
    "rownames(cast) = cast$Tissue\n",
    "cast$Tissue = NULL\n",
    "\n",
    "ord = hclust( dist(t(cast), method = \"euclidean\"), method = \"ward.D\" )$order\n",
    "\n",
    "tf_toplot$TF = factor(tf_toplot$TF, levels = rev(colnames(cast[,ord])))\n",
    "\n"
   ]
  },
  {
   "cell_type": "code",
   "execution_count": 27,
   "metadata": {},
   "outputs": [],
   "source": [
    "fwrite(all_enrich,\"~/projects/Resource/iPSCORE_Multi-QTL_Resource/SourceData/SOURCEDATA.FIGURE2A.txt\",sep=\"\\t\",row.names=F,quote=F)"
   ]
  },
  {
   "cell_type": "code",
   "execution_count": null,
   "metadata": {},
   "outputs": [],
   "source": []
  }
 ],
 "metadata": {
  "kernelspec": {
   "display_name": "R 4.0.1",
   "language": "R",
   "name": "ir40"
  },
  "language_info": {
   "codemirror_mode": "r",
   "file_extension": ".r",
   "mimetype": "text/x-r-source",
   "name": "R",
   "pygments_lexer": "r",
   "version": "4.0.1"
  }
 },
 "nbformat": 4,
 "nbformat_minor": 2
}
