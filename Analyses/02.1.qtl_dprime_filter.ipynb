{
 "cells": [
  {
   "cell_type": "code",
   "execution_count": 1,
   "metadata": {},
   "outputs": [],
   "source": [
    "source(\"~/software/notebook_assist/functions.R\")\n",
    "source(\"~/software/notebook_assist/packages.R\")\n",
    "setwd(\"/projects/CARDIPS/analysis/epigenome_resource/\")"
   ]
  },
  {
   "cell_type": "code",
   "execution_count": 2,
   "metadata": {},
   "outputs": [],
   "source": [
    "cols = c(\"Tissue\",\"Element ID\",\"Condition\",\"Element Cond\",\"Element Name\",\"Element Chrom\",\"Element Start\",\n",
    "         \"Element End\",\"SNP ID\",\"SNP Chrom\",\"SNP Pos\",\"Ref\",\"Alt\",\"RSID\",\"AF\",\"Beta\",\"SE\",\n",
    "         \"P-value\",\"FDR\",\"Tests\",\"Q-value\",\"Cluster ID\",\"Membership\",\"EDev-Unique\")\n"
   ]
  },
  {
   "cell_type": "code",
   "execution_count": 3,
   "metadata": {},
   "outputs": [],
   "source": [
    "cols=c(\"element_id\",\"type\",\"new_egene\",\"chrom\",\"pos\",\"ref\",\"alt\",\"id\",\"rsid\",\"beta\",\"se\",\"pval\",\"af\",\"fdr\",\"qval\")\n",
    "original_qtls = function(tissue) {\n",
    "    eqtls  = fread(paste0(\"eqtls/\",tissue,\"/step_4/qtl_by_element/qtl.no_mhc.txt\"),sep=\"\\t\",data.table=F) %>% filter(new_egene == TRUE)\n",
    "    caqtls = fread(paste0(\"caqtls/\",tissue,\"/step_4/qtl_by_element/qtl.no_mhc.txt\"),sep=\"\\t\",data.table=F) %>% filter(new_egene == TRUE)\n",
    "    haqtl_file = paste0(\"haqtls/\",tissue,\"/step_4/qtl_by_element/qtl.no_mhc.txt\")\n",
    "    if (file.exists(haqtl_file)) {\n",
    "        haqtls = fread(haqtl_file,sep=\"\\t\",data.table=F) %>% filter(new_egene == TRUE)\n",
    "        out = rbindlist(list(eqtls[,cols],\n",
    "                        caqtls[,cols],\n",
    "                        haqtls[,cols]))\n",
    "        \n",
    "        } else{\n",
    "        out = rbindlist(list(eqtls[,cols],\n",
    "                        caqtls[,cols]))\n",
    "        \n",
    "    }\n",
    "    out$tissue = tissue\n",
    "    out$tissue_element = paste(out$tissue, out$element_id,sep=\"_\")\n",
    "    out$qtl_id = paste(out$tissue,out$element_id, out$type, sep=\"_\")\n",
    "    out$snp_id = gsub(\"VAR_\",\"\",out$id)\n",
    "    out$conditional = ifelse(out$type == 0 , \"Primary\",\"Conditional\")\n",
    "    return(out)\n",
    "    \n",
    "}\n",
    "\n",
    "ipsc_original = original_qtls(\"iPSC\")\n",
    "cvpc_original = original_qtls(\"CVPC\")\n",
    "ppc_original  = original_qtls(\"PPC\")"
   ]
  },
  {
   "cell_type": "code",
   "execution_count": 7,
   "metadata": {},
   "outputs": [
    {
     "name": "stderr",
     "output_type": "stream",
     "text": [
      "78852 QTLs before filtering\n",
      "\n"
     ]
    }
   ],
   "source": [
    "message(paste(nrow(ipsc_original)+nrow(cvpc_original)+nrow(ppc_original),\"QTLs before filtering\"))"
   ]
  },
  {
   "cell_type": "markdown",
   "metadata": {},
   "source": [
    "### load plink BIM file for 1000G EUR population"
   ]
  },
  {
   "cell_type": "code",
   "execution_count": 7,
   "metadata": {},
   "outputs": [],
   "source": [
    "kgenomes = fread(\"/projects/CARDIPS/analysis/epigenome_resource/analyses/jennifer/gwas_independent/reference/combined.renamed.bim\",\n",
    "                 sep=\"\\t\",\n",
    "                data.table=F)"
   ]
  },
  {
   "cell_type": "code",
   "execution_count": 8,
   "metadata": {},
   "outputs": [],
   "source": [
    "kgenomes = kgenomes [ nchar(kgenomes$V5) == 1 &  nchar(kgenomes$V6) == 1 , ]"
   ]
  },
  {
   "cell_type": "code",
   "execution_count": 9,
   "metadata": {},
   "outputs": [],
   "source": [
    "ipsc_original$in1kg = ifelse(ipsc_original$snp_id %in% kgenomes$V2,  \"TRUE\",\"FALSE\")\n",
    "\n",
    "\n",
    "cvpc_original$in1kg = ifelse(cvpc_original$snp_id %in% kgenomes$V2 , \"TRUE\",\"FALSE\")\n",
    "\n",
    "ppc_original$in1kg = ifelse(ppc_original$snp_id %in% kgenomes$V2  , \"TRUE\",\"FALSE\")"
   ]
  },
  {
   "cell_type": "markdown",
   "metadata": {},
   "source": [
    "### Remove conditional signals with lead variants not in 1000G"
   ]
  },
  {
   "cell_type": "code",
   "execution_count": 10,
   "metadata": {},
   "outputs": [
    {
     "data": {
      "text/html": [
       "78598"
      ],
      "text/latex": [
       "78598"
      ],
      "text/markdown": [
       "78598"
      ],
      "text/plain": [
       "[1] 78598"
      ]
     },
     "metadata": {},
     "output_type": "display_data"
    },
    {
     "data": {
      "text/html": [
       "254"
      ],
      "text/latex": [
       "254"
      ],
      "text/markdown": [
       "254"
      ],
      "text/plain": [
       "[1] 254"
      ]
     },
     "metadata": {},
     "output_type": "display_data"
    }
   ],
   "source": [
    "ipsc_original2 = ipsc_original[ (ipsc_original$type != 0 & ipsc_original$in1kg == \"TRUE\") | \n",
    "                             (ipsc_original$type == 0),]\n",
    "\n",
    "cvpc_original2 = cvpc_original[ (cvpc_original$type != 0 & cvpc_original$in1kg == \"TRUE\") | \n",
    "                             (cvpc_original$type == 0),]\n",
    "\n",
    "ppc_original2 = ppc_original[ (ppc_original$type != 0 & ppc_original$in1kg == \"TRUE\") | \n",
    "                             (ppc_original$type == 0),]\n",
    "nrow(ipsc_original2)+nrow(cvpc_original2)+nrow(ppc_original2)\n",
    "78852-78598"
   ]
  },
  {
   "cell_type": "markdown",
   "metadata": {},
   "source": [
    "### Identify qElements without conditional signals"
   ]
  },
  {
   "cell_type": "code",
   "execution_count": 11,
   "metadata": {},
   "outputs": [
    {
     "data": {
      "text/html": [
       "46264"
      ],
      "text/latex": [
       "46264"
      ],
      "text/markdown": [
       "46264"
      ],
      "text/plain": [
       "[1] 46264"
      ]
     },
     "metadata": {},
     "output_type": "display_data"
    }
   ],
   "source": [
    "primaries = rbindlist(list(ipsc_original2[ ipsc_original2$element_id %in% names(table(ipsc_original2$element_id ))[ table(ipsc_original2$element_id ) == 1],],\n",
    "                          cvpc_original2[ cvpc_original2$element_id %in% names(table(cvpc_original2$element_id ))[ table(cvpc_original2$element_id ) == 1],],\n",
    "                          ppc_original2[ ppc_original2$element_id %in% names(table(ppc_original2$element_id ))[ table(ppc_original2$element_id ) == 1],]))\n",
    "\n",
    "nrow(primaries)"
   ]
  },
  {
   "cell_type": "markdown",
   "metadata": {},
   "source": [
    "### Identify qElements with conditional signals"
   ]
  },
  {
   "cell_type": "code",
   "execution_count": 12,
   "metadata": {},
   "outputs": [
    {
     "data": {
      "text/plain": [
       "             \n",
       "              FALSE  TRUE\n",
       "  Conditional     0 18292\n",
       "  Primary       255 13787"
      ]
     },
     "metadata": {},
     "output_type": "display_data"
    },
    {
     "data": {
      "text/plain": [
       "\n",
       "Conditional     Primary \n",
       "      18292       14042 "
      ]
     },
     "metadata": {},
     "output_type": "display_data"
    },
    {
     "data": {
      "text/html": [
       "32334"
      ],
      "text/latex": [
       "32334"
      ],
      "text/markdown": [
       "32334"
      ],
      "text/plain": [
       "[1] 32334"
      ]
     },
     "metadata": {},
     "output_type": "display_data"
    }
   ],
   "source": [
    "\n",
    "ipsc_conds = ipsc_original2[ ipsc_original2$element_id %in% names(table(ipsc_original2$element_id))[ table(ipsc_original2$element_id) > 1],]\n",
    "cvpc_conds = cvpc_original2[ cvpc_original2$element_id %in% names(table(cvpc_original2$element_id))[ table(cvpc_original2$element_id) > 1],]\n",
    "ppc_conds = ppc_original2[ ppc_original2$element_id %in% names(table(ppc_original2$element_id))[ table(ppc_original2$element_id) > 1],]\n",
    "\n",
    "conditionals = rbindlist(list(ipsc_conds,cvpc_conds,ppc_conds))\n",
    "conditionals$conditional = ifelse(conditionals$type == 0, \"Primary\",\"Conditional\")\n",
    "table(conditionals$conditional,conditionals$in1kg)\n",
    "table(conditionals$conditional)\n",
    "nrow(conditionals)"
   ]
  },
  {
   "cell_type": "code",
   "execution_count": 13,
   "metadata": {},
   "outputs": [
    {
     "data": {
      "text/plain": [
       "\n",
       "Conditional     Primary \n",
       "        343         255 "
      ]
     },
     "metadata": {},
     "output_type": "display_data"
    }
   ],
   "source": [
    "prim_not_in1kg = conditionals[ conditionals$tissue_element %in% conditionals$tissue_element[ conditionals$in1kg == \"FALSE\" & conditionals$type == 0 ],]\n",
    "table(prim_not_in1kg$conditional)\n"
   ]
  },
  {
   "cell_type": "code",
   "execution_count": 14,
   "metadata": {},
   "outputs": [
    {
     "data": {
      "text/plain": [
       "\n",
       "Conditional     Primary \n",
       "      17949       13787 "
      ]
     },
     "metadata": {},
     "output_type": "display_data"
    },
    {
     "data": {
      "text/plain": [
       "\n",
       " TRUE \n",
       "31736 "
      ]
     },
     "metadata": {},
     "output_type": "display_data"
    }
   ],
   "source": [
    "primary2dprime = conditionals[ !conditionals$tissue_element %in% prim_not_in1kg$tissue_element, ]\n",
    "table(primary2dprime$conditional)\n",
    "table(primary2dprime$in1kg)"
   ]
  },
  {
   "cell_type": "code",
   "execution_count": 15,
   "metadata": {},
   "outputs": [],
   "source": [
    "dprime_pairs = function(qtl_df) {\n",
    "\n",
    "    qtl_df$snp_id = gsub(\"VAR_\",\"\",qtl_df$id)\n",
    "\n",
    "    pairs = rbindlist(lapply(unique(qtl_df$tissue_element), function(element){\n",
    "        element_df = qtl_df[ qtl_df$tissue_element == element , ]\n",
    "        element_combs = as.data.frame(t(combn(element_df$snp_id,2)))\n",
    "\n",
    "        element_combs$tissue_element = element\n",
    "        return(element_combs)\n",
    "    }))\n",
    "    pairs$chrom = str_extract(pairs$V1, \"^[0-9]+\")\n",
    "    pairs$tissue = unique(qtl_df$tissue)\n",
    "    return(unique(pairs[ pairs$V1 != pairs$V2,]))\n",
    "}\n",
    "# tmp = dprime_pairs(primary2dprime)\n",
    "\n",
    "ipsc_dprime = dprime_pairs(primary2dprime[ primary2dprime$tissue == \"iPSC\",])\n",
    "cvpc_dprime = dprime_pairs(primary2dprime[ primary2dprime$tissue == \"CVPC\",])\n",
    "ppc_dprime = dprime_pairs(primary2dprime[ primary2dprime$tissue == \"PPC\",])"
   ]
  },
  {
   "cell_type": "markdown",
   "metadata": {},
   "source": [
    "### write pairs for 02.0.calculate_qtl_dprime.sh"
   ]
  },
  {
   "cell_type": "code",
   "execution_count": 16,
   "metadata": {},
   "outputs": [],
   "source": [
    "conditional_pairs = unique(rbind(rbind(ipsc_dprime,cvpc_dprime),ppc_dprime))\n",
    "# conditional_pairs$chrom = gsub(\"_.*\",\"\",conditional_pairs$V1)\n",
    "\n",
    "# fwrite(conditional_pairs,\"analyses/tim/ld_modules/scripts/conditional_pairs_v3.txt\",\n",
    "#        sep=\"\\t\",row.names=F,col.names=F,quote=F)"
   ]
  },
  {
   "cell_type": "code",
   "execution_count": 17,
   "metadata": {},
   "outputs": [],
   "source": [
    "conditional_pairs$pair_id = paste(conditional_pairs$V1, conditional_pairs$V2, sep=\"_\")\n",
    "# conditional_pairs"
   ]
  },
  {
   "cell_type": "markdown",
   "metadata": {},
   "source": [
    "### Noticed all failed plink runs were due to one of the variants being monomorphic in EUR\n",
    "### Kept because variant must not be monomorphic in other populations"
   ]
  },
  {
   "cell_type": "code",
   "execution_count": 18,
   "metadata": {},
   "outputs": [],
   "source": [
    "all_vars = unique(c(conditional_pairs$V1,conditional_pairs$V2))"
   ]
  },
  {
   "cell_type": "code",
   "execution_count": 19,
   "metadata": {},
   "outputs": [
    {
     "data": {
      "text/html": [
       "23478"
      ],
      "text/latex": [
       "23478"
      ],
      "text/markdown": [
       "23478"
      ],
      "text/plain": [
       "[1] 23478"
      ]
     },
     "metadata": {},
     "output_type": "display_data"
    },
    {
     "data": {
      "text/html": [
       "23458"
      ],
      "text/latex": [
       "23458"
      ],
      "text/markdown": [
       "23458"
      ],
      "text/plain": [
       "[1] 23458"
      ]
     },
     "metadata": {},
     "output_type": "display_data"
    }
   ],
   "source": [
    "dprime.fs= list.files(\"analyses/tim/ld_modules/conditional_dprime_v3\",pattern=\".txt\",full.names=T)\n",
    "length(dprime.fs)\n",
    "rem.fs = dprime.fs[ grepl(\"16_5013101_A_G\",dprime.fs)  | grepl(\"13_24838830_A_G\",dprime.fs) | grepl(\"8_28188378_T_C\",dprime.fs) |\n",
    "           grepl(\"16_52615396_C_T\",dprime.fs) | grepl(\"15_50299493_G_A\",dprime.fs) | grepl(\"10_132194830_A_C\",dprime.fs)|\n",
    "           grepl(\"10_98227527_G_A\",dprime.fs) | grepl(\"10_32435467_G_A\",dprime.fs) | grepl(\"18_23962925_A_G\",dprime.fs) |\n",
    "           grepl(\"13_44035060_G_C\",dprime.fs) | grepl(\"11_22014488_T_C\",dprime.fs) | grepl(\"3_194578850_G_C\",dprime.fs) |\n",
    "           grepl(\"8_144830982_G_A\",dprime.fs) | grepl(\"17_75185523_A_G\",dprime.fs) | grepl(\"19_8411965_C_T\",dprime.fs) | \n",
    "                 grepl(\"5_6831130_A_C\",dprime.fs) ]\n",
    "dprime.fs2 = dprime.fs[ !dprime.fs %in% rem.fs]\n",
    "length(dprime.fs2)"
   ]
  },
  {
   "cell_type": "code",
   "execution_count": 20,
   "metadata": {},
   "outputs": [],
   "source": [
    "monomorphic = c(\"16_5013101_A_G\",\"13_24838830_A_G\",\"8_28188378_T_C\",\"16_52615396_C_T\",\"15_50299493_G_A\",\n",
    "               \"10_132194830_A_C\",\"10_98227527_G_A\",\"10_32435467_G_A\",\"18_23962925_A_G\",\"5_6831130_A_C\",\n",
    "               \"13_44035060_G_C\",\"11_22014488_T_C\",\"3_194578850_G_C\",\"8_144830982_G_A\",\"17_75185523_A_G\",\n",
    "               \"19_8411965_C_T\")"
   ]
  },
  {
   "cell_type": "code",
   "execution_count": 22,
   "metadata": {},
   "outputs": [],
   "source": [
    "read_dprime = rbindlist(lapply(dprime.fs2, function(f) {\n",
    "    dp = fread(f, sep=\" \",data.table=F)\n",
    "    if (nrow(dp ) > 0 ) {\n",
    "    dp$compid = gsub(\"_dprime.txt\",\"\",gsub(\"analyses/tim/ld_modules/conditional_dprime_v3/\",\"\",f))\n",
    "    dp$tissue = str_extract(dp$compid,\"^[a-zA-Z]+\")\n",
    "    tissue_tissue = paste(unique(dp$tissue), unique(dp$tissue), sep=\"_\")\n",
    "    dp$varids = str_extract(dp$compid,\"[0-9]+_[0-9]+_[A-Z]_[A-Z]_[0-9]+_[0-9]+_[A-Z]_[A-Z]$\")\n",
    "        \n",
    "    dp$var1id = str_extract(dp$varids, \"^[0-9]+_[0-9]+_[A-Z]_[A-Z]\")\n",
    "\n",
    "    dp$var2id = gsub(\"^_\",\"\",str_extract(dp$varids, \"_[0-9]+_[0-9]+_[A-Z]_[A-Z]$\"))\n",
    "    \n",
    "    dp$element_id = gsub(paste0(tissue_tissue,\"_\"),\"\",gsub(\"_$\",\"\",gsub(\"^_\",\"\",\n",
    "                                                       gsub(\"[0-9]+_[0-9]+_[A-Z]_[A-Z]_[0-9]+_[0-9]+_[A-Z]_[A-Z]\",\"\",dp$compid))))\n",
    "\n",
    "    dp2 = dp [,c(\"tissue\",\"element_id\",\"var1id\",\"var2id\",\"V3\",\"V6\")]\n",
    "    names(dp2)[5] = \"R2\"\n",
    "    names(dp2)[6] = \"Dprime\"\n",
    "    \n",
    "    return(dp2)}\n",
    "}))\n"
   ]
  },
  {
   "cell_type": "code",
   "execution_count": 24,
   "metadata": {},
   "outputs": [
    {
     "data": {
      "text/plain": [
       "\n",
       "Conditional     Primary \n",
       "          5           4 "
      ]
     },
     "metadata": {},
     "output_type": "display_data"
    },
    {
     "data": {
      "text/plain": [
       "\n",
       "Conditional \n",
       "         12 "
      ]
     },
     "metadata": {},
     "output_type": "display_data"
    },
    {
     "data": {
      "text/html": [
       "4"
      ],
      "text/latex": [
       "4"
      ],
      "text/markdown": [
       "4"
      ],
      "text/plain": [
       "[1] 4"
      ]
     },
     "metadata": {},
     "output_type": "display_data"
    },
    {
     "data": {
      "text/html": [
       "12"
      ],
      "text/latex": [
       "12"
      ],
      "text/markdown": [
       "12"
      ],
      "text/plain": [
       "[1] 12"
      ]
     },
     "metadata": {},
     "output_type": "display_data"
    }
   ],
   "source": [
    "tested_vars = unique(c(read_dprime$var1id,read_dprime$var2id))\n",
    "diff_vars = setdiff(all_vars,tested_vars)\n",
    "not_tested = primary2dprime[ primary2dprime$snp_id %in% diff_vars, ]\n",
    "\n",
    "not_tested$monomorphic = ifelse(not_tested$snp_id %in% monomorphic, \"TRUE\",\"FALSE\")\n",
    "not_tested$monomorphic = ifelse(not_tested$snp_id %in% monomorphic, \"TRUE\",\"FALSE\")\n",
    "\n",
    "\n",
    "\n",
    "monomorphic_primary = primary2dprime[ primary2dprime$tissue_element %in%  \n",
    "                                   not_tested$tissue_element [ not_tested$monomorphic == \"TRUE\" &\n",
    "                                                              not_tested$conditional == \"Primary\"],]\n",
    "table(monomorphic_primary$conditional)\n",
    "monomorphic_conditional = not_tested[ not_tested$conditional == \"Conditional\" & \n",
    "                                     !not_tested$tissue_element %in% monomorphic_primary$tissue_element,]\n",
    "table(monomorphic_conditional$conditional)\n",
    "\n",
    "length(unique(monomorphic_primary$tissue_element))\n",
    "length(unique(monomorphic_conditional$tissue_element))"
   ]
  },
  {
   "cell_type": "code",
   "execution_count": 25,
   "metadata": {},
   "outputs": [],
   "source": [
    "read_dprime$tissue_element = paste(read_dprime$tissue, read_dprime$element_id, sep= \"_\")\n",
    "read_dprime2 = read_dprime[ !read_dprime$tissue_element %in% c(monomorphic_primary$tissue_element,\n",
    "                                                             monomorphic_conditional$tissue_element,\n",
    "                                                              prim_not_in1kg$tissue_element),]\n"
   ]
  },
  {
   "cell_type": "markdown",
   "metadata": {},
   "source": [
    "### Aggregated maximum D' for each SNP pair"
   ]
  },
  {
   "cell_type": "code",
   "execution_count": 26,
   "metadata": {},
   "outputs": [
    {
     "data": {
      "text/html": [
       "7794"
      ],
      "text/latex": [
       "7794"
      ],
      "text/markdown": [
       "7794"
      ],
      "text/plain": [
       "[1] 7794"
      ]
     },
     "metadata": {},
     "output_type": "display_data"
    }
   ],
   "source": [
    "\n",
    "max_dprime = aggregate(Dprime ~ var1id + var2id + tissue + element_id, data = read_dprime2, FUN = max)\n",
    "\n",
    "max_r2     = aggregate(R2 ~ var1id + var2id+ tissue + element_id, data = read_dprime2, FUN = max)\n",
    "max_dprime2 = merge(max_dprime,max_r2, by=c(\"tissue\",\"element_id\",\"var1id\",\"var2id\"))\n",
    "\n",
    "key1 = rbind(rbind(ipsc_original2[ ,c(\"element_id\",\"type\",\"snp_id\",\"qtl_id\")],\n",
    "                   cvpc_original2[  ,c(\"element_id\",\"type\",\"snp_id\",\"qtl_id\")]),\n",
    "             ppc_original2[,c(\"element_id\",\"type\",\"snp_id\",\"qtl_id\")])\n",
    "colnames(key1) = c(\"element_id\",\"type1\",\"var1id\",\"qtl1\")\n",
    "\n",
    "key2 = rbind(rbind(ipsc_original2[  ,c(\"element_id\",\"type\",\"snp_id\",\"qtl_id\")],\n",
    "                   cvpc_original2[ ,c(\"element_id\",\"type\",\"snp_id\",\"qtl_id\")]),\n",
    "             ppc_original2[ ,c(\"element_id\",\"type\",\"snp_id\",\"qtl_id\")])\n",
    "\n",
    "colnames(key2) = c(\"element_id\",\"type2\",\"var2id\",\"qtl2\")\n",
    "\n",
    "### Removed conditional QTLs in high D' and/or LD with the corresponding lead variant\n",
    "\n",
    "tmp = merge(key2,merge(key1,max_dprime2,by=c(\"element_id\",\"var1id\")),by=c(\"element_id\",\"var2id\"))\n",
    "tmp2 = tmp[ tmp$type1 == 0 | tmp$type2 == 0,]\n",
    "tmp3 = tmp2[ tmp2$R2 >= 0.8 | tmp2$Dprime >= 0.8,]\n",
    "\n",
    "dependent = unique(c(tmp3$qtl1,tmp3$qtl2))\n",
    "dependent = dependent[ !grepl(\"0$\",dependent)]\n",
    "length(dependent)"
   ]
  },
  {
   "cell_type": "code",
   "execution_count": 27,
   "metadata": {},
   "outputs": [
    {
     "data": {
      "text/html": [
       "17941"
      ],
      "text/latex": [
       "17941"
      ],
      "text/markdown": [
       "17941"
      ],
      "text/plain": [
       "[1] 17941"
      ]
     },
     "metadata": {},
     "output_type": "display_data"
    }
   ],
   "source": [
    "cond_qtls_tested = unique(c(tmp$qtl1,tmp$qtl2))[ !grepl(\"0$\",unique(c(tmp$qtl1,tmp$qtl2)))]\n",
    "length(cond_qtls_tested)"
   ]
  },
  {
   "cell_type": "code",
   "execution_count": 28,
   "metadata": {},
   "outputs": [
    {
     "data": {
      "text/plain": [
       "\n",
       "   0 \n",
       "4963 "
      ]
     },
     "metadata": {},
     "output_type": "display_data"
    }
   ],
   "source": [
    "conds_removed = primary2dprime[ !primary2dprime$qtl_id %in% c(dependent,monomorphic_conditional$qtl_id,monomorphic_primary$qtl_id) ,]\n",
    "filtered_primaries = conds_removed[ conds_removed$tissue_element %in% \n",
    "                                   names(table(conds_removed$tissue_element))[ table(conds_removed$tissue_element) == 1],]\n",
    "\n",
    "table(filtered_primaries$type)"
   ]
  },
  {
   "cell_type": "code",
   "execution_count": 29,
   "metadata": {},
   "outputs": [
    {
     "data": {
      "text/plain": [
       "\n",
       "Conditional     Primary \n",
       "      10140       13783 "
      ]
     },
     "metadata": {},
     "output_type": "display_data"
    }
   ],
   "source": [
    "### Remaining QTLs had conditional signals, were regressed for GWAS colocalization"
   ]
  },
  {
   "cell_type": "code",
   "execution_count": 30,
   "metadata": {},
   "outputs": [
    {
     "data": {
      "text/html": [
       "18960"
      ],
      "text/latex": [
       "18960"
      ],
      "text/markdown": [
       "18960"
      ],
      "text/plain": [
       "[1] 18960"
      ]
     },
     "metadata": {},
     "output_type": "display_data"
    },
    {
     "data": {
      "text/plain": [
       "\n",
       "Conditional     Primary \n",
       "      10140        8820 "
      ]
     },
     "metadata": {},
     "output_type": "display_data"
    }
   ],
   "source": [
    "toregress = conds_removed[ !conds_removed$tissue_element %in% filtered_primaries$tissue_element, ]\n",
    "nrow(toregress)\n",
    "table(toregress$conditional)"
   ]
  },
  {
   "cell_type": "code",
   "execution_count": 31,
   "metadata": {},
   "outputs": [],
   "source": [
    "all_qtls = rbindlist(list(ipsc_original,cvpc_original,ppc_original))\n",
    "all_qtls$conditional = ifelse(all_qtls$type == 0, \"Primary\",\"Conditional\")\n",
    "all_qtls$qtl_id = paste(all_qtls$tissue,all_qtls$element_id,all_qtls$type,sep=\"_\")"
   ]
  },
  {
   "cell_type": "markdown",
   "metadata": {},
   "source": [
    "### Checking that No Primaries are lost"
   ]
  },
  {
   "cell_type": "code",
   "execution_count": 46,
   "metadata": {},
   "outputs": [
    {
     "data": {
      "text/html": [
       "60306"
      ],
      "text/latex": [
       "60306"
      ],
      "text/markdown": [
       "60306"
      ],
      "text/plain": [
       "[1] 60306"
      ]
     },
     "metadata": {},
     "output_type": "display_data"
    }
   ],
   "source": [
    "prims = primaries$qtl_id[ primaries$conditional == \"Primary\"]\n",
    "\n",
    "reg_prims = toregress$qtl_id[ toregress$conditional == \"Primary\"]\n",
    "nonkg_prims = all_qtls$qtl_id[ all_qtls$conditional == \"Primary\" & all_qtls$in1kg == \"FALSE\" & !all_qtls$qtl_id %in% prims]\n",
    "filtered_prims = filtered_primaries$qtl_id[ filtered_primaries$conditional == \"Primary\"]\n",
    "mono_prims = monomorphic_primary$qtl_id[ monomorphic_primary$conditional == \"Primary\"]\n",
    "\n",
    "length(reg_prims) + length(nonkg_prims) + length(filtered_prims)+ length(mono_prims)+ length(prims)"
   ]
  },
  {
   "cell_type": "markdown",
   "metadata": {},
   "source": [
    "## Tracking filtered conditionals"
   ]
  },
  {
   "cell_type": "code",
   "execution_count": 47,
   "metadata": {},
   "outputs": [
    {
     "data": {
      "text/html": [
       "343"
      ],
      "text/latex": [
       "343"
      ],
      "text/markdown": [
       "343"
      ],
      "text/plain": [
       "[1] 343"
      ]
     },
     "metadata": {},
     "output_type": "display_data"
    },
    {
     "data": {
      "text/html": [
       "8406"
      ],
      "text/latex": [
       "8406"
      ],
      "text/markdown": [
       "8406"
      ],
      "text/plain": [
       "[1] 8406"
      ]
     },
     "metadata": {},
     "output_type": "display_data"
    },
    {
     "data": {
      "text/html": [],
      "text/latex": [],
      "text/markdown": [],
      "text/plain": [
       "character(0)"
      ]
     },
     "metadata": {},
     "output_type": "display_data"
    },
    {
     "data": {
      "text/html": [],
      "text/latex": [],
      "text/markdown": [],
      "text/plain": [
       "character(0)"
      ]
     },
     "metadata": {},
     "output_type": "display_data"
    },
    {
     "data": {
      "text/html": [],
      "text/latex": [],
      "text/markdown": [],
      "text/plain": [
       "character(0)"
      ]
     },
     "metadata": {},
     "output_type": "display_data"
    },
    {
     "data": {
      "text/html": [],
      "text/latex": [],
      "text/markdown": [],
      "text/plain": [
       "character(0)"
      ]
     },
     "metadata": {},
     "output_type": "display_data"
    },
    {
     "data": {
      "text/html": [],
      "text/latex": [],
      "text/markdown": [],
      "text/plain": [
       "character(0)"
      ]
     },
     "metadata": {},
     "output_type": "display_data"
    },
    {
     "data": {
      "text/html": [],
      "text/latex": [],
      "text/markdown": [],
      "text/plain": [
       "character(0)"
      ]
     },
     "metadata": {},
     "output_type": "display_data"
    },
    {
     "data": {
      "text/html": [],
      "text/latex": [],
      "text/markdown": [],
      "text/plain": [
       "character(0)"
      ]
     },
     "metadata": {},
     "output_type": "display_data"
    },
    {
     "data": {
      "text/html": [],
      "text/latex": [],
      "text/markdown": [],
      "text/plain": [
       "character(0)"
      ]
     },
     "metadata": {},
     "output_type": "display_data"
    },
    {
     "data": {
      "text/html": [],
      "text/latex": [],
      "text/markdown": [],
      "text/plain": [
       "character(0)"
      ]
     },
     "metadata": {},
     "output_type": "display_data"
    },
    {
     "data": {
      "text/html": [],
      "text/latex": [],
      "text/markdown": [],
      "text/plain": [
       "character(0)"
      ]
     },
     "metadata": {},
     "output_type": "display_data"
    }
   ],
   "source": [
    "nokg_conds = all_qtls$qtl_id[ all_qtls$conditional == \"Conditional\" & all_qtls$in1kg == \"FALSE\" ]\n",
    "\n",
    "nonkg_prim_tissele = gsub(\"_[0-3]+$\",\"\",nonkg_prims)\n",
    "nonkg_prims_conds = all_qtls$qtl_id[ !all_qtls$qtl_id %in% nokg_conds & \n",
    "                                    all_qtls$conditional == \"Conditional\" & all_qtls$tissue_element %in% nonkg_prim_tissele]\n",
    "length(nonkg_prims_conds)\n",
    "mono_conds = monomorphic_conditional$qtl_id[ monomorphic_conditional$monomorphic == \"TRUE\"]\n",
    "mono_prim_conds = monomorphic_primary$qtl_id[ monomorphic_primary$conditional == \"Conditional\"]\n",
    "\n",
    "dprime_conds = dependent[ !dependent %in% c(nokg_conds,mono_conds,mono_prim_conds,nonkg_prims_conds) ]\n",
    "\n",
    "\n",
    "\n",
    "length(dprime_conds)+length(mono_prim_conds) +length(mono_conds) + length(nonkg_prims_conds) + length(nokg_conds)\n",
    "intersect(mono_conds, mono_prim_conds)\n",
    "intersect(mono_conds, nokg_conds)\n",
    "intersect(mono_conds, dprime_conds)\n",
    "intersect(mono_conds, nonkg_prims_conds)\n",
    "\n",
    "intersect(mono_prim_conds, nokg_conds)\n",
    "intersect(mono_prim_conds, dprime_conds)\n",
    "intersect(mono_prim_conds, nonkg_prims_conds)\n",
    "\n",
    "intersect(nokg_conds, dprime_conds)\n",
    "intersect(nokg_conds, nonkg_prims_conds)\n",
    "\n",
    "intersect(nonkg_prims_conds, dprime_conds)\n",
    "\n"
   ]
  },
  {
   "cell_type": "code",
   "execution_count": 52,
   "metadata": {},
   "outputs": [],
   "source": [
    "filtered_qtls = all_qtls[ !all_qtls$qtl_id %in% c(dprime_conds,mono_prim_conds,mono_conds,nonkg_prims_conds,nokg_conds) , ]\n",
    "\n",
    "filtered_qtls2 = rbindlist(lapply(unique(filtered_qtls$tissue_element), function(te_id){\n",
    "    tiss_elem = filtered_qtls[ filtered_qtls$tissue_element == te_id, ]\n",
    "    if (nrow(tiss_elem) == 1) {\n",
    "        tiss_elem$new_condition = 0\n",
    "    } else {\n",
    "        tiss_elem = tiss_elem %>% arrange(type)\n",
    "        qtl_seq = seq(0,nrow(tiss_elem)-1)\n",
    "        tiss_elem$new_condition = qtl_seq\n",
    "    }\n",
    "    return(tiss_elem)\n",
    "}))\n"
   ]
  }
 ],
 "metadata": {
  "kernelspec": {
   "display_name": "R 4.0.1",
   "language": "R",
   "name": "ir40"
  },
  "language_info": {
   "codemirror_mode": "r",
   "file_extension": ".r",
   "mimetype": "text/x-r-source",
   "name": "R",
   "pygments_lexer": "r",
   "version": "4.0.1"
  }
 },
 "nbformat": 4,
 "nbformat_minor": 2
}
