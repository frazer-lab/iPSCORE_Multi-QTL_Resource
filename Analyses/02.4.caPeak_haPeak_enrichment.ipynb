{
 "cells": [
  {
   "cell_type": "code",
   "execution_count": 2,
   "metadata": {},
   "outputs": [],
   "source": [
    "source(\"~/software/notebook_assist/functions.R\")\n",
    "source(\"~/software/notebook_assist/packages.R\")\n",
    "setwd(\"/projects/CARDIPS/analysis/epigenome_resource/\")"
   ]
  },
  {
   "cell_type": "code",
   "execution_count": 3,
   "metadata": {},
   "outputs": [],
   "source": [
    "theme_bw2 = theme_bw() +\n",
    "    theme(\n",
    "        axis.text = element_text(size = 12),\n",
    "        strip.text = element_text(size = 12),\n",
    "        axis.title = element_text(size = 12),\n",
    "        legend.text = element_text(size = 12),\n",
    "        legend.title = element_text(size = 12),\n",
    "        legend.position = \"top\"\n",
    "    )"
   ]
  },
  {
   "cell_type": "code",
   "execution_count": 5,
   "metadata": {},
   "outputs": [
    {
     "data": {
      "text/plain": [
       "\n",
       "       caPeak caPeak-haPeak    non-caPeak \n",
       "         8569          2670        191702 "
      ]
     },
     "metadata": {},
     "output_type": "display_data"
    }
   ],
   "source": [
    "basedir=\"~/projects/Resource/\"\n",
    "bedtools=\"/frazer01/software/bedtools-2.25.0/bin/bedtools\"\n",
    "\n",
    "### QTL information found in Supplemental Table\n",
    "filtered_qtls = fread(\"analyses/tim/ld_modules/scripts/all_qtl_lead_variants.txt\",sep=\"\\t\",data.table=F)\n",
    "\n",
    "### New Condition is assigned after QTL filtering and corresponds to discovery order\n",
    "filtered_qtls$Condition = ifelse(filtered_qtls$new_condition == 0, \"Primary\",\n",
    "                                paste(\"Cond.\",filtered_qtls$new_condition))\n",
    "\n",
    "cvpc_atac_peaks = readRDS(\"caqtls/CVPC/step_4/qtl_by_element/qtl_input.rds\")$phenotype_info\n",
    "\n",
    "cvpc_chip_peaks = readRDS(\"haqtls/CVPC/step_4/qtl_by_element/qtl_input.rds\")$phenotype_info %>% \n",
    "                    filter(element_id %in% filtered_qtls$element_id)\n",
    "\n",
    "cvpc_atac_peaks$caQTL = ifelse(cvpc_atac_peaks$element_id %in% filtered_qtls$element_id, \"TRUE\",\"FALSE\")\n",
    "\n",
    "cvpc_atac_peak_path=\"~/projects/Resource/notebooks/toGitHub/cvpc_atac_peaks.bed\"\n",
    "cvpc_hapeaks=\"~/projects/Resource/notebooks/toGitHub/cvpc_hapeaks.bed\"\n",
    "fwrite(cvpc_atac_peaks,cvpc_atac_peak_path,sep=\"\\t\",row.names=F,quote=F,col.names=F)\n",
    "fwrite(cvpc_chip_peaks,cvpc_hapeaks,sep=\"\\t\",row.names=F,quote=F,col.names=F)\n",
    "\n",
    "### Identify overlapping ATAC and ChIP regions\n",
    "caha_path = paste0(basedir,\"notebooks/toGitHub/cvpc_capeak_hapeak.bed\")\n",
    "peak_int_command = paste(bedtools, \"intersect\", \"-a\", cvpc_atac_peak_path,\n",
    "                     \"-b\", cvpc_hapeaks, \"-loj\",\n",
    "                     \">\", caha_path)\n",
    "system(peak_int_command)\n",
    "\n",
    "caha = fread(caha_path,sep=\"\\t\",data.table=F,fill=TRUE)\n",
    "\n",
    "caha$Annotation = ifelse(caha$V5 == \"TRUE\" & caha$V10 != \".\", \"caPeak-haPeak\",\n",
    "                        ifelse(caha$V5 == \"TRUE\", \"caPeak\",\"No QTL\"))\n",
    "\n",
    "cvpc_atac_peaks$Annotation = ifelse(cvpc_atac_peaks$element_id %in% caha$V4[ caha$Annotation == \"caPeak-haPeak\"], \"caPeak-haPeak\",\n",
    "                            ifelse(cvpc_atac_peaks$element_id %in% caha$V4[ caha$Annotation == \"caPeak\"], \"caPeak\",\"non-caPeak\"))\n",
    "table(cvpc_atac_peaks$Annotation)\n",
    "\n",
    "\n",
    "cvpc_gene_express = readRDS(\"/projects/CARDIPS/analysis/epigenome_resource/eqtls/CVPC/step_4/qtl_by_element/qtl_input.rds\")$phenotype_info\n",
    "gencode = fread(\"/reference/private/Gencode.v44lift38/gene_info.txt\",sep=\"\\t\",data.table=F)\n",
    "cvpc_gene_express2 = merge(cvpc_gene_express, gencode[,5:6], by.x=\"element_id\",by.y=\"gene_id\")\n",
    "\n"
   ]
  },
  {
   "cell_type": "code",
   "execution_count": null,
   "metadata": {},
   "outputs": [],
   "source": []
  },
  {
   "cell_type": "code",
   "execution_count": 4,
   "metadata": {},
   "outputs": [
    {
     "data": {
      "text/html": [
       "444"
      ],
      "text/latex": [
       "444"
      ],
      "text/markdown": [
       "444"
      ],
      "text/plain": [
       "[1] 444"
      ]
     },
     "metadata": {},
     "output_type": "display_data"
    }
   ],
   "source": [
    "tfbs_path=\"~/projects/Resource/notebooks/toGitHub/sourcedata/TFBS_Predictions.txt\"\n",
    "tfbs = fread(tfbs_path, sep=\"\\t\",data.table=F)\n",
    "\n",
    "jaspar_tfbs = tfbs %>% filter(Tissue == \"CVPC\" & Database == \"JASPAR\") %>% select(MotifID, PeakID,Tissue)\n",
    "\n",
    "jaspar_tfbs$TFBS = toupper(gsub(\"_MA.*\",\"\",jaspar_tfbs$MotifID))\n",
    "jaspar_tfbs$occur = 1 \n",
    "\n",
    "jaspar_expressed = jaspar_tfbs[ jaspar_tfbs$TFBS %in% cvpc_gene_express2$gene_name,]\n",
    "length(unique(jaspar_expressed$TFBS))\n",
    "\n",
    "jaspar_cast = reshape2::dcast(PeakID ~ TFBS, data= jaspar_expressed,value.var = \"occur\",fun.aggregate = sum)\n",
    "names(cvpc_atac_peaks)[4] = \"PeakID\"\n",
    "\n",
    "atac_tfbs = merge(cvpc_atac_peaks, jaspar_cast[ jaspar_cast$PeakID %in% cvpc_atac_peaks$PeakID,], all=TRUE)\n",
    "atac_tfbs[ is.na(atac_tfbs)] = 0 \n",
    "\n",
    "property = colnames(atac_tfbs)[7:ncol(atac_tfbs)]\n",
    "calculate_enrichment = function(property, vertices){\n",
    "        totest          = vertices[, c(property, \"Annotation\")]\n",
    "\n",
    "        colnames(totest) = c(\"property\", \"annot\")\n",
    "\n",
    "        annots = names(table(totest$annot))\n",
    "    \n",
    "        tests = as.data.frame(rbindlist(lapply(annots, function(annot){\n",
    "            x11  = nrow(totest[ totest$property == 1 & totest$annot == annot, ])\n",
    "            x12  = nrow(totest[ totest$property == 1 & totest$annot != annot, ])\n",
    "            x21  = nrow(totest[ totest$property == 0 & totest$annot == annot, ])\n",
    "            x22  = nrow(totest[ totest$property == 0 & totest$annot != annot, ])\n",
    "            mat  = matrix(c(x11, x12, x21, x22), nrow = 2, byrow = TRUE)\n",
    "            test = fisher.test(mat)\n",
    "            out  = data.frame(TF = property, Annotation = annot, \n",
    "                              x11 = x11, x12 = x12, x21 = x21, x22 = x22, estimate = test$estimate, \n",
    "                              ci1 = test$conf.int[[1]], ci2 = test$conf.int[[2]], pval = test$p.value)\n",
    "            return(out)\n",
    "        })), stringsAsFactors = FALSE)\n",
    "        return(tests)}\n",
    "\n",
    "enrich = function(x, annot){\n",
    "        tests       = as.data.frame(rbindlist(lapply(1:length(property), \n",
    "                                                     function(ii){calculate_enrichment(property[ii], x)})))\n",
    "        tests       = tests\n",
    "        tests$padj  = p.adjust(tests$pval, method = \"BH\")\n",
    "        tests$log2r = log2(tests$estimate)\n",
    "        return(tests)}\n",
    "\n",
    "\n",
    "atac_tfbs_enrich = enrich(atac_tfbs[rowSums(data.matrix(atac_tfbs[,7:ncol(atac_tfbs)])) > 0,])\n",
    "\n",
    "\n",
    "top_tfs = atac_tfbs_enrich[  atac_tfbs_enrich$estimate > 1 & atac_tfbs_enrich$padj < 0.05,] %>% \n",
    "                                group_by(Annotation) %>%\n",
    "                                top_n(10, log2r)\n",
    "\n",
    "top_tfs = c(top_tfs$TF,\"GATA4\")\n",
    "\n",
    "atac_tfbs_enrich2 = atac_tfbs_enrich[ atac_tfbs_enrich$TF %in% top_tfs, ]\n",
    "atac_tfbs_enrich2$'log2(OR)' = atac_tfbs_enrich2$log2r\n",
    "atac_tfbs_enrich2$'log2(OR)'[ atac_tfbs_enrich2$'log2(OR)' < -0.75 ] = -0.75\n",
    "atac_tfbs_enrich2$'log2(OR)'[ atac_tfbs_enrich2$'log2(OR)' > 0.75 ] = 0.75\n",
    "atac_tfbs_enrich2$Annotation = factor(atac_tfbs_enrich2$Annotation ,\n",
    "                                      levels = rev(c(\"caPeak\",\"caPeak-haPeak\",\"non-caPeak\")))\n",
    "\n",
    "\n",
    "atac_tfbs_enrich2_cast = reshape2::dcast(TF ~ Annotation , data = atac_tfbs_enrich2,\n",
    "                                         fun.aggregate = mean, value.var = \"log2(OR)\")\n",
    "rownames(atac_tfbs_enrich2_cast) = atac_tfbs_enrich2_cast$TF\n",
    "atac_tfbs_enrich2_cast$TF = NULL\n",
    "\n",
    "ord <- hclust( dist(atac_tfbs_enrich2_cast, method = \"euclidean\"), method = \"ward.D\" )$order\n",
    "\n",
    "atac_tfbs_enrich2$TF2 = factor(atac_tfbs_enrich2$TF, levels = rev(rownames(atac_tfbs_enrich2_cast[ord,])))\n",
    "\n",
    "atac_tfbs_enrich2$Significance = ifelse(atac_tfbs_enrich2$padj < 0.05, \"*\", \"\")\n",
    "\n"
   ]
  },
  {
   "cell_type": "code",
   "execution_count": 5,
   "metadata": {},
   "outputs": [
    {
     "data": {
      "text/plain": [
       "\n",
       "       caPeak caPeak-haPeak    non-caPeak \n",
       "         2593          1641         51097 "
      ]
     },
     "metadata": {},
     "output_type": "display_data"
    }
   ],
   "source": [
    "tmp = atac_tfbs[rowSums(data.matrix(atac_tfbs[,7:ncol(atac_tfbs)])) > 0,]\n",
    "table(tmp$Annotation)"
   ]
  },
  {
   "cell_type": "code",
   "execution_count": 6,
   "metadata": {},
   "outputs": [
    {
     "data": {
      "text/html": [
       "55331"
      ],
      "text/latex": [
       "55331"
      ],
      "text/markdown": [
       "55331"
      ],
      "text/plain": [
       "[1] 55331"
      ]
     },
     "metadata": {},
     "output_type": "display_data"
    }
   ],
   "source": [
    "nrow(tmp)"
   ]
  },
  {
   "cell_type": "code",
   "execution_count": 7,
   "metadata": {},
   "outputs": [
    {
     "data": {
      "text/html": [
       "<table class=\"dataframe\">\n",
       "<caption>A data.frame: 3 × 12</caption>\n",
       "<thead>\n",
       "\t<tr><th></th><th scope=col>TF</th><th scope=col>Annotation</th><th scope=col>x11</th><th scope=col>x12</th><th scope=col>x21</th><th scope=col>x22</th><th scope=col>estimate</th><th scope=col>ci1</th><th scope=col>ci2</th><th scope=col>pval</th><th scope=col>padj</th><th scope=col>log2r</th></tr>\n",
       "\t<tr><th></th><th scope=col>&lt;chr&gt;</th><th scope=col>&lt;chr&gt;</th><th scope=col>&lt;int&gt;</th><th scope=col>&lt;int&gt;</th><th scope=col>&lt;int&gt;</th><th scope=col>&lt;int&gt;</th><th scope=col>&lt;dbl&gt;</th><th scope=col>&lt;dbl&gt;</th><th scope=col>&lt;dbl&gt;</th><th scope=col>&lt;dbl&gt;</th><th scope=col>&lt;dbl&gt;</th><th scope=col>&lt;dbl&gt;</th></tr>\n",
       "</thead>\n",
       "<tbody>\n",
       "\t<tr><th scope=row>109</th><td>CTCF</td><td>caPeak       </td><td>  692</td><td>13965</td><td> 1778</td><td>36447</td><td>1.0157696</td><td>0.9270144</td><td>1.1120810</td><td>7.299041e-01</td><td>8.903226e-01</td><td> 0.02257316</td></tr>\n",
       "\t<tr><th scope=row>110</th><td>CTCF</td><td>caPeak-haPeak</td><td>  232</td><td>14425</td><td> 1361</td><td>36864</td><td>0.4356344</td><td>0.3768876</td><td>0.5017757</td><td>1.097820e-36</td><td>1.462296e-33</td><td>-1.19881026</td></tr>\n",
       "\t<tr><th scope=row>111</th><td>CTCF</td><td>non-caPeak   </td><td>13733</td><td>  924</td><td>35086</td><td> 3139</td><td>1.3297341</td><td>1.2319403</td><td>1.4362579</td><td>7.026653e-14</td><td>3.021337e-11</td><td> 0.41113777</td></tr>\n",
       "</tbody>\n",
       "</table>\n"
      ],
      "text/latex": [
       "A data.frame: 3 × 12\n",
       "\\begin{tabular}{r|llllllllllll}\n",
       "  & TF & Annotation & x11 & x12 & x21 & x22 & estimate & ci1 & ci2 & pval & padj & log2r\\\\\n",
       "  & <chr> & <chr> & <int> & <int> & <int> & <int> & <dbl> & <dbl> & <dbl> & <dbl> & <dbl> & <dbl>\\\\\n",
       "\\hline\n",
       "\t109 & CTCF & caPeak        &   692 & 13965 &  1778 & 36447 & 1.0157696 & 0.9270144 & 1.1120810 & 7.299041e-01 & 8.903226e-01 &  0.02257316\\\\\n",
       "\t110 & CTCF & caPeak-haPeak &   232 & 14425 &  1361 & 36864 & 0.4356344 & 0.3768876 & 0.5017757 & 1.097820e-36 & 1.462296e-33 & -1.19881026\\\\\n",
       "\t111 & CTCF & non-caPeak    & 13733 &   924 & 35086 &  3139 & 1.3297341 & 1.2319403 & 1.4362579 & 7.026653e-14 & 3.021337e-11 &  0.41113777\\\\\n",
       "\\end{tabular}\n"
      ],
      "text/markdown": [
       "\n",
       "A data.frame: 3 × 12\n",
       "\n",
       "| <!--/--> | TF &lt;chr&gt; | Annotation &lt;chr&gt; | x11 &lt;int&gt; | x12 &lt;int&gt; | x21 &lt;int&gt; | x22 &lt;int&gt; | estimate &lt;dbl&gt; | ci1 &lt;dbl&gt; | ci2 &lt;dbl&gt; | pval &lt;dbl&gt; | padj &lt;dbl&gt; | log2r &lt;dbl&gt; |\n",
       "|---|---|---|---|---|---|---|---|---|---|---|---|---|\n",
       "| 109 | CTCF | caPeak        |   692 | 13965 |  1778 | 36447 | 1.0157696 | 0.9270144 | 1.1120810 | 7.299041e-01 | 8.903226e-01 |  0.02257316 |\n",
       "| 110 | CTCF | caPeak-haPeak |   232 | 14425 |  1361 | 36864 | 0.4356344 | 0.3768876 | 0.5017757 | 1.097820e-36 | 1.462296e-33 | -1.19881026 |\n",
       "| 111 | CTCF | non-caPeak    | 13733 |   924 | 35086 |  3139 | 1.3297341 | 1.2319403 | 1.4362579 | 7.026653e-14 | 3.021337e-11 |  0.41113777 |\n",
       "\n"
      ],
      "text/plain": [
       "    TF   Annotation    x11   x12   x21   x22   estimate  ci1       ci2      \n",
       "109 CTCF caPeak          692 13965  1778 36447 1.0157696 0.9270144 1.1120810\n",
       "110 CTCF caPeak-haPeak   232 14425  1361 36864 0.4356344 0.3768876 0.5017757\n",
       "111 CTCF non-caPeak    13733   924 35086  3139 1.3297341 1.2319403 1.4362579\n",
       "    pval         padj         log2r      \n",
       "109 7.299041e-01 8.903226e-01  0.02257316\n",
       "110 1.097820e-36 1.462296e-33 -1.19881026\n",
       "111 7.026653e-14 3.021337e-11  0.41113777"
      ]
     },
     "metadata": {},
     "output_type": "display_data"
    }
   ],
   "source": [
    "atac_tfbs_enrich[ atac_tfbs_enrich$TF == \"CTCF\",]"
   ]
  },
  {
   "cell_type": "code",
   "execution_count": 6,
   "metadata": {},
   "outputs": [],
   "source": [
    "\n",
    "# rowSums(data.matrix(atac_tfbs[,7:ncol(atac_tfbs)]))"
   ]
  },
  {
   "cell_type": "code",
   "execution_count": 8,
   "metadata": {},
   "outputs": [
    {
     "data": {
      "image/png": "[encoded data removed]",
      "text/plain": [
       "plot without title"
      ]
     },
     "metadata": {
      "image/png": {
       "height": 240,
       "width": 150
      }
     },
     "output_type": "display_data"
    }
   ],
   "source": [
    "fwrite(atac_tfbs_enrich,\"~/projects/Resource/notebooks/toGitHub/sourcedata/SOURCEDATA.FIGURE2F.txt\",\n",
    "      sep=\"\\t\",row.names=F,quote=F)\n",
    "psize(4,2.5)\n",
    "f = ggplot(atac_tfbs_enrich2, aes( Annotation,TF2,  fill= `log2(OR)`)) + theme_bw()+\n",
    "  geom_tile(color = \"black\")  +  xlab(\"\") + ylab(\"\") +\n",
    "    geom_text(aes(label=Significance), color=\"black\", size=3) +\n",
    "    theme(axis.text.x = element_text(angle = 90, vjust = 0.5, hjust=1), \n",
    "         legend.position =\"right\") +\n",
    "  scale_fill_gradient2(low=\"blue\",mid = \"white\", high=\"red\") \n",
    "\n",
    "f"
   ]
  },
  {
   "cell_type": "code",
   "execution_count": null,
   "metadata": {},
   "outputs": [],
   "source": []
  }
 ],
 "metadata": {
  "kernelspec": {
   "display_name": "R 4.0.1",
   "language": "R",
   "name": "ir40"
  },
  "language_info": {
   "codemirror_mode": "r",
   "file_extension": ".r",
   "mimetype": "text/x-r-source",
   "name": "R",
   "pygments_lexer": "r",
   "version": "4.0.1"
  }
 },
 "nbformat": 4,
 "nbformat_minor": 2
}
