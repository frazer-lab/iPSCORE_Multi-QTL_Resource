{
 "cells": [
  {
   "cell_type": "code",
   "execution_count": 1,
   "metadata": {},
   "outputs": [],
   "source": [
    "\n",
    "source(\"~/software/notebook_assist/packages.R\")\n",
    "source(\"~/software/notebook_assist/functions.R\")\n",
    "\n",
    "\n",
    "setwd(\"/projects/CARDIPS/analysis/epigenome_resource/\")\n",
    "\n",
    "\n",
    "ipscore_gtex_leadvar_path=#path to all GTEx and iPSCORE eQTL lead variants\n",
    "leads = fread(ipscore_gtex_leadvar_path,sep=\"\\t\",data.table = F)"
   ]
  },
  {
   "cell_type": "code",
   "execution_count": 2,
   "metadata": {},
   "outputs": [
    {
     "data": {
      "text/plain": [
       "\n",
       " Adult   EDev Shared \n",
       " 27881   2299  72195 "
      ]
     },
     "metadata": {},
     "output_type": "display_data"
    }
   ],
   "source": [
    "\n",
    "mashr_result_path=## Path to mashr results - found on Figshare\n",
    "mashr = fread(mashr_result_path,sep=\"\\t\",data.table=F)\n",
    "\n",
    "mashr$gene_id = str_extract(mashr$gene_variant, \"^ENSG[0-9]+\") \n",
    "mashr$variant_id = str_extract(mashr$gene_variant, \"VAR_[0-9]+_[0-9]+_[A-Z]_[A-Z]\") \n",
    "\n",
    "### calculate minimum lfsr for iPSCORE and GTEX tissues and across all tissues\n",
    "mashr$min_ipscore_lfsr = rowMins(data.matrix(mashr[,6:8]))\n",
    "mashr$min_adult_lfsr    = rowMins(data.matrix(mashr[,c(9:55)]))\n",
    "mashr$min_lfsr         = rowMins(data.matrix(mashr[,c(6:55)]))\n",
    "\n",
    "### filter SNP-eGene pairs that are not significant and not tested in both tissues\n",
    "mashr2 = mashr[ mashr$min_lfsr <= 0.05 & mashr$ngtex_tested > 0 & mashr$nipscore_tested > 0 , ]\n",
    "\n",
    "### assign temporal annotations to mashr output \n",
    "mashr2$Category = ifelse(mashr2$min_adult_lfsr <= 0.05 & mashr2$min_ipscore_lfsr <= 0.05, \"Shared\",\n",
    "                              ifelse(mashr2$min_adult_lfsr >= 0.05 & mashr2$min_ipscore_lfsr <= 0.05, \"EDev\",\n",
    "                                    ifelse(mashr2$min_adult_lfsr <= 0.05 & mashr2$min_ipscore_lfsr >= 0.05,\n",
    "                                           \"Adult\", \"Not Significant\")))\n",
    "\n",
    "mashr2$variant_id = gsub(\"VAR_\",\"\",str_extract(mashr2$gene_variant, \"VAR_.*\"))\n",
    "table(mashr2$Category)"
   ]
  },
  {
   "cell_type": "code",
   "execution_count": 6,
   "metadata": {},
   "outputs": [
    {
     "name": "stderr",
     "output_type": "stream",
     "text": [
      "Warning message:\n",
      "“The dcast generic in data.table has been passed a data.frame and will attempt to redirect to the relevant reshape2 method; please note that reshape2 is superseded and is no longer actively developed, and this redirection is now deprecated. Please do this redirection yourself like reshape2::dcast(assigned_leads). In the next version, this warning will become an error.”\n",
      "Warning message:\n",
      "“The melt generic in data.table has been passed a matrix and will attempt to redirect to the relevant reshape2 method; please note that reshape2 is superseded and is no longer actively developed, and this redirection is now deprecated. To continue using melt methods from reshape2 while both libraries are attached, e.g. melt.list, you can prepend the namespace, i.e. reshape2::melt(edev_cor). In the next version, this warning will become an error.”\n",
      "Warning message:\n",
      "“The melt generic in data.table has been passed a matrix and will attempt to redirect to the relevant reshape2 method; please note that reshape2 is superseded and is no longer actively developed, and this redirection is now deprecated. To continue using melt methods from reshape2 while both libraries are attached, e.g. melt.list, you can prepend the namespace, i.e. reshape2::melt(shar_cor). In the next version, this warning will become an error.”\n",
      "Warning message:\n",
      "“The melt generic in data.table has been passed a matrix and will attempt to redirect to the relevant reshape2 method; please note that reshape2 is superseded and is no longer actively developed, and this redirection is now deprecated. To continue using melt methods from reshape2 while both libraries are attached, e.g. melt.list, you can prepend the namespace, i.e. reshape2::melt(adult_cor). In the next version, this warning will become an error.”\n"
     ]
    }
   ],
   "source": [
    "### Calculate correlation of EDev and Adult eQTLs across iPSCORE and GTEx tissues\n",
    "\n",
    "assigned_leads = leads[ leads$gene_variant %in% mashr2$gene_variant, ]\n",
    "\n",
    "assigned_leads$Study = ifelse(assigned_leads$tissue %in% c(\"iPSC\",\"CVPC\",\"PPC\"),\n",
    "                             \"iPSCORE\",\"GTEx\")\n",
    "agged_leads = assigned_leads %>% group_by(gene_id, Study) %>% top_n(1,-log10(pval)) %>% sample_n(1)\n",
    "assigned_leads2 = assigned_leads[ assigned_leads$gene_variant %in% agged_leads$gene_variant,]\n",
    "\n",
    "lead_cast = dcast(gene_variant~ tissue, data = assigned_leads, fun.aggregate = sum,value.var = \"beta\")\n",
    "rownames(lead_cast) = lead_cast$gene_variant\n",
    "lead_cast$gene_variant = NULL\n",
    "edev_cor = cor(lead_cast[ rownames(lead_cast) %in% mashr2$gene_variant[ mashr2$Category == \"EDev\"],])\n",
    "\n",
    "shar_cor = cor(lead_cast[ rownames(lead_cast) %in% mashr2$gene_variant[ mashr2$Category == \"Shared\"],])\n",
    "adult_cor = cor(lead_cast[ rownames(lead_cast) %in% mashr2$gene_variant[ mashr2$Category == \"Adult\"],])\n",
    "\n",
    "\n",
    "edev_melt = melt(edev_cor)\n",
    "edev_melt$Type = \"EDev\"\n",
    "shar_melt = melt(shar_cor)\n",
    "shar_melt$Type = \"Shared\"\n",
    "adult_melt = melt(adult_cor)\n",
    "adult_melt$Type = \"Adult\"\n",
    "\n",
    "melted = rbind(rbind(edev_melt,shar_melt),adult_melt) %>% filter(Var1 != Var2)\n",
    "melted$Tissue1 = as.character(melted$Var1)\n",
    "melted$Tissue2 = as.character(melted$Var2)\n",
    "melted$r2 = melted$value**2\n",
    "melted$Var1 = NULL\n",
    "melted$Var2 = NULL\n",
    "melted2 = melted[!duplicated(apply(melted,1,function(x) paste(sort(x),collapse=''))),]\n",
    "melted3 = melted2[ melted2$Tissue1 %in% c(\"iPSC\",\"CVPC\",\"PPC\") |  melted2$Tissue2 %in% c(\"iPSC\",\"CVPC\",\"PPC\"),]\n",
    "melted4 = melted3 [ !(melted3$Tissue1 == \"iPSC\" &  melted3$Tissue2 == \"CVPC\") &\n",
    "                     !(melted3$Tissue1 == \"PPC\" &  melted3$Tissue2 == \"iPSC\") &\n",
    "                     !(melted3$Tissue1 == \"PPC\" &  melted3$Tissue2 == \"CVPC\"),]\n",
    "melted4$`iPSCORE Tissue` = ifelse(melted4$Tissue1 %in% c(\"iPSC\",\"CVPC\",\"PPC\"), melted4$Tissue1,\n",
    "                                  ifelse(melted4$Tissue2 %in% c(\"iPSC\",\"CVPC\",\"PPC\"), melted4$Tissue2, NA))\n",
    "    \n",
    "fwrite(melted4, \"~/projects/Resource/iPSCORE_Multi-QTL_Resource/SourceData/SOURCEDATA.FIGURE3A.txt\",sep=\"\\t\",row.names=F,quote=F)\n",
    "    \n"
   ]
  },
  {
   "cell_type": "code",
   "execution_count": 11,
   "metadata": {},
   "outputs": [
    {
     "data": {
      "text/plain": [
       "\n",
       "          EDev No Association         Shared \n",
       "          2269           6038          10998 "
      ]
     },
     "metadata": {},
     "output_type": "display_data"
    },
    {
     "data": {
      "text/plain": [
       "\n",
       "          EDev No Association         Shared \n",
       "          2046           6542          10717 "
      ]
     },
     "metadata": {},
     "output_type": "display_data"
    },
    {
     "data": {
      "text/plain": [
       "      \n",
       "       EDev No Association Shared\n",
       "  CVPC  855           1158   2824\n",
       "  iPSC  951           3224   4837\n",
       "  PPC   240           2160   3056"
      ]
     },
     "metadata": {},
     "output_type": "display_data"
    }
   ],
   "source": [
    "## Annotate and summarize iPSCORE eQTLs by temporal specificity \n",
    "library(readxl)\n",
    "eqtls = read_xlsx(\"~/projects/Resource/RevisionTables/TableS4.xlsx\") %>% \n",
    "            filter(QTL_Order == \"Primary\" & QTL_Type == \"eQTL\") %>% select(Tissue, Element_ID,Cluster_ID,SNP_ID, \n",
    "                                                                           SNP_Chromosome,SNP_Position,P_value,Effect_Size )\n",
    "eqtls$tissue_element = paste(eqtls$Tissue, eqtls$Element_ID,sep=\"_\")\n",
    "eqtls$gene_variant = paste(str_extract(eqtls$Element_ID, \"ENSG[0-9]+\"),eqtls$SNP_ID)\n",
    "\n",
    "eqtls$Category = ifelse(eqtls$gene_variant %in% mashr2$gene_variant[ mashr2$Category == \"EDev\"], \"EDev\",\n",
    "                       ifelse(eqtls$gene_variant %in% mashr2$gene_variant[ mashr2$Category == \"Shared\"], \"Shared\",\"No Association\"))\n",
    "\n",
    "eqtls_temporal = eqtls[ eqtls$Category != \"No Association\",]\n",
    "\n",
    "cat_dups = unique(eqtls_temporal[,c(\"Cluster_ID\",\"Category\")])\n",
    "cat_dups = eqtls_temporal[ eqtls_temporal$Cluster_ID %in% names(table(eqtls_temporal$Cluster_ID ))[ \n",
    "                    table(eqtls_temporal$Cluster_ID ) > 1],]\n",
    "\n",
    "\n",
    "no_assoc = eqtls$Cluster_ID[ eqtls$Category == \"No Association\"]\n",
    "table(eqtls$Category)\n",
    "eqtls$Stage_Specificity = ifelse(eqtls$Cluster_ID %in% no_assoc, \"No Association\",\n",
    "                           ifelse(eqtls$Cluster_ID %in% cat_dups$Cluster_ID, \"Shared\",eqtls$Category)) \n",
    "table(eqtls$Stage_Specificity)\n",
    "table(eqtls$Tissue,eqtls$Stage_Specificity)\n",
    "\n",
    "\n",
    "\n",
    "eqtls$Tissue = factor(eqtls$Tissue, levels = c(\"iPSC\",\"CVPC\",\"PPC\"))\n",
    "\n"
   ]
  },
  {
   "cell_type": "code",
   "execution_count": 20,
   "metadata": {},
   "outputs": [],
   "source": [
    "summarize_stage_eqtls = as.data.frame(table(eqtls$Stage_Specificity, eqtls$Tissue))\n",
    "summarize_stage_eqtls$Tissue = factor(summarize_stage_eqtls$Var2, levels = c(\"iPSC\",\"CVPC\",\"PPC\"))\n",
    "summarize_stage_eqtls$Stage = factor(summarize_stage_eqtls$Var1, levels = c(\"EDev\",\"Shared\",\"No Association\"))\n",
    "summarize_stage_eqtls$Var1 = NULL\n",
    "summarize_stage_eqtls$Var2 = NULL\n",
    "fwrite(summarize_stage_eqtls %>% group_by(Tissue) %>% mutate(Total_eGenes = sum(Freq), Percent = (Freq/Total_eGenes)*100),\n",
    "       \"~/projects/Resource/iPSCORE_Multi-QTL_Resource/SourceData/SOURCEDATA.FIGURE3B.txt\",sep=\"\\t\",row.names=F,quote=F)\n"
   ]
  },
  {
   "cell_type": "code",
   "execution_count": 23,
   "metadata": {},
   "outputs": [],
   "source": [
    "fwrite(eqtls[ eqtls$Stage_Specificity != \"No Association\",],\n",
    "       \"~/projects/Resource/iPSCORE_Multi-QTL_Resource/SourceData/SOURCEDATA.FIGURE3C.txt\",sep=\"\\t\",row.names=F,quote=F)"
   ]
  },
  {
   "cell_type": "code",
   "execution_count": 26,
   "metadata": {},
   "outputs": [],
   "source": [
    "### Calculate EDev-specific GWAS\n",
    "supptable5_path=# path to Results tab in Supplemental Table 5\n",
    "gwas = fread(supptable5_path,sep=\"\\t\",data.table=F)\n",
    "\n",
    "gwas$Stage_specificity = ifelse(gwas$Cluster_ID %in% eqtls$Cluster_ID[ eqtls$Stage_Specificity == \"EDev\"],\"EDev\",\n",
    "                   ifelse(gwas$Cluster_ID %in% eqtls$Cluster_ID[ eqtls$Stage_Specificity == \"Shared\"],\"Shared\",\"No association\"))\n",
    "\n",
    "gwas_index = unique(gwas[ grepl(\"eQTL\",gwas$qtl_combo_collapse) ,c(\"Stage_specificity\",\"index_trait\") ])\n",
    "shared_index = unique(gwas_index$index_trait[ gwas_index$Stage_specificity == \"Shared\"])\n",
    "edev_index = unique(gwas_index$index_trait[ gwas_index$Stage_specificity == \"EDev\"])\n",
    "gwas_index$Specificity_collapse = ifelse(gwas_index$index_trait %in% shared_index, \"Shared\",\n",
    "                                        ifelse(gwas_index$index_trait %in% edev_index, \"EDev\",\"No association\"))\n",
    "gwas_index2 = unique(gwas_index[, c(\"Specificity_collapse\",\"index_trait\")])\n",
    "sum(table(gwas_index2$Specificity_collapse))\n",
    "table(gwas_index2$Specificity_collapse)"
   ]
  }
 ],
 "metadata": {
  "kernelspec": {
   "display_name": "R 4.0.1",
   "language": "R",
   "name": "ir40"
  },
  "language_info": {
   "codemirror_mode": "r",
   "file_extension": ".r",
   "mimetype": "text/x-r-source",
   "name": "R",
   "pygments_lexer": "r",
   "version": "4.0.1"
  }
 },
 "nbformat": 4,
 "nbformat_minor": 2
}
