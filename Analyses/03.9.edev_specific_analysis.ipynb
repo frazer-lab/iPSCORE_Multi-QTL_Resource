{
 "cells": [
  {
   "cell_type": "code",
   "execution_count": 1,
   "metadata": {},
   "outputs": [
    {
     "name": "stderr",
     "output_type": "stream",
     "text": [
      "\n",
      "Attaching package: ‘igraph’\n",
      "\n",
      "\n",
      "The following object is masked from ‘package:tidyr’:\n",
      "\n",
      "    crossing\n",
      "\n",
      "\n",
      "The following objects are masked from ‘package:dplyr’:\n",
      "\n",
      "    as_data_frame, groups, union\n",
      "\n",
      "\n",
      "The following objects are masked from ‘package:stats’:\n",
      "\n",
      "    decompose, spectrum\n",
      "\n",
      "\n",
      "The following object is masked from ‘package:base’:\n",
      "\n",
      "    union\n",
      "\n",
      "\n"
     ]
    }
   ],
   "source": [
    "source(\"~/software/notebook_assist/functions.R\")\n",
    "source(\"~/software/notebook_assist/packages.R\")\n",
    "library(igraph)\n",
    "library(pheatmap)\n",
    "setwd(\"/projects/CARDIPS/analysis/epigenome_resource/\")\n"
   ]
  },
  {
   "cell_type": "code",
   "execution_count": 2,
   "metadata": {},
   "outputs": [],
   "source": [
    "theme_bw2 = theme_bw() +\n",
    "    theme(\n",
    "        axis.text = element_text(size = 12),\n",
    "        strip.text = element_text(size = 12),\n",
    "        axis.title = element_text(size = 12),\n",
    "        legend.text = element_text(size = 12),\n",
    "        legend.title = element_text(size = 12),\n",
    "        legend.position = \"top\"\n",
    "    )"
   ]
  },
  {
   "cell_type": "markdown",
   "metadata": {},
   "source": [
    "### Load all lead variants from iPSCORE and GTEx QTLs"
   ]
  },
  {
   "cell_type": "code",
   "execution_count": 3,
   "metadata": {},
   "outputs": [],
   "source": [
    "leads = fread(\"analyses/jennifer/ipscore_unique_qtls/mashr/2024_0911/input/ipscore_gtex_leadvars_stats.txt\",\n",
    "                     sep=\"\\t\",\n",
    "                     data.table = F)"
   ]
  },
  {
   "cell_type": "code",
   "execution_count": 297,
   "metadata": {},
   "outputs": [
    {
     "data": {
      "text/html": [
       "33793"
      ],
      "text/latex": [
       "33793"
      ],
      "text/markdown": [
       "33793"
      ],
      "text/plain": [
       "[1] 33793"
      ]
     },
     "metadata": {},
     "output_type": "display_data"
    },
    {
     "data": {
      "text/html": [
       "250564"
      ],
      "text/latex": [
       "250564"
      ],
      "text/markdown": [
       "250564"
      ],
      "text/plain": [
       "[1] 250564"
      ]
     },
     "metadata": {},
     "output_type": "display_data"
    },
    {
     "data": {
      "text/html": [
       "281938"
      ],
      "text/latex": [
       "281938"
      ],
      "text/markdown": [
       "281938"
      ],
      "text/plain": [
       "[1] 281938"
      ]
     },
     "metadata": {},
     "output_type": "display_data"
    }
   ],
   "source": [
    "\n",
    "length(unique(mashr$gene_id))\n",
    "length(unique(mashr$variant_id))\n",
    "\n",
    "nrow(mashr)"
   ]
  },
  {
   "cell_type": "code",
   "execution_count": 4,
   "metadata": {},
   "outputs": [],
   "source": [
    "mashr = fread(\"analyses/jennifer/ipscore_unique_qtls/mashr/2024_0911/results/mashr_results.txt\",sep=\"\\t\",data.table=F)\n",
    "\n",
    "mashr$gene_id = str_extract(mashr$gene_variant, \"^ENSG[0-9]+\") \n",
    "mashr$variant_id = str_extract(mashr$gene_variant, \"VAR_[0-9]+_[0-9]+_[A-Z]_[A-Z]\") \n",
    "\n",
    "\n",
    "mashr$min_ipscore_lfsr = rowMins(data.matrix(mashr[,6:8]))\n",
    "mashr$min_adult_lfsr    = rowMins(data.matrix(mashr[,c(9:55)]))\n",
    "mashr$min_lfsr         = rowMins(data.matrix(mashr[,c(6:55)]))\n",
    "\n",
    "mashr2 = mashr[ mashr$min_lfsr < 0.05 & mashr$ngtex_tested > 0 & mashr$nipscore_tested > 0 , ]\n"
   ]
  },
  {
   "cell_type": "code",
   "execution_count": 402,
   "metadata": {},
   "outputs": [
    {
     "data": {
      "text/html": [
       "281938"
      ],
      "text/latex": [
       "281938"
      ],
      "text/markdown": [
       "281938"
      ],
      "text/plain": [
       "[1] 281938"
      ]
     },
     "metadata": {},
     "output_type": "display_data"
    },
    {
     "data": {
      "text/html": [
       "102375"
      ],
      "text/latex": [
       "102375"
      ],
      "text/markdown": [
       "102375"
      ],
      "text/plain": [
       "[1] 102375"
      ]
     },
     "metadata": {},
     "output_type": "display_data"
    }
   ],
   "source": [
    "nrow(mashr) \n",
    "nrow(mashr2)"
   ]
  },
  {
   "cell_type": "code",
   "execution_count": 5,
   "metadata": {},
   "outputs": [
    {
     "data": {
      "text/plain": [
       "\n",
       " Adult   EDev Shared \n",
       " 27881   2299  72195 "
      ]
     },
     "metadata": {},
     "output_type": "display_data"
    }
   ],
   "source": [
    "mashr2$Category = ifelse(mashr2$min_adult_lfsr < 0.05 & mashr2$min_ipscore_lfsr < 0.05, \"Shared\",\n",
    "                              ifelse(mashr2$min_adult_lfsr > 0.05 & mashr2$min_ipscore_lfsr < 0.05, \"EDev\",\n",
    "                                    ifelse(mashr2$min_adult_lfsr < 0.05 & mashr2$min_ipscore_lfsr > 0.05,\n",
    "                                           \"Adult\", \"Not Significant\")))\n",
    "\n",
    "mashr2$variant_id = gsub(\"VAR_\",\"\",str_extract(mashr2$gene_variant, \"VAR_.*\"))\n",
    "table(mashr2$Category)\n",
    "\n",
    "kgenomes = fread(\"/projects/CARDIPS/analysis/epigenome_resource/analyses/jennifer/gwas_independent/reference/combined.renamed.bim\",\n",
    "                 sep=\"\\t\",\n",
    "                data.table=F)\n",
    "\n",
    "mashr2$in_kg = ifelse(mashr2$variant_id %in% kgenomes$V2, \"TRUE\",\"FALSE\")\n",
    "mashr3 = mashr2[ mashr2$in_kg == \"TRUE\",]"
   ]
  },
  {
   "cell_type": "code",
   "execution_count": 14,
   "metadata": {},
   "outputs": [],
   "source": [
    "write_snps = lapply(unique(mashr3$gene_id), function(gene){\n",
    "    genedf = mashr3[ mashr3$gene_id == gene,]\n",
    "    snpid = gsub(\"VAR_\",\"\",genedf$variant_id)\n",
    "    if(length(unique(snpid)) > 1) {\n",
    "        writeLines(unique(snpid),\n",
    "               paste0(\"analyses/tim/ld_modules/mashr_ld/snps/\",gene,\"_snps.txt\"))\n",
    "        }\n",
    "})"
   ]
  },
  {
   "cell_type": "markdown",
   "metadata": {},
   "source": [
    "### Run 03.8.calculate_egene_ld_mashr.sh to identify SNP-eGene pairs representing the same signal"
   ]
  },
  {
   "cell_type": "code",
   "execution_count": 6,
   "metadata": {},
   "outputs": [
    {
     "data": {
      "text/html": [
       "10343"
      ],
      "text/latex": [
       "10343"
      ],
      "text/markdown": [
       "10343"
      ],
      "text/plain": [
       "[1] 10343"
      ]
     },
     "metadata": {},
     "output_type": "display_data"
    }
   ],
   "source": [
    "ld.fs = list.files(\"analyses/tim/ld_modules/mashr_ld/ld\", full.names = T, pattern =\".ld\")\n",
    "length(ld.fs)\n",
    "\n",
    "psize(10,10)\n",
    "read_ld = rbindlist(lapply(ld.fs, function(ld.f){\n",
    "    gene = gsub(\".ld\",\"\",gsub(\"analyses/tim/ld_modules/mashr_ld/ld/\",\"\",ld.f))\n",
    "    all.ld = fread(ld.f,sep=\" \",data.table=F)[,c(\"SNP_A\",\"SNP_B\",\"R2\")]\n",
    "    all.ld$dist = abs(as.numeric(gsub(\"[0-9]+_\",\"\",str_extract(all.ld$SNP_A, \"[0-9]+_[0-9]+\")))-\n",
    "                     as.numeric(gsub(\"[0-9]+_\",\"\",str_extract(all.ld$SNP_B, \"[0-9]+_[0-9]+\"))))\n",
    "\n",
    "    if (nrow(all.ld) > 0 ){\n",
    "    in.ld = all.ld[ all.ld$R2 >= 0.8 & all.ld$dist < 100000,]\n",
    "    verts = data.frame(ids = unique(c(all.ld$SNP_A,all.ld$SNP_B)))\n",
    "    g = graph_from_data_frame(in.ld, directed = FALSE, vertices = verts)\n",
    "    cl = cluster_louvain(g)\n",
    "    verts$gene_id = gene\n",
    "    verts$cluster_id = paste(gene,cl$membership,sep=\"_\")\n",
    "    verts$variant_id = paste(\"VAR\",verts$ids,sep=\"_\")\n",
    "    return(verts)}\n",
    "}))"
   ]
  },
  {
   "cell_type": "markdown",
   "metadata": {},
   "source": [
    "### Add back SNPs that are the only lead variant for a given eGene"
   ]
  },
  {
   "cell_type": "code",
   "execution_count": 7,
   "metadata": {},
   "outputs": [],
   "source": [
    "\n",
    "single_qtl = mashr3[ mashr3$gene_id %in% names(table(mashr3$gene_id))[ table(mashr3$gene_id) == 1],]\n",
    "single_qtl$ids = gsub(\"VAR_\",\"\",single_qtl$variant_id)\n",
    "single_qtl$cluster_id = paste(single_qtl$gene_id,1,sep=\"_\")\n"
   ]
  },
  {
   "cell_type": "code",
   "execution_count": 11,
   "metadata": {},
   "outputs": [
    {
     "data": {
      "text/html": [
       "630"
      ],
      "text/latex": [
       "630"
      ],
      "text/markdown": [
       "630"
      ],
      "text/plain": [
       "[1] 630"
      ]
     },
     "metadata": {},
     "output_type": "display_data"
    }
   ],
   "source": []
  },
  {
   "cell_type": "code",
   "execution_count": 8,
   "metadata": {},
   "outputs": [],
   "source": [
    "mashr3$variant_id = str_extract(mashr3$gene_variant, \"VAR_.*\")"
   ]
  },
  {
   "cell_type": "code",
   "execution_count": 9,
   "metadata": {},
   "outputs": [],
   "source": [
    "mashr4 = rbind(merge(mashr3,read_ld,by=c(\"gene_id\",\"variant_id\")),\n",
    "                       single_qtl)\n"
   ]
  },
  {
   "cell_type": "markdown",
   "metadata": {},
   "source": [
    "### Identify QTL clusters that have more than one Category and mark as Shared"
   ]
  },
  {
   "cell_type": "code",
   "execution_count": 12,
   "metadata": {},
   "outputs": [],
   "source": [
    "cats = unique(mashr4[ ,c(\"Category\",\"cluster_id\")])\n",
    "cats_dups = cats[ cats$cluster_id %in% names(table(cats$cluster_id))[ table(cats$cluster_id) > 1],]"
   ]
  },
  {
   "cell_type": "code",
   "execution_count": 13,
   "metadata": {},
   "outputs": [],
   "source": [
    "mashr4$AdjCategory = ifelse(mashr4$cluster_id %in% cats_dups$cluster_id, \"Shared\",mashr4$Category)"
   ]
  },
  {
   "cell_type": "code",
   "execution_count": 14,
   "metadata": {},
   "outputs": [],
   "source": [
    "mashr5 = unique(mashr4[,c(\"gene_id\",\"ntissues_tested\",\"ngtex_tested\",\n",
    "                                          \"min_lfsr\",\"min_adult_lfsr\",\"min_ipscore_lfsr\",\"gene_variant\",\"cluster_id\",\"AdjCategory\")])\n",
    "\n"
   ]
  },
  {
   "cell_type": "markdown",
   "metadata": {},
   "source": [
    "### Identify most significant SNPs in each QTL"
   ]
  },
  {
   "cell_type": "code",
   "execution_count": 15,
   "metadata": {},
   "outputs": [],
   "source": [
    "mashr6 = mashr5 %>% group_by(cluster_id) %>% top_n(1,-log10(min_lfsr)) %>% top_n(1,ntissues_tested)"
   ]
  },
  {
   "cell_type": "code",
   "execution_count": 403,
   "metadata": {},
   "outputs": [
    {
     "data": {
      "text/html": [
       "67269"
      ],
      "text/latex": [
       "67269"
      ],
      "text/markdown": [
       "67269"
      ],
      "text/plain": [
       "[1] 67269"
      ]
     },
     "metadata": {},
     "output_type": "display_data"
    }
   ],
   "source": [
    "nrow(mashr6)"
   ]
  },
  {
   "cell_type": "markdown",
   "metadata": {},
   "source": [
    "### Select random SNP-eGene pair when there are equally significant pairs in a QTL signal"
   ]
  },
  {
   "cell_type": "code",
   "execution_count": 16,
   "metadata": {},
   "outputs": [],
   "source": [
    "mashr7 = mashr6 %>% group_by(cluster_id) %>% sample_n(1)"
   ]
  },
  {
   "cell_type": "code",
   "execution_count": 17,
   "metadata": {},
   "outputs": [
    {
     "data": {
      "text/html": [
       "57364"
      ],
      "text/latex": [
       "57364"
      ],
      "text/markdown": [
       "57364"
      ],
      "text/plain": [
       "[1] 57364"
      ]
     },
     "metadata": {},
     "output_type": "display_data"
    }
   ],
   "source": [
    "nrow(mashr7)"
   ]
  },
  {
   "cell_type": "code",
   "execution_count": 18,
   "metadata": {},
   "outputs": [
    {
     "data": {
      "text/html": [
       "10971"
      ],
      "text/latex": [
       "10971"
      ],
      "text/markdown": [
       "10971"
      ],
      "text/plain": [
       "[1] 10971"
      ]
     },
     "metadata": {},
     "output_type": "display_data"
    },
    {
     "data": {
      "text/html": [
       "57364"
      ],
      "text/latex": [
       "57364"
      ],
      "text/markdown": [
       "57364"
      ],
      "text/plain": [
       "[1] 57364"
      ]
     },
     "metadata": {},
     "output_type": "display_data"
    },
    {
     "data": {
      "text/plain": [
       "\n",
       " Adult   EDev Shared \n",
       " 20539   2207  34618 "
      ]
     },
     "metadata": {},
     "output_type": "display_data"
    }
   ],
   "source": [
    "length(unique(mashr7$gene_id))\n",
    "nrow(mashr7)\n",
    "table(mashr7$AdjCategory)"
   ]
  },
  {
   "cell_type": "code",
   "execution_count": 19,
   "metadata": {},
   "outputs": [],
   "source": [
    "lead_stats_ipsc_var = leads[leads$gene_variant %in% mashr7$gene_variant,]\n",
    "lead_stats_cast = reshape2::dcast(gene_variant ~ tissue, data = lead_stats_ipsc_var, fun.aggregate = mean, value.var=\"beta\")\n",
    "rownames(lead_stats_cast) = lead_stats_cast$gene_variant\n",
    "lead_stats_cast$gene_variant = NULL\n",
    "lead_stats_mat = data.matrix(lead_stats_cast)\n",
    "\n",
    "# Calculate row means considering NA values\n",
    "row_means <- rowMeans(lead_stats_mat, na.rm = TRUE)\n",
    "\n",
    "# Replace NA with row means\n",
    "lead_stats_mat = t(apply(lead_stats_mat, 1, function(x) {\n",
    "  x[is.na(x)] = row_means[which(is.na(x))] \n",
    "  return(x)\n",
    "}))\n",
    "\n",
    "\n"
   ]
  },
  {
   "cell_type": "code",
   "execution_count": 224,
   "metadata": {},
   "outputs": [
    {
     "data": {
      "text/html": [
       "7165"
      ],
      "text/latex": [
       "7165"
      ],
      "text/markdown": [
       "7165"
      ],
      "text/plain": [
       "[1] 7165"
      ]
     },
     "metadata": {},
     "output_type": "display_data"
    },
    {
     "data": {
      "text/html": [
       "1919"
      ],
      "text/latex": [
       "1919"
      ],
      "text/markdown": [
       "1919"
      ],
      "text/plain": [
       "[1] 1919"
      ]
     },
     "metadata": {},
     "output_type": "display_data"
    },
    {
     "data": {
      "text/html": [
       "9229"
      ],
      "text/latex": [
       "9229"
      ],
      "text/markdown": [
       "9229"
      ],
      "text/plain": [
       "[1] 9229"
      ]
     },
     "metadata": {},
     "output_type": "display_data"
    }
   ],
   "source": [
    "length(unique(mashr7$gene_id[ mashr7$AdjCategory == \"Adult\"]))\n",
    "length(unique(mashr7$gene_id[ mashr7$AdjCategory == \"EDev\"]))\n",
    "length(unique(mashr7$gene_id[ mashr7$AdjCategory == \"Shared\"]))"
   ]
  },
  {
   "cell_type": "code",
   "execution_count": 23,
   "metadata": {},
   "outputs": [],
   "source": [
    "figure3a = as.data.frame(table(mashr7$AdjCategory))\n",
    "figure3a$Specificity = factor(figure3a$Var1, levels = c(\"EDev\",\"Adult\",\"Shared\"))\n",
    "figure3a$No_eQTLs = figure3a$Freq\n",
    "fwrite(figure3a[,3:4], \"~/projects/Resource/notebooks/toGitHub/sourcedata/SOURCEDATA.FIGURE3A.txt\",\n",
    "      sep=\"\\t\",row.names=F,quote=F)"
   ]
  },
  {
   "cell_type": "code",
   "execution_count": 24,
   "metadata": {},
   "outputs": [
    {
     "data": {
      "image/png": "[encoded data removed]",
      "text/plain": [
       "plot without title"
      ]
     },
     "metadata": {
      "image/png": {
       "height": 240,
       "width": 240
      }
     },
     "output_type": "display_data"
    }
   ],
   "source": []
  },
  {
   "cell_type": "markdown",
   "metadata": {},
   "source": [
    "### Correlation of EDev, Adult and Shared eQTLs across iPSCORE and GTEx tissues"
   ]
  },
  {
   "cell_type": "code",
   "execution_count": 42,
   "metadata": {},
   "outputs": [
    {
     "name": "stderr",
     "output_type": "stream",
     "text": [
      "Warning message:\n",
      "“The melt generic in data.table has been passed a matrix and will attempt to redirect to the relevant reshape2 method; please note that reshape2 is superseded and is no longer actively developed, and this redirection is now deprecated. To continue using melt methods from reshape2 while both libraries are attached, e.g. melt.list, you can prepend the namespace, i.e. reshape2::melt(edev_cor). In the next version, this warning will become an error.”\n",
      "Warning message:\n",
      "“The melt generic in data.table has been passed a matrix and will attempt to redirect to the relevant reshape2 method; please note that reshape2 is superseded and is no longer actively developed, and this redirection is now deprecated. To continue using melt methods from reshape2 while both libraries are attached, e.g. melt.list, you can prepend the namespace, i.e. reshape2::melt(shar_cor). In the next version, this warning will become an error.”\n",
      "Warning message:\n",
      "“The melt generic in data.table has been passed a matrix and will attempt to redirect to the relevant reshape2 method; please note that reshape2 is superseded and is no longer actively developed, and this redirection is now deprecated. To continue using melt methods from reshape2 while both libraries are attached, e.g. melt.list, you can prepend the namespace, i.e. reshape2::melt(adult_cor). In the next version, this warning will become an error.”\n"
     ]
    },
    {
     "data": {
      "text/html": [
       "<table class=\"dataframe\">\n",
       "<caption>A tibble: 3 × 2</caption>\n",
       "<thead>\n",
       "\t<tr><th scope=col>QTL Specificity</th><th scope=col>mean_r</th></tr>\n",
       "\t<tr><th scope=col>&lt;fct&gt;</th><th scope=col>&lt;dbl&gt;</th></tr>\n",
       "</thead>\n",
       "<tbody>\n",
       "\t<tr><td>EDev  </td><td>0.001188834</td></tr>\n",
       "\t<tr><td>Adult </td><td>0.004061838</td></tr>\n",
       "\t<tr><td>Shared</td><td>0.211740161</td></tr>\n",
       "</tbody>\n",
       "</table>\n"
      ],
      "text/latex": [
       "A tibble: 3 × 2\n",
       "\\begin{tabular}{ll}\n",
       " QTL Specificity & mean\\_r\\\\\n",
       " <fct> & <dbl>\\\\\n",
       "\\hline\n",
       "\t EDev   & 0.001188834\\\\\n",
       "\t Adult  & 0.004061838\\\\\n",
       "\t Shared & 0.211740161\\\\\n",
       "\\end{tabular}\n"
      ],
      "text/markdown": [
       "\n",
       "A tibble: 3 × 2\n",
       "\n",
       "| QTL Specificity &lt;fct&gt; | mean_r &lt;dbl&gt; |\n",
       "|---|---|\n",
       "| EDev   | 0.001188834 |\n",
       "| Adult  | 0.004061838 |\n",
       "| Shared | 0.211740161 |\n",
       "\n"
      ],
      "text/plain": [
       "  QTL Specificity mean_r     \n",
       "1 EDev            0.001188834\n",
       "2 Adult           0.004061838\n",
       "3 Shared          0.211740161"
      ]
     },
     "metadata": {},
     "output_type": "display_data"
    }
   ],
   "source": [
    "\n",
    "edev_cor = cor(lead_stats_mat[ rownames(lead_stats_mat) %in% mashr7$gene_variant[ mashr7$AdjCategory == \"EDev\"],])\n",
    "\n",
    "shar_cor = cor(lead_stats_mat[ rownames(lead_stats_mat) %in% mashr7$gene_variant[ mashr7$AdjCategory == \"Shared\"],])\n",
    "adult_cor = cor(lead_stats_mat[ rownames(lead_stats_mat) %in% mashr7$gene_variant[ mashr7$AdjCategory == \"Adult\"],])\n",
    "\n",
    "\n",
    "edev_melt = melt(edev_cor)\n",
    "edev_melt$Type = \"EDev\"\n",
    "shar_melt = melt(shar_cor)\n",
    "shar_melt$Type = \"Shared\"\n",
    "adult_melt = melt(adult_cor)\n",
    "adult_melt$Type = \"Adult\"\n",
    "\n",
    "melted = rbind(rbind(edev_melt,shar_melt),adult_melt) %>% filter(Var1 != Var2)\n",
    "melted$Tissue1 = as.character(melted$Var1)\n",
    "melted$Tissue2 = as.character(melted$Var2)\n",
    "melted$r2 = melted$value**2\n",
    "melted$Var1 = NULL\n",
    "melted$Var2 = NULL\n",
    "melted2 = melted[!duplicated(apply(melted,1,function(x) paste(sort(x),collapse=''))),]\n",
    "melted3 = melted2[ melted2$Tissue1 %in% c(\"iPSC\",\"CVPC\",\"PPC\") |  melted2$Tissue2 %in% c(\"iPSC\",\"CVPC\",\"PPC\"),]\n",
    "melted4 = melted3 [ !(melted3$Tissue1 == \"iPSC\" &  melted3$Tissue2 == \"CVPC\") &\n",
    "                     !(melted3$Tissue1 == \"PPC\" &  melted3$Tissue2 == \"iPSC\") &\n",
    "                     !(melted3$Tissue1 == \"PPC\" &  melted3$Tissue2 == \"CVPC\"),]\n",
    "melted4$`iPSCORE Tissue` = ifelse(melted4$Tissue1 %in% c(\"iPSC\",\"CVPC\",\"PPC\"), melted4$Tissue1,\n",
    "                                  ifelse(melted4$Tissue2 %in% c(\"iPSC\",\"CVPC\",\"PPC\"), melted4$Tissue2, NA))\n",
    "melted4$`iPSCORE Tissue` = factor(melted4$`iPSCORE Tissue`, levels = c(\"iPSC\",\"CVPC\",\"PPC\"))\n",
    "melted4$`QTL Specificity` = factor(melted4$Type, levels = c(\"EDev\",\"Adult\",\"Shared\"))\n",
    "melted4 %>% group_by(`QTL Specificity`) %>% summarise(mean_r = mean(r2))\n",
    "\n"
   ]
  },
  {
   "cell_type": "code",
   "execution_count": 26,
   "metadata": {},
   "outputs": [],
   "source": [
    "fwrite(melted4, \n",
    "      \"~/projects/Resource/notebooks/toGitHub/sourcedata/SOURCEDATA.FIGURE3B.txt\",sep=\"\\t\",row.names=F,quote=F)"
   ]
  },
  {
   "cell_type": "code",
   "execution_count": null,
   "metadata": {},
   "outputs": [],
   "source": []
  },
  {
   "cell_type": "code",
   "execution_count": 27,
   "metadata": {},
   "outputs": [
    {
     "data": {
      "text/html": [
       "<table class=\"dataframe\">\n",
       "<caption>A tibble: 3 × 2</caption>\n",
       "<thead>\n",
       "\t<tr><th scope=col>QTL Specificity</th><th scope=col>mean_r</th></tr>\n",
       "\t<tr><th scope=col>&lt;fct&gt;</th><th scope=col>&lt;dbl&gt;</th></tr>\n",
       "</thead>\n",
       "<tbody>\n",
       "\t<tr><td>EDev  </td><td> 0.02003603</td></tr>\n",
       "\t<tr><td>Adult </td><td>-0.05646204</td></tr>\n",
       "\t<tr><td>Shared</td><td> 0.45889373</td></tr>\n",
       "</tbody>\n",
       "</table>\n"
      ],
      "text/latex": [
       "A tibble: 3 × 2\n",
       "\\begin{tabular}{ll}\n",
       " QTL Specificity & mean\\_r\\\\\n",
       " <fct> & <dbl>\\\\\n",
       "\\hline\n",
       "\t EDev   &  0.02003603\\\\\n",
       "\t Adult  & -0.05646204\\\\\n",
       "\t Shared &  0.45889373\\\\\n",
       "\\end{tabular}\n"
      ],
      "text/markdown": [
       "\n",
       "A tibble: 3 × 2\n",
       "\n",
       "| QTL Specificity &lt;fct&gt; | mean_r &lt;dbl&gt; |\n",
       "|---|---|\n",
       "| EDev   |  0.02003603 |\n",
       "| Adult  | -0.05646204 |\n",
       "| Shared |  0.45889373 |\n",
       "\n"
      ],
      "text/plain": [
       "  QTL Specificity mean_r     \n",
       "1 EDev             0.02003603\n",
       "2 Adult           -0.05646204\n",
       "3 Shared           0.45889373"
      ]
     },
     "metadata": {},
     "output_type": "display_data"
    },
    {
     "data": {
      "text/html": [
       "1.4977869256021e-12"
      ],
      "text/latex": [
       "1.4977869256021e-12"
      ],
      "text/markdown": [
       "1.4977869256021e-12"
      ],
      "text/plain": [
       "[1] 1.497787e-12"
      ]
     },
     "metadata": {},
     "output_type": "display_data"
    },
    {
     "data": {
      "text/html": [
       "1.12377989562563e-119"
      ],
      "text/latex": [
       "1.12377989562563e-119"
      ],
      "text/markdown": [
       "1.12377989562563e-119"
      ],
      "text/plain": [
       "[1] 1.12378e-119"
      ]
     },
     "metadata": {},
     "output_type": "display_data"
    },
    {
     "data": {
      "text/html": [
       "7.57729016380492e-121"
      ],
      "text/latex": [
       "7.57729016380492e-121"
      ],
      "text/markdown": [
       "7.57729016380492e-121"
      ],
      "text/plain": [
       "[1] 7.57729e-121"
      ]
     },
     "metadata": {},
     "output_type": "display_data"
    }
   ],
   "source": [
    "melted4 %>% group_by(`QTL Specificity`) %>% summarise(mean_r = mean(value))\n",
    "t.test(melted4$r2[ melted4$`QTL Specificity` == \"EDev\"],\n",
    "      melted4$r2[ melted4$`QTL Specificity` == \"Adult\"])$p.value\n",
    "\n",
    "t.test(melted4$r2[ melted4$`QTL Specificity` == \"EDev\"],\n",
    "      melted4$r2[ melted4$`QTL Specificity` == \"Shared\"])$p.value\n",
    "\n",
    "t.test(melted4$r2[ melted4$`QTL Specificity` == \"Adult\"],\n",
    "      melted4$r2[ melted4$`QTL Specificity` == \"Shared\"])$p.value"
   ]
  },
  {
   "cell_type": "code",
   "execution_count": 43,
   "metadata": {},
   "outputs": [],
   "source": [
    "gene_info = fread(\"/reference/private/Gencode.v44lift38/gene_info.txt\",sep=\"\\t\",data.table=F)\n",
    "gene_info$simple_gene = gsub(\".[0-9]+$\",\"\",gene_info$gene_id)\n",
    "mashr7$pos = as.numeric(gsub(\"_[A-Z]+\",\"\",str_extract(mashr7$gene_variant, \"[0-9]+_[A-Z]+\")))\n",
    "gene_info_key = gene_info[,c(\"start\",\"end\",\"strand\",\"simple_gene\")] %>% rename(gene_id = simple_gene)\n",
    "gene_info_key$tss = ifelse(gene_info_key$strand == \"+\",gene_info_key$start,gene_info_key$end)\n",
    "mashr8 = merge(mashr7,gene_info_key[,c(\"gene_id\",\"tss\")])\n",
    "mashr8$dist = abs(mashr8$tss - mashr8$pos)\n",
    "\n",
    "mashr9 = aggregate(dist ~   gene_id + AdjCategory, data = mashr8 , FUN = min)\n",
    "psize(3,3)\n",
    "mashr9$Category = factor(mashr9$AdjCategory, levels = c(\"EDev\",\"Adult\",\"Shared\"))\n"
   ]
  },
  {
   "cell_type": "code",
   "execution_count": 30,
   "metadata": {},
   "outputs": [],
   "source": [
    "fwrite(mashr9,\"~/projects/Resource/notebooks/toGitHub/sourcedata/SOURCEDATA.FIGURE3C.txt\",sep=\"\\t\",row.names=F,quote=F)"
   ]
  },
  {
   "cell_type": "code",
   "execution_count": 231,
   "metadata": {},
   "outputs": [
    {
     "data": {
      "text/html": [
       "0"
      ],
      "text/latex": [
       "0"
      ],
      "text/markdown": [
       "0"
      ],
      "text/plain": [
       "[1] 0"
      ]
     },
     "metadata": {},
     "output_type": "display_data"
    },
    {
     "data": {
      "text/html": [
       "0"
      ],
      "text/latex": [
       "0"
      ],
      "text/markdown": [
       "0"
      ],
      "text/plain": [
       "[1] 0"
      ]
     },
     "metadata": {},
     "output_type": "display_data"
    },
    {
     "data": {
      "text/html": [
       "1.90508401030251e-212"
      ],
      "text/latex": [
       "1.90508401030251e-212"
      ],
      "text/markdown": [
       "1.90508401030251e-212"
      ],
      "text/plain": [
       "[1] 1.905084e-212"
      ]
     },
     "metadata": {},
     "output_type": "display_data"
    },
    {
     "data": {
      "text/html": [
       "0"
      ],
      "text/latex": [
       "0"
      ],
      "text/markdown": [
       "0"
      ],
      "text/plain": [
       "[1] 0"
      ]
     },
     "metadata": {},
     "output_type": "display_data"
    }
   ],
   "source": [
    "wilcox.test(mashr9$dist[ mashr9$AdjCategory == \"EDev\"],\n",
    "           mashr9$dist[ mashr9$AdjCategory == \"Adult\"])$p.value\n",
    "\n",
    "wilcox.test(mashr9$dist[ mashr9$AdjCategory == \"EDev\"],\n",
    "           mashr9$dist[ mashr9$AdjCategory == \"Shared\"])$p.value\n",
    "\n",
    "wilcox.test(mashr9$dist[ mashr9$AdjCategory == \"Adult\"],\n",
    "           mashr9$dist[ mashr9$AdjCategory == \"Shared\"])$p.value\n",
    "\n",
    "wilcox.test(mashr9$dist[ mashr9$AdjCategory == \"Shared\"],\n",
    "           mashr9$dist[ mashr9$AdjCategory != \"Shared\"])$p.value"
   ]
  },
  {
   "cell_type": "code",
   "execution_count": 232,
   "metadata": {},
   "outputs": [
    {
     "data": {
      "text/html": [
       "220.765"
      ],
      "text/latex": [
       "220.765"
      ],
      "text/markdown": [
       "220.765"
      ],
      "text/plain": [
       "[1] 220.765"
      ]
     },
     "metadata": {},
     "output_type": "display_data"
    },
    {
     "data": {
      "text/html": [
       "20.125"
      ],
      "text/latex": [
       "20.125"
      ],
      "text/markdown": [
       "20.125"
      ],
      "text/plain": [
       "[1] 20.125"
      ]
     },
     "metadata": {},
     "output_type": "display_data"
    },
    {
     "data": {
      "text/html": [
       "7.257"
      ],
      "text/latex": [
       "7.257"
      ],
      "text/markdown": [
       "7.257"
      ],
      "text/plain": [
       "[1] 7.257"
      ]
     },
     "metadata": {},
     "output_type": "display_data"
    }
   ],
   "source": [
    "median(mashr9$dist[ mashr9$Category == \"EDev\"])/1000\n",
    "median(mashr9$dist[ mashr9$Category == \"Adult\"])/1000\n",
    "median(mashr9$dist[ mashr9$Category == \"Shared\"])/1000"
   ]
  },
  {
   "cell_type": "markdown",
   "metadata": {},
   "source": [
    "## Annotate eQTLs"
   ]
  },
  {
   "cell_type": "code",
   "execution_count": 44,
   "metadata": {},
   "outputs": [
    {
     "data": {
      "text/plain": [
       "                \n",
       "                 CVPC iPSC  PPC\n",
       "  EDev            900 1068  248\n",
       "  No Association 1116 3042 2076\n",
       "  Shared         2821 4902 3132"
      ]
     },
     "metadata": {},
     "output_type": "display_data"
    },
    {
     "data": {
      "text/html": [
       "2.25250269479419e-06"
      ],
      "text/latex": [
       "2.25250269479419e-06"
      ],
      "text/markdown": [
       "2.25250269479419e-06"
      ],
      "text/plain": [
       "[1] 2.252503e-06"
      ]
     },
     "metadata": {},
     "output_type": "display_data"
    },
    {
     "data": {
      "text/html": [
       "7.90465922105566e-71"
      ],
      "text/latex": [
       "7.90465922105566e-71"
      ],
      "text/markdown": [
       "7.90465922105566e-71"
      ],
      "text/plain": [
       "[1] 7.904659e-71"
      ]
     },
     "metadata": {},
     "output_type": "display_data"
    },
    {
     "data": {
      "text/html": [
       "1.4497845989729e-15"
      ],
      "text/latex": [
       "1.4497845989729e-15"
      ],
      "text/markdown": [
       "1.4497845989729e-15"
      ],
      "text/plain": [
       "[1] 1.449785e-15"
      ]
     },
     "metadata": {},
     "output_type": "display_data"
    }
   ],
   "source": [
    "filtered_qtls = fread(\"analyses/tim/gwas_coloc/scripts/qtls_090424.txt\",sep=\"\\t\",data.table=F)\n",
    "eqtls = filtered_qtls[ filtered_qtls$type == 0 & grepl(\"^E\",filtered_qtls$element_id),]\n",
    "\n",
    "eqtls$gene_id = gsub(\".[0-9]+$\",\"\",eqtls$element_id)\n",
    "eqtls$variant_id = eqtls$id\n",
    "eqtls$gene_variant = paste(eqtls$gene_id, eqtls$variant_id)\n",
    "\n",
    "\n",
    "eqtls$Category = ifelse(eqtls$gene_variant %in% mashr5$gene_variant[ mashr5$AdjCategory == \"EDev\"], \"EDev\",\n",
    "                       ifelse(eqtls$gene_variant %in% mashr5$gene_variant[ mashr5$AdjCategory == \"Shared\"], \"Shared\",\"No Association\"))\n",
    "\n",
    "table(eqtls$Category, eqtls$tissue)    \n",
    "eqtls$tissue = factor(eqtls$tissue, levels = c(\"iPSC\",\"CVPC\",\"PPC\"))\n",
    "psize(3,3)\n",
    "\n",
    "wilcox.test(abs(eqtls$beta[ eqtls$Category == \"EDev\" & eqtls$tissue == \"iPSC\"]),\n",
    "               abs(eqtls$beta[ eqtls$Category == \"Shared\"& eqtls$tissue == \"iPSC\"]))$p.value\n",
    "wilcox.test(abs(eqtls$beta[ eqtls$Category == \"EDev\" & eqtls$tissue == \"CVPC\"]),\n",
    "               abs(eqtls$beta[ eqtls$Category == \"Shared\"& eqtls$tissue == \"CVPC\"]))$p.value\n",
    "wilcox.test(abs(eqtls$beta[ eqtls$Category == \"EDev\" & eqtls$tissue == \"PPC\"]),\n",
    "               abs(eqtls$beta[ eqtls$Category == \"Shared\"& eqtls$tissue == \"PPC\"]))$p.value"
   ]
  },
  {
   "cell_type": "code",
   "execution_count": 50,
   "metadata": {},
   "outputs": [],
   "source": [
    "fwrite(eqtls[eqtls$Category %in% c(\"EDev\",\"Shared\"),c(\"element_id\",\"tissue\",\"beta\",\"Category\",\"path\")],\n",
    "       \"~/projects/Resource/notebooks/toGitHub/sourcedata/SOURCEDATA.FIGURE3E.txt\",\n",
    "       sep=\"\\t\",row.names=F,quote=F)"
   ]
  }
 ],
 "metadata": {
  "kernelspec": {
   "display_name": "R 4.0.1",
   "language": "R",
   "name": "ir40"
  },
  "language_info": {
   "codemirror_mode": "r",
   "file_extension": ".r",
   "mimetype": "text/x-r-source",
   "name": "R",
   "pygments_lexer": "r",
   "version": "4.0.1"
  }
 },
 "nbformat": 4,
 "nbformat_minor": 2
}
