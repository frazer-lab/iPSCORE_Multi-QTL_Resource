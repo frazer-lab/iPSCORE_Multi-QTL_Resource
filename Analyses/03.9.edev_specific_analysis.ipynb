{
 "cells": [
  {
   "cell_type": "code",
   "execution_count": 110,
   "metadata": {},
   "outputs": [],
   "source": [
    "source(\"~/software/notebook_assist/functions.R\")\n",
    "source(\"~/software/notebook_assist/packages.R\")\n",
    "\n",
    "setwd(\"/projects/CARDIPS/analysis/epigenome_resource/\")\n",
    "\n",
    "\n",
    "theme_bw2 = theme_bw() +\n",
    "    theme(\n",
    "        axis.text = element_text(size = 12),\n",
    "        strip.text = element_text(size = 12),\n",
    "        axis.title = element_text(size = 12),\n",
    "        legend.text = element_text(size = 12),\n",
    "        legend.title = element_text(size = 12),\n",
    "        legend.position = \"top\"\n",
    "    )\n",
    "\n",
    "\n",
    "ipscore_gtex_leadvar_path=\"analyses/jennifer/ipscore_unique_qtls/mashr/2024_0911/input/ipscore_gtex_leadvars_stats.txt\"\n",
    "leads = fread(ipscore_gtex_leadvar_path,sep=\"\\t\",data.table = F)"
   ]
  },
  {
   "cell_type": "code",
   "execution_count": 111,
   "metadata": {},
   "outputs": [
    {
     "data": {
      "text/plain": [
       "\n",
       " Adult   EDev Shared \n",
       " 27881   2299  72195 "
      ]
     },
     "metadata": {},
     "output_type": "display_data"
    }
   ],
   "source": [
    "\n",
    "mashr_result_path=\"analyses/jennifer/ipscore_unique_qtls/mashr/2024_0911/results/mashr_results.txt\"## Found on Figshare\n",
    "mashr = fread(mashr_result_path,sep=\"\\t\",data.table=F)\n",
    "\n",
    "mashr$gene_id = str_extract(mashr$gene_variant, \"^ENSG[0-9]+\") \n",
    "mashr$variant_id = str_extract(mashr$gene_variant, \"VAR_[0-9]+_[0-9]+_[A-Z]_[A-Z]\") \n",
    "\n",
    "### calculate minimum lfsr for iPSCORE and GTEX tissues and across all tissues\n",
    "mashr$min_ipscore_lfsr = rowMins(data.matrix(mashr[,6:8]))\n",
    "mashr$min_adult_lfsr    = rowMins(data.matrix(mashr[,c(9:55)]))\n",
    "mashr$min_lfsr         = rowMins(data.matrix(mashr[,c(6:55)]))\n",
    "\n",
    "### filter SNP-eGene pairs that are not significant and not tested in both tissues\n",
    "mashr2 = mashr[ mashr$min_lfsr <= 0.05 & mashr$ngtex_tested > 0 & mashr$nipscore_tested > 0 , ]\n",
    "\n",
    "### assign temporal annotations to mashr output \n",
    "mashr2$Category = ifelse(mashr2$min_adult_lfsr <= 0.05 & mashr2$min_ipscore_lfsr <= 0.05, \"Shared\",\n",
    "                              ifelse(mashr2$min_adult_lfsr >= 0.05 & mashr2$min_ipscore_lfsr <= 0.05, \"EDev\",\n",
    "                                    ifelse(mashr2$min_adult_lfsr <= 0.05 & mashr2$min_ipscore_lfsr >= 0.05,\n",
    "                                           \"Adult\", \"Not Significant\")))\n",
    "\n",
    "mashr2$variant_id = gsub(\"VAR_\",\"\",str_extract(mashr2$gene_variant, \"VAR_.*\"))\n",
    "table(mashr2$Category)"
   ]
  },
  {
   "cell_type": "code",
   "execution_count": 112,
   "metadata": {},
   "outputs": [
    {
     "name": "stderr",
     "output_type": "stream",
     "text": [
      "Warning message:\n",
      "“The dcast generic in data.table has been passed a data.frame and will attempt to redirect to the relevant reshape2 method; please note that reshape2 is superseded and is no longer actively developed, and this redirection is now deprecated. Please do this redirection yourself like reshape2::dcast(assigned_leads). In the next version, this warning will become an error.”\n",
      "Warning message:\n",
      "“The melt generic in data.table has been passed a matrix and will attempt to redirect to the relevant reshape2 method; please note that reshape2 is superseded and is no longer actively developed, and this redirection is now deprecated. To continue using melt methods from reshape2 while both libraries are attached, e.g. melt.list, you can prepend the namespace, i.e. reshape2::melt(edev_cor). In the next version, this warning will become an error.”\n",
      "Warning message:\n",
      "“The melt generic in data.table has been passed a matrix and will attempt to redirect to the relevant reshape2 method; please note that reshape2 is superseded and is no longer actively developed, and this redirection is now deprecated. To continue using melt methods from reshape2 while both libraries are attached, e.g. melt.list, you can prepend the namespace, i.e. reshape2::melt(shar_cor). In the next version, this warning will become an error.”\n",
      "Warning message:\n",
      "“The melt generic in data.table has been passed a matrix and will attempt to redirect to the relevant reshape2 method; please note that reshape2 is superseded and is no longer actively developed, and this redirection is now deprecated. To continue using melt methods from reshape2 while both libraries are attached, e.g. melt.list, you can prepend the namespace, i.e. reshape2::melt(adult_cor). In the next version, this warning will become an error.”\n"
     ]
    },
    {
     "data": {
      "text/html": [
       "<table class=\"dataframe\">\n",
       "<caption>A tibble: 3 × 2</caption>\n",
       "<thead>\n",
       "\t<tr><th scope=col>QTL Specificity</th><th scope=col>mean_r</th></tr>\n",
       "\t<tr><th scope=col>&lt;fct&gt;</th><th scope=col>&lt;dbl&gt;</th></tr>\n",
       "</thead>\n",
       "<tbody>\n",
       "\t<tr><td>EDev  </td><td>0.001222009</td></tr>\n",
       "\t<tr><td>Adult </td><td>0.006931362</td></tr>\n",
       "\t<tr><td>Shared</td><td>0.278946015</td></tr>\n",
       "</tbody>\n",
       "</table>\n"
      ],
      "text/latex": [
       "A tibble: 3 × 2\n",
       "\\begin{tabular}{ll}\n",
       " QTL Specificity & mean\\_r\\\\\n",
       " <fct> & <dbl>\\\\\n",
       "\\hline\n",
       "\t EDev   & 0.001222009\\\\\n",
       "\t Adult  & 0.006931362\\\\\n",
       "\t Shared & 0.278946015\\\\\n",
       "\\end{tabular}\n"
      ],
      "text/markdown": [
       "\n",
       "A tibble: 3 × 2\n",
       "\n",
       "| QTL Specificity &lt;fct&gt; | mean_r &lt;dbl&gt; |\n",
       "|---|---|\n",
       "| EDev   | 0.001222009 |\n",
       "| Adult  | 0.006931362 |\n",
       "| Shared | 0.278946015 |\n",
       "\n"
      ],
      "text/plain": [
       "  QTL Specificity mean_r     \n",
       "1 EDev            0.001222009\n",
       "2 Adult           0.006931362\n",
       "3 Shared          0.278946015"
      ]
     },
     "metadata": {},
     "output_type": "display_data"
    },
    {
     "data": {
      "text/html": [
       "2.94247396295668e-22"
      ],
      "text/latex": [
       "2.94247396295668e-22"
      ],
      "text/markdown": [
       "2.94247396295668e-22"
      ],
      "text/plain": [
       "[1] 2.942474e-22"
      ]
     },
     "metadata": {},
     "output_type": "display_data"
    },
    {
     "data": {
      "text/html": [
       "4.78470422073959e-126"
      ],
      "text/latex": [
       "4.78470422073959e-126"
      ],
      "text/markdown": [
       "4.78470422073959e-126"
      ],
      "text/plain": [
       "[1] 4.784704e-126"
      ]
     },
     "metadata": {},
     "output_type": "display_data"
    },
    {
     "data": {
      "text/html": [
       "5.77222114699589e-128"
      ],
      "text/latex": [
       "5.77222114699589e-128"
      ],
      "text/markdown": [
       "5.77222114699589e-128"
      ],
      "text/plain": [
       "[1] 5.772221e-128"
      ]
     },
     "metadata": {},
     "output_type": "display_data"
    },
    {
     "data": {
      "image/png": "[encoded data removed]",
      "text/plain": [
       "plot without title"
      ]
     },
     "metadata": {
      "image/png": {
       "height": 420,
       "width": 420
      }
     },
     "output_type": "display_data"
    }
   ],
   "source": [
    "assigned_leads = leads[ leads$gene_variant %in% mashr2$gene_variant, ]\n",
    "\n",
    "assigned_leads$Study = ifelse(assigned_leads$tissue %in% c(\"iPSC\",\"CVPC\",\"PPC\"),\n",
    "                             \"iPSCORE\",\"GTEx\")\n",
    "agged_leads = assigned_leads %>% group_by(gene_id, Study) %>% top_n(1,-log10(pval)) %>% sample_n(1)\n",
    "assigned_leads2 = assigned_leads[ assigned_leads$gene_variant %in% agged_leads$gene_variant,]\n",
    "\n",
    "lead_cast = dcast(gene_variant~ tissue, data = assigned_leads, fun.aggregate = sum,value.var = \"beta\")\n",
    "rownames(lead_cast) = lead_cast$gene_variant\n",
    "lead_cast$gene_variant = NULL\n",
    "edev_cor = cor(lead_cast[ rownames(lead_cast) %in% mashr2$gene_variant[ mashr2$Category == \"EDev\"],])\n",
    "\n",
    "shar_cor = cor(lead_cast[ rownames(lead_cast) %in% mashr2$gene_variant[ mashr2$Category == \"Shared\"],])\n",
    "adult_cor = cor(lead_cast[ rownames(lead_cast) %in% mashr2$gene_variant[ mashr2$Category == \"Adult\"],])\n",
    "\n",
    "\n",
    "edev_melt = melt(edev_cor)\n",
    "edev_melt$Type = \"EDev\"\n",
    "shar_melt = melt(shar_cor)\n",
    "shar_melt$Type = \"Shared\"\n",
    "adult_melt = melt(adult_cor)\n",
    "adult_melt$Type = \"Adult\"\n",
    "\n",
    "melted = rbind(rbind(edev_melt,shar_melt),adult_melt) %>% filter(Var1 != Var2)\n",
    "melted$Tissue1 = as.character(melted$Var1)\n",
    "melted$Tissue2 = as.character(melted$Var2)\n",
    "melted$r2 = melted$value**2\n",
    "melted$Var1 = NULL\n",
    "melted$Var2 = NULL\n",
    "melted2 = melted[!duplicated(apply(melted,1,function(x) paste(sort(x),collapse=''))),]\n",
    "melted3 = melted2[ melted2$Tissue1 %in% c(\"iPSC\",\"CVPC\",\"PPC\") |  melted2$Tissue2 %in% c(\"iPSC\",\"CVPC\",\"PPC\"),]\n",
    "melted4 = melted3 [ !(melted3$Tissue1 == \"iPSC\" &  melted3$Tissue2 == \"CVPC\") &\n",
    "                     !(melted3$Tissue1 == \"PPC\" &  melted3$Tissue2 == \"iPSC\") &\n",
    "                     !(melted3$Tissue1 == \"PPC\" &  melted3$Tissue2 == \"CVPC\"),]\n",
    "melted4$`iPSCORE Tissue` = ifelse(melted4$Tissue1 %in% c(\"iPSC\",\"CVPC\",\"PPC\"), melted4$Tissue1,\n",
    "                                  ifelse(melted4$Tissue2 %in% c(\"iPSC\",\"CVPC\",\"PPC\"), melted4$Tissue2, NA))\n",
    "melted4$`iPSCORE Tissue` = factor(melted4$`iPSCORE Tissue`, levels = c(\"iPSC\",\"CVPC\",\"PPC\"))\n",
    "melted4$`QTL Specificity` = factor(melted4$Type, levels = c(\"EDev\",\"Adult\",\"Shared\"))\n",
    "melted4 %>% group_by(`QTL Specificity`) %>% summarise(mean_r = mean(r2))\n",
    "    \n",
    "ggplot(melted4, aes(`QTL Specificity`, r2, group=`QTL Specificity`)) + theme_bw2 + \n",
    "        ylim(c(0,0.4)) + xlab(\"Specificity\") +\n",
    "        ylab(bquote('Correlation'~(r^2))) +  geom_jitter(size=0.75) \n",
    "    \n",
    "t.test(melted4$r2[ melted4$`QTL Specificity` == \"EDev\"],\n",
    "      melted4$r2[ melted4$`QTL Specificity` == \"Adult\"])$p.value\n",
    "\n",
    "t.test(melted4$r2[ melted4$`QTL Specificity` == \"EDev\"],\n",
    "      melted4$r2[ melted4$`QTL Specificity` == \"Shared\"])$p.value\n",
    "\n",
    "t.test(melted4$r2[ melted4$`QTL Specificity` == \"Adult\"],\n",
    "      melted4$r2[ melted4$`QTL Specificity` == \"Shared\"])$p.value"
   ]
  },
  {
   "cell_type": "code",
   "execution_count": 113,
   "metadata": {},
   "outputs": [
    {
     "data": {
      "text/plain": [
       "\n",
       "          EDev No Association         Shared \n",
       "          2269           6038          10998 "
      ]
     },
     "metadata": {},
     "output_type": "display_data"
    },
    {
     "data": {
      "text/plain": [
       "\n",
       "          EDev No Association         Shared \n",
       "          2046           6542          10717 "
      ]
     },
     "metadata": {},
     "output_type": "display_data"
    },
    {
     "data": {
      "text/plain": [
       "      \n",
       "       EDev No Association Shared\n",
       "  CVPC  855           1158   2824\n",
       "  iPSC  951           3224   4837\n",
       "  PPC   240           2160   3056"
      ]
     },
     "metadata": {},
     "output_type": "display_data"
    }
   ],
   "source": [
    "library(readxl)\n",
    "eqtls = read_xlsx(\"~/projects/Resource/RevisionTables/TableS4.xlsx\") %>% \n",
    "            filter(QTL_Order == \"Primary\" & QTL_Type == \"eQTL\") %>% select(Tissue, Element_ID,Cluster_ID,SNP_ID, \n",
    "                                                                           SNP_Chromosome,SNP_Position,P_value,Effect_Size )\n",
    "eqtls$tissue_element = paste(eqtls$Tissue, eqtls$Element_ID,sep=\"_\")\n",
    "eqtls$gene_variant = paste(str_extract(eqtls$Element_ID, \"ENSG[0-9]+\"),eqtls$SNP_ID)\n",
    "\n",
    "eqtls$Category = ifelse(eqtls$gene_variant %in% mashr2$gene_variant[ mashr2$Category == \"EDev\"], \"EDev\",\n",
    "                       ifelse(eqtls$gene_variant %in% mashr2$gene_variant[ mashr2$Category == \"Shared\"], \"Shared\",\"No Association\"))\n",
    "\n",
    "eqtls_temporal = eqtls[ eqtls$Category != \"No Association\",]\n",
    "\n",
    "cat_dups = unique(eqtls_temporal[,c(\"Cluster_ID\",\"Category\")])\n",
    "cat_dups = eqtls_temporal[ eqtls_temporal$Cluster_ID %in% names(table(eqtls_temporal$Cluster_ID ))[ \n",
    "                    table(eqtls_temporal$Cluster_ID ) > 1],]\n",
    "\n",
    "\n",
    "no_assoc = eqtls$Cluster_ID[ eqtls$Category == \"No Association\"]\n",
    "table(eqtls$Category)\n",
    "eqtls$Stage_Specificity = ifelse(eqtls$Cluster_ID %in% no_assoc, \"No Association\",\n",
    "                           ifelse(eqtls$Cluster_ID %in% cat_dups$Cluster_ID, \"Shared\",eqtls$Category)) \n",
    "table(eqtls$Stage_Specificity)\n",
    "table(eqtls$Tissue,eqtls$Stage_Specificity)\n",
    "\n",
    "\n",
    "table(eqtls$Stage_Specificity, eqtls$Tissue)    \n",
    "eqtls$Tissue = factor(eqtls$Tissue, levels = c(\"iPSC\",\"CVPC\",\"PPC\"))\n",
    "psize(3,3)\n",
    "\n",
    "wilcox.test(abs(eqtls$beta[ eqtls$Category == \"EDev\" & eqtls$tissue == \"iPSC\"]),\n",
    "               abs(eqtls$beta[ eqtls$Category == \"Shared\"& eqtls$tissue == \"iPSC\"]))$p.value\n",
    "wilcox.test(abs(eqtls$beta[ eqtls$Category == \"EDev\" & eqtls$tissue == \"CVPC\"]),\n",
    "               abs(eqtls$beta[ eqtls$Category == \"Shared\"& eqtls$tissue == \"CVPC\"]))$p.value\n",
    "wilcox.test(abs(eqtls$beta[ eqtls$Category == \"EDev\" & eqtls$tissue == \"PPC\"]),\n",
    "               abs(eqtls$beta[ eqtls$Category == \"Shared\"& eqtls$tissue == \"PPC\"]))$p.value"
   ]
  },
  {
   "cell_type": "code",
   "execution_count": null,
   "metadata": {},
   "outputs": [],
   "source": [
    "### Calculate EDev-specific GWAS\n",
    "\n",
    "gwas = fread(\"~/projects/Resource/Figshare/all_results.qtl_coloc.2024_0925.txt\",sep=\"\\t\",data.table=F)\n",
    "gwas$Stage_specificity = ifelse(gwas$Cluster_ID %in% eqtls$Cluster_ID[ eqtls$Stage_Specificity == \"EDev\"],\"EDev\",\n",
    "                   ifelse(gwas$Cluster_ID %in% eqtls$Cluster_ID[ eqtls$Stage_Specificity == \"Shared\"],\"Shared\",\"No association\"))\n",
    "\n",
    "\n",
    "gwas_index = unique(gwas[ grepl(\"eQTL\",gwas$qtl_combo_collapse) ,c(\"Stage_specificity\",\"index_trait\") ])\n",
    "shared_index = unique(gwas_index$index_trait[ gwas_index$Stage_specificity == \"Shared\"])\n",
    "edev_index = unique(gwas_index$index_trait[ gwas_index$Stage_specificity == \"EDev\"])\n",
    "gwas_index$Specificity_collapse = ifelse(gwas_index$index_trait %in% shared_index, \"Shared\",\n",
    "                                        ifelse(gwas_index$index_trait %in% edev_index, \"EDev\",\"No association\"))\n",
    "gwas_index2 = unique(gwas_index[, c(\"Specificity_collapse\",\"index_trait\")])\n",
    "sum(table(gwas_index2$Specificity_collapse))\n",
    "table(gwas_index2$Specificity_collapse)"
   ]
  }
 ],
 "metadata": {
  "kernelspec": {
   "display_name": "R 4.0.1",
   "language": "R",
   "name": "ir40"
  },
  "language_info": {
   "codemirror_mode": "r",
   "file_extension": ".r",
   "mimetype": "text/x-r-source",
   "name": "R",
   "pygments_lexer": "r",
   "version": "4.0.1"
  }
 },
 "nbformat": 4,
 "nbformat_minor": 2
}
