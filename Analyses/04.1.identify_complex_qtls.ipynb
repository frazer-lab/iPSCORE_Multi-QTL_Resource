{
 "cells": [
  {
   "cell_type": "code",
   "execution_count": 1,
   "metadata": {},
   "outputs": [],
   "source": [
    "source(\"~/software/notebook_assist/functions.R\")\n",
    "source(\"~/software/notebook_assist/packages.R\")\n",
    "setwd(\"/projects/CARDIPS/analysis/epigenome_resource/\")\n",
    "suppressPackageStartupMessages(library(igraph))"
   ]
  },
  {
   "cell_type": "code",
   "execution_count": 2,
   "metadata": {},
   "outputs": [],
   "source": [
    "theme_bw2 = theme_bw() +\n",
    "    theme(\n",
    "        axis.text = element_text(size = 10),\n",
    "        strip.text = element_text(size = 10),\n",
    "        axis.title = element_text(size = 10),\n",
    "        legend.text = element_text(size = 10),\n",
    "        legend.title = element_text(size = 10),\n",
    "        legend.position = \"top\"\n",
    "    )"
   ]
  },
  {
   "cell_type": "code",
   "execution_count": 3,
   "metadata": {},
   "outputs": [],
   "source": [
    "primary_qtls = fread(\"analyses/tim/ld_modules/scripts/filtered_qtls_09042024.txt\",sep=\"\\t\",data.table=F) %>% filter(type == 0)\n",
    "primary_qtls$snpid = gsub(\"VAR_\",\"\",primary_qtls$id)\n",
    "primary_qtls$chrom = as.numeric(str_extract(primary_qtls$snpid, \"^[0-9]+\"))\n"
   ]
  },
  {
   "cell_type": "markdown",
   "metadata": {},
   "source": [
    "### Write lead SNPs to files by chromosome\n",
    "### run 04.0.calculate_lead_ld_for_modules.sh"
   ]
  },
  {
   "cell_type": "code",
   "execution_count": 6,
   "metadata": {},
   "outputs": [],
   "source": [
    "for (i in 1:22) {\n",
    "    chr_snps = primary_qtls[ primary_qtls$chrom == i,]\n",
    "    writeLines(chr_snps$snpid, paste0(\"analyses/tim/ld_modules/lead_variant_ld/chr\",i,\".snps\"))\n",
    "}"
   ]
  },
  {
   "cell_type": "markdown",
   "metadata": {},
   "source": [
    "### Find pairs of lead variants that are in LD >0.8 and within 100kb"
   ]
  },
  {
   "cell_type": "code",
   "execution_count": 5,
   "metadata": {},
   "outputs": [],
   "source": [
    "ld_lead = as.data.frame(rbindlist(lapply(1:22, function(x){\n",
    "    ld = fread(paste0(\"analyses/tim/ld_modules/lead_variant_ld/chr\",x,\"_ld.ld\"),sep=\" \",data.table=F)\n",
    "    inld = ld[ ld$R2 >= 0.8 , ]\n",
    "    inld$distance = abs(as.numeric(gsub(\"_.*\",\"\",gsub(\"^[0-9]+_\",\"\",inld$SNP_A))) - as.numeric(gsub(\"_.*\",\"\",gsub(\"^[0-9]+_\",\"\",inld$SNP_B))))\n",
    "\n",
    "    return(inld[ inld$distance <= 100000,])\n",
    "})))"
   ]
  },
  {
   "cell_type": "code",
   "execution_count": 6,
   "metadata": {},
   "outputs": [
    {
     "data": {
      "text/html": [
       "7609"
      ],
      "text/latex": [
       "7609"
      ],
      "text/markdown": [
       "7609"
      ],
      "text/plain": [
       "[1] 7609"
      ]
     },
     "metadata": {},
     "output_type": "display_data"
    }
   ],
   "source": [
    "primary_qtls$qtl_id = paste( primary_qtls$element_id,primary_qtls$type, sep=\"_\")\n",
    "\n",
    "key1 = primary_qtls[,c(\"qtl_id\",\"snpid\",\"tissue\",\"element_id\")]\n",
    "colnames(key1) = c(\"QTL1_ID\",\"SNP_A\",\"Tissue1\", \"Element1\")\n",
    "key2 = primary_qtls[,c(\"qtl_id\",\"snpid\",\"tissue\",\"element_id\")]\n",
    "colnames(key2) = c(\"QTL2_ID\",\"SNP_B\",\"Tissue2\", \"Element2\")\n",
    "\n",
    "ld_lead2 = merge(merge(ld_lead,key1),key2, by=\"SNP_B\") %>% \n",
    "                filter(Tissue1 == Tissue2 & Element1 != Element2 )\n"
   ]
  },
  {
   "cell_type": "markdown",
   "metadata": {},
   "source": [
    "### Account for qElements with same lead variant"
   ]
  },
  {
   "cell_type": "code",
   "execution_count": 8,
   "metadata": {},
   "outputs": [],
   "source": [
    "exact_match = function(Tissue){\n",
    "    df = primary_qtls[ primary_qtls$tissue == Tissue,]\n",
    "    em = df[ df$id %in% names(table(df$id))[ table(df$id) > 1],]\n",
    "    by_variant = rbindlist(lapply(unique(em$id), function(y){\n",
    "        bv = em[ em$id == y, ]\n",
    "        bv_edges = as.data.frame(t(combn(bv$qtl_id, 2)))\n",
    "        colnames(bv_edges) = c(\"QTL1_ID\",\"QTL2_ID\")\n",
    "        bv_edges$R2 = 1\n",
    "        bv_edges$distance = 0\n",
    "        return(bv_edges)\n",
    "    }))\n",
    "    return(by_variant)\n",
    "}\n",
    "\n",
    "\n",
    "ipsc_exact = exact_match(\"iPSC\")\n",
    "cvpc_exact = exact_match(\"CVPC\")\n",
    "ppc_exact = exact_match(\"PPC\")"
   ]
  },
  {
   "cell_type": "markdown",
   "metadata": {},
   "source": [
    "### make edges and vertices for network construction"
   ]
  },
  {
   "cell_type": "code",
   "execution_count": 9,
   "metadata": {},
   "outputs": [],
   "source": [
    "process_edges = function( tissue, same_edges) {\n",
    "    edges = ld_lead2[ ld_lead2$Tissue1 == tissue,c(\"QTL1_ID\",\"QTL2_ID\",\"R2\",\"distance\")]\n",
    "    edges$QTL1_ID = gsub(paste0(tissue,\"_\"),\"\",edges$QTL1_ID)\n",
    "    edges$QTL2_ID = gsub(paste0(tissue,\"_\"),\"\",edges$QTL2_ID)\n",
    "    edges2 = rbind(edges,same_edges)\n",
    "    return(as.data.frame(edges2))\n",
    "}\n",
    "\n",
    "process_vertices = function(Tissue) {\n",
    "    verts = primary_qtls %>% filter(tissue == Tissue) %>% select(qtl_id, snpid)\n",
    "    verts$qtl_id = gsub(paste0(Tissue,\"_\"),\"\",verts$qtl_id)\n",
    "    return(as.data.frame(verts))\n",
    "}\n",
    "\n",
    "ipsc_verts = process_vertices(\"iPSC\")\n",
    "ipsc_edges = process_edges(\"iPSC\", ipsc_exact)\n",
    "\n",
    "cvpc_verts = process_vertices(\"CVPC\")\n",
    "cvpc_edges = process_edges(\"CVPC\", cvpc_exact)\n",
    "\n",
    "ppc_verts = process_vertices(\"PPC\")\n",
    "ppc_edges = process_edges(\"PPC\", ppc_exact)"
   ]
  },
  {
   "cell_type": "code",
   "execution_count": 30,
   "metadata": {},
   "outputs": [
    {
     "data": {
      "text/html": [
       "3179"
      ],
      "text/latex": [
       "3179"
      ],
      "text/markdown": [
       "3179"
      ],
      "text/plain": [
       "[1] 3179"
      ]
     },
     "metadata": {},
     "output_type": "display_data"
    },
    {
     "data": {
      "text/html": [
       "6558"
      ],
      "text/latex": [
       "6558"
      ],
      "text/markdown": [
       "6558"
      ],
      "text/plain": [
       "[1] 6558"
      ]
     },
     "metadata": {},
     "output_type": "display_data"
    },
    {
     "data": {
      "text/html": [
       "1897"
      ],
      "text/latex": [
       "1897"
      ],
      "text/markdown": [
       "1897"
      ],
      "text/plain": [
       "[1] 1897"
      ]
     },
     "metadata": {},
     "output_type": "display_data"
    },
    {
     "data": {
      "text/html": [
       "11634"
      ],
      "text/latex": [
       "11634"
      ],
      "text/markdown": [
       "11634"
      ],
      "text/plain": [
       "[1] 11634"
      ]
     },
     "metadata": {},
     "output_type": "display_data"
    }
   ],
   "source": [
    "nrow(ipsc_edges)\n",
    "nrow(cvpc_edges)\n",
    "nrow(ppc_edges)\n"
   ]
  },
  {
   "cell_type": "markdown",
   "metadata": {},
   "source": [
    "### Construct networks and cluster to identify complex QTLs by module membership"
   ]
  },
  {
   "cell_type": "code",
   "execution_count": 11,
   "metadata": {},
   "outputs": [],
   "source": [
    "process_clusters <- function(net, clusters) {\n",
    "    all_degrees <- degree(net)\n",
    "    cl <- data.frame(id = names(membership(clusters)))\n",
    "    cl$cluster <- membership(clusters)\n",
    "    cl$degree <- all_degrees[cl$id]\n",
    "    return(cl)\n",
    "}\n",
    "\n",
    "make_networks = function(summaries, qtl_df) {\n",
    "    edges = summaries[ , c(\"QTL1_ID\",\"QTL2_ID\",\"R2\")]\n",
    "    colnames(edges) = c(\"id1\",\"id2\",\"weight\")\n",
    "    \n",
    "    verts = data.frame(id = intersect(qtl_df$qtl_id, c(edges$id1,edges$id2)))\n",
    "    verts$datatype = ifelse(grepl(\"^E\",verts$id) == \"TRUE\",\"RNA\",\n",
    "                            ifelse(grepl(\"atac\",verts$id) == \"TRUE\",\"ATAC\",\"ChIP\"))\n",
    "    \n",
    "    net = graph_from_data_frame(edges, directed = FALSE, vertices = verts)\n",
    "    clusterlouvain = cluster_louvain(net)\n",
    "    \n",
    "    #new \n",
    "    all_degrees <- degree(net)\n",
    "    cl <- data.frame(id = names(membership(clusterlouvain)))\n",
    "    cl$cluster_id <- membership(clusterlouvain)\n",
    "    cl$degree <- all_degrees[cl$id]\n",
    "    return(cl)\n",
    "}\n",
    "\n",
    "\n",
    "ipsc_clusters = make_networks(ipsc_edges, ipsc_verts) %>% group_by(cluster_id)%>% mutate(n_members = length(id))\n",
    "cvpc_clusters = make_networks(cvpc_edges, cvpc_verts) %>% group_by(cluster_id) %>% mutate(n_members = length(id))\n",
    "ppc_clusters = make_networks(ppc_edges, ppc_verts) %>% group_by(cluster_id) %>% mutate(n_members = length(id))\n",
    "\n",
    "\n",
    "new_ids = function(df, qtl_df) {\n",
    "    df2 = df[ order(-df$n_members), ]\n",
    "    df3 = merge(df2, \n",
    "                data.frame(cluster_id = unique(df2$cluster_id), \n",
    "                           new_id = seq(1,length(unique(df2$cluster_id)),1)))\n",
    "    df3$cluster_id = NULL\n",
    "    df3$extended_id = NULL\n",
    "    add_start = max(df3$new_id) + 1\n",
    "    singletons = setdiff(qtl_df$qtl_id, df3$id)\n",
    "    \n",
    "    add_on = data.frame(id = singletons, degree = 0, n_members = 1,\n",
    "                        new_id = seq(add_start,add_start+length(singletons)-1,1))\n",
    "    df4 = rbind(df3, add_on)\n",
    "    df5 = df4[ order(df4$new_id, df4$degree),]\n",
    "    colnames(df5) = c(\"element_cond\",\"degree\",\"n_members\",\"cluster_id\")\n",
    "    df5$element_id = gsub(\"_[0-3]$\",\"\",df5$element_cond)\n",
    "    df6 = df5[, c(\"element_id\",\"element_cond\",\"cluster_id\",\"degree\",\"n_members\")] %>% \n",
    "                group_by(cluster_id, element_id) %>% \n",
    "                mutate(n_occur = length(element_id))\n",
    "    return(df6)\n",
    "}\n",
    "\n",
    "\n",
    "ipsc_clusters2 = new_ids(ipsc_clusters, ipsc_verts)\n",
    "cvpc_clusters2 = new_ids(cvpc_clusters, cvpc_verts)\n",
    "ppc_clusters2 = new_ids(ppc_clusters, ppc_verts)"
   ]
  },
  {
   "cell_type": "code",
   "execution_count": null,
   "metadata": {},
   "outputs": [],
   "source": []
  },
  {
   "cell_type": "code",
   "execution_count": 32,
   "metadata": {},
   "outputs": [
    {
     "data": {
      "text/html": [
       "189"
      ],
      "text/latex": [
       "189"
      ],
      "text/markdown": [
       "189"
      ],
      "text/plain": [
       "[1] 189"
      ]
     },
     "metadata": {},
     "output_type": "display_data"
    }
   ],
   "source": [
    "clean_modules = function(tissue, df) {\n",
    "    df$Tissue = tissue\n",
    "    df$Cluster_ID = paste(df$Tissue, df$cluster_id,sep=\"_\")\n",
    "    df$Element_ID = df$element_id\n",
    "    df$qElement_Type = ifelse(grepl(\"atac\",df$element_id), \"caPeak\",\n",
    "                                    ifelse(grepl(\"chip\",df$element_id), \"haPeak\",\"eGene\"))\n",
    "    df$Complexity   = ifelse(df$n_members > 1, \"Complex\",\"Singleton\")\n",
    "    df$qElements_inQTL = df$n_members\n",
    "    \n",
    "    return(df[,7:12])\n",
    "}\n",
    "\n",
    "all_modules = rbind(rbind(clean_modules(\"iPSC\",ipsc_clusters2),\n",
    "                          clean_modules(\"CVPC\",cvpc_clusters2)),\n",
    "                    clean_modules(\"PPC\",ppc_clusters2))\n",
    "length(unique(all_modules$Cluster_ID[ all_modules$qElements_inQTL >= 5]))"
   ]
  },
  {
   "cell_type": "code",
   "execution_count": 44,
   "metadata": {},
   "outputs": [],
   "source": [
    "### this was updated to identify nominated QTL, see below\n",
    "fwrite(all_modules,\"analyses/tim/ld_modules/modules/all_modules_090424.txt\",sep=\"\\t\",row.names=F,quote=F)"
   ]
  },
  {
   "cell_type": "code",
   "execution_count": 83,
   "metadata": {},
   "outputs": [],
   "source": [
    "all_modules = fread(\"analyses/tim/ld_modules/modules/all_modules_090424.txt\",sep=\"\\t\",data.table=F)\n",
    "all_modules$tissue_element = paste(all_modules$Tissue, all_modules$Element_ID, sep=\"_\")\n"
   ]
  },
  {
   "cell_type": "code",
   "execution_count": 88,
   "metadata": {},
   "outputs": [
    {
     "data": {
      "text/plain": [
       "\n",
       "FALSE  TRUE \n",
       "  776 59530 "
      ]
     },
     "metadata": {},
     "output_type": "display_data"
    }
   ],
   "source": [
    "all_modules2 = merge(all_modules, primary_qtls[,c(\"tissue_element\",\"in1kg\")])\n",
    "table(all_modules2$in1kg)"
   ]
  },
  {
   "cell_type": "markdown",
   "metadata": {},
   "source": [
    "### Nominate random signal from each complex QTL for GWAS colocalization"
   ]
  },
  {
   "cell_type": "code",
   "execution_count": 110,
   "metadata": {},
   "outputs": [],
   "source": [
    "all_modules3 = rbindlist(lapply(unique(all_modules2$Cluster_ID), function(cl_id){\n",
    "    tmp = all_modules2 [ all_modules2$Cluster_ID == cl_id,]\n",
    "    if (nrow(tmp[ tmp$in1kg == \"TRUE\",] >= 1)) {\n",
    "        out = tmp[ tmp$in1kg == \"TRUE\",]\n",
    "        out = out[sample(nrow(out), 1), ]\n",
    "    } else {\n",
    "        out = tmp [sample(nrow(tmp), 1), ]  \n",
    "    }\n",
    "                          \n",
    "    return(out)\n",
    "}))\n"
   ]
  },
  {
   "cell_type": "code",
   "execution_count": 113,
   "metadata": {},
   "outputs": [],
   "source": [
    "all_modules2$Nominated = ifelse(all_modules2$tissue_element %in% all_modules3$tissue_element, \"TRUE\",\"FALSE\")"
   ]
  },
  {
   "cell_type": "code",
   "execution_count": 115,
   "metadata": {},
   "outputs": [],
   "source": [
    "all_modules4 = rbindlist(lapply(unique(all_modules2$Cluster_ID), function(cl_id){\n",
    "    tmp = all_modules2 [ all_modules2$Cluster_ID == cl_id,]\n",
    "    tmp$qtl_type = ifelse(tmp$qElement_Type == \"caPeak\",\"caQTL\",\n",
    "                         ifelse(tmp$qElement_Type == \"haPeak\",\"haQTL\",\"eQTL\"))\n",
    "    tmp$qtl_combo = paste(sort(unique(tmp$qtl_type)), collapse = \"-\")\n",
    "    return(tmp)\n",
    "    }))"
   ]
  },
  {
   "cell_type": "code",
   "execution_count": 121,
   "metadata": {},
   "outputs": [],
   "source": [
    "### Used in manuscript, cleaned up in supplemental table\n",
    "fwrite(all_modules4,\"analyses/tim/ld_modules/modules/all_modules_091124.txt\",sep=\"\\t\",row.names=F,quote=F)"
   ]
  }
 ],
 "metadata": {
  "kernelspec": {
   "display_name": "R 4.0.1",
   "language": "R",
   "name": "ir40"
  },
  "language_info": {
   "codemirror_mode": "r",
   "file_extension": ".r",
   "mimetype": "text/x-r-source",
   "name": "R",
   "pygments_lexer": "r",
   "version": "4.0.1"
  }
 },
 "nbformat": 4,
 "nbformat_minor": 2
}
