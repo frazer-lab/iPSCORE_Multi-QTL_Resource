{
 "cells": [
  {
   "cell_type": "code",
   "execution_count": 18,
   "metadata": {},
   "outputs": [],
   "source": [
    "source(\"~/software/notebook_assist/functions.R\")\n",
    "source(\"~/software/notebook_assist/packages.R\")\n",
    "setwd(\"/projects/CARDIPS/analysis/epigenome_resource/\")\n",
    "suppressPackageStartupMessages(library(igraph))"
   ]
  },
  {
   "cell_type": "code",
   "execution_count": 19,
   "metadata": {},
   "outputs": [],
   "source": [
    "theme_bw2 = theme_bw() +\n",
    "    theme(\n",
    "        axis.text = element_text(size = 10),\n",
    "        strip.text = element_text(size = 10),\n",
    "        axis.title = element_text(size = 10),\n",
    "        legend.text = element_text(size = 10),\n",
    "        legend.title = element_text(size = 10),\n",
    "        legend.position = \"top\"\n",
    "    )"
   ]
  },
  {
   "cell_type": "code",
   "execution_count": 20,
   "metadata": {},
   "outputs": [
    {
     "name": "stderr",
     "output_type": "stream",
     "text": [
      "\u001b[1m\u001b[22m`summarise()` has grouped output by 'Tissue'. You can override using the\n",
      "`.groups` argument.\n"
     ]
    }
   ],
   "source": [
    "### can get from supplemental table\n",
    "all_modules = fread(\"analyses/tim/ld_modules/modules/all_modules_091124.txt\",sep=\"\\t\",data.table=F)\n",
    "\n",
    "\n",
    "cluster_hist = all_modules %>% group_by(Tissue,Cluster_ID) %>% summarize(n_qtls = length(qElement_Type))\n",
    "\n",
    "cluster_hist$NoQTLs = ifelse(cluster_hist$n_qtls >= 10, \">=10\",cluster_hist$n_qtls)\n",
    "\n",
    "cluster_hist2 = as.data.frame(table(cluster_hist$Tissue, cluster_hist$NoQTLs)) %>% \n",
    "                    rename(Tissue = Var1, qElements_inQTL = Var2, No_ComplexQTLs = Freq) %>% \n",
    "                    filter(qElements_inQTL != 1)\n",
    "\n",
    "cluster_hist2$Tissue = factor(cluster_hist2$Tissue, levels = rev(c(\"iPSC\",\"CVPC\",\"PPC\")))\n",
    "cluster_hist2$qElements_inQTL = factor(cluster_hist2$qElements_inQTL, levels = rev(c(1:9,\">=10\")))\n",
    "fwrite(cluster_hist2,\"~/projects/Resource/notebooks/toGitHub/sourcedata/SOURCEDATA.FIGURE4A.txt\",\n",
    "       sep=\"\\t\",row.names=F,quote=F)\n",
    "\n"
   ]
  },
  {
   "cell_type": "code",
   "execution_count": 6,
   "metadata": {},
   "outputs": [],
   "source": [
    "all_modules$cluster_number = as.numeric(str_extract(all_modules$Cluster_ID,\"[0-9]+\"))\n",
    "ipsc_clusters3 = all_modules %>% filter(Tissue == \"iPSC\")\n",
    "\n",
    "cvpc_clusters3 = all_modules %>% filter(Tissue == \"CVPC\")\n",
    "ppc_clusters3 = all_modules %>% filter(Tissue == \"PPC\")\n",
    "\n",
    "\n",
    "cluster_composition =  function(x, df){\n",
    "    cluster = unique(df[ df$cluster_number == x, ] %>% group_by(qElement_Type) %>% \n",
    "                mutate(n_qelement = n()) %>% select(Cluster_ID, qElement_Type, n_qelement))\n",
    "    cluster$qElement = factor(cluster$qElement_Type, levels = c(\"eGene\",\"caPeak\",\"haPeak\"))\n",
    "\n",
    "    return(cluster)\n",
    "}\n",
    "\n",
    "ipsc_clustcomp = rbindlist(lapply(1:max(ipsc_clusters3$cluster_number[ ipsc_clusters3$qElements_inQTL > 1]) , cluster_composition, \n",
    "                                  df = ipsc_clusters3))"
   ]
  },
  {
   "cell_type": "code",
   "execution_count": 7,
   "metadata": {},
   "outputs": [],
   "source": [
    "cvpc_clustcomp = rbindlist(lapply(1:max(cvpc_clusters3$cluster_number[cvpc_clusters3$qElements_inQTL > 1]) , cluster_composition, \n",
    "                                  df = cvpc_clusters3))\n",
    "\n",
    "ppc_clustcomp = rbindlist(lapply(1:max(ppc_clusters3$cluster_number[ppc_clusters3$qElements_inQTL > 1]) , cluster_composition, \n",
    "                                  df = ppc_clusters3))"
   ]
  },
  {
   "cell_type": "code",
   "execution_count": 13,
   "metadata": {},
   "outputs": [],
   "source": [
    "annotate_modules = function(clustcomp, tissue) {\n",
    "    cast = dcast(Cluster_ID ~ qElement_Type, data = clustcomp, value.var = \"n_qelement\", fun.aggregate = sum)\n",
    "    if( tissue != \"PPC\") {\n",
    "    cast$Annotation = ifelse(cast$eGene > 0 & cast$caPeak > 0 & cast$haPeak > 0, \"eGene,caPeak,haPeak\",\n",
    "                             ifelse(cast$eGene > 0 & cast$caPeak > 0 & cast$haPeak == 0, \"eGene,caPeak\",\n",
    "                             ifelse(cast$eGene > 0 & cast$caPeak == 0 & cast$haPeak > 0, \"eGene,haPeak\",\n",
    "                            ifelse(cast$eGene == 0 & cast$caPeak > 0 & cast$haPeak > 0, \"caPeak,haPeak\",\n",
    "                            ifelse(cast$eGene > 0 & cast$caPeak == 0 & cast$haPeak == 0, \"eGene\",\n",
    "                                  ifelse(cast$eGene == 0 & cast$caPeak > 0 & cast$haPeak == 0, \"caPeak\",\"haPeak\"))))))\n",
    "        } else {\n",
    "        cast$Annotation = ifelse(cast$eGene > 0 & cast$caPeak > 0, \"eGene,caPeak\",\n",
    "                            ifelse(cast$eGene > 0 & cast$caPeak == 0 , \"eGene\",\"caPeak\"))\n",
    "    }\n",
    "    cast$Tissue = tissue\n",
    "    return(cast)\n",
    "\n",
    "}\n",
    "\n",
    "ipsc_annot = annotate_modules(ipsc_clustcomp, \"iPSC\")\n",
    "\n",
    "cvpc_annot = annotate_modules(cvpc_clustcomp,\"CVPC\")\n",
    "ppc_annot = annotate_modules(ppc_clustcomp,\"PPC\")\n",
    "\n",
    "all_annot = as.data.frame(rbind(rbind(ipsc_annot[,c(\"Tissue\",\"Cluster_ID\",\"Annotation\")],\n",
    "                        cvpc_annot[,c(\"Tissue\",\"Cluster_ID\",\"Annotation\")]),\n",
    "                  ppc_annot[,c(\"Tissue\",\"Cluster_ID\",\"Annotation\")]))"
   ]
  },
  {
   "cell_type": "code",
   "execution_count": 16,
   "metadata": {},
   "outputs": [],
   "source": [
    "fwrite(all_annot,\"~/projects/Resource/notebooks/toGitHub/sourcedata/SOURCEDATA.FIGURE4BCD.txt\",sep=\"\\t\",row.names=F,quote=F)"
   ]
  },
  {
   "cell_type": "code",
   "execution_count": null,
   "metadata": {},
   "outputs": [],
   "source": []
  },
  {
   "cell_type": "code",
   "execution_count": null,
   "metadata": {},
   "outputs": [],
   "source": []
  }
 ],
 "metadata": {
  "kernelspec": {
   "display_name": "R 4.0.1",
   "language": "R",
   "name": "ir40"
  },
  "language_info": {
   "codemirror_mode": "r",
   "file_extension": ".r",
   "mimetype": "text/x-r-source",
   "name": "R",
   "pygments_lexer": "r",
   "version": "4.0.1"
  }
 },
 "nbformat": 4,
 "nbformat_minor": 2
}
