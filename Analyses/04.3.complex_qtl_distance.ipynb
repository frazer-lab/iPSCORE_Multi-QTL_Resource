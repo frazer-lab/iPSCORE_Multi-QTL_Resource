{
 "cells": [
  {
   "cell_type": "code",
   "execution_count": 3,
   "metadata": {},
   "outputs": [],
   "source": [
    "source(\"~/software/notebook_assist/functions.R\")\n",
    "source(\"~/software/notebook_assist/packages.R\")\n",
    "setwd(\"/projects/CARDIPS/analysis/epigenome_resource/\")\n",
    "\n",
    "theme_bw2 = theme_bw() +\n",
    "    theme(\n",
    "        axis.text = element_text(size = 10),\n",
    "        strip.text = element_text(size = 10),\n",
    "        axis.title = element_text(size = 10),\n",
    "        legend.text = element_text(size = 10),\n",
    "        legend.title = element_text(size = 10),\n",
    "        legend.position = \"top\"\n",
    "    )\n",
    "\n",
    "bedtools=\"/frazer01/software/bedtools-2.25.0/bin/bedtools\"\n",
    "\n",
    "all_modules = fread(\"analyses/tim/ld_modules/modules/all_modules_091124.txt\",sep=\"\\t\",data.table=F)\n",
    "gene_info = fread(\"eqtls/iPSC/input/phenotype_info.txt\",sep=\"\\t\",data.table=F) %>% \n",
    "                mutate(tss_start = ifelse(strand == \"+\",start-3,end),\n",
    "                      tss_end    = ifelse(strand == \"+\",start,end+3)) %>%\n",
    "                select(chrom,tss_start,tss_end, gene_id) \n",
    "colnames(gene_info) = paste0(\"V\",1:4)\n",
    "\n",
    "atac_info = as.data.frame(rbindlist(lapply(c(\"iPSC\",\"CVPC\",\"PPC\"), function(tissue) {\n",
    "    df = fread(paste(\"caqtls\",tissue,\"input/phenotype_info.bed\",sep=\"/\"),sep=\"\\t\")\n",
    "    return(df)\n",
    "})))\n",
    "\n",
    "chip_info = as.data.frame(rbindlist(lapply(c(\"iPSC\",\"CVPC\"), function(tissue) {\n",
    "    df = fread(paste(\"haqtls\",tissue,\"input/phenotype_info.bed\",sep=\"/\"),sep=\"\\t\")\n",
    "    return(df)\n",
    "})))\n",
    "\n",
    "pheno_info = as.data.frame(rbindlist(list(gene_info, atac_info, chip_info)))\n",
    "\n",
    "\n",
    "cvpc_expressed = readRDS(\"eqtls/CVPC/step_4/qtl_by_element/qtl_input.rds\")$phenotype_info\n",
    "cvpc_expressed2 = gene_info[ gene_info$V4 %in% cvpc_expressed$element_id, ]\n",
    "colnames(pheno_info) = c(\"Chromosome\",\"Start\",\"End\",\"Element_ID\")\n",
    "\n",
    "primary_qtls = fread(\"analyses/tim/ld_modules/scripts/filtered_qtls_09042024.txt\",sep=\"\\t\",data.table=F) %>% filter(type == 0)\n",
    "primary_qtls$snpid = gsub(\"VAR_\",\"\",primary_qtls$id)\n",
    "primary_qtls$chrom = as.numeric(str_extract(primary_qtls$snpid, \"^[0-9]+\"))\n",
    "primary_qtls2 = primary_qtls %>% select(element_id,snp_id,pos, tissue) %>% rename(`Element_ID` = element_id, Tissue = tissue)\n",
    "\n",
    "\n",
    "all_modules2 = merge(merge(all_modules,primary_qtls2,by=c(\"Element_ID\",\"Tissue\")),pheno_info)\n",
    "\n",
    "cvpc_modules = all_modules2 %>% filter(Tissue == \"CVPC\")\n",
    "cvpc_phenos = pheno_info[ pheno_info$Element_ID %in% cvpc_modules$Element_ID,]\n",
    "\n",
    "# cvpc_chrom_phenos = cvpc_phenos#[ !grepl(\"^E\",cvpc_phenos$Element_ID),] %>% arrange(Chromosome, Start, End)\n",
    "\n",
    "egene_path <- tempfile()\n",
    "qpeak_path <- tempfile()\n",
    "\n",
    "write.table(cvpc_expressed2 %>% arrange(V1,V2,V3), egene_path, sep = \"\\t\", col.names = FALSE, row.names = FALSE, quote = FALSE)\n",
    "write.table(cvpc_phenos %>% arrange(Chromosome, Start, End), qpeak_path, sep = \"\\t\", col.names = FALSE, row.names = FALSE, quote = FALSE)\n",
    "\n",
    "cmd <- sprintf('%s closest -a %s -b %s -d', bedtools, qpeak_path, egene_path)\n",
    "\n",
    "result <- fread(cmd = cmd)\n",
    "\n",
    "unlink(c(egene_path, qpeak_path))\n",
    "\n",
    "cvpc_modules2 = merge(cvpc_modules,result[,4:8],by.x=\"Element_ID\",by.y=\"V4\")\n",
    "cvpc_modules3 = mutate(cvpc_modules2, min_distance = ifelse(\n",
    "  pos >= V6 & pos <= V7,\n",
    "  0,\n",
    "  pmin(abs(pos - V6), abs(pos - V7))\n",
    "))\n",
    "\n",
    "cvpc_modules_eqtls = cvpc_modules[ cvpc_modules$qElement_Type == \"eGene\",]\n",
    "cvpc_modules_eqtls2 = mutate(cvpc_modules_eqtls, min_distance = ifelse(\n",
    "  pos >= Start & pos <= End,\n",
    "  0,\n",
    "  pmin(abs(pos - Start), abs(pos - End))\n",
    "))\n",
    "\n",
    "cvpc_modules4 = unique(cvpc_modules3[,c(\"qElement_Type\",\"Complexity\",\"V8\",\"min_distance\")])"
   ]
  },
  {
   "cell_type": "code",
   "execution_count": 7,
   "metadata": {},
   "outputs": [
    {
     "data": {
      "text/html": [
       "998672"
      ],
      "text/latex": [
       "998672"
      ],
      "text/markdown": [
       "998672"
      ],
      "text/plain": [
       "[1] 998672"
      ]
     },
     "metadata": {},
     "output_type": "display_data"
    }
   ],
   "source": [
    "cvpc_modules5 = cvpc_modules4 %>% group_by(qElement_Type) %>% \n",
    "                    filter(ifelse(qElement_Type == \"eGene\", min_distance < 1000000, min_distance < 100000))\n",
    "max(cvpc_modules5$min_distance)\n",
    "\n",
    "fwrite(cvpc_modules5, \"~/projects/Resource/notebooks/toGitHub/sourcedata/SOURCEDATA.FIGURE4E.txt\",\n",
    "       sep=\"\\t\",row.names=F,quote=F)\n"
   ]
  },
  {
   "cell_type": "code",
   "execution_count": 5,
   "metadata": {},
   "outputs": [
    {
     "name": "stderr",
     "output_type": "stream",
     "text": [
      "\n",
      "Attaching package: ‘purrr’\n",
      "\n",
      "\n",
      "The following object is masked from ‘package:data.table’:\n",
      "\n",
      "    transpose\n",
      "\n",
      "\n"
     ]
    },
    {
     "data": {
      "text/html": [
       "<table class=\"dataframe\">\n",
       "<caption>A tibble: 3 × 4</caption>\n",
       "<thead>\n",
       "\t<tr><th scope=col>qElement_Type</th><th scope=col>test_result</th><th scope=col>p_value</th><th scope=col>statistic</th></tr>\n",
       "\t<tr><th scope=col>&lt;chr&gt;</th><th scope=col>&lt;list&gt;</th><th scope=col>&lt;dbl&gt;</th><th scope=col>&lt;dbl&gt;</th></tr>\n",
       "</thead>\n",
       "<tbody>\n",
       "\t<tr><td>caPeak</td><td>9651931                                                                          , 2.39687569513366e-44                                                             , 0                                                                                , two.sided                                                                        , Wilcoxon rank sum test with continuity correction                                , min_distance[Complexity == \"Complex\"] and min_distance[Complexity == \"Singleton\"]</td><td>2.396876e-44</td><td>9651931</td></tr>\n",
       "\t<tr><td>eGene </td><td>1818676.5                                                                        , 3.51156270143745e-27                                                             , 0                                                                                , two.sided                                                                        , Wilcoxon rank sum test with continuity correction                                , min_distance[Complexity == \"Complex\"] and min_distance[Complexity == \"Singleton\"]</td><td>3.511563e-27</td><td>1818676</td></tr>\n",
       "\t<tr><td>haPeak</td><td>8149807                                                                          , 9.23323159016615e-13                                                             , 0                                                                                , two.sided                                                                        , Wilcoxon rank sum test with continuity correction                                , min_distance[Complexity == \"Complex\"] and min_distance[Complexity == \"Singleton\"]</td><td>9.233232e-13</td><td>8149807</td></tr>\n",
       "</tbody>\n",
       "</table>\n"
      ],
      "text/latex": [
       "A tibble: 3 × 4\n",
       "\\begin{tabular}{llll}\n",
       " qElement\\_Type & test\\_result & p\\_value & statistic\\\\\n",
       " <chr> & <list> & <dbl> & <dbl>\\\\\n",
       "\\hline\n",
       "\t caPeak & 9651931                                                                          , 2.39687569513366e-44                                                             , 0                                                                                , two.sided                                                                        , Wilcoxon rank sum test with continuity correction                                , min\\_distance{[}Complexity == \"Complex\"{]} and min\\_distance{[}Complexity == \"Singleton\"{]} & 2.396876e-44 & 9651931\\\\\n",
       "\t eGene  & 1818676.5                                                                        , 3.51156270143745e-27                                                             , 0                                                                                , two.sided                                                                        , Wilcoxon rank sum test with continuity correction                                , min\\_distance{[}Complexity == \"Complex\"{]} and min\\_distance{[}Complexity == \"Singleton\"{]} & 3.511563e-27 & 1818676\\\\\n",
       "\t haPeak & 8149807                                                                          , 9.23323159016615e-13                                                             , 0                                                                                , two.sided                                                                        , Wilcoxon rank sum test with continuity correction                                , min\\_distance{[}Complexity == \"Complex\"{]} and min\\_distance{[}Complexity == \"Singleton\"{]} & 9.233232e-13 & 8149807\\\\\n",
       "\\end{tabular}\n"
      ],
      "text/markdown": [
       "\n",
       "A tibble: 3 × 4\n",
       "\n",
       "| qElement_Type &lt;chr&gt; | test_result &lt;list&gt; | p_value &lt;dbl&gt; | statistic &lt;dbl&gt; |\n",
       "|---|---|---|---|\n",
       "| caPeak | 9651931                                                                          , 2.39687569513366e-44                                                             , 0                                                                                , two.sided                                                                        , Wilcoxon rank sum test with continuity correction                                , min_distance[Complexity == \"Complex\"] and min_distance[Complexity == \"Singleton\"] | 2.396876e-44 | 9651931 |\n",
       "| eGene  | 1818676.5                                                                        , 3.51156270143745e-27                                                             , 0                                                                                , two.sided                                                                        , Wilcoxon rank sum test with continuity correction                                , min_distance[Complexity == \"Complex\"] and min_distance[Complexity == \"Singleton\"] | 3.511563e-27 | 1818676 |\n",
       "| haPeak | 8149807                                                                          , 9.23323159016615e-13                                                             , 0                                                                                , two.sided                                                                        , Wilcoxon rank sum test with continuity correction                                , min_distance[Complexity == \"Complex\"] and min_distance[Complexity == \"Singleton\"] | 9.233232e-13 | 8149807 |\n",
       "\n"
      ],
      "text/plain": [
       "  qElement_Type\n",
       "1 caPeak       \n",
       "2 eGene        \n",
       "3 haPeak       \n",
       "  test_result                                                                                                                                                                                                                                                                                                                                                                                                                                                                                                     \n",
       "1 9651931                                                                          , 2.39687569513366e-44                                                             , 0                                                                                , two.sided                                                                        , Wilcoxon rank sum test with continuity correction                                , min_distance[Complexity == \"Complex\"] and min_distance[Complexity == \"Singleton\"]\n",
       "2 1818676.5                                                                        , 3.51156270143745e-27                                                             , 0                                                                                , two.sided                                                                        , Wilcoxon rank sum test with continuity correction                                , min_distance[Complexity == \"Complex\"] and min_distance[Complexity == \"Singleton\"]\n",
       "3 8149807                                                                          , 9.23323159016615e-13                                                             , 0                                                                                , two.sided                                                                        , Wilcoxon rank sum test with continuity correction                                , min_distance[Complexity == \"Complex\"] and min_distance[Complexity == \"Singleton\"]\n",
       "  p_value      statistic\n",
       "1 2.396876e-44 9651931  \n",
       "2 3.511563e-27 1818676  \n",
       "3 9.233232e-13 8149807  "
      ]
     },
     "metadata": {},
     "output_type": "display_data"
    }
   ],
   "source": [
    "library(purrr)\n",
    "results <- cvpc_modules4 %>%\n",
    "  group_by(qElement_Type) %>%\n",
    "  summarise(\n",
    "    test_result = list(\n",
    "      wilcox.test(\n",
    "        min_distance[Complexity == \"Complex\"],\n",
    "        min_distance[Complexity == \"Singleton\"],\n",
    "        alternative = \"two.sided\"\n",
    "      )\n",
    "    ),\n",
    "    .groups = \"drop\"\n",
    "  ) %>%\n",
    "  mutate(\n",
    "    p_value = map_dbl(test_result, ~ .x$p.value),\n",
    "    statistic = map_dbl(test_result, ~ .x$statistic)\n",
    "  )\n",
    "results"
   ]
  }
 ],
 "metadata": {
  "kernelspec": {
   "display_name": "R 4.0.1",
   "language": "R",
   "name": "ir40"
  },
  "language_info": {
   "codemirror_mode": "r",
   "file_extension": ".r",
   "mimetype": "text/x-r-source",
   "name": "R",
   "pygments_lexer": "r",
   "version": "4.0.1"
  }
 },
 "nbformat": 4,
 "nbformat_minor": 2
}
