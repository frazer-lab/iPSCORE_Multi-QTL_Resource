{
 "cells": [
  {
   "cell_type": "code",
   "execution_count": 2,
   "metadata": {},
   "outputs": [
    {
     "name": "stderr",
     "output_type": "stream",
     "text": [
      "This is coloc version 5.2.3\n",
      "\n"
     ]
    }
   ],
   "source": [
    "setwd(\"/projects/CARDIPS/analysis/epigenome_resource\")\n",
    "source(\"analyses/jennifer/notebooks/functions.R\")\n",
    "\n",
    "set.seed(5366)\n",
    "library(coloc)"
   ]
  },
  {
   "cell_type": "markdown",
   "metadata": {},
   "source": [
    "## **Prepare input for GWAS**"
   ]
  },
  {
   "cell_type": "code",
   "execution_count": null,
   "metadata": {},
   "outputs": [],
   "source": [
    "qtls = fread(\"analyses/tim/gwas_coloc/scripts/qtls_090424.txt\", data.table = T)\n",
    "qtls$taskid = c(1:nrow(qtls))\n",
    "qtls$path_exists = file.exists(qtls$path)\n",
    "\n",
    "table(qtls$path_exists)\n",
    "\n",
    "head(qtls,2)\n",
    "\n"
   ]
  },
  {
   "cell_type": "code",
   "execution_count": 10,
   "metadata": {},
   "outputs": [
    {
     "data": {
      "text/plain": [
       "\n",
       " TRUE \n",
       "60306 "
      ]
     },
     "metadata": {},
     "output_type": "display_data"
    }
   ],
   "source": [
    "table(qtls$path_exists)\n",
    "qtls$egene = \"TRUE\"\n",
    "qtls$analysis = qtls$data_type"
   ]
  },
  {
   "cell_type": "markdown",
   "metadata": {},
   "source": [
    "## **Launch job**"
   ]
  },
  {
   "cell_type": "code",
   "execution_count": 5,
   "metadata": {},
   "outputs": [
    {
     "ename": "ERROR",
     "evalue": "Error in nrow(qtls): object 'qtls' not found\n",
     "output_type": "error",
     "traceback": [
      "Error in nrow(qtls): object 'qtls' not found\nTraceback:\n",
      "1. paste(\"qsub -N gwas_coloc2 -t\", paste0(\"1-\", nrow(qtls), \":1\"), \n .     \"-tc 300 -pe smp 2 -V -cwd -o coloc_gwas2.out -e coloc_gwas2.err\", \n .     script, input_file, manifest, outdir)",
      "2. paste0(\"1-\", nrow(qtls), \":1\")",
      "3. nrow(qtls)"
     ]
    }
   ],
   "source": [
    "input_file=\"/projects/CARDIPS/analysis/epigenome_resource/analyses/tim/gwas_coloc/scripts/qtls_090424.txt\"\n",
    "manifest_file=\"/projects/CARDIPS/analysis/epigenome_resource/analyses/jennifer/gwas_independent/subset_manifest.txt\"\n",
    "script=\"path_to_05.1b.run_qtl_gwas_coloc.sh\"\n",
    "outdir=\"/projects/CARDIPS/analysis/epigenome_resource/analyses/tim/gwas_coloc2\"\n",
    "cmd = paste(\"qsub -N gwas_coloc2 -t\", paste0(\"1-\", nrow(qtls), \":1\"), \n",
    "            \"-tc 300 -pe smp 2 -V -cwd -o coloc_gwas2.out -e coloc_gwas2.err\", script, input_file, manifest, outdir)\n",
    "\n",
    "message(cmd)\n",
    "# system(cmd)"
   ]
  },
  {
   "cell_type": "markdown",
   "metadata": {},
   "source": [
    "## **concatenate all GWAS results**"
   ]
  },
  {
   "cell_type": "code",
   "execution_count": 14,
   "metadata": {},
   "outputs": [],
   "source": [
    "tissues = c(\"iPSC\", \"PPC\", \"CVPC\")\n",
    "analyses = c(\"eqtls\", \"caqtls\", \"haqtls\")"
   ]
  },
  {
   "cell_type": "code",
   "execution_count": 15,
   "metadata": {},
   "outputs": [],
   "source": [
    "coloc_results_dir = \"/projects/CARDIPS/analysis/epigenome_resource/analyses/tim/gwas_coloc2/\""
   ]
  },
  {
   "cell_type": "code",
   "execution_count": 17,
   "metadata": {},
   "outputs": [
    {
     "data": {
      "text/plain": [
       "      \n",
       "       caqtls eqtls haqtls\n",
       "  CVPC  11239  4837   8937\n",
       "  iPSC   9053  9012   1459\n",
       "  PPC   10313  5456      0"
      ]
     },
     "metadata": {},
     "output_type": "display_data"
    }
   ],
   "source": [
    "table(qtls$tissue, qtls$data_type)"
   ]
  },
  {
   "cell_type": "code",
   "execution_count": 4,
   "metadata": {},
   "outputs": [],
   "source": [
    "manifest_file = \"analyses/tim/gwas_coloc/scripts/manifest_subset.txt\"\n",
    "manifest = fread(manifest, data.table = F)\n"
   ]
  },
  {
   "cell_type": "code",
   "execution_count": 21,
   "metadata": {},
   "outputs": [
    {
     "name": "stderr",
     "output_type": "stream",
     "text": [
      "eqtls iPSC 9006\n",
      "echo \"Rscript /projects/CARDIPS/analysis/epigenome_resource/analyses/jennifer/notebooks/08.04.summarize_gwas.R --analysis eqtls --tissue iPSC --manifest_file analyses/tim/gwas_coloc/scripts/manifest_subset.txt --coloc_results_dir /projects/CARDIPS/analysis/epigenome_resource/analyses/tim/gwas_coloc2/\" | qsub -N eqtls_iPSC -V -cwd -pe smp 4 -o /frazer01/projects/CARDIPS/analysis/epigenome_resource/analyses/tim/gwas_coloc2/logs/eqtls_iPSC_summarize.out -e /frazer01/projects/CARDIPS/analysis/epigenome_resource/analyses/tim/gwas_coloc2/logs/eqtls_iPSC_summarize.err\n",
      "\n",
      "caqtls iPSC 8996\n",
      "echo \"Rscript /projects/CARDIPS/analysis/epigenome_resource/analyses/jennifer/notebooks/08.04.summarize_gwas.R --analysis caqtls --tissue iPSC --manifest_file analyses/tim/gwas_coloc/scripts/manifest_subset.txt --coloc_results_dir /projects/CARDIPS/analysis/epigenome_resource/analyses/tim/gwas_coloc2/\" | qsub -N caqtls_iPSC -V -cwd -pe smp 4 -o /frazer01/projects/CARDIPS/analysis/epigenome_resource/analyses/tim/gwas_coloc2/logs/caqtls_iPSC_summarize.out -e /frazer01/projects/CARDIPS/analysis/epigenome_resource/analyses/tim/gwas_coloc2/logs/caqtls_iPSC_summarize.err\n",
      "\n",
      "haqtls iPSC 1447\n",
      "echo \"Rscript /projects/CARDIPS/analysis/epigenome_resource/analyses/jennifer/notebooks/08.04.summarize_gwas.R --analysis haqtls --tissue iPSC --manifest_file analyses/tim/gwas_coloc/scripts/manifest_subset.txt --coloc_results_dir /projects/CARDIPS/analysis/epigenome_resource/analyses/tim/gwas_coloc2/\" | qsub -N haqtls_iPSC -V -cwd -pe smp 4 -o /frazer01/projects/CARDIPS/analysis/epigenome_resource/analyses/tim/gwas_coloc2/logs/haqtls_iPSC_summarize.out -e /frazer01/projects/CARDIPS/analysis/epigenome_resource/analyses/tim/gwas_coloc2/logs/haqtls_iPSC_summarize.err\n",
      "\n",
      "eqtls PPC 5453\n",
      "echo \"Rscript /projects/CARDIPS/analysis/epigenome_resource/analyses/jennifer/notebooks/08.04.summarize_gwas.R --analysis eqtls --tissue PPC --manifest_file analyses/tim/gwas_coloc/scripts/manifest_subset.txt --coloc_results_dir /projects/CARDIPS/analysis/epigenome_resource/analyses/tim/gwas_coloc2/\" | qsub -N eqtls_PPC -V -cwd -pe smp 4 -o /frazer01/projects/CARDIPS/analysis/epigenome_resource/analyses/tim/gwas_coloc2/logs/eqtls_PPC_summarize.out -e /frazer01/projects/CARDIPS/analysis/epigenome_resource/analyses/tim/gwas_coloc2/logs/eqtls_PPC_summarize.err\n",
      "\n",
      "caqtls PPC 10242\n",
      "echo \"Rscript /projects/CARDIPS/analysis/epigenome_resource/analyses/jennifer/notebooks/08.04.summarize_gwas.R --analysis caqtls --tissue PPC --manifest_file analyses/tim/gwas_coloc/scripts/manifest_subset.txt --coloc_results_dir /projects/CARDIPS/analysis/epigenome_resource/analyses/tim/gwas_coloc2/\" | qsub -N caqtls_PPC -V -cwd -pe smp 4 -o /frazer01/projects/CARDIPS/analysis/epigenome_resource/analyses/tim/gwas_coloc2/logs/caqtls_PPC_summarize.out -e /frazer01/projects/CARDIPS/analysis/epigenome_resource/analyses/tim/gwas_coloc2/logs/caqtls_PPC_summarize.err\n",
      "\n",
      "haqtls PPC 0\n",
      "eqtls CVPC 4835\n",
      "echo \"Rscript /projects/CARDIPS/analysis/epigenome_resource/analyses/jennifer/notebooks/08.04.summarize_gwas.R --analysis eqtls --tissue CVPC --manifest_file analyses/tim/gwas_coloc/scripts/manifest_subset.txt --coloc_results_dir /projects/CARDIPS/analysis/epigenome_resource/analyses/tim/gwas_coloc2/\" | qsub -N eqtls_CVPC -V -cwd -pe smp 4 -o /frazer01/projects/CARDIPS/analysis/epigenome_resource/analyses/tim/gwas_coloc2/logs/eqtls_CVPC_summarize.out -e /frazer01/projects/CARDIPS/analysis/epigenome_resource/analyses/tim/gwas_coloc2/logs/eqtls_CVPC_summarize.err\n",
      "\n",
      "caqtls CVPC 11186\n",
      "echo \"Rscript /projects/CARDIPS/analysis/epigenome_resource/analyses/jennifer/notebooks/08.04.summarize_gwas.R --analysis caqtls --tissue CVPC --manifest_file analyses/tim/gwas_coloc/scripts/manifest_subset.txt --coloc_results_dir /projects/CARDIPS/analysis/epigenome_resource/analyses/tim/gwas_coloc2/\" | qsub -N caqtls_CVPC -V -cwd -pe smp 4 -o /frazer01/projects/CARDIPS/analysis/epigenome_resource/analyses/tim/gwas_coloc2/logs/caqtls_CVPC_summarize.out -e /frazer01/projects/CARDIPS/analysis/epigenome_resource/analyses/tim/gwas_coloc2/logs/caqtls_CVPC_summarize.err\n",
      "\n",
      "haqtls CVPC 8899\n",
      "echo \"Rscript /projects/CARDIPS/analysis/epigenome_resource/analyses/jennifer/notebooks/08.04.summarize_gwas.R --analysis haqtls --tissue CVPC --manifest_file analyses/tim/gwas_coloc/scripts/manifest_subset.txt --coloc_results_dir /projects/CARDIPS/analysis/epigenome_resource/analyses/tim/gwas_coloc2/\" | qsub -N haqtls_CVPC -V -cwd -pe smp 4 -o /frazer01/projects/CARDIPS/analysis/epigenome_resource/analyses/tim/gwas_coloc2/logs/haqtls_CVPC_summarize.out -e /frazer01/projects/CARDIPS/analysis/epigenome_resource/analyses/tim/gwas_coloc2/logs/haqtls_CVPC_summarize.err\n",
      "\n"
     ]
    }
   ],
   "source": [
    "pipeline = \"/projects/CARDIPS/analysis/epigenome_resource/analyses/jennifer/notebooks/08.04.summarize_gwas.R\"\n",
    "manifest_file = \"analyses/tim/gwas_coloc/scripts/manifest_subset.txt\"\n",
    "\n",
    "for (t in tissues)\n",
    "{\n",
    "    for (a in analyses)\n",
    "    {\n",
    "        files = list.files(paste(\"analyses/tim/gwas_coloc2\", a, t, sep = \"/\"))\n",
    "        message(paste(a, t, length(files)), appendLF = F)\n",
    "        if (length(files) > 0)\n",
    "        {\n",
    "            cmd = paste(\"Rscript\", pipeline, \n",
    "                        \"--analysis\", a, \n",
    "                        \"--tissue\", t, \n",
    "                        \"--manifest_file\", manifest_file, \n",
    "                        \"--coloc_results_dir\", coloc_results_dir)\n",
    "            \n",
    "            log_out = paste(getwd(), \"analyses/tim/gwas_coloc2/logs\", paste(a, t, \"summarize.out\", sep = \"_\"), sep = \"/\")\n",
    "            log_err = paste(getwd(), \"analyses/tim/gwas_coloc2/logs\", paste(a, t, \"summarize.err\", sep = \"_\"), sep = \"/\")\n",
    "            run_qsub(name = paste(a, t, sep = \"_\"), cmd = cmd, threads = 4, log_out = log_out, log_err = log_err, exec = T)\n",
    "        }\n",
    "    }\n",
    "}\n"
   ]
  },
  {
   "cell_type": "markdown",
   "metadata": {},
   "source": [
    "## **aggregate**"
   ]
  },
  {
   "cell_type": "code",
   "execution_count": 29,
   "metadata": {},
   "outputs": [
    {
     "name": "stderr",
     "output_type": "stream",
     "text": [
      "/projects/CARDIPS/analysis/epigenome_resource/analyses/tim/gwas_coloc2//results/eqtls_iPSC_summary.txt\n",
      "\n",
      "iPSC eqtls\n",
      "/projects/CARDIPS/analysis/epigenome_resource/analyses/tim/gwas_coloc2//results/caqtls_iPSC_summary.txt\n",
      "\n",
      "iPSC caqtls\n",
      "/projects/CARDIPS/analysis/epigenome_resource/analyses/tim/gwas_coloc2//results/haqtls_iPSC_summary.txt\n",
      "\n",
      "iPSC haqtls\n",
      "/projects/CARDIPS/analysis/epigenome_resource/analyses/tim/gwas_coloc2//results/eqtls_PPC_summary.txt\n",
      "\n",
      "PPC eqtls\n",
      "/projects/CARDIPS/analysis/epigenome_resource/analyses/tim/gwas_coloc2//results/caqtls_PPC_summary.txt\n",
      "\n",
      "PPC caqtls\n",
      "/projects/CARDIPS/analysis/epigenome_resource/analyses/tim/gwas_coloc2//results/haqtls_PPC_summary.txt\n",
      "\n",
      "Missing PPC haqtls\n",
      "\n",
      "/projects/CARDIPS/analysis/epigenome_resource/analyses/tim/gwas_coloc2//results/eqtls_CVPC_summary.txt\n",
      "\n",
      "CVPC eqtls\n",
      "/projects/CARDIPS/analysis/epigenome_resource/analyses/tim/gwas_coloc2//results/caqtls_CVPC_summary.txt\n",
      "\n",
      "CVPC caqtls\n",
      "/projects/CARDIPS/analysis/epigenome_resource/analyses/tim/gwas_coloc2//results/haqtls_CVPC_summary.txt\n",
      "\n",
      "CVPC haqtls\n"
     ]
    },
    {
     "data": {
      "text/plain": [
       "        \n",
       "           CVPC   iPSC    PPC\n",
       "  caqtls 132222 106759 121376\n",
       "  eqtls   58275 108835  65800\n",
       "  haqtls 105604  17220      0"
      ]
     },
     "metadata": {},
     "output_type": "display_data"
    }
   ],
   "source": [
    "summary = as.data.frame(rbindlist(lapply(tissues, function(t)\n",
    "{\n",
    "    as.data.frame(rbindlist(lapply(analyses, function(a)\n",
    "    {\n",
    "        file = paste(coloc_results_dir, \"results\", paste(paste(a, t, \"summary\", sep = \"_\"), \"txt\", sep = \".\"), sep = \"/\")\n",
    "        message(file)\n",
    "        if (file.exists(file))\n",
    "        {\n",
    "            message(paste(t, a),  appendLF = F)\n",
    "            fread(file, data.table = F)\n",
    "        } else\n",
    "        {\n",
    "            message(paste(\"Missing\", t, a))\n",
    "        }\n",
    "    })))\n",
    "}))) %>% mutate(p.gwas = as.double(p.gwas), p.eqtl = as.double(p.eqtl)) %>% dplyr::rename(type = discovery_order) \n",
    "\n",
    "table(summary$analysis, summary$tissue)"
   ]
  }
 ],
 "metadata": {
  "kernelspec": {
   "display_name": "R 4.2.1",
   "language": "R",
   "name": "ir421"
  },
  "language_info": {
   "codemirror_mode": "r",
   "file_extension": ".r",
   "mimetype": "text/x-r-source",
   "name": "R",
   "pygments_lexer": "r",
   "version": "4.2.1"
  }
 },
 "nbformat": 4,
 "nbformat_minor": 2
}
