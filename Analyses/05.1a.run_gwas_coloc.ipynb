{
 "cells": [
  {
   "cell_type": "code",
   "execution_count": 3,
   "metadata": {},
   "outputs": [
    {
     "name": "stderr",
     "output_type": "stream",
     "text": [
      "This is coloc version 5.2.3\n",
      "\n"
     ]
    }
   ],
   "source": [
    "setwd(\"/projects/CARDIPS/analysis/epigenome_resource\")\n",
    "source(\"analyses/jennifer/notebooks/functions.R\")\n",
    "\n",
    "set.seed(5366)\n",
    "library(coloc)"
   ]
  },
  {
   "cell_type": "markdown",
   "metadata": {},
   "source": [
    "## **Prepare input for GWAS**"
   ]
  },
  {
   "cell_type": "code",
   "execution_count": 6,
   "metadata": {},
   "outputs": [
    {
     "data": {
      "text/plain": [
       "\n",
       " TRUE \n",
       "59693 "
      ]
     },
     "metadata": {},
     "output_type": "display_data"
    },
    {
     "data": {
      "text/html": [
       "<table class=\"dataframe\">\n",
       "<caption>A data.table: 2 × 25</caption>\n",
       "<thead>\n",
       "\t<tr><th scope=col>element_id</th><th scope=col>id</th><th scope=col>chrom</th><th scope=col>pos</th><th scope=col>ref</th><th scope=col>alt</th><th scope=col>rsid</th><th scope=col>genotyped</th><th scope=col>af</th><th scope=col>beta</th><th scope=col>⋯</th><th scope=col>type</th><th scope=col>new_egene</th><th scope=col>tissue</th><th scope=col>tissue_qtl_id</th><th scope=col>tissue_element</th><th scope=col>test</th><th scope=col>datatype</th><th scope=col>path</th><th scope=col>taskid</th><th scope=col>path_exists</th></tr>\n",
       "\t<tr><th scope=col>&lt;chr&gt;</th><th scope=col>&lt;chr&gt;</th><th scope=col>&lt;chr&gt;</th><th scope=col>&lt;int&gt;</th><th scope=col>&lt;chr&gt;</th><th scope=col>&lt;chr&gt;</th><th scope=col>&lt;chr&gt;</th><th scope=col>&lt;int&gt;</th><th scope=col>&lt;dbl&gt;</th><th scope=col>&lt;dbl&gt;</th><th scope=col>⋯</th><th scope=col>&lt;int&gt;</th><th scope=col>&lt;lgl&gt;</th><th scope=col>&lt;chr&gt;</th><th scope=col>&lt;chr&gt;</th><th scope=col>&lt;chr&gt;</th><th scope=col>&lt;chr&gt;</th><th scope=col>&lt;chr&gt;</th><th scope=col>&lt;chr&gt;</th><th scope=col>&lt;int&gt;</th><th scope=col>&lt;lgl&gt;</th></tr>\n",
       "</thead>\n",
       "<tbody>\n",
       "\t<tr><td>ENSG00000000460.17</td><td>VAR_1_169804722_A_C</td><td>chr1</td><td>169804722</td><td>A</td><td>C</td><td>rs12142505</td><td>1</td><td>0.0805861</td><td>0.8196584</td><td>⋯</td><td>0</td><td>TRUE</td><td>iPSC</td><td>iPSC_ENSG00000000460.17_0</td><td>iPSC_ENSG00000000460.17</td><td>original</td><td>eqtls</td><td>/projects/CARDIPS/analysis/epigenome_resource/eqtls/iPSC/step_4/qtl_by_element/qtl/qtl.ENSG00000000460.17.txt</td><td>1</td><td>TRUE</td></tr>\n",
       "\t<tr><td>ENSG00000000938.13</td><td>VAR_1_27564022_A_G </td><td>chr1</td><td> 27564022</td><td>A</td><td>G</td><td>rs12146138</td><td>1</td><td>0.0567766</td><td>1.5833789</td><td>⋯</td><td>0</td><td>TRUE</td><td>iPSC</td><td>iPSC_ENSG00000000938.13_0</td><td>iPSC_ENSG00000000938.13</td><td>original</td><td>eqtls</td><td>/projects/CARDIPS/analysis/epigenome_resource/eqtls/iPSC/step_4/qtl_by_element/qtl/qtl.ENSG00000000938.13.txt</td><td>2</td><td>TRUE</td></tr>\n",
       "</tbody>\n",
       "</table>\n"
      ],
      "text/latex": [
       "A data.table: 2 × 25\n",
       "\\begin{tabular}{lllllllllllllllllllll}\n",
       " element\\_id & id & chrom & pos & ref & alt & rsid & genotyped & af & beta & ⋯ & type & new\\_egene & tissue & tissue\\_qtl\\_id & tissue\\_element & test & datatype & path & taskid & path\\_exists\\\\\n",
       " <chr> & <chr> & <chr> & <int> & <chr> & <chr> & <chr> & <int> & <dbl> & <dbl> & ⋯ & <int> & <lgl> & <chr> & <chr> & <chr> & <chr> & <chr> & <chr> & <int> & <lgl>\\\\\n",
       "\\hline\n",
       "\t ENSG00000000460.17 & VAR\\_1\\_169804722\\_A\\_C & chr1 & 169804722 & A & C & rs12142505 & 1 & 0.0805861 & 0.8196584 & ⋯ & 0 & TRUE & iPSC & iPSC\\_ENSG00000000460.17\\_0 & iPSC\\_ENSG00000000460.17 & original & eqtls & /projects/CARDIPS/analysis/epigenome\\_resource/eqtls/iPSC/step\\_4/qtl\\_by\\_element/qtl/qtl.ENSG00000000460.17.txt & 1 & TRUE\\\\\n",
       "\t ENSG00000000938.13 & VAR\\_1\\_27564022\\_A\\_G  & chr1 &  27564022 & A & G & rs12146138 & 1 & 0.0567766 & 1.5833789 & ⋯ & 0 & TRUE & iPSC & iPSC\\_ENSG00000000938.13\\_0 & iPSC\\_ENSG00000000938.13 & original & eqtls & /projects/CARDIPS/analysis/epigenome\\_resource/eqtls/iPSC/step\\_4/qtl\\_by\\_element/qtl/qtl.ENSG00000000938.13.txt & 2 & TRUE\\\\\n",
       "\\end{tabular}\n"
      ],
      "text/markdown": [
       "\n",
       "A data.table: 2 × 25\n",
       "\n",
       "| element_id &lt;chr&gt; | id &lt;chr&gt; | chrom &lt;chr&gt; | pos &lt;int&gt; | ref &lt;chr&gt; | alt &lt;chr&gt; | rsid &lt;chr&gt; | genotyped &lt;int&gt; | af &lt;dbl&gt; | beta &lt;dbl&gt; | ⋯ ⋯ | type &lt;int&gt; | new_egene &lt;lgl&gt; | tissue &lt;chr&gt; | tissue_qtl_id &lt;chr&gt; | tissue_element &lt;chr&gt; | test &lt;chr&gt; | datatype &lt;chr&gt; | path &lt;chr&gt; | taskid &lt;int&gt; | path_exists &lt;lgl&gt; |\n",
       "|---|---|---|---|---|---|---|---|---|---|---|---|---|---|---|---|---|---|---|---|---|\n",
       "| ENSG00000000460.17 | VAR_1_169804722_A_C | chr1 | 169804722 | A | C | rs12142505 | 1 | 0.0805861 | 0.8196584 | ⋯ | 0 | TRUE | iPSC | iPSC_ENSG00000000460.17_0 | iPSC_ENSG00000000460.17 | original | eqtls | /projects/CARDIPS/analysis/epigenome_resource/eqtls/iPSC/step_4/qtl_by_element/qtl/qtl.ENSG00000000460.17.txt | 1 | TRUE |\n",
       "| ENSG00000000938.13 | VAR_1_27564022_A_G  | chr1 |  27564022 | A | G | rs12146138 | 1 | 0.0567766 | 1.5833789 | ⋯ | 0 | TRUE | iPSC | iPSC_ENSG00000000938.13_0 | iPSC_ENSG00000000938.13 | original | eqtls | /projects/CARDIPS/analysis/epigenome_resource/eqtls/iPSC/step_4/qtl_by_element/qtl/qtl.ENSG00000000938.13.txt | 2 | TRUE |\n",
       "\n"
      ],
      "text/plain": [
       "  element_id         id                  chrom pos       ref alt rsid      \n",
       "1 ENSG00000000460.17 VAR_1_169804722_A_C chr1  169804722 A   C   rs12142505\n",
       "2 ENSG00000000938.13 VAR_1_27564022_A_G  chr1   27564022 A   G   rs12146138\n",
       "  genotyped af        beta      ⋯ type new_egene tissue\n",
       "1 1         0.0805861 0.8196584 ⋯ 0    TRUE      iPSC  \n",
       "2 1         0.0567766 1.5833789 ⋯ 0    TRUE      iPSC  \n",
       "  tissue_qtl_id             tissue_element          test     datatype\n",
       "1 iPSC_ENSG00000000460.17_0 iPSC_ENSG00000000460.17 original eqtls   \n",
       "2 iPSC_ENSG00000000938.13_0 iPSC_ENSG00000000938.13 original eqtls   \n",
       "  path                                                                                                         \n",
       "1 /projects/CARDIPS/analysis/epigenome_resource/eqtls/iPSC/step_4/qtl_by_element/qtl/qtl.ENSG00000000460.17.txt\n",
       "2 /projects/CARDIPS/analysis/epigenome_resource/eqtls/iPSC/step_4/qtl_by_element/qtl/qtl.ENSG00000000938.13.txt\n",
       "  taskid path_exists\n",
       "1 1      TRUE       \n",
       "2 2      TRUE       "
      ]
     },
     "metadata": {},
     "output_type": "display_data"
    }
   ],
   "source": [
    "qtls = fread(\"analyses/tim/ld_modules/scripts/primary_qtls.txt\", data.table = T)\n",
    "qtls$taskid = c(1:nrow(qtls))\n",
    "qtls$path_exists = file.exists(qtls$path)\n",
    "\n",
    "table(qtls$path_exists)\n",
    "\n",
    "head(qtls,2)\n",
    "\n",
    "fwrite(qtls, \"analyses/jennifer/gwas_coloc/input/qtls_to_coloc_with_gwas.txt\", row.names = F, sep = \"\\t\")"
   ]
  },
  {
   "cell_type": "markdown",
   "metadata": {},
   "source": [
    "## **Launch job**"
   ]
  },
  {
   "cell_type": "code",
   "execution_count": 92,
   "metadata": {},
   "outputs": [
    {
     "name": "stderr",
     "output_type": "stream",
     "text": [
      "qsub -N gwas_coloc -t 1-59693:1 -tc 300 -pe smp 2 -l short -V -cwd -o analyses/jennifer/logs/coloc_gwas.out -e analyses/jennifer/logs/coloc_gwas.err /projects/CARDIPS/analysis/epigenome_resource/analyses/jennifer/notebooks/08.03.run_qtl_gwas_coloc.sh /projects/CARDIPS/analysis/epigenome_resource/analyses/jennifer/gwas_coloc/input/qtls_to_coloc_with_gwas.txt /projects/CARDIPS/analysis/epigenome_resource/analyses/jennifer/gwas_independent/subset_manifest.txt /projects/CARDIPS/analysis/epigenome_resource/analyses/jennifer/gwas_coloc/regressed_qtls\n",
      "\n"
     ]
    }
   ],
   "source": [
    "input_file=\"/projects/CARDIPS/analysis/epigenome_resource/analyses/jennifer/gwas_coloc/input/qtls_to_coloc_with_gwas.txt\"\n",
    "manifest=\"/projects/CARDIPS/analysis/epigenome_resource/analyses/jennifer/gwas_independent/subset_manifest.txt\"\n",
    "script=\"/projects/CARDIPS/analysis/epigenome_resource/analyses/jennifer/notebooks/08.03.run_qtl_gwas_coloc.sh\"\n",
    "outdir=\"/projects/CARDIPS/analysis/epigenome_resource/analyses/jennifer/gwas_coloc/regressed_qtls\"\n",
    "cmd = paste(\"qsub -N gwas_coloc -t\", paste0(\"1-\", nrow(qtls), \":1\"), \n",
    "            \"-tc 300 -pe smp 2 -l short -V -cwd -o analyses/jennifer/logs/coloc_gwas.out -e analyses/jennifer/logs/coloc_gwas.err\", script, input_file, manifest, outdir)\n",
    "\n",
    "message(cmd)\n",
    "system(cmd)"
   ]
  },
  {
   "cell_type": "markdown",
   "metadata": {},
   "source": [
    "## **concatenate all GWAS results**"
   ]
  },
  {
   "cell_type": "code",
   "execution_count": 8,
   "metadata": {},
   "outputs": [],
   "source": [
    "tissues = c(\"iPSC\", \"PPC\", \"CVPC\")\n",
    "analyses = c(\"eqtls\", \"caqtls\", \"haqtls\")"
   ]
  },
  {
   "cell_type": "code",
   "execution_count": 9,
   "metadata": {},
   "outputs": [],
   "source": [
    "coloc_results_dir = \"/projects/CARDIPS/analysis/epigenome_resource/analyses/jennifer/gwas_coloc/regressed_qtls\""
   ]
  },
  {
   "cell_type": "code",
   "execution_count": 11,
   "metadata": {},
   "outputs": [
    {
     "data": {
      "text/plain": [
       "      \n",
       "       caqtls eqtls haqtls\n",
       "  CVPC  11187  4796   8912\n",
       "  iPSC   9017  8916   1221\n",
       "  PPC   10255  5389      0"
      ]
     },
     "metadata": {},
     "output_type": "display_data"
    }
   ],
   "source": [
    "table(qtls$tissue, qtls$datatype)"
   ]
  },
  {
   "cell_type": "code",
   "execution_count": 38,
   "metadata": {},
   "outputs": [
    {
     "name": "stderr",
     "output_type": "stream",
     "text": [
      "eqtls iPSC 8910\n",
      "echo \"Rscript /projects/CARDIPS/analysis/epigenome_resource/analyses/jennifer/notebooks/08.04.summarize_gwas.R --analysis eqtls --tissue iPSC --manifest_file analyses/jennifer/gwas_independent/subset_manifest.txt --coloc_results_dir /projects/CARDIPS/analysis/epigenome_resource/analyses/jennifer/gwas_coloc/regressed_qtls\" | qsub -N eqtls_iPSC -V -cwd -pe smp 4 -o /frazer01/projects/CARDIPS/analysis/epigenome_resource/analyses/jennifer/gwas_coloc/logs/eqtls_iPSC_summarize.out -e /frazer01/projects/CARDIPS/analysis/epigenome_resource/analyses/jennifer/gwas_coloc/logs/eqtls_iPSC_summarize.err\n",
      "\n",
      "caqtls iPSC 8961\n",
      "echo \"Rscript /projects/CARDIPS/analysis/epigenome_resource/analyses/jennifer/notebooks/08.04.summarize_gwas.R --analysis caqtls --tissue iPSC --manifest_file analyses/jennifer/gwas_independent/subset_manifest.txt --coloc_results_dir /projects/CARDIPS/analysis/epigenome_resource/analyses/jennifer/gwas_coloc/regressed_qtls\" | qsub -N caqtls_iPSC -V -cwd -pe smp 4 -o /frazer01/projects/CARDIPS/analysis/epigenome_resource/analyses/jennifer/gwas_coloc/logs/caqtls_iPSC_summarize.out -e /frazer01/projects/CARDIPS/analysis/epigenome_resource/analyses/jennifer/gwas_coloc/logs/caqtls_iPSC_summarize.err\n",
      "\n",
      "haqtls iPSC 1211\n",
      "echo \"Rscript /projects/CARDIPS/analysis/epigenome_resource/analyses/jennifer/notebooks/08.04.summarize_gwas.R --analysis haqtls --tissue iPSC --manifest_file analyses/jennifer/gwas_independent/subset_manifest.txt --coloc_results_dir /projects/CARDIPS/analysis/epigenome_resource/analyses/jennifer/gwas_coloc/regressed_qtls\" | qsub -N haqtls_iPSC -V -cwd -pe smp 4 -o /frazer01/projects/CARDIPS/analysis/epigenome_resource/analyses/jennifer/gwas_coloc/logs/haqtls_iPSC_summarize.out -e /frazer01/projects/CARDIPS/analysis/epigenome_resource/analyses/jennifer/gwas_coloc/logs/haqtls_iPSC_summarize.err\n",
      "\n",
      "eqtls PPC 5386\n",
      "echo \"Rscript /projects/CARDIPS/analysis/epigenome_resource/analyses/jennifer/notebooks/08.04.summarize_gwas.R --analysis eqtls --tissue PPC --manifest_file analyses/jennifer/gwas_independent/subset_manifest.txt --coloc_results_dir /projects/CARDIPS/analysis/epigenome_resource/analyses/jennifer/gwas_coloc/regressed_qtls\" | qsub -N eqtls_PPC -V -cwd -pe smp 4 -o /frazer01/projects/CARDIPS/analysis/epigenome_resource/analyses/jennifer/gwas_coloc/logs/eqtls_PPC_summarize.out -e /frazer01/projects/CARDIPS/analysis/epigenome_resource/analyses/jennifer/gwas_coloc/logs/eqtls_PPC_summarize.err\n",
      "\n",
      "caqtls PPC 10188\n",
      "echo \"Rscript /projects/CARDIPS/analysis/epigenome_resource/analyses/jennifer/notebooks/08.04.summarize_gwas.R --analysis caqtls --tissue PPC --manifest_file analyses/jennifer/gwas_independent/subset_manifest.txt --coloc_results_dir /projects/CARDIPS/analysis/epigenome_resource/analyses/jennifer/gwas_coloc/regressed_qtls\" | qsub -N caqtls_PPC -V -cwd -pe smp 4 -o /frazer01/projects/CARDIPS/analysis/epigenome_resource/analyses/jennifer/gwas_coloc/logs/caqtls_PPC_summarize.out -e /frazer01/projects/CARDIPS/analysis/epigenome_resource/analyses/jennifer/gwas_coloc/logs/caqtls_PPC_summarize.err\n",
      "\n",
      "haqtls PPC 0\n",
      "eqtls CVPC 4794\n",
      "echo \"Rscript /projects/CARDIPS/analysis/epigenome_resource/analyses/jennifer/notebooks/08.04.summarize_gwas.R --analysis eqtls --tissue CVPC --manifest_file analyses/jennifer/gwas_independent/subset_manifest.txt --coloc_results_dir /projects/CARDIPS/analysis/epigenome_resource/analyses/jennifer/gwas_coloc/regressed_qtls\" | qsub -N eqtls_CVPC -V -cwd -pe smp 4 -o /frazer01/projects/CARDIPS/analysis/epigenome_resource/analyses/jennifer/gwas_coloc/logs/eqtls_CVPC_summarize.out -e /frazer01/projects/CARDIPS/analysis/epigenome_resource/analyses/jennifer/gwas_coloc/logs/eqtls_CVPC_summarize.err\n",
      "\n",
      "caqtls CVPC 11134\n",
      "echo \"Rscript /projects/CARDIPS/analysis/epigenome_resource/analyses/jennifer/notebooks/08.04.summarize_gwas.R --analysis caqtls --tissue CVPC --manifest_file analyses/jennifer/gwas_independent/subset_manifest.txt --coloc_results_dir /projects/CARDIPS/analysis/epigenome_resource/analyses/jennifer/gwas_coloc/regressed_qtls\" | qsub -N caqtls_CVPC -V -cwd -pe smp 4 -o /frazer01/projects/CARDIPS/analysis/epigenome_resource/analyses/jennifer/gwas_coloc/logs/caqtls_CVPC_summarize.out -e /frazer01/projects/CARDIPS/analysis/epigenome_resource/analyses/jennifer/gwas_coloc/logs/caqtls_CVPC_summarize.err\n",
      "\n",
      "haqtls CVPC 8876\n",
      "echo \"Rscript /projects/CARDIPS/analysis/epigenome_resource/analyses/jennifer/notebooks/08.04.summarize_gwas.R --analysis haqtls --tissue CVPC --manifest_file analyses/jennifer/gwas_independent/subset_manifest.txt --coloc_results_dir /projects/CARDIPS/analysis/epigenome_resource/analyses/jennifer/gwas_coloc/regressed_qtls\" | qsub -N haqtls_CVPC -V -cwd -pe smp 4 -o /frazer01/projects/CARDIPS/analysis/epigenome_resource/analyses/jennifer/gwas_coloc/logs/haqtls_CVPC_summarize.out -e /frazer01/projects/CARDIPS/analysis/epigenome_resource/analyses/jennifer/gwas_coloc/logs/haqtls_CVPC_summarize.err\n",
      "\n"
     ]
    }
   ],
   "source": [
    "pipeline = \"/projects/CARDIPS/analysis/epigenome_resource/analyses/jennifer/notebooks/08.04.summarize_gwas.R\"\n",
    "manifest_file = \"analyses/jennifer/gwas_independent/subset_manifest.txt\"\n",
    "\n",
    "for (t in tissues)\n",
    "{\n",
    "    for (a in analyses)\n",
    "    {\n",
    "        files = list.files(paste(\"analyses/jennifer/gwas_coloc/regressed_qtls\", a, t, sep = \"/\"))\n",
    "        message(paste(a, t, length(files)), appendLF = F)\n",
    "        if (length(files) > 0)\n",
    "        {\n",
    "            cmd = paste(\"Rscript\", pipeline, \n",
    "                        \"--analysis\", a, \n",
    "                        \"--tissue\", t, \n",
    "                        \"--manifest_file\", manifest_file, \n",
    "                        \"--coloc_results_dir\", coloc_results_dir)\n",
    "            \n",
    "            log_out = paste(getwd(), \"analyses/jennifer/gwas_coloc/logs\", paste(a, t, \"summarize.out\", sep = \"_\"), sep = \"/\")\n",
    "            log_err = paste(getwd(), \"analyses/jennifer/gwas_coloc/logs\", paste(a, t, \"summarize.err\", sep = \"_\"), sep = \"/\")\n",
    "            run_qsub(name = paste(a, t, sep = \"_\"), cmd = cmd, threads = 4, log_out = log_out, log_err = log_err, exec = T)\n",
    "        }\n",
    "    }\n",
    "}\n"
   ]
  },
  {
   "cell_type": "markdown",
   "metadata": {},
   "source": [
    "## **aggregate**"
   ]
  },
  {
   "cell_type": "code",
   "execution_count": 61,
   "metadata": {},
   "outputs": [
    {
     "name": "stderr",
     "output_type": "stream",
     "text": [
      "/projects/CARDIPS/analysis/epigenome_resource/analyses/jennifer/gwas_coloc/regressed_qtls/results/eqtls_iPSC_summary.txt\n",
      "\n",
      "iPSC eqtls\n",
      "/projects/CARDIPS/analysis/epigenome_resource/analyses/jennifer/gwas_coloc/regressed_qtls/results/caqtls_iPSC_summary.txt\n",
      "\n",
      "iPSC caqtls\n",
      "/projects/CARDIPS/analysis/epigenome_resource/analyses/jennifer/gwas_coloc/regressed_qtls/results/haqtls_iPSC_summary.txt\n",
      "\n",
      "iPSC haqtls\n",
      "/projects/CARDIPS/analysis/epigenome_resource/analyses/jennifer/gwas_coloc/regressed_qtls/results/eqtls_PPC_summary.txt\n",
      "\n",
      "PPC eqtls\n",
      "/projects/CARDIPS/analysis/epigenome_resource/analyses/jennifer/gwas_coloc/regressed_qtls/results/caqtls_PPC_summary.txt\n",
      "\n",
      "PPC caqtls\n",
      "/projects/CARDIPS/analysis/epigenome_resource/analyses/jennifer/gwas_coloc/regressed_qtls/results/haqtls_PPC_summary.txt\n",
      "\n",
      "Missing PPC haqtls\n",
      "\n",
      "/projects/CARDIPS/analysis/epigenome_resource/analyses/jennifer/gwas_coloc/regressed_qtls/results/eqtls_CVPC_summary.txt\n",
      "\n",
      "CVPC eqtls\n",
      "/projects/CARDIPS/analysis/epigenome_resource/analyses/jennifer/gwas_coloc/regressed_qtls/results/caqtls_CVPC_summary.txt\n",
      "\n",
      "CVPC caqtls\n",
      "/projects/CARDIPS/analysis/epigenome_resource/analyses/jennifer/gwas_coloc/regressed_qtls/results/haqtls_CVPC_summary.txt\n",
      "\n",
      "CVPC haqtls\n"
     ]
    },
    {
     "data": {
      "text/plain": [
       "        \n",
       "           CVPC   iPSC    PPC\n",
       "  caqtls 131611 106331 120746\n",
       "  eqtls   57789 107643  65016\n",
       "  haqtls 105326  14524      0"
      ]
     },
     "metadata": {},
     "output_type": "display_data"
    }
   ],
   "source": [
    "summary = as.data.frame(rbindlist(lapply(tissues, function(t)\n",
    "{\n",
    "    as.data.frame(rbindlist(lapply(analyses, function(a)\n",
    "    {\n",
    "        file = paste(coloc_results_dir, \"results\", paste(paste(a, t, \"summary\", sep = \"_\"), \"txt\", sep = \".\"), sep = \"/\")\n",
    "        message(file)\n",
    "        if (file.exists(file))\n",
    "        {\n",
    "            message(paste(t, a),  appendLF = F)\n",
    "            fread(file, data.table = F)\n",
    "        } else\n",
    "        {\n",
    "            message(paste(\"Missing\", t, a))\n",
    "        }\n",
    "    })))\n",
    "}))) %>% mutate(p.gwas = as.double(p.gwas), p.eqtl = as.double(p.eqtl)) %>% dplyr::rename(type = discovery_order) \n",
    "\n",
    "table(summary$analysis, summary$tissue)"
   ]
  },
  {
   "cell_type": "markdown",
   "metadata": {},
   "source": [
    "## **check qtls that are missing / not tested**"
   ]
  },
  {
   "cell_type": "code",
   "execution_count": 62,
   "metadata": {},
   "outputs": [],
   "source": [
    "summary$qtl_id = NULL\n",
    "summary$element_cond = ifelse(summary$element_id %like% \"ENSG\", \n",
    "                               paste(summary$tissue, summary$element_id, summary$type, sep = \"_\"), \n",
    "                               paste(summary$element_id, summary$type, sep = \"_\"))"
   ]
  },
  {
   "cell_type": "code",
   "execution_count": 63,
   "metadata": {},
   "outputs": [],
   "source": [
    "qtls$tissue_qtl_id = ifelse(qtls$element_id %like% \"ENSG\",\n",
    "                            paste(qtls$tissue, qtls$element_id, qtls$type, sep = \"_\"),\n",
    "                            paste(qtls$element_id, qtls$type, sep = \"_\"))"
   ]
  },
  {
   "cell_type": "code",
   "execution_count": 64,
   "metadata": {},
   "outputs": [
    {
     "name": "stderr",
     "output_type": "stream",
     "text": [
      "Warning message in cbind(parts$left, chars$ellip_h, parts$right, deparse.level = 0L):\n",
      "“number of rows of result is not a multiple of vector length (arg 2)”\n",
      "Warning message in cbind(parts$left, chars$ellip_h, parts$right, deparse.level = 0L):\n",
      "“number of rows of result is not a multiple of vector length (arg 2)”\n",
      "Warning message in cbind(parts$left, chars$ellip_h, parts$right, deparse.level = 0L):\n",
      "“number of rows of result is not a multiple of vector length (arg 2)”\n",
      "Warning message in cbind(parts$left, chars$ellip_h, parts$right, deparse.level = 0L):\n",
      "“number of rows of result is not a multiple of vector length (arg 2)”\n"
     ]
    },
    {
     "data": {
      "text/html": [
       "<table class=\"dataframe\">\n",
       "<caption>A data.frame: 0 × 25</caption>\n",
       "<thead>\n",
       "\t<tr><th scope=col>analysis</th><th scope=col>tissue</th><th scope=col>element_id</th><th scope=col>type</th><th scope=col>trait_id</th><th scope=col>nsnps</th><th scope=col>PP.H0.abf</th><th scope=col>PP.H1.abf</th><th scope=col>PP.H2.abf</th><th scope=col>PP.H3.abf</th><th scope=col>⋯</th><th scope=col>topsnp_pp</th><th scope=col>beta.eqtl</th><th scope=col>se.eqtl</th><th scope=col>p.eqtl</th><th scope=col>beta.gwas</th><th scope=col>se.gwas</th><th scope=col>p.gwas</th><th scope=col>bonferroni.eqtl</th><th scope=col>cs_size</th><th scope=col>element_cond</th></tr>\n",
       "\t<tr><th scope=col>&lt;chr&gt;</th><th scope=col>&lt;chr&gt;</th><th scope=col>&lt;chr&gt;</th><th scope=col>&lt;int&gt;</th><th scope=col>&lt;chr&gt;</th><th scope=col>&lt;int&gt;</th><th scope=col>&lt;dbl&gt;</th><th scope=col>&lt;dbl&gt;</th><th scope=col>&lt;dbl&gt;</th><th scope=col>&lt;dbl&gt;</th><th scope=col>⋯</th><th scope=col>&lt;dbl&gt;</th><th scope=col>&lt;dbl&gt;</th><th scope=col>&lt;dbl&gt;</th><th scope=col>&lt;dbl&gt;</th><th scope=col>&lt;dbl&gt;</th><th scope=col>&lt;dbl&gt;</th><th scope=col>&lt;dbl&gt;</th><th scope=col>&lt;dbl&gt;</th><th scope=col>&lt;int&gt;</th><th scope=col>&lt;chr&gt;</th></tr>\n",
       "</thead>\n",
       "<tbody>\n",
       "</tbody>\n",
       "</table>\n"
      ],
      "text/latex": [
       "A data.frame: 0 × 25\n",
       "\\begin{tabular}{lllllllllllllllllllll}\n",
       " analysis & tissue & element\\_id & type & trait\\_id & nsnps & PP.H0.abf & PP.H1.abf & PP.H2.abf & PP.H3.abf & ⋯ & topsnp\\_pp & beta.eqtl & se.eqtl & p.eqtl & beta.gwas & se.gwas & p.gwas & bonferroni.eqtl & cs\\_size & element\\_cond\\\\\n",
       " <chr> & <chr> & <chr> & <int> & <chr> & <int> & <dbl> & <dbl> & <dbl> & <dbl> & ⋯ & <dbl> & <dbl> & <dbl> & <dbl> & <dbl> & <dbl> & <dbl> & <dbl> & <int> & <chr>\\\\\n",
       "\\hline\n",
       "\\end{tabular}\n"
      ],
      "text/markdown": [
       "\n",
       "A data.frame: 0 × 25\n",
       "\n",
       "| analysis &lt;chr&gt; | tissue &lt;chr&gt; | element_id &lt;chr&gt; | type &lt;int&gt; | trait_id &lt;chr&gt; | nsnps &lt;int&gt; | PP.H0.abf &lt;dbl&gt; | PP.H1.abf &lt;dbl&gt; | PP.H2.abf &lt;dbl&gt; | PP.H3.abf &lt;dbl&gt; | ⋯ ⋯ | topsnp_pp &lt;dbl&gt; | beta.eqtl &lt;dbl&gt; | se.eqtl &lt;dbl&gt; | p.eqtl &lt;dbl&gt; | beta.gwas &lt;dbl&gt; | se.gwas &lt;dbl&gt; | p.gwas &lt;dbl&gt; | bonferroni.eqtl &lt;dbl&gt; | cs_size &lt;int&gt; | element_cond &lt;chr&gt; |\n",
       "|---|---|---|---|---|---|---|---|---|---|---|---|---|---|---|---|---|---|---|---|---|\n",
       "\n"
      ],
      "text/plain": [
       "     analysis tissue element_id type trait_id nsnps PP.H0.abf PP.H1.abf\n",
       "     PP.H2.abf PP.H3.abf ⋯ topsnp_pp beta.eqtl se.eqtl p.eqtl beta.gwas se.gwas\n",
       "     p.gwas bonferroni.eqtl cs_size element_cond"
      ]
     },
     "metadata": {},
     "output_type": "display_data"
    }
   ],
   "source": [
    "# check for qtls that were not supposed to be tested (i.e., not the nominated primary)\n",
    "summary %>% filter(!element_cond %in% qtls$tissue_qtl_id)"
   ]
  },
  {
   "cell_type": "code",
   "execution_count": 65,
   "metadata": {},
   "outputs": [
    {
     "name": "stderr",
     "output_type": "stream",
     "text": [
      "Did not test: 233\n",
      "\n"
     ]
    },
    {
     "data": {
      "text/html": [
       "<table class=\"dataframe\">\n",
       "<caption>A data.table: 2 × 26</caption>\n",
       "<thead>\n",
       "\t<tr><th scope=col>element_id</th><th scope=col>id</th><th scope=col>chrom</th><th scope=col>pos</th><th scope=col>ref</th><th scope=col>alt</th><th scope=col>rsid</th><th scope=col>genotyped</th><th scope=col>af</th><th scope=col>beta</th><th scope=col>⋯</th><th scope=col>new_egene</th><th scope=col>tissue</th><th scope=col>tissue_qtl_id</th><th scope=col>tissue_element</th><th scope=col>test</th><th scope=col>datatype</th><th scope=col>path</th><th scope=col>taskid</th><th scope=col>path_exists</th><th scope=col>qtl_id</th></tr>\n",
       "\t<tr><th scope=col>&lt;chr&gt;</th><th scope=col>&lt;chr&gt;</th><th scope=col>&lt;chr&gt;</th><th scope=col>&lt;int&gt;</th><th scope=col>&lt;chr&gt;</th><th scope=col>&lt;chr&gt;</th><th scope=col>&lt;chr&gt;</th><th scope=col>&lt;int&gt;</th><th scope=col>&lt;dbl&gt;</th><th scope=col>&lt;dbl&gt;</th><th scope=col>⋯</th><th scope=col>&lt;lgl&gt;</th><th scope=col>&lt;chr&gt;</th><th scope=col>&lt;chr&gt;</th><th scope=col>&lt;chr&gt;</th><th scope=col>&lt;chr&gt;</th><th scope=col>&lt;chr&gt;</th><th scope=col>&lt;chr&gt;</th><th scope=col>&lt;int&gt;</th><th scope=col>&lt;lgl&gt;</th><th scope=col>&lt;lgl&gt;</th></tr>\n",
       "</thead>\n",
       "<tbody>\n",
       "\t<tr><td>ENSG00000234665.9</td><td>VAR_9_63627840_C_T </td><td>chr9</td><td> 63627840</td><td>C</td><td>T</td><td>rs60554899</td><td>1</td><td>0.0695971</td><td>1.1757249</td><td>⋯</td><td>TRUE</td><td>iPSC</td><td>iPSC_ENSG00000234665.9_0</td><td>iPSC_ENSG00000234665.9</td><td>original</td><td>eqtls</td><td>/projects/CARDIPS/analysis/epigenome_resource/eqtls/iPSC/step_4/qtl_by_element/qtl/qtl.ENSG00000234665.9.txt</td><td>1</td><td>TRUE</td><td>NA</td></tr>\n",
       "\t<tr><td>ENSG00000263513.6</td><td>VAR_1_143751203_A_C</td><td>chr1</td><td>143751203</td><td>A</td><td>C</td><td>.         </td><td>1</td><td>0.1703300</td><td>0.6939457</td><td>⋯</td><td>TRUE</td><td>iPSC</td><td>iPSC_ENSG00000263513.6_0</td><td>iPSC_ENSG00000263513.6</td><td>original</td><td>eqtls</td><td>/projects/CARDIPS/analysis/epigenome_resource/eqtls/iPSC/step_4/qtl_by_element/qtl/qtl.ENSG00000263513.6.txt</td><td>2</td><td>TRUE</td><td>NA</td></tr>\n",
       "</tbody>\n",
       "</table>\n"
      ],
      "text/latex": [
       "A data.table: 2 × 26\n",
       "\\begin{tabular}{lllllllllllllllllllll}\n",
       " element\\_id & id & chrom & pos & ref & alt & rsid & genotyped & af & beta & ⋯ & new\\_egene & tissue & tissue\\_qtl\\_id & tissue\\_element & test & datatype & path & taskid & path\\_exists & qtl\\_id\\\\\n",
       " <chr> & <chr> & <chr> & <int> & <chr> & <chr> & <chr> & <int> & <dbl> & <dbl> & ⋯ & <lgl> & <chr> & <chr> & <chr> & <chr> & <chr> & <chr> & <int> & <lgl> & <lgl>\\\\\n",
       "\\hline\n",
       "\t ENSG00000234665.9 & VAR\\_9\\_63627840\\_C\\_T  & chr9 &  63627840 & C & T & rs60554899 & 1 & 0.0695971 & 1.1757249 & ⋯ & TRUE & iPSC & iPSC\\_ENSG00000234665.9\\_0 & iPSC\\_ENSG00000234665.9 & original & eqtls & /projects/CARDIPS/analysis/epigenome\\_resource/eqtls/iPSC/step\\_4/qtl\\_by\\_element/qtl/qtl.ENSG00000234665.9.txt & 1 & TRUE & NA\\\\\n",
       "\t ENSG00000263513.6 & VAR\\_1\\_143751203\\_A\\_C & chr1 & 143751203 & A & C & .          & 1 & 0.1703300 & 0.6939457 & ⋯ & TRUE & iPSC & iPSC\\_ENSG00000263513.6\\_0 & iPSC\\_ENSG00000263513.6 & original & eqtls & /projects/CARDIPS/analysis/epigenome\\_resource/eqtls/iPSC/step\\_4/qtl\\_by\\_element/qtl/qtl.ENSG00000263513.6.txt & 2 & TRUE & NA\\\\\n",
       "\\end{tabular}\n"
      ],
      "text/markdown": [
       "\n",
       "A data.table: 2 × 26\n",
       "\n",
       "| element_id &lt;chr&gt; | id &lt;chr&gt; | chrom &lt;chr&gt; | pos &lt;int&gt; | ref &lt;chr&gt; | alt &lt;chr&gt; | rsid &lt;chr&gt; | genotyped &lt;int&gt; | af &lt;dbl&gt; | beta &lt;dbl&gt; | ⋯ ⋯ | new_egene &lt;lgl&gt; | tissue &lt;chr&gt; | tissue_qtl_id &lt;chr&gt; | tissue_element &lt;chr&gt; | test &lt;chr&gt; | datatype &lt;chr&gt; | path &lt;chr&gt; | taskid &lt;int&gt; | path_exists &lt;lgl&gt; | qtl_id &lt;lgl&gt; |\n",
       "|---|---|---|---|---|---|---|---|---|---|---|---|---|---|---|---|---|---|---|---|---|\n",
       "| ENSG00000234665.9 | VAR_9_63627840_C_T  | chr9 |  63627840 | C | T | rs60554899 | 1 | 0.0695971 | 1.1757249 | ⋯ | TRUE | iPSC | iPSC_ENSG00000234665.9_0 | iPSC_ENSG00000234665.9 | original | eqtls | /projects/CARDIPS/analysis/epigenome_resource/eqtls/iPSC/step_4/qtl_by_element/qtl/qtl.ENSG00000234665.9.txt | 1 | TRUE | NA |\n",
       "| ENSG00000263513.6 | VAR_1_143751203_A_C | chr1 | 143751203 | A | C | .          | 1 | 0.1703300 | 0.6939457 | ⋯ | TRUE | iPSC | iPSC_ENSG00000263513.6_0 | iPSC_ENSG00000263513.6 | original | eqtls | /projects/CARDIPS/analysis/epigenome_resource/eqtls/iPSC/step_4/qtl_by_element/qtl/qtl.ENSG00000263513.6.txt | 2 | TRUE | NA |\n",
       "\n"
      ],
      "text/plain": [
       "  element_id        id                  chrom pos       ref alt rsid      \n",
       "1 ENSG00000234665.9 VAR_9_63627840_C_T  chr9   63627840 C   T   rs60554899\n",
       "2 ENSG00000263513.6 VAR_1_143751203_A_C chr1  143751203 A   C   .         \n",
       "  genotyped af        beta      ⋯ new_egene tissue tissue_qtl_id           \n",
       "1 1         0.0695971 1.1757249 ⋯ TRUE      iPSC   iPSC_ENSG00000234665.9_0\n",
       "2 1         0.1703300 0.6939457 ⋯ TRUE      iPSC   iPSC_ENSG00000263513.6_0\n",
       "  tissue_element         test     datatype\n",
       "1 iPSC_ENSG00000234665.9 original eqtls   \n",
       "2 iPSC_ENSG00000263513.6 original eqtls   \n",
       "  path                                                                                                        \n",
       "1 /projects/CARDIPS/analysis/epigenome_resource/eqtls/iPSC/step_4/qtl_by_element/qtl/qtl.ENSG00000234665.9.txt\n",
       "2 /projects/CARDIPS/analysis/epigenome_resource/eqtls/iPSC/step_4/qtl_by_element/qtl/qtl.ENSG00000263513.6.txt\n",
       "  taskid path_exists qtl_id\n",
       "1 1      TRUE        NA    \n",
       "2 2      TRUE        NA    "
      ]
     },
     "metadata": {},
     "output_type": "display_data"
    },
    {
     "data": {
      "text/html": [
       "233"
      ],
      "text/latex": [
       "233"
      ],
      "text/markdown": [
       "233"
      ],
      "text/plain": [
       "[1] 233"
      ]
     },
     "metadata": {},
     "output_type": "display_data"
    }
   ],
   "source": [
    "message(paste(\"Did not test:\", length(unique(qtls[!qtls$tissue_qtl_id %in% summary$element_cond,]$tissue_qtl_id))))\n",
    "\n",
    "missing        = qtls[!qtls$tissue_qtl_id %in% summary$element_cond,] \n",
    "missing$qtl_id = ifelse(missing$qtl_id %like% \"ENSG\", paste(missing$tissue, missing$qtl_id, sep = \"_\"), missing$qtl_id)\n",
    "missing$taskid = c(1:nrow(missing))\n",
    "# fwrite(missing, \"analyses/jennifer/gwas_coloc/input/qtls_to_coloc_with_gwas_v02.txt\", row.names = F, sep = \"\\t\")\n",
    "\n",
    "head(missing,2)\n",
    "nrow(missing)"
   ]
  },
  {
   "cell_type": "code",
   "execution_count": 66,
   "metadata": {},
   "outputs": [
    {
     "data": {
      "text/html": [
       "<style>\n",
       ".list-inline {list-style: none; margin:0; padding: 0}\n",
       ".list-inline>li {display: inline-block}\n",
       ".list-inline>li:not(:last-child)::after {content: \"\\00b7\"; padding: 0 .5ex}\n",
       "</style>\n",
       "<ol class=list-inline><li>'iPSC_ENSG00000234665.9_0'</li><li>'iPSC_ENSG00000263513.6_0'</li><li>'iPSC_ENSG00000266338.7_0'</li><li>'iPSC_ENSG00000291181.1_0'</li><li>'CVPC_ENSG00000270872.2_0'</li><li>'CVPC_ENSG00000289318.2_0'</li></ol>\n"
      ],
      "text/latex": [
       "\\begin{enumerate*}\n",
       "\\item 'iPSC\\_ENSG00000234665.9\\_0'\n",
       "\\item 'iPSC\\_ENSG00000263513.6\\_0'\n",
       "\\item 'iPSC\\_ENSG00000266338.7\\_0'\n",
       "\\item 'iPSC\\_ENSG00000291181.1\\_0'\n",
       "\\item 'CVPC\\_ENSG00000270872.2\\_0'\n",
       "\\item 'CVPC\\_ENSG00000289318.2\\_0'\n",
       "\\end{enumerate*}\n"
      ],
      "text/markdown": [
       "1. 'iPSC_ENSG00000234665.9_0'\n",
       "2. 'iPSC_ENSG00000263513.6_0'\n",
       "3. 'iPSC_ENSG00000266338.7_0'\n",
       "4. 'iPSC_ENSG00000291181.1_0'\n",
       "5. 'CVPC_ENSG00000270872.2_0'\n",
       "6. 'CVPC_ENSG00000289318.2_0'\n",
       "\n",
       "\n"
      ],
      "text/plain": [
       "[1] \"iPSC_ENSG00000234665.9_0\" \"iPSC_ENSG00000263513.6_0\"\n",
       "[3] \"iPSC_ENSG00000266338.7_0\" \"iPSC_ENSG00000291181.1_0\"\n",
       "[5] \"CVPC_ENSG00000270872.2_0\" \"CVPC_ENSG00000289318.2_0\""
      ]
     },
     "metadata": {},
     "output_type": "display_data"
    }
   ],
   "source": [
    "# These could not be tested because overlap with gwas < 50 snps or no GWAS peaks below significance\n",
    "head(qtls[!qtls$tissue_qtl_id %in% summary$element_cond,]$tissue_qtl_id)"
   ]
  },
  {
   "cell_type": "markdown",
   "metadata": {},
   "source": [
    "## **rerun GWAS colocalization**"
   ]
  },
  {
   "cell_type": "code",
   "execution_count": 36,
   "metadata": {},
   "outputs": [
    {
     "name": "stderr",
     "output_type": "stream",
     "text": [
      "qsub -N gwas_coloc -t 1-292:1 -tc 300 -pe smp 2 -V -cwd -o analyses/jennifer/logs/coloc_gwas_v02.out -e analyses/jennifer/logs/coloc_gwas_v02.err -l short /projects/CARDIPS/analysis/epigenome_resource/analyses/jennifer/notebooks/08.03.run_qtl_gwas_coloc.sh analyses/jennifer/gwas_coloc/input/qtls_to_coloc_with_gwas_v02.txt /projects/CARDIPS/analysis/epigenome_resource/analyses/jennifer/gwas_independent/subset_manifest.txt /projects/CARDIPS/analysis/epigenome_resource/analyses/jennifer/gwas_coloc/regressed_qtls\n",
      "\n"
     ]
    }
   ],
   "source": [
    "input_file = \"analyses/jennifer/gwas_coloc/input/qtls_to_coloc_with_gwas_v02.txt\"\n",
    "manifest   = \"/projects/CARDIPS/analysis/epigenome_resource/analyses/jennifer/gwas_independent/subset_manifest.txt\"\n",
    "script     = \"/projects/CARDIPS/analysis/epigenome_resource/analyses/jennifer/notebooks/08.03.run_qtl_gwas_coloc.sh\"\n",
    "outdir     = \"/projects/CARDIPS/analysis/epigenome_resource/analyses/jennifer/gwas_coloc/regressed_qtls\"\n",
    "log_out    = \"analyses/jennifer/logs/coloc_gwas_v02.out\"\n",
    "log_err    = \"analyses/jennifer/logs/coloc_gwas_v02.err\"\n",
    "\n",
    "cmd = paste(\"qsub -N gwas_coloc\", \n",
    "            \"-t\", paste0(\"1-\", nrow(fread(input_file, data.table = F)), \":1\"), \n",
    "            \"-tc 300 -pe smp 2 -V -cwd\",\n",
    "            \"-o\", log_out,\n",
    "            \"-e\", log_err, \n",
    "            \"-l short\",\n",
    "            script, \n",
    "            input_file, \n",
    "            manifest, \n",
    "            outdir)\n",
    "\n",
    "message(cmd)\n",
    "system(cmd)"
   ]
  },
  {
   "cell_type": "markdown",
   "metadata": {},
   "source": [
    "## **check files**"
   ]
  },
  {
   "cell_type": "code",
   "execution_count": 10,
   "metadata": {},
   "outputs": [],
   "source": [
    "files = as.data.frame(rbindlist(lapply(analyses, function(a)\n",
    "{\n",
    "    as.data.frame(rbindlist(lapply(tissues, function(t)\n",
    "    {\n",
    "        files = list.files(paste(\"analyses/jennifer/gwas_coloc/regressed_qtls\", a, t, sep = \"/\"))\n",
    "        if (length(files) > 0)\n",
    "        {\n",
    "            data.frame(file = files) %>% \n",
    "                mutate(analysis = a, tissue = t,\n",
    "                       element_id = gsub(\".robj\", \"\", unlist(lapply(file, function(x) { unlist(strsplit(x, \"-\"))[2] }))),\n",
    "                       cond = unlist(lapply(files, function(x) { unlist(strsplit(x, \"-\"))[1] })))\n",
    "        } \n",
    "    })))\n",
    "}))) %>% mutate(element_cond = ifelse(element_id %like% \"ENSG\", paste(tolower(tissue), element_id, cond, sep = \"_\"), paste(element_id, cond, sep = \"_\")))"
   ]
  },
  {
   "cell_type": "code",
   "execution_count": 11,
   "metadata": {},
   "outputs": [
    {
     "data": {
      "text/html": [
       "<table class=\"dataframe\">\n",
       "<caption>A data.frame: 241 × 12</caption>\n",
       "<thead>\n",
       "\t<tr><th scope=col>element_id</th><th scope=col>type</th><th scope=col>new_egene</th><th scope=col>tissue</th><th scope=col>qtl_id</th><th scope=col>regressed</th><th scope=col>regressed_signif</th><th scope=col>regressed_primary</th><th scope=col>updated_primary</th><th scope=col>datatype</th><th scope=col>path_to_qtl</th><th scope=col>element_cond</th></tr>\n",
       "\t<tr><th scope=col>&lt;chr&gt;</th><th scope=col>&lt;int&gt;</th><th scope=col>&lt;lgl&gt;</th><th scope=col>&lt;chr&gt;</th><th scope=col>&lt;chr&gt;</th><th scope=col>&lt;chr&gt;</th><th scope=col>&lt;lgl&gt;</th><th scope=col>&lt;lgl&gt;</th><th scope=col>&lt;lgl&gt;</th><th scope=col>&lt;chr&gt;</th><th scope=col>&lt;chr&gt;</th><th scope=col>&lt;chr&gt;</th></tr>\n",
       "</thead>\n",
       "<tbody>\n",
       "\t<tr><td>ENSG00000234665.9    </td><td>0</td><td>TRUE</td><td>iPSC</td><td>ENSG00000234665.9_0    </td><td>FALSE</td><td>  NA</td><td>FALSE</td><td>TRUE</td><td>eqtls </td><td>/projects/CARDIPS/analysis/epigenome_resource/eqtls/iPSC/step_4/qtl_by_element/qtl/qtl.ENSG00000234665.9.txt       </td><td>ipsc_ENSG00000234665.9_0</td></tr>\n",
       "\t<tr><td>ENSG00000263513.6    </td><td>0</td><td>TRUE</td><td>iPSC</td><td>ENSG00000263513.6_0    </td><td>FALSE</td><td>  NA</td><td>FALSE</td><td>TRUE</td><td>eqtls </td><td>/projects/CARDIPS/analysis/epigenome_resource/eqtls/iPSC/step_4/qtl_by_element/qtl/qtl.ENSG00000263513.6.txt       </td><td>ipsc_ENSG00000263513.6_0</td></tr>\n",
       "\t<tr><td>ENSG00000266338.7    </td><td>0</td><td>TRUE</td><td>iPSC</td><td>ENSG00000266338.7_0    </td><td>FALSE</td><td>  NA</td><td>FALSE</td><td>TRUE</td><td>eqtls </td><td>/projects/CARDIPS/analysis/epigenome_resource/eqtls/iPSC/step_4/qtl_by_element/qtl/qtl.ENSG00000266338.7.txt       </td><td>ipsc_ENSG00000266338.7_0</td></tr>\n",
       "\t<tr><td>ENSG00000270872.2    </td><td>0</td><td>TRUE</td><td>iPSC</td><td>ENSG00000270872.2_0    </td><td>TRUE </td><td>TRUE</td><td> TRUE</td><td>TRUE</td><td>eqtls </td><td>/projects/CARDIPS/analysis/epigenome_resource/eqtls/iPSC/step_5/qtl_by_element/qtl/qtl.ENSG00000270872.2.0.txt     </td><td>ipsc_ENSG00000270872.2_0</td></tr>\n",
       "\t<tr><td>ENSG00000289318.2    </td><td>0</td><td>TRUE</td><td>iPSC</td><td>ENSG00000289318.2_0    </td><td>TRUE </td><td>TRUE</td><td> TRUE</td><td>TRUE</td><td>eqtls </td><td>/projects/CARDIPS/analysis/epigenome_resource/eqtls/iPSC/step_5/qtl_by_element/qtl/qtl.ENSG00000289318.2.0.txt     </td><td>ipsc_ENSG00000289318.2_0</td></tr>\n",
       "\t<tr><td>ENSG00000291181.1    </td><td>0</td><td>TRUE</td><td>iPSC</td><td>ENSG00000291181.1_0    </td><td>FALSE</td><td>  NA</td><td>FALSE</td><td>TRUE</td><td>eqtls </td><td>/projects/CARDIPS/analysis/epigenome_resource/eqtls/iPSC/step_4/qtl_by_element/qtl/qtl.ENSG00000291181.1.txt       </td><td>ipsc_ENSG00000291181.1_0</td></tr>\n",
       "\t<tr><td>ipsc_atac_peak_10677 </td><td>0</td><td>TRUE</td><td>iPSC</td><td>ipsc_atac_peak_10677_0 </td><td>FALSE</td><td>  NA</td><td>FALSE</td><td>TRUE</td><td>caqtls</td><td>/projects/CARDIPS/analysis/epigenome_resource/caqtls/iPSC/step_4/qtl_by_element/qtl/qtl.ipsc_atac_peak_10677.txt   </td><td>ipsc_atac_peak_10677_0  </td></tr>\n",
       "\t<tr><td>ipsc_atac_peak_11059 </td><td>0</td><td>TRUE</td><td>iPSC</td><td>ipsc_atac_peak_11059_0 </td><td>FALSE</td><td>  NA</td><td>FALSE</td><td>TRUE</td><td>caqtls</td><td>/projects/CARDIPS/analysis/epigenome_resource/caqtls/iPSC/step_4/qtl_by_element/qtl/qtl.ipsc_atac_peak_11059.txt   </td><td>ipsc_atac_peak_11059_0  </td></tr>\n",
       "\t<tr><td>ipsc_atac_peak_11063 </td><td>0</td><td>TRUE</td><td>iPSC</td><td>ipsc_atac_peak_11063_0 </td><td>FALSE</td><td>  NA</td><td>FALSE</td><td>TRUE</td><td>caqtls</td><td>/projects/CARDIPS/analysis/epigenome_resource/caqtls/iPSC/step_4/qtl_by_element/qtl/qtl.ipsc_atac_peak_11063.txt   </td><td>ipsc_atac_peak_11063_0  </td></tr>\n",
       "\t<tr><td>ipsc_atac_peak_11064 </td><td>0</td><td>TRUE</td><td>iPSC</td><td>ipsc_atac_peak_11064_0 </td><td>FALSE</td><td>  NA</td><td>FALSE</td><td>TRUE</td><td>caqtls</td><td>/projects/CARDIPS/analysis/epigenome_resource/caqtls/iPSC/step_4/qtl_by_element/qtl/qtl.ipsc_atac_peak_11064.txt   </td><td>ipsc_atac_peak_11064_0  </td></tr>\n",
       "\t<tr><td>ipsc_atac_peak_11067 </td><td>0</td><td>TRUE</td><td>iPSC</td><td>ipsc_atac_peak_11067_0 </td><td>FALSE</td><td>  NA</td><td>FALSE</td><td>TRUE</td><td>caqtls</td><td>/projects/CARDIPS/analysis/epigenome_resource/caqtls/iPSC/step_4/qtl_by_element/qtl/qtl.ipsc_atac_peak_11067.txt   </td><td>ipsc_atac_peak_11067_0  </td></tr>\n",
       "\t<tr><td>ipsc_atac_peak_158643</td><td>0</td><td>TRUE</td><td>iPSC</td><td>ipsc_atac_peak_158643_0</td><td>TRUE </td><td>TRUE</td><td> TRUE</td><td>TRUE</td><td>caqtls</td><td>/projects/CARDIPS/analysis/epigenome_resource/caqtls/iPSC/step_5/qtl_by_element/qtl/qtl.ipsc_atac_peak_158643.0.txt</td><td>ipsc_atac_peak_158643_0 </td></tr>\n",
       "\t<tr><td>ipsc_atac_peak_163983</td><td>0</td><td>TRUE</td><td>iPSC</td><td>ipsc_atac_peak_163983_0</td><td>FALSE</td><td>  NA</td><td>FALSE</td><td>TRUE</td><td>caqtls</td><td>/projects/CARDIPS/analysis/epigenome_resource/caqtls/iPSC/step_4/qtl_by_element/qtl/qtl.ipsc_atac_peak_163983.txt  </td><td>ipsc_atac_peak_163983_0 </td></tr>\n",
       "\t<tr><td>ipsc_atac_peak_163984</td><td>0</td><td>TRUE</td><td>iPSC</td><td>ipsc_atac_peak_163984_0</td><td>FALSE</td><td>  NA</td><td>FALSE</td><td>TRUE</td><td>caqtls</td><td>/projects/CARDIPS/analysis/epigenome_resource/caqtls/iPSC/step_4/qtl_by_element/qtl/qtl.ipsc_atac_peak_163984.txt  </td><td>ipsc_atac_peak_163984_0 </td></tr>\n",
       "\t<tr><td>ipsc_atac_peak_163985</td><td>0</td><td>TRUE</td><td>iPSC</td><td>ipsc_atac_peak_163985_0</td><td>FALSE</td><td>  NA</td><td>FALSE</td><td>TRUE</td><td>caqtls</td><td>/projects/CARDIPS/analysis/epigenome_resource/caqtls/iPSC/step_4/qtl_by_element/qtl/qtl.ipsc_atac_peak_163985.txt  </td><td>ipsc_atac_peak_163985_0 </td></tr>\n",
       "\t<tr><td>ipsc_atac_peak_163986</td><td>0</td><td>TRUE</td><td>iPSC</td><td>ipsc_atac_peak_163986_0</td><td>FALSE</td><td>  NA</td><td>FALSE</td><td>TRUE</td><td>caqtls</td><td>/projects/CARDIPS/analysis/epigenome_resource/caqtls/iPSC/step_4/qtl_by_element/qtl/qtl.ipsc_atac_peak_163986.txt  </td><td>ipsc_atac_peak_163986_0 </td></tr>\n",
       "\t<tr><td>ipsc_atac_peak_163987</td><td>0</td><td>TRUE</td><td>iPSC</td><td>ipsc_atac_peak_163987_0</td><td>FALSE</td><td>  NA</td><td>FALSE</td><td>TRUE</td><td>caqtls</td><td>/projects/CARDIPS/analysis/epigenome_resource/caqtls/iPSC/step_4/qtl_by_element/qtl/qtl.ipsc_atac_peak_163987.txt  </td><td>ipsc_atac_peak_163987_0 </td></tr>\n",
       "\t<tr><td>ipsc_atac_peak_163988</td><td>0</td><td>TRUE</td><td>iPSC</td><td>ipsc_atac_peak_163988_0</td><td>FALSE</td><td>  NA</td><td>FALSE</td><td>TRUE</td><td>caqtls</td><td>/projects/CARDIPS/analysis/epigenome_resource/caqtls/iPSC/step_4/qtl_by_element/qtl/qtl.ipsc_atac_peak_163988.txt  </td><td>ipsc_atac_peak_163988_0 </td></tr>\n",
       "\t<tr><td>ipsc_atac_peak_163990</td><td>0</td><td>TRUE</td><td>iPSC</td><td>ipsc_atac_peak_163990_0</td><td>FALSE</td><td>  NA</td><td>FALSE</td><td>TRUE</td><td>caqtls</td><td>/projects/CARDIPS/analysis/epigenome_resource/caqtls/iPSC/step_4/qtl_by_element/qtl/qtl.ipsc_atac_peak_163990.txt  </td><td>ipsc_atac_peak_163990_0 </td></tr>\n",
       "\t<tr><td>ipsc_atac_peak_164008</td><td>0</td><td>TRUE</td><td>iPSC</td><td>ipsc_atac_peak_164008_0</td><td>FALSE</td><td>  NA</td><td>FALSE</td><td>TRUE</td><td>caqtls</td><td>/projects/CARDIPS/analysis/epigenome_resource/caqtls/iPSC/step_4/qtl_by_element/qtl/qtl.ipsc_atac_peak_164008.txt  </td><td>ipsc_atac_peak_164008_0 </td></tr>\n",
       "\t<tr><td>ipsc_atac_peak_176197</td><td>0</td><td>TRUE</td><td>iPSC</td><td>ipsc_atac_peak_176197_0</td><td>FALSE</td><td>  NA</td><td>FALSE</td><td>TRUE</td><td>caqtls</td><td>/projects/CARDIPS/analysis/epigenome_resource/caqtls/iPSC/step_4/qtl_by_element/qtl/qtl.ipsc_atac_peak_176197.txt  </td><td>ipsc_atac_peak_176197_0 </td></tr>\n",
       "\t<tr><td>ipsc_atac_peak_176204</td><td>0</td><td>TRUE</td><td>iPSC</td><td>ipsc_atac_peak_176204_0</td><td>FALSE</td><td>  NA</td><td>FALSE</td><td>TRUE</td><td>caqtls</td><td>/projects/CARDIPS/analysis/epigenome_resource/caqtls/iPSC/step_4/qtl_by_element/qtl/qtl.ipsc_atac_peak_176204.txt  </td><td>ipsc_atac_peak_176204_0 </td></tr>\n",
       "\t<tr><td>ipsc_atac_peak_176213</td><td>0</td><td>TRUE</td><td>iPSC</td><td>ipsc_atac_peak_176213_0</td><td>FALSE</td><td>  NA</td><td>FALSE</td><td>TRUE</td><td>caqtls</td><td>/projects/CARDIPS/analysis/epigenome_resource/caqtls/iPSC/step_4/qtl_by_element/qtl/qtl.ipsc_atac_peak_176213.txt  </td><td>ipsc_atac_peak_176213_0 </td></tr>\n",
       "\t<tr><td>ipsc_atac_peak_176214</td><td>0</td><td>TRUE</td><td>iPSC</td><td>ipsc_atac_peak_176214_0</td><td>FALSE</td><td>  NA</td><td>FALSE</td><td>TRUE</td><td>caqtls</td><td>/projects/CARDIPS/analysis/epigenome_resource/caqtls/iPSC/step_4/qtl_by_element/qtl/qtl.ipsc_atac_peak_176214.txt  </td><td>ipsc_atac_peak_176214_0 </td></tr>\n",
       "\t<tr><td>ipsc_atac_peak_176221</td><td>0</td><td>TRUE</td><td>iPSC</td><td>ipsc_atac_peak_176221_0</td><td>TRUE </td><td>TRUE</td><td> TRUE</td><td>TRUE</td><td>caqtls</td><td>/projects/CARDIPS/analysis/epigenome_resource/caqtls/iPSC/step_5/qtl_by_element/qtl/qtl.ipsc_atac_peak_176221.0.txt</td><td>ipsc_atac_peak_176221_0 </td></tr>\n",
       "\t<tr><td>ipsc_atac_peak_186703</td><td>0</td><td>TRUE</td><td>iPSC</td><td>ipsc_atac_peak_186703_0</td><td>FALSE</td><td>  NA</td><td>FALSE</td><td>TRUE</td><td>caqtls</td><td>/projects/CARDIPS/analysis/epigenome_resource/caqtls/iPSC/step_4/qtl_by_element/qtl/qtl.ipsc_atac_peak_186703.txt  </td><td>ipsc_atac_peak_186703_0 </td></tr>\n",
       "\t<tr><td>ipsc_atac_peak_1928  </td><td>0</td><td>TRUE</td><td>iPSC</td><td>ipsc_atac_peak_1928_0  </td><td>FALSE</td><td>  NA</td><td>FALSE</td><td>TRUE</td><td>caqtls</td><td>/projects/CARDIPS/analysis/epigenome_resource/caqtls/iPSC/step_4/qtl_by_element/qtl/qtl.ipsc_atac_peak_1928.txt    </td><td>ipsc_atac_peak_1928_0   </td></tr>\n",
       "\t<tr><td>ipsc_atac_peak_194191</td><td>0</td><td>TRUE</td><td>iPSC</td><td>ipsc_atac_peak_194191_0</td><td>TRUE </td><td>TRUE</td><td> TRUE</td><td>TRUE</td><td>caqtls</td><td>/projects/CARDIPS/analysis/epigenome_resource/caqtls/iPSC/step_5/qtl_by_element/qtl/qtl.ipsc_atac_peak_194191.0.txt</td><td>ipsc_atac_peak_194191_0 </td></tr>\n",
       "\t<tr><td>ipsc_atac_peak_1945  </td><td>0</td><td>TRUE</td><td>iPSC</td><td>ipsc_atac_peak_1945_0  </td><td>FALSE</td><td>  NA</td><td>FALSE</td><td>TRUE</td><td>caqtls</td><td>/projects/CARDIPS/analysis/epigenome_resource/caqtls/iPSC/step_4/qtl_by_element/qtl/qtl.ipsc_atac_peak_1945.txt    </td><td>ipsc_atac_peak_1945_0   </td></tr>\n",
       "\t<tr><td>ipsc_atac_peak_1947  </td><td>0</td><td>TRUE</td><td>iPSC</td><td>ipsc_atac_peak_1947_0  </td><td>FALSE</td><td>  NA</td><td>FALSE</td><td>TRUE</td><td>caqtls</td><td>/projects/CARDIPS/analysis/epigenome_resource/caqtls/iPSC/step_4/qtl_by_element/qtl/qtl.ipsc_atac_peak_1947.txt    </td><td>ipsc_atac_peak_1947_0   </td></tr>\n",
       "\t<tr><td>⋮</td><td>⋮</td><td>⋮</td><td>⋮</td><td>⋮</td><td>⋮</td><td>⋮</td><td>⋮</td><td>⋮</td><td>⋮</td><td>⋮</td><td>⋮</td></tr>\n",
       "\t<tr><td>ppc_atac_peak_2902 </td><td>0</td><td>TRUE</td><td>PPC</td><td>ppc_atac_peak_2902_0 </td><td>FALSE</td><td>  NA</td><td>FALSE</td><td>TRUE</td><td>caqtls</td><td>/projects/CARDIPS/analysis/epigenome_resource/caqtls/PPC/step_4/qtl_by_element/qtl/qtl.ppc_atac_peak_2902.txt   </td><td>ppc_atac_peak_2902_0 </td></tr>\n",
       "\t<tr><td>ppc_atac_peak_2903 </td><td>0</td><td>TRUE</td><td>PPC</td><td>ppc_atac_peak_2903_0 </td><td>TRUE </td><td>TRUE</td><td> TRUE</td><td>TRUE</td><td>caqtls</td><td>/projects/CARDIPS/analysis/epigenome_resource/caqtls/PPC/step_5/qtl_by_element/qtl/qtl.ppc_atac_peak_2903.0.txt </td><td>ppc_atac_peak_2903_0 </td></tr>\n",
       "\t<tr><td>ppc_atac_peak_2906 </td><td>0</td><td>TRUE</td><td>PPC</td><td>ppc_atac_peak_2906_0 </td><td>FALSE</td><td>  NA</td><td>FALSE</td><td>TRUE</td><td>caqtls</td><td>/projects/CARDIPS/analysis/epigenome_resource/caqtls/PPC/step_4/qtl_by_element/qtl/qtl.ppc_atac_peak_2906.txt   </td><td>ppc_atac_peak_2906_0 </td></tr>\n",
       "\t<tr><td>ppc_atac_peak_2907 </td><td>0</td><td>TRUE</td><td>PPC</td><td>ppc_atac_peak_2907_0 </td><td>TRUE </td><td>TRUE</td><td> TRUE</td><td>TRUE</td><td>caqtls</td><td>/projects/CARDIPS/analysis/epigenome_resource/caqtls/PPC/step_5/qtl_by_element/qtl/qtl.ppc_atac_peak_2907.0.txt </td><td>ppc_atac_peak_2907_0 </td></tr>\n",
       "\t<tr><td>ppc_atac_peak_2908 </td><td>0</td><td>TRUE</td><td>PPC</td><td>ppc_atac_peak_2908_0 </td><td>FALSE</td><td>  NA</td><td>FALSE</td><td>TRUE</td><td>caqtls</td><td>/projects/CARDIPS/analysis/epigenome_resource/caqtls/PPC/step_4/qtl_by_element/qtl/qtl.ppc_atac_peak_2908.txt   </td><td>ppc_atac_peak_2908_0 </td></tr>\n",
       "\t<tr><td>ppc_atac_peak_2909 </td><td>0</td><td>TRUE</td><td>PPC</td><td>ppc_atac_peak_2909_0 </td><td>FALSE</td><td>  NA</td><td>FALSE</td><td>TRUE</td><td>caqtls</td><td>/projects/CARDIPS/analysis/epigenome_resource/caqtls/PPC/step_4/qtl_by_element/qtl/qtl.ppc_atac_peak_2909.txt   </td><td>ppc_atac_peak_2909_0 </td></tr>\n",
       "\t<tr><td>ppc_atac_peak_2921 </td><td>0</td><td>TRUE</td><td>PPC</td><td>ppc_atac_peak_2921_0 </td><td>FALSE</td><td>  NA</td><td>FALSE</td><td>TRUE</td><td>caqtls</td><td>/projects/CARDIPS/analysis/epigenome_resource/caqtls/PPC/step_4/qtl_by_element/qtl/qtl.ppc_atac_peak_2921.txt   </td><td>ppc_atac_peak_2921_0 </td></tr>\n",
       "\t<tr><td>ppc_atac_peak_2924 </td><td>0</td><td>TRUE</td><td>PPC</td><td>ppc_atac_peak_2924_0 </td><td>FALSE</td><td>  NA</td><td>FALSE</td><td>TRUE</td><td>caqtls</td><td>/projects/CARDIPS/analysis/epigenome_resource/caqtls/PPC/step_4/qtl_by_element/qtl/qtl.ppc_atac_peak_2924.txt   </td><td>ppc_atac_peak_2924_0 </td></tr>\n",
       "\t<tr><td>ppc_atac_peak_2926 </td><td>0</td><td>TRUE</td><td>PPC</td><td>ppc_atac_peak_2926_0 </td><td>TRUE </td><td>TRUE</td><td> TRUE</td><td>TRUE</td><td>caqtls</td><td>/projects/CARDIPS/analysis/epigenome_resource/caqtls/PPC/step_5/qtl_by_element/qtl/qtl.ppc_atac_peak_2926.0.txt </td><td>ppc_atac_peak_2926_0 </td></tr>\n",
       "\t<tr><td>ppc_atac_peak_2927 </td><td>0</td><td>TRUE</td><td>PPC</td><td>ppc_atac_peak_2927_0 </td><td>TRUE </td><td>TRUE</td><td> TRUE</td><td>TRUE</td><td>caqtls</td><td>/projects/CARDIPS/analysis/epigenome_resource/caqtls/PPC/step_5/qtl_by_element/qtl/qtl.ppc_atac_peak_2927.0.txt </td><td>ppc_atac_peak_2927_0 </td></tr>\n",
       "\t<tr><td>ppc_atac_peak_2930 </td><td>0</td><td>TRUE</td><td>PPC</td><td>ppc_atac_peak_2930_0 </td><td>FALSE</td><td>  NA</td><td>FALSE</td><td>TRUE</td><td>caqtls</td><td>/projects/CARDIPS/analysis/epigenome_resource/caqtls/PPC/step_4/qtl_by_element/qtl/qtl.ppc_atac_peak_2930.txt   </td><td>ppc_atac_peak_2930_0 </td></tr>\n",
       "\t<tr><td>ppc_atac_peak_2942 </td><td>0</td><td>TRUE</td><td>PPC</td><td>ppc_atac_peak_2942_0 </td><td>FALSE</td><td>  NA</td><td>FALSE</td><td>TRUE</td><td>caqtls</td><td>/projects/CARDIPS/analysis/epigenome_resource/caqtls/PPC/step_4/qtl_by_element/qtl/qtl.ppc_atac_peak_2942.txt   </td><td>ppc_atac_peak_2942_0 </td></tr>\n",
       "\t<tr><td>ppc_atac_peak_30795</td><td>0</td><td>TRUE</td><td>PPC</td><td>ppc_atac_peak_30795_0</td><td>FALSE</td><td>  NA</td><td>FALSE</td><td>TRUE</td><td>caqtls</td><td>/projects/CARDIPS/analysis/epigenome_resource/caqtls/PPC/step_4/qtl_by_element/qtl/qtl.ppc_atac_peak_30795.txt  </td><td>ppc_atac_peak_30795_0</td></tr>\n",
       "\t<tr><td>ppc_atac_peak_30796</td><td>0</td><td>TRUE</td><td>PPC</td><td>ppc_atac_peak_30796_0</td><td>FALSE</td><td>  NA</td><td>FALSE</td><td>TRUE</td><td>caqtls</td><td>/projects/CARDIPS/analysis/epigenome_resource/caqtls/PPC/step_4/qtl_by_element/qtl/qtl.ppc_atac_peak_30796.txt  </td><td>ppc_atac_peak_30796_0</td></tr>\n",
       "\t<tr><td>ppc_atac_peak_30798</td><td>0</td><td>TRUE</td><td>PPC</td><td>ppc_atac_peak_30798_0</td><td>FALSE</td><td>  NA</td><td>FALSE</td><td>TRUE</td><td>caqtls</td><td>/projects/CARDIPS/analysis/epigenome_resource/caqtls/PPC/step_4/qtl_by_element/qtl/qtl.ppc_atac_peak_30798.txt  </td><td>ppc_atac_peak_30798_0</td></tr>\n",
       "\t<tr><td>ppc_atac_peak_30943</td><td>0</td><td>TRUE</td><td>PPC</td><td>ppc_atac_peak_30943_0</td><td>FALSE</td><td>  NA</td><td>FALSE</td><td>TRUE</td><td>caqtls</td><td>/projects/CARDIPS/analysis/epigenome_resource/caqtls/PPC/step_4/qtl_by_element/qtl/qtl.ppc_atac_peak_30943.txt  </td><td>ppc_atac_peak_30943_0</td></tr>\n",
       "\t<tr><td>ppc_atac_peak_30948</td><td>0</td><td>TRUE</td><td>PPC</td><td>ppc_atac_peak_30948_0</td><td>FALSE</td><td>  NA</td><td>FALSE</td><td>TRUE</td><td>caqtls</td><td>/projects/CARDIPS/analysis/epigenome_resource/caqtls/PPC/step_4/qtl_by_element/qtl/qtl.ppc_atac_peak_30948.txt  </td><td>ppc_atac_peak_30948_0</td></tr>\n",
       "\t<tr><td>ppc_atac_peak_30956</td><td>0</td><td>TRUE</td><td>PPC</td><td>ppc_atac_peak_30956_0</td><td>FALSE</td><td>  NA</td><td>FALSE</td><td>TRUE</td><td>caqtls</td><td>/projects/CARDIPS/analysis/epigenome_resource/caqtls/PPC/step_4/qtl_by_element/qtl/qtl.ppc_atac_peak_30956.txt  </td><td>ppc_atac_peak_30956_0</td></tr>\n",
       "\t<tr><td>ppc_atac_peak_30964</td><td>0</td><td>TRUE</td><td>PPC</td><td>ppc_atac_peak_30964_0</td><td>FALSE</td><td>  NA</td><td>FALSE</td><td>TRUE</td><td>caqtls</td><td>/projects/CARDIPS/analysis/epigenome_resource/caqtls/PPC/step_4/qtl_by_element/qtl/qtl.ppc_atac_peak_30964.txt  </td><td>ppc_atac_peak_30964_0</td></tr>\n",
       "\t<tr><td>ppc_atac_peak_30966</td><td>0</td><td>TRUE</td><td>PPC</td><td>ppc_atac_peak_30966_0</td><td>FALSE</td><td>  NA</td><td>FALSE</td><td>TRUE</td><td>caqtls</td><td>/projects/CARDIPS/analysis/epigenome_resource/caqtls/PPC/step_4/qtl_by_element/qtl/qtl.ppc_atac_peak_30966.txt  </td><td>ppc_atac_peak_30966_0</td></tr>\n",
       "\t<tr><td>ppc_atac_peak_30970</td><td>0</td><td>TRUE</td><td>PPC</td><td>ppc_atac_peak_30970_0</td><td>FALSE</td><td>  NA</td><td>FALSE</td><td>TRUE</td><td>caqtls</td><td>/projects/CARDIPS/analysis/epigenome_resource/caqtls/PPC/step_4/qtl_by_element/qtl/qtl.ppc_atac_peak_30970.txt  </td><td>ppc_atac_peak_30970_0</td></tr>\n",
       "\t<tr><td>ppc_atac_peak_30973</td><td>0</td><td>TRUE</td><td>PPC</td><td>ppc_atac_peak_30973_0</td><td>FALSE</td><td>  NA</td><td>FALSE</td><td>TRUE</td><td>caqtls</td><td>/projects/CARDIPS/analysis/epigenome_resource/caqtls/PPC/step_4/qtl_by_element/qtl/qtl.ppc_atac_peak_30973.txt  </td><td>ppc_atac_peak_30973_0</td></tr>\n",
       "\t<tr><td>ppc_atac_peak_32428</td><td>0</td><td>TRUE</td><td>PPC</td><td>ppc_atac_peak_32428_0</td><td>FALSE</td><td>  NA</td><td>FALSE</td><td>TRUE</td><td>caqtls</td><td>/projects/CARDIPS/analysis/epigenome_resource/caqtls/PPC/step_4/qtl_by_element/qtl/qtl.ppc_atac_peak_32428.txt  </td><td>ppc_atac_peak_32428_0</td></tr>\n",
       "\t<tr><td>ppc_atac_peak_4583 </td><td>0</td><td>TRUE</td><td>PPC</td><td>ppc_atac_peak_4583_0 </td><td>TRUE </td><td>TRUE</td><td> TRUE</td><td>TRUE</td><td>caqtls</td><td>/projects/CARDIPS/analysis/epigenome_resource/caqtls/PPC/step_5/qtl_by_element/qtl/qtl.ppc_atac_peak_4583.0.txt </td><td>ppc_atac_peak_4583_0 </td></tr>\n",
       "\t<tr><td>ppc_atac_peak_66634</td><td>0</td><td>TRUE</td><td>PPC</td><td>ppc_atac_peak_66634_0</td><td>FALSE</td><td>  NA</td><td>FALSE</td><td>TRUE</td><td>caqtls</td><td>/projects/CARDIPS/analysis/epigenome_resource/caqtls/PPC/step_4/qtl_by_element/qtl/qtl.ppc_atac_peak_66634.txt  </td><td>ppc_atac_peak_66634_0</td></tr>\n",
       "\t<tr><td>ppc_atac_peak_73292</td><td>0</td><td>TRUE</td><td>PPC</td><td>ppc_atac_peak_73292_0</td><td>FALSE</td><td>  NA</td><td>FALSE</td><td>TRUE</td><td>caqtls</td><td>/projects/CARDIPS/analysis/epigenome_resource/caqtls/PPC/step_4/qtl_by_element/qtl/qtl.ppc_atac_peak_73292.txt  </td><td>ppc_atac_peak_73292_0</td></tr>\n",
       "\t<tr><td>ppc_atac_peak_97920</td><td>0</td><td>TRUE</td><td>PPC</td><td>ppc_atac_peak_97920_0</td><td>FALSE</td><td>  NA</td><td>FALSE</td><td>TRUE</td><td>caqtls</td><td>/projects/CARDIPS/analysis/epigenome_resource/caqtls/PPC/step_4/qtl_by_element/qtl/qtl.ppc_atac_peak_97920.txt  </td><td>ppc_atac_peak_97920_0</td></tr>\n",
       "\t<tr><td>ppc_atac_peak_98985</td><td>0</td><td>TRUE</td><td>PPC</td><td>ppc_atac_peak_98985_0</td><td>FALSE</td><td>  NA</td><td>FALSE</td><td>TRUE</td><td>caqtls</td><td>/projects/CARDIPS/analysis/epigenome_resource/caqtls/PPC/step_4/qtl_by_element/qtl/qtl.ppc_atac_peak_98985.txt  </td><td>ppc_atac_peak_98985_0</td></tr>\n",
       "\t<tr><td>ppc_atac_peak_99022</td><td>0</td><td>TRUE</td><td>PPC</td><td>ppc_atac_peak_99022_0</td><td>FALSE</td><td>  NA</td><td>FALSE</td><td>TRUE</td><td>caqtls</td><td>/projects/CARDIPS/analysis/epigenome_resource/caqtls/PPC/step_4/qtl_by_element/qtl/qtl.ppc_atac_peak_99022.txt  </td><td>ppc_atac_peak_99022_0</td></tr>\n",
       "\t<tr><td>ppc_atac_peak_93747</td><td>1</td><td>TRUE</td><td>PPC</td><td>ppc_atac_peak_93747_1</td><td>TRUE </td><td>TRUE</td><td> TRUE</td><td>TRUE</td><td>caqtls</td><td>/projects/CARDIPS/analysis/epigenome_resource/caqtls/PPC/step_5/qtl_by_element/qtl/qtl.ppc_atac_peak_93747.1.txt</td><td>ppc_atac_peak_93747_1</td></tr>\n",
       "</tbody>\n",
       "</table>\n"
      ],
      "text/latex": [
       "A data.frame: 241 × 12\n",
       "\\begin{tabular}{llllllllllll}\n",
       " element\\_id & type & new\\_egene & tissue & qtl\\_id & regressed & regressed\\_signif & regressed\\_primary & updated\\_primary & datatype & path\\_to\\_qtl & element\\_cond\\\\\n",
       " <chr> & <int> & <lgl> & <chr> & <chr> & <chr> & <lgl> & <lgl> & <lgl> & <chr> & <chr> & <chr>\\\\\n",
       "\\hline\n",
       "\t ENSG00000234665.9     & 0 & TRUE & iPSC & ENSG00000234665.9\\_0     & FALSE &   NA & FALSE & TRUE & eqtls  & /projects/CARDIPS/analysis/epigenome\\_resource/eqtls/iPSC/step\\_4/qtl\\_by\\_element/qtl/qtl.ENSG00000234665.9.txt        & ipsc\\_ENSG00000234665.9\\_0\\\\\n",
       "\t ENSG00000263513.6     & 0 & TRUE & iPSC & ENSG00000263513.6\\_0     & FALSE &   NA & FALSE & TRUE & eqtls  & /projects/CARDIPS/analysis/epigenome\\_resource/eqtls/iPSC/step\\_4/qtl\\_by\\_element/qtl/qtl.ENSG00000263513.6.txt        & ipsc\\_ENSG00000263513.6\\_0\\\\\n",
       "\t ENSG00000266338.7     & 0 & TRUE & iPSC & ENSG00000266338.7\\_0     & FALSE &   NA & FALSE & TRUE & eqtls  & /projects/CARDIPS/analysis/epigenome\\_resource/eqtls/iPSC/step\\_4/qtl\\_by\\_element/qtl/qtl.ENSG00000266338.7.txt        & ipsc\\_ENSG00000266338.7\\_0\\\\\n",
       "\t ENSG00000270872.2     & 0 & TRUE & iPSC & ENSG00000270872.2\\_0     & TRUE  & TRUE &  TRUE & TRUE & eqtls  & /projects/CARDIPS/analysis/epigenome\\_resource/eqtls/iPSC/step\\_5/qtl\\_by\\_element/qtl/qtl.ENSG00000270872.2.0.txt      & ipsc\\_ENSG00000270872.2\\_0\\\\\n",
       "\t ENSG00000289318.2     & 0 & TRUE & iPSC & ENSG00000289318.2\\_0     & TRUE  & TRUE &  TRUE & TRUE & eqtls  & /projects/CARDIPS/analysis/epigenome\\_resource/eqtls/iPSC/step\\_5/qtl\\_by\\_element/qtl/qtl.ENSG00000289318.2.0.txt      & ipsc\\_ENSG00000289318.2\\_0\\\\\n",
       "\t ENSG00000291181.1     & 0 & TRUE & iPSC & ENSG00000291181.1\\_0     & FALSE &   NA & FALSE & TRUE & eqtls  & /projects/CARDIPS/analysis/epigenome\\_resource/eqtls/iPSC/step\\_4/qtl\\_by\\_element/qtl/qtl.ENSG00000291181.1.txt        & ipsc\\_ENSG00000291181.1\\_0\\\\\n",
       "\t ipsc\\_atac\\_peak\\_10677  & 0 & TRUE & iPSC & ipsc\\_atac\\_peak\\_10677\\_0  & FALSE &   NA & FALSE & TRUE & caqtls & /projects/CARDIPS/analysis/epigenome\\_resource/caqtls/iPSC/step\\_4/qtl\\_by\\_element/qtl/qtl.ipsc\\_atac\\_peak\\_10677.txt    & ipsc\\_atac\\_peak\\_10677\\_0  \\\\\n",
       "\t ipsc\\_atac\\_peak\\_11059  & 0 & TRUE & iPSC & ipsc\\_atac\\_peak\\_11059\\_0  & FALSE &   NA & FALSE & TRUE & caqtls & /projects/CARDIPS/analysis/epigenome\\_resource/caqtls/iPSC/step\\_4/qtl\\_by\\_element/qtl/qtl.ipsc\\_atac\\_peak\\_11059.txt    & ipsc\\_atac\\_peak\\_11059\\_0  \\\\\n",
       "\t ipsc\\_atac\\_peak\\_11063  & 0 & TRUE & iPSC & ipsc\\_atac\\_peak\\_11063\\_0  & FALSE &   NA & FALSE & TRUE & caqtls & /projects/CARDIPS/analysis/epigenome\\_resource/caqtls/iPSC/step\\_4/qtl\\_by\\_element/qtl/qtl.ipsc\\_atac\\_peak\\_11063.txt    & ipsc\\_atac\\_peak\\_11063\\_0  \\\\\n",
       "\t ipsc\\_atac\\_peak\\_11064  & 0 & TRUE & iPSC & ipsc\\_atac\\_peak\\_11064\\_0  & FALSE &   NA & FALSE & TRUE & caqtls & /projects/CARDIPS/analysis/epigenome\\_resource/caqtls/iPSC/step\\_4/qtl\\_by\\_element/qtl/qtl.ipsc\\_atac\\_peak\\_11064.txt    & ipsc\\_atac\\_peak\\_11064\\_0  \\\\\n",
       "\t ipsc\\_atac\\_peak\\_11067  & 0 & TRUE & iPSC & ipsc\\_atac\\_peak\\_11067\\_0  & FALSE &   NA & FALSE & TRUE & caqtls & /projects/CARDIPS/analysis/epigenome\\_resource/caqtls/iPSC/step\\_4/qtl\\_by\\_element/qtl/qtl.ipsc\\_atac\\_peak\\_11067.txt    & ipsc\\_atac\\_peak\\_11067\\_0  \\\\\n",
       "\t ipsc\\_atac\\_peak\\_158643 & 0 & TRUE & iPSC & ipsc\\_atac\\_peak\\_158643\\_0 & TRUE  & TRUE &  TRUE & TRUE & caqtls & /projects/CARDIPS/analysis/epigenome\\_resource/caqtls/iPSC/step\\_5/qtl\\_by\\_element/qtl/qtl.ipsc\\_atac\\_peak\\_158643.0.txt & ipsc\\_atac\\_peak\\_158643\\_0 \\\\\n",
       "\t ipsc\\_atac\\_peak\\_163983 & 0 & TRUE & iPSC & ipsc\\_atac\\_peak\\_163983\\_0 & FALSE &   NA & FALSE & TRUE & caqtls & /projects/CARDIPS/analysis/epigenome\\_resource/caqtls/iPSC/step\\_4/qtl\\_by\\_element/qtl/qtl.ipsc\\_atac\\_peak\\_163983.txt   & ipsc\\_atac\\_peak\\_163983\\_0 \\\\\n",
       "\t ipsc\\_atac\\_peak\\_163984 & 0 & TRUE & iPSC & ipsc\\_atac\\_peak\\_163984\\_0 & FALSE &   NA & FALSE & TRUE & caqtls & /projects/CARDIPS/analysis/epigenome\\_resource/caqtls/iPSC/step\\_4/qtl\\_by\\_element/qtl/qtl.ipsc\\_atac\\_peak\\_163984.txt   & ipsc\\_atac\\_peak\\_163984\\_0 \\\\\n",
       "\t ipsc\\_atac\\_peak\\_163985 & 0 & TRUE & iPSC & ipsc\\_atac\\_peak\\_163985\\_0 & FALSE &   NA & FALSE & TRUE & caqtls & /projects/CARDIPS/analysis/epigenome\\_resource/caqtls/iPSC/step\\_4/qtl\\_by\\_element/qtl/qtl.ipsc\\_atac\\_peak\\_163985.txt   & ipsc\\_atac\\_peak\\_163985\\_0 \\\\\n",
       "\t ipsc\\_atac\\_peak\\_163986 & 0 & TRUE & iPSC & ipsc\\_atac\\_peak\\_163986\\_0 & FALSE &   NA & FALSE & TRUE & caqtls & /projects/CARDIPS/analysis/epigenome\\_resource/caqtls/iPSC/step\\_4/qtl\\_by\\_element/qtl/qtl.ipsc\\_atac\\_peak\\_163986.txt   & ipsc\\_atac\\_peak\\_163986\\_0 \\\\\n",
       "\t ipsc\\_atac\\_peak\\_163987 & 0 & TRUE & iPSC & ipsc\\_atac\\_peak\\_163987\\_0 & FALSE &   NA & FALSE & TRUE & caqtls & /projects/CARDIPS/analysis/epigenome\\_resource/caqtls/iPSC/step\\_4/qtl\\_by\\_element/qtl/qtl.ipsc\\_atac\\_peak\\_163987.txt   & ipsc\\_atac\\_peak\\_163987\\_0 \\\\\n",
       "\t ipsc\\_atac\\_peak\\_163988 & 0 & TRUE & iPSC & ipsc\\_atac\\_peak\\_163988\\_0 & FALSE &   NA & FALSE & TRUE & caqtls & /projects/CARDIPS/analysis/epigenome\\_resource/caqtls/iPSC/step\\_4/qtl\\_by\\_element/qtl/qtl.ipsc\\_atac\\_peak\\_163988.txt   & ipsc\\_atac\\_peak\\_163988\\_0 \\\\\n",
       "\t ipsc\\_atac\\_peak\\_163990 & 0 & TRUE & iPSC & ipsc\\_atac\\_peak\\_163990\\_0 & FALSE &   NA & FALSE & TRUE & caqtls & /projects/CARDIPS/analysis/epigenome\\_resource/caqtls/iPSC/step\\_4/qtl\\_by\\_element/qtl/qtl.ipsc\\_atac\\_peak\\_163990.txt   & ipsc\\_atac\\_peak\\_163990\\_0 \\\\\n",
       "\t ipsc\\_atac\\_peak\\_164008 & 0 & TRUE & iPSC & ipsc\\_atac\\_peak\\_164008\\_0 & FALSE &   NA & FALSE & TRUE & caqtls & /projects/CARDIPS/analysis/epigenome\\_resource/caqtls/iPSC/step\\_4/qtl\\_by\\_element/qtl/qtl.ipsc\\_atac\\_peak\\_164008.txt   & ipsc\\_atac\\_peak\\_164008\\_0 \\\\\n",
       "\t ipsc\\_atac\\_peak\\_176197 & 0 & TRUE & iPSC & ipsc\\_atac\\_peak\\_176197\\_0 & FALSE &   NA & FALSE & TRUE & caqtls & /projects/CARDIPS/analysis/epigenome\\_resource/caqtls/iPSC/step\\_4/qtl\\_by\\_element/qtl/qtl.ipsc\\_atac\\_peak\\_176197.txt   & ipsc\\_atac\\_peak\\_176197\\_0 \\\\\n",
       "\t ipsc\\_atac\\_peak\\_176204 & 0 & TRUE & iPSC & ipsc\\_atac\\_peak\\_176204\\_0 & FALSE &   NA & FALSE & TRUE & caqtls & /projects/CARDIPS/analysis/epigenome\\_resource/caqtls/iPSC/step\\_4/qtl\\_by\\_element/qtl/qtl.ipsc\\_atac\\_peak\\_176204.txt   & ipsc\\_atac\\_peak\\_176204\\_0 \\\\\n",
       "\t ipsc\\_atac\\_peak\\_176213 & 0 & TRUE & iPSC & ipsc\\_atac\\_peak\\_176213\\_0 & FALSE &   NA & FALSE & TRUE & caqtls & /projects/CARDIPS/analysis/epigenome\\_resource/caqtls/iPSC/step\\_4/qtl\\_by\\_element/qtl/qtl.ipsc\\_atac\\_peak\\_176213.txt   & ipsc\\_atac\\_peak\\_176213\\_0 \\\\\n",
       "\t ipsc\\_atac\\_peak\\_176214 & 0 & TRUE & iPSC & ipsc\\_atac\\_peak\\_176214\\_0 & FALSE &   NA & FALSE & TRUE & caqtls & /projects/CARDIPS/analysis/epigenome\\_resource/caqtls/iPSC/step\\_4/qtl\\_by\\_element/qtl/qtl.ipsc\\_atac\\_peak\\_176214.txt   & ipsc\\_atac\\_peak\\_176214\\_0 \\\\\n",
       "\t ipsc\\_atac\\_peak\\_176221 & 0 & TRUE & iPSC & ipsc\\_atac\\_peak\\_176221\\_0 & TRUE  & TRUE &  TRUE & TRUE & caqtls & /projects/CARDIPS/analysis/epigenome\\_resource/caqtls/iPSC/step\\_5/qtl\\_by\\_element/qtl/qtl.ipsc\\_atac\\_peak\\_176221.0.txt & ipsc\\_atac\\_peak\\_176221\\_0 \\\\\n",
       "\t ipsc\\_atac\\_peak\\_186703 & 0 & TRUE & iPSC & ipsc\\_atac\\_peak\\_186703\\_0 & FALSE &   NA & FALSE & TRUE & caqtls & /projects/CARDIPS/analysis/epigenome\\_resource/caqtls/iPSC/step\\_4/qtl\\_by\\_element/qtl/qtl.ipsc\\_atac\\_peak\\_186703.txt   & ipsc\\_atac\\_peak\\_186703\\_0 \\\\\n",
       "\t ipsc\\_atac\\_peak\\_1928   & 0 & TRUE & iPSC & ipsc\\_atac\\_peak\\_1928\\_0   & FALSE &   NA & FALSE & TRUE & caqtls & /projects/CARDIPS/analysis/epigenome\\_resource/caqtls/iPSC/step\\_4/qtl\\_by\\_element/qtl/qtl.ipsc\\_atac\\_peak\\_1928.txt     & ipsc\\_atac\\_peak\\_1928\\_0   \\\\\n",
       "\t ipsc\\_atac\\_peak\\_194191 & 0 & TRUE & iPSC & ipsc\\_atac\\_peak\\_194191\\_0 & TRUE  & TRUE &  TRUE & TRUE & caqtls & /projects/CARDIPS/analysis/epigenome\\_resource/caqtls/iPSC/step\\_5/qtl\\_by\\_element/qtl/qtl.ipsc\\_atac\\_peak\\_194191.0.txt & ipsc\\_atac\\_peak\\_194191\\_0 \\\\\n",
       "\t ipsc\\_atac\\_peak\\_1945   & 0 & TRUE & iPSC & ipsc\\_atac\\_peak\\_1945\\_0   & FALSE &   NA & FALSE & TRUE & caqtls & /projects/CARDIPS/analysis/epigenome\\_resource/caqtls/iPSC/step\\_4/qtl\\_by\\_element/qtl/qtl.ipsc\\_atac\\_peak\\_1945.txt     & ipsc\\_atac\\_peak\\_1945\\_0   \\\\\n",
       "\t ipsc\\_atac\\_peak\\_1947   & 0 & TRUE & iPSC & ipsc\\_atac\\_peak\\_1947\\_0   & FALSE &   NA & FALSE & TRUE & caqtls & /projects/CARDIPS/analysis/epigenome\\_resource/caqtls/iPSC/step\\_4/qtl\\_by\\_element/qtl/qtl.ipsc\\_atac\\_peak\\_1947.txt     & ipsc\\_atac\\_peak\\_1947\\_0   \\\\\n",
       "\t ⋮ & ⋮ & ⋮ & ⋮ & ⋮ & ⋮ & ⋮ & ⋮ & ⋮ & ⋮ & ⋮ & ⋮\\\\\n",
       "\t ppc\\_atac\\_peak\\_2902  & 0 & TRUE & PPC & ppc\\_atac\\_peak\\_2902\\_0  & FALSE &   NA & FALSE & TRUE & caqtls & /projects/CARDIPS/analysis/epigenome\\_resource/caqtls/PPC/step\\_4/qtl\\_by\\_element/qtl/qtl.ppc\\_atac\\_peak\\_2902.txt    & ppc\\_atac\\_peak\\_2902\\_0 \\\\\n",
       "\t ppc\\_atac\\_peak\\_2903  & 0 & TRUE & PPC & ppc\\_atac\\_peak\\_2903\\_0  & TRUE  & TRUE &  TRUE & TRUE & caqtls & /projects/CARDIPS/analysis/epigenome\\_resource/caqtls/PPC/step\\_5/qtl\\_by\\_element/qtl/qtl.ppc\\_atac\\_peak\\_2903.0.txt  & ppc\\_atac\\_peak\\_2903\\_0 \\\\\n",
       "\t ppc\\_atac\\_peak\\_2906  & 0 & TRUE & PPC & ppc\\_atac\\_peak\\_2906\\_0  & FALSE &   NA & FALSE & TRUE & caqtls & /projects/CARDIPS/analysis/epigenome\\_resource/caqtls/PPC/step\\_4/qtl\\_by\\_element/qtl/qtl.ppc\\_atac\\_peak\\_2906.txt    & ppc\\_atac\\_peak\\_2906\\_0 \\\\\n",
       "\t ppc\\_atac\\_peak\\_2907  & 0 & TRUE & PPC & ppc\\_atac\\_peak\\_2907\\_0  & TRUE  & TRUE &  TRUE & TRUE & caqtls & /projects/CARDIPS/analysis/epigenome\\_resource/caqtls/PPC/step\\_5/qtl\\_by\\_element/qtl/qtl.ppc\\_atac\\_peak\\_2907.0.txt  & ppc\\_atac\\_peak\\_2907\\_0 \\\\\n",
       "\t ppc\\_atac\\_peak\\_2908  & 0 & TRUE & PPC & ppc\\_atac\\_peak\\_2908\\_0  & FALSE &   NA & FALSE & TRUE & caqtls & /projects/CARDIPS/analysis/epigenome\\_resource/caqtls/PPC/step\\_4/qtl\\_by\\_element/qtl/qtl.ppc\\_atac\\_peak\\_2908.txt    & ppc\\_atac\\_peak\\_2908\\_0 \\\\\n",
       "\t ppc\\_atac\\_peak\\_2909  & 0 & TRUE & PPC & ppc\\_atac\\_peak\\_2909\\_0  & FALSE &   NA & FALSE & TRUE & caqtls & /projects/CARDIPS/analysis/epigenome\\_resource/caqtls/PPC/step\\_4/qtl\\_by\\_element/qtl/qtl.ppc\\_atac\\_peak\\_2909.txt    & ppc\\_atac\\_peak\\_2909\\_0 \\\\\n",
       "\t ppc\\_atac\\_peak\\_2921  & 0 & TRUE & PPC & ppc\\_atac\\_peak\\_2921\\_0  & FALSE &   NA & FALSE & TRUE & caqtls & /projects/CARDIPS/analysis/epigenome\\_resource/caqtls/PPC/step\\_4/qtl\\_by\\_element/qtl/qtl.ppc\\_atac\\_peak\\_2921.txt    & ppc\\_atac\\_peak\\_2921\\_0 \\\\\n",
       "\t ppc\\_atac\\_peak\\_2924  & 0 & TRUE & PPC & ppc\\_atac\\_peak\\_2924\\_0  & FALSE &   NA & FALSE & TRUE & caqtls & /projects/CARDIPS/analysis/epigenome\\_resource/caqtls/PPC/step\\_4/qtl\\_by\\_element/qtl/qtl.ppc\\_atac\\_peak\\_2924.txt    & ppc\\_atac\\_peak\\_2924\\_0 \\\\\n",
       "\t ppc\\_atac\\_peak\\_2926  & 0 & TRUE & PPC & ppc\\_atac\\_peak\\_2926\\_0  & TRUE  & TRUE &  TRUE & TRUE & caqtls & /projects/CARDIPS/analysis/epigenome\\_resource/caqtls/PPC/step\\_5/qtl\\_by\\_element/qtl/qtl.ppc\\_atac\\_peak\\_2926.0.txt  & ppc\\_atac\\_peak\\_2926\\_0 \\\\\n",
       "\t ppc\\_atac\\_peak\\_2927  & 0 & TRUE & PPC & ppc\\_atac\\_peak\\_2927\\_0  & TRUE  & TRUE &  TRUE & TRUE & caqtls & /projects/CARDIPS/analysis/epigenome\\_resource/caqtls/PPC/step\\_5/qtl\\_by\\_element/qtl/qtl.ppc\\_atac\\_peak\\_2927.0.txt  & ppc\\_atac\\_peak\\_2927\\_0 \\\\\n",
       "\t ppc\\_atac\\_peak\\_2930  & 0 & TRUE & PPC & ppc\\_atac\\_peak\\_2930\\_0  & FALSE &   NA & FALSE & TRUE & caqtls & /projects/CARDIPS/analysis/epigenome\\_resource/caqtls/PPC/step\\_4/qtl\\_by\\_element/qtl/qtl.ppc\\_atac\\_peak\\_2930.txt    & ppc\\_atac\\_peak\\_2930\\_0 \\\\\n",
       "\t ppc\\_atac\\_peak\\_2942  & 0 & TRUE & PPC & ppc\\_atac\\_peak\\_2942\\_0  & FALSE &   NA & FALSE & TRUE & caqtls & /projects/CARDIPS/analysis/epigenome\\_resource/caqtls/PPC/step\\_4/qtl\\_by\\_element/qtl/qtl.ppc\\_atac\\_peak\\_2942.txt    & ppc\\_atac\\_peak\\_2942\\_0 \\\\\n",
       "\t ppc\\_atac\\_peak\\_30795 & 0 & TRUE & PPC & ppc\\_atac\\_peak\\_30795\\_0 & FALSE &   NA & FALSE & TRUE & caqtls & /projects/CARDIPS/analysis/epigenome\\_resource/caqtls/PPC/step\\_4/qtl\\_by\\_element/qtl/qtl.ppc\\_atac\\_peak\\_30795.txt   & ppc\\_atac\\_peak\\_30795\\_0\\\\\n",
       "\t ppc\\_atac\\_peak\\_30796 & 0 & TRUE & PPC & ppc\\_atac\\_peak\\_30796\\_0 & FALSE &   NA & FALSE & TRUE & caqtls & /projects/CARDIPS/analysis/epigenome\\_resource/caqtls/PPC/step\\_4/qtl\\_by\\_element/qtl/qtl.ppc\\_atac\\_peak\\_30796.txt   & ppc\\_atac\\_peak\\_30796\\_0\\\\\n",
       "\t ppc\\_atac\\_peak\\_30798 & 0 & TRUE & PPC & ppc\\_atac\\_peak\\_30798\\_0 & FALSE &   NA & FALSE & TRUE & caqtls & /projects/CARDIPS/analysis/epigenome\\_resource/caqtls/PPC/step\\_4/qtl\\_by\\_element/qtl/qtl.ppc\\_atac\\_peak\\_30798.txt   & ppc\\_atac\\_peak\\_30798\\_0\\\\\n",
       "\t ppc\\_atac\\_peak\\_30943 & 0 & TRUE & PPC & ppc\\_atac\\_peak\\_30943\\_0 & FALSE &   NA & FALSE & TRUE & caqtls & /projects/CARDIPS/analysis/epigenome\\_resource/caqtls/PPC/step\\_4/qtl\\_by\\_element/qtl/qtl.ppc\\_atac\\_peak\\_30943.txt   & ppc\\_atac\\_peak\\_30943\\_0\\\\\n",
       "\t ppc\\_atac\\_peak\\_30948 & 0 & TRUE & PPC & ppc\\_atac\\_peak\\_30948\\_0 & FALSE &   NA & FALSE & TRUE & caqtls & /projects/CARDIPS/analysis/epigenome\\_resource/caqtls/PPC/step\\_4/qtl\\_by\\_element/qtl/qtl.ppc\\_atac\\_peak\\_30948.txt   & ppc\\_atac\\_peak\\_30948\\_0\\\\\n",
       "\t ppc\\_atac\\_peak\\_30956 & 0 & TRUE & PPC & ppc\\_atac\\_peak\\_30956\\_0 & FALSE &   NA & FALSE & TRUE & caqtls & /projects/CARDIPS/analysis/epigenome\\_resource/caqtls/PPC/step\\_4/qtl\\_by\\_element/qtl/qtl.ppc\\_atac\\_peak\\_30956.txt   & ppc\\_atac\\_peak\\_30956\\_0\\\\\n",
       "\t ppc\\_atac\\_peak\\_30964 & 0 & TRUE & PPC & ppc\\_atac\\_peak\\_30964\\_0 & FALSE &   NA & FALSE & TRUE & caqtls & /projects/CARDIPS/analysis/epigenome\\_resource/caqtls/PPC/step\\_4/qtl\\_by\\_element/qtl/qtl.ppc\\_atac\\_peak\\_30964.txt   & ppc\\_atac\\_peak\\_30964\\_0\\\\\n",
       "\t ppc\\_atac\\_peak\\_30966 & 0 & TRUE & PPC & ppc\\_atac\\_peak\\_30966\\_0 & FALSE &   NA & FALSE & TRUE & caqtls & /projects/CARDIPS/analysis/epigenome\\_resource/caqtls/PPC/step\\_4/qtl\\_by\\_element/qtl/qtl.ppc\\_atac\\_peak\\_30966.txt   & ppc\\_atac\\_peak\\_30966\\_0\\\\\n",
       "\t ppc\\_atac\\_peak\\_30970 & 0 & TRUE & PPC & ppc\\_atac\\_peak\\_30970\\_0 & FALSE &   NA & FALSE & TRUE & caqtls & /projects/CARDIPS/analysis/epigenome\\_resource/caqtls/PPC/step\\_4/qtl\\_by\\_element/qtl/qtl.ppc\\_atac\\_peak\\_30970.txt   & ppc\\_atac\\_peak\\_30970\\_0\\\\\n",
       "\t ppc\\_atac\\_peak\\_30973 & 0 & TRUE & PPC & ppc\\_atac\\_peak\\_30973\\_0 & FALSE &   NA & FALSE & TRUE & caqtls & /projects/CARDIPS/analysis/epigenome\\_resource/caqtls/PPC/step\\_4/qtl\\_by\\_element/qtl/qtl.ppc\\_atac\\_peak\\_30973.txt   & ppc\\_atac\\_peak\\_30973\\_0\\\\\n",
       "\t ppc\\_atac\\_peak\\_32428 & 0 & TRUE & PPC & ppc\\_atac\\_peak\\_32428\\_0 & FALSE &   NA & FALSE & TRUE & caqtls & /projects/CARDIPS/analysis/epigenome\\_resource/caqtls/PPC/step\\_4/qtl\\_by\\_element/qtl/qtl.ppc\\_atac\\_peak\\_32428.txt   & ppc\\_atac\\_peak\\_32428\\_0\\\\\n",
       "\t ppc\\_atac\\_peak\\_4583  & 0 & TRUE & PPC & ppc\\_atac\\_peak\\_4583\\_0  & TRUE  & TRUE &  TRUE & TRUE & caqtls & /projects/CARDIPS/analysis/epigenome\\_resource/caqtls/PPC/step\\_5/qtl\\_by\\_element/qtl/qtl.ppc\\_atac\\_peak\\_4583.0.txt  & ppc\\_atac\\_peak\\_4583\\_0 \\\\\n",
       "\t ppc\\_atac\\_peak\\_66634 & 0 & TRUE & PPC & ppc\\_atac\\_peak\\_66634\\_0 & FALSE &   NA & FALSE & TRUE & caqtls & /projects/CARDIPS/analysis/epigenome\\_resource/caqtls/PPC/step\\_4/qtl\\_by\\_element/qtl/qtl.ppc\\_atac\\_peak\\_66634.txt   & ppc\\_atac\\_peak\\_66634\\_0\\\\\n",
       "\t ppc\\_atac\\_peak\\_73292 & 0 & TRUE & PPC & ppc\\_atac\\_peak\\_73292\\_0 & FALSE &   NA & FALSE & TRUE & caqtls & /projects/CARDIPS/analysis/epigenome\\_resource/caqtls/PPC/step\\_4/qtl\\_by\\_element/qtl/qtl.ppc\\_atac\\_peak\\_73292.txt   & ppc\\_atac\\_peak\\_73292\\_0\\\\\n",
       "\t ppc\\_atac\\_peak\\_97920 & 0 & TRUE & PPC & ppc\\_atac\\_peak\\_97920\\_0 & FALSE &   NA & FALSE & TRUE & caqtls & /projects/CARDIPS/analysis/epigenome\\_resource/caqtls/PPC/step\\_4/qtl\\_by\\_element/qtl/qtl.ppc\\_atac\\_peak\\_97920.txt   & ppc\\_atac\\_peak\\_97920\\_0\\\\\n",
       "\t ppc\\_atac\\_peak\\_98985 & 0 & TRUE & PPC & ppc\\_atac\\_peak\\_98985\\_0 & FALSE &   NA & FALSE & TRUE & caqtls & /projects/CARDIPS/analysis/epigenome\\_resource/caqtls/PPC/step\\_4/qtl\\_by\\_element/qtl/qtl.ppc\\_atac\\_peak\\_98985.txt   & ppc\\_atac\\_peak\\_98985\\_0\\\\\n",
       "\t ppc\\_atac\\_peak\\_99022 & 0 & TRUE & PPC & ppc\\_atac\\_peak\\_99022\\_0 & FALSE &   NA & FALSE & TRUE & caqtls & /projects/CARDIPS/analysis/epigenome\\_resource/caqtls/PPC/step\\_4/qtl\\_by\\_element/qtl/qtl.ppc\\_atac\\_peak\\_99022.txt   & ppc\\_atac\\_peak\\_99022\\_0\\\\\n",
       "\t ppc\\_atac\\_peak\\_93747 & 1 & TRUE & PPC & ppc\\_atac\\_peak\\_93747\\_1 & TRUE  & TRUE &  TRUE & TRUE & caqtls & /projects/CARDIPS/analysis/epigenome\\_resource/caqtls/PPC/step\\_5/qtl\\_by\\_element/qtl/qtl.ppc\\_atac\\_peak\\_93747.1.txt & ppc\\_atac\\_peak\\_93747\\_1\\\\\n",
       "\\end{tabular}\n"
      ],
      "text/markdown": [
       "\n",
       "A data.frame: 241 × 12\n",
       "\n",
       "| element_id &lt;chr&gt; | type &lt;int&gt; | new_egene &lt;lgl&gt; | tissue &lt;chr&gt; | qtl_id &lt;chr&gt; | regressed &lt;chr&gt; | regressed_signif &lt;lgl&gt; | regressed_primary &lt;lgl&gt; | updated_primary &lt;lgl&gt; | datatype &lt;chr&gt; | path_to_qtl &lt;chr&gt; | element_cond &lt;chr&gt; |\n",
       "|---|---|---|---|---|---|---|---|---|---|---|---|\n",
       "| ENSG00000234665.9     | 0 | TRUE | iPSC | ENSG00000234665.9_0     | FALSE |   NA | FALSE | TRUE | eqtls  | /projects/CARDIPS/analysis/epigenome_resource/eqtls/iPSC/step_4/qtl_by_element/qtl/qtl.ENSG00000234665.9.txt        | ipsc_ENSG00000234665.9_0 |\n",
       "| ENSG00000263513.6     | 0 | TRUE | iPSC | ENSG00000263513.6_0     | FALSE |   NA | FALSE | TRUE | eqtls  | /projects/CARDIPS/analysis/epigenome_resource/eqtls/iPSC/step_4/qtl_by_element/qtl/qtl.ENSG00000263513.6.txt        | ipsc_ENSG00000263513.6_0 |\n",
       "| ENSG00000266338.7     | 0 | TRUE | iPSC | ENSG00000266338.7_0     | FALSE |   NA | FALSE | TRUE | eqtls  | /projects/CARDIPS/analysis/epigenome_resource/eqtls/iPSC/step_4/qtl_by_element/qtl/qtl.ENSG00000266338.7.txt        | ipsc_ENSG00000266338.7_0 |\n",
       "| ENSG00000270872.2     | 0 | TRUE | iPSC | ENSG00000270872.2_0     | TRUE  | TRUE |  TRUE | TRUE | eqtls  | /projects/CARDIPS/analysis/epigenome_resource/eqtls/iPSC/step_5/qtl_by_element/qtl/qtl.ENSG00000270872.2.0.txt      | ipsc_ENSG00000270872.2_0 |\n",
       "| ENSG00000289318.2     | 0 | TRUE | iPSC | ENSG00000289318.2_0     | TRUE  | TRUE |  TRUE | TRUE | eqtls  | /projects/CARDIPS/analysis/epigenome_resource/eqtls/iPSC/step_5/qtl_by_element/qtl/qtl.ENSG00000289318.2.0.txt      | ipsc_ENSG00000289318.2_0 |\n",
       "| ENSG00000291181.1     | 0 | TRUE | iPSC | ENSG00000291181.1_0     | FALSE |   NA | FALSE | TRUE | eqtls  | /projects/CARDIPS/analysis/epigenome_resource/eqtls/iPSC/step_4/qtl_by_element/qtl/qtl.ENSG00000291181.1.txt        | ipsc_ENSG00000291181.1_0 |\n",
       "| ipsc_atac_peak_10677  | 0 | TRUE | iPSC | ipsc_atac_peak_10677_0  | FALSE |   NA | FALSE | TRUE | caqtls | /projects/CARDIPS/analysis/epigenome_resource/caqtls/iPSC/step_4/qtl_by_element/qtl/qtl.ipsc_atac_peak_10677.txt    | ipsc_atac_peak_10677_0   |\n",
       "| ipsc_atac_peak_11059  | 0 | TRUE | iPSC | ipsc_atac_peak_11059_0  | FALSE |   NA | FALSE | TRUE | caqtls | /projects/CARDIPS/analysis/epigenome_resource/caqtls/iPSC/step_4/qtl_by_element/qtl/qtl.ipsc_atac_peak_11059.txt    | ipsc_atac_peak_11059_0   |\n",
       "| ipsc_atac_peak_11063  | 0 | TRUE | iPSC | ipsc_atac_peak_11063_0  | FALSE |   NA | FALSE | TRUE | caqtls | /projects/CARDIPS/analysis/epigenome_resource/caqtls/iPSC/step_4/qtl_by_element/qtl/qtl.ipsc_atac_peak_11063.txt    | ipsc_atac_peak_11063_0   |\n",
       "| ipsc_atac_peak_11064  | 0 | TRUE | iPSC | ipsc_atac_peak_11064_0  | FALSE |   NA | FALSE | TRUE | caqtls | /projects/CARDIPS/analysis/epigenome_resource/caqtls/iPSC/step_4/qtl_by_element/qtl/qtl.ipsc_atac_peak_11064.txt    | ipsc_atac_peak_11064_0   |\n",
       "| ipsc_atac_peak_11067  | 0 | TRUE | iPSC | ipsc_atac_peak_11067_0  | FALSE |   NA | FALSE | TRUE | caqtls | /projects/CARDIPS/analysis/epigenome_resource/caqtls/iPSC/step_4/qtl_by_element/qtl/qtl.ipsc_atac_peak_11067.txt    | ipsc_atac_peak_11067_0   |\n",
       "| ipsc_atac_peak_158643 | 0 | TRUE | iPSC | ipsc_atac_peak_158643_0 | TRUE  | TRUE |  TRUE | TRUE | caqtls | /projects/CARDIPS/analysis/epigenome_resource/caqtls/iPSC/step_5/qtl_by_element/qtl/qtl.ipsc_atac_peak_158643.0.txt | ipsc_atac_peak_158643_0  |\n",
       "| ipsc_atac_peak_163983 | 0 | TRUE | iPSC | ipsc_atac_peak_163983_0 | FALSE |   NA | FALSE | TRUE | caqtls | /projects/CARDIPS/analysis/epigenome_resource/caqtls/iPSC/step_4/qtl_by_element/qtl/qtl.ipsc_atac_peak_163983.txt   | ipsc_atac_peak_163983_0  |\n",
       "| ipsc_atac_peak_163984 | 0 | TRUE | iPSC | ipsc_atac_peak_163984_0 | FALSE |   NA | FALSE | TRUE | caqtls | /projects/CARDIPS/analysis/epigenome_resource/caqtls/iPSC/step_4/qtl_by_element/qtl/qtl.ipsc_atac_peak_163984.txt   | ipsc_atac_peak_163984_0  |\n",
       "| ipsc_atac_peak_163985 | 0 | TRUE | iPSC | ipsc_atac_peak_163985_0 | FALSE |   NA | FALSE | TRUE | caqtls | /projects/CARDIPS/analysis/epigenome_resource/caqtls/iPSC/step_4/qtl_by_element/qtl/qtl.ipsc_atac_peak_163985.txt   | ipsc_atac_peak_163985_0  |\n",
       "| ipsc_atac_peak_163986 | 0 | TRUE | iPSC | ipsc_atac_peak_163986_0 | FALSE |   NA | FALSE | TRUE | caqtls | /projects/CARDIPS/analysis/epigenome_resource/caqtls/iPSC/step_4/qtl_by_element/qtl/qtl.ipsc_atac_peak_163986.txt   | ipsc_atac_peak_163986_0  |\n",
       "| ipsc_atac_peak_163987 | 0 | TRUE | iPSC | ipsc_atac_peak_163987_0 | FALSE |   NA | FALSE | TRUE | caqtls | /projects/CARDIPS/analysis/epigenome_resource/caqtls/iPSC/step_4/qtl_by_element/qtl/qtl.ipsc_atac_peak_163987.txt   | ipsc_atac_peak_163987_0  |\n",
       "| ipsc_atac_peak_163988 | 0 | TRUE | iPSC | ipsc_atac_peak_163988_0 | FALSE |   NA | FALSE | TRUE | caqtls | /projects/CARDIPS/analysis/epigenome_resource/caqtls/iPSC/step_4/qtl_by_element/qtl/qtl.ipsc_atac_peak_163988.txt   | ipsc_atac_peak_163988_0  |\n",
       "| ipsc_atac_peak_163990 | 0 | TRUE | iPSC | ipsc_atac_peak_163990_0 | FALSE |   NA | FALSE | TRUE | caqtls | /projects/CARDIPS/analysis/epigenome_resource/caqtls/iPSC/step_4/qtl_by_element/qtl/qtl.ipsc_atac_peak_163990.txt   | ipsc_atac_peak_163990_0  |\n",
       "| ipsc_atac_peak_164008 | 0 | TRUE | iPSC | ipsc_atac_peak_164008_0 | FALSE |   NA | FALSE | TRUE | caqtls | /projects/CARDIPS/analysis/epigenome_resource/caqtls/iPSC/step_4/qtl_by_element/qtl/qtl.ipsc_atac_peak_164008.txt   | ipsc_atac_peak_164008_0  |\n",
       "| ipsc_atac_peak_176197 | 0 | TRUE | iPSC | ipsc_atac_peak_176197_0 | FALSE |   NA | FALSE | TRUE | caqtls | /projects/CARDIPS/analysis/epigenome_resource/caqtls/iPSC/step_4/qtl_by_element/qtl/qtl.ipsc_atac_peak_176197.txt   | ipsc_atac_peak_176197_0  |\n",
       "| ipsc_atac_peak_176204 | 0 | TRUE | iPSC | ipsc_atac_peak_176204_0 | FALSE |   NA | FALSE | TRUE | caqtls | /projects/CARDIPS/analysis/epigenome_resource/caqtls/iPSC/step_4/qtl_by_element/qtl/qtl.ipsc_atac_peak_176204.txt   | ipsc_atac_peak_176204_0  |\n",
       "| ipsc_atac_peak_176213 | 0 | TRUE | iPSC | ipsc_atac_peak_176213_0 | FALSE |   NA | FALSE | TRUE | caqtls | /projects/CARDIPS/analysis/epigenome_resource/caqtls/iPSC/step_4/qtl_by_element/qtl/qtl.ipsc_atac_peak_176213.txt   | ipsc_atac_peak_176213_0  |\n",
       "| ipsc_atac_peak_176214 | 0 | TRUE | iPSC | ipsc_atac_peak_176214_0 | FALSE |   NA | FALSE | TRUE | caqtls | /projects/CARDIPS/analysis/epigenome_resource/caqtls/iPSC/step_4/qtl_by_element/qtl/qtl.ipsc_atac_peak_176214.txt   | ipsc_atac_peak_176214_0  |\n",
       "| ipsc_atac_peak_176221 | 0 | TRUE | iPSC | ipsc_atac_peak_176221_0 | TRUE  | TRUE |  TRUE | TRUE | caqtls | /projects/CARDIPS/analysis/epigenome_resource/caqtls/iPSC/step_5/qtl_by_element/qtl/qtl.ipsc_atac_peak_176221.0.txt | ipsc_atac_peak_176221_0  |\n",
       "| ipsc_atac_peak_186703 | 0 | TRUE | iPSC | ipsc_atac_peak_186703_0 | FALSE |   NA | FALSE | TRUE | caqtls | /projects/CARDIPS/analysis/epigenome_resource/caqtls/iPSC/step_4/qtl_by_element/qtl/qtl.ipsc_atac_peak_186703.txt   | ipsc_atac_peak_186703_0  |\n",
       "| ipsc_atac_peak_1928   | 0 | TRUE | iPSC | ipsc_atac_peak_1928_0   | FALSE |   NA | FALSE | TRUE | caqtls | /projects/CARDIPS/analysis/epigenome_resource/caqtls/iPSC/step_4/qtl_by_element/qtl/qtl.ipsc_atac_peak_1928.txt     | ipsc_atac_peak_1928_0    |\n",
       "| ipsc_atac_peak_194191 | 0 | TRUE | iPSC | ipsc_atac_peak_194191_0 | TRUE  | TRUE |  TRUE | TRUE | caqtls | /projects/CARDIPS/analysis/epigenome_resource/caqtls/iPSC/step_5/qtl_by_element/qtl/qtl.ipsc_atac_peak_194191.0.txt | ipsc_atac_peak_194191_0  |\n",
       "| ipsc_atac_peak_1945   | 0 | TRUE | iPSC | ipsc_atac_peak_1945_0   | FALSE |   NA | FALSE | TRUE | caqtls | /projects/CARDIPS/analysis/epigenome_resource/caqtls/iPSC/step_4/qtl_by_element/qtl/qtl.ipsc_atac_peak_1945.txt     | ipsc_atac_peak_1945_0    |\n",
       "| ipsc_atac_peak_1947   | 0 | TRUE | iPSC | ipsc_atac_peak_1947_0   | FALSE |   NA | FALSE | TRUE | caqtls | /projects/CARDIPS/analysis/epigenome_resource/caqtls/iPSC/step_4/qtl_by_element/qtl/qtl.ipsc_atac_peak_1947.txt     | ipsc_atac_peak_1947_0    |\n",
       "| ⋮ | ⋮ | ⋮ | ⋮ | ⋮ | ⋮ | ⋮ | ⋮ | ⋮ | ⋮ | ⋮ | ⋮ |\n",
       "| ppc_atac_peak_2902  | 0 | TRUE | PPC | ppc_atac_peak_2902_0  | FALSE |   NA | FALSE | TRUE | caqtls | /projects/CARDIPS/analysis/epigenome_resource/caqtls/PPC/step_4/qtl_by_element/qtl/qtl.ppc_atac_peak_2902.txt    | ppc_atac_peak_2902_0  |\n",
       "| ppc_atac_peak_2903  | 0 | TRUE | PPC | ppc_atac_peak_2903_0  | TRUE  | TRUE |  TRUE | TRUE | caqtls | /projects/CARDIPS/analysis/epigenome_resource/caqtls/PPC/step_5/qtl_by_element/qtl/qtl.ppc_atac_peak_2903.0.txt  | ppc_atac_peak_2903_0  |\n",
       "| ppc_atac_peak_2906  | 0 | TRUE | PPC | ppc_atac_peak_2906_0  | FALSE |   NA | FALSE | TRUE | caqtls | /projects/CARDIPS/analysis/epigenome_resource/caqtls/PPC/step_4/qtl_by_element/qtl/qtl.ppc_atac_peak_2906.txt    | ppc_atac_peak_2906_0  |\n",
       "| ppc_atac_peak_2907  | 0 | TRUE | PPC | ppc_atac_peak_2907_0  | TRUE  | TRUE |  TRUE | TRUE | caqtls | /projects/CARDIPS/analysis/epigenome_resource/caqtls/PPC/step_5/qtl_by_element/qtl/qtl.ppc_atac_peak_2907.0.txt  | ppc_atac_peak_2907_0  |\n",
       "| ppc_atac_peak_2908  | 0 | TRUE | PPC | ppc_atac_peak_2908_0  | FALSE |   NA | FALSE | TRUE | caqtls | /projects/CARDIPS/analysis/epigenome_resource/caqtls/PPC/step_4/qtl_by_element/qtl/qtl.ppc_atac_peak_2908.txt    | ppc_atac_peak_2908_0  |\n",
       "| ppc_atac_peak_2909  | 0 | TRUE | PPC | ppc_atac_peak_2909_0  | FALSE |   NA | FALSE | TRUE | caqtls | /projects/CARDIPS/analysis/epigenome_resource/caqtls/PPC/step_4/qtl_by_element/qtl/qtl.ppc_atac_peak_2909.txt    | ppc_atac_peak_2909_0  |\n",
       "| ppc_atac_peak_2921  | 0 | TRUE | PPC | ppc_atac_peak_2921_0  | FALSE |   NA | FALSE | TRUE | caqtls | /projects/CARDIPS/analysis/epigenome_resource/caqtls/PPC/step_4/qtl_by_element/qtl/qtl.ppc_atac_peak_2921.txt    | ppc_atac_peak_2921_0  |\n",
       "| ppc_atac_peak_2924  | 0 | TRUE | PPC | ppc_atac_peak_2924_0  | FALSE |   NA | FALSE | TRUE | caqtls | /projects/CARDIPS/analysis/epigenome_resource/caqtls/PPC/step_4/qtl_by_element/qtl/qtl.ppc_atac_peak_2924.txt    | ppc_atac_peak_2924_0  |\n",
       "| ppc_atac_peak_2926  | 0 | TRUE | PPC | ppc_atac_peak_2926_0  | TRUE  | TRUE |  TRUE | TRUE | caqtls | /projects/CARDIPS/analysis/epigenome_resource/caqtls/PPC/step_5/qtl_by_element/qtl/qtl.ppc_atac_peak_2926.0.txt  | ppc_atac_peak_2926_0  |\n",
       "| ppc_atac_peak_2927  | 0 | TRUE | PPC | ppc_atac_peak_2927_0  | TRUE  | TRUE |  TRUE | TRUE | caqtls | /projects/CARDIPS/analysis/epigenome_resource/caqtls/PPC/step_5/qtl_by_element/qtl/qtl.ppc_atac_peak_2927.0.txt  | ppc_atac_peak_2927_0  |\n",
       "| ppc_atac_peak_2930  | 0 | TRUE | PPC | ppc_atac_peak_2930_0  | FALSE |   NA | FALSE | TRUE | caqtls | /projects/CARDIPS/analysis/epigenome_resource/caqtls/PPC/step_4/qtl_by_element/qtl/qtl.ppc_atac_peak_2930.txt    | ppc_atac_peak_2930_0  |\n",
       "| ppc_atac_peak_2942  | 0 | TRUE | PPC | ppc_atac_peak_2942_0  | FALSE |   NA | FALSE | TRUE | caqtls | /projects/CARDIPS/analysis/epigenome_resource/caqtls/PPC/step_4/qtl_by_element/qtl/qtl.ppc_atac_peak_2942.txt    | ppc_atac_peak_2942_0  |\n",
       "| ppc_atac_peak_30795 | 0 | TRUE | PPC | ppc_atac_peak_30795_0 | FALSE |   NA | FALSE | TRUE | caqtls | /projects/CARDIPS/analysis/epigenome_resource/caqtls/PPC/step_4/qtl_by_element/qtl/qtl.ppc_atac_peak_30795.txt   | ppc_atac_peak_30795_0 |\n",
       "| ppc_atac_peak_30796 | 0 | TRUE | PPC | ppc_atac_peak_30796_0 | FALSE |   NA | FALSE | TRUE | caqtls | /projects/CARDIPS/analysis/epigenome_resource/caqtls/PPC/step_4/qtl_by_element/qtl/qtl.ppc_atac_peak_30796.txt   | ppc_atac_peak_30796_0 |\n",
       "| ppc_atac_peak_30798 | 0 | TRUE | PPC | ppc_atac_peak_30798_0 | FALSE |   NA | FALSE | TRUE | caqtls | /projects/CARDIPS/analysis/epigenome_resource/caqtls/PPC/step_4/qtl_by_element/qtl/qtl.ppc_atac_peak_30798.txt   | ppc_atac_peak_30798_0 |\n",
       "| ppc_atac_peak_30943 | 0 | TRUE | PPC | ppc_atac_peak_30943_0 | FALSE |   NA | FALSE | TRUE | caqtls | /projects/CARDIPS/analysis/epigenome_resource/caqtls/PPC/step_4/qtl_by_element/qtl/qtl.ppc_atac_peak_30943.txt   | ppc_atac_peak_30943_0 |\n",
       "| ppc_atac_peak_30948 | 0 | TRUE | PPC | ppc_atac_peak_30948_0 | FALSE |   NA | FALSE | TRUE | caqtls | /projects/CARDIPS/analysis/epigenome_resource/caqtls/PPC/step_4/qtl_by_element/qtl/qtl.ppc_atac_peak_30948.txt   | ppc_atac_peak_30948_0 |\n",
       "| ppc_atac_peak_30956 | 0 | TRUE | PPC | ppc_atac_peak_30956_0 | FALSE |   NA | FALSE | TRUE | caqtls | /projects/CARDIPS/analysis/epigenome_resource/caqtls/PPC/step_4/qtl_by_element/qtl/qtl.ppc_atac_peak_30956.txt   | ppc_atac_peak_30956_0 |\n",
       "| ppc_atac_peak_30964 | 0 | TRUE | PPC | ppc_atac_peak_30964_0 | FALSE |   NA | FALSE | TRUE | caqtls | /projects/CARDIPS/analysis/epigenome_resource/caqtls/PPC/step_4/qtl_by_element/qtl/qtl.ppc_atac_peak_30964.txt   | ppc_atac_peak_30964_0 |\n",
       "| ppc_atac_peak_30966 | 0 | TRUE | PPC | ppc_atac_peak_30966_0 | FALSE |   NA | FALSE | TRUE | caqtls | /projects/CARDIPS/analysis/epigenome_resource/caqtls/PPC/step_4/qtl_by_element/qtl/qtl.ppc_atac_peak_30966.txt   | ppc_atac_peak_30966_0 |\n",
       "| ppc_atac_peak_30970 | 0 | TRUE | PPC | ppc_atac_peak_30970_0 | FALSE |   NA | FALSE | TRUE | caqtls | /projects/CARDIPS/analysis/epigenome_resource/caqtls/PPC/step_4/qtl_by_element/qtl/qtl.ppc_atac_peak_30970.txt   | ppc_atac_peak_30970_0 |\n",
       "| ppc_atac_peak_30973 | 0 | TRUE | PPC | ppc_atac_peak_30973_0 | FALSE |   NA | FALSE | TRUE | caqtls | /projects/CARDIPS/analysis/epigenome_resource/caqtls/PPC/step_4/qtl_by_element/qtl/qtl.ppc_atac_peak_30973.txt   | ppc_atac_peak_30973_0 |\n",
       "| ppc_atac_peak_32428 | 0 | TRUE | PPC | ppc_atac_peak_32428_0 | FALSE |   NA | FALSE | TRUE | caqtls | /projects/CARDIPS/analysis/epigenome_resource/caqtls/PPC/step_4/qtl_by_element/qtl/qtl.ppc_atac_peak_32428.txt   | ppc_atac_peak_32428_0 |\n",
       "| ppc_atac_peak_4583  | 0 | TRUE | PPC | ppc_atac_peak_4583_0  | TRUE  | TRUE |  TRUE | TRUE | caqtls | /projects/CARDIPS/analysis/epigenome_resource/caqtls/PPC/step_5/qtl_by_element/qtl/qtl.ppc_atac_peak_4583.0.txt  | ppc_atac_peak_4583_0  |\n",
       "| ppc_atac_peak_66634 | 0 | TRUE | PPC | ppc_atac_peak_66634_0 | FALSE |   NA | FALSE | TRUE | caqtls | /projects/CARDIPS/analysis/epigenome_resource/caqtls/PPC/step_4/qtl_by_element/qtl/qtl.ppc_atac_peak_66634.txt   | ppc_atac_peak_66634_0 |\n",
       "| ppc_atac_peak_73292 | 0 | TRUE | PPC | ppc_atac_peak_73292_0 | FALSE |   NA | FALSE | TRUE | caqtls | /projects/CARDIPS/analysis/epigenome_resource/caqtls/PPC/step_4/qtl_by_element/qtl/qtl.ppc_atac_peak_73292.txt   | ppc_atac_peak_73292_0 |\n",
       "| ppc_atac_peak_97920 | 0 | TRUE | PPC | ppc_atac_peak_97920_0 | FALSE |   NA | FALSE | TRUE | caqtls | /projects/CARDIPS/analysis/epigenome_resource/caqtls/PPC/step_4/qtl_by_element/qtl/qtl.ppc_atac_peak_97920.txt   | ppc_atac_peak_97920_0 |\n",
       "| ppc_atac_peak_98985 | 0 | TRUE | PPC | ppc_atac_peak_98985_0 | FALSE |   NA | FALSE | TRUE | caqtls | /projects/CARDIPS/analysis/epigenome_resource/caqtls/PPC/step_4/qtl_by_element/qtl/qtl.ppc_atac_peak_98985.txt   | ppc_atac_peak_98985_0 |\n",
       "| ppc_atac_peak_99022 | 0 | TRUE | PPC | ppc_atac_peak_99022_0 | FALSE |   NA | FALSE | TRUE | caqtls | /projects/CARDIPS/analysis/epigenome_resource/caqtls/PPC/step_4/qtl_by_element/qtl/qtl.ppc_atac_peak_99022.txt   | ppc_atac_peak_99022_0 |\n",
       "| ppc_atac_peak_93747 | 1 | TRUE | PPC | ppc_atac_peak_93747_1 | TRUE  | TRUE |  TRUE | TRUE | caqtls | /projects/CARDIPS/analysis/epigenome_resource/caqtls/PPC/step_5/qtl_by_element/qtl/qtl.ppc_atac_peak_93747.1.txt | ppc_atac_peak_93747_1 |\n",
       "\n"
      ],
      "text/plain": [
       "    element_id            type new_egene tissue qtl_id                 \n",
       "1   ENSG00000234665.9     0    TRUE      iPSC   ENSG00000234665.9_0    \n",
       "2   ENSG00000263513.6     0    TRUE      iPSC   ENSG00000263513.6_0    \n",
       "3   ENSG00000266338.7     0    TRUE      iPSC   ENSG00000266338.7_0    \n",
       "4   ENSG00000270872.2     0    TRUE      iPSC   ENSG00000270872.2_0    \n",
       "5   ENSG00000289318.2     0    TRUE      iPSC   ENSG00000289318.2_0    \n",
       "6   ENSG00000291181.1     0    TRUE      iPSC   ENSG00000291181.1_0    \n",
       "7   ipsc_atac_peak_10677  0    TRUE      iPSC   ipsc_atac_peak_10677_0 \n",
       "8   ipsc_atac_peak_11059  0    TRUE      iPSC   ipsc_atac_peak_11059_0 \n",
       "9   ipsc_atac_peak_11063  0    TRUE      iPSC   ipsc_atac_peak_11063_0 \n",
       "10  ipsc_atac_peak_11064  0    TRUE      iPSC   ipsc_atac_peak_11064_0 \n",
       "11  ipsc_atac_peak_11067  0    TRUE      iPSC   ipsc_atac_peak_11067_0 \n",
       "12  ipsc_atac_peak_158643 0    TRUE      iPSC   ipsc_atac_peak_158643_0\n",
       "13  ipsc_atac_peak_163983 0    TRUE      iPSC   ipsc_atac_peak_163983_0\n",
       "14  ipsc_atac_peak_163984 0    TRUE      iPSC   ipsc_atac_peak_163984_0\n",
       "15  ipsc_atac_peak_163985 0    TRUE      iPSC   ipsc_atac_peak_163985_0\n",
       "16  ipsc_atac_peak_163986 0    TRUE      iPSC   ipsc_atac_peak_163986_0\n",
       "17  ipsc_atac_peak_163987 0    TRUE      iPSC   ipsc_atac_peak_163987_0\n",
       "18  ipsc_atac_peak_163988 0    TRUE      iPSC   ipsc_atac_peak_163988_0\n",
       "19  ipsc_atac_peak_163990 0    TRUE      iPSC   ipsc_atac_peak_163990_0\n",
       "20  ipsc_atac_peak_164008 0    TRUE      iPSC   ipsc_atac_peak_164008_0\n",
       "21  ipsc_atac_peak_176197 0    TRUE      iPSC   ipsc_atac_peak_176197_0\n",
       "22  ipsc_atac_peak_176204 0    TRUE      iPSC   ipsc_atac_peak_176204_0\n",
       "23  ipsc_atac_peak_176213 0    TRUE      iPSC   ipsc_atac_peak_176213_0\n",
       "24  ipsc_atac_peak_176214 0    TRUE      iPSC   ipsc_atac_peak_176214_0\n",
       "25  ipsc_atac_peak_176221 0    TRUE      iPSC   ipsc_atac_peak_176221_0\n",
       "26  ipsc_atac_peak_186703 0    TRUE      iPSC   ipsc_atac_peak_186703_0\n",
       "27  ipsc_atac_peak_1928   0    TRUE      iPSC   ipsc_atac_peak_1928_0  \n",
       "28  ipsc_atac_peak_194191 0    TRUE      iPSC   ipsc_atac_peak_194191_0\n",
       "29  ipsc_atac_peak_1945   0    TRUE      iPSC   ipsc_atac_peak_1945_0  \n",
       "30  ipsc_atac_peak_1947   0    TRUE      iPSC   ipsc_atac_peak_1947_0  \n",
       "⋮   ⋮                     ⋮    ⋮         ⋮      ⋮                      \n",
       "212 ppc_atac_peak_2902    0    TRUE      PPC    ppc_atac_peak_2902_0   \n",
       "213 ppc_atac_peak_2903    0    TRUE      PPC    ppc_atac_peak_2903_0   \n",
       "214 ppc_atac_peak_2906    0    TRUE      PPC    ppc_atac_peak_2906_0   \n",
       "215 ppc_atac_peak_2907    0    TRUE      PPC    ppc_atac_peak_2907_0   \n",
       "216 ppc_atac_peak_2908    0    TRUE      PPC    ppc_atac_peak_2908_0   \n",
       "217 ppc_atac_peak_2909    0    TRUE      PPC    ppc_atac_peak_2909_0   \n",
       "218 ppc_atac_peak_2921    0    TRUE      PPC    ppc_atac_peak_2921_0   \n",
       "219 ppc_atac_peak_2924    0    TRUE      PPC    ppc_atac_peak_2924_0   \n",
       "220 ppc_atac_peak_2926    0    TRUE      PPC    ppc_atac_peak_2926_0   \n",
       "221 ppc_atac_peak_2927    0    TRUE      PPC    ppc_atac_peak_2927_0   \n",
       "222 ppc_atac_peak_2930    0    TRUE      PPC    ppc_atac_peak_2930_0   \n",
       "223 ppc_atac_peak_2942    0    TRUE      PPC    ppc_atac_peak_2942_0   \n",
       "224 ppc_atac_peak_30795   0    TRUE      PPC    ppc_atac_peak_30795_0  \n",
       "225 ppc_atac_peak_30796   0    TRUE      PPC    ppc_atac_peak_30796_0  \n",
       "226 ppc_atac_peak_30798   0    TRUE      PPC    ppc_atac_peak_30798_0  \n",
       "227 ppc_atac_peak_30943   0    TRUE      PPC    ppc_atac_peak_30943_0  \n",
       "228 ppc_atac_peak_30948   0    TRUE      PPC    ppc_atac_peak_30948_0  \n",
       "229 ppc_atac_peak_30956   0    TRUE      PPC    ppc_atac_peak_30956_0  \n",
       "230 ppc_atac_peak_30964   0    TRUE      PPC    ppc_atac_peak_30964_0  \n",
       "231 ppc_atac_peak_30966   0    TRUE      PPC    ppc_atac_peak_30966_0  \n",
       "232 ppc_atac_peak_30970   0    TRUE      PPC    ppc_atac_peak_30970_0  \n",
       "233 ppc_atac_peak_30973   0    TRUE      PPC    ppc_atac_peak_30973_0  \n",
       "234 ppc_atac_peak_32428   0    TRUE      PPC    ppc_atac_peak_32428_0  \n",
       "235 ppc_atac_peak_4583    0    TRUE      PPC    ppc_atac_peak_4583_0   \n",
       "236 ppc_atac_peak_66634   0    TRUE      PPC    ppc_atac_peak_66634_0  \n",
       "237 ppc_atac_peak_73292   0    TRUE      PPC    ppc_atac_peak_73292_0  \n",
       "238 ppc_atac_peak_97920   0    TRUE      PPC    ppc_atac_peak_97920_0  \n",
       "239 ppc_atac_peak_98985   0    TRUE      PPC    ppc_atac_peak_98985_0  \n",
       "240 ppc_atac_peak_99022   0    TRUE      PPC    ppc_atac_peak_99022_0  \n",
       "241 ppc_atac_peak_93747   1    TRUE      PPC    ppc_atac_peak_93747_1  \n",
       "    regressed regressed_signif regressed_primary updated_primary datatype\n",
       "1   FALSE       NA             FALSE             TRUE            eqtls   \n",
       "2   FALSE       NA             FALSE             TRUE            eqtls   \n",
       "3   FALSE       NA             FALSE             TRUE            eqtls   \n",
       "4   TRUE      TRUE              TRUE             TRUE            eqtls   \n",
       "5   TRUE      TRUE              TRUE             TRUE            eqtls   \n",
       "6   FALSE       NA             FALSE             TRUE            eqtls   \n",
       "7   FALSE       NA             FALSE             TRUE            caqtls  \n",
       "8   FALSE       NA             FALSE             TRUE            caqtls  \n",
       "9   FALSE       NA             FALSE             TRUE            caqtls  \n",
       "10  FALSE       NA             FALSE             TRUE            caqtls  \n",
       "11  FALSE       NA             FALSE             TRUE            caqtls  \n",
       "12  TRUE      TRUE              TRUE             TRUE            caqtls  \n",
       "13  FALSE       NA             FALSE             TRUE            caqtls  \n",
       "14  FALSE       NA             FALSE             TRUE            caqtls  \n",
       "15  FALSE       NA             FALSE             TRUE            caqtls  \n",
       "16  FALSE       NA             FALSE             TRUE            caqtls  \n",
       "17  FALSE       NA             FALSE             TRUE            caqtls  \n",
       "18  FALSE       NA             FALSE             TRUE            caqtls  \n",
       "19  FALSE       NA             FALSE             TRUE            caqtls  \n",
       "20  FALSE       NA             FALSE             TRUE            caqtls  \n",
       "21  FALSE       NA             FALSE             TRUE            caqtls  \n",
       "22  FALSE       NA             FALSE             TRUE            caqtls  \n",
       "23  FALSE       NA             FALSE             TRUE            caqtls  \n",
       "24  FALSE       NA             FALSE             TRUE            caqtls  \n",
       "25  TRUE      TRUE              TRUE             TRUE            caqtls  \n",
       "26  FALSE       NA             FALSE             TRUE            caqtls  \n",
       "27  FALSE       NA             FALSE             TRUE            caqtls  \n",
       "28  TRUE      TRUE              TRUE             TRUE            caqtls  \n",
       "29  FALSE       NA             FALSE             TRUE            caqtls  \n",
       "30  FALSE       NA             FALSE             TRUE            caqtls  \n",
       "⋮   ⋮         ⋮                ⋮                 ⋮               ⋮       \n",
       "212 FALSE       NA             FALSE             TRUE            caqtls  \n",
       "213 TRUE      TRUE              TRUE             TRUE            caqtls  \n",
       "214 FALSE       NA             FALSE             TRUE            caqtls  \n",
       "215 TRUE      TRUE              TRUE             TRUE            caqtls  \n",
       "216 FALSE       NA             FALSE             TRUE            caqtls  \n",
       "217 FALSE       NA             FALSE             TRUE            caqtls  \n",
       "218 FALSE       NA             FALSE             TRUE            caqtls  \n",
       "219 FALSE       NA             FALSE             TRUE            caqtls  \n",
       "220 TRUE      TRUE              TRUE             TRUE            caqtls  \n",
       "221 TRUE      TRUE              TRUE             TRUE            caqtls  \n",
       "222 FALSE       NA             FALSE             TRUE            caqtls  \n",
       "223 FALSE       NA             FALSE             TRUE            caqtls  \n",
       "224 FALSE       NA             FALSE             TRUE            caqtls  \n",
       "225 FALSE       NA             FALSE             TRUE            caqtls  \n",
       "226 FALSE       NA             FALSE             TRUE            caqtls  \n",
       "227 FALSE       NA             FALSE             TRUE            caqtls  \n",
       "228 FALSE       NA             FALSE             TRUE            caqtls  \n",
       "229 FALSE       NA             FALSE             TRUE            caqtls  \n",
       "230 FALSE       NA             FALSE             TRUE            caqtls  \n",
       "231 FALSE       NA             FALSE             TRUE            caqtls  \n",
       "232 FALSE       NA             FALSE             TRUE            caqtls  \n",
       "233 FALSE       NA             FALSE             TRUE            caqtls  \n",
       "234 FALSE       NA             FALSE             TRUE            caqtls  \n",
       "235 TRUE      TRUE              TRUE             TRUE            caqtls  \n",
       "236 FALSE       NA             FALSE             TRUE            caqtls  \n",
       "237 FALSE       NA             FALSE             TRUE            caqtls  \n",
       "238 FALSE       NA             FALSE             TRUE            caqtls  \n",
       "239 FALSE       NA             FALSE             TRUE            caqtls  \n",
       "240 FALSE       NA             FALSE             TRUE            caqtls  \n",
       "241 TRUE      TRUE              TRUE             TRUE            caqtls  \n",
       "    path_to_qtl                                                                                                        \n",
       "1   /projects/CARDIPS/analysis/epigenome_resource/eqtls/iPSC/step_4/qtl_by_element/qtl/qtl.ENSG00000234665.9.txt       \n",
       "2   /projects/CARDIPS/analysis/epigenome_resource/eqtls/iPSC/step_4/qtl_by_element/qtl/qtl.ENSG00000263513.6.txt       \n",
       "3   /projects/CARDIPS/analysis/epigenome_resource/eqtls/iPSC/step_4/qtl_by_element/qtl/qtl.ENSG00000266338.7.txt       \n",
       "4   /projects/CARDIPS/analysis/epigenome_resource/eqtls/iPSC/step_5/qtl_by_element/qtl/qtl.ENSG00000270872.2.0.txt     \n",
       "5   /projects/CARDIPS/analysis/epigenome_resource/eqtls/iPSC/step_5/qtl_by_element/qtl/qtl.ENSG00000289318.2.0.txt     \n",
       "6   /projects/CARDIPS/analysis/epigenome_resource/eqtls/iPSC/step_4/qtl_by_element/qtl/qtl.ENSG00000291181.1.txt       \n",
       "7   /projects/CARDIPS/analysis/epigenome_resource/caqtls/iPSC/step_4/qtl_by_element/qtl/qtl.ipsc_atac_peak_10677.txt   \n",
       "8   /projects/CARDIPS/analysis/epigenome_resource/caqtls/iPSC/step_4/qtl_by_element/qtl/qtl.ipsc_atac_peak_11059.txt   \n",
       "9   /projects/CARDIPS/analysis/epigenome_resource/caqtls/iPSC/step_4/qtl_by_element/qtl/qtl.ipsc_atac_peak_11063.txt   \n",
       "10  /projects/CARDIPS/analysis/epigenome_resource/caqtls/iPSC/step_4/qtl_by_element/qtl/qtl.ipsc_atac_peak_11064.txt   \n",
       "11  /projects/CARDIPS/analysis/epigenome_resource/caqtls/iPSC/step_4/qtl_by_element/qtl/qtl.ipsc_atac_peak_11067.txt   \n",
       "12  /projects/CARDIPS/analysis/epigenome_resource/caqtls/iPSC/step_5/qtl_by_element/qtl/qtl.ipsc_atac_peak_158643.0.txt\n",
       "13  /projects/CARDIPS/analysis/epigenome_resource/caqtls/iPSC/step_4/qtl_by_element/qtl/qtl.ipsc_atac_peak_163983.txt  \n",
       "14  /projects/CARDIPS/analysis/epigenome_resource/caqtls/iPSC/step_4/qtl_by_element/qtl/qtl.ipsc_atac_peak_163984.txt  \n",
       "15  /projects/CARDIPS/analysis/epigenome_resource/caqtls/iPSC/step_4/qtl_by_element/qtl/qtl.ipsc_atac_peak_163985.txt  \n",
       "16  /projects/CARDIPS/analysis/epigenome_resource/caqtls/iPSC/step_4/qtl_by_element/qtl/qtl.ipsc_atac_peak_163986.txt  \n",
       "17  /projects/CARDIPS/analysis/epigenome_resource/caqtls/iPSC/step_4/qtl_by_element/qtl/qtl.ipsc_atac_peak_163987.txt  \n",
       "18  /projects/CARDIPS/analysis/epigenome_resource/caqtls/iPSC/step_4/qtl_by_element/qtl/qtl.ipsc_atac_peak_163988.txt  \n",
       "19  /projects/CARDIPS/analysis/epigenome_resource/caqtls/iPSC/step_4/qtl_by_element/qtl/qtl.ipsc_atac_peak_163990.txt  \n",
       "20  /projects/CARDIPS/analysis/epigenome_resource/caqtls/iPSC/step_4/qtl_by_element/qtl/qtl.ipsc_atac_peak_164008.txt  \n",
       "21  /projects/CARDIPS/analysis/epigenome_resource/caqtls/iPSC/step_4/qtl_by_element/qtl/qtl.ipsc_atac_peak_176197.txt  \n",
       "22  /projects/CARDIPS/analysis/epigenome_resource/caqtls/iPSC/step_4/qtl_by_element/qtl/qtl.ipsc_atac_peak_176204.txt  \n",
       "23  /projects/CARDIPS/analysis/epigenome_resource/caqtls/iPSC/step_4/qtl_by_element/qtl/qtl.ipsc_atac_peak_176213.txt  \n",
       "24  /projects/CARDIPS/analysis/epigenome_resource/caqtls/iPSC/step_4/qtl_by_element/qtl/qtl.ipsc_atac_peak_176214.txt  \n",
       "25  /projects/CARDIPS/analysis/epigenome_resource/caqtls/iPSC/step_5/qtl_by_element/qtl/qtl.ipsc_atac_peak_176221.0.txt\n",
       "26  /projects/CARDIPS/analysis/epigenome_resource/caqtls/iPSC/step_4/qtl_by_element/qtl/qtl.ipsc_atac_peak_186703.txt  \n",
       "27  /projects/CARDIPS/analysis/epigenome_resource/caqtls/iPSC/step_4/qtl_by_element/qtl/qtl.ipsc_atac_peak_1928.txt    \n",
       "28  /projects/CARDIPS/analysis/epigenome_resource/caqtls/iPSC/step_5/qtl_by_element/qtl/qtl.ipsc_atac_peak_194191.0.txt\n",
       "29  /projects/CARDIPS/analysis/epigenome_resource/caqtls/iPSC/step_4/qtl_by_element/qtl/qtl.ipsc_atac_peak_1945.txt    \n",
       "30  /projects/CARDIPS/analysis/epigenome_resource/caqtls/iPSC/step_4/qtl_by_element/qtl/qtl.ipsc_atac_peak_1947.txt    \n",
       "⋮   ⋮                                                                                                                  \n",
       "212 /projects/CARDIPS/analysis/epigenome_resource/caqtls/PPC/step_4/qtl_by_element/qtl/qtl.ppc_atac_peak_2902.txt      \n",
       "213 /projects/CARDIPS/analysis/epigenome_resource/caqtls/PPC/step_5/qtl_by_element/qtl/qtl.ppc_atac_peak_2903.0.txt    \n",
       "214 /projects/CARDIPS/analysis/epigenome_resource/caqtls/PPC/step_4/qtl_by_element/qtl/qtl.ppc_atac_peak_2906.txt      \n",
       "215 /projects/CARDIPS/analysis/epigenome_resource/caqtls/PPC/step_5/qtl_by_element/qtl/qtl.ppc_atac_peak_2907.0.txt    \n",
       "216 /projects/CARDIPS/analysis/epigenome_resource/caqtls/PPC/step_4/qtl_by_element/qtl/qtl.ppc_atac_peak_2908.txt      \n",
       "217 /projects/CARDIPS/analysis/epigenome_resource/caqtls/PPC/step_4/qtl_by_element/qtl/qtl.ppc_atac_peak_2909.txt      \n",
       "218 /projects/CARDIPS/analysis/epigenome_resource/caqtls/PPC/step_4/qtl_by_element/qtl/qtl.ppc_atac_peak_2921.txt      \n",
       "219 /projects/CARDIPS/analysis/epigenome_resource/caqtls/PPC/step_4/qtl_by_element/qtl/qtl.ppc_atac_peak_2924.txt      \n",
       "220 /projects/CARDIPS/analysis/epigenome_resource/caqtls/PPC/step_5/qtl_by_element/qtl/qtl.ppc_atac_peak_2926.0.txt    \n",
       "221 /projects/CARDIPS/analysis/epigenome_resource/caqtls/PPC/step_5/qtl_by_element/qtl/qtl.ppc_atac_peak_2927.0.txt    \n",
       "222 /projects/CARDIPS/analysis/epigenome_resource/caqtls/PPC/step_4/qtl_by_element/qtl/qtl.ppc_atac_peak_2930.txt      \n",
       "223 /projects/CARDIPS/analysis/epigenome_resource/caqtls/PPC/step_4/qtl_by_element/qtl/qtl.ppc_atac_peak_2942.txt      \n",
       "224 /projects/CARDIPS/analysis/epigenome_resource/caqtls/PPC/step_4/qtl_by_element/qtl/qtl.ppc_atac_peak_30795.txt     \n",
       "225 /projects/CARDIPS/analysis/epigenome_resource/caqtls/PPC/step_4/qtl_by_element/qtl/qtl.ppc_atac_peak_30796.txt     \n",
       "226 /projects/CARDIPS/analysis/epigenome_resource/caqtls/PPC/step_4/qtl_by_element/qtl/qtl.ppc_atac_peak_30798.txt     \n",
       "227 /projects/CARDIPS/analysis/epigenome_resource/caqtls/PPC/step_4/qtl_by_element/qtl/qtl.ppc_atac_peak_30943.txt     \n",
       "228 /projects/CARDIPS/analysis/epigenome_resource/caqtls/PPC/step_4/qtl_by_element/qtl/qtl.ppc_atac_peak_30948.txt     \n",
       "229 /projects/CARDIPS/analysis/epigenome_resource/caqtls/PPC/step_4/qtl_by_element/qtl/qtl.ppc_atac_peak_30956.txt     \n",
       "230 /projects/CARDIPS/analysis/epigenome_resource/caqtls/PPC/step_4/qtl_by_element/qtl/qtl.ppc_atac_peak_30964.txt     \n",
       "231 /projects/CARDIPS/analysis/epigenome_resource/caqtls/PPC/step_4/qtl_by_element/qtl/qtl.ppc_atac_peak_30966.txt     \n",
       "232 /projects/CARDIPS/analysis/epigenome_resource/caqtls/PPC/step_4/qtl_by_element/qtl/qtl.ppc_atac_peak_30970.txt     \n",
       "233 /projects/CARDIPS/analysis/epigenome_resource/caqtls/PPC/step_4/qtl_by_element/qtl/qtl.ppc_atac_peak_30973.txt     \n",
       "234 /projects/CARDIPS/analysis/epigenome_resource/caqtls/PPC/step_4/qtl_by_element/qtl/qtl.ppc_atac_peak_32428.txt     \n",
       "235 /projects/CARDIPS/analysis/epigenome_resource/caqtls/PPC/step_5/qtl_by_element/qtl/qtl.ppc_atac_peak_4583.0.txt    \n",
       "236 /projects/CARDIPS/analysis/epigenome_resource/caqtls/PPC/step_4/qtl_by_element/qtl/qtl.ppc_atac_peak_66634.txt     \n",
       "237 /projects/CARDIPS/analysis/epigenome_resource/caqtls/PPC/step_4/qtl_by_element/qtl/qtl.ppc_atac_peak_73292.txt     \n",
       "238 /projects/CARDIPS/analysis/epigenome_resource/caqtls/PPC/step_4/qtl_by_element/qtl/qtl.ppc_atac_peak_97920.txt     \n",
       "239 /projects/CARDIPS/analysis/epigenome_resource/caqtls/PPC/step_4/qtl_by_element/qtl/qtl.ppc_atac_peak_98985.txt     \n",
       "240 /projects/CARDIPS/analysis/epigenome_resource/caqtls/PPC/step_4/qtl_by_element/qtl/qtl.ppc_atac_peak_99022.txt     \n",
       "241 /projects/CARDIPS/analysis/epigenome_resource/caqtls/PPC/step_5/qtl_by_element/qtl/qtl.ppc_atac_peak_93747.1.txt   \n",
       "    element_cond            \n",
       "1   ipsc_ENSG00000234665.9_0\n",
       "2   ipsc_ENSG00000263513.6_0\n",
       "3   ipsc_ENSG00000266338.7_0\n",
       "4   ipsc_ENSG00000270872.2_0\n",
       "5   ipsc_ENSG00000289318.2_0\n",
       "6   ipsc_ENSG00000291181.1_0\n",
       "7   ipsc_atac_peak_10677_0  \n",
       "8   ipsc_atac_peak_11059_0  \n",
       "9   ipsc_atac_peak_11063_0  \n",
       "10  ipsc_atac_peak_11064_0  \n",
       "11  ipsc_atac_peak_11067_0  \n",
       "12  ipsc_atac_peak_158643_0 \n",
       "13  ipsc_atac_peak_163983_0 \n",
       "14  ipsc_atac_peak_163984_0 \n",
       "15  ipsc_atac_peak_163985_0 \n",
       "16  ipsc_atac_peak_163986_0 \n",
       "17  ipsc_atac_peak_163987_0 \n",
       "18  ipsc_atac_peak_163988_0 \n",
       "19  ipsc_atac_peak_163990_0 \n",
       "20  ipsc_atac_peak_164008_0 \n",
       "21  ipsc_atac_peak_176197_0 \n",
       "22  ipsc_atac_peak_176204_0 \n",
       "23  ipsc_atac_peak_176213_0 \n",
       "24  ipsc_atac_peak_176214_0 \n",
       "25  ipsc_atac_peak_176221_0 \n",
       "26  ipsc_atac_peak_186703_0 \n",
       "27  ipsc_atac_peak_1928_0   \n",
       "28  ipsc_atac_peak_194191_0 \n",
       "29  ipsc_atac_peak_1945_0   \n",
       "30  ipsc_atac_peak_1947_0   \n",
       "⋮   ⋮                       \n",
       "212 ppc_atac_peak_2902_0    \n",
       "213 ppc_atac_peak_2903_0    \n",
       "214 ppc_atac_peak_2906_0    \n",
       "215 ppc_atac_peak_2907_0    \n",
       "216 ppc_atac_peak_2908_0    \n",
       "217 ppc_atac_peak_2909_0    \n",
       "218 ppc_atac_peak_2921_0    \n",
       "219 ppc_atac_peak_2924_0    \n",
       "220 ppc_atac_peak_2926_0    \n",
       "221 ppc_atac_peak_2927_0    \n",
       "222 ppc_atac_peak_2930_0    \n",
       "223 ppc_atac_peak_2942_0    \n",
       "224 ppc_atac_peak_30795_0   \n",
       "225 ppc_atac_peak_30796_0   \n",
       "226 ppc_atac_peak_30798_0   \n",
       "227 ppc_atac_peak_30943_0   \n",
       "228 ppc_atac_peak_30948_0   \n",
       "229 ppc_atac_peak_30956_0   \n",
       "230 ppc_atac_peak_30964_0   \n",
       "231 ppc_atac_peak_30966_0   \n",
       "232 ppc_atac_peak_30970_0   \n",
       "233 ppc_atac_peak_30973_0   \n",
       "234 ppc_atac_peak_32428_0   \n",
       "235 ppc_atac_peak_4583_0    \n",
       "236 ppc_atac_peak_66634_0   \n",
       "237 ppc_atac_peak_73292_0   \n",
       "238 ppc_atac_peak_97920_0   \n",
       "239 ppc_atac_peak_98985_0   \n",
       "240 ppc_atac_peak_99022_0   \n",
       "241 ppc_atac_peak_93747_1   "
      ]
     },
     "metadata": {},
     "output_type": "display_data"
    }
   ],
   "source": [
    "all_qtls %>% filter(!element_cond %in% files$element_cond) "
   ]
  },
  {
   "cell_type": "markdown",
   "metadata": {},
   "source": [
    "## **Test run the script**"
   ]
  },
  {
   "cell_type": "code",
   "execution_count": 50,
   "metadata": {},
   "outputs": [],
   "source": [
    "setwd(\"/projects/CARDIPS/analysis/epigenome_resource\")\n",
    "suppressMessages(source(\"analyses/jennifer/notebooks/functions.R\"))\n",
    "set.seed(5366)\n",
    "library(coloc)\n",
    "\n",
    "# option_list = list(make_option(\"--taskid\", type = \"integer\", default = NA, help = \"taskid\", metavar = \"integer\"),\n",
    "#                    make_option(\"--input_file\", type = \"character\", default = NA, help = \"analysis\", metavar = \"character\"),\n",
    "#                    make_option(\"--manifest\", type = \"character\", default = NA, help = \"manifest file\", metavar = \"character\"),\n",
    "#                    make_option(\"--outdir\", type = \"character\", default = NA, help = \"${out_dir}/${analysis}\", metavar = \"character\"))\n",
    "\n",
    "# # parse arguments\n",
    "# opt_parser    = OptionParser(option_list = option_list)\n",
    "# opt           = parse_args(opt_parser)\n",
    "\n",
    "# set arguments\n",
    "# task_id       = opt$taskid\n",
    "# input_file    = opt$input_file # list of qtls to colocalization GWAS with (require columns: type, element_id, qtl_id, tissue, analysis)\n",
    "# manifest_file = opt$manifest\n",
    "# outdir        = opt$outdir\n",
    "\n",
    "# message(paste(\"Input file:\"   , input_file   ))\n",
    "# message(paste(\"Manifest file:\", manifest_file))\n",
    "# message(paste(\"Taskid:\"       , task_id      ))"
   ]
  },
  {
   "cell_type": "code",
   "execution_count": 54,
   "metadata": {},
   "outputs": [
    {
     "data": {
      "text/html": [
       "<table class=\"dataframe\">\n",
       "<caption>A data.frame: 2 × 25</caption>\n",
       "<thead>\n",
       "\t<tr><th></th><th scope=col>element_id</th><th scope=col>id</th><th scope=col>chrom</th><th scope=col>pos</th><th scope=col>ref</th><th scope=col>alt</th><th scope=col>rsid</th><th scope=col>genotyped</th><th scope=col>af</th><th scope=col>beta</th><th scope=col>⋯</th><th scope=col>type</th><th scope=col>new_egene</th><th scope=col>tissue</th><th scope=col>tissue_qtl_id</th><th scope=col>tissue_element</th><th scope=col>test</th><th scope=col>datatype</th><th scope=col>path</th><th scope=col>taskid</th><th scope=col>path_exists</th></tr>\n",
       "\t<tr><th></th><th scope=col>&lt;chr&gt;</th><th scope=col>&lt;chr&gt;</th><th scope=col>&lt;chr&gt;</th><th scope=col>&lt;int&gt;</th><th scope=col>&lt;chr&gt;</th><th scope=col>&lt;chr&gt;</th><th scope=col>&lt;chr&gt;</th><th scope=col>&lt;int&gt;</th><th scope=col>&lt;dbl&gt;</th><th scope=col>&lt;dbl&gt;</th><th scope=col>⋯</th><th scope=col>&lt;int&gt;</th><th scope=col>&lt;lgl&gt;</th><th scope=col>&lt;chr&gt;</th><th scope=col>&lt;chr&gt;</th><th scope=col>&lt;chr&gt;</th><th scope=col>&lt;chr&gt;</th><th scope=col>&lt;chr&gt;</th><th scope=col>&lt;chr&gt;</th><th scope=col>&lt;int&gt;</th><th scope=col>&lt;lgl&gt;</th></tr>\n",
       "</thead>\n",
       "<tbody>\n",
       "\t<tr><th scope=row>1</th><td>ENSG00000000460.17</td><td>VAR_1_169804722_A_C</td><td>chr1</td><td>169804722</td><td>A</td><td>C</td><td>rs12142505</td><td>1</td><td>0.0805861</td><td>0.8196584</td><td>⋯</td><td>0</td><td>TRUE</td><td>iPSC</td><td>iPSC_ENSG00000000460.17_0</td><td>iPSC_ENSG00000000460.17</td><td>original</td><td>eqtls</td><td>/projects/CARDIPS/analysis/epigenome_resource/eqtls/iPSC/step_4/qtl_by_element/qtl/qtl.ENSG00000000460.17.txt</td><td>1</td><td>TRUE</td></tr>\n",
       "\t<tr><th scope=row>2</th><td>ENSG00000000938.13</td><td>VAR_1_27564022_A_G </td><td>chr1</td><td> 27564022</td><td>A</td><td>G</td><td>rs12146138</td><td>1</td><td>0.0567766</td><td>1.5833789</td><td>⋯</td><td>0</td><td>TRUE</td><td>iPSC</td><td>iPSC_ENSG00000000938.13_0</td><td>iPSC_ENSG00000000938.13</td><td>original</td><td>eqtls</td><td>/projects/CARDIPS/analysis/epigenome_resource/eqtls/iPSC/step_4/qtl_by_element/qtl/qtl.ENSG00000000938.13.txt</td><td>2</td><td>TRUE</td></tr>\n",
       "</tbody>\n",
       "</table>\n"
      ],
      "text/latex": [
       "A data.frame: 2 × 25\n",
       "\\begin{tabular}{r|lllllllllllllllllllll}\n",
       "  & element\\_id & id & chrom & pos & ref & alt & rsid & genotyped & af & beta & ⋯ & type & new\\_egene & tissue & tissue\\_qtl\\_id & tissue\\_element & test & datatype & path & taskid & path\\_exists\\\\\n",
       "  & <chr> & <chr> & <chr> & <int> & <chr> & <chr> & <chr> & <int> & <dbl> & <dbl> & ⋯ & <int> & <lgl> & <chr> & <chr> & <chr> & <chr> & <chr> & <chr> & <int> & <lgl>\\\\\n",
       "\\hline\n",
       "\t1 & ENSG00000000460.17 & VAR\\_1\\_169804722\\_A\\_C & chr1 & 169804722 & A & C & rs12142505 & 1 & 0.0805861 & 0.8196584 & ⋯ & 0 & TRUE & iPSC & iPSC\\_ENSG00000000460.17\\_0 & iPSC\\_ENSG00000000460.17 & original & eqtls & /projects/CARDIPS/analysis/epigenome\\_resource/eqtls/iPSC/step\\_4/qtl\\_by\\_element/qtl/qtl.ENSG00000000460.17.txt & 1 & TRUE\\\\\n",
       "\t2 & ENSG00000000938.13 & VAR\\_1\\_27564022\\_A\\_G  & chr1 &  27564022 & A & G & rs12146138 & 1 & 0.0567766 & 1.5833789 & ⋯ & 0 & TRUE & iPSC & iPSC\\_ENSG00000000938.13\\_0 & iPSC\\_ENSG00000000938.13 & original & eqtls & /projects/CARDIPS/analysis/epigenome\\_resource/eqtls/iPSC/step\\_4/qtl\\_by\\_element/qtl/qtl.ENSG00000000938.13.txt & 2 & TRUE\\\\\n",
       "\\end{tabular}\n"
      ],
      "text/markdown": [
       "\n",
       "A data.frame: 2 × 25\n",
       "\n",
       "| <!--/--> | element_id &lt;chr&gt; | id &lt;chr&gt; | chrom &lt;chr&gt; | pos &lt;int&gt; | ref &lt;chr&gt; | alt &lt;chr&gt; | rsid &lt;chr&gt; | genotyped &lt;int&gt; | af &lt;dbl&gt; | beta &lt;dbl&gt; | ⋯ ⋯ | type &lt;int&gt; | new_egene &lt;lgl&gt; | tissue &lt;chr&gt; | tissue_qtl_id &lt;chr&gt; | tissue_element &lt;chr&gt; | test &lt;chr&gt; | datatype &lt;chr&gt; | path &lt;chr&gt; | taskid &lt;int&gt; | path_exists &lt;lgl&gt; |\n",
       "|---|---|---|---|---|---|---|---|---|---|---|---|---|---|---|---|---|---|---|---|---|---|\n",
       "| 1 | ENSG00000000460.17 | VAR_1_169804722_A_C | chr1 | 169804722 | A | C | rs12142505 | 1 | 0.0805861 | 0.8196584 | ⋯ | 0 | TRUE | iPSC | iPSC_ENSG00000000460.17_0 | iPSC_ENSG00000000460.17 | original | eqtls | /projects/CARDIPS/analysis/epigenome_resource/eqtls/iPSC/step_4/qtl_by_element/qtl/qtl.ENSG00000000460.17.txt | 1 | TRUE |\n",
       "| 2 | ENSG00000000938.13 | VAR_1_27564022_A_G  | chr1 |  27564022 | A | G | rs12146138 | 1 | 0.0567766 | 1.5833789 | ⋯ | 0 | TRUE | iPSC | iPSC_ENSG00000000938.13_0 | iPSC_ENSG00000000938.13 | original | eqtls | /projects/CARDIPS/analysis/epigenome_resource/eqtls/iPSC/step_4/qtl_by_element/qtl/qtl.ENSG00000000938.13.txt | 2 | TRUE |\n",
       "\n"
      ],
      "text/plain": [
       "  element_id         id                  chrom pos       ref alt rsid      \n",
       "1 ENSG00000000460.17 VAR_1_169804722_A_C chr1  169804722 A   C   rs12142505\n",
       "2 ENSG00000000938.13 VAR_1_27564022_A_G  chr1   27564022 A   G   rs12146138\n",
       "  genotyped af        beta      ⋯ type new_egene tissue\n",
       "1 1         0.0805861 0.8196584 ⋯ 0    TRUE      iPSC  \n",
       "2 1         0.0567766 1.5833789 ⋯ 0    TRUE      iPSC  \n",
       "  tissue_qtl_id             tissue_element          test     datatype\n",
       "1 iPSC_ENSG00000000460.17_0 iPSC_ENSG00000000460.17 original eqtls   \n",
       "2 iPSC_ENSG00000000938.13_0 iPSC_ENSG00000000938.13 original eqtls   \n",
       "  path                                                                                                         \n",
       "1 /projects/CARDIPS/analysis/epigenome_resource/eqtls/iPSC/step_4/qtl_by_element/qtl/qtl.ENSG00000000460.17.txt\n",
       "2 /projects/CARDIPS/analysis/epigenome_resource/eqtls/iPSC/step_4/qtl_by_element/qtl/qtl.ENSG00000000938.13.txt\n",
       "  taskid path_exists\n",
       "1 1      TRUE       \n",
       "2 2      TRUE       "
      ]
     },
     "metadata": {},
     "output_type": "display_data"
    }
   ],
   "source": [
    "head(totest,2)"
   ]
  },
  {
   "cell_type": "code",
   "execution_count": 83,
   "metadata": {},
   "outputs": [],
   "source": [
    "task_id = 1\n",
    "totest = fread(\"analyses/jennifer/gwas_coloc/input/qtls_to_coloc_with_gwas.txt\", data.table = F)\n",
    "# totest = totest %>% filter(qtl_id == \"ENSG00000140968.12_0\" & tissue == \"CVPC\")\n",
    "# input  = totest\n",
    "\n",
    "# task_id       = totest$taskid\n",
    "task_id = 1\n",
    "input_file    = \"/projects/CARDIPS/analysis/epigenome_resource/analyses/jennifer/gwas_coloc/input/qtls_to_coloc_with_gwas.txt\"\n",
    "manifest_file = \"/projects/CARDIPS/analysis/epigenome_resource/analyses/jennifer/gwas_independent/subset_manifest.txt\"\n",
    "outdir        = \"/projects/CARDIPS/analysis/epigenome_resource/analyses/jennifer/gwas_coloc/regressed_qtls\""
   ]
  },
  {
   "cell_type": "code",
   "execution_count": 90,
   "metadata": {},
   "outputs": [
    {
     "name": "stderr",
     "output_type": "stream",
     "text": [
      "Element ID: ENSG00000000460.17\n",
      "\n",
      "Discovery Order: 0\n",
      "\n",
      "Analysis: eqtls\n",
      "\n",
      "Tissue: iPSC\n",
      "\n",
      "QTL file: /projects/CARDIPS/analysis/epigenome_resource/eqtls/iPSC/step_4/qtl_by_element/qtl/qtl.ENSG00000000460.17.txtQTL file: TRUE\n",
      "\n"
     ]
    }
   ],
   "source": [
    "# read gwas manifest\n",
    "manifest = fread(manifest_file, data.table = F)\n",
    "\n",
    "# read list of qtls to process\n",
    "# filter for the qtl to process\n",
    "input    = fread(input_file   , data.table = F)\n",
    "input    = input[input$taskid == task_id,]\n",
    "\n",
    "# get info about the qtl\n",
    "element_id      = input$element_id\n",
    "discovery_order = input$type\n",
    "analysis        = input$datatype\n",
    "tissue          = input$tissue\n",
    "qtl_file        = input[,colnames(input)[which(colnames(input) %like% \"path\")]]\n",
    "\n",
    "message(paste(\"Element ID:\"     , element_id     ))\n",
    "message(paste(\"Discovery Order:\", discovery_order))\n",
    "message(paste(\"Analysis:\"       , analysis       ))\n",
    "message(paste(\"Tissue:\"         , tissue         ))\n",
    "message(paste(\"QTL file:\"       , qtl_file       ))\n"
   ]
  },
  {
   "cell_type": "code",
   "execution_count": 85,
   "metadata": {},
   "outputs": [],
   "source": [
    "suppressWarnings(dir.create(paste(outdir, sep = \"/\")))\n",
    "suppressWarnings(dir.create(paste(outdir, analysis, sep = \"/\")))\n",
    "suppressWarnings(dir.create(paste(outdir, analysis, tissue, sep = \"/\")))"
   ]
  },
  {
   "cell_type": "code",
   "execution_count": 86,
   "metadata": {},
   "outputs": [
    {
     "name": "stderr",
     "output_type": "stream",
     "text": [
      "/projects/CARDIPS/analysis/epigenome_resource/analyses/jennifer/gwas_coloc/regressed_qtls/eqtls/iPSC/0-ENSG00000000460.17.robj\n",
      "\n"
     ]
    }
   ],
   "source": [
    "# set file path for output\n",
    "outdir = paste(outdir, analysis, tissue, sep = \"/\")\n",
    "outfile = paste(outdir, paste(paste(discovery_order, element_id, sep = \"-\"), \"robj\", sep = \".\"), sep = \"/\")\n",
    "\n",
    "message(outfile)"
   ]
  },
  {
   "cell_type": "code",
   "execution_count": 87,
   "metadata": {},
   "outputs": [
    {
     "name": "stderr",
     "output_type": "stream",
     "text": [
      "2024-06-11 15:23:59 1 healthspan_summary Healthspan\n",
      "\n",
      "tabix /projects/CARDIPS/analysis/epigenome_resource/analyses/tim/gwas_liftover/hg38_summary_statistics/healthspan_summary.hg38.tsv.gz chr1:168662007-170854080\n",
      "\n",
      "zcat /projects/CARDIPS/analysis/epigenome_resource/analyses/tim/gwas_liftover/hg38_summary_statistics/healthspan_summary.hg38.tsv.gz | head -1\n",
      "\n",
      "No GWAS variants passed significance (p < 5e-05)\n",
      "\n",
      "2024-06-11 15:24:00 2 lifegen_phase2_bothpl_alldr_2017_09_18 Longevity\n",
      "\n",
      "tabix /projects/CARDIPS/analysis/epigenome_resource/analyses/tim/gwas_liftover/hg38_summary_statistics/lifegen_phase2_bothpl_alldr_2017_09_18.hg38.tsv.gz chr1:168662007-170854080\n",
      "\n",
      "zcat /projects/CARDIPS/analysis/epigenome_resource/analyses/tim/gwas_liftover/hg38_summary_statistics/lifegen_phase2_bothpl_alldr_2017_09_18.hg38.tsv.gz | head -1\n",
      "\n",
      "Multi-allelic snps: 0\n",
      "\n"
     ]
    },
    {
     "name": "stdout",
     "output_type": "stream",
     "text": [
      "PP.H0.abf PP.H1.abf PP.H2.abf PP.H3.abf PP.H4.abf \n",
      "  0.22000   0.74800   0.00657   0.02230   0.00281 \n",
      "[1] \"PP abf for shared variant: 0.281%\"\n"
     ]
    },
    {
     "name": "stderr",
     "output_type": "stream",
     "text": [
      "2024-06-11 15:24:00 3 timmers2020_healthspan_lifespan_longevity Multivariate Longevity\n",
      "\n",
      "tabix /projects/CARDIPS/analysis/epigenome_resource/analyses/tim/gwas_liftover/hg38_summary_statistics/timmers2020_healthspan_lifespan_longevity.hg38.tsv.gz chr1:168662007-170854080\n",
      "\n",
      "zcat /projects/CARDIPS/analysis/epigenome_resource/analyses/tim/gwas_liftover/hg38_summary_statistics/timmers2020_healthspan_lifespan_longevity.hg38.tsv.gz | head -1\n",
      "\n",
      "No GWAS variants passed significance (p < 5e-05)\n",
      "\n",
      "2024-06-11 15:24:00 4 biomarkers-30760-both_sexes-irnt.meta HDL cholesterol\n",
      "\n",
      "tabix /projects/CARDIPS/analysis/epigenome_resource/analyses/jennifer/gwas_liftover/hg38_summary_statistics/biomarkers-30760-both_sexes-irnt.meta.hg38.tsv.gz chr1:168662007-170854080\n",
      "\n",
      "zcat /projects/CARDIPS/analysis/epigenome_resource/analyses/jennifer/gwas_liftover/hg38_summary_statistics/biomarkers-30760-both_sexes-irnt.meta.hg38.tsv.gz | head -1\n",
      "\n",
      "Multi-allelic snps: 0\n",
      "\n"
     ]
    },
    {
     "name": "stdout",
     "output_type": "stream",
     "text": [
      "PP.H0.abf PP.H1.abf PP.H2.abf PP.H3.abf PP.H4.abf \n",
      "   0.0878    0.3070    0.0715    0.2500    0.2840 \n",
      "[1] \"PP abf for shared variant: 28.4%\"\n"
     ]
    },
    {
     "name": "stderr",
     "output_type": "stream",
     "text": [
      "2024-06-11 15:24:01 5 biomarkers-30780-both_sexes-irnt.meta LDL direct\n",
      "\n",
      "tabix /projects/CARDIPS/analysis/epigenome_resource/analyses/jennifer/gwas_liftover/hg38_summary_statistics/biomarkers-30780-both_sexes-irnt.meta.hg38.tsv.gz chr1:168662007-170854080\n",
      "\n",
      "zcat /projects/CARDIPS/analysis/epigenome_resource/analyses/jennifer/gwas_liftover/hg38_summary_statistics/biomarkers-30780-both_sexes-irnt.meta.hg38.tsv.gz | head -1\n",
      "\n",
      "Multi-allelic snps: 0\n",
      "\n"
     ]
    },
    {
     "name": "stdout",
     "output_type": "stream",
     "text": [
      "PP.H0.abf PP.H1.abf PP.H2.abf PP.H3.abf PP.H4.abf \n",
      "   0.2040    0.7120    0.0122    0.0426    0.0299 \n",
      "[1] \"PP abf for shared variant: 2.99%\"\n"
     ]
    },
    {
     "name": "stderr",
     "output_type": "stream",
     "text": [
      "2024-06-11 15:24:01 6 BW3_EUR_summary_stats birth weight (eur)\n",
      "\n",
      "tabix /projects/CARDIPS/analysis/epigenome_resource/analyses/jennifer/gwas_liftover/hg38_summary_statistics/BW3_EUR_summary_stats.hg38.tsv.gz chr1:168662007-170854080\n",
      "\n",
      "zcat /projects/CARDIPS/analysis/epigenome_resource/analyses/jennifer/gwas_liftover/hg38_summary_statistics/BW3_EUR_summary_stats.hg38.tsv.gz | head -1\n",
      "\n",
      "Multi-allelic snps: 0\n",
      "\n"
     ]
    },
    {
     "name": "stdout",
     "output_type": "stream",
     "text": [
      "PP.H0.abf PP.H1.abf PP.H2.abf PP.H3.abf PP.H4.abf \n",
      "    0.072     0.251     0.148     0.517     0.012 \n",
      "[1] \"PP abf for shared variant: 1.2%\"\n"
     ]
    },
    {
     "name": "stderr",
     "output_type": "stream",
     "text": [
      "2024-06-11 15:24:01 7 CHILDHOOD_OBESITY.eur childhood obesity (eur)\n",
      "\n",
      "tabix /projects/CARDIPS/analysis/epigenome_resource/analyses/jennifer/gwas_liftover/hg38_summary_statistics/CHILDHOOD_OBESITY.eur.hg38.tsv.gz chr1:168662007-170854080\n",
      "\n",
      "zcat /projects/CARDIPS/analysis/epigenome_resource/analyses/jennifer/gwas_liftover/hg38_summary_statistics/CHILDHOOD_OBESITY.eur.hg38.tsv.gz | head -1\n",
      "\n",
      "No GWAS variants passed significance (p < 5e-05)\n",
      "\n",
      "2024-06-11 15:24:02 8 continuous-12336-both_sexes-irnt.meta Ventricular rate\n",
      "\n",
      "tabix /projects/CARDIPS/analysis/epigenome_resource/analyses/jennifer/gwas_liftover/hg38_summary_statistics/continuous-12336-both_sexes-irnt.meta.hg38.tsv.gz chr1:168662007-170854080\n",
      "\n",
      "zcat /projects/CARDIPS/analysis/epigenome_resource/analyses/jennifer/gwas_liftover/hg38_summary_statistics/continuous-12336-both_sexes-irnt.meta.hg38.tsv.gz | head -1\n",
      "\n",
      "Multi-allelic snps: 0\n",
      "\n"
     ]
    },
    {
     "name": "stdout",
     "output_type": "stream",
     "text": [
      "PP.H0.abf PP.H1.abf PP.H2.abf PP.H3.abf PP.H4.abf \n",
      "  0.20600   0.72000   0.01460   0.05080   0.00821 \n",
      "[1] \"PP abf for shared variant: 0.821%\"\n"
     ]
    },
    {
     "name": "stderr",
     "output_type": "stream",
     "text": [
      "2024-06-11 15:24:02 9 continuous-12340-both_sexes-irnt.meta QRS duration\n",
      "\n",
      "tabix /projects/CARDIPS/analysis/epigenome_resource/analyses/jennifer/gwas_liftover/hg38_summary_statistics/continuous-12340-both_sexes-irnt.meta.hg38.tsv.gz chr1:168662007-170854080\n",
      "\n",
      "zcat /projects/CARDIPS/analysis/epigenome_resource/analyses/jennifer/gwas_liftover/hg38_summary_statistics/continuous-12340-both_sexes-irnt.meta.hg38.tsv.gz | head -1\n",
      "\n",
      "Multi-allelic snps: 0\n",
      "\n"
     ]
    },
    {
     "name": "stdout",
     "output_type": "stream",
     "text": [
      "PP.H0.abf PP.H1.abf PP.H2.abf PP.H3.abf PP.H4.abf \n",
      "   0.1810    0.6320    0.0381    0.1330    0.0157 \n",
      "[1] \"PP abf for shared variant: 1.57%\"\n"
     ]
    },
    {
     "name": "stderr",
     "output_type": "stream",
     "text": [
      "2024-06-11 15:24:02 10 continuous-20022-both_sexes-irnt.meta Birth weight\n",
      "\n",
      "tabix /projects/CARDIPS/analysis/epigenome_resource/analyses/jennifer/gwas_liftover/hg38_summary_statistics/continuous-20022-both_sexes-irnt.meta.hg38.tsv.gz chr1:168662007-170854080\n",
      "\n",
      "zcat /projects/CARDIPS/analysis/epigenome_resource/analyses/jennifer/gwas_liftover/hg38_summary_statistics/continuous-20022-both_sexes-irnt.meta.hg38.tsv.gz | head -1\n",
      "\n",
      "Multi-allelic snps: 0\n",
      "\n"
     ]
    },
    {
     "name": "stdout",
     "output_type": "stream",
     "text": [
      "PP.H0.abf PP.H1.abf PP.H2.abf PP.H3.abf PP.H4.abf \n",
      "   0.1610    0.5640    0.0588    0.2050    0.0110 \n",
      "[1] \"PP abf for shared variant: 1.1%\"\n"
     ]
    },
    {
     "name": "stderr",
     "output_type": "stream",
     "text": [
      "2024-06-11 15:24:03 11 continuous-23104-both_sexes-irnt.meta Body mass index (BMI)\n",
      "\n",
      "tabix /projects/CARDIPS/analysis/epigenome_resource/analyses/jennifer/gwas_liftover/hg38_summary_statistics/continuous-23104-both_sexes-irnt.meta.hg38.tsv.gz chr1:168662007-170854080\n",
      "\n",
      "zcat /projects/CARDIPS/analysis/epigenome_resource/analyses/jennifer/gwas_liftover/hg38_summary_statistics/continuous-23104-both_sexes-irnt.meta.hg38.tsv.gz | head -1\n",
      "\n",
      "Multi-allelic snps: 0\n",
      "\n"
     ]
    },
    {
     "name": "stdout",
     "output_type": "stream",
     "text": [
      "PP.H0.abf PP.H1.abf PP.H2.abf PP.H3.abf PP.H4.abf \n",
      "  0.18900   0.66200   0.03210   0.11200   0.00434 \n",
      "[1] \"PP abf for shared variant: 0.434%\"\n"
     ]
    },
    {
     "name": "stderr",
     "output_type": "stream",
     "text": [
      "2024-06-11 15:24:03 12 continuous-4194-both_sexes-irnt.meta Pulse rate\n",
      "\n",
      "tabix /projects/CARDIPS/analysis/epigenome_resource/analyses/jennifer/gwas_liftover/hg38_summary_statistics/continuous-4194-both_sexes-irnt.meta.hg38.tsv.gz chr1:168662007-170854080\n",
      "\n",
      "zcat /projects/CARDIPS/analysis/epigenome_resource/analyses/jennifer/gwas_liftover/hg38_summary_statistics/continuous-4194-both_sexes-irnt.meta.hg38.tsv.gz | head -1\n",
      "\n",
      "Multi-allelic snps: 0\n",
      "\n"
     ]
    },
    {
     "name": "stdout",
     "output_type": "stream",
     "text": [
      "PP.H0.abf PP.H1.abf PP.H2.abf PP.H3.abf PP.H4.abf \n",
      "   0.2100    0.7330    0.0119    0.0416    0.0038 \n",
      "[1] \"PP abf for shared variant: 0.38%\"\n"
     ]
    },
    {
     "name": "stderr",
     "output_type": "stream",
     "text": [
      "2024-06-11 15:24:04 13 GCST90014023_buildGRCh38 type_1_diabetes\n",
      "\n",
      "tabix /projects/CARDIPS/analysis/epigenome_resource/analyses/jennifer/gwas_liftover/hg38_summary_statistics/GCST90014023_buildGRCh38.hg38.tsv.gz chr1:168662007-170854080\n",
      "\n",
      "zcat /projects/CARDIPS/analysis/epigenome_resource/analyses/jennifer/gwas_liftover/hg38_summary_statistics/GCST90014023_buildGRCh38.hg38.tsv.gz | head -1\n",
      "\n"
     ]
    },
    {
     "name": "stdout",
     "output_type": "stream",
     "text": [
      " [1] \"chr\"      \"pos\"      \"a1\"       \"a2\"       \"beta\"     \"se\"      \n",
      " [7] \"p\"        \"af\"       \"maf\"      \"total\"    \"chrpos\"   \"cases_fr\"\n",
      "[13] \"rsid\"    \n"
     ]
    },
    {
     "name": "stderr",
     "output_type": "stream",
     "text": [
      "Multi-allelic snps: 0\n",
      "\n"
     ]
    },
    {
     "name": "stdout",
     "output_type": "stream",
     "text": [
      "PP.H0.abf PP.H1.abf PP.H2.abf PP.H3.abf PP.H4.abf \n",
      "   0.1230    0.4290    0.0873    0.3050    0.0554 \n",
      "[1] \"PP abf for shared variant: 5.54%\"\n"
     ]
    },
    {
     "name": "stderr",
     "output_type": "stream",
     "text": [
      "2024-06-11 15:24:04 14 icd10-I20-both_sexes.meta I20 Angina pectoris\n",
      "\n",
      "tabix /projects/CARDIPS/analysis/epigenome_resource/analyses/jennifer/gwas_liftover/hg38_summary_statistics/icd10-I20-both_sexes.meta.hg38.tsv.gz chr1:168662007-170854080\n",
      "\n",
      "zcat /projects/CARDIPS/analysis/epigenome_resource/analyses/jennifer/gwas_liftover/hg38_summary_statistics/icd10-I20-both_sexes.meta.hg38.tsv.gz | head -1\n",
      "\n"
     ]
    },
    {
     "name": "stdout",
     "output_type": "stream",
     "text": [
      " [1] \"chr\"       \"pos\"       \"a1\"        \"a2\"        \"af\"        \"beta\"     \n",
      " [7] \"se\"        \"p\"         \"het_pval\"  \"maf\"       \"n_case\"    \"n_control\"\n",
      "[13] \"chrpos\"    \"cases_fr\"  \"total\"    \n"
     ]
    },
    {
     "name": "stderr",
     "output_type": "stream",
     "text": [
      "Multi-allelic snps: 0\n",
      "\n"
     ]
    },
    {
     "name": "stdout",
     "output_type": "stream",
     "text": [
      "PP.H0.abf PP.H1.abf PP.H2.abf PP.H3.abf PP.H4.abf \n",
      "   0.0747    0.2610    0.1450    0.5060    0.0143 \n",
      "[1] \"PP abf for shared variant: 1.43%\"\n"
     ]
    },
    {
     "name": "stderr",
     "output_type": "stream",
     "text": [
      "2024-06-11 15:24:04 15 icd10-I21-both_sexes.meta I21 Acute myocardial infarction\n",
      "\n",
      "tabix /projects/CARDIPS/analysis/epigenome_resource/analyses/jennifer/gwas_liftover/hg38_summary_statistics/icd10-I21-both_sexes.meta.hg38.tsv.gz chr1:168662007-170854080\n",
      "\n",
      "zcat /projects/CARDIPS/analysis/epigenome_resource/analyses/jennifer/gwas_liftover/hg38_summary_statistics/icd10-I21-both_sexes.meta.hg38.tsv.gz | head -1\n",
      "\n",
      "No GWAS variants passed significance (p < 5e-05)\n",
      "\n",
      "2024-06-11 15:24:05 16 icd10-I25-both_sexes.meta I25 Chronic ischaemic heart disease\n",
      "\n",
      "tabix /projects/CARDIPS/analysis/epigenome_resource/analyses/jennifer/gwas_liftover/hg38_summary_statistics/icd10-I25-both_sexes.meta.hg38.tsv.gz chr1:168662007-170854080\n",
      "\n",
      "zcat /projects/CARDIPS/analysis/epigenome_resource/analyses/jennifer/gwas_liftover/hg38_summary_statistics/icd10-I25-both_sexes.meta.hg38.tsv.gz | head -1\n",
      "\n"
     ]
    },
    {
     "name": "stdout",
     "output_type": "stream",
     "text": [
      " [1] \"chr\"       \"pos\"       \"a1\"        \"a2\"        \"af\"        \"beta\"     \n",
      " [7] \"se\"        \"p\"         \"het_pval\"  \"maf\"       \"n_case\"    \"n_control\"\n",
      "[13] \"chrpos\"    \"cases_fr\"  \"total\"    \n"
     ]
    },
    {
     "name": "stderr",
     "output_type": "stream",
     "text": [
      "Multi-allelic snps: 0\n",
      "\n"
     ]
    },
    {
     "name": "stdout",
     "output_type": "stream",
     "text": [
      "PP.H0.abf PP.H1.abf PP.H2.abf PP.H3.abf PP.H4.abf \n",
      "   0.0133    0.0463    0.2060    0.7210    0.0135 \n",
      "[1] \"PP abf for shared variant: 1.35%\"\n"
     ]
    },
    {
     "name": "stderr",
     "output_type": "stream",
     "text": [
      "2024-06-11 15:24:05 17 icd10-I48-both_sexes.meta I48 Atrial fibrillation and flutter\n",
      "\n",
      "tabix /projects/CARDIPS/analysis/epigenome_resource/analyses/jennifer/gwas_liftover/hg38_summary_statistics/icd10-I48-both_sexes.meta.hg38.tsv.gz chr1:168662007-170854080\n",
      "\n",
      "zcat /projects/CARDIPS/analysis/epigenome_resource/analyses/jennifer/gwas_liftover/hg38_summary_statistics/icd10-I48-both_sexes.meta.hg38.tsv.gz | head -1\n",
      "\n"
     ]
    },
    {
     "name": "stdout",
     "output_type": "stream",
     "text": [
      " [1] \"chr\"       \"pos\"       \"a1\"        \"a2\"        \"af\"        \"beta\"     \n",
      " [7] \"se\"        \"p\"         \"het_pval\"  \"maf\"       \"n_case\"    \"n_control\"\n",
      "[13] \"chrpos\"    \"cases_fr\"  \"total\"    \n"
     ]
    },
    {
     "name": "stderr",
     "output_type": "stream",
     "text": [
      "Multi-allelic snps: 0\n",
      "\n"
     ]
    },
    {
     "name": "stdout",
     "output_type": "stream",
     "text": [
      "PP.H0.abf PP.H1.abf PP.H2.abf PP.H3.abf PP.H4.abf \n",
      " 5.37e-29  1.88e-28  2.19e-01  7.63e-01  1.82e-02 \n",
      "[1] \"PP abf for shared variant: 1.82%\"\n"
     ]
    },
    {
     "name": "stderr",
     "output_type": "stream",
     "text": [
      "2024-06-11 15:24:05 18 MAGIC1000G_FG_EUR fasting glucose\n",
      "\n",
      "tabix /projects/CARDIPS/analysis/epigenome_resource/analyses/jennifer/gwas_liftover/hg38_summary_statistics/MAGIC1000G_FG_EUR.hg38.tsv.gz chr1:168662007-170854080\n",
      "\n",
      "zcat /projects/CARDIPS/analysis/epigenome_resource/analyses/jennifer/gwas_liftover/hg38_summary_statistics/MAGIC1000G_FG_EUR.hg38.tsv.gz | head -1\n",
      "\n",
      "Multi-allelic snps: 0\n",
      "\n"
     ]
    },
    {
     "name": "stdout",
     "output_type": "stream",
     "text": [
      "PP.H0.abf PP.H1.abf PP.H2.abf PP.H3.abf PP.H4.abf \n",
      "  0.20900   0.72400   0.01350   0.04680   0.00629 \n",
      "[1] \"PP abf for shared variant: 0.629%\"\n"
     ]
    },
    {
     "name": "stderr",
     "output_type": "stream",
     "text": [
      "2024-06-11 15:24:06 19 Mahajan.NatGenet2018b.T2D.European_sorted type 2 diabetes\n",
      "\n",
      "tabix /projects/CARDIPS/analysis/epigenome_resource/analyses/jennifer/gwas_liftover/hg38_summary_statistics/Mahajan.NatGenet2018b.T2D.European_sorted.hg38.tsv.gz chr1:168662007-170854080\n",
      "\n",
      "zcat /projects/CARDIPS/analysis/epigenome_resource/analyses/jennifer/gwas_liftover/hg38_summary_statistics/Mahajan.NatGenet2018b.T2D.European_sorted.hg38.tsv.gz | head -1\n",
      "\n"
     ]
    },
    {
     "name": "stdout",
     "output_type": "stream",
     "text": [
      " [1] \"chr\"      \"pos\"      \"id\"       \"a2\"       \"a1\"       \"eaf\"     \n",
      " [7] \"beta\"     \"se\"       \"p\"        \"n_case\"   \"total\"    \"maf\"     \n",
      "[13] \"chrpos\"   \"cases_fr\"\n"
     ]
    },
    {
     "name": "stderr",
     "output_type": "stream",
     "text": [
      "Multi-allelic snps: 0\n",
      "\n"
     ]
    },
    {
     "name": "stdout",
     "output_type": "stream",
     "text": [
      "PP.H0.abf PP.H1.abf PP.H2.abf PP.H3.abf PP.H4.abf \n",
      "  0.19700   0.67500   0.02700   0.09220   0.00876 \n",
      "[1] \"PP abf for shared variant: 0.876%\"\n"
     ]
    },
    {
     "name": "stderr",
     "output_type": "stream",
     "text": [
      "2024-06-11 15:24:06 20 phecode-747-both_sexes Cardiac and circulatory congenital anomalies\n",
      "\n",
      "tabix /projects/CARDIPS/analysis/epigenome_resource/analyses/jennifer/gwas_liftover/hg38_summary_statistics/phecode-747-both_sexes.meta.hg38.tsv.gz chr1:168662007-170854080\n",
      "\n",
      "zcat /projects/CARDIPS/analysis/epigenome_resource/analyses/jennifer/gwas_liftover/hg38_summary_statistics/phecode-747-both_sexes.meta.hg38.tsv.gz | head -1\n",
      "\n",
      "No GWAS variants passed significance (p < 5e-05)\n",
      "\n",
      "2024-06-11 15:24:06 21 phecode-747.11-both_sexes Cardiac shunt/ heart septal defect\n",
      "\n",
      "tabix /projects/CARDIPS/analysis/epigenome_resource/analyses/jennifer/gwas_liftover/hg38_summary_statistics/phecode-747.11-both_sexes.meta.hg38.tsv.gz chr1:168662007-170854080\n",
      "\n",
      "zcat /projects/CARDIPS/analysis/epigenome_resource/analyses/jennifer/gwas_liftover/hg38_summary_statistics/phecode-747.11-both_sexes.meta.hg38.tsv.gz | head -1\n",
      "\n"
     ]
    },
    {
     "name": "stdout",
     "output_type": "stream",
     "text": [
      " [1] \"chr\"       \"pos\"       \"a1\"        \"a2\"        \"id\"        \"beta\"     \n",
      " [7] \"se\"        \"p\"         \"n_case\"    \"n_control\" \"af\"        \"maf\"      \n",
      "[13] \"total\"     \"cases_fr\"  \"chrpos\"   \n"
     ]
    },
    {
     "name": "stderr",
     "output_type": "stream",
     "text": [
      "Multi-allelic snps: 0\n",
      "\n"
     ]
    },
    {
     "name": "stdout",
     "output_type": "stream",
     "text": [
      "PP.H0.abf PP.H1.abf PP.H2.abf PP.H3.abf PP.H4.abf \n",
      "   0.1640    0.5730    0.0502    0.1750    0.0379 \n",
      "[1] \"PP abf for shared variant: 3.79%\"\n"
     ]
    },
    {
     "name": "stderr",
     "output_type": "stream",
     "text": [
      "Saved: /projects/CARDIPS/analysis/epigenome_resource/analyses/jennifer/gwas_coloc/regressed_qtls/eqtls/iPSC/0-ENSG00000000460.17.robj\n",
      "\n"
     ]
    }
   ],
   "source": [
    "# read phenotype info\n",
    "pheninfo = fread(paste(analysis, tissue, \"input/phenotype_info.txt\", sep = \"/\"), data.table = F)\n",
    "pheninfo = pheninfo[pheninfo[,4] == element_id,]\n",
    "\n",
    "# set sample size for each analysis type\n",
    "# number corresponds to the number of samples\n",
    "ipscore_sample_size = list(\"iPSC eqtls\"  = 220, \n",
    "                           \"iPSC caqtls\" = 142, \n",
    "                           \"iPSC haqtls\" = 43, \n",
    "                           \"CVPC eqtls\"  = 178, \n",
    "                           \"CVPC caqtls\" = 140, \n",
    "                           \"CVPC haqtls\" = 101, \n",
    "                           \"PPC eqtls\"   = 107, \n",
    "                           \"PPC caqtls\"  = 109)\n",
    "\n",
    "# read qtldata\n",
    "qtldata        = fread(qtl_file, data.table = F)\n",
    "qtldata$chrpos = paste(qtldata$chrom, qtldata$pos, sep = \"_\") # set chrom and pos\n",
    "qtldata        = qtldata %>% dplyr::rename(a1 = ref, a2 = alt, p = pval) # rename columns to match those in gwas\n",
    "qtldata$maf    = ifelse(qtldata$af > 0.5, 1-qtldata$af, qtldata$af) # set maf\n",
    "qtldata        = qtldata[qtldata$type == discovery_order, c(\"chrpos\", \"a1\", \"a2\", \"beta\", \"se\", \"maf\", \"p\", \"bonferroni\")] # filter for the type\n",
    "\n",
    "#fdrdata        = fread(paste(analysis, tissue, \"step_4/qtl_by_element/qtl\", paste(\"fdr\", element_id, \"txt\", sep = \".\"), sep = \"/\"), data.table = F)\n",
    "#qtldata$tests  = fdrdata[fdrdata$type == discovery_order,]$tests\n",
    "\n",
    "#if (file.exists(outfile) == T)\n",
    "#{\n",
    "#    load(outfile, verbose = T)\n",
    "#} else\n",
    "#{\n",
    "outlist = list()\n",
    "#}\n",
    "\n",
    "# iterate through each row in GWAS manifest\n",
    "for (gwas_row in c(1:nrow(manifest)))\n",
    "{\n",
    "    gwas_file = manifest$filename[gwas_row] # path to GWAS sumstats\n",
    "    gwas_type = manifest$trait_type[gwas_row] # trait type (continuous or case-control)\n",
    "    trait_id = manifest$full_trait_id[gwas_row] # trait-id\n",
    "    description = manifest$description[gwas_row] # trait-id\n",
    "    \n",
    "    # check if the trait has already been colocalized\n",
    "    if (trait_id %in% names(outlist) & length(outlist[[trait_id]]) == 4)\n",
    "    {\n",
    "        message(paste(\"Skipping\", gwas_row, trait_id, description, \". Already exists.\"))\n",
    "    } else\n",
    "    {\n",
    "        message(paste(Sys.time(), gwas_row, trait_id, description))\n",
    "\n",
    "        # get association statistics for the region of interest (1 MB from element coordinates)\n",
    "        coord = paste0(pheninfo$chrom, \":\", pheninfo$start - 1e6, \"-\", pheninfo$end + 1e6)\n",
    "        cmd1 = paste(\"tabix\", gwas_file, coord)\n",
    "        cmd2 = paste(\"zcat\", gwas_file, \"| head -1\")\n",
    "\n",
    "        message(cmd1)\n",
    "        message(cmd2)\n",
    "\n",
    "        gwasdata = suppressWarnings(fread(cmd = cmd1, data.table = F, header = F))\n",
    "        header   = suppressWarnings(fread(cmd = cmd2, data.table = F))\n",
    "\n",
    "        # if there are GWAS variants in the region of interest, continue\n",
    "        if (nrow(gwasdata) > 0)\n",
    "        {\n",
    "            colnames(gwasdata) = colnames(header)\n",
    "\n",
    "            # check if there are GWAS variants that are above genome-wide significance, otherwise, do not continue\n",
    "            if (nrow(gwasdata[gwasdata$p < 5e-05,]) > 0 & \"maf\" %in% colnames(header))\n",
    "            {\n",
    "                if (gwas_type == \"case_control\")\n",
    "                {\n",
    "                    cols = c(\"chrpos\", \"a1\", \"a2\", \"beta\", \"se\", \"p\", \"cases_fr\", \"maf\", \"total\")\n",
    "                    \n",
    "                    print(colnames(gwasdata))\n",
    "                    \n",
    "                    missing_cols = cols[which(!cols %in% colnames(gwasdata))]\n",
    "                    \n",
    "                    if (length(missing_cols) > 0)\n",
    "                    {\n",
    "                        stop(paste(\"Missing\", paste(cols, collase = \", \")))\n",
    "                    } \n",
    "                    \n",
    "                    if (!\"cases_fr\" %in% colnames(gwasdata)) { gwasdata$cases_fr = gwasdata$n_case / gwasdata$total }\n",
    "                    \n",
    "                    gwasdata = gwasdata[,c(\"chrpos\", \"a1\", \"a2\", \"beta\", \"se\", \"p\", \"cases_fr\", \"maf\", \"total\")]\n",
    "                } else\n",
    "                {\n",
    "                    if (!\"n\" %in% colnames(gwasdata))\n",
    "                    {\n",
    "                        gwasdata$n = gwasdata$n_case \n",
    "                        gwasdata = gwasdata[,c(\"chrpos\", \"a1\", \"a2\", \"beta\", \"se\", \"p\", \"n\", \"maf\")]\n",
    "                    } else\n",
    "                    {\n",
    "                        gwasdata = gwasdata[,c(\"chrpos\", \"a1\", \"a2\", \"beta\", \"se\", \"p\", \"n\", \"maf\")]\n",
    "                    }\n",
    "                }\n",
    "\n",
    "                merge = merge(qtldata, gwasdata, by = \"chrpos\")\n",
    "\n",
    "                # fix opp. alleles\n",
    "                tmp1 = merge[merge$a1.x == merge$a1.y & merge$a2.x == merge$a2.y,]\n",
    "                tmp2 = merge[merge$a1.x == merge$a2.y & merge$a2.x == merge$a1.y,]\n",
    "                tmp2$beta.y = -1 * tmp2$beta.y\n",
    "                merge = rbind(tmp1, tmp2) \n",
    "\n",
    "                # remove multi-allelic snps\n",
    "                fq = data.frame(table(merge$chrpos)) %>% filter(Freq != 1)\n",
    "                merge = merge[!merge$chrpos %in% fq$Var1,]\n",
    "                message(paste(\"Multi-allelic snps:\", nrow(fq)))\n",
    "\n",
    "                # update id\n",
    "                merge = merge %>% mutate(chrpos = gsub(\"chr\", \"VAR_\", paste(chrpos, a1.x, a2.x, sep = \"_\"))) %>% dplyr::rename(id = chrpos)\n",
    "\n",
    "                # remove empty entries\n",
    "                merge = merge[!is.na(merge$beta.x) & \n",
    "                              !is.na(merge$beta.y) & \n",
    "                              !is.na(merge$maf.x) & \n",
    "                              !is.na(merge$maf.y) & \n",
    "                              complete.cases(merge) & \n",
    "                              merge$maf.x > 0 & \n",
    "                              merge$maf.x < 1 & \n",
    "                              merge$maf.y > 0 & \n",
    "                              merge$maf.y < 1,]\n",
    "                merge$maf.x  = as.double(merge$maf.x)\n",
    "                merge$maf.y  = as.double(merge$maf.y)\n",
    "                merge$beta.x = as.double(merge$beta.x)\n",
    "                merge$beta.y = as.double(merge$beta.y)\n",
    "                merge$se.x   = as.double(merge$se.x)\n",
    "                merge$se.y   = as.double(merge$se.y)\n",
    "\n",
    "                if (nrow(merge) > 50)\n",
    "                {\n",
    "                    dataset1 = list(type = \"quant\", snp = merge$id, beta = merge$beta.x, varbeta = merge$se.x^2, MAF = merge$maf.x, N = ipscore_sample_size[[paste(tissue, analysis)]])\n",
    "\n",
    "                    if (gwas_type == \"case_control\")\n",
    "                    {\n",
    "                        dataset2 = list(type = \"cc\", snp = merge$id, beta = merge$beta.y, varbeta = merge$se.y^2, MAF = merge$maf.y, s = merge$cases_fr, N = merge$total)\n",
    "                    } else\n",
    "                    {\n",
    "                        dataset2 = list(type = \"quant\", snp = merge$id, beta = merge$beta.y, varbeta = merge$se.y^2, MAF = merge$maf.y, N = merge$n)\n",
    "                    }\n",
    "\n",
    "                    coloc = suppressWarnings(coloc.abf(dataset1 = dataset1, dataset2 = dataset2))\n",
    "                    coloc = process_coloc(coloc)\n",
    "                    coloc$input = merge\n",
    "                    outlist[[trait_id]] = coloc\n",
    "\n",
    "                } else\n",
    "                {\n",
    "                    message(\"Overlapping SNPs < 50\")\n",
    "                }\n",
    "            } else\n",
    "            {\n",
    "                if (!\"maf\" %in% colnames(header))\n",
    "                {\n",
    "                    message(\"No MAF\")\n",
    "                } else if (nrow(gwasdata[gwasdata$p < 5e-05,]) == 0)\n",
    "                {\n",
    "                    message(\"No GWAS variants passed significance (p < 5e-05)\")\n",
    "                } else\n",
    "                {\n",
    "                    message(\"Unknown error\")\n",
    "                }\n",
    "            }\n",
    "        } else\n",
    "        {\n",
    "            message(\"No GWAS variants in window\")\n",
    "        }\n",
    "    }  \n",
    "}\n",
    "\n",
    "if (length(outlist) > 0)\n",
    "{\n",
    "    suppressWarnings(dir.create(outdir))\n",
    "    save(outlist, file = outfile)\n",
    "    message(paste(\"Saved:\", outfile))\n",
    "} else\n",
    "{\n",
    "    message(\"Empty results. No overlap with GWAS\")\n",
    "}\n",
    "\n",
    "\n",
    "\n"
   ]
  },
  {
   "cell_type": "code",
   "execution_count": null,
   "metadata": {},
   "outputs": [],
   "source": []
  },
  {
   "cell_type": "code",
   "execution_count": null,
   "metadata": {},
   "outputs": [],
   "source": []
  }
 ],
 "metadata": {
  "kernelspec": {
   "display_name": "R 4.2.1",
   "language": "R",
   "name": "ir421"
  },
  "language_info": {
   "codemirror_mode": "r",
   "file_extension": ".r",
   "mimetype": "text/x-r-source",
   "name": "R",
   "pygments_lexer": "r",
   "version": "4.2.1"
  }
 },
 "nbformat": 4,
 "nbformat_minor": 2
}
