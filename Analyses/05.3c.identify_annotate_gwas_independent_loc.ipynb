{
 "cells": [
  {
   "cell_type": "code",
   "execution_count": 1,
   "metadata": {},
   "outputs": [],
   "source": [
    "setwd(\"/projects/CARDIPS/analysis/epigenome_resource\")\n",
    "source(\"analyses/jennifer/notebooks/functions.R\")\n",
    "\n",
    "set.seed(5366)"
   ]
  },
  {
   "cell_type": "markdown",
   "metadata": {},
   "source": [
    "# **Assign QTLs to independent GWAS locus**"
   ]
  },
  {
   "cell_type": "markdown",
   "metadata": {},
   "source": [
    "## **read gwas manifest table**"
   ]
  },
  {
   "cell_type": "code",
   "execution_count": 2,
   "metadata": {},
   "outputs": [],
   "source": [
    "traits = c(\"I20 Angina pectoris\",\"I48 Atrial fibrillation and flutter\",\"Body mass index (BMI)\",\n",
    "           \"HDL cholesterol\",\"LDL direct\",\"I25 Chronic ischaemic heart disease\",\"I21 Acute myocardial infarction\",\n",
    "           \"Ventricular rate\",\"QRS duration\",\"Pulse rate\",\"childhood obesity (eur)\",\"birth weight (eur)\",\n",
    "            \"Multivariate Longevity\",\"fasting glucose\",\"type 2 diabetes\")\n",
    "\n",
    "### Manifest found in Supplemental Table 5\n",
    "manifest = fread(\"analyses/jennifer/gwas_independent/subset_manifest.txt\", data.table = F)  %>% \n",
    "    filter(description %in% traits)\n"
   ]
  },
  {
   "cell_type": "markdown",
   "metadata": {},
   "source": [
    "## **check files**"
   ]
  },
  {
   "cell_type": "code",
   "execution_count": null,
   "metadata": {},
   "outputs": [
    {
     "name": "stderr",
     "output_type": "stream",
     "text": [
      "analyses/jennifer/gwas_independent/indep/timmers2020_healthspan_lifespan_longevity.hg38_5e-08.txt\n",
      "\n"
     ]
    }
   ],
   "source": [
    "for (trait in manifest$full_trait_id)\n",
    "{\n",
    "    file = paste(\"analyses/jennifer/gwas_independent/indep\", paste(trait, \"hg38_5e-08.txt\", sep = \".\"), sep = \"/\")\n",
    "    if (file.exists(file) == T)\n",
    "    {\n",
    "        data = fread(manifest[manifest$full_trait_id == trait,]$filename, data.table = F) %>% mutate(p = as.double(p)) %>% filter(p <= 5e-08)\n",
    "\n",
    "#         fwrite(data, file, row.names = F, sep = \"\\t\", col.names = F)\n",
    "#         message(paste(file, \"written\"), appendLF = F)\n",
    "        message(file)\n",
    "        \n",
    "    }\n",
    "}"
   ]
  },
  {
   "cell_type": "markdown",
   "metadata": {},
   "source": [
    "## **Identify GWAS independent loci for each trait**"
   ]
  },
  {
   "cell_type": "markdown",
   "metadata": {},
   "source": [
    "### **filter for variants passed genome-wide significant and in 1000 Genomes (already done! do not rerun)**"
   ]
  },
  {
   "cell_type": "code",
   "execution_count": 4,
   "metadata": {},
   "outputs": [],
   "source": [
    "# read 1000 Genomes variants\n",
    "bims = fread(\"analyses/jennifer/gwas_independent/reference/combined.renamed.bim\", data.table = F, header = F)\n",
    "colnames(bims) = c(\"chr\", \"id\", \"cm\", \"pos\", \"a1\", \"a2\")"
   ]
  },
  {
   "cell_type": "code",
   "execution_count": 5,
   "metadata": {},
   "outputs": [
    {
     "name": "stderr",
     "output_type": "stream",
     "text": [
      "timmers2020_healthspan_lifespan_longevity\n"
     ]
    },
    {
     "ename": "ERROR",
     "evalue": "\u001b[1m\u001b[33mError\u001b[39m in `select()`:\u001b[22m\n\u001b[33m!\u001b[39m Can't select columns that don't exist.\n\u001b[31m✖\u001b[39m Column `id` doesn't exist.\n",
     "output_type": "error",
     "traceback": [
      "\u001b[1m\u001b[33mError\u001b[39m in `select()`:\u001b[22m\n\u001b[33m!\u001b[39m Can't select columns that don't exist.\n\u001b[31m✖\u001b[39m Column `id` doesn't exist.\nTraceback:\n",
      "1. fread(manifest[row, ]$filename, data.table = F) %>% mutate(p = as.double(p)) %>% \n .     filter(p <= 5e-08) %>% select(-id)",
      "2. select(., -id)",
      "3. select.data.frame(., -id)",
      "4. tidyselect::eval_select(expr(c(...)), data = .data, error_call = error_call)",
      "5. eval_select_impl(data, names(data), as_quosure(expr, env), include = include, \n .     exclude = exclude, strict = strict, name_spec = name_spec, \n .     allow_rename = allow_rename, allow_empty = allow_empty, allow_predicates = allow_predicates, \n .     error_call = error_call, )",
      "6. with_subscript_errors(out <- vars_select_eval(vars, expr, strict = strict, \n .     data = x, name_spec = name_spec, uniquely_named = uniquely_named, \n .     allow_rename = allow_rename, allow_empty = allow_empty, allow_predicates = allow_predicates, \n .     type = type, error_call = error_call), type = type)",
      "7. withCallingHandlers(expr, vctrs_error_subscript = function(cnd) {\n .     cnd$subscript_action <- subscript_action(type)\n .     cnd$subscript_elt <- \"column\"\n .     cnd_signal(cnd)\n . })",
      "8. vars_select_eval(vars, expr, strict = strict, data = x, name_spec = name_spec, \n .     uniquely_named = uniquely_named, allow_rename = allow_rename, \n .     allow_empty = allow_empty, allow_predicates = allow_predicates, \n .     type = type, error_call = error_call)",
      "9. walk_data_tree(expr, data_mask, context_mask)",
      "10. eval_c(expr, data_mask, context_mask)",
      "11. reduce_sels(node, data_mask, context_mask, init = init)",
      "12. walk_data_tree(new, data_mask, context_mask)",
      "13. as_indices_sel_impl(out, vars = vars, strict = strict, data = data, \n  .     allow_predicates = allow_predicates, call = error_call, arg = as_label(expr))",
      "14. as_indices_impl(x, vars, call = call, arg = arg, strict = strict)",
      "15. chr_as_locations(x, vars, call = call, arg = arg)",
      "16. vctrs::vec_as_location(x, n = length(vars), names = vars, call = call, \n  .     arg = arg)",
      "17. (function () \n  . stop_subscript_oob(i = i, subscript_type = subscript_type, names = names, \n  .     subscript_action = subscript_action, subscript_arg = subscript_arg, \n  .     call = call))()",
      "18. stop_subscript_oob(i = i, subscript_type = subscript_type, names = names, \n  .     subscript_action = subscript_action, subscript_arg = subscript_arg, \n  .     call = call)",
      "19. stop_subscript(class = \"vctrs_error_subscript_oob\", i = i, subscript_type = subscript_type, \n  .     ..., call = call)",
      "20. abort(class = c(class, \"vctrs_error_subscript\"), i = i, ..., \n  .     call = call)",
      "21. signal_abort(cnd, .file)",
      "22. signalCondition(cnd)",
      "23. (function (cnd) \n  . {\n  .     cnd$subscript_action <- subscript_action(type)\n  .     cnd$subscript_elt <- \"column\"\n  .     cnd_signal(cnd)\n  . })(structure(list(message = \"\", trace = structure(list(call = list(\n  .     IRkernel::main(), kernel$run(), handle_shell(), executor$execute(msg), \n  .     tryCatch(evaluate(request$content$code, envir = .GlobalEnv, \n  .         output_handler = oh, stop_on_error = 1L), interrupt = function(cond) {\n  .         log_debug(\"Interrupt during execution\")\n  .         interrupted <<- TRUE\n  .     }, error = .self$handle_error), tryCatchList(expr, classes, \n  .         parentenv, handlers), tryCatchOne(tryCatchList(expr, \n  .         names[-nh], parentenv, handlers[-nh]), names[nh], parentenv, \n  .         handlers[[nh]]), doTryCatch(return(expr), name, parentenv, \n  .         handler), tryCatchList(expr, names[-nh], parentenv, handlers[-nh]), \n  .     tryCatchOne(expr, names, parentenv, handlers[[1L]]), doTryCatch(return(expr), \n  .         name, parentenv, handler), evaluate(request$content$code, \n  .         envir = .GlobalEnv, output_handler = oh, stop_on_error = 1L), \n  .     evaluate_call(expr, parsed$src[[i]], envir = envir, enclos = enclos, \n  .         debug = debug, last = i == length(out), use_try = stop_on_error != \n  .             2L, keep_warning = keep_warning, keep_message = keep_message, \n  .         log_echo = log_echo, log_warning = log_warning, output_handler = output_handler, \n  .         include_timing = include_timing), timing_fn(handle(ev <- withCallingHandlers(withVisible(eval_with_user_handlers(expr, \n  .         envir, enclos, user_handlers)), warning = wHandler, error = eHandler, \n  .         message = mHandler))), handle(ev <- withCallingHandlers(withVisible(eval_with_user_handlers(expr, \n  .         envir, enclos, user_handlers)), warning = wHandler, error = eHandler, \n  .         message = mHandler)), try(f, silent = TRUE), tryCatch(expr, \n  .         error = function(e) {\n  .             call <- conditionCall(e)\n  .             if (!is.null(call)) {\n  .                 if (identical(call[[1L]], quote(doTryCatch))) \n  .                   call <- sys.call(-4L)\n  .                 dcall <- deparse(call, nlines = 1L)\n  .                 prefix <- paste(\"Error in\", dcall, \": \")\n  .                 LONG <- 75L\n  .                 sm <- strsplit(conditionMessage(e), \"\\n\")[[1L]]\n  .                 w <- 14L + nchar(dcall, type = \"w\") + nchar(sm[1L], \n  .                   type = \"w\")\n  .                 if (is.na(w)) \n  .                   w <- 14L + nchar(dcall, type = \"b\") + nchar(sm[1L], \n  .                     type = \"b\")\n  .                 if (w > LONG) \n  .                   prefix <- paste0(prefix, \"\\n  \")\n  .             }\n  .             else prefix <- \"Error : \"\n  .             msg <- paste0(prefix, conditionMessage(e), \"\\n\")\n  .             .Internal(seterrmessage(msg[1L]))\n  .             if (!silent && isTRUE(getOption(\"show.error.messages\"))) {\n  .                 cat(msg, file = outFile)\n  .                 .Internal(printDeferredWarnings())\n  .             }\n  .             invisible(structure(msg, class = \"try-error\", condition = e))\n  .         }), tryCatchList(expr, classes, parentenv, handlers), \n  .     tryCatchOne(expr, names, parentenv, handlers[[1L]]), doTryCatch(return(expr), \n  .         name, parentenv, handler), withCallingHandlers(withVisible(eval_with_user_handlers(expr, \n  .         envir, enclos, user_handlers)), warning = wHandler, error = eHandler, \n  .         message = mHandler), withVisible(eval_with_user_handlers(expr, \n  .         envir, enclos, user_handlers)), eval_with_user_handlers(expr, \n  .         envir, enclos, user_handlers), eval(expr, envir, enclos), \n  .     eval(expr, envir, enclos), fread(manifest[row, ]$filename, \n  .         data.table = F) %>% mutate(p = as.double(p)) %>% filter(p <= \n  .         5e-08) %>% select(-id), select(., -id), select.data.frame(., \n  .         -id), tidyselect::eval_select(expr(c(...)), data = .data, \n  .         error_call = error_call), eval_select_impl(data, names(data), \n  .         as_quosure(expr, env), include = include, exclude = exclude, \n  .         strict = strict, name_spec = name_spec, allow_rename = allow_rename, \n  .         allow_empty = allow_empty, allow_predicates = allow_predicates, \n  .         error_call = error_call, ), with_subscript_errors(out <- vars_select_eval(vars, \n  .         expr, strict = strict, data = x, name_spec = name_spec, \n  .         uniquely_named = uniquely_named, allow_rename = allow_rename, \n  .         allow_empty = allow_empty, allow_predicates = allow_predicates, \n  .         type = type, error_call = error_call), type = type), \n  .     withCallingHandlers(expr, vctrs_error_subscript = function(cnd) {\n  .         cnd$subscript_action <- subscript_action(type)\n  .         cnd$subscript_elt <- \"column\"\n  .         cnd_signal(cnd)\n  .     }), vars_select_eval(vars, expr, strict = strict, data = x, \n  .         name_spec = name_spec, uniquely_named = uniquely_named, \n  .         allow_rename = allow_rename, allow_empty = allow_empty, \n  .         allow_predicates = allow_predicates, type = type, error_call = error_call), \n  .     walk_data_tree(expr, data_mask, context_mask), eval_c(expr, \n  .         data_mask, context_mask), reduce_sels(node, data_mask, \n  .         context_mask, init = init), walk_data_tree(new, data_mask, \n  .         context_mask), as_indices_sel_impl(out, vars = vars, \n  .         strict = strict, data = data, allow_predicates = allow_predicates, \n  .         call = error_call, arg = as_label(expr)), as_indices_impl(x, \n  .         vars, call = call, arg = arg, strict = strict), chr_as_locations(x, \n  .         vars, call = call, arg = arg), vctrs::vec_as_location(x, \n  .         n = length(vars), names = vars, call = call, arg = arg), \n  .     `<fn>`(), stop_subscript_oob(i = i, subscript_type = subscript_type, \n  .         names = names, subscript_action = subscript_action, subscript_arg = subscript_arg, \n  .         call = call), stop_subscript(class = \"vctrs_error_subscript_oob\", \n  .         i = i, subscript_type = subscript_type, ..., call = call), \n  .     abort(class = c(class, \"vctrs_error_subscript\"), i = i, ..., \n  .         call = call)), parent = c(0L, 1L, 2L, 3L, 4L, 5L, 6L, \n  . 7L, 6L, 9L, 10L, 4L, 12L, 13L, 13L, 15L, 16L, 17L, 18L, 19L, \n  . 13L, 13L, 13L, 23L, 24L, 0L, 0L, 0L, 28L, 29L, 30L, 31L, 30L, \n  . 33L, 34L, 35L, 36L, 37L, 38L, 39L, 40L, 0L, 42L, 43L, 44L), visible = c(TRUE, \n  . TRUE, TRUE, TRUE, TRUE, TRUE, TRUE, TRUE, TRUE, TRUE, TRUE, TRUE, \n  . TRUE, TRUE, TRUE, TRUE, TRUE, TRUE, TRUE, TRUE, TRUE, TRUE, TRUE, \n  . TRUE, TRUE, TRUE, TRUE, TRUE, FALSE, FALSE, FALSE, FALSE, FALSE, \n  . FALSE, FALSE, FALSE, FALSE, FALSE, FALSE, FALSE, FALSE, FALSE, \n  . FALSE, FALSE, FALSE), namespace = c(\"IRkernel\", NA, \"IRkernel\", \n  . NA, \"base\", \"base\", \"base\", \"base\", \"base\", \"base\", \"base\", \"evaluate\", \n  . \"evaluate\", \"evaluate\", \"evaluate\", \"base\", \"base\", \"base\", \"base\", \n  . \"base\", \"base\", \"base\", \"evaluate\", \"base\", \"base\", NA, \"dplyr\", \n  . \"dplyr\", \"tidyselect\", \"tidyselect\", \"tidyselect\", \"base\", \"tidyselect\", \n  . \"tidyselect\", \"tidyselect\", \"tidyselect\", \"tidyselect\", \"tidyselect\", \n  . \"tidyselect\", \"tidyselect\", \"vctrs\", \"vctrs\", \"vctrs\", \"vctrs\", \n  . \"rlang\"), scope = c(\"::\", NA, \"local\", NA, \"::\", \"local\", \"local\", \n  . \"local\", \"local\", \"local\", \"local\", \"::\", \":::\", \"local\", \"local\", \n  . \"::\", \"::\", \"local\", \"local\", \"local\", \"::\", \"::\", \":::\", \"::\", \n  . \"::\", NA, \"::\", \":::\", \"::\", \":::\", \":::\", \"::\", \":::\", \":::\", \n  . \":::\", \":::\", \":::\", \":::\", \":::\", \":::\", \"::\", \"local\", \":::\", \n  . \":::\", \"::\"), error_frame = c(FALSE, FALSE, FALSE, FALSE, FALSE, \n  . FALSE, FALSE, FALSE, FALSE, FALSE, FALSE, FALSE, FALSE, FALSE, \n  . FALSE, FALSE, FALSE, FALSE, FALSE, FALSE, FALSE, FALSE, FALSE, \n  . FALSE, FALSE, FALSE, FALSE, TRUE, FALSE, FALSE, FALSE, FALSE, \n  . FALSE, FALSE, FALSE, FALSE, FALSE, FALSE, FALSE, FALSE, FALSE, \n  . FALSE, FALSE, FALSE, FALSE)), row.names = c(NA, -45L), version = 2L, class = c(\"rlang_trace\", \n  . \"rlib_trace\", \"tbl\", \"data.frame\")), parent = NULL, i = \"id\", \n  .     subscript_type = \"character\", names = c(\"chr\", \"pos\", \"a1\", \n  .     \"a2\", \"af\", \"beta\", \"se\", \"p\", \"n\", \"maf\", \"chrpos\"), subscript_action = NULL, \n  .     subscript_arg = \"id\", rlang = list(inherit = TRUE), call = select(., \n  .         -id)), class = c(\"vctrs_error_subscript_oob\", \"vctrs_error_subscript\", \n  . \"rlang_error\", \"error\", \"condition\")))",
      "24. cnd_signal(cnd)",
      "25. signal_abort(cnd)"
     ]
    }
   ],
   "source": [
    "for (row in c(1:nrow(manifest)))\n",
    "{\n",
    "    outfile = paste(\"analyses/jennifer/gwas_independent/indep\", paste(manifest[row,]$full_trait_id, \"hg38_5e-08\", \"txt\", sep = \".\"), sep = \"/\")\n",
    "    message(manifest[row,]$full_trait_id, appendLF = F)\n",
    "    data = fread(manifest[row,]$filename, data.table = F) %>% \n",
    "        mutate(p = as.double(p)) %>%\n",
    "        filter(p <= 5e-08) %>%\n",
    "        select(-id)\n",
    "    data$chr = gsub(\"chr\", \"\", data$chr)\n",
    "    data2 = merge(data, bims %>% select(chr, pos, a1, a2, id), by = c(\"chr\", \"pos\")) %>% \n",
    "        filter( (a1.x == a1.y & a2.x == a2.y) | (a1.x == a2.y & a2.x == a1.y) ) %>%\n",
    "        mutate(id_1kg = paste(chr, pos, a1, a2, sep = \"_\"))\n",
    "    fwrite(data2, outfile, row.names = F, sep = \"\\t\")\n",
    "    message(paste(\"Saved:\", outfile), appendLF = F)\n",
    "}"
   ]
  },
  {
   "cell_type": "code",
   "execution_count": null,
   "metadata": {},
   "outputs": [],
   "source": []
  },
  {
   "cell_type": "markdown",
   "metadata": {},
   "source": [
    "### **prune variants**"
   ]
  },
  {
   "cell_type": "markdown",
   "metadata": {},
   "source": [
    "https://www.nature.com/articles/s41588-023-01584-8\n",
    "\n",
    "> \"We identified genomic risk loci within our meta-analysis results using Functional Mapping and Annotation (FUMA) v1.3.8 (refs. 11,12). In brief, FUMA first identifies independent significant SNPs in the GWAS results by clumping all significant variants with the r2 threshold <0.6, and then a locus is defined by merging LD blocks of all independent significant SNPs within 250 kb of each other. Start and end of a locus is defined by identifying SNPs in LD with the independent significant SNPs (r2 ≥ 0.6) and defining a region that encompasses all SNPs within the locus. Lead SNPs within a locus are determined by further clumping the independent significant variants within the genomic locus (r2 ≥ 0.1). The 1000 Genome reference panel with all ancestries was used to calculate the r2.\""
   ]
  },
  {
   "cell_type": "code",
   "execution_count": 5,
   "metadata": {},
   "outputs": [],
   "source": [
    "# prune variants using variant count\n",
    "pipeline = \"path_to_05.3a.indep_gwas_prune.variant_ct.sh\""
   ]
  },
  {
   "cell_type": "code",
   "execution_count": 7,
   "metadata": {},
   "outputs": [],
   "source": [
    "# These papers use variant count as a distance metric\n",
    "# https://www.ncbi.nlm.nih.gov/pmc/articles/PMC9282256/\n",
    "# https://www.ncbi.nlm.nih.gov/pmc/articles/PMC4342193/\n",
    "# https://www.nature.com/articles/s41598-020-63457-y\n",
    "# https://www.ncbi.nlm.nih.gov/pmc/articles/PMC3581193/\n",
    "# https://www.nature.com/articles/srep38600"
   ]
  },
  {
   "cell_type": "code",
   "execution_count": 8,
   "metadata": {},
   "outputs": [
    {
     "name": "stderr",
     "output_type": "stream",
     "text": [
      "qsub /projects/CARDIPS/analysis/epigenome_resource/manuscript/notebooks/02.0.prune_gwas_variants_with_counts.sh 500 5 0.5\n",
      "\n"
     ]
    }
   ],
   "source": [
    "windows = c(50, 100, 250, 500)\n",
    "steps = c(5, 10, 20, 50)\n",
    "r2s = c(0.01, 0.1, 0.2, 0.5, 0.6, 0.7, 0.8)\n",
    "\n",
    "for (wind in windows[4])\n",
    "{\n",
    "    for (step in steps[1])\n",
    "    {\n",
    "        for (r2 in r2s[c(4)])\n",
    "        {\n",
    "            cmd = paste(\"qsub\", pipeline, wind, step, r2)\n",
    "            message(cmd)\n",
    "            system(cmd)\n",
    "        }\n",
    "    }\n",
    "}"
   ]
  },
  {
   "cell_type": "markdown",
   "metadata": {},
   "source": [
    "### **in response to reviewers: how far does 500 variants get?**"
   ]
  },
  {
   "cell_type": "code",
   "execution_count": 3,
   "metadata": {},
   "outputs": [],
   "source": [
    "# qtls = fread(\"analyses/tim/gwas_coloc/scripts/qtls_to_coloc_with_gwas.txt\", data.table = F) %>% filter(analysis == \"eqtls\")\n",
    "qtls = fread(\"analyses/tim/ld_modules/modules/all_modules_091124.txt\", data.table = T)\n"
   ]
  },
  {
   "cell_type": "code",
   "execution_count": 114,
   "metadata": {},
   "outputs": [],
   "source": [
    "winds = unlist(lapply(qtls$path_to_qtl, function(file)\n",
    "{\n",
    "    data = fread(file, data.table = F) %>% arrange(pos) %>% mutate(rank = c(1:nrow(.)))\n",
    "    lead = data %>% arrange(pval) %>% head(1) %>% pull(rank)\n",
    "    wind = data %>% filter(rank >= (lead - 500) & rank <= (lead + 500))\n",
    "    wind = min(wind$pos) - max(wind$pos)\n",
    "    return(wind)\n",
    "}))\n",
    "\n",
    "\n",
    "save(winds, file = \"analyses/jennifer/gwas_independent/kb_distance_for_500snps_window.robj\")"
   ]
  },
  {
   "cell_type": "code",
   "execution_count": 3,
   "metadata": {},
   "outputs": [
    {
     "name": "stdout",
     "output_type": "stream",
     "text": [
      "Loading objects:\n",
      "  winds\n"
     ]
    }
   ],
   "source": [
    "load(\"analyses/jennifer/gwas_independent/kb_distance_for_500snps_window.robj\", verbose =T)"
   ]
  },
  {
   "cell_type": "code",
   "execution_count": 4,
   "metadata": {},
   "outputs": [
    {
     "data": {
      "text/html": [
       "329.003"
      ],
      "text/latex": [
       "329.003"
      ],
      "text/markdown": [
       "329.003"
      ],
      "text/plain": [
       "[1] 329.003"
      ]
     },
     "metadata": {},
     "output_type": "display_data"
    },
    {
     "data": {
      "text/html": [
       "385.852424876911"
      ],
      "text/latex": [
       "385.852424876911"
      ],
      "text/markdown": [
       "385.852424876911"
      ],
      "text/plain": [
       "[1] 385.8524"
      ]
     },
     "metadata": {},
     "output_type": "display_data"
    }
   ],
   "source": [
    "median(abs(winds) / 1e3)\n",
    "mean(abs(winds) / 1e3)"
   ]
  },
  {
   "cell_type": "code",
   "execution_count": 5,
   "metadata": {},
   "outputs": [
    {
     "name": "stderr",
     "output_type": "stream",
     "text": [
      "Warning message in int_abline(a = a, b = b, h = h, v = v, untf = untf, ...):\n",
      "“\"fonttype\" is not a graphical parameter”\n"
     ]
    },
    {
     "data": {
      "image/png": "[encoded data removed]",
      "text/plain": [
       "Plot with title “”"
      ]
     },
     "metadata": {
      "image/png": {
       "height": 360,
       "width": 480
      }
     },
     "output_type": "display_data"
    }
   ],
   "source": [
    "psize(w = 8, h = 6)\n",
    "hist(abs(winds) / 1e3, main = \"\", xlab = \"Absolute window size (Kb)\", ylab = \"Variants (N)\")\n",
    "abline(v = median(abs(winds)) / 1e3, col = \"red\", fonttype = \"arial\")"
   ]
  },
  {
   "cell_type": "markdown",
   "metadata": {},
   "source": [
    "### **number of GWAS indep loci per trait**"
   ]
  },
  {
   "cell_type": "code",
   "execution_count": 3,
   "metadata": {},
   "outputs": [
    {
     "name": "stderr",
     "output_type": "stream",
     "text": [
      "timmers2020_healthspan_lifespan_longevity\n",
      "biomarkers-30760-both_sexes-irnt.meta\n",
      "biomarkers-30780-both_sexes-irnt.meta\n",
      "BW3_EUR_summary_stats\n",
      "CHILDHOOD_OBESITY.eur\n",
      "continuous-12336-both_sexes-irnt.meta\n",
      "continuous-12340-both_sexes-irnt.meta\n",
      "continuous-23104-both_sexes-irnt.meta\n",
      "continuous-4194-both_sexes-irnt.meta\n",
      "icd10-I20-both_sexes.meta\n",
      "icd10-I21-both_sexes.meta\n",
      "icd10-I25-both_sexes.meta\n",
      "icd10-I48-both_sexes.meta\n",
      "MAGIC1000G_FG_EUR\n",
      "Mahajan.NatGenet2018b.T2D.European_sorted\n"
     ]
    }
   ],
   "source": [
    "# kb = 50\n",
    "# step = 5\n",
    "# r2 = 0.75\n",
    "type = \"ct\"\n",
    "\n",
    "windows = c(50, 100, 250, 500)\n",
    "steps = c(5, 10, 20, 50)\n",
    "r2s = c(0.01, 0.1, 0.2, 0.5, 0.6, 0.7, 0.8)\n",
    "\n",
    "gwas_index = as.data.frame(rbindlist(lapply(windows[4], function(kb)\n",
    "{\n",
    "    as.data.frame(rbindlist(lapply(steps[1], function(step)\n",
    "    {\n",
    "        as.data.frame(rbindlist(lapply(r2s[2], function(r2)\n",
    "        {\n",
    "            as.data.frame(rbindlist(lapply(manifest$full_trait_id, function(trait)\n",
    "            {\n",
    "                message(trait, appendLF = F)\n",
    "                as.data.frame(rbindlist(lapply(c(1:22), function(i)\n",
    "                {   \n",
    "                    # Filename for pruned variants\n",
    "                    file = paste(getwd(), \"analyses/jennifer/gwas_independent/indep\", \n",
    "                                 paste(trait, \"hg38_5e-08\", sep = \".\"), \n",
    "                                 paste(paste0(\"chr\", i), paste(paste0(kb, type), paste0(step, \"step\"), paste0(\"r\", r2), sep = \"_\"), \"prune.in\", sep = \".\"), sep = \"/\")\n",
    "\n",
    "                    # Filename for all genome-wide sig GWAS variants\n",
    "                    tested = paste(getwd(), \"analyses/jennifer/gwas_independent/indep\", \n",
    "                                 paste(trait, \"hg38_5e-08\", sep = \".\"), \n",
    "                                 paste(paste0(\"chr\", i),  \"snps\", sep = \".\"), sep = \"/\")\n",
    "                    \n",
    "                    # Filter snps that are on the chromosome of interest\n",
    "                    tested     = data.frame(snp = readLines(tested)) %>% distinct()\n",
    "                    tested$chr = as.numeric(unlist(lapply(tested$snp, function(x) { unlist(strsplit(x, \"_\"))[1] })))\n",
    "                    tested$pos = as.numeric(unlist(lapply(tested$snp, function(x) { unlist(strsplit(x, \"_\"))[2] })))\n",
    "                    tested     = tested %>% filter(chr == i)\n",
    "                    \n",
    "                    if (file.exists(file))\n",
    "                    {\n",
    "                        snps = readLines(file)\n",
    "\n",
    "                        # Remove MHC regions\n",
    "                        if (i == 6)\n",
    "                        {\n",
    "                            tmp = data.frame(snp = snps) %>% mutate(pos = unlist(lapply(snp, function(x) { as.numeric(unlist(strsplit(x, \"_\"))[2]) })))\n",
    "                            tmp = tmp %>% filter(pos <= 28510120 | pos >= 33480577)\n",
    "                            snps = tmp$snp\n",
    "                        }\n",
    "\n",
    "                        data.frame(index = snps) %>%\n",
    "                            mutate(description = manifest[manifest$full_trait_id == trait,]$description,\n",
    "                                   full_trait_id = trait,\n",
    "                                   kb = kb,\n",
    "                                   step = step,\n",
    "                                   r2 = r2,\n",
    "                                   chr = i,\n",
    "                                   var_tested = length(unique(tested$snp)))\n",
    "                    } else\n",
    "                    {\n",
    "#                         message(paste(file, \"missing\"))\n",
    "                        # If \"prune.in\" does not exist, it is likely beccause there is only one locus \n",
    "                        # so plink throws an error and therefore doesn't run\n",
    "                        # if there is only one locus, no need to prune\n",
    "                        if (length(unique(tested$snp)) == 1)\n",
    "                        {\n",
    "                            data.frame(index = tested$snp) %>%\n",
    "                                mutate(description = manifest[manifest$full_trait_id == trait,]$description,\n",
    "                                       full_trait_id = trait,\n",
    "                                       kb = kb,\n",
    "                                       step = step,\n",
    "                                       r2 = r2,\n",
    "                                       chr = i,\n",
    "                                       var_tested = length(unique(tested$snp)))\n",
    "                        } else\n",
    "                        {\n",
    "                            data.frame(index = NA) %>%\n",
    "                                mutate(description = manifest[manifest$full_trait_id == trait,]$description,\n",
    "                                       full_trait_id = trait,\n",
    "                                       kb = kb,\n",
    "                                       step = step,\n",
    "                                       r2 = r2,\n",
    "                                       chr = i,\n",
    "                                       var_tested = length(unique(tested$snp)))\n",
    "                        }\n",
    "                            \n",
    "                    }\n",
    "                })))  \n",
    "              })))  \n",
    "        })))\n",
    "    })))\n",
    "})))\n",
    "\n"
   ]
  },
  {
   "cell_type": "code",
   "execution_count": 4,
   "metadata": {},
   "outputs": [
    {
     "data": {
      "text/plain": [
       "\n",
       " 0 \n",
       "80 "
      ]
     },
     "metadata": {},
     "output_type": "display_data"
    }
   ],
   "source": [
    "# remove empty entries\n",
    "a = gwas_index %>% filter(is.na(index))\n",
    "table(a$var_tested)\n",
    "\n",
    "gwas_index = gwas_index %>% filter(!is.na(index))"
   ]
  },
  {
   "cell_type": "code",
   "execution_count": 5,
   "metadata": {},
   "outputs": [
    {
     "name": "stderr",
     "output_type": "stream",
     "text": [
      "# loci: 5192\n",
      "\n"
     ]
    }
   ],
   "source": [
    "gwas_index$index_trait = paste(gwas_index$index, gwas_index$full_trait_id)\n",
    "\n",
    "message(paste(\"# loci:\", length(unique(gwas_index$index_trait))))"
   ]
  },
  {
   "cell_type": "code",
   "execution_count": 6,
   "metadata": {},
   "outputs": [
    {
     "name": "stderr",
     "output_type": "stream",
     "text": [
      "\u001b[1m\u001b[22m`summarise()` has grouped output by 'description'. You can override using the\n",
      "`.groups` argument.\n"
     ]
    },
    {
     "data": {
      "text/html": [
       "<table class=\"dataframe\">\n",
       "<caption>A grouped_df: 15 × 3</caption>\n",
       "<thead>\n",
       "\t<tr><th scope=col>description</th><th scope=col>full_trait_id</th><th scope=col>nloci</th></tr>\n",
       "\t<tr><th scope=col>&lt;chr&gt;</th><th scope=col>&lt;chr&gt;</th><th scope=col>&lt;int&gt;</th></tr>\n",
       "</thead>\n",
       "<tbody>\n",
       "\t<tr><td>Body mass index (BMI)              </td><td>continuous-23104-both_sexes-irnt.meta    </td><td>1519</td></tr>\n",
       "\t<tr><td>HDL cholesterol                    </td><td>biomarkers-30760-both_sexes-irnt.meta    </td><td>1837</td></tr>\n",
       "\t<tr><td>I20 Angina pectoris                </td><td>icd10-I20-both_sexes.meta                </td><td>  34</td></tr>\n",
       "\t<tr><td>I21 Acute myocardial infarction    </td><td>icd10-I21-both_sexes.meta                </td><td>  21</td></tr>\n",
       "\t<tr><td>I25 Chronic ischaemic heart disease</td><td>icd10-I25-both_sexes.meta                </td><td>  81</td></tr>\n",
       "\t<tr><td>I48 Atrial fibrillation and flutter</td><td>icd10-I48-both_sexes.meta                </td><td>  90</td></tr>\n",
       "\t<tr><td>LDL direct                         </td><td>biomarkers-30780-both_sexes-irnt.meta    </td><td> 752</td></tr>\n",
       "\t<tr><td>Multivariate Longevity             </td><td>timmers2020_healthspan_lifespan_longevity</td><td>  35</td></tr>\n",
       "\t<tr><td>Pulse rate                         </td><td>continuous-4194-both_sexes-irnt.meta     </td><td> 133</td></tr>\n",
       "\t<tr><td>QRS duration                       </td><td>continuous-12340-both_sexes-irnt.meta    </td><td>  38</td></tr>\n",
       "\t<tr><td>Ventricular rate                   </td><td>continuous-12336-both_sexes-irnt.meta    </td><td>  11</td></tr>\n",
       "\t<tr><td>birth weight (eur)                 </td><td>BW3_EUR_summary_stats                    </td><td>  65</td></tr>\n",
       "\t<tr><td>childhood obesity (eur)            </td><td>CHILDHOOD_OBESITY.eur                    </td><td>  14</td></tr>\n",
       "\t<tr><td>fasting glucose                    </td><td>MAGIC1000G_FG_EUR                        </td><td> 159</td></tr>\n",
       "\t<tr><td>type 2 diabetes                    </td><td>Mahajan.NatGenet2018b.T2D.European_sorted</td><td> 403</td></tr>\n",
       "</tbody>\n",
       "</table>\n"
      ],
      "text/latex": [
       "A grouped\\_df: 15 × 3\n",
       "\\begin{tabular}{lll}\n",
       " description & full\\_trait\\_id & nloci\\\\\n",
       " <chr> & <chr> & <int>\\\\\n",
       "\\hline\n",
       "\t Body mass index (BMI)               & continuous-23104-both\\_sexes-irnt.meta     & 1519\\\\\n",
       "\t HDL cholesterol                     & biomarkers-30760-both\\_sexes-irnt.meta     & 1837\\\\\n",
       "\t I20 Angina pectoris                 & icd10-I20-both\\_sexes.meta                 &   34\\\\\n",
       "\t I21 Acute myocardial infarction     & icd10-I21-both\\_sexes.meta                 &   21\\\\\n",
       "\t I25 Chronic ischaemic heart disease & icd10-I25-both\\_sexes.meta                 &   81\\\\\n",
       "\t I48 Atrial fibrillation and flutter & icd10-I48-both\\_sexes.meta                 &   90\\\\\n",
       "\t LDL direct                          & biomarkers-30780-both\\_sexes-irnt.meta     &  752\\\\\n",
       "\t Multivariate Longevity              & timmers2020\\_healthspan\\_lifespan\\_longevity &   35\\\\\n",
       "\t Pulse rate                          & continuous-4194-both\\_sexes-irnt.meta      &  133\\\\\n",
       "\t QRS duration                        & continuous-12340-both\\_sexes-irnt.meta     &   38\\\\\n",
       "\t Ventricular rate                    & continuous-12336-both\\_sexes-irnt.meta     &   11\\\\\n",
       "\t birth weight (eur)                  & BW3\\_EUR\\_summary\\_stats                     &   65\\\\\n",
       "\t childhood obesity (eur)             & CHILDHOOD\\_OBESITY.eur                     &   14\\\\\n",
       "\t fasting glucose                     & MAGIC1000G\\_FG\\_EUR                         &  159\\\\\n",
       "\t type 2 diabetes                     & Mahajan.NatGenet2018b.T2D.European\\_sorted &  403\\\\\n",
       "\\end{tabular}\n"
      ],
      "text/markdown": [
       "\n",
       "A grouped_df: 15 × 3\n",
       "\n",
       "| description &lt;chr&gt; | full_trait_id &lt;chr&gt; | nloci &lt;int&gt; |\n",
       "|---|---|---|\n",
       "| Body mass index (BMI)               | continuous-23104-both_sexes-irnt.meta     | 1519 |\n",
       "| HDL cholesterol                     | biomarkers-30760-both_sexes-irnt.meta     | 1837 |\n",
       "| I20 Angina pectoris                 | icd10-I20-both_sexes.meta                 |   34 |\n",
       "| I21 Acute myocardial infarction     | icd10-I21-both_sexes.meta                 |   21 |\n",
       "| I25 Chronic ischaemic heart disease | icd10-I25-both_sexes.meta                 |   81 |\n",
       "| I48 Atrial fibrillation and flutter | icd10-I48-both_sexes.meta                 |   90 |\n",
       "| LDL direct                          | biomarkers-30780-both_sexes-irnt.meta     |  752 |\n",
       "| Multivariate Longevity              | timmers2020_healthspan_lifespan_longevity |   35 |\n",
       "| Pulse rate                          | continuous-4194-both_sexes-irnt.meta      |  133 |\n",
       "| QRS duration                        | continuous-12340-both_sexes-irnt.meta     |   38 |\n",
       "| Ventricular rate                    | continuous-12336-both_sexes-irnt.meta     |   11 |\n",
       "| birth weight (eur)                  | BW3_EUR_summary_stats                     |   65 |\n",
       "| childhood obesity (eur)             | CHILDHOOD_OBESITY.eur                     |   14 |\n",
       "| fasting glucose                     | MAGIC1000G_FG_EUR                         |  159 |\n",
       "| type 2 diabetes                     | Mahajan.NatGenet2018b.T2D.European_sorted |  403 |\n",
       "\n"
      ],
      "text/plain": [
       "   description                        \n",
       "1  Body mass index (BMI)              \n",
       "2  HDL cholesterol                    \n",
       "3  I20 Angina pectoris                \n",
       "4  I21 Acute myocardial infarction    \n",
       "5  I25 Chronic ischaemic heart disease\n",
       "6  I48 Atrial fibrillation and flutter\n",
       "7  LDL direct                         \n",
       "8  Multivariate Longevity             \n",
       "9  Pulse rate                         \n",
       "10 QRS duration                       \n",
       "11 Ventricular rate                   \n",
       "12 birth weight (eur)                 \n",
       "13 childhood obesity (eur)            \n",
       "14 fasting glucose                    \n",
       "15 type 2 diabetes                    \n",
       "   full_trait_id                             nloci\n",
       "1  continuous-23104-both_sexes-irnt.meta     1519 \n",
       "2  biomarkers-30760-both_sexes-irnt.meta     1837 \n",
       "3  icd10-I20-both_sexes.meta                   34 \n",
       "4  icd10-I21-both_sexes.meta                   21 \n",
       "5  icd10-I25-both_sexes.meta                   81 \n",
       "6  icd10-I48-both_sexes.meta                   90 \n",
       "7  biomarkers-30780-both_sexes-irnt.meta      752 \n",
       "8  timmers2020_healthspan_lifespan_longevity   35 \n",
       "9  continuous-4194-both_sexes-irnt.meta       133 \n",
       "10 continuous-12340-both_sexes-irnt.meta       38 \n",
       "11 continuous-12336-both_sexes-irnt.meta       11 \n",
       "12 BW3_EUR_summary_stats                       65 \n",
       "13 CHILDHOOD_OBESITY.eur                       14 \n",
       "14 MAGIC1000G_FG_EUR                          159 \n",
       "15 Mahajan.NatGenet2018b.T2D.European_sorted  403 "
      ]
     },
     "metadata": {},
     "output_type": "display_data"
    }
   ],
   "source": [
    "# number of independent associations per gwas trait\n",
    "gwas_index %>% group_by(description, full_trait_id) %>% dplyr::summarise(nloci = n())"
   ]
  },
  {
   "cell_type": "markdown",
   "metadata": {},
   "source": [
    "### **optional: visually check**"
   ]
  },
  {
   "cell_type": "code",
   "execution_count": 106,
   "metadata": {},
   "outputs": [],
   "source": [
    "data = fread(manifest[manifest$full_trait_id %like% \"Mahajan\",]$filename, data.table = F)"
   ]
  },
  {
   "cell_type": "code",
   "execution_count": 107,
   "metadata": {},
   "outputs": [],
   "source": [
    "chr = 20\n",
    "chrom = paste0(\"chr\", chr)\n",
    "data2 = data[data$chr == chrom,]\n",
    "data2$p = as.double(data2$p)"
   ]
  },
  {
   "cell_type": "code",
   "execution_count": 108,
   "metadata": {},
   "outputs": [
    {
     "name": "stderr",
     "output_type": "stream",
     "text": [
      "# Indep Loci: 10\n",
      "\n"
     ]
    },
    {
     "data": {
      "text/html": [
       "<style>\n",
       ".list-inline {list-style: none; margin:0; padding: 0}\n",
       ".list-inline>li {display: inline-block}\n",
       ".list-inline>li:not(:last-child)::after {content: \"\\00b7\"; padding: 0 .5ex}\n",
       "</style>\n",
       "<ol class=list-inline><li>21479795</li><li>33793531</li><li>33940059</li><li>44357077</li><li>44370990</li><li>44413724</li><li>46953833</li><li>50227811</li><li>52606165</li><li>58812303</li></ol>\n"
      ],
      "text/latex": [
       "\\begin{enumerate*}\n",
       "\\item 21479795\n",
       "\\item 33793531\n",
       "\\item 33940059\n",
       "\\item 44357077\n",
       "\\item 44370990\n",
       "\\item 44413724\n",
       "\\item 46953833\n",
       "\\item 50227811\n",
       "\\item 52606165\n",
       "\\item 58812303\n",
       "\\end{enumerate*}\n"
      ],
      "text/markdown": [
       "1. 21479795\n",
       "2. 33793531\n",
       "3. 33940059\n",
       "4. 44357077\n",
       "5. 44370990\n",
       "6. 44413724\n",
       "7. 46953833\n",
       "8. 50227811\n",
       "9. 52606165\n",
       "10. 58812303\n",
       "\n",
       "\n"
      ],
      "text/plain": [
       " [1] 21479795 33793531 33940059 44357077 44370990 44413724 46953833 50227811\n",
       " [9] 52606165 58812303"
      ]
     },
     "metadata": {},
     "output_type": "display_data"
    }
   ],
   "source": [
    "trait = manifest[manifest$full_trait_id %like% \"Mahajan\",]$full_trait_id\n",
    "i = chr\n",
    "kb = 500\n",
    "type = \"ct\"\n",
    "step = 5\n",
    "r2 = 0.1\n",
    "\n",
    "file = paste(getwd(), \"analyses/jennifer/gwas_independent/indep\", \n",
    "             paste(trait, \"hg38_5e-08\", sep = \".\"), \n",
    "             paste(paste0(\"chr\", i), paste(paste0(kb, type), paste0(step, \"step\"), paste0(\"r\", r2), sep = \"_\"), \"prune.in\", sep = \".\"), sep = \"/\")\n",
    "\n",
    "pruned = readLines(file)\n",
    "pruned = as.numeric(unlist(lapply(pruned, function(x) { unlist(strsplit(x, \"_\"))[2] })))\n",
    "\n",
    "message(paste(\"# Indep Loci:\", length(unique(pruned))))\n",
    "\n",
    "pruned"
   ]
  },
  {
   "cell_type": "code",
   "execution_count": 15,
   "metadata": {},
   "outputs": [
    {
     "data": {
      "image/png": "[encoded data removed]",
      "text/plain": [
       "plot without title"
      ]
     },
     "metadata": {
      "image/png": {
       "height": 360,
       "width": 720
      }
     },
     "output_type": "display_data"
    }
   ],
   "source": [
    "psize(w = 12, h = 6)\n",
    "ggplot(data2 %>% filter(p < 1e-3), aes(x = pos/1e6,  y = -log10(p))) + geom_point() + jn_classic + \n",
    "    geom_point(data = data2 %>% filter(pos %in% pruned), color = \"red\", size = 2) + \n",
    "    geom_hline(yintercept = -log10(5e-08), linetype = \"dashed\") + \n",
    "    xlab(\"Position (Mb)\") + ylab(\"-log10(GWAS p-value)\")"
   ]
  },
  {
   "cell_type": "markdown",
   "metadata": {},
   "source": [
    "# **Which GWAS loci are explained by eQTLs?**"
   ]
  },
  {
   "cell_type": "code",
   "execution_count": null,
   "metadata": {},
   "outputs": [],
   "source": [
    "gwas_coloc = fread(\"~/projects/Resource/Figshare/all.gwas_summary.2024_0925.txt\", data.table = F)  %>%\n",
    "    filter(full_trait_id %in% manifest$full_trait_id) %>% dplyr::relocate(description, .before = full_trait_id) %>%\n",
    "    filter(coloc_gwas == T & Nominated == T) "
   ]
  },
  {
   "cell_type": "code",
   "execution_count": 10,
   "metadata": {},
   "outputs": [
    {
     "data": {
      "text/html": [
       "5554"
      ],
      "text/latex": [
       "5554"
      ],
      "text/markdown": [
       "5554"
      ],
      "text/plain": [
       "[1] 5554"
      ]
     },
     "metadata": {},
     "output_type": "display_data"
    },
    {
     "data": {
      "text/html": [
       "644"
      ],
      "text/latex": [
       "644"
      ],
      "text/markdown": [
       "644"
      ],
      "text/plain": [
       "[1] 644"
      ]
     },
     "metadata": {},
     "output_type": "display_data"
    },
    {
     "data": {
      "text/html": [
       "4977"
      ],
      "text/latex": [
       "4977"
      ],
      "text/markdown": [
       "4977"
      ],
      "text/plain": [
       "[1] 4977"
      ]
     },
     "metadata": {},
     "output_type": "display_data"
    },
    {
     "data": {
      "text/html": [
       "5192"
      ],
      "text/latex": [
       "5192"
      ],
      "text/markdown": [
       "5192"
      ],
      "text/plain": [
       "[1] 5192"
      ]
     },
     "metadata": {},
     "output_type": "display_data"
    }
   ],
   "source": [
    "length(unique(c(gsub(\"VAR_\", \"\", gwas_coloc$topsnp), gwas_index$index)))\n",
    "length(unique(gsub(\"VAR_\", \"\", gwas_coloc$topsnp)))\n",
    "length(unique(gwas_index$index))\n",
    "nrow(gwas_index)"
   ]
  },
  {
   "cell_type": "code",
   "execution_count": 11,
   "metadata": {},
   "outputs": [
    {
     "data": {
      "text/html": [
       "863"
      ],
      "text/latex": [
       "863"
      ],
      "text/markdown": [
       "863"
      ],
      "text/plain": [
       "[1] 863"
      ]
     },
     "metadata": {},
     "output_type": "display_data"
    },
    {
     "data": {
      "text/html": [
       "863"
      ],
      "text/latex": [
       "863"
      ],
      "text/markdown": [
       "863"
      ],
      "text/plain": [
       "[1] 863"
      ]
     },
     "metadata": {},
     "output_type": "display_data"
    }
   ],
   "source": [
    "topsnps = gwas_coloc$topsnp\n",
    "length(topsnps)\n",
    "length(topsnps[ grepl(\"[A-Z]$\",topsnps)])"
   ]
  },
  {
   "cell_type": "code",
   "execution_count": 282,
   "metadata": {},
   "outputs": [],
   "source": [
    "writeLines(sort(unique(c(gsub(\"VAR_\", \"\", gwas_coloc$topsnp), gwas_index$index))),\n",
    "           \"analyses/tim/gwas_coloc2/qtl_tag2/gwas_topsnp2.txt\", sep = \"\\n\")"
   ]
  },
  {
   "cell_type": "markdown",
   "metadata": {},
   "source": [
    "## **run plink tags**"
   ]
  },
  {
   "cell_type": "code",
   "execution_count": 283,
   "metadata": {},
   "outputs": [
    {
     "name": "stderr",
     "output_type": "stream",
     "text": [
      "qsub /projects/CARDIPS/analysis/epigenome_resource/analyses/tim/gwas_coloc2/scripts/02.0.tag_gwas_index_with_topsnp.sh 500 5 0.1 ct 0.7 350\n",
      "\n"
     ]
    }
   ],
   "source": [
    "ct = 500\n",
    "step = 5\n",
    "r2 = 0.1\n",
    "type = \"ct\"\n",
    "r2_tag = 0.7\n",
    "wind = 350\n",
    "\n",
    "pipeline = \"path_to_05.3b.tag_gwas_index_with_topsnp.sh\"\n",
    "cmd = paste(\"qsub\", pipeline, ct, step, r2, type, r2_tag, wind)\n",
    "\n",
    "message(cmd)\n",
    "# system(cmd)"
   ]
  },
  {
   "cell_type": "code",
   "execution_count": null,
   "metadata": {},
   "outputs": [],
   "source": []
  },
  {
   "cell_type": "markdown",
   "metadata": {},
   "source": [
    "## **pair each QTL with GWAS locus**"
   ]
  },
  {
   "cell_type": "code",
   "execution_count": 12,
   "metadata": {},
   "outputs": [],
   "source": [
    "kb = 500\n",
    "wind = 5\n",
    "r2 = 0.1\n",
    "type = \"ct\""
   ]
  },
  {
   "cell_type": "code",
   "execution_count": 36,
   "metadata": {},
   "outputs": [
    {
     "name": "stderr",
     "output_type": "stream",
     "text": [
      "iPSC=========\n"
     ]
    },
    {
     "name": "stdout",
     "output_type": "stream",
     "text": [
      "[1] 295\n"
     ]
    },
    {
     "name": "stderr",
     "output_type": "stream",
     "text": [
      "Multivariate Longevity\n",
      "HDL cholesterol\n",
      "LDL direct\n",
      "birth weight (eur)\n",
      "childhood obesity (eur)\n",
      "Ventricular rate\n",
      "QRS duration\n",
      "Body mass index (BMI)\n",
      "Pulse rate\n",
      "I20 Angina pectoris\n",
      "I21 Acute myocardial infarction\n",
      "I25 Chronic ischaemic heart disease\n",
      "I48 Atrial fibrillation and flutter\n",
      "fasting glucose\n",
      "type 2 diabetes\n",
      "CVPC=========\n"
     ]
    },
    {
     "name": "stdout",
     "output_type": "stream",
     "text": [
      "[1] 344\n"
     ]
    },
    {
     "name": "stderr",
     "output_type": "stream",
     "text": [
      "Multivariate Longevity\n",
      "HDL cholesterol\n",
      "LDL direct\n",
      "birth weight (eur)\n",
      "childhood obesity (eur)\n",
      "Ventricular rate\n",
      "QRS duration\n",
      "Body mass index (BMI)\n",
      "Pulse rate\n",
      "I20 Angina pectoris\n",
      "I21 Acute myocardial infarction\n",
      "I25 Chronic ischaemic heart disease\n",
      "I48 Atrial fibrillation and flutter\n",
      "fasting glucose\n",
      "type 2 diabetes\n",
      "PPC=========\n"
     ]
    },
    {
     "name": "stdout",
     "output_type": "stream",
     "text": [
      "[1] 224\n"
     ]
    },
    {
     "name": "stderr",
     "output_type": "stream",
     "text": [
      "Multivariate Longevity\n",
      "HDL cholesterol\n",
      "LDL direct\n",
      "birth weight (eur)\n",
      "childhood obesity (eur)\n",
      "Ventricular rate\n",
      "QRS duration\n",
      "Body mass index (BMI)\n",
      "Pulse rate\n",
      "I20 Angina pectoris\n",
      "I21 Acute myocardial infarction\n",
      "I25 Chronic ischaemic heart disease\n",
      "I48 Atrial fibrillation and flutter\n",
      "fasting glucose\n",
      "type 2 diabetes\n"
     ]
    }
   ],
   "source": [
    "\n",
    "# link each GWAS index to the QTL-GWAS variant\n",
    "link = as.data.frame(rbindlist(lapply(c(\"iPSC\",\"CVPC\",\"PPC\"), function(tissue)\n",
    "{\n",
    "    message(paste0(tissue, \"=========\"), appendLF = F)\n",
    "\n",
    "    # 1. Get coloc results for relevant traits and tissue\n",
    "    this2 = gwas_coloc %>% \n",
    "            ungroup() %>%\n",
    "            select(-tissue) %>% \n",
    "            filter(Cluster_ID %like% tissue) %>%\n",
    "            mutate(cluster_gwas = paste(Cluster_ID, full_trait_id)) \n",
    "\n",
    "    print(nrow(this2))\n",
    "    \n",
    "    if (nrow(this2) != 0)\n",
    "    {\n",
    "        as.data.frame(rbindlist(lapply(unique(manifest$description), function(trait)\n",
    "        {\n",
    "            message(trait, appendLF = F)\n",
    "            full_trait_id = manifest[manifest$description == trait,]$full_trait_id\n",
    "            \n",
    "            tags = as.data.frame(rbindlist(lapply(c(1:22), function(i)\n",
    "            {\n",
    "                # File for tags\n",
    "                tags_file = paste(getwd(), \"analyses/tim/gwas_coloc2/qtl_tag\", \n",
    "                             paste(full_trait_id, \"hg38_5e-08\", sep = \".\"), \n",
    "                             paste(paste0(\"chr\", i), \n",
    "                                   paste(paste0(kb, type), \n",
    "                                         paste0(wind, \"step\"), \n",
    "                                         paste0(\"r\", r2), sep = \"_\"), \n",
    "                                   \"tags.list\", sep = \".\"), sep = \"/\")\n",
    "\n",
    "                # File for GWAS loci\n",
    "                gwas_loci = paste(getwd(), \"analyses/jennifer/gwas_independent/indep\", \n",
    "                                  paste(full_trait_id, \"hg38_5e-08\", sep = \".\"), \n",
    "                                  paste(paste0(\"chr\", i), \n",
    "                                        paste(paste0(kb, type), \n",
    "                                              paste0(wind, \"step\"), \n",
    "                                              paste0(\"r\", r2), sep = \"_\"), \n",
    "                                        \"prune.in\", sep = \".\"), sep = \"/\")\n",
    "                \n",
    "                \n",
    "                if (file.exists(tags_file) & file.exists(gwas_loci))\n",
    "                {\n",
    "                    # Read\n",
    "                    gwas_loci = readLines(gwas_loci)\n",
    "    \n",
    "                    tags = fread(tags_file, data.table = F) \n",
    "\n",
    "                    if (nrow(tags) != 0)\n",
    "                    {\n",
    "                        # 2. SNP = GWAS Locus, TAGS = QTLs\n",
    "                        tags = tags %>% \n",
    "                            filter(SNP %in% gwas_loci) %>% \n",
    "                            tidyr::separate_rows(TAGS, sep = \"[|]\") \n",
    "\n",
    "                        # 3. If GWAS Locus does not tag a QTL, set tag to itself\n",
    "                        tags$TAGS = ifelse(tags$TAGS == \"NONE\", tags$SNP, tags$TAGS)\n",
    "#                         return(tags)\n",
    "                    }\n",
    "                    return(tags)\n",
    "                    \n",
    "                } \n",
    "# #                 else\n",
    "#                 {\n",
    "#                     message(paste(\"Skipping\", i, tags_file, file.exists(gwas_loci)), appendLF = F)\n",
    "#                 }\n",
    "            })))\n",
    "            \n",
    "            # Have GWAS index tag itself (same as above)\n",
    "            if (nrow(tags) > 0)\n",
    "            {\n",
    "                tags = rbind(tags, tags %>% mutate(TAGS = SNP)) %>% select(SNP, TAGS) %>% distinct()\n",
    "\n",
    "            }\n",
    "\n",
    "            this3 = this2[this2$description == trait,] %>% \n",
    "                select(Cluster_ID, full_trait_id, description, topsnp,qtl_combo) %>% \n",
    "                ## add back \"qtl_combo, n_members\"\n",
    "                distinct() %>% \n",
    "                dplyr::rename(TAGS = topsnp)\n",
    "            \n",
    "            this3$TAGS = gsub(\"VAR_\", \"\", this3$TAGS)\n",
    "\n",
    "            if (nrow(this3) > 0)\n",
    "            {\n",
    "                # Link QTL to GWAS\n",
    "                out = merge(tags, this3 , by = c(\"TAGS\"))\n",
    "\n",
    "                # Some might not be in the 1000 Genomes Reference Panel so not tagged\n",
    "                if (nrow(out) > 0)\n",
    "                {\n",
    "                    out$qtl_pos = as.numeric(unlist(lapply(out$TAGS, function(x) { unlist(strsplit(x, \"_\"))[2] })))\n",
    "                    out$gwas_pos = as.numeric(unlist(lapply(out$SNP, function(x) { unlist(strsplit(x, \"_\"))[2] })))\n",
    "                    out$dist = abs(out$gwas_pos - out$qtl_pos)\n",
    "                    out = out %>% dplyr::group_by(Cluster_ID) %>% dplyr::filter(dist == min(dist))\n",
    "                }\n",
    "\n",
    "                # Add other GWAS loci\n",
    "                out = merge(gwas_index %>% dplyr::rename(gwas_index = index), \n",
    "                            out %>% select(TAGS, SNP, description, full_trait_id, Cluster_ID,qtl_combo) %>% dplyr::rename(qtl_index = TAGS, gwas_index = SNP), \n",
    "                            by = c(\"gwas_index\", \"description\", \"full_trait_id\"), all.x = T)\n",
    "                ### add back  qtl_combo, n_members\n",
    "                return(out)\n",
    "            }\n",
    "        })))\n",
    "    }\n",
    "}))) %>% \n",
    "    mutate(cluster_gwas = paste(Cluster_ID, full_trait_id)) %>% \n",
    "    distinct()  \n",
    "    \n",
    "link$index_trait = paste(link$gwas_index, link$full_trait_id)\n",
    "link$cluster_gwas = ifelse(is.na(link$Cluster_ID), NA, link$cluster_gwas)\n",
    "\n",
    "a = link %>% filter(is.na(Cluster_ID))\n",
    "b = link %>% filter(!is.na(Cluster_ID))\n",
    "\n",
    "dup = intersect(a$index_trait, b$index_trait)\n",
    "\n",
    "a = a %>% filter(!index_trait %in% dup)\n",
    "\n",
    "link = rbind(a, b)\n"
   ]
  },
  {
   "cell_type": "code",
   "execution_count": 37,
   "metadata": {},
   "outputs": [
    {
     "data": {
      "text/plain": [
       "\n",
       "           caQTL       caQTL-eQTL caQTL-eQTL-haQTL      caQTL-haQTL \n",
       "             347               51               17               50 \n",
       "            eQTL       eQTL-haQTL            haQTL \n",
       "             300               13               85 "
      ]
     },
     "metadata": {},
     "output_type": "display_data"
    }
   ],
   "source": [
    "table(gwas_coloc$qtl_combo)"
   ]
  },
  {
   "cell_type": "code",
   "execution_count": 38,
   "metadata": {},
   "outputs": [],
   "source": [
    "# gwas_coloc3 %>% filter(Cluster_ID == \"CVPC_292\")"
   ]
  },
  {
   "cell_type": "code",
   "execution_count": 39,
   "metadata": {},
   "outputs": [
    {
     "data": {
      "text/html": [
       "<table class=\"dataframe\">\n",
       "<caption>A data.frame: 0 × 13</caption>\n",
       "<thead>\n",
       "\t<tr><th scope=col>gwas_index</th><th scope=col>description</th><th scope=col>full_trait_id</th><th scope=col>kb</th><th scope=col>step</th><th scope=col>r2</th><th scope=col>chr</th><th scope=col>var_tested</th><th scope=col>index_trait</th><th scope=col>qtl_index</th><th scope=col>Cluster_ID</th><th scope=col>qtl_combo</th><th scope=col>cluster_gwas</th></tr>\n",
       "\t<tr><th scope=col>&lt;chr&gt;</th><th scope=col>&lt;chr&gt;</th><th scope=col>&lt;chr&gt;</th><th scope=col>&lt;dbl&gt;</th><th scope=col>&lt;dbl&gt;</th><th scope=col>&lt;dbl&gt;</th><th scope=col>&lt;int&gt;</th><th scope=col>&lt;int&gt;</th><th scope=col>&lt;chr&gt;</th><th scope=col>&lt;chr&gt;</th><th scope=col>&lt;chr&gt;</th><th scope=col>&lt;chr&gt;</th><th scope=col>&lt;chr&gt;</th></tr>\n",
       "</thead>\n",
       "<tbody>\n",
       "</tbody>\n",
       "</table>\n"
      ],
      "text/latex": [
       "A data.frame: 0 × 13\n",
       "\\begin{tabular}{lllllllllllll}\n",
       " gwas\\_index & description & full\\_trait\\_id & kb & step & r2 & chr & var\\_tested & index\\_trait & qtl\\_index & Cluster\\_ID & qtl\\_combo & cluster\\_gwas\\\\\n",
       " <chr> & <chr> & <chr> & <dbl> & <dbl> & <dbl> & <int> & <int> & <chr> & <chr> & <chr> & <chr> & <chr>\\\\\n",
       "\\hline\n",
       "\\end{tabular}\n"
      ],
      "text/markdown": [
       "\n",
       "A data.frame: 0 × 13\n",
       "\n",
       "| gwas_index &lt;chr&gt; | description &lt;chr&gt; | full_trait_id &lt;chr&gt; | kb &lt;dbl&gt; | step &lt;dbl&gt; | r2 &lt;dbl&gt; | chr &lt;int&gt; | var_tested &lt;int&gt; | index_trait &lt;chr&gt; | qtl_index &lt;chr&gt; | Cluster_ID &lt;chr&gt; | qtl_combo &lt;chr&gt; | cluster_gwas &lt;chr&gt; |\n",
       "|---|---|---|---|---|---|---|---|---|---|---|---|---|\n",
       "\n"
      ],
      "text/plain": [
       "     gwas_index description full_trait_id kb step r2 chr var_tested index_trait\n",
       "     qtl_index Cluster_ID qtl_combo cluster_gwas"
      ]
     },
     "metadata": {},
     "output_type": "display_data"
    }
   ],
   "source": [
    "# check that each qtl cluster was assigned to only one gwas locus\n",
    "link %>% filter(duplicated(cluster_gwas) == T & !is.na(Cluster_ID))"
   ]
  },
  {
   "cell_type": "markdown",
   "metadata": {},
   "source": [
    "### Check all independent GWAS loci are in the table and not lost"
   ]
  },
  {
   "cell_type": "code",
   "execution_count": 40,
   "metadata": {},
   "outputs": [
    {
     "name": "stderr",
     "output_type": "stream",
     "text": [
      "# total loci: 5192\n",
      "\n"
     ]
    }
   ],
   "source": [
    "a = link %>% select(gwas_index, full_trait_id) %>% distinct() %>% group_by(full_trait_id) %>% dplyr::summarise(total = n())\n",
    "\n",
    "message(paste(\"# total loci:\", sum(a$total)))"
   ]
  },
  {
   "cell_type": "markdown",
   "metadata": {},
   "source": [
    "### Are all clusters assigned to a locus? If not, assign them to the nearest GWAS signal."
   ]
  },
  {
   "cell_type": "markdown",
   "metadata": {},
   "source": [
    "    - This occurs if the lead SNP is not in the 1000 Genomes genotype panel, so can't calculate LD"
   ]
  },
  {
   "cell_type": "code",
   "execution_count": 41,
   "metadata": {},
   "outputs": [
    {
     "data": {
      "text/plain": [
       "\n",
       "FALSE  TRUE \n",
       "  468   395 "
      ]
     },
     "metadata": {},
     "output_type": "display_data"
    }
   ],
   "source": [
    "# how many colocalized clusters have not been assigned?\n",
    "a = gwas_coloc %>% \n",
    "    select(Cluster_ID, description, full_trait_id, topsnp,  topsnp_pp,qtl_combo) %>% distinct() %>% \n",
    "    ## add back qtl_combo, n_members\n",
    "    mutate(cluster_gwas = paste(Cluster_ID, full_trait_id))\n",
    "\n",
    "a$paired_with_gwas = ifelse(a$cluster_gwas %in% link[!is.na(link$Cluster_ID),]$cluster_gwas, T, F)\n",
    "a$chrom = unlist(lapply(a$topsnp, function(x) { as.numeric(unlist(strsplit(x, \"_\"))[2]) }))\n",
    "\n",
    "table(a$paired_with_gwas)\n",
    "\n",
    "# get clusters that wer enot yet asssigned and get their topsnp_pp\n",
    "a = a %>% filter(paired_with_gwas == F) %>% arrange(full_trait_id, chrom) \n",
    "a$pos = unlist(lapply(a$topsnp, function(x) { as.numeric(unlist(strsplit(x, \"_\"))[3]) }))\n",
    "a = a %>% group_by(cluster_gwas) %>% filter(topsnp_pp == max(topsnp_pp)) "
   ]
  },
  {
   "cell_type": "code",
   "execution_count": 42,
   "metadata": {},
   "outputs": [
    {
     "name": "stderr",
     "output_type": "stream",
     "text": [
      "biomarkers-30760-both_sexes-irnt.meta\n",
      "biomarkers-30780-both_sexes-irnt.meta\n",
      "BW3_EUR_summary_stats\n",
      "CHILDHOOD_OBESITY.eur\n",
      "continuous-12336-both_sexes-irnt.meta\n",
      "continuous-12340-both_sexes-irnt.meta\n",
      "continuous-23104-both_sexes-irnt.meta\n",
      "continuous-4194-both_sexes-irnt.meta\n",
      "icd10-I20-both_sexes.meta\n",
      "icd10-I21-both_sexes.meta\n",
      "icd10-I25-both_sexes.meta\n",
      "icd10-I48-both_sexes.meta\n",
      "MAGIC1000G_FG_EUR\n",
      "Mahajan.NatGenet2018b.T2D.European_sorted\n",
      "timmers2020_healthspan_lifespan_longevity\n"
     ]
    },
    {
     "data": {
      "text/html": [
       "468"
      ],
      "text/latex": [
       "468"
      ],
      "text/markdown": [
       "468"
      ],
      "text/plain": [
       "[1] 468"
      ]
     },
     "metadata": {},
     "output_type": "display_data"
    },
    {
     "data": {
      "text/html": [
       "<table class=\"dataframe\">\n",
       "<caption>A data.frame: 6 × 9</caption>\n",
       "<thead>\n",
       "\t<tr><th></th><th scope=col>gwas_index</th><th scope=col>description</th><th scope=col>full_trait_id</th><th scope=col>chr</th><th scope=col>qtl_index</th><th scope=col>Cluster_ID</th><th scope=col>qtl_combo</th><th scope=col>cluster_gwas</th><th scope=col>index_trait</th></tr>\n",
       "\t<tr><th></th><th scope=col>&lt;chr&gt;</th><th scope=col>&lt;chr&gt;</th><th scope=col>&lt;chr&gt;</th><th scope=col>&lt;int&gt;</th><th scope=col>&lt;chr&gt;</th><th scope=col>&lt;chr&gt;</th><th scope=col>&lt;chr&gt;</th><th scope=col>&lt;chr&gt;</th><th scope=col>&lt;chr&gt;</th></tr>\n",
       "</thead>\n",
       "<tbody>\n",
       "\t<tr><th scope=row>1</th><td>1_93444330_C_A </td><td>HDL cholesterol</td><td>biomarkers-30760-both_sexes-irnt.meta</td><td>1</td><td>1_93392735 </td><td>CVPC_7182 </td><td>caQTL</td><td>CVPC_7182 biomarkers-30760-both_sexes-irnt.meta </td><td>1_93444330_C_A biomarkers-30760-both_sexes-irnt.meta </td></tr>\n",
       "\t<tr><th scope=row>2</th><td>1_205770138_C_T</td><td>HDL cholesterol</td><td>biomarkers-30760-both_sexes-irnt.meta</td><td>1</td><td>1_205766484</td><td>CVPC_10342</td><td>caQTL</td><td>CVPC_10342 biomarkers-30760-both_sexes-irnt.meta</td><td>1_205770138_C_T biomarkers-30760-both_sexes-irnt.meta</td></tr>\n",
       "\t<tr><th scope=row>3</th><td>1_62498080_A_AT</td><td>HDL cholesterol</td><td>biomarkers-30760-both_sexes-irnt.meta</td><td>1</td><td>1_62553181 </td><td>CVPC_14537</td><td>caQTL</td><td>CVPC_14537 biomarkers-30760-both_sexes-irnt.meta</td><td>1_62498080_A_AT biomarkers-30760-both_sexes-irnt.meta</td></tr>\n",
       "\t<tr><th scope=row>4</th><td>1_62806467_G_A </td><td>HDL cholesterol</td><td>biomarkers-30760-both_sexes-irnt.meta</td><td>1</td><td>1_62694611 </td><td>CVPC_16038</td><td>haQTL</td><td>CVPC_16038 biomarkers-30760-both_sexes-irnt.meta</td><td>1_62806467_G_A biomarkers-30760-both_sexes-irnt.meta </td></tr>\n",
       "\t<tr><th scope=row>5</th><td>1_205770138_C_T</td><td>HDL cholesterol</td><td>biomarkers-30760-both_sexes-irnt.meta</td><td>1</td><td>1_205766484</td><td>CVPC_3814 </td><td>eQTL </td><td>CVPC_3814 biomarkers-30760-both_sexes-irnt.meta </td><td>1_205770138_C_T biomarkers-30760-both_sexes-irnt.meta</td></tr>\n",
       "\t<tr><th scope=row>6</th><td>1_26573196_C_A </td><td>HDL cholesterol</td><td>biomarkers-30760-both_sexes-irnt.meta</td><td>1</td><td>1_26693642 </td><td>iPSC_1858 </td><td>eQTL </td><td>iPSC_1858 biomarkers-30760-both_sexes-irnt.meta </td><td>1_26573196_C_A biomarkers-30760-both_sexes-irnt.meta </td></tr>\n",
       "</tbody>\n",
       "</table>\n"
      ],
      "text/latex": [
       "A data.frame: 6 × 9\n",
       "\\begin{tabular}{r|lllllllll}\n",
       "  & gwas\\_index & description & full\\_trait\\_id & chr & qtl\\_index & Cluster\\_ID & qtl\\_combo & cluster\\_gwas & index\\_trait\\\\\n",
       "  & <chr> & <chr> & <chr> & <int> & <chr> & <chr> & <chr> & <chr> & <chr>\\\\\n",
       "\\hline\n",
       "\t1 & 1\\_93444330\\_C\\_A  & HDL cholesterol & biomarkers-30760-both\\_sexes-irnt.meta & 1 & 1\\_93392735  & CVPC\\_7182  & caQTL & CVPC\\_7182 biomarkers-30760-both\\_sexes-irnt.meta  & 1\\_93444330\\_C\\_A biomarkers-30760-both\\_sexes-irnt.meta \\\\\n",
       "\t2 & 1\\_205770138\\_C\\_T & HDL cholesterol & biomarkers-30760-both\\_sexes-irnt.meta & 1 & 1\\_205766484 & CVPC\\_10342 & caQTL & CVPC\\_10342 biomarkers-30760-both\\_sexes-irnt.meta & 1\\_205770138\\_C\\_T biomarkers-30760-both\\_sexes-irnt.meta\\\\\n",
       "\t3 & 1\\_62498080\\_A\\_AT & HDL cholesterol & biomarkers-30760-both\\_sexes-irnt.meta & 1 & 1\\_62553181  & CVPC\\_14537 & caQTL & CVPC\\_14537 biomarkers-30760-both\\_sexes-irnt.meta & 1\\_62498080\\_A\\_AT biomarkers-30760-both\\_sexes-irnt.meta\\\\\n",
       "\t4 & 1\\_62806467\\_G\\_A  & HDL cholesterol & biomarkers-30760-both\\_sexes-irnt.meta & 1 & 1\\_62694611  & CVPC\\_16038 & haQTL & CVPC\\_16038 biomarkers-30760-both\\_sexes-irnt.meta & 1\\_62806467\\_G\\_A biomarkers-30760-both\\_sexes-irnt.meta \\\\\n",
       "\t5 & 1\\_205770138\\_C\\_T & HDL cholesterol & biomarkers-30760-both\\_sexes-irnt.meta & 1 & 1\\_205766484 & CVPC\\_3814  & eQTL  & CVPC\\_3814 biomarkers-30760-both\\_sexes-irnt.meta  & 1\\_205770138\\_C\\_T biomarkers-30760-both\\_sexes-irnt.meta\\\\\n",
       "\t6 & 1\\_26573196\\_C\\_A  & HDL cholesterol & biomarkers-30760-both\\_sexes-irnt.meta & 1 & 1\\_26693642  & iPSC\\_1858  & eQTL  & iPSC\\_1858 biomarkers-30760-both\\_sexes-irnt.meta  & 1\\_26573196\\_C\\_A biomarkers-30760-both\\_sexes-irnt.meta \\\\\n",
       "\\end{tabular}\n"
      ],
      "text/markdown": [
       "\n",
       "A data.frame: 6 × 9\n",
       "\n",
       "| <!--/--> | gwas_index &lt;chr&gt; | description &lt;chr&gt; | full_trait_id &lt;chr&gt; | chr &lt;int&gt; | qtl_index &lt;chr&gt; | Cluster_ID &lt;chr&gt; | qtl_combo &lt;chr&gt; | cluster_gwas &lt;chr&gt; | index_trait &lt;chr&gt; |\n",
       "|---|---|---|---|---|---|---|---|---|---|\n",
       "| 1 | 1_93444330_C_A  | HDL cholesterol | biomarkers-30760-both_sexes-irnt.meta | 1 | 1_93392735  | CVPC_7182  | caQTL | CVPC_7182 biomarkers-30760-both_sexes-irnt.meta  | 1_93444330_C_A biomarkers-30760-both_sexes-irnt.meta  |\n",
       "| 2 | 1_205770138_C_T | HDL cholesterol | biomarkers-30760-both_sexes-irnt.meta | 1 | 1_205766484 | CVPC_10342 | caQTL | CVPC_10342 biomarkers-30760-both_sexes-irnt.meta | 1_205770138_C_T biomarkers-30760-both_sexes-irnt.meta |\n",
       "| 3 | 1_62498080_A_AT | HDL cholesterol | biomarkers-30760-both_sexes-irnt.meta | 1 | 1_62553181  | CVPC_14537 | caQTL | CVPC_14537 biomarkers-30760-both_sexes-irnt.meta | 1_62498080_A_AT biomarkers-30760-both_sexes-irnt.meta |\n",
       "| 4 | 1_62806467_G_A  | HDL cholesterol | biomarkers-30760-both_sexes-irnt.meta | 1 | 1_62694611  | CVPC_16038 | haQTL | CVPC_16038 biomarkers-30760-both_sexes-irnt.meta | 1_62806467_G_A biomarkers-30760-both_sexes-irnt.meta  |\n",
       "| 5 | 1_205770138_C_T | HDL cholesterol | biomarkers-30760-both_sexes-irnt.meta | 1 | 1_205766484 | CVPC_3814  | eQTL  | CVPC_3814 biomarkers-30760-both_sexes-irnt.meta  | 1_205770138_C_T biomarkers-30760-both_sexes-irnt.meta |\n",
       "| 6 | 1_26573196_C_A  | HDL cholesterol | biomarkers-30760-both_sexes-irnt.meta | 1 | 1_26693642  | iPSC_1858  | eQTL  | iPSC_1858 biomarkers-30760-both_sexes-irnt.meta  | 1_26573196_C_A biomarkers-30760-both_sexes-irnt.meta  |\n",
       "\n"
      ],
      "text/plain": [
       "  gwas_index      description     full_trait_id                         chr\n",
       "1 1_93444330_C_A  HDL cholesterol biomarkers-30760-both_sexes-irnt.meta 1  \n",
       "2 1_205770138_C_T HDL cholesterol biomarkers-30760-both_sexes-irnt.meta 1  \n",
       "3 1_62498080_A_AT HDL cholesterol biomarkers-30760-both_sexes-irnt.meta 1  \n",
       "4 1_62806467_G_A  HDL cholesterol biomarkers-30760-both_sexes-irnt.meta 1  \n",
       "5 1_205770138_C_T HDL cholesterol biomarkers-30760-both_sexes-irnt.meta 1  \n",
       "6 1_26573196_C_A  HDL cholesterol biomarkers-30760-both_sexes-irnt.meta 1  \n",
       "  qtl_index   Cluster_ID qtl_combo\n",
       "1 1_93392735  CVPC_7182  caQTL    \n",
       "2 1_205766484 CVPC_10342 caQTL    \n",
       "3 1_62553181  CVPC_14537 caQTL    \n",
       "4 1_62694611  CVPC_16038 haQTL    \n",
       "5 1_205766484 CVPC_3814  eQTL     \n",
       "6 1_26693642  iPSC_1858  eQTL     \n",
       "  cluster_gwas                                    \n",
       "1 CVPC_7182 biomarkers-30760-both_sexes-irnt.meta \n",
       "2 CVPC_10342 biomarkers-30760-both_sexes-irnt.meta\n",
       "3 CVPC_14537 biomarkers-30760-both_sexes-irnt.meta\n",
       "4 CVPC_16038 biomarkers-30760-both_sexes-irnt.meta\n",
       "5 CVPC_3814 biomarkers-30760-both_sexes-irnt.meta \n",
       "6 iPSC_1858 biomarkers-30760-both_sexes-irnt.meta \n",
       "  index_trait                                          \n",
       "1 1_93444330_C_A biomarkers-30760-both_sexes-irnt.meta \n",
       "2 1_205770138_C_T biomarkers-30760-both_sexes-irnt.meta\n",
       "3 1_62498080_A_AT biomarkers-30760-both_sexes-irnt.meta\n",
       "4 1_62806467_G_A biomarkers-30760-both_sexes-irnt.meta \n",
       "5 1_205770138_C_T biomarkers-30760-both_sexes-irnt.meta\n",
       "6 1_26573196_C_A biomarkers-30760-both_sexes-irnt.meta "
      ]
     },
     "metadata": {},
     "output_type": "display_data"
    }
   ],
   "source": [
    "a2 = as.data.frame(rbindlist(lapply(unique(a$full_trait_id), function(x)\n",
    "{\n",
    "    message(x, appendLF = F)\n",
    "    \n",
    "    # get index snp for each association locus\n",
    "    this = link %>% filter(full_trait_id == x)\n",
    "    this$gwas_pos = as.numeric(unlist(lapply(this$gwas_index, function(x) { unlist(strsplit(x, \"_\"))[2] })))\n",
    "    this$gwas_chr = as.numeric(unlist(lapply(this$gwas_index, function(x) { unlist(strsplit(x, \"_\"))[1] })))\n",
    "#     return(this)\n",
    "    # get the missing QTL clusters that colocalized with the trait\n",
    "    this_a = a %>% filter(full_trait_id == x)\n",
    "#     return(this_a)\n",
    "    \n",
    "    # iterate through each QTL cluster\n",
    "    as.data.frame(rbindlist(lapply(c(1:nrow(this_a)), function(row)\n",
    "    {\n",
    "        # calculate their distance to each GWAS locus\n",
    "        this2 = this %>% filter(gwas_chr == this_a[row,]$chrom) %>% select(gwas_index, description, full_trait_id, gwas_chr, gwas_pos, chr) %>% distinct()\n",
    "\n",
    "        this2$dist = abs(this2$gwas_pos - this_a[row,]$pos)\n",
    "        \n",
    "        # get the closest GWAS locus\n",
    "        this2 = this2 %>% filter(dist == min(dist)) %>% distinct() \n",
    "        \n",
    "        if (nrow(this2) > 1)\n",
    "        {\n",
    "            message(paste(this_a[row,]$Custer_ID, \"is close to multiple GWAS loci of same distance. Selecting one..\"))\n",
    "            print(this2)\n",
    "        }\n",
    "\n",
    "        out = this2 %>% filter(duplicated(gwas_index) == F)\n",
    "        out$qtl_index = unlist(lapply(this_a[row,]$topsnp, function(x) { paste(unlist(strsplit(x, \"_\"))[2:3], collapse = \"_\") }))\n",
    "        out$Cluster_ID = this_a[row,]$Cluster_ID\n",
    "        out$qtl_combo = this_a[row,]$qtl_combo\n",
    "#         out$n_members = this_a[row,]$n_members\n",
    "        out$cluster_gwas = paste(out$Cluster_ID, out$full_trait_id)\n",
    "        out$index_trait = paste(out$gwas_index, out$full_trait_id)\n",
    "        out[,c(\"dist\", \"gwas_pos\", \"gwas_chr\")] = NULL\n",
    "        return(out)\n",
    "    })))\n",
    "})))\n",
    "nrow(a2)\n",
    "head(a2)"
   ]
  },
  {
   "cell_type": "code",
   "execution_count": 43,
   "metadata": {},
   "outputs": [
    {
     "data": {
      "text/html": [
       "<table class=\"dataframe\">\n",
       "<caption>A data.frame: 0 × 9</caption>\n",
       "<thead>\n",
       "\t<tr><th scope=col>gwas_index</th><th scope=col>description</th><th scope=col>full_trait_id</th><th scope=col>chr</th><th scope=col>qtl_index</th><th scope=col>Cluster_ID</th><th scope=col>qtl_combo</th><th scope=col>cluster_gwas</th><th scope=col>index_trait</th></tr>\n",
       "\t<tr><th scope=col>&lt;chr&gt;</th><th scope=col>&lt;chr&gt;</th><th scope=col>&lt;chr&gt;</th><th scope=col>&lt;int&gt;</th><th scope=col>&lt;chr&gt;</th><th scope=col>&lt;chr&gt;</th><th scope=col>&lt;chr&gt;</th><th scope=col>&lt;chr&gt;</th><th scope=col>&lt;chr&gt;</th></tr>\n",
       "</thead>\n",
       "<tbody>\n",
       "</tbody>\n",
       "</table>\n"
      ],
      "text/latex": [
       "A data.frame: 0 × 9\n",
       "\\begin{tabular}{lllllllll}\n",
       " gwas\\_index & description & full\\_trait\\_id & chr & qtl\\_index & Cluster\\_ID & qtl\\_combo & cluster\\_gwas & index\\_trait\\\\\n",
       " <chr> & <chr> & <chr> & <int> & <chr> & <chr> & <chr> & <chr> & <chr>\\\\\n",
       "\\hline\n",
       "\\end{tabular}\n"
      ],
      "text/markdown": [
       "\n",
       "A data.frame: 0 × 9\n",
       "\n",
       "| gwas_index &lt;chr&gt; | description &lt;chr&gt; | full_trait_id &lt;chr&gt; | chr &lt;int&gt; | qtl_index &lt;chr&gt; | Cluster_ID &lt;chr&gt; | qtl_combo &lt;chr&gt; | cluster_gwas &lt;chr&gt; | index_trait &lt;chr&gt; |\n",
       "|---|---|---|---|---|---|---|---|---|\n",
       "\n"
      ],
      "text/plain": [
       "     gwas_index description full_trait_id chr qtl_index Cluster_ID qtl_combo\n",
       "     cluster_gwas index_trait"
      ]
     },
     "metadata": {},
     "output_type": "display_data"
    }
   ],
   "source": [
    "# make sure that there are no dup entries for each QTL cluster-gwas\n",
    "a2 %>% filter(duplicated(cluster_gwas) == T)"
   ]
  },
  {
   "cell_type": "code",
   "execution_count": 44,
   "metadata": {},
   "outputs": [
    {
     "data": {
      "text/html": [
       "<style>\n",
       ".list-inline {list-style: none; margin:0; padding: 0}\n",
       ".list-inline>li {display: inline-block}\n",
       ".list-inline>li:not(:last-child)::after {content: \"\\00b7\"; padding: 0 .5ex}\n",
       "</style>\n",
       "<ol class=list-inline><li>'gwas_index'</li><li>'description'</li><li>'full_trait_id'</li><li>'chr'</li><li>'qtl_index'</li><li>'Cluster_ID'</li><li>'qtl_combo'</li><li>'cluster_gwas'</li><li>'index_trait'</li></ol>\n"
      ],
      "text/latex": [
       "\\begin{enumerate*}\n",
       "\\item 'gwas\\_index'\n",
       "\\item 'description'\n",
       "\\item 'full\\_trait\\_id'\n",
       "\\item 'chr'\n",
       "\\item 'qtl\\_index'\n",
       "\\item 'Cluster\\_ID'\n",
       "\\item 'qtl\\_combo'\n",
       "\\item 'cluster\\_gwas'\n",
       "\\item 'index\\_trait'\n",
       "\\end{enumerate*}\n"
      ],
      "text/markdown": [
       "1. 'gwas_index'\n",
       "2. 'description'\n",
       "3. 'full_trait_id'\n",
       "4. 'chr'\n",
       "5. 'qtl_index'\n",
       "6. 'Cluster_ID'\n",
       "7. 'qtl_combo'\n",
       "8. 'cluster_gwas'\n",
       "9. 'index_trait'\n",
       "\n",
       "\n"
      ],
      "text/plain": [
       "[1] \"gwas_index\"    \"description\"   \"full_trait_id\" \"chr\"          \n",
       "[5] \"qtl_index\"     \"Cluster_ID\"    \"qtl_combo\"     \"cluster_gwas\" \n",
       "[9] \"index_trait\"  "
      ]
     },
     "metadata": {},
     "output_type": "display_data"
    },
    {
     "data": {
      "text/html": [
       "468"
      ],
      "text/latex": [
       "468"
      ],
      "text/markdown": [
       "468"
      ],
      "text/plain": [
       "[1] 468"
      ]
     },
     "metadata": {},
     "output_type": "display_data"
    },
    {
     "data": {
      "text/html": [
       "<style>\n",
       ".list-inline {list-style: none; margin:0; padding: 0}\n",
       ".list-inline>li {display: inline-block}\n",
       ".list-inline>li:not(:last-child)::after {content: \"\\00b7\"; padding: 0 .5ex}\n",
       "</style>\n",
       "<ol class=list-inline><li>'gwas_index'</li><li>'description'</li><li>'full_trait_id'</li><li>'kb'</li><li>'step'</li><li>'r2'</li><li>'chr'</li><li>'var_tested'</li><li>'index_trait'</li><li>'qtl_index'</li><li>'Cluster_ID'</li><li>'qtl_combo'</li><li>'cluster_gwas'</li></ol>\n"
      ],
      "text/latex": [
       "\\begin{enumerate*}\n",
       "\\item 'gwas\\_index'\n",
       "\\item 'description'\n",
       "\\item 'full\\_trait\\_id'\n",
       "\\item 'kb'\n",
       "\\item 'step'\n",
       "\\item 'r2'\n",
       "\\item 'chr'\n",
       "\\item 'var\\_tested'\n",
       "\\item 'index\\_trait'\n",
       "\\item 'qtl\\_index'\n",
       "\\item 'Cluster\\_ID'\n",
       "\\item 'qtl\\_combo'\n",
       "\\item 'cluster\\_gwas'\n",
       "\\end{enumerate*}\n"
      ],
      "text/markdown": [
       "1. 'gwas_index'\n",
       "2. 'description'\n",
       "3. 'full_trait_id'\n",
       "4. 'kb'\n",
       "5. 'step'\n",
       "6. 'r2'\n",
       "7. 'chr'\n",
       "8. 'var_tested'\n",
       "9. 'index_trait'\n",
       "10. 'qtl_index'\n",
       "11. 'Cluster_ID'\n",
       "12. 'qtl_combo'\n",
       "13. 'cluster_gwas'\n",
       "\n",
       "\n"
      ],
      "text/plain": [
       " [1] \"gwas_index\"    \"description\"   \"full_trait_id\" \"kb\"           \n",
       " [5] \"step\"          \"r2\"            \"chr\"           \"var_tested\"   \n",
       " [9] \"index_trait\"   \"qtl_index\"     \"Cluster_ID\"    \"qtl_combo\"    \n",
       "[13] \"cluster_gwas\" "
      ]
     },
     "metadata": {},
     "output_type": "display_data"
    },
    {
     "data": {
      "text/html": [
       "<style>\n",
       ".list-inline {list-style: none; margin:0; padding: 0}\n",
       ".list-inline>li {display: inline-block}\n",
       ".list-inline>li:not(:last-child)::after {content: \"\\00b7\"; padding: 0 .5ex}\n",
       "</style>\n",
       "<ol class=list-inline><li>'gwas_index'</li><li>'description'</li><li>'full_trait_id'</li><li>'kb'</li><li>'step'</li><li>'r2'</li><li>'chr'</li><li>'var_tested'</li><li>'index_trait'</li><li>'qtl_index'</li><li>'Cluster_ID'</li><li>'qtl_combo'</li><li>'cluster_gwas'</li></ol>\n"
      ],
      "text/latex": [
       "\\begin{enumerate*}\n",
       "\\item 'gwas\\_index'\n",
       "\\item 'description'\n",
       "\\item 'full\\_trait\\_id'\n",
       "\\item 'kb'\n",
       "\\item 'step'\n",
       "\\item 'r2'\n",
       "\\item 'chr'\n",
       "\\item 'var\\_tested'\n",
       "\\item 'index\\_trait'\n",
       "\\item 'qtl\\_index'\n",
       "\\item 'Cluster\\_ID'\n",
       "\\item 'qtl\\_combo'\n",
       "\\item 'cluster\\_gwas'\n",
       "\\end{enumerate*}\n"
      ],
      "text/markdown": [
       "1. 'gwas_index'\n",
       "2. 'description'\n",
       "3. 'full_trait_id'\n",
       "4. 'kb'\n",
       "5. 'step'\n",
       "6. 'r2'\n",
       "7. 'chr'\n",
       "8. 'var_tested'\n",
       "9. 'index_trait'\n",
       "10. 'qtl_index'\n",
       "11. 'Cluster_ID'\n",
       "12. 'qtl_combo'\n",
       "13. 'cluster_gwas'\n",
       "\n",
       "\n"
      ],
      "text/plain": [
       " [1] \"gwas_index\"    \"description\"   \"full_trait_id\" \"kb\"           \n",
       " [5] \"step\"          \"r2\"            \"chr\"           \"var_tested\"   \n",
       " [9] \"index_trait\"   \"qtl_index\"     \"Cluster_ID\"    \"qtl_combo\"    \n",
       "[13] \"cluster_gwas\" "
      ]
     },
     "metadata": {},
     "output_type": "display_data"
    },
    {
     "data": {
      "text/html": [
       "<table class=\"dataframe\">\n",
       "<caption>A data.frame: 0 × 9</caption>\n",
       "<thead>\n",
       "\t<tr><th scope=col>gwas_index</th><th scope=col>description</th><th scope=col>full_trait_id</th><th scope=col>chr</th><th scope=col>qtl_index</th><th scope=col>Cluster_ID</th><th scope=col>qtl_combo</th><th scope=col>cluster_gwas</th><th scope=col>index_trait</th></tr>\n",
       "\t<tr><th scope=col>&lt;chr&gt;</th><th scope=col>&lt;chr&gt;</th><th scope=col>&lt;chr&gt;</th><th scope=col>&lt;int&gt;</th><th scope=col>&lt;chr&gt;</th><th scope=col>&lt;chr&gt;</th><th scope=col>&lt;chr&gt;</th><th scope=col>&lt;chr&gt;</th><th scope=col>&lt;chr&gt;</th></tr>\n",
       "</thead>\n",
       "<tbody>\n",
       "</tbody>\n",
       "</table>\n"
      ],
      "text/latex": [
       "A data.frame: 0 × 9\n",
       "\\begin{tabular}{lllllllll}\n",
       " gwas\\_index & description & full\\_trait\\_id & chr & qtl\\_index & Cluster\\_ID & qtl\\_combo & cluster\\_gwas & index\\_trait\\\\\n",
       " <chr> & <chr> & <chr> & <int> & <chr> & <chr> & <chr> & <chr> & <chr>\\\\\n",
       "\\hline\n",
       "\\end{tabular}\n"
      ],
      "text/markdown": [
       "\n",
       "A data.frame: 0 × 9\n",
       "\n",
       "| gwas_index &lt;chr&gt; | description &lt;chr&gt; | full_trait_id &lt;chr&gt; | chr &lt;int&gt; | qtl_index &lt;chr&gt; | Cluster_ID &lt;chr&gt; | qtl_combo &lt;chr&gt; | cluster_gwas &lt;chr&gt; | index_trait &lt;chr&gt; |\n",
       "|---|---|---|---|---|---|---|---|---|\n",
       "\n"
      ],
      "text/plain": [
       "     gwas_index description full_trait_id chr qtl_index Cluster_ID qtl_combo\n",
       "     cluster_gwas index_trait"
      ]
     },
     "metadata": {},
     "output_type": "display_data"
    }
   ],
   "source": [
    "# Keep signals that were empty but now paired with a QTL\n",
    "tmp1 = a2\n",
    "colnames(tmp1)\n",
    "nrow(tmp1)\n",
    "# Keep signals that already have cluster id\n",
    "tmp2 = link %>% filter(!is.na(Cluster_ID))\n",
    "colnames(tmp2)\n",
    "\n",
    "# keep signals that did not colocalize\n",
    "tmp3 = link %>% filter(!index_trait %in% c(tmp1$index_trait, tmp2$index_trait))\n",
    "colnames(tmp3)\n",
    "\n",
    "link2 = Reduce(rbind, list(tmp1, tmp2 %>% select(-kb, -step, -r2, -var_tested), tmp3  %>% select(-kb, -step, -r2, -var_tested)))\n",
    "\n",
    "link2 %>% filter(!is.na(Cluster_ID)) %>% filter(duplicated(cluster_gwas))"
   ]
  },
  {
   "cell_type": "markdown",
   "metadata": {},
   "source": [
    "### Check that all GWAS signals are there again"
   ]
  },
  {
   "cell_type": "code",
   "execution_count": 45,
   "metadata": {},
   "outputs": [
    {
     "name": "stderr",
     "output_type": "stream",
     "text": [
      "\u001b[1m\u001b[22m`summarise()` has grouped output by 'description'. You can override using the\n",
      "`.groups` argument.\n",
      "# total loci: 5192\n",
      "\n"
     ]
    }
   ],
   "source": [
    "tmp = link2 %>% select(gwas_index, description, full_trait_id) %>% distinct()\n",
    "tmp = tmp %>% group_by(description, full_trait_id) %>% dplyr::summarise(total = n())\n",
    "\n",
    "message(paste(\"# total loci:\", sum(tmp$total)))"
   ]
  },
  {
   "cell_type": "markdown",
   "metadata": {},
   "source": [
    "### Check that no QTLs clusters are missing from the table"
   ]
  },
  {
   "cell_type": "code",
   "execution_count": 46,
   "metadata": {},
   "outputs": [
    {
     "data": {
      "text/plain": [
       "\n",
       "TRUE \n",
       " 863 "
      ]
     },
     "metadata": {},
     "output_type": "display_data"
    },
    {
     "data": {
      "text/html": [
       "<table class=\"dataframe\">\n",
       "<caption>A data.frame: 0 × 7</caption>\n",
       "<thead>\n",
       "\t<tr><th scope=col>Cluster_ID</th><th scope=col>description</th><th scope=col>full_trait_id</th><th scope=col>topsnp</th><th scope=col>topsnp_pp</th><th scope=col>cluster_gwas</th><th scope=col>paired_with_gwas</th></tr>\n",
       "\t<tr><th scope=col>&lt;chr&gt;</th><th scope=col>&lt;chr&gt;</th><th scope=col>&lt;chr&gt;</th><th scope=col>&lt;chr&gt;</th><th scope=col>&lt;dbl&gt;</th><th scope=col>&lt;chr&gt;</th><th scope=col>&lt;lgl&gt;</th></tr>\n",
       "</thead>\n",
       "<tbody>\n",
       "</tbody>\n",
       "</table>\n"
      ],
      "text/latex": [
       "A data.frame: 0 × 7\n",
       "\\begin{tabular}{lllllll}\n",
       " Cluster\\_ID & description & full\\_trait\\_id & topsnp & topsnp\\_pp & cluster\\_gwas & paired\\_with\\_gwas\\\\\n",
       " <chr> & <chr> & <chr> & <chr> & <dbl> & <chr> & <lgl>\\\\\n",
       "\\hline\n",
       "\\end{tabular}\n"
      ],
      "text/markdown": [
       "\n",
       "A data.frame: 0 × 7\n",
       "\n",
       "| Cluster_ID &lt;chr&gt; | description &lt;chr&gt; | full_trait_id &lt;chr&gt; | topsnp &lt;chr&gt; | topsnp_pp &lt;dbl&gt; | cluster_gwas &lt;chr&gt; | paired_with_gwas &lt;lgl&gt; |\n",
       "|---|---|---|---|---|---|---|\n",
       "\n"
      ],
      "text/plain": [
       "     Cluster_ID description full_trait_id topsnp topsnp_pp cluster_gwas\n",
       "     paired_with_gwas"
      ]
     },
     "metadata": {},
     "output_type": "display_data"
    }
   ],
   "source": [
    "a = gwas_coloc %>% \n",
    "    select(Cluster_ID, description, full_trait_id, topsnp,  topsnp_pp) %>% distinct() %>% \n",
    "    mutate(cluster_gwas = paste(Cluster_ID, full_trait_id))\n",
    "\n",
    "a$paired_with_gwas = ifelse(a$cluster_gwas %in% link2[!is.na(link2$Cluster_ID),]$cluster_gwas, T, F)\n",
    "table(a$paired_with_gwas)\n",
    "\n",
    "a %>% filter(paired_with_gwas == F)"
   ]
  },
  {
   "cell_type": "markdown",
   "metadata": {},
   "source": [
    "### Check if each QTL cluster is assigned to one GWAS locus per trait"
   ]
  },
  {
   "cell_type": "code",
   "execution_count": 47,
   "metadata": {},
   "outputs": [
    {
     "data": {
      "text/html": [
       "<table class=\"dataframe\">\n",
       "<caption>A data.frame: 0 × 4</caption>\n",
       "<thead>\n",
       "\t<tr><th scope=col>gwas_index</th><th scope=col>description</th><th scope=col>Cluster_ID</th><th scope=col>cluster_gwas</th></tr>\n",
       "\t<tr><th scope=col>&lt;chr&gt;</th><th scope=col>&lt;chr&gt;</th><th scope=col>&lt;chr&gt;</th><th scope=col>&lt;chr&gt;</th></tr>\n",
       "</thead>\n",
       "<tbody>\n",
       "</tbody>\n",
       "</table>\n"
      ],
      "text/latex": [
       "A data.frame: 0 × 4\n",
       "\\begin{tabular}{llll}\n",
       " gwas\\_index & description & Cluster\\_ID & cluster\\_gwas\\\\\n",
       " <chr> & <chr> & <chr> & <chr>\\\\\n",
       "\\hline\n",
       "\\end{tabular}\n"
      ],
      "text/markdown": [
       "\n",
       "A data.frame: 0 × 4\n",
       "\n",
       "| gwas_index &lt;chr&gt; | description &lt;chr&gt; | Cluster_ID &lt;chr&gt; | cluster_gwas &lt;chr&gt; |\n",
       "|---|---|---|---|\n",
       "\n"
      ],
      "text/plain": [
       "     gwas_index description Cluster_ID cluster_gwas"
      ]
     },
     "metadata": {},
     "output_type": "display_data"
    }
   ],
   "source": [
    "link2 %>% select(gwas_index, description, Cluster_ID, cluster_gwas) %>% distinct() %>% filter(duplicated(cluster_gwas) == T & !is.na(Cluster_ID))"
   ]
  },
  {
   "cell_type": "markdown",
   "metadata": {},
   "source": [
    "## How many GWAS loci colocalized with multiple modules/singletons from the same tissue?"
   ]
  },
  {
   "cell_type": "code",
   "execution_count": 48,
   "metadata": {},
   "outputs": [
    {
     "name": "stderr",
     "output_type": "stream",
     "text": [
      "# GWAS loci with multiple clusters (PPC): 15\n",
      "\n"
     ]
    },
    {
     "name": "stdout",
     "output_type": "stream",
     "text": [
      "   Min. 1st Qu.  Median    Mean 3rd Qu.    Max. \n",
      "  1.000   1.000   1.000   1.098   1.000   4.000 \n"
     ]
    },
    {
     "name": "stderr",
     "output_type": "stream",
     "text": [
      "# GWAS loci with multiple clusters (CVPC): 44\n",
      "\n"
     ]
    },
    {
     "name": "stdout",
     "output_type": "stream",
     "text": [
      "   Min. 1st Qu.  Median    Mean 3rd Qu.    Max. \n",
      "  1.000   1.000   1.000   1.199   1.000   3.000 \n"
     ]
    },
    {
     "name": "stderr",
     "output_type": "stream",
     "text": [
      "# GWAS loci with multiple clusters (iPSC): 30\n",
      "\n"
     ]
    },
    {
     "name": "stdout",
     "output_type": "stream",
     "text": [
      "   Min. 1st Qu.  Median    Mean 3rd Qu.    Max. \n",
      "  1.000   1.000   1.000   1.135   1.000   4.000 \n"
     ]
    }
   ],
   "source": [
    "link2$tissue = unlist(lapply(link2$Cluster_ID, function(x) { unlist(strsplit(x, \"_\"))[1] }))\n",
    "\n",
    "a = link2 %>% select(gwas_index, description, Cluster_ID, tissue, qtl_combo) %>% filter(tissue == \"PPC\") %>%\n",
    "        mutate(id = paste(gwas_index, description))\n",
    "b = data.frame(table(a$id)) %>% dplyr::arrange(desc(Freq)) %>% filter(Freq != 1)\n",
    "\n",
    "message(paste(\"# GWAS loci with multiple clusters (PPC):\", nrow(b)))\n",
    "print(summary(data.frame(table(a$id))$Freq))\n",
    "\n",
    "a = link2 %>% select(gwas_index, description, Cluster_ID, tissue, qtl_combo) %>% filter(tissue == \"CVPC\") %>% \n",
    "        mutate(id = paste(gwas_index, description))\n",
    "b = data.frame(table(a$id)) %>% dplyr::arrange(desc(Freq)) %>% filter(Freq != 1)\n",
    "\n",
    "message(paste(\"# GWAS loci with multiple clusters (CVPC):\", nrow(b)))\n",
    "print(summary(data.frame(table(a$id))$Freq))\n",
    "\n",
    "a = link2 %>% select(gwas_index, description, Cluster_ID, tissue, qtl_combo) %>% filter(tissue == \"iPSC\") %>% \n",
    "        mutate(id = paste(gwas_index, description))\n",
    "b = data.frame(table(a$id)) %>% dplyr::arrange(desc(Freq)) %>% filter(Freq != 1)\n",
    "\n",
    "message(paste(\"# GWAS loci with multiple clusters (iPSC):\", nrow(b)))\n",
    "print(summary(data.frame(table(a$id))$Freq))"
   ]
  },
  {
   "cell_type": "code",
   "execution_count": null,
   "metadata": {},
   "outputs": [],
   "source": []
  },
  {
   "cell_type": "markdown",
   "metadata": {},
   "source": [
    "### check if QTL module/signleton identified the same cand. causal variant for the GWAS locus"
   ]
  },
  {
   "cell_type": "code",
   "execution_count": 49,
   "metadata": {},
   "outputs": [],
   "source": [
    "gwas_coloc$id = paste(gwas_coloc$Cluster_ID, gwas_coloc$full_trait_id)"
   ]
  },
  {
   "cell_type": "code",
   "execution_count": 50,
   "metadata": {},
   "outputs": [
    {
     "name": "stderr",
     "output_type": "stream",
     "text": [
      "# loci: 76\n",
      "\n"
     ]
    },
    {
     "data": {
      "text/plain": [
       "\n",
       "different      same \n",
       "       45        44 "
      ]
     },
     "metadata": {},
     "output_type": "display_data"
    },
    {
     "data": {
      "text/plain": [
       "   Min. 1st Qu.  Median    Mean 3rd Qu.    Max. \n",
       "  2.000   2.000   2.000   2.258   2.000   4.000 "
      ]
     },
     "metadata": {},
     "output_type": "display_data"
    },
    {
     "data": {
      "text/html": [
       "<table class=\"dataframe\">\n",
       "<caption>A data.frame: 89 × 5</caption>\n",
       "<thead>\n",
       "\t<tr><th scope=col>id</th><th scope=col>nclusters</th><th scope=col>ntopsnps</th><th scope=col>causal</th><th scope=col>tissue</th></tr>\n",
       "\t<tr><th scope=col>&lt;chr&gt;</th><th scope=col>&lt;int&gt;</th><th scope=col>&lt;int&gt;</th><th scope=col>&lt;chr&gt;</th><th scope=col>&lt;chr&gt;</th></tr>\n",
       "</thead>\n",
       "<tbody>\n",
       "\t<tr><td>1_16520695_G_C continuous-23104-both_sexes-irnt.meta         </td><td>3</td><td>2</td><td>same     </td><td>CVPC</td></tr>\n",
       "\t<tr><td>1_16980100_T_C continuous-23104-both_sexes-irnt.meta         </td><td>2</td><td>1</td><td>same     </td><td>CVPC</td></tr>\n",
       "\t<tr><td>1_16980100_T_C continuous-23104-both_sexes-irnt.meta         </td><td>3</td><td>3</td><td>different</td><td>iPSC</td></tr>\n",
       "\t<tr><td>1_205770138_C_T biomarkers-30760-both_sexes-irnt.meta        </td><td>2</td><td>1</td><td>same     </td><td>CVPC</td></tr>\n",
       "\t<tr><td>1_212338786_C_CA biomarkers-30760-both_sexes-irnt.meta       </td><td>2</td><td>2</td><td>different</td><td>iPSC</td></tr>\n",
       "\t<tr><td>1_224396908_AAAGAAAAG_A biomarkers-30780-both_sexes-irnt.meta</td><td>2</td><td>2</td><td>different</td><td>CVPC</td></tr>\n",
       "\t<tr><td>1_235423298_C_T Mahajan.NatGenet2018b.T2D.European_sorted    </td><td>3</td><td>2</td><td>same     </td><td>CVPC</td></tr>\n",
       "\t<tr><td>1_235423298_C_T Mahajan.NatGenet2018b.T2D.European_sorted    </td><td>2</td><td>2</td><td>different</td><td>iPSC</td></tr>\n",
       "\t<tr><td>1_39582948_C_CA biomarkers-30760-both_sexes-irnt.meta        </td><td>2</td><td>2</td><td>different</td><td>iPSC</td></tr>\n",
       "\t<tr><td>1_46037164_A_C biomarkers-30760-both_sexes-irnt.meta         </td><td>2</td><td>1</td><td>same     </td><td>iPSC</td></tr>\n",
       "\t<tr><td>1_62598067_T_C biomarkers-30780-both_sexes-irnt.meta         </td><td>2</td><td>2</td><td>different</td><td>PPC </td></tr>\n",
       "\t<tr><td>1_87477472_C_T continuous-4194-both_sexes-irnt.meta          </td><td>2</td><td>1</td><td>same     </td><td>CVPC</td></tr>\n",
       "\t<tr><td>10_103707199_AT_A icd10-I48-both_sexes.meta                  </td><td>2</td><td>1</td><td>same     </td><td>CVPC</td></tr>\n",
       "\t<tr><td>10_63387659_G_A icd10-I48-both_sexes.meta                    </td><td>2</td><td>2</td><td>different</td><td>CVPC</td></tr>\n",
       "\t<tr><td>10_73661890_G_A icd10-I48-both_sexes.meta                    </td><td>2</td><td>1</td><td>same     </td><td>iPSC</td></tr>\n",
       "\t<tr><td>11_130998688_T_G continuous-23104-both_sexes-irnt.meta       </td><td>2</td><td>2</td><td>different</td><td>CVPC</td></tr>\n",
       "\t<tr><td>11_18636189_C_CT biomarkers-30780-both_sexes-irnt.meta       </td><td>2</td><td>1</td><td>same     </td><td>CVPC</td></tr>\n",
       "\t<tr><td>11_43841480_G_A Mahajan.NatGenet2018b.T2D.European_sorted    </td><td>2</td><td>2</td><td>different</td><td>PPC </td></tr>\n",
       "\t<tr><td>11_47369560_G_GA continuous-23104-both_sexes-irnt.meta       </td><td>2</td><td>2</td><td>different</td><td>PPC </td></tr>\n",
       "\t<tr><td>11_47756368_G_C Mahajan.NatGenet2018b.T2D.European_sorted    </td><td>2</td><td>2</td><td>different</td><td>iPSC</td></tr>\n",
       "\t<tr><td>11_565454_T_C biomarkers-30760-both_sexes-irnt.meta          </td><td>3</td><td>1</td><td>same     </td><td>PPC </td></tr>\n",
       "\t<tr><td>11_565454_T_C biomarkers-30760-both_sexes-irnt.meta          </td><td>2</td><td>1</td><td>same     </td><td>CVPC</td></tr>\n",
       "\t<tr><td>11_61819414_C_T biomarkers-30760-both_sexes-irnt.meta        </td><td>3</td><td>1</td><td>same     </td><td>PPC </td></tr>\n",
       "\t<tr><td>11_61819414_C_T biomarkers-30760-both_sexes-irnt.meta        </td><td>3</td><td>1</td><td>same     </td><td>CVPC</td></tr>\n",
       "\t<tr><td>11_61858251_CA_C continuous-4194-both_sexes-irnt.meta        </td><td>3</td><td>1</td><td>same     </td><td>PPC </td></tr>\n",
       "\t<tr><td>11_61858251_CA_C continuous-4194-both_sexes-irnt.meta        </td><td>3</td><td>2</td><td>same     </td><td>CVPC</td></tr>\n",
       "\t<tr><td>11_61874070_G_T biomarkers-30780-both_sexes-irnt.meta        </td><td>4</td><td>2</td><td>same     </td><td>PPC </td></tr>\n",
       "\t<tr><td>11_61874070_G_T biomarkers-30780-both_sexes-irnt.meta        </td><td>3</td><td>2</td><td>same     </td><td>CVPC</td></tr>\n",
       "\t<tr><td>11_61874070_G_T MAGIC1000G_FG_EUR                            </td><td>2</td><td>1</td><td>same     </td><td>PPC </td></tr>\n",
       "\t<tr><td>11_61874070_G_T MAGIC1000G_FG_EUR                            </td><td>3</td><td>3</td><td>different</td><td>CVPC</td></tr>\n",
       "\t<tr><td>⋮</td><td>⋮</td><td>⋮</td><td>⋮</td><td>⋮</td></tr>\n",
       "\t<tr><td>2_65063708_C_A icd10-I48-both_sexes.meta                 </td><td>3</td><td>1</td><td>same     </td><td>CVPC</td></tr>\n",
       "\t<tr><td>2_65063708_C_A Mahajan.NatGenet2018b.T2D.European_sorted </td><td>3</td><td>3</td><td>different</td><td>CVPC</td></tr>\n",
       "\t<tr><td>20_51726421_T_C continuous-23104-both_sexes-irnt.meta    </td><td>2</td><td>2</td><td>different</td><td>PPC </td></tr>\n",
       "\t<tr><td>22_38700597_T_C continuous-4194-both_sexes-irnt.meta     </td><td>2</td><td>2</td><td>different</td><td>CVPC</td></tr>\n",
       "\t<tr><td>3_152368744_A_G Mahajan.NatGenet2018b.T2D.European_sorted</td><td>2</td><td>1</td><td>same     </td><td>CVPC</td></tr>\n",
       "\t<tr><td>3_185779847_A_C MAGIC1000G_FG_EUR                        </td><td>2</td><td>1</td><td>same     </td><td>CVPC</td></tr>\n",
       "\t<tr><td>3_185823029_A_C Mahajan.NatGenet2018b.T2D.European_sorted</td><td>2</td><td>2</td><td>different</td><td>CVPC</td></tr>\n",
       "\t<tr><td>3_196263951_G_A continuous-23104-both_sexes-irnt.meta    </td><td>2</td><td>1</td><td>same     </td><td>CVPC</td></tr>\n",
       "\t<tr><td>3_65184286_T_C continuous-23104-both_sexes-irnt.meta     </td><td>2</td><td>1</td><td>same     </td><td>CVPC</td></tr>\n",
       "\t<tr><td>5_44648564_C_G Mahajan.NatGenet2018b.T2D.European_sorted </td><td>2</td><td>2</td><td>different</td><td>PPC </td></tr>\n",
       "\t<tr><td>5_75692544_A_G Mahajan.NatGenet2018b.T2D.European_sorted </td><td>2</td><td>2</td><td>different</td><td>PPC </td></tr>\n",
       "\t<tr><td>6_108687991_A_G timmers2020_healthspan_lifespan_longevity</td><td>2</td><td>2</td><td>different</td><td>iPSC</td></tr>\n",
       "\t<tr><td>6_118256880_G_A continuous-12340-both_sexes-irnt.meta    </td><td>2</td><td>2</td><td>different</td><td>CVPC</td></tr>\n",
       "\t<tr><td>6_18340056_G_A icd10-I48-both_sexes.meta                 </td><td>2</td><td>2</td><td>different</td><td>CVPC</td></tr>\n",
       "\t<tr><td>6_35114154_G_A biomarkers-30780-both_sexes-irnt.meta     </td><td>2</td><td>2</td><td>different</td><td>iPSC</td></tr>\n",
       "\t<tr><td>6_42976402_A_G biomarkers-30780-both_sexes-irnt.meta     </td><td>2</td><td>2</td><td>different</td><td>iPSC</td></tr>\n",
       "\t<tr><td>7_100754589_T_C biomarkers-30780-both_sexes-irnt.meta    </td><td>2</td><td>1</td><td>same     </td><td>PPC </td></tr>\n",
       "\t<tr><td>7_100754589_T_C biomarkers-30780-both_sexes-irnt.meta    </td><td>2</td><td>1</td><td>same     </td><td>iPSC</td></tr>\n",
       "\t<tr><td>7_100841905_T_A continuous-4194-both_sexes-irnt.meta     </td><td>2</td><td>1</td><td>same     </td><td>PPC </td></tr>\n",
       "\t<tr><td>7_100841905_T_A continuous-4194-both_sexes-irnt.meta     </td><td>2</td><td>1</td><td>same     </td><td>iPSC</td></tr>\n",
       "\t<tr><td>7_1053234_A_C biomarkers-30760-both_sexes-irnt.meta      </td><td>2</td><td>2</td><td>different</td><td>iPSC</td></tr>\n",
       "\t<tr><td>7_116488951_T_A continuous-12340-both_sexes-irnt.meta    </td><td>2</td><td>1</td><td>same     </td><td>CVPC</td></tr>\n",
       "\t<tr><td>7_116488951_T_A icd10-I48-both_sexes.meta                </td><td>2</td><td>1</td><td>same     </td><td>CVPC</td></tr>\n",
       "\t<tr><td>7_35256265_C_A BW3_EUR_summary_stats                     </td><td>3</td><td>2</td><td>same     </td><td>CVPC</td></tr>\n",
       "\t<tr><td>7_90173282_G_A MAGIC1000G_FG_EUR                         </td><td>2</td><td>1</td><td>same     </td><td>PPC </td></tr>\n",
       "\t<tr><td>8_11376991_A_T Mahajan.NatGenet2018b.T2D.European_sorted </td><td>2</td><td>2</td><td>different</td><td>iPSC</td></tr>\n",
       "\t<tr><td>8_11930521_C_T continuous-23104-both_sexes-irnt.meta     </td><td>3</td><td>2</td><td>same     </td><td>CVPC</td></tr>\n",
       "\t<tr><td>8_54532009_C_A biomarkers-30780-both_sexes-irnt.meta     </td><td>2</td><td>1</td><td>same     </td><td>CVPC</td></tr>\n",
       "\t<tr><td>8_88422176_T_C continuous-23104-both_sexes-irnt.meta     </td><td>2</td><td>2</td><td>different</td><td>CVPC</td></tr>\n",
       "\t<tr><td>9_137081303_G_A biomarkers-30760-both_sexes-irnt.meta    </td><td>2</td><td>2</td><td>different</td><td>iPSC</td></tr>\n",
       "</tbody>\n",
       "</table>\n"
      ],
      "text/latex": [
       "A data.frame: 89 × 5\n",
       "\\begin{tabular}{lllll}\n",
       " id & nclusters & ntopsnps & causal & tissue\\\\\n",
       " <chr> & <int> & <int> & <chr> & <chr>\\\\\n",
       "\\hline\n",
       "\t 1\\_16520695\\_G\\_C continuous-23104-both\\_sexes-irnt.meta          & 3 & 2 & same      & CVPC\\\\\n",
       "\t 1\\_16980100\\_T\\_C continuous-23104-both\\_sexes-irnt.meta          & 2 & 1 & same      & CVPC\\\\\n",
       "\t 1\\_16980100\\_T\\_C continuous-23104-both\\_sexes-irnt.meta          & 3 & 3 & different & iPSC\\\\\n",
       "\t 1\\_205770138\\_C\\_T biomarkers-30760-both\\_sexes-irnt.meta         & 2 & 1 & same      & CVPC\\\\\n",
       "\t 1\\_212338786\\_C\\_CA biomarkers-30760-both\\_sexes-irnt.meta        & 2 & 2 & different & iPSC\\\\\n",
       "\t 1\\_224396908\\_AAAGAAAAG\\_A biomarkers-30780-both\\_sexes-irnt.meta & 2 & 2 & different & CVPC\\\\\n",
       "\t 1\\_235423298\\_C\\_T Mahajan.NatGenet2018b.T2D.European\\_sorted     & 3 & 2 & same      & CVPC\\\\\n",
       "\t 1\\_235423298\\_C\\_T Mahajan.NatGenet2018b.T2D.European\\_sorted     & 2 & 2 & different & iPSC\\\\\n",
       "\t 1\\_39582948\\_C\\_CA biomarkers-30760-both\\_sexes-irnt.meta         & 2 & 2 & different & iPSC\\\\\n",
       "\t 1\\_46037164\\_A\\_C biomarkers-30760-both\\_sexes-irnt.meta          & 2 & 1 & same      & iPSC\\\\\n",
       "\t 1\\_62598067\\_T\\_C biomarkers-30780-both\\_sexes-irnt.meta          & 2 & 2 & different & PPC \\\\\n",
       "\t 1\\_87477472\\_C\\_T continuous-4194-both\\_sexes-irnt.meta           & 2 & 1 & same      & CVPC\\\\\n",
       "\t 10\\_103707199\\_AT\\_A icd10-I48-both\\_sexes.meta                   & 2 & 1 & same      & CVPC\\\\\n",
       "\t 10\\_63387659\\_G\\_A icd10-I48-both\\_sexes.meta                     & 2 & 2 & different & CVPC\\\\\n",
       "\t 10\\_73661890\\_G\\_A icd10-I48-both\\_sexes.meta                     & 2 & 1 & same      & iPSC\\\\\n",
       "\t 11\\_130998688\\_T\\_G continuous-23104-both\\_sexes-irnt.meta        & 2 & 2 & different & CVPC\\\\\n",
       "\t 11\\_18636189\\_C\\_CT biomarkers-30780-both\\_sexes-irnt.meta        & 2 & 1 & same      & CVPC\\\\\n",
       "\t 11\\_43841480\\_G\\_A Mahajan.NatGenet2018b.T2D.European\\_sorted     & 2 & 2 & different & PPC \\\\\n",
       "\t 11\\_47369560\\_G\\_GA continuous-23104-both\\_sexes-irnt.meta        & 2 & 2 & different & PPC \\\\\n",
       "\t 11\\_47756368\\_G\\_C Mahajan.NatGenet2018b.T2D.European\\_sorted     & 2 & 2 & different & iPSC\\\\\n",
       "\t 11\\_565454\\_T\\_C biomarkers-30760-both\\_sexes-irnt.meta           & 3 & 1 & same      & PPC \\\\\n",
       "\t 11\\_565454\\_T\\_C biomarkers-30760-both\\_sexes-irnt.meta           & 2 & 1 & same      & CVPC\\\\\n",
       "\t 11\\_61819414\\_C\\_T biomarkers-30760-both\\_sexes-irnt.meta         & 3 & 1 & same      & PPC \\\\\n",
       "\t 11\\_61819414\\_C\\_T biomarkers-30760-both\\_sexes-irnt.meta         & 3 & 1 & same      & CVPC\\\\\n",
       "\t 11\\_61858251\\_CA\\_C continuous-4194-both\\_sexes-irnt.meta         & 3 & 1 & same      & PPC \\\\\n",
       "\t 11\\_61858251\\_CA\\_C continuous-4194-both\\_sexes-irnt.meta         & 3 & 2 & same      & CVPC\\\\\n",
       "\t 11\\_61874070\\_G\\_T biomarkers-30780-both\\_sexes-irnt.meta         & 4 & 2 & same      & PPC \\\\\n",
       "\t 11\\_61874070\\_G\\_T biomarkers-30780-both\\_sexes-irnt.meta         & 3 & 2 & same      & CVPC\\\\\n",
       "\t 11\\_61874070\\_G\\_T MAGIC1000G\\_FG\\_EUR                             & 2 & 1 & same      & PPC \\\\\n",
       "\t 11\\_61874070\\_G\\_T MAGIC1000G\\_FG\\_EUR                             & 3 & 3 & different & CVPC\\\\\n",
       "\t ⋮ & ⋮ & ⋮ & ⋮ & ⋮\\\\\n",
       "\t 2\\_65063708\\_C\\_A icd10-I48-both\\_sexes.meta                  & 3 & 1 & same      & CVPC\\\\\n",
       "\t 2\\_65063708\\_C\\_A Mahajan.NatGenet2018b.T2D.European\\_sorted  & 3 & 3 & different & CVPC\\\\\n",
       "\t 20\\_51726421\\_T\\_C continuous-23104-both\\_sexes-irnt.meta     & 2 & 2 & different & PPC \\\\\n",
       "\t 22\\_38700597\\_T\\_C continuous-4194-both\\_sexes-irnt.meta      & 2 & 2 & different & CVPC\\\\\n",
       "\t 3\\_152368744\\_A\\_G Mahajan.NatGenet2018b.T2D.European\\_sorted & 2 & 1 & same      & CVPC\\\\\n",
       "\t 3\\_185779847\\_A\\_C MAGIC1000G\\_FG\\_EUR                         & 2 & 1 & same      & CVPC\\\\\n",
       "\t 3\\_185823029\\_A\\_C Mahajan.NatGenet2018b.T2D.European\\_sorted & 2 & 2 & different & CVPC\\\\\n",
       "\t 3\\_196263951\\_G\\_A continuous-23104-both\\_sexes-irnt.meta     & 2 & 1 & same      & CVPC\\\\\n",
       "\t 3\\_65184286\\_T\\_C continuous-23104-both\\_sexes-irnt.meta      & 2 & 1 & same      & CVPC\\\\\n",
       "\t 5\\_44648564\\_C\\_G Mahajan.NatGenet2018b.T2D.European\\_sorted  & 2 & 2 & different & PPC \\\\\n",
       "\t 5\\_75692544\\_A\\_G Mahajan.NatGenet2018b.T2D.European\\_sorted  & 2 & 2 & different & PPC \\\\\n",
       "\t 6\\_108687991\\_A\\_G timmers2020\\_healthspan\\_lifespan\\_longevity & 2 & 2 & different & iPSC\\\\\n",
       "\t 6\\_118256880\\_G\\_A continuous-12340-both\\_sexes-irnt.meta     & 2 & 2 & different & CVPC\\\\\n",
       "\t 6\\_18340056\\_G\\_A icd10-I48-both\\_sexes.meta                  & 2 & 2 & different & CVPC\\\\\n",
       "\t 6\\_35114154\\_G\\_A biomarkers-30780-both\\_sexes-irnt.meta      & 2 & 2 & different & iPSC\\\\\n",
       "\t 6\\_42976402\\_A\\_G biomarkers-30780-both\\_sexes-irnt.meta      & 2 & 2 & different & iPSC\\\\\n",
       "\t 7\\_100754589\\_T\\_C biomarkers-30780-both\\_sexes-irnt.meta     & 2 & 1 & same      & PPC \\\\\n",
       "\t 7\\_100754589\\_T\\_C biomarkers-30780-both\\_sexes-irnt.meta     & 2 & 1 & same      & iPSC\\\\\n",
       "\t 7\\_100841905\\_T\\_A continuous-4194-both\\_sexes-irnt.meta      & 2 & 1 & same      & PPC \\\\\n",
       "\t 7\\_100841905\\_T\\_A continuous-4194-both\\_sexes-irnt.meta      & 2 & 1 & same      & iPSC\\\\\n",
       "\t 7\\_1053234\\_A\\_C biomarkers-30760-both\\_sexes-irnt.meta       & 2 & 2 & different & iPSC\\\\\n",
       "\t 7\\_116488951\\_T\\_A continuous-12340-both\\_sexes-irnt.meta     & 2 & 1 & same      & CVPC\\\\\n",
       "\t 7\\_116488951\\_T\\_A icd10-I48-both\\_sexes.meta                 & 2 & 1 & same      & CVPC\\\\\n",
       "\t 7\\_35256265\\_C\\_A BW3\\_EUR\\_summary\\_stats                      & 3 & 2 & same      & CVPC\\\\\n",
       "\t 7\\_90173282\\_G\\_A MAGIC1000G\\_FG\\_EUR                          & 2 & 1 & same      & PPC \\\\\n",
       "\t 8\\_11376991\\_A\\_T Mahajan.NatGenet2018b.T2D.European\\_sorted  & 2 & 2 & different & iPSC\\\\\n",
       "\t 8\\_11930521\\_C\\_T continuous-23104-both\\_sexes-irnt.meta      & 3 & 2 & same      & CVPC\\\\\n",
       "\t 8\\_54532009\\_C\\_A biomarkers-30780-both\\_sexes-irnt.meta      & 2 & 1 & same      & CVPC\\\\\n",
       "\t 8\\_88422176\\_T\\_C continuous-23104-both\\_sexes-irnt.meta      & 2 & 2 & different & CVPC\\\\\n",
       "\t 9\\_137081303\\_G\\_A biomarkers-30760-both\\_sexes-irnt.meta     & 2 & 2 & different & iPSC\\\\\n",
       "\\end{tabular}\n"
      ],
      "text/markdown": [
       "\n",
       "A data.frame: 89 × 5\n",
       "\n",
       "| id &lt;chr&gt; | nclusters &lt;int&gt; | ntopsnps &lt;int&gt; | causal &lt;chr&gt; | tissue &lt;chr&gt; |\n",
       "|---|---|---|---|---|\n",
       "| 1_16520695_G_C continuous-23104-both_sexes-irnt.meta          | 3 | 2 | same      | CVPC |\n",
       "| 1_16980100_T_C continuous-23104-both_sexes-irnt.meta          | 2 | 1 | same      | CVPC |\n",
       "| 1_16980100_T_C continuous-23104-both_sexes-irnt.meta          | 3 | 3 | different | iPSC |\n",
       "| 1_205770138_C_T biomarkers-30760-both_sexes-irnt.meta         | 2 | 1 | same      | CVPC |\n",
       "| 1_212338786_C_CA biomarkers-30760-both_sexes-irnt.meta        | 2 | 2 | different | iPSC |\n",
       "| 1_224396908_AAAGAAAAG_A biomarkers-30780-both_sexes-irnt.meta | 2 | 2 | different | CVPC |\n",
       "| 1_235423298_C_T Mahajan.NatGenet2018b.T2D.European_sorted     | 3 | 2 | same      | CVPC |\n",
       "| 1_235423298_C_T Mahajan.NatGenet2018b.T2D.European_sorted     | 2 | 2 | different | iPSC |\n",
       "| 1_39582948_C_CA biomarkers-30760-both_sexes-irnt.meta         | 2 | 2 | different | iPSC |\n",
       "| 1_46037164_A_C biomarkers-30760-both_sexes-irnt.meta          | 2 | 1 | same      | iPSC |\n",
       "| 1_62598067_T_C biomarkers-30780-both_sexes-irnt.meta          | 2 | 2 | different | PPC  |\n",
       "| 1_87477472_C_T continuous-4194-both_sexes-irnt.meta           | 2 | 1 | same      | CVPC |\n",
       "| 10_103707199_AT_A icd10-I48-both_sexes.meta                   | 2 | 1 | same      | CVPC |\n",
       "| 10_63387659_G_A icd10-I48-both_sexes.meta                     | 2 | 2 | different | CVPC |\n",
       "| 10_73661890_G_A icd10-I48-both_sexes.meta                     | 2 | 1 | same      | iPSC |\n",
       "| 11_130998688_T_G continuous-23104-both_sexes-irnt.meta        | 2 | 2 | different | CVPC |\n",
       "| 11_18636189_C_CT biomarkers-30780-both_sexes-irnt.meta        | 2 | 1 | same      | CVPC |\n",
       "| 11_43841480_G_A Mahajan.NatGenet2018b.T2D.European_sorted     | 2 | 2 | different | PPC  |\n",
       "| 11_47369560_G_GA continuous-23104-both_sexes-irnt.meta        | 2 | 2 | different | PPC  |\n",
       "| 11_47756368_G_C Mahajan.NatGenet2018b.T2D.European_sorted     | 2 | 2 | different | iPSC |\n",
       "| 11_565454_T_C biomarkers-30760-both_sexes-irnt.meta           | 3 | 1 | same      | PPC  |\n",
       "| 11_565454_T_C biomarkers-30760-both_sexes-irnt.meta           | 2 | 1 | same      | CVPC |\n",
       "| 11_61819414_C_T biomarkers-30760-both_sexes-irnt.meta         | 3 | 1 | same      | PPC  |\n",
       "| 11_61819414_C_T biomarkers-30760-both_sexes-irnt.meta         | 3 | 1 | same      | CVPC |\n",
       "| 11_61858251_CA_C continuous-4194-both_sexes-irnt.meta         | 3 | 1 | same      | PPC  |\n",
       "| 11_61858251_CA_C continuous-4194-both_sexes-irnt.meta         | 3 | 2 | same      | CVPC |\n",
       "| 11_61874070_G_T biomarkers-30780-both_sexes-irnt.meta         | 4 | 2 | same      | PPC  |\n",
       "| 11_61874070_G_T biomarkers-30780-both_sexes-irnt.meta         | 3 | 2 | same      | CVPC |\n",
       "| 11_61874070_G_T MAGIC1000G_FG_EUR                             | 2 | 1 | same      | PPC  |\n",
       "| 11_61874070_G_T MAGIC1000G_FG_EUR                             | 3 | 3 | different | CVPC |\n",
       "| ⋮ | ⋮ | ⋮ | ⋮ | ⋮ |\n",
       "| 2_65063708_C_A icd10-I48-both_sexes.meta                  | 3 | 1 | same      | CVPC |\n",
       "| 2_65063708_C_A Mahajan.NatGenet2018b.T2D.European_sorted  | 3 | 3 | different | CVPC |\n",
       "| 20_51726421_T_C continuous-23104-both_sexes-irnt.meta     | 2 | 2 | different | PPC  |\n",
       "| 22_38700597_T_C continuous-4194-both_sexes-irnt.meta      | 2 | 2 | different | CVPC |\n",
       "| 3_152368744_A_G Mahajan.NatGenet2018b.T2D.European_sorted | 2 | 1 | same      | CVPC |\n",
       "| 3_185779847_A_C MAGIC1000G_FG_EUR                         | 2 | 1 | same      | CVPC |\n",
       "| 3_185823029_A_C Mahajan.NatGenet2018b.T2D.European_sorted | 2 | 2 | different | CVPC |\n",
       "| 3_196263951_G_A continuous-23104-both_sexes-irnt.meta     | 2 | 1 | same      | CVPC |\n",
       "| 3_65184286_T_C continuous-23104-both_sexes-irnt.meta      | 2 | 1 | same      | CVPC |\n",
       "| 5_44648564_C_G Mahajan.NatGenet2018b.T2D.European_sorted  | 2 | 2 | different | PPC  |\n",
       "| 5_75692544_A_G Mahajan.NatGenet2018b.T2D.European_sorted  | 2 | 2 | different | PPC  |\n",
       "| 6_108687991_A_G timmers2020_healthspan_lifespan_longevity | 2 | 2 | different | iPSC |\n",
       "| 6_118256880_G_A continuous-12340-both_sexes-irnt.meta     | 2 | 2 | different | CVPC |\n",
       "| 6_18340056_G_A icd10-I48-both_sexes.meta                  | 2 | 2 | different | CVPC |\n",
       "| 6_35114154_G_A biomarkers-30780-both_sexes-irnt.meta      | 2 | 2 | different | iPSC |\n",
       "| 6_42976402_A_G biomarkers-30780-both_sexes-irnt.meta      | 2 | 2 | different | iPSC |\n",
       "| 7_100754589_T_C biomarkers-30780-both_sexes-irnt.meta     | 2 | 1 | same      | PPC  |\n",
       "| 7_100754589_T_C biomarkers-30780-both_sexes-irnt.meta     | 2 | 1 | same      | iPSC |\n",
       "| 7_100841905_T_A continuous-4194-both_sexes-irnt.meta      | 2 | 1 | same      | PPC  |\n",
       "| 7_100841905_T_A continuous-4194-both_sexes-irnt.meta      | 2 | 1 | same      | iPSC |\n",
       "| 7_1053234_A_C biomarkers-30760-both_sexes-irnt.meta       | 2 | 2 | different | iPSC |\n",
       "| 7_116488951_T_A continuous-12340-both_sexes-irnt.meta     | 2 | 1 | same      | CVPC |\n",
       "| 7_116488951_T_A icd10-I48-both_sexes.meta                 | 2 | 1 | same      | CVPC |\n",
       "| 7_35256265_C_A BW3_EUR_summary_stats                      | 3 | 2 | same      | CVPC |\n",
       "| 7_90173282_G_A MAGIC1000G_FG_EUR                          | 2 | 1 | same      | PPC  |\n",
       "| 8_11376991_A_T Mahajan.NatGenet2018b.T2D.European_sorted  | 2 | 2 | different | iPSC |\n",
       "| 8_11930521_C_T continuous-23104-both_sexes-irnt.meta      | 3 | 2 | same      | CVPC |\n",
       "| 8_54532009_C_A biomarkers-30780-both_sexes-irnt.meta      | 2 | 1 | same      | CVPC |\n",
       "| 8_88422176_T_C continuous-23104-both_sexes-irnt.meta      | 2 | 2 | different | CVPC |\n",
       "| 9_137081303_G_A biomarkers-30760-both_sexes-irnt.meta     | 2 | 2 | different | iPSC |\n",
       "\n"
      ],
      "text/plain": [
       "   id                                                            nclusters\n",
       "1  1_16520695_G_C continuous-23104-both_sexes-irnt.meta          3        \n",
       "2  1_16980100_T_C continuous-23104-both_sexes-irnt.meta          2        \n",
       "3  1_16980100_T_C continuous-23104-both_sexes-irnt.meta          3        \n",
       "4  1_205770138_C_T biomarkers-30760-both_sexes-irnt.meta         2        \n",
       "5  1_212338786_C_CA biomarkers-30760-both_sexes-irnt.meta        2        \n",
       "6  1_224396908_AAAGAAAAG_A biomarkers-30780-both_sexes-irnt.meta 2        \n",
       "7  1_235423298_C_T Mahajan.NatGenet2018b.T2D.European_sorted     3        \n",
       "8  1_235423298_C_T Mahajan.NatGenet2018b.T2D.European_sorted     2        \n",
       "9  1_39582948_C_CA biomarkers-30760-both_sexes-irnt.meta         2        \n",
       "10 1_46037164_A_C biomarkers-30760-both_sexes-irnt.meta          2        \n",
       "11 1_62598067_T_C biomarkers-30780-both_sexes-irnt.meta          2        \n",
       "12 1_87477472_C_T continuous-4194-both_sexes-irnt.meta           2        \n",
       "13 10_103707199_AT_A icd10-I48-both_sexes.meta                   2        \n",
       "14 10_63387659_G_A icd10-I48-both_sexes.meta                     2        \n",
       "15 10_73661890_G_A icd10-I48-both_sexes.meta                     2        \n",
       "16 11_130998688_T_G continuous-23104-both_sexes-irnt.meta        2        \n",
       "17 11_18636189_C_CT biomarkers-30780-both_sexes-irnt.meta        2        \n",
       "18 11_43841480_G_A Mahajan.NatGenet2018b.T2D.European_sorted     2        \n",
       "19 11_47369560_G_GA continuous-23104-both_sexes-irnt.meta        2        \n",
       "20 11_47756368_G_C Mahajan.NatGenet2018b.T2D.European_sorted     2        \n",
       "21 11_565454_T_C biomarkers-30760-both_sexes-irnt.meta           3        \n",
       "22 11_565454_T_C biomarkers-30760-both_sexes-irnt.meta           2        \n",
       "23 11_61819414_C_T biomarkers-30760-both_sexes-irnt.meta         3        \n",
       "24 11_61819414_C_T biomarkers-30760-both_sexes-irnt.meta         3        \n",
       "25 11_61858251_CA_C continuous-4194-both_sexes-irnt.meta         3        \n",
       "26 11_61858251_CA_C continuous-4194-both_sexes-irnt.meta         3        \n",
       "27 11_61874070_G_T biomarkers-30780-both_sexes-irnt.meta         4        \n",
       "28 11_61874070_G_T biomarkers-30780-both_sexes-irnt.meta         3        \n",
       "29 11_61874070_G_T MAGIC1000G_FG_EUR                             2        \n",
       "30 11_61874070_G_T MAGIC1000G_FG_EUR                             3        \n",
       "⋮  ⋮                                                             ⋮        \n",
       "60 2_65063708_C_A icd10-I48-both_sexes.meta                      3        \n",
       "61 2_65063708_C_A Mahajan.NatGenet2018b.T2D.European_sorted      3        \n",
       "62 20_51726421_T_C continuous-23104-both_sexes-irnt.meta         2        \n",
       "63 22_38700597_T_C continuous-4194-both_sexes-irnt.meta          2        \n",
       "64 3_152368744_A_G Mahajan.NatGenet2018b.T2D.European_sorted     2        \n",
       "65 3_185779847_A_C MAGIC1000G_FG_EUR                             2        \n",
       "66 3_185823029_A_C Mahajan.NatGenet2018b.T2D.European_sorted     2        \n",
       "67 3_196263951_G_A continuous-23104-both_sexes-irnt.meta         2        \n",
       "68 3_65184286_T_C continuous-23104-both_sexes-irnt.meta          2        \n",
       "69 5_44648564_C_G Mahajan.NatGenet2018b.T2D.European_sorted      2        \n",
       "70 5_75692544_A_G Mahajan.NatGenet2018b.T2D.European_sorted      2        \n",
       "71 6_108687991_A_G timmers2020_healthspan_lifespan_longevity     2        \n",
       "72 6_118256880_G_A continuous-12340-both_sexes-irnt.meta         2        \n",
       "73 6_18340056_G_A icd10-I48-both_sexes.meta                      2        \n",
       "74 6_35114154_G_A biomarkers-30780-both_sexes-irnt.meta          2        \n",
       "75 6_42976402_A_G biomarkers-30780-both_sexes-irnt.meta          2        \n",
       "76 7_100754589_T_C biomarkers-30780-both_sexes-irnt.meta         2        \n",
       "77 7_100754589_T_C biomarkers-30780-both_sexes-irnt.meta         2        \n",
       "78 7_100841905_T_A continuous-4194-both_sexes-irnt.meta          2        \n",
       "79 7_100841905_T_A continuous-4194-both_sexes-irnt.meta          2        \n",
       "80 7_1053234_A_C biomarkers-30760-both_sexes-irnt.meta           2        \n",
       "81 7_116488951_T_A continuous-12340-both_sexes-irnt.meta         2        \n",
       "82 7_116488951_T_A icd10-I48-both_sexes.meta                     2        \n",
       "83 7_35256265_C_A BW3_EUR_summary_stats                          3        \n",
       "84 7_90173282_G_A MAGIC1000G_FG_EUR                              2        \n",
       "85 8_11376991_A_T Mahajan.NatGenet2018b.T2D.European_sorted      2        \n",
       "86 8_11930521_C_T continuous-23104-both_sexes-irnt.meta          3        \n",
       "87 8_54532009_C_A biomarkers-30780-both_sexes-irnt.meta          2        \n",
       "88 8_88422176_T_C continuous-23104-both_sexes-irnt.meta          2        \n",
       "89 9_137081303_G_A biomarkers-30760-both_sexes-irnt.meta         2        \n",
       "   ntopsnps causal    tissue\n",
       "1  2        same      CVPC  \n",
       "2  1        same      CVPC  \n",
       "3  3        different iPSC  \n",
       "4  1        same      CVPC  \n",
       "5  2        different iPSC  \n",
       "6  2        different CVPC  \n",
       "7  2        same      CVPC  \n",
       "8  2        different iPSC  \n",
       "9  2        different iPSC  \n",
       "10 1        same      iPSC  \n",
       "11 2        different PPC   \n",
       "12 1        same      CVPC  \n",
       "13 1        same      CVPC  \n",
       "14 2        different CVPC  \n",
       "15 1        same      iPSC  \n",
       "16 2        different CVPC  \n",
       "17 1        same      CVPC  \n",
       "18 2        different PPC   \n",
       "19 2        different PPC   \n",
       "20 2        different iPSC  \n",
       "21 1        same      PPC   \n",
       "22 1        same      CVPC  \n",
       "23 1        same      PPC   \n",
       "24 1        same      CVPC  \n",
       "25 1        same      PPC   \n",
       "26 2        same      CVPC  \n",
       "27 2        same      PPC   \n",
       "28 2        same      CVPC  \n",
       "29 1        same      PPC   \n",
       "30 3        different CVPC  \n",
       "⋮  ⋮        ⋮         ⋮     \n",
       "60 1        same      CVPC  \n",
       "61 3        different CVPC  \n",
       "62 2        different PPC   \n",
       "63 2        different CVPC  \n",
       "64 1        same      CVPC  \n",
       "65 1        same      CVPC  \n",
       "66 2        different CVPC  \n",
       "67 1        same      CVPC  \n",
       "68 1        same      CVPC  \n",
       "69 2        different PPC   \n",
       "70 2        different PPC   \n",
       "71 2        different iPSC  \n",
       "72 2        different CVPC  \n",
       "73 2        different CVPC  \n",
       "74 2        different iPSC  \n",
       "75 2        different iPSC  \n",
       "76 1        same      PPC   \n",
       "77 1        same      iPSC  \n",
       "78 1        same      PPC   \n",
       "79 1        same      iPSC  \n",
       "80 2        different iPSC  \n",
       "81 1        same      CVPC  \n",
       "82 1        same      CVPC  \n",
       "83 2        same      CVPC  \n",
       "84 1        same      PPC   \n",
       "85 2        different iPSC  \n",
       "86 2        same      CVPC  \n",
       "87 1        same      CVPC  \n",
       "88 2        different CVPC  \n",
       "89 2        different iPSC  "
      ]
     },
     "metadata": {},
     "output_type": "display_data"
    }
   ],
   "source": [
    "tmp = as.data.frame(rbindlist(lapply(c(\"PPC\", \"CVPC\", \"iPSC\"), function(tiss)\n",
    "{\n",
    "    a = link2 %>% \n",
    "        filter(full_trait_id != \"continuous-20022-both_sexes-irnt.meta\") %>% \n",
    "        select(gwas_index, full_trait_id, description, Cluster_ID, tissue,qtl_combo) %>% \n",
    "        filter(tissue == tiss) %>% \n",
    "        mutate(id = paste(gwas_index, full_trait_id))\n",
    "    b = data.frame(table(a$id)) %>% dplyr::arrange(desc(Freq)) %>% filter(Freq != 1)\n",
    "\n",
    "    c = link2 %>% \n",
    "        filter(full_trait_id != \"continuous-20022-both_sexes-irnt.meta\") %>% \n",
    "        select(gwas_index, full_trait_id, description, Cluster_ID, tissue,qtl_combo) %>% \n",
    "        filter(tissue == tiss) %>% \n",
    "        mutate(id = paste(gwas_index, full_trait_id)) %>% \n",
    "        filter(id %in% b$Var1) %>%\n",
    "        mutate(cluster_gwas = paste(Cluster_ID, id)) %>%\n",
    "        mutate(id = paste(Cluster_ID, full_trait_id))\n",
    "\n",
    "    d = gwas_coloc %>% select(id, Cluster_ID, full_trait_id, description, topsnp_pp, topsnp,qtl_combo) \n",
    "    d = merge(d %>% select(id, topsnp, topsnp_pp), c %>% mutate(id = paste(Cluster_ID, full_trait_id)), by = \"id\", all.y = T)\n",
    "\n",
    "    d = d %>% mutate(id = paste(gwas_index, full_trait_id)) %>% arrange(id)\n",
    "\n",
    "    e = as.data.frame(rbindlist(lapply(unique(d$id), function(x)\n",
    "    {\n",
    "        data.frame(id = x, nclusters = length(unique(d[d$id == x,]$Cluster_ID)), ntopsnps = length(unique(d[d$id == x,]$topsnp)))\n",
    "    }))) %>%\n",
    "        mutate(causal = ifelse(nclusters == ntopsnps, \"different\", \"same\"))\n",
    "\n",
    "    return(e %>% mutate(tissue = tiss))\n",
    "})))\n",
    "\n",
    "message(paste(\"# loci:\", length(unique(tmp$id))))\n",
    "\n",
    "table(tmp$causal)\n",
    "summary(tmp$nclusters)\n",
    "\n",
    "tmp %>% arrange(id)\n",
    "\n"
   ]
  },
  {
   "cell_type": "markdown",
   "metadata": {},
   "source": [
    "## Create a column annotating each GWAS locus with all QTL types that it colocalized with for each tissue type"
   ]
  },
  {
   "cell_type": "code",
   "execution_count": 51,
   "metadata": {},
   "outputs": [],
   "source": [
    "collapsed = c()"
   ]
  },
  {
   "cell_type": "code",
   "execution_count": null,
   "metadata": {},
   "outputs": [],
   "source": []
  },
  {
   "cell_type": "code",
   "execution_count": 52,
   "metadata": {},
   "outputs": [
    {
     "data": {
      "text/plain": [
       "\n",
       "               caQTL           caQTL-eQTL     caQTL-eQTL,caQTL \n",
       "                 105                   18                    2 \n",
       "         caQTL,caQTL    caQTL,caQTL,caQTL                 eQTL \n",
       "                   8                    3                   66 \n",
       "          eQTL,caQTL            eQTL,eQTL       eQTL,eQTL,eQTL \n",
       "                   6                    6                    6 \n",
       "eQTL,eQTL,eQTL,caQTL \n",
       "                   4 "
      ]
     },
     "metadata": {},
     "output_type": "display_data"
    },
    {
     "name": "stderr",
     "output_type": "stream",
     "text": [
      "# GWAS signals that need to be collapsed: 15 204\n",
      "\n"
     ]
    },
    {
     "data": {
      "text/plain": [
       "\n",
       "     caQTL caQTL-eQTL       eQTL \n",
       "       116         30         78 "
      ]
     },
     "metadata": {},
     "output_type": "display_data"
    }
   ],
   "source": [
    "a = link2 %>% filter(tissue == \"PPC\") %>%\n",
    "    mutate(gwas_id = paste(gwas_index, full_trait_id)) %>% \n",
    "    group_by(gwas_id) %>%\n",
    "    dplyr::mutate(qtl_combo2 = paste(qtl_combo, collapse = \",\"))\n",
    "\n",
    "table(a$qtl_combo2)\n",
    "\n",
    "message(paste(\"# GWAS signals that need to be collapsed:\", length(unique(a[a$qtl_combo2 %like% \"[,]\",]$gwas_id)), length(unique(a$gwas_id))))\n",
    "\n",
    "collapsed = c(collapsed, a[a$qtl_combo2 %like% \"[,]\",]$gwas_id)\n",
    "\n",
    "a$qtl_combo2 = unlist(lapply(a$qtl_combo2, function(x)\n",
    "{\n",
    "    phenos = sort(unique(unlist(strsplit(unlist(strsplit(x, \"-\")), \",\"))))\n",
    "    paste(phenos, collapse = \"-\")\n",
    "}))\n",
    "\n",
    "table(a$qtl_combo2)"
   ]
  },
  {
   "cell_type": "code",
   "execution_count": 53,
   "metadata": {},
   "outputs": [
    {
     "data": {
      "text/plain": [
       "\n",
       "                      caQTL                  caQTL-eQTL \n",
       "                         85                          10 \n",
       "           caQTL-eQTL-haQTL            caQTL-eQTL,haQTL \n",
       "                          9                           4 \n",
       "                caQTL-haQTL     caQTL-haQTL,caQTL,haQTL \n",
       "                         40                           3 \n",
       "           caQTL-haQTL,eQTL                 caQTL,caQTL \n",
       "                          4                           2 \n",
       "     caQTL,caQTL-eQTL-haQTL           caQTL,caQTL-haQTL \n",
       "                          2                           6 \n",
       "          caQTL,caQTL,caQTL           caQTL,caQTL,haQTL \n",
       "                          3                           6 \n",
       "                 caQTL,eQTL                 caQTL,haQTL \n",
       "                          8                          10 \n",
       "           caQTL,haQTL,eQTL                        eQTL \n",
       "                          3                          45 \n",
       "                 eQTL-haQTL eQTL-haQTL,caQTL-haQTL,eQTL \n",
       "                          3                           3 \n",
       "                  eQTL,eQTL             eQTL,haQTL,eQTL \n",
       "                          2                           3 \n",
       "                      haQTL                 haQTL,caQTL \n",
       "                         51                           4 \n",
       "           haQTL,caQTL-eQTL                  haQTL,eQTL \n",
       "                          4                           8 \n",
       "           haQTL,eQTL-haQTL            haQTL,eQTL,caQTL \n",
       "                          8                           6 \n",
       "     haQTL,haQTL,eQTL-haQTL \n",
       "                         12 "
      ]
     },
     "metadata": {},
     "output_type": "display_data"
    },
    {
     "name": "stderr",
     "output_type": "stream",
     "text": [
      "# GWAS signals that need to be collapsed: 44 287\n",
      "\n"
     ]
    },
    {
     "data": {
      "text/plain": [
       "\n",
       "           caQTL       caQTL-eQTL caQTL-eQTL-haQTL      caQTL-haQTL \n",
       "              90               18               35               69 \n",
       "            eQTL       eQTL-haQTL            haQTL \n",
       "              47               34               51 "
      ]
     },
     "metadata": {},
     "output_type": "display_data"
    }
   ],
   "source": [
    "a2 = link2 %>% filter(tissue == \"CVPC\") %>%\n",
    "    mutate(gwas_id = paste(gwas_index, full_trait_id)) %>% \n",
    "    group_by(gwas_id) %>%\n",
    "    dplyr::mutate(qtl_combo2 = paste(qtl_combo, collapse = \",\"))\n",
    "\n",
    "table(a2$qtl_combo2)\n",
    "\n",
    "message(paste(\"# GWAS signals that need to be collapsed:\", length(unique(a2[a2$qtl_combo2 %like% \"[,]\",]$gwas_id)), length(unique(a2$gwas_id))))\n",
    "\n",
    "collapsed = c(collapsed, a2[a2$qtl_combo2 %like% \"[,]\",]$gwas_id)\n",
    "\n",
    "a2$qtl_combo2 = unlist(lapply(a2$qtl_combo2, function(x)\n",
    "{\n",
    "    phenos = sort(unique(unlist(strsplit(unlist(strsplit(x, \"-\")), \",\"))))\n",
    "    paste(phenos, collapse = \"-\")\n",
    "}))\n",
    "\n",
    "table(a2$qtl_combo2)"
   ]
  },
  {
   "cell_type": "code",
   "execution_count": 54,
   "metadata": {},
   "outputs": [
    {
     "data": {
      "text/plain": [
       "\n",
       "                      caQTL                  caQTL-eQTL \n",
       "                         95                          12 \n",
       "           caQTL-eQTL-haQTL            caQTL-eQTL,caQTL \n",
       "                          3                           2 \n",
       "      caQTL-eQTL,caQTL-eQTL                 caQTL-haQTL \n",
       "                          2                           3 \n",
       "                caQTL,caQTL caQTL,caQTL-eQTL,caQTL-eQTL \n",
       "                          6                           3 \n",
       "                 caQTL,eQTL                        eQTL \n",
       "                          4                         116 \n",
       "                 eQTL-haQTL                  eQTL,caQTL \n",
       "                          1                          12 \n",
       "            eQTL,caQTL-eQTL       eQTL,caQTL-eQTL-haQTL \n",
       "                          2                           8 \n",
       "            eQTL,caQTL,eQTL                   eQTL,eQTL \n",
       "                          3                          16 \n",
       "            eQTL,eQTL,caQTL         eQTL,eQTL,eQTL,eQTL \n",
       "                          3                           4 "
      ]
     },
     "metadata": {},
     "output_type": "display_data"
    },
    {
     "name": "stderr",
     "output_type": "stream",
     "text": [
      "# GWAS signals that need to be collapsed: 30 260\n",
      "\n"
     ]
    },
    {
     "data": {
      "text/plain": [
       "\n",
       "           caQTL       caQTL-eQTL caQTL-eQTL-haQTL      caQTL-haQTL \n",
       "             101               43               11                3 \n",
       "            eQTL       eQTL-haQTL \n",
       "             136                1 "
      ]
     },
     "metadata": {},
     "output_type": "display_data"
    }
   ],
   "source": [
    "a3 = link2 %>% filter(tissue == \"iPSC\") %>%\n",
    "    mutate(gwas_id = paste(gwas_index, full_trait_id)) %>% \n",
    "    group_by(gwas_id) %>%\n",
    "    dplyr::mutate(qtl_combo2 = paste(qtl_combo, collapse = \",\"))\n",
    "\n",
    "table(a3$qtl_combo2)\n",
    "\n",
    "message(paste(\"# GWAS signals that need to be collapsed:\", length(unique(a3[a3$qtl_combo2 %like% \"[,]\",]$gwas_id)), length(unique(a3$gwas_id))))\n",
    "\n",
    "collapsed = c(collapsed, a3[a3$qtl_combo2 %like% \"[,]\",]$gwas_id)\n",
    "\n",
    "a3$qtl_combo2 = unlist(lapply(a3$qtl_combo2, function(x)\n",
    "{\n",
    "    phenos = sort(unique(unlist(strsplit(unlist(strsplit(x, \"-\")), \",\"))))\n",
    "    paste(phenos, collapse = \"-\")\n",
    "}))\n",
    "\n",
    "table(a3$qtl_combo2)"
   ]
  },
  {
   "cell_type": "code",
   "execution_count": 55,
   "metadata": {},
   "outputs": [
    {
     "name": "stderr",
     "output_type": "stream",
     "text": [
      "Signals that need to be collapsed: 76\n",
      "\n"
     ]
    }
   ],
   "source": [
    "message(paste(\"Signals that need to be collapsed:\", length(unique(collapsed))))"
   ]
  },
  {
   "cell_type": "code",
   "execution_count": null,
   "metadata": {},
   "outputs": [],
   "source": []
  },
  {
   "cell_type": "code",
   "execution_count": 56,
   "metadata": {},
   "outputs": [],
   "source": [
    "link3 =  data.frame(Reduce(rbind, list(a, a2, a3)) %>% dplyr::rename(qtl_combo_collapse = qtl_combo2) %>% ungroup())\n",
    "link3 = link3[rowSums(is.na(link3)) != ncol(link3), ] %>% filter(!is.na(gwas_id))\n"
   ]
  },
  {
   "cell_type": "code",
   "execution_count": 57,
   "metadata": {},
   "outputs": [
    {
     "data": {
      "text/plain": [
       "\n",
       "           caQTL       caQTL-eQTL caQTL-eQTL-haQTL      caQTL-haQTL \n",
       "             307               91               46               72 \n",
       "            eQTL       eQTL-haQTL            haQTL \n",
       "             261               35               51 "
      ]
     },
     "metadata": {},
     "output_type": "display_data"
    },
    {
     "data": {
      "text/html": [
       "863"
      ],
      "text/latex": [
       "863"
      ],
      "text/markdown": [
       "863"
      ],
      "text/plain": [
       "[1] 863"
      ]
     },
     "metadata": {},
     "output_type": "display_data"
    }
   ],
   "source": [
    "table(link3$qtl_combo_collapse)\n",
    "sum(table(link3$qtl_combo_collapse))"
   ]
  },
  {
   "cell_type": "code",
   "execution_count": 60,
   "metadata": {},
   "outputs": [
    {
     "name": "stderr",
     "output_type": "stream",
     "text": [
      "# total GWAS loci: 5192\n",
      "\n",
      "# GWAS loci that colocalized: 540\n",
      "\n"
     ]
    }
   ],
   "source": [
    "message(paste(\"# total GWAS loci:\", length(unique(link2$index_trait))))\n",
    "message(paste(\"# GWAS loci that colocalized:\", length(unique(link3$index_trait))))"
   ]
  },
  {
   "cell_type": "code",
   "execution_count": 59,
   "metadata": {},
   "outputs": [],
   "source": [
    "fwrite(link3, \"~/projects/Resource/Figshare/all_results.qtl_coloc.2024_0925.txt\", row.names = F, sep = \"\\t\") # only reports QTL-colocalized GWAS\n",
    "fwrite(link2, \"~/projects/Resource/Figshare/all_results.2024_0925.txt\", row.names = F, sep = \"\\t\") "
   ]
  },
  {
   "cell_type": "code",
   "execution_count": null,
   "metadata": {},
   "outputs": [],
   "source": []
  }
 ],
 "metadata": {
  "kernelspec": {
   "display_name": "R 4.2.1",
   "language": "R",
   "name": "ir421"
  },
  "language_info": {
   "codemirror_mode": "r",
   "file_extension": ".r",
   "mimetype": "text/x-r-source",
   "name": "R",
   "pygments_lexer": "r",
   "version": "4.2.1"
  }
 },
 "nbformat": 4,
 "nbformat_minor": 2
}
