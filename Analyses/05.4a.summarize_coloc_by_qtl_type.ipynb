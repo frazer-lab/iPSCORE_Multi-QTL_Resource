{
 "cells": [
  {
   "cell_type": "code",
   "execution_count": 2,
   "metadata": {},
   "outputs": [
    {
     "name": "stderr",
     "output_type": "stream",
     "text": [
      "This is coloc version 5.2.3\n",
      "\n"
     ]
    }
   ],
   "source": [
    "setwd(\"/projects/CARDIPS/analysis/epigenome_resource\")\n",
    "source(\"analyses/jennifer/notebooks/functions.R\")\n",
    "\n",
    "set.seed(5366)\n",
    "library(coloc)"
   ]
  },
  {
   "cell_type": "markdown",
   "metadata": {},
   "source": [
    "# **Table S12: GWAS Colocalization**"
   ]
  },
  {
   "cell_type": "markdown",
   "metadata": {},
   "source": [
    "## **read input**"
   ]
  },
  {
   "cell_type": "code",
   "execution_count": 5,
   "metadata": {},
   "outputs": [],
   "source": [
    "indep4 = fread(\"~/projects/Resource/notebooks/toGitHub/sourcedata/SOURCEDATA.FIGURE5A.txt\", data.table = F)\n",
    "indep4 = indep4[  indep4$QTL_Combination != \"\",]\n"
   ]
  },
  {
   "cell_type": "code",
   "execution_count": 6,
   "metadata": {},
   "outputs": [
    {
     "data": {
      "text/html": [
       "454388"
      ],
      "text/latex": [
       "454388"
      ],
      "text/markdown": [
       "454388"
      ],
      "text/plain": [
       "[1] 454388"
      ]
     },
     "metadata": {},
     "output_type": "display_data"
    }
   ],
   "source": [
    "gwas_coloc = fread(\"~/projects/Resource/Figshare/all.gwas_summary.2024_0925.txt\", data.table = F) %>% \n",
    "    filter(Nominated == T)\n",
    "\n",
    "nrow(gwas_coloc)"
   ]
  },
  {
   "cell_type": "code",
   "execution_count": 37,
   "metadata": {},
   "outputs": [
    {
     "name": "stderr",
     "output_type": "stream",
     "text": [
      "# traits: 15\n",
      "\n"
     ]
    }
   ],
   "source": [
    "message(paste(\"# traits:\", length(unique(gwas_coloc$description))))"
   ]
  },
  {
   "cell_type": "code",
   "execution_count": 7,
   "metadata": {},
   "outputs": [],
   "source": [
    "table = gwas_coloc %>% select(tissue, element_id, tissue_element, type, Cluster_ID, Complexity, Nominated, \n",
    "                                    element_name, element_chr, element_start, element_end, \n",
    "                         full_trait_id, description,\n",
    "                         nsnps, PP.H0.abf, PP.H1.abf, PP.H2.abf, PP.H3.abf, PP.H4.abf,\n",
    "                         max_model_pp, likely_model, topsnp, topsnp_pp,\n",
    "                         beta.eqtl, se.eqtl, p.eqtl, beta.gwas, se.gwas, p.gwas, cs_size,\n",
    "                         coloc_gwas,  qtl_combo)"
   ]
  },
  {
   "cell_type": "code",
   "execution_count": 8,
   "metadata": {},
   "outputs": [
    {
     "data": {
      "text/html": [
       "863"
      ],
      "text/latex": [
       "863"
      ],
      "text/markdown": [
       "863"
      ],
      "text/plain": [
       "[1] 863"
      ]
     },
     "metadata": {},
     "output_type": "display_data"
    },
    {
     "data": {
      "text/html": [
       "695"
      ],
      "text/latex": [
       "695"
      ],
      "text/markdown": [
       "695"
      ],
      "text/plain": [
       "[1] 695"
      ]
     },
     "metadata": {},
     "output_type": "display_data"
    }
   ],
   "source": [
    "a = table %>% filter(coloc_gwas == T & Nominated == T)\n",
    "nrow(a)\n",
    "length(unique(a$tissue_element))"
   ]
  },
  {
   "cell_type": "code",
   "execution_count": 10,
   "metadata": {},
   "outputs": [],
   "source": [
    "# Reformat trait description\n",
    "table[table$description == \"birth weight (eur)\",]$description = \"Birth Weight\"\n",
    "table[table$description == \"childhood obesity (eur)\",]$description = \"Childhood Obesity\"\n",
    "# table[table$description == \"type_1_diabetes\",]$description = \"Type 1 Diabetes\"\n",
    "table[table$description == \"fasting glucose\",]$description = \"Fasting Glucose\"\n",
    "table[table$description == \"type 2 diabetes\",]$description = \"Type 2 Diabetes\"\n",
    "table[table$description == \"I25 Chronic ischaemic heart disease\",]$description = \"Ischemic Heart Disease\"\n",
    "table$description = str_to_title(table$description)\n",
    "table[table$description %like% \"Body Mass\",]$description = \"Body Mass Index\"\n",
    "table[table$description %like% \"Qrs Duration\",]$description = \"QRS Duration\"\n",
    "table[table$description %like% \"Ldl Direct\",]$description = \"LDL Direct\"\n",
    "table[table$description %like% \"Hdl Cholesterol\",]$description = \"HDL Cholesterol\"\n",
    "table[table$description %like% \"I20 Angina Pectoris\",]$description = \"Angina Pectoris\"\n",
    "table[table$description %like% \"I21 Acute Myocardial Infarction\",]$description = \"Myocardial Infarction\"\n",
    "table[table$description == \"Multivariate Longevity\",]$description = \"Aging\"\n",
    "table[table$description == 'I48 Atrial Fibrillation And Flutter',]$description = \"Atrial Fibrillation\""
   ]
  },
  {
   "cell_type": "code",
   "execution_count": 11,
   "metadata": {},
   "outputs": [],
   "source": [
    "# Reformat column names\n",
    "table = table %>%\n",
    "    dplyr::rename(Tissue = tissue) %>%\n",
    "    dplyr::rename(Element_ID = element_id) %>%\n",
    "    dplyr::rename(Condition = type) %>%\n",
    "    dplyr::rename(Element_Name = element_name) %>%\n",
    "    dplyr::rename(Element_Chrom = element_chr) %>%\n",
    "    dplyr::rename(Element_Start = element_start) %>%\n",
    "    dplyr::rename(Element_End = element_end) %>%\n",
    "    dplyr::rename(Trait_ID = full_trait_id) %>%\n",
    "    dplyr::rename(Trait_Description = description) %>%\n",
    "    dplyr::rename(Nsnps = nsnps) %>%\n",
    "    dplyr::rename(Max_Hypothesis_PP = max_model_pp) %>%\n",
    "    dplyr::rename(Likely_Colocalization_Hypothesis = likely_model) %>%\n",
    "    dplyr::rename(Top_SNP_ID = topsnp) %>%\n",
    "    dplyr::rename(Top_SNP_PP = topsnp_pp) %>%\n",
    "#     dplyr::rename(Proportion_Module_Colocalized = prop_cluster_coloc) %>%\n",
    "    dplyr::rename(Beta.QTL = beta.eqtl) %>%\n",
    "    dplyr::rename(SE.QTL = se.eqtl) %>%\n",
    "    dplyr::rename(Pvalue.QTL = p.eqtl) %>%\n",
    "    dplyr::rename(Beta.GWAS = beta.gwas) %>%\n",
    "    dplyr::rename(SE.GWAS = se.gwas) %>%\n",
    "    dplyr::rename(Pvalue.GWAS = p.gwas) %>%\n",
    "    dplyr::rename(Colocalized = coloc_gwas) %>%\n",
    "#     dplyr::rename(EDev_Unique_QTL = fetal_unique) %>%\n",
    "    dplyr::rename(QTL_Combination = qtl_combo) \n",
    "table$tissue_element = NULL\n",
    "colnames(table) = gsub(\".abf\", \"\", colnames(table))\n",
    "\n",
    "colnames(table)[which(colnames(table) == \"cs_size\")] = \"99Credible_Set_Size\""
   ]
  },
  {
   "cell_type": "code",
   "execution_count": 13,
   "metadata": {},
   "outputs": [],
   "source": [
    "# Add GWAS Locus ID (aka GWAS Pruned Variant)\n",
    "table2 = merge(table, indep4[,c(\"Tissue\", \"Trait_Description\", \"Trait_ID\", \"GWAS_Index\", \"Cluster_ID\", \"QTL_Combination_Collapse\")],\n",
    "                   by = c(\"Tissue\", \"Trait_Description\", \"Trait_ID\", \"Cluster_ID\"), all.x = T) %>%\n",
    "    dplyr::relocate(GWAS_Index, .before = QTL_Combination)\n"
   ]
  },
  {
   "cell_type": "code",
   "execution_count": 25,
   "metadata": {},
   "outputs": [
    {
     "name": "stderr",
     "output_type": "stream",
     "text": [
      "Warning message in cbind(parts$left, chars$ellip_h, parts$right, deparse.level = 0L):\n",
      "“number of rows of result is not a multiple of vector length (arg 2)”\n",
      "Warning message in cbind(parts$left, chars$ellip_h, parts$right, deparse.level = 0L):\n",
      "“number of rows of result is not a multiple of vector length (arg 2)”\n",
      "Warning message in cbind(parts$left, chars$ellip_h, parts$right, deparse.level = 0L):\n",
      "“number of rows of result is not a multiple of vector length (arg 2)”\n",
      "Warning message in cbind(parts$left, chars$ellip_h, parts$right, deparse.level = 0L):\n",
      "“number of rows of result is not a multiple of vector length (arg 2)”\n"
     ]
    },
    {
     "data": {
      "text/html": [
       "<table class=\"dataframe\">\n",
       "<caption>A data.frame: 0 × 35</caption>\n",
       "<thead>\n",
       "\t<tr><th scope=col>Tissue</th><th scope=col>Trait_Description</th><th scope=col>Trait_ID</th><th scope=col>Cluster_ID</th><th scope=col>QTL_Combination</th><th scope=col>Complexity</th><th scope=col>Element_ID</th><th scope=col>Condition</th><th scope=col>Nominated</th><th scope=col>Element_Name</th><th scope=col>⋯</th><th scope=col>Pvalue.QTL</th><th scope=col>Beta.GWAS</th><th scope=col>SE.GWAS</th><th scope=col>Pvalue.GWAS</th><th scope=col>99Credible_Set_Size</th><th scope=col>Colocalized</th><th scope=col>GWAS_Index</th><th scope=col>Element_Cond</th><th scope=col>GWAS_QTL_Combination_Collapse</th><th scope=col>GWAS_ID</th></tr>\n",
       "\t<tr><th scope=col>&lt;chr&gt;</th><th scope=col>&lt;chr&gt;</th><th scope=col>&lt;chr&gt;</th><th scope=col>&lt;chr&gt;</th><th scope=col>&lt;chr&gt;</th><th scope=col>&lt;chr&gt;</th><th scope=col>&lt;chr&gt;</th><th scope=col>&lt;int&gt;</th><th scope=col>&lt;lgl&gt;</th><th scope=col>&lt;chr&gt;</th><th scope=col>⋯</th><th scope=col>&lt;dbl&gt;</th><th scope=col>&lt;dbl&gt;</th><th scope=col>&lt;dbl&gt;</th><th scope=col>&lt;dbl&gt;</th><th scope=col>&lt;int&gt;</th><th scope=col>&lt;lgl&gt;</th><th scope=col>&lt;chr&gt;</th><th scope=col>&lt;chr&gt;</th><th scope=col>&lt;chr&gt;</th><th scope=col>&lt;chr&gt;</th></tr>\n",
       "</thead>\n",
       "<tbody>\n",
       "</tbody>\n",
       "</table>\n"
      ],
      "text/latex": [
       "A data.frame: 0 × 35\n",
       "\\begin{tabular}{lllllllllllllllllllll}\n",
       " Tissue & Trait\\_Description & Trait\\_ID & Cluster\\_ID & QTL\\_Combination & Complexity & Element\\_ID & Condition & Nominated & Element\\_Name & ⋯ & Pvalue.QTL & Beta.GWAS & SE.GWAS & Pvalue.GWAS & 99Credible\\_Set\\_Size & Colocalized & GWAS\\_Index & Element\\_Cond & GWAS\\_QTL\\_Combination\\_Collapse & GWAS\\_ID\\\\\n",
       " <chr> & <chr> & <chr> & <chr> & <chr> & <chr> & <chr> & <int> & <lgl> & <chr> & ⋯ & <dbl> & <dbl> & <dbl> & <dbl> & <int> & <lgl> & <chr> & <chr> & <chr> & <chr>\\\\\n",
       "\\hline\n",
       "\\end{tabular}\n"
      ],
      "text/markdown": [
       "\n",
       "A data.frame: 0 × 35\n",
       "\n",
       "| Tissue &lt;chr&gt; | Trait_Description &lt;chr&gt; | Trait_ID &lt;chr&gt; | Cluster_ID &lt;chr&gt; | QTL_Combination &lt;chr&gt; | Complexity &lt;chr&gt; | Element_ID &lt;chr&gt; | Condition &lt;int&gt; | Nominated &lt;lgl&gt; | Element_Name &lt;chr&gt; | ⋯ ⋯ | Pvalue.QTL &lt;dbl&gt; | Beta.GWAS &lt;dbl&gt; | SE.GWAS &lt;dbl&gt; | Pvalue.GWAS &lt;dbl&gt; | 99Credible_Set_Size &lt;int&gt; | Colocalized &lt;lgl&gt; | GWAS_Index &lt;chr&gt; | Element_Cond &lt;chr&gt; | GWAS_QTL_Combination_Collapse &lt;chr&gt; | GWAS_ID &lt;chr&gt; |\n",
       "|---|---|---|---|---|---|---|---|---|---|---|---|---|---|---|---|---|---|---|---|---|\n",
       "\n"
      ],
      "text/plain": [
       "     Tissue Trait_Description Trait_ID Cluster_ID QTL_Combination Complexity\n",
       "     Element_ID Condition Nominated Element_Name ⋯ Pvalue.QTL Beta.GWAS SE.GWAS\n",
       "     Pvalue.GWAS 99Credible_Set_Size Colocalized GWAS_Index Element_Cond\n",
       "     GWAS_QTL_Combination_Collapse GWAS_ID"
      ]
     },
     "metadata": {},
     "output_type": "display_data"
    }
   ],
   "source": [
    "# Check that all GWAS-colocalized QTLs were assigned to a GWAS locus\n",
    "table2 %>% filter(Colocalized == T) %>% filter(is.na(GWAS_Index))\n",
    "# table2 %>% filter(Colocalized == T) "
   ]
  },
  {
   "cell_type": "code",
   "execution_count": 17,
   "metadata": {},
   "outputs": [],
   "source": [
    "table2$GWAS_ID = paste(table2$GWAS_Index, table2$Trait_Description)\n",
    "# a = table2 %>% filter(Colocalized == T & Fetal_Unique == F) \n",
    "# table2$Fetal_Unique = ifelse(!table2$GWAS_ID %in% a$GWAS_ID, T, F)"
   ]
  },
  {
   "cell_type": "code",
   "execution_count": 18,
   "metadata": {},
   "outputs": [],
   "source": [
    "table2 = table2 %>% \n",
    "    dplyr::relocate(Complexity, .after = Cluster_ID) %>%\n",
    "    dplyr::rename(GWAS_QTL_Combination_Collapse = QTL_Combination_Collapse) %>% \n",
    "    dplyr::relocate(QTL_Combination, .after = Cluster_ID) \n",
    "#     dplyr::relocate(Has_TFBS, .before = GWAS_Index) %>%\n",
    "#     select(-EDev_Unique_QTL) %>%\n",
    "#     dplyr::rename(EDev_Unique_GWAS_Locus = Fetal_Unique_GWAS_Locus)\n",
    "\n",
    "table2[is.na(table2$GWAS_Index),]$GWAS_Index = \"No Colocalization\"\n",
    "table2[is.na(table2$GWAS_QTL_Combination_Collapse),]$GWAS_QTL_Combination_Collapse = \"No Colocalization\"\n",
    "# table2[is.na(table2$EDev_Unique_GWAS_Locus),]$EDev_Unique_GWAS_Locus = \"No Colocalization\""
   ]
  },
  {
   "cell_type": "code",
   "execution_count": 20,
   "metadata": {},
   "outputs": [
    {
     "data": {
      "text/plain": [
       "       \n",
       "         caQTL caQTL-eQTL caQTL-eQTL-haQTL caQTL-haQTL   eQTL eQTL-haQTL  haQTL\n",
       "  FALSE      0          0                0           0      0          0      0\n",
       "  TRUE     307         91               46          72    261         35     51\n",
       "       \n",
       "        No Colocalization\n",
       "  FALSE            453525\n",
       "  TRUE                  0"
      ]
     },
     "metadata": {},
     "output_type": "display_data"
    }
   ],
   "source": [
    "table(table2$Colocalized, table2$GWAS_QTL_Combination_Collapse)"
   ]
  },
  {
   "cell_type": "code",
   "execution_count": 33,
   "metadata": {},
   "outputs": [],
   "source": [
    "### GWAS results in supplemental table 5 and on Figshare\n",
    "fwrite(table2 %>% select(-GWAS_ID,  -Nominated) %>% distinct(), \n",
    "       \"analyses/tim/gwas_coloc/tables/Table_SX_GWAS_Colocalizations_2024_0911.txt\", row.names = F, sep = \"\\t\")"
   ]
  },
  {
   "cell_type": "code",
   "execution_count": 26,
   "metadata": {},
   "outputs": [],
   "source": [
    "table3 = table2 %>% select(-GWAS_ID, -Nominated)\n",
    "colnames(table3) = gsub(\"_\", \" \", colnames(table3))\n",
    "\n",
    "# fwrite(table3 %>% distinct(), \"analyses/tim/gwas_coloc/tables/Table_SX_GWAS_Colocalizations.txt\", row.names = F, sep = \"\\t\")"
   ]
  },
  {
   "cell_type": "code",
   "execution_count": 27,
   "metadata": {},
   "outputs": [
    {
     "name": "stderr",
     "output_type": "stream",
     "text": [
      "# clusters that colocalized: 695\n",
      "\n",
      "# GWAS loci that colocalized: 540\n",
      "\n"
     ]
    }
   ],
   "source": [
    "# check that numbers are correct\n",
    "a = table2 %>% filter(Colocalized == T)\n",
    "message(paste(\"# clusters that colocalized:\", length(unique(a$Cluster_ID))))\n",
    "message(paste(\"# GWAS loci that colocalized:\", length(unique(a$GWAS_ID))))"
   ]
  },
  {
   "cell_type": "code",
   "execution_count": null,
   "metadata": {},
   "outputs": [],
   "source": []
  }
 ],
 "metadata": {
  "kernelspec": {
   "display_name": "R 4.2.1",
   "language": "R",
   "name": "ir421"
  },
  "language_info": {
   "codemirror_mode": "r",
   "file_extension": ".r",
   "mimetype": "text/x-r-source",
   "name": "R",
   "pygments_lexer": "r",
   "version": "4.2.1"
  }
 },
 "nbformat": 4,
 "nbformat_minor": 2
}
