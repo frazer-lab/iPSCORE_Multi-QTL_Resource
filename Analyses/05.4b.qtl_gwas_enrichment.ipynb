{
 "cells": [
  {
   "cell_type": "code",
   "execution_count": 1,
   "metadata": {},
   "outputs": [],
   "source": [
    "setwd(\"/projects/CARDIPS/analysis/epigenome_resource\")\n",
    "source(\"analyses/jennifer/notebooks/functions.R\")\n",
    "\n",
    "set.seed(5366)"
   ]
  },
  {
   "cell_type": "markdown",
   "metadata": {},
   "source": [
    "# Figure 5b: Which QTL type is most enriched for GWAS colocalization? "
   ]
  },
  {
   "cell_type": "markdown",
   "metadata": {},
   "source": [
    "## read supplemental table for GWAS colocalizations"
   ]
  },
  {
   "cell_type": "code",
   "execution_count": 3,
   "metadata": {},
   "outputs": [
    {
     "data": {
      "text/html": [
       "454388"
      ],
      "text/latex": [
       "454388"
      ],
      "text/markdown": [
       "454388"
      ],
      "text/plain": [
       "[1] 454388"
      ]
     },
     "metadata": {},
     "output_type": "display_data"
    },
    {
     "data": {
      "text/html": [
       "<table class=\"dataframe\">\n",
       "<caption>A data.frame: 2 × 35</caption>\n",
       "<thead>\n",
       "\t<tr><th></th><th scope=col>Tissue</th><th scope=col>Trait_Description</th><th scope=col>Trait_ID</th><th scope=col>Cluster_ID</th><th scope=col>QTL_Combination</th><th scope=col>Complexity</th><th scope=col>Element_ID</th><th scope=col>Condition</th><th scope=col>Element_Name</th><th scope=col>Element_Chrom</th><th scope=col>⋯</th><th scope=col>Beta.GWAS</th><th scope=col>SE.GWAS</th><th scope=col>Pvalue.GWAS</th><th scope=col>99Credible_Set_Size</th><th scope=col>Colocalized</th><th scope=col>GWAS_Index</th><th scope=col>Element_Cond</th><th scope=col>GWAS_QTL_Combination_Collapse</th><th scope=col>GWAS_ID</th><th scope=col>Cluster_GWAS</th></tr>\n",
       "\t<tr><th></th><th scope=col>&lt;chr&gt;</th><th scope=col>&lt;chr&gt;</th><th scope=col>&lt;chr&gt;</th><th scope=col>&lt;chr&gt;</th><th scope=col>&lt;chr&gt;</th><th scope=col>&lt;chr&gt;</th><th scope=col>&lt;chr&gt;</th><th scope=col>&lt;int&gt;</th><th scope=col>&lt;chr&gt;</th><th scope=col>&lt;chr&gt;</th><th scope=col>⋯</th><th scope=col>&lt;dbl&gt;</th><th scope=col>&lt;dbl&gt;</th><th scope=col>&lt;dbl&gt;</th><th scope=col>&lt;int&gt;</th><th scope=col>&lt;lgl&gt;</th><th scope=col>&lt;chr&gt;</th><th scope=col>&lt;chr&gt;</th><th scope=col>&lt;chr&gt;</th><th scope=col>&lt;chr&gt;</th><th scope=col>&lt;chr&gt;</th></tr>\n",
       "</thead>\n",
       "<tbody>\n",
       "\t<tr><th scope=row>1</th><td>CVPC</td><td>Aging</td><td>timmers2020_healthspan_lifespan_longevity</td><td>CVPC_100 </td><td>caQTL-eQTL</td><td>Complex</td><td>ENSG00000287315.1 </td><td>0</td><td>ENSG00000287315</td><td>chr1 </td><td>⋯</td><td>0.002339</td><td>0.001729</td><td>1.76198e-01</td><td>  11</td><td>FALSE</td><td>No Colocalization</td><td>ENSG00000287315.1_0 </td><td>No Colocalization</td><td>Aging No Colocalization</td><td>CVPC_100 Aging </td></tr>\n",
       "\t<tr><th scope=row>2</th><td>CVPC</td><td>Aging</td><td>timmers2020_healthspan_lifespan_longevity</td><td>CVPC_1003</td><td>caQTL-eQTL</td><td>Complex</td><td>ENSG00000137474.23</td><td>0</td><td>MYO7A          </td><td>chr11</td><td>⋯</td><td>0.008016</td><td>0.001994</td><td>5.84166e-05</td><td>3551</td><td>FALSE</td><td>No Colocalization</td><td>ENSG00000137474.23_0</td><td>No Colocalization</td><td>Aging No Colocalization</td><td>CVPC_1003 Aging</td></tr>\n",
       "</tbody>\n",
       "</table>\n"
      ],
      "text/latex": [
       "A data.frame: 2 × 35\n",
       "\\begin{tabular}{r|lllllllllllllllllllll}\n",
       "  & Tissue & Trait\\_Description & Trait\\_ID & Cluster\\_ID & QTL\\_Combination & Complexity & Element\\_ID & Condition & Element\\_Name & Element\\_Chrom & ⋯ & Beta.GWAS & SE.GWAS & Pvalue.GWAS & 99Credible\\_Set\\_Size & Colocalized & GWAS\\_Index & Element\\_Cond & GWAS\\_QTL\\_Combination\\_Collapse & GWAS\\_ID & Cluster\\_GWAS\\\\\n",
       "  & <chr> & <chr> & <chr> & <chr> & <chr> & <chr> & <chr> & <int> & <chr> & <chr> & ⋯ & <dbl> & <dbl> & <dbl> & <int> & <lgl> & <chr> & <chr> & <chr> & <chr> & <chr>\\\\\n",
       "\\hline\n",
       "\t1 & CVPC & Aging & timmers2020\\_healthspan\\_lifespan\\_longevity & CVPC\\_100  & caQTL-eQTL & Complex & ENSG00000287315.1  & 0 & ENSG00000287315 & chr1  & ⋯ & 0.002339 & 0.001729 & 1.76198e-01 &   11 & FALSE & No Colocalization & ENSG00000287315.1\\_0  & No Colocalization & Aging No Colocalization & CVPC\\_100 Aging \\\\\n",
       "\t2 & CVPC & Aging & timmers2020\\_healthspan\\_lifespan\\_longevity & CVPC\\_1003 & caQTL-eQTL & Complex & ENSG00000137474.23 & 0 & MYO7A           & chr11 & ⋯ & 0.008016 & 0.001994 & 5.84166e-05 & 3551 & FALSE & No Colocalization & ENSG00000137474.23\\_0 & No Colocalization & Aging No Colocalization & CVPC\\_1003 Aging\\\\\n",
       "\\end{tabular}\n"
      ],
      "text/markdown": [
       "\n",
       "A data.frame: 2 × 35\n",
       "\n",
       "| <!--/--> | Tissue &lt;chr&gt; | Trait_Description &lt;chr&gt; | Trait_ID &lt;chr&gt; | Cluster_ID &lt;chr&gt; | QTL_Combination &lt;chr&gt; | Complexity &lt;chr&gt; | Element_ID &lt;chr&gt; | Condition &lt;int&gt; | Element_Name &lt;chr&gt; | Element_Chrom &lt;chr&gt; | ⋯ ⋯ | Beta.GWAS &lt;dbl&gt; | SE.GWAS &lt;dbl&gt; | Pvalue.GWAS &lt;dbl&gt; | 99Credible_Set_Size &lt;int&gt; | Colocalized &lt;lgl&gt; | GWAS_Index &lt;chr&gt; | Element_Cond &lt;chr&gt; | GWAS_QTL_Combination_Collapse &lt;chr&gt; | GWAS_ID &lt;chr&gt; | Cluster_GWAS &lt;chr&gt; |\n",
       "|---|---|---|---|---|---|---|---|---|---|---|---|---|---|---|---|---|---|---|---|---|---|\n",
       "| 1 | CVPC | Aging | timmers2020_healthspan_lifespan_longevity | CVPC_100  | caQTL-eQTL | Complex | ENSG00000287315.1  | 0 | ENSG00000287315 | chr1  | ⋯ | 0.002339 | 0.001729 | 1.76198e-01 |   11 | FALSE | No Colocalization | ENSG00000287315.1_0  | No Colocalization | Aging No Colocalization | CVPC_100 Aging  |\n",
       "| 2 | CVPC | Aging | timmers2020_healthspan_lifespan_longevity | CVPC_1003 | caQTL-eQTL | Complex | ENSG00000137474.23 | 0 | MYO7A           | chr11 | ⋯ | 0.008016 | 0.001994 | 5.84166e-05 | 3551 | FALSE | No Colocalization | ENSG00000137474.23_0 | No Colocalization | Aging No Colocalization | CVPC_1003 Aging |\n",
       "\n"
      ],
      "text/plain": [
       "  Tissue Trait_Description Trait_ID                                  Cluster_ID\n",
       "1 CVPC   Aging             timmers2020_healthspan_lifespan_longevity CVPC_100  \n",
       "2 CVPC   Aging             timmers2020_healthspan_lifespan_longevity CVPC_1003 \n",
       "  QTL_Combination Complexity Element_ID         Condition Element_Name   \n",
       "1 caQTL-eQTL      Complex    ENSG00000287315.1  0         ENSG00000287315\n",
       "2 caQTL-eQTL      Complex    ENSG00000137474.23 0         MYO7A          \n",
       "  Element_Chrom ⋯ Beta.GWAS SE.GWAS  Pvalue.GWAS 99Credible_Set_Size\n",
       "1 chr1          ⋯ 0.002339  0.001729 1.76198e-01   11               \n",
       "2 chr11         ⋯ 0.008016  0.001994 5.84166e-05 3551               \n",
       "  Colocalized GWAS_Index        Element_Cond        \n",
       "1 FALSE       No Colocalization ENSG00000287315.1_0 \n",
       "2 FALSE       No Colocalization ENSG00000137474.23_0\n",
       "  GWAS_QTL_Combination_Collapse GWAS_ID                 Cluster_GWAS   \n",
       "1 No Colocalization             Aging No Colocalization CVPC_100 Aging \n",
       "2 No Colocalization             Aging No Colocalization CVPC_1003 Aging"
      ]
     },
     "metadata": {},
     "output_type": "display_data"
    }
   ],
   "source": [
    "## Supplemental table with GWAS colocalization\n",
    "gwas_coloc = fread(\"analyses/tim/gwas_coloc/tables/Table_SX_GWAS_Colocalizations_2024_0911.txt\", data.table = F)\n",
    "colnames(gwas_coloc) = gsub(\" \",\"_\",colnames(gwas_coloc))\n",
    "gwas_coloc = gwas_coloc %>%      mutate(GWAS_ID = paste(Trait_Description, GWAS_Index),\n",
    "                                        Cluster_GWAS = paste(Cluster_ID, Trait_Description))\n",
    "\n",
    "nrow(gwas_coloc)\n",
    "head(gwas_coloc,2)"
   ]
  },
  {
   "cell_type": "code",
   "execution_count": 4,
   "metadata": {},
   "outputs": [
    {
     "data": {
      "text/html": [
       "15"
      ],
      "text/latex": [
       "15"
      ],
      "text/markdown": [
       "15"
      ],
      "text/plain": [
       "[1] 15"
      ]
     },
     "metadata": {},
     "output_type": "display_data"
    }
   ],
   "source": [
    "length(unique(gwas_coloc$Trait_Description))"
   ]
  },
  {
   "cell_type": "code",
   "execution_count": 5,
   "metadata": {},
   "outputs": [],
   "source": [
    "a = gwas_coloc %>% filter(duplicated(Cluster_GWAS))\n",
    "\n",
    "if (nrow(a) > 0)\n",
    "{\n",
    "    message(\"Error: Some clusters have multiple nominated QTLs\")\n",
    "}"
   ]
  },
  {
   "cell_type": "code",
   "execution_count": null,
   "metadata": {},
   "outputs": [],
   "source": []
  },
  {
   "cell_type": "markdown",
   "metadata": {},
   "source": [
    "## prepare data for fisher test input"
   ]
  },
  {
   "cell_type": "code",
   "execution_count": 6,
   "metadata": {},
   "outputs": [
    {
     "data": {
      "text/html": [
       "<style>\n",
       ".list-inline {list-style: none; margin:0; padding: 0}\n",
       ".list-inline>li {display: inline-block}\n",
       ".list-inline>li:not(:last-child)::after {content: \"\\00b7\"; padding: 0 .5ex}\n",
       "</style>\n",
       "<ol class=list-inline><li>'Tissue'</li><li>'Trait_Description'</li><li>'Trait_ID'</li><li>'Cluster_ID'</li><li>'QTL_Combination'</li><li>'Complexity'</li><li>'Element_ID'</li><li>'Condition'</li><li>'Element_Name'</li><li>'Element_Chrom'</li><li>'Element_Start'</li><li>'Element_End'</li><li>'Nsnps'</li><li>'PP.H0'</li><li>'PP.H1'</li><li>'PP.H2'</li><li>'PP.H3'</li><li>'PP.H4'</li><li>'Max_Hypothesis_PP'</li><li>'Likely_Colocalization_Hypothesis'</li><li>'Top_SNP_ID'</li><li>'Top_SNP_PP'</li><li>'Beta.QTL'</li><li>'SE.QTL'</li><li>'Pvalue.QTL'</li><li>'Beta.GWAS'</li><li>'SE.GWAS'</li><li>'Pvalue.GWAS'</li><li>'99Credible_Set_Size'</li><li>'Colocalized'</li><li>'GWAS_Index'</li><li>'Element_Cond'</li><li>'GWAS_QTL_Combination_Collapse'</li><li>'GWAS_ID'</li><li>'Cluster_GWAS'</li></ol>\n"
      ],
      "text/latex": [
       "\\begin{enumerate*}\n",
       "\\item 'Tissue'\n",
       "\\item 'Trait\\_Description'\n",
       "\\item 'Trait\\_ID'\n",
       "\\item 'Cluster\\_ID'\n",
       "\\item 'QTL\\_Combination'\n",
       "\\item 'Complexity'\n",
       "\\item 'Element\\_ID'\n",
       "\\item 'Condition'\n",
       "\\item 'Element\\_Name'\n",
       "\\item 'Element\\_Chrom'\n",
       "\\item 'Element\\_Start'\n",
       "\\item 'Element\\_End'\n",
       "\\item 'Nsnps'\n",
       "\\item 'PP.H0'\n",
       "\\item 'PP.H1'\n",
       "\\item 'PP.H2'\n",
       "\\item 'PP.H3'\n",
       "\\item 'PP.H4'\n",
       "\\item 'Max\\_Hypothesis\\_PP'\n",
       "\\item 'Likely\\_Colocalization\\_Hypothesis'\n",
       "\\item 'Top\\_SNP\\_ID'\n",
       "\\item 'Top\\_SNP\\_PP'\n",
       "\\item 'Beta.QTL'\n",
       "\\item 'SE.QTL'\n",
       "\\item 'Pvalue.QTL'\n",
       "\\item 'Beta.GWAS'\n",
       "\\item 'SE.GWAS'\n",
       "\\item 'Pvalue.GWAS'\n",
       "\\item '99Credible\\_Set\\_Size'\n",
       "\\item 'Colocalized'\n",
       "\\item 'GWAS\\_Index'\n",
       "\\item 'Element\\_Cond'\n",
       "\\item 'GWAS\\_QTL\\_Combination\\_Collapse'\n",
       "\\item 'GWAS\\_ID'\n",
       "\\item 'Cluster\\_GWAS'\n",
       "\\end{enumerate*}\n"
      ],
      "text/markdown": [
       "1. 'Tissue'\n",
       "2. 'Trait_Description'\n",
       "3. 'Trait_ID'\n",
       "4. 'Cluster_ID'\n",
       "5. 'QTL_Combination'\n",
       "6. 'Complexity'\n",
       "7. 'Element_ID'\n",
       "8. 'Condition'\n",
       "9. 'Element_Name'\n",
       "10. 'Element_Chrom'\n",
       "11. 'Element_Start'\n",
       "12. 'Element_End'\n",
       "13. 'Nsnps'\n",
       "14. 'PP.H0'\n",
       "15. 'PP.H1'\n",
       "16. 'PP.H2'\n",
       "17. 'PP.H3'\n",
       "18. 'PP.H4'\n",
       "19. 'Max_Hypothesis_PP'\n",
       "20. 'Likely_Colocalization_Hypothesis'\n",
       "21. 'Top_SNP_ID'\n",
       "22. 'Top_SNP_PP'\n",
       "23. 'Beta.QTL'\n",
       "24. 'SE.QTL'\n",
       "25. 'Pvalue.QTL'\n",
       "26. 'Beta.GWAS'\n",
       "27. 'SE.GWAS'\n",
       "28. 'Pvalue.GWAS'\n",
       "29. '99Credible_Set_Size'\n",
       "30. 'Colocalized'\n",
       "31. 'GWAS_Index'\n",
       "32. 'Element_Cond'\n",
       "33. 'GWAS_QTL_Combination_Collapse'\n",
       "34. 'GWAS_ID'\n",
       "35. 'Cluster_GWAS'\n",
       "\n",
       "\n"
      ],
      "text/plain": [
       " [1] \"Tissue\"                           \"Trait_Description\"               \n",
       " [3] \"Trait_ID\"                         \"Cluster_ID\"                      \n",
       " [5] \"QTL_Combination\"                  \"Complexity\"                      \n",
       " [7] \"Element_ID\"                       \"Condition\"                       \n",
       " [9] \"Element_Name\"                     \"Element_Chrom\"                   \n",
       "[11] \"Element_Start\"                    \"Element_End\"                     \n",
       "[13] \"Nsnps\"                            \"PP.H0\"                           \n",
       "[15] \"PP.H1\"                            \"PP.H2\"                           \n",
       "[17] \"PP.H3\"                            \"PP.H4\"                           \n",
       "[19] \"Max_Hypothesis_PP\"                \"Likely_Colocalization_Hypothesis\"\n",
       "[21] \"Top_SNP_ID\"                       \"Top_SNP_PP\"                      \n",
       "[23] \"Beta.QTL\"                         \"SE.QTL\"                          \n",
       "[25] \"Pvalue.QTL\"                       \"Beta.GWAS\"                       \n",
       "[27] \"SE.GWAS\"                          \"Pvalue.GWAS\"                     \n",
       "[29] \"99Credible_Set_Size\"              \"Colocalized\"                     \n",
       "[31] \"GWAS_Index\"                       \"Element_Cond\"                    \n",
       "[33] \"GWAS_QTL_Combination_Collapse\"    \"GWAS_ID\"                         \n",
       "[35] \"Cluster_GWAS\"                    "
      ]
     },
     "metadata": {},
     "output_type": "display_data"
    }
   ],
   "source": [
    "colnames(gwas_coloc)"
   ]
  },
  {
   "cell_type": "code",
   "execution_count": 7,
   "metadata": {},
   "outputs": [
    {
     "data": {
      "text/plain": [
       "\n",
       "FALSE  TRUE \n",
       "51510   695 "
      ]
     },
     "metadata": {},
     "output_type": "display_data"
    },
    {
     "data": {
      "text/html": [
       "<table class=\"dataframe\">\n",
       "<caption>A data.frame: 2 × 4</caption>\n",
       "<thead>\n",
       "\t<tr><th></th><th scope=col>Cluster_ID</th><th scope=col>QTL_Combination</th><th scope=col>Complexity</th><th scope=col>Colocalized</th></tr>\n",
       "\t<tr><th></th><th scope=col>&lt;chr&gt;</th><th scope=col>&lt;chr&gt;</th><th scope=col>&lt;chr&gt;</th><th scope=col>&lt;lgl&gt;</th></tr>\n",
       "</thead>\n",
       "<tbody>\n",
       "\t<tr><th scope=row>1</th><td>CVPC_100 </td><td>caQTL-eQTL</td><td>Complex</td><td>FALSE</td></tr>\n",
       "\t<tr><th scope=row>2</th><td>CVPC_1003</td><td>caQTL-eQTL</td><td>Complex</td><td>FALSE</td></tr>\n",
       "</tbody>\n",
       "</table>\n"
      ],
      "text/latex": [
       "A data.frame: 2 × 4\n",
       "\\begin{tabular}{r|llll}\n",
       "  & Cluster\\_ID & QTL\\_Combination & Complexity & Colocalized\\\\\n",
       "  & <chr> & <chr> & <chr> & <lgl>\\\\\n",
       "\\hline\n",
       "\t1 & CVPC\\_100  & caQTL-eQTL & Complex & FALSE\\\\\n",
       "\t2 & CVPC\\_1003 & caQTL-eQTL & Complex & FALSE\\\\\n",
       "\\end{tabular}\n"
      ],
      "text/markdown": [
       "\n",
       "A data.frame: 2 × 4\n",
       "\n",
       "| <!--/--> | Cluster_ID &lt;chr&gt; | QTL_Combination &lt;chr&gt; | Complexity &lt;chr&gt; | Colocalized &lt;lgl&gt; |\n",
       "|---|---|---|---|---|\n",
       "| 1 | CVPC_100  | caQTL-eQTL | Complex | FALSE |\n",
       "| 2 | CVPC_1003 | caQTL-eQTL | Complex | FALSE |\n",
       "\n"
      ],
      "text/plain": [
       "  Cluster_ID QTL_Combination Complexity Colocalized\n",
       "1 CVPC_100   caQTL-eQTL      Complex    FALSE      \n",
       "2 CVPC_1003  caQTL-eQTL      Complex    FALSE      "
      ]
     },
     "metadata": {},
     "output_type": "display_data"
    }
   ],
   "source": [
    "gwas_coloc2 = gwas_coloc %>% \n",
    "#     dplyr::rename(Cluster_ID = cluster_id, QTL_Combination = qtl_combo, Membership = module) %>%\n",
    "    select(Cluster_ID, QTL_Combination,  Complexity)  %>%\n",
    "    distinct()\n",
    "\n",
    "gwas_coloc2$Colocalized = ifelse(gwas_coloc2$Cluster_ID %in% gwas_coloc[gwas_coloc$Colocalized == T,]$Cluster_ID, T, F)\n",
    "\n",
    "table(gwas_coloc2$Colocalized)\n",
    "\n",
    "head(gwas_coloc2,2)"
   ]
  },
  {
   "cell_type": "markdown",
   "metadata": {},
   "source": [
    "## how many clusters per QTL combination"
   ]
  },
  {
   "cell_type": "code",
   "execution_count": 8,
   "metadata": {},
   "outputs": [
    {
     "data": {
      "text/plain": [
       "\n",
       "           caQTL       caQTL-eQTL caQTL-eQTL-haQTL      caQTL-haQTL \n",
       "           25455             1459              343             1720 \n",
       "            eQTL       eQTL-haQTL            haQTL \n",
       "           15829              391             7008 "
      ]
     },
     "metadata": {},
     "output_type": "display_data"
    }
   ],
   "source": [
    "table(gwas_coloc2$QTL_Combination)"
   ]
  },
  {
   "cell_type": "markdown",
   "metadata": {},
   "source": [
    "## check that there are no duplicate QTL clusters"
   ]
  },
  {
   "cell_type": "code",
   "execution_count": 9,
   "metadata": {},
   "outputs": [
    {
     "data": {
      "text/html": [
       "<table class=\"dataframe\">\n",
       "<caption>A data.frame: 0 × 4</caption>\n",
       "<thead>\n",
       "\t<tr><th scope=col>Cluster_ID</th><th scope=col>QTL_Combination</th><th scope=col>Complexity</th><th scope=col>Colocalized</th></tr>\n",
       "\t<tr><th scope=col>&lt;chr&gt;</th><th scope=col>&lt;chr&gt;</th><th scope=col>&lt;chr&gt;</th><th scope=col>&lt;lgl&gt;</th></tr>\n",
       "</thead>\n",
       "<tbody>\n",
       "</tbody>\n",
       "</table>\n"
      ],
      "text/latex": [
       "A data.frame: 0 × 4\n",
       "\\begin{tabular}{llll}\n",
       " Cluster\\_ID & QTL\\_Combination & Complexity & Colocalized\\\\\n",
       " <chr> & <chr> & <chr> & <lgl>\\\\\n",
       "\\hline\n",
       "\\end{tabular}\n"
      ],
      "text/markdown": [
       "\n",
       "A data.frame: 0 × 4\n",
       "\n",
       "| Cluster_ID &lt;chr&gt; | QTL_Combination &lt;chr&gt; | Complexity &lt;chr&gt; | Colocalized &lt;lgl&gt; |\n",
       "|---|---|---|---|\n",
       "\n"
      ],
      "text/plain": [
       "     Cluster_ID QTL_Combination Complexity Colocalized"
      ]
     },
     "metadata": {},
     "output_type": "display_data"
    }
   ],
   "source": [
    "gwas_coloc2 %>% filter(duplicated(Cluster_ID))"
   ]
  },
  {
   "cell_type": "markdown",
   "metadata": {},
   "source": [
    "## annotate cluster with singleton or module"
   ]
  },
  {
   "cell_type": "code",
   "execution_count": 10,
   "metadata": {},
   "outputs": [
    {
     "data": {
      "text/html": [
       "<style>\n",
       ".list-inline {list-style: none; margin:0; padding: 0}\n",
       ".list-inline>li {display: inline-block}\n",
       ".list-inline>li:not(:last-child)::after {content: \"\\00b7\"; padding: 0 .5ex}\n",
       "</style>\n",
       "<ol class=list-inline><li>'Complex caQTL-eQTL'</li><li>'Complex eQTL'</li><li>'Singleton caQTL'</li><li>'Complex eQTL-haQTL'</li><li>'Complex caQTL-haQTL'</li><li>'Complex haQTL'</li><li>'Complex caQTL-eQTL-haQTL'</li><li>'Complex caQTL'</li><li>'Singleton haQTL'</li><li>'Singleton eQTL'</li></ol>\n"
      ],
      "text/latex": [
       "\\begin{enumerate*}\n",
       "\\item 'Complex caQTL-eQTL'\n",
       "\\item 'Complex eQTL'\n",
       "\\item 'Singleton caQTL'\n",
       "\\item 'Complex eQTL-haQTL'\n",
       "\\item 'Complex caQTL-haQTL'\n",
       "\\item 'Complex haQTL'\n",
       "\\item 'Complex caQTL-eQTL-haQTL'\n",
       "\\item 'Complex caQTL'\n",
       "\\item 'Singleton haQTL'\n",
       "\\item 'Singleton eQTL'\n",
       "\\end{enumerate*}\n"
      ],
      "text/markdown": [
       "1. 'Complex caQTL-eQTL'\n",
       "2. 'Complex eQTL'\n",
       "3. 'Singleton caQTL'\n",
       "4. 'Complex eQTL-haQTL'\n",
       "5. 'Complex caQTL-haQTL'\n",
       "6. 'Complex haQTL'\n",
       "7. 'Complex caQTL-eQTL-haQTL'\n",
       "8. 'Complex caQTL'\n",
       "9. 'Singleton haQTL'\n",
       "10. 'Singleton eQTL'\n",
       "\n",
       "\n"
      ],
      "text/plain": [
       " [1] \"Complex caQTL-eQTL\"       \"Complex eQTL\"            \n",
       " [3] \"Singleton caQTL\"          \"Complex eQTL-haQTL\"      \n",
       " [5] \"Complex caQTL-haQTL\"      \"Complex haQTL\"           \n",
       " [7] \"Complex caQTL-eQTL-haQTL\" \"Complex caQTL\"           \n",
       " [9] \"Singleton haQTL\"          \"Singleton eQTL\"          "
      ]
     },
     "metadata": {},
     "output_type": "display_data"
    }
   ],
   "source": [
    "# annotate each cluster by:\n",
    "# 1. whether the cluster was a module or a singleton \n",
    "# 2. their molecular phenotypes as well\n",
    "\n",
    "gwas_coloc3 = gwas_coloc2 %>% mutate(QTL_Combination = paste(Complexity, QTL_Combination))\n",
    "\n",
    "unique(gwas_coloc3$QTL_Combination)\n"
   ]
  },
  {
   "cell_type": "code",
   "execution_count": 11,
   "metadata": {},
   "outputs": [
    {
     "data": {
      "text/html": [
       "<table class=\"dataframe\">\n",
       "<caption>A data.frame: 2 × 4</caption>\n",
       "<thead>\n",
       "\t<tr><th></th><th scope=col>Cluster_ID</th><th scope=col>QTL_Combination</th><th scope=col>Complexity</th><th scope=col>Colocalized</th></tr>\n",
       "\t<tr><th></th><th scope=col>&lt;chr&gt;</th><th scope=col>&lt;chr&gt;</th><th scope=col>&lt;chr&gt;</th><th scope=col>&lt;lgl&gt;</th></tr>\n",
       "</thead>\n",
       "<tbody>\n",
       "\t<tr><th scope=row>1</th><td>CVPC_100 </td><td>Complex caQTL-eQTL</td><td>Complex</td><td>FALSE</td></tr>\n",
       "\t<tr><th scope=row>2</th><td>CVPC_1003</td><td>Complex caQTL-eQTL</td><td>Complex</td><td>FALSE</td></tr>\n",
       "</tbody>\n",
       "</table>\n"
      ],
      "text/latex": [
       "A data.frame: 2 × 4\n",
       "\\begin{tabular}{r|llll}\n",
       "  & Cluster\\_ID & QTL\\_Combination & Complexity & Colocalized\\\\\n",
       "  & <chr> & <chr> & <chr> & <lgl>\\\\\n",
       "\\hline\n",
       "\t1 & CVPC\\_100  & Complex caQTL-eQTL & Complex & FALSE\\\\\n",
       "\t2 & CVPC\\_1003 & Complex caQTL-eQTL & Complex & FALSE\\\\\n",
       "\\end{tabular}\n"
      ],
      "text/markdown": [
       "\n",
       "A data.frame: 2 × 4\n",
       "\n",
       "| <!--/--> | Cluster_ID &lt;chr&gt; | QTL_Combination &lt;chr&gt; | Complexity &lt;chr&gt; | Colocalized &lt;lgl&gt; |\n",
       "|---|---|---|---|---|\n",
       "| 1 | CVPC_100  | Complex caQTL-eQTL | Complex | FALSE |\n",
       "| 2 | CVPC_1003 | Complex caQTL-eQTL | Complex | FALSE |\n",
       "\n"
      ],
      "text/plain": [
       "  Cluster_ID QTL_Combination    Complexity Colocalized\n",
       "1 CVPC_100   Complex caQTL-eQTL Complex    FALSE      \n",
       "2 CVPC_1003  Complex caQTL-eQTL Complex    FALSE      "
      ]
     },
     "metadata": {},
     "output_type": "display_data"
    }
   ],
   "source": [
    "head(gwas_coloc3,2)"
   ]
  },
  {
   "cell_type": "markdown",
   "metadata": {},
   "source": [
    "## add QTL modules / singletons that did not meet the 50 variant criteria for overlapping GWAS, they are annotated as not colocalized"
   ]
  },
  {
   "cell_type": "code",
   "execution_count": 12,
   "metadata": {},
   "outputs": [],
   "source": [
    "substrRight <- function(x, n){\n",
    "  substr(x, nchar(x)-n+1, nchar(x))\n",
    "}"
   ]
  },
  {
   "cell_type": "code",
   "execution_count": 13,
   "metadata": {},
   "outputs": [
    {
     "name": "stderr",
     "output_type": "stream",
     "text": [
      "# clusters total: 52374\n",
      "\n"
     ]
    }
   ],
   "source": [
    "\n",
    "mods = fread(\"analyses/tim/ld_modules/modules/all_modules_091124.txt\",sep=\"\\t\",data.table=F)\n",
    "mods$tissue_element = paste(mods$Tissue, mods$`Element ID`, sep=\"_\")\n",
    "\n",
    "message(paste(\"# clusters total:\", length(unique(mods$Cluster_ID))))\n",
    "\n",
    "# mods %>% filter(nominated == T) %>% filter(duplicated(`Cluster ID`))"
   ]
  },
  {
   "cell_type": "code",
   "execution_count": 14,
   "metadata": {},
   "outputs": [
    {
     "name": "stderr",
     "output_type": "stream",
     "text": [
      "Need to add other clusters: 169\n",
      "\n"
     ]
    }
   ],
   "source": [
    "message(paste(\"Need to add other clusters:\", length(unique(mods[!mods$Cluster_ID %in% gwas_coloc3$Cluster_ID,]$Cluster_ID))))"
   ]
  },
  {
   "cell_type": "code",
   "execution_count": 16,
   "metadata": {},
   "outputs": [
    {
     "data": {
      "text/html": [
       "169"
      ],
      "text/latex": [
       "169"
      ],
      "text/markdown": [
       "169"
      ],
      "text/plain": [
       "[1] 169"
      ]
     },
     "metadata": {},
     "output_type": "display_data"
    }
   ],
   "source": [
    "mods2 = mods %>% \n",
    "    filter(!mods$Cluster_ID %in% gwas_coloc3$Cluster_ID) %>%\n",
    "    filter(Nominated == T) %>% \n",
    "    mutate(QTL_Combination = qtl_combo, \n",
    "           Colocalized = F) %>%\n",
    "    mutate(QTL_Combination = gsub(\"eGene\", \"eQTL\", QTL_Combination)) %>%\n",
    "    mutate(QTL_Combination = gsub(\"haPeak\", \"haQTL\", QTL_Combination)) %>%\n",
    "    mutate(QTL_Combination = gsub(\"caPeak\", \"caQTL\", QTL_Combination)) %>%\n",
    "    select(Cluster_ID, QTL_Combination, Colocalized, Complexity) %>%\n",
    "    mutate(QTL_Combination = paste(Complexity, QTL_Combination)) %>%\n",
    "    distinct()\n",
    "\n",
    "length(unique(mods2$Cluster_ID))"
   ]
  },
  {
   "cell_type": "code",
   "execution_count": 17,
   "metadata": {},
   "outputs": [
    {
     "data": {
      "text/plain": [
       "\n",
       "           Complex caQTL       Complex caQTL-eQTL Complex caQTL-eQTL-haQTL \n",
       "                      14                       11                        3 \n",
       "     Complex caQTL-haQTL       Complex eQTL-haQTL            Complex haQTL \n",
       "                       5                        5                        4 \n",
       "         Singleton caQTL           Singleton eQTL          Singleton haQTL \n",
       "                      86                       17                       24 "
      ]
     },
     "metadata": {},
     "output_type": "display_data"
    }
   ],
   "source": [
    "table(mods2$QTL_Combination)"
   ]
  },
  {
   "cell_type": "code",
   "execution_count": 18,
   "metadata": {},
   "outputs": [
    {
     "data": {
      "text/plain": [
       "\n",
       "  Complex Singleton \n",
       "       42       127 "
      ]
     },
     "metadata": {},
     "output_type": "display_data"
    }
   ],
   "source": [
    "table(mods2$Complexity )\n"
   ]
  },
  {
   "cell_type": "code",
   "execution_count": 19,
   "metadata": {},
   "outputs": [],
   "source": [
    "gwas_coloc4 = rbind(gwas_coloc3, mods2) %>% distinct()"
   ]
  },
  {
   "cell_type": "code",
   "execution_count": 20,
   "metadata": {},
   "outputs": [
    {
     "data": {
      "text/plain": [
       "\n",
       "  Complex Singleton \n",
       "     5672     46702 "
      ]
     },
     "metadata": {},
     "output_type": "display_data"
    }
   ],
   "source": [
    "table(gwas_coloc4$Complexity)\n"
   ]
  },
  {
   "cell_type": "code",
   "execution_count": 21,
   "metadata": {},
   "outputs": [
    {
     "data": {
      "text/html": [
       "52374"
      ],
      "text/latex": [
       "52374"
      ],
      "text/markdown": [
       "52374"
      ],
      "text/plain": [
       "[1] 52374"
      ]
     },
     "metadata": {},
     "output_type": "display_data"
    },
    {
     "data": {
      "text/html": [
       "<table class=\"dataframe\">\n",
       "<caption>A data.frame: 0 × 4</caption>\n",
       "<thead>\n",
       "\t<tr><th scope=col>Cluster_ID</th><th scope=col>QTL_Combination</th><th scope=col>Complexity</th><th scope=col>Colocalized</th></tr>\n",
       "\t<tr><th scope=col>&lt;chr&gt;</th><th scope=col>&lt;chr&gt;</th><th scope=col>&lt;chr&gt;</th><th scope=col>&lt;lgl&gt;</th></tr>\n",
       "</thead>\n",
       "<tbody>\n",
       "</tbody>\n",
       "</table>\n"
      ],
      "text/latex": [
       "A data.frame: 0 × 4\n",
       "\\begin{tabular}{llll}\n",
       " Cluster\\_ID & QTL\\_Combination & Complexity & Colocalized\\\\\n",
       " <chr> & <chr> & <chr> & <lgl>\\\\\n",
       "\\hline\n",
       "\\end{tabular}\n"
      ],
      "text/markdown": [
       "\n",
       "A data.frame: 0 × 4\n",
       "\n",
       "| Cluster_ID &lt;chr&gt; | QTL_Combination &lt;chr&gt; | Complexity &lt;chr&gt; | Colocalized &lt;lgl&gt; |\n",
       "|---|---|---|---|\n",
       "\n"
      ],
      "text/plain": [
       "     Cluster_ID QTL_Combination Complexity Colocalized"
      ]
     },
     "metadata": {},
     "output_type": "display_data"
    }
   ],
   "source": [
    "length(unique(gwas_coloc4$Cluster_ID))\n",
    "\n",
    "gwas_coloc4 %>% filter(duplicated(Cluster_ID))"
   ]
  },
  {
   "cell_type": "code",
   "execution_count": 22,
   "metadata": {},
   "outputs": [],
   "source": [
    "gwas_coloc4$tissue = unlist(lapply(gwas_coloc4$Cluster_ID, function(x) { unlist(strsplit(x, \"_\"))[1] }))"
   ]
  },
  {
   "cell_type": "code",
   "execution_count": 23,
   "metadata": {},
   "outputs": [
    {
     "data": {
      "text/plain": [
       "\n",
       " CVPC  iPSC   PPC \n",
       "20623 17370 14381 "
      ]
     },
     "metadata": {},
     "output_type": "display_data"
    }
   ],
   "source": [
    "table(gwas_coloc4$tissue)"
   ]
  },
  {
   "cell_type": "code",
   "execution_count": 24,
   "metadata": {},
   "outputs": [
    {
     "data": {
      "text/plain": [
       "\n",
       "           Complex caQTL       Complex caQTL-eQTL Complex caQTL-eQTL-haQTL \n",
       "                     749                     1470                      346 \n",
       "     Complex caQTL-haQTL             Complex eQTL       Complex eQTL-haQTL \n",
       "                    1725                      703                      396 \n",
       "           Complex haQTL          Singleton caQTL           Singleton eQTL \n",
       "                     283                    24806                    15143 \n",
       "         Singleton haQTL \n",
       "                    6753 "
      ]
     },
     "metadata": {},
     "output_type": "display_data"
    }
   ],
   "source": [
    "gwas_coloc4$QTL_Combination = gsub(\",\",\"-\",gwas_coloc4$QTL_Combination)\n",
    "gwas_coloc4$QTL_Combination = gsub(\"caPeak\",\"caQTL\",gwas_coloc4$QTL_Combination)\n",
    "gwas_coloc4$QTL_Combination = gsub(\"haPeak\",\"haQTL\",gwas_coloc4$QTL_Combination)\n",
    "gwas_coloc4$QTL_Combination = gsub(\"eGene\",\"eQTL\",gwas_coloc4$QTL_Combination)\n",
    "\n",
    "\n",
    "\n",
    "table(gwas_coloc4$QTL_Combination)"
   ]
  },
  {
   "cell_type": "code",
   "execution_count": null,
   "metadata": {},
   "outputs": [],
   "source": []
  },
  {
   "cell_type": "markdown",
   "metadata": {},
   "source": [
    "## **test for GWAS enrichment for each tissue and all tissues**"
   ]
  },
  {
   "cell_type": "code",
   "execution_count": 25,
   "metadata": {},
   "outputs": [],
   "source": [
    "tests = as.data.frame(rbindlist(lapply(unique(gwas_coloc4$QTL_Combination), function(combo)\n",
    "{\n",
    "    as.data.frame(rbindlist(lapply(c(\"CVPC\", \"iPSC\", \"PPC\", \"All tissues\"), function(tiss)\n",
    "    {\n",
    "        if (tiss %like% \"All\")\n",
    "        {\n",
    "            this = gwas_coloc4 \n",
    "        } else\n",
    "        {\n",
    "            this = gwas_coloc4 %>% filter(tissue == tiss)\n",
    "        }\n",
    "\n",
    "        # annotation 1: Which cluster has the QTL combination label?\n",
    "        this2 = this %>% mutate(in_cluster = ifelse(QTL_Combination == combo, T, F))\n",
    "\n",
    "        # annotation 2: Which cluster colocalized with at least one GWAS trait (already done)\n",
    "\n",
    "        # fisher test\n",
    "        if (length(unique(this2$in_cluster)) == 2 & length(unique(this2$Colocalized)) == 2)\n",
    "        {\n",
    "            test = fisher.test(table(this2$Colocalized, this2$in_cluster))\n",
    "            f1 = length(unique(this2[this2$in_cluster == T & this2$Colocalized == T,]$Cluster_ID)) / length(unique(this2[this2$in_cluster == T,]$Cluster_ID)) * 100\n",
    "            f2 = length(unique(this2[this2$in_cluster == F & this2$Colocalized == T,]$Cluster_ID)) / length(unique(this2[this2$in_cluster == F,]$Cluster_ID)) * 100\n",
    "\n",
    "            # out\n",
    "            data.frame(qtl_combo = combo, \n",
    "                       tissue = tiss,\n",
    "                       estimate = test$estimate, \n",
    "                       pval = test$p.value, \n",
    "                       ci1 = test$conf.int[1], \n",
    "                       ci2 = test$conf.int[2], \n",
    "                       in_frac = f1, \n",
    "                       ot_frac = f2)\n",
    "        }\n",
    "    })))\n",
    "        \n",
    "}))) %>% arrange(desc(estimate)) %>% mutate(qval = p.adjust(pval, \"BH\"))  \n",
    "\n",
    "tests$logci1 = log2(tests$ci1)\n",
    "tests$logci2 = log2(tests$ci2)\n",
    "tests$is_sig = ifelse(tests$pval <= 0.05 & (tests$logci1 * tests$logci2) > 0 & !is.infinite(tests$logci1) & !is.infinite(tests$logci2), T, F)\n"
   ]
  },
  {
   "cell_type": "code",
   "execution_count": 28,
   "metadata": {},
   "outputs": [],
   "source": [
    "fwrite(tests,\"~/projects/Resource/notebooks/toGitHub/sourcedata/SOURCEDATA.FIGURE5B.txt\",sep=\"\\t\",row.names=F,quote=F)"
   ]
  },
  {
   "cell_type": "code",
   "execution_count": null,
   "metadata": {},
   "outputs": [],
   "source": []
  },
  {
   "cell_type": "code",
   "execution_count": 26,
   "metadata": {},
   "outputs": [
    {
     "data": {
      "image/png": "[encoded data removed]",
      "text/plain": [
       "plot without title"
      ]
     },
     "metadata": {
      "image/png": {
       "height": 360,
       "width": 225
      }
     },
     "output_type": "display_data"
    }
   ],
   "source": [
    "# plot \"all\" only\n",
    "psize(w = 7.5, h = 8)\n",
    "toplot = tests\n",
    "order = tests %>% filter(tissue %like% \"All\") %>% arrange(log2(estimate))\n",
    "order = rev(order$qtl_combo)\n",
    "toplot$qtl_combo = factor(toplot$qtl_combo, levels = order)\n",
    "toplot$is_sig = ifelse(toplot$is_sig == F, \"Not Significant\", \"Significant\")\n",
    "# toplot$is_sig = factor(toplot$is_sig, levels = c(\"Significant\",\"Not Significant\"))\n",
    "psize(3.75,6)\n",
    "# png(\"~/projects/Resource/notebooks/toGitHub/figures/figure5b_v2.png\", res =300, units =\"in\", height =6,width=3.75)\n",
    "ggplot(toplot %>% filter(tissue %like% \"All\"), aes(x = qtl_combo, y = log2(estimate), color = is_sig)) + \n",
    "    geom_point(size = 3) + \n",
    "#     facet_wrap(.~tissue, nrow = 1, scales = \"free_x\") + \n",
    "    jn_classic + \n",
    "    theme(axis.text.x = element_text(angle = 90, hjust = 1, vjust = 0.5),\n",
    "          strip.text = element_text(size = 12),\n",
    "          legend.position = \"top\"\n",
    "         ) + \n",
    "    geom_hline(yintercept = 0, linetype = \"dashed\") + \n",
    "    xlab(\"\") + ylim(-1.5, 2.5) + \n",
    "    scale_color_manual(values = c(\"gray\", \"black\"), name = \"\") +\n",
    "    geom_segment(data = toplot %>% filter(tissue %like% \"All\" & is_sig == \"Not Significant\"), aes(x = qtl_combo, xend = qtl_combo, y = logci1, yend = logci2), color = \"grey\") + \n",
    "    geom_segment(data = toplot %>% filter(tissue %like% \"All\" & is_sig == \"Significant\"), aes(x = qtl_combo, xend = qtl_combo, y = logci1, yend = logci2), color = \"black\")  + \n",
    "    ylab(\"log2(OR)\")\n",
    "# dev.off()"
   ]
  },
  {
   "cell_type": "code",
   "execution_count": 177,
   "metadata": {},
   "outputs": [
    {
     "data": {
      "text/html": [
       "<strong>png:</strong> 2"
      ],
      "text/latex": [
       "\\textbf{png:} 2"
      ],
      "text/markdown": [
       "**png:** 2"
      ],
      "text/plain": [
       "png \n",
       "  2 "
      ]
     },
     "metadata": {},
     "output_type": "display_data"
    }
   ],
   "source": [
    "# plot all tissues\n",
    "png(\"~/projects/Resource/notebooks/toGitHub/figures/suppgwasenrich_v2.png\",\n",
    "   units=\"in\",res=300,height=5,width=7)\n",
    "psize(w = 7, h = 5)\n",
    "toplot = tests[ tests$tissue != \"All tissues\",]\n",
    "toplot$qtl_combo = gsub(\"Module\",\"Complex\",toplot$qtl_combo)\n",
    "order = tests %>% filter(tissue %like% \"All\") %>% arrange(log2(estimate))\n",
    "order2 = gsub(\"Module\",\"Complex\",rev(order$qtl_combo))\n",
    "toplot$qtl_combo = factor(toplot$qtl_combo, levels = order2)\n",
    "toplot$tissue = factor(toplot$tissue, levels = c(\"iPSC\",\"CVPC\",\"PPC\"))\n",
    "toplot$logci1[ toplot$logci1 < -3 ] =-3\n",
    "toplot$logci2[ toplot$logci2 > 3 ] =3\n",
    "toplot$is_sig = ifelse(toplot$is_sig == F, \"Not Significant\", \"Significant\")\n",
    "ggplot(toplot, aes(x = qtl_combo, y = log2(estimate), color = is_sig)) + \n",
    "    geom_point(size = 3) + \n",
    "    facet_wrap(.~tissue, nrow = 1, scales = \"free_x\") + \n",
    "    theme_bw2 + \n",
    "    theme(axis.text.x = element_text(angle = 90, hjust = 1, vjust = 0.5),\n",
    "          strip.text = element_text(size = 10), legend.title=element_blank()) + \n",
    "    geom_hline(yintercept = 0, linetype = \"dashed\") + \n",
    "    xlab(\"\") + ylim(-3,3) + \n",
    "    scale_color_manual(values = c(\"gray\", \"black\")) +\n",
    "    geom_segment(data = toplot %>% filter(is_sig == \"Not Significant\"), aes(x = qtl_combo, xend = qtl_combo, y = logci1, yend = logci2), color = \"grey\") + \n",
    "    geom_segment(data = toplot %>% filter(is_sig == \"Significant\"), aes(x = qtl_combo, xend = qtl_combo, y = logci1, yend = logci2), color = \"black\") +\n",
    "    ylab(\"log2(OR)\") \n",
    "dev.off()"
   ]
  },
  {
   "cell_type": "code",
   "execution_count": null,
   "metadata": {},
   "outputs": [],
   "source": []
  },
  {
   "cell_type": "code",
   "execution_count": null,
   "metadata": {},
   "outputs": [],
   "source": []
  }
 ],
 "metadata": {
  "kernelspec": {
   "display_name": "R 4.2.1",
   "language": "R",
   "name": "ir421"
  },
  "language_info": {
   "codemirror_mode": "r",
   "file_extension": ".r",
   "mimetype": "text/x-r-source",
   "name": "R",
   "pygments_lexer": "r",
   "version": "4.2.1"
  }
 },
 "nbformat": 4,
 "nbformat_minor": 2
}
