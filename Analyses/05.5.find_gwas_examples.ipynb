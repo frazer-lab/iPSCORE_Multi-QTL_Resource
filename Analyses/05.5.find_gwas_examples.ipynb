{
 "cells": [
  {
   "cell_type": "markdown",
   "metadata": {},
   "source": [
    "### Load packages and functions"
   ]
  },
  {
   "cell_type": "code",
   "execution_count": 2,
   "metadata": {},
   "outputs": [],
   "source": [
    "function_path=\"path_to_functions.R\"\n",
    "wd_path=\"path_to_wd\"\n",
    "setwd(wd_path)\n",
    "source(function_path)\n",
    "\n",
    "set.seed(5366)"
   ]
  },
  {
   "cell_type": "markdown",
   "metadata": {},
   "source": [
    "\n",
    "### Load QTL info and GWAS colocalization summaries"
   ]
  },
  {
   "cell_type": "code",
   "execution_count": 8,
   "metadata": {},
   "outputs": [],
   "source": [
    "\n",
    "qtl_module_path = \"path_qtl_modules\"#Supplemental Table X\n",
    "manifest_path = \"path_to_manifest\" #Subsetted UK Biobank manifest\n",
    "coloc_summary_path = \"path_to_coloc_summaries\" ### Found on Figshare\n",
    "gene_info_path=\"path_gencode_gene_coordinates\"\n"
   ]
  },
  {
   "cell_type": "code",
   "execution_count": 9,
   "metadata": {},
   "outputs": [
    {
     "data": {
      "text/html": [
       "<table class=\"dataframe\">\n",
       "<caption>A data.frame: 6 × 6</caption>\n",
       "<thead>\n",
       "\t<tr><th></th><th scope=col>trait_type</th><th scope=col>coding_description</th><th scope=col>description</th><th scope=col>trait_id</th><th scope=col>filename</th><th scope=col>exists</th></tr>\n",
       "\t<tr><th></th><th scope=col>&lt;chr&gt;</th><th scope=col>&lt;lgl&gt;</th><th scope=col>&lt;chr&gt;</th><th scope=col>&lt;chr&gt;</th><th scope=col>&lt;chr&gt;</th><th scope=col>&lt;lgl&gt;</th></tr>\n",
       "</thead>\n",
       "<tbody>\n",
       "\t<tr><th scope=row>1</th><td>continuous</td><td>NA</td><td>Healthspan            </td><td>healthspan_summary                       </td><td>/projects/CARDIPS/analysis/epigenome_resource/analyses/tim/gwas_liftover/hg38_summary_statistics/healthspan_summary.hg38.tsv.gz                        </td><td>TRUE</td></tr>\n",
       "\t<tr><th scope=row>2</th><td>continuous</td><td>NA</td><td>Longevity             </td><td>lifegen_phase2_bothpl_alldr_2017_09_18   </td><td>/projects/CARDIPS/analysis/epigenome_resource/analyses/tim/gwas_liftover/hg38_summary_statistics/lifegen_phase2_bothpl_alldr_2017_09_18.hg38.tsv.gz    </td><td>TRUE</td></tr>\n",
       "\t<tr><th scope=row>3</th><td>continuous</td><td>NA</td><td>Multivariate Longevity</td><td>timmers2020_healthspan_lifespan_longevity</td><td>/projects/CARDIPS/analysis/epigenome_resource/analyses/tim/gwas_liftover/hg38_summary_statistics/timmers2020_healthspan_lifespan_longevity.hg38.tsv.gz </td><td>TRUE</td></tr>\n",
       "\t<tr><th scope=row>4</th><td>continuous</td><td>NA</td><td>HDL cholesterol       </td><td>biomarkers-30760-both_sexes-irnt.meta    </td><td>/projects/CARDIPS/analysis/epigenome_resource/analyses/jennifer/gwas_liftover/hg38_summary_statistics/biomarkers-30760-both_sexes-irnt.meta.hg38.tsv.gz</td><td>TRUE</td></tr>\n",
       "\t<tr><th scope=row>5</th><td>continuous</td><td>NA</td><td>LDL direct            </td><td>biomarkers-30780-both_sexes-irnt.meta    </td><td>/projects/CARDIPS/analysis/epigenome_resource/analyses/jennifer/gwas_liftover/hg38_summary_statistics/biomarkers-30780-both_sexes-irnt.meta.hg38.tsv.gz</td><td>TRUE</td></tr>\n",
       "\t<tr><th scope=row>6</th><td>continuous</td><td>NA</td><td>birth weight (eur)    </td><td>BW3_EUR_summary_stats                    </td><td>/projects/CARDIPS/analysis/epigenome_resource/analyses/jennifer/gwas_liftover/hg38_summary_statistics/BW3_EUR_summary_stats.hg38.tsv.gz                </td><td>TRUE</td></tr>\n",
       "</tbody>\n",
       "</table>\n"
      ],
      "text/latex": [
       "A data.frame: 6 × 6\n",
       "\\begin{tabular}{r|llllll}\n",
       "  & trait\\_type & coding\\_description & description & trait\\_id & filename & exists\\\\\n",
       "  & <chr> & <lgl> & <chr> & <chr> & <chr> & <lgl>\\\\\n",
       "\\hline\n",
       "\t1 & continuous & NA & Healthspan             & healthspan\\_summary                        & /projects/CARDIPS/analysis/epigenome\\_resource/analyses/tim/gwas\\_liftover/hg38\\_summary\\_statistics/healthspan\\_summary.hg38.tsv.gz                         & TRUE\\\\\n",
       "\t2 & continuous & NA & Longevity              & lifegen\\_phase2\\_bothpl\\_alldr\\_2017\\_09\\_18    & /projects/CARDIPS/analysis/epigenome\\_resource/analyses/tim/gwas\\_liftover/hg38\\_summary\\_statistics/lifegen\\_phase2\\_bothpl\\_alldr\\_2017\\_09\\_18.hg38.tsv.gz     & TRUE\\\\\n",
       "\t3 & continuous & NA & Multivariate Longevity & timmers2020\\_healthspan\\_lifespan\\_longevity & /projects/CARDIPS/analysis/epigenome\\_resource/analyses/tim/gwas\\_liftover/hg38\\_summary\\_statistics/timmers2020\\_healthspan\\_lifespan\\_longevity.hg38.tsv.gz  & TRUE\\\\\n",
       "\t4 & continuous & NA & HDL cholesterol        & biomarkers-30760-both\\_sexes-irnt.meta     & /projects/CARDIPS/analysis/epigenome\\_resource/analyses/jennifer/gwas\\_liftover/hg38\\_summary\\_statistics/biomarkers-30760-both\\_sexes-irnt.meta.hg38.tsv.gz & TRUE\\\\\n",
       "\t5 & continuous & NA & LDL direct             & biomarkers-30780-both\\_sexes-irnt.meta     & /projects/CARDIPS/analysis/epigenome\\_resource/analyses/jennifer/gwas\\_liftover/hg38\\_summary\\_statistics/biomarkers-30780-both\\_sexes-irnt.meta.hg38.tsv.gz & TRUE\\\\\n",
       "\t6 & continuous & NA & birth weight (eur)     & BW3\\_EUR\\_summary\\_stats                     & /projects/CARDIPS/analysis/epigenome\\_resource/analyses/jennifer/gwas\\_liftover/hg38\\_summary\\_statistics/BW3\\_EUR\\_summary\\_stats.hg38.tsv.gz                 & TRUE\\\\\n",
       "\\end{tabular}\n"
      ],
      "text/markdown": [
       "\n",
       "A data.frame: 6 × 6\n",
       "\n",
       "| <!--/--> | trait_type &lt;chr&gt; | coding_description &lt;lgl&gt; | description &lt;chr&gt; | trait_id &lt;chr&gt; | filename &lt;chr&gt; | exists &lt;lgl&gt; |\n",
       "|---|---|---|---|---|---|---|\n",
       "| 1 | continuous | NA | Healthspan             | healthspan_summary                        | /projects/CARDIPS/analysis/epigenome_resource/analyses/tim/gwas_liftover/hg38_summary_statistics/healthspan_summary.hg38.tsv.gz                         | TRUE |\n",
       "| 2 | continuous | NA | Longevity              | lifegen_phase2_bothpl_alldr_2017_09_18    | /projects/CARDIPS/analysis/epigenome_resource/analyses/tim/gwas_liftover/hg38_summary_statistics/lifegen_phase2_bothpl_alldr_2017_09_18.hg38.tsv.gz     | TRUE |\n",
       "| 3 | continuous | NA | Multivariate Longevity | timmers2020_healthspan_lifespan_longevity | /projects/CARDIPS/analysis/epigenome_resource/analyses/tim/gwas_liftover/hg38_summary_statistics/timmers2020_healthspan_lifespan_longevity.hg38.tsv.gz  | TRUE |\n",
       "| 4 | continuous | NA | HDL cholesterol        | biomarkers-30760-both_sexes-irnt.meta     | /projects/CARDIPS/analysis/epigenome_resource/analyses/jennifer/gwas_liftover/hg38_summary_statistics/biomarkers-30760-both_sexes-irnt.meta.hg38.tsv.gz | TRUE |\n",
       "| 5 | continuous | NA | LDL direct             | biomarkers-30780-both_sexes-irnt.meta     | /projects/CARDIPS/analysis/epigenome_resource/analyses/jennifer/gwas_liftover/hg38_summary_statistics/biomarkers-30780-both_sexes-irnt.meta.hg38.tsv.gz | TRUE |\n",
       "| 6 | continuous | NA | birth weight (eur)     | BW3_EUR_summary_stats                     | /projects/CARDIPS/analysis/epigenome_resource/analyses/jennifer/gwas_liftover/hg38_summary_statistics/BW3_EUR_summary_stats.hg38.tsv.gz                 | TRUE |\n",
       "\n"
      ],
      "text/plain": [
       "  trait_type coding_description description           \n",
       "1 continuous NA                 Healthspan            \n",
       "2 continuous NA                 Longevity             \n",
       "3 continuous NA                 Multivariate Longevity\n",
       "4 continuous NA                 HDL cholesterol       \n",
       "5 continuous NA                 LDL direct            \n",
       "6 continuous NA                 birth weight (eur)    \n",
       "  trait_id                                 \n",
       "1 healthspan_summary                       \n",
       "2 lifegen_phase2_bothpl_alldr_2017_09_18   \n",
       "3 timmers2020_healthspan_lifespan_longevity\n",
       "4 biomarkers-30760-both_sexes-irnt.meta    \n",
       "5 biomarkers-30780-both_sexes-irnt.meta    \n",
       "6 BW3_EUR_summary_stats                    \n",
       "  filename                                                                                                                                               \n",
       "1 /projects/CARDIPS/analysis/epigenome_resource/analyses/tim/gwas_liftover/hg38_summary_statistics/healthspan_summary.hg38.tsv.gz                        \n",
       "2 /projects/CARDIPS/analysis/epigenome_resource/analyses/tim/gwas_liftover/hg38_summary_statistics/lifegen_phase2_bothpl_alldr_2017_09_18.hg38.tsv.gz    \n",
       "3 /projects/CARDIPS/analysis/epigenome_resource/analyses/tim/gwas_liftover/hg38_summary_statistics/timmers2020_healthspan_lifespan_longevity.hg38.tsv.gz \n",
       "4 /projects/CARDIPS/analysis/epigenome_resource/analyses/jennifer/gwas_liftover/hg38_summary_statistics/biomarkers-30760-both_sexes-irnt.meta.hg38.tsv.gz\n",
       "5 /projects/CARDIPS/analysis/epigenome_resource/analyses/jennifer/gwas_liftover/hg38_summary_statistics/biomarkers-30780-both_sexes-irnt.meta.hg38.tsv.gz\n",
       "6 /projects/CARDIPS/analysis/epigenome_resource/analyses/jennifer/gwas_liftover/hg38_summary_statistics/BW3_EUR_summary_stats.hg38.tsv.gz                \n",
       "  exists\n",
       "1 TRUE  \n",
       "2 TRUE  \n",
       "3 TRUE  \n",
       "4 TRUE  \n",
       "5 TRUE  \n",
       "6 TRUE  "
      ]
     },
     "metadata": {},
     "output_type": "display_data"
    }
   ],
   "source": [
    "mods = fread(qtl_module_path,sep=\"\\t\",data.table=F)\n",
    "manifest = fread(manifest_path, data.table = F)\n",
    "geneinfo = fread(gene_info_path)\n",
    "\n",
    "gwas_coloc = fread(\"analyses/tim/gwas_coloc/results/all_results.2024_0911.txt\", data.table = F) \n",
    "gwas_summary = fread(coloc_summary_path,sep=\"\\t\",data.table=F)\n",
    "### this file contains a column with the path to QTL summary statistics used for GWAS coloc\n",
    "qtls = fread(\"analyses/tim/gwas_coloc/scripts/qtls_090424.txt\",sep=\"\\t\",data.table=F) \n",
    "\n",
    "manifest$trait_id = NULL\n",
    "names(manifest)[4] = \"trait_id\"\n",
    "gwas_summary2 = merge(gwas_summary, manifest[,c(\"trait_id\",\"description\")])\n"
   ]
  },
  {
   "cell_type": "markdown",
   "metadata": {},
   "source": [
    "### Get QTL Summary Statistics"
   ]
  },
  {
   "cell_type": "code",
   "execution_count": 13,
   "metadata": {},
   "outputs": [],
   "source": [
    "plink=\"/frazer01/software/plink-1.90b3x/plink\"\n",
    "basedir=\"/projects/CARDIPS/analysis/epigenome_resource\"\n",
    "\n",
    "get_qtl_sumstats = function(cluster, trait, tissue) {\n",
    "    qtl4gwas = qtls[ qtls$element_id %in% mods$Element_ID [ mods$Cluster_ID == cluster] & qtls$tissue == tissue,]\n",
    "    elements = qtl4gwas$element_id\n",
    "    nominated = mods$Element_ID[ mods$Cluster_ID == cluster & mods$Nominated == \"TRUE\"]\n",
    "\n",
    "    paths = qtl4gwas$path\n",
    "    qtl_stats = rbindlist(lapply(paths,function(p){\n",
    "        if(grepl(\"step_4\",p)) {\n",
    "\n",
    "            out = fread(p,sep=\"\\t\") %>% filter(type == 0 ) %>% select(chrom,pos,ref,alt,rsid,id, pval,element_id)\n",
    "        } else {\n",
    "\n",
    "            out = fread(p,sep=\"\\t\")  %>% select(chrom,pos,ref,alt,rsid,id, pval,element_id)\n",
    "        }\n",
    "        out$snp_id = gsub(\"VAR_\",\"\",out$id)\n",
    "        return(out)\n",
    "    }))\n",
    "\n",
    "    topsnp = gsub(\"VAR_\",\"\",gwas_summary2$topsnp[ gwas_summary2$description %like% trait & gwas_summary2$element_id == nominated])\n",
    "\n",
    "    qtl_stats$topsnp = ifelse(qtl_stats$snp_id == topsnp, \"TRUE\",\"FALSE\")\n",
    "    qtl_stats$snp_id = gsub(\"VAR_\",\"\",qtl_stats$id)\n",
    "\n",
    "    \n",
    "    return(qtl_stats)\n",
    "}\n",
    "cvpc274_stats = as.data.frame(get_qtl_sumstats(\"CVPC_274\",\"QRS duration\",\"CVPC\"))\n",
    "ppc122_stats = as.data.frame(get_qtl_sumstats(\"PPC_122\",\"type 2 diabetes\",\"PPC\"))\n"
   ]
  },
  {
   "cell_type": "markdown",
   "metadata": {},
   "source": [
    "### Extract region from GWAS summary statistics"
   ]
  },
  {
   "cell_type": "code",
   "execution_count": 14,
   "metadata": {},
   "outputs": [
    {
     "name": "stderr",
     "output_type": "stream",
     "text": [
      "chr7:26831935-29180776\n",
      "\n",
      "/frazer01/software/plink-1.90b3x/plink --extract /projects/CARDIPS/analysis/epigenome_resource/analyses/tim/gwas_example/PPC_122/snps.txt --bfile /projects/CARDIPS/analysis/epigenome_resource//analyses/jennifer/gwas_independent/reference/chr7.renamed --out /projects/CARDIPS/analysis/epigenome_resource/analyses/tim/gwas_example/PPC_122/PPC_122 --make-bed\n",
      "\n",
      "/frazer01/software/plink-1.90b3x/plink --bfile /projects/CARDIPS/analysis/epigenome_resource/analyses/tim/gwas_example/PPC_122/PPC_122 --r2 --ld-window-r2 0 --ld-window 99999 --ld-window-kb 10000 --out /projects/CARDIPS/analysis/epigenome_resource/analyses/tim/gwas_example/PPC_122/PPC_122\n",
      "\n",
      "chr13:73840707-74046101\n",
      "\n",
      "/frazer01/software/plink-1.90b3x/plink --extract /projects/CARDIPS/analysis/epigenome_resource/analyses/tim/gwas_example/CVPC_274/snps.txt --bfile /projects/CARDIPS/analysis/epigenome_resource//analyses/jennifer/gwas_independent/reference/chr13.renamed --out /projects/CARDIPS/analysis/epigenome_resource/analyses/tim/gwas_example/CVPC_274/CVPC_274 --make-bed\n",
      "\n",
      "/frazer01/software/plink-1.90b3x/plink --bfile /projects/CARDIPS/analysis/epigenome_resource/analyses/tim/gwas_example/CVPC_274/CVPC_274 --r2 --ld-window-r2 0 --ld-window 99999 --ld-window-kb 10000 --out /projects/CARDIPS/analysis/epigenome_resource/analyses/tim/gwas_example/CVPC_274/CVPC_274\n",
      "\n"
     ]
    }
   ],
   "source": [
    "tabix=\"/frazer01/software/htslib-1.9/tabix\"\n",
    "\n",
    "diabetes=paste0(basedir,\"/analyses/jennifer/gwas_liftover/hg38_summary_statistics/Mahajan.NatGenet2018b.T2D.European_sorted.hg38.tsv.gz\")\n",
    "qrs=paste0(basedir,\"/analyses/jennifer/gwas_liftover/hg38_summary_statistics/continuous-12340-both_sexes-irnt.meta.hg38.tsv.gz\")\n",
    "\n",
    "extract_gwas = function(qtl_stats,cluster,gwas_path ) {\n",
    "    region=paste0(unique(qtl_stats$chrom),\":\",min(qtl_stats$pos),\"-\",max(qtl_stats$pos))\n",
    "    message(region)\n",
    "    outdir=paste0(basedir,\"/analyses/tim/gwas_example/\",cluster)\n",
    "    outfile = paste0(outdir,\"/gwas_stats.txt\")\n",
    "#     cmd = paste(tabix,\n",
    "#                 \"-s1 -b2 -e2 -h\",\n",
    "#                 gwas_path,\n",
    "#                 region, \">\", outfile)\n",
    "    cols = fread(cmd = paste(\"gunzip -c\",\n",
    "                gwas_path, \"| head -n 1\"))\n",
    "    gwas_stats = fread(cmd = paste(tabix,\n",
    "                \"-s1 -b2 -e2 -h\",\n",
    "                gwas_path,\n",
    "                region))\n",
    "    colnames(gwas_stats) = colnames(cols)\n",
    "    gwas_stats$a2a1 = paste(gsub(\"chr\",\"\",gwas_stats$chr), gwas_stats$pos, gwas_stats$a2, gwas_stats$a1, sep=\"_\")\n",
    "    gwas_stats$a1a2 = paste(gsub(\"chr\",\"\",gwas_stats$chr), gwas_stats$pos, gwas_stats$a1, gwas_stats$a2, sep=\"_\")\n",
    "    snps = unique(c(qtl_stats$snp_id,gwas_stats$a2a1,gwas_stats$a1a2))\n",
    "    \n",
    "    writeLines(snps,paste0(outdir,\"/snps.txt\"))\n",
    "    \n",
    "    reference = paste(basedir,\"/analyses/jennifer/gwas_independent/reference\", paste0(unique(qtl_stats$chrom),\".renamed\"), sep = \"/\")\n",
    "    cmd1 = paste(plink,\n",
    "                \"--extract\", paste0(outdir,\"/snps.txt\"),\n",
    "                \"--bfile\", reference,\n",
    "                \"--out\", paste0(outdir,\"/\",cluster), \"--make-bed\")\n",
    "    message(cmd1)\n",
    "    system(cmd1)\n",
    "    \n",
    "    cmd2 = paste(plink,\n",
    "                \"--bfile\", paste0(outdir,\"/\",cluster),\n",
    "                \"--r2 --ld-window-r2 0 --ld-window 99999 --ld-window-kb 10000\",\n",
    "                \"--out\", paste0(outdir,\"/\",cluster))\n",
    "    \n",
    "    message(cmd2)\n",
    "    system(cmd2)\n",
    "    return(gwas_stats)\n",
    "\n",
    "}\n",
    "\n",
    "t2d_stats = extract_gwas(ppc122_stats,\"PPC_122\",diabetes)\n",
    "qrs_stats = extract_gwas(cvpc274_stats,\"CVPC_274\",qrs)\n",
    "\n"
   ]
  },
  {
   "cell_type": "code",
   "execution_count": 15,
   "metadata": {},
   "outputs": [],
   "source": [
    "qrs_stats$snp_id = qrs_stats$a1a2\n",
    "qrs_stats2 = qrs_stats[,c(\"chr\",\"pos\",\"a1\",\"a2\",\"p\",\"snp_id\") ]\n",
    "colnames(qrs_stats2) = c(\"chrom\",\"pos\",\"ref\",\"alt\",\"pval\",\"snp_id\")\n",
    "\n",
    "## harmonize t2d stats\n",
    "a2a1 = t2d_stats[ t2d_stats$a2a1 %in% ppc122_stats$snp_id,]\n",
    "a2a1$snp_id = a2a1$a2a1\n",
    "a2a1 = a2a1[,c(\"chr\",\"pos\",\"a2\",\"a1\",\"p\",\"snp_id\") ]\n",
    "colnames(a2a1) = c(\"chrom\",\"pos\",\"ref\",\"alt\",\"pval\",\"snp_id\")\n",
    "a1a2 = t2d_stats[ t2d_stats$a1a2 %in% ppc122_stats$snp_id,]\n",
    "a1a2$snp_id = a1a2$a1a2\n",
    "a1a2 = a1a2[,c(\"chr\",\"pos\",\"a1\",\"a2\",\"p\",\"snp_id\") ]\n",
    "colnames(a1a2) = c(\"chrom\",\"pos\",\"ref\",\"alt\",\"pval\",\"snp_id\")\n",
    "\n",
    "t2d_stats2 = rbind(a2a1, a1a2)"
   ]
  },
  {
   "cell_type": "code",
   "execution_count": 16,
   "metadata": {},
   "outputs": [
    {
     "ename": "ERROR",
     "evalue": "Error in head(cvpc_man): object 'cvpc_man' not found\n",
     "output_type": "error",
     "traceback": [
      "Error in head(cvpc_man): object 'cvpc_man' not found\nTraceback:\n",
      "1. head(cvpc_man)"
     ]
    }
   ],
   "source": [
    "plot_manhattan = function(cluster, qtl_stats, gwas_stats,gwas_name) {\n",
    "    cluster_ld = fread(paste0(\"analyses/tim/gwas_example/\",cluster,\"/\",cluster,\".ld\"),sep=\" \",data.table=F) %>% \n",
    "                    filter(SNP_A %in% gwas_stats$snp_id & SNP_B %in% gwas_stats$snp_id)\n",
    "    \n",
    "    snps       = fread(paste0(\"analyses/tim/gwas_example/\",cluster,\"/snps.txt\"),sep=\" \",data.table=F, header=F)\n",
    "    topsnp     = unique(qtl_stats$snp_id[ qtl_stats$topsnp == \"TRUE\"])\n",
    "    cluster_ld = cluster_ld[ cluster_ld$SNP_A == topsnp | cluster_ld$SNP_B == topsnp , ]\n",
    "    cluster_ld$snp_id = ifelse(cluster_ld$SNP_A == topsnp , cluster_ld$SNP_B, cluster_ld$SNP_A)\n",
    "    cluster_ld$R2[ cluster_ld$snp_id == topsnp] = 1\n",
    "\n",
    "\n",
    "    cluster_ld = merge(qtl_stats,cluster_ld[,c(\"snp_id\",\"R2\")],by=\"snp_id\", all.x=T)\n",
    "\n",
    "    gwas_stats$element_id = gwas_name\n",
    "    gwas_stats$type = \"GWAS\"\n",
    "    \n",
    "    qtl2bind = qtl_stats[,c(\"chrom\",\"pos\",\"ref\",\"alt\",\"pval\",\"snp_id\",\"element_id\")]\n",
    "    qtl2bind$type = ifelse(grepl(\"^E\",qtl2bind$element_id), \"eQTL\",\n",
    "                           ifelse(grepl(\"atac\",qtl2bind$element_id), \"caQTL\",\"haQTL\"))\n",
    "\n",
    "    \n",
    "    manhattan_df = as.data.frame(rbind(gwas_stats,qtl2bind))\n",
    "\n",
    "    manhattan_df = unique(merge(manhattan_df,cluster_ld[,c(\"snp_id\",\"R2\")],by=\"snp_id\"))\n",
    "    manhattan_df$topsnp_pos = as.numeric(gsub(\"_\",\"\",str_extract(topsnp,\"_[0-9]*_\")))\n",
    "    manhattan_df$R2[ manhattan_df$pos == manhattan_df$topsnp_pos ] = 1\n",
    "\n",
    "    manhattan_df$LD_group = ifelse(manhattan_df$R2 <= 0.2, \"0-0.2\", NA)\n",
    "    manhattan_df$LD_group = ifelse(manhattan_df$R2 > 0.2 & manhattan_df$R2 <= 0.4, \"0.2-0.4\", manhattan_df$LD_group)\n",
    "    manhattan_df$LD_group = ifelse(manhattan_df$R2 > 0.4 & manhattan_df$R2 <= 0.6, \"0.4-0.6\", manhattan_df$LD_group)\n",
    "    manhattan_df$LD_group = ifelse(manhattan_df$R2 > 0.6 & manhattan_df$R2 <= 0.8, \"0.6-0.8\", manhattan_df$LD_group)\n",
    "    manhattan_df$LD_group = ifelse(manhattan_df$R2 > 0.8, \"0.8-1.0\", manhattan_df$LD_group)\n",
    "    \n",
    "    manhattan_df$color = ifelse(manhattan_df$LD_group == \"0-0.2\",\"darkblue\",\n",
    "                        ifelse(manhattan_df$LD_group == \"0.2-0.4\",\"#94cdd5\",\n",
    "                              ifelse(manhattan_df$LD_group == \"0.4-0.6\",\"green\",\n",
    "                                    ifelse(manhattan_df$LD_group == \"0.6-0.8\",\"orange\",\"red\"))))\n",
    "\n",
    "   \n",
    "   \n",
    "    return(manhattan_df[ complete.cases(manhattan_df),])\n",
    "}\n",
    "\n",
    "cvpc274_man = plot_manhattan(\"CVPC_274\", cvpc274_stats, qrs_stats2, \"QRS Duration\")\n",
    "ppc122_man  = plot_manhattan(\"PPC_122\", ppc122_stats, t2d_stats2, \"Type 2 Diabetes\")\n",
    "\n"
   ]
  },
  {
   "cell_type": "code",
   "execution_count": 18,
   "metadata": {},
   "outputs": [],
   "source": [
    "fwrite(cvpc274_man, \"~/projects/Resource/iPSCORE_Multi-QTL_Resource/SourceData/SOURCEDATA.FIGURE6C.txt\",sep=\"\\t\",row.names=F,quote=F)\n",
    "fwrite(ppc122_man, \"~/projects/Resource/iPSCORE_Multi-QTL_Resource/SourceData/SOURCEDATA.FIGURE6E.txt\",sep=\"\\t\",row.names=F,quote=F)"
   ]
  }
 ],
 "metadata": {
  "kernelspec": {
   "display_name": "R 4.2.1",
   "language": "R",
   "name": "ir421"
  },
  "language_info": {
   "codemirror_mode": "r",
   "file_extension": ".r",
   "mimetype": "text/x-r-source",
   "name": "R",
   "pygments_lexer": "r",
   "version": "4.2.1"
  }
 },
 "nbformat": 4,
 "nbformat_minor": 2
}
