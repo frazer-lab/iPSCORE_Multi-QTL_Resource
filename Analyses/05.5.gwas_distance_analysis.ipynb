{
 "cells": [
  {
   "cell_type": "code",
   "execution_count": 3,
   "metadata": {},
   "outputs": [],
   "source": [
    "source(\"~/software/notebook_assist/packages.R\")\n",
    "source(\"~/software/notebook_assist/functions.R\")\n",
    "\n",
    "setwd(\"/projects/CARDIPS/analysis/epigenome_resource\")\n",
    "library(readxl)\n",
    "\n",
    "set.seed(5366)"
   ]
  },
  {
   "cell_type": "code",
   "execution_count": 4,
   "metadata": {},
   "outputs": [],
   "source": [
    "### Read in GWAS coloc results from Supplemental table 5\n",
    "table_s5 = read_xlsx(\"~/projects/Resource/RevisionTables/TableS5.xlsx\",sheet = 2) "
   ]
  },
  {
   "cell_type": "code",
   "execution_count": 66,
   "metadata": {},
   "outputs": [],
   "source": [
    "table_s5$chrom = paste0(\"chr\",str_extract(table_s5$GWAS_Index,\"^[0-9]+\"))\n",
    "table_s5$start = as.numeric(gsub(\"_\",\"\",str_extract(table_s5$GWAS_Index,\"_[0-9]+_\"))) - 1\n",
    "table_s5$end = as.numeric(gsub(\"_\",\"\",str_extract(table_s5$GWAS_Index,\"_[0-9]+_\")))\n",
    "table_s5$trait_index = paste(table_s5$Trait_Description, table_s5$GWAS_Index)\n",
    "\n",
    "table_s5_collapse = as.data.frame(rbindlist(lapply(unique(table_s5$trait_index), function(ti){\n",
    "    out = table_s5[ table_s5$trait_index == ti, ]\n",
    "    out$qtl_collapse = paste(unique(sort(unlist(strsplit(unique(out$QTL_Combo),split = \"-\")))), collapse=\",\")\n",
    "    return(out)\n",
    "})))\n",
    "\n",
    "gwas_index_bed = unique(table_s5_collapse %>% \n",
    "                        select(chrom, start, end, trait_index,qtl_collapse,Colocalized)) %>% \n",
    "                            arrange(chrom,start,end)\n",
    "index_file = \"/projects/CARDIPS/analysis/epigenome_resource/analyses/tim/gwas_coloc2/gwas_qtl_distance/gwas_index2.bed\"\n",
    "fwrite(gwas_index_bed, index_file, sep=\"\\t\",quote=F,row.names = F,col.names = F)"
   ]
  },
  {
   "cell_type": "code",
   "execution_count": 67,
   "metadata": {},
   "outputs": [
    {
     "data": {
      "text/html": [
       "<style>\n",
       ".list-inline {list-style: none; margin:0; padding: 0}\n",
       ".list-inline>li {display: inline-block}\n",
       ".list-inline>li:not(:last-child)::after {content: \"\\00b7\"; padding: 0 .5ex}\n",
       "</style>\n",
       "<ol class=list-inline><li>'caQTL'</li><li>'caQTL,eQTL'</li><li>'caQTL,haQTL'</li><li>'eQTL'</li><li>'haQTL'</li><li>'eQTL,haQTL'</li><li>'caQTL,eQTL,haQTL'</li><li>'NA'</li></ol>\n"
      ],
      "text/latex": [
       "\\begin{enumerate*}\n",
       "\\item 'caQTL'\n",
       "\\item 'caQTL,eQTL'\n",
       "\\item 'caQTL,haQTL'\n",
       "\\item 'eQTL'\n",
       "\\item 'haQTL'\n",
       "\\item 'eQTL,haQTL'\n",
       "\\item 'caQTL,eQTL,haQTL'\n",
       "\\item 'NA'\n",
       "\\end{enumerate*}\n"
      ],
      "text/markdown": [
       "1. 'caQTL'\n",
       "2. 'caQTL,eQTL'\n",
       "3. 'caQTL,haQTL'\n",
       "4. 'eQTL'\n",
       "5. 'haQTL'\n",
       "6. 'eQTL,haQTL'\n",
       "7. 'caQTL,eQTL,haQTL'\n",
       "8. 'NA'\n",
       "\n",
       "\n"
      ],
      "text/plain": [
       "[1] \"caQTL\"            \"caQTL,eQTL\"       \"caQTL,haQTL\"      \"eQTL\"            \n",
       "[5] \"haQTL\"            \"eQTL,haQTL\"       \"caQTL,eQTL,haQTL\" \"NA\"              "
      ]
     },
     "metadata": {},
     "output_type": "display_data"
    }
   ],
   "source": [
    "unique(table_s5_collapse$qtl_collapse)"
   ]
  },
  {
   "cell_type": "code",
   "execution_count": 68,
   "metadata": {},
   "outputs": [],
   "source": [
    "gencode = fread(\"/reference/private/Gencode.v44lift38/gene_info.txt\",sep=\"\\t\",data.table=F) %>% \n",
    "            filter(gene_type == \"protein_coding\") %>% \n",
    "            mutate(tss_start = ifelse(strand == \"+\", start - 1, end ),\n",
    "                  tss_end = ifelse(strand == \"+\", start, end + 1 )) %>%\n",
    "            select(chrom, tss_start, tss_end, gene_id, gene_name) %>% \n",
    "            arrange(chrom, tss_start, tss_end)\n",
    "\n",
    "\n",
    "tss_file = \"/projects/CARDIPS/analysis/epigenome_resource/analyses/tim/gwas_coloc2/gwas_qtl_distance/tss.bed\"\n",
    "fwrite(gencode, tss_file, sep=\"\\t\",quote=F,row.names = F,col.names = F)\n",
    "bedtools=\"/frazer01/software/bedtools-2.25.0/bin/bedtools\"\n",
    "\n",
    "cmd = paste(bedtools, \"closest -a\", index_file, \"-b\",tss_file, \"-d\")\n",
    "gwas_closest = unique(fread(cmd = cmd, data.table =F) %>% select(V4, V5,V6,V12))\n",
    "colnames(gwas_closest) = c(\"trait_index\",\"qtl_collapse\",\"coloced\",\"distance\")\n",
    "fwrite(gwas_closest,\"~/projects/Resource/iPSCORE_Multi-QTL_Resource/SourceData/SOURCEDATA.FIGURE5CD.txt\",sep=\"\\t\",quote=F,row.names=F)"
   ]
  },
  {
   "cell_type": "code",
   "execution_count": null,
   "metadata": {},
   "outputs": [],
   "source": []
  }
 ],
 "metadata": {
  "kernelspec": {
   "display_name": "R 4.0.1",
   "language": "R",
   "name": "ir40"
  },
  "language_info": {
   "codemirror_mode": "r",
   "file_extension": ".r",
   "mimetype": "text/x-r-source",
   "name": "R",
   "pygments_lexer": "r",
   "version": "4.0.1"
  }
 },
 "nbformat": 4,
 "nbformat_minor": 2
}
