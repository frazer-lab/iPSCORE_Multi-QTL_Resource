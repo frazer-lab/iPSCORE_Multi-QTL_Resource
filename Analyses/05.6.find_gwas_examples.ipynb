{
 "cells": [
  {
   "cell_type": "markdown",
   "metadata": {},
   "source": [
    "### Load packages and functions"
   ]
  },
  {
   "cell_type": "code",
   "execution_count": 2,
   "metadata": {},
   "outputs": [],
   "source": [
    "function_path=\"analyses/jennifer/notebooks/functions.R\"\n",
    "wd_path=\"/projects/CARDIPS/analysis/epigenome_resource\"\n",
    "setwd(wd_path)\n",
    "source(function_path)\n",
    "library(MotifDb)\n",
    "library(seqLogo)\n",
    "set.seed(5366)"
   ]
  },
  {
   "cell_type": "code",
   "execution_count": 3,
   "metadata": {},
   "outputs": [],
   "source": [
    "library(readxl)"
   ]
  },
  {
   "cell_type": "markdown",
   "metadata": {},
   "source": [
    "\n",
    "### Load QTL info and GWAS colocalization summaries"
   ]
  },
  {
   "cell_type": "code",
   "execution_count": 4,
   "metadata": {},
   "outputs": [],
   "source": [
    "\n",
    "qtl_module_path = \"~/projects/Resource/RevisionTables/TableS4.xlsx\"#Supplemental Table 4\n",
    "manifest_path = \"analyses/tim/gwas_coloc/scripts/manifest_subset.txt\" #Subsetted UK Biobank manifest\n",
    "coloc_summary_path = \"~/projects/Resource/Figshare/all.gwas_summary.2024_0925.txt\" ### Found on Figshare\n",
    "gene_info_path=\"/reference/private/Gencode.v44lift38/gene_info.txt\"\n"
   ]
  },
  {
   "cell_type": "code",
   "execution_count": 5,
   "metadata": {},
   "outputs": [],
   "source": [
    "mods = as.data.frame(read_xlsx(qtl_module_path) %>% filter(QTL_Order == \"Primary\"))\n",
    "\n",
    "manifest = fread(manifest_path, data.table = F)\n",
    "\n",
    "geneinfo = fread(gene_info_path)\n",
    "\n",
    "gwas_coloc = fread(\"analyses/tim/gwas_coloc/results/all_results.2024_0911.txt\", data.table = F) \n",
    "gwas_summary = fread(coloc_summary_path,sep=\"\\t\",data.table=F)\n",
    "# ### this file contains a column with the path to QTL summary statistics used for GWAS coloc\n",
    "# qtls = fread(\"analyses/tim/gwas_coloc/scripts/qtls_090424.txt\",sep=\"\\t\",data.table=F) \n",
    "\n",
    "\n",
    "gwas_summary2 = merge(gwas_summary, manifest[,c(\"full_trait_id\",\"description\")])\n"
   ]
  },
  {
   "cell_type": "code",
   "execution_count": 7,
   "metadata": {},
   "outputs": [],
   "source": [
    "\n",
    "\n",
    "mods$path = paste0(paste0(tolower(mods$QTL_Type),\"s\"),\"/\",\n",
    "                  mods$Tissue,\"/step_4/qtl_by_element/qtl/qtl.\",mods$Element_ID,\".txt\")\n",
    "mods$path = ifelse(mods$Regressed == \"TRUE\",gsub(\"step_4\",\"step_5\",mods$path),mods$path)\n"
   ]
  },
  {
   "cell_type": "code",
   "execution_count": 83,
   "metadata": {},
   "outputs": [
    {
     "data": {
      "text/html": [],
      "text/latex": [],
      "text/markdown": [],
      "text/plain": [
       "character(0)"
      ]
     },
     "metadata": {},
     "output_type": "display_data"
    }
   ],
   "source": [
    "setdiff(gwas_summary$full_trait_id,manifest$full_trait_id)"
   ]
  },
  {
   "cell_type": "markdown",
   "metadata": {},
   "source": [
    "### Get QTL Summary Statistics"
   ]
  },
  {
   "cell_type": "code",
   "execution_count": 8,
   "metadata": {},
   "outputs": [
    {
     "data": {
      "text/html": [
       "15"
      ],
      "text/latex": [
       "15"
      ],
      "text/markdown": [
       "15"
      ],
      "text/plain": [
       "[1] 15"
      ]
     },
     "metadata": {},
     "output_type": "display_data"
    }
   ],
   "source": [
    "length(unique(gwas_summary2$full_trait_id))\n"
   ]
  },
  {
   "cell_type": "code",
   "execution_count": 9,
   "metadata": {},
   "outputs": [],
   "source": [
    "plink=\"/frazer01/software/plink-1.90b3x/plink\"\n",
    "basedir=\"/projects/CARDIPS/analysis/epigenome_resource\"\n",
    "\n",
    "get_qtl_sumstats = function(cluster, trait, tissue) {\n",
    "    qtl4gwas = mods[ mods$Cluster_ID == cluster,]\n",
    "    elements = qtl4gwas$Element_ID\n",
    "    nominated = mods$Element_ID[ mods$Cluster_ID == cluster & mods$Nominated == \"TRUE\"]\n",
    "    \n",
    "    paths = qtl4gwas$path\n",
    "\n",
    "\n",
    "    qtl_stats = rbindlist(lapply(paths,function(p){\n",
    "        if(grepl(\"step_4\",p)) {\n",
    "\n",
    "            out = fread(p,sep=\"\\t\") %>% filter(type == 0 ) %>% select(chrom,pos,ref,alt,rsid,id, pval,element_id)\n",
    "        } else {\n",
    "\n",
    "            out = fread(p,sep=\"\\t\")  %>% select(chrom,pos,ref,alt,rsid,id, pval,element_id)\n",
    "        }\n",
    "        out$snp_id = gsub(\"VAR_\",\"\",out$id)\n",
    "        return(out)\n",
    "    }))\n",
    "\n",
    "    topsnp = gsub(\"VAR_\",\"\",gwas_summary2$topsnp[ gwas_summary2$description %like% trait & gwas_summary2$element_id == nominated])\n",
    "\n",
    "    qtl_stats$topsnp = ifelse(qtl_stats$snp_id == topsnp, \"TRUE\",\"FALSE\")\n",
    "    qtl_stats$snp_id = gsub(\"VAR_\",\"\",qtl_stats$id)\n",
    "\n",
    "    \n",
    "    return(qtl_stats)\n",
    "}\n",
    "cvpc274_stats = as.data.frame(get_qtl_sumstats(\"CVPC_274\",\"QRS duration\",\"CVPC\"))\n",
    "ppc122_stats = as.data.frame(get_qtl_sumstats(\"PPC_122\",\"type 2 diabetes\",\"PPC\"))\n"
   ]
  },
  {
   "cell_type": "code",
   "execution_count": null,
   "metadata": {},
   "outputs": [],
   "source": []
  },
  {
   "cell_type": "markdown",
   "metadata": {},
   "source": [
    "### Extract region from GWAS summary statistics"
   ]
  },
  {
   "cell_type": "code",
   "execution_count": 24,
   "metadata": {},
   "outputs": [
    {
     "name": "stderr",
     "output_type": "stream",
     "text": [
      "chr7:26831935-29180776\n",
      "\n",
      "/frazer01/software/plink-1.90b3x/plink --extract /projects/CARDIPS/analysis/epigenome_resource/analyses/tim/gwas_example/PPC_122/snps.txt --bfile /projects/CARDIPS/analysis/epigenome_resource//analyses/jennifer/gwas_independent/reference/chr7.renamed --out /projects/CARDIPS/analysis/epigenome_resource/analyses/tim/gwas_example/PPC_122/PPC_122 --make-bed\n",
      "\n",
      "/frazer01/software/plink-1.90b3x/plink --bfile /projects/CARDIPS/analysis/epigenome_resource/analyses/tim/gwas_example/PPC_122/PPC_122 --r2 --ld-window-r2 0 --ld-window 99999 --ld-window-kb 10000 --out /projects/CARDIPS/analysis/epigenome_resource/analyses/tim/gwas_example/PPC_122/PPC_122\n",
      "\n",
      "chr13:73840707-74046101\n",
      "\n",
      "/frazer01/software/plink-1.90b3x/plink --extract /projects/CARDIPS/analysis/epigenome_resource/analyses/tim/gwas_example/CVPC_274/snps.txt --bfile /projects/CARDIPS/analysis/epigenome_resource//analyses/jennifer/gwas_independent/reference/chr13.renamed --out /projects/CARDIPS/analysis/epigenome_resource/analyses/tim/gwas_example/CVPC_274/CVPC_274 --make-bed\n",
      "\n",
      "/frazer01/software/plink-1.90b3x/plink --bfile /projects/CARDIPS/analysis/epigenome_resource/analyses/tim/gwas_example/CVPC_274/CVPC_274 --r2 --ld-window-r2 0 --ld-window 99999 --ld-window-kb 10000 --out /projects/CARDIPS/analysis/epigenome_resource/analyses/tim/gwas_example/CVPC_274/CVPC_274\n",
      "\n"
     ]
    }
   ],
   "source": [
    "tabix=\"/frazer01/software/htslib-1.9/tabix\"\n",
    "\n",
    "diabetes=paste0(basedir,\"/analyses/jennifer/gwas_liftover/hg38_summary_statistics/Mahajan.NatGenet2018b.T2D.European_sorted.hg38.tsv.gz\")\n",
    "qrs=paste0(basedir,\"/analyses/jennifer/gwas_liftover/hg38_summary_statistics/continuous-12340-both_sexes-irnt.meta.hg38.tsv.gz\")\n",
    "\n",
    "extract_gwas = function(qtl_stats,cluster,gwas_path ) {\n",
    "    region=paste0(unique(qtl_stats$chrom),\":\",min(qtl_stats$pos),\"-\",max(qtl_stats$pos))\n",
    "    message(region)\n",
    "    outdir=paste0(basedir,\"/analyses/tim/gwas_example/\",cluster)\n",
    "    outfile = paste0(outdir,\"/gwas_stats.txt\")\n",
    "#     cmd = paste(tabix,\n",
    "#                 \"-s1 -b2 -e2 -h\",\n",
    "#                 gwas_path,\n",
    "#                 region, \">\", outfile)\n",
    "    cols = fread(cmd = paste(\"gunzip -c\",\n",
    "                gwas_path, \"| head -n 1\"))\n",
    "    gwas_stats = fread(cmd = paste(tabix,\n",
    "                \"-s1 -b2 -e2 -h\",\n",
    "                gwas_path,\n",
    "                region))\n",
    "    colnames(gwas_stats) = colnames(cols)\n",
    "    gwas_stats$a2a1 = paste(gsub(\"chr\",\"\",gwas_stats$chr), gwas_stats$pos, gwas_stats$a2, gwas_stats$a1, sep=\"_\")\n",
    "    gwas_stats$a1a2 = paste(gsub(\"chr\",\"\",gwas_stats$chr), gwas_stats$pos, gwas_stats$a1, gwas_stats$a2, sep=\"_\")\n",
    "    snps = unique(c(qtl_stats$snp_id,gwas_stats$a2a1,gwas_stats$a1a2))\n",
    "    \n",
    "    writeLines(snps,paste0(outdir,\"/snps.txt\"))\n",
    "    \n",
    "    reference = paste(basedir,\"/analyses/jennifer/gwas_independent/reference\", paste0(unique(qtl_stats$chrom),\".renamed\"), sep = \"/\")\n",
    "    cmd1 = paste(plink,\n",
    "                \"--extract\", paste0(outdir,\"/snps.txt\"),\n",
    "                \"--bfile\", reference,\n",
    "                \"--out\", paste0(outdir,\"/\",cluster), \"--make-bed\")\n",
    "    message(cmd1)\n",
    "    system(cmd1)\n",
    "    \n",
    "    cmd2 = paste(plink,\n",
    "                \"--bfile\", paste0(outdir,\"/\",cluster),\n",
    "                \"--r2 --ld-window-r2 0 --ld-window 99999 --ld-window-kb 10000\",\n",
    "                \"--out\", paste0(outdir,\"/\",cluster))\n",
    "    \n",
    "    message(cmd2)\n",
    "    system(cmd2)\n",
    "    return(gwas_stats)\n",
    "\n",
    "}\n",
    "\n",
    "t2d_stats = extract_gwas(ppc122_stats,\"PPC_122\",diabetes)\n",
    "qrs_stats = extract_gwas(cvpc274_stats,\"CVPC_274\",qrs)\n",
    "\n"
   ]
  },
  {
   "cell_type": "code",
   "execution_count": null,
   "metadata": {},
   "outputs": [],
   "source": []
  },
  {
   "cell_type": "code",
   "execution_count": 25,
   "metadata": {},
   "outputs": [],
   "source": [
    "qrs_stats$snp_id = qrs_stats$a1a2\n",
    "qrs_stats2 = qrs_stats[,c(\"chr\",\"pos\",\"a1\",\"a2\",\"p\",\"snp_id\") ]\n",
    "colnames(qrs_stats2) = c(\"chrom\",\"pos\",\"ref\",\"alt\",\"pval\",\"snp_id\")\n",
    "\n",
    "## harmonize t2d stats\n",
    "a2a1 = t2d_stats[ t2d_stats$a2a1 %in% ppc122_stats$snp_id,]\n",
    "a2a1$snp_id = a2a1$a2a1\n",
    "a2a1 = a2a1[,c(\"chr\",\"pos\",\"a2\",\"a1\",\"p\",\"snp_id\") ]\n",
    "colnames(a2a1) = c(\"chrom\",\"pos\",\"ref\",\"alt\",\"pval\",\"snp_id\")\n",
    "a1a2 = t2d_stats[ t2d_stats$a1a2 %in% ppc122_stats$snp_id,]\n",
    "a1a2$snp_id = a1a2$a1a2\n",
    "a1a2 = a1a2[,c(\"chr\",\"pos\",\"a1\",\"a2\",\"p\",\"snp_id\") ]\n",
    "colnames(a1a2) = c(\"chrom\",\"pos\",\"ref\",\"alt\",\"pval\",\"snp_id\")\n",
    "\n",
    "t2d_stats2 = rbind(a2a1, a1a2)"
   ]
  },
  {
   "cell_type": "code",
   "execution_count": 26,
   "metadata": {},
   "outputs": [],
   "source": [
    "plot_manhattan = function(cluster, qtl_stats, gwas_stats,gwas_name) {\n",
    "    cluster_ld = fread(paste0(\"analyses/tim/gwas_example/\",cluster,\"/\",cluster,\".ld\"),sep=\" \",data.table=F) %>% \n",
    "                    filter(SNP_A %in% gwas_stats$snp_id & SNP_B %in% gwas_stats$snp_id)\n",
    "    \n",
    "    snps       = fread(paste0(\"analyses/tim/gwas_example/\",cluster,\"/snps.txt\"),sep=\" \",data.table=F, header=F)\n",
    "    topsnp     = unique(qtl_stats$snp_id[ qtl_stats$topsnp == \"TRUE\"])\n",
    "    cluster_ld = cluster_ld[ cluster_ld$SNP_A == topsnp | cluster_ld$SNP_B == topsnp , ]\n",
    "    cluster_ld$snp_id = ifelse(cluster_ld$SNP_A == topsnp , cluster_ld$SNP_B, cluster_ld$SNP_A)\n",
    "    cluster_ld$R2[ cluster_ld$snp_id == topsnp] = 1\n",
    "\n",
    "\n",
    "    cluster_ld = merge(qtl_stats,cluster_ld[,c(\"snp_id\",\"R2\")],by=\"snp_id\", all.x=T)\n",
    "\n",
    "    gwas_stats$element_id = gwas_name\n",
    "    gwas_stats$type = \"GWAS\"\n",
    "    \n",
    "    qtl2bind = qtl_stats[,c(\"chrom\",\"pos\",\"ref\",\"alt\",\"pval\",\"snp_id\",\"element_id\")]\n",
    "    qtl2bind$type = ifelse(grepl(\"^E\",qtl2bind$element_id), \"eQTL\",\n",
    "                           ifelse(grepl(\"atac\",qtl2bind$element_id), \"caQTL\",\"haQTL\"))\n",
    "\n",
    "    \n",
    "    manhattan_df = as.data.frame(rbind(gwas_stats,qtl2bind))\n",
    "\n",
    "    manhattan_df = unique(merge(manhattan_df,cluster_ld[,c(\"snp_id\",\"R2\")],by=\"snp_id\"))\n",
    "    manhattan_df$topsnp_pos = as.numeric(gsub(\"_\",\"\",str_extract(topsnp,\"_[0-9]*_\")))\n",
    "    manhattan_df$R2[ manhattan_df$pos == manhattan_df$topsnp_pos ] = 1\n",
    "\n",
    "    manhattan_df$LD_group = ifelse(manhattan_df$R2 <= 0.2, \"0-0.2\", NA)\n",
    "    manhattan_df$LD_group = ifelse(manhattan_df$R2 > 0.2 & manhattan_df$R2 <= 0.4, \"0.2-0.4\", manhattan_df$LD_group)\n",
    "    manhattan_df$LD_group = ifelse(manhattan_df$R2 > 0.4 & manhattan_df$R2 <= 0.6, \"0.4-0.6\", manhattan_df$LD_group)\n",
    "    manhattan_df$LD_group = ifelse(manhattan_df$R2 > 0.6 & manhattan_df$R2 <= 0.8, \"0.6-0.8\", manhattan_df$LD_group)\n",
    "    manhattan_df$LD_group = ifelse(manhattan_df$R2 > 0.8, \"0.8-1.0\", manhattan_df$LD_group)\n",
    "    \n",
    "    manhattan_df$color = ifelse(manhattan_df$LD_group == \"0-0.2\",\"darkblue\",\n",
    "                        ifelse(manhattan_df$LD_group == \"0.2-0.4\",\"#94cdd5\",\n",
    "                              ifelse(manhattan_df$LD_group == \"0.4-0.6\",\"green\",\n",
    "                                    ifelse(manhattan_df$LD_group == \"0.6-0.8\",\"orange\",\"red\"))))\n",
    "\n",
    "   \n",
    "   \n",
    "    return(manhattan_df[ complete.cases(manhattan_df),])\n",
    "}\n",
    "\n",
    "cvpc274_man = plot_manhattan(\"CVPC_274\", cvpc274_stats, qrs_stats2, \"QRS Duration\")\n",
    "ppc122_man  = plot_manhattan(\"PPC_122\", ppc122_stats, t2d_stats2, \"Type 2 Diabetes\")\n",
    "\n"
   ]
  },
  {
   "cell_type": "code",
   "execution_count": null,
   "metadata": {},
   "outputs": [],
   "source": []
  },
  {
   "cell_type": "code",
   "execution_count": 27,
   "metadata": {},
   "outputs": [],
   "source": [
    "fwrite(cvpc274_man, \"~/projects/Resource/iPSCORE_Multi-QTL_Resource/SourceData/SOURCEDATA.FIGURES11.txt\",sep=\"\\t\",row.names=F,quote=F)\n",
    "fwrite(ppc122_man, \"~/projects/Resource/iPSCORE_Multi-QTL_Resource/SourceData/SOURCEDATA.FIGURE6C.txt\",sep=\"\\t\",row.names=F,quote=F)"
   ]
  },
  {
   "cell_type": "code",
   "execution_count": 104,
   "metadata": {},
   "outputs": [
    {
     "data": {
      "text/html": [
       "<style>\n",
       ".list-inline {list-style: none; margin:0; padding: 0}\n",
       ".list-inline>li {display: inline-block}\n",
       ".list-inline>li:not(:last-child)::after {content: \"\\00b7\"; padding: 0 .5ex}\n",
       "</style>\n",
       "<ol class=list-inline><li>'full_trait_id'</li><li>'description'</li><li>'tissue_element'</li><li>'element_id'</li><li>'element_chr'</li><li>'element_start'</li><li>'element_end'</li><li>'element_name'</li><li>'element_strand'</li><li>'analysis'</li><li>'tissue'</li><li>'qtl_id'</li><li>'type'</li><li>'nsnps'</li><li>'PP.H0.abf'</li><li>'PP.H1.abf'</li><li>'PP.H2.abf'</li><li>'PP.H3.abf'</li><li>'PP.H4.abf'</li><li>'max_model_pp'</li><li>'likely_model'</li><li>'ntopsnp'</li><li>'topsnp'</li><li>'topsnp_pp'</li><li>'beta.eqtl'</li><li>'se.eqtl'</li><li>'p.eqtl'</li><li>'beta.gwas'</li><li>'se.gwas'</li><li>'p.gwas'</li><li>'bonferroni.eqtl'</li><li>'cs_size'</li><li>'trait_id'</li><li>'Cluster_ID'</li><li>'Tissue'</li><li>'Complexity'</li><li>'qtl_combo'</li><li>'Nominated'</li><li>'coloc_gwas'</li><li>'cluster_gwas'</li></ol>\n"
      ],
      "text/latex": [
       "\\begin{enumerate*}\n",
       "\\item 'full\\_trait\\_id'\n",
       "\\item 'description'\n",
       "\\item 'tissue\\_element'\n",
       "\\item 'element\\_id'\n",
       "\\item 'element\\_chr'\n",
       "\\item 'element\\_start'\n",
       "\\item 'element\\_end'\n",
       "\\item 'element\\_name'\n",
       "\\item 'element\\_strand'\n",
       "\\item 'analysis'\n",
       "\\item 'tissue'\n",
       "\\item 'qtl\\_id'\n",
       "\\item 'type'\n",
       "\\item 'nsnps'\n",
       "\\item 'PP.H0.abf'\n",
       "\\item 'PP.H1.abf'\n",
       "\\item 'PP.H2.abf'\n",
       "\\item 'PP.H3.abf'\n",
       "\\item 'PP.H4.abf'\n",
       "\\item 'max\\_model\\_pp'\n",
       "\\item 'likely\\_model'\n",
       "\\item 'ntopsnp'\n",
       "\\item 'topsnp'\n",
       "\\item 'topsnp\\_pp'\n",
       "\\item 'beta.eqtl'\n",
       "\\item 'se.eqtl'\n",
       "\\item 'p.eqtl'\n",
       "\\item 'beta.gwas'\n",
       "\\item 'se.gwas'\n",
       "\\item 'p.gwas'\n",
       "\\item 'bonferroni.eqtl'\n",
       "\\item 'cs\\_size'\n",
       "\\item 'trait\\_id'\n",
       "\\item 'Cluster\\_ID'\n",
       "\\item 'Tissue'\n",
       "\\item 'Complexity'\n",
       "\\item 'qtl\\_combo'\n",
       "\\item 'Nominated'\n",
       "\\item 'coloc\\_gwas'\n",
       "\\item 'cluster\\_gwas'\n",
       "\\end{enumerate*}\n"
      ],
      "text/markdown": [
       "1. 'full_trait_id'\n",
       "2. 'description'\n",
       "3. 'tissue_element'\n",
       "4. 'element_id'\n",
       "5. 'element_chr'\n",
       "6. 'element_start'\n",
       "7. 'element_end'\n",
       "8. 'element_name'\n",
       "9. 'element_strand'\n",
       "10. 'analysis'\n",
       "11. 'tissue'\n",
       "12. 'qtl_id'\n",
       "13. 'type'\n",
       "14. 'nsnps'\n",
       "15. 'PP.H0.abf'\n",
       "16. 'PP.H1.abf'\n",
       "17. 'PP.H2.abf'\n",
       "18. 'PP.H3.abf'\n",
       "19. 'PP.H4.abf'\n",
       "20. 'max_model_pp'\n",
       "21. 'likely_model'\n",
       "22. 'ntopsnp'\n",
       "23. 'topsnp'\n",
       "24. 'topsnp_pp'\n",
       "25. 'beta.eqtl'\n",
       "26. 'se.eqtl'\n",
       "27. 'p.eqtl'\n",
       "28. 'beta.gwas'\n",
       "29. 'se.gwas'\n",
       "30. 'p.gwas'\n",
       "31. 'bonferroni.eqtl'\n",
       "32. 'cs_size'\n",
       "33. 'trait_id'\n",
       "34. 'Cluster_ID'\n",
       "35. 'Tissue'\n",
       "36. 'Complexity'\n",
       "37. 'qtl_combo'\n",
       "38. 'Nominated'\n",
       "39. 'coloc_gwas'\n",
       "40. 'cluster_gwas'\n",
       "\n",
       "\n"
      ],
      "text/plain": [
       " [1] \"full_trait_id\"   \"description\"     \"tissue_element\"  \"element_id\"     \n",
       " [5] \"element_chr\"     \"element_start\"   \"element_end\"     \"element_name\"   \n",
       " [9] \"element_strand\"  \"analysis\"        \"tissue\"          \"qtl_id\"         \n",
       "[13] \"type\"            \"nsnps\"           \"PP.H0.abf\"       \"PP.H1.abf\"      \n",
       "[17] \"PP.H2.abf\"       \"PP.H3.abf\"       \"PP.H4.abf\"       \"max_model_pp\"   \n",
       "[21] \"likely_model\"    \"ntopsnp\"         \"topsnp\"          \"topsnp_pp\"      \n",
       "[25] \"beta.eqtl\"       \"se.eqtl\"         \"p.eqtl\"          \"beta.gwas\"      \n",
       "[29] \"se.gwas\"         \"p.gwas\"          \"bonferroni.eqtl\" \"cs_size\"        \n",
       "[33] \"trait_id\"        \"Cluster_ID\"      \"Tissue\"          \"Complexity\"     \n",
       "[37] \"qtl_combo\"       \"Nominated\"       \"coloc_gwas\"      \"cluster_gwas\"   "
      ]
     },
     "metadata": {},
     "output_type": "display_data"
    },
    {
     "data": {
      "text/html": [
       "<table class=\"dataframe\">\n",
       "<caption>A data.frame: 4 × 5</caption>\n",
       "<thead>\n",
       "\t<tr><th></th><th scope=col>element_id</th><th scope=col>topsnp</th><th scope=col>topsnp_pp</th><th scope=col>PP.H4.abf</th><th scope=col>Nominated</th></tr>\n",
       "\t<tr><th></th><th scope=col>&lt;chr&gt;</th><th scope=col>&lt;chr&gt;</th><th scope=col>&lt;dbl&gt;</th><th scope=col>&lt;dbl&gt;</th><th scope=col>&lt;lgl&gt;</th></tr>\n",
       "</thead>\n",
       "<tbody>\n",
       "\t<tr><th scope=row>175666</th><td>cvpc_chip_peak_17305</td><td>VAR_13_73937854_G_C</td><td>0.3182383</td><td>0.9926283</td><td> TRUE</td></tr>\n",
       "\t<tr><th scope=row>184774</th><td>cvpc_chip_peak_17304</td><td>VAR_13_73937854_G_C</td><td>0.3135846</td><td>0.9962955</td><td>FALSE</td></tr>\n",
       "\t<tr><th scope=row>186759</th><td>cvpc_atac_peak_73241</td><td>VAR_13_73937854_G_C</td><td>0.3737284</td><td>0.9963989</td><td>FALSE</td></tr>\n",
       "\t<tr><th scope=row>188050</th><td>cvpc_chip_peak_17303</td><td>VAR_13_73937854_G_C</td><td>0.3046845</td><td>0.7390419</td><td>FALSE</td></tr>\n",
       "</tbody>\n",
       "</table>\n"
      ],
      "text/latex": [
       "A data.frame: 4 × 5\n",
       "\\begin{tabular}{r|lllll}\n",
       "  & element\\_id & topsnp & topsnp\\_pp & PP.H4.abf & Nominated\\\\\n",
       "  & <chr> & <chr> & <dbl> & <dbl> & <lgl>\\\\\n",
       "\\hline\n",
       "\t175666 & cvpc\\_chip\\_peak\\_17305 & VAR\\_13\\_73937854\\_G\\_C & 0.3182383 & 0.9926283 &  TRUE\\\\\n",
       "\t184774 & cvpc\\_chip\\_peak\\_17304 & VAR\\_13\\_73937854\\_G\\_C & 0.3135846 & 0.9962955 & FALSE\\\\\n",
       "\t186759 & cvpc\\_atac\\_peak\\_73241 & VAR\\_13\\_73937854\\_G\\_C & 0.3737284 & 0.9963989 & FALSE\\\\\n",
       "\t188050 & cvpc\\_chip\\_peak\\_17303 & VAR\\_13\\_73937854\\_G\\_C & 0.3046845 & 0.7390419 & FALSE\\\\\n",
       "\\end{tabular}\n"
      ],
      "text/markdown": [
       "\n",
       "A data.frame: 4 × 5\n",
       "\n",
       "| <!--/--> | element_id &lt;chr&gt; | topsnp &lt;chr&gt; | topsnp_pp &lt;dbl&gt; | PP.H4.abf &lt;dbl&gt; | Nominated &lt;lgl&gt; |\n",
       "|---|---|---|---|---|---|\n",
       "| 175666 | cvpc_chip_peak_17305 | VAR_13_73937854_G_C | 0.3182383 | 0.9926283 |  TRUE |\n",
       "| 184774 | cvpc_chip_peak_17304 | VAR_13_73937854_G_C | 0.3135846 | 0.9962955 | FALSE |\n",
       "| 186759 | cvpc_atac_peak_73241 | VAR_13_73937854_G_C | 0.3737284 | 0.9963989 | FALSE |\n",
       "| 188050 | cvpc_chip_peak_17303 | VAR_13_73937854_G_C | 0.3046845 | 0.7390419 | FALSE |\n",
       "\n"
      ],
      "text/plain": [
       "       element_id           topsnp              topsnp_pp PP.H4.abf Nominated\n",
       "175666 cvpc_chip_peak_17305 VAR_13_73937854_G_C 0.3182383 0.9926283  TRUE    \n",
       "184774 cvpc_chip_peak_17304 VAR_13_73937854_G_C 0.3135846 0.9962955 FALSE    \n",
       "186759 cvpc_atac_peak_73241 VAR_13_73937854_G_C 0.3737284 0.9963989 FALSE    \n",
       "188050 cvpc_chip_peak_17303 VAR_13_73937854_G_C 0.3046845 0.7390419 FALSE    "
      ]
     },
     "metadata": {},
     "output_type": "display_data"
    },
    {
     "data": {
      "text/html": [
       "<table class=\"dataframe\">\n",
       "<caption>A data.frame: 3 × 5</caption>\n",
       "<thead>\n",
       "\t<tr><th></th><th scope=col>element_id</th><th scope=col>topsnp</th><th scope=col>topsnp_pp</th><th scope=col>PP.H4.abf</th><th scope=col>Nominated</th></tr>\n",
       "\t<tr><th></th><th scope=col>&lt;chr&gt;</th><th scope=col>&lt;chr&gt;</th><th scope=col>&lt;dbl&gt;</th><th scope=col>&lt;dbl&gt;</th><th scope=col>&lt;lgl&gt;</th></tr>\n",
       "</thead>\n",
       "<tbody>\n",
       "\t<tr><th scope=row>459762</th><td>ppc_atac_peak_244305</td><td>VAR_7_28152661_C_T</td><td>0.6292117</td><td>0.9723332</td><td> TRUE</td></tr>\n",
       "\t<tr><th scope=row>482757</th><td>ENSG00000153814.13  </td><td>VAR_7_28152661_C_T</td><td>0.8067442</td><td>0.9799599</td><td>FALSE</td></tr>\n",
       "\t<tr><th scope=row>495838</th><td>ppc_atac_peak_244298</td><td>VAR_7_28152661_C_T</td><td>0.6141469</td><td>0.9464068</td><td>FALSE</td></tr>\n",
       "</tbody>\n",
       "</table>\n"
      ],
      "text/latex": [
       "A data.frame: 3 × 5\n",
       "\\begin{tabular}{r|lllll}\n",
       "  & element\\_id & topsnp & topsnp\\_pp & PP.H4.abf & Nominated\\\\\n",
       "  & <chr> & <chr> & <dbl> & <dbl> & <lgl>\\\\\n",
       "\\hline\n",
       "\t459762 & ppc\\_atac\\_peak\\_244305 & VAR\\_7\\_28152661\\_C\\_T & 0.6292117 & 0.9723332 &  TRUE\\\\\n",
       "\t482757 & ENSG00000153814.13   & VAR\\_7\\_28152661\\_C\\_T & 0.8067442 & 0.9799599 & FALSE\\\\\n",
       "\t495838 & ppc\\_atac\\_peak\\_244298 & VAR\\_7\\_28152661\\_C\\_T & 0.6141469 & 0.9464068 & FALSE\\\\\n",
       "\\end{tabular}\n"
      ],
      "text/markdown": [
       "\n",
       "A data.frame: 3 × 5\n",
       "\n",
       "| <!--/--> | element_id &lt;chr&gt; | topsnp &lt;chr&gt; | topsnp_pp &lt;dbl&gt; | PP.H4.abf &lt;dbl&gt; | Nominated &lt;lgl&gt; |\n",
       "|---|---|---|---|---|---|\n",
       "| 459762 | ppc_atac_peak_244305 | VAR_7_28152661_C_T | 0.6292117 | 0.9723332 |  TRUE |\n",
       "| 482757 | ENSG00000153814.13   | VAR_7_28152661_C_T | 0.8067442 | 0.9799599 | FALSE |\n",
       "| 495838 | ppc_atac_peak_244298 | VAR_7_28152661_C_T | 0.6141469 | 0.9464068 | FALSE |\n",
       "\n"
      ],
      "text/plain": [
       "       element_id           topsnp             topsnp_pp PP.H4.abf Nominated\n",
       "459762 ppc_atac_peak_244305 VAR_7_28152661_C_T 0.6292117 0.9723332  TRUE    \n",
       "482757 ENSG00000153814.13   VAR_7_28152661_C_T 0.8067442 0.9799599 FALSE    \n",
       "495838 ppc_atac_peak_244298 VAR_7_28152661_C_T 0.6141469 0.9464068 FALSE    "
      ]
     },
     "metadata": {},
     "output_type": "display_data"
    }
   ],
   "source": [
    "colnames(gwas_summary2)\n",
    "gwas_summary2[ gwas_summary2$Cluster_ID == \"CVPC_274\" & gwas_summary2$description %like% \"QRS\", \n",
    "              c(\"element_id\",\"topsnp\",\"topsnp_pp\",\"PP.H4.abf\",\"Nominated\")]\n",
    "\n",
    "gwas_summary2[ gwas_summary2$Cluster_ID == \"PPC_122\" & gwas_summary2$description %like% \"diabetes\", \n",
    "              c(\"element_id\",\"topsnp\",\"topsnp_pp\",\"PP.H4.abf\",\"Nominated\")]\n",
    "\n",
    "gwas_summary2[ gwas_summary2$Cluster_ID == \"PPC_122\" & gwas_summary2$description %like% \"diabetes\", \n",
    "              c(\"element_id\",\"topsnp\",\"topsnp_pp\",\"PP.H4.abf\",\"Nominated\")]"
   ]
  },
  {
   "cell_type": "code",
   "execution_count": null,
   "metadata": {},
   "outputs": [],
   "source": []
  },
  {
   "cell_type": "code",
   "execution_count": null,
   "metadata": {},
   "outputs": [],
   "source": []
  }
 ],
 "metadata": {
  "kernelspec": {
   "display_name": "R 4.2.1",
   "language": "R",
   "name": "ir421"
  },
  "language_info": {
   "codemirror_mode": "r",
   "file_extension": ".r",
   "mimetype": "text/x-r-source",
   "name": "R",
   "pygments_lexer": "r",
   "version": "4.2.1"
  }
 },
 "nbformat": 4,
 "nbformat_minor": 2
}
