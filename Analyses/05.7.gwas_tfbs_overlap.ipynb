{
 "cells": [
  {
   "cell_type": "code",
   "execution_count": 2,
   "metadata": {},
   "outputs": [],
   "source": [
    "function_path=\"/home/tarthur/software/notebook_assist/functions.R\"\n",
    "pkg_path=\"/home/tarthur/software/notebook_assist/packages.R\"\n",
    "\n",
    "wd_path=\"/projects/CARDIPS/analysis/epigenome_resource\"\n",
    "setwd(wd_path)\n",
    "source(pkg_path)\n",
    "source(function_path)\n",
    "\n",
    "\n",
    "library(readxl)"
   ]
  },
  {
   "cell_type": "code",
   "execution_count": 3,
   "metadata": {},
   "outputs": [],
   "source": [
    "theme_bw2 = theme_bw() +\n",
    "    theme(\n",
    "        axis.text = element_text(size = 12),\n",
    "        strip.text = element_text(size = 12),\n",
    "        axis.title = element_text(size = 12),\n",
    "        legend.text = element_text(size = 12),\n",
    "        legend.title = element_text(size = 12),\n",
    "        legend.position = \"top\"\n",
    "    )"
   ]
  },
  {
   "cell_type": "markdown",
   "metadata": {},
   "source": [
    "### Aggregate TF motifs from TOBIAS output for HOCOMOCO and JASPAR"
   ]
  },
  {
   "cell_type": "code",
   "execution_count": 5,
   "metadata": {},
   "outputs": [],
   "source": [
    "basedir=\"/projects/CARDIPS/analysis/epigenome_resource/\"\n",
    "\n",
    "aggregate_motifs = function(tissue) {\n",
    "#     fs = list.files(list.files(list.files(paste0(\"analyses/tim/tobias/\",tissue,\"_atac/detect/\",tissue,\"_reference\"),full.names=T),\n",
    "#                     full.names=T,pattern=\"beds\"),\n",
    "#                     full.names=T,pattern=\"all\")\n",
    "    motif_path=paste0(basedir,\"analyses/tim/gwas_tfbs/\",tissue,\"_motifs.bed\")\n",
    "#     fwrite(rbindlist(lapply(fs, function(x){ return(fread(x))})) %>% arrange(V1,V2,V3),\n",
    "#               motif_path, sep=\"\\t\",row.names=F,quote=F,col.names=F)  \n",
    "    return(motif_path)\n",
    "}\n",
    "\n",
    "ipsc_motif_path = aggregate_motifs(\"ipsc\")\n",
    "cvpc_motif_path = aggregate_motifs(\"cvpc\")\n",
    "ppc_motif_path  = aggregate_motifs(\"ppc\")"
   ]
  },
  {
   "cell_type": "code",
   "execution_count": 6,
   "metadata": {},
   "outputs": [],
   "source": [
    "ipsc_motifs = fread(paste0(basedir, \"analyses/tim/gwas_tfbs/ipsc_motifs.bed\"),sep=\"\\t\",data.table=F)\n",
    "cvpc_motifs = fread(paste0(basedir, \"analyses/tim/gwas_tfbs/cvpc_motifs.bed\"),sep=\"\\t\",data.table=F)\n",
    "ppc_motifs = fread(paste0(basedir, \"analyses/tim/gwas_tfbs/ppc_motifs.bed\"),sep=\"\\t\",data.table=F)"
   ]
  },
  {
   "cell_type": "code",
   "execution_count": 9,
   "metadata": {},
   "outputs": [],
   "source": [
    "cols = c(\"MotifChrom\",\"MotifStart\",\"MotifEnd\",\"MotifID\",\"TFBSScore\",\"MotifStrand\",\"PeakChrom\",\"PeakStart\",\"PeakEnd\",\"PeakID\",\"FootprintScore\")\n",
    "colnames(ipsc_motifs) = cols\n",
    "colnames(cvpc_motifs) = cols\n",
    "colnames(ppc_motifs) = cols\n",
    "\n",
    "# fwrite(ipsc_motifs, \"~/projects/Resource/Figshare/iPSC_AllTFMotifs.bed.gz\",sep=\"\\t\",row.names=F,quote=F, compress = \"gzip\")\n",
    "# fwrite(cvpc_motifs, \"~/projects/Resource/Figshare/CVPC_AllTFMotifs.bed.gz\",sep=\"\\t\",row.names=F,quote=F, compress = \"gzip\")\n",
    "# fwrite(ppc_motifs, \"~/projects/Resource/Figshare/PPC_AllTFMotifs.bed.gz\",sep=\"\\t\",row.names=F,quote=F, compress = \"gzip\")"
   ]
  },
  {
   "cell_type": "markdown",
   "metadata": {},
   "source": [
    "### Load QTL and GWAS info"
   ]
  },
  {
   "cell_type": "code",
   "execution_count": 3,
   "metadata": {},
   "outputs": [],
   "source": [
    "\n",
    "qtl_module_path=\"analyses/tim/ld_modules/modules/all_modules_091124.txt\"\n",
    "mainfest_path=\"analyses/jennifer/gwas_independent/subset_manifest.txt\"\n",
    "gwas_summary_path=\"analyses/tim/gwas_coloc2/scripts/gwas_summary.txt\"\n",
    "\n",
    "gwas_signal_path=\"analyses/tim/gwas_coloc/tables/Table_SX_GWAS_Signals_2024_0911.txt\""
   ]
  },
  {
   "cell_type": "code",
   "execution_count": 4,
   "metadata": {},
   "outputs": [],
   "source": [
    "mods = fread(qtl_module_path,sep=\"\\t\",data.table=F)\n",
    "manifest = fread(mainfest_path, data.table = F)\n",
    "manifest$trait_id = NULL\n",
    "names(manifest)[4] = \"trait_id\"\n",
    "\n",
    "\n",
    "gwas_summary = fread(gwas_summary_path,sep=\"\\t\",data.table=F)\n",
    "gwas_summary2 = merge(gwas_summary, manifest[,c(\"trait_id\",\"description\")])\n",
    "\n",
    "coloced = gwas_summary2[ gwas_summary2$PP.H4.abf >=0.8 & gwas_summary2$topsnp_pp >= 0.01 &\n",
    "             gwas_summary2$p.gwas <= 5e-8 & gwas_summary2$p.eqtl <= 5e-5, ]"
   ]
  },
  {
   "cell_type": "code",
   "execution_count": 5,
   "metadata": {},
   "outputs": [
    {
     "ename": "ERROR",
     "evalue": "Error in table(indep4$Complexity): object 'indep4' not found\n",
     "output_type": "error",
     "traceback": [
      "Error in table(indep4$Complexity): object 'indep4' not found\nTraceback:\n",
      "1. table(indep4$Complexity)"
     ]
    }
   ],
   "source": [
    "table(indep4$Complexity)"
   ]
  },
  {
   "cell_type": "code",
   "execution_count": 6,
   "metadata": {},
   "outputs": [],
   "source": [
    "indep4 = fread(gwas_signal_path, data.table = F)\n",
    "indep4$trait_gwas_index = paste(indep4$Trait_ID, indep4$GWAS_Index, sep=\"_\")\n",
    "\n",
    "\n",
    "coloced_nominated = mods %>% filter(Cluster_ID %in% indep4$Cluster_ID )\n",
    "\n",
    "indep4_element = merge(indep4,coloced_nominated[,c(\"Cluster_ID\",\"Element_ID\")])\n",
    "\n",
    "indep4_element$analysis = ifelse(grepl(\"^ENS\",indep4_element$Element_ID), \"eqtls\",\n",
    "                                ifelse(grepl(\"atac\",indep4_element$Element_ID), \"caqtls\",\"haqtls\"))\n"
   ]
  },
  {
   "cell_type": "markdown",
   "metadata": {},
   "source": [
    "### Load Credible Sets in BED format"
   ]
  },
  {
   "cell_type": "code",
   "execution_count": 7,
   "metadata": {},
   "outputs": [],
   "source": [
    "\n",
    "get_credible_sets = rbindlist(lapply(1:nrow(coloced), function(row){\n",
    "    totest = coloced[row,]\n",
    "    analysis = totest$analysis\n",
    "    element_id = totest$element_id\n",
    "    tissue = totest$tissue\n",
    "    trait = totest$trait_id\n",
    "    load(paste0(\"analyses/tim/gwas_coloc2/\",analysis,\"/\",tissue,\"/\",element_id,\".robj\"))\n",
    "    out = outlist\n",
    "    traits = names(out)\n",
    "    trait_idx = traits[ traits %like% trait]\n",
    "#     print(unlist(trait_idx))\n",
    "    res = out[[trait_idx]]$result\n",
    "    cs = res[ res$in_99CredibleSet == \"TRUE\", c(\"snp\",\"SNP.PP.H4\")]\n",
    "    cs$element_id = element_id\n",
    "    cs$tissue = tissue\n",
    "    cs$trait = trait\n",
    "    cs$description = manifest$description[ manifest$trait_id == trait]\n",
    "#     if (nrow(cs) <= 25) {\n",
    "        cs$chrom = paste0(\"chr\",gsub(\"VAR_\",\"\",str_extract(cs$snp, \"VAR_[0-9]+\")))\n",
    "        cs$end = as.numeric(gsub(\"_[A-Z]+\",\"\",str_extract(cs$snp, \"[0-9]+_[A-Z]+\")))\n",
    "        cs$start = cs$end -1 \n",
    "        cs2 = cs[,c(\"chrom\",\"start\",\"end\", \"snp\",\"SNP.PP.H4\",\"element_id\",\"tissue\",\"trait\", \"description\")] %>% arrange(chrom,start,end)\n",
    "        cs2$nsnp = nrow(cs2)\n",
    "        return(cs2)\n",
    "#     }\n",
    "\n",
    "}))\n"
   ]
  },
  {
   "cell_type": "code",
   "execution_count": null,
   "metadata": {},
   "outputs": [],
   "source": []
  },
  {
   "cell_type": "markdown",
   "metadata": {},
   "source": [
    "### Characterize credible sets "
   ]
  },
  {
   "cell_type": "code",
   "execution_count": 8,
   "metadata": {},
   "outputs": [],
   "source": [
    "\n",
    "\n",
    "indep4_element2 = indep4_element[,c(\"Trait_ID\",\"GWAS_Index\",\"Tissue\",\"Cluster_ID\",\"Element_ID\")]\n",
    "colnames(indep4_element2) = c(\"trait\",\"gwas_index\",\"tissue\",\"cluster_id\",\"element_id\")\n",
    "\n"
   ]
  },
  {
   "cell_type": "code",
   "execution_count": 27,
   "metadata": {},
   "outputs": [
    {
     "data": {
      "text/html": [
       "<table class=\"dataframe\">\n",
       "<caption>A data.frame: 992 × 10</caption>\n",
       "<thead>\n",
       "\t<tr><th scope=col>trait</th><th scope=col>element_id</th><th scope=col>tissue</th><th scope=col>gwas_index</th><th scope=col>cluster_id</th><th scope=col>description</th><th scope=col>nsnp</th><th scope=col>tissue_description</th><th scope=col>type</th><th scope=col>Bin</th></tr>\n",
       "\t<tr><th scope=col>&lt;chr&gt;</th><th scope=col>&lt;chr&gt;</th><th scope=col>&lt;chr&gt;</th><th scope=col>&lt;chr&gt;</th><th scope=col>&lt;chr&gt;</th><th scope=col>&lt;chr&gt;</th><th scope=col>&lt;int&gt;</th><th scope=col>&lt;chr&gt;</th><th scope=col>&lt;chr&gt;</th><th scope=col>&lt;fct&gt;</th></tr>\n",
       "</thead>\n",
       "<tbody>\n",
       "\t<tr><td>biomarkers-30760-both_sexes-irnt.meta</td><td>cvpc_atac_peak_100931</td><td>CVPC</td><td>16_88039793_T_C </td><td>CVPC_6681 </td><td>HDL cholesterol</td><td> 26</td><td>CVPC_HDL cholesterol</td><td>caQTL</td><td>26-50</td></tr>\n",
       "\t<tr><td>biomarkers-30760-both_sexes-irnt.meta</td><td>cvpc_atac_peak_101331</td><td>CVPC</td><td>17_598400_A_G   </td><td>CVPC_522  </td><td>HDL cholesterol</td><td> 17</td><td>CVPC_HDL cholesterol</td><td>caQTL</td><td>16-20</td></tr>\n",
       "\t<tr><td>biomarkers-30760-both_sexes-irnt.meta</td><td>cvpc_atac_peak_103227</td><td>CVPC</td><td>17_16942153_T_C </td><td>CVPC_6782 </td><td>HDL cholesterol</td><td> 12</td><td>CVPC_HDL cholesterol</td><td>caQTL</td><td>11-15</td></tr>\n",
       "\t<tr><td>biomarkers-30760-both_sexes-irnt.meta</td><td>cvpc_atac_peak_109630</td><td>CVPC</td><td>17_78383251_CT_C</td><td>CVPC_7007 </td><td>HDL cholesterol</td><td> 33</td><td>CVPC_HDL cholesterol</td><td>caQTL</td><td>26-50</td></tr>\n",
       "\t<tr><td>biomarkers-30760-both_sexes-irnt.meta</td><td>cvpc_atac_peak_114234</td><td>CVPC</td><td>18_43192321_G_C </td><td>CVPC_7173 </td><td>HDL cholesterol</td><td> 99</td><td>CVPC_HDL cholesterol</td><td>caQTL</td><td><span style=white-space:pre-wrap>&gt;50  </span></td></tr>\n",
       "\t<tr><td>biomarkers-30760-both_sexes-irnt.meta</td><td>cvpc_atac_peak_11450 </td><td>CVPC</td><td>1_93444330_C_A  </td><td>CVPC_7182 </td><td>HDL cholesterol</td><td> 11</td><td>CVPC_HDL cholesterol</td><td>caQTL</td><td>11-15</td></tr>\n",
       "\t<tr><td>biomarkers-30760-both_sexes-irnt.meta</td><td>cvpc_atac_peak_118840</td><td>CVPC</td><td>19_7459857_G_C  </td><td>CVPC_1485 </td><td>HDL cholesterol</td><td> 28</td><td>CVPC_HDL cholesterol</td><td>caQTL</td><td>26-50</td></tr>\n",
       "\t<tr><td>biomarkers-30760-both_sexes-irnt.meta</td><td>cvpc_atac_peak_122484</td><td>CVPC</td><td>19_47087297_CA_C</td><td>CVPC_7505 </td><td>HDL cholesterol</td><td> 37</td><td>CVPC_HDL cholesterol</td><td>caQTL</td><td>26-50</td></tr>\n",
       "\t<tr><td>biomarkers-30760-both_sexes-irnt.meta</td><td>cvpc_atac_peak_125793</td><td>CVPC</td><td>2_20151547_AT_A </td><td>CVPC_7659 </td><td>HDL cholesterol</td><td>  5</td><td>CVPC_HDL cholesterol</td><td>caQTL</td><td>1-5  </td></tr>\n",
       "\t<tr><td>biomarkers-30760-both_sexes-irnt.meta</td><td>cvpc_atac_peak_130703</td><td>CVPC</td><td>2_65063708_C_A  </td><td>CVPC_7816 </td><td>HDL cholesterol</td><td> 12</td><td>CVPC_HDL cholesterol</td><td>caQTL</td><td>11-15</td></tr>\n",
       "\t<tr><td>biomarkers-30760-both_sexes-irnt.meta</td><td>cvpc_atac_peak_135436</td><td>CVPC</td><td>2_120590036_G_C </td><td>CVPC_7984 </td><td>HDL cholesterol</td><td>  1</td><td>CVPC_HDL cholesterol</td><td>caQTL</td><td>1-5  </td></tr>\n",
       "\t<tr><td>biomarkers-30760-both_sexes-irnt.meta</td><td>cvpc_atac_peak_147558</td><td>CVPC</td><td>2_241457251_T_C </td><td>CVPC_924  </td><td>HDL cholesterol</td><td>  1</td><td>CVPC_HDL cholesterol</td><td>caQTL</td><td>1-5  </td></tr>\n",
       "\t<tr><td>biomarkers-30760-both_sexes-irnt.meta</td><td>cvpc_atac_peak_149807</td><td>CVPC</td><td>20_22164137_T_C </td><td>CVPC_8446 </td><td>HDL cholesterol</td><td> 75</td><td>CVPC_HDL cholesterol</td><td>caQTL</td><td><span style=white-space:pre-wrap>&gt;50  </span></td></tr>\n",
       "\t<tr><td>biomarkers-30760-both_sexes-irnt.meta</td><td>cvpc_atac_peak_163549</td><td>CVPC</td><td>3_15604328_T_C  </td><td>CVPC_9011 </td><td>HDL cholesterol</td><td> 12</td><td>CVPC_HDL cholesterol</td><td>caQTL</td><td>11-15</td></tr>\n",
       "\t<tr><td>biomarkers-30760-both_sexes-irnt.meta</td><td>cvpc_atac_peak_165571</td><td>CVPC</td><td>3_36932512_G_A  </td><td>CVPC_1789 </td><td>HDL cholesterol</td><td>  7</td><td>CVPC_HDL cholesterol</td><td>caQTL</td><td>6-10 </td></tr>\n",
       "\t<tr><td>biomarkers-30760-both_sexes-irnt.meta</td><td>cvpc_atac_peak_166876</td><td>CVPC</td><td>3_46884049_T_C  </td><td>CVPC_9123 </td><td>HDL cholesterol</td><td> 14</td><td>CVPC_HDL cholesterol</td><td>caQTL</td><td>11-15</td></tr>\n",
       "\t<tr><td>biomarkers-30760-both_sexes-irnt.meta</td><td>cvpc_atac_peak_167283</td><td>CVPC</td><td>3_49893910_A_T  </td><td>CVPC_292  </td><td>HDL cholesterol</td><td> 45</td><td>CVPC_HDL cholesterol</td><td>caQTL</td><td>26-50</td></tr>\n",
       "\t<tr><td>biomarkers-30760-both_sexes-irnt.meta</td><td>cvpc_atac_peak_179794</td><td>CVPC</td><td>3_185808320_CA_C</td><td>CVPC_9507 </td><td>HDL cholesterol</td><td> 41</td><td>CVPC_HDL cholesterol</td><td>caQTL</td><td>26-50</td></tr>\n",
       "\t<tr><td>biomarkers-30760-both_sexes-irnt.meta</td><td>cvpc_atac_peak_186885</td><td>CVPC</td><td>4_68475769_T_C  </td><td>CVPC_244  </td><td>HDL cholesterol</td><td> 23</td><td>CVPC_HDL cholesterol</td><td>caQTL</td><td>21-25</td></tr>\n",
       "\t<tr><td>biomarkers-30760-both_sexes-irnt.meta</td><td>cvpc_atac_peak_186886</td><td>CVPC</td><td>4_68475769_T_C  </td><td>CVPC_244  </td><td>HDL cholesterol</td><td> 23</td><td>CVPC_HDL cholesterol</td><td>caQTL</td><td>21-25</td></tr>\n",
       "\t<tr><td>biomarkers-30760-both_sexes-irnt.meta</td><td>cvpc_atac_peak_186887</td><td>CVPC</td><td>4_68475769_T_C  </td><td>CVPC_244  </td><td>HDL cholesterol</td><td> 19</td><td>CVPC_HDL cholesterol</td><td>caQTL</td><td>16-20</td></tr>\n",
       "\t<tr><td>biomarkers-30760-both_sexes-irnt.meta</td><td>cvpc_atac_peak_188849</td><td>CVPC</td><td>4_90316085_G_T  </td><td>CVPC_9824 </td><td>HDL cholesterol</td><td> 28</td><td>CVPC_HDL cholesterol</td><td>caQTL</td><td>26-50</td></tr>\n",
       "\t<tr><td>biomarkers-30760-both_sexes-irnt.meta</td><td>cvpc_atac_peak_197204</td><td>CVPC</td><td>5_1283371_T_C   </td><td>CVPC_10078</td><td>HDL cholesterol</td><td>  2</td><td>CVPC_HDL cholesterol</td><td>caQTL</td><td>1-5  </td></tr>\n",
       "\t<tr><td>biomarkers-30760-both_sexes-irnt.meta</td><td>cvpc_atac_peak_20585 </td><td>CVPC</td><td>1_205770138_C_T </td><td>CVPC_10342</td><td>HDL cholesterol</td><td>  6</td><td>CVPC_HDL cholesterol</td><td>caQTL</td><td>6-10 </td></tr>\n",
       "\t<tr><td>biomarkers-30760-both_sexes-irnt.meta</td><td>cvpc_atac_peak_205884</td><td>CVPC</td><td>5_111912165_G_A </td><td>CVPC_10343</td><td>HDL cholesterol</td><td> 67</td><td>CVPC_HDL cholesterol</td><td>caQTL</td><td><span style=white-space:pre-wrap>&gt;50  </span></td></tr>\n",
       "\t<tr><td>biomarkers-30760-both_sexes-irnt.meta</td><td>cvpc_atac_peak_208200</td><td>CVPC</td><td>5_135096700_A_G </td><td>CVPC_10413</td><td>HDL cholesterol</td><td>  6</td><td>CVPC_HDL cholesterol</td><td>caQTL</td><td>6-10 </td></tr>\n",
       "\t<tr><td>biomarkers-30760-both_sexes-irnt.meta</td><td>cvpc_atac_peak_208375</td><td>CVPC</td><td>5_136120102_T_TA</td><td>CVPC_10424</td><td>HDL cholesterol</td><td>143</td><td>CVPC_HDL cholesterol</td><td>caQTL</td><td><span style=white-space:pre-wrap>&gt;50  </span></td></tr>\n",
       "\t<tr><td>biomarkers-30760-both_sexes-irnt.meta</td><td>cvpc_atac_peak_217512</td><td>CVPC</td><td><span style=white-space:pre-wrap>6_33693002_A_G  </span></td><td><span style=white-space:pre-wrap>CVPC_630  </span></td><td>HDL cholesterol</td><td> 68</td><td>CVPC_HDL cholesterol</td><td>caQTL</td><td><span style=white-space:pre-wrap>&gt;50  </span></td></tr>\n",
       "\t<tr><td>biomarkers-30760-both_sexes-irnt.meta</td><td>cvpc_atac_peak_217515</td><td>CVPC</td><td><span style=white-space:pre-wrap>6_33693002_A_G  </span></td><td><span style=white-space:pre-wrap>CVPC_630  </span></td><td>HDL cholesterol</td><td> 69</td><td>CVPC_HDL cholesterol</td><td>caQTL</td><td><span style=white-space:pre-wrap>&gt;50  </span></td></tr>\n",
       "\t<tr><td>biomarkers-30760-both_sexes-irnt.meta</td><td>cvpc_atac_peak_223777</td><td>CVPC</td><td>6_109276421_C_A </td><td>CVPC_10931</td><td>HDL cholesterol</td><td>  2</td><td>CVPC_HDL cholesterol</td><td>caQTL</td><td>1-5  </td></tr>\n",
       "\t<tr><td>⋮</td><td>⋮</td><td>⋮</td><td>⋮</td><td>⋮</td><td>⋮</td><td>⋮</td><td>⋮</td><td>⋮</td><td>⋮</td></tr>\n",
       "\t<tr><td>Mahajan.NatGenet2018b.T2D.European_sorted</td><td>ppc_atac_peak_213789 </td><td>PPC </td><td>5_75692544_A_G </td><td>PPC_9423  </td><td>type 2 diabetes       </td><td>  8</td><td>PPC_type 2 diabetes        </td><td>caQTL</td><td>6-10 </td></tr>\n",
       "\t<tr><td>Mahajan.NatGenet2018b.T2D.European_sorted</td><td>ppc_atac_peak_215915 </td><td>PPC </td><td>5_102630709_T_C</td><td><span style=white-space:pre-wrap>PPC_9481  </span></td><td><span style=white-space:pre-wrap>type 2 diabetes       </span></td><td>158</td><td><span style=white-space:pre-wrap>PPC_type 2 diabetes        </span></td><td>caQTL</td><td><span style=white-space:pre-wrap>&gt;50  </span></td></tr>\n",
       "\t<tr><td>Mahajan.NatGenet2018b.T2D.European_sorted</td><td>ppc_atac_peak_215958 </td><td>PPC </td><td>5_103353125_A_G</td><td><span style=white-space:pre-wrap>PPC_9484  </span></td><td><span style=white-space:pre-wrap>type 2 diabetes       </span></td><td> 67</td><td><span style=white-space:pre-wrap>PPC_type 2 diabetes        </span></td><td>caQTL</td><td><span style=white-space:pre-wrap>&gt;50  </span></td></tr>\n",
       "\t<tr><td>Mahajan.NatGenet2018b.T2D.European_sorted</td><td>ppc_atac_peak_244298 </td><td>PPC </td><td>7_28159058_C_T </td><td>PPC_122   </td><td>type 2 diabetes       </td><td>  8</td><td>PPC_type 2 diabetes        </td><td>caQTL</td><td>6-10 </td></tr>\n",
       "\t<tr><td>Mahajan.NatGenet2018b.T2D.European_sorted</td><td>ppc_atac_peak_244305 </td><td>PPC </td><td>7_28159058_C_T </td><td>PPC_122   </td><td>type 2 diabetes       </td><td>  6</td><td>PPC_type 2 diabetes        </td><td>caQTL</td><td>6-10 </td></tr>\n",
       "\t<tr><td>Mahajan.NatGenet2018b.T2D.European_sorted</td><td>ppc_atac_peak_256673 </td><td>PPC </td><td>8_9320222_T_G  </td><td>PPC_10895 </td><td>type 2 diabetes       </td><td> 35</td><td>PPC_type 2 diabetes        </td><td>caQTL</td><td>26-50</td></tr>\n",
       "\t<tr><td>Mahajan.NatGenet2018b.T2D.European_sorted</td><td>ppc_atac_peak_41848  </td><td>PPC </td><td>11_2172280_C_T </td><td>PPC_12298 </td><td>type 2 diabetes       </td><td> 12</td><td>PPC_type 2 diabetes        </td><td>caQTL</td><td>11-15</td></tr>\n",
       "\t<tr><td>Mahajan.NatGenet2018b.T2D.European_sorted</td><td>ppc_atac_peak_42000  </td><td>PPC </td><td>11_2828300_A_C </td><td>PPC_12303 </td><td>type 2 diabetes       </td><td>  1</td><td>PPC_type 2 diabetes        </td><td>caQTL</td><td>1-5  </td></tr>\n",
       "\t<tr><td>Mahajan.NatGenet2018b.T2D.European_sorted</td><td><span style=white-space:pre-wrap>ppc_atac_peak_45892  </span></td><td>PPC </td><td>11_43841480_G_A</td><td>PPC_12462 </td><td><span style=white-space:pre-wrap>type 2 diabetes       </span></td><td> 56</td><td><span style=white-space:pre-wrap>PPC_type 2 diabetes        </span></td><td>caQTL</td><td><span style=white-space:pre-wrap>&gt;50  </span></td></tr>\n",
       "\t<tr><td>Mahajan.NatGenet2018b.T2D.European_sorted</td><td>ppc_atac_peak_59109  </td><td>PPC </td><td>12_26100624_A_C</td><td>PPC_12936 </td><td>type 2 diabetes       </td><td> 15</td><td>PPC_type 2 diabetes        </td><td>caQTL</td><td>11-15</td></tr>\n",
       "\t<tr><td>Mahajan.NatGenet2018b.T2D.European_sorted</td><td>ppc_atac_peak_73604  </td><td>PPC </td><td>13_58099154_T_C</td><td>PPC_13423 </td><td>type 2 diabetes       </td><td> 20</td><td>PPC_type 2 diabetes        </td><td>caQTL</td><td>16-20</td></tr>\n",
       "\t<tr><td>Mahajan.NatGenet2018b.T2D.European_sorted</td><td>ppc_atac_peak_78513  </td><td>PPC </td><td>14_22819726_C_G</td><td>PPC_13601 </td><td>type 2 diabetes       </td><td>  4</td><td>PPC_type 2 diabetes        </td><td>caQTL</td><td>1-5  </td></tr>\n",
       "\t<tr><td>Mahajan.NatGenet2018b.T2D.European_sorted</td><td>ppc_atac_peak_84890  </td><td>PPC </td><td>14_91452737_T_A</td><td>PPC_13825 </td><td>type 2 diabetes       </td><td> 49</td><td>PPC_type 2 diabetes        </td><td>caQTL</td><td>26-50</td></tr>\n",
       "\t<tr><td>Mahajan.NatGenet2018b.T2D.European_sorted</td><td>ppc_atac_peak_91324  </td><td>PPC </td><td>15_67788548_A_T</td><td>PPC_14053 </td><td>type 2 diabetes       </td><td>  1</td><td>PPC_type 2 diabetes        </td><td>caQTL</td><td>1-5  </td></tr>\n",
       "\t<tr><td>timmers2020_healthspan_lifespan_longevity</td><td>cvpc_atac_peak_101289</td><td>CVPC</td><td>16_89959744_A_G</td><td>CVPC_6708 </td><td>Multivariate Longevity</td><td>  3</td><td>CVPC_Multivariate Longevity</td><td>caQTL</td><td>1-5  </td></tr>\n",
       "\t<tr><td>timmers2020_healthspan_lifespan_longevity</td><td>cvpc_atac_peak_91811 </td><td>CVPC</td><td>15_90885406_G_A</td><td>CVPC_1191 </td><td>Multivariate Longevity</td><td>  8</td><td>CVPC_Multivariate Longevity</td><td>caQTL</td><td>6-10 </td></tr>\n",
       "\t<tr><td>timmers2020_healthspan_lifespan_longevity</td><td>cvpc_chip_peak_21796 </td><td>CVPC</td><td>15_90885406_G_A</td><td>CVPC_16185</td><td>Multivariate Longevity</td><td>  8</td><td>CVPC_Multivariate Longevity</td><td>haQTL</td><td>6-10 </td></tr>\n",
       "\t<tr><td>timmers2020_healthspan_lifespan_longevity</td><td>ENSG00000041357.16   </td><td>iPSC</td><td>15_78623522_G_A</td><td>iPSC_1771 </td><td>Multivariate Longevity</td><td>  6</td><td>iPSC_Multivariate Longevity</td><td>eQTL </td><td>6-10 </td></tr>\n",
       "\t<tr><td>timmers2020_healthspan_lifespan_longevity</td><td>ENSG00000109787.13   </td><td>CVPC</td><td>4_38389131_T_C </td><td>CVPC_3660 </td><td>Multivariate Longevity</td><td> 34</td><td>CVPC_Multivariate Longevity</td><td>eQTL </td><td>26-50</td></tr>\n",
       "\t<tr><td>timmers2020_healthspan_lifespan_longevity</td><td>ENSG00000118689.15   </td><td>iPSC</td><td>6_108687991_A_G</td><td>iPSC_3323 </td><td>Multivariate Longevity</td><td> 40</td><td>iPSC_Multivariate Longevity</td><td>eQTL </td><td>26-50</td></tr>\n",
       "\t<tr><td>timmers2020_healthspan_lifespan_longevity</td><td>ENSG00000127616.22   </td><td>iPSC</td><td>19_11076746_T_C</td><td>iPSC_617  </td><td>Multivariate Longevity</td><td>  9</td><td>iPSC_Multivariate Longevity</td><td>eQTL </td><td>6-10 </td></tr>\n",
       "\t<tr><td>timmers2020_healthspan_lifespan_longevity</td><td>ENSG00000140564.13   </td><td>iPSC</td><td>15_90885406_G_A</td><td>iPSC_212  </td><td>Multivariate Longevity</td><td>  5</td><td>iPSC_Multivariate Longevity</td><td>eQTL </td><td>1-5  </td></tr>\n",
       "\t<tr><td>timmers2020_healthspan_lifespan_longevity</td><td>ENSG00000182511.12   </td><td>CVPC</td><td>15_90885406_G_A</td><td>CVPC_1191 </td><td>Multivariate Longevity</td><td> 11</td><td>CVPC_Multivariate Longevity</td><td>eQTL </td><td>11-15</td></tr>\n",
       "\t<tr><td>timmers2020_healthspan_lifespan_longevity</td><td>ENSG00000198901.14   </td><td>iPSC</td><td>15_90885406_G_A</td><td>iPSC_7051 </td><td>Multivariate Longevity</td><td>  5</td><td>iPSC_Multivariate Longevity</td><td>eQTL </td><td>1-5  </td></tr>\n",
       "\t<tr><td>timmers2020_healthspan_lifespan_longevity</td><td>ipsc_atac_peak_107357</td><td>iPSC</td><td>2_201340018_T_C</td><td>iPSC_8821 </td><td>Multivariate Longevity</td><td> 28</td><td>iPSC_Multivariate Longevity</td><td>caQTL</td><td>26-50</td></tr>\n",
       "\t<tr><td>timmers2020_healthspan_lifespan_longevity</td><td>ipsc_atac_peak_166376</td><td>iPSC</td><td>6_108687991_A_G</td><td>iPSC_10846</td><td>Multivariate Longevity</td><td> 41</td><td>iPSC_Multivariate Longevity</td><td>caQTL</td><td>26-50</td></tr>\n",
       "\t<tr><td>timmers2020_healthspan_lifespan_longevity</td><td>ipsc_atac_peak_66932 </td><td>iPSC</td><td>15_90885406_G_A</td><td>iPSC_212  </td><td>Multivariate Longevity</td><td>  8</td><td>iPSC_Multivariate Longevity</td><td>caQTL</td><td>6-10 </td></tr>\n",
       "\t<tr><td>timmers2020_healthspan_lifespan_longevity</td><td>ppc_atac_peak_125518 </td><td>PPC </td><td>19_11076746_T_C</td><td>PPC_6379  </td><td>Multivariate Longevity</td><td> 33</td><td>PPC_Multivariate Longevity </td><td>caQTL</td><td>26-50</td></tr>\n",
       "\t<tr><td>timmers2020_healthspan_lifespan_longevity</td><td>ppc_atac_peak_150902 </td><td>PPC </td><td>2_201340018_T_C</td><td>PPC_7248  </td><td>Multivariate Longevity</td><td> 26</td><td>PPC_Multivariate Longevity </td><td>caQTL</td><td>26-50</td></tr>\n",
       "\t<tr><td>timmers2020_healthspan_lifespan_longevity</td><td>ppc_atac_peak_94634  </td><td>PPC </td><td>15_90885406_G_A</td><td>PPC_146   </td><td>Multivariate Longevity</td><td> 15</td><td>PPC_Multivariate Longevity </td><td>caQTL</td><td>11-15</td></tr>\n",
       "</tbody>\n",
       "</table>\n"
      ],
      "text/latex": [
       "A data.frame: 992 × 10\n",
       "\\begin{tabular}{llllllllll}\n",
       " trait & element\\_id & tissue & gwas\\_index & cluster\\_id & description & nsnp & tissue\\_description & type & Bin\\\\\n",
       " <chr> & <chr> & <chr> & <chr> & <chr> & <chr> & <int> & <chr> & <chr> & <fct>\\\\\n",
       "\\hline\n",
       "\t biomarkers-30760-both\\_sexes-irnt.meta & cvpc\\_atac\\_peak\\_100931 & CVPC & 16\\_88039793\\_T\\_C  & CVPC\\_6681  & HDL cholesterol &  26 & CVPC\\_HDL cholesterol & caQTL & 26-50\\\\\n",
       "\t biomarkers-30760-both\\_sexes-irnt.meta & cvpc\\_atac\\_peak\\_101331 & CVPC & 17\\_598400\\_A\\_G    & CVPC\\_522   & HDL cholesterol &  17 & CVPC\\_HDL cholesterol & caQTL & 16-20\\\\\n",
       "\t biomarkers-30760-both\\_sexes-irnt.meta & cvpc\\_atac\\_peak\\_103227 & CVPC & 17\\_16942153\\_T\\_C  & CVPC\\_6782  & HDL cholesterol &  12 & CVPC\\_HDL cholesterol & caQTL & 11-15\\\\\n",
       "\t biomarkers-30760-both\\_sexes-irnt.meta & cvpc\\_atac\\_peak\\_109630 & CVPC & 17\\_78383251\\_CT\\_C & CVPC\\_7007  & HDL cholesterol &  33 & CVPC\\_HDL cholesterol & caQTL & 26-50\\\\\n",
       "\t biomarkers-30760-both\\_sexes-irnt.meta & cvpc\\_atac\\_peak\\_114234 & CVPC & 18\\_43192321\\_G\\_C  & CVPC\\_7173  & HDL cholesterol &  99 & CVPC\\_HDL cholesterol & caQTL & >50  \\\\\n",
       "\t biomarkers-30760-both\\_sexes-irnt.meta & cvpc\\_atac\\_peak\\_11450  & CVPC & 1\\_93444330\\_C\\_A   & CVPC\\_7182  & HDL cholesterol &  11 & CVPC\\_HDL cholesterol & caQTL & 11-15\\\\\n",
       "\t biomarkers-30760-both\\_sexes-irnt.meta & cvpc\\_atac\\_peak\\_118840 & CVPC & 19\\_7459857\\_G\\_C   & CVPC\\_1485  & HDL cholesterol &  28 & CVPC\\_HDL cholesterol & caQTL & 26-50\\\\\n",
       "\t biomarkers-30760-both\\_sexes-irnt.meta & cvpc\\_atac\\_peak\\_122484 & CVPC & 19\\_47087297\\_CA\\_C & CVPC\\_7505  & HDL cholesterol &  37 & CVPC\\_HDL cholesterol & caQTL & 26-50\\\\\n",
       "\t biomarkers-30760-both\\_sexes-irnt.meta & cvpc\\_atac\\_peak\\_125793 & CVPC & 2\\_20151547\\_AT\\_A  & CVPC\\_7659  & HDL cholesterol &   5 & CVPC\\_HDL cholesterol & caQTL & 1-5  \\\\\n",
       "\t biomarkers-30760-both\\_sexes-irnt.meta & cvpc\\_atac\\_peak\\_130703 & CVPC & 2\\_65063708\\_C\\_A   & CVPC\\_7816  & HDL cholesterol &  12 & CVPC\\_HDL cholesterol & caQTL & 11-15\\\\\n",
       "\t biomarkers-30760-both\\_sexes-irnt.meta & cvpc\\_atac\\_peak\\_135436 & CVPC & 2\\_120590036\\_G\\_C  & CVPC\\_7984  & HDL cholesterol &   1 & CVPC\\_HDL cholesterol & caQTL & 1-5  \\\\\n",
       "\t biomarkers-30760-both\\_sexes-irnt.meta & cvpc\\_atac\\_peak\\_147558 & CVPC & 2\\_241457251\\_T\\_C  & CVPC\\_924   & HDL cholesterol &   1 & CVPC\\_HDL cholesterol & caQTL & 1-5  \\\\\n",
       "\t biomarkers-30760-both\\_sexes-irnt.meta & cvpc\\_atac\\_peak\\_149807 & CVPC & 20\\_22164137\\_T\\_C  & CVPC\\_8446  & HDL cholesterol &  75 & CVPC\\_HDL cholesterol & caQTL & >50  \\\\\n",
       "\t biomarkers-30760-both\\_sexes-irnt.meta & cvpc\\_atac\\_peak\\_163549 & CVPC & 3\\_15604328\\_T\\_C   & CVPC\\_9011  & HDL cholesterol &  12 & CVPC\\_HDL cholesterol & caQTL & 11-15\\\\\n",
       "\t biomarkers-30760-both\\_sexes-irnt.meta & cvpc\\_atac\\_peak\\_165571 & CVPC & 3\\_36932512\\_G\\_A   & CVPC\\_1789  & HDL cholesterol &   7 & CVPC\\_HDL cholesterol & caQTL & 6-10 \\\\\n",
       "\t biomarkers-30760-both\\_sexes-irnt.meta & cvpc\\_atac\\_peak\\_166876 & CVPC & 3\\_46884049\\_T\\_C   & CVPC\\_9123  & HDL cholesterol &  14 & CVPC\\_HDL cholesterol & caQTL & 11-15\\\\\n",
       "\t biomarkers-30760-both\\_sexes-irnt.meta & cvpc\\_atac\\_peak\\_167283 & CVPC & 3\\_49893910\\_A\\_T   & CVPC\\_292   & HDL cholesterol &  45 & CVPC\\_HDL cholesterol & caQTL & 26-50\\\\\n",
       "\t biomarkers-30760-both\\_sexes-irnt.meta & cvpc\\_atac\\_peak\\_179794 & CVPC & 3\\_185808320\\_CA\\_C & CVPC\\_9507  & HDL cholesterol &  41 & CVPC\\_HDL cholesterol & caQTL & 26-50\\\\\n",
       "\t biomarkers-30760-both\\_sexes-irnt.meta & cvpc\\_atac\\_peak\\_186885 & CVPC & 4\\_68475769\\_T\\_C   & CVPC\\_244   & HDL cholesterol &  23 & CVPC\\_HDL cholesterol & caQTL & 21-25\\\\\n",
       "\t biomarkers-30760-both\\_sexes-irnt.meta & cvpc\\_atac\\_peak\\_186886 & CVPC & 4\\_68475769\\_T\\_C   & CVPC\\_244   & HDL cholesterol &  23 & CVPC\\_HDL cholesterol & caQTL & 21-25\\\\\n",
       "\t biomarkers-30760-both\\_sexes-irnt.meta & cvpc\\_atac\\_peak\\_186887 & CVPC & 4\\_68475769\\_T\\_C   & CVPC\\_244   & HDL cholesterol &  19 & CVPC\\_HDL cholesterol & caQTL & 16-20\\\\\n",
       "\t biomarkers-30760-both\\_sexes-irnt.meta & cvpc\\_atac\\_peak\\_188849 & CVPC & 4\\_90316085\\_G\\_T   & CVPC\\_9824  & HDL cholesterol &  28 & CVPC\\_HDL cholesterol & caQTL & 26-50\\\\\n",
       "\t biomarkers-30760-both\\_sexes-irnt.meta & cvpc\\_atac\\_peak\\_197204 & CVPC & 5\\_1283371\\_T\\_C    & CVPC\\_10078 & HDL cholesterol &   2 & CVPC\\_HDL cholesterol & caQTL & 1-5  \\\\\n",
       "\t biomarkers-30760-both\\_sexes-irnt.meta & cvpc\\_atac\\_peak\\_20585  & CVPC & 1\\_205770138\\_C\\_T  & CVPC\\_10342 & HDL cholesterol &   6 & CVPC\\_HDL cholesterol & caQTL & 6-10 \\\\\n",
       "\t biomarkers-30760-both\\_sexes-irnt.meta & cvpc\\_atac\\_peak\\_205884 & CVPC & 5\\_111912165\\_G\\_A  & CVPC\\_10343 & HDL cholesterol &  67 & CVPC\\_HDL cholesterol & caQTL & >50  \\\\\n",
       "\t biomarkers-30760-both\\_sexes-irnt.meta & cvpc\\_atac\\_peak\\_208200 & CVPC & 5\\_135096700\\_A\\_G  & CVPC\\_10413 & HDL cholesterol &   6 & CVPC\\_HDL cholesterol & caQTL & 6-10 \\\\\n",
       "\t biomarkers-30760-both\\_sexes-irnt.meta & cvpc\\_atac\\_peak\\_208375 & CVPC & 5\\_136120102\\_T\\_TA & CVPC\\_10424 & HDL cholesterol & 143 & CVPC\\_HDL cholesterol & caQTL & >50  \\\\\n",
       "\t biomarkers-30760-both\\_sexes-irnt.meta & cvpc\\_atac\\_peak\\_217512 & CVPC & 6\\_33693002\\_A\\_G   & CVPC\\_630   & HDL cholesterol &  68 & CVPC\\_HDL cholesterol & caQTL & >50  \\\\\n",
       "\t biomarkers-30760-both\\_sexes-irnt.meta & cvpc\\_atac\\_peak\\_217515 & CVPC & 6\\_33693002\\_A\\_G   & CVPC\\_630   & HDL cholesterol &  69 & CVPC\\_HDL cholesterol & caQTL & >50  \\\\\n",
       "\t biomarkers-30760-both\\_sexes-irnt.meta & cvpc\\_atac\\_peak\\_223777 & CVPC & 6\\_109276421\\_C\\_A  & CVPC\\_10931 & HDL cholesterol &   2 & CVPC\\_HDL cholesterol & caQTL & 1-5  \\\\\n",
       "\t ⋮ & ⋮ & ⋮ & ⋮ & ⋮ & ⋮ & ⋮ & ⋮ & ⋮ & ⋮\\\\\n",
       "\t Mahajan.NatGenet2018b.T2D.European\\_sorted & ppc\\_atac\\_peak\\_213789  & PPC  & 5\\_75692544\\_A\\_G  & PPC\\_9423   & type 2 diabetes        &   8 & PPC\\_type 2 diabetes         & caQTL & 6-10 \\\\\n",
       "\t Mahajan.NatGenet2018b.T2D.European\\_sorted & ppc\\_atac\\_peak\\_215915  & PPC  & 5\\_102630709\\_T\\_C & PPC\\_9481   & type 2 diabetes        & 158 & PPC\\_type 2 diabetes         & caQTL & >50  \\\\\n",
       "\t Mahajan.NatGenet2018b.T2D.European\\_sorted & ppc\\_atac\\_peak\\_215958  & PPC  & 5\\_103353125\\_A\\_G & PPC\\_9484   & type 2 diabetes        &  67 & PPC\\_type 2 diabetes         & caQTL & >50  \\\\\n",
       "\t Mahajan.NatGenet2018b.T2D.European\\_sorted & ppc\\_atac\\_peak\\_244298  & PPC  & 7\\_28159058\\_C\\_T  & PPC\\_122    & type 2 diabetes        &   8 & PPC\\_type 2 diabetes         & caQTL & 6-10 \\\\\n",
       "\t Mahajan.NatGenet2018b.T2D.European\\_sorted & ppc\\_atac\\_peak\\_244305  & PPC  & 7\\_28159058\\_C\\_T  & PPC\\_122    & type 2 diabetes        &   6 & PPC\\_type 2 diabetes         & caQTL & 6-10 \\\\\n",
       "\t Mahajan.NatGenet2018b.T2D.European\\_sorted & ppc\\_atac\\_peak\\_256673  & PPC  & 8\\_9320222\\_T\\_G   & PPC\\_10895  & type 2 diabetes        &  35 & PPC\\_type 2 diabetes         & caQTL & 26-50\\\\\n",
       "\t Mahajan.NatGenet2018b.T2D.European\\_sorted & ppc\\_atac\\_peak\\_41848   & PPC  & 11\\_2172280\\_C\\_T  & PPC\\_12298  & type 2 diabetes        &  12 & PPC\\_type 2 diabetes         & caQTL & 11-15\\\\\n",
       "\t Mahajan.NatGenet2018b.T2D.European\\_sorted & ppc\\_atac\\_peak\\_42000   & PPC  & 11\\_2828300\\_A\\_C  & PPC\\_12303  & type 2 diabetes        &   1 & PPC\\_type 2 diabetes         & caQTL & 1-5  \\\\\n",
       "\t Mahajan.NatGenet2018b.T2D.European\\_sorted & ppc\\_atac\\_peak\\_45892   & PPC  & 11\\_43841480\\_G\\_A & PPC\\_12462  & type 2 diabetes        &  56 & PPC\\_type 2 diabetes         & caQTL & >50  \\\\\n",
       "\t Mahajan.NatGenet2018b.T2D.European\\_sorted & ppc\\_atac\\_peak\\_59109   & PPC  & 12\\_26100624\\_A\\_C & PPC\\_12936  & type 2 diabetes        &  15 & PPC\\_type 2 diabetes         & caQTL & 11-15\\\\\n",
       "\t Mahajan.NatGenet2018b.T2D.European\\_sorted & ppc\\_atac\\_peak\\_73604   & PPC  & 13\\_58099154\\_T\\_C & PPC\\_13423  & type 2 diabetes        &  20 & PPC\\_type 2 diabetes         & caQTL & 16-20\\\\\n",
       "\t Mahajan.NatGenet2018b.T2D.European\\_sorted & ppc\\_atac\\_peak\\_78513   & PPC  & 14\\_22819726\\_C\\_G & PPC\\_13601  & type 2 diabetes        &   4 & PPC\\_type 2 diabetes         & caQTL & 1-5  \\\\\n",
       "\t Mahajan.NatGenet2018b.T2D.European\\_sorted & ppc\\_atac\\_peak\\_84890   & PPC  & 14\\_91452737\\_T\\_A & PPC\\_13825  & type 2 diabetes        &  49 & PPC\\_type 2 diabetes         & caQTL & 26-50\\\\\n",
       "\t Mahajan.NatGenet2018b.T2D.European\\_sorted & ppc\\_atac\\_peak\\_91324   & PPC  & 15\\_67788548\\_A\\_T & PPC\\_14053  & type 2 diabetes        &   1 & PPC\\_type 2 diabetes         & caQTL & 1-5  \\\\\n",
       "\t timmers2020\\_healthspan\\_lifespan\\_longevity & cvpc\\_atac\\_peak\\_101289 & CVPC & 16\\_89959744\\_A\\_G & CVPC\\_6708  & Multivariate Longevity &   3 & CVPC\\_Multivariate Longevity & caQTL & 1-5  \\\\\n",
       "\t timmers2020\\_healthspan\\_lifespan\\_longevity & cvpc\\_atac\\_peak\\_91811  & CVPC & 15\\_90885406\\_G\\_A & CVPC\\_1191  & Multivariate Longevity &   8 & CVPC\\_Multivariate Longevity & caQTL & 6-10 \\\\\n",
       "\t timmers2020\\_healthspan\\_lifespan\\_longevity & cvpc\\_chip\\_peak\\_21796  & CVPC & 15\\_90885406\\_G\\_A & CVPC\\_16185 & Multivariate Longevity &   8 & CVPC\\_Multivariate Longevity & haQTL & 6-10 \\\\\n",
       "\t timmers2020\\_healthspan\\_lifespan\\_longevity & ENSG00000041357.16    & iPSC & 15\\_78623522\\_G\\_A & iPSC\\_1771  & Multivariate Longevity &   6 & iPSC\\_Multivariate Longevity & eQTL  & 6-10 \\\\\n",
       "\t timmers2020\\_healthspan\\_lifespan\\_longevity & ENSG00000109787.13    & CVPC & 4\\_38389131\\_T\\_C  & CVPC\\_3660  & Multivariate Longevity &  34 & CVPC\\_Multivariate Longevity & eQTL  & 26-50\\\\\n",
       "\t timmers2020\\_healthspan\\_lifespan\\_longevity & ENSG00000118689.15    & iPSC & 6\\_108687991\\_A\\_G & iPSC\\_3323  & Multivariate Longevity &  40 & iPSC\\_Multivariate Longevity & eQTL  & 26-50\\\\\n",
       "\t timmers2020\\_healthspan\\_lifespan\\_longevity & ENSG00000127616.22    & iPSC & 19\\_11076746\\_T\\_C & iPSC\\_617   & Multivariate Longevity &   9 & iPSC\\_Multivariate Longevity & eQTL  & 6-10 \\\\\n",
       "\t timmers2020\\_healthspan\\_lifespan\\_longevity & ENSG00000140564.13    & iPSC & 15\\_90885406\\_G\\_A & iPSC\\_212   & Multivariate Longevity &   5 & iPSC\\_Multivariate Longevity & eQTL  & 1-5  \\\\\n",
       "\t timmers2020\\_healthspan\\_lifespan\\_longevity & ENSG00000182511.12    & CVPC & 15\\_90885406\\_G\\_A & CVPC\\_1191  & Multivariate Longevity &  11 & CVPC\\_Multivariate Longevity & eQTL  & 11-15\\\\\n",
       "\t timmers2020\\_healthspan\\_lifespan\\_longevity & ENSG00000198901.14    & iPSC & 15\\_90885406\\_G\\_A & iPSC\\_7051  & Multivariate Longevity &   5 & iPSC\\_Multivariate Longevity & eQTL  & 1-5  \\\\\n",
       "\t timmers2020\\_healthspan\\_lifespan\\_longevity & ipsc\\_atac\\_peak\\_107357 & iPSC & 2\\_201340018\\_T\\_C & iPSC\\_8821  & Multivariate Longevity &  28 & iPSC\\_Multivariate Longevity & caQTL & 26-50\\\\\n",
       "\t timmers2020\\_healthspan\\_lifespan\\_longevity & ipsc\\_atac\\_peak\\_166376 & iPSC & 6\\_108687991\\_A\\_G & iPSC\\_10846 & Multivariate Longevity &  41 & iPSC\\_Multivariate Longevity & caQTL & 26-50\\\\\n",
       "\t timmers2020\\_healthspan\\_lifespan\\_longevity & ipsc\\_atac\\_peak\\_66932  & iPSC & 15\\_90885406\\_G\\_A & iPSC\\_212   & Multivariate Longevity &   8 & iPSC\\_Multivariate Longevity & caQTL & 6-10 \\\\\n",
       "\t timmers2020\\_healthspan\\_lifespan\\_longevity & ppc\\_atac\\_peak\\_125518  & PPC  & 19\\_11076746\\_T\\_C & PPC\\_6379   & Multivariate Longevity &  33 & PPC\\_Multivariate Longevity  & caQTL & 26-50\\\\\n",
       "\t timmers2020\\_healthspan\\_lifespan\\_longevity & ppc\\_atac\\_peak\\_150902  & PPC  & 2\\_201340018\\_T\\_C & PPC\\_7248   & Multivariate Longevity &  26 & PPC\\_Multivariate Longevity  & caQTL & 26-50\\\\\n",
       "\t timmers2020\\_healthspan\\_lifespan\\_longevity & ppc\\_atac\\_peak\\_94634   & PPC  & 15\\_90885406\\_G\\_A & PPC\\_146    & Multivariate Longevity &  15 & PPC\\_Multivariate Longevity  & caQTL & 11-15\\\\\n",
       "\\end{tabular}\n"
      ],
      "text/markdown": [
       "\n",
       "A data.frame: 992 × 10\n",
       "\n",
       "| trait &lt;chr&gt; | element_id &lt;chr&gt; | tissue &lt;chr&gt; | gwas_index &lt;chr&gt; | cluster_id &lt;chr&gt; | description &lt;chr&gt; | nsnp &lt;int&gt; | tissue_description &lt;chr&gt; | type &lt;chr&gt; | Bin &lt;fct&gt; |\n",
       "|---|---|---|---|---|---|---|---|---|---|\n",
       "| biomarkers-30760-both_sexes-irnt.meta | cvpc_atac_peak_100931 | CVPC | 16_88039793_T_C  | CVPC_6681  | HDL cholesterol |  26 | CVPC_HDL cholesterol | caQTL | 26-50 |\n",
       "| biomarkers-30760-both_sexes-irnt.meta | cvpc_atac_peak_101331 | CVPC | 17_598400_A_G    | CVPC_522   | HDL cholesterol |  17 | CVPC_HDL cholesterol | caQTL | 16-20 |\n",
       "| biomarkers-30760-both_sexes-irnt.meta | cvpc_atac_peak_103227 | CVPC | 17_16942153_T_C  | CVPC_6782  | HDL cholesterol |  12 | CVPC_HDL cholesterol | caQTL | 11-15 |\n",
       "| biomarkers-30760-both_sexes-irnt.meta | cvpc_atac_peak_109630 | CVPC | 17_78383251_CT_C | CVPC_7007  | HDL cholesterol |  33 | CVPC_HDL cholesterol | caQTL | 26-50 |\n",
       "| biomarkers-30760-both_sexes-irnt.meta | cvpc_atac_peak_114234 | CVPC | 18_43192321_G_C  | CVPC_7173  | HDL cholesterol |  99 | CVPC_HDL cholesterol | caQTL | &gt;50   |\n",
       "| biomarkers-30760-both_sexes-irnt.meta | cvpc_atac_peak_11450  | CVPC | 1_93444330_C_A   | CVPC_7182  | HDL cholesterol |  11 | CVPC_HDL cholesterol | caQTL | 11-15 |\n",
       "| biomarkers-30760-both_sexes-irnt.meta | cvpc_atac_peak_118840 | CVPC | 19_7459857_G_C   | CVPC_1485  | HDL cholesterol |  28 | CVPC_HDL cholesterol | caQTL | 26-50 |\n",
       "| biomarkers-30760-both_sexes-irnt.meta | cvpc_atac_peak_122484 | CVPC | 19_47087297_CA_C | CVPC_7505  | HDL cholesterol |  37 | CVPC_HDL cholesterol | caQTL | 26-50 |\n",
       "| biomarkers-30760-both_sexes-irnt.meta | cvpc_atac_peak_125793 | CVPC | 2_20151547_AT_A  | CVPC_7659  | HDL cholesterol |   5 | CVPC_HDL cholesterol | caQTL | 1-5   |\n",
       "| biomarkers-30760-both_sexes-irnt.meta | cvpc_atac_peak_130703 | CVPC | 2_65063708_C_A   | CVPC_7816  | HDL cholesterol |  12 | CVPC_HDL cholesterol | caQTL | 11-15 |\n",
       "| biomarkers-30760-both_sexes-irnt.meta | cvpc_atac_peak_135436 | CVPC | 2_120590036_G_C  | CVPC_7984  | HDL cholesterol |   1 | CVPC_HDL cholesterol | caQTL | 1-5   |\n",
       "| biomarkers-30760-both_sexes-irnt.meta | cvpc_atac_peak_147558 | CVPC | 2_241457251_T_C  | CVPC_924   | HDL cholesterol |   1 | CVPC_HDL cholesterol | caQTL | 1-5   |\n",
       "| biomarkers-30760-both_sexes-irnt.meta | cvpc_atac_peak_149807 | CVPC | 20_22164137_T_C  | CVPC_8446  | HDL cholesterol |  75 | CVPC_HDL cholesterol | caQTL | &gt;50   |\n",
       "| biomarkers-30760-both_sexes-irnt.meta | cvpc_atac_peak_163549 | CVPC | 3_15604328_T_C   | CVPC_9011  | HDL cholesterol |  12 | CVPC_HDL cholesterol | caQTL | 11-15 |\n",
       "| biomarkers-30760-both_sexes-irnt.meta | cvpc_atac_peak_165571 | CVPC | 3_36932512_G_A   | CVPC_1789  | HDL cholesterol |   7 | CVPC_HDL cholesterol | caQTL | 6-10  |\n",
       "| biomarkers-30760-both_sexes-irnt.meta | cvpc_atac_peak_166876 | CVPC | 3_46884049_T_C   | CVPC_9123  | HDL cholesterol |  14 | CVPC_HDL cholesterol | caQTL | 11-15 |\n",
       "| biomarkers-30760-both_sexes-irnt.meta | cvpc_atac_peak_167283 | CVPC | 3_49893910_A_T   | CVPC_292   | HDL cholesterol |  45 | CVPC_HDL cholesterol | caQTL | 26-50 |\n",
       "| biomarkers-30760-both_sexes-irnt.meta | cvpc_atac_peak_179794 | CVPC | 3_185808320_CA_C | CVPC_9507  | HDL cholesterol |  41 | CVPC_HDL cholesterol | caQTL | 26-50 |\n",
       "| biomarkers-30760-both_sexes-irnt.meta | cvpc_atac_peak_186885 | CVPC | 4_68475769_T_C   | CVPC_244   | HDL cholesterol |  23 | CVPC_HDL cholesterol | caQTL | 21-25 |\n",
       "| biomarkers-30760-both_sexes-irnt.meta | cvpc_atac_peak_186886 | CVPC | 4_68475769_T_C   | CVPC_244   | HDL cholesterol |  23 | CVPC_HDL cholesterol | caQTL | 21-25 |\n",
       "| biomarkers-30760-both_sexes-irnt.meta | cvpc_atac_peak_186887 | CVPC | 4_68475769_T_C   | CVPC_244   | HDL cholesterol |  19 | CVPC_HDL cholesterol | caQTL | 16-20 |\n",
       "| biomarkers-30760-both_sexes-irnt.meta | cvpc_atac_peak_188849 | CVPC | 4_90316085_G_T   | CVPC_9824  | HDL cholesterol |  28 | CVPC_HDL cholesterol | caQTL | 26-50 |\n",
       "| biomarkers-30760-both_sexes-irnt.meta | cvpc_atac_peak_197204 | CVPC | 5_1283371_T_C    | CVPC_10078 | HDL cholesterol |   2 | CVPC_HDL cholesterol | caQTL | 1-5   |\n",
       "| biomarkers-30760-both_sexes-irnt.meta | cvpc_atac_peak_20585  | CVPC | 1_205770138_C_T  | CVPC_10342 | HDL cholesterol |   6 | CVPC_HDL cholesterol | caQTL | 6-10  |\n",
       "| biomarkers-30760-both_sexes-irnt.meta | cvpc_atac_peak_205884 | CVPC | 5_111912165_G_A  | CVPC_10343 | HDL cholesterol |  67 | CVPC_HDL cholesterol | caQTL | &gt;50   |\n",
       "| biomarkers-30760-both_sexes-irnt.meta | cvpc_atac_peak_208200 | CVPC | 5_135096700_A_G  | CVPC_10413 | HDL cholesterol |   6 | CVPC_HDL cholesterol | caQTL | 6-10  |\n",
       "| biomarkers-30760-both_sexes-irnt.meta | cvpc_atac_peak_208375 | CVPC | 5_136120102_T_TA | CVPC_10424 | HDL cholesterol | 143 | CVPC_HDL cholesterol | caQTL | &gt;50   |\n",
       "| biomarkers-30760-both_sexes-irnt.meta | cvpc_atac_peak_217512 | CVPC | 6_33693002_A_G   | CVPC_630   | HDL cholesterol |  68 | CVPC_HDL cholesterol | caQTL | &gt;50   |\n",
       "| biomarkers-30760-both_sexes-irnt.meta | cvpc_atac_peak_217515 | CVPC | 6_33693002_A_G   | CVPC_630   | HDL cholesterol |  69 | CVPC_HDL cholesterol | caQTL | &gt;50   |\n",
       "| biomarkers-30760-both_sexes-irnt.meta | cvpc_atac_peak_223777 | CVPC | 6_109276421_C_A  | CVPC_10931 | HDL cholesterol |   2 | CVPC_HDL cholesterol | caQTL | 1-5   |\n",
       "| ⋮ | ⋮ | ⋮ | ⋮ | ⋮ | ⋮ | ⋮ | ⋮ | ⋮ | ⋮ |\n",
       "| Mahajan.NatGenet2018b.T2D.European_sorted | ppc_atac_peak_213789  | PPC  | 5_75692544_A_G  | PPC_9423   | type 2 diabetes        |   8 | PPC_type 2 diabetes         | caQTL | 6-10  |\n",
       "| Mahajan.NatGenet2018b.T2D.European_sorted | ppc_atac_peak_215915  | PPC  | 5_102630709_T_C | PPC_9481   | type 2 diabetes        | 158 | PPC_type 2 diabetes         | caQTL | &gt;50   |\n",
       "| Mahajan.NatGenet2018b.T2D.European_sorted | ppc_atac_peak_215958  | PPC  | 5_103353125_A_G | PPC_9484   | type 2 diabetes        |  67 | PPC_type 2 diabetes         | caQTL | &gt;50   |\n",
       "| Mahajan.NatGenet2018b.T2D.European_sorted | ppc_atac_peak_244298  | PPC  | 7_28159058_C_T  | PPC_122    | type 2 diabetes        |   8 | PPC_type 2 diabetes         | caQTL | 6-10  |\n",
       "| Mahajan.NatGenet2018b.T2D.European_sorted | ppc_atac_peak_244305  | PPC  | 7_28159058_C_T  | PPC_122    | type 2 diabetes        |   6 | PPC_type 2 diabetes         | caQTL | 6-10  |\n",
       "| Mahajan.NatGenet2018b.T2D.European_sorted | ppc_atac_peak_256673  | PPC  | 8_9320222_T_G   | PPC_10895  | type 2 diabetes        |  35 | PPC_type 2 diabetes         | caQTL | 26-50 |\n",
       "| Mahajan.NatGenet2018b.T2D.European_sorted | ppc_atac_peak_41848   | PPC  | 11_2172280_C_T  | PPC_12298  | type 2 diabetes        |  12 | PPC_type 2 diabetes         | caQTL | 11-15 |\n",
       "| Mahajan.NatGenet2018b.T2D.European_sorted | ppc_atac_peak_42000   | PPC  | 11_2828300_A_C  | PPC_12303  | type 2 diabetes        |   1 | PPC_type 2 diabetes         | caQTL | 1-5   |\n",
       "| Mahajan.NatGenet2018b.T2D.European_sorted | ppc_atac_peak_45892   | PPC  | 11_43841480_G_A | PPC_12462  | type 2 diabetes        |  56 | PPC_type 2 diabetes         | caQTL | &gt;50   |\n",
       "| Mahajan.NatGenet2018b.T2D.European_sorted | ppc_atac_peak_59109   | PPC  | 12_26100624_A_C | PPC_12936  | type 2 diabetes        |  15 | PPC_type 2 diabetes         | caQTL | 11-15 |\n",
       "| Mahajan.NatGenet2018b.T2D.European_sorted | ppc_atac_peak_73604   | PPC  | 13_58099154_T_C | PPC_13423  | type 2 diabetes        |  20 | PPC_type 2 diabetes         | caQTL | 16-20 |\n",
       "| Mahajan.NatGenet2018b.T2D.European_sorted | ppc_atac_peak_78513   | PPC  | 14_22819726_C_G | PPC_13601  | type 2 diabetes        |   4 | PPC_type 2 diabetes         | caQTL | 1-5   |\n",
       "| Mahajan.NatGenet2018b.T2D.European_sorted | ppc_atac_peak_84890   | PPC  | 14_91452737_T_A | PPC_13825  | type 2 diabetes        |  49 | PPC_type 2 diabetes         | caQTL | 26-50 |\n",
       "| Mahajan.NatGenet2018b.T2D.European_sorted | ppc_atac_peak_91324   | PPC  | 15_67788548_A_T | PPC_14053  | type 2 diabetes        |   1 | PPC_type 2 diabetes         | caQTL | 1-5   |\n",
       "| timmers2020_healthspan_lifespan_longevity | cvpc_atac_peak_101289 | CVPC | 16_89959744_A_G | CVPC_6708  | Multivariate Longevity |   3 | CVPC_Multivariate Longevity | caQTL | 1-5   |\n",
       "| timmers2020_healthspan_lifespan_longevity | cvpc_atac_peak_91811  | CVPC | 15_90885406_G_A | CVPC_1191  | Multivariate Longevity |   8 | CVPC_Multivariate Longevity | caQTL | 6-10  |\n",
       "| timmers2020_healthspan_lifespan_longevity | cvpc_chip_peak_21796  | CVPC | 15_90885406_G_A | CVPC_16185 | Multivariate Longevity |   8 | CVPC_Multivariate Longevity | haQTL | 6-10  |\n",
       "| timmers2020_healthspan_lifespan_longevity | ENSG00000041357.16    | iPSC | 15_78623522_G_A | iPSC_1771  | Multivariate Longevity |   6 | iPSC_Multivariate Longevity | eQTL  | 6-10  |\n",
       "| timmers2020_healthspan_lifespan_longevity | ENSG00000109787.13    | CVPC | 4_38389131_T_C  | CVPC_3660  | Multivariate Longevity |  34 | CVPC_Multivariate Longevity | eQTL  | 26-50 |\n",
       "| timmers2020_healthspan_lifespan_longevity | ENSG00000118689.15    | iPSC | 6_108687991_A_G | iPSC_3323  | Multivariate Longevity |  40 | iPSC_Multivariate Longevity | eQTL  | 26-50 |\n",
       "| timmers2020_healthspan_lifespan_longevity | ENSG00000127616.22    | iPSC | 19_11076746_T_C | iPSC_617   | Multivariate Longevity |   9 | iPSC_Multivariate Longevity | eQTL  | 6-10  |\n",
       "| timmers2020_healthspan_lifespan_longevity | ENSG00000140564.13    | iPSC | 15_90885406_G_A | iPSC_212   | Multivariate Longevity |   5 | iPSC_Multivariate Longevity | eQTL  | 1-5   |\n",
       "| timmers2020_healthspan_lifespan_longevity | ENSG00000182511.12    | CVPC | 15_90885406_G_A | CVPC_1191  | Multivariate Longevity |  11 | CVPC_Multivariate Longevity | eQTL  | 11-15 |\n",
       "| timmers2020_healthspan_lifespan_longevity | ENSG00000198901.14    | iPSC | 15_90885406_G_A | iPSC_7051  | Multivariate Longevity |   5 | iPSC_Multivariate Longevity | eQTL  | 1-5   |\n",
       "| timmers2020_healthspan_lifespan_longevity | ipsc_atac_peak_107357 | iPSC | 2_201340018_T_C | iPSC_8821  | Multivariate Longevity |  28 | iPSC_Multivariate Longevity | caQTL | 26-50 |\n",
       "| timmers2020_healthspan_lifespan_longevity | ipsc_atac_peak_166376 | iPSC | 6_108687991_A_G | iPSC_10846 | Multivariate Longevity |  41 | iPSC_Multivariate Longevity | caQTL | 26-50 |\n",
       "| timmers2020_healthspan_lifespan_longevity | ipsc_atac_peak_66932  | iPSC | 15_90885406_G_A | iPSC_212   | Multivariate Longevity |   8 | iPSC_Multivariate Longevity | caQTL | 6-10  |\n",
       "| timmers2020_healthspan_lifespan_longevity | ppc_atac_peak_125518  | PPC  | 19_11076746_T_C | PPC_6379   | Multivariate Longevity |  33 | PPC_Multivariate Longevity  | caQTL | 26-50 |\n",
       "| timmers2020_healthspan_lifespan_longevity | ppc_atac_peak_150902  | PPC  | 2_201340018_T_C | PPC_7248   | Multivariate Longevity |  26 | PPC_Multivariate Longevity  | caQTL | 26-50 |\n",
       "| timmers2020_healthspan_lifespan_longevity | ppc_atac_peak_94634   | PPC  | 15_90885406_G_A | PPC_146    | Multivariate Longevity |  15 | PPC_Multivariate Longevity  | caQTL | 11-15 |\n",
       "\n"
      ],
      "text/plain": [
       "    trait                                     element_id            tissue\n",
       "1   biomarkers-30760-both_sexes-irnt.meta     cvpc_atac_peak_100931 CVPC  \n",
       "2   biomarkers-30760-both_sexes-irnt.meta     cvpc_atac_peak_101331 CVPC  \n",
       "3   biomarkers-30760-both_sexes-irnt.meta     cvpc_atac_peak_103227 CVPC  \n",
       "4   biomarkers-30760-both_sexes-irnt.meta     cvpc_atac_peak_109630 CVPC  \n",
       "5   biomarkers-30760-both_sexes-irnt.meta     cvpc_atac_peak_114234 CVPC  \n",
       "6   biomarkers-30760-both_sexes-irnt.meta     cvpc_atac_peak_11450  CVPC  \n",
       "7   biomarkers-30760-both_sexes-irnt.meta     cvpc_atac_peak_118840 CVPC  \n",
       "8   biomarkers-30760-both_sexes-irnt.meta     cvpc_atac_peak_122484 CVPC  \n",
       "9   biomarkers-30760-both_sexes-irnt.meta     cvpc_atac_peak_125793 CVPC  \n",
       "10  biomarkers-30760-both_sexes-irnt.meta     cvpc_atac_peak_130703 CVPC  \n",
       "11  biomarkers-30760-both_sexes-irnt.meta     cvpc_atac_peak_135436 CVPC  \n",
       "12  biomarkers-30760-both_sexes-irnt.meta     cvpc_atac_peak_147558 CVPC  \n",
       "13  biomarkers-30760-both_sexes-irnt.meta     cvpc_atac_peak_149807 CVPC  \n",
       "14  biomarkers-30760-both_sexes-irnt.meta     cvpc_atac_peak_163549 CVPC  \n",
       "15  biomarkers-30760-both_sexes-irnt.meta     cvpc_atac_peak_165571 CVPC  \n",
       "16  biomarkers-30760-both_sexes-irnt.meta     cvpc_atac_peak_166876 CVPC  \n",
       "17  biomarkers-30760-both_sexes-irnt.meta     cvpc_atac_peak_167283 CVPC  \n",
       "18  biomarkers-30760-both_sexes-irnt.meta     cvpc_atac_peak_179794 CVPC  \n",
       "19  biomarkers-30760-both_sexes-irnt.meta     cvpc_atac_peak_186885 CVPC  \n",
       "20  biomarkers-30760-both_sexes-irnt.meta     cvpc_atac_peak_186886 CVPC  \n",
       "21  biomarkers-30760-both_sexes-irnt.meta     cvpc_atac_peak_186887 CVPC  \n",
       "22  biomarkers-30760-both_sexes-irnt.meta     cvpc_atac_peak_188849 CVPC  \n",
       "23  biomarkers-30760-both_sexes-irnt.meta     cvpc_atac_peak_197204 CVPC  \n",
       "24  biomarkers-30760-both_sexes-irnt.meta     cvpc_atac_peak_20585  CVPC  \n",
       "25  biomarkers-30760-both_sexes-irnt.meta     cvpc_atac_peak_205884 CVPC  \n",
       "26  biomarkers-30760-both_sexes-irnt.meta     cvpc_atac_peak_208200 CVPC  \n",
       "27  biomarkers-30760-both_sexes-irnt.meta     cvpc_atac_peak_208375 CVPC  \n",
       "28  biomarkers-30760-both_sexes-irnt.meta     cvpc_atac_peak_217512 CVPC  \n",
       "29  biomarkers-30760-both_sexes-irnt.meta     cvpc_atac_peak_217515 CVPC  \n",
       "30  biomarkers-30760-both_sexes-irnt.meta     cvpc_atac_peak_223777 CVPC  \n",
       "⋮   ⋮                                         ⋮                     ⋮     \n",
       "963 Mahajan.NatGenet2018b.T2D.European_sorted ppc_atac_peak_213789  PPC   \n",
       "964 Mahajan.NatGenet2018b.T2D.European_sorted ppc_atac_peak_215915  PPC   \n",
       "965 Mahajan.NatGenet2018b.T2D.European_sorted ppc_atac_peak_215958  PPC   \n",
       "966 Mahajan.NatGenet2018b.T2D.European_sorted ppc_atac_peak_244298  PPC   \n",
       "967 Mahajan.NatGenet2018b.T2D.European_sorted ppc_atac_peak_244305  PPC   \n",
       "968 Mahajan.NatGenet2018b.T2D.European_sorted ppc_atac_peak_256673  PPC   \n",
       "969 Mahajan.NatGenet2018b.T2D.European_sorted ppc_atac_peak_41848   PPC   \n",
       "970 Mahajan.NatGenet2018b.T2D.European_sorted ppc_atac_peak_42000   PPC   \n",
       "971 Mahajan.NatGenet2018b.T2D.European_sorted ppc_atac_peak_45892   PPC   \n",
       "972 Mahajan.NatGenet2018b.T2D.European_sorted ppc_atac_peak_59109   PPC   \n",
       "973 Mahajan.NatGenet2018b.T2D.European_sorted ppc_atac_peak_73604   PPC   \n",
       "974 Mahajan.NatGenet2018b.T2D.European_sorted ppc_atac_peak_78513   PPC   \n",
       "975 Mahajan.NatGenet2018b.T2D.European_sorted ppc_atac_peak_84890   PPC   \n",
       "976 Mahajan.NatGenet2018b.T2D.European_sorted ppc_atac_peak_91324   PPC   \n",
       "977 timmers2020_healthspan_lifespan_longevity cvpc_atac_peak_101289 CVPC  \n",
       "978 timmers2020_healthspan_lifespan_longevity cvpc_atac_peak_91811  CVPC  \n",
       "979 timmers2020_healthspan_lifespan_longevity cvpc_chip_peak_21796  CVPC  \n",
       "980 timmers2020_healthspan_lifespan_longevity ENSG00000041357.16    iPSC  \n",
       "981 timmers2020_healthspan_lifespan_longevity ENSG00000109787.13    CVPC  \n",
       "982 timmers2020_healthspan_lifespan_longevity ENSG00000118689.15    iPSC  \n",
       "983 timmers2020_healthspan_lifespan_longevity ENSG00000127616.22    iPSC  \n",
       "984 timmers2020_healthspan_lifespan_longevity ENSG00000140564.13    iPSC  \n",
       "985 timmers2020_healthspan_lifespan_longevity ENSG00000182511.12    CVPC  \n",
       "986 timmers2020_healthspan_lifespan_longevity ENSG00000198901.14    iPSC  \n",
       "987 timmers2020_healthspan_lifespan_longevity ipsc_atac_peak_107357 iPSC  \n",
       "988 timmers2020_healthspan_lifespan_longevity ipsc_atac_peak_166376 iPSC  \n",
       "989 timmers2020_healthspan_lifespan_longevity ipsc_atac_peak_66932  iPSC  \n",
       "990 timmers2020_healthspan_lifespan_longevity ppc_atac_peak_125518  PPC   \n",
       "991 timmers2020_healthspan_lifespan_longevity ppc_atac_peak_150902  PPC   \n",
       "992 timmers2020_healthspan_lifespan_longevity ppc_atac_peak_94634   PPC   \n",
       "    gwas_index       cluster_id description            nsnp\n",
       "1   16_88039793_T_C  CVPC_6681  HDL cholesterol         26 \n",
       "2   17_598400_A_G    CVPC_522   HDL cholesterol         17 \n",
       "3   17_16942153_T_C  CVPC_6782  HDL cholesterol         12 \n",
       "4   17_78383251_CT_C CVPC_7007  HDL cholesterol         33 \n",
       "5   18_43192321_G_C  CVPC_7173  HDL cholesterol         99 \n",
       "6   1_93444330_C_A   CVPC_7182  HDL cholesterol         11 \n",
       "7   19_7459857_G_C   CVPC_1485  HDL cholesterol         28 \n",
       "8   19_47087297_CA_C CVPC_7505  HDL cholesterol         37 \n",
       "9   2_20151547_AT_A  CVPC_7659  HDL cholesterol          5 \n",
       "10  2_65063708_C_A   CVPC_7816  HDL cholesterol         12 \n",
       "11  2_120590036_G_C  CVPC_7984  HDL cholesterol          1 \n",
       "12  2_241457251_T_C  CVPC_924   HDL cholesterol          1 \n",
       "13  20_22164137_T_C  CVPC_8446  HDL cholesterol         75 \n",
       "14  3_15604328_T_C   CVPC_9011  HDL cholesterol         12 \n",
       "15  3_36932512_G_A   CVPC_1789  HDL cholesterol          7 \n",
       "16  3_46884049_T_C   CVPC_9123  HDL cholesterol         14 \n",
       "17  3_49893910_A_T   CVPC_292   HDL cholesterol         45 \n",
       "18  3_185808320_CA_C CVPC_9507  HDL cholesterol         41 \n",
       "19  4_68475769_T_C   CVPC_244   HDL cholesterol         23 \n",
       "20  4_68475769_T_C   CVPC_244   HDL cholesterol         23 \n",
       "21  4_68475769_T_C   CVPC_244   HDL cholesterol         19 \n",
       "22  4_90316085_G_T   CVPC_9824  HDL cholesterol         28 \n",
       "23  5_1283371_T_C    CVPC_10078 HDL cholesterol          2 \n",
       "24  1_205770138_C_T  CVPC_10342 HDL cholesterol          6 \n",
       "25  5_111912165_G_A  CVPC_10343 HDL cholesterol         67 \n",
       "26  5_135096700_A_G  CVPC_10413 HDL cholesterol          6 \n",
       "27  5_136120102_T_TA CVPC_10424 HDL cholesterol        143 \n",
       "28  6_33693002_A_G   CVPC_630   HDL cholesterol         68 \n",
       "29  6_33693002_A_G   CVPC_630   HDL cholesterol         69 \n",
       "30  6_109276421_C_A  CVPC_10931 HDL cholesterol          2 \n",
       "⋮   ⋮                ⋮          ⋮                      ⋮   \n",
       "963 5_75692544_A_G   PPC_9423   type 2 diabetes          8 \n",
       "964 5_102630709_T_C  PPC_9481   type 2 diabetes        158 \n",
       "965 5_103353125_A_G  PPC_9484   type 2 diabetes         67 \n",
       "966 7_28159058_C_T   PPC_122    type 2 diabetes          8 \n",
       "967 7_28159058_C_T   PPC_122    type 2 diabetes          6 \n",
       "968 8_9320222_T_G    PPC_10895  type 2 diabetes         35 \n",
       "969 11_2172280_C_T   PPC_12298  type 2 diabetes         12 \n",
       "970 11_2828300_A_C   PPC_12303  type 2 diabetes          1 \n",
       "971 11_43841480_G_A  PPC_12462  type 2 diabetes         56 \n",
       "972 12_26100624_A_C  PPC_12936  type 2 diabetes         15 \n",
       "973 13_58099154_T_C  PPC_13423  type 2 diabetes         20 \n",
       "974 14_22819726_C_G  PPC_13601  type 2 diabetes          4 \n",
       "975 14_91452737_T_A  PPC_13825  type 2 diabetes         49 \n",
       "976 15_67788548_A_T  PPC_14053  type 2 diabetes          1 \n",
       "977 16_89959744_A_G  CVPC_6708  Multivariate Longevity   3 \n",
       "978 15_90885406_G_A  CVPC_1191  Multivariate Longevity   8 \n",
       "979 15_90885406_G_A  CVPC_16185 Multivariate Longevity   8 \n",
       "980 15_78623522_G_A  iPSC_1771  Multivariate Longevity   6 \n",
       "981 4_38389131_T_C   CVPC_3660  Multivariate Longevity  34 \n",
       "982 6_108687991_A_G  iPSC_3323  Multivariate Longevity  40 \n",
       "983 19_11076746_T_C  iPSC_617   Multivariate Longevity   9 \n",
       "984 15_90885406_G_A  iPSC_212   Multivariate Longevity   5 \n",
       "985 15_90885406_G_A  CVPC_1191  Multivariate Longevity  11 \n",
       "986 15_90885406_G_A  iPSC_7051  Multivariate Longevity   5 \n",
       "987 2_201340018_T_C  iPSC_8821  Multivariate Longevity  28 \n",
       "988 6_108687991_A_G  iPSC_10846 Multivariate Longevity  41 \n",
       "989 15_90885406_G_A  iPSC_212   Multivariate Longevity   8 \n",
       "990 19_11076746_T_C  PPC_6379   Multivariate Longevity  33 \n",
       "991 2_201340018_T_C  PPC_7248   Multivariate Longevity  26 \n",
       "992 15_90885406_G_A  PPC_146    Multivariate Longevity  15 \n",
       "    tissue_description          type  Bin  \n",
       "1   CVPC_HDL cholesterol        caQTL 26-50\n",
       "2   CVPC_HDL cholesterol        caQTL 16-20\n",
       "3   CVPC_HDL cholesterol        caQTL 11-15\n",
       "4   CVPC_HDL cholesterol        caQTL 26-50\n",
       "5   CVPC_HDL cholesterol        caQTL >50  \n",
       "6   CVPC_HDL cholesterol        caQTL 11-15\n",
       "7   CVPC_HDL cholesterol        caQTL 26-50\n",
       "8   CVPC_HDL cholesterol        caQTL 26-50\n",
       "9   CVPC_HDL cholesterol        caQTL 1-5  \n",
       "10  CVPC_HDL cholesterol        caQTL 11-15\n",
       "11  CVPC_HDL cholesterol        caQTL 1-5  \n",
       "12  CVPC_HDL cholesterol        caQTL 1-5  \n",
       "13  CVPC_HDL cholesterol        caQTL >50  \n",
       "14  CVPC_HDL cholesterol        caQTL 11-15\n",
       "15  CVPC_HDL cholesterol        caQTL 6-10 \n",
       "16  CVPC_HDL cholesterol        caQTL 11-15\n",
       "17  CVPC_HDL cholesterol        caQTL 26-50\n",
       "18  CVPC_HDL cholesterol        caQTL 26-50\n",
       "19  CVPC_HDL cholesterol        caQTL 21-25\n",
       "20  CVPC_HDL cholesterol        caQTL 21-25\n",
       "21  CVPC_HDL cholesterol        caQTL 16-20\n",
       "22  CVPC_HDL cholesterol        caQTL 26-50\n",
       "23  CVPC_HDL cholesterol        caQTL 1-5  \n",
       "24  CVPC_HDL cholesterol        caQTL 6-10 \n",
       "25  CVPC_HDL cholesterol        caQTL >50  \n",
       "26  CVPC_HDL cholesterol        caQTL 6-10 \n",
       "27  CVPC_HDL cholesterol        caQTL >50  \n",
       "28  CVPC_HDL cholesterol        caQTL >50  \n",
       "29  CVPC_HDL cholesterol        caQTL >50  \n",
       "30  CVPC_HDL cholesterol        caQTL 1-5  \n",
       "⋮   ⋮                           ⋮     ⋮    \n",
       "963 PPC_type 2 diabetes         caQTL 6-10 \n",
       "964 PPC_type 2 diabetes         caQTL >50  \n",
       "965 PPC_type 2 diabetes         caQTL >50  \n",
       "966 PPC_type 2 diabetes         caQTL 6-10 \n",
       "967 PPC_type 2 diabetes         caQTL 6-10 \n",
       "968 PPC_type 2 diabetes         caQTL 26-50\n",
       "969 PPC_type 2 diabetes         caQTL 11-15\n",
       "970 PPC_type 2 diabetes         caQTL 1-5  \n",
       "971 PPC_type 2 diabetes         caQTL >50  \n",
       "972 PPC_type 2 diabetes         caQTL 11-15\n",
       "973 PPC_type 2 diabetes         caQTL 16-20\n",
       "974 PPC_type 2 diabetes         caQTL 1-5  \n",
       "975 PPC_type 2 diabetes         caQTL 26-50\n",
       "976 PPC_type 2 diabetes         caQTL 1-5  \n",
       "977 CVPC_Multivariate Longevity caQTL 1-5  \n",
       "978 CVPC_Multivariate Longevity caQTL 6-10 \n",
       "979 CVPC_Multivariate Longevity haQTL 6-10 \n",
       "980 iPSC_Multivariate Longevity eQTL  6-10 \n",
       "981 CVPC_Multivariate Longevity eQTL  26-50\n",
       "982 iPSC_Multivariate Longevity eQTL  26-50\n",
       "983 iPSC_Multivariate Longevity eQTL  6-10 \n",
       "984 iPSC_Multivariate Longevity eQTL  1-5  \n",
       "985 CVPC_Multivariate Longevity eQTL  11-15\n",
       "986 iPSC_Multivariate Longevity eQTL  1-5  \n",
       "987 iPSC_Multivariate Longevity caQTL 26-50\n",
       "988 iPSC_Multivariate Longevity caQTL 26-50\n",
       "989 iPSC_Multivariate Longevity caQTL 6-10 \n",
       "990 PPC_Multivariate Longevity  caQTL 26-50\n",
       "991 PPC_Multivariate Longevity  caQTL 26-50\n",
       "992 PPC_Multivariate Longevity  caQTL 11-15"
      ]
     },
     "metadata": {},
     "output_type": "display_data"
    }
   ],
   "source": [
    "credset_hist2"
   ]
  },
  {
   "cell_type": "code",
   "execution_count": 21,
   "metadata": {},
   "outputs": [
    {
     "data": {
      "image/png": "[encoded data removed]",
      "text/plain": [
       "plot without title"
      ]
     },
     "metadata": {
      "image/png": {
       "height": 240,
       "width": 240
      }
     },
     "output_type": "display_data"
    }
   ],
   "source": [
    "credset_hist = unique(get_credible_sets[, c(\"tissue\",\"description\",\"trait\",\"element_id\",\"nsnp\")])\n",
    "credset_hist2 = merge(indep4_element2, credset_hist,by=c(\"trait\",\"element_id\",\"tissue\"))\n",
    "credset_hist2$tissue_description = paste(credset_hist2$tissue, credset_hist2$description,sep=\"_\")\n",
    "credset_hist2$type = ifelse(grepl(\"^EN\",credset_hist2$element_id),\"eQTL\",\n",
    "                           ifelse(grepl(\"atac\",credset_hist2$element_id),\"caQTL\",\"haQTL\"))\n",
    "credset_hist2$Bin = ifelse(credset_hist2$nsnp <= 5, \"1-5\",\n",
    "                         ifelse(credset_hist2$nsnp <= 10, \"6-10\",\n",
    "                               ifelse(credset_hist2$nsnp <= 15, \"11-15\",\n",
    "                                     ifelse(credset_hist2$nsnp <= 20, \"16-20\",\n",
    "                                           ifelse(credset_hist2$nsnp <= 25, \"21-25\",\n",
    "                                                 ifelse(credset_hist2$nsnp <= 50, \"26-50\",\">50\"))))))\n",
    "credset_hist2$Bin = factor(credset_hist2$Bin, levels = c(\"1-5\",\"6-10\",\"11-15\",\"16-20\",\"21-25\",\"26-50\",\">50\"))\n",
    "credset_summary = as.data.frame(table(credset_hist2$type))\n",
    "\n",
    "credset_hist3 = as.data.frame(table(credset_hist2$type,credset_hist2$Bin))\n",
    "credset_hist3$type = as.character(credset_hist3$Var1)\n",
    "\n",
    "\n",
    "credset_hist3$Fraction = ifelse(credset_hist3$type == \"caQTL\", credset_hist3$Freq/475,\n",
    "                               ifelse(credset_hist3$type == \"eQTL\", credset_hist3$Freq/367,credset_hist3$Freq/150))\n",
    "psize(4,4)\n",
    "a = ggplot(credset_hist3, aes(Var2, Fraction, fill=type)) + theme_bw2 + \n",
    "        theme(axis.text.x = element_text(angle = 45, vjust = 1, hjust=1),axis.title = element_text(size=12),\n",
    "             legend.position = \"bottom\" , axis.text = element_text(size=12)) + \n",
    "        xlab(\"No. SNPs in Credible Sets\") + ylab(\"Fraction of\\nColocalized QTLs\") +\n",
    "        geom_bar(stat=\"identity\", position=\"dodge\") + \n",
    "        scale_fill_manual(values= c(\"brown\",\"orange\",\"lightBlue\")) + theme(legend.title=element_blank(),\n",
    "                                                      legend.text=element_text(size=10))\n",
    "a"
   ]
  },
  {
   "cell_type": "code",
   "execution_count": 30,
   "metadata": {},
   "outputs": [
    {
     "data": {
      "text/plain": [
       "\n",
       "caQTL  eQTL haQTL \n",
       "  530   404   180 "
      ]
     },
     "metadata": {},
     "output_type": "display_data"
    },
    {
     "data": {
      "text/html": [
       "1114"
      ],
      "text/latex": [
       "1114"
      ],
      "text/markdown": [
       "1114"
      ],
      "text/plain": [
       "[1] 1114"
      ]
     },
     "metadata": {},
     "output_type": "display_data"
    },
    {
     "data": {
      "image/png": "[encoded data removed]",
      "text/plain": [
       "plot without title"
      ]
     },
     "metadata": {
      "image/png": {
       "height": 240,
       "width": 240
      }
     },
     "output_type": "display_data"
    }
   ],
   "source": [
    "### checking \n",
    "\n",
    "credset_hist = unique(get_credible_sets[, c(\"tissue\",\"description\",\"trait\",\"element_id\",\"nsnp\")])\n",
    "# credset_hist2 = merge(indep4_element2, credset_hist,by=c(\"trait\",\"element_id\",\"tissue\"))\n",
    "credset_hist$tissue_description = paste(credset_hist$tissue, credset_hist$description,sep=\"_\")\n",
    "credset_hist$type = ifelse(grepl(\"^EN\",credset_hist$element_id),\"eQTL\",\n",
    "                           ifelse(grepl(\"atac\",credset_hist$element_id),\"caQTL\",\"haQTL\"))\n",
    "credset_hist$Bin = ifelse(credset_hist$nsnp <= 5, \"1-5\",\n",
    "                         ifelse(credset_hist$nsnp <= 10, \"6-10\",\n",
    "                               ifelse(credset_hist$nsnp <= 15, \"11-15\",\n",
    "                                     ifelse(credset_hist$nsnp <= 20, \"16-20\",\n",
    "                                           ifelse(credset_hist$nsnp <= 25, \"21-25\",\n",
    "                                                 ifelse(credset_hist$nsnp <= 50, \"26-50\",\">50\"))))))\n",
    "credset_hist$Bin = factor(credset_hist$Bin, levels = c(\"1-5\",\"6-10\",\"11-15\",\"16-20\",\"21-25\",\"26-50\",\">50\"))\n",
    "credset_summary = as.data.frame(table(credset_hist$type))\n",
    "\n",
    "credset_hist3 = as.data.frame(table(credset_hist$type,credset_hist$Bin))\n",
    "credset_hist3$type = as.character(credset_hist3$Var1)\n",
    "\n",
    "\n",
    "credset_hist3$Fraction = ifelse(credset_hist3$type == \"caQTL\", credset_hist3$Freq/530,\n",
    "                               ifelse(credset_hist3$type == \"eQTL\", credset_hist3$Freq/404,credset_hist3$Freq/180))\n",
    "psize(4,4)\n",
    "a = ggplot(credset_hist3, aes(Var2, Fraction, fill=type)) + theme_bw2 + \n",
    "        theme(axis.text.x = element_text(angle = 45, vjust = 1, hjust=1),axis.title = element_text(size=12),\n",
    "             legend.position = \"bottom\" , axis.text = element_text(size=12)) + \n",
    "        xlab(\"No. SNPs in Credible Sets\") + ylab(\"Fraction of\\nColocalized QTLs\") +\n",
    "        geom_bar(stat=\"identity\", position=\"dodge\") + \n",
    "        scale_fill_manual(values= c(\"brown\",\"orange\",\"lightBlue\")) + theme(legend.title=element_blank(),\n",
    "                                                      legend.text=element_text(size=10))\n",
    "a\n",
    "table(credset_hist$type)\n",
    "nrow(credset_hist)"
   ]
  },
  {
   "cell_type": "code",
   "execution_count": null,
   "metadata": {},
   "outputs": [],
   "source": []
  },
  {
   "cell_type": "code",
   "execution_count": 10,
   "metadata": {},
   "outputs": [
    {
     "data": {
      "text/html": [
       "32343"
      ],
      "text/latex": [
       "32343"
      ],
      "text/markdown": [
       "32343"
      ],
      "text/plain": [
       "[1] 32343"
      ]
     },
     "metadata": {},
     "output_type": "display_data"
    },
    {
     "data": {
      "text/html": [
       "32343"
      ],
      "text/latex": [
       "32343"
      ],
      "text/markdown": [
       "32343"
      ],
      "text/plain": [
       "[1] 32343"
      ]
     },
     "metadata": {},
     "output_type": "display_data"
    },
    {
     "data": {
      "text/html": [
       "32343"
      ],
      "text/latex": [
       "32343"
      ],
      "text/markdown": [
       "32343"
      ],
      "text/plain": [
       "[1] 32343"
      ]
     },
     "metadata": {},
     "output_type": "display_data"
    }
   ],
   "source": [
    "nrow(get_credible_sets)\n",
    "\n",
    "get_credible_sets$tissue_element = paste(get_credible_sets$tissue, get_credible_sets$element_id, sep=\"_\")\n",
    "get_credible_sets2 = merge(get_credible_sets,mods[,c(\"tissue_element\",\"Cluster_ID\")],by=\"tissue_element\")\n",
    "nrow(get_credible_sets)\n",
    "nrow(get_credible_sets2)\n",
    "get_credible_sets2$coloc_id = paste(get_credible_sets2$Cluster_ID,get_credible_sets2$trait,sep=\"_\")\n",
    "topsnps = get_credible_sets2 %>% group_by(coloc_id) %>% filter(SNP.PP.H4 == max(SNP.PP.H4)) %>% ungroup()\n",
    "topsnps$coloc_snp_id = paste(topsnps$coloc_id,topsnps$snp,sep=\"_\")\n",
    "\n",
    "\n"
   ]
  },
  {
   "cell_type": "code",
   "execution_count": 1,
   "metadata": {},
   "outputs": [
    {
     "ename": "ERROR",
     "evalue": "Error in eval(expr, envir, enclos): object 'get_credible_sets2' not found\n",
     "output_type": "error",
     "traceback": [
      "Error in eval(expr, envir, enclos): object 'get_credible_sets2' not found\nTraceback:\n"
     ]
    }
   ],
   "source": [
    "cvpc274 = get_credible_sets2[ get_credible_sets2$Cluster_ID == \"CVPC_274\",]\n",
    "# cvpc274 %>% arrange(-SNP.PP.H4)"
   ]
  },
  {
   "cell_type": "code",
   "execution_count": 31,
   "metadata": {},
   "outputs": [
    {
     "data": {
      "text/html": [
       "<table class=\"dataframe\">\n",
       "<caption>A data.table: 2 × 13</caption>\n",
       "<thead>\n",
       "\t<tr><th scope=col>tissue_element</th><th scope=col>chrom</th><th scope=col>start</th><th scope=col>end</th><th scope=col>snp</th><th scope=col>SNP.PP.H4</th><th scope=col>element_id</th><th scope=col>tissue</th><th scope=col>trait</th><th scope=col>description</th><th scope=col>nsnp</th><th scope=col>Cluster_ID</th><th scope=col>coloc_id</th></tr>\n",
       "\t<tr><th scope=col>&lt;chr&gt;</th><th scope=col>&lt;chr&gt;</th><th scope=col>&lt;dbl&gt;</th><th scope=col>&lt;dbl&gt;</th><th scope=col>&lt;chr&gt;</th><th scope=col>&lt;dbl&gt;</th><th scope=col>&lt;chr&gt;</th><th scope=col>&lt;chr&gt;</th><th scope=col>&lt;chr&gt;</th><th scope=col>&lt;chr&gt;</th><th scope=col>&lt;int&gt;</th><th scope=col>&lt;chr&gt;</th><th scope=col>&lt;chr&gt;</th></tr>\n",
       "</thead>\n",
       "<tbody>\n",
       "\t<tr><td>PPC_ppc_atac_peak_244298</td><td>chr7</td><td>28149791</td><td>28149792</td><td>VAR_7_28149792_T_C</td><td>0.01415807</td><td>ppc_atac_peak_244298</td><td>PPC</td><td>Mahajan.NatGenet2018b.T2D.European_sorted</td><td>type 2 diabetes</td><td>8</td><td>PPC_122</td><td>PPC_122_Mahajan.NatGenet2018b.T2D.European_sorted</td></tr>\n",
       "\t<tr><td>PPC_ENSG00000153814.13  </td><td>chr7</td><td>28149791</td><td>28149792</td><td>VAR_7_28149792_T_C</td><td>0.01346689</td><td>ENSG00000153814.13  </td><td>PPC</td><td>Mahajan.NatGenet2018b.T2D.European_sorted</td><td>type 2 diabetes</td><td>5</td><td>PPC_122</td><td>PPC_122_Mahajan.NatGenet2018b.T2D.European_sorted</td></tr>\n",
       "</tbody>\n",
       "</table>\n"
      ],
      "text/latex": [
       "A data.table: 2 × 13\n",
       "\\begin{tabular}{lllllllllllll}\n",
       " tissue\\_element & chrom & start & end & snp & SNP.PP.H4 & element\\_id & tissue & trait & description & nsnp & Cluster\\_ID & coloc\\_id\\\\\n",
       " <chr> & <chr> & <dbl> & <dbl> & <chr> & <dbl> & <chr> & <chr> & <chr> & <chr> & <int> & <chr> & <chr>\\\\\n",
       "\\hline\n",
       "\t PPC\\_ppc\\_atac\\_peak\\_244298 & chr7 & 28149791 & 28149792 & VAR\\_7\\_28149792\\_T\\_C & 0.01415807 & ppc\\_atac\\_peak\\_244298 & PPC & Mahajan.NatGenet2018b.T2D.European\\_sorted & type 2 diabetes & 8 & PPC\\_122 & PPC\\_122\\_Mahajan.NatGenet2018b.T2D.European\\_sorted\\\\\n",
       "\t PPC\\_ENSG00000153814.13   & chr7 & 28149791 & 28149792 & VAR\\_7\\_28149792\\_T\\_C & 0.01346689 & ENSG00000153814.13   & PPC & Mahajan.NatGenet2018b.T2D.European\\_sorted & type 2 diabetes & 5 & PPC\\_122 & PPC\\_122\\_Mahajan.NatGenet2018b.T2D.European\\_sorted\\\\\n",
       "\\end{tabular}\n"
      ],
      "text/markdown": [
       "\n",
       "A data.table: 2 × 13\n",
       "\n",
       "| tissue_element &lt;chr&gt; | chrom &lt;chr&gt; | start &lt;dbl&gt; | end &lt;dbl&gt; | snp &lt;chr&gt; | SNP.PP.H4 &lt;dbl&gt; | element_id &lt;chr&gt; | tissue &lt;chr&gt; | trait &lt;chr&gt; | description &lt;chr&gt; | nsnp &lt;int&gt; | Cluster_ID &lt;chr&gt; | coloc_id &lt;chr&gt; |\n",
       "|---|---|---|---|---|---|---|---|---|---|---|---|---|\n",
       "| PPC_ppc_atac_peak_244298 | chr7 | 28149791 | 28149792 | VAR_7_28149792_T_C | 0.01415807 | ppc_atac_peak_244298 | PPC | Mahajan.NatGenet2018b.T2D.European_sorted | type 2 diabetes | 8 | PPC_122 | PPC_122_Mahajan.NatGenet2018b.T2D.European_sorted |\n",
       "| PPC_ENSG00000153814.13   | chr7 | 28149791 | 28149792 | VAR_7_28149792_T_C | 0.01346689 | ENSG00000153814.13   | PPC | Mahajan.NatGenet2018b.T2D.European_sorted | type 2 diabetes | 5 | PPC_122 | PPC_122_Mahajan.NatGenet2018b.T2D.European_sorted |\n",
       "\n"
      ],
      "text/plain": [
       "  tissue_element           chrom start    end      snp               \n",
       "1 PPC_ppc_atac_peak_244298 chr7  28149791 28149792 VAR_7_28149792_T_C\n",
       "2 PPC_ENSG00000153814.13   chr7  28149791 28149792 VAR_7_28149792_T_C\n",
       "  SNP.PP.H4  element_id           tissue\n",
       "1 0.01415807 ppc_atac_peak_244298 PPC   \n",
       "2 0.01346689 ENSG00000153814.13   PPC   \n",
       "  trait                                     description     nsnp Cluster_ID\n",
       "1 Mahajan.NatGenet2018b.T2D.European_sorted type 2 diabetes 8    PPC_122   \n",
       "2 Mahajan.NatGenet2018b.T2D.European_sorted type 2 diabetes 5    PPC_122   \n",
       "  coloc_id                                         \n",
       "1 PPC_122_Mahajan.NatGenet2018b.T2D.European_sorted\n",
       "2 PPC_122_Mahajan.NatGenet2018b.T2D.European_sorted"
      ]
     },
     "metadata": {},
     "output_type": "display_data"
    }
   ],
   "source": [
    "ppc122 = get_credible_sets2[ get_credible_sets2$Cluster_ID == \"PPC_122\",]\n",
    "ppc122 %>% filter(snp == \"VAR_7_28149792_T_C\") %>% arrange(-SNP.PP.H4)"
   ]
  },
  {
   "cell_type": "code",
   "execution_count": 19,
   "metadata": {},
   "outputs": [],
   "source": [
    "fwrite(credset_hist3,\"~/projects/Resource/iPSCORE_Multi-QTL_Resource/SourceData/SOURCEDATA.FIGURE6A.txt\",sep=\"\\t\",row.names=F,quote=F)"
   ]
  },
  {
   "cell_type": "code",
   "execution_count": 9,
   "metadata": {},
   "outputs": [
    {
     "data": {
      "text/plain": [
       "\n",
       "caQTL  eQTL haQTL \n",
       "  475   367   150 "
      ]
     },
     "metadata": {},
     "output_type": "display_data"
    },
    {
     "data": {
      "text/html": [
       "992"
      ],
      "text/latex": [
       "992"
      ],
      "text/markdown": [
       "992"
      ],
      "text/plain": [
       "[1] 992"
      ]
     },
     "metadata": {},
     "output_type": "display_data"
    }
   ],
   "source": [
    "table(credset_hist2$type)\n",
    "nrow(credset_hist2)"
   ]
  },
  {
   "cell_type": "code",
   "execution_count": 11,
   "metadata": {},
   "outputs": [],
   "source": [
    "credset_hist2$coloc_id = paste(credset_hist2$tissue, credset_hist2$element_id, credset_hist2$trait,sep=\"_\")"
   ]
  },
  {
   "cell_type": "code",
   "execution_count": 12,
   "metadata": {},
   "outputs": [],
   "source": [
    "get_credible_sets$coloc_id = paste(get_credible_sets$tissue, get_credible_sets$element_id, get_credible_sets$trait,sep=\"_\")\n",
    "cs_filt = get_credible_sets[ get_credible_sets$coloc_id %in% credset_hist2$coloc_id,]\n",
    "\n",
    "\n",
    "cs_filt$tissue_element = paste(cs_filt$tissue, cs_filt$element_id, sep=\"_\")\n",
    "highcon_cs = as.data.frame(cs_filt[ cs_filt$nsnp <= 25, ])\n",
    "indep4_element3 = merge(indep4_element2, credset_hist,by=c(\"trait\",\"element_id\",\"tissue\"))\n",
    "indep4_element3$tissue_element = paste(indep4_element3$tissue, indep4_element3$element_id, sep=\"_\")\n",
    "highcon_cs2 = unique(merge(highcon_cs,indep4_element3[,c(\"tissue_element\",\"cluster_id\")]))\n",
    "\n",
    "\n",
    "highcon_cs2$tissue_element = NULL"
   ]
  },
  {
   "cell_type": "code",
   "execution_count": 15,
   "metadata": {},
   "outputs": [
    {
     "data": {
      "text/html": [
       "<table class=\"dataframe\">\n",
       "<caption>A data.frame: 992 × 11</caption>\n",
       "<thead>\n",
       "\t<tr><th scope=col>trait</th><th scope=col>element_id</th><th scope=col>tissue</th><th scope=col>gwas_index</th><th scope=col>cluster_id</th><th scope=col>description</th><th scope=col>nsnp</th><th scope=col>tissue_description</th><th scope=col>type</th><th scope=col>Bin</th><th scope=col>coloc_id</th></tr>\n",
       "\t<tr><th scope=col>&lt;chr&gt;</th><th scope=col>&lt;chr&gt;</th><th scope=col>&lt;chr&gt;</th><th scope=col>&lt;chr&gt;</th><th scope=col>&lt;chr&gt;</th><th scope=col>&lt;chr&gt;</th><th scope=col>&lt;int&gt;</th><th scope=col>&lt;chr&gt;</th><th scope=col>&lt;chr&gt;</th><th scope=col>&lt;fct&gt;</th><th scope=col>&lt;chr&gt;</th></tr>\n",
       "</thead>\n",
       "<tbody>\n",
       "\t<tr><td>biomarkers-30760-both_sexes-irnt.meta</td><td>cvpc_atac_peak_100931</td><td>CVPC</td><td>16_88039793_T_C </td><td>CVPC_6681 </td><td>HDL cholesterol</td><td> 26</td><td>CVPC_HDL cholesterol</td><td>caQTL</td><td>26-50</td><td>CVPC_cvpc_atac_peak_100931_biomarkers-30760-both_sexes-irnt.meta</td></tr>\n",
       "\t<tr><td>biomarkers-30760-both_sexes-irnt.meta</td><td>cvpc_atac_peak_101331</td><td>CVPC</td><td>17_598400_A_G   </td><td>CVPC_522  </td><td>HDL cholesterol</td><td> 17</td><td>CVPC_HDL cholesterol</td><td>caQTL</td><td>16-20</td><td>CVPC_cvpc_atac_peak_101331_biomarkers-30760-both_sexes-irnt.meta</td></tr>\n",
       "\t<tr><td>biomarkers-30760-both_sexes-irnt.meta</td><td>cvpc_atac_peak_103227</td><td>CVPC</td><td>17_16942153_T_C </td><td>CVPC_6782 </td><td>HDL cholesterol</td><td> 12</td><td>CVPC_HDL cholesterol</td><td>caQTL</td><td>11-15</td><td>CVPC_cvpc_atac_peak_103227_biomarkers-30760-both_sexes-irnt.meta</td></tr>\n",
       "\t<tr><td>biomarkers-30760-both_sexes-irnt.meta</td><td>cvpc_atac_peak_109630</td><td>CVPC</td><td>17_78383251_CT_C</td><td>CVPC_7007 </td><td>HDL cholesterol</td><td> 33</td><td>CVPC_HDL cholesterol</td><td>caQTL</td><td>26-50</td><td>CVPC_cvpc_atac_peak_109630_biomarkers-30760-both_sexes-irnt.meta</td></tr>\n",
       "\t<tr><td>biomarkers-30760-both_sexes-irnt.meta</td><td>cvpc_atac_peak_114234</td><td>CVPC</td><td>18_43192321_G_C </td><td>CVPC_7173 </td><td>HDL cholesterol</td><td> 99</td><td>CVPC_HDL cholesterol</td><td>caQTL</td><td><span style=white-space:pre-wrap>&gt;50  </span></td><td>CVPC_cvpc_atac_peak_114234_biomarkers-30760-both_sexes-irnt.meta</td></tr>\n",
       "\t<tr><td>biomarkers-30760-both_sexes-irnt.meta</td><td>cvpc_atac_peak_11450 </td><td>CVPC</td><td>1_93444330_C_A  </td><td>CVPC_7182 </td><td>HDL cholesterol</td><td> 11</td><td>CVPC_HDL cholesterol</td><td>caQTL</td><td>11-15</td><td>CVPC_cvpc_atac_peak_11450_biomarkers-30760-both_sexes-irnt.meta </td></tr>\n",
       "\t<tr><td>biomarkers-30760-both_sexes-irnt.meta</td><td>cvpc_atac_peak_118840</td><td>CVPC</td><td>19_7459857_G_C  </td><td>CVPC_1485 </td><td>HDL cholesterol</td><td> 28</td><td>CVPC_HDL cholesterol</td><td>caQTL</td><td>26-50</td><td>CVPC_cvpc_atac_peak_118840_biomarkers-30760-both_sexes-irnt.meta</td></tr>\n",
       "\t<tr><td>biomarkers-30760-both_sexes-irnt.meta</td><td>cvpc_atac_peak_122484</td><td>CVPC</td><td>19_47087297_CA_C</td><td>CVPC_7505 </td><td>HDL cholesterol</td><td> 37</td><td>CVPC_HDL cholesterol</td><td>caQTL</td><td>26-50</td><td>CVPC_cvpc_atac_peak_122484_biomarkers-30760-both_sexes-irnt.meta</td></tr>\n",
       "\t<tr><td>biomarkers-30760-both_sexes-irnt.meta</td><td>cvpc_atac_peak_125793</td><td>CVPC</td><td>2_20151547_AT_A </td><td>CVPC_7659 </td><td>HDL cholesterol</td><td>  5</td><td>CVPC_HDL cholesterol</td><td>caQTL</td><td>1-5  </td><td>CVPC_cvpc_atac_peak_125793_biomarkers-30760-both_sexes-irnt.meta</td></tr>\n",
       "\t<tr><td>biomarkers-30760-both_sexes-irnt.meta</td><td>cvpc_atac_peak_130703</td><td>CVPC</td><td>2_65063708_C_A  </td><td>CVPC_7816 </td><td>HDL cholesterol</td><td> 12</td><td>CVPC_HDL cholesterol</td><td>caQTL</td><td>11-15</td><td>CVPC_cvpc_atac_peak_130703_biomarkers-30760-both_sexes-irnt.meta</td></tr>\n",
       "\t<tr><td>biomarkers-30760-both_sexes-irnt.meta</td><td>cvpc_atac_peak_135436</td><td>CVPC</td><td>2_120590036_G_C </td><td>CVPC_7984 </td><td>HDL cholesterol</td><td>  1</td><td>CVPC_HDL cholesterol</td><td>caQTL</td><td>1-5  </td><td>CVPC_cvpc_atac_peak_135436_biomarkers-30760-both_sexes-irnt.meta</td></tr>\n",
       "\t<tr><td>biomarkers-30760-both_sexes-irnt.meta</td><td>cvpc_atac_peak_147558</td><td>CVPC</td><td>2_241457251_T_C </td><td>CVPC_924  </td><td>HDL cholesterol</td><td>  1</td><td>CVPC_HDL cholesterol</td><td>caQTL</td><td>1-5  </td><td>CVPC_cvpc_atac_peak_147558_biomarkers-30760-both_sexes-irnt.meta</td></tr>\n",
       "\t<tr><td>biomarkers-30760-both_sexes-irnt.meta</td><td>cvpc_atac_peak_149807</td><td>CVPC</td><td>20_22164137_T_C </td><td>CVPC_8446 </td><td>HDL cholesterol</td><td> 75</td><td>CVPC_HDL cholesterol</td><td>caQTL</td><td><span style=white-space:pre-wrap>&gt;50  </span></td><td>CVPC_cvpc_atac_peak_149807_biomarkers-30760-both_sexes-irnt.meta</td></tr>\n",
       "\t<tr><td>biomarkers-30760-both_sexes-irnt.meta</td><td>cvpc_atac_peak_163549</td><td>CVPC</td><td>3_15604328_T_C  </td><td>CVPC_9011 </td><td>HDL cholesterol</td><td> 12</td><td>CVPC_HDL cholesterol</td><td>caQTL</td><td>11-15</td><td>CVPC_cvpc_atac_peak_163549_biomarkers-30760-both_sexes-irnt.meta</td></tr>\n",
       "\t<tr><td>biomarkers-30760-both_sexes-irnt.meta</td><td>cvpc_atac_peak_165571</td><td>CVPC</td><td>3_36932512_G_A  </td><td>CVPC_1789 </td><td>HDL cholesterol</td><td>  7</td><td>CVPC_HDL cholesterol</td><td>caQTL</td><td>6-10 </td><td>CVPC_cvpc_atac_peak_165571_biomarkers-30760-both_sexes-irnt.meta</td></tr>\n",
       "\t<tr><td>biomarkers-30760-both_sexes-irnt.meta</td><td>cvpc_atac_peak_166876</td><td>CVPC</td><td>3_46884049_T_C  </td><td>CVPC_9123 </td><td>HDL cholesterol</td><td> 14</td><td>CVPC_HDL cholesterol</td><td>caQTL</td><td>11-15</td><td>CVPC_cvpc_atac_peak_166876_biomarkers-30760-both_sexes-irnt.meta</td></tr>\n",
       "\t<tr><td>biomarkers-30760-both_sexes-irnt.meta</td><td>cvpc_atac_peak_167283</td><td>CVPC</td><td>3_49893910_A_T  </td><td>CVPC_292  </td><td>HDL cholesterol</td><td> 45</td><td>CVPC_HDL cholesterol</td><td>caQTL</td><td>26-50</td><td>CVPC_cvpc_atac_peak_167283_biomarkers-30760-both_sexes-irnt.meta</td></tr>\n",
       "\t<tr><td>biomarkers-30760-both_sexes-irnt.meta</td><td>cvpc_atac_peak_179794</td><td>CVPC</td><td>3_185808320_CA_C</td><td>CVPC_9507 </td><td>HDL cholesterol</td><td> 41</td><td>CVPC_HDL cholesterol</td><td>caQTL</td><td>26-50</td><td>CVPC_cvpc_atac_peak_179794_biomarkers-30760-both_sexes-irnt.meta</td></tr>\n",
       "\t<tr><td>biomarkers-30760-both_sexes-irnt.meta</td><td>cvpc_atac_peak_186885</td><td>CVPC</td><td>4_68475769_T_C  </td><td>CVPC_244  </td><td>HDL cholesterol</td><td> 23</td><td>CVPC_HDL cholesterol</td><td>caQTL</td><td>21-25</td><td>CVPC_cvpc_atac_peak_186885_biomarkers-30760-both_sexes-irnt.meta</td></tr>\n",
       "\t<tr><td>biomarkers-30760-both_sexes-irnt.meta</td><td>cvpc_atac_peak_186886</td><td>CVPC</td><td>4_68475769_T_C  </td><td>CVPC_244  </td><td>HDL cholesterol</td><td> 23</td><td>CVPC_HDL cholesterol</td><td>caQTL</td><td>21-25</td><td>CVPC_cvpc_atac_peak_186886_biomarkers-30760-both_sexes-irnt.meta</td></tr>\n",
       "\t<tr><td>biomarkers-30760-both_sexes-irnt.meta</td><td>cvpc_atac_peak_186887</td><td>CVPC</td><td>4_68475769_T_C  </td><td>CVPC_244  </td><td>HDL cholesterol</td><td> 19</td><td>CVPC_HDL cholesterol</td><td>caQTL</td><td>16-20</td><td>CVPC_cvpc_atac_peak_186887_biomarkers-30760-both_sexes-irnt.meta</td></tr>\n",
       "\t<tr><td>biomarkers-30760-both_sexes-irnt.meta</td><td>cvpc_atac_peak_188849</td><td>CVPC</td><td>4_90316085_G_T  </td><td>CVPC_9824 </td><td>HDL cholesterol</td><td> 28</td><td>CVPC_HDL cholesterol</td><td>caQTL</td><td>26-50</td><td>CVPC_cvpc_atac_peak_188849_biomarkers-30760-both_sexes-irnt.meta</td></tr>\n",
       "\t<tr><td>biomarkers-30760-both_sexes-irnt.meta</td><td>cvpc_atac_peak_197204</td><td>CVPC</td><td>5_1283371_T_C   </td><td>CVPC_10078</td><td>HDL cholesterol</td><td>  2</td><td>CVPC_HDL cholesterol</td><td>caQTL</td><td>1-5  </td><td>CVPC_cvpc_atac_peak_197204_biomarkers-30760-both_sexes-irnt.meta</td></tr>\n",
       "\t<tr><td>biomarkers-30760-both_sexes-irnt.meta</td><td>cvpc_atac_peak_20585 </td><td>CVPC</td><td>1_205770138_C_T </td><td>CVPC_10342</td><td>HDL cholesterol</td><td>  6</td><td>CVPC_HDL cholesterol</td><td>caQTL</td><td>6-10 </td><td>CVPC_cvpc_atac_peak_20585_biomarkers-30760-both_sexes-irnt.meta </td></tr>\n",
       "\t<tr><td>biomarkers-30760-both_sexes-irnt.meta</td><td>cvpc_atac_peak_205884</td><td>CVPC</td><td>5_111912165_G_A </td><td>CVPC_10343</td><td>HDL cholesterol</td><td> 67</td><td>CVPC_HDL cholesterol</td><td>caQTL</td><td><span style=white-space:pre-wrap>&gt;50  </span></td><td>CVPC_cvpc_atac_peak_205884_biomarkers-30760-both_sexes-irnt.meta</td></tr>\n",
       "\t<tr><td>biomarkers-30760-both_sexes-irnt.meta</td><td>cvpc_atac_peak_208200</td><td>CVPC</td><td>5_135096700_A_G </td><td>CVPC_10413</td><td>HDL cholesterol</td><td>  6</td><td>CVPC_HDL cholesterol</td><td>caQTL</td><td>6-10 </td><td>CVPC_cvpc_atac_peak_208200_biomarkers-30760-both_sexes-irnt.meta</td></tr>\n",
       "\t<tr><td>biomarkers-30760-both_sexes-irnt.meta</td><td>cvpc_atac_peak_208375</td><td>CVPC</td><td>5_136120102_T_TA</td><td>CVPC_10424</td><td>HDL cholesterol</td><td>143</td><td>CVPC_HDL cholesterol</td><td>caQTL</td><td><span style=white-space:pre-wrap>&gt;50  </span></td><td>CVPC_cvpc_atac_peak_208375_biomarkers-30760-both_sexes-irnt.meta</td></tr>\n",
       "\t<tr><td>biomarkers-30760-both_sexes-irnt.meta</td><td>cvpc_atac_peak_217512</td><td>CVPC</td><td><span style=white-space:pre-wrap>6_33693002_A_G  </span></td><td><span style=white-space:pre-wrap>CVPC_630  </span></td><td>HDL cholesterol</td><td> 68</td><td>CVPC_HDL cholesterol</td><td>caQTL</td><td><span style=white-space:pre-wrap>&gt;50  </span></td><td>CVPC_cvpc_atac_peak_217512_biomarkers-30760-both_sexes-irnt.meta</td></tr>\n",
       "\t<tr><td>biomarkers-30760-both_sexes-irnt.meta</td><td>cvpc_atac_peak_217515</td><td>CVPC</td><td><span style=white-space:pre-wrap>6_33693002_A_G  </span></td><td><span style=white-space:pre-wrap>CVPC_630  </span></td><td>HDL cholesterol</td><td> 69</td><td>CVPC_HDL cholesterol</td><td>caQTL</td><td><span style=white-space:pre-wrap>&gt;50  </span></td><td>CVPC_cvpc_atac_peak_217515_biomarkers-30760-both_sexes-irnt.meta</td></tr>\n",
       "\t<tr><td>biomarkers-30760-both_sexes-irnt.meta</td><td>cvpc_atac_peak_223777</td><td>CVPC</td><td>6_109276421_C_A </td><td>CVPC_10931</td><td>HDL cholesterol</td><td>  2</td><td>CVPC_HDL cholesterol</td><td>caQTL</td><td>1-5  </td><td>CVPC_cvpc_atac_peak_223777_biomarkers-30760-both_sexes-irnt.meta</td></tr>\n",
       "\t<tr><td>⋮</td><td>⋮</td><td>⋮</td><td>⋮</td><td>⋮</td><td>⋮</td><td>⋮</td><td>⋮</td><td>⋮</td><td>⋮</td><td>⋮</td></tr>\n",
       "\t<tr><td>Mahajan.NatGenet2018b.T2D.European_sorted</td><td>ppc_atac_peak_213789 </td><td>PPC </td><td>5_75692544_A_G </td><td>PPC_9423  </td><td>type 2 diabetes       </td><td>  8</td><td>PPC_type 2 diabetes        </td><td>caQTL</td><td>6-10 </td><td>PPC_ppc_atac_peak_213789_Mahajan.NatGenet2018b.T2D.European_sorted  </td></tr>\n",
       "\t<tr><td>Mahajan.NatGenet2018b.T2D.European_sorted</td><td>ppc_atac_peak_215915 </td><td>PPC </td><td>5_102630709_T_C</td><td><span style=white-space:pre-wrap>PPC_9481  </span></td><td><span style=white-space:pre-wrap>type 2 diabetes       </span></td><td>158</td><td><span style=white-space:pre-wrap>PPC_type 2 diabetes        </span></td><td>caQTL</td><td><span style=white-space:pre-wrap>&gt;50  </span></td><td><span style=white-space:pre-wrap>PPC_ppc_atac_peak_215915_Mahajan.NatGenet2018b.T2D.European_sorted  </span></td></tr>\n",
       "\t<tr><td>Mahajan.NatGenet2018b.T2D.European_sorted</td><td>ppc_atac_peak_215958 </td><td>PPC </td><td>5_103353125_A_G</td><td><span style=white-space:pre-wrap>PPC_9484  </span></td><td><span style=white-space:pre-wrap>type 2 diabetes       </span></td><td> 67</td><td><span style=white-space:pre-wrap>PPC_type 2 diabetes        </span></td><td>caQTL</td><td><span style=white-space:pre-wrap>&gt;50  </span></td><td><span style=white-space:pre-wrap>PPC_ppc_atac_peak_215958_Mahajan.NatGenet2018b.T2D.European_sorted  </span></td></tr>\n",
       "\t<tr><td>Mahajan.NatGenet2018b.T2D.European_sorted</td><td>ppc_atac_peak_244298 </td><td>PPC </td><td>7_28159058_C_T </td><td>PPC_122   </td><td>type 2 diabetes       </td><td>  8</td><td>PPC_type 2 diabetes        </td><td>caQTL</td><td>6-10 </td><td>PPC_ppc_atac_peak_244298_Mahajan.NatGenet2018b.T2D.European_sorted  </td></tr>\n",
       "\t<tr><td>Mahajan.NatGenet2018b.T2D.European_sorted</td><td>ppc_atac_peak_244305 </td><td>PPC </td><td>7_28159058_C_T </td><td>PPC_122   </td><td>type 2 diabetes       </td><td>  6</td><td>PPC_type 2 diabetes        </td><td>caQTL</td><td>6-10 </td><td>PPC_ppc_atac_peak_244305_Mahajan.NatGenet2018b.T2D.European_sorted  </td></tr>\n",
       "\t<tr><td>Mahajan.NatGenet2018b.T2D.European_sorted</td><td>ppc_atac_peak_256673 </td><td>PPC </td><td>8_9320222_T_G  </td><td>PPC_10895 </td><td>type 2 diabetes       </td><td> 35</td><td>PPC_type 2 diabetes        </td><td>caQTL</td><td>26-50</td><td>PPC_ppc_atac_peak_256673_Mahajan.NatGenet2018b.T2D.European_sorted  </td></tr>\n",
       "\t<tr><td>Mahajan.NatGenet2018b.T2D.European_sorted</td><td>ppc_atac_peak_41848  </td><td>PPC </td><td>11_2172280_C_T </td><td>PPC_12298 </td><td>type 2 diabetes       </td><td> 12</td><td>PPC_type 2 diabetes        </td><td>caQTL</td><td>11-15</td><td>PPC_ppc_atac_peak_41848_Mahajan.NatGenet2018b.T2D.European_sorted   </td></tr>\n",
       "\t<tr><td>Mahajan.NatGenet2018b.T2D.European_sorted</td><td>ppc_atac_peak_42000  </td><td>PPC </td><td>11_2828300_A_C </td><td>PPC_12303 </td><td>type 2 diabetes       </td><td>  1</td><td>PPC_type 2 diabetes        </td><td>caQTL</td><td>1-5  </td><td>PPC_ppc_atac_peak_42000_Mahajan.NatGenet2018b.T2D.European_sorted   </td></tr>\n",
       "\t<tr><td>Mahajan.NatGenet2018b.T2D.European_sorted</td><td><span style=white-space:pre-wrap>ppc_atac_peak_45892  </span></td><td>PPC </td><td>11_43841480_G_A</td><td>PPC_12462 </td><td><span style=white-space:pre-wrap>type 2 diabetes       </span></td><td> 56</td><td><span style=white-space:pre-wrap>PPC_type 2 diabetes        </span></td><td>caQTL</td><td><span style=white-space:pre-wrap>&gt;50  </span></td><td><span style=white-space:pre-wrap>PPC_ppc_atac_peak_45892_Mahajan.NatGenet2018b.T2D.European_sorted   </span></td></tr>\n",
       "\t<tr><td>Mahajan.NatGenet2018b.T2D.European_sorted</td><td>ppc_atac_peak_59109  </td><td>PPC </td><td>12_26100624_A_C</td><td>PPC_12936 </td><td>type 2 diabetes       </td><td> 15</td><td>PPC_type 2 diabetes        </td><td>caQTL</td><td>11-15</td><td>PPC_ppc_atac_peak_59109_Mahajan.NatGenet2018b.T2D.European_sorted   </td></tr>\n",
       "\t<tr><td>Mahajan.NatGenet2018b.T2D.European_sorted</td><td>ppc_atac_peak_73604  </td><td>PPC </td><td>13_58099154_T_C</td><td>PPC_13423 </td><td>type 2 diabetes       </td><td> 20</td><td>PPC_type 2 diabetes        </td><td>caQTL</td><td>16-20</td><td>PPC_ppc_atac_peak_73604_Mahajan.NatGenet2018b.T2D.European_sorted   </td></tr>\n",
       "\t<tr><td>Mahajan.NatGenet2018b.T2D.European_sorted</td><td>ppc_atac_peak_78513  </td><td>PPC </td><td>14_22819726_C_G</td><td>PPC_13601 </td><td>type 2 diabetes       </td><td>  4</td><td>PPC_type 2 diabetes        </td><td>caQTL</td><td>1-5  </td><td>PPC_ppc_atac_peak_78513_Mahajan.NatGenet2018b.T2D.European_sorted   </td></tr>\n",
       "\t<tr><td>Mahajan.NatGenet2018b.T2D.European_sorted</td><td>ppc_atac_peak_84890  </td><td>PPC </td><td>14_91452737_T_A</td><td>PPC_13825 </td><td>type 2 diabetes       </td><td> 49</td><td>PPC_type 2 diabetes        </td><td>caQTL</td><td>26-50</td><td>PPC_ppc_atac_peak_84890_Mahajan.NatGenet2018b.T2D.European_sorted   </td></tr>\n",
       "\t<tr><td>Mahajan.NatGenet2018b.T2D.European_sorted</td><td>ppc_atac_peak_91324  </td><td>PPC </td><td>15_67788548_A_T</td><td>PPC_14053 </td><td>type 2 diabetes       </td><td>  1</td><td>PPC_type 2 diabetes        </td><td>caQTL</td><td>1-5  </td><td>PPC_ppc_atac_peak_91324_Mahajan.NatGenet2018b.T2D.European_sorted   </td></tr>\n",
       "\t<tr><td>timmers2020_healthspan_lifespan_longevity</td><td>cvpc_atac_peak_101289</td><td>CVPC</td><td>16_89959744_A_G</td><td>CVPC_6708 </td><td>Multivariate Longevity</td><td>  3</td><td>CVPC_Multivariate Longevity</td><td>caQTL</td><td>1-5  </td><td>CVPC_cvpc_atac_peak_101289_timmers2020_healthspan_lifespan_longevity</td></tr>\n",
       "\t<tr><td>timmers2020_healthspan_lifespan_longevity</td><td>cvpc_atac_peak_91811 </td><td>CVPC</td><td>15_90885406_G_A</td><td>CVPC_1191 </td><td>Multivariate Longevity</td><td>  8</td><td>CVPC_Multivariate Longevity</td><td>caQTL</td><td>6-10 </td><td>CVPC_cvpc_atac_peak_91811_timmers2020_healthspan_lifespan_longevity </td></tr>\n",
       "\t<tr><td>timmers2020_healthspan_lifespan_longevity</td><td>cvpc_chip_peak_21796 </td><td>CVPC</td><td>15_90885406_G_A</td><td>CVPC_16185</td><td>Multivariate Longevity</td><td>  8</td><td>CVPC_Multivariate Longevity</td><td>haQTL</td><td>6-10 </td><td>CVPC_cvpc_chip_peak_21796_timmers2020_healthspan_lifespan_longevity </td></tr>\n",
       "\t<tr><td>timmers2020_healthspan_lifespan_longevity</td><td>ENSG00000041357.16   </td><td>iPSC</td><td>15_78623522_G_A</td><td>iPSC_1771 </td><td>Multivariate Longevity</td><td>  6</td><td>iPSC_Multivariate Longevity</td><td>eQTL </td><td>6-10 </td><td>iPSC_ENSG00000041357.16_timmers2020_healthspan_lifespan_longevity   </td></tr>\n",
       "\t<tr><td>timmers2020_healthspan_lifespan_longevity</td><td>ENSG00000109787.13   </td><td>CVPC</td><td>4_38389131_T_C </td><td>CVPC_3660 </td><td>Multivariate Longevity</td><td> 34</td><td>CVPC_Multivariate Longevity</td><td>eQTL </td><td>26-50</td><td>CVPC_ENSG00000109787.13_timmers2020_healthspan_lifespan_longevity   </td></tr>\n",
       "\t<tr><td>timmers2020_healthspan_lifespan_longevity</td><td>ENSG00000118689.15   </td><td>iPSC</td><td>6_108687991_A_G</td><td>iPSC_3323 </td><td>Multivariate Longevity</td><td> 40</td><td>iPSC_Multivariate Longevity</td><td>eQTL </td><td>26-50</td><td>iPSC_ENSG00000118689.15_timmers2020_healthspan_lifespan_longevity   </td></tr>\n",
       "\t<tr><td>timmers2020_healthspan_lifespan_longevity</td><td>ENSG00000127616.22   </td><td>iPSC</td><td>19_11076746_T_C</td><td>iPSC_617  </td><td>Multivariate Longevity</td><td>  9</td><td>iPSC_Multivariate Longevity</td><td>eQTL </td><td>6-10 </td><td>iPSC_ENSG00000127616.22_timmers2020_healthspan_lifespan_longevity   </td></tr>\n",
       "\t<tr><td>timmers2020_healthspan_lifespan_longevity</td><td>ENSG00000140564.13   </td><td>iPSC</td><td>15_90885406_G_A</td><td>iPSC_212  </td><td>Multivariate Longevity</td><td>  5</td><td>iPSC_Multivariate Longevity</td><td>eQTL </td><td>1-5  </td><td>iPSC_ENSG00000140564.13_timmers2020_healthspan_lifespan_longevity   </td></tr>\n",
       "\t<tr><td>timmers2020_healthspan_lifespan_longevity</td><td>ENSG00000182511.12   </td><td>CVPC</td><td>15_90885406_G_A</td><td>CVPC_1191 </td><td>Multivariate Longevity</td><td> 11</td><td>CVPC_Multivariate Longevity</td><td>eQTL </td><td>11-15</td><td>CVPC_ENSG00000182511.12_timmers2020_healthspan_lifespan_longevity   </td></tr>\n",
       "\t<tr><td>timmers2020_healthspan_lifespan_longevity</td><td>ENSG00000198901.14   </td><td>iPSC</td><td>15_90885406_G_A</td><td>iPSC_7051 </td><td>Multivariate Longevity</td><td>  5</td><td>iPSC_Multivariate Longevity</td><td>eQTL </td><td>1-5  </td><td>iPSC_ENSG00000198901.14_timmers2020_healthspan_lifespan_longevity   </td></tr>\n",
       "\t<tr><td>timmers2020_healthspan_lifespan_longevity</td><td>ipsc_atac_peak_107357</td><td>iPSC</td><td>2_201340018_T_C</td><td>iPSC_8821 </td><td>Multivariate Longevity</td><td> 28</td><td>iPSC_Multivariate Longevity</td><td>caQTL</td><td>26-50</td><td>iPSC_ipsc_atac_peak_107357_timmers2020_healthspan_lifespan_longevity</td></tr>\n",
       "\t<tr><td>timmers2020_healthspan_lifespan_longevity</td><td>ipsc_atac_peak_166376</td><td>iPSC</td><td>6_108687991_A_G</td><td>iPSC_10846</td><td>Multivariate Longevity</td><td> 41</td><td>iPSC_Multivariate Longevity</td><td>caQTL</td><td>26-50</td><td>iPSC_ipsc_atac_peak_166376_timmers2020_healthspan_lifespan_longevity</td></tr>\n",
       "\t<tr><td>timmers2020_healthspan_lifespan_longevity</td><td>ipsc_atac_peak_66932 </td><td>iPSC</td><td>15_90885406_G_A</td><td>iPSC_212  </td><td>Multivariate Longevity</td><td>  8</td><td>iPSC_Multivariate Longevity</td><td>caQTL</td><td>6-10 </td><td>iPSC_ipsc_atac_peak_66932_timmers2020_healthspan_lifespan_longevity </td></tr>\n",
       "\t<tr><td>timmers2020_healthspan_lifespan_longevity</td><td>ppc_atac_peak_125518 </td><td>PPC </td><td>19_11076746_T_C</td><td>PPC_6379  </td><td>Multivariate Longevity</td><td> 33</td><td>PPC_Multivariate Longevity </td><td>caQTL</td><td>26-50</td><td>PPC_ppc_atac_peak_125518_timmers2020_healthspan_lifespan_longevity  </td></tr>\n",
       "\t<tr><td>timmers2020_healthspan_lifespan_longevity</td><td>ppc_atac_peak_150902 </td><td>PPC </td><td>2_201340018_T_C</td><td>PPC_7248  </td><td>Multivariate Longevity</td><td> 26</td><td>PPC_Multivariate Longevity </td><td>caQTL</td><td>26-50</td><td>PPC_ppc_atac_peak_150902_timmers2020_healthspan_lifespan_longevity  </td></tr>\n",
       "\t<tr><td>timmers2020_healthspan_lifespan_longevity</td><td>ppc_atac_peak_94634  </td><td>PPC </td><td>15_90885406_G_A</td><td>PPC_146   </td><td>Multivariate Longevity</td><td> 15</td><td>PPC_Multivariate Longevity </td><td>caQTL</td><td>11-15</td><td>PPC_ppc_atac_peak_94634_timmers2020_healthspan_lifespan_longevity   </td></tr>\n",
       "</tbody>\n",
       "</table>\n"
      ],
      "text/latex": [
       "A data.frame: 992 × 11\n",
       "\\begin{tabular}{lllllllllll}\n",
       " trait & element\\_id & tissue & gwas\\_index & cluster\\_id & description & nsnp & tissue\\_description & type & Bin & coloc\\_id\\\\\n",
       " <chr> & <chr> & <chr> & <chr> & <chr> & <chr> & <int> & <chr> & <chr> & <fct> & <chr>\\\\\n",
       "\\hline\n",
       "\t biomarkers-30760-both\\_sexes-irnt.meta & cvpc\\_atac\\_peak\\_100931 & CVPC & 16\\_88039793\\_T\\_C  & CVPC\\_6681  & HDL cholesterol &  26 & CVPC\\_HDL cholesterol & caQTL & 26-50 & CVPC\\_cvpc\\_atac\\_peak\\_100931\\_biomarkers-30760-both\\_sexes-irnt.meta\\\\\n",
       "\t biomarkers-30760-both\\_sexes-irnt.meta & cvpc\\_atac\\_peak\\_101331 & CVPC & 17\\_598400\\_A\\_G    & CVPC\\_522   & HDL cholesterol &  17 & CVPC\\_HDL cholesterol & caQTL & 16-20 & CVPC\\_cvpc\\_atac\\_peak\\_101331\\_biomarkers-30760-both\\_sexes-irnt.meta\\\\\n",
       "\t biomarkers-30760-both\\_sexes-irnt.meta & cvpc\\_atac\\_peak\\_103227 & CVPC & 17\\_16942153\\_T\\_C  & CVPC\\_6782  & HDL cholesterol &  12 & CVPC\\_HDL cholesterol & caQTL & 11-15 & CVPC\\_cvpc\\_atac\\_peak\\_103227\\_biomarkers-30760-both\\_sexes-irnt.meta\\\\\n",
       "\t biomarkers-30760-both\\_sexes-irnt.meta & cvpc\\_atac\\_peak\\_109630 & CVPC & 17\\_78383251\\_CT\\_C & CVPC\\_7007  & HDL cholesterol &  33 & CVPC\\_HDL cholesterol & caQTL & 26-50 & CVPC\\_cvpc\\_atac\\_peak\\_109630\\_biomarkers-30760-both\\_sexes-irnt.meta\\\\\n",
       "\t biomarkers-30760-both\\_sexes-irnt.meta & cvpc\\_atac\\_peak\\_114234 & CVPC & 18\\_43192321\\_G\\_C  & CVPC\\_7173  & HDL cholesterol &  99 & CVPC\\_HDL cholesterol & caQTL & >50   & CVPC\\_cvpc\\_atac\\_peak\\_114234\\_biomarkers-30760-both\\_sexes-irnt.meta\\\\\n",
       "\t biomarkers-30760-both\\_sexes-irnt.meta & cvpc\\_atac\\_peak\\_11450  & CVPC & 1\\_93444330\\_C\\_A   & CVPC\\_7182  & HDL cholesterol &  11 & CVPC\\_HDL cholesterol & caQTL & 11-15 & CVPC\\_cvpc\\_atac\\_peak\\_11450\\_biomarkers-30760-both\\_sexes-irnt.meta \\\\\n",
       "\t biomarkers-30760-both\\_sexes-irnt.meta & cvpc\\_atac\\_peak\\_118840 & CVPC & 19\\_7459857\\_G\\_C   & CVPC\\_1485  & HDL cholesterol &  28 & CVPC\\_HDL cholesterol & caQTL & 26-50 & CVPC\\_cvpc\\_atac\\_peak\\_118840\\_biomarkers-30760-both\\_sexes-irnt.meta\\\\\n",
       "\t biomarkers-30760-both\\_sexes-irnt.meta & cvpc\\_atac\\_peak\\_122484 & CVPC & 19\\_47087297\\_CA\\_C & CVPC\\_7505  & HDL cholesterol &  37 & CVPC\\_HDL cholesterol & caQTL & 26-50 & CVPC\\_cvpc\\_atac\\_peak\\_122484\\_biomarkers-30760-both\\_sexes-irnt.meta\\\\\n",
       "\t biomarkers-30760-both\\_sexes-irnt.meta & cvpc\\_atac\\_peak\\_125793 & CVPC & 2\\_20151547\\_AT\\_A  & CVPC\\_7659  & HDL cholesterol &   5 & CVPC\\_HDL cholesterol & caQTL & 1-5   & CVPC\\_cvpc\\_atac\\_peak\\_125793\\_biomarkers-30760-both\\_sexes-irnt.meta\\\\\n",
       "\t biomarkers-30760-both\\_sexes-irnt.meta & cvpc\\_atac\\_peak\\_130703 & CVPC & 2\\_65063708\\_C\\_A   & CVPC\\_7816  & HDL cholesterol &  12 & CVPC\\_HDL cholesterol & caQTL & 11-15 & CVPC\\_cvpc\\_atac\\_peak\\_130703\\_biomarkers-30760-both\\_sexes-irnt.meta\\\\\n",
       "\t biomarkers-30760-both\\_sexes-irnt.meta & cvpc\\_atac\\_peak\\_135436 & CVPC & 2\\_120590036\\_G\\_C  & CVPC\\_7984  & HDL cholesterol &   1 & CVPC\\_HDL cholesterol & caQTL & 1-5   & CVPC\\_cvpc\\_atac\\_peak\\_135436\\_biomarkers-30760-both\\_sexes-irnt.meta\\\\\n",
       "\t biomarkers-30760-both\\_sexes-irnt.meta & cvpc\\_atac\\_peak\\_147558 & CVPC & 2\\_241457251\\_T\\_C  & CVPC\\_924   & HDL cholesterol &   1 & CVPC\\_HDL cholesterol & caQTL & 1-5   & CVPC\\_cvpc\\_atac\\_peak\\_147558\\_biomarkers-30760-both\\_sexes-irnt.meta\\\\\n",
       "\t biomarkers-30760-both\\_sexes-irnt.meta & cvpc\\_atac\\_peak\\_149807 & CVPC & 20\\_22164137\\_T\\_C  & CVPC\\_8446  & HDL cholesterol &  75 & CVPC\\_HDL cholesterol & caQTL & >50   & CVPC\\_cvpc\\_atac\\_peak\\_149807\\_biomarkers-30760-both\\_sexes-irnt.meta\\\\\n",
       "\t biomarkers-30760-both\\_sexes-irnt.meta & cvpc\\_atac\\_peak\\_163549 & CVPC & 3\\_15604328\\_T\\_C   & CVPC\\_9011  & HDL cholesterol &  12 & CVPC\\_HDL cholesterol & caQTL & 11-15 & CVPC\\_cvpc\\_atac\\_peak\\_163549\\_biomarkers-30760-both\\_sexes-irnt.meta\\\\\n",
       "\t biomarkers-30760-both\\_sexes-irnt.meta & cvpc\\_atac\\_peak\\_165571 & CVPC & 3\\_36932512\\_G\\_A   & CVPC\\_1789  & HDL cholesterol &   7 & CVPC\\_HDL cholesterol & caQTL & 6-10  & CVPC\\_cvpc\\_atac\\_peak\\_165571\\_biomarkers-30760-both\\_sexes-irnt.meta\\\\\n",
       "\t biomarkers-30760-both\\_sexes-irnt.meta & cvpc\\_atac\\_peak\\_166876 & CVPC & 3\\_46884049\\_T\\_C   & CVPC\\_9123  & HDL cholesterol &  14 & CVPC\\_HDL cholesterol & caQTL & 11-15 & CVPC\\_cvpc\\_atac\\_peak\\_166876\\_biomarkers-30760-both\\_sexes-irnt.meta\\\\\n",
       "\t biomarkers-30760-both\\_sexes-irnt.meta & cvpc\\_atac\\_peak\\_167283 & CVPC & 3\\_49893910\\_A\\_T   & CVPC\\_292   & HDL cholesterol &  45 & CVPC\\_HDL cholesterol & caQTL & 26-50 & CVPC\\_cvpc\\_atac\\_peak\\_167283\\_biomarkers-30760-both\\_sexes-irnt.meta\\\\\n",
       "\t biomarkers-30760-both\\_sexes-irnt.meta & cvpc\\_atac\\_peak\\_179794 & CVPC & 3\\_185808320\\_CA\\_C & CVPC\\_9507  & HDL cholesterol &  41 & CVPC\\_HDL cholesterol & caQTL & 26-50 & CVPC\\_cvpc\\_atac\\_peak\\_179794\\_biomarkers-30760-both\\_sexes-irnt.meta\\\\\n",
       "\t biomarkers-30760-both\\_sexes-irnt.meta & cvpc\\_atac\\_peak\\_186885 & CVPC & 4\\_68475769\\_T\\_C   & CVPC\\_244   & HDL cholesterol &  23 & CVPC\\_HDL cholesterol & caQTL & 21-25 & CVPC\\_cvpc\\_atac\\_peak\\_186885\\_biomarkers-30760-both\\_sexes-irnt.meta\\\\\n",
       "\t biomarkers-30760-both\\_sexes-irnt.meta & cvpc\\_atac\\_peak\\_186886 & CVPC & 4\\_68475769\\_T\\_C   & CVPC\\_244   & HDL cholesterol &  23 & CVPC\\_HDL cholesterol & caQTL & 21-25 & CVPC\\_cvpc\\_atac\\_peak\\_186886\\_biomarkers-30760-both\\_sexes-irnt.meta\\\\\n",
       "\t biomarkers-30760-both\\_sexes-irnt.meta & cvpc\\_atac\\_peak\\_186887 & CVPC & 4\\_68475769\\_T\\_C   & CVPC\\_244   & HDL cholesterol &  19 & CVPC\\_HDL cholesterol & caQTL & 16-20 & CVPC\\_cvpc\\_atac\\_peak\\_186887\\_biomarkers-30760-both\\_sexes-irnt.meta\\\\\n",
       "\t biomarkers-30760-both\\_sexes-irnt.meta & cvpc\\_atac\\_peak\\_188849 & CVPC & 4\\_90316085\\_G\\_T   & CVPC\\_9824  & HDL cholesterol &  28 & CVPC\\_HDL cholesterol & caQTL & 26-50 & CVPC\\_cvpc\\_atac\\_peak\\_188849\\_biomarkers-30760-both\\_sexes-irnt.meta\\\\\n",
       "\t biomarkers-30760-both\\_sexes-irnt.meta & cvpc\\_atac\\_peak\\_197204 & CVPC & 5\\_1283371\\_T\\_C    & CVPC\\_10078 & HDL cholesterol &   2 & CVPC\\_HDL cholesterol & caQTL & 1-5   & CVPC\\_cvpc\\_atac\\_peak\\_197204\\_biomarkers-30760-both\\_sexes-irnt.meta\\\\\n",
       "\t biomarkers-30760-both\\_sexes-irnt.meta & cvpc\\_atac\\_peak\\_20585  & CVPC & 1\\_205770138\\_C\\_T  & CVPC\\_10342 & HDL cholesterol &   6 & CVPC\\_HDL cholesterol & caQTL & 6-10  & CVPC\\_cvpc\\_atac\\_peak\\_20585\\_biomarkers-30760-both\\_sexes-irnt.meta \\\\\n",
       "\t biomarkers-30760-both\\_sexes-irnt.meta & cvpc\\_atac\\_peak\\_205884 & CVPC & 5\\_111912165\\_G\\_A  & CVPC\\_10343 & HDL cholesterol &  67 & CVPC\\_HDL cholesterol & caQTL & >50   & CVPC\\_cvpc\\_atac\\_peak\\_205884\\_biomarkers-30760-both\\_sexes-irnt.meta\\\\\n",
       "\t biomarkers-30760-both\\_sexes-irnt.meta & cvpc\\_atac\\_peak\\_208200 & CVPC & 5\\_135096700\\_A\\_G  & CVPC\\_10413 & HDL cholesterol &   6 & CVPC\\_HDL cholesterol & caQTL & 6-10  & CVPC\\_cvpc\\_atac\\_peak\\_208200\\_biomarkers-30760-both\\_sexes-irnt.meta\\\\\n",
       "\t biomarkers-30760-both\\_sexes-irnt.meta & cvpc\\_atac\\_peak\\_208375 & CVPC & 5\\_136120102\\_T\\_TA & CVPC\\_10424 & HDL cholesterol & 143 & CVPC\\_HDL cholesterol & caQTL & >50   & CVPC\\_cvpc\\_atac\\_peak\\_208375\\_biomarkers-30760-both\\_sexes-irnt.meta\\\\\n",
       "\t biomarkers-30760-both\\_sexes-irnt.meta & cvpc\\_atac\\_peak\\_217512 & CVPC & 6\\_33693002\\_A\\_G   & CVPC\\_630   & HDL cholesterol &  68 & CVPC\\_HDL cholesterol & caQTL & >50   & CVPC\\_cvpc\\_atac\\_peak\\_217512\\_biomarkers-30760-both\\_sexes-irnt.meta\\\\\n",
       "\t biomarkers-30760-both\\_sexes-irnt.meta & cvpc\\_atac\\_peak\\_217515 & CVPC & 6\\_33693002\\_A\\_G   & CVPC\\_630   & HDL cholesterol &  69 & CVPC\\_HDL cholesterol & caQTL & >50   & CVPC\\_cvpc\\_atac\\_peak\\_217515\\_biomarkers-30760-both\\_sexes-irnt.meta\\\\\n",
       "\t biomarkers-30760-both\\_sexes-irnt.meta & cvpc\\_atac\\_peak\\_223777 & CVPC & 6\\_109276421\\_C\\_A  & CVPC\\_10931 & HDL cholesterol &   2 & CVPC\\_HDL cholesterol & caQTL & 1-5   & CVPC\\_cvpc\\_atac\\_peak\\_223777\\_biomarkers-30760-both\\_sexes-irnt.meta\\\\\n",
       "\t ⋮ & ⋮ & ⋮ & ⋮ & ⋮ & ⋮ & ⋮ & ⋮ & ⋮ & ⋮ & ⋮\\\\\n",
       "\t Mahajan.NatGenet2018b.T2D.European\\_sorted & ppc\\_atac\\_peak\\_213789  & PPC  & 5\\_75692544\\_A\\_G  & PPC\\_9423   & type 2 diabetes        &   8 & PPC\\_type 2 diabetes         & caQTL & 6-10  & PPC\\_ppc\\_atac\\_peak\\_213789\\_Mahajan.NatGenet2018b.T2D.European\\_sorted  \\\\\n",
       "\t Mahajan.NatGenet2018b.T2D.European\\_sorted & ppc\\_atac\\_peak\\_215915  & PPC  & 5\\_102630709\\_T\\_C & PPC\\_9481   & type 2 diabetes        & 158 & PPC\\_type 2 diabetes         & caQTL & >50   & PPC\\_ppc\\_atac\\_peak\\_215915\\_Mahajan.NatGenet2018b.T2D.European\\_sorted  \\\\\n",
       "\t Mahajan.NatGenet2018b.T2D.European\\_sorted & ppc\\_atac\\_peak\\_215958  & PPC  & 5\\_103353125\\_A\\_G & PPC\\_9484   & type 2 diabetes        &  67 & PPC\\_type 2 diabetes         & caQTL & >50   & PPC\\_ppc\\_atac\\_peak\\_215958\\_Mahajan.NatGenet2018b.T2D.European\\_sorted  \\\\\n",
       "\t Mahajan.NatGenet2018b.T2D.European\\_sorted & ppc\\_atac\\_peak\\_244298  & PPC  & 7\\_28159058\\_C\\_T  & PPC\\_122    & type 2 diabetes        &   8 & PPC\\_type 2 diabetes         & caQTL & 6-10  & PPC\\_ppc\\_atac\\_peak\\_244298\\_Mahajan.NatGenet2018b.T2D.European\\_sorted  \\\\\n",
       "\t Mahajan.NatGenet2018b.T2D.European\\_sorted & ppc\\_atac\\_peak\\_244305  & PPC  & 7\\_28159058\\_C\\_T  & PPC\\_122    & type 2 diabetes        &   6 & PPC\\_type 2 diabetes         & caQTL & 6-10  & PPC\\_ppc\\_atac\\_peak\\_244305\\_Mahajan.NatGenet2018b.T2D.European\\_sorted  \\\\\n",
       "\t Mahajan.NatGenet2018b.T2D.European\\_sorted & ppc\\_atac\\_peak\\_256673  & PPC  & 8\\_9320222\\_T\\_G   & PPC\\_10895  & type 2 diabetes        &  35 & PPC\\_type 2 diabetes         & caQTL & 26-50 & PPC\\_ppc\\_atac\\_peak\\_256673\\_Mahajan.NatGenet2018b.T2D.European\\_sorted  \\\\\n",
       "\t Mahajan.NatGenet2018b.T2D.European\\_sorted & ppc\\_atac\\_peak\\_41848   & PPC  & 11\\_2172280\\_C\\_T  & PPC\\_12298  & type 2 diabetes        &  12 & PPC\\_type 2 diabetes         & caQTL & 11-15 & PPC\\_ppc\\_atac\\_peak\\_41848\\_Mahajan.NatGenet2018b.T2D.European\\_sorted   \\\\\n",
       "\t Mahajan.NatGenet2018b.T2D.European\\_sorted & ppc\\_atac\\_peak\\_42000   & PPC  & 11\\_2828300\\_A\\_C  & PPC\\_12303  & type 2 diabetes        &   1 & PPC\\_type 2 diabetes         & caQTL & 1-5   & PPC\\_ppc\\_atac\\_peak\\_42000\\_Mahajan.NatGenet2018b.T2D.European\\_sorted   \\\\\n",
       "\t Mahajan.NatGenet2018b.T2D.European\\_sorted & ppc\\_atac\\_peak\\_45892   & PPC  & 11\\_43841480\\_G\\_A & PPC\\_12462  & type 2 diabetes        &  56 & PPC\\_type 2 diabetes         & caQTL & >50   & PPC\\_ppc\\_atac\\_peak\\_45892\\_Mahajan.NatGenet2018b.T2D.European\\_sorted   \\\\\n",
       "\t Mahajan.NatGenet2018b.T2D.European\\_sorted & ppc\\_atac\\_peak\\_59109   & PPC  & 12\\_26100624\\_A\\_C & PPC\\_12936  & type 2 diabetes        &  15 & PPC\\_type 2 diabetes         & caQTL & 11-15 & PPC\\_ppc\\_atac\\_peak\\_59109\\_Mahajan.NatGenet2018b.T2D.European\\_sorted   \\\\\n",
       "\t Mahajan.NatGenet2018b.T2D.European\\_sorted & ppc\\_atac\\_peak\\_73604   & PPC  & 13\\_58099154\\_T\\_C & PPC\\_13423  & type 2 diabetes        &  20 & PPC\\_type 2 diabetes         & caQTL & 16-20 & PPC\\_ppc\\_atac\\_peak\\_73604\\_Mahajan.NatGenet2018b.T2D.European\\_sorted   \\\\\n",
       "\t Mahajan.NatGenet2018b.T2D.European\\_sorted & ppc\\_atac\\_peak\\_78513   & PPC  & 14\\_22819726\\_C\\_G & PPC\\_13601  & type 2 diabetes        &   4 & PPC\\_type 2 diabetes         & caQTL & 1-5   & PPC\\_ppc\\_atac\\_peak\\_78513\\_Mahajan.NatGenet2018b.T2D.European\\_sorted   \\\\\n",
       "\t Mahajan.NatGenet2018b.T2D.European\\_sorted & ppc\\_atac\\_peak\\_84890   & PPC  & 14\\_91452737\\_T\\_A & PPC\\_13825  & type 2 diabetes        &  49 & PPC\\_type 2 diabetes         & caQTL & 26-50 & PPC\\_ppc\\_atac\\_peak\\_84890\\_Mahajan.NatGenet2018b.T2D.European\\_sorted   \\\\\n",
       "\t Mahajan.NatGenet2018b.T2D.European\\_sorted & ppc\\_atac\\_peak\\_91324   & PPC  & 15\\_67788548\\_A\\_T & PPC\\_14053  & type 2 diabetes        &   1 & PPC\\_type 2 diabetes         & caQTL & 1-5   & PPC\\_ppc\\_atac\\_peak\\_91324\\_Mahajan.NatGenet2018b.T2D.European\\_sorted   \\\\\n",
       "\t timmers2020\\_healthspan\\_lifespan\\_longevity & cvpc\\_atac\\_peak\\_101289 & CVPC & 16\\_89959744\\_A\\_G & CVPC\\_6708  & Multivariate Longevity &   3 & CVPC\\_Multivariate Longevity & caQTL & 1-5   & CVPC\\_cvpc\\_atac\\_peak\\_101289\\_timmers2020\\_healthspan\\_lifespan\\_longevity\\\\\n",
       "\t timmers2020\\_healthspan\\_lifespan\\_longevity & cvpc\\_atac\\_peak\\_91811  & CVPC & 15\\_90885406\\_G\\_A & CVPC\\_1191  & Multivariate Longevity &   8 & CVPC\\_Multivariate Longevity & caQTL & 6-10  & CVPC\\_cvpc\\_atac\\_peak\\_91811\\_timmers2020\\_healthspan\\_lifespan\\_longevity \\\\\n",
       "\t timmers2020\\_healthspan\\_lifespan\\_longevity & cvpc\\_chip\\_peak\\_21796  & CVPC & 15\\_90885406\\_G\\_A & CVPC\\_16185 & Multivariate Longevity &   8 & CVPC\\_Multivariate Longevity & haQTL & 6-10  & CVPC\\_cvpc\\_chip\\_peak\\_21796\\_timmers2020\\_healthspan\\_lifespan\\_longevity \\\\\n",
       "\t timmers2020\\_healthspan\\_lifespan\\_longevity & ENSG00000041357.16    & iPSC & 15\\_78623522\\_G\\_A & iPSC\\_1771  & Multivariate Longevity &   6 & iPSC\\_Multivariate Longevity & eQTL  & 6-10  & iPSC\\_ENSG00000041357.16\\_timmers2020\\_healthspan\\_lifespan\\_longevity   \\\\\n",
       "\t timmers2020\\_healthspan\\_lifespan\\_longevity & ENSG00000109787.13    & CVPC & 4\\_38389131\\_T\\_C  & CVPC\\_3660  & Multivariate Longevity &  34 & CVPC\\_Multivariate Longevity & eQTL  & 26-50 & CVPC\\_ENSG00000109787.13\\_timmers2020\\_healthspan\\_lifespan\\_longevity   \\\\\n",
       "\t timmers2020\\_healthspan\\_lifespan\\_longevity & ENSG00000118689.15    & iPSC & 6\\_108687991\\_A\\_G & iPSC\\_3323  & Multivariate Longevity &  40 & iPSC\\_Multivariate Longevity & eQTL  & 26-50 & iPSC\\_ENSG00000118689.15\\_timmers2020\\_healthspan\\_lifespan\\_longevity   \\\\\n",
       "\t timmers2020\\_healthspan\\_lifespan\\_longevity & ENSG00000127616.22    & iPSC & 19\\_11076746\\_T\\_C & iPSC\\_617   & Multivariate Longevity &   9 & iPSC\\_Multivariate Longevity & eQTL  & 6-10  & iPSC\\_ENSG00000127616.22\\_timmers2020\\_healthspan\\_lifespan\\_longevity   \\\\\n",
       "\t timmers2020\\_healthspan\\_lifespan\\_longevity & ENSG00000140564.13    & iPSC & 15\\_90885406\\_G\\_A & iPSC\\_212   & Multivariate Longevity &   5 & iPSC\\_Multivariate Longevity & eQTL  & 1-5   & iPSC\\_ENSG00000140564.13\\_timmers2020\\_healthspan\\_lifespan\\_longevity   \\\\\n",
       "\t timmers2020\\_healthspan\\_lifespan\\_longevity & ENSG00000182511.12    & CVPC & 15\\_90885406\\_G\\_A & CVPC\\_1191  & Multivariate Longevity &  11 & CVPC\\_Multivariate Longevity & eQTL  & 11-15 & CVPC\\_ENSG00000182511.12\\_timmers2020\\_healthspan\\_lifespan\\_longevity   \\\\\n",
       "\t timmers2020\\_healthspan\\_lifespan\\_longevity & ENSG00000198901.14    & iPSC & 15\\_90885406\\_G\\_A & iPSC\\_7051  & Multivariate Longevity &   5 & iPSC\\_Multivariate Longevity & eQTL  & 1-5   & iPSC\\_ENSG00000198901.14\\_timmers2020\\_healthspan\\_lifespan\\_longevity   \\\\\n",
       "\t timmers2020\\_healthspan\\_lifespan\\_longevity & ipsc\\_atac\\_peak\\_107357 & iPSC & 2\\_201340018\\_T\\_C & iPSC\\_8821  & Multivariate Longevity &  28 & iPSC\\_Multivariate Longevity & caQTL & 26-50 & iPSC\\_ipsc\\_atac\\_peak\\_107357\\_timmers2020\\_healthspan\\_lifespan\\_longevity\\\\\n",
       "\t timmers2020\\_healthspan\\_lifespan\\_longevity & ipsc\\_atac\\_peak\\_166376 & iPSC & 6\\_108687991\\_A\\_G & iPSC\\_10846 & Multivariate Longevity &  41 & iPSC\\_Multivariate Longevity & caQTL & 26-50 & iPSC\\_ipsc\\_atac\\_peak\\_166376\\_timmers2020\\_healthspan\\_lifespan\\_longevity\\\\\n",
       "\t timmers2020\\_healthspan\\_lifespan\\_longevity & ipsc\\_atac\\_peak\\_66932  & iPSC & 15\\_90885406\\_G\\_A & iPSC\\_212   & Multivariate Longevity &   8 & iPSC\\_Multivariate Longevity & caQTL & 6-10  & iPSC\\_ipsc\\_atac\\_peak\\_66932\\_timmers2020\\_healthspan\\_lifespan\\_longevity \\\\\n",
       "\t timmers2020\\_healthspan\\_lifespan\\_longevity & ppc\\_atac\\_peak\\_125518  & PPC  & 19\\_11076746\\_T\\_C & PPC\\_6379   & Multivariate Longevity &  33 & PPC\\_Multivariate Longevity  & caQTL & 26-50 & PPC\\_ppc\\_atac\\_peak\\_125518\\_timmers2020\\_healthspan\\_lifespan\\_longevity  \\\\\n",
       "\t timmers2020\\_healthspan\\_lifespan\\_longevity & ppc\\_atac\\_peak\\_150902  & PPC  & 2\\_201340018\\_T\\_C & PPC\\_7248   & Multivariate Longevity &  26 & PPC\\_Multivariate Longevity  & caQTL & 26-50 & PPC\\_ppc\\_atac\\_peak\\_150902\\_timmers2020\\_healthspan\\_lifespan\\_longevity  \\\\\n",
       "\t timmers2020\\_healthspan\\_lifespan\\_longevity & ppc\\_atac\\_peak\\_94634   & PPC  & 15\\_90885406\\_G\\_A & PPC\\_146    & Multivariate Longevity &  15 & PPC\\_Multivariate Longevity  & caQTL & 11-15 & PPC\\_ppc\\_atac\\_peak\\_94634\\_timmers2020\\_healthspan\\_lifespan\\_longevity   \\\\\n",
       "\\end{tabular}\n"
      ],
      "text/markdown": [
       "\n",
       "A data.frame: 992 × 11\n",
       "\n",
       "| trait &lt;chr&gt; | element_id &lt;chr&gt; | tissue &lt;chr&gt; | gwas_index &lt;chr&gt; | cluster_id &lt;chr&gt; | description &lt;chr&gt; | nsnp &lt;int&gt; | tissue_description &lt;chr&gt; | type &lt;chr&gt; | Bin &lt;fct&gt; | coloc_id &lt;chr&gt; |\n",
       "|---|---|---|---|---|---|---|---|---|---|---|\n",
       "| biomarkers-30760-both_sexes-irnt.meta | cvpc_atac_peak_100931 | CVPC | 16_88039793_T_C  | CVPC_6681  | HDL cholesterol |  26 | CVPC_HDL cholesterol | caQTL | 26-50 | CVPC_cvpc_atac_peak_100931_biomarkers-30760-both_sexes-irnt.meta |\n",
       "| biomarkers-30760-both_sexes-irnt.meta | cvpc_atac_peak_101331 | CVPC | 17_598400_A_G    | CVPC_522   | HDL cholesterol |  17 | CVPC_HDL cholesterol | caQTL | 16-20 | CVPC_cvpc_atac_peak_101331_biomarkers-30760-both_sexes-irnt.meta |\n",
       "| biomarkers-30760-both_sexes-irnt.meta | cvpc_atac_peak_103227 | CVPC | 17_16942153_T_C  | CVPC_6782  | HDL cholesterol |  12 | CVPC_HDL cholesterol | caQTL | 11-15 | CVPC_cvpc_atac_peak_103227_biomarkers-30760-both_sexes-irnt.meta |\n",
       "| biomarkers-30760-both_sexes-irnt.meta | cvpc_atac_peak_109630 | CVPC | 17_78383251_CT_C | CVPC_7007  | HDL cholesterol |  33 | CVPC_HDL cholesterol | caQTL | 26-50 | CVPC_cvpc_atac_peak_109630_biomarkers-30760-both_sexes-irnt.meta |\n",
       "| biomarkers-30760-both_sexes-irnt.meta | cvpc_atac_peak_114234 | CVPC | 18_43192321_G_C  | CVPC_7173  | HDL cholesterol |  99 | CVPC_HDL cholesterol | caQTL | &gt;50   | CVPC_cvpc_atac_peak_114234_biomarkers-30760-both_sexes-irnt.meta |\n",
       "| biomarkers-30760-both_sexes-irnt.meta | cvpc_atac_peak_11450  | CVPC | 1_93444330_C_A   | CVPC_7182  | HDL cholesterol |  11 | CVPC_HDL cholesterol | caQTL | 11-15 | CVPC_cvpc_atac_peak_11450_biomarkers-30760-both_sexes-irnt.meta  |\n",
       "| biomarkers-30760-both_sexes-irnt.meta | cvpc_atac_peak_118840 | CVPC | 19_7459857_G_C   | CVPC_1485  | HDL cholesterol |  28 | CVPC_HDL cholesterol | caQTL | 26-50 | CVPC_cvpc_atac_peak_118840_biomarkers-30760-both_sexes-irnt.meta |\n",
       "| biomarkers-30760-both_sexes-irnt.meta | cvpc_atac_peak_122484 | CVPC | 19_47087297_CA_C | CVPC_7505  | HDL cholesterol |  37 | CVPC_HDL cholesterol | caQTL | 26-50 | CVPC_cvpc_atac_peak_122484_biomarkers-30760-both_sexes-irnt.meta |\n",
       "| biomarkers-30760-both_sexes-irnt.meta | cvpc_atac_peak_125793 | CVPC | 2_20151547_AT_A  | CVPC_7659  | HDL cholesterol |   5 | CVPC_HDL cholesterol | caQTL | 1-5   | CVPC_cvpc_atac_peak_125793_biomarkers-30760-both_sexes-irnt.meta |\n",
       "| biomarkers-30760-both_sexes-irnt.meta | cvpc_atac_peak_130703 | CVPC | 2_65063708_C_A   | CVPC_7816  | HDL cholesterol |  12 | CVPC_HDL cholesterol | caQTL | 11-15 | CVPC_cvpc_atac_peak_130703_biomarkers-30760-both_sexes-irnt.meta |\n",
       "| biomarkers-30760-both_sexes-irnt.meta | cvpc_atac_peak_135436 | CVPC | 2_120590036_G_C  | CVPC_7984  | HDL cholesterol |   1 | CVPC_HDL cholesterol | caQTL | 1-5   | CVPC_cvpc_atac_peak_135436_biomarkers-30760-both_sexes-irnt.meta |\n",
       "| biomarkers-30760-both_sexes-irnt.meta | cvpc_atac_peak_147558 | CVPC | 2_241457251_T_C  | CVPC_924   | HDL cholesterol |   1 | CVPC_HDL cholesterol | caQTL | 1-5   | CVPC_cvpc_atac_peak_147558_biomarkers-30760-both_sexes-irnt.meta |\n",
       "| biomarkers-30760-both_sexes-irnt.meta | cvpc_atac_peak_149807 | CVPC | 20_22164137_T_C  | CVPC_8446  | HDL cholesterol |  75 | CVPC_HDL cholesterol | caQTL | &gt;50   | CVPC_cvpc_atac_peak_149807_biomarkers-30760-both_sexes-irnt.meta |\n",
       "| biomarkers-30760-both_sexes-irnt.meta | cvpc_atac_peak_163549 | CVPC | 3_15604328_T_C   | CVPC_9011  | HDL cholesterol |  12 | CVPC_HDL cholesterol | caQTL | 11-15 | CVPC_cvpc_atac_peak_163549_biomarkers-30760-both_sexes-irnt.meta |\n",
       "| biomarkers-30760-both_sexes-irnt.meta | cvpc_atac_peak_165571 | CVPC | 3_36932512_G_A   | CVPC_1789  | HDL cholesterol |   7 | CVPC_HDL cholesterol | caQTL | 6-10  | CVPC_cvpc_atac_peak_165571_biomarkers-30760-both_sexes-irnt.meta |\n",
       "| biomarkers-30760-both_sexes-irnt.meta | cvpc_atac_peak_166876 | CVPC | 3_46884049_T_C   | CVPC_9123  | HDL cholesterol |  14 | CVPC_HDL cholesterol | caQTL | 11-15 | CVPC_cvpc_atac_peak_166876_biomarkers-30760-both_sexes-irnt.meta |\n",
       "| biomarkers-30760-both_sexes-irnt.meta | cvpc_atac_peak_167283 | CVPC | 3_49893910_A_T   | CVPC_292   | HDL cholesterol |  45 | CVPC_HDL cholesterol | caQTL | 26-50 | CVPC_cvpc_atac_peak_167283_biomarkers-30760-both_sexes-irnt.meta |\n",
       "| biomarkers-30760-both_sexes-irnt.meta | cvpc_atac_peak_179794 | CVPC | 3_185808320_CA_C | CVPC_9507  | HDL cholesterol |  41 | CVPC_HDL cholesterol | caQTL | 26-50 | CVPC_cvpc_atac_peak_179794_biomarkers-30760-both_sexes-irnt.meta |\n",
       "| biomarkers-30760-both_sexes-irnt.meta | cvpc_atac_peak_186885 | CVPC | 4_68475769_T_C   | CVPC_244   | HDL cholesterol |  23 | CVPC_HDL cholesterol | caQTL | 21-25 | CVPC_cvpc_atac_peak_186885_biomarkers-30760-both_sexes-irnt.meta |\n",
       "| biomarkers-30760-both_sexes-irnt.meta | cvpc_atac_peak_186886 | CVPC | 4_68475769_T_C   | CVPC_244   | HDL cholesterol |  23 | CVPC_HDL cholesterol | caQTL | 21-25 | CVPC_cvpc_atac_peak_186886_biomarkers-30760-both_sexes-irnt.meta |\n",
       "| biomarkers-30760-both_sexes-irnt.meta | cvpc_atac_peak_186887 | CVPC | 4_68475769_T_C   | CVPC_244   | HDL cholesterol |  19 | CVPC_HDL cholesterol | caQTL | 16-20 | CVPC_cvpc_atac_peak_186887_biomarkers-30760-both_sexes-irnt.meta |\n",
       "| biomarkers-30760-both_sexes-irnt.meta | cvpc_atac_peak_188849 | CVPC | 4_90316085_G_T   | CVPC_9824  | HDL cholesterol |  28 | CVPC_HDL cholesterol | caQTL | 26-50 | CVPC_cvpc_atac_peak_188849_biomarkers-30760-both_sexes-irnt.meta |\n",
       "| biomarkers-30760-both_sexes-irnt.meta | cvpc_atac_peak_197204 | CVPC | 5_1283371_T_C    | CVPC_10078 | HDL cholesterol |   2 | CVPC_HDL cholesterol | caQTL | 1-5   | CVPC_cvpc_atac_peak_197204_biomarkers-30760-both_sexes-irnt.meta |\n",
       "| biomarkers-30760-both_sexes-irnt.meta | cvpc_atac_peak_20585  | CVPC | 1_205770138_C_T  | CVPC_10342 | HDL cholesterol |   6 | CVPC_HDL cholesterol | caQTL | 6-10  | CVPC_cvpc_atac_peak_20585_biomarkers-30760-both_sexes-irnt.meta  |\n",
       "| biomarkers-30760-both_sexes-irnt.meta | cvpc_atac_peak_205884 | CVPC | 5_111912165_G_A  | CVPC_10343 | HDL cholesterol |  67 | CVPC_HDL cholesterol | caQTL | &gt;50   | CVPC_cvpc_atac_peak_205884_biomarkers-30760-both_sexes-irnt.meta |\n",
       "| biomarkers-30760-both_sexes-irnt.meta | cvpc_atac_peak_208200 | CVPC | 5_135096700_A_G  | CVPC_10413 | HDL cholesterol |   6 | CVPC_HDL cholesterol | caQTL | 6-10  | CVPC_cvpc_atac_peak_208200_biomarkers-30760-both_sexes-irnt.meta |\n",
       "| biomarkers-30760-both_sexes-irnt.meta | cvpc_atac_peak_208375 | CVPC | 5_136120102_T_TA | CVPC_10424 | HDL cholesterol | 143 | CVPC_HDL cholesterol | caQTL | &gt;50   | CVPC_cvpc_atac_peak_208375_biomarkers-30760-both_sexes-irnt.meta |\n",
       "| biomarkers-30760-both_sexes-irnt.meta | cvpc_atac_peak_217512 | CVPC | 6_33693002_A_G   | CVPC_630   | HDL cholesterol |  68 | CVPC_HDL cholesterol | caQTL | &gt;50   | CVPC_cvpc_atac_peak_217512_biomarkers-30760-both_sexes-irnt.meta |\n",
       "| biomarkers-30760-both_sexes-irnt.meta | cvpc_atac_peak_217515 | CVPC | 6_33693002_A_G   | CVPC_630   | HDL cholesterol |  69 | CVPC_HDL cholesterol | caQTL | &gt;50   | CVPC_cvpc_atac_peak_217515_biomarkers-30760-both_sexes-irnt.meta |\n",
       "| biomarkers-30760-both_sexes-irnt.meta | cvpc_atac_peak_223777 | CVPC | 6_109276421_C_A  | CVPC_10931 | HDL cholesterol |   2 | CVPC_HDL cholesterol | caQTL | 1-5   | CVPC_cvpc_atac_peak_223777_biomarkers-30760-both_sexes-irnt.meta |\n",
       "| ⋮ | ⋮ | ⋮ | ⋮ | ⋮ | ⋮ | ⋮ | ⋮ | ⋮ | ⋮ | ⋮ |\n",
       "| Mahajan.NatGenet2018b.T2D.European_sorted | ppc_atac_peak_213789  | PPC  | 5_75692544_A_G  | PPC_9423   | type 2 diabetes        |   8 | PPC_type 2 diabetes         | caQTL | 6-10  | PPC_ppc_atac_peak_213789_Mahajan.NatGenet2018b.T2D.European_sorted   |\n",
       "| Mahajan.NatGenet2018b.T2D.European_sorted | ppc_atac_peak_215915  | PPC  | 5_102630709_T_C | PPC_9481   | type 2 diabetes        | 158 | PPC_type 2 diabetes         | caQTL | &gt;50   | PPC_ppc_atac_peak_215915_Mahajan.NatGenet2018b.T2D.European_sorted   |\n",
       "| Mahajan.NatGenet2018b.T2D.European_sorted | ppc_atac_peak_215958  | PPC  | 5_103353125_A_G | PPC_9484   | type 2 diabetes        |  67 | PPC_type 2 diabetes         | caQTL | &gt;50   | PPC_ppc_atac_peak_215958_Mahajan.NatGenet2018b.T2D.European_sorted   |\n",
       "| Mahajan.NatGenet2018b.T2D.European_sorted | ppc_atac_peak_244298  | PPC  | 7_28159058_C_T  | PPC_122    | type 2 diabetes        |   8 | PPC_type 2 diabetes         | caQTL | 6-10  | PPC_ppc_atac_peak_244298_Mahajan.NatGenet2018b.T2D.European_sorted   |\n",
       "| Mahajan.NatGenet2018b.T2D.European_sorted | ppc_atac_peak_244305  | PPC  | 7_28159058_C_T  | PPC_122    | type 2 diabetes        |   6 | PPC_type 2 diabetes         | caQTL | 6-10  | PPC_ppc_atac_peak_244305_Mahajan.NatGenet2018b.T2D.European_sorted   |\n",
       "| Mahajan.NatGenet2018b.T2D.European_sorted | ppc_atac_peak_256673  | PPC  | 8_9320222_T_G   | PPC_10895  | type 2 diabetes        |  35 | PPC_type 2 diabetes         | caQTL | 26-50 | PPC_ppc_atac_peak_256673_Mahajan.NatGenet2018b.T2D.European_sorted   |\n",
       "| Mahajan.NatGenet2018b.T2D.European_sorted | ppc_atac_peak_41848   | PPC  | 11_2172280_C_T  | PPC_12298  | type 2 diabetes        |  12 | PPC_type 2 diabetes         | caQTL | 11-15 | PPC_ppc_atac_peak_41848_Mahajan.NatGenet2018b.T2D.European_sorted    |\n",
       "| Mahajan.NatGenet2018b.T2D.European_sorted | ppc_atac_peak_42000   | PPC  | 11_2828300_A_C  | PPC_12303  | type 2 diabetes        |   1 | PPC_type 2 diabetes         | caQTL | 1-5   | PPC_ppc_atac_peak_42000_Mahajan.NatGenet2018b.T2D.European_sorted    |\n",
       "| Mahajan.NatGenet2018b.T2D.European_sorted | ppc_atac_peak_45892   | PPC  | 11_43841480_G_A | PPC_12462  | type 2 diabetes        |  56 | PPC_type 2 diabetes         | caQTL | &gt;50   | PPC_ppc_atac_peak_45892_Mahajan.NatGenet2018b.T2D.European_sorted    |\n",
       "| Mahajan.NatGenet2018b.T2D.European_sorted | ppc_atac_peak_59109   | PPC  | 12_26100624_A_C | PPC_12936  | type 2 diabetes        |  15 | PPC_type 2 diabetes         | caQTL | 11-15 | PPC_ppc_atac_peak_59109_Mahajan.NatGenet2018b.T2D.European_sorted    |\n",
       "| Mahajan.NatGenet2018b.T2D.European_sorted | ppc_atac_peak_73604   | PPC  | 13_58099154_T_C | PPC_13423  | type 2 diabetes        |  20 | PPC_type 2 diabetes         | caQTL | 16-20 | PPC_ppc_atac_peak_73604_Mahajan.NatGenet2018b.T2D.European_sorted    |\n",
       "| Mahajan.NatGenet2018b.T2D.European_sorted | ppc_atac_peak_78513   | PPC  | 14_22819726_C_G | PPC_13601  | type 2 diabetes        |   4 | PPC_type 2 diabetes         | caQTL | 1-5   | PPC_ppc_atac_peak_78513_Mahajan.NatGenet2018b.T2D.European_sorted    |\n",
       "| Mahajan.NatGenet2018b.T2D.European_sorted | ppc_atac_peak_84890   | PPC  | 14_91452737_T_A | PPC_13825  | type 2 diabetes        |  49 | PPC_type 2 diabetes         | caQTL | 26-50 | PPC_ppc_atac_peak_84890_Mahajan.NatGenet2018b.T2D.European_sorted    |\n",
       "| Mahajan.NatGenet2018b.T2D.European_sorted | ppc_atac_peak_91324   | PPC  | 15_67788548_A_T | PPC_14053  | type 2 diabetes        |   1 | PPC_type 2 diabetes         | caQTL | 1-5   | PPC_ppc_atac_peak_91324_Mahajan.NatGenet2018b.T2D.European_sorted    |\n",
       "| timmers2020_healthspan_lifespan_longevity | cvpc_atac_peak_101289 | CVPC | 16_89959744_A_G | CVPC_6708  | Multivariate Longevity |   3 | CVPC_Multivariate Longevity | caQTL | 1-5   | CVPC_cvpc_atac_peak_101289_timmers2020_healthspan_lifespan_longevity |\n",
       "| timmers2020_healthspan_lifespan_longevity | cvpc_atac_peak_91811  | CVPC | 15_90885406_G_A | CVPC_1191  | Multivariate Longevity |   8 | CVPC_Multivariate Longevity | caQTL | 6-10  | CVPC_cvpc_atac_peak_91811_timmers2020_healthspan_lifespan_longevity  |\n",
       "| timmers2020_healthspan_lifespan_longevity | cvpc_chip_peak_21796  | CVPC | 15_90885406_G_A | CVPC_16185 | Multivariate Longevity |   8 | CVPC_Multivariate Longevity | haQTL | 6-10  | CVPC_cvpc_chip_peak_21796_timmers2020_healthspan_lifespan_longevity  |\n",
       "| timmers2020_healthspan_lifespan_longevity | ENSG00000041357.16    | iPSC | 15_78623522_G_A | iPSC_1771  | Multivariate Longevity |   6 | iPSC_Multivariate Longevity | eQTL  | 6-10  | iPSC_ENSG00000041357.16_timmers2020_healthspan_lifespan_longevity    |\n",
       "| timmers2020_healthspan_lifespan_longevity | ENSG00000109787.13    | CVPC | 4_38389131_T_C  | CVPC_3660  | Multivariate Longevity |  34 | CVPC_Multivariate Longevity | eQTL  | 26-50 | CVPC_ENSG00000109787.13_timmers2020_healthspan_lifespan_longevity    |\n",
       "| timmers2020_healthspan_lifespan_longevity | ENSG00000118689.15    | iPSC | 6_108687991_A_G | iPSC_3323  | Multivariate Longevity |  40 | iPSC_Multivariate Longevity | eQTL  | 26-50 | iPSC_ENSG00000118689.15_timmers2020_healthspan_lifespan_longevity    |\n",
       "| timmers2020_healthspan_lifespan_longevity | ENSG00000127616.22    | iPSC | 19_11076746_T_C | iPSC_617   | Multivariate Longevity |   9 | iPSC_Multivariate Longevity | eQTL  | 6-10  | iPSC_ENSG00000127616.22_timmers2020_healthspan_lifespan_longevity    |\n",
       "| timmers2020_healthspan_lifespan_longevity | ENSG00000140564.13    | iPSC | 15_90885406_G_A | iPSC_212   | Multivariate Longevity |   5 | iPSC_Multivariate Longevity | eQTL  | 1-5   | iPSC_ENSG00000140564.13_timmers2020_healthspan_lifespan_longevity    |\n",
       "| timmers2020_healthspan_lifespan_longevity | ENSG00000182511.12    | CVPC | 15_90885406_G_A | CVPC_1191  | Multivariate Longevity |  11 | CVPC_Multivariate Longevity | eQTL  | 11-15 | CVPC_ENSG00000182511.12_timmers2020_healthspan_lifespan_longevity    |\n",
       "| timmers2020_healthspan_lifespan_longevity | ENSG00000198901.14    | iPSC | 15_90885406_G_A | iPSC_7051  | Multivariate Longevity |   5 | iPSC_Multivariate Longevity | eQTL  | 1-5   | iPSC_ENSG00000198901.14_timmers2020_healthspan_lifespan_longevity    |\n",
       "| timmers2020_healthspan_lifespan_longevity | ipsc_atac_peak_107357 | iPSC | 2_201340018_T_C | iPSC_8821  | Multivariate Longevity |  28 | iPSC_Multivariate Longevity | caQTL | 26-50 | iPSC_ipsc_atac_peak_107357_timmers2020_healthspan_lifespan_longevity |\n",
       "| timmers2020_healthspan_lifespan_longevity | ipsc_atac_peak_166376 | iPSC | 6_108687991_A_G | iPSC_10846 | Multivariate Longevity |  41 | iPSC_Multivariate Longevity | caQTL | 26-50 | iPSC_ipsc_atac_peak_166376_timmers2020_healthspan_lifespan_longevity |\n",
       "| timmers2020_healthspan_lifespan_longevity | ipsc_atac_peak_66932  | iPSC | 15_90885406_G_A | iPSC_212   | Multivariate Longevity |   8 | iPSC_Multivariate Longevity | caQTL | 6-10  | iPSC_ipsc_atac_peak_66932_timmers2020_healthspan_lifespan_longevity  |\n",
       "| timmers2020_healthspan_lifespan_longevity | ppc_atac_peak_125518  | PPC  | 19_11076746_T_C | PPC_6379   | Multivariate Longevity |  33 | PPC_Multivariate Longevity  | caQTL | 26-50 | PPC_ppc_atac_peak_125518_timmers2020_healthspan_lifespan_longevity   |\n",
       "| timmers2020_healthspan_lifespan_longevity | ppc_atac_peak_150902  | PPC  | 2_201340018_T_C | PPC_7248   | Multivariate Longevity |  26 | PPC_Multivariate Longevity  | caQTL | 26-50 | PPC_ppc_atac_peak_150902_timmers2020_healthspan_lifespan_longevity   |\n",
       "| timmers2020_healthspan_lifespan_longevity | ppc_atac_peak_94634   | PPC  | 15_90885406_G_A | PPC_146    | Multivariate Longevity |  15 | PPC_Multivariate Longevity  | caQTL | 11-15 | PPC_ppc_atac_peak_94634_timmers2020_healthspan_lifespan_longevity    |\n",
       "\n"
      ],
      "text/plain": [
       "    trait                                     element_id            tissue\n",
       "1   biomarkers-30760-both_sexes-irnt.meta     cvpc_atac_peak_100931 CVPC  \n",
       "2   biomarkers-30760-both_sexes-irnt.meta     cvpc_atac_peak_101331 CVPC  \n",
       "3   biomarkers-30760-both_sexes-irnt.meta     cvpc_atac_peak_103227 CVPC  \n",
       "4   biomarkers-30760-both_sexes-irnt.meta     cvpc_atac_peak_109630 CVPC  \n",
       "5   biomarkers-30760-both_sexes-irnt.meta     cvpc_atac_peak_114234 CVPC  \n",
       "6   biomarkers-30760-both_sexes-irnt.meta     cvpc_atac_peak_11450  CVPC  \n",
       "7   biomarkers-30760-both_sexes-irnt.meta     cvpc_atac_peak_118840 CVPC  \n",
       "8   biomarkers-30760-both_sexes-irnt.meta     cvpc_atac_peak_122484 CVPC  \n",
       "9   biomarkers-30760-both_sexes-irnt.meta     cvpc_atac_peak_125793 CVPC  \n",
       "10  biomarkers-30760-both_sexes-irnt.meta     cvpc_atac_peak_130703 CVPC  \n",
       "11  biomarkers-30760-both_sexes-irnt.meta     cvpc_atac_peak_135436 CVPC  \n",
       "12  biomarkers-30760-both_sexes-irnt.meta     cvpc_atac_peak_147558 CVPC  \n",
       "13  biomarkers-30760-both_sexes-irnt.meta     cvpc_atac_peak_149807 CVPC  \n",
       "14  biomarkers-30760-both_sexes-irnt.meta     cvpc_atac_peak_163549 CVPC  \n",
       "15  biomarkers-30760-both_sexes-irnt.meta     cvpc_atac_peak_165571 CVPC  \n",
       "16  biomarkers-30760-both_sexes-irnt.meta     cvpc_atac_peak_166876 CVPC  \n",
       "17  biomarkers-30760-both_sexes-irnt.meta     cvpc_atac_peak_167283 CVPC  \n",
       "18  biomarkers-30760-both_sexes-irnt.meta     cvpc_atac_peak_179794 CVPC  \n",
       "19  biomarkers-30760-both_sexes-irnt.meta     cvpc_atac_peak_186885 CVPC  \n",
       "20  biomarkers-30760-both_sexes-irnt.meta     cvpc_atac_peak_186886 CVPC  \n",
       "21  biomarkers-30760-both_sexes-irnt.meta     cvpc_atac_peak_186887 CVPC  \n",
       "22  biomarkers-30760-both_sexes-irnt.meta     cvpc_atac_peak_188849 CVPC  \n",
       "23  biomarkers-30760-both_sexes-irnt.meta     cvpc_atac_peak_197204 CVPC  \n",
       "24  biomarkers-30760-both_sexes-irnt.meta     cvpc_atac_peak_20585  CVPC  \n",
       "25  biomarkers-30760-both_sexes-irnt.meta     cvpc_atac_peak_205884 CVPC  \n",
       "26  biomarkers-30760-both_sexes-irnt.meta     cvpc_atac_peak_208200 CVPC  \n",
       "27  biomarkers-30760-both_sexes-irnt.meta     cvpc_atac_peak_208375 CVPC  \n",
       "28  biomarkers-30760-both_sexes-irnt.meta     cvpc_atac_peak_217512 CVPC  \n",
       "29  biomarkers-30760-both_sexes-irnt.meta     cvpc_atac_peak_217515 CVPC  \n",
       "30  biomarkers-30760-both_sexes-irnt.meta     cvpc_atac_peak_223777 CVPC  \n",
       "⋮   ⋮                                         ⋮                     ⋮     \n",
       "963 Mahajan.NatGenet2018b.T2D.European_sorted ppc_atac_peak_213789  PPC   \n",
       "964 Mahajan.NatGenet2018b.T2D.European_sorted ppc_atac_peak_215915  PPC   \n",
       "965 Mahajan.NatGenet2018b.T2D.European_sorted ppc_atac_peak_215958  PPC   \n",
       "966 Mahajan.NatGenet2018b.T2D.European_sorted ppc_atac_peak_244298  PPC   \n",
       "967 Mahajan.NatGenet2018b.T2D.European_sorted ppc_atac_peak_244305  PPC   \n",
       "968 Mahajan.NatGenet2018b.T2D.European_sorted ppc_atac_peak_256673  PPC   \n",
       "969 Mahajan.NatGenet2018b.T2D.European_sorted ppc_atac_peak_41848   PPC   \n",
       "970 Mahajan.NatGenet2018b.T2D.European_sorted ppc_atac_peak_42000   PPC   \n",
       "971 Mahajan.NatGenet2018b.T2D.European_sorted ppc_atac_peak_45892   PPC   \n",
       "972 Mahajan.NatGenet2018b.T2D.European_sorted ppc_atac_peak_59109   PPC   \n",
       "973 Mahajan.NatGenet2018b.T2D.European_sorted ppc_atac_peak_73604   PPC   \n",
       "974 Mahajan.NatGenet2018b.T2D.European_sorted ppc_atac_peak_78513   PPC   \n",
       "975 Mahajan.NatGenet2018b.T2D.European_sorted ppc_atac_peak_84890   PPC   \n",
       "976 Mahajan.NatGenet2018b.T2D.European_sorted ppc_atac_peak_91324   PPC   \n",
       "977 timmers2020_healthspan_lifespan_longevity cvpc_atac_peak_101289 CVPC  \n",
       "978 timmers2020_healthspan_lifespan_longevity cvpc_atac_peak_91811  CVPC  \n",
       "979 timmers2020_healthspan_lifespan_longevity cvpc_chip_peak_21796  CVPC  \n",
       "980 timmers2020_healthspan_lifespan_longevity ENSG00000041357.16    iPSC  \n",
       "981 timmers2020_healthspan_lifespan_longevity ENSG00000109787.13    CVPC  \n",
       "982 timmers2020_healthspan_lifespan_longevity ENSG00000118689.15    iPSC  \n",
       "983 timmers2020_healthspan_lifespan_longevity ENSG00000127616.22    iPSC  \n",
       "984 timmers2020_healthspan_lifespan_longevity ENSG00000140564.13    iPSC  \n",
       "985 timmers2020_healthspan_lifespan_longevity ENSG00000182511.12    CVPC  \n",
       "986 timmers2020_healthspan_lifespan_longevity ENSG00000198901.14    iPSC  \n",
       "987 timmers2020_healthspan_lifespan_longevity ipsc_atac_peak_107357 iPSC  \n",
       "988 timmers2020_healthspan_lifespan_longevity ipsc_atac_peak_166376 iPSC  \n",
       "989 timmers2020_healthspan_lifespan_longevity ipsc_atac_peak_66932  iPSC  \n",
       "990 timmers2020_healthspan_lifespan_longevity ppc_atac_peak_125518  PPC   \n",
       "991 timmers2020_healthspan_lifespan_longevity ppc_atac_peak_150902  PPC   \n",
       "992 timmers2020_healthspan_lifespan_longevity ppc_atac_peak_94634   PPC   \n",
       "    gwas_index       cluster_id description            nsnp\n",
       "1   16_88039793_T_C  CVPC_6681  HDL cholesterol         26 \n",
       "2   17_598400_A_G    CVPC_522   HDL cholesterol         17 \n",
       "3   17_16942153_T_C  CVPC_6782  HDL cholesterol         12 \n",
       "4   17_78383251_CT_C CVPC_7007  HDL cholesterol         33 \n",
       "5   18_43192321_G_C  CVPC_7173  HDL cholesterol         99 \n",
       "6   1_93444330_C_A   CVPC_7182  HDL cholesterol         11 \n",
       "7   19_7459857_G_C   CVPC_1485  HDL cholesterol         28 \n",
       "8   19_47087297_CA_C CVPC_7505  HDL cholesterol         37 \n",
       "9   2_20151547_AT_A  CVPC_7659  HDL cholesterol          5 \n",
       "10  2_65063708_C_A   CVPC_7816  HDL cholesterol         12 \n",
       "11  2_120590036_G_C  CVPC_7984  HDL cholesterol          1 \n",
       "12  2_241457251_T_C  CVPC_924   HDL cholesterol          1 \n",
       "13  20_22164137_T_C  CVPC_8446  HDL cholesterol         75 \n",
       "14  3_15604328_T_C   CVPC_9011  HDL cholesterol         12 \n",
       "15  3_36932512_G_A   CVPC_1789  HDL cholesterol          7 \n",
       "16  3_46884049_T_C   CVPC_9123  HDL cholesterol         14 \n",
       "17  3_49893910_A_T   CVPC_292   HDL cholesterol         45 \n",
       "18  3_185808320_CA_C CVPC_9507  HDL cholesterol         41 \n",
       "19  4_68475769_T_C   CVPC_244   HDL cholesterol         23 \n",
       "20  4_68475769_T_C   CVPC_244   HDL cholesterol         23 \n",
       "21  4_68475769_T_C   CVPC_244   HDL cholesterol         19 \n",
       "22  4_90316085_G_T   CVPC_9824  HDL cholesterol         28 \n",
       "23  5_1283371_T_C    CVPC_10078 HDL cholesterol          2 \n",
       "24  1_205770138_C_T  CVPC_10342 HDL cholesterol          6 \n",
       "25  5_111912165_G_A  CVPC_10343 HDL cholesterol         67 \n",
       "26  5_135096700_A_G  CVPC_10413 HDL cholesterol          6 \n",
       "27  5_136120102_T_TA CVPC_10424 HDL cholesterol        143 \n",
       "28  6_33693002_A_G   CVPC_630   HDL cholesterol         68 \n",
       "29  6_33693002_A_G   CVPC_630   HDL cholesterol         69 \n",
       "30  6_109276421_C_A  CVPC_10931 HDL cholesterol          2 \n",
       "⋮   ⋮                ⋮          ⋮                      ⋮   \n",
       "963 5_75692544_A_G   PPC_9423   type 2 diabetes          8 \n",
       "964 5_102630709_T_C  PPC_9481   type 2 diabetes        158 \n",
       "965 5_103353125_A_G  PPC_9484   type 2 diabetes         67 \n",
       "966 7_28159058_C_T   PPC_122    type 2 diabetes          8 \n",
       "967 7_28159058_C_T   PPC_122    type 2 diabetes          6 \n",
       "968 8_9320222_T_G    PPC_10895  type 2 diabetes         35 \n",
       "969 11_2172280_C_T   PPC_12298  type 2 diabetes         12 \n",
       "970 11_2828300_A_C   PPC_12303  type 2 diabetes          1 \n",
       "971 11_43841480_G_A  PPC_12462  type 2 diabetes         56 \n",
       "972 12_26100624_A_C  PPC_12936  type 2 diabetes         15 \n",
       "973 13_58099154_T_C  PPC_13423  type 2 diabetes         20 \n",
       "974 14_22819726_C_G  PPC_13601  type 2 diabetes          4 \n",
       "975 14_91452737_T_A  PPC_13825  type 2 diabetes         49 \n",
       "976 15_67788548_A_T  PPC_14053  type 2 diabetes          1 \n",
       "977 16_89959744_A_G  CVPC_6708  Multivariate Longevity   3 \n",
       "978 15_90885406_G_A  CVPC_1191  Multivariate Longevity   8 \n",
       "979 15_90885406_G_A  CVPC_16185 Multivariate Longevity   8 \n",
       "980 15_78623522_G_A  iPSC_1771  Multivariate Longevity   6 \n",
       "981 4_38389131_T_C   CVPC_3660  Multivariate Longevity  34 \n",
       "982 6_108687991_A_G  iPSC_3323  Multivariate Longevity  40 \n",
       "983 19_11076746_T_C  iPSC_617   Multivariate Longevity   9 \n",
       "984 15_90885406_G_A  iPSC_212   Multivariate Longevity   5 \n",
       "985 15_90885406_G_A  CVPC_1191  Multivariate Longevity  11 \n",
       "986 15_90885406_G_A  iPSC_7051  Multivariate Longevity   5 \n",
       "987 2_201340018_T_C  iPSC_8821  Multivariate Longevity  28 \n",
       "988 6_108687991_A_G  iPSC_10846 Multivariate Longevity  41 \n",
       "989 15_90885406_G_A  iPSC_212   Multivariate Longevity   8 \n",
       "990 19_11076746_T_C  PPC_6379   Multivariate Longevity  33 \n",
       "991 2_201340018_T_C  PPC_7248   Multivariate Longevity  26 \n",
       "992 15_90885406_G_A  PPC_146    Multivariate Longevity  15 \n",
       "    tissue_description          type  Bin  \n",
       "1   CVPC_HDL cholesterol        caQTL 26-50\n",
       "2   CVPC_HDL cholesterol        caQTL 16-20\n",
       "3   CVPC_HDL cholesterol        caQTL 11-15\n",
       "4   CVPC_HDL cholesterol        caQTL 26-50\n",
       "5   CVPC_HDL cholesterol        caQTL >50  \n",
       "6   CVPC_HDL cholesterol        caQTL 11-15\n",
       "7   CVPC_HDL cholesterol        caQTL 26-50\n",
       "8   CVPC_HDL cholesterol        caQTL 26-50\n",
       "9   CVPC_HDL cholesterol        caQTL 1-5  \n",
       "10  CVPC_HDL cholesterol        caQTL 11-15\n",
       "11  CVPC_HDL cholesterol        caQTL 1-5  \n",
       "12  CVPC_HDL cholesterol        caQTL 1-5  \n",
       "13  CVPC_HDL cholesterol        caQTL >50  \n",
       "14  CVPC_HDL cholesterol        caQTL 11-15\n",
       "15  CVPC_HDL cholesterol        caQTL 6-10 \n",
       "16  CVPC_HDL cholesterol        caQTL 11-15\n",
       "17  CVPC_HDL cholesterol        caQTL 26-50\n",
       "18  CVPC_HDL cholesterol        caQTL 26-50\n",
       "19  CVPC_HDL cholesterol        caQTL 21-25\n",
       "20  CVPC_HDL cholesterol        caQTL 21-25\n",
       "21  CVPC_HDL cholesterol        caQTL 16-20\n",
       "22  CVPC_HDL cholesterol        caQTL 26-50\n",
       "23  CVPC_HDL cholesterol        caQTL 1-5  \n",
       "24  CVPC_HDL cholesterol        caQTL 6-10 \n",
       "25  CVPC_HDL cholesterol        caQTL >50  \n",
       "26  CVPC_HDL cholesterol        caQTL 6-10 \n",
       "27  CVPC_HDL cholesterol        caQTL >50  \n",
       "28  CVPC_HDL cholesterol        caQTL >50  \n",
       "29  CVPC_HDL cholesterol        caQTL >50  \n",
       "30  CVPC_HDL cholesterol        caQTL 1-5  \n",
       "⋮   ⋮                           ⋮     ⋮    \n",
       "963 PPC_type 2 diabetes         caQTL 6-10 \n",
       "964 PPC_type 2 diabetes         caQTL >50  \n",
       "965 PPC_type 2 diabetes         caQTL >50  \n",
       "966 PPC_type 2 diabetes         caQTL 6-10 \n",
       "967 PPC_type 2 diabetes         caQTL 6-10 \n",
       "968 PPC_type 2 diabetes         caQTL 26-50\n",
       "969 PPC_type 2 diabetes         caQTL 11-15\n",
       "970 PPC_type 2 diabetes         caQTL 1-5  \n",
       "971 PPC_type 2 diabetes         caQTL >50  \n",
       "972 PPC_type 2 diabetes         caQTL 11-15\n",
       "973 PPC_type 2 diabetes         caQTL 16-20\n",
       "974 PPC_type 2 diabetes         caQTL 1-5  \n",
       "975 PPC_type 2 diabetes         caQTL 26-50\n",
       "976 PPC_type 2 diabetes         caQTL 1-5  \n",
       "977 CVPC_Multivariate Longevity caQTL 1-5  \n",
       "978 CVPC_Multivariate Longevity caQTL 6-10 \n",
       "979 CVPC_Multivariate Longevity haQTL 6-10 \n",
       "980 iPSC_Multivariate Longevity eQTL  6-10 \n",
       "981 CVPC_Multivariate Longevity eQTL  26-50\n",
       "982 iPSC_Multivariate Longevity eQTL  26-50\n",
       "983 iPSC_Multivariate Longevity eQTL  6-10 \n",
       "984 iPSC_Multivariate Longevity eQTL  1-5  \n",
       "985 CVPC_Multivariate Longevity eQTL  11-15\n",
       "986 iPSC_Multivariate Longevity eQTL  1-5  \n",
       "987 iPSC_Multivariate Longevity caQTL 26-50\n",
       "988 iPSC_Multivariate Longevity caQTL 26-50\n",
       "989 iPSC_Multivariate Longevity caQTL 6-10 \n",
       "990 PPC_Multivariate Longevity  caQTL 26-50\n",
       "991 PPC_Multivariate Longevity  caQTL 26-50\n",
       "992 PPC_Multivariate Longevity  caQTL 11-15\n",
       "    coloc_id                                                            \n",
       "1   CVPC_cvpc_atac_peak_100931_biomarkers-30760-both_sexes-irnt.meta    \n",
       "2   CVPC_cvpc_atac_peak_101331_biomarkers-30760-both_sexes-irnt.meta    \n",
       "3   CVPC_cvpc_atac_peak_103227_biomarkers-30760-both_sexes-irnt.meta    \n",
       "4   CVPC_cvpc_atac_peak_109630_biomarkers-30760-both_sexes-irnt.meta    \n",
       "5   CVPC_cvpc_atac_peak_114234_biomarkers-30760-both_sexes-irnt.meta    \n",
       "6   CVPC_cvpc_atac_peak_11450_biomarkers-30760-both_sexes-irnt.meta     \n",
       "7   CVPC_cvpc_atac_peak_118840_biomarkers-30760-both_sexes-irnt.meta    \n",
       "8   CVPC_cvpc_atac_peak_122484_biomarkers-30760-both_sexes-irnt.meta    \n",
       "9   CVPC_cvpc_atac_peak_125793_biomarkers-30760-both_sexes-irnt.meta    \n",
       "10  CVPC_cvpc_atac_peak_130703_biomarkers-30760-both_sexes-irnt.meta    \n",
       "11  CVPC_cvpc_atac_peak_135436_biomarkers-30760-both_sexes-irnt.meta    \n",
       "12  CVPC_cvpc_atac_peak_147558_biomarkers-30760-both_sexes-irnt.meta    \n",
       "13  CVPC_cvpc_atac_peak_149807_biomarkers-30760-both_sexes-irnt.meta    \n",
       "14  CVPC_cvpc_atac_peak_163549_biomarkers-30760-both_sexes-irnt.meta    \n",
       "15  CVPC_cvpc_atac_peak_165571_biomarkers-30760-both_sexes-irnt.meta    \n",
       "16  CVPC_cvpc_atac_peak_166876_biomarkers-30760-both_sexes-irnt.meta    \n",
       "17  CVPC_cvpc_atac_peak_167283_biomarkers-30760-both_sexes-irnt.meta    \n",
       "18  CVPC_cvpc_atac_peak_179794_biomarkers-30760-both_sexes-irnt.meta    \n",
       "19  CVPC_cvpc_atac_peak_186885_biomarkers-30760-both_sexes-irnt.meta    \n",
       "20  CVPC_cvpc_atac_peak_186886_biomarkers-30760-both_sexes-irnt.meta    \n",
       "21  CVPC_cvpc_atac_peak_186887_biomarkers-30760-both_sexes-irnt.meta    \n",
       "22  CVPC_cvpc_atac_peak_188849_biomarkers-30760-both_sexes-irnt.meta    \n",
       "23  CVPC_cvpc_atac_peak_197204_biomarkers-30760-both_sexes-irnt.meta    \n",
       "24  CVPC_cvpc_atac_peak_20585_biomarkers-30760-both_sexes-irnt.meta     \n",
       "25  CVPC_cvpc_atac_peak_205884_biomarkers-30760-both_sexes-irnt.meta    \n",
       "26  CVPC_cvpc_atac_peak_208200_biomarkers-30760-both_sexes-irnt.meta    \n",
       "27  CVPC_cvpc_atac_peak_208375_biomarkers-30760-both_sexes-irnt.meta    \n",
       "28  CVPC_cvpc_atac_peak_217512_biomarkers-30760-both_sexes-irnt.meta    \n",
       "29  CVPC_cvpc_atac_peak_217515_biomarkers-30760-both_sexes-irnt.meta    \n",
       "30  CVPC_cvpc_atac_peak_223777_biomarkers-30760-both_sexes-irnt.meta    \n",
       "⋮   ⋮                                                                   \n",
       "963 PPC_ppc_atac_peak_213789_Mahajan.NatGenet2018b.T2D.European_sorted  \n",
       "964 PPC_ppc_atac_peak_215915_Mahajan.NatGenet2018b.T2D.European_sorted  \n",
       "965 PPC_ppc_atac_peak_215958_Mahajan.NatGenet2018b.T2D.European_sorted  \n",
       "966 PPC_ppc_atac_peak_244298_Mahajan.NatGenet2018b.T2D.European_sorted  \n",
       "967 PPC_ppc_atac_peak_244305_Mahajan.NatGenet2018b.T2D.European_sorted  \n",
       "968 PPC_ppc_atac_peak_256673_Mahajan.NatGenet2018b.T2D.European_sorted  \n",
       "969 PPC_ppc_atac_peak_41848_Mahajan.NatGenet2018b.T2D.European_sorted   \n",
       "970 PPC_ppc_atac_peak_42000_Mahajan.NatGenet2018b.T2D.European_sorted   \n",
       "971 PPC_ppc_atac_peak_45892_Mahajan.NatGenet2018b.T2D.European_sorted   \n",
       "972 PPC_ppc_atac_peak_59109_Mahajan.NatGenet2018b.T2D.European_sorted   \n",
       "973 PPC_ppc_atac_peak_73604_Mahajan.NatGenet2018b.T2D.European_sorted   \n",
       "974 PPC_ppc_atac_peak_78513_Mahajan.NatGenet2018b.T2D.European_sorted   \n",
       "975 PPC_ppc_atac_peak_84890_Mahajan.NatGenet2018b.T2D.European_sorted   \n",
       "976 PPC_ppc_atac_peak_91324_Mahajan.NatGenet2018b.T2D.European_sorted   \n",
       "977 CVPC_cvpc_atac_peak_101289_timmers2020_healthspan_lifespan_longevity\n",
       "978 CVPC_cvpc_atac_peak_91811_timmers2020_healthspan_lifespan_longevity \n",
       "979 CVPC_cvpc_chip_peak_21796_timmers2020_healthspan_lifespan_longevity \n",
       "980 iPSC_ENSG00000041357.16_timmers2020_healthspan_lifespan_longevity   \n",
       "981 CVPC_ENSG00000109787.13_timmers2020_healthspan_lifespan_longevity   \n",
       "982 iPSC_ENSG00000118689.15_timmers2020_healthspan_lifespan_longevity   \n",
       "983 iPSC_ENSG00000127616.22_timmers2020_healthspan_lifespan_longevity   \n",
       "984 iPSC_ENSG00000140564.13_timmers2020_healthspan_lifespan_longevity   \n",
       "985 CVPC_ENSG00000182511.12_timmers2020_healthspan_lifespan_longevity   \n",
       "986 iPSC_ENSG00000198901.14_timmers2020_healthspan_lifespan_longevity   \n",
       "987 iPSC_ipsc_atac_peak_107357_timmers2020_healthspan_lifespan_longevity\n",
       "988 iPSC_ipsc_atac_peak_166376_timmers2020_healthspan_lifespan_longevity\n",
       "989 iPSC_ipsc_atac_peak_66932_timmers2020_healthspan_lifespan_longevity \n",
       "990 PPC_ppc_atac_peak_125518_timmers2020_healthspan_lifespan_longevity  \n",
       "991 PPC_ppc_atac_peak_150902_timmers2020_healthspan_lifespan_longevity  \n",
       "992 PPC_ppc_atac_peak_94634_timmers2020_healthspan_lifespan_longevity   "
      ]
     },
     "metadata": {},
     "output_type": "display_data"
    }
   ],
   "source": [
    "credset_hist2"
   ]
  },
  {
   "cell_type": "code",
   "execution_count": 50,
   "metadata": {},
   "outputs": [],
   "source": [
    "highcon_cs_rsids = rbindlist(lapply(unique(highcon_cs$tissue_element), function(te){\n",
    "    tiss_ele = highcon_cs[ highcon_cs$tissue_element == te,]\n",
    "    type = ifelse(grepl(\"atac\",tiss_ele$tissue_element), \"caqtls\", ifelse(grepl(\"chip\",tiss_ele$tissue_element), \"haqtls\",\"eqtls\"))\n",
    "    path = unique(paste0(type,\"/\",unique(tiss_ele$tissue),\"/step_1/genotype/by_element/gt_info.\",unique(tiss_ele$element_id),\".txt\"))\n",
    "    return(fread(path,sep=\"\\t\",data.table=F) %>% select(id, rsid))\n",
    "}))\n"
   ]
  },
  {
   "cell_type": "code",
   "execution_count": 57,
   "metadata": {},
   "outputs": [
    {
     "data": {
      "text/html": [
       "3601"
      ],
      "text/latex": [
       "3601"
      ],
      "text/markdown": [
       "3601"
      ],
      "text/plain": [
       "[1] 3601"
      ]
     },
     "metadata": {},
     "output_type": "display_data"
    }
   ],
   "source": [
    "highcon_cs_rsids2 = unique(highcon_cs_rsids)\n",
    "colnames(highcon_cs_rsids2) = c(\"snp\",\"rsid\")\n",
    "\n",
    "df = merge(highcon_cs2,highcon_cs_rsids2)\n",
    "length(unique(df$rsid))"
   ]
  },
  {
   "cell_type": "code",
   "execution_count": 38,
   "metadata": {},
   "outputs": [],
   "source": [
    "fwrite(highcon_cs, \"analyses/tim/gwas_tfbs/highcon_crediblesets.txt\",sep=\"\\t\",row.names=F,quote=F)"
   ]
  },
  {
   "cell_type": "code",
   "execution_count": 12,
   "metadata": {},
   "outputs": [
    {
     "name": "stderr",
     "output_type": "stream",
     "text": [
      "There are 6164 SNPs in 611 high confidence credible sets\n",
      "\n"
     ]
    }
   ],
   "source": [
    "message(paste(\"There are\",nrow(highcon_cs2),\"SNPs in\", length(unique(highcon_cs$coloc_id)),\"high confidence credible sets\"))"
   ]
  },
  {
   "cell_type": "markdown",
   "metadata": {},
   "source": [
    "\n",
    "\n",
    "\n",
    "\n",
    "### Intersect TF Motif Bed with Credible Set"
   ]
  },
  {
   "cell_type": "code",
   "execution_count": 76,
   "metadata": {},
   "outputs": [],
   "source": [
    "ipsc_cs_path =  paste0(basedir,\"analyses/tim/gwas_tfbs/ipsc_cs.bed\")\n",
    "cvpc_cs_path =  paste0(basedir,\"analyses/tim/gwas_tfbs/cvpc_cs.bed\")\n",
    "ppc_cs_path  =  paste0(basedir,\"analyses/tim/gwas_tfbs/ppc_cs.bed\")\n",
    "\n",
    "# fwrite(highcon_cs2 %>% filter(tissue == \"iPSC\" ) %>% arrange(chrom,start,end),\n",
    "#        ipsc_cs_path, sep=\"\\t\",row.names=F,col.names=F,quote=F)\n",
    "\n",
    "# fwrite(highcon_cs2 %>% filter(tissue == \"CVPC\" ) %>% arrange(chrom,start,end),\n",
    "#        cvpc_cs_path, sep=\"\\t\",row.names=F,col.names=F,quote=F)\n",
    "\n",
    "# fwrite(highcon_cs2 %>% filter(tissue == \"PPC\" ) %>% arrange(chrom,start,end),\n",
    "#        ppc_cs_path, sep=\"\\t\",row.names=F,col.names=F,quote=F)"
   ]
  },
  {
   "cell_type": "code",
   "execution_count": 77,
   "metadata": {},
   "outputs": [],
   "source": [
    "bedtools = \"/frazer01/software/bedtools-2.25.0/bin/bedtools\"\n",
    "intersect_motifs = function(motif_path, snp_path){\n",
    "    cmd = paste(bedtools, \"intersect -a\",motif_path , \"-b\", snp_path, \"-wb\")\n",
    "    return(fread(cmd = cmd))\n",
    "}\n",
    "\n",
    "ipsc_overlap = intersect_motifs(ipsc_motif_path,ipsc_cs_path)\n",
    "cvpc_overlap = intersect_motifs(cvpc_motif_path,cvpc_cs_path)\n",
    "ppc_overlap = intersect_motifs(ppc_motif_path,ppc_cs_path)"
   ]
  },
  {
   "cell_type": "code",
   "execution_count": 88,
   "metadata": {},
   "outputs": [
    {
     "data": {
      "text/html": [
       "<table class=\"dataframe\">\n",
       "<caption>A data.frame: 6 × 11</caption>\n",
       "<thead>\n",
       "\t<tr><th></th><th scope=col>V1</th><th scope=col>V2</th><th scope=col>V3</th><th scope=col>V4</th><th scope=col>V5</th><th scope=col>V6</th><th scope=col>V7</th><th scope=col>V8</th><th scope=col>V9</th><th scope=col>V10</th><th scope=col>V11</th></tr>\n",
       "\t<tr><th></th><th scope=col>&lt;chr&gt;</th><th scope=col>&lt;int&gt;</th><th scope=col>&lt;int&gt;</th><th scope=col>&lt;chr&gt;</th><th scope=col>&lt;dbl&gt;</th><th scope=col>&lt;chr&gt;</th><th scope=col>&lt;chr&gt;</th><th scope=col>&lt;int&gt;</th><th scope=col>&lt;int&gt;</th><th scope=col>&lt;chr&gt;</th><th scope=col>&lt;dbl&gt;</th></tr>\n",
       "</thead>\n",
       "<tbody>\n",
       "\t<tr><th scope=row>1</th><td>chr1</td><td>820107</td><td>820119</td><td>ZSCAN29_MA1602.1                           </td><td>9.71302</td><td>+</td><td>chr1</td><td>820105</td><td>820650</td><td>ppc_atac_peak_2</td><td>0.03778</td></tr>\n",
       "\t<tr><th scope=row>2</th><td>chr1</td><td>820111</td><td>820126</td><td>EHF_MA0598.3                               </td><td>7.15043</td><td>+</td><td>chr1</td><td>820105</td><td>820650</td><td>ppc_atac_peak_2</td><td>0.03778</td></tr>\n",
       "\t<tr><th scope=row>3</th><td>chr1</td><td>820116</td><td>820128</td><td>GRHL2_HUMAN.H11MO.0.A_GRHL2_HUMAN.H11MO.0.A</td><td>7.67740</td><td>+</td><td>chr1</td><td>820105</td><td>820650</td><td>ppc_atac_peak_2</td><td>0.03778</td></tr>\n",
       "\t<tr><th scope=row>4</th><td>chr1</td><td>820116</td><td>820131</td><td>NFAC1_HUMAN.H11MO.0.B_NFAC1_HUMAN.H11MO.0.B</td><td>7.55020</td><td>-</td><td>chr1</td><td>820105</td><td>820650</td><td>ppc_atac_peak_2</td><td>0.03778</td></tr>\n",
       "\t<tr><th scope=row>5</th><td>chr1</td><td>820119</td><td>820138</td><td>MAF_HUMAN.H11MO.0.A_MAF_HUMAN.H11MO.0.A    </td><td>8.39424</td><td>-</td><td>chr1</td><td>820105</td><td>820650</td><td>ppc_atac_peak_2</td><td>0.03778</td></tr>\n",
       "\t<tr><th scope=row>6</th><td>chr1</td><td>820121</td><td>820130</td><td>NFAC2_HUMAN.H11MO.0.B_NFAC2_HUMAN.H11MO.0.B</td><td>7.85007</td><td>-</td><td>chr1</td><td>820105</td><td>820650</td><td>ppc_atac_peak_2</td><td>0.03778</td></tr>\n",
       "</tbody>\n",
       "</table>\n"
      ],
      "text/latex": [
       "A data.frame: 6 × 11\n",
       "\\begin{tabular}{r|lllllllllll}\n",
       "  & V1 & V2 & V3 & V4 & V5 & V6 & V7 & V8 & V9 & V10 & V11\\\\\n",
       "  & <chr> & <int> & <int> & <chr> & <dbl> & <chr> & <chr> & <int> & <int> & <chr> & <dbl>\\\\\n",
       "\\hline\n",
       "\t1 & chr1 & 820107 & 820119 & ZSCAN29\\_MA1602.1                            & 9.71302 & + & chr1 & 820105 & 820650 & ppc\\_atac\\_peak\\_2 & 0.03778\\\\\n",
       "\t2 & chr1 & 820111 & 820126 & EHF\\_MA0598.3                                & 7.15043 & + & chr1 & 820105 & 820650 & ppc\\_atac\\_peak\\_2 & 0.03778\\\\\n",
       "\t3 & chr1 & 820116 & 820128 & GRHL2\\_HUMAN.H11MO.0.A\\_GRHL2\\_HUMAN.H11MO.0.A & 7.67740 & + & chr1 & 820105 & 820650 & ppc\\_atac\\_peak\\_2 & 0.03778\\\\\n",
       "\t4 & chr1 & 820116 & 820131 & NFAC1\\_HUMAN.H11MO.0.B\\_NFAC1\\_HUMAN.H11MO.0.B & 7.55020 & - & chr1 & 820105 & 820650 & ppc\\_atac\\_peak\\_2 & 0.03778\\\\\n",
       "\t5 & chr1 & 820119 & 820138 & MAF\\_HUMAN.H11MO.0.A\\_MAF\\_HUMAN.H11MO.0.A     & 8.39424 & - & chr1 & 820105 & 820650 & ppc\\_atac\\_peak\\_2 & 0.03778\\\\\n",
       "\t6 & chr1 & 820121 & 820130 & NFAC2\\_HUMAN.H11MO.0.B\\_NFAC2\\_HUMAN.H11MO.0.B & 7.85007 & - & chr1 & 820105 & 820650 & ppc\\_atac\\_peak\\_2 & 0.03778\\\\\n",
       "\\end{tabular}\n"
      ],
      "text/markdown": [
       "\n",
       "A data.frame: 6 × 11\n",
       "\n",
       "| <!--/--> | V1 &lt;chr&gt; | V2 &lt;int&gt; | V3 &lt;int&gt; | V4 &lt;chr&gt; | V5 &lt;dbl&gt; | V6 &lt;chr&gt; | V7 &lt;chr&gt; | V8 &lt;int&gt; | V9 &lt;int&gt; | V10 &lt;chr&gt; | V11 &lt;dbl&gt; |\n",
       "|---|---|---|---|---|---|---|---|---|---|---|---|\n",
       "| 1 | chr1 | 820107 | 820119 | ZSCAN29_MA1602.1                            | 9.71302 | + | chr1 | 820105 | 820650 | ppc_atac_peak_2 | 0.03778 |\n",
       "| 2 | chr1 | 820111 | 820126 | EHF_MA0598.3                                | 7.15043 | + | chr1 | 820105 | 820650 | ppc_atac_peak_2 | 0.03778 |\n",
       "| 3 | chr1 | 820116 | 820128 | GRHL2_HUMAN.H11MO.0.A_GRHL2_HUMAN.H11MO.0.A | 7.67740 | + | chr1 | 820105 | 820650 | ppc_atac_peak_2 | 0.03778 |\n",
       "| 4 | chr1 | 820116 | 820131 | NFAC1_HUMAN.H11MO.0.B_NFAC1_HUMAN.H11MO.0.B | 7.55020 | - | chr1 | 820105 | 820650 | ppc_atac_peak_2 | 0.03778 |\n",
       "| 5 | chr1 | 820119 | 820138 | MAF_HUMAN.H11MO.0.A_MAF_HUMAN.H11MO.0.A     | 8.39424 | - | chr1 | 820105 | 820650 | ppc_atac_peak_2 | 0.03778 |\n",
       "| 6 | chr1 | 820121 | 820130 | NFAC2_HUMAN.H11MO.0.B_NFAC2_HUMAN.H11MO.0.B | 7.85007 | - | chr1 | 820105 | 820650 | ppc_atac_peak_2 | 0.03778 |\n",
       "\n"
      ],
      "text/plain": [
       "  V1   V2     V3     V4                                          V5      V6\n",
       "1 chr1 820107 820119 ZSCAN29_MA1602.1                            9.71302 + \n",
       "2 chr1 820111 820126 EHF_MA0598.3                                7.15043 + \n",
       "3 chr1 820116 820128 GRHL2_HUMAN.H11MO.0.A_GRHL2_HUMAN.H11MO.0.A 7.67740 + \n",
       "4 chr1 820116 820131 NFAC1_HUMAN.H11MO.0.B_NFAC1_HUMAN.H11MO.0.B 7.55020 - \n",
       "5 chr1 820119 820138 MAF_HUMAN.H11MO.0.A_MAF_HUMAN.H11MO.0.A     8.39424 - \n",
       "6 chr1 820121 820130 NFAC2_HUMAN.H11MO.0.B_NFAC2_HUMAN.H11MO.0.B 7.85007 - \n",
       "  V7   V8     V9     V10             V11    \n",
       "1 chr1 820105 820650 ppc_atac_peak_2 0.03778\n",
       "2 chr1 820105 820650 ppc_atac_peak_2 0.03778\n",
       "3 chr1 820105 820650 ppc_atac_peak_2 0.03778\n",
       "4 chr1 820105 820650 ppc_atac_peak_2 0.03778\n",
       "5 chr1 820105 820650 ppc_atac_peak_2 0.03778\n",
       "6 chr1 820105 820650 ppc_atac_peak_2 0.03778"
      ]
     },
     "metadata": {},
     "output_type": "display_data"
    }
   ],
   "source": [
    "ppc_motifs = fread(ppc_motif_path,sep=\"\\t\",data.table=F)\n",
    "head(ppc_motifs)"
   ]
  },
  {
   "cell_type": "code",
   "execution_count": 248,
   "metadata": {},
   "outputs": [
    {
     "data": {
      "text/html": [
       "296"
      ],
      "text/latex": [
       "296"
      ],
      "text/markdown": [
       "296"
      ],
      "text/plain": [
       "[1] 296"
      ]
     },
     "metadata": {},
     "output_type": "display_data"
    },
    {
     "data": {
      "image/png": "[encoded data removed]",
      "text/plain": [
       "plot without title"
      ]
     },
     "metadata": {
      "image/png": {
       "height": 240,
       "width": 240
      }
     },
     "output_type": "display_data"
    }
   ],
   "source": [
    "ppc_uni = unique(ppc_overlap[ ,c(\"V20\",\"V18\",\"V23\")])\n",
    "ipsc_uni = unique(ipsc_overlap[ ,c(\"V20\",\"V18\",\"V23\")])\n",
    "cvpc_uni = unique(cvpc_overlap[ ,c(\"V20\",\"V18\",\"V23\")])\n",
    "\n",
    "cs_all = rbindlist(list(ipsc_uni[,1:2],cvpc_uni[,1:2],ppc_uni[,1:2]))\n",
    "nrow(cs_all)\n",
    "cs_all2 = as.data.frame(table(cs_all$V20, cs_all$V18))\n",
    "cs_all2$Trait = ifelse(cs_all2$Var1 == \"birth weight (eur)\", \"Birth Weight\",\n",
    "                      ifelse(cs_all2$Var1 == \"fasting glucose\", \"Fasting Glucose\",\n",
    "                            ifelse(cs_all2$Var1 == \"Multivariate Longevity\", \"Aging\",\n",
    "                                  ifelse(cs_all2$Var1 == \"type 2 diabetes\", \"Type 2 Diabetes\",as.character(cs_all2$Var1)))))\n",
    "\n",
    "cs_all2$Trait = gsub(\"I[0-9]+ \",\"\",cs_all2$Trait)\n",
    "cs_all2$Trait = gsub(\" \\\\(BMI\\\\)\",\"\",cs_all2$Trait)\n",
    "cs_all2$Trait = gsub(\" and flutter\",\"\",cs_all2$Trait)\n",
    "cs_all2$Trait = gsub(\"Chronic \",\"\",cs_all2$Trait)\n",
    "cs_all2$Trait = gsub(\"Acute \",\"\",cs_all2$Trait)\n",
    "cs_all2$Trait = gsub(\"ischaemic \",\"\",cs_all2$Trait)\n",
    "\n",
    "cs_all2$Trait = str_to_title(cs_all2$Trait)\n",
    "cs_all2$Trait = gsub(\"Ldl\",\"LDL\",cs_all2$Trait)\n",
    "cs_all2$Trait = gsub(\"Hdl\",\"HDL\",cs_all2$Trait)\n",
    "cs_all2$Trait = gsub(\"Qrs\",\"QRS\",cs_all2$Trait)\n",
    "\n",
    "\n",
    "cs_all2$Tissue = factor(cs_all2$Var2, levels = rev(c(\"iPSC\",\"CVPC\",\"PPC\")))\n",
    "\n",
    "b = ggplot(cs_all2, aes( Freq, reorder(Trait,Freq),fill =Tissue)) + theme_bw2 + \n",
    "        theme(axis.text = element_text(size=12),axis.title = element_text(size=12),\n",
    "             legend.position = \"bottom\") +\n",
    "        xlab(\"No. QTL-GWAS\\nColocalizations\") + ylab(\"\") +\n",
    "        geom_bar(stat=\"identity\", position = \"dodge\") +\n",
    "        scale_fill_manual(values = rev(c(\"lightBlue\",\"red\",\"yellow\"))) +\n",
    "        guides(fill = guide_legend(reverse=T)) + theme(legend.title=element_blank(),\n",
    "                                                      legend.text=element_text(size=10))\n",
    "\n",
    "psize(4,4)\n",
    "# png(\"~/projects/Resource/notebooks/toGitHub/figures/figure6_cs.png\",units=\"in\",res=300,height=7,width=4)\n",
    "# png(\"~/defense/gwas_tf_snps.png\",units=\"in\",res=300,height=4,width=4)\n",
    "plot_grid(b)\n",
    "# dev.off()\n",
    "\n",
    "# plot_grid(a,b, nrow=2, rel_heights = c(0.8,1))\n",
    "# dev.off()"
   ]
  },
  {
   "cell_type": "code",
   "execution_count": 18,
   "metadata": {},
   "outputs": [],
   "source": [
    "fwrite(cs_all2[,c(4,5,3)], \"~/projects/Resource/notebooks/toGitHub/sourcedata/SOURCEDATA.FIGURE6B.txt\",sep=\"\\t\",row.names=F,quote=F)"
   ]
  },
  {
   "cell_type": "code",
   "execution_count": 32,
   "metadata": {},
   "outputs": [],
   "source": [
    "\n",
    "ipsc_overlap$tissue_element = paste(ipsc_overlap$V18,ipsc_overlap$V17, sep=\"_\")\n",
    "cvpc_overlap$tissue_element = paste(cvpc_overlap$V18,cvpc_overlap$V17, sep=\"_\")\n",
    "ppc_overlap$tissue_element = paste(ppc_overlap$V18,ppc_overlap$V17, sep=\"_\")"
   ]
  },
  {
   "cell_type": "code",
   "execution_count": 344,
   "metadata": {},
   "outputs": [
    {
     "data": {
      "text/plain": [
       "\n",
       "FALSE  TRUE \n",
       " 2273  1778 "
      ]
     },
     "metadata": {},
     "output_type": "display_data"
    }
   ],
   "source": [
    "ipsc_overlap2 = ipsc_overlap[,c(\"V10\",\"V4\",\"V15\",\"V19\",\"V20\",\"V18\",\"V23\",\"V17\")]\n",
    "cvpc_overlap2 = cvpc_overlap[,c(\"V10\",\"V4\",\"V15\",\"V19\",\"V20\",\"V18\",\"V23\",\"V17\")]\n",
    "ppc_overlap2 = ppc_overlap[,c(\"V10\",\"V4\",\"V15\",\"V19\",\"V20\",\"V18\",\"V23\",\"V17\")]\n",
    "\n",
    "all_overlap = unique(rbind(rbind(ipsc_overlap2,cvpc_overlap2),ppc_overlap2))\n",
    "colnames(all_overlap) = c(\"TFBS_peak\",\"TF_Motif\",\"SNP\",\"Trait_ID\",\"Trait_Description\",\"Tissue\",\"Cluster_ID\",\"qElement\")\n",
    "\n",
    "mods_tmp = mods[ ,c(\"Cluster_ID\",\"Element_ID\")]\n",
    "colnames(mods_tmp) = c(\"TFBS_Cluster_ID\",\"TFBS_peak\")\n",
    "\n",
    "\n",
    "\n",
    "all_overlap2 = merge(mods_tmp,all_overlap,all=T)\n",
    "\n",
    "all_overlap3 = all_overlap2[ !is.na(all_overlap2$TF_Motif),]\n",
    "all_overlap3$In_Any_caQTL = ifelse(all_overlap3$TFBS_peak %in% mods$Element_ID, \"TRUE\",\"FALSE\")\n",
    "table(all_overlap3$In_Any_caQTL)\n",
    "all_overlap3$TFBS_Cluster_ID[ is.na(all_overlap3$TFBS_Cluster_ID)] = \"Not a caPeak\"\n",
    "all_overlap3$Same_QTL = ifelse(is.na(all_overlap3$TFBS_Cluster_ID), \"FALSE\",\n",
    "                               ifelse(all_overlap3$TFBS_Cluster_ID == all_overlap3$Cluster_ID, \"TRUE\",\"FALSE\"))\n",
    "all_overlap3$Same_caPeak = ifelse(all_overlap3$TFBS_peak == all_overlap3$qElement, \"TRUE\",\"FALSE\")"
   ]
  },
  {
   "cell_type": "code",
   "execution_count": 335,
   "metadata": {},
   "outputs": [
    {
     "name": "stderr",
     "output_type": "stream",
     "text": [
      "There are  4051 TF motif overlaps by credible set SNPs\n",
      "\n",
      "There are  356 unique credible set SNPs that overlap a TF motif\n",
      "\n",
      "There are  548 QTL - GWAS colocalizations with at least one credible SNP that overlaps a TF motif\n",
      "\n"
     ]
    },
    {
     "data": {
      "text/html": [
       "356"
      ],
      "text/latex": [
       "356"
      ],
      "text/markdown": [
       "356"
      ],
      "text/plain": [
       "[1] 356"
      ]
     },
     "metadata": {},
     "output_type": "display_data"
    }
   ],
   "source": [
    "message(paste(\"There are \", nrow(all_overlap3), \"TF motif overlaps by credible set SNPs\"))\n",
    "message(paste(\"There are \", length(unique(all_overlap3$SNP)), \"unique credible set SNPs that overlap a TF motif\"))\n",
    "\n",
    "message(paste(\"There are \", nrow(unique(all_overlap3[,c(\"SNP\",\"Trait_Description\",\"Cluster_ID\")])),\n",
    "              \"QTL - GWAS colocalizations with at least one credible SNP that overlaps a TF motif\"))\n",
    "\n",
    "# unique(all_overlap3[,c(\"SNP\",\"Trait_Description\",\"Cluster_ID\")])\n",
    "\n",
    "\n",
    "length(unique(all_overlap3$SNP))\n",
    "# unique(all_overlap3[,c(\"SNP\",\"Trait_Description\",\"Cluster_ID\")])"
   ]
  },
  {
   "cell_type": "code",
   "execution_count": 409,
   "metadata": {},
   "outputs": [
    {
     "data": {
      "text/html": [
       "2747"
      ],
      "text/latex": [
       "2747"
      ],
      "text/markdown": [
       "2747"
      ],
      "text/plain": [
       "[1] 2747"
      ]
     },
     "metadata": {},
     "output_type": "display_data"
    }
   ],
   "source": [
    "tfs_summ = unique(all_overlap3[,c(\"SNP\",\"TFBS_peak\",\"Tissue\",\"TF_Motif\")])\n",
    "nrow(tfs_summ)\n",
    "tfs_summ$TF_name = gsub(\"_MA.*\",\"\",tfs_summ$TF_Motif)\n",
    "tfs_summ$TF_name = gsub(\"_.*\",\"\",gsub(\"_HUMAN.H11MO\",\"\",tfs_summ$TF_name))\n"
   ]
  },
  {
   "cell_type": "code",
   "execution_count": 458,
   "metadata": {},
   "outputs": [],
   "source": [
    "# mods[,c(\"Cluster_ID\",\"Complexity\",\"qtl_combo\")]"
   ]
  },
  {
   "cell_type": "code",
   "execution_count": null,
   "metadata": {},
   "outputs": [],
   "source": []
  },
  {
   "cell_type": "code",
   "execution_count": 494,
   "metadata": {},
   "outputs": [
    {
     "data": {
      "text/html": [
       "<style>\n",
       ".list-inline {list-style: none; margin:0; padding: 0}\n",
       ".list-inline>li {display: inline-block}\n",
       ".list-inline>li:not(:last-child)::after {content: \"\\00b7\"; padding: 0 .5ex}\n",
       "</style>\n",
       "<ol class=list-inline><li>'HDL cholesterol'</li><li>'type 2 diabetes'</li><li>'I48 Atrial fibrillation and flutter'</li><li>'LDL direct'</li><li>'Body mass index (BMI)'</li><li>'Pulse rate'</li><li>'birth weight (eur)'</li><li>'fasting glucose'</li><li>'I20 Angina pectoris'</li><li>'I25 Chronic ischaemic heart disease'</li><li>'QRS duration'</li><li>'I21 Acute myocardial infarction'</li><li>'Multivariate Longevity'</li></ol>\n"
      ],
      "text/latex": [
       "\\begin{enumerate*}\n",
       "\\item 'HDL cholesterol'\n",
       "\\item 'type 2 diabetes'\n",
       "\\item 'I48 Atrial fibrillation and flutter'\n",
       "\\item 'LDL direct'\n",
       "\\item 'Body mass index (BMI)'\n",
       "\\item 'Pulse rate'\n",
       "\\item 'birth weight (eur)'\n",
       "\\item 'fasting glucose'\n",
       "\\item 'I20 Angina pectoris'\n",
       "\\item 'I25 Chronic ischaemic heart disease'\n",
       "\\item 'QRS duration'\n",
       "\\item 'I21 Acute myocardial infarction'\n",
       "\\item 'Multivariate Longevity'\n",
       "\\end{enumerate*}\n"
      ],
      "text/markdown": [
       "1. 'HDL cholesterol'\n",
       "2. 'type 2 diabetes'\n",
       "3. 'I48 Atrial fibrillation and flutter'\n",
       "4. 'LDL direct'\n",
       "5. 'Body mass index (BMI)'\n",
       "6. 'Pulse rate'\n",
       "7. 'birth weight (eur)'\n",
       "8. 'fasting glucose'\n",
       "9. 'I20 Angina pectoris'\n",
       "10. 'I25 Chronic ischaemic heart disease'\n",
       "11. 'QRS duration'\n",
       "12. 'I21 Acute myocardial infarction'\n",
       "13. 'Multivariate Longevity'\n",
       "\n",
       "\n"
      ],
      "text/plain": [
       " [1] \"HDL cholesterol\"                     \"type 2 diabetes\"                    \n",
       " [3] \"I48 Atrial fibrillation and flutter\" \"LDL direct\"                         \n",
       " [5] \"Body mass index (BMI)\"               \"Pulse rate\"                         \n",
       " [7] \"birth weight (eur)\"                  \"fasting glucose\"                    \n",
       " [9] \"I20 Angina pectoris\"                 \"I25 Chronic ischaemic heart disease\"\n",
       "[11] \"QRS duration\"                        \"I21 Acute myocardial infarction\"    \n",
       "[13] \"Multivariate Longevity\"             "
      ]
     },
     "metadata": {},
     "output_type": "display_data"
    }
   ],
   "source": [
    "tfs_summ$tissue_variant = paste(tfs_summ$Tissue, tfs_summ$SNP, sep=\"_\")\n",
    "tfs_summ2 = rbindlist(lapply(unique(tfs_summ$tissue_variant), function(x){\n",
    "    tmp = tfs_summ[ tfs_summ$tissue_variant == x,]\n",
    "    out = data.frame(Tissue =  unique(tmp$Tissue),\n",
    "                     TFBS_peak = unique(tmp$TFBS_peak),\n",
    "                     SNP = unique(tmp$SNP))\n",
    "    out$No_Motifs = length(tmp$TF_name)\n",
    "    out$motifs = paste(sort(tmp$TF_name),collapse = \",\")\n",
    "    return(out)\n",
    "}))\n",
    "all_overlap5 = merge(all_overlap4,tfs_summ2,by=c(\"Tissue\",\"TFBS_peak\",\"SNP\"))\n",
    "all_overlap5$coloc_snp_id = NULL\n",
    "\n",
    "pp_snp = get_credible_sets2 %>% group_by(Cluster_ID,description,snp) %>% top_n(1,SNP.PP.H4) %>% \n",
    "                select(Cluster_ID,description,snp,SNP.PP.H4) %>% ungroup()\n",
    "colnames(pp_snp) = c(\"Cluster_ID\",\"Trait_Description\",\"SNP\",\"SNP.PP\")\n",
    "all_overlap5a =merge(all_overlap5,pp_snp,by=c(\"Cluster_ID\",\"Trait_Description\",\"SNP\"))\n",
    "\n",
    "all_overlap6 = all_overlap5a [,c(\"Tissue\",\"Cluster_ID\",\"Trait_Description\",\"SNP\",\"SNP.PP\",\n",
    "                                \"TFBS_peak\",\"No_Motifs\",\"In_Any_caQTL\",\"Same_QTL\",\"TopSNP\",\"motifs\")]\n",
    "\n",
    "names(all_overlap6)[4] = \"SNP_ID\"\n",
    "names(all_overlap6)[5] = \"SNP_PP\"\n",
    "names(all_overlap6)[6] = \"TFBS_Peak_ID\"\n",
    "names(all_overlap6)[7] = \"No_Overlapped_Motifs\"\n",
    "names(all_overlap6)[8] = \"TFBS_Peak_Is_caPeak\"\n",
    "names(all_overlap6)[9] = \"TFBS_Peak_In_Same_QTL\"\n",
    "\n",
    "names(all_overlap6)[10] = \"SNP_Is_TopSNP\"\n",
    "names(all_overlap6)[11] = \"Overlapped_Motif_IDs\"\n",
    "\n",
    "\n",
    "\n",
    "all_overlap6$TFBS_Peak_In_Same_QTL = ifelse(all_overlap6$TFBS_Peak_In_Same_QTL == \"TRUE\",1,0)\n",
    "all_overlap7 = all_overlap6 %>% arrange(-TFBS_Peak_In_Same_QTL,-No_Overlapped_Motifs)\n",
    "all_overlap7$TFBS_Peak_In_Same_QTL = ifelse(all_overlap7$TFBS_Peak_In_Same_QTL == 1,\"TRUE\",\"FALSE\")\n",
    "unique(all_overlap7$Trait_Description)"
   ]
  },
  {
   "cell_type": "code",
   "execution_count": 495,
   "metadata": {},
   "outputs": [
    {
     "data": {
      "text/html": [
       "<style>\n",
       ".list-inline {list-style: none; margin:0; padding: 0}\n",
       ".list-inline>li {display: inline-block}\n",
       ".list-inline>li:not(:last-child)::after {content: \"\\00b7\"; padding: 0 .5ex}\n",
       "</style>\n",
       "<ol class=list-inline><li>'HDL Cholesterol'</li><li>'Type 2 Diabetes'</li><li>'Atrial Fibrillation'</li><li>'LDL Direct'</li><li>'Body Mass Index'</li><li>'Pulse Rate'</li><li>'Birth Weight'</li><li>'Fasting Glucose'</li><li>'Angina Pectoris'</li><li>'Heart Disease'</li><li>'QRS Duration'</li><li>'Myocardial Infarction'</li><li>'Aging'</li></ol>\n"
      ],
      "text/latex": [
       "\\begin{enumerate*}\n",
       "\\item 'HDL Cholesterol'\n",
       "\\item 'Type 2 Diabetes'\n",
       "\\item 'Atrial Fibrillation'\n",
       "\\item 'LDL Direct'\n",
       "\\item 'Body Mass Index'\n",
       "\\item 'Pulse Rate'\n",
       "\\item 'Birth Weight'\n",
       "\\item 'Fasting Glucose'\n",
       "\\item 'Angina Pectoris'\n",
       "\\item 'Heart Disease'\n",
       "\\item 'QRS Duration'\n",
       "\\item 'Myocardial Infarction'\n",
       "\\item 'Aging'\n",
       "\\end{enumerate*}\n"
      ],
      "text/markdown": [
       "1. 'HDL Cholesterol'\n",
       "2. 'Type 2 Diabetes'\n",
       "3. 'Atrial Fibrillation'\n",
       "4. 'LDL Direct'\n",
       "5. 'Body Mass Index'\n",
       "6. 'Pulse Rate'\n",
       "7. 'Birth Weight'\n",
       "8. 'Fasting Glucose'\n",
       "9. 'Angina Pectoris'\n",
       "10. 'Heart Disease'\n",
       "11. 'QRS Duration'\n",
       "12. 'Myocardial Infarction'\n",
       "13. 'Aging'\n",
       "\n",
       "\n"
      ],
      "text/plain": [
       " [1] \"HDL Cholesterol\"       \"Type 2 Diabetes\"       \"Atrial Fibrillation\"  \n",
       " [4] \"LDL Direct\"            \"Body Mass Index\"       \"Pulse Rate\"           \n",
       " [7] \"Birth Weight\"          \"Fasting Glucose\"       \"Angina Pectoris\"      \n",
       "[10] \"Heart Disease\"         \"QRS Duration\"          \"Myocardial Infarction\"\n",
       "[13] \"Aging\"                "
      ]
     },
     "metadata": {},
     "output_type": "display_data"
    }
   ],
   "source": [
    "all_overlap7$Trait_Description = ifelse(all_overlap7$Trait_Description == \"birth weight (eur)\", \"Birth Weight\",\n",
    "                      ifelse(all_overlap7$Trait_Description == \"fasting glucose\", \"Fasting Glucose\",\n",
    "                            ifelse(all_overlap7$Trait_Description == \"Multivariate Longevity\", \"Aging\",\n",
    "                                  ifelse(all_overlap7$Trait_Description == \"type 2 diabetes\", \"Type 2 Diabetes\",\n",
    "                                         as.character(all_overlap7$Trait_Description)))))\n",
    "\n",
    "all_overlap7$Trait_Description = gsub(\"I[0-9]+ \",\"\",all_overlap7$Trait_Description)\n",
    "all_overlap7$Trait_Description = gsub(\" \\\\(BMI\\\\)\",\"\",all_overlap7$Trait_Description)\n",
    "all_overlap7$Trait_Description = gsub(\" and flutter\",\"\",all_overlap7$Trait_Description)\n",
    "all_overlap7$Trait_Description = gsub(\"Chronic \",\"\",all_overlap7$Trait_Description)\n",
    "all_overlap7$Trait_Description = gsub(\"Acute \",\"\",all_overlap7$Trait_Description)\n",
    "all_overlap7$Trait_Description = gsub(\"ischaemic \",\"\",all_overlap7$Trait_Description)\n",
    "\n",
    "all_overlap7$Trait_Description = str_to_title(all_overlap7$Trait_Description)\n",
    "all_overlap7$Trait_Description = gsub(\"Ldl\",\"LDL\",all_overlap7$Trait_Description)\n",
    "all_overlap7$Trait_Description = gsub(\"Hdl\",\"HDL\",all_overlap7$Trait_Description)\n",
    "all_overlap7$Trait_Description = gsub(\"Qrs\",\"QRS\",all_overlap7$Trait_Description)\n",
    "unique(all_overlap7$Trait_Description)"
   ]
  },
  {
   "cell_type": "code",
   "execution_count": 498,
   "metadata": {},
   "outputs": [
    {
     "data": {
      "text/plain": [
       "\n",
       "    High      Low Moderate \n",
       "     167      344       37 "
      ]
     },
     "metadata": {},
     "output_type": "display_data"
    }
   ],
   "source": [
    "all_overlap8 = merge(all_overlap7,unique(mods[,c(\"Cluster_ID\",\"Complexity\",\"qtl_combo\")]))\n",
    "all_overlap8$Priority_Rank = ifelse(all_overlap8$TFBS_Peak_Is_caPeak == \"TRUE\" & all_overlap8$TFBS_Peak_In_Same_QTL == \"TRUE\", \"High\",\n",
    "                                   ifelse(all_overlap8$TFBS_Peak_Is_caPeak == \"TRUE\" & \n",
    "                                          all_overlap8$TFBS_Peak_In_Same_QTL == \"FALSE\",\"Moderate\",\"Low\"))\n",
    "table(all_overlap8$Priority_Rank)"
   ]
  },
  {
   "cell_type": "code",
   "execution_count": 508,
   "metadata": {},
   "outputs": [],
   "source": [
    "all_overlap9 = all_overlap8[,c(\"Tissue\",\"Cluster_ID\",\"Complexity\",\"qtl_combo\",\"Trait_Description\",\"SNP_ID\",\n",
    "                   \"SNP_PP\",\"TFBS_Peak_ID\",\"Priority_Rank\",\"No_Overlapped_Motifs\",\"Overlapped_Motif_IDs\")] \n",
    "all_overlap9$Priority_Rank = factor(all_overlap9$Priority_Rank, levels = c(\"High\",\"Moderate\",\"Low\"))\n",
    "names(all_overlap9)[4] = \"QTL_Combo\"\n"
   ]
  },
  {
   "cell_type": "code",
   "execution_count": 68,
   "metadata": {},
   "outputs": [
    {
     "data": {
      "text/html": [
       "<table class=\"dataframe\">\n",
       "<caption>A tibble: 1 × 11</caption>\n",
       "<thead>\n",
       "\t<tr><th scope=col>Tissue</th><th scope=col>Cluster_ID</th><th scope=col>Complexity</th><th scope=col>QTL_Combo</th><th scope=col>Trait_Description</th><th scope=col>SNP_ID</th><th scope=col>SNP_PP</th><th scope=col>TFBS_Peak_ID</th><th scope=col>Priority_Rank</th><th scope=col>No_Overlapped_Motifs</th><th scope=col>Overlapped_Motif_IDs</th></tr>\n",
       "\t<tr><th scope=col>&lt;chr&gt;</th><th scope=col>&lt;chr&gt;</th><th scope=col>&lt;chr&gt;</th><th scope=col>&lt;chr&gt;</th><th scope=col>&lt;chr&gt;</th><th scope=col>&lt;chr&gt;</th><th scope=col>&lt;dbl&gt;</th><th scope=col>&lt;chr&gt;</th><th scope=col>&lt;chr&gt;</th><th scope=col>&lt;dbl&gt;</th><th scope=col>&lt;chr&gt;</th></tr>\n",
       "</thead>\n",
       "<tbody>\n",
       "\t<tr><td>CVPC</td><td>CVPC_274</td><td>Complex</td><td>caQTL-haQTL</td><td>QRS Duration</td><td>VAR_13_73944073_G_A</td><td>0.2583801</td><td>cvpc_atac_peak_73241</td><td>High</td><td>10</td><td>ARI5B.0.C,MEF2A,MEF2C,STA5A.0.A,STA5B.0.A,Stat5a,Stat5aStat5b,Stat5b,ZFP28.0.C,ZN467.0.C</td></tr>\n",
       "</tbody>\n",
       "</table>\n"
      ],
      "text/latex": [
       "A tibble: 1 × 11\n",
       "\\begin{tabular}{lllllllllll}\n",
       " Tissue & Cluster\\_ID & Complexity & QTL\\_Combo & Trait\\_Description & SNP\\_ID & SNP\\_PP & TFBS\\_Peak\\_ID & Priority\\_Rank & No\\_Overlapped\\_Motifs & Overlapped\\_Motif\\_IDs\\\\\n",
       " <chr> & <chr> & <chr> & <chr> & <chr> & <chr> & <dbl> & <chr> & <chr> & <dbl> & <chr>\\\\\n",
       "\\hline\n",
       "\t CVPC & CVPC\\_274 & Complex & caQTL-haQTL & QRS Duration & VAR\\_13\\_73944073\\_G\\_A & 0.2583801 & cvpc\\_atac\\_peak\\_73241 & High & 10 & ARI5B.0.C,MEF2A,MEF2C,STA5A.0.A,STA5B.0.A,Stat5a,Stat5aStat5b,Stat5b,ZFP28.0.C,ZN467.0.C\\\\\n",
       "\\end{tabular}\n"
      ],
      "text/markdown": [
       "\n",
       "A tibble: 1 × 11\n",
       "\n",
       "| Tissue &lt;chr&gt; | Cluster_ID &lt;chr&gt; | Complexity &lt;chr&gt; | QTL_Combo &lt;chr&gt; | Trait_Description &lt;chr&gt; | SNP_ID &lt;chr&gt; | SNP_PP &lt;dbl&gt; | TFBS_Peak_ID &lt;chr&gt; | Priority_Rank &lt;chr&gt; | No_Overlapped_Motifs &lt;dbl&gt; | Overlapped_Motif_IDs &lt;chr&gt; |\n",
       "|---|---|---|---|---|---|---|---|---|---|---|\n",
       "| CVPC | CVPC_274 | Complex | caQTL-haQTL | QRS Duration | VAR_13_73944073_G_A | 0.2583801 | cvpc_atac_peak_73241 | High | 10 | ARI5B.0.C,MEF2A,MEF2C,STA5A.0.A,STA5B.0.A,Stat5a,Stat5aStat5b,Stat5b,ZFP28.0.C,ZN467.0.C |\n",
       "\n"
      ],
      "text/plain": [
       "  Tissue Cluster_ID Complexity QTL_Combo   Trait_Description\n",
       "1 CVPC   CVPC_274   Complex    caQTL-haQTL QRS Duration     \n",
       "  SNP_ID              SNP_PP    TFBS_Peak_ID         Priority_Rank\n",
       "1 VAR_13_73944073_G_A 0.2583801 cvpc_atac_peak_73241 High         \n",
       "  No_Overlapped_Motifs\n",
       "1 10                  \n",
       "  Overlapped_Motif_IDs                                                                    \n",
       "1 ARI5B.0.C,MEF2A,MEF2C,STA5A.0.A,STA5B.0.A,Stat5a,Stat5aStat5b,Stat5b,ZFP28.0.C,ZN467.0.C"
      ]
     },
     "metadata": {},
     "output_type": "display_data"
    }
   ],
   "source": [
    "all_overlap9[ all_overlap9$Priority_Rank == \"High\" & all_overlap9$Trait_Description == \"QRS Duration\" & \n",
    "                 all_overlap9$Tissue == \"CVPC\",]"
   ]
  },
  {
   "cell_type": "code",
   "execution_count": 528,
   "metadata": {},
   "outputs": [],
   "source": [
    "c_data = as.data.frame(table(all_overlap9$Priority_Rank))\n",
    "colnames(c_data) = c(\"Priority_Rank\",\"No_MOPCVs\") \n",
    "\n",
    "fwrite(c_data,\"~/projects/Resource/iPSCORE_Multi-QTL_Resource/SourceData/SOURCEDATA.FIGURE6C.txt\",\n",
    "       sep=\"\\t\",row.names=F,quote=F)"
   ]
  },
  {
   "cell_type": "code",
   "execution_count": 510,
   "metadata": {},
   "outputs": [],
   "source": [
    "write_xlsx(all_overlap9 %>% arrange(Priority_Rank, -No_Overlapped_Motifs),\"~/projects/Resource/RevisionTables/TABLE.GWAS_SNPs.xlsx\")"
   ]
  },
  {
   "cell_type": "code",
   "execution_count": 4,
   "metadata": {},
   "outputs": [],
   "source": [
    "all_overlap9 = read_xlsx(\"~/projects/Resource/RevisionTables/TABLE.GWAS_SNPs.xlsx\")"
   ]
  }
 ],
 "metadata": {
  "kernelspec": {
   "display_name": "R 4.0.1",
   "language": "R",
   "name": "ir40"
  },
  "language_info": {
   "codemirror_mode": "r",
   "file_extension": ".r",
   "mimetype": "text/x-r-source",
   "name": "R",
   "pygments_lexer": "r",
   "version": "4.0.1"
  }
 },
 "nbformat": 4,
 "nbformat_minor": 2
}
