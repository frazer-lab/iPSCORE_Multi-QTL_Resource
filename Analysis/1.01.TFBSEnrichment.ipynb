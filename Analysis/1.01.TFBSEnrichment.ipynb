{
 "cells": [
  {
   "cell_type": "code",
   "execution_count": 1,
   "metadata": {},
   "outputs": [
    {
     "data": {
      "text/html": [
       "<style>\n",
       ".list-inline {list-style: none; margin:0; padding: 0}\n",
       ".list-inline>li {display: inline-block}\n",
       ".list-inline>li:not(:last-child)::after {content: \"\\00b7\"; padding: 0 .5ex}\n",
       "</style>\n",
       "<ol class=list-inline><li>'figures'</li><li>'input'</li><li>'notebooks'</li><li>'source_data'</li><li>'supplemental_tables'</li></ol>\n"
      ],
      "text/latex": [
       "\\begin{enumerate*}\n",
       "\\item 'figures'\n",
       "\\item 'input'\n",
       "\\item 'notebooks'\n",
       "\\item 'source\\_data'\n",
       "\\item 'supplemental\\_tables'\n",
       "\\end{enumerate*}\n"
      ],
      "text/markdown": [
       "1. 'figures'\n",
       "2. 'input'\n",
       "3. 'notebooks'\n",
       "4. 'source_data'\n",
       "5. 'supplemental_tables'\n",
       "\n",
       "\n"
      ],
      "text/plain": [
       "[1] \"figures\"             \"input\"               \"notebooks\"          \n",
       "[4] \"source_data\"         \"supplemental_tables\""
      ]
     },
     "metadata": {},
     "output_type": "display_data"
    }
   ],
   "source": [
    "source(\"~/software/notebook_assist/functions.R\")\n",
    "source(\"~/software/notebook_assist/packages.R\")\n",
    "\n",
    "setwd(\"../\")\n",
    "list.files()\n"
   ]
  },
  {
   "cell_type": "code",
   "execution_count": 23,
   "metadata": {},
   "outputs": [],
   "source": [
    "\n",
    "### Load HOCOMOCO and JASPAR Metadata\n",
    "hocomoco   = fread(\"input/figure1/HOCOMOCOv11_core_annotation_HUMAN_mono.tsv\",sep=\"\\t\",data.table=F)[,1:2]\n",
    "\n",
    "# jaspar     = \n",
    "\n",
    "### TFBS Predictions can be found on Figshare\n",
    "#### JASPAR\n",
    "ipsc.jaspar = fread(\"input/figure1/iPSC_JAPSAR_TOBIAS.txt\",sep=\"\\t\",data.table=F)\n",
    "cvpc.jaspar = fread(\"input/figure1/CVPC_JAPSAR_TOBIAS.txt\",sep=\"\\t\",data.table=F)\n",
    "ppc.jaspar  = fread(\"input/figure1/PPC_JAPSAR_TOBIAS.txt\",sep=\"\\t\",data.table=F)\n",
    "all.jaspar    = as.data.frame(rbindlist(list(ipsc.jaspar,cvpc.jaspar,ppc.jaspar)))\n",
    "all.jaspar$Tissue = ifelse(grepl(\"ipsc\",all.jaspar$PeakID), \"iPSC\",\n",
    "                         ifelse(grepl(\"cvpc\",all.jaspar$PeakID), \"CVPC\",\"PPC\"))\n",
    "\n",
    "#### HOCOMOCO\n",
    "ipsc.hoco   = fread(\"input/figure1/iPSC_HOCOMOCO_TOBIAS.txt\",sep=\"\\t\",data.table=F)\n",
    "cvpc.hoco   = fread(\"input/figure1/CVPC_HOCOMOCO_TOBIAS.txt\",sep=\"\\t\",data.table=F)\n",
    "ppc.hoco    = fread(\"input/figure1/PPC_HOCOMOCO_TOBIAS.txt\",sep=\"\\t\",data.table=F)\n",
    "all.hoco    = as.data.frame(rbindlist(list(ipsc.hoco,cvpc.hoco,ppc.hoco)))\n",
    "all.hoco$Tissue = ifelse(grepl(\"ipsc\",all.hoco$PeakID), \"iPSC\",\n",
    "                         ifelse(grepl(\"cvpc\",all.hoco$PeakID), \"CVPC\",\"PPC\"))\n",
    "###Load Three Sets of ATAC Peaks\n",
    "ipsc.atac.path = \"input/figure1/ipsc_atac_peaks.bed\"\n",
    "cvpc.atac.path = \"input/figure1/cvpc_atac_peaks.bed\"\n",
    "ppc.atac.path  = \"input/figure1/ppc_atac_peaks.bed\"\n"
   ]
  },
  {
   "cell_type": "code",
   "execution_count": 47,
   "metadata": {},
   "outputs": [
    {
     "data": {
      "text/html": [
       "746"
      ],
      "text/latex": [
       "746"
      ],
      "text/markdown": [
       "746"
      ],
      "text/plain": [
       "[1] 746"
      ]
     },
     "metadata": {},
     "output_type": "display_data"
    }
   ],
   "source": [
    "length(unique(ipsc.jaspar$MotifID))"
   ]
  },
  {
   "cell_type": "code",
   "execution_count": 27,
   "metadata": {},
   "outputs": [],
   "source": [
    "tissues = c(\"ipsc\",\"cvpc\",\"ppc\")"
   ]
  },
  {
   "cell_type": "code",
   "execution_count": 30,
   "metadata": {},
   "outputs": [
    {
     "name": "stderr",
     "output_type": "stream",
     "text": [
      "bedtools intersect -a input/figure1/ipsc_atac_peaks.bed -b input/figure1/cvpc_atac_peaks.bed -wb > input/figure1/ipsc_cvpc.bed\n",
      "\n"
     ]
    }
   ],
   "source": [
    "\n",
    "\n",
    "message(command1)"
   ]
  },
  {
   "cell_type": "code",
   "execution_count": 37,
   "metadata": {},
   "outputs": [
    {
     "data": {
      "text/html": [
       "356862"
      ],
      "text/latex": [
       "356862"
      ],
      "text/markdown": [
       "356862"
      ],
      "text/plain": [
       "[1] 356862"
      ]
     },
     "metadata": {},
     "output_type": "display_data"
    }
   ],
   "source": [
    "\n",
    "command1 = paste(\"bedtools\", \"intersect\", \"-a\", ipsc.atac.path,\"-b\", cvpc.atac.path, \"-wb\", \"> input/figure1/ipsc_cvpc.bed\")\n",
    "command2 = paste(\"bedtools\", \"intersect\", \"-a\", ipsc.atac.path,\"-b\", ppc.atac.path, \"-wb\", \"> input/figure1/ipsc_ppc.bed\")\n",
    "command3 = paste(\"bedtools\", \"intersect\", \"-a\", cvpc.atac.path,\"-b\", ppc.atac.path, \"-wb\", \"> input/figure1/cvpc_ppc.bed\")\n",
    "\n",
    "### fix before upload\n",
    "\n",
    "shared_peaks_bed   = as.data.frame(rbindlist(list(fread(\"input/figure1/ipsc_cvpc.bed\",sep=\"\\t\",data.table=F)[,c(4,8)],\n",
    "                                                  fread(\"input/figure1/ipsc_ppc.bed\",sep=\"\\t\",data.table=F)[,c(4,8)],\n",
    "                                                  fread(\"input/figure1/cvpc_ppc.bed\",sep=\"\\t\",data.table=F)[,c(4,8)])))\n",
    "shared_peaks     = unique(c(shared_peaks_bed[[1]],shared_peaks_bed[[2]]))\n",
    "length(shared_peaks)\n",
    "# # fread(cmd = command, sep=\"\\t\",data.table=F)"
   ]
  },
  {
   "cell_type": "code",
   "execution_count": 38,
   "metadata": {},
   "outputs": [],
   "source": [
    "all.peaks = as.data.frame(rbindlist(lapply(c(ipsc.atac.path,cvpc.atac.path,ppc.atac.path),\n",
    "                                          function(x)return(fread(x,sep=\"\\t\")))))\n",
    "\n",
    "all.peaks$Tissue = ifelse(grepl(\"ipsc\",all.peaks$V4), \"iPSC\",\n",
    "                         ifelse(grepl(\"cvpc\",all.peaks$V4), \"CVPC\",\"PPC\"))\n",
    "names(all.peaks)[4] = \"PeakID\"\n",
    "                                              \n",
    "cast_tf_annotations = function(tfbs_df){\n",
    "    all.peaks$specific   = ifelse(all.peaks$PeakID %in% shared_peaks, 0, 1)\n",
    "    peak_tfs         = unique(tfbs_df[,1:2])\n",
    "    peak_tfs$TF      = gsub(\"_HUMAN.*\",\"\",gsub(\"_MA.*\",\"\",peak_tfs[,1]))\n",
    "    peak_tfs$Bound   = 1\n",
    "    tf_cast          = merge(all.peaks[,c(\"PeakID\",\"specific\")],\n",
    "                             reshape2::dcast(PeakID ~ TF, data = peak_tfs, value.var = \"Bound\", fun.aggregate = sum),\n",
    "                             all=TRUE)\n",
    "    tf_cast[ is.na(tf_cast)] = 0 \n",
    "    return(tf_cast)\n",
    "    }\n",
    "                                              \n",
    "all.hoco.cast = cast_tf_annotations(all.hoco)\n",
    "all.jaspar.cast = cast_tf_annotations(all.jaspar)\n",
    "                                              \n",
    "\n"
   ]
  },
  {
   "cell_type": "code",
   "execution_count": null,
   "metadata": {},
   "outputs": [],
   "source": []
  },
  {
   "cell_type": "code",
   "execution_count": 59,
   "metadata": {},
   "outputs": [
    {
     "data": {
      "text/plain": [
       "\n",
       "    0     1 \n",
       "40632  5110 "
      ]
     },
     "metadata": {},
     "output_type": "display_data"
    }
   ],
   "source": [
    "tmp = all.jaspar.cast[ grepl(\"ipsc\",all.jaspar.cast$PeakID) & rowSums(data.matrix(all.jaspar.cast[,3:ncol(all.jaspar.cast)])) > 0,]\n",
    "table(tmp$specific)"
   ]
  },
  {
   "cell_type": "code",
   "execution_count": 42,
   "metadata": {},
   "outputs": [],
   "source": [
    "calculate_tissue_tfs = function(tissue, tf_cast_df) {\n",
    "    tf_cast        = tf_cast_df[ grepl(tissue,tf_cast_df$PeakID) & rowSums(data.matrix(tf_cast_df[,3:ncol(tf_cast_df)])) > 0,]\n",
    "\n",
    "    property = colnames(tf_cast[,3:ncol(tf_cast)])\n",
    "    calculate_enrichment = function(property, vertices){\n",
    "        totest          = vertices[, c(property, \"specific\")]\n",
    "\n",
    "        colnames(totest) = c(\"property\", \"annot\")\n",
    "\n",
    "        annots = names(table(totest$annot))\n",
    "    \n",
    "        tests = as.data.frame(rbindlist(lapply(annots, function(annot){\n",
    "            x11  = nrow(totest[ totest$property == 1 & totest$annot == annot, ])\n",
    "            x12  = nrow(totest[ totest$property == 1 & totest$annot != annot, ])\n",
    "            x21  = nrow(totest[ totest$property == 0 & totest$annot == annot, ])\n",
    "            x22  = nrow(totest[ totest$property == 0 & totest$annot != annot, ])\n",
    "            mat  = matrix(c(x11, x12, x21, x22), nrow = 2, byrow = TRUE)\n",
    "            test = fisher.test(mat)\n",
    "            out  = data.frame(TF = property, Specific = annot, \n",
    "                              x11 = x11, x12 = x12, x21 = x21, x22 = x22, estimate = test$estimate, \n",
    "                              ci1 = test$conf.int[[1]], ci2 = test$conf.int[[2]], pval = test$p.value)\n",
    "            return(out)\n",
    "        })), stringsAsFactors = FALSE)\n",
    "        return(tests)}\n",
    "    enrich = function(x, annot){\n",
    "        tests       = as.data.frame(rbindlist(lapply(1:length(property), \n",
    "                                                     function(ii){calculate_enrichment(property[ii], x)})))\n",
    "        tests       = tests[ tests$Specific == 1,]\n",
    "        tests$padj  = p.adjust(tests$pval, method = \"BH\")\n",
    "        tests$log2r = log2(tests$estimate)\n",
    "        return(tests)}\n",
    "    enrich_out = enrich(tf_cast)\n",
    "    enrich_out$Specific = tissue\n",
    "    return(enrich_out)\n",
    "}\n",
    "\n",
    "jaspar_specific_enrich = as.data.frame(rbindlist(lapply(c(\"ipsc\",\"cvpc\",\"ppc\"),\n",
    "                                                        calculate_tissue_tfs,\n",
    "                                                        tf_cast_df = all.jaspar.cast)))\n",
    "\n",
    "hoco_specific_enrich = as.data.frame(rbindlist(lapply(c(\"ipsc\",\"cvpc\",\"ppc\"),\n",
    "                                                        calculate_tissue_tfs,\n",
    "                                                        tf_cast_df = all.hoco.cast)))\n",
    "\n",
    "fwrite(jaspar_specific_enrich, \"source_data/jaspar_specific_enrich.txt\",\n",
    "       sep=\"\\t\",row.names=F,quote=F)\n",
    "fwrite(hoco_specific_enrich, \"source_data/hoco_specific_enrich.txt\",\n",
    "       sep=\"\\t\",row.names=F,quote=F)"
   ]
  },
  {
   "cell_type": "code",
   "execution_count": 43,
   "metadata": {},
   "outputs": [],
   "source": [
    "jaspar_specific_enrich = fread(\"source_data/jaspar_specific_enrich.txt\",sep=\"\\t\",data.table=F)\n",
    "hoco_specific_enrich   = fread(\"source_data/hoco_specific_enrich.txt\",sep=\"\\t\",data.table=F)\n",
    "\n",
    "\n",
    "shared_enrich = function(row, enrich_df){\n",
    "    x11 = enrich_df[row,]$x12\n",
    "    x12 = enrich_df[row,]$x22\n",
    "    x21 = enrich_df[row,]$x11\n",
    "    x22 = enrich_df[row,]$x21\n",
    "    \n",
    "    mat = matrix(c(x11,x12,x21,x22), nrow=2)\n",
    "    test = fisher.test(mat)\n",
    "    out  = data.frame(TF = enrich_df[row,]$TF, Specific = paste0(enrich_df[row,]$Specific,\"_shared\"),\n",
    "                              x11 = x11, x12 = x12, x21 = x21, x22 = x22, estimate = test$estimate, \n",
    "                              ci1 = test$conf.int[[1]], ci2 = test$conf.int[[2]], pval = test$p.value)\n",
    "    return(out)   \n",
    "}\n",
    "jaspar_shared_enrich = as.data.frame(rbindlist(lapply(1:nrow(jaspar_specific_enrich),\n",
    "                                                      shared_enrich,\n",
    "                                                      enrich_df = jaspar_specific_enrich))) %>% \n",
    "                       group_by(Specific) %>% mutate(padj = p.adjust(pval,method=\"BH\"), log2r = log2(estimate)) \n",
    "\n",
    "hoco_shared_enrich = as.data.frame(rbindlist(lapply(1:nrow(hoco_specific_enrich),\n",
    "                                                    shared_enrich, \n",
    "                                                    enrich_df = hoco_specific_enrich))) %>% \n",
    "                       group_by(Specific) %>% mutate(padj = p.adjust(pval,method=\"BH\"), log2r = log2(estimate)) "
   ]
  },
  {
   "cell_type": "code",
   "execution_count": null,
   "metadata": {},
   "outputs": [],
   "source": []
  },
  {
   "cell_type": "code",
   "execution_count": 44,
   "metadata": {},
   "outputs": [],
   "source": [
    "to_supplement = function(enrich_df,motif_db) {\n",
    "    enrich_df$Tissue    = ifelse(grepl(\"ipsc\",enrich_df$Specific), \"iPSC\",\n",
    "                             ifelse(grepl(\"cvpc\",enrich_df$Specific), \"CVPC\",\"PPC\"))\n",
    "    enrich_df$Type      = ifelse(grepl(\"shared\",enrich_df$Specific), \"Shared\", \"Specific\")\n",
    "    enrich_df$Database  = motif_db\n",
    "    supp_out = enrich_df[,c(\"TF\",\"Database\",\"Tissue\",\"Type\",\"estimate\",\n",
    "                           \"ci1\",\"ci2\",\"pval\",\"padj\",\"log2r\")]\n",
    "    colnames(supp_out) = c(\"TF\",\"Database\",\"Tissue\",\"Type\",\"Odds Ratio\",\n",
    "                           \"Low Confidence Interval\",\"High Confidence Interval\",\n",
    "                           \"P-value\",\"Adjusted P-value\",\"log2(OR)\")\n",
    "    return(supp_out)\n",
    "}\n",
    "\n",
    "fwrite(rbind(to_supplement(rbind(jaspar_specific_enrich,jaspar_shared_enrich),\"JASPAR\"),\n",
    "        to_supplement(rbind(hoco_specific_enrich,hoco_shared_enrich),\"HOCOMOCO\")),\n",
    "       \"supplemental_tables/Table_S5.txt\",\n",
    "       sep=\"\\t\",row.names=F,quote=F)\n"
   ]
  },
  {
   "cell_type": "code",
   "execution_count": 84,
   "metadata": {},
   "outputs": [
    {
     "data": {
      "text/html": [
       "401"
      ],
      "text/latex": [
       "401"
      ],
      "text/markdown": [
       "401"
      ],
      "text/plain": [
       "[1] 401"
      ]
     },
     "metadata": {},
     "output_type": "display_data"
    },
    {
     "data": {
      "text/html": [
       "<style>\n",
       ".list-inline {list-style: none; margin:0; padding: 0}\n",
       ".list-inline>li {display: inline-block}\n",
       ".list-inline>li:not(:last-child)::after {content: \"\\00b7\"; padding: 0 .5ex}\n",
       "</style>\n",
       "<ol class=list-inline><li>'TF'</li><li>'Database'</li><li>'Tissue'</li><li>'Type'</li><li>'Odds Ratio'</li><li>'Low Confidence Interval'</li><li>'High Confidence Interval'</li><li>'P-value'</li><li>'Adjusted P-value'</li><li>'log2(OR)'</li><li>'MotifID'</li><li>'AltID'</li></ol>\n"
      ],
      "text/latex": [
       "\\begin{enumerate*}\n",
       "\\item 'TF'\n",
       "\\item 'Database'\n",
       "\\item 'Tissue'\n",
       "\\item 'Type'\n",
       "\\item 'Odds Ratio'\n",
       "\\item 'Low Confidence Interval'\n",
       "\\item 'High Confidence Interval'\n",
       "\\item 'P-value'\n",
       "\\item 'Adjusted P-value'\n",
       "\\item 'log2(OR)'\n",
       "\\item 'MotifID'\n",
       "\\item 'AltID'\n",
       "\\end{enumerate*}\n"
      ],
      "text/markdown": [
       "1. 'TF'\n",
       "2. 'Database'\n",
       "3. 'Tissue'\n",
       "4. 'Type'\n",
       "5. 'Odds Ratio'\n",
       "6. 'Low Confidence Interval'\n",
       "7. 'High Confidence Interval'\n",
       "8. 'P-value'\n",
       "9. 'Adjusted P-value'\n",
       "10. 'log2(OR)'\n",
       "11. 'MotifID'\n",
       "12. 'AltID'\n",
       "\n",
       "\n"
      ],
      "text/plain": [
       " [1] \"TF\"                       \"Database\"                \n",
       " [3] \"Tissue\"                   \"Type\"                    \n",
       " [5] \"Odds Ratio\"               \"Low Confidence Interval\" \n",
       " [7] \"High Confidence Interval\" \"P-value\"                 \n",
       " [9] \"Adjusted P-value\"         \"log2(OR)\"                \n",
       "[11] \"MotifID\"                  \"AltID\"                   "
      ]
     },
     "metadata": {},
     "output_type": "display_data"
    }
   ],
   "source": [
    "table5 = fread(\"supplemental_tables/Table_S5.txt\",sep=\"\\t\",data.table=F)\n",
    "table5_hoco = table5[ table5$Database == \"HOCOMOCO\",]\n",
    "length(unique(table5_hoco$TF))\n",
    "hocomoco2 = hocomoco\n",
    "\n",
    "colnames(hocomoco2) = c(\"MotifID\",\"AltID\")\n",
    "hocomoco2$TF = gsub(\"_HUMAN.*\",\"\",hocomoco2$MotifID)\n",
    "hocomoco2$Database = \"HOCOMOCO\"\n",
    "\n",
    "table5_jaspar = table5[ table5$Database == \"JASPAR\",]\n",
    "\n",
    "\n",
    "jaspar.df = data.frame(MotifID = unique(ipsc.jaspar$MotifID))\n",
    "jaspar.df$TF = gsub(\"_MA.*\",\"\",jaspar.df$MotifID)\n",
    "jaspar.df$AltID = NA\n",
    "jaspar.df$Database = \"JASPAR\"\n",
    "key = rbind(jaspar.df,hocomoco2)\n",
    "table5a = merge(table5, key,by=c(\"TF\",\"Database\"))\n",
    "colnames(table5a)\n",
    "fwrite(table5a[,c(11,1,12,2:10)],\"~/projects/Resource/manuscript/supplemental_tables/Table_S5.txt\",\n",
    "       sep=\"\\t\",row.names=F,quote=F)"
   ]
  },
  {
   "cell_type": "code",
   "execution_count": 29,
   "metadata": {},
   "outputs": [
    {
     "data": {
      "text/html": [
       "6090"
      ],
      "text/latex": [
       "6090"
      ],
      "text/markdown": [
       "6090"
      ],
      "text/plain": [
       "[1] 6090"
      ]
     },
     "metadata": {},
     "output_type": "display_data"
    },
    {
     "data": {
      "text/html": [
       "6882"
      ],
      "text/latex": [
       "6882"
      ],
      "text/markdown": [
       "6882"
      ],
      "text/plain": [
       "[1] 6882"
      ]
     },
     "metadata": {},
     "output_type": "display_data"
    }
   ],
   "source": [
    "table5a = merge(table5, rbind(hocomoco2,jaspar.df),by=c(\"TF\",\"Database\"))\n",
    "nrow(table5a)\n",
    "nrow(table5)"
   ]
  },
  {
   "cell_type": "code",
   "execution_count": 38,
   "metadata": {},
   "outputs": [
    {
     "data": {
      "text/html": [],
      "text/latex": [],
      "text/markdown": [],
      "text/plain": [
       "character(0)"
      ]
     },
     "metadata": {},
     "output_type": "display_data"
    }
   ],
   "source": [
    "setdiff(table5$TF, table5$TF)"
   ]
  },
  {
   "cell_type": "code",
   "execution_count": 37,
   "metadata": {},
   "outputs": [
    {
     "data": {
      "text/html": [
       "<table class=\"dataframe\">\n",
       "<caption>A data.frame: 401 × 2</caption>\n",
       "<thead>\n",
       "\t<tr><th scope=col>Model</th><th scope=col>Transcription factor</th></tr>\n",
       "\t<tr><th scope=col>&lt;chr&gt;</th><th scope=col>&lt;chr&gt;</th></tr>\n",
       "</thead>\n",
       "<tbody>\n",
       "\t<tr><td>AHR_HUMAN.H11MO.0.B  </td><td>AHR    </td></tr>\n",
       "\t<tr><td>AIRE_HUMAN.H11MO.0.C </td><td>AIRE   </td></tr>\n",
       "\t<tr><td>ALX1_HUMAN.H11MO.0.B </td><td>ALX1   </td></tr>\n",
       "\t<tr><td>ANDR_HUMAN.H11MO.0.A </td><td>AR     </td></tr>\n",
       "\t<tr><td>AP2A_HUMAN.H11MO.0.A </td><td>TFAP2A </td></tr>\n",
       "\t<tr><td>AP2B_HUMAN.H11MO.0.B </td><td>TFAP2B </td></tr>\n",
       "\t<tr><td>AP2C_HUMAN.H11MO.0.A </td><td>TFAP2C </td></tr>\n",
       "\t<tr><td>ARI5B_HUMAN.H11MO.0.C</td><td>ARID5B </td></tr>\n",
       "\t<tr><td>ARNT_HUMAN.H11MO.0.B </td><td>ARNT   </td></tr>\n",
       "\t<tr><td>ASCL1_HUMAN.H11MO.0.A</td><td>ASCL1  </td></tr>\n",
       "\t<tr><td>ATF1_HUMAN.H11MO.0.B </td><td>ATF1   </td></tr>\n",
       "\t<tr><td>ATF2_HUMAN.H11MO.0.B </td><td>ATF2   </td></tr>\n",
       "\t<tr><td>ATF3_HUMAN.H11MO.0.A </td><td>ATF3   </td></tr>\n",
       "\t<tr><td>ATF4_HUMAN.H11MO.0.A </td><td>ATF4   </td></tr>\n",
       "\t<tr><td>ATF6A_HUMAN.H11MO.0.B</td><td>ATF6   </td></tr>\n",
       "\t<tr><td>ATOH1_HUMAN.H11MO.0.B</td><td>ATOH1  </td></tr>\n",
       "\t<tr><td>BACH1_HUMAN.H11MO.0.A</td><td>BACH1  </td></tr>\n",
       "\t<tr><td>BACH2_HUMAN.H11MO.0.A</td><td>BACH2  </td></tr>\n",
       "\t<tr><td>BATF3_HUMAN.H11MO.0.B</td><td>BATF3  </td></tr>\n",
       "\t<tr><td>BATF_HUMAN.H11MO.0.A </td><td>BATF   </td></tr>\n",
       "\t<tr><td>BC11A_HUMAN.H11MO.0.A</td><td>BCL11A </td></tr>\n",
       "\t<tr><td>BCL6_HUMAN.H11MO.0.A </td><td>BCL6   </td></tr>\n",
       "\t<tr><td>BHA15_HUMAN.H11MO.0.B</td><td>BHLHA15</td></tr>\n",
       "\t<tr><td>BHE40_HUMAN.H11MO.0.A</td><td>BHLHE40</td></tr>\n",
       "\t<tr><td>BMAL1_HUMAN.H11MO.0.A</td><td>ARNTL  </td></tr>\n",
       "\t<tr><td>BRAC_HUMAN.H11MO.0.A </td><td>T      </td></tr>\n",
       "\t<tr><td>CDX1_HUMAN.H11MO.0.C </td><td>CDX1   </td></tr>\n",
       "\t<tr><td>CDX2_HUMAN.H11MO.0.A </td><td>CDX2   </td></tr>\n",
       "\t<tr><td>CEBPA_HUMAN.H11MO.0.A</td><td>CEBPA  </td></tr>\n",
       "\t<tr><td>CEBPB_HUMAN.H11MO.0.A</td><td>CEBPB  </td></tr>\n",
       "\t<tr><td>⋮</td><td>⋮</td></tr>\n",
       "\t<tr><td>ZN350_HUMAN.H11MO.0.C</td><td>ZNF350 </td></tr>\n",
       "\t<tr><td>ZN382_HUMAN.H11MO.0.C</td><td>ZNF382 </td></tr>\n",
       "\t<tr><td>ZN384_HUMAN.H11MO.0.C</td><td>ZNF384 </td></tr>\n",
       "\t<tr><td>ZN394_HUMAN.H11MO.0.C</td><td>ZNF394 </td></tr>\n",
       "\t<tr><td>ZN418_HUMAN.H11MO.0.C</td><td>ZNF418 </td></tr>\n",
       "\t<tr><td>ZN436_HUMAN.H11MO.0.C</td><td>ZNF436 </td></tr>\n",
       "\t<tr><td>ZN449_HUMAN.H11MO.0.C</td><td>ZNF449 </td></tr>\n",
       "\t<tr><td>ZN467_HUMAN.H11MO.0.C</td><td>ZNF467 </td></tr>\n",
       "\t<tr><td>ZN490_HUMAN.H11MO.0.C</td><td>ZNF490 </td></tr>\n",
       "\t<tr><td>ZN502_HUMAN.H11MO.0.C</td><td>ZNF502 </td></tr>\n",
       "\t<tr><td>ZN528_HUMAN.H11MO.0.C</td><td>ZNF528 </td></tr>\n",
       "\t<tr><td>ZN547_HUMAN.H11MO.0.C</td><td>ZNF547 </td></tr>\n",
       "\t<tr><td>ZN549_HUMAN.H11MO.0.C</td><td>ZNF549 </td></tr>\n",
       "\t<tr><td>ZN554_HUMAN.H11MO.0.C</td><td>ZNF554 </td></tr>\n",
       "\t<tr><td>ZN563_HUMAN.H11MO.0.C</td><td>ZNF563 </td></tr>\n",
       "\t<tr><td>ZN582_HUMAN.H11MO.0.C</td><td>ZNF582 </td></tr>\n",
       "\t<tr><td>ZN586_HUMAN.H11MO.0.C</td><td>ZNF586 </td></tr>\n",
       "\t<tr><td>ZN667_HUMAN.H11MO.0.C</td><td>ZNF667 </td></tr>\n",
       "\t<tr><td>ZN680_HUMAN.H11MO.0.C</td><td>ZNF680 </td></tr>\n",
       "\t<tr><td>ZN708_HUMAN.H11MO.0.C</td><td>ZNF708 </td></tr>\n",
       "\t<tr><td>ZN768_HUMAN.H11MO.0.C</td><td>ZNF768 </td></tr>\n",
       "\t<tr><td>ZN770_HUMAN.H11MO.0.C</td><td>ZNF770 </td></tr>\n",
       "\t<tr><td>ZN816_HUMAN.H11MO.0.C</td><td>ZNF816 </td></tr>\n",
       "\t<tr><td>ZNF18_HUMAN.H11MO.0.C</td><td>ZNF18  </td></tr>\n",
       "\t<tr><td>ZNF41_HUMAN.H11MO.0.C</td><td>ZNF41  </td></tr>\n",
       "\t<tr><td>ZNF76_HUMAN.H11MO.0.C</td><td>ZNF76  </td></tr>\n",
       "\t<tr><td>ZNF85_HUMAN.H11MO.0.C</td><td>ZNF85  </td></tr>\n",
       "\t<tr><td>ZNF8_HUMAN.H11MO.0.C </td><td>ZNF8   </td></tr>\n",
       "\t<tr><td>ZSC22_HUMAN.H11MO.0.C</td><td>ZSCAN22</td></tr>\n",
       "\t<tr><td>ZSC31_HUMAN.H11MO.0.C</td><td>ZSCAN31</td></tr>\n",
       "</tbody>\n",
       "</table>\n"
      ],
      "text/latex": [
       "A data.frame: 401 × 2\n",
       "\\begin{tabular}{ll}\n",
       " Model & Transcription factor\\\\\n",
       " <chr> & <chr>\\\\\n",
       "\\hline\n",
       "\t AHR\\_HUMAN.H11MO.0.B   & AHR    \\\\\n",
       "\t AIRE\\_HUMAN.H11MO.0.C  & AIRE   \\\\\n",
       "\t ALX1\\_HUMAN.H11MO.0.B  & ALX1   \\\\\n",
       "\t ANDR\\_HUMAN.H11MO.0.A  & AR     \\\\\n",
       "\t AP2A\\_HUMAN.H11MO.0.A  & TFAP2A \\\\\n",
       "\t AP2B\\_HUMAN.H11MO.0.B  & TFAP2B \\\\\n",
       "\t AP2C\\_HUMAN.H11MO.0.A  & TFAP2C \\\\\n",
       "\t ARI5B\\_HUMAN.H11MO.0.C & ARID5B \\\\\n",
       "\t ARNT\\_HUMAN.H11MO.0.B  & ARNT   \\\\\n",
       "\t ASCL1\\_HUMAN.H11MO.0.A & ASCL1  \\\\\n",
       "\t ATF1\\_HUMAN.H11MO.0.B  & ATF1   \\\\\n",
       "\t ATF2\\_HUMAN.H11MO.0.B  & ATF2   \\\\\n",
       "\t ATF3\\_HUMAN.H11MO.0.A  & ATF3   \\\\\n",
       "\t ATF4\\_HUMAN.H11MO.0.A  & ATF4   \\\\\n",
       "\t ATF6A\\_HUMAN.H11MO.0.B & ATF6   \\\\\n",
       "\t ATOH1\\_HUMAN.H11MO.0.B & ATOH1  \\\\\n",
       "\t BACH1\\_HUMAN.H11MO.0.A & BACH1  \\\\\n",
       "\t BACH2\\_HUMAN.H11MO.0.A & BACH2  \\\\\n",
       "\t BATF3\\_HUMAN.H11MO.0.B & BATF3  \\\\\n",
       "\t BATF\\_HUMAN.H11MO.0.A  & BATF   \\\\\n",
       "\t BC11A\\_HUMAN.H11MO.0.A & BCL11A \\\\\n",
       "\t BCL6\\_HUMAN.H11MO.0.A  & BCL6   \\\\\n",
       "\t BHA15\\_HUMAN.H11MO.0.B & BHLHA15\\\\\n",
       "\t BHE40\\_HUMAN.H11MO.0.A & BHLHE40\\\\\n",
       "\t BMAL1\\_HUMAN.H11MO.0.A & ARNTL  \\\\\n",
       "\t BRAC\\_HUMAN.H11MO.0.A  & T      \\\\\n",
       "\t CDX1\\_HUMAN.H11MO.0.C  & CDX1   \\\\\n",
       "\t CDX2\\_HUMAN.H11MO.0.A  & CDX2   \\\\\n",
       "\t CEBPA\\_HUMAN.H11MO.0.A & CEBPA  \\\\\n",
       "\t CEBPB\\_HUMAN.H11MO.0.A & CEBPB  \\\\\n",
       "\t ⋮ & ⋮\\\\\n",
       "\t ZN350\\_HUMAN.H11MO.0.C & ZNF350 \\\\\n",
       "\t ZN382\\_HUMAN.H11MO.0.C & ZNF382 \\\\\n",
       "\t ZN384\\_HUMAN.H11MO.0.C & ZNF384 \\\\\n",
       "\t ZN394\\_HUMAN.H11MO.0.C & ZNF394 \\\\\n",
       "\t ZN418\\_HUMAN.H11MO.0.C & ZNF418 \\\\\n",
       "\t ZN436\\_HUMAN.H11MO.0.C & ZNF436 \\\\\n",
       "\t ZN449\\_HUMAN.H11MO.0.C & ZNF449 \\\\\n",
       "\t ZN467\\_HUMAN.H11MO.0.C & ZNF467 \\\\\n",
       "\t ZN490\\_HUMAN.H11MO.0.C & ZNF490 \\\\\n",
       "\t ZN502\\_HUMAN.H11MO.0.C & ZNF502 \\\\\n",
       "\t ZN528\\_HUMAN.H11MO.0.C & ZNF528 \\\\\n",
       "\t ZN547\\_HUMAN.H11MO.0.C & ZNF547 \\\\\n",
       "\t ZN549\\_HUMAN.H11MO.0.C & ZNF549 \\\\\n",
       "\t ZN554\\_HUMAN.H11MO.0.C & ZNF554 \\\\\n",
       "\t ZN563\\_HUMAN.H11MO.0.C & ZNF563 \\\\\n",
       "\t ZN582\\_HUMAN.H11MO.0.C & ZNF582 \\\\\n",
       "\t ZN586\\_HUMAN.H11MO.0.C & ZNF586 \\\\\n",
       "\t ZN667\\_HUMAN.H11MO.0.C & ZNF667 \\\\\n",
       "\t ZN680\\_HUMAN.H11MO.0.C & ZNF680 \\\\\n",
       "\t ZN708\\_HUMAN.H11MO.0.C & ZNF708 \\\\\n",
       "\t ZN768\\_HUMAN.H11MO.0.C & ZNF768 \\\\\n",
       "\t ZN770\\_HUMAN.H11MO.0.C & ZNF770 \\\\\n",
       "\t ZN816\\_HUMAN.H11MO.0.C & ZNF816 \\\\\n",
       "\t ZNF18\\_HUMAN.H11MO.0.C & ZNF18  \\\\\n",
       "\t ZNF41\\_HUMAN.H11MO.0.C & ZNF41  \\\\\n",
       "\t ZNF76\\_HUMAN.H11MO.0.C & ZNF76  \\\\\n",
       "\t ZNF85\\_HUMAN.H11MO.0.C & ZNF85  \\\\\n",
       "\t ZNF8\\_HUMAN.H11MO.0.C  & ZNF8   \\\\\n",
       "\t ZSC22\\_HUMAN.H11MO.0.C & ZSCAN22\\\\\n",
       "\t ZSC31\\_HUMAN.H11MO.0.C & ZSCAN31\\\\\n",
       "\\end{tabular}\n"
      ],
      "text/markdown": [
       "\n",
       "A data.frame: 401 × 2\n",
       "\n",
       "| Model &lt;chr&gt; | Transcription factor &lt;chr&gt; |\n",
       "|---|---|\n",
       "| AHR_HUMAN.H11MO.0.B   | AHR     |\n",
       "| AIRE_HUMAN.H11MO.0.C  | AIRE    |\n",
       "| ALX1_HUMAN.H11MO.0.B  | ALX1    |\n",
       "| ANDR_HUMAN.H11MO.0.A  | AR      |\n",
       "| AP2A_HUMAN.H11MO.0.A  | TFAP2A  |\n",
       "| AP2B_HUMAN.H11MO.0.B  | TFAP2B  |\n",
       "| AP2C_HUMAN.H11MO.0.A  | TFAP2C  |\n",
       "| ARI5B_HUMAN.H11MO.0.C | ARID5B  |\n",
       "| ARNT_HUMAN.H11MO.0.B  | ARNT    |\n",
       "| ASCL1_HUMAN.H11MO.0.A | ASCL1   |\n",
       "| ATF1_HUMAN.H11MO.0.B  | ATF1    |\n",
       "| ATF2_HUMAN.H11MO.0.B  | ATF2    |\n",
       "| ATF3_HUMAN.H11MO.0.A  | ATF3    |\n",
       "| ATF4_HUMAN.H11MO.0.A  | ATF4    |\n",
       "| ATF6A_HUMAN.H11MO.0.B | ATF6    |\n",
       "| ATOH1_HUMAN.H11MO.0.B | ATOH1   |\n",
       "| BACH1_HUMAN.H11MO.0.A | BACH1   |\n",
       "| BACH2_HUMAN.H11MO.0.A | BACH2   |\n",
       "| BATF3_HUMAN.H11MO.0.B | BATF3   |\n",
       "| BATF_HUMAN.H11MO.0.A  | BATF    |\n",
       "| BC11A_HUMAN.H11MO.0.A | BCL11A  |\n",
       "| BCL6_HUMAN.H11MO.0.A  | BCL6    |\n",
       "| BHA15_HUMAN.H11MO.0.B | BHLHA15 |\n",
       "| BHE40_HUMAN.H11MO.0.A | BHLHE40 |\n",
       "| BMAL1_HUMAN.H11MO.0.A | ARNTL   |\n",
       "| BRAC_HUMAN.H11MO.0.A  | T       |\n",
       "| CDX1_HUMAN.H11MO.0.C  | CDX1    |\n",
       "| CDX2_HUMAN.H11MO.0.A  | CDX2    |\n",
       "| CEBPA_HUMAN.H11MO.0.A | CEBPA   |\n",
       "| CEBPB_HUMAN.H11MO.0.A | CEBPB   |\n",
       "| ⋮ | ⋮ |\n",
       "| ZN350_HUMAN.H11MO.0.C | ZNF350  |\n",
       "| ZN382_HUMAN.H11MO.0.C | ZNF382  |\n",
       "| ZN384_HUMAN.H11MO.0.C | ZNF384  |\n",
       "| ZN394_HUMAN.H11MO.0.C | ZNF394  |\n",
       "| ZN418_HUMAN.H11MO.0.C | ZNF418  |\n",
       "| ZN436_HUMAN.H11MO.0.C | ZNF436  |\n",
       "| ZN449_HUMAN.H11MO.0.C | ZNF449  |\n",
       "| ZN467_HUMAN.H11MO.0.C | ZNF467  |\n",
       "| ZN490_HUMAN.H11MO.0.C | ZNF490  |\n",
       "| ZN502_HUMAN.H11MO.0.C | ZNF502  |\n",
       "| ZN528_HUMAN.H11MO.0.C | ZNF528  |\n",
       "| ZN547_HUMAN.H11MO.0.C | ZNF547  |\n",
       "| ZN549_HUMAN.H11MO.0.C | ZNF549  |\n",
       "| ZN554_HUMAN.H11MO.0.C | ZNF554  |\n",
       "| ZN563_HUMAN.H11MO.0.C | ZNF563  |\n",
       "| ZN582_HUMAN.H11MO.0.C | ZNF582  |\n",
       "| ZN586_HUMAN.H11MO.0.C | ZNF586  |\n",
       "| ZN667_HUMAN.H11MO.0.C | ZNF667  |\n",
       "| ZN680_HUMAN.H11MO.0.C | ZNF680  |\n",
       "| ZN708_HUMAN.H11MO.0.C | ZNF708  |\n",
       "| ZN768_HUMAN.H11MO.0.C | ZNF768  |\n",
       "| ZN770_HUMAN.H11MO.0.C | ZNF770  |\n",
       "| ZN816_HUMAN.H11MO.0.C | ZNF816  |\n",
       "| ZNF18_HUMAN.H11MO.0.C | ZNF18   |\n",
       "| ZNF41_HUMAN.H11MO.0.C | ZNF41   |\n",
       "| ZNF76_HUMAN.H11MO.0.C | ZNF76   |\n",
       "| ZNF85_HUMAN.H11MO.0.C | ZNF85   |\n",
       "| ZNF8_HUMAN.H11MO.0.C  | ZNF8    |\n",
       "| ZSC22_HUMAN.H11MO.0.C | ZSCAN22 |\n",
       "| ZSC31_HUMAN.H11MO.0.C | ZSCAN31 |\n",
       "\n"
      ],
      "text/plain": [
       "    Model                 Transcription factor\n",
       "1   AHR_HUMAN.H11MO.0.B   AHR                 \n",
       "2   AIRE_HUMAN.H11MO.0.C  AIRE                \n",
       "3   ALX1_HUMAN.H11MO.0.B  ALX1                \n",
       "4   ANDR_HUMAN.H11MO.0.A  AR                  \n",
       "5   AP2A_HUMAN.H11MO.0.A  TFAP2A              \n",
       "6   AP2B_HUMAN.H11MO.0.B  TFAP2B              \n",
       "7   AP2C_HUMAN.H11MO.0.A  TFAP2C              \n",
       "8   ARI5B_HUMAN.H11MO.0.C ARID5B              \n",
       "9   ARNT_HUMAN.H11MO.0.B  ARNT                \n",
       "10  ASCL1_HUMAN.H11MO.0.A ASCL1               \n",
       "11  ATF1_HUMAN.H11MO.0.B  ATF1                \n",
       "12  ATF2_HUMAN.H11MO.0.B  ATF2                \n",
       "13  ATF3_HUMAN.H11MO.0.A  ATF3                \n",
       "14  ATF4_HUMAN.H11MO.0.A  ATF4                \n",
       "15  ATF6A_HUMAN.H11MO.0.B ATF6                \n",
       "16  ATOH1_HUMAN.H11MO.0.B ATOH1               \n",
       "17  BACH1_HUMAN.H11MO.0.A BACH1               \n",
       "18  BACH2_HUMAN.H11MO.0.A BACH2               \n",
       "19  BATF3_HUMAN.H11MO.0.B BATF3               \n",
       "20  BATF_HUMAN.H11MO.0.A  BATF                \n",
       "21  BC11A_HUMAN.H11MO.0.A BCL11A              \n",
       "22  BCL6_HUMAN.H11MO.0.A  BCL6                \n",
       "23  BHA15_HUMAN.H11MO.0.B BHLHA15             \n",
       "24  BHE40_HUMAN.H11MO.0.A BHLHE40             \n",
       "25  BMAL1_HUMAN.H11MO.0.A ARNTL               \n",
       "26  BRAC_HUMAN.H11MO.0.A  T                   \n",
       "27  CDX1_HUMAN.H11MO.0.C  CDX1                \n",
       "28  CDX2_HUMAN.H11MO.0.A  CDX2                \n",
       "29  CEBPA_HUMAN.H11MO.0.A CEBPA               \n",
       "30  CEBPB_HUMAN.H11MO.0.A CEBPB               \n",
       "⋮   ⋮                     ⋮                   \n",
       "372 ZN350_HUMAN.H11MO.0.C ZNF350              \n",
       "373 ZN382_HUMAN.H11MO.0.C ZNF382              \n",
       "374 ZN384_HUMAN.H11MO.0.C ZNF384              \n",
       "375 ZN394_HUMAN.H11MO.0.C ZNF394              \n",
       "376 ZN418_HUMAN.H11MO.0.C ZNF418              \n",
       "377 ZN436_HUMAN.H11MO.0.C ZNF436              \n",
       "378 ZN449_HUMAN.H11MO.0.C ZNF449              \n",
       "379 ZN467_HUMAN.H11MO.0.C ZNF467              \n",
       "380 ZN490_HUMAN.H11MO.0.C ZNF490              \n",
       "381 ZN502_HUMAN.H11MO.0.C ZNF502              \n",
       "382 ZN528_HUMAN.H11MO.0.C ZNF528              \n",
       "383 ZN547_HUMAN.H11MO.0.C ZNF547              \n",
       "384 ZN549_HUMAN.H11MO.0.C ZNF549              \n",
       "385 ZN554_HUMAN.H11MO.0.C ZNF554              \n",
       "386 ZN563_HUMAN.H11MO.0.C ZNF563              \n",
       "387 ZN582_HUMAN.H11MO.0.C ZNF582              \n",
       "388 ZN586_HUMAN.H11MO.0.C ZNF586              \n",
       "389 ZN667_HUMAN.H11MO.0.C ZNF667              \n",
       "390 ZN680_HUMAN.H11MO.0.C ZNF680              \n",
       "391 ZN708_HUMAN.H11MO.0.C ZNF708              \n",
       "392 ZN768_HUMAN.H11MO.0.C ZNF768              \n",
       "393 ZN770_HUMAN.H11MO.0.C ZNF770              \n",
       "394 ZN816_HUMAN.H11MO.0.C ZNF816              \n",
       "395 ZNF18_HUMAN.H11MO.0.C ZNF18               \n",
       "396 ZNF41_HUMAN.H11MO.0.C ZNF41               \n",
       "397 ZNF76_HUMAN.H11MO.0.C ZNF76               \n",
       "398 ZNF85_HUMAN.H11MO.0.C ZNF85               \n",
       "399 ZNF8_HUMAN.H11MO.0.C  ZNF8                \n",
       "400 ZSC22_HUMAN.H11MO.0.C ZSCAN22             \n",
       "401 ZSC31_HUMAN.H11MO.0.C ZSCAN31             "
      ]
     },
     "metadata": {},
     "output_type": "display_data"
    }
   ],
   "source": [
    "hocomoco"
   ]
  },
  {
   "cell_type": "code",
   "execution_count": null,
   "metadata": {},
   "outputs": [],
   "source": []
  }
 ],
 "metadata": {
  "kernelspec": {
   "display_name": "R 4.0",
   "language": "R",
   "name": "ir40"
  },
  "language_info": {
   "codemirror_mode": "r",
   "file_extension": ".r",
   "mimetype": "text/x-r-source",
   "name": "R",
   "pygments_lexer": "r",
   "version": "4.0.1"
  }
 },
 "nbformat": 4,
 "nbformat_minor": 2
}
