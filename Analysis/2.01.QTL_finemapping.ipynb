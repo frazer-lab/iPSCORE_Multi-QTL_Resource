{
 "cells": [
  {
   "cell_type": "code",
   "execution_count": 1,
   "metadata": {},
   "outputs": [
    {
     "data": {
      "text/html": [
       "<style>\n",
       ".list-inline {list-style: none; margin:0; padding: 0}\n",
       ".list-inline>li {display: inline-block}\n",
       ".list-inline>li:not(:last-child)::after {content: \"\\00b7\"; padding: 0 .5ex}\n",
       "</style>\n",
       "<ol class=list-inline><li>'figures'</li><li>'input'</li><li>'notebooks'</li><li>'source_data'</li><li>'supplemental_tables'</li></ol>\n"
      ],
      "text/latex": [
       "\\begin{enumerate*}\n",
       "\\item 'figures'\n",
       "\\item 'input'\n",
       "\\item 'notebooks'\n",
       "\\item 'source\\_data'\n",
       "\\item 'supplemental\\_tables'\n",
       "\\end{enumerate*}\n"
      ],
      "text/markdown": [
       "1. 'figures'\n",
       "2. 'input'\n",
       "3. 'notebooks'\n",
       "4. 'source_data'\n",
       "5. 'supplemental_tables'\n",
       "\n",
       "\n"
      ],
      "text/plain": [
       "[1] \"figures\"             \"input\"               \"notebooks\"          \n",
       "[4] \"source_data\"         \"supplemental_tables\""
      ]
     },
     "metadata": {},
     "output_type": "display_data"
    }
   ],
   "source": [
    "source(\"~/software/notebook_assist/functions.R\")\n",
    "source(\"~/software/notebook_assist/packages.R\")\n",
    "\n",
    "setwd(\"../\")\n",
    "list.files()"
   ]
  },
  {
   "cell_type": "code",
   "execution_count": 2,
   "metadata": {},
   "outputs": [],
   "source": [
    "setwd(\"/projects/CARDIPS/analysis/epigenome_resource/analyses/tim/qtl_finemapping/\")"
   ]
  },
  {
   "cell_type": "code",
   "execution_count": 4,
   "metadata": {},
   "outputs": [],
   "source": [
    "caqtl.fs = list.files(\"CVPC/caqtls\",pattern=\"all_vars\", full.names = T)"
   ]
  },
  {
   "cell_type": "code",
   "execution_count": 5,
   "metadata": {},
   "outputs": [],
   "source": [
    "tmp = fread(caqtl.fs[1],sep=\"\\t\",data.table=F)"
   ]
  },
  {
   "cell_type": "code",
   "execution_count": 104,
   "metadata": {},
   "outputs": [
    {
     "name": "stderr",
     "output_type": "stream",
     "text": [
      "Warning message in sdY.est(d$varbeta, d$MAF, d$N):\n",
      "“estimating sdY from maf and varbeta, please directly supply sdY if known”\n"
     ]
    }
   ],
   "source": [
    "#!/home/tarthur/software/R-4.0.1/bin/R\n",
    "\n",
    "source(\"~/software/notebook_assist/functions.R\")\n",
    "source(\"~/software/notebook_assist/packages.R\")\n",
    "suppressPackageStartupMessages(library(coloc))\n",
    "setwd(\"/projects/CARDIPS/analysis/epigenome_resource/\")\n",
    "\n",
    "args   = commandArgs(trailingOnly=TRUE)\n",
    "task = as.numeric(args[1])\n",
    "\n",
    "finemap.fs = fread(\"analyses/tim/qtl_finemapping/scripts/mapping_file.txt\",sep=\"\\t\",data.table=F)[task,]\n",
    "\n",
    "tissue_n_df = fread(\"analyses/tim/qtl_finemapping/scripts/tissue_n.txt\",sep=\"\\t\",data.table=F)\n",
    "\n",
    "qtl_path  = finemap.fs$V1\n",
    "condition = finemap.fs$V2\n",
    "\n",
    "data_type = str_extract(qtl_path,  \"[a-z]+qtls\"  )\n",
    "\n",
    "tissue    = gsub(\"/.*\",\"\",\n",
    "                 gsub(\"/projects/CARDIPS/analysis/epigenome_resource//\",\"\",\n",
    "                 gsub(paste(data_type),\"\",qtl_path)))\n",
    "\n",
    "n = tissue_n_df$n[ tissue_n_df$tissue == tissue & tissue_n_df$data_type == data_type]\n",
    "\n",
    "qtl = fread(qtl_path, sep=\"\\t\",data.table=F)\n",
    "qtl = qtl[ qtl$type == condition, ]\n",
    "qtl = qtl[ qtl$pos %in% names(table(qtl$pos))[ table(qtl$pos) == 1],]\n",
    "\n",
    "finemap_df = list(beta = qtl$beta,\n",
    "         varbeta =  qtl$se**2,\n",
    "         snp = qtl$id,\n",
    "         position = qtl$pos,\n",
    "         type = \"quant\",\n",
    "         N = n, \n",
    "         MAF = qtl$af)\n",
    "\n",
    "finemapped = finemap.abf(dataset=finemap_df,  p1 = 1/(nrow(qtl)+1))\n",
    "\n",
    "finemapped$`Element ID` = unique(qtl$element_id)\n",
    "finemapped$Condition    = unique(qtl$type)\n",
    "\n",
    "finemapped = finemapped[ complete.cases(finemapped), ]\n",
    "finemapped_out = finemapped %>% arrange(-SNP.PP) %>% mutate(`Cumulative PP` = cumsum(SNP.PP)) %>% \n",
    "                                mutate(`Credible Set` = ifelse(`Cumulative PP` <= 0.99, \"TRUE\",\"FALSE\")) %>% \n",
    "                                select( snp,position,`Element ID`, Condition, prior, SNP.PP, V.,z.,r.,lABF.,`Credible Set`) %>%\n",
    "                                rename( Position = position, `SNP ID` = snp, Prior = prior)\n",
    "\n",
    "\n",
    "finemap_dir=paste0(\"analyses/tim/qtl_finemapping/\",tissue,\"/\",data_type,\"/all_vars/\")\n",
    "if (!file.exists(finemap_dir)) {dir.create(finemap_dir, recursive = TRUE)}\n",
    "fwrite(finemapped_out,paste0(finemap_dir,unique(qtl$element_id),\n",
    "                             \"_\",unique(qtl$type),\".txt\"),\n",
    "      sep=\"\\t\",row.names=F,quote=F)\n",
    "\n",
    "\n",
    "### Write Bed files for top SNPs \n",
    "finemapped_bed = finemapped_out[,c(\"SNP ID\",\"Position\",\"Element ID\",\"Condition\",\"SNP.PP\")]\n",
    "finemapped_bed$Chromosome   = paste0(\"chr\",(gsub(\"VAR_\",\"\",str_extract(finemapped_bed$`SNP ID`, \"VAR_[0-9]+\"))))\n",
    "\n",
    "finemapped_bed$start = finemapped_bed$Position - 1 \n",
    "finemapped_bed$qtl_id = paste(finemapped_bed$`Element ID`, finemapped_bed$Condition,sep=\"_\")\n",
    "finemapped_bed2 = finemapped_bed[ finemapped_bed$SNP.PP >= 0.01,\n",
    "                                 c(\"Chromosome\",\"start\",\"Position\",\"SNP.PP\",\"qtl_id\")]\n",
    "\n",
    "bed_dir=paste0(\"analyses/tim/qtl_finemapping/\",tissue,\"/\",data_type,\"/top_beds/\")\n",
    "if (!file.exists(bed_dir)) {dir.create(bed_dir, recursive = TRUE)}\n",
    "\n",
    "fwrite(finemapped_bed2[ order(finemapped_bed2$Chromosome,finemapped_bed2$start),],\n",
    "       paste0(bed_dir,unique(qtl$element_id),\n",
    "                             \"_\",unique(qtl$type),\".bed\"),\n",
    "      sep=\"\\t\",row.names=F,quote=F, col.names=F)"
   ]
  }
 ],
 "metadata": {
  "kernelspec": {
   "display_name": "R 4.0",
   "language": "R",
   "name": "ir40"
  },
  "language_info": {
   "codemirror_mode": "r",
   "file_extension": ".r",
   "mimetype": "text/x-r-source",
   "name": "R",
   "pygments_lexer": "r",
   "version": "4.0.1"
  }
 },
 "nbformat": 4,
 "nbformat_minor": 2
}
