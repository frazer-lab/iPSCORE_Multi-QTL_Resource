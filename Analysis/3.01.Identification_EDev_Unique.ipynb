{
 "cells": [
  {
   "cell_type": "code",
   "execution_count": 1,
   "metadata": {},
   "outputs": [],
   "source": [
    "setwd(\"/projects/CARDIPS/analysis/epigenome_resource\")\n",
    "suppressMessages(suppressWarnings(source(\"analyses/jennifer/notebooks/functions.R\")))\n",
    "\n",
    "set.seed(5366)"
   ]
  },
  {
   "cell_type": "markdown",
   "metadata": {},
   "source": [
    "# Identification of EDev-unique QTLs"
   ]
  },
  {
   "cell_type": "markdown",
   "metadata": {},
   "source": [
    "    fetal-unique = EDev-unique"
   ]
  },
  {
   "cell_type": "markdown",
   "metadata": {},
   "source": [
    "## 1. Get the lead fine-mapped variants for each iPSCORE QTL"
   ]
  },
  {
   "cell_type": "code",
   "execution_count": 5,
   "metadata": {},
   "outputs": [
    {
     "name": "stderr",
     "output_type": "stream",
     "text": [
      "CVPC eqtls\n",
      "CVPC caqtls\n",
      "CVPC haqtls\n",
      "iPSC eqtls\n",
      "iPSC caqtls\n",
      "iPSC haqtls\n",
      "PPC eqtls\n",
      "PPC caqtls\n",
      "PPC haqtls\n"
     ]
    }
   ],
   "source": [
    "# Already ran, do not run again!\n",
    "finemapped = as.data.frame(rbindlist(lapply(c(\"CVPC\", \"iPSC\", \"PPC\"), function(tiss)\n",
    "{\n",
    "    as.data.frame(rbindlist(lapply(c(\"eqtls\", \"caqtls\", \"haqtls\"), function(analysis)\n",
    "    {\n",
    "        message(paste(tiss, analysis), appendLF = F)\n",
    "        dir = paste(\"analyses/tim/qtl_finemapping\", tiss, analysis, sep = \"/\")\n",
    "        if (dir.exists(dir))\n",
    "        {\n",
    "            files = list.files(dir, full.names = T)\n",
    "            files = files[which(files %like% \"all_vars.\")]\n",
    "            as.data.frame(rbindlist(lapply(files, function(f)\n",
    "            {\n",
    "                fread(f, data.table = F) %>%\n",
    "                    mutate(element_cond = paste(element, type, sep = \"_\")) %>%\n",
    "                    group_by(element_cond) %>%\n",
    "                    filter(SNP.PP == max(SNP.PP)) %>%\n",
    "                    mutate(tissue = tiss, \n",
    "                           analysis = analysis,\n",
    "                           id = unlist(lapply(snp, function(x) { paste0(unlist(strsplit(x, \"_\"))[2:3], collapse = \"_\")})),\n",
    "                           chr = unlist(lapply(snp, function(x) { unlist(strsplit(x, \"_\"))[2] }))\n",
    "                          )\n",
    "            })))\n",
    "        }\n",
    "    }))) \n",
    "})))\n",
    "\n",
    "fwrite(finemapped, \"analyses/jennifer/summary_files/top_finemapped.txt\", row.names = F, sep = \"\\t\")"
   ]
  },
  {
   "cell_type": "code",
   "execution_count": 6,
   "metadata": {},
   "outputs": [],
   "source": [
    "finemapped = fread(\"analyses/jennifer/summary_files/top_finemapped.txt\", data.table = F)\n",
    "finemapped$element_cond = ifelse(finemapped$element_cond %like% \"ENSG\", \n",
    "                                 paste(tolower(finemapped$tissue), finemapped$element_cond, sep = \"_\"), finemapped$element_cond)\n"
   ]
  },
  {
   "cell_type": "code",
   "execution_count": 7,
   "metadata": {},
   "outputs": [
    {
     "data": {
      "text/plain": [
       "      \n",
       "       caqtls eqtls haqtls\n",
       "  CVPC  31326 17832  29529\n",
       "  iPSC  24917 33806   4944\n",
       "  PPC   31545 21418      0"
      ]
     },
     "metadata": {},
     "output_type": "display_data"
    }
   ],
   "source": [
    "table(finemapped$tissue, finemapped$analysis)"
   ]
  },
  {
   "cell_type": "markdown",
   "metadata": {},
   "source": [
    "## 2.1. Prepare adult caQTLs  (QTLBase2)"
   ]
  },
  {
   "cell_type": "code",
   "execution_count": 10,
   "metadata": {},
   "outputs": [
    {
     "data": {
      "text/plain": [
       "     Min.   1st Qu.    Median      Mean   3rd Qu.      Max. \n",
       "0.000e+00 6.000e-11 2.640e-07 6.579e-06 7.200e-06 5.000e-05 "
      ]
     },
     "metadata": {},
     "output_type": "display_data"
    },
    {
     "data": {
      "text/html": [
       "<table class=\"dataframe\">\n",
       "<caption>A data.frame: 2 × 3</caption>\n",
       "<thead>\n",
       "\t<tr><th></th><th scope=col>id</th><th scope=col>tissue</th><th scope=col>analysis</th></tr>\n",
       "\t<tr><th></th><th scope=col>&lt;chr&gt;</th><th scope=col>&lt;chr&gt;</th><th scope=col>&lt;chr&gt;</th></tr>\n",
       "</thead>\n",
       "<tbody>\n",
       "\t<tr><th scope=row>1</th><td>1_921203</td><td>QTLbase</td><td>caqtl</td></tr>\n",
       "\t<tr><th scope=row>2</th><td>1_976215</td><td>QTLbase</td><td>caqtl</td></tr>\n",
       "</tbody>\n",
       "</table>\n"
      ],
      "text/latex": [
       "A data.frame: 2 × 3\n",
       "\\begin{tabular}{r|lll}\n",
       "  & id & tissue & analysis\\\\\n",
       "  & <chr> & <chr> & <chr>\\\\\n",
       "\\hline\n",
       "\t1 & 1\\_921203 & QTLbase & caqtl\\\\\n",
       "\t2 & 1\\_976215 & QTLbase & caqtl\\\\\n",
       "\\end{tabular}\n"
      ],
      "text/markdown": [
       "\n",
       "A data.frame: 2 × 3\n",
       "\n",
       "| <!--/--> | id &lt;chr&gt; | tissue &lt;chr&gt; | analysis &lt;chr&gt; |\n",
       "|---|---|---|---|\n",
       "| 1 | 1_921203 | QTLbase | caqtl |\n",
       "| 2 | 1_976215 | QTLbase | caqtl |\n",
       "\n"
      ],
      "text/plain": [
       "  id       tissue  analysis\n",
       "1 1_921203 QTLbase caqtl   \n",
       "2 1_976215 QTLbase caqtl   "
      ]
     },
     "metadata": {},
     "output_type": "display_data"
    },
    {
     "name": "stderr",
     "output_type": "stream",
     "text": [
      "# caSNPs: 39863\n",
      "\n"
     ]
    }
   ],
   "source": [
    "# 1. Read metadata\n",
    "qtlbase_meta = fread(\"analyses/jennifer/ipscore_unique_qtls/QTLbase_v2_download_meta_info.txt\", data.table = F) %>% \n",
    "    filter(xQTL == \"caQTL\" & !Tissue %like% \"iPSC\") %>%\n",
    "    filter(xQTL == \"caQTL\" & \n",
    "           !Tissue %like% \"iPSC\" & \n",
    "           Title != \"Cell-type specific effects of genetic variation on chromatin accessibility during human neuronal differentiation\" & \n",
    "           Title != \"Cell-type-specific effects of genetic variation on chromatin accessibility during human neuronal differentiation\") \n",
    "\n",
    "# 2. Read caQTLs\n",
    "qtlbase_caqtls = fread(\"analyses/jennifer/ipscore_unique_qtls/QTLbase_caqtls.txt\", data.table = F)  \n",
    "head = fread(cmd = \"head -1 analyses/jennifer/ipscore_unique_qtls/QTLbase_caqtls.txt\", data.table = F)\n",
    "colnames(qtlbase_caqtls) = colnames(head)\n",
    "\n",
    "# 3. Filter SNPs with p-value <= 1e-05\n",
    "qtlbase_caqtls = qtlbase_caqtls %>% filter(Pvalue <= 5e-05) %>% filter(Sourceid %in% qtlbase_meta$Sourceid)\n",
    "summary(qtlbase_caqtls$Pvalue)\n",
    "\n",
    "qtlbase_caqtls$id = paste(gsub(\"chr\", \"\", qtlbase_caqtls$SNP_chr), qtlbase_caqtls$SNP_pos_hg38, sep = \"_\")\n",
    "qtlbase_caqtls = qtlbase_caqtls %>% select(id) %>% mutate(tissue = \"QTLbase\", analysis = \"caqtl\")\n",
    "\n",
    "head(qtlbase_caqtls,2)\n",
    "\n",
    "message(paste(\"# caSNPs:\", length(unique(qtlbase_caqtls$id))))"
   ]
  },
  {
   "cell_type": "markdown",
   "metadata": {},
   "source": [
    "## 2.2. Prepare adult haQTLs (QTLBase2)"
   ]
  },
  {
   "cell_type": "code",
   "execution_count": 11,
   "metadata": {},
   "outputs": [
    {
     "data": {
      "text/html": [
       "<table class=\"dataframe\">\n",
       "<caption>A data.frame: 2 × 3</caption>\n",
       "<thead>\n",
       "\t<tr><th></th><th scope=col>id</th><th scope=col>tissue</th><th scope=col>analysis</th></tr>\n",
       "\t<tr><th></th><th scope=col>&lt;chr&gt;</th><th scope=col>&lt;chr&gt;</th><th scope=col>&lt;chr&gt;</th></tr>\n",
       "</thead>\n",
       "<tbody>\n",
       "\t<tr><th scope=row>1</th><td>1_1419214</td><td>QTLbase</td><td>haqtl</td></tr>\n",
       "\t<tr><th scope=row>2</th><td>1_1420203</td><td>QTLbase</td><td>haqtl</td></tr>\n",
       "</tbody>\n",
       "</table>\n"
      ],
      "text/latex": [
       "A data.frame: 2 × 3\n",
       "\\begin{tabular}{r|lll}\n",
       "  & id & tissue & analysis\\\\\n",
       "  & <chr> & <chr> & <chr>\\\\\n",
       "\\hline\n",
       "\t1 & 1\\_1419214 & QTLbase & haqtl\\\\\n",
       "\t2 & 1\\_1420203 & QTLbase & haqtl\\\\\n",
       "\\end{tabular}\n"
      ],
      "text/markdown": [
       "\n",
       "A data.frame: 2 × 3\n",
       "\n",
       "| <!--/--> | id &lt;chr&gt; | tissue &lt;chr&gt; | analysis &lt;chr&gt; |\n",
       "|---|---|---|---|\n",
       "| 1 | 1_1419214 | QTLbase | haqtl |\n",
       "| 2 | 1_1420203 | QTLbase | haqtl |\n",
       "\n"
      ],
      "text/plain": [
       "  id        tissue  analysis\n",
       "1 1_1419214 QTLbase haqtl   \n",
       "2 1_1420203 QTLbase haqtl   "
      ]
     },
     "metadata": {},
     "output_type": "display_data"
    },
    {
     "name": "stderr",
     "output_type": "stream",
     "text": [
      "# haSNPs: 244563\n",
      "\n"
     ]
    }
   ],
   "source": [
    "# 1. Metadata\n",
    "qtlbase_meta = fread(\"analyses/jennifer/ipscore_unique_qtls/QTLbase_v2_download_meta_info.txt\", data.table = F) %>% \n",
    "    filter(xQTL == \"hQTL\" & !Describe %like% \"me\" & !Tissue %like% \"iPSC\")\n",
    "\n",
    "# 2. haQTLs\n",
    "qtlbase_hqtls = fread(\"analyses/jennifer/ipscore_unique_qtls/QTLbase_hQTL.txt\", data.table = F)\n",
    "head = fread(cmd = \"head -1 analyses/jennifer/ipscore_unique_qtls/QTLbase_hQTL.txt\", data.table = F)\n",
    "colnames(qtlbase_hqtls) = colnames(head)\n",
    "\n",
    "# 3. Filter p-value <= 1e-05\n",
    "qtlbase_hqtls = qtlbase_hqtls %>% filter(Pvalue <= 1e-05 & Sourceid %in% qtlbase_meta$Sourceid)\n",
    "\n",
    "qtlbase_hqtls$id = paste(gsub(\"chr\", \"\", qtlbase_hqtls$SNP_chr), qtlbase_hqtls$SNP_pos_hg38, sep = \"_\")\n",
    "qtlbase_hqtls = qtlbase_hqtls %>% select(id) %>% mutate(tissue = \"QTLbase\", analysis = \"haqtl\")\n",
    "head(qtlbase_hqtls,2)\n",
    "\n",
    "message(paste(\"# haSNPs:\", length(unique(qtlbase_hqtls$id))))"
   ]
  },
  {
   "cell_type": "markdown",
   "metadata": {},
   "source": [
    "## 2.3. Prepare adult GTEx eQTLs "
   ]
  },
  {
   "cell_type": "code",
   "execution_count": 12,
   "metadata": {},
   "outputs": [
    {
     "name": "stderr",
     "output_type": "stream",
     "text": [
      "# GTEx tissues: 49\n",
      "\n"
     ]
    },
    {
     "data": {
      "text/html": [
       "<table class=\"dataframe\">\n",
       "<caption>A data.frame: 2 × 7</caption>\n",
       "<thead>\n",
       "\t<tr><th></th><th scope=col>chr</th><th scope=col>variant_pos</th><th scope=col>ref</th><th scope=col>alt</th><th scope=col>tissue</th><th scope=col>analysis</th><th scope=col>id</th></tr>\n",
       "\t<tr><th></th><th scope=col>&lt;chr&gt;</th><th scope=col>&lt;int&gt;</th><th scope=col>&lt;chr&gt;</th><th scope=col>&lt;chr&gt;</th><th scope=col>&lt;chr&gt;</th><th scope=col>&lt;chr&gt;</th><th scope=col>&lt;chr&gt;</th></tr>\n",
       "</thead>\n",
       "<tbody>\n",
       "\t<tr><th scope=row>1</th><td>chr1</td><td> 64764</td><td>C</td><td>T</td><td>Adipose_Subcutaneous</td><td>eqtl</td><td>chr1_64764_C_T </td></tr>\n",
       "\t<tr><th scope=row>2</th><td>chr1</td><td>108826</td><td>G</td><td>C</td><td>Adipose_Subcutaneous</td><td>eqtl</td><td>chr1_108826_G_C</td></tr>\n",
       "</tbody>\n",
       "</table>\n"
      ],
      "text/latex": [
       "A data.frame: 2 × 7\n",
       "\\begin{tabular}{r|lllllll}\n",
       "  & chr & variant\\_pos & ref & alt & tissue & analysis & id\\\\\n",
       "  & <chr> & <int> & <chr> & <chr> & <chr> & <chr> & <chr>\\\\\n",
       "\\hline\n",
       "\t1 & chr1 &  64764 & C & T & Adipose\\_Subcutaneous & eqtl & chr1\\_64764\\_C\\_T \\\\\n",
       "\t2 & chr1 & 108826 & G & C & Adipose\\_Subcutaneous & eqtl & chr1\\_108826\\_G\\_C\\\\\n",
       "\\end{tabular}\n"
      ],
      "text/markdown": [
       "\n",
       "A data.frame: 2 × 7\n",
       "\n",
       "| <!--/--> | chr &lt;chr&gt; | variant_pos &lt;int&gt; | ref &lt;chr&gt; | alt &lt;chr&gt; | tissue &lt;chr&gt; | analysis &lt;chr&gt; | id &lt;chr&gt; |\n",
       "|---|---|---|---|---|---|---|---|\n",
       "| 1 | chr1 |  64764 | C | T | Adipose_Subcutaneous | eqtl | chr1_64764_C_T  |\n",
       "| 2 | chr1 | 108826 | G | C | Adipose_Subcutaneous | eqtl | chr1_108826_G_C |\n",
       "\n"
      ],
      "text/plain": [
       "  chr  variant_pos ref alt tissue               analysis id             \n",
       "1 chr1  64764      C   T   Adipose_Subcutaneous eqtl     chr1_64764_C_T \n",
       "2 chr1 108826      G   C   Adipose_Subcutaneous eqtl     chr1_108826_G_C"
      ]
     },
     "metadata": {},
     "output_type": "display_data"
    },
    {
     "name": "stderr",
     "output_type": "stream",
     "text": [
      "# GTEx variants: 276116\n",
      "\n"
     ]
    },
    {
     "data": {
      "text/html": [
       "<table class=\"dataframe\">\n",
       "<caption>A data.frame: 2 × 3</caption>\n",
       "<thead>\n",
       "\t<tr><th></th><th scope=col>id</th><th scope=col>tissue</th><th scope=col>analysis</th></tr>\n",
       "\t<tr><th></th><th scope=col>&lt;chr&gt;</th><th scope=col>&lt;chr&gt;</th><th scope=col>&lt;chr&gt;</th></tr>\n",
       "</thead>\n",
       "<tbody>\n",
       "\t<tr><th scope=row>1</th><td>1_64764 </td><td>Adipose_Subcutaneous</td><td>eqtl</td></tr>\n",
       "\t<tr><th scope=row>2</th><td>1_108826</td><td>Adipose_Subcutaneous</td><td>eqtl</td></tr>\n",
       "</tbody>\n",
       "</table>\n"
      ],
      "text/latex": [
       "A data.frame: 2 × 3\n",
       "\\begin{tabular}{r|lll}\n",
       "  & id & tissue & analysis\\\\\n",
       "  & <chr> & <chr> & <chr>\\\\\n",
       "\\hline\n",
       "\t1 & 1\\_64764  & Adipose\\_Subcutaneous & eqtl\\\\\n",
       "\t2 & 1\\_108826 & Adipose\\_Subcutaneous & eqtl\\\\\n",
       "\\end{tabular}\n"
      ],
      "text/markdown": [
       "\n",
       "A data.frame: 2 × 3\n",
       "\n",
       "| <!--/--> | id &lt;chr&gt; | tissue &lt;chr&gt; | analysis &lt;chr&gt; |\n",
       "|---|---|---|---|\n",
       "| 1 | 1_64764  | Adipose_Subcutaneous | eqtl |\n",
       "| 2 | 1_108826 | Adipose_Subcutaneous | eqtl |\n",
       "\n"
      ],
      "text/plain": [
       "  id       tissue               analysis\n",
       "1 1_64764  Adipose_Subcutaneous eqtl    \n",
       "2 1_108826 Adipose_Subcutaneous eqtl    "
      ]
     },
     "metadata": {},
     "output_type": "display_data"
    }
   ],
   "source": [
    "files = list.files(\"/reference/public/GTEX_v8/GTEx_Analysis_v8_eQTL\", full.names = T)\n",
    "files = files[which(files %like% \"egenes.txt.gz\")]\n",
    "\n",
    "message(paste(\"# GTEx tissues:\", length(unique(files))))\n",
    "\n",
    "gtex_eqtls = as.data.frame(rbindlist(lapply(files, function(x) \n",
    "{\n",
    "    fread(x, data.table = F) %>% \n",
    "        filter(qval <= 0.05) %>% \n",
    "        mutate(tissue = unlist(strsplit(unlist(strsplit(x, \"/\"))[6], \"[.]\"))[1], analysis = \"eqtl\")\n",
    "    \n",
    "}))) %>% select(chr, variant_pos, ref, alt, tissue, analysis) %>% mutate(id = paste(chr, variant_pos, ref, alt, sep = \"_\"))\n",
    "\n",
    "head(gtex_eqtls,2)\n",
    "\n",
    "message(paste(\"# GTEx variants:\", length(unique(gtex_eqtls$id))))\n",
    "\n",
    "gtex_eqtls = gtex_eqtls %>% \n",
    "    dplyr::rename(SNP_chr = chr, SNP_pos_hg38 = variant_pos) %>% \n",
    "    mutate(id = paste(SNP_chr, SNP_pos_hg38, sep = \"_\")) %>%\n",
    "    mutate(id = gsub(\"chr\", \"\", id))\n",
    "\n",
    "gtex_eqtls = gtex_eqtls %>% select(id, tissue, analysis) \n",
    "\n",
    "head(gtex_eqtls,2)\n",
    "\n"
   ]
  },
  {
   "cell_type": "markdown",
   "metadata": {},
   "source": [
    "## 2.4. Prepare Vinuela adult islet eQTLs"
   ]
  },
  {
   "cell_type": "code",
   "execution_count": 7,
   "metadata": {},
   "outputs": [
    {
     "name": "stdout",
     "output_type": "stream",
     "text": [
      "'data.frame':\t4638 obs. of  22 variables:\n",
      " $ GeneName             : chr  \"ACTR8\" \"ERC2\" \"CCDC66\" \"ARHGEF3\" ...\n",
      " $ Strand               : chr  \"-\" \"-\" \"+\" \"-\" ...\n",
      " $ GencodeLevel         : int  1 2 2 1 2 1 2 1 2 2 ...\n",
      " $ GeneType             : chr  \"protein_coding\" \"protein_coding\" \"protein_coding\" \"protein_coding\" ...\n",
      " $ GeneID               : chr  \"ENSG00000113812.9\" \"ENSG00000187672.8\" \"ENSG00000180376.12\" \"ENSG00000163947.7\" ...\n",
      " $ ChrPheno             : int  3 3 3 3 3 3 3 3 3 3 ...\n",
      " $ StartPheno           : int  53916229 56502391 56591189 57113357 58223233 58318607 58419584 58613337 62936105 66551687 ...\n",
      " $ EndPheno             : int  53916229 56502391 56591189 57113357 58223233 58318607 58419584 58613337 62936105 66551687 ...\n",
      " $ NumSNPs              : int  5186 5997 5981 5666 4746 4823 5005 5134 6319 6635 ...\n",
      " $ DistanceWithBest     : int  6498 -232239 -134916 319635 -56828 41071 26010 45744 -6302 -204480 ...\n",
      " $ SNPid                : chr  \"rs893367\" \"rs9841915\" \"rs11130540\" \"rs9851432\" ...\n",
      " $ A1                   : chr  \"C\" \"C\" \"A\" \"A\" ...\n",
      " $ A2                   : chr  \"A\" \"T\" \"C\" \"G\" ...\n",
      " $ MAF                  : num  0.441 0.276 0.447 0.284 0.295 ...\n",
      " $ chrSNP               : int  3 3 3 3 3 3 3 3 3 3 ...\n",
      " $ StartSNP             : int  53909731 56734630 56726105 56793722 58280061 58277536 58393574 58567593 62942407 66756167 ...\n",
      " $ EndSNP               : int  53909731 56734630 56726105 56793722 58280061 58277536 58393574 58567593 62942407 66756167 ...\n",
      " $ Nominal_Pval         : num  4.60e-44 9.17e-07 8.62e-11 8.45e-07 6.80e-12 ...\n",
      " $ Slope                : num  -0.333 0.212 0.172 -0.15 -0.229 ...\n",
      " $ EmpiricalAdjustedPval: num  0.000999 0.002997 0.000999 0.000999 0.000999 ...\n",
      " $ BetaAdjustedPval     : num  7.05e-37 1.94e-03 3.52e-07 1.24e-03 8.72e-09 ...\n",
      " $ DiscoveryOrder       : int  1 1 1 1 1 1 1 1 1 1 ...\n"
     ]
    }
   ],
   "source": [
    "str(islet_eqtls)"
   ]
  },
  {
   "cell_type": "code",
   "execution_count": 8,
   "metadata": {},
   "outputs": [
    {
     "data": {
      "text/plain": [
       "\n",
       "   1    2    3    4 \n",
       "4311  318    8    1 "
      ]
     },
     "metadata": {},
     "output_type": "display_data"
    },
    {
     "data": {
      "text/html": [
       "4638"
      ],
      "text/latex": [
       "4638"
      ],
      "text/markdown": [
       "4638"
      ],
      "text/plain": [
       "[1] 4638"
      ]
     },
     "metadata": {},
     "output_type": "display_data"
    },
    {
     "data": {
      "text/html": [
       "4275"
      ],
      "text/latex": [
       "4275"
      ],
      "text/markdown": [
       "4275"
      ],
      "text/plain": [
       "[1] 4275"
      ]
     },
     "metadata": {},
     "output_type": "display_data"
    }
   ],
   "source": [
    "islet_eqtls = fread(\"/projects/PPC/analysis/ppc_eqtls/input/eqtl/PacreaticIslets_independent_gene_eQTLs.txt\", data.table = F)\n",
    "table(islet_eqtls$DiscoveryOrder)\n",
    "\n",
    "nrow(islet_eqtls)\n",
    "\n",
    "length(unique(islet_eqtls$SNPid))"
   ]
  },
  {
   "cell_type": "code",
   "execution_count": 13,
   "metadata": {},
   "outputs": [
    {
     "data": {
      "text/html": [
       "<table class=\"dataframe\">\n",
       "<caption>A data.frame: 2 × 3</caption>\n",
       "<thead>\n",
       "\t<tr><th></th><th scope=col>id</th><th scope=col>tissue</th><th scope=col>analysis</th></tr>\n",
       "\t<tr><th></th><th scope=col>&lt;chr&gt;</th><th scope=col>&lt;chr&gt;</th><th scope=col>&lt;chr&gt;</th></tr>\n",
       "</thead>\n",
       "<tbody>\n",
       "\t<tr><th scope=row>1</th><td>3_53875704</td><td>Vinuela_Adult_Islets</td><td>eqtl</td></tr>\n",
       "\t<tr><th scope=row>2</th><td>3_56700602</td><td>Vinuela_Adult_Islets</td><td>eqtl</td></tr>\n",
       "</tbody>\n",
       "</table>\n"
      ],
      "text/latex": [
       "A data.frame: 2 × 3\n",
       "\\begin{tabular}{r|lll}\n",
       "  & id & tissue & analysis\\\\\n",
       "  & <chr> & <chr> & <chr>\\\\\n",
       "\\hline\n",
       "\t1 & 3\\_53875704 & Vinuela\\_Adult\\_Islets & eqtl\\\\\n",
       "\t2 & 3\\_56700602 & Vinuela\\_Adult\\_Islets & eqtl\\\\\n",
       "\\end{tabular}\n"
      ],
      "text/markdown": [
       "\n",
       "A data.frame: 2 × 3\n",
       "\n",
       "| <!--/--> | id &lt;chr&gt; | tissue &lt;chr&gt; | analysis &lt;chr&gt; |\n",
       "|---|---|---|---|\n",
       "| 1 | 3_53875704 | Vinuela_Adult_Islets | eqtl |\n",
       "| 2 | 3_56700602 | Vinuela_Adult_Islets | eqtl |\n",
       "\n"
      ],
      "text/plain": [
       "  id         tissue               analysis\n",
       "1 3_53875704 Vinuela_Adult_Islets eqtl    \n",
       "2 3_56700602 Vinuela_Adult_Islets eqtl    "
      ]
     },
     "metadata": {},
     "output_type": "display_data"
    },
    {
     "name": "stderr",
     "output_type": "stream",
     "text": [
      "# SNPs: 4172\n",
      "\n"
     ]
    }
   ],
   "source": [
    "islet_eqtls = fread(\"/projects/PPC/analysis/ppc_eqtls/input/eqtl/PacreaticIslets_independent_gene_eQTLs.txt\", data.table = F)\n",
    "\n",
    "# Lift over\n",
    "bed = islet_eqtls %>% select(chrSNP, StartSNP, EndSNP) %>% mutate(chrSNP = paste0(\"chr\", chrSNP)) %>% dplyr::rename(chrom = chrSNP, start = StartSNP, end = EndSNP)\n",
    "bed = bed %>% filter(chrom != \"chr23\")\n",
    "\n",
    "suppressMessages(library(rtracklayer  ))\n",
    "suppressMessages(library(GenomicRanges))\n",
    "\n",
    "path = \"/reference/public/ucsc/hg19ToHg38.over.chain\"\n",
    "ch   = import.chain(path)\n",
    "\n",
    "gr38 = makeGRangesFromDataFrame(bed, T)\n",
    "gr19 = data.frame(liftOver(gr38, ch))\n",
    "\n",
    "islet_eqtls = gr19 %>% \n",
    "    select(seqnames, start) %>% \n",
    "    mutate(chr = gsub(\"chr\", \"\", seqnames), \n",
    "           id = paste(chr, start, sep = \"_\"),\n",
    "           tissue = \"Vinuela_Adult_Islets\",\n",
    "           analysis = \"eqtl\") %>%\n",
    "    select(id, tissue, analysis)\n",
    "\n",
    "head(islet_eqtls,2)\n",
    "\n",
    "message(paste(\"# SNPs:\", length(unique(islet_eqtls$id))))"
   ]
  },
  {
   "cell_type": "markdown",
   "metadata": {},
   "source": [
    "## 2.5 Prepare Khetan adult islet caQTLs"
   ]
  },
  {
   "cell_type": "code",
   "execution_count": 14,
   "metadata": {},
   "outputs": [
    {
     "name": "stdout",
     "output_type": "stream",
     "text": [
      "'data.frame':\t2949 obs. of  36 variables:\n",
      " $ rsID                                                  : chr  \"rs9274652\" \"rs6547757\" \"rs2517198\" \"rs6838211\" ...\n",
      " $ Feature_Coordinates                                   : chr  \"6:32636138-32636402\" \"2:88469578-88470466\" \"8:17465473-17466680\" \"4:178643909-178644842\" ...\n",
      " $ Chromosome                                            : int  6 2 8 4 9 6 4 13 10 13 ...\n",
      " $ SNP_Position                                          : int  32636235 88469770 17465824 178644629 10208378 29920909 180337189 25592320 38383280 53174463 ...\n",
      " $ Ref                                                   : chr  \"C\" \"G\" \"C\" \"A\" ...\n",
      " $ Alt                                                   : chr  \"T\" \"C\" \"T\" \"C\" ...\n",
      " $ AlelleFreq                                            : num  0.289 0.816 0.737 0.342 0.684 ...\n",
      " $ HWE_ChiSq                                             : num  0.4362 0.9688 0.1396 1.5558 0.0125 ...\n",
      " $ IA                                                    : num  0.99 0.973 1 1 0.852 ...\n",
      " $ Log10_BH                                              : num  0.99 0.973 1 1 0.852 ...\n",
      " $ ChiSq_Statistic                                       : num  119.2 86 81.4 78.1 80.1 ...\n",
      " $ EffectSize                                            : num  0.111 0.848 0.797 0.188 0.879 ...\n",
      " $ Delta                                                 : num  0.002788 0.002874 0.000726 0.000018 0.009337 ...\n",
      " $ Phi                                                   : num  0.38 0.535 0.557 0.462 0.422 ...\n",
      " $ Overdispersion                                        : num  3.68 26.64 8.21 16.44 5.34 ...\n",
      " $ SNP_ID                                                : num  3.06 4.43 5.02 4.15 4.25 ...\n",
      " $ Num_fSNPs                                             : int  23 6 22 5 15 35 10 14 24 5 ...\n",
      " $ Num_testedSNPs                                        : int  21 7 16 4 13 39 10 15 21 5 ...\n",
      " $ LogLike_Null                                          : num  13 27.7 21.2 27.8 22.2 ...\n",
      " $ ConvergenenceStatus                                   : int  0 0 0 0 0 0 0 0 0 0 ...\n",
      " $ SqCor_fSNPs                                           : num  0.946 0.989 0.983 0.996 0.903 ...\n",
      " $ SqCor_rSNPs                                           : num  0.901 0.955 0.851 0.993 0.766 ...\n",
      " $ PValue                                                : num  9.43e-28 1.79e-20 1.84e-19 9.70e-19 3.62e-19 ...\n",
      " $ Bonferroni_Corrected_Pvalue_10._FDR_Cutoff_0.02276441.: num  1.98e-26 1.25e-19 2.94e-18 3.88e-18 4.70e-18 ...\n",
      " $ Associated_gene                                       : chr  \"ENSG00000179344\" \"ENSG00000144115\" \"ENSG00000104213\" \"ENSG00000221499\" ...\n",
      " $ DistanceToAssociatedGene                              : int  22 -258 31302 -178191 -324137 -3599 -729155 536 -532 -17853 ...\n",
      " $ ChromHMM_Islets                                       : chr  \"17_Weak_repressed_polycomb\" \"10_Active_enhancer_2\" \"10_Active_enhancer_2\" \"18_Quiescent/low_signal\" ...\n",
      " $ FOXA2_ChIP                                            : int  0 0 1 1 0 0 1 0 1 0 ...\n",
      " $ NKX6.1_ChIP                                           : int  0 0 0 1 0 0 1 0 0 0 ...\n",
      " $ H3K4me1_ChIP                                          : int  0 0 0 0 0 0 1 0 0 0 ...\n",
      " $ CTCF_ChIP                                             : int  0 0 0 0 0 0 0 0 0 0 ...\n",
      " $ H2A.Z_ChIP                                            : int  0 1 1 1 1 0 0 1 1 1 ...\n",
      " $ H3K27ac_ChIP                                          : int  0 1 1 1 1 0 1 0 1 1 ...\n",
      " $ PDX1_ChIP                                             : int  0 0 1 0 0 0 1 0 1 0 ...\n",
      " $ MAFB_ChIP                                             : int  0 0 0 0 0 0 1 0 1 0 ...\n",
      " $ HaploReg_Prediction_Best                              : chr  \"NF-kappaB_known5|0|-11.966195379144|10|+|13.649895641312|1.68370026216799\" \"RXRA_known6|0|2.48651471524801|9|-|9.45991908779599|11.946433803044\" \"Ets_known1|0|11.966125495914|6|-|0.182593670635995|12.14871916655\" \"Irf_known2|0|-11.966250404806|5|+|-0.877337392469997|-12.843587797276\" ...\n"
     ]
    },
    {
     "data": {
      "text/html": [
       "2949"
      ],
      "text/latex": [
       "2949"
      ],
      "text/markdown": [
       "2949"
      ],
      "text/plain": [
       "[1] 2949"
      ]
     },
     "metadata": {},
     "output_type": "display_data"
    },
    {
     "data": {
      "text/html": [
       "2948"
      ],
      "text/latex": [
       "2948"
      ],
      "text/markdown": [
       "2948"
      ],
      "text/plain": [
       "[1] 2948"
      ]
     },
     "metadata": {},
     "output_type": "display_data"
    },
    {
     "data": {
      "text/html": [
       "<table class=\"dataframe\">\n",
       "<caption>A data.frame: 2 × 3</caption>\n",
       "<thead>\n",
       "\t<tr><th></th><th scope=col>chrom</th><th scope=col>start</th><th scope=col>end</th></tr>\n",
       "\t<tr><th></th><th scope=col>&lt;chr&gt;</th><th scope=col>&lt;int&gt;</th><th scope=col>&lt;int&gt;</th></tr>\n",
       "</thead>\n",
       "<tbody>\n",
       "\t<tr><th scope=row>1</th><td>chr6</td><td>32636235</td><td>32636235</td></tr>\n",
       "\t<tr><th scope=row>2</th><td>chr2</td><td>88469770</td><td>88469770</td></tr>\n",
       "</tbody>\n",
       "</table>\n"
      ],
      "text/latex": [
       "A data.frame: 2 × 3\n",
       "\\begin{tabular}{r|lll}\n",
       "  & chrom & start & end\\\\\n",
       "  & <chr> & <int> & <int>\\\\\n",
       "\\hline\n",
       "\t1 & chr6 & 32636235 & 32636235\\\\\n",
       "\t2 & chr2 & 88469770 & 88469770\\\\\n",
       "\\end{tabular}\n"
      ],
      "text/markdown": [
       "\n",
       "A data.frame: 2 × 3\n",
       "\n",
       "| <!--/--> | chrom &lt;chr&gt; | start &lt;int&gt; | end &lt;int&gt; |\n",
       "|---|---|---|---|\n",
       "| 1 | chr6 | 32636235 | 32636235 |\n",
       "| 2 | chr2 | 88469770 | 88469770 |\n",
       "\n"
      ],
      "text/plain": [
       "  chrom start    end     \n",
       "1 chr6  32636235 32636235\n",
       "2 chr2  88469770 88469770"
      ]
     },
     "metadata": {},
     "output_type": "display_data"
    },
    {
     "data": {
      "text/html": [
       "<table class=\"dataframe\">\n",
       "<caption>A data.frame: 2 × 3</caption>\n",
       "<thead>\n",
       "\t<tr><th></th><th scope=col>id</th><th scope=col>tissue</th><th scope=col>analysis</th></tr>\n",
       "\t<tr><th></th><th scope=col>&lt;chr&gt;</th><th scope=col>&lt;chr&gt;</th><th scope=col>&lt;chr&gt;</th></tr>\n",
       "</thead>\n",
       "<tbody>\n",
       "\t<tr><th scope=row>1</th><td>6_32668458</td><td>Khetan_Adult_Islets</td><td>caqtl</td></tr>\n",
       "\t<tr><th scope=row>2</th><td>2_88170251</td><td>Khetan_Adult_Islets</td><td>caqtl</td></tr>\n",
       "</tbody>\n",
       "</table>\n"
      ],
      "text/latex": [
       "A data.frame: 2 × 3\n",
       "\\begin{tabular}{r|lll}\n",
       "  & id & tissue & analysis\\\\\n",
       "  & <chr> & <chr> & <chr>\\\\\n",
       "\\hline\n",
       "\t1 & 6\\_32668458 & Khetan\\_Adult\\_Islets & caqtl\\\\\n",
       "\t2 & 2\\_88170251 & Khetan\\_Adult\\_Islets & caqtl\\\\\n",
       "\\end{tabular}\n"
      ],
      "text/markdown": [
       "\n",
       "A data.frame: 2 × 3\n",
       "\n",
       "| <!--/--> | id &lt;chr&gt; | tissue &lt;chr&gt; | analysis &lt;chr&gt; |\n",
       "|---|---|---|---|\n",
       "| 1 | 6_32668458 | Khetan_Adult_Islets | caqtl |\n",
       "| 2 | 2_88170251 | Khetan_Adult_Islets | caqtl |\n",
       "\n"
      ],
      "text/plain": [
       "  id         tissue              analysis\n",
       "1 6_32668458 Khetan_Adult_Islets caqtl   \n",
       "2 2_88170251 Khetan_Adult_Islets caqtl   "
      ]
     },
     "metadata": {},
     "output_type": "display_data"
    },
    {
     "name": "stderr",
     "output_type": "stream",
     "text": [
      "# SNPs: 2948\n",
      "\n"
     ]
    }
   ],
   "source": [
    "islet_caqtls = fread(\"analyses/jennifer/ipscore_unique_qtls/Khetan_Islet_caQTL.txt\", data.table = F)\n",
    "\n",
    "str(islet_caqtls)\n",
    "\n",
    "# ~One SNP per Peak\n",
    "nrow(islet_caqtls)\n",
    "length(unique(islet_caqtls$Feature_Coordinates))\n",
    "\n",
    "# liftover\n",
    "bed = islet_caqtls %>% \n",
    "    mutate(chrom = paste0(\"chr\", Chromosome),\n",
    "           start = SNP_Position,\n",
    "           end = SNP_Position) %>%\n",
    "    select(chrom, start, end)\n",
    "\n",
    "head(bed,2)\n",
    "\n",
    "suppressMessages(library(rtracklayer  ))\n",
    "suppressMessages(library(GenomicRanges))\n",
    "\n",
    "path = \"/reference/public/ucsc/hg19ToHg38.over.chain\"\n",
    "ch   = import.chain(path)\n",
    "\n",
    "gr38 = makeGRangesFromDataFrame(bed, T)\n",
    "gr19 = data.frame(liftOver(gr38, ch))\n",
    "\n",
    "islet_caqtls = gr19 %>% \n",
    "    select(seqnames, start) %>% \n",
    "    mutate(chr = gsub(\"chr\", \"\", seqnames), \n",
    "           id = paste(chr, start, sep = \"_\"),\n",
    "           tissue = \"Khetan_Adult_Islets\",\n",
    "           analysis = \"caqtl\") %>%\n",
    "    select(id, tissue, analysis)\n",
    "\n",
    "head(islet_caqtls,2)\n",
    "    \n",
    "message(paste(\"# SNPs:\", length(unique(islet_caqtls$id))))"
   ]
  },
  {
   "cell_type": "markdown",
   "metadata": {},
   "source": [
    "## 2.6. Prepare GTEx adult conditional eQTLs"
   ]
  },
  {
   "cell_type": "code",
   "execution_count": 15,
   "metadata": {},
   "outputs": [
    {
     "name": "stderr",
     "output_type": "stream",
     "text": [
      "# GTEx tissues: 49\n",
      "\n"
     ]
    },
    {
     "data": {
      "text/html": [
       "<table class=\"dataframe\">\n",
       "<caption>A data.frame: 2 × 3</caption>\n",
       "<thead>\n",
       "\t<tr><th></th><th scope=col>id</th><th scope=col>tissue</th><th scope=col>analysis</th></tr>\n",
       "\t<tr><th></th><th scope=col>&lt;chr&gt;</th><th scope=col>&lt;chr&gt;</th><th scope=col>&lt;chr&gt;</th></tr>\n",
       "</thead>\n",
       "<tbody>\n",
       "\t<tr><th scope=row>1</th><td>1_64764 </td><td>Adipose_Subcutaneous</td><td>eqtl_cond</td></tr>\n",
       "\t<tr><th scope=row>2</th><td>1_108826</td><td>Adipose_Subcutaneous</td><td>eqtl_cond</td></tr>\n",
       "</tbody>\n",
       "</table>\n"
      ],
      "text/latex": [
       "A data.frame: 2 × 3\n",
       "\\begin{tabular}{r|lll}\n",
       "  & id & tissue & analysis\\\\\n",
       "  & <chr> & <chr> & <chr>\\\\\n",
       "\\hline\n",
       "\t1 & 1\\_64764  & Adipose\\_Subcutaneous & eqtl\\_cond\\\\\n",
       "\t2 & 1\\_108826 & Adipose\\_Subcutaneous & eqtl\\_cond\\\\\n",
       "\\end{tabular}\n"
      ],
      "text/markdown": [
       "\n",
       "A data.frame: 2 × 3\n",
       "\n",
       "| <!--/--> | id &lt;chr&gt; | tissue &lt;chr&gt; | analysis &lt;chr&gt; |\n",
       "|---|---|---|---|\n",
       "| 1 | 1_64764  | Adipose_Subcutaneous | eqtl_cond |\n",
       "| 2 | 1_108826 | Adipose_Subcutaneous | eqtl_cond |\n",
       "\n"
      ],
      "text/plain": [
       "  id       tissue               analysis \n",
       "1 1_64764  Adipose_Subcutaneous eqtl_cond\n",
       "2 1_108826 Adipose_Subcutaneous eqtl_cond"
      ]
     },
     "metadata": {},
     "output_type": "display_data"
    },
    {
     "name": "stderr",
     "output_type": "stream",
     "text": [
      "# GTEx variants: 408175\n",
      "\n"
     ]
    },
    {
     "data": {
      "text/html": [
       "<table class=\"dataframe\">\n",
       "<caption>A data.frame: 2 × 3</caption>\n",
       "<thead>\n",
       "\t<tr><th></th><th scope=col>id</th><th scope=col>tissue</th><th scope=col>analysis</th></tr>\n",
       "\t<tr><th></th><th scope=col>&lt;chr&gt;</th><th scope=col>&lt;chr&gt;</th><th scope=col>&lt;chr&gt;</th></tr>\n",
       "</thead>\n",
       "<tbody>\n",
       "\t<tr><th scope=row>1</th><td>1_64764 </td><td>Adipose_Subcutaneous</td><td>eqtl_cond</td></tr>\n",
       "\t<tr><th scope=row>2</th><td>1_108826</td><td>Adipose_Subcutaneous</td><td>eqtl_cond</td></tr>\n",
       "</tbody>\n",
       "</table>\n"
      ],
      "text/latex": [
       "A data.frame: 2 × 3\n",
       "\\begin{tabular}{r|lll}\n",
       "  & id & tissue & analysis\\\\\n",
       "  & <chr> & <chr> & <chr>\\\\\n",
       "\\hline\n",
       "\t1 & 1\\_64764  & Adipose\\_Subcutaneous & eqtl\\_cond\\\\\n",
       "\t2 & 1\\_108826 & Adipose\\_Subcutaneous & eqtl\\_cond\\\\\n",
       "\\end{tabular}\n"
      ],
      "text/markdown": [
       "\n",
       "A data.frame: 2 × 3\n",
       "\n",
       "| <!--/--> | id &lt;chr&gt; | tissue &lt;chr&gt; | analysis &lt;chr&gt; |\n",
       "|---|---|---|---|\n",
       "| 1 | 1_64764  | Adipose_Subcutaneous | eqtl_cond |\n",
       "| 2 | 1_108826 | Adipose_Subcutaneous | eqtl_cond |\n",
       "\n"
      ],
      "text/plain": [
       "  id       tissue               analysis \n",
       "1 1_64764  Adipose_Subcutaneous eqtl_cond\n",
       "2 1_108826 Adipose_Subcutaneous eqtl_cond"
      ]
     },
     "metadata": {},
     "output_type": "display_data"
    }
   ],
   "source": [
    "files = list.files(\"/reference/public/GTEX_v8/GTEx_Analysis_v8_eQTL_independent\", full.names = T)\n",
    "\n",
    "message(paste(\"# GTEx tissues:\", length(unique(files))))\n",
    "\n",
    "gtex_cond_eqtls = as.data.frame(rbindlist(lapply(files, function(x) \n",
    "{\n",
    "    fread(x, data.table = F) %>% \n",
    "        mutate(tissue = unlist(strsplit(unlist(strsplit(x, \"/\"))[6], \"[.]\"))[1], \n",
    "               analysis = \"eqtl_cond\",\n",
    "               chr = gsub(\"chr\", \"\", unlist(lapply(variant_id, function(var) { unlist(strsplit(var, \"_\"))[1] }))),\n",
    "               pos = unlist(lapply(variant_id, function(var) { unlist(strsplit(var, \"_\"))[2] })),\n",
    "               id = paste(chr, pos, sep = \"_\")\n",
    "               )\n",
    "    \n",
    "}))) %>% select(id, tissue, analysis)\n",
    "\n",
    "head(gtex_cond_eqtls,2)\n",
    "\n",
    "message(paste(\"# GTEx variants:\", length(unique(gtex_cond_eqtls$id))))\n",
    "\n",
    "head(gtex_cond_eqtls,2)\n",
    "\n"
   ]
  },
  {
   "cell_type": "code",
   "execution_count": 9,
   "metadata": {},
   "outputs": [
    {
     "data": {
      "text/html": [
       "684291"
      ],
      "text/latex": [
       "684291"
      ],
      "text/markdown": [
       "684291"
      ],
      "text/plain": [
       "[1] 684291"
      ]
     },
     "metadata": {},
     "output_type": "display_data"
    }
   ],
   "source": [
    "408175 + 276116"
   ]
  },
  {
   "cell_type": "markdown",
   "metadata": {},
   "source": [
    "## 2.7 Write all variants (iPSCORE and reference) to a text file for plink"
   ]
  },
  {
   "cell_type": "code",
   "execution_count": 16,
   "metadata": {},
   "outputs": [
    {
     "data": {
      "text/html": [
       "<style>\n",
       ".list-inline {list-style: none; margin:0; padding: 0}\n",
       ".list-inline>li {display: inline-block}\n",
       ".list-inline>li:not(:last-child)::after {content: \"\\00b7\"; padding: 0 .5ex}\n",
       "</style>\n",
       "<ol class=list-inline><li>'1'</li><li>'2'</li><li>'3'</li><li>'4'</li><li>'5'</li><li>'6'</li><li>'7'</li><li>'8'</li><li>'9'</li><li>'10'</li><li>'11'</li><li>'12'</li><li>'13'</li><li>'14'</li><li>'15'</li><li>'16'</li><li>'17'</li><li>'18'</li><li>'19'</li><li>'20'</li><li>'21'</li><li>'22'</li><li>'X'</li><li>'Un'</li></ol>\n"
      ],
      "text/latex": [
       "\\begin{enumerate*}\n",
       "\\item '1'\n",
       "\\item '2'\n",
       "\\item '3'\n",
       "\\item '4'\n",
       "\\item '5'\n",
       "\\item '6'\n",
       "\\item '7'\n",
       "\\item '8'\n",
       "\\item '9'\n",
       "\\item '10'\n",
       "\\item '11'\n",
       "\\item '12'\n",
       "\\item '13'\n",
       "\\item '14'\n",
       "\\item '15'\n",
       "\\item '16'\n",
       "\\item '17'\n",
       "\\item '18'\n",
       "\\item '19'\n",
       "\\item '20'\n",
       "\\item '21'\n",
       "\\item '22'\n",
       "\\item 'X'\n",
       "\\item 'Un'\n",
       "\\end{enumerate*}\n"
      ],
      "text/markdown": [
       "1. '1'\n",
       "2. '2'\n",
       "3. '3'\n",
       "4. '4'\n",
       "5. '5'\n",
       "6. '6'\n",
       "7. '7'\n",
       "8. '8'\n",
       "9. '9'\n",
       "10. '10'\n",
       "11. '11'\n",
       "12. '12'\n",
       "13. '13'\n",
       "14. '14'\n",
       "15. '15'\n",
       "16. '16'\n",
       "17. '17'\n",
       "18. '18'\n",
       "19. '19'\n",
       "20. '20'\n",
       "21. '21'\n",
       "22. '22'\n",
       "23. 'X'\n",
       "24. 'Un'\n",
       "\n",
       "\n"
      ],
      "text/plain": [
       " [1] \"1\"  \"2\"  \"3\"  \"4\"  \"5\"  \"6\"  \"7\"  \"8\"  \"9\"  \"10\" \"11\" \"12\" \"13\" \"14\" \"15\"\n",
       "[16] \"16\" \"17\" \"18\" \"19\" \"20\" \"21\" \"22\" \"X\"  \"Un\""
      ]
     },
     "metadata": {},
     "output_type": "display_data"
    },
    {
     "data": {
      "text/plain": [
       "\n",
       "     1     10     11     12     13     14     15     16     17     18     19 \n",
       "161772  77522  89292  90351  36831  54748  64334  78645 110423  27548 106276 \n",
       "     2     20     21     22      3      4      5      6      7      8      9 \n",
       "126179  43307  26686  47641  97979  78925  84034 108456 103366  66015  68667 "
      ]
     },
     "metadata": {},
     "output_type": "display_data"
    },
    {
     "data": {
      "text/html": [
       "<table class=\"dataframe\">\n",
       "<caption>A data.frame: 2 × 4</caption>\n",
       "<thead>\n",
       "\t<tr><th></th><th scope=col>id</th><th scope=col>tissue</th><th scope=col>analysis</th><th scope=col>chr</th></tr>\n",
       "\t<tr><th></th><th scope=col>&lt;chr&gt;</th><th scope=col>&lt;chr&gt;</th><th scope=col>&lt;chr&gt;</th><th scope=col>&lt;chr&gt;</th></tr>\n",
       "</thead>\n",
       "<tbody>\n",
       "\t<tr><th scope=row>1</th><td>1_64764 </td><td>Adipose_Subcutaneous</td><td>eqtl_cond</td><td>1</td></tr>\n",
       "\t<tr><th scope=row>2</th><td>1_108826</td><td>Adipose_Subcutaneous</td><td>eqtl_cond</td><td>1</td></tr>\n",
       "</tbody>\n",
       "</table>\n"
      ],
      "text/latex": [
       "A data.frame: 2 × 4\n",
       "\\begin{tabular}{r|llll}\n",
       "  & id & tissue & analysis & chr\\\\\n",
       "  & <chr> & <chr> & <chr> & <chr>\\\\\n",
       "\\hline\n",
       "\t1 & 1\\_64764  & Adipose\\_Subcutaneous & eqtl\\_cond & 1\\\\\n",
       "\t2 & 1\\_108826 & Adipose\\_Subcutaneous & eqtl\\_cond & 1\\\\\n",
       "\\end{tabular}\n"
      ],
      "text/markdown": [
       "\n",
       "A data.frame: 2 × 4\n",
       "\n",
       "| <!--/--> | id &lt;chr&gt; | tissue &lt;chr&gt; | analysis &lt;chr&gt; | chr &lt;chr&gt; |\n",
       "|---|---|---|---|---|\n",
       "| 1 | 1_64764  | Adipose_Subcutaneous | eqtl_cond | 1 |\n",
       "| 2 | 1_108826 | Adipose_Subcutaneous | eqtl_cond | 1 |\n",
       "\n"
      ],
      "text/plain": [
       "  id       tissue               analysis  chr\n",
       "1 1_64764  Adipose_Subcutaneous eqtl_cond 1  \n",
       "2 1_108826 Adipose_Subcutaneous eqtl_cond 1  "
      ]
     },
     "metadata": {},
     "output_type": "display_data"
    }
   ],
   "source": [
    "# Aggregate all\n",
    "all_ref_snps = Reduce(rbind, list(gtex_cond_eqtls, islet_eqtls, islet_caqtls, gtex_eqtls, qtlbase_hqtls, qtlbase_caqtls, finemapped %>% select(id, tissue, analysis)))\n",
    "all_ref_snps$chr = unlist(lapply(all_ref_snps$id, function(x) { unlist(strsplit(x, \"_\"))[1] }))\n",
    "\n",
    "unique(all_ref_snps$chr)\n",
    "\n",
    "# Only autosomal chr\n",
    "all_ref_snps = all_ref_snps %>% filter(chr %in% c(1:22))\n",
    "\n",
    "table(all_ref_snps$chr)\n",
    "head(all_ref_snps,2)"
   ]
  },
  {
   "cell_type": "code",
   "execution_count": 17,
   "metadata": {},
   "outputs": [
    {
     "name": "stderr",
     "output_type": "stream",
     "text": [
      "chr1 70938\n",
      "Saved: /frazer01/projects/CARDIPS/analysis/epigenome_resource/analyses/jennifer/ipscore_unique_qtls/scratch/chr1.txt\n",
      "chr2 61322\n",
      "Saved: /frazer01/projects/CARDIPS/analysis/epigenome_resource/analyses/jennifer/ipscore_unique_qtls/scratch/chr2.txt\n",
      "chr3 46773\n",
      "Saved: /frazer01/projects/CARDIPS/analysis/epigenome_resource/analyses/jennifer/ipscore_unique_qtls/scratch/chr3.txt\n",
      "chr4 40047\n",
      "Saved: /frazer01/projects/CARDIPS/analysis/epigenome_resource/analyses/jennifer/ipscore_unique_qtls/scratch/chr4.txt\n",
      "chr5 39345\n",
      "Saved: /frazer01/projects/CARDIPS/analysis/epigenome_resource/analyses/jennifer/ipscore_unique_qtls/scratch/chr5.txt\n",
      "chr6 50488\n",
      "Saved: /frazer01/projects/CARDIPS/analysis/epigenome_resource/analyses/jennifer/ipscore_unique_qtls/scratch/chr6.txt\n",
      "chr7 45867\n",
      "Saved: /frazer01/projects/CARDIPS/analysis/epigenome_resource/analyses/jennifer/ipscore_unique_qtls/scratch/chr7.txt\n",
      "chr8 32343\n",
      "Saved: /frazer01/projects/CARDIPS/analysis/epigenome_resource/analyses/jennifer/ipscore_unique_qtls/scratch/chr8.txt\n",
      "chr9 31213\n",
      "Saved: /frazer01/projects/CARDIPS/analysis/epigenome_resource/analyses/jennifer/ipscore_unique_qtls/scratch/chr9.txt\n",
      "chr10 38238\n",
      "Saved: /frazer01/projects/CARDIPS/analysis/epigenome_resource/analyses/jennifer/ipscore_unique_qtls/scratch/chr10.txt\n",
      "chr11 38922\n",
      "Saved: /frazer01/projects/CARDIPS/analysis/epigenome_resource/analyses/jennifer/ipscore_unique_qtls/scratch/chr11.txt\n",
      "chr12 40554\n",
      "Saved: /frazer01/projects/CARDIPS/analysis/epigenome_resource/analyses/jennifer/ipscore_unique_qtls/scratch/chr12.txt\n",
      "chr13 18757\n",
      "Saved: /frazer01/projects/CARDIPS/analysis/epigenome_resource/analyses/jennifer/ipscore_unique_qtls/scratch/chr13.txt\n",
      "chr14 25580\n",
      "Saved: /frazer01/projects/CARDIPS/analysis/epigenome_resource/analyses/jennifer/ipscore_unique_qtls/scratch/chr14.txt\n",
      "chr15 27961\n",
      "Saved: /frazer01/projects/CARDIPS/analysis/epigenome_resource/analyses/jennifer/ipscore_unique_qtls/scratch/chr15.txt\n",
      "chr16 31098\n",
      "Saved: /frazer01/projects/CARDIPS/analysis/epigenome_resource/analyses/jennifer/ipscore_unique_qtls/scratch/chr16.txt\n",
      "chr17 40265\n",
      "Saved: /frazer01/projects/CARDIPS/analysis/epigenome_resource/analyses/jennifer/ipscore_unique_qtls/scratch/chr17.txt\n",
      "chr18 13958\n",
      "Saved: /frazer01/projects/CARDIPS/analysis/epigenome_resource/analyses/jennifer/ipscore_unique_qtls/scratch/chr18.txt\n",
      "chr19 37822\n",
      "Saved: /frazer01/projects/CARDIPS/analysis/epigenome_resource/analyses/jennifer/ipscore_unique_qtls/scratch/chr19.txt\n",
      "chr20 19949\n",
      "Saved: /frazer01/projects/CARDIPS/analysis/epigenome_resource/analyses/jennifer/ipscore_unique_qtls/scratch/chr20.txt\n",
      "chr21 11372\n",
      "Saved: /frazer01/projects/CARDIPS/analysis/epigenome_resource/analyses/jennifer/ipscore_unique_qtls/scratch/chr21.txt\n",
      "chr22 18212\n",
      "Saved: /frazer01/projects/CARDIPS/analysis/epigenome_resource/analyses/jennifer/ipscore_unique_qtls/scratch/chr22.txt\n"
     ]
    }
   ],
   "source": [
    "# write to text\n",
    "for (chr in c(1:22))\n",
    "{\n",
    "    snps = unique(all_ref_snps[all_ref_snps$chr == chr,]$id)\n",
    "    message(paste(paste0(\"chr\", chr), length(snps)), appendLF = F)\n",
    "    \n",
    "    outfile = paste(getwd(), \"analyses/jennifer/ipscore_unique_qtls/scratch\", paste0(\"chr\", chr, \".txt\"), sep = \"/\")\n",
    "    writeLines(snps, outfile, sep = \"\\n\")\n",
    "    message(paste(\"Saved:\", outfile), appendLF = F)\n",
    "}"
   ]
  },
  {
   "cell_type": "markdown",
   "metadata": {},
   "source": [
    "## 3. Run plink tags"
   ]
  },
  {
   "cell_type": "code",
   "execution_count": 18,
   "metadata": {},
   "outputs": [
    {
     "name": "stderr",
     "output_type": "stream",
     "text": [
      "echo \"plink --memory 15000 --threads 4 --tag-kb 500 --tag-r2 0.2 --show-tags all --vcf /frazer01/projects/CARDIPS/analysis/epigenome_resource/analyses/jennifer/ipscore_unique_qtls/reference/chr1.norm.renamed.vcf.gz --extract /frazer01/projects/CARDIPS/analysis/epigenome_resource/analyses/jennifer/ipscore_unique_qtls/scratch/chr1.txt --out /frazer01/projects/CARDIPS/analysis/epigenome_resource/analyses/jennifer/ipscore_unique_qtls/tags/chr1.500kb_r0.2\" | qsub -N chr1 -V -cwd -pe smp 4 -o /frazer01/projects/CARDIPS/analysis/epigenome_resource/analyses/jennifer/ipscore_unique_qtls/logs/chr1.500kb_r0.2.out -e /frazer01/projects/CARDIPS/analysis/epigenome_resource/analyses/jennifer/ipscore_unique_qtls/logs/chr1.500kb_r0.2.err\n",
      "\n",
      "echo \"plink --memory 15000 --threads 4 --tag-kb 500 --tag-r2 0.2 --show-tags all --vcf /frazer01/projects/CARDIPS/analysis/epigenome_resource/analyses/jennifer/ipscore_unique_qtls/reference/chr2.norm.renamed.vcf.gz --extract /frazer01/projects/CARDIPS/analysis/epigenome_resource/analyses/jennifer/ipscore_unique_qtls/scratch/chr2.txt --out /frazer01/projects/CARDIPS/analysis/epigenome_resource/analyses/jennifer/ipscore_unique_qtls/tags/chr2.500kb_r0.2\" | qsub -N chr2 -V -cwd -pe smp 4 -o /frazer01/projects/CARDIPS/analysis/epigenome_resource/analyses/jennifer/ipscore_unique_qtls/logs/chr2.500kb_r0.2.out -e /frazer01/projects/CARDIPS/analysis/epigenome_resource/analyses/jennifer/ipscore_unique_qtls/logs/chr2.500kb_r0.2.err\n",
      "\n",
      "echo \"plink --memory 15000 --threads 4 --tag-kb 500 --tag-r2 0.2 --show-tags all --vcf /frazer01/projects/CARDIPS/analysis/epigenome_resource/analyses/jennifer/ipscore_unique_qtls/reference/chr3.norm.renamed.vcf.gz --extract /frazer01/projects/CARDIPS/analysis/epigenome_resource/analyses/jennifer/ipscore_unique_qtls/scratch/chr3.txt --out /frazer01/projects/CARDIPS/analysis/epigenome_resource/analyses/jennifer/ipscore_unique_qtls/tags/chr3.500kb_r0.2\" | qsub -N chr3 -V -cwd -pe smp 4 -o /frazer01/projects/CARDIPS/analysis/epigenome_resource/analyses/jennifer/ipscore_unique_qtls/logs/chr3.500kb_r0.2.out -e /frazer01/projects/CARDIPS/analysis/epigenome_resource/analyses/jennifer/ipscore_unique_qtls/logs/chr3.500kb_r0.2.err\n",
      "\n",
      "echo \"plink --memory 15000 --threads 4 --tag-kb 500 --tag-r2 0.2 --show-tags all --vcf /frazer01/projects/CARDIPS/analysis/epigenome_resource/analyses/jennifer/ipscore_unique_qtls/reference/chr4.norm.renamed.vcf.gz --extract /frazer01/projects/CARDIPS/analysis/epigenome_resource/analyses/jennifer/ipscore_unique_qtls/scratch/chr4.txt --out /frazer01/projects/CARDIPS/analysis/epigenome_resource/analyses/jennifer/ipscore_unique_qtls/tags/chr4.500kb_r0.2\" | qsub -N chr4 -V -cwd -pe smp 4 -o /frazer01/projects/CARDIPS/analysis/epigenome_resource/analyses/jennifer/ipscore_unique_qtls/logs/chr4.500kb_r0.2.out -e /frazer01/projects/CARDIPS/analysis/epigenome_resource/analyses/jennifer/ipscore_unique_qtls/logs/chr4.500kb_r0.2.err\n",
      "\n",
      "echo \"plink --memory 15000 --threads 4 --tag-kb 500 --tag-r2 0.2 --show-tags all --vcf /frazer01/projects/CARDIPS/analysis/epigenome_resource/analyses/jennifer/ipscore_unique_qtls/reference/chr5.norm.renamed.vcf.gz --extract /frazer01/projects/CARDIPS/analysis/epigenome_resource/analyses/jennifer/ipscore_unique_qtls/scratch/chr5.txt --out /frazer01/projects/CARDIPS/analysis/epigenome_resource/analyses/jennifer/ipscore_unique_qtls/tags/chr5.500kb_r0.2\" | qsub -N chr5 -V -cwd -pe smp 4 -o /frazer01/projects/CARDIPS/analysis/epigenome_resource/analyses/jennifer/ipscore_unique_qtls/logs/chr5.500kb_r0.2.out -e /frazer01/projects/CARDIPS/analysis/epigenome_resource/analyses/jennifer/ipscore_unique_qtls/logs/chr5.500kb_r0.2.err\n",
      "\n",
      "echo \"plink --memory 15000 --threads 4 --tag-kb 500 --tag-r2 0.2 --show-tags all --vcf /frazer01/projects/CARDIPS/analysis/epigenome_resource/analyses/jennifer/ipscore_unique_qtls/reference/chr6.norm.renamed.vcf.gz --extract /frazer01/projects/CARDIPS/analysis/epigenome_resource/analyses/jennifer/ipscore_unique_qtls/scratch/chr6.txt --out /frazer01/projects/CARDIPS/analysis/epigenome_resource/analyses/jennifer/ipscore_unique_qtls/tags/chr6.500kb_r0.2\" | qsub -N chr6 -V -cwd -pe smp 4 -o /frazer01/projects/CARDIPS/analysis/epigenome_resource/analyses/jennifer/ipscore_unique_qtls/logs/chr6.500kb_r0.2.out -e /frazer01/projects/CARDIPS/analysis/epigenome_resource/analyses/jennifer/ipscore_unique_qtls/logs/chr6.500kb_r0.2.err\n",
      "\n",
      "echo \"plink --memory 15000 --threads 4 --tag-kb 500 --tag-r2 0.2 --show-tags all --vcf /frazer01/projects/CARDIPS/analysis/epigenome_resource/analyses/jennifer/ipscore_unique_qtls/reference/chr7.norm.renamed.vcf.gz --extract /frazer01/projects/CARDIPS/analysis/epigenome_resource/analyses/jennifer/ipscore_unique_qtls/scratch/chr7.txt --out /frazer01/projects/CARDIPS/analysis/epigenome_resource/analyses/jennifer/ipscore_unique_qtls/tags/chr7.500kb_r0.2\" | qsub -N chr7 -V -cwd -pe smp 4 -o /frazer01/projects/CARDIPS/analysis/epigenome_resource/analyses/jennifer/ipscore_unique_qtls/logs/chr7.500kb_r0.2.out -e /frazer01/projects/CARDIPS/analysis/epigenome_resource/analyses/jennifer/ipscore_unique_qtls/logs/chr7.500kb_r0.2.err\n",
      "\n",
      "echo \"plink --memory 15000 --threads 4 --tag-kb 500 --tag-r2 0.2 --show-tags all --vcf /frazer01/projects/CARDIPS/analysis/epigenome_resource/analyses/jennifer/ipscore_unique_qtls/reference/chr8.norm.renamed.vcf.gz --extract /frazer01/projects/CARDIPS/analysis/epigenome_resource/analyses/jennifer/ipscore_unique_qtls/scratch/chr8.txt --out /frazer01/projects/CARDIPS/analysis/epigenome_resource/analyses/jennifer/ipscore_unique_qtls/tags/chr8.500kb_r0.2\" | qsub -N chr8 -V -cwd -pe smp 4 -o /frazer01/projects/CARDIPS/analysis/epigenome_resource/analyses/jennifer/ipscore_unique_qtls/logs/chr8.500kb_r0.2.out -e /frazer01/projects/CARDIPS/analysis/epigenome_resource/analyses/jennifer/ipscore_unique_qtls/logs/chr8.500kb_r0.2.err\n",
      "\n",
      "echo \"plink --memory 15000 --threads 4 --tag-kb 500 --tag-r2 0.2 --show-tags all --vcf /frazer01/projects/CARDIPS/analysis/epigenome_resource/analyses/jennifer/ipscore_unique_qtls/reference/chr9.norm.renamed.vcf.gz --extract /frazer01/projects/CARDIPS/analysis/epigenome_resource/analyses/jennifer/ipscore_unique_qtls/scratch/chr9.txt --out /frazer01/projects/CARDIPS/analysis/epigenome_resource/analyses/jennifer/ipscore_unique_qtls/tags/chr9.500kb_r0.2\" | qsub -N chr9 -V -cwd -pe smp 4 -o /frazer01/projects/CARDIPS/analysis/epigenome_resource/analyses/jennifer/ipscore_unique_qtls/logs/chr9.500kb_r0.2.out -e /frazer01/projects/CARDIPS/analysis/epigenome_resource/analyses/jennifer/ipscore_unique_qtls/logs/chr9.500kb_r0.2.err\n",
      "\n",
      "echo \"plink --memory 15000 --threads 4 --tag-kb 500 --tag-r2 0.2 --show-tags all --vcf /frazer01/projects/CARDIPS/analysis/epigenome_resource/analyses/jennifer/ipscore_unique_qtls/reference/chr10.norm.renamed.vcf.gz --extract /frazer01/projects/CARDIPS/analysis/epigenome_resource/analyses/jennifer/ipscore_unique_qtls/scratch/chr10.txt --out /frazer01/projects/CARDIPS/analysis/epigenome_resource/analyses/jennifer/ipscore_unique_qtls/tags/chr10.500kb_r0.2\" | qsub -N chr10 -V -cwd -pe smp 4 -o /frazer01/projects/CARDIPS/analysis/epigenome_resource/analyses/jennifer/ipscore_unique_qtls/logs/chr10.500kb_r0.2.out -e /frazer01/projects/CARDIPS/analysis/epigenome_resource/analyses/jennifer/ipscore_unique_qtls/logs/chr10.500kb_r0.2.err\n",
      "\n",
      "echo \"plink --memory 15000 --threads 4 --tag-kb 500 --tag-r2 0.2 --show-tags all --vcf /frazer01/projects/CARDIPS/analysis/epigenome_resource/analyses/jennifer/ipscore_unique_qtls/reference/chr11.norm.renamed.vcf.gz --extract /frazer01/projects/CARDIPS/analysis/epigenome_resource/analyses/jennifer/ipscore_unique_qtls/scratch/chr11.txt --out /frazer01/projects/CARDIPS/analysis/epigenome_resource/analyses/jennifer/ipscore_unique_qtls/tags/chr11.500kb_r0.2\" | qsub -N chr11 -V -cwd -pe smp 4 -o /frazer01/projects/CARDIPS/analysis/epigenome_resource/analyses/jennifer/ipscore_unique_qtls/logs/chr11.500kb_r0.2.out -e /frazer01/projects/CARDIPS/analysis/epigenome_resource/analyses/jennifer/ipscore_unique_qtls/logs/chr11.500kb_r0.2.err\n",
      "\n",
      "echo \"plink --memory 15000 --threads 4 --tag-kb 500 --tag-r2 0.2 --show-tags all --vcf /frazer01/projects/CARDIPS/analysis/epigenome_resource/analyses/jennifer/ipscore_unique_qtls/reference/chr12.norm.renamed.vcf.gz --extract /frazer01/projects/CARDIPS/analysis/epigenome_resource/analyses/jennifer/ipscore_unique_qtls/scratch/chr12.txt --out /frazer01/projects/CARDIPS/analysis/epigenome_resource/analyses/jennifer/ipscore_unique_qtls/tags/chr12.500kb_r0.2\" | qsub -N chr12 -V -cwd -pe smp 4 -o /frazer01/projects/CARDIPS/analysis/epigenome_resource/analyses/jennifer/ipscore_unique_qtls/logs/chr12.500kb_r0.2.out -e /frazer01/projects/CARDIPS/analysis/epigenome_resource/analyses/jennifer/ipscore_unique_qtls/logs/chr12.500kb_r0.2.err\n",
      "\n",
      "echo \"plink --memory 15000 --threads 4 --tag-kb 500 --tag-r2 0.2 --show-tags all --vcf /frazer01/projects/CARDIPS/analysis/epigenome_resource/analyses/jennifer/ipscore_unique_qtls/reference/chr13.norm.renamed.vcf.gz --extract /frazer01/projects/CARDIPS/analysis/epigenome_resource/analyses/jennifer/ipscore_unique_qtls/scratch/chr13.txt --out /frazer01/projects/CARDIPS/analysis/epigenome_resource/analyses/jennifer/ipscore_unique_qtls/tags/chr13.500kb_r0.2\" | qsub -N chr13 -V -cwd -pe smp 4 -o /frazer01/projects/CARDIPS/analysis/epigenome_resource/analyses/jennifer/ipscore_unique_qtls/logs/chr13.500kb_r0.2.out -e /frazer01/projects/CARDIPS/analysis/epigenome_resource/analyses/jennifer/ipscore_unique_qtls/logs/chr13.500kb_r0.2.err\n",
      "\n",
      "echo \"plink --memory 15000 --threads 4 --tag-kb 500 --tag-r2 0.2 --show-tags all --vcf /frazer01/projects/CARDIPS/analysis/epigenome_resource/analyses/jennifer/ipscore_unique_qtls/reference/chr14.norm.renamed.vcf.gz --extract /frazer01/projects/CARDIPS/analysis/epigenome_resource/analyses/jennifer/ipscore_unique_qtls/scratch/chr14.txt --out /frazer01/projects/CARDIPS/analysis/epigenome_resource/analyses/jennifer/ipscore_unique_qtls/tags/chr14.500kb_r0.2\" | qsub -N chr14 -V -cwd -pe smp 4 -o /frazer01/projects/CARDIPS/analysis/epigenome_resource/analyses/jennifer/ipscore_unique_qtls/logs/chr14.500kb_r0.2.out -e /frazer01/projects/CARDIPS/analysis/epigenome_resource/analyses/jennifer/ipscore_unique_qtls/logs/chr14.500kb_r0.2.err\n",
      "\n",
      "echo \"plink --memory 15000 --threads 4 --tag-kb 500 --tag-r2 0.2 --show-tags all --vcf /frazer01/projects/CARDIPS/analysis/epigenome_resource/analyses/jennifer/ipscore_unique_qtls/reference/chr15.norm.renamed.vcf.gz --extract /frazer01/projects/CARDIPS/analysis/epigenome_resource/analyses/jennifer/ipscore_unique_qtls/scratch/chr15.txt --out /frazer01/projects/CARDIPS/analysis/epigenome_resource/analyses/jennifer/ipscore_unique_qtls/tags/chr15.500kb_r0.2\" | qsub -N chr15 -V -cwd -pe smp 4 -o /frazer01/projects/CARDIPS/analysis/epigenome_resource/analyses/jennifer/ipscore_unique_qtls/logs/chr15.500kb_r0.2.out -e /frazer01/projects/CARDIPS/analysis/epigenome_resource/analyses/jennifer/ipscore_unique_qtls/logs/chr15.500kb_r0.2.err\n",
      "\n",
      "echo \"plink --memory 15000 --threads 4 --tag-kb 500 --tag-r2 0.2 --show-tags all --vcf /frazer01/projects/CARDIPS/analysis/epigenome_resource/analyses/jennifer/ipscore_unique_qtls/reference/chr16.norm.renamed.vcf.gz --extract /frazer01/projects/CARDIPS/analysis/epigenome_resource/analyses/jennifer/ipscore_unique_qtls/scratch/chr16.txt --out /frazer01/projects/CARDIPS/analysis/epigenome_resource/analyses/jennifer/ipscore_unique_qtls/tags/chr16.500kb_r0.2\" | qsub -N chr16 -V -cwd -pe smp 4 -o /frazer01/projects/CARDIPS/analysis/epigenome_resource/analyses/jennifer/ipscore_unique_qtls/logs/chr16.500kb_r0.2.out -e /frazer01/projects/CARDIPS/analysis/epigenome_resource/analyses/jennifer/ipscore_unique_qtls/logs/chr16.500kb_r0.2.err\n",
      "\n",
      "echo \"plink --memory 15000 --threads 4 --tag-kb 500 --tag-r2 0.2 --show-tags all --vcf /frazer01/projects/CARDIPS/analysis/epigenome_resource/analyses/jennifer/ipscore_unique_qtls/reference/chr17.norm.renamed.vcf.gz --extract /frazer01/projects/CARDIPS/analysis/epigenome_resource/analyses/jennifer/ipscore_unique_qtls/scratch/chr17.txt --out /frazer01/projects/CARDIPS/analysis/epigenome_resource/analyses/jennifer/ipscore_unique_qtls/tags/chr17.500kb_r0.2\" | qsub -N chr17 -V -cwd -pe smp 4 -o /frazer01/projects/CARDIPS/analysis/epigenome_resource/analyses/jennifer/ipscore_unique_qtls/logs/chr17.500kb_r0.2.out -e /frazer01/projects/CARDIPS/analysis/epigenome_resource/analyses/jennifer/ipscore_unique_qtls/logs/chr17.500kb_r0.2.err\n",
      "\n",
      "echo \"plink --memory 15000 --threads 4 --tag-kb 500 --tag-r2 0.2 --show-tags all --vcf /frazer01/projects/CARDIPS/analysis/epigenome_resource/analyses/jennifer/ipscore_unique_qtls/reference/chr18.norm.renamed.vcf.gz --extract /frazer01/projects/CARDIPS/analysis/epigenome_resource/analyses/jennifer/ipscore_unique_qtls/scratch/chr18.txt --out /frazer01/projects/CARDIPS/analysis/epigenome_resource/analyses/jennifer/ipscore_unique_qtls/tags/chr18.500kb_r0.2\" | qsub -N chr18 -V -cwd -pe smp 4 -o /frazer01/projects/CARDIPS/analysis/epigenome_resource/analyses/jennifer/ipscore_unique_qtls/logs/chr18.500kb_r0.2.out -e /frazer01/projects/CARDIPS/analysis/epigenome_resource/analyses/jennifer/ipscore_unique_qtls/logs/chr18.500kb_r0.2.err\n",
      "\n",
      "echo \"plink --memory 15000 --threads 4 --tag-kb 500 --tag-r2 0.2 --show-tags all --vcf /frazer01/projects/CARDIPS/analysis/epigenome_resource/analyses/jennifer/ipscore_unique_qtls/reference/chr19.norm.renamed.vcf.gz --extract /frazer01/projects/CARDIPS/analysis/epigenome_resource/analyses/jennifer/ipscore_unique_qtls/scratch/chr19.txt --out /frazer01/projects/CARDIPS/analysis/epigenome_resource/analyses/jennifer/ipscore_unique_qtls/tags/chr19.500kb_r0.2\" | qsub -N chr19 -V -cwd -pe smp 4 -o /frazer01/projects/CARDIPS/analysis/epigenome_resource/analyses/jennifer/ipscore_unique_qtls/logs/chr19.500kb_r0.2.out -e /frazer01/projects/CARDIPS/analysis/epigenome_resource/analyses/jennifer/ipscore_unique_qtls/logs/chr19.500kb_r0.2.err\n",
      "\n",
      "echo \"plink --memory 15000 --threads 4 --tag-kb 500 --tag-r2 0.2 --show-tags all --vcf /frazer01/projects/CARDIPS/analysis/epigenome_resource/analyses/jennifer/ipscore_unique_qtls/reference/chr20.norm.renamed.vcf.gz --extract /frazer01/projects/CARDIPS/analysis/epigenome_resource/analyses/jennifer/ipscore_unique_qtls/scratch/chr20.txt --out /frazer01/projects/CARDIPS/analysis/epigenome_resource/analyses/jennifer/ipscore_unique_qtls/tags/chr20.500kb_r0.2\" | qsub -N chr20 -V -cwd -pe smp 4 -o /frazer01/projects/CARDIPS/analysis/epigenome_resource/analyses/jennifer/ipscore_unique_qtls/logs/chr20.500kb_r0.2.out -e /frazer01/projects/CARDIPS/analysis/epigenome_resource/analyses/jennifer/ipscore_unique_qtls/logs/chr20.500kb_r0.2.err\n",
      "\n",
      "echo \"plink --memory 15000 --threads 4 --tag-kb 500 --tag-r2 0.2 --show-tags all --vcf /frazer01/projects/CARDIPS/analysis/epigenome_resource/analyses/jennifer/ipscore_unique_qtls/reference/chr21.norm.renamed.vcf.gz --extract /frazer01/projects/CARDIPS/analysis/epigenome_resource/analyses/jennifer/ipscore_unique_qtls/scratch/chr21.txt --out /frazer01/projects/CARDIPS/analysis/epigenome_resource/analyses/jennifer/ipscore_unique_qtls/tags/chr21.500kb_r0.2\" | qsub -N chr21 -V -cwd -pe smp 4 -o /frazer01/projects/CARDIPS/analysis/epigenome_resource/analyses/jennifer/ipscore_unique_qtls/logs/chr21.500kb_r0.2.out -e /frazer01/projects/CARDIPS/analysis/epigenome_resource/analyses/jennifer/ipscore_unique_qtls/logs/chr21.500kb_r0.2.err\n",
      "\n",
      "echo \"plink --memory 15000 --threads 4 --tag-kb 500 --tag-r2 0.2 --show-tags all --vcf /frazer01/projects/CARDIPS/analysis/epigenome_resource/analyses/jennifer/ipscore_unique_qtls/reference/chr22.norm.renamed.vcf.gz --extract /frazer01/projects/CARDIPS/analysis/epigenome_resource/analyses/jennifer/ipscore_unique_qtls/scratch/chr22.txt --out /frazer01/projects/CARDIPS/analysis/epigenome_resource/analyses/jennifer/ipscore_unique_qtls/tags/chr22.500kb_r0.2\" | qsub -N chr22 -V -cwd -pe smp 4 -o /frazer01/projects/CARDIPS/analysis/epigenome_resource/analyses/jennifer/ipscore_unique_qtls/logs/chr22.500kb_r0.2.out -e /frazer01/projects/CARDIPS/analysis/epigenome_resource/analyses/jennifer/ipscore_unique_qtls/logs/chr22.500kb_r0.2.err\n",
      "\n"
     ]
    }
   ],
   "source": [
    "# delete old results\n",
    "system(\"rm analyses/jennifer/ipscore_unique_qtls/tags/*\")\n",
    "\n",
    "for (kb in c(500, 250, 100)[1])\n",
    "{\n",
    "    for (r2 in c(0.1, 0.2, 0.7, 0.8))\n",
    "    {\n",
    "        for (chr in c(1:22))\n",
    "        {\n",
    "            cmd = paste(\"plink\", \n",
    "                        \"--memory 15000\", \n",
    "                        \"--threads 4\", \n",
    "                        \"--tag-kb\", kb, \n",
    "                        \"--tag-r2\", r2, \n",
    "                        \"--show-tags all\", \n",
    "                        \"--vcf\"    , paste(getwd(), \"analyses/jennifer/ipscore_unique_qtls/reference\", paste0(\"chr\", chr, \".norm.renamed.vcf.gz\"), sep = \"/\"),\n",
    "                        \"--extract\", paste(getwd(), \"analyses/jennifer/ipscore_unique_qtls/scratch\"  , paste0(\"chr\", chr, \".txt\"), sep = \"/\"),\n",
    "                        \"--out\"    , paste(getwd(), \"analyses/jennifer/ipscore_unique_qtls/tags\"     , paste(paste0(\"chr\", chr), paste0(kb, \"kb_r\", r2), sep = \".\"), sep = \"/\"))\n",
    "\n",
    "            log_out = paste(getwd(), \"analyses/jennifer/ipscore_unique_qtls/logs\", paste(paste0(\"chr\", chr), paste0(kb, \"kb_r\", r2), \"out\", sep = \".\"), sep = \"/\")\n",
    "            log_err = paste(getwd(), \"analyses/jennifer/ipscore_unique_qtls/logs\", paste(paste0(\"chr\", chr), paste0(kb, \"kb_r\", r2), \"err\", sep = \".\"), sep = \"/\")\n",
    "\n",
    "            run_qsub(cmd = cmd, name = paste0(\"chr\", chr), log_err = log_err, log_out = log_out, threads = 4, exec = T)\n",
    "        }\n",
    "    }\n",
    "\n",
    "}\n",
    "\n",
    "\n"
   ]
  },
  {
   "cell_type": "markdown",
   "metadata": {},
   "source": [
    "## 3. Create list object for easier access downstream "
   ]
  },
  {
   "cell_type": "code",
   "execution_count": 19,
   "metadata": {},
   "outputs": [],
   "source": [
    "ref_qtls = list(\"caqtls\" = rbind(qtlbase_caqtls, islet_caqtls), \n",
    "                \"haqtls\" = qtlbase_hqtls, \n",
    "                \"eqtls\" = rbind(gtex_eqtls, gtex_cond_eqtls, islet_eqtls),\n",
    "                \"all\" = Reduce(rbind, list(qtlbase_caqtls, qtlbase_hqtls, gtex_eqtls, gtex_cond_eqtls, islet_eqtls, islet_caqtls)))\n"
   ]
  },
  {
   "cell_type": "markdown",
   "metadata": {},
   "source": [
    "## 4. Annotate each iPSCORE QTL whether it's in LD with adult"
   ]
  },
  {
   "cell_type": "code",
   "execution_count": 23,
   "metadata": {},
   "outputs": [],
   "source": [
    "ld_results = list()\n",
    "tags_list = list()\n"
   ]
  },
  {
   "cell_type": "code",
   "execution_count": 24,
   "metadata": {},
   "outputs": [
    {
     "name": "stderr",
     "output_type": "stream",
     "text": [
      "Saved: 500 0.2\n",
      "500 0.2 all\n",
      "Warning message in eval(cols[[col]], .data, parent.frame()):\n",
      "“NAs introduced by coercion”\n",
      "152904\n",
      "659483\n",
      "bedtools closest -a analyses/jennifer/scratch/a.bed -b analyses/jennifer/scratch/b.bed -d\n"
     ]
    }
   ],
   "source": [
    "for (kb in c(500))\n",
    "{\n",
    "    for (r2 in c(0.1, 0.2, 0.7, 0.8))\n",
    "    {\n",
    "        # 1. Get LD results\n",
    "        tags = as.data.frame(rbindlist(lapply(c(1:22), function(x)\n",
    "        {\n",
    "            file = paste(\"analyses/jennifer/ipscore_unique_qtls/tags\", paste(paste0(\"chr\", x), paste0(kb, \"kb_r\", r2), \"tags.list\", sep = \".\"), sep = \"/\")\n",
    "            data = fread(file, data.table = F)\n",
    "        })))\n",
    "\n",
    "        # separate tags to rows\n",
    "        tags = tags %>% tidyr::separate_rows(TAGS, sep = \"[|]\")\n",
    "\n",
    "        # Have SNP be in LD with itself\n",
    "        tags = rbind(tags, tags %>% mutate(TAGS = SNP)) %>% dplyr::filter(TAGS != \"NONE\")\n",
    "\n",
    "        tags_list[[paste(kb, r2)]] = tags\n",
    "        message(paste(\"Saved:\", kb, r2), appendLF = F)\n",
    "        \n",
    "        # 2. Annotate whether finemapped snps were tested\n",
    "        this = finemapped\n",
    "        this$tested = ifelse(this$id %in% tags$SNP, T, F)\n",
    "\n",
    "        this = this %>% select(element_cond, tissue, id, tested) %>% distinct()\n",
    "        \n",
    "        for (dataset in c(\"eqtls\", \"caqtls\", \"haqtls\", \"all\")[4])\n",
    "        {\n",
    "            message(paste(kb, r2, dataset), appendLF = F)\n",
    "            \n",
    "            # 3. Get reference SNPs\n",
    "            ref_snps = ref_qtls[[dataset]]\n",
    "            ref_snps$position = suppressWarnings(unlist(lapply(ref_snps$id, function(x) { as.numeric(unlist(strsplit(x, \"_\"))[2]) })))\n",
    "            ref_snps = ref_snps %>% dplyr::filter(!is.na(position))\n",
    "            \n",
    "            # 4. Calculate distance\n",
    "            # Make bed for iPSCORE finemapped SNPs\n",
    "            \n",
    "            a = finemapped %>% \n",
    "                       select(chr, position) %>% \n",
    "                       mutate(end = position, \n",
    "                              chr = as.numeric(chr)) %>% \n",
    "                       arrange(chr, position) %>% \n",
    "                       mutate(chr = paste0(\"chr\", chr)) %>% \n",
    "                       distinct()\n",
    "            \n",
    "            b = ref_snps %>% \n",
    "                       mutate(chr = as.numeric(unlist(lapply(id, function(x) { unlist(strsplit(x, \"_\"))[1] })))) %>%\n",
    "                       dplyr::filter(chr %in% c(1:22)) %>% \n",
    "                       select(chr, position) %>% \n",
    "                       mutate(end = position) %>% \n",
    "                       arrange(chr, position) %>% \n",
    "                       mutate(chr = paste0(\"chr\", chr)) %>% \n",
    "                       distinct()\n",
    "            \n",
    "            # bedtools closes will output an error if chromosomes are not present in both\n",
    "            a = a %>% filter(chr %in% intersect(a$chr, b$chr))\n",
    "            b = b %>% filter(chr %in% intersect(a$chr, b$chr))\n",
    "            \n",
    "            fwrite(a, \"analyses/jennifer/scratch/a.bed\", row.names = F, sep = \"\\t\", col.names = F)\n",
    "            fwrite(b, \"analyses/jennifer/scratch/b.bed\", row.names = F, sep = \"\\t\", col.names = F)\n",
    "            \n",
    "            # Run bedtools intersect\n",
    "            a = \"analyses/jennifer/scratch/a.bed\"\n",
    "            b = \"analyses/jennifer/scratch/b.bed\"\n",
    "\n",
    "            message(nrow(fread(a, data.table = F)), appendLF = F)\n",
    "            message(nrow(fread(b, data.table = F)), appendLF = F)\n",
    "\n",
    "            cmd = paste(\"bedtools closest\", \"-a\", a, \"-b\", b, \"-d\")\n",
    "            message(cmd, appendLF = F)\n",
    "            dist = fread(cmd = cmd, data.table = F) %>% \n",
    "                mutate(id = gsub(\"chr\", \"\", paste(V1, V2, sep = \"_\")) ) %>% \n",
    "                dplyr::rename(dist = V7)\n",
    "            \n",
    "            # add distance to table\n",
    "            this2 = merge(this, dist %>% select(id, dist), by = \"id\", all.x = T) \n",
    "\n",
    "            # 5. Annotate whether in LD\n",
    "            # SNP are ipscore SNPs, TAGS are reference SNPs\n",
    "            this_tags = tags %>% \n",
    "                dplyr::filter(SNP %in% this$id) %>% \n",
    "                dplyr::filter(TAGS %in% ref_snps$id)\n",
    "            \n",
    "            this2$has_tag = ifelse(this2$id %in% this_tags$SNP, T, F)\n",
    "\n",
    "            # annotate\n",
    "            this2$in_ld = ifelse(this2$tested == T, \n",
    "                                 ifelse(this2$has_tag == T, T, F), \n",
    "                                 ifelse(this2$dist < 500e3, T, F))\n",
    "            \n",
    "            # in case some snps were not in 1000G paanel, annotate those that is in a ref snps\n",
    "            this2$in_ld = ifelse(this2$id %in% ref_snps$id, T, this2$in_ld)\n",
    "\n",
    "            this[,paste(\"in_ld\", dataset, sep = \"_\")] = ifelse(this$element_cond %in% this2[this2$in_ld == T,]$element_cond, T, F)\n",
    "        } \n",
    "        \n",
    "        ld_results[[paste(kb, r2)]] = this\n",
    "    }\n",
    "}\n",
    "    "
   ]
  },
  {
   "cell_type": "markdown",
   "metadata": {},
   "source": [
    "## for variants not in 1000 Genomes, and thus could not calculate LD, test by distance instead. variants within 500kb of an adult QTL were considered in LD with adult. "
   ]
  },
  {
   "cell_type": "code",
   "execution_count": 25,
   "metadata": {},
   "outputs": [
    {
     "data": {
      "text/html": [
       "<style>\n",
       ".list-inline {list-style: none; margin:0; padding: 0}\n",
       ".list-inline>li {display: inline-block}\n",
       ".list-inline>li:not(:last-child)::after {content: \"\\00b7\"; padding: 0 .5ex}\n",
       "</style>\n",
       "<ol class=list-inline><li>'1_100000098'</li><li>'1_100000104'</li><li>'1_100000223'</li><li>'1_100000236'</li><li>'1_100000270'</li><li>'1_100000434'</li></ol>\n"
      ],
      "text/latex": [
       "\\begin{enumerate*}\n",
       "\\item '1\\_100000098'\n",
       "\\item '1\\_100000104'\n",
       "\\item '1\\_100000223'\n",
       "\\item '1\\_100000236'\n",
       "\\item '1\\_100000270'\n",
       "\\item '1\\_100000434'\n",
       "\\end{enumerate*}\n"
      ],
      "text/markdown": [
       "1. '1_100000098'\n",
       "2. '1_100000104'\n",
       "3. '1_100000223'\n",
       "4. '1_100000236'\n",
       "5. '1_100000270'\n",
       "6. '1_100000434'\n",
       "\n",
       "\n"
      ],
      "text/plain": [
       "[1] \"1_100000098\" \"1_100000104\" \"1_100000223\" \"1_100000236\" \"1_100000270\"\n",
       "[6] \"1_100000434\""
      ]
     },
     "metadata": {},
     "output_type": "display_data"
    },
    {
     "name": "stderr",
     "output_type": "stream",
     "text": [
      "Warning message in eval(expr, envir, enclos):\n",
      "“NAs introduced by coercion”\n"
     ]
    },
    {
     "data": {
      "text/html": [
       "<table class=\"dataframe\">\n",
       "<caption>A data.frame: 2 × 7</caption>\n",
       "<thead>\n",
       "\t<tr><th></th><th scope=col>V1</th><th scope=col>V2</th><th scope=col>V3</th><th scope=col>V4</th><th scope=col>V5</th><th scope=col>V6</th><th scope=col>V7</th></tr>\n",
       "\t<tr><th></th><th scope=col>&lt;chr&gt;</th><th scope=col>&lt;int&gt;</th><th scope=col>&lt;int&gt;</th><th scope=col>&lt;chr&gt;</th><th scope=col>&lt;int&gt;</th><th scope=col>&lt;int&gt;</th><th scope=col>&lt;chr&gt;</th></tr>\n",
       "</thead>\n",
       "<tbody>\n",
       "\t<tr><th scope=row>1</th><td>chr1</td><td>111197723</td><td>111197723</td><td>chr1</td><td>111197723</td><td>111197723</td><td>cvpc_atac_peak_12953_0</td></tr>\n",
       "\t<tr><th scope=row>2</th><td>chr1</td><td>111197723</td><td>111197723</td><td>chr1</td><td>111197723</td><td>111197723</td><td>ipsc_atac_peak_9924_0 </td></tr>\n",
       "</tbody>\n",
       "</table>\n"
      ],
      "text/latex": [
       "A data.frame: 2 × 7\n",
       "\\begin{tabular}{r|lllllll}\n",
       "  & V1 & V2 & V3 & V4 & V5 & V6 & V7\\\\\n",
       "  & <chr> & <int> & <int> & <chr> & <int> & <int> & <chr>\\\\\n",
       "\\hline\n",
       "\t1 & chr1 & 111197723 & 111197723 & chr1 & 111197723 & 111197723 & cvpc\\_atac\\_peak\\_12953\\_0\\\\\n",
       "\t2 & chr1 & 111197723 & 111197723 & chr1 & 111197723 & 111197723 & ipsc\\_atac\\_peak\\_9924\\_0 \\\\\n",
       "\\end{tabular}\n"
      ],
      "text/markdown": [
       "\n",
       "A data.frame: 2 × 7\n",
       "\n",
       "| <!--/--> | V1 &lt;chr&gt; | V2 &lt;int&gt; | V3 &lt;int&gt; | V4 &lt;chr&gt; | V5 &lt;int&gt; | V6 &lt;int&gt; | V7 &lt;chr&gt; |\n",
       "|---|---|---|---|---|---|---|---|\n",
       "| 1 | chr1 | 111197723 | 111197723 | chr1 | 111197723 | 111197723 | cvpc_atac_peak_12953_0 |\n",
       "| 2 | chr1 | 111197723 | 111197723 | chr1 | 111197723 | 111197723 | ipsc_atac_peak_9924_0  |\n",
       "\n"
      ],
      "text/plain": [
       "  V1   V2        V3        V4   V5        V6        V7                    \n",
       "1 chr1 111197723 111197723 chr1 111197723 111197723 cvpc_atac_peak_12953_0\n",
       "2 chr1 111197723 111197723 chr1 111197723 111197723 ipsc_atac_peak_9924_0 "
      ]
     },
     "metadata": {},
     "output_type": "display_data"
    }
   ],
   "source": [
    "snps_1kg = readLines(\"analyses/jennifer/ipscore_unique_qtls/reference/snps.txt\")\n",
    "head(snps_1kg)\n",
    "\n",
    "ref_snps = ref_qtls[[\"all\"]]\n",
    "ref_snps$position = suppressWarnings(unlist(lapply(ref_snps$id, function(x) { as.numeric(unlist(strsplit(x, \"_\"))[2]) })))\n",
    "ref_snps = ref_snps %>% dplyr::filter(!is.na(position))\n",
    "ref_snps$tested = ifelse(ref_snps$id %in% snps_1kg, T, F)\n",
    "\n",
    "ref_snps = ref_snps %>% filter(tested == F) %>% select(id, position, tested) %>% distinct()\n",
    "ref_snps$chr = as.numeric(unlist(lapply(ref_snps$id, function(x) { unlist(strsplit(x, \"_\"))[1] }))) \n",
    "ref_snps = ref_snps %>% filter(chr %in% c(1:22))\n",
    "\n",
    "a = ref_snps %>% select(chr, position) %>% mutate(end = position, chr = paste0(\"chr\", chr)) \n",
    "fwrite(a, \"analyses/jennifer/scratch/a.bed\", row.names = F, sep = \"\\t\", col.names = F)\n",
    "\n",
    "b = finemapped %>% select(chr, position, element_cond) %>% mutate(end = position, chr = paste0(\"chr\", chr)) %>% select(chr, position, end, element_cond)\n",
    "fwrite(b, \"analyses/jennifer/scratch/b.bed\", row.names = F, sep = \"\\t\", col.names = F)\n",
    "\n",
    "a = \"analyses/jennifer/scratch/a.bed\"\n",
    "b = \"analyses/jennifer/scratch/b.bed\"\n",
    "cmd = paste(\"bedtools window\", \"-a\", a, \"-b\", b, \"-w\", 500000)\n",
    "int = fread(cmd = cmd, data.table = F)\n",
    "head(int,2)\n",
    "\n",
    "ld_results[[\"distance\"]] = int\n",
    "\n"
   ]
  },
  {
   "cell_type": "code",
   "execution_count": null,
   "metadata": {},
   "outputs": [],
   "source": [
    "save(ld_results, file = \"analyses/jennifer/ipscore_unique_qtls/results.robj\")"
   ]
  },
  {
   "cell_type": "markdown",
   "metadata": {},
   "source": [
    "## Annotate which QTLs were fetal-unique (i.e., EDev-unique)"
   ]
  },
  {
   "cell_type": "code",
   "execution_count": 3,
   "metadata": {},
   "outputs": [],
   "source": [
    "# load all qtls\n",
    "qtls = fread(\"analyses/jennifer/summary_files/all.qtls.no_mhc.txt\", data.table = F) %>% filter(new_egene == T & type == 0)"
   ]
  },
  {
   "cell_type": "code",
   "execution_count": 4,
   "metadata": {},
   "outputs": [
    {
     "name": "stdout",
     "output_type": "stream",
     "text": [
      "Loading objects:\n",
      "  ld_results\n"
     ]
    },
    {
     "data": {
      "text/html": [
       "<style>\n",
       ".list-inline {list-style: none; margin:0; padding: 0}\n",
       ".list-inline>li {display: inline-block}\n",
       ".list-inline>li:not(:last-child)::after {content: \"\\00b7\"; padding: 0 .5ex}\n",
       "</style>\n",
       "<ol class=list-inline><li>'500 0.1'</li><li>'500 0.2'</li><li>'500 0.7'</li><li>'500 0.8'</li><li>'distance'</li></ol>\n"
      ],
      "text/latex": [
       "\\begin{enumerate*}\n",
       "\\item '500 0.1'\n",
       "\\item '500 0.2'\n",
       "\\item '500 0.7'\n",
       "\\item '500 0.8'\n",
       "\\item 'distance'\n",
       "\\end{enumerate*}\n"
      ],
      "text/markdown": [
       "1. '500 0.1'\n",
       "2. '500 0.2'\n",
       "3. '500 0.7'\n",
       "4. '500 0.8'\n",
       "5. 'distance'\n",
       "\n",
       "\n"
      ],
      "text/plain": [
       "[1] \"500 0.1\"  \"500 0.2\"  \"500 0.7\"  \"500 0.8\"  \"distance\""
      ]
     },
     "metadata": {},
     "output_type": "display_data"
    },
    {
     "data": {
      "text/plain": [
       "\n",
       " FALSE   TRUE \n",
       "133947  15208 "
      ]
     },
     "metadata": {},
     "output_type": "display_data"
    }
   ],
   "source": [
    "load(\"analyses/jennifer/ipscore_unique_qtls/results.robj\", verbose = T)\n",
    "names(ld_results)\n",
    "ld = ld_results[[\"500 0.2\"]] %>% filter(element_cond %in% qtls$element_cond)\n",
    "ld$in_ld_dist = ifelse(ld$element_cond %in% ld_results[[\"distance\"]]$V7, T, F)\n",
    "ld$fetal_unique = ifelse(ld$in_ld_all == T | ld$in_ld_dist == T, F, T)\n",
    "table(ld$fetal_unique)\n"
   ]
  },
  {
   "cell_type": "code",
   "execution_count": 5,
   "metadata": {},
   "outputs": [],
   "source": [
    "mods = fread(\"analyses/jennifer/summary_files/all.qtl_modules.H4_0.8.txt\", data.table = F)\n",
    "mods$element_cond = ifelse(mods$element_cond %like% \"ENSG\", paste(tolower(mods$tissue), mods$element_cond, sep = \"_\"), mods$element_cond)\n",
    "mods$fetal_unique = ifelse(mods$element_cond %in% ld[ld$fetal_unique == T,]$element_cond, T, F)"
   ]
  },
  {
   "cell_type": "code",
   "execution_count": 6,
   "metadata": {},
   "outputs": [],
   "source": [
    "ld = merge(ld, mods[,c(\"element_cond\", \"cluster_id\")], by = \"element_cond\", all.x = T)"
   ]
  },
  {
   "cell_type": "code",
   "execution_count": 7,
   "metadata": {},
   "outputs": [
    {
     "data": {
      "text/plain": [
       "       \n",
       "        FALSE  TRUE\n",
       "  FALSE 52896     0\n",
       "  TRUE     82  7532"
      ]
     },
     "metadata": {},
     "output_type": "display_data"
    }
   ],
   "source": [
    "out = ld %>% select(element_cond, cluster_id, tissue) %>% distinct()\n",
    "out$analysis = ifelse(out$element_cond %like% \"atac\", \"caqtls\", ifelse(out$element_cond %like% \"chip\", \"haqtls\", \"eqtls\"))\n",
    "out$fetal_unique = ifelse(out$element_cond %in% ld[ld$fetal_unique == T,]$element_cond, T, F)\n",
    "out$fetal_unique_mod = ifelse(out$cluster_id %in% mods[mods$fetal_unique == F,]$cluster_id, F, T)\n",
    "\n",
    "table(out$fetal_unique, out$fetal_unique_mod)"
   ]
  },
  {
   "cell_type": "code",
   "execution_count": 8,
   "metadata": {},
   "outputs": [
    {
     "data": {
      "text/plain": [
       "        \n",
       "         FALSE  TRUE\n",
       "  caqtls 25708  4897\n",
       "  eqtls  18025  1280\n",
       "  haqtls  9163  1437"
      ]
     },
     "metadata": {},
     "output_type": "display_data"
    }
   ],
   "source": [
    "table(out$analysis, out$fetal_unique)"
   ]
  },
  {
   "cell_type": "code",
   "execution_count": 9,
   "metadata": {},
   "outputs": [],
   "source": [
    "out2 = merge(out, qtls[,c(\"element_cond\", \"element_id\", \"type\")], by = \"element_cond\")"
   ]
  },
  {
   "cell_type": "code",
   "execution_count": 13,
   "metadata": {},
   "outputs": [
    {
     "data": {
      "text/plain": [
       "\n",
       "FALSE  TRUE \n",
       "52896  7614 "
      ]
     },
     "metadata": {},
     "output_type": "display_data"
    }
   ],
   "source": [
    "table(out2$fetal_unique)"
   ]
  },
  {
   "cell_type": "code",
   "execution_count": 14,
   "metadata": {},
   "outputs": [],
   "source": [
    "fwrite(out2, \"analyses/jennifer/summary_files/fetal_unique.txt\", row.names = F, sep = \"\\t\")"
   ]
  }
 ],
 "metadata": {
  "kernelspec": {
   "display_name": "R 4.2.1",
   "language": "R",
   "name": "ir421"
  },
  "language_info": {
   "codemirror_mode": "r",
   "file_extension": ".r",
   "mimetype": "text/x-r-source",
   "name": "R",
   "pygments_lexer": "r",
   "version": "4.2.1"
  }
 },
 "nbformat": 4,
 "nbformat_minor": 2
}
