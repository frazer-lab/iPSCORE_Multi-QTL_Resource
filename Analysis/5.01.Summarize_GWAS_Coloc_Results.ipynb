{
 "cells": [
  {
   "cell_type": "code",
   "execution_count": 1,
   "metadata": {},
   "outputs": [],
   "source": [
    "setwd(\"/projects/CARDIPS/analysis/epigenome_resource\")\n",
    "suppressPackageStartupMessages(source(\"analyses/jennifer/notebooks/functions.R\"))\n",
    "\n",
    "set.seed(5366)"
   ]
  },
  {
   "cell_type": "code",
   "execution_count": 2,
   "metadata": {},
   "outputs": [],
   "source": [
    "tissues = c(\"iPSC\", \"PPC\", \"CVPC\")\n",
    "analyses = c(\"eqtls\", \"caqtls\", \"haqtls\")"
   ]
  },
  {
   "cell_type": "markdown",
   "metadata": {},
   "source": [
    "# Summarize and process GWAS colocalization results"
   ]
  },
  {
   "cell_type": "markdown",
   "metadata": {},
   "source": [
    "## load manifest"
   ]
  },
  {
   "cell_type": "code",
   "execution_count": 3,
   "metadata": {},
   "outputs": [
    {
     "data": {
      "text/html": [
       "<table class=\"dataframe\">\n",
       "<caption>A data.frame: 2 × 8</caption>\n",
       "<thead>\n",
       "\t<tr><th></th><th scope=col>trait_id</th><th scope=col>trait_type</th><th scope=col>coding_description</th><th scope=col>description</th><th scope=col>full_trait_id</th><th scope=col>filename</th><th scope=col>exists</th><th scope=col>taskid</th></tr>\n",
       "\t<tr><th></th><th scope=col>&lt;chr&gt;</th><th scope=col>&lt;chr&gt;</th><th scope=col>&lt;chr&gt;</th><th scope=col>&lt;chr&gt;</th><th scope=col>&lt;chr&gt;</th><th scope=col>&lt;chr&gt;</th><th scope=col>&lt;lgl&gt;</th><th scope=col>&lt;int&gt;</th></tr>\n",
       "</thead>\n",
       "<tbody>\n",
       "\t<tr><th scope=row>1</th><td>healthspan_summary                    </td><td>continuous</td><td></td><td>Healthspan</td><td>healthspan_summary                    </td><td>/projects/CARDIPS/analysis/epigenome_resource/analyses/tim/gwas_liftover/hg38_summary_statistics/healthspan_summary.hg38.tsv.gz                    </td><td>TRUE</td><td>1</td></tr>\n",
       "\t<tr><th scope=row>2</th><td>lifegen_phase2_bothpl_alldr_2017_09_18</td><td>continuous</td><td></td><td>Longevity </td><td>lifegen_phase2_bothpl_alldr_2017_09_18</td><td>/projects/CARDIPS/analysis/epigenome_resource/analyses/tim/gwas_liftover/hg38_summary_statistics/lifegen_phase2_bothpl_alldr_2017_09_18.hg38.tsv.gz</td><td>TRUE</td><td>2</td></tr>\n",
       "</tbody>\n",
       "</table>\n"
      ],
      "text/latex": [
       "A data.frame: 2 × 8\n",
       "\\begin{tabular}{r|llllllll}\n",
       "  & trait\\_id & trait\\_type & coding\\_description & description & full\\_trait\\_id & filename & exists & taskid\\\\\n",
       "  & <chr> & <chr> & <chr> & <chr> & <chr> & <chr> & <lgl> & <int>\\\\\n",
       "\\hline\n",
       "\t1 & healthspan\\_summary                     & continuous &  & Healthspan & healthspan\\_summary                     & /projects/CARDIPS/analysis/epigenome\\_resource/analyses/tim/gwas\\_liftover/hg38\\_summary\\_statistics/healthspan\\_summary.hg38.tsv.gz                     & TRUE & 1\\\\\n",
       "\t2 & lifegen\\_phase2\\_bothpl\\_alldr\\_2017\\_09\\_18 & continuous &  & Longevity  & lifegen\\_phase2\\_bothpl\\_alldr\\_2017\\_09\\_18 & /projects/CARDIPS/analysis/epigenome\\_resource/analyses/tim/gwas\\_liftover/hg38\\_summary\\_statistics/lifegen\\_phase2\\_bothpl\\_alldr\\_2017\\_09\\_18.hg38.tsv.gz & TRUE & 2\\\\\n",
       "\\end{tabular}\n"
      ],
      "text/markdown": [
       "\n",
       "A data.frame: 2 × 8\n",
       "\n",
       "| <!--/--> | trait_id &lt;chr&gt; | trait_type &lt;chr&gt; | coding_description &lt;chr&gt; | description &lt;chr&gt; | full_trait_id &lt;chr&gt; | filename &lt;chr&gt; | exists &lt;lgl&gt; | taskid &lt;int&gt; |\n",
       "|---|---|---|---|---|---|---|---|---|\n",
       "| 1 | healthspan_summary                     | continuous | <!----> | Healthspan | healthspan_summary                     | /projects/CARDIPS/analysis/epigenome_resource/analyses/tim/gwas_liftover/hg38_summary_statistics/healthspan_summary.hg38.tsv.gz                     | TRUE | 1 |\n",
       "| 2 | lifegen_phase2_bothpl_alldr_2017_09_18 | continuous | <!----> | Longevity  | lifegen_phase2_bothpl_alldr_2017_09_18 | /projects/CARDIPS/analysis/epigenome_resource/analyses/tim/gwas_liftover/hg38_summary_statistics/lifegen_phase2_bothpl_alldr_2017_09_18.hg38.tsv.gz | TRUE | 2 |\n",
       "\n"
      ],
      "text/plain": [
       "  trait_id                               trait_type coding_description\n",
       "1 healthspan_summary                     continuous                   \n",
       "2 lifegen_phase2_bothpl_alldr_2017_09_18 continuous                   \n",
       "  description full_trait_id                         \n",
       "1 Healthspan  healthspan_summary                    \n",
       "2 Longevity   lifegen_phase2_bothpl_alldr_2017_09_18\n",
       "  filename                                                                                                                                           \n",
       "1 /projects/CARDIPS/analysis/epigenome_resource/analyses/tim/gwas_liftover/hg38_summary_statistics/healthspan_summary.hg38.tsv.gz                    \n",
       "2 /projects/CARDIPS/analysis/epigenome_resource/analyses/tim/gwas_liftover/hg38_summary_statistics/lifegen_phase2_bothpl_alldr_2017_09_18.hg38.tsv.gz\n",
       "  exists taskid\n",
       "1 TRUE   1     \n",
       "2 TRUE   2     "
      ]
     },
     "metadata": {},
     "output_type": "display_data"
    }
   ],
   "source": [
    "manifest_file = \"/projects/CARDIPS/analysis/epigenome_resource/analyses/jennifer/gwas_coloc/input/manifest.txt\"\n",
    "manifest = fread(manifest_file, data.table = F)\n",
    "\n",
    "manifest %>% head(2)"
   ]
  },
  {
   "cell_type": "markdown",
   "metadata": {},
   "source": [
    "## check if there's input"
   ]
  },
  {
   "cell_type": "code",
   "execution_count": 12,
   "metadata": {},
   "outputs": [],
   "source": [
    "# for (t in tissues)\n",
    "# {\n",
    "#     for (a in analyses)\n",
    "#     {\n",
    "#         files = list.files(paste(\"analyses/jennifer/gwas_coloc\", a, t, sep = \"/\"))\n",
    "#         message(paste(t, a, length(files)), appendLF = F)\n",
    "#     }\n",
    "# }"
   ]
  },
  {
   "cell_type": "markdown",
   "metadata": {},
   "source": [
    "## for each tissue and QTL type, summarize GWAS results "
   ]
  },
  {
   "cell_type": "code",
   "execution_count": null,
   "metadata": {},
   "outputs": [],
   "source": [
    "pipeline = \"/projects/CARDIPS/analysis/epigenome_resource/analyses/jennifer/notebooks/08.04.summarize_gwas.R\"\n",
    "\n",
    "for (t in tissues)\n",
    "{\n",
    "    for (a in analyses)\n",
    "    {\n",
    "        files = list.files(paste(\"analyses/jennifer/gwas_coloc\", a, t, sep = \"/\"))\n",
    "        if (length(files) > 0)\n",
    "        {\n",
    "            cmd = paste(\"Rscript\", pipeline, \"--analysis\", a, \"--tissue\", t)\n",
    "            log_out = paste(getwd(), \"analyses/jennifer/gwas_coloc/logs\", paste(a, t, \"summarize.out\", sep = \"_\"), sep = \"/\")\n",
    "            log_err = paste(getwd(), \"analyses/jennifer/gwas_coloc/logs\", paste(a, t, \"summarize.err\", sep = \"_\"), sep = \"/\")\n",
    "            run_qsub(name = paste(a, t, sep = \"_\"), cmd = cmd, threads = 4, log_out = log_out, log_err = log_err, exec = T)\n",
    "        }\n",
    "    }\n",
    "}\n"
   ]
  },
  {
   "cell_type": "markdown",
   "metadata": {},
   "source": [
    "## aggregate each summary"
   ]
  },
  {
   "cell_type": "code",
   "execution_count": 18,
   "metadata": {},
   "outputs": [
    {
     "name": "stderr",
     "output_type": "stream",
     "text": [
      "iPSC eqtls\n",
      "iPSC caqtls\n",
      "iPSC haqtls\n",
      "PPC eqtls\n",
      "PPC caqtls\n",
      "PPC haqtls\n",
      "CVPC eqtls\n",
      "CVPC caqtls\n",
      "CVPC haqtls\n"
     ]
    }
   ],
   "source": [
    "summary = as.data.frame(rbindlist(lapply(tissues, function(t)\n",
    "{\n",
    "    as.data.frame(rbindlist(lapply(analyses, function(a)\n",
    "    {\n",
    "        message(paste(t, a), appendLF = F)\n",
    "        file = paste(\"analyses/jennifer/gwas_coloc\", paste(paste(a, t, \"summary\", sep = \"_\"), \"txt\", sep = \".\"), sep = \"/\")\n",
    "        if (file.exists(file))\n",
    "        {\n",
    "            fread(file, data.table = F)\n",
    "        }\n",
    "    })))\n",
    "}))) %>% mutate(p.gwas = as.double(p.gwas), p.eqtl = as.double(p.eqtl)) %>% dplyr::rename(type = discovery_order) %>% filter(type == 0)\n"
   ]
  },
  {
   "cell_type": "code",
   "execution_count": 19,
   "metadata": {},
   "outputs": [
    {
     "data": {
      "text/plain": [
       "\n",
       "      0 \n",
       "1846395 "
      ]
     },
     "metadata": {},
     "output_type": "display_data"
    }
   ],
   "source": [
    "table(summary$type)"
   ]
  },
  {
   "cell_type": "code",
   "execution_count": 20,
   "metadata": {},
   "outputs": [
    {
     "data": {
      "text/html": [
       "<table class=\"dataframe\">\n",
       "<caption>A data.frame: 2 × 25</caption>\n",
       "<thead>\n",
       "\t<tr><th></th><th scope=col>analysis</th><th scope=col>tissue</th><th scope=col>qtl_id</th><th scope=col>element_id</th><th scope=col>type</th><th scope=col>trait_id</th><th scope=col>nsnps</th><th scope=col>PP.H0.abf</th><th scope=col>PP.H1.abf</th><th scope=col>PP.H2.abf</th><th scope=col>⋯</th><th scope=col>topsnp</th><th scope=col>topsnp_pp</th><th scope=col>beta.eqtl</th><th scope=col>se.eqtl</th><th scope=col>p.eqtl</th><th scope=col>beta.gwas</th><th scope=col>se.gwas</th><th scope=col>p.gwas</th><th scope=col>bonferroni.eqtl</th><th scope=col>cs_size</th></tr>\n",
       "\t<tr><th></th><th scope=col>&lt;chr&gt;</th><th scope=col>&lt;chr&gt;</th><th scope=col>&lt;chr&gt;</th><th scope=col>&lt;chr&gt;</th><th scope=col>&lt;int&gt;</th><th scope=col>&lt;chr&gt;</th><th scope=col>&lt;int&gt;</th><th scope=col>&lt;dbl&gt;</th><th scope=col>&lt;dbl&gt;</th><th scope=col>&lt;dbl&gt;</th><th scope=col>⋯</th><th scope=col>&lt;chr&gt;</th><th scope=col>&lt;dbl&gt;</th><th scope=col>&lt;dbl&gt;</th><th scope=col>&lt;dbl&gt;</th><th scope=col>&lt;dbl&gt;</th><th scope=col>&lt;dbl&gt;</th><th scope=col>&lt;dbl&gt;</th><th scope=col>&lt;dbl&gt;</th><th scope=col>&lt;dbl&gt;</th><th scope=col>&lt;int&gt;</th></tr>\n",
       "</thead>\n",
       "<tbody>\n",
       "\t<tr><th scope=row>1</th><td>eqtls</td><td>iPSC</td><td>0-ENSG00000000460.17</td><td>ENSG00000000460.17</td><td>0</td><td>biomarkers-30690-both_sexes-irnt.eur </td><td>5301</td><td>0.1831085</td><td>0.6395308</td><td>0.02392711</td><td>⋯</td><td>VAR_1_169804722_A_C</td><td>0.01158138</td><td>0.8196584</td><td>0.1416713</td><td>1.546628e-09</td><td>-0.01193</td><td>0.004174</td><td>0.004255984</td><td>8.231152e-06</td><td>526</td></tr>\n",
       "\t<tr><th scope=row>2</th><td>eqtls</td><td>iPSC</td><td>0-ENSG00000000460.17</td><td>ENSG00000000460.17</td><td>0</td><td>biomarkers-30690-both_sexes-irnt.meta</td><td>5301</td><td>0.1606204</td><td>0.5609879</td><td>0.03642126</td><td>⋯</td><td>VAR_1_169804722_A_C</td><td>0.01136916</td><td>0.8196584</td><td>0.1416713</td><td>1.546628e-09</td><td>-0.01259</td><td>0.004102</td><td>0.002152782</td><td>8.231152e-06</td><td>482</td></tr>\n",
       "</tbody>\n",
       "</table>\n"
      ],
      "text/latex": [
       "A data.frame: 2 × 25\n",
       "\\begin{tabular}{r|lllllllllllllllllllll}\n",
       "  & analysis & tissue & qtl\\_id & element\\_id & type & trait\\_id & nsnps & PP.H0.abf & PP.H1.abf & PP.H2.abf & ⋯ & topsnp & topsnp\\_pp & beta.eqtl & se.eqtl & p.eqtl & beta.gwas & se.gwas & p.gwas & bonferroni.eqtl & cs\\_size\\\\\n",
       "  & <chr> & <chr> & <chr> & <chr> & <int> & <chr> & <int> & <dbl> & <dbl> & <dbl> & ⋯ & <chr> & <dbl> & <dbl> & <dbl> & <dbl> & <dbl> & <dbl> & <dbl> & <dbl> & <int>\\\\\n",
       "\\hline\n",
       "\t1 & eqtls & iPSC & 0-ENSG00000000460.17 & ENSG00000000460.17 & 0 & biomarkers-30690-both\\_sexes-irnt.eur  & 5301 & 0.1831085 & 0.6395308 & 0.02392711 & ⋯ & VAR\\_1\\_169804722\\_A\\_C & 0.01158138 & 0.8196584 & 0.1416713 & 1.546628e-09 & -0.01193 & 0.004174 & 0.004255984 & 8.231152e-06 & 526\\\\\n",
       "\t2 & eqtls & iPSC & 0-ENSG00000000460.17 & ENSG00000000460.17 & 0 & biomarkers-30690-both\\_sexes-irnt.meta & 5301 & 0.1606204 & 0.5609879 & 0.03642126 & ⋯ & VAR\\_1\\_169804722\\_A\\_C & 0.01136916 & 0.8196584 & 0.1416713 & 1.546628e-09 & -0.01259 & 0.004102 & 0.002152782 & 8.231152e-06 & 482\\\\\n",
       "\\end{tabular}\n"
      ],
      "text/markdown": [
       "\n",
       "A data.frame: 2 × 25\n",
       "\n",
       "| <!--/--> | analysis &lt;chr&gt; | tissue &lt;chr&gt; | qtl_id &lt;chr&gt; | element_id &lt;chr&gt; | type &lt;int&gt; | trait_id &lt;chr&gt; | nsnps &lt;int&gt; | PP.H0.abf &lt;dbl&gt; | PP.H1.abf &lt;dbl&gt; | PP.H2.abf &lt;dbl&gt; | ⋯ ⋯ | topsnp &lt;chr&gt; | topsnp_pp &lt;dbl&gt; | beta.eqtl &lt;dbl&gt; | se.eqtl &lt;dbl&gt; | p.eqtl &lt;dbl&gt; | beta.gwas &lt;dbl&gt; | se.gwas &lt;dbl&gt; | p.gwas &lt;dbl&gt; | bonferroni.eqtl &lt;dbl&gt; | cs_size &lt;int&gt; |\n",
       "|---|---|---|---|---|---|---|---|---|---|---|---|---|---|---|---|---|---|---|---|---|---|\n",
       "| 1 | eqtls | iPSC | 0-ENSG00000000460.17 | ENSG00000000460.17 | 0 | biomarkers-30690-both_sexes-irnt.eur  | 5301 | 0.1831085 | 0.6395308 | 0.02392711 | ⋯ | VAR_1_169804722_A_C | 0.01158138 | 0.8196584 | 0.1416713 | 1.546628e-09 | -0.01193 | 0.004174 | 0.004255984 | 8.231152e-06 | 526 |\n",
       "| 2 | eqtls | iPSC | 0-ENSG00000000460.17 | ENSG00000000460.17 | 0 | biomarkers-30690-both_sexes-irnt.meta | 5301 | 0.1606204 | 0.5609879 | 0.03642126 | ⋯ | VAR_1_169804722_A_C | 0.01136916 | 0.8196584 | 0.1416713 | 1.546628e-09 | -0.01259 | 0.004102 | 0.002152782 | 8.231152e-06 | 482 |\n",
       "\n"
      ],
      "text/plain": [
       "  analysis tissue qtl_id               element_id         type\n",
       "1 eqtls    iPSC   0-ENSG00000000460.17 ENSG00000000460.17 0   \n",
       "2 eqtls    iPSC   0-ENSG00000000460.17 ENSG00000000460.17 0   \n",
       "  trait_id                              nsnps PP.H0.abf PP.H1.abf PP.H2.abf  ⋯\n",
       "1 biomarkers-30690-both_sexes-irnt.eur  5301  0.1831085 0.6395308 0.02392711 ⋯\n",
       "2 biomarkers-30690-both_sexes-irnt.meta 5301  0.1606204 0.5609879 0.03642126 ⋯\n",
       "  topsnp              topsnp_pp  beta.eqtl se.eqtl   p.eqtl       beta.gwas\n",
       "1 VAR_1_169804722_A_C 0.01158138 0.8196584 0.1416713 1.546628e-09 -0.01193 \n",
       "2 VAR_1_169804722_A_C 0.01136916 0.8196584 0.1416713 1.546628e-09 -0.01259 \n",
       "  se.gwas  p.gwas      bonferroni.eqtl cs_size\n",
       "1 0.004174 0.004255984 8.231152e-06    526    \n",
       "2 0.004102 0.002152782 8.231152e-06    482    "
      ]
     },
     "metadata": {},
     "output_type": "display_data"
    }
   ],
   "source": [
    "head(summary,2)"
   ]
  },
  {
   "cell_type": "markdown",
   "metadata": {},
   "source": [
    "## add trait description"
   ]
  },
  {
   "cell_type": "code",
   "execution_count": 21,
   "metadata": {},
   "outputs": [],
   "source": [
    "summary2 = merge(summary %>% dplyr::rename(full_trait_id = trait_id), \n",
    "                 manifest[,c(\"trait_id\", \"full_trait_id\", \"description\")], by = \"full_trait_id\", all.x = T)"
   ]
  },
  {
   "cell_type": "code",
   "execution_count": 22,
   "metadata": {},
   "outputs": [
    {
     "data": {
      "text/html": [
       "<table class=\"dataframe\">\n",
       "<caption>A data.frame: 0 × 7</caption>\n",
       "<thead>\n",
       "\t<tr><th scope=col>trait_id</th><th scope=col>trait_type</th><th scope=col>coding_description</th><th scope=col>description</th><th scope=col>full_trait_id</th><th scope=col>filename</th><th scope=col>exists</th></tr>\n",
       "\t<tr><th scope=col>&lt;chr&gt;</th><th scope=col>&lt;chr&gt;</th><th scope=col>&lt;lgl&gt;</th><th scope=col>&lt;chr&gt;</th><th scope=col>&lt;chr&gt;</th><th scope=col>&lt;chr&gt;</th><th scope=col>&lt;lgl&gt;</th></tr>\n",
       "</thead>\n",
       "<tbody>\n",
       "</tbody>\n",
       "</table>\n"
      ],
      "text/latex": [
       "A data.frame: 0 × 7\n",
       "\\begin{tabular}{lllllll}\n",
       " trait\\_id & trait\\_type & coding\\_description & description & full\\_trait\\_id & filename & exists\\\\\n",
       " <chr> & <chr> & <lgl> & <chr> & <chr> & <chr> & <lgl>\\\\\n",
       "\\hline\n",
       "\\end{tabular}\n"
      ],
      "text/markdown": [
       "\n",
       "A data.frame: 0 × 7\n",
       "\n",
       "| trait_id &lt;chr&gt; | trait_type &lt;chr&gt; | coding_description &lt;lgl&gt; | description &lt;chr&gt; | full_trait_id &lt;chr&gt; | filename &lt;chr&gt; | exists &lt;lgl&gt; |\n",
       "|---|---|---|---|---|---|---|\n",
       "\n"
      ],
      "text/plain": [
       "     trait_id trait_type coding_description description full_trait_id filename\n",
       "     exists"
      ]
     },
     "metadata": {},
     "output_type": "display_data"
    }
   ],
   "source": [
    "sub_manifest = fread(\"analyses/jennifer/gwas_independent/subset_manifest.txt\", data.table = F)\n",
    "sub_manifest %>% filter(!full_trait_id %in% summary2$full_trait_id)"
   ]
  },
  {
   "cell_type": "code",
   "execution_count": 23,
   "metadata": {},
   "outputs": [
    {
     "data": {
      "text/html": [
       "<style>\n",
       ".list-inline {list-style: none; margin:0; padding: 0}\n",
       ".list-inline>li {display: inline-block}\n",
       ".list-inline>li:not(:last-child)::after {content: \"\\00b7\"; padding: 0 .5ex}\n",
       "</style>\n",
       "<ol class=list-inline><li>'alzeimer dimentia'</li><li>'all psychiatric disorders'</li><li>'all psychiatric disorders (meta)'</li><li>'Cholesterol'</li><li>'Glucose'</li><li>'HDL cholesterol'</li><li>'LDL direct'</li><li>'birth weight (eur)'</li><li>'birth weight (transethnic)'</li><li>'Cancer code, self-reported'</li><li>'Non-cancer illness code, self-reported'</li><li>'simvastatin'</li><li>'insulin product'</li><li>'metformin'</li><li>'Diabetes'</li><li>'childhood obesity (eur)'</li><li>'Ventricular rate'</li><li>'P duration'</li><li>'QRS duration'</li><li>'Birth weight'</li><li>'Body mass index (BMI)'</li><li>'Weight'</li><li>'White blood cell (leukocyte) count'</li><li>'Red blood cell (erythrocyte) count'</li><li>'Haemoglobin concentration'</li><li>'Haematocrit percentage'</li><li>'Mean corpuscular volume'</li><li>'Mean corpuscular haemoglobin'</li><li>'Mean corpuscular haemoglobin concentration'</li><li>'Red blood cell (erythrocyte) distribution width'</li><li>'Platelet count'</li><li>'Platelet crit'</li><li>'Mean platelet (thrombocyte) volume'</li><li>'Platelet distribution width'</li><li>'Lymphocyte count'</li><li>'Monocyte count'</li><li>'Neutrophill count'</li><li>'Eosinophill count'</li><li>'Basophill count'</li><li>'Lymphocyte percentage'</li><li>'Monocyte percentage'</li><li>'Neutrophill percentage'</li><li>'Eosinophill percentage'</li><li>'Basophill percentage'</li><li>'Reticulocyte percentage'</li><li>'Reticulocyte count'</li><li>'Mean reticulocyte volume'</li><li>'Mean sphered cell volume'</li><li>'Immature reticulocyte fraction'</li><li>'High light scatter reticulocyte percentage'</li><li>'High light scatter reticulocyte count'</li><li>'Pulse rate'</li><li>'Standing height'</li><li>'ECG, heart rate'</li><li>'Diastolic blood pressure, combined automated + manual reading, adjusted by medication'</li><li>'LDL direct, adjusted by medication'</li><li>'Mean arterial pressure, combined automated + manual reading, adjusted by medication'</li><li>'Pulse pressure, combined automated + manual reading, adjusted by medication'</li><li>'Systolic blood pressure, combined automated + manual reading, adjusted by medication'</li><li>'type_1_diabetes'</li><li>'head circumferance birth'</li><li>'head circumferance infancy'</li><li>'Healthspan'</li><li>'E10 Insulin-dependent diabetes mellitus'</li><li>'E11 Non-insulin-dependent diabetes mellitus'</li><li>'H25 Senile cataract'</li><li>'H40 Glaucoma'</li><li>'I20 Angina pectoris'</li><li>'I21 Acute myocardial infarction'</li><li>'I25 Chronic ischaemic heart disease'</li><li>'I44 Atrioventricular and left bundle-branch block'</li><li>'I48 Atrial fibrillation and flutter'</li><li>'I50 Heart failure'</li><li>'I95 Hypotension'</li><li>'Longevity'</li><li>'2-hour glucose post-challenge'</li><li>'fasting glucose'</li><li>'type 2 diabetes'</li><li>'parkinsons'</li><li>'Disorders of iron metabolism'</li><li>'Iron deficiency anemias'</li><li>'Iron deficiency anemias, unspecified or not due to blood loss'</li><li>'Other deficiency anemia'</li><li>'Megaloblastic anemia'</li><li>'Pernicious anemia'</li><li>'Other vitamin B12 deficiency anemia'</li><li>'Folate-deficiency anemia'</li><li>'Hereditary hemolytic anemias'</li><li>'Other anemias'</li><li>'Coagulation defects'</li><li>'Congenital coagulation defects'</li><li>'Von willebrand\\'s disease'</li><li>'Congenital deficiency of other clotting factors (including factor VII)'</li><li>'Defibrination syndrome'</li><li>'Other and unspecified coagulation defects'</li><li>'Purpura and other hemorrhagic conditions'</li><li>'Primary thrombocytopenia'</li><li>'Secondary thrombocytopenia'</li><li>'Diseases of white blood cells'</li><li>'Other diseases of blood and blood-forming organs'</li><li>'Personal history of diseases of blood and blood-forming organs'</li><li>'Lymphadenitis'</li><li>'Polycythemia, secondary'</li><li>'Inflammatory bowel disease and other gastroenteritis and colitis'</li><li>'Ankylosing spondylitis'</li><li>'Multivariate Longevity'</li></ol>\n"
      ],
      "text/latex": [
       "\\begin{enumerate*}\n",
       "\\item 'alzeimer dimentia'\n",
       "\\item 'all psychiatric disorders'\n",
       "\\item 'all psychiatric disorders (meta)'\n",
       "\\item 'Cholesterol'\n",
       "\\item 'Glucose'\n",
       "\\item 'HDL cholesterol'\n",
       "\\item 'LDL direct'\n",
       "\\item 'birth weight (eur)'\n",
       "\\item 'birth weight (transethnic)'\n",
       "\\item 'Cancer code, self-reported'\n",
       "\\item 'Non-cancer illness code, self-reported'\n",
       "\\item 'simvastatin'\n",
       "\\item 'insulin product'\n",
       "\\item 'metformin'\n",
       "\\item 'Diabetes'\n",
       "\\item 'childhood obesity (eur)'\n",
       "\\item 'Ventricular rate'\n",
       "\\item 'P duration'\n",
       "\\item 'QRS duration'\n",
       "\\item 'Birth weight'\n",
       "\\item 'Body mass index (BMI)'\n",
       "\\item 'Weight'\n",
       "\\item 'White blood cell (leukocyte) count'\n",
       "\\item 'Red blood cell (erythrocyte) count'\n",
       "\\item 'Haemoglobin concentration'\n",
       "\\item 'Haematocrit percentage'\n",
       "\\item 'Mean corpuscular volume'\n",
       "\\item 'Mean corpuscular haemoglobin'\n",
       "\\item 'Mean corpuscular haemoglobin concentration'\n",
       "\\item 'Red blood cell (erythrocyte) distribution width'\n",
       "\\item 'Platelet count'\n",
       "\\item 'Platelet crit'\n",
       "\\item 'Mean platelet (thrombocyte) volume'\n",
       "\\item 'Platelet distribution width'\n",
       "\\item 'Lymphocyte count'\n",
       "\\item 'Monocyte count'\n",
       "\\item 'Neutrophill count'\n",
       "\\item 'Eosinophill count'\n",
       "\\item 'Basophill count'\n",
       "\\item 'Lymphocyte percentage'\n",
       "\\item 'Monocyte percentage'\n",
       "\\item 'Neutrophill percentage'\n",
       "\\item 'Eosinophill percentage'\n",
       "\\item 'Basophill percentage'\n",
       "\\item 'Reticulocyte percentage'\n",
       "\\item 'Reticulocyte count'\n",
       "\\item 'Mean reticulocyte volume'\n",
       "\\item 'Mean sphered cell volume'\n",
       "\\item 'Immature reticulocyte fraction'\n",
       "\\item 'High light scatter reticulocyte percentage'\n",
       "\\item 'High light scatter reticulocyte count'\n",
       "\\item 'Pulse rate'\n",
       "\\item 'Standing height'\n",
       "\\item 'ECG, heart rate'\n",
       "\\item 'Diastolic blood pressure, combined automated + manual reading, adjusted by medication'\n",
       "\\item 'LDL direct, adjusted by medication'\n",
       "\\item 'Mean arterial pressure, combined automated + manual reading, adjusted by medication'\n",
       "\\item 'Pulse pressure, combined automated + manual reading, adjusted by medication'\n",
       "\\item 'Systolic blood pressure, combined automated + manual reading, adjusted by medication'\n",
       "\\item 'type\\_1\\_diabetes'\n",
       "\\item 'head circumferance birth'\n",
       "\\item 'head circumferance infancy'\n",
       "\\item 'Healthspan'\n",
       "\\item 'E10 Insulin-dependent diabetes mellitus'\n",
       "\\item 'E11 Non-insulin-dependent diabetes mellitus'\n",
       "\\item 'H25 Senile cataract'\n",
       "\\item 'H40 Glaucoma'\n",
       "\\item 'I20 Angina pectoris'\n",
       "\\item 'I21 Acute myocardial infarction'\n",
       "\\item 'I25 Chronic ischaemic heart disease'\n",
       "\\item 'I44 Atrioventricular and left bundle-branch block'\n",
       "\\item 'I48 Atrial fibrillation and flutter'\n",
       "\\item 'I50 Heart failure'\n",
       "\\item 'I95 Hypotension'\n",
       "\\item 'Longevity'\n",
       "\\item '2-hour glucose post-challenge'\n",
       "\\item 'fasting glucose'\n",
       "\\item 'type 2 diabetes'\n",
       "\\item 'parkinsons'\n",
       "\\item 'Disorders of iron metabolism'\n",
       "\\item 'Iron deficiency anemias'\n",
       "\\item 'Iron deficiency anemias, unspecified or not due to blood loss'\n",
       "\\item 'Other deficiency anemia'\n",
       "\\item 'Megaloblastic anemia'\n",
       "\\item 'Pernicious anemia'\n",
       "\\item 'Other vitamin B12 deficiency anemia'\n",
       "\\item 'Folate-deficiency anemia'\n",
       "\\item 'Hereditary hemolytic anemias'\n",
       "\\item 'Other anemias'\n",
       "\\item 'Coagulation defects'\n",
       "\\item 'Congenital coagulation defects'\n",
       "\\item 'Von willebrand\\textbackslash{}'s disease'\n",
       "\\item 'Congenital deficiency of other clotting factors (including factor VII)'\n",
       "\\item 'Defibrination syndrome'\n",
       "\\item 'Other and unspecified coagulation defects'\n",
       "\\item 'Purpura and other hemorrhagic conditions'\n",
       "\\item 'Primary thrombocytopenia'\n",
       "\\item 'Secondary thrombocytopenia'\n",
       "\\item 'Diseases of white blood cells'\n",
       "\\item 'Other diseases of blood and blood-forming organs'\n",
       "\\item 'Personal history of diseases of blood and blood-forming organs'\n",
       "\\item 'Lymphadenitis'\n",
       "\\item 'Polycythemia, secondary'\n",
       "\\item 'Inflammatory bowel disease and other gastroenteritis and colitis'\n",
       "\\item 'Ankylosing spondylitis'\n",
       "\\item 'Multivariate Longevity'\n",
       "\\end{enumerate*}\n"
      ],
      "text/markdown": [
       "1. 'alzeimer dimentia'\n",
       "2. 'all psychiatric disorders'\n",
       "3. 'all psychiatric disorders (meta)'\n",
       "4. 'Cholesterol'\n",
       "5. 'Glucose'\n",
       "6. 'HDL cholesterol'\n",
       "7. 'LDL direct'\n",
       "8. 'birth weight (eur)'\n",
       "9. 'birth weight (transethnic)'\n",
       "10. 'Cancer code, self-reported'\n",
       "11. 'Non-cancer illness code, self-reported'\n",
       "12. 'simvastatin'\n",
       "13. 'insulin product'\n",
       "14. 'metformin'\n",
       "15. 'Diabetes'\n",
       "16. 'childhood obesity (eur)'\n",
       "17. 'Ventricular rate'\n",
       "18. 'P duration'\n",
       "19. 'QRS duration'\n",
       "20. 'Birth weight'\n",
       "21. 'Body mass index (BMI)'\n",
       "22. 'Weight'\n",
       "23. 'White blood cell (leukocyte) count'\n",
       "24. 'Red blood cell (erythrocyte) count'\n",
       "25. 'Haemoglobin concentration'\n",
       "26. 'Haematocrit percentage'\n",
       "27. 'Mean corpuscular volume'\n",
       "28. 'Mean corpuscular haemoglobin'\n",
       "29. 'Mean corpuscular haemoglobin concentration'\n",
       "30. 'Red blood cell (erythrocyte) distribution width'\n",
       "31. 'Platelet count'\n",
       "32. 'Platelet crit'\n",
       "33. 'Mean platelet (thrombocyte) volume'\n",
       "34. 'Platelet distribution width'\n",
       "35. 'Lymphocyte count'\n",
       "36. 'Monocyte count'\n",
       "37. 'Neutrophill count'\n",
       "38. 'Eosinophill count'\n",
       "39. 'Basophill count'\n",
       "40. 'Lymphocyte percentage'\n",
       "41. 'Monocyte percentage'\n",
       "42. 'Neutrophill percentage'\n",
       "43. 'Eosinophill percentage'\n",
       "44. 'Basophill percentage'\n",
       "45. 'Reticulocyte percentage'\n",
       "46. 'Reticulocyte count'\n",
       "47. 'Mean reticulocyte volume'\n",
       "48. 'Mean sphered cell volume'\n",
       "49. 'Immature reticulocyte fraction'\n",
       "50. 'High light scatter reticulocyte percentage'\n",
       "51. 'High light scatter reticulocyte count'\n",
       "52. 'Pulse rate'\n",
       "53. 'Standing height'\n",
       "54. 'ECG, heart rate'\n",
       "55. 'Diastolic blood pressure, combined automated + manual reading, adjusted by medication'\n",
       "56. 'LDL direct, adjusted by medication'\n",
       "57. 'Mean arterial pressure, combined automated + manual reading, adjusted by medication'\n",
       "58. 'Pulse pressure, combined automated + manual reading, adjusted by medication'\n",
       "59. 'Systolic blood pressure, combined automated + manual reading, adjusted by medication'\n",
       "60. 'type_1_diabetes'\n",
       "61. 'head circumferance birth'\n",
       "62. 'head circumferance infancy'\n",
       "63. 'Healthspan'\n",
       "64. 'E10 Insulin-dependent diabetes mellitus'\n",
       "65. 'E11 Non-insulin-dependent diabetes mellitus'\n",
       "66. 'H25 Senile cataract'\n",
       "67. 'H40 Glaucoma'\n",
       "68. 'I20 Angina pectoris'\n",
       "69. 'I21 Acute myocardial infarction'\n",
       "70. 'I25 Chronic ischaemic heart disease'\n",
       "71. 'I44 Atrioventricular and left bundle-branch block'\n",
       "72. 'I48 Atrial fibrillation and flutter'\n",
       "73. 'I50 Heart failure'\n",
       "74. 'I95 Hypotension'\n",
       "75. 'Longevity'\n",
       "76. '2-hour glucose post-challenge'\n",
       "77. 'fasting glucose'\n",
       "78. 'type 2 diabetes'\n",
       "79. 'parkinsons'\n",
       "80. 'Disorders of iron metabolism'\n",
       "81. 'Iron deficiency anemias'\n",
       "82. 'Iron deficiency anemias, unspecified or not due to blood loss'\n",
       "83. 'Other deficiency anemia'\n",
       "84. 'Megaloblastic anemia'\n",
       "85. 'Pernicious anemia'\n",
       "86. 'Other vitamin B12 deficiency anemia'\n",
       "87. 'Folate-deficiency anemia'\n",
       "88. 'Hereditary hemolytic anemias'\n",
       "89. 'Other anemias'\n",
       "90. 'Coagulation defects'\n",
       "91. 'Congenital coagulation defects'\n",
       "92. 'Von willebrand\\'s disease'\n",
       "93. 'Congenital deficiency of other clotting factors (including factor VII)'\n",
       "94. 'Defibrination syndrome'\n",
       "95. 'Other and unspecified coagulation defects'\n",
       "96. 'Purpura and other hemorrhagic conditions'\n",
       "97. 'Primary thrombocytopenia'\n",
       "98. 'Secondary thrombocytopenia'\n",
       "99. 'Diseases of white blood cells'\n",
       "100. 'Other diseases of blood and blood-forming organs'\n",
       "101. 'Personal history of diseases of blood and blood-forming organs'\n",
       "102. 'Lymphadenitis'\n",
       "103. 'Polycythemia, secondary'\n",
       "104. 'Inflammatory bowel disease and other gastroenteritis and colitis'\n",
       "105. 'Ankylosing spondylitis'\n",
       "106. 'Multivariate Longevity'\n",
       "\n",
       "\n"
      ],
      "text/plain": [
       "  [1] \"alzeimer dimentia\"                                                                    \n",
       "  [2] \"all psychiatric disorders\"                                                            \n",
       "  [3] \"all psychiatric disorders (meta)\"                                                     \n",
       "  [4] \"Cholesterol\"                                                                          \n",
       "  [5] \"Glucose\"                                                                              \n",
       "  [6] \"HDL cholesterol\"                                                                      \n",
       "  [7] \"LDL direct\"                                                                           \n",
       "  [8] \"birth weight (eur)\"                                                                   \n",
       "  [9] \"birth weight (transethnic)\"                                                           \n",
       " [10] \"Cancer code, self-reported\"                                                           \n",
       " [11] \"Non-cancer illness code, self-reported\"                                               \n",
       " [12] \"simvastatin\"                                                                          \n",
       " [13] \"insulin product\"                                                                      \n",
       " [14] \"metformin\"                                                                            \n",
       " [15] \"Diabetes\"                                                                             \n",
       " [16] \"childhood obesity (eur)\"                                                              \n",
       " [17] \"Ventricular rate\"                                                                     \n",
       " [18] \"P duration\"                                                                           \n",
       " [19] \"QRS duration\"                                                                         \n",
       " [20] \"Birth weight\"                                                                         \n",
       " [21] \"Body mass index (BMI)\"                                                                \n",
       " [22] \"Weight\"                                                                               \n",
       " [23] \"White blood cell (leukocyte) count\"                                                   \n",
       " [24] \"Red blood cell (erythrocyte) count\"                                                   \n",
       " [25] \"Haemoglobin concentration\"                                                            \n",
       " [26] \"Haematocrit percentage\"                                                               \n",
       " [27] \"Mean corpuscular volume\"                                                              \n",
       " [28] \"Mean corpuscular haemoglobin\"                                                         \n",
       " [29] \"Mean corpuscular haemoglobin concentration\"                                           \n",
       " [30] \"Red blood cell (erythrocyte) distribution width\"                                      \n",
       " [31] \"Platelet count\"                                                                       \n",
       " [32] \"Platelet crit\"                                                                        \n",
       " [33] \"Mean platelet (thrombocyte) volume\"                                                   \n",
       " [34] \"Platelet distribution width\"                                                          \n",
       " [35] \"Lymphocyte count\"                                                                     \n",
       " [36] \"Monocyte count\"                                                                       \n",
       " [37] \"Neutrophill count\"                                                                    \n",
       " [38] \"Eosinophill count\"                                                                    \n",
       " [39] \"Basophill count\"                                                                      \n",
       " [40] \"Lymphocyte percentage\"                                                                \n",
       " [41] \"Monocyte percentage\"                                                                  \n",
       " [42] \"Neutrophill percentage\"                                                               \n",
       " [43] \"Eosinophill percentage\"                                                               \n",
       " [44] \"Basophill percentage\"                                                                 \n",
       " [45] \"Reticulocyte percentage\"                                                              \n",
       " [46] \"Reticulocyte count\"                                                                   \n",
       " [47] \"Mean reticulocyte volume\"                                                             \n",
       " [48] \"Mean sphered cell volume\"                                                             \n",
       " [49] \"Immature reticulocyte fraction\"                                                       \n",
       " [50] \"High light scatter reticulocyte percentage\"                                           \n",
       " [51] \"High light scatter reticulocyte count\"                                                \n",
       " [52] \"Pulse rate\"                                                                           \n",
       " [53] \"Standing height\"                                                                      \n",
       " [54] \"ECG, heart rate\"                                                                      \n",
       " [55] \"Diastolic blood pressure, combined automated + manual reading, adjusted by medication\"\n",
       " [56] \"LDL direct, adjusted by medication\"                                                   \n",
       " [57] \"Mean arterial pressure, combined automated + manual reading, adjusted by medication\"  \n",
       " [58] \"Pulse pressure, combined automated + manual reading, adjusted by medication\"          \n",
       " [59] \"Systolic blood pressure, combined automated + manual reading, adjusted by medication\" \n",
       " [60] \"type_1_diabetes\"                                                                      \n",
       " [61] \"head circumferance birth\"                                                             \n",
       " [62] \"head circumferance infancy\"                                                           \n",
       " [63] \"Healthspan\"                                                                           \n",
       " [64] \"E10 Insulin-dependent diabetes mellitus\"                                              \n",
       " [65] \"E11 Non-insulin-dependent diabetes mellitus\"                                          \n",
       " [66] \"H25 Senile cataract\"                                                                  \n",
       " [67] \"H40 Glaucoma\"                                                                         \n",
       " [68] \"I20 Angina pectoris\"                                                                  \n",
       " [69] \"I21 Acute myocardial infarction\"                                                      \n",
       " [70] \"I25 Chronic ischaemic heart disease\"                                                  \n",
       " [71] \"I44 Atrioventricular and left bundle-branch block\"                                    \n",
       " [72] \"I48 Atrial fibrillation and flutter\"                                                  \n",
       " [73] \"I50 Heart failure\"                                                                    \n",
       " [74] \"I95 Hypotension\"                                                                      \n",
       " [75] \"Longevity\"                                                                            \n",
       " [76] \"2-hour glucose post-challenge\"                                                        \n",
       " [77] \"fasting glucose\"                                                                      \n",
       " [78] \"type 2 diabetes\"                                                                      \n",
       " [79] \"parkinsons\"                                                                           \n",
       " [80] \"Disorders of iron metabolism\"                                                         \n",
       " [81] \"Iron deficiency anemias\"                                                              \n",
       " [82] \"Iron deficiency anemias, unspecified or not due to blood loss\"                        \n",
       " [83] \"Other deficiency anemia\"                                                              \n",
       " [84] \"Megaloblastic anemia\"                                                                 \n",
       " [85] \"Pernicious anemia\"                                                                    \n",
       " [86] \"Other vitamin B12 deficiency anemia\"                                                  \n",
       " [87] \"Folate-deficiency anemia\"                                                             \n",
       " [88] \"Hereditary hemolytic anemias\"                                                         \n",
       " [89] \"Other anemias\"                                                                        \n",
       " [90] \"Coagulation defects\"                                                                  \n",
       " [91] \"Congenital coagulation defects\"                                                       \n",
       " [92] \"Von willebrand's disease\"                                                             \n",
       " [93] \"Congenital deficiency of other clotting factors (including factor VII)\"               \n",
       " [94] \"Defibrination syndrome\"                                                               \n",
       " [95] \"Other and unspecified coagulation defects\"                                            \n",
       " [96] \"Purpura and other hemorrhagic conditions\"                                             \n",
       " [97] \"Primary thrombocytopenia\"                                                             \n",
       " [98] \"Secondary thrombocytopenia\"                                                           \n",
       " [99] \"Diseases of white blood cells\"                                                        \n",
       "[100] \"Other diseases of blood and blood-forming organs\"                                     \n",
       "[101] \"Personal history of diseases of blood and blood-forming organs\"                       \n",
       "[102] \"Lymphadenitis\"                                                                        \n",
       "[103] \"Polycythemia, secondary\"                                                              \n",
       "[104] \"Inflammatory bowel disease and other gastroenteritis and colitis\"                     \n",
       "[105] \"Ankylosing spondylitis\"                                                               \n",
       "[106] \"Multivariate Longevity\"                                                               "
      ]
     },
     "metadata": {},
     "output_type": "display_data"
    }
   ],
   "source": [
    "unique(summary2$description)"
   ]
  },
  {
   "cell_type": "markdown",
   "metadata": {},
   "source": [
    "## add gene and peak coordinates"
   ]
  },
  {
   "cell_type": "code",
   "execution_count": 24,
   "metadata": {},
   "outputs": [],
   "source": [
    "element_info = fread(\"analyses/jennifer/summary_files/all.phenotype_info.txt\", data.table = F)"
   ]
  },
  {
   "cell_type": "code",
   "execution_count": 25,
   "metadata": {},
   "outputs": [
    {
     "data": {
      "text/html": [
       "<table class=\"dataframe\">\n",
       "<caption>A data.frame: 2 × 6</caption>\n",
       "<thead>\n",
       "\t<tr><th></th><th scope=col>element_chr</th><th scope=col>element_start</th><th scope=col>element_end</th><th scope=col>element_id</th><th scope=col>element_name</th><th scope=col>element_strand</th></tr>\n",
       "\t<tr><th></th><th scope=col>&lt;chr&gt;</th><th scope=col>&lt;int&gt;</th><th scope=col>&lt;int&gt;</th><th scope=col>&lt;chr&gt;</th><th scope=col>&lt;chr&gt;</th><th scope=col>&lt;chr&gt;</th></tr>\n",
       "</thead>\n",
       "<tbody>\n",
       "\t<tr><th scope=row>1</th><td>chr1</td><td>11869</td><td>14409</td><td>ENSG00000290825.1</td><td>DDX11L2</td><td>+</td></tr>\n",
       "\t<tr><th scope=row>2</th><td>chr1</td><td>12010</td><td>13670</td><td>ENSG00000223972.6</td><td>DDX11L1</td><td>+</td></tr>\n",
       "</tbody>\n",
       "</table>\n"
      ],
      "text/latex": [
       "A data.frame: 2 × 6\n",
       "\\begin{tabular}{r|llllll}\n",
       "  & element\\_chr & element\\_start & element\\_end & element\\_id & element\\_name & element\\_strand\\\\\n",
       "  & <chr> & <int> & <int> & <chr> & <chr> & <chr>\\\\\n",
       "\\hline\n",
       "\t1 & chr1 & 11869 & 14409 & ENSG00000290825.1 & DDX11L2 & +\\\\\n",
       "\t2 & chr1 & 12010 & 13670 & ENSG00000223972.6 & DDX11L1 & +\\\\\n",
       "\\end{tabular}\n"
      ],
      "text/markdown": [
       "\n",
       "A data.frame: 2 × 6\n",
       "\n",
       "| <!--/--> | element_chr &lt;chr&gt; | element_start &lt;int&gt; | element_end &lt;int&gt; | element_id &lt;chr&gt; | element_name &lt;chr&gt; | element_strand &lt;chr&gt; |\n",
       "|---|---|---|---|---|---|---|\n",
       "| 1 | chr1 | 11869 | 14409 | ENSG00000290825.1 | DDX11L2 | + |\n",
       "| 2 | chr1 | 12010 | 13670 | ENSG00000223972.6 | DDX11L1 | + |\n",
       "\n"
      ],
      "text/plain": [
       "  element_chr element_start element_end element_id        element_name\n",
       "1 chr1        11869         14409       ENSG00000290825.1 DDX11L2     \n",
       "2 chr1        12010         13670       ENSG00000223972.6 DDX11L1     \n",
       "  element_strand\n",
       "1 +             \n",
       "2 +             "
      ]
     },
     "metadata": {},
     "output_type": "display_data"
    }
   ],
   "source": [
    "head(element_info,2)"
   ]
  },
  {
   "cell_type": "code",
   "execution_count": 44,
   "metadata": {},
   "outputs": [
    {
     "name": "stderr",
     "output_type": "stream",
     "text": [
      "Warning message in cbind(parts$left, chars$ellip_h, parts$right, deparse.level = 0L):\n",
      "“number of rows of result is not a multiple of vector length (arg 2)”\n",
      "Warning message in cbind(parts$left, chars$ellip_h, parts$right, deparse.level = 0L):\n",
      "“number of rows of result is not a multiple of vector length (arg 2)”\n",
      "Warning message in cbind(parts$left, chars$ellip_h, parts$right, deparse.level = 0L):\n",
      "“number of rows of result is not a multiple of vector length (arg 2)”\n",
      "Warning message in cbind(parts$left, chars$ellip_h, parts$right, deparse.level = 0L):\n",
      "“number of rows of result is not a multiple of vector length (arg 2)”\n"
     ]
    },
    {
     "data": {
      "text/html": [
       "<table class=\"dataframe\">\n",
       "<caption>A data.frame: 0 × 33</caption>\n",
       "<thead>\n",
       "\t<tr><th scope=col>element_id</th><th scope=col>element_chr</th><th scope=col>element_start</th><th scope=col>element_end</th><th scope=col>element_name</th><th scope=col>element_strand</th><th scope=col>full_trait_id</th><th scope=col>analysis</th><th scope=col>tissue</th><th scope=col>qtl_id</th><th scope=col>⋯</th><th scope=col>se.eqtl</th><th scope=col>p.eqtl</th><th scope=col>beta.gwas</th><th scope=col>se.gwas</th><th scope=col>p.gwas</th><th scope=col>bonferroni.eqtl</th><th scope=col>cs_size</th><th scope=col>trait_id</th><th scope=col>description</th><th scope=col>element_cond</th></tr>\n",
       "\t<tr><th scope=col>&lt;chr&gt;</th><th scope=col>&lt;chr&gt;</th><th scope=col>&lt;int&gt;</th><th scope=col>&lt;int&gt;</th><th scope=col>&lt;chr&gt;</th><th scope=col>&lt;chr&gt;</th><th scope=col>&lt;chr&gt;</th><th scope=col>&lt;chr&gt;</th><th scope=col>&lt;chr&gt;</th><th scope=col>&lt;chr&gt;</th><th scope=col>⋯</th><th scope=col>&lt;dbl&gt;</th><th scope=col>&lt;dbl&gt;</th><th scope=col>&lt;dbl&gt;</th><th scope=col>&lt;dbl&gt;</th><th scope=col>&lt;dbl&gt;</th><th scope=col>&lt;dbl&gt;</th><th scope=col>&lt;int&gt;</th><th scope=col>&lt;chr&gt;</th><th scope=col>&lt;chr&gt;</th><th scope=col>&lt;chr&gt;</th></tr>\n",
       "</thead>\n",
       "<tbody>\n",
       "</tbody>\n",
       "</table>\n"
      ],
      "text/latex": [
       "A data.frame: 0 × 33\n",
       "\\begin{tabular}{lllllllllllllllllllll}\n",
       " element\\_id & element\\_chr & element\\_start & element\\_end & element\\_name & element\\_strand & full\\_trait\\_id & analysis & tissue & qtl\\_id & ⋯ & se.eqtl & p.eqtl & beta.gwas & se.gwas & p.gwas & bonferroni.eqtl & cs\\_size & trait\\_id & description & element\\_cond\\\\\n",
       " <chr> & <chr> & <int> & <int> & <chr> & <chr> & <chr> & <chr> & <chr> & <chr> & ⋯ & <dbl> & <dbl> & <dbl> & <dbl> & <dbl> & <dbl> & <int> & <chr> & <chr> & <chr>\\\\\n",
       "\\hline\n",
       "\\end{tabular}\n"
      ],
      "text/markdown": [
       "\n",
       "A data.frame: 0 × 33\n",
       "\n",
       "| element_id &lt;chr&gt; | element_chr &lt;chr&gt; | element_start &lt;int&gt; | element_end &lt;int&gt; | element_name &lt;chr&gt; | element_strand &lt;chr&gt; | full_trait_id &lt;chr&gt; | analysis &lt;chr&gt; | tissue &lt;chr&gt; | qtl_id &lt;chr&gt; | ⋯ ⋯ | se.eqtl &lt;dbl&gt; | p.eqtl &lt;dbl&gt; | beta.gwas &lt;dbl&gt; | se.gwas &lt;dbl&gt; | p.gwas &lt;dbl&gt; | bonferroni.eqtl &lt;dbl&gt; | cs_size &lt;int&gt; | trait_id &lt;chr&gt; | description &lt;chr&gt; | element_cond &lt;chr&gt; |\n",
       "|---|---|---|---|---|---|---|---|---|---|---|---|---|---|---|---|---|---|---|---|---|\n",
       "\n"
      ],
      "text/plain": [
       "     element_id element_chr element_start element_end element_name\n",
       "     element_strand full_trait_id analysis tissue qtl_id ⋯ se.eqtl p.eqtl\n",
       "     beta.gwas se.gwas p.gwas bonferroni.eqtl cs_size trait_id description\n",
       "     element_cond"
      ]
     },
     "metadata": {},
     "output_type": "display_data"
    }
   ],
   "source": [
    "summary3 = merge(element_info, summary2, by = \"element_id\", all.y = T)\n",
    "summary3$element_cond = paste(summary3$element_id, summary3$type, sep = \"_\")\n",
    "\n",
    "# check that all elements have coordinates\n",
    "summary3 %>% filter(is.na(element_start))"
   ]
  },
  {
   "cell_type": "markdown",
   "metadata": {},
   "source": [
    "## filter for significant QTLs"
   ]
  },
  {
   "cell_type": "code",
   "execution_count": 45,
   "metadata": {},
   "outputs": [
    {
     "data": {
      "text/html": [
       "<table class=\"dataframe\">\n",
       "<caption>A data.frame: 3 × 21</caption>\n",
       "<thead>\n",
       "\t<tr><th></th><th scope=col>element_id</th><th scope=col>element_chr</th><th scope=col>element_start</th><th scope=col>element_end</th><th scope=col>element_name</th><th scope=col>element_strand</th><th scope=col>type</th><th scope=col>id</th><th scope=col>beta</th><th scope=col>se</th><th scope=col>⋯</th><th scope=col>fdr</th><th scope=col>qval</th><th scope=col>filt_qval</th><th scope=col>egene</th><th scope=col>new_egene</th><th scope=col>tissue</th><th scope=col>analysis</th><th scope=col>element_cond</th><th scope=col>pos</th><th scope=col>distance_from_tss</th></tr>\n",
       "\t<tr><th></th><th scope=col>&lt;chr&gt;</th><th scope=col>&lt;chr&gt;</th><th scope=col>&lt;int&gt;</th><th scope=col>&lt;int&gt;</th><th scope=col>&lt;chr&gt;</th><th scope=col>&lt;chr&gt;</th><th scope=col>&lt;int&gt;</th><th scope=col>&lt;chr&gt;</th><th scope=col>&lt;dbl&gt;</th><th scope=col>&lt;dbl&gt;</th><th scope=col>⋯</th><th scope=col>&lt;dbl&gt;</th><th scope=col>&lt;dbl&gt;</th><th scope=col>&lt;dbl&gt;</th><th scope=col>&lt;lgl&gt;</th><th scope=col>&lt;lgl&gt;</th><th scope=col>&lt;chr&gt;</th><th scope=col>&lt;chr&gt;</th><th scope=col>&lt;chr&gt;</th><th scope=col>&lt;dbl&gt;</th><th scope=col>&lt;dbl&gt;</th></tr>\n",
       "</thead>\n",
       "<tbody>\n",
       "\t<tr><th scope=row>1</th><td>cvpc_atac_peak_10001 </td><td>chr1 </td><td>76511208</td><td>76511727</td><td>cvpc_atac_peak_10001 </td><td></td><td>0</td><td>VAR_1_76511517_G_A </td><td>-1.3113800</td><td>0.2110911</td><td>⋯</td><td>5.070823e-09</td><td>5.525888e-07</td><td>5.543115e-07</td><td>TRUE</td><td>TRUE</td><td>CVPC</td><td>caqtls</td><td>cvpc_atac_peak_10001_0 </td><td>76511517</td><td>NA</td></tr>\n",
       "\t<tr><th scope=row>2</th><td>cvpc_atac_peak_100016</td><td>chr16</td><td>83066964</td><td>83067348</td><td>cvpc_atac_peak_100016</td><td></td><td>0</td><td>VAR_16_83050845_T_A</td><td>-1.5819262</td><td>0.3322844</td><td>⋯</td><td>3.768682e-04</td><td>1.089547e-02</td><td>1.090663e-02</td><td>TRUE</td><td>TRUE</td><td>CVPC</td><td>caqtls</td><td>cvpc_atac_peak_100016_0</td><td>83050845</td><td>NA</td></tr>\n",
       "\t<tr><th scope=row>3</th><td>cvpc_atac_peak_100021</td><td>chr16</td><td>83146307</td><td>83146659</td><td>cvpc_atac_peak_100021</td><td></td><td>0</td><td>VAR_16_83143805_T_C</td><td> 0.9875124</td><td>0.1916778</td><td>⋯</td><td>3.345122e-05</td><td>1.416101e-03</td><td>1.418007e-03</td><td>TRUE</td><td>TRUE</td><td>CVPC</td><td>caqtls</td><td>cvpc_atac_peak_100021_0</td><td>83143805</td><td>NA</td></tr>\n",
       "</tbody>\n",
       "</table>\n"
      ],
      "text/latex": [
       "A data.frame: 3 × 21\n",
       "\\begin{tabular}{r|lllllllllllllllllllll}\n",
       "  & element\\_id & element\\_chr & element\\_start & element\\_end & element\\_name & element\\_strand & type & id & beta & se & ⋯ & fdr & qval & filt\\_qval & egene & new\\_egene & tissue & analysis & element\\_cond & pos & distance\\_from\\_tss\\\\\n",
       "  & <chr> & <chr> & <int> & <int> & <chr> & <chr> & <int> & <chr> & <dbl> & <dbl> & ⋯ & <dbl> & <dbl> & <dbl> & <lgl> & <lgl> & <chr> & <chr> & <chr> & <dbl> & <dbl>\\\\\n",
       "\\hline\n",
       "\t1 & cvpc\\_atac\\_peak\\_10001  & chr1  & 76511208 & 76511727 & cvpc\\_atac\\_peak\\_10001  &  & 0 & VAR\\_1\\_76511517\\_G\\_A  & -1.3113800 & 0.2110911 & ⋯ & 5.070823e-09 & 5.525888e-07 & 5.543115e-07 & TRUE & TRUE & CVPC & caqtls & cvpc\\_atac\\_peak\\_10001\\_0  & 76511517 & NA\\\\\n",
       "\t2 & cvpc\\_atac\\_peak\\_100016 & chr16 & 83066964 & 83067348 & cvpc\\_atac\\_peak\\_100016 &  & 0 & VAR\\_16\\_83050845\\_T\\_A & -1.5819262 & 0.3322844 & ⋯ & 3.768682e-04 & 1.089547e-02 & 1.090663e-02 & TRUE & TRUE & CVPC & caqtls & cvpc\\_atac\\_peak\\_100016\\_0 & 83050845 & NA\\\\\n",
       "\t3 & cvpc\\_atac\\_peak\\_100021 & chr16 & 83146307 & 83146659 & cvpc\\_atac\\_peak\\_100021 &  & 0 & VAR\\_16\\_83143805\\_T\\_C &  0.9875124 & 0.1916778 & ⋯ & 3.345122e-05 & 1.416101e-03 & 1.418007e-03 & TRUE & TRUE & CVPC & caqtls & cvpc\\_atac\\_peak\\_100021\\_0 & 83143805 & NA\\\\\n",
       "\\end{tabular}\n"
      ],
      "text/markdown": [
       "\n",
       "A data.frame: 3 × 21\n",
       "\n",
       "| <!--/--> | element_id &lt;chr&gt; | element_chr &lt;chr&gt; | element_start &lt;int&gt; | element_end &lt;int&gt; | element_name &lt;chr&gt; | element_strand &lt;chr&gt; | type &lt;int&gt; | id &lt;chr&gt; | beta &lt;dbl&gt; | se &lt;dbl&gt; | ⋯ ⋯ | fdr &lt;dbl&gt; | qval &lt;dbl&gt; | filt_qval &lt;dbl&gt; | egene &lt;lgl&gt; | new_egene &lt;lgl&gt; | tissue &lt;chr&gt; | analysis &lt;chr&gt; | element_cond &lt;chr&gt; | pos &lt;dbl&gt; | distance_from_tss &lt;dbl&gt; |\n",
       "|---|---|---|---|---|---|---|---|---|---|---|---|---|---|---|---|---|---|---|---|---|---|\n",
       "| 1 | cvpc_atac_peak_10001  | chr1  | 76511208 | 76511727 | cvpc_atac_peak_10001  | <!----> | 0 | VAR_1_76511517_G_A  | -1.3113800 | 0.2110911 | ⋯ | 5.070823e-09 | 5.525888e-07 | 5.543115e-07 | TRUE | TRUE | CVPC | caqtls | cvpc_atac_peak_10001_0  | 76511517 | NA |\n",
       "| 2 | cvpc_atac_peak_100016 | chr16 | 83066964 | 83067348 | cvpc_atac_peak_100016 | <!----> | 0 | VAR_16_83050845_T_A | -1.5819262 | 0.3322844 | ⋯ | 3.768682e-04 | 1.089547e-02 | 1.090663e-02 | TRUE | TRUE | CVPC | caqtls | cvpc_atac_peak_100016_0 | 83050845 | NA |\n",
       "| 3 | cvpc_atac_peak_100021 | chr16 | 83146307 | 83146659 | cvpc_atac_peak_100021 | <!----> | 0 | VAR_16_83143805_T_C |  0.9875124 | 0.1916778 | ⋯ | 3.345122e-05 | 1.416101e-03 | 1.418007e-03 | TRUE | TRUE | CVPC | caqtls | cvpc_atac_peak_100021_0 | 83143805 | NA |\n",
       "\n"
      ],
      "text/plain": [
       "  element_id            element_chr element_start element_end\n",
       "1 cvpc_atac_peak_10001  chr1        76511208      76511727   \n",
       "2 cvpc_atac_peak_100016 chr16       83066964      83067348   \n",
       "3 cvpc_atac_peak_100021 chr16       83146307      83146659   \n",
       "  element_name          element_strand type id                  beta      \n",
       "1 cvpc_atac_peak_10001                 0    VAR_1_76511517_G_A  -1.3113800\n",
       "2 cvpc_atac_peak_100016                0    VAR_16_83050845_T_A -1.5819262\n",
       "3 cvpc_atac_peak_100021                0    VAR_16_83143805_T_C  0.9875124\n",
       "  se        ⋯ fdr          qval         filt_qval    egene new_egene tissue\n",
       "1 0.2110911 ⋯ 5.070823e-09 5.525888e-07 5.543115e-07 TRUE  TRUE      CVPC  \n",
       "2 0.3322844 ⋯ 3.768682e-04 1.089547e-02 1.090663e-02 TRUE  TRUE      CVPC  \n",
       "3 0.1916778 ⋯ 3.345122e-05 1.416101e-03 1.418007e-03 TRUE  TRUE      CVPC  \n",
       "  analysis element_cond            pos      distance_from_tss\n",
       "1 caqtls   cvpc_atac_peak_10001_0  76511517 NA               \n",
       "2 caqtls   cvpc_atac_peak_100016_0 83050845 NA               \n",
       "3 caqtls   cvpc_atac_peak_100021_0 83143805 NA               "
      ]
     },
     "metadata": {},
     "output_type": "display_data"
    },
    {
     "data": {
      "text/html": [
       "60510"
      ],
      "text/latex": [
       "60510"
      ],
      "text/markdown": [
       "60510"
      ],
      "text/plain": [
       "[1] 60510"
      ]
     },
     "metadata": {},
     "output_type": "display_data"
    }
   ],
   "source": [
    "all_qtls = fread(\"analyses/jennifer/summary_files/all.qtls.no_mhc.txt\", data.table = F) %>% distinct() %>% filter(new_egene == T & type == 0)\n",
    "head(all_qtls,3)\n",
    "\n",
    "length(unique(all_qtls$element_cond))"
   ]
  },
  {
   "cell_type": "code",
   "execution_count": 46,
   "metadata": {},
   "outputs": [
    {
     "data": {
      "text/plain": [
       "      \n",
       "       caqtls eqtls haqtls\n",
       "  CVPC  11239  4837   8937\n",
       "  iPSC   9053  9012   1663\n",
       "  PPC   10313  5456      0"
      ]
     },
     "metadata": {},
     "output_type": "display_data"
    }
   ],
   "source": [
    "# check that all qtls are present\n",
    "table(all_qtls$tissue, all_qtls$analysis)"
   ]
  },
  {
   "cell_type": "code",
   "execution_count": 47,
   "metadata": {},
   "outputs": [],
   "source": [
    "summary4 = summary3 \n",
    "\n",
    "summary4$element_cond = ifelse(summary4$analysis == \"eqtls\", \n",
    "                               paste(tolower(summary4$tissue), summary4$element_cond, sep = \"_\"), \n",
    "                               summary4$element_cond)\n",
    "\n",
    "# summary4 = summary4 %>% filter(element_cond %in% all_qtls$element_cond)"
   ]
  },
  {
   "cell_type": "code",
   "execution_count": 49,
   "metadata": {},
   "outputs": [
    {
     "name": "stderr",
     "output_type": "stream",
     "text": [
      "Did not test: 279\n",
      "\n"
     ]
    },
    {
     "data": {
      "text/html": [
       "<style>\n",
       ".list-inline {list-style: none; margin:0; padding: 0}\n",
       ".list-inline>li {display: inline-block}\n",
       ".list-inline>li:not(:last-child)::after {content: \"\\00b7\"; padding: 0 .5ex}\n",
       "</style>\n",
       "<ol class=list-inline><li>'cvpc_atac_peak_103546_0'</li><li>'cvpc_atac_peak_103548_0'</li><li>'cvpc_atac_peak_103779_0'</li><li>'cvpc_atac_peak_132767_0'</li><li>'cvpc_atac_peak_132889_0'</li><li>'cvpc_atac_peak_132901_0'</li></ol>\n"
      ],
      "text/latex": [
       "\\begin{enumerate*}\n",
       "\\item 'cvpc\\_atac\\_peak\\_103546\\_0'\n",
       "\\item 'cvpc\\_atac\\_peak\\_103548\\_0'\n",
       "\\item 'cvpc\\_atac\\_peak\\_103779\\_0'\n",
       "\\item 'cvpc\\_atac\\_peak\\_132767\\_0'\n",
       "\\item 'cvpc\\_atac\\_peak\\_132889\\_0'\n",
       "\\item 'cvpc\\_atac\\_peak\\_132901\\_0'\n",
       "\\end{enumerate*}\n"
      ],
      "text/markdown": [
       "1. 'cvpc_atac_peak_103546_0'\n",
       "2. 'cvpc_atac_peak_103548_0'\n",
       "3. 'cvpc_atac_peak_103779_0'\n",
       "4. 'cvpc_atac_peak_132767_0'\n",
       "5. 'cvpc_atac_peak_132889_0'\n",
       "6. 'cvpc_atac_peak_132901_0'\n",
       "\n",
       "\n"
      ],
      "text/plain": [
       "[1] \"cvpc_atac_peak_103546_0\" \"cvpc_atac_peak_103548_0\"\n",
       "[3] \"cvpc_atac_peak_103779_0\" \"cvpc_atac_peak_132767_0\"\n",
       "[5] \"cvpc_atac_peak_132889_0\" \"cvpc_atac_peak_132901_0\""
      ]
     },
     "metadata": {},
     "output_type": "display_data"
    }
   ],
   "source": [
    "message(paste(\"Did not test:\", length(unique(all_qtls[!all_qtls$element_cond %in% summary4$element_cond,]$element_cond))))\n",
    "\n",
    "# These could not be tested because overlap with gwas  < 50 snps or no GWAS peaks below significance\n",
    "head(all_qtls[!all_qtls$element_cond %in% summary4$element_cond,]$element_cond)"
   ]
  },
  {
   "cell_type": "markdown",
   "metadata": {},
   "source": [
    "## add TFBS info"
   ]
  },
  {
   "cell_type": "code",
   "execution_count": 50,
   "metadata": {},
   "outputs": [],
   "source": [
    "# hocomoco_tfbs = fread(\"analyses/tim/tobias/all_tfbs.txt\", data.table = F)\n",
    "# summary4$in_hocomoco_tfbs = ifelse(summary4$element_id %in% hocomoco_tfbs$V10, T, F)\n",
    "# table(summary4$in_hocomoco_tfbs)"
   ]
  },
  {
   "cell_type": "code",
   "execution_count": 51,
   "metadata": {},
   "outputs": [],
   "source": [
    "# jaspar_tfbs = fread(\"analyses/tim/tobias/all_jaspar_tfbs.txt\", data.table = F)\n",
    "# summary4$in_jaspar_tfbs = ifelse(summary4$element_id %in% jaspar_tfbs$V10, T, F)\n",
    "# table(summary4$in_jaspar_tfbs)"
   ]
  },
  {
   "cell_type": "markdown",
   "metadata": {},
   "source": [
    "## final TFBS (JASPAR and Hocomoco Nanog)"
   ]
  },
  {
   "cell_type": "code",
   "execution_count": 52,
   "metadata": {},
   "outputs": [],
   "source": [
    "# final_tfbs = rbind(jaspar_tfbs %>% dplyr::rename(Model = V4), hocomoco_tfbs %>% filter(TF %like% \"NANOG\") %>% select(-TF))\n",
    "# head(final_tfbs,2)\n",
    "# summary4$in_final_tfbs = ifelse(summary4$element_id %in% final_tfbs$V10, T, F)"
   ]
  },
  {
   "cell_type": "markdown",
   "metadata": {},
   "source": [
    "## add cluster info"
   ]
  },
  {
   "cell_type": "code",
   "execution_count": 53,
   "metadata": {},
   "outputs": [
    {
     "data": {
      "text/html": [
       "<table class=\"dataframe\">\n",
       "<caption>A data.frame: 2 × 11</caption>\n",
       "<thead>\n",
       "\t<tr><th></th><th scope=col>cluster_id</th><th scope=col>element_id</th><th scope=col>element_cond</th><th scope=col>degree</th><th scope=col>n_members</th><th scope=col>n_occur</th><th scope=col>tissue</th><th scope=col>qtl_type</th><th scope=col>qtl_combo</th><th scope=col>module</th><th scope=col>n_qtltypes</th></tr>\n",
       "\t<tr><th></th><th scope=col>&lt;chr&gt;</th><th scope=col>&lt;chr&gt;</th><th scope=col>&lt;chr&gt;</th><th scope=col>&lt;int&gt;</th><th scope=col>&lt;int&gt;</th><th scope=col>&lt;int&gt;</th><th scope=col>&lt;chr&gt;</th><th scope=col>&lt;chr&gt;</th><th scope=col>&lt;chr&gt;</th><th scope=col>&lt;chr&gt;</th><th scope=col>&lt;int&gt;</th></tr>\n",
       "</thead>\n",
       "<tbody>\n",
       "\t<tr><th scope=row>1</th><td>CVPC_1</td><td>cvpc_atac_peak_22691</td><td>cvpc_atac_peak_22691_0</td><td>3</td><td>10</td><td>1</td><td>CVPC</td><td>ATAC</td><td>ATAC-ChIP-RNA</td><td>module</td><td>3</td></tr>\n",
       "\t<tr><th scope=row>2</th><td>CVPC_1</td><td>cvpc_atac_peak_22694</td><td>cvpc_atac_peak_22694_0</td><td>5</td><td>10</td><td>1</td><td>CVPC</td><td>ATAC</td><td>ATAC-ChIP-RNA</td><td>module</td><td>3</td></tr>\n",
       "</tbody>\n",
       "</table>\n"
      ],
      "text/latex": [
       "A data.frame: 2 × 11\n",
       "\\begin{tabular}{r|lllllllllll}\n",
       "  & cluster\\_id & element\\_id & element\\_cond & degree & n\\_members & n\\_occur & tissue & qtl\\_type & qtl\\_combo & module & n\\_qtltypes\\\\\n",
       "  & <chr> & <chr> & <chr> & <int> & <int> & <int> & <chr> & <chr> & <chr> & <chr> & <int>\\\\\n",
       "\\hline\n",
       "\t1 & CVPC\\_1 & cvpc\\_atac\\_peak\\_22691 & cvpc\\_atac\\_peak\\_22691\\_0 & 3 & 10 & 1 & CVPC & ATAC & ATAC-ChIP-RNA & module & 3\\\\\n",
       "\t2 & CVPC\\_1 & cvpc\\_atac\\_peak\\_22694 & cvpc\\_atac\\_peak\\_22694\\_0 & 5 & 10 & 1 & CVPC & ATAC & ATAC-ChIP-RNA & module & 3\\\\\n",
       "\\end{tabular}\n"
      ],
      "text/markdown": [
       "\n",
       "A data.frame: 2 × 11\n",
       "\n",
       "| <!--/--> | cluster_id &lt;chr&gt; | element_id &lt;chr&gt; | element_cond &lt;chr&gt; | degree &lt;int&gt; | n_members &lt;int&gt; | n_occur &lt;int&gt; | tissue &lt;chr&gt; | qtl_type &lt;chr&gt; | qtl_combo &lt;chr&gt; | module &lt;chr&gt; | n_qtltypes &lt;int&gt; |\n",
       "|---|---|---|---|---|---|---|---|---|---|---|---|\n",
       "| 1 | CVPC_1 | cvpc_atac_peak_22691 | cvpc_atac_peak_22691_0 | 3 | 10 | 1 | CVPC | ATAC | ATAC-ChIP-RNA | module | 3 |\n",
       "| 2 | CVPC_1 | cvpc_atac_peak_22694 | cvpc_atac_peak_22694_0 | 5 | 10 | 1 | CVPC | ATAC | ATAC-ChIP-RNA | module | 3 |\n",
       "\n"
      ],
      "text/plain": [
       "  cluster_id element_id           element_cond           degree n_members\n",
       "1 CVPC_1     cvpc_atac_peak_22691 cvpc_atac_peak_22691_0 3      10       \n",
       "2 CVPC_1     cvpc_atac_peak_22694 cvpc_atac_peak_22694_0 5      10       \n",
       "  n_occur tissue qtl_type qtl_combo     module n_qtltypes\n",
       "1 1       CVPC   ATAC     ATAC-ChIP-RNA module 3         \n",
       "2 1       CVPC   ATAC     ATAC-ChIP-RNA module 3         "
      ]
     },
     "metadata": {},
     "output_type": "display_data"
    }
   ],
   "source": [
    "mods = fread(\"analyses/jennifer/summary_files/all.qtl_modules.H4_0.8.txt\", data.table = F)\n",
    "mods$element_cond = ifelse(mods$element_cond %like% \"ENSG\", \n",
    "                           paste(tolower(mods$tissue), mods$element_cond, sep = \"_\"), \n",
    "                           mods$element_cond)\n",
    "head(mods,2)"
   ]
  },
  {
   "cell_type": "code",
   "execution_count": 61,
   "metadata": {},
   "outputs": [],
   "source": [
    "summary5 = merge(summary4, \n",
    "                mods %>% select(element_cond, cluster_id, degree, n_members, n_occur, tissue, qtl_type, qtl_combo, module, n_qtltypes), \n",
    "                by = c(\"element_cond\", \"tissue\"), all.x = T)"
   ]
  },
  {
   "cell_type": "code",
   "execution_count": 62,
   "metadata": {},
   "outputs": [
    {
     "name": "stderr",
     "output_type": "stream",
     "text": [
      "Warning message in cbind(parts$left, chars$ellip_h, parts$right, deparse.level = 0L):\n",
      "“number of rows of result is not a multiple of vector length (arg 2)”\n",
      "Warning message in cbind(parts$left, chars$ellip_h, parts$right, deparse.level = 0L):\n",
      "“number of rows of result is not a multiple of vector length (arg 2)”\n",
      "Warning message in cbind(parts$left, chars$ellip_h, parts$right, deparse.level = 0L):\n",
      "“number of rows of result is not a multiple of vector length (arg 2)”\n",
      "Warning message in cbind(parts$left, chars$ellip_h, parts$right, deparse.level = 0L):\n",
      "“number of rows of result is not a multiple of vector length (arg 2)”\n"
     ]
    },
    {
     "data": {
      "text/html": [
       "<table class=\"dataframe\">\n",
       "<caption>A data.frame: 0 × 41</caption>\n",
       "<thead>\n",
       "\t<tr><th scope=col>element_cond</th><th scope=col>tissue</th><th scope=col>element_id</th><th scope=col>element_chr</th><th scope=col>element_start</th><th scope=col>element_end</th><th scope=col>element_name</th><th scope=col>element_strand</th><th scope=col>full_trait_id</th><th scope=col>analysis</th><th scope=col>⋯</th><th scope=col>trait_id</th><th scope=col>description</th><th scope=col>cluster_id</th><th scope=col>degree</th><th scope=col>n_members</th><th scope=col>n_occur</th><th scope=col>qtl_type</th><th scope=col>qtl_combo</th><th scope=col>module</th><th scope=col>n_qtltypes</th></tr>\n",
       "\t<tr><th scope=col>&lt;chr&gt;</th><th scope=col>&lt;chr&gt;</th><th scope=col>&lt;chr&gt;</th><th scope=col>&lt;chr&gt;</th><th scope=col>&lt;int&gt;</th><th scope=col>&lt;int&gt;</th><th scope=col>&lt;chr&gt;</th><th scope=col>&lt;chr&gt;</th><th scope=col>&lt;chr&gt;</th><th scope=col>&lt;chr&gt;</th><th scope=col>⋯</th><th scope=col>&lt;chr&gt;</th><th scope=col>&lt;chr&gt;</th><th scope=col>&lt;chr&gt;</th><th scope=col>&lt;int&gt;</th><th scope=col>&lt;int&gt;</th><th scope=col>&lt;int&gt;</th><th scope=col>&lt;chr&gt;</th><th scope=col>&lt;chr&gt;</th><th scope=col>&lt;chr&gt;</th><th scope=col>&lt;int&gt;</th></tr>\n",
       "</thead>\n",
       "<tbody>\n",
       "</tbody>\n",
       "</table>\n"
      ],
      "text/latex": [
       "A data.frame: 0 × 41\n",
       "\\begin{tabular}{lllllllllllllllllllll}\n",
       " element\\_cond & tissue & element\\_id & element\\_chr & element\\_start & element\\_end & element\\_name & element\\_strand & full\\_trait\\_id & analysis & ⋯ & trait\\_id & description & cluster\\_id & degree & n\\_members & n\\_occur & qtl\\_type & qtl\\_combo & module & n\\_qtltypes\\\\\n",
       " <chr> & <chr> & <chr> & <chr> & <int> & <int> & <chr> & <chr> & <chr> & <chr> & ⋯ & <chr> & <chr> & <chr> & <int> & <int> & <int> & <chr> & <chr> & <chr> & <int>\\\\\n",
       "\\hline\n",
       "\\end{tabular}\n"
      ],
      "text/markdown": [
       "\n",
       "A data.frame: 0 × 41\n",
       "\n",
       "| element_cond &lt;chr&gt; | tissue &lt;chr&gt; | element_id &lt;chr&gt; | element_chr &lt;chr&gt; | element_start &lt;int&gt; | element_end &lt;int&gt; | element_name &lt;chr&gt; | element_strand &lt;chr&gt; | full_trait_id &lt;chr&gt; | analysis &lt;chr&gt; | ⋯ ⋯ | trait_id &lt;chr&gt; | description &lt;chr&gt; | cluster_id &lt;chr&gt; | degree &lt;int&gt; | n_members &lt;int&gt; | n_occur &lt;int&gt; | qtl_type &lt;chr&gt; | qtl_combo &lt;chr&gt; | module &lt;chr&gt; | n_qtltypes &lt;int&gt; |\n",
       "|---|---|---|---|---|---|---|---|---|---|---|---|---|---|---|---|---|---|---|---|---|\n",
       "\n"
      ],
      "text/plain": [
       "     element_cond tissue element_id element_chr element_start element_end\n",
       "     element_name element_strand full_trait_id analysis ⋯ trait_id description\n",
       "     cluster_id degree n_members n_occur qtl_type qtl_combo module n_qtltypes"
      ]
     },
     "metadata": {},
     "output_type": "display_data"
    }
   ],
   "source": [
    "# remove conditional qtls\n",
    "summary5 %>% filter(is.na(cluster_id))"
   ]
  },
  {
   "cell_type": "code",
   "execution_count": 63,
   "metadata": {},
   "outputs": [
    {
     "name": "stdout",
     "output_type": "stream",
     "text": [
      "'data.frame':\t1846395 obs. of  41 variables:\n",
      " $ element_cond   : chr  \"cvpc_atac_peak_10001_0\" \"cvpc_atac_peak_10001_0\" \"cvpc_atac_peak_10001_0\" \"cvpc_atac_peak_10001_0\" ...\n",
      " $ tissue         : chr  \"CVPC\" \"CVPC\" \"CVPC\" \"CVPC\" ...\n",
      " $ element_id     : chr  \"cvpc_atac_peak_10001\" \"cvpc_atac_peak_10001\" \"cvpc_atac_peak_10001\" \"cvpc_atac_peak_10001\" ...\n",
      " $ element_chr    : chr  \"chr1\" \"chr1\" \"chr1\" \"chr1\" ...\n",
      " $ element_start  : int  76511208 76511208 76511208 76511208 76511208 76511208 76511208 76511208 76511208 76511208 ...\n",
      " $ element_end    : int  76511727 76511727 76511727 76511727 76511727 76511727 76511727 76511727 76511727 76511727 ...\n",
      " $ element_name   : chr  \"cvpc_atac_peak_10001\" \"cvpc_atac_peak_10001\" \"cvpc_atac_peak_10001\" \"cvpc_atac_peak_10001\" ...\n",
      " $ element_strand : chr  \"\" \"\" \"\" \"\" ...\n",
      " $ full_trait_id  : chr  \"icd10-I44-both_sexes.eur\" \"icd10-I95-both_sexes.eur\" \"continuous-30300-both_sexes-irnt.meta\" \"biomarkers-30760-both_sexes-irnt.eur\" ...\n",
      " $ analysis       : chr  \"caqtls\" \"caqtls\" \"caqtls\" \"caqtls\" ...\n",
      " $ qtl_id         : chr  \"0-cvpc_atac_peak_10001\" \"0-cvpc_atac_peak_10001\" \"0-cvpc_atac_peak_10001\" \"0-cvpc_atac_peak_10001\" ...\n",
      " $ type           : int  0 0 0 0 0 0 0 0 0 0 ...\n",
      " $ nsnps          : int  369 369 369 369 369 369 369 369 369 369 ...\n",
      " $ PP.H0.abf      : num  0.211 0.214 0.217 0.213 0.216 ...\n",
      " $ PP.H1.abf      : num  0.761 0.771 0.78 0.768 0.779 ...\n",
      " $ PP.H2.abf      : num  0.003259 0.001538 0.000381 0.003414 0.000241 ...\n",
      " $ PP.H3.abf      : num  0.011721 0.005529 0.001369 0.012288 0.000866 ...\n",
      " $ PP.H4.abf      : num  0.0121 0.00724 0.00142 0.00304 0.00313 ...\n",
      " $ max_model_pp   : num  0.761 0.771 0.78 0.768 0.779 ...\n",
      " $ likely_model   : chr  \"PP.H1.abf\" \"PP.H1.abf\" \"PP.H1.abf\" \"PP.H1.abf\" ...\n",
      " $ ntopsnp        : int  1 1 1 1 1 1 1 1 1 1 ...\n",
      " $ topsnp         : chr  \"VAR_1_76513028_A_G\" \"VAR_1_76511517_G_A\" \"VAR_1_76511517_G_A\" \"VAR_1_76512919_T_C\" ...\n",
      " $ topsnp_pp      : num  0.258 0.296 0.31 0.249 0.462 ...\n",
      " $ beta.eqtl      : num  1.12 -1.31 -1.31 1.12 -1.31 ...\n",
      " $ se.eqtl        : num  0.191 0.211 0.211 0.191 0.211 ...\n",
      " $ p.eqtl         : num  3.39e-10 1.82e-11 1.82e-11 3.39e-10 1.82e-11 ...\n",
      " $ beta.gwas      : num  0.02077 0.00424 -0.00167 -0.0036 0.00406 ...\n",
      " $ se.gwas        : num  0.02016 0.01741 0.0026 0.00259 0.00247 ...\n",
      " $ p.gwas         : num  0.303 0.8078 0.52 0.1652 0.0998 ...\n",
      " $ bonferroni.eqtl: num  1.26e-07 6.80e-09 6.80e-09 1.26e-07 6.80e-09 ...\n",
      " $ cs_size        : int  108 144 138 107 30 147 68 105 161 64 ...\n",
      " $ trait_id       : chr  \"icd10-I44-both_sexes\" \"icd10-I95-both_sexes\" \"continuous-30300-both_sexes-irnt\" \"biomarkers-30760-both_sexes-irnt\" ...\n",
      " $ description    : chr  \"I44 Atrioventricular and left bundle-branch block\" \"I95 Hypotension\" \"High light scatter reticulocyte count\" \"HDL cholesterol\" ...\n",
      " $ cluster_id     : chr  \"CVPC_2928\" \"CVPC_2928\" \"CVPC_2928\" \"CVPC_2928\" ...\n",
      " $ degree         : int  0 0 0 0 0 0 0 0 0 0 ...\n",
      " $ n_members      : int  1 1 1 1 1 1 1 1 1 1 ...\n",
      " $ n_occur        : int  1 1 1 1 1 1 1 1 1 1 ...\n",
      " $ qtl_type       : chr  \"ATAC\" \"ATAC\" \"ATAC\" \"ATAC\" ...\n",
      " $ qtl_combo      : chr  \"ATAC\" \"ATAC\" \"ATAC\" \"ATAC\" ...\n",
      " $ module         : chr  \"singleton\" \"singleton\" \"singleton\" \"singleton\" ...\n",
      " $ n_qtltypes     : int  1 1 1 1 1 1 1 1 1 1 ...\n"
     ]
    }
   ],
   "source": [
    "str(summary5)"
   ]
  },
  {
   "cell_type": "markdown",
   "metadata": {},
   "source": [
    "## for each cluster and trait, what is the proportion that colocalized?"
   ]
  },
  {
   "cell_type": "code",
   "execution_count": 64,
   "metadata": {},
   "outputs": [
    {
     "data": {
      "text/html": [
       "<table class=\"dataframe\">\n",
       "<caption>A data.frame: 2 × 3</caption>\n",
       "<thead>\n",
       "\t<tr><th></th><th scope=col>full_trait_id</th><th scope=col>element_cond</th><th scope=col>cluster_id</th></tr>\n",
       "\t<tr><th></th><th scope=col>&lt;chr&gt;</th><th scope=col>&lt;chr&gt;</th><th scope=col>&lt;chr&gt;</th></tr>\n",
       "</thead>\n",
       "<tbody>\n",
       "\t<tr><th scope=row>1</th><td>continuous-30180-both_sexes-irnt.meta</td><td>cvpc_atac_peak_100536_0</td><td>CVPC_172</td></tr>\n",
       "\t<tr><th scope=row>2</th><td>continuous-30110-both_sexes-irnt.meta</td><td>cvpc_atac_peak_100536_0</td><td>CVPC_172</td></tr>\n",
       "</tbody>\n",
       "</table>\n"
      ],
      "text/latex": [
       "A data.frame: 2 × 3\n",
       "\\begin{tabular}{r|lll}\n",
       "  & full\\_trait\\_id & element\\_cond & cluster\\_id\\\\\n",
       "  & <chr> & <chr> & <chr>\\\\\n",
       "\\hline\n",
       "\t1 & continuous-30180-both\\_sexes-irnt.meta & cvpc\\_atac\\_peak\\_100536\\_0 & CVPC\\_172\\\\\n",
       "\t2 & continuous-30110-both\\_sexes-irnt.meta & cvpc\\_atac\\_peak\\_100536\\_0 & CVPC\\_172\\\\\n",
       "\\end{tabular}\n"
      ],
      "text/markdown": [
       "\n",
       "A data.frame: 2 × 3\n",
       "\n",
       "| <!--/--> | full_trait_id &lt;chr&gt; | element_cond &lt;chr&gt; | cluster_id &lt;chr&gt; |\n",
       "|---|---|---|---|\n",
       "| 1 | continuous-30180-both_sexes-irnt.meta | cvpc_atac_peak_100536_0 | CVPC_172 |\n",
       "| 2 | continuous-30110-both_sexes-irnt.meta | cvpc_atac_peak_100536_0 | CVPC_172 |\n",
       "\n"
      ],
      "text/plain": [
       "  full_trait_id                         element_cond            cluster_id\n",
       "1 continuous-30180-both_sexes-irnt.meta cvpc_atac_peak_100536_0 CVPC_172  \n",
       "2 continuous-30110-both_sexes-irnt.meta cvpc_atac_peak_100536_0 CVPC_172  "
      ]
     },
     "metadata": {},
     "output_type": "display_data"
    },
    {
     "data": {
      "text/html": [
       "<table class=\"dataframe\">\n",
       "<caption>A data.frame: 2 × 3</caption>\n",
       "<thead>\n",
       "\t<tr><th></th><th scope=col>full_trait_id</th><th scope=col>cluster_id</th><th scope=col>number_elements_coloc</th></tr>\n",
       "\t<tr><th></th><th scope=col>&lt;fct&gt;</th><th scope=col>&lt;fct&gt;</th><th scope=col>&lt;int&gt;</th></tr>\n",
       "</thead>\n",
       "<tbody>\n",
       "\t<tr><th scope=row>1</th><td>AD_sumstats_Jansenetal_2019sept</td><td>CVPC_10007</td><td>0</td></tr>\n",
       "\t<tr><th scope=row>2</th><td>all_psychiatric_disorders.meta </td><td>CVPC_10007</td><td>0</td></tr>\n",
       "</tbody>\n",
       "</table>\n"
      ],
      "text/latex": [
       "A data.frame: 2 × 3\n",
       "\\begin{tabular}{r|lll}\n",
       "  & full\\_trait\\_id & cluster\\_id & number\\_elements\\_coloc\\\\\n",
       "  & <fct> & <fct> & <int>\\\\\n",
       "\\hline\n",
       "\t1 & AD\\_sumstats\\_Jansenetal\\_2019sept & CVPC\\_10007 & 0\\\\\n",
       "\t2 & all\\_psychiatric\\_disorders.meta  & CVPC\\_10007 & 0\\\\\n",
       "\\end{tabular}\n"
      ],
      "text/markdown": [
       "\n",
       "A data.frame: 2 × 3\n",
       "\n",
       "| <!--/--> | full_trait_id &lt;fct&gt; | cluster_id &lt;fct&gt; | number_elements_coloc &lt;int&gt; |\n",
       "|---|---|---|---|\n",
       "| 1 | AD_sumstats_Jansenetal_2019sept | CVPC_10007 | 0 |\n",
       "| 2 | all_psychiatric_disorders.meta  | CVPC_10007 | 0 |\n",
       "\n"
      ],
      "text/plain": [
       "  full_trait_id                   cluster_id number_elements_coloc\n",
       "1 AD_sumstats_Jansenetal_2019sept CVPC_10007 0                    \n",
       "2 all_psychiatric_disorders.meta  CVPC_10007 0                    "
      ]
     },
     "metadata": {},
     "output_type": "display_data"
    },
    {
     "name": "stderr",
     "output_type": "stream",
     "text": [
      "Warning message in cbind(parts$left, chars$ellip_h, parts$right, deparse.level = 0L):\n",
      "“number of rows of result is not a multiple of vector length (arg 2)”\n",
      "Warning message in cbind(parts$left, chars$ellip_h, parts$right, deparse.level = 0L):\n",
      "“number of rows of result is not a multiple of vector length (arg 2)”\n",
      "Warning message in cbind(parts$left, chars$ellip_h, parts$right, deparse.level = 0L):\n",
      "“number of rows of result is not a multiple of vector length (arg 2)”\n",
      "Warning message in cbind(parts$left, chars$ellip_h, parts$right, deparse.level = 0L):\n",
      "“number of rows of result is not a multiple of vector length (arg 2)”\n"
     ]
    },
    {
     "data": {
      "text/html": [
       "<table class=\"dataframe\">\n",
       "<caption>A data.frame: 0 × 43</caption>\n",
       "<thead>\n",
       "\t<tr><th scope=col>full_trait_id</th><th scope=col>cluster_id</th><th scope=col>element_cond</th><th scope=col>tissue</th><th scope=col>element_id</th><th scope=col>element_chr</th><th scope=col>element_start</th><th scope=col>element_end</th><th scope=col>element_name</th><th scope=col>element_strand</th><th scope=col>⋯</th><th scope=col>description</th><th scope=col>degree</th><th scope=col>n_members</th><th scope=col>n_occur</th><th scope=col>qtl_type</th><th scope=col>qtl_combo</th><th scope=col>module</th><th scope=col>n_qtltypes</th><th scope=col>number_elements_coloc</th><th scope=col>prop_cluster_coloc</th></tr>\n",
       "\t<tr><th scope=col>&lt;chr&gt;</th><th scope=col>&lt;chr&gt;</th><th scope=col>&lt;chr&gt;</th><th scope=col>&lt;chr&gt;</th><th scope=col>&lt;chr&gt;</th><th scope=col>&lt;chr&gt;</th><th scope=col>&lt;int&gt;</th><th scope=col>&lt;int&gt;</th><th scope=col>&lt;chr&gt;</th><th scope=col>&lt;chr&gt;</th><th scope=col>⋯</th><th scope=col>&lt;chr&gt;</th><th scope=col>&lt;int&gt;</th><th scope=col>&lt;int&gt;</th><th scope=col>&lt;int&gt;</th><th scope=col>&lt;chr&gt;</th><th scope=col>&lt;chr&gt;</th><th scope=col>&lt;chr&gt;</th><th scope=col>&lt;int&gt;</th><th scope=col>&lt;dbl&gt;</th><th scope=col>&lt;dbl&gt;</th></tr>\n",
       "</thead>\n",
       "<tbody>\n",
       "</tbody>\n",
       "</table>\n"
      ],
      "text/latex": [
       "A data.frame: 0 × 43\n",
       "\\begin{tabular}{lllllllllllllllllllll}\n",
       " full\\_trait\\_id & cluster\\_id & element\\_cond & tissue & element\\_id & element\\_chr & element\\_start & element\\_end & element\\_name & element\\_strand & ⋯ & description & degree & n\\_members & n\\_occur & qtl\\_type & qtl\\_combo & module & n\\_qtltypes & number\\_elements\\_coloc & prop\\_cluster\\_coloc\\\\\n",
       " <chr> & <chr> & <chr> & <chr> & <chr> & <chr> & <int> & <int> & <chr> & <chr> & ⋯ & <chr> & <int> & <int> & <int> & <chr> & <chr> & <chr> & <int> & <dbl> & <dbl>\\\\\n",
       "\\hline\n",
       "\\end{tabular}\n"
      ],
      "text/markdown": [
       "\n",
       "A data.frame: 0 × 43\n",
       "\n",
       "| full_trait_id &lt;chr&gt; | cluster_id &lt;chr&gt; | element_cond &lt;chr&gt; | tissue &lt;chr&gt; | element_id &lt;chr&gt; | element_chr &lt;chr&gt; | element_start &lt;int&gt; | element_end &lt;int&gt; | element_name &lt;chr&gt; | element_strand &lt;chr&gt; | ⋯ ⋯ | description &lt;chr&gt; | degree &lt;int&gt; | n_members &lt;int&gt; | n_occur &lt;int&gt; | qtl_type &lt;chr&gt; | qtl_combo &lt;chr&gt; | module &lt;chr&gt; | n_qtltypes &lt;int&gt; | number_elements_coloc &lt;dbl&gt; | prop_cluster_coloc &lt;dbl&gt; |\n",
       "|---|---|---|---|---|---|---|---|---|---|---|---|---|---|---|---|---|---|---|---|---|\n",
       "\n"
      ],
      "text/plain": [
       "     full_trait_id cluster_id element_cond tissue element_id element_chr\n",
       "     element_start element_end element_name element_strand ⋯ description degree\n",
       "     n_members n_occur qtl_type qtl_combo module n_qtltypes\n",
       "     number_elements_coloc prop_cluster_coloc"
      ]
     },
     "metadata": {},
     "output_type": "display_data"
    },
    {
     "name": "stderr",
     "output_type": "stream",
     "text": [
      "Warning message in cbind(parts$left, chars$ellip_h, parts$right, deparse.level = 0L):\n",
      "“number of rows of result is not a multiple of vector length (arg 2)”\n",
      "Warning message in cbind(parts$left, chars$ellip_h, parts$right, deparse.level = 0L):\n",
      "“number of rows of result is not a multiple of vector length (arg 2)”\n",
      "Warning message in cbind(parts$left, chars$ellip_h, parts$right, deparse.level = 0L):\n",
      "“number of rows of result is not a multiple of vector length (arg 2)”\n",
      "Warning message in cbind(parts$left, chars$ellip_h, parts$right, deparse.level = 0L):\n",
      "“number of rows of result is not a multiple of vector length (arg 2)”\n"
     ]
    },
    {
     "data": {
      "text/html": [
       "<table class=\"dataframe\">\n",
       "<caption>A data.frame: 0 × 43</caption>\n",
       "<thead>\n",
       "\t<tr><th scope=col>full_trait_id</th><th scope=col>cluster_id</th><th scope=col>element_cond</th><th scope=col>tissue</th><th scope=col>element_id</th><th scope=col>element_chr</th><th scope=col>element_start</th><th scope=col>element_end</th><th scope=col>element_name</th><th scope=col>element_strand</th><th scope=col>⋯</th><th scope=col>description</th><th scope=col>degree</th><th scope=col>n_members</th><th scope=col>n_occur</th><th scope=col>qtl_type</th><th scope=col>qtl_combo</th><th scope=col>module</th><th scope=col>n_qtltypes</th><th scope=col>number_elements_coloc</th><th scope=col>prop_cluster_coloc</th></tr>\n",
       "\t<tr><th scope=col>&lt;chr&gt;</th><th scope=col>&lt;chr&gt;</th><th scope=col>&lt;chr&gt;</th><th scope=col>&lt;chr&gt;</th><th scope=col>&lt;chr&gt;</th><th scope=col>&lt;chr&gt;</th><th scope=col>&lt;int&gt;</th><th scope=col>&lt;int&gt;</th><th scope=col>&lt;chr&gt;</th><th scope=col>&lt;chr&gt;</th><th scope=col>⋯</th><th scope=col>&lt;chr&gt;</th><th scope=col>&lt;int&gt;</th><th scope=col>&lt;int&gt;</th><th scope=col>&lt;int&gt;</th><th scope=col>&lt;chr&gt;</th><th scope=col>&lt;chr&gt;</th><th scope=col>&lt;chr&gt;</th><th scope=col>&lt;int&gt;</th><th scope=col>&lt;dbl&gt;</th><th scope=col>&lt;dbl&gt;</th></tr>\n",
       "</thead>\n",
       "<tbody>\n",
       "</tbody>\n",
       "</table>\n"
      ],
      "text/latex": [
       "A data.frame: 0 × 43\n",
       "\\begin{tabular}{lllllllllllllllllllll}\n",
       " full\\_trait\\_id & cluster\\_id & element\\_cond & tissue & element\\_id & element\\_chr & element\\_start & element\\_end & element\\_name & element\\_strand & ⋯ & description & degree & n\\_members & n\\_occur & qtl\\_type & qtl\\_combo & module & n\\_qtltypes & number\\_elements\\_coloc & prop\\_cluster\\_coloc\\\\\n",
       " <chr> & <chr> & <chr> & <chr> & <chr> & <chr> & <int> & <int> & <chr> & <chr> & ⋯ & <chr> & <int> & <int> & <int> & <chr> & <chr> & <chr> & <int> & <dbl> & <dbl>\\\\\n",
       "\\hline\n",
       "\\end{tabular}\n"
      ],
      "text/markdown": [
       "\n",
       "A data.frame: 0 × 43\n",
       "\n",
       "| full_trait_id &lt;chr&gt; | cluster_id &lt;chr&gt; | element_cond &lt;chr&gt; | tissue &lt;chr&gt; | element_id &lt;chr&gt; | element_chr &lt;chr&gt; | element_start &lt;int&gt; | element_end &lt;int&gt; | element_name &lt;chr&gt; | element_strand &lt;chr&gt; | ⋯ ⋯ | description &lt;chr&gt; | degree &lt;int&gt; | n_members &lt;int&gt; | n_occur &lt;int&gt; | qtl_type &lt;chr&gt; | qtl_combo &lt;chr&gt; | module &lt;chr&gt; | n_qtltypes &lt;int&gt; | number_elements_coloc &lt;dbl&gt; | prop_cluster_coloc &lt;dbl&gt; |\n",
       "|---|---|---|---|---|---|---|---|---|---|---|---|---|---|---|---|---|---|---|---|---|\n",
       "\n"
      ],
      "text/plain": [
       "     full_trait_id cluster_id element_cond tissue element_id element_chr\n",
       "     element_start element_end element_name element_strand ⋯ description degree\n",
       "     n_members n_occur qtl_type qtl_combo module n_qtltypes\n",
       "     number_elements_coloc prop_cluster_coloc"
      ]
     },
     "metadata": {},
     "output_type": "display_data"
    }
   ],
   "source": [
    "tmp = summary5 %>% \n",
    "    filter(topsnp_pp >= 0.01 & \n",
    "           PP.H4.abf >= 0.8 & \n",
    "           p.eqtl <= 5e-05 & \n",
    "           p.gwas <= 5e-08) %>% \n",
    "    select(full_trait_id, element_cond, cluster_id) %>% distinct()\n",
    "\n",
    "head(tmp,2)\n",
    "\n",
    "tmp = data.frame(table(tmp$full_trait_id, tmp$cluster_id))\n",
    "colnames(tmp) = c(\"full_trait_id\", \"cluster_id\", \"number_elements_coloc\")\n",
    "head(tmp,2)\n",
    "\n",
    "summary6 = merge(summary5, tmp, by = c(\"full_trait_id\", \"cluster_id\"), all.x = T) \n",
    "\n",
    "# for clusters that had zero elements colocalized, set to 0\n",
    "summary6[is.na(summary6$number_elements_coloc),]$number_elements_coloc = 0\n",
    "\n",
    "summary6$prop_cluster_coloc = summary6$number_elements_coloc / summary6$n_members * 100\n",
    "\n",
    "summary6 %>% filter(is.na(number_elements_coloc))\n",
    "summary6 %>% filter(is.na(prop_cluster_coloc))\n"
   ]
  },
  {
   "cell_type": "code",
   "execution_count": 65,
   "metadata": {},
   "outputs": [
    {
     "data": {
      "text/plain": [
       "   Min. 1st Qu.  Median    Mean 3rd Qu.    Max. \n",
       "0.00000 0.00000 0.00000 0.01447 0.00000 9.00000 "
      ]
     },
     "metadata": {},
     "output_type": "display_data"
    },
    {
     "data": {
      "text/plain": [
       "    Min.  1st Qu.   Median     Mean  3rd Qu.     Max. \n",
       "  0.0000   0.0000   0.0000   0.7343   0.0000 100.0000 "
      ]
     },
     "metadata": {},
     "output_type": "display_data"
    }
   ],
   "source": [
    "summary(summary6$number_elements_coloc)\n",
    "summary(summary6$prop_cluster_coloc)"
   ]
  },
  {
   "cell_type": "markdown",
   "metadata": {},
   "source": [
    "## annotate which cluster colocalized?"
   ]
  },
  {
   "cell_type": "code",
   "execution_count": 66,
   "metadata": {},
   "outputs": [],
   "source": [
    "tmp = summary6\n",
    "tmp$coloc_gwas = ifelse(tmp$topsnp_pp >= 0.01 & \n",
    "                        tmp$PP.H4.abf >= 0.8 & \n",
    "                        tmp$p.eqtl <= 5e-5 & \n",
    "                        tmp$p.gwas <= 5e-8 , \n",
    "#                         tmp$prop_cluster_coloc >= 50, \n",
    "                        T, F) \n",
    "\n",
    "tmp$cluster_gwas = paste(tmp$cluster_id, tmp$full_trait_id)\n",
    "\n",
    "summary6 = summary6 %>% \n",
    "    mutate(cluster_gwas = paste(cluster_id, full_trait_id)) %>%\n",
    "    mutate(coloc_gwas = ifelse(cluster_gwas %in% tmp[tmp$coloc_gwas == T,]$cluster_gwas, T, F)) %>%\n",
    "    select(-cluster_gwas)"
   ]
  },
  {
   "cell_type": "markdown",
   "metadata": {},
   "source": [
    "## annotate which QTLs are fetal-unique. for fetal-unique QTLs that were in the same module as an adult-shared QTL, annotate them as adult-shared."
   ]
  },
  {
   "cell_type": "code",
   "execution_count": 67,
   "metadata": {},
   "outputs": [
    {
     "data": {
      "text/html": [
       "<table class=\"dataframe\">\n",
       "<caption>A data.frame: 2 × 8</caption>\n",
       "<thead>\n",
       "\t<tr><th></th><th scope=col>element_cond</th><th scope=col>cluster_id</th><th scope=col>tissue</th><th scope=col>analysis</th><th scope=col>fetal_unique</th><th scope=col>fetal_unique_mod</th><th scope=col>element_id</th><th scope=col>type</th></tr>\n",
       "\t<tr><th></th><th scope=col>&lt;chr&gt;</th><th scope=col>&lt;chr&gt;</th><th scope=col>&lt;chr&gt;</th><th scope=col>&lt;chr&gt;</th><th scope=col>&lt;lgl&gt;</th><th scope=col>&lt;lgl&gt;</th><th scope=col>&lt;chr&gt;</th><th scope=col>&lt;int&gt;</th></tr>\n",
       "</thead>\n",
       "<tbody>\n",
       "\t<tr><th scope=row>1</th><td>cvpc_atac_peak_10001_0</td><td>CVPC_2928</td><td>CVPC</td><td>caqtls</td><td>FALSE</td><td>FALSE</td><td>cvpc_atac_peak_10001</td><td>0</td></tr>\n",
       "\t<tr><th scope=row>2</th><td>cvpc_atac_peak_10001_1</td><td>         </td><td>CVPC</td><td>caqtls</td><td> TRUE</td><td> TRUE</td><td>cvpc_atac_peak_10001</td><td>1</td></tr>\n",
       "</tbody>\n",
       "</table>\n"
      ],
      "text/latex": [
       "A data.frame: 2 × 8\n",
       "\\begin{tabular}{r|llllllll}\n",
       "  & element\\_cond & cluster\\_id & tissue & analysis & fetal\\_unique & fetal\\_unique\\_mod & element\\_id & type\\\\\n",
       "  & <chr> & <chr> & <chr> & <chr> & <lgl> & <lgl> & <chr> & <int>\\\\\n",
       "\\hline\n",
       "\t1 & cvpc\\_atac\\_peak\\_10001\\_0 & CVPC\\_2928 & CVPC & caqtls & FALSE & FALSE & cvpc\\_atac\\_peak\\_10001 & 0\\\\\n",
       "\t2 & cvpc\\_atac\\_peak\\_10001\\_1 &           & CVPC & caqtls &  TRUE &  TRUE & cvpc\\_atac\\_peak\\_10001 & 1\\\\\n",
       "\\end{tabular}\n"
      ],
      "text/markdown": [
       "\n",
       "A data.frame: 2 × 8\n",
       "\n",
       "| <!--/--> | element_cond &lt;chr&gt; | cluster_id &lt;chr&gt; | tissue &lt;chr&gt; | analysis &lt;chr&gt; | fetal_unique &lt;lgl&gt; | fetal_unique_mod &lt;lgl&gt; | element_id &lt;chr&gt; | type &lt;int&gt; |\n",
       "|---|---|---|---|---|---|---|---|---|\n",
       "| 1 | cvpc_atac_peak_10001_0 | CVPC_2928 | CVPC | caqtls | FALSE | FALSE | cvpc_atac_peak_10001 | 0 |\n",
       "| 2 | cvpc_atac_peak_10001_1 | <!----> | CVPC | caqtls |  TRUE |  TRUE | cvpc_atac_peak_10001 | 1 |\n",
       "\n"
      ],
      "text/plain": [
       "  element_cond           cluster_id tissue analysis fetal_unique\n",
       "1 cvpc_atac_peak_10001_0 CVPC_2928  CVPC   caqtls   FALSE       \n",
       "2 cvpc_atac_peak_10001_1            CVPC   caqtls    TRUE       \n",
       "  fetal_unique_mod element_id           type\n",
       "1 FALSE            cvpc_atac_peak_10001 0   \n",
       "2  TRUE            cvpc_atac_peak_10001 1   "
      ]
     },
     "metadata": {},
     "output_type": "display_data"
    }
   ],
   "source": [
    "ld = fread(\"analyses/jennifer/summary_files/fetal_unique.txt\", data.table = F)\n",
    "head(ld,2)"
   ]
  },
  {
   "cell_type": "code",
   "execution_count": 68,
   "metadata": {},
   "outputs": [
    {
     "data": {
      "text/plain": [
       "\n",
       "  FALSE    TRUE \n",
       "1654058  192337 "
      ]
     },
     "metadata": {},
     "output_type": "display_data"
    }
   ],
   "source": [
    "summary6$fetal_unique = ifelse(summary6$cluster_id %in% ld[ld$fetal_unique == F,]$cluster_id, F, T)\n",
    "\n",
    "table(summary6$fetal_unique)"
   ]
  },
  {
   "cell_type": "code",
   "execution_count": 69,
   "metadata": {},
   "outputs": [
    {
     "name": "stderr",
     "output_type": "stream",
     "text": [
      "How many fetal-unique QTLs that colocalize with GWAS: 102\n",
      "\n"
     ]
    }
   ],
   "source": [
    "a = summary6 %>% filter(fetal_unique == T & coloc_gwas == T)\n",
    "message(paste(\"How many fetal-unique QTLs that colocalize with GWAS:\", length(unique(a$element_cond))))"
   ]
  },
  {
   "cell_type": "code",
   "execution_count": 70,
   "metadata": {},
   "outputs": [],
   "source": [
    "# summary6 %>% filter(fetal_unique == T & coloc_gwas == T) %>% \n",
    "#     select(cluster_id, full_trait_id, description, coloc_gwas, fetal_unique) %>% \n",
    "#     distinct() %>% filter(full_trait_id %in% sub_manifest$full_trait_id) %>%\n",
    "#     arrange(description) %>% arrange(cluster_id)"
   ]
  },
  {
   "cell_type": "markdown",
   "metadata": {},
   "source": [
    "## save all results"
   ]
  },
  {
   "cell_type": "code",
   "execution_count": 71,
   "metadata": {},
   "outputs": [
    {
     "name": "stderr",
     "output_type": "stream",
     "text": [
      "Saving..\n",
      "Saved: analyses/jennifer/gwas_coloc/all.gwas_summary.2024_0321.txt\n"
     ]
    }
   ],
   "source": [
    "message(\"Saving..\", appendLF = F)\n",
    "file = \"analyses/jennifer/gwas_coloc/all.gwas_summary.2024_0321.txt\"\n",
    "fwrite(summary6, file, row.names = F, sep = \"\\t\")\n",
    "message(paste(\"Saved:\", file), appendLF = F)"
   ]
  },
  {
   "cell_type": "markdown",
   "metadata": {},
   "source": [
    "## annotate which capeaks have a TFBS, including hapeaks that overlap with a TFBS capeak"
   ]
  },
  {
   "cell_type": "code",
   "execution_count": 72,
   "metadata": {},
   "outputs": [],
   "source": [
    "tfbs = fread(\"analyses/jennifer/summary_files/final_tfbs.expressed.txt\", data.table = F)"
   ]
  },
  {
   "cell_type": "code",
   "execution_count": 73,
   "metadata": {},
   "outputs": [],
   "source": [
    "tfbs2 = as.data.frame(rbindlist(lapply(c(\"ppc\", \"cvpc\", \"ipsc\"), function(tiss)\n",
    "{\n",
    "    this = tfbs %>% filter(V10 %like% tiss)\n",
    "    this = this[this[,paste0(tiss, \"_exp\")] == T,]\n",
    "    return(this)\n",
    "})))"
   ]
  },
  {
   "cell_type": "code",
   "execution_count": 74,
   "metadata": {},
   "outputs": [
    {
     "data": {
      "text/html": [
       "<table class=\"dataframe\">\n",
       "<caption>A data.frame: 2 × 7</caption>\n",
       "<thead>\n",
       "\t<tr><th></th><th scope=col>Model</th><th scope=col>V10</th><th scope=col>TF</th><th scope=col>cvpc_exp</th><th scope=col>ipsc_exp</th><th scope=col>ppc_exp</th><th scope=col>motif_id</th></tr>\n",
       "\t<tr><th></th><th scope=col>&lt;chr&gt;</th><th scope=col>&lt;chr&gt;</th><th scope=col>&lt;chr&gt;</th><th scope=col>&lt;lgl&gt;</th><th scope=col>&lt;lgl&gt;</th><th scope=col>&lt;lgl&gt;</th><th scope=col>&lt;chr&gt;</th></tr>\n",
       "</thead>\n",
       "<tbody>\n",
       "\t<tr><th scope=row>1</th><td>AhrArnt_MA0006.1</td><td>ppc_atac_peak_4</td><td>AHR </td><td>TRUE</td><td>TRUE</td><td>TRUE</td><td>MA0006.1</td></tr>\n",
       "\t<tr><th scope=row>2</th><td>AhrArnt_MA0006.1</td><td>ppc_atac_peak_4</td><td>ARNT</td><td>TRUE</td><td>TRUE</td><td>TRUE</td><td>MA0006.1</td></tr>\n",
       "</tbody>\n",
       "</table>\n"
      ],
      "text/latex": [
       "A data.frame: 2 × 7\n",
       "\\begin{tabular}{r|lllllll}\n",
       "  & Model & V10 & TF & cvpc\\_exp & ipsc\\_exp & ppc\\_exp & motif\\_id\\\\\n",
       "  & <chr> & <chr> & <chr> & <lgl> & <lgl> & <lgl> & <chr>\\\\\n",
       "\\hline\n",
       "\t1 & AhrArnt\\_MA0006.1 & ppc\\_atac\\_peak\\_4 & AHR  & TRUE & TRUE & TRUE & MA0006.1\\\\\n",
       "\t2 & AhrArnt\\_MA0006.1 & ppc\\_atac\\_peak\\_4 & ARNT & TRUE & TRUE & TRUE & MA0006.1\\\\\n",
       "\\end{tabular}\n"
      ],
      "text/markdown": [
       "\n",
       "A data.frame: 2 × 7\n",
       "\n",
       "| <!--/--> | Model &lt;chr&gt; | V10 &lt;chr&gt; | TF &lt;chr&gt; | cvpc_exp &lt;lgl&gt; | ipsc_exp &lt;lgl&gt; | ppc_exp &lt;lgl&gt; | motif_id &lt;chr&gt; |\n",
       "|---|---|---|---|---|---|---|---|\n",
       "| 1 | AhrArnt_MA0006.1 | ppc_atac_peak_4 | AHR  | TRUE | TRUE | TRUE | MA0006.1 |\n",
       "| 2 | AhrArnt_MA0006.1 | ppc_atac_peak_4 | ARNT | TRUE | TRUE | TRUE | MA0006.1 |\n",
       "\n"
      ],
      "text/plain": [
       "  Model            V10             TF   cvpc_exp ipsc_exp ppc_exp motif_id\n",
       "1 AhrArnt_MA0006.1 ppc_atac_peak_4 AHR  TRUE     TRUE     TRUE    MA0006.1\n",
       "2 AhrArnt_MA0006.1 ppc_atac_peak_4 ARNT TRUE     TRUE     TRUE    MA0006.1"
      ]
     },
     "metadata": {},
     "output_type": "display_data"
    }
   ],
   "source": [
    "head(tfbs2,2)"
   ]
  },
  {
   "cell_type": "code",
   "execution_count": 75,
   "metadata": {},
   "outputs": [
    {
     "data": {
      "text/html": [
       "<table class=\"dataframe\">\n",
       "<caption>A data.frame: 2 × 8</caption>\n",
       "<thead>\n",
       "\t<tr><th></th><th scope=col>V1</th><th scope=col>V2</th><th scope=col>V3</th><th scope=col>V4</th><th scope=col>V5</th><th scope=col>V6</th><th scope=col>V7</th><th scope=col>V8</th></tr>\n",
       "\t<tr><th></th><th scope=col>&lt;chr&gt;</th><th scope=col>&lt;int&gt;</th><th scope=col>&lt;int&gt;</th><th scope=col>&lt;chr&gt;</th><th scope=col>&lt;chr&gt;</th><th scope=col>&lt;int&gt;</th><th scope=col>&lt;int&gt;</th><th scope=col>&lt;chr&gt;</th></tr>\n",
       "</thead>\n",
       "<tbody>\n",
       "\t<tr><th scope=row>1</th><td>chr1</td><td>826692</td><td>827857</td><td>cvpc_atac_peak_2 </td><td>chr1</td><td>825773</td><td>827873</td><td>cvpc_chip_peak_2</td></tr>\n",
       "\t<tr><th scope=row>4</th><td>chr1</td><td>959054</td><td>959586</td><td>cvpc_atac_peak_37</td><td>chr1</td><td>958564</td><td>959276</td><td>cvpc_chip_peak_5</td></tr>\n",
       "</tbody>\n",
       "</table>\n"
      ],
      "text/latex": [
       "A data.frame: 2 × 8\n",
       "\\begin{tabular}{r|llllllll}\n",
       "  & V1 & V2 & V3 & V4 & V5 & V6 & V7 & V8\\\\\n",
       "  & <chr> & <int> & <int> & <chr> & <chr> & <int> & <int> & <chr>\\\\\n",
       "\\hline\n",
       "\t1 & chr1 & 826692 & 827857 & cvpc\\_atac\\_peak\\_2  & chr1 & 825773 & 827873 & cvpc\\_chip\\_peak\\_2\\\\\n",
       "\t4 & chr1 & 959054 & 959586 & cvpc\\_atac\\_peak\\_37 & chr1 & 958564 & 959276 & cvpc\\_chip\\_peak\\_5\\\\\n",
       "\\end{tabular}\n"
      ],
      "text/markdown": [
       "\n",
       "A data.frame: 2 × 8\n",
       "\n",
       "| <!--/--> | V1 &lt;chr&gt; | V2 &lt;int&gt; | V3 &lt;int&gt; | V4 &lt;chr&gt; | V5 &lt;chr&gt; | V6 &lt;int&gt; | V7 &lt;int&gt; | V8 &lt;chr&gt; |\n",
       "|---|---|---|---|---|---|---|---|---|\n",
       "| 1 | chr1 | 826692 | 827857 | cvpc_atac_peak_2  | chr1 | 825773 | 827873 | cvpc_chip_peak_2 |\n",
       "| 4 | chr1 | 959054 | 959586 | cvpc_atac_peak_37 | chr1 | 958564 | 959276 | cvpc_chip_peak_5 |\n",
       "\n"
      ],
      "text/plain": [
       "  V1   V2     V3     V4                V5   V6     V7     V8              \n",
       "1 chr1 826692 827857 cvpc_atac_peak_2  chr1 825773 827873 cvpc_chip_peak_2\n",
       "4 chr1 959054 959586 cvpc_atac_peak_37 chr1 958564 959276 cvpc_chip_peak_5"
      ]
     },
     "metadata": {},
     "output_type": "display_data"
    }
   ],
   "source": [
    "int = fread(\"analyses/jennifer/summary_files/cvpc_ipsc.atac_chip.intersect.bed\", data.table = F)\n",
    "int = int[int$V4 %in% tfbs2$V10,]\n",
    "head(int,2)"
   ]
  },
  {
   "cell_type": "code",
   "execution_count": 76,
   "metadata": {},
   "outputs": [],
   "source": [
    "summary6$has_tfbs = ifelse(summary6$element_cond %in% tfbs2$V10 | summary6$element_cond %in% int$V8, T, F)"
   ]
  },
  {
   "cell_type": "markdown",
   "metadata": {},
   "source": [
    "# filter for downstream traits"
   ]
  },
  {
   "cell_type": "code",
   "execution_count": 77,
   "metadata": {},
   "outputs": [
    {
     "name": "stderr",
     "output_type": "stream",
     "text": [
      "Saved: analyses/jennifer/gwas_coloc/all.gwas_summary.all_downstream_traits.2024_0321.txt\n"
     ]
    }
   ],
   "source": [
    "subset_manifest = fread(\"analyses/jennifer/gwas_independent/subset_manifest.txt\", data.table = F) %>%\n",
    "    filter(trait_id != \"healthspan_summary\" & full_trait_id != \"continuous-20022-both_sexes-irnt.meta\")\n",
    "\n",
    "summary7 = summary6 %>% filter(full_trait_id %in% subset_manifest$full_trait_id)\n",
    "\n",
    "file = \"analyses/jennifer/gwas_coloc/all.gwas_summary.all_downstream_traits.2024_0321.txt\"\n",
    "fwrite(summary7, file, row.names = F, sep = \"\\t\")\n",
    "message(paste(\"Saved:\", file), appendLF = F)"
   ]
  },
  {
   "cell_type": "code",
   "execution_count": 78,
   "metadata": {},
   "outputs": [
    {
     "data": {
      "text/html": [
       "14"
      ],
      "text/latex": [
       "14"
      ],
      "text/markdown": [
       "14"
      ],
      "text/plain": [
       "[1] 14"
      ]
     },
     "metadata": {},
     "output_type": "display_data"
    }
   ],
   "source": [
    "# how many qtls are fetal-unique and colocalized with GWAS\n",
    "a = summary7 %>% filter(fetal_unique == T & coloc_gwas == T)\n",
    "length(unique(a$element_cond))"
   ]
  },
  {
   "cell_type": "code",
   "execution_count": 79,
   "metadata": {},
   "outputs": [
    {
     "data": {
      "text/plain": [
       "\n",
       "   module singleton \n",
       "        2        12 "
      ]
     },
     "metadata": {},
     "output_type": "display_data"
    }
   ],
   "source": [
    "table(a %>% select(element_cond, module) %>% distinct() %>% pull(module))"
   ]
  },
  {
   "cell_type": "code",
   "execution_count": null,
   "metadata": {},
   "outputs": [],
   "source": []
  },
  {
   "cell_type": "code",
   "execution_count": null,
   "metadata": {},
   "outputs": [],
   "source": []
  }
 ],
 "metadata": {
  "kernelspec": {
   "display_name": "R 4.2.1",
   "language": "R",
   "name": "ir421"
  },
  "language_info": {
   "codemirror_mode": "r",
   "file_extension": ".r",
   "mimetype": "text/x-r-source",
   "name": "R",
   "pygments_lexer": "r",
   "version": "4.2.1"
  }
 },
 "nbformat": 4,
 "nbformat_minor": 2
}
