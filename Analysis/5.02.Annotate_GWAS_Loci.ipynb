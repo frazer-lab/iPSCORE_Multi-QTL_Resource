{
 "cells": [
  {
   "cell_type": "code",
   "execution_count": 2,
   "metadata": {},
   "outputs": [],
   "source": [
    "setwd(\"/projects/CARDIPS/analysis/epigenome_resource\")\n",
    "source(\"analyses/jennifer/notebooks/functions.R\")\n",
    "\n",
    "set.seed(5366)"
   ]
  },
  {
   "cell_type": "markdown",
   "metadata": {},
   "source": [
    "# Assign QTLs to independent GWAS locus"
   ]
  },
  {
   "cell_type": "markdown",
   "metadata": {},
   "source": [
    "## 0. Read GWAS manifest table"
   ]
  },
  {
   "cell_type": "code",
   "execution_count": 4,
   "metadata": {},
   "outputs": [],
   "source": [
    "manifest = fread(\"analyses/jennifer/gwas_independent/subset_manifest.txt\", data.table = F)  %>% \n",
    "    filter(full_trait_id != \"continuous-20022-both_sexes-irnt.meta\" & full_trait_id != \"healthspan_summary\")\n"
   ]
  },
  {
   "cell_type": "markdown",
   "metadata": {},
   "source": [
    "## 1. Check files"
   ]
  },
  {
   "cell_type": "code",
   "execution_count": 5,
   "metadata": {},
   "outputs": [],
   "source": [
    "# for (trait in manifest$full_trait_id)\n",
    "# {\n",
    "#     file = paste(\"analyses/jennifer/gwas_independent/indep\", paste(trait, \"hg38_5e-08.txt\", sep = \".\"), sep = \"/\")\n",
    "#     if (file.exists(file) == F)\n",
    "#     {\n",
    "#         data = fread(manifest[manifest$full_trait_id == trait,]$filename, data.table = F) %>% mutate(p = as.double(p)) %>% filter(p <= 5e-08)\n",
    "#         fwrite(data, file, row.names = F, sep = \"\\t\", col.names = F)\n",
    "#         message(paste(file, \"written\"), appendLF = F)\n",
    "#     }\n",
    "# }"
   ]
  },
  {
   "cell_type": "markdown",
   "metadata": {},
   "source": [
    "## Identify GWAS independent loci for each trait"
   ]
  },
  {
   "cell_type": "markdown",
   "metadata": {},
   "source": [
    "### 2.1. Filter for variants that passed genome-wide significance (p < 5e-08) (already done)"
   ]
  },
  {
   "cell_type": "code",
   "execution_count": 5,
   "metadata": {},
   "outputs": [],
   "source": [
    "for (row in c(1:nrow(manifest)))\n",
    "{\n",
    "    outfile = paste(\"analyses/jennifer/gwas_independent/indep\", paste(manifest[row,]$full_trait_id, \"hg38_5e-08\", \"txt\", sep = \".\"), sep = \"/\")\n",
    "    if (file.exists(outfile) == F)\n",
    "    {\n",
    "        message(manifest[row,]$full_trait_id, appendLF = F)\n",
    "        data = fread(manifest[row,]$filename, data.table = F) %>% filter(p <= 5e-08)\n",
    "        fwrite(data, outfile, row.names = F, sep = \"\\t\", col.names = F)\n",
    "        message(paste(\"Saved:\", outfile), appendLF = F)\n",
    "    }\n",
    "}"
   ]
  },
  {
   "cell_type": "markdown",
   "metadata": {},
   "source": [
    "### 2.2 prune variants (already done)"
   ]
  },
  {
   "cell_type": "code",
   "execution_count": null,
   "metadata": {},
   "outputs": [],
   "source": [
    "cmd = \"qsub /projects/CARDIPS/analysis/epigenome_resource/analyses/jennifer/notebooks/11.01.indep_gwas_prune.variant_ct.sh 500 50 0.01\"\n",
    "message(cmd)\n",
    "system(cmd)\n",
    "\n",
    "cmd = \"qsub /projects/CARDIPS/analysis/epigenome_resource/analyses/jennifer/notebooks/11.01.indep_gwas_prune.variant_ct.sh 500 50 0.1\"\n",
    "message(cmd)\n",
    "system(cmd)"
   ]
  },
  {
   "cell_type": "markdown",
   "metadata": {},
   "source": [
    "### 2.3 How many GWAS indep loci per trait (using variant count as window)"
   ]
  },
  {
   "cell_type": "code",
   "execution_count": 120,
   "metadata": {},
   "outputs": [
    {
     "data": {
      "text/html": [
       "<table class=\"dataframe\">\n",
       "<caption>A data.frame: 17 × 3</caption>\n",
       "<thead>\n",
       "\t<tr><th scope=col>description</th><th scope=col>full_trait_id</th><th scope=col>total</th></tr>\n",
       "\t<tr><th scope=col>&lt;chr&gt;</th><th scope=col>&lt;chr&gt;</th><th scope=col>&lt;int&gt;</th></tr>\n",
       "</thead>\n",
       "<tbody>\n",
       "\t<tr><td>HDL cholesterol                    </td><td>biomarkers-30760-both_sexes-irnt.meta    </td><td>2151</td></tr>\n",
       "\t<tr><td>LDL direct                         </td><td>biomarkers-30780-both_sexes-irnt.meta    </td><td> 900</td></tr>\n",
       "\t<tr><td>birth weight (eur)                 </td><td>BW3_EUR_summary_stats                    </td><td>  66</td></tr>\n",
       "\t<tr><td>childhood obesity (eur)            </td><td>CHILDHOOD_OBESITY.eur                    </td><td>  14</td></tr>\n",
       "\t<tr><td>Ventricular rate                   </td><td>continuous-12336-both_sexes-irnt.meta    </td><td>  14</td></tr>\n",
       "\t<tr><td>QRS duration                       </td><td>continuous-12340-both_sexes-irnt.meta    </td><td>  50</td></tr>\n",
       "\t<tr><td>Body mass index (BMI)              </td><td>continuous-23104-both_sexes-irnt.meta    </td><td>1857</td></tr>\n",
       "\t<tr><td>Pulse rate                         </td><td>continuous-4194-both_sexes-irnt.meta     </td><td> 168</td></tr>\n",
       "\t<tr><td>type_1_diabetes                    </td><td>GCST90014023_buildGRCh38                 </td><td> 224</td></tr>\n",
       "\t<tr><td>I20 Angina pectoris                </td><td>icd10-I20-both_sexes.meta                </td><td>  45</td></tr>\n",
       "\t<tr><td>I21 Acute myocardial infarction    </td><td>icd10-I21-both_sexes.meta                </td><td>  30</td></tr>\n",
       "\t<tr><td>I25 Chronic ischaemic heart disease</td><td>icd10-I25-both_sexes.meta                </td><td> 102</td></tr>\n",
       "\t<tr><td>I48 Atrial fibrillation and flutter</td><td>icd10-I48-both_sexes.meta                </td><td> 111</td></tr>\n",
       "\t<tr><td>Longevity                          </td><td>lifegen_phase2_bothpl_alldr_2017_09_18   </td><td>  25</td></tr>\n",
       "\t<tr><td>fasting glucose                    </td><td>MAGIC1000G_FG_EUR                        </td><td> 170</td></tr>\n",
       "\t<tr><td>type 2 diabetes                    </td><td>Mahajan.NatGenet2018b.T2D.European_sorted</td><td> 409</td></tr>\n",
       "\t<tr><td>Multivariate Longevity             </td><td>timmers2020_healthspan_lifespan_longevity</td><td>  35</td></tr>\n",
       "</tbody>\n",
       "</table>\n"
      ],
      "text/latex": [
       "A data.frame: 17 × 3\n",
       "\\begin{tabular}{lll}\n",
       " description & full\\_trait\\_id & total\\\\\n",
       " <chr> & <chr> & <int>\\\\\n",
       "\\hline\n",
       "\t HDL cholesterol                     & biomarkers-30760-both\\_sexes-irnt.meta     & 2151\\\\\n",
       "\t LDL direct                          & biomarkers-30780-both\\_sexes-irnt.meta     &  900\\\\\n",
       "\t birth weight (eur)                  & BW3\\_EUR\\_summary\\_stats                     &   66\\\\\n",
       "\t childhood obesity (eur)             & CHILDHOOD\\_OBESITY.eur                     &   14\\\\\n",
       "\t Ventricular rate                    & continuous-12336-both\\_sexes-irnt.meta     &   14\\\\\n",
       "\t QRS duration                        & continuous-12340-both\\_sexes-irnt.meta     &   50\\\\\n",
       "\t Body mass index (BMI)               & continuous-23104-both\\_sexes-irnt.meta     & 1857\\\\\n",
       "\t Pulse rate                          & continuous-4194-both\\_sexes-irnt.meta      &  168\\\\\n",
       "\t type\\_1\\_diabetes                     & GCST90014023\\_buildGRCh38                  &  224\\\\\n",
       "\t I20 Angina pectoris                 & icd10-I20-both\\_sexes.meta                 &   45\\\\\n",
       "\t I21 Acute myocardial infarction     & icd10-I21-both\\_sexes.meta                 &   30\\\\\n",
       "\t I25 Chronic ischaemic heart disease & icd10-I25-both\\_sexes.meta                 &  102\\\\\n",
       "\t I48 Atrial fibrillation and flutter & icd10-I48-both\\_sexes.meta                 &  111\\\\\n",
       "\t Longevity                           & lifegen\\_phase2\\_bothpl\\_alldr\\_2017\\_09\\_18    &   25\\\\\n",
       "\t fasting glucose                     & MAGIC1000G\\_FG\\_EUR                         &  170\\\\\n",
       "\t type 2 diabetes                     & Mahajan.NatGenet2018b.T2D.European\\_sorted &  409\\\\\n",
       "\t Multivariate Longevity              & timmers2020\\_healthspan\\_lifespan\\_longevity &   35\\\\\n",
       "\\end{tabular}\n"
      ],
      "text/markdown": [
       "\n",
       "A data.frame: 17 × 3\n",
       "\n",
       "| description &lt;chr&gt; | full_trait_id &lt;chr&gt; | total &lt;int&gt; |\n",
       "|---|---|---|\n",
       "| HDL cholesterol                     | biomarkers-30760-both_sexes-irnt.meta     | 2151 |\n",
       "| LDL direct                          | biomarkers-30780-both_sexes-irnt.meta     |  900 |\n",
       "| birth weight (eur)                  | BW3_EUR_summary_stats                     |   66 |\n",
       "| childhood obesity (eur)             | CHILDHOOD_OBESITY.eur                     |   14 |\n",
       "| Ventricular rate                    | continuous-12336-both_sexes-irnt.meta     |   14 |\n",
       "| QRS duration                        | continuous-12340-both_sexes-irnt.meta     |   50 |\n",
       "| Body mass index (BMI)               | continuous-23104-both_sexes-irnt.meta     | 1857 |\n",
       "| Pulse rate                          | continuous-4194-both_sexes-irnt.meta      |  168 |\n",
       "| type_1_diabetes                     | GCST90014023_buildGRCh38                  |  224 |\n",
       "| I20 Angina pectoris                 | icd10-I20-both_sexes.meta                 |   45 |\n",
       "| I21 Acute myocardial infarction     | icd10-I21-both_sexes.meta                 |   30 |\n",
       "| I25 Chronic ischaemic heart disease | icd10-I25-both_sexes.meta                 |  102 |\n",
       "| I48 Atrial fibrillation and flutter | icd10-I48-both_sexes.meta                 |  111 |\n",
       "| Longevity                           | lifegen_phase2_bothpl_alldr_2017_09_18    |   25 |\n",
       "| fasting glucose                     | MAGIC1000G_FG_EUR                         |  170 |\n",
       "| type 2 diabetes                     | Mahajan.NatGenet2018b.T2D.European_sorted |  409 |\n",
       "| Multivariate Longevity              | timmers2020_healthspan_lifespan_longevity |   35 |\n",
       "\n"
      ],
      "text/plain": [
       "   description                        \n",
       "1  HDL cholesterol                    \n",
       "2  LDL direct                         \n",
       "3  birth weight (eur)                 \n",
       "4  childhood obesity (eur)            \n",
       "5  Ventricular rate                   \n",
       "6  QRS duration                       \n",
       "7  Body mass index (BMI)              \n",
       "8  Pulse rate                         \n",
       "9  type_1_diabetes                    \n",
       "10 I20 Angina pectoris                \n",
       "11 I21 Acute myocardial infarction    \n",
       "12 I25 Chronic ischaemic heart disease\n",
       "13 I48 Atrial fibrillation and flutter\n",
       "14 Longevity                          \n",
       "15 fasting glucose                    \n",
       "16 type 2 diabetes                    \n",
       "17 Multivariate Longevity             \n",
       "   full_trait_id                             total\n",
       "1  biomarkers-30760-both_sexes-irnt.meta     2151 \n",
       "2  biomarkers-30780-both_sexes-irnt.meta      900 \n",
       "3  BW3_EUR_summary_stats                       66 \n",
       "4  CHILDHOOD_OBESITY.eur                       14 \n",
       "5  continuous-12336-both_sexes-irnt.meta       14 \n",
       "6  continuous-12340-both_sexes-irnt.meta       50 \n",
       "7  continuous-23104-both_sexes-irnt.meta     1857 \n",
       "8  continuous-4194-both_sexes-irnt.meta       168 \n",
       "9  GCST90014023_buildGRCh38                   224 \n",
       "10 icd10-I20-both_sexes.meta                   45 \n",
       "11 icd10-I21-both_sexes.meta                   30 \n",
       "12 icd10-I25-both_sexes.meta                  102 \n",
       "13 icd10-I48-both_sexes.meta                  111 \n",
       "14 lifegen_phase2_bothpl_alldr_2017_09_18      25 \n",
       "15 MAGIC1000G_FG_EUR                          170 \n",
       "16 Mahajan.NatGenet2018b.T2D.European_sorted  409 \n",
       "17 timmers2020_healthspan_lifespan_longevity   35 "
      ]
     },
     "metadata": {},
     "output_type": "display_data"
    },
    {
     "name": "stderr",
     "output_type": "stream",
     "text": [
      "Total GWAS Loci/Signals: 6371\n",
      "\n"
     ]
    }
   ],
   "source": [
    "kb = 500\n",
    "r2 = 0.1\n",
    "wind = 50\n",
    "type = \"ct\"\n",
    "\n",
    "indep = as.data.frame(rbindlist(lapply(manifest$full_trait_id, function(trait)\n",
    "{\n",
    "#     message(trait)\n",
    "    as.data.frame(rbindlist(lapply(c(1:22), function(i)\n",
    "    {\n",
    "        if (type == \"ct\")\n",
    "        {\n",
    "            file = paste(getwd(), \"analyses/jennifer/gwas_independent/indep\", \n",
    "                         paste(trait, \"hg38_5e-08\", sep = \".\"), \n",
    "                         paste(paste0(\"chr\", i), paste(paste0(kb, \"ct\"), paste0(wind, \"wind\"), paste0(\"r\", r2), sep = \"_\"), \"prune.in\", sep = \".\"), sep = \"/\")\n",
    "        } else\n",
    "        {\n",
    "            file = paste(getwd(), \"analyses/jennifer/gwas_independent/indep\", \n",
    "                         paste(trait, \"hg38_5e-08\", sep = \".\"), \n",
    "                         paste(paste0(\"chr\", i), paste(paste0(kb, \"kb\"),  paste0(\"r\", r2), sep = \"_\"), \"prune.in\", sep = \".\"), sep = \"/\")\n",
    "        }\n",
    "            \n",
    "        if (file.exists(file))\n",
    "        {\n",
    "            # 1. Get pruned variants\n",
    "            snps = readLines(file)\n",
    "            \n",
    "            # 2. Remove MHC regions\n",
    "            if (i == 6)\n",
    "            {\n",
    "                tmp = data.frame(snp = snps) %>% mutate(pos = unlist(lapply(snp, function(x) { as.numeric(unlist(strsplit(x, \"_\"))[2]) })))\n",
    "                tmp = tmp %>% filter(pos <= 28510120 | pos >= 33480577)\n",
    "                snps = tmp$snp\n",
    "            }\n",
    "            data.frame(description = manifest[manifest$full_trait_id == trait,]$description, full_trait_id = trait, chr = i, nloci = length(unique(snps)))\n",
    "        } else\n",
    "        {\n",
    "            # 3. Sometimes, pruning doesn't work if there is only one variant that is genome-wide significant\n",
    "            file = paste(getwd(), \"analyses/jennifer/gwas_independent/indep\", \n",
    "                     paste(trait, \"hg38_5e-08\", sep = \".\"), \n",
    "                     paste(paste0(\"chr\", i), \"snps\", sep = \".\"), sep = \"/\")\n",
    "\n",
    "            snps = data.frame(snp = readLines(file)) %>%\n",
    "                mutate(chrom = unlist(lapply(snp, function(x) { unlist(strsplit(x, \"_\"))[1] }))) %>%\n",
    "                filter(chrom %in% c(1:22))\n",
    "\n",
    "            snps$chrom = as.numeric(snps$chrom)\n",
    "            snps = snps %>% filter(!is.na(chrom))\n",
    "            snps = snps %>% filter(chrom == i)\n",
    "\n",
    "            # 4. Output GWAS Index for each locus/signal\n",
    "            if (nrow(snps) > 0)\n",
    "            {\n",
    "                snps = snps$snp\n",
    "                data.frame(description = manifest[manifest$full_trait_id == trait,]$description, full_trait_id = trait, chr = i, nloci = length(unique(snps))) \n",
    "            }\n",
    "        }\n",
    "    })))\n",
    "}))) %>% group_by(full_trait_id) %>% dplyr::summarise(total = sum(nloci))\n",
    "\n",
    "b = merge(indep, manifest[,c(\"full_trait_id\", \"description\")], by = \"full_trait_id\") %>% select(description, full_trait_id, total)\n",
    "b \n",
    "\n",
    "message(paste(\"Total GWAS Loci/Signals:\", sum(b$total)))\n"
   ]
  },
  {
   "cell_type": "markdown",
   "metadata": {},
   "source": [
    "### visually check that the prune variants capture a single GWAS locus"
   ]
  },
  {
   "cell_type": "code",
   "execution_count": null,
   "metadata": {},
   "outputs": [],
   "source": [
    "data = fread(manifest[manifest$full_trait_id %like% \"timmers\",]$filename, data.table = F)"
   ]
  },
  {
   "cell_type": "code",
   "execution_count": 9,
   "metadata": {},
   "outputs": [],
   "source": [
    "data2 = data[data$chr == \"chr6\",]"
   ]
  },
  {
   "cell_type": "code",
   "execution_count": 10,
   "metadata": {},
   "outputs": [],
   "source": [
    "data2$p = as.double(data2$p)"
   ]
  },
  {
   "cell_type": "code",
   "execution_count": 11,
   "metadata": {},
   "outputs": [
    {
     "data": {
      "text/html": [
       "<style>\n",
       ".list-inline {list-style: none; margin:0; padding: 0}\n",
       ".list-inline>li {display: inline-block}\n",
       ".list-inline>li:not(:last-child)::after {content: \"\\00b7\"; padding: 0 .5ex}\n",
       "</style>\n",
       "<ol class=list-inline><li>396321</li><li>32618190</li><li>108687991</li><li>160361630</li><li>160646860</li><li>160883040</li></ol>\n"
      ],
      "text/latex": [
       "\\begin{enumerate*}\n",
       "\\item 396321\n",
       "\\item 32618190\n",
       "\\item 108687991\n",
       "\\item 160361630\n",
       "\\item 160646860\n",
       "\\item 160883040\n",
       "\\end{enumerate*}\n"
      ],
      "text/markdown": [
       "1. 396321\n",
       "2. 32618190\n",
       "3. 108687991\n",
       "4. 160361630\n",
       "5. 160646860\n",
       "6. 160883040\n",
       "\n",
       "\n"
      ],
      "text/plain": [
       "[1]    396321  32618190 108687991 160361630 160646860 160883040"
      ]
     },
     "metadata": {},
     "output_type": "display_data"
    }
   ],
   "source": [
    "pruned = readLines(\"analyses/jennifer/gwas_independent/indep/timmers2020_healthspan_lifespan_longevity.hg38_5e-08/chr6.500ct_50wind_r0.01.prune.in\")\n",
    "pruned = as.numeric(unlist(lapply(pruned, function(x) { unlist(strsplit(x, \"_\"))[2] })))\n",
    "pruned"
   ]
  },
  {
   "cell_type": "code",
   "execution_count": 12,
   "metadata": {},
   "outputs": [
    {
     "data": {
      "text/html": [
       "<table class=\"dataframe\">\n",
       "<caption>A data.frame: 2 × 11</caption>\n",
       "<thead>\n",
       "\t<tr><th></th><th scope=col>chr</th><th scope=col>pos</th><th scope=col>a1</th><th scope=col>a2</th><th scope=col>af</th><th scope=col>beta</th><th scope=col>se</th><th scope=col>p</th><th scope=col>n</th><th scope=col>maf</th><th scope=col>chrpos</th></tr>\n",
       "\t<tr><th></th><th scope=col>&lt;chr&gt;</th><th scope=col>&lt;int&gt;</th><th scope=col>&lt;chr&gt;</th><th scope=col>&lt;chr&gt;</th><th scope=col>&lt;dbl&gt;</th><th scope=col>&lt;dbl&gt;</th><th scope=col>&lt;dbl&gt;</th><th scope=col>&lt;dbl&gt;</th><th scope=col>&lt;int&gt;</th><th scope=col>&lt;dbl&gt;</th><th scope=col>&lt;chr&gt;</th></tr>\n",
       "</thead>\n",
       "<tbody>\n",
       "\t<tr><th scope=row>5646060</th><td>chr6</td><td>202452</td><td>T</td><td>C</td><td>0.063</td><td>-0.010112</td><td>0.003455</td><td>0.00342096</td><td>709709</td><td>0.063</td><td>chr6_202452</td></tr>\n",
       "\t<tr><th scope=row>5646061</th><td>chr6</td><td>202777</td><td>T</td><td>C</td><td>0.049</td><td> 0.000135</td><td>0.003888</td><td>0.97221600</td><td>709709</td><td>0.049</td><td>chr6_202777</td></tr>\n",
       "</tbody>\n",
       "</table>\n"
      ],
      "text/latex": [
       "A data.frame: 2 × 11\n",
       "\\begin{tabular}{r|lllllllllll}\n",
       "  & chr & pos & a1 & a2 & af & beta & se & p & n & maf & chrpos\\\\\n",
       "  & <chr> & <int> & <chr> & <chr> & <dbl> & <dbl> & <dbl> & <dbl> & <int> & <dbl> & <chr>\\\\\n",
       "\\hline\n",
       "\t5646060 & chr6 & 202452 & T & C & 0.063 & -0.010112 & 0.003455 & 0.00342096 & 709709 & 0.063 & chr6\\_202452\\\\\n",
       "\t5646061 & chr6 & 202777 & T & C & 0.049 &  0.000135 & 0.003888 & 0.97221600 & 709709 & 0.049 & chr6\\_202777\\\\\n",
       "\\end{tabular}\n"
      ],
      "text/markdown": [
       "\n",
       "A data.frame: 2 × 11\n",
       "\n",
       "| <!--/--> | chr &lt;chr&gt; | pos &lt;int&gt; | a1 &lt;chr&gt; | a2 &lt;chr&gt; | af &lt;dbl&gt; | beta &lt;dbl&gt; | se &lt;dbl&gt; | p &lt;dbl&gt; | n &lt;int&gt; | maf &lt;dbl&gt; | chrpos &lt;chr&gt; |\n",
       "|---|---|---|---|---|---|---|---|---|---|---|---|\n",
       "| 5646060 | chr6 | 202452 | T | C | 0.063 | -0.010112 | 0.003455 | 0.00342096 | 709709 | 0.063 | chr6_202452 |\n",
       "| 5646061 | chr6 | 202777 | T | C | 0.049 |  0.000135 | 0.003888 | 0.97221600 | 709709 | 0.049 | chr6_202777 |\n",
       "\n"
      ],
      "text/plain": [
       "        chr  pos    a1 a2 af    beta      se       p          n      maf  \n",
       "5646060 chr6 202452 T  C  0.063 -0.010112 0.003455 0.00342096 709709 0.063\n",
       "5646061 chr6 202777 T  C  0.049  0.000135 0.003888 0.97221600 709709 0.049\n",
       "        chrpos     \n",
       "5646060 chr6_202452\n",
       "5646061 chr6_202777"
      ]
     },
     "metadata": {},
     "output_type": "display_data"
    }
   ],
   "source": [
    "head(data2,2)"
   ]
  },
  {
   "cell_type": "code",
   "execution_count": 13,
   "metadata": {},
   "outputs": [
    {
     "data": {
      "image/png": "[encoded data removed]",
      "text/plain": [
       "plot without title"
      ]
     },
     "metadata": {
      "image/png": {
       "height": 420,
       "width": 420
      }
     },
     "output_type": "display_data"
    }
   ],
   "source": [
    "ggplot(data2 %>% filter(p < 1e-3), aes(x = pos/1e6,  y = -log10(p))) + geom_point() + jn_classic + \n",
    "    geom_point(data = data2 %>% filter(pos %in% pruned), color = \"red\") + \n",
    "#     geom_vline(xintercept = 28510120/1e6, color = \"red\") + \n",
    "#     geom_vline(xintercept = 36.5, color = \"red\") + \n",
    "#     xlim(28, 37) + \n",
    "    geom_hline(yintercept = -log10(5e-08), linetype = \"dashed\")"
   ]
  },
  {
   "cell_type": "markdown",
   "metadata": {},
   "source": [
    "# 3. How many GWAS loci explained by eQTLs?"
   ]
  },
  {
   "cell_type": "markdown",
   "metadata": {},
   "source": [
    "### 3.1 Prepare input for tags"
   ]
  },
  {
   "cell_type": "code",
   "execution_count": 45,
   "metadata": {},
   "outputs": [],
   "source": [
    "kb = 500\n",
    "r2 = 0.01\n",
    "wind = 50\n",
    "type = \"ct\"\n",
    "\n",
    "pruned = as.data.frame(rbindlist(lapply(manifest$full_trait_id, function(trait)\n",
    "{\n",
    "#     message(trait)\n",
    "    as.data.frame(rbindlist(lapply(c(1:22), function(i)\n",
    "    {\n",
    "        if (type == \"ct\")\n",
    "        {\n",
    "            file = paste(getwd(), \"analyses/jennifer/gwas_independent/indep\", \n",
    "                         paste(trait, \"hg38_5e-08\", sep = \".\"), \n",
    "                         paste(paste0(\"chr\", i), paste(paste0(kb, \"ct\"), paste0(wind, \"wind\"), paste0(\"r\", r2), sep = \"_\"), \"prune.in\", sep = \".\"), sep = \"/\")\n",
    "        } else\n",
    "        {\n",
    "            file = paste(getwd(), \"analyses/jennifer/gwas_independent/indep\", \n",
    "                         paste(trait, \"hg38_5e-08\", sep = \".\"), \n",
    "                         paste(paste0(\"chr\", i), paste(paste0(kb, \"kb\"),  paste0(\"r\", r2), sep = \"_\"), \"prune.in\", sep = \".\"), sep = \"/\")\n",
    "        }\n",
    "            \n",
    "        if (file.exists(file))\n",
    "        {\n",
    "            # 1. Get pruned variants\n",
    "            snps = readLines(file)\n",
    "            \n",
    "            # 2. Remove MHC regions\n",
    "            if (i == 6)\n",
    "            {\n",
    "                tmp = data.frame(snp = snps) %>% mutate(pos = unlist(lapply(snp, function(x) { as.numeric(unlist(strsplit(x, \"_\"))[2]) })))\n",
    "                tmp = tmp %>% filter(pos <= 28510120 | pos >= 33480577)\n",
    "                snps = tmp$snp\n",
    "            }\n",
    "            data.frame(description = manifest[manifest$full_trait_id == trait,]$description, full_trait_id = trait, chr = i, snp = snps)\n",
    "        } \n",
    "    })))\n",
    "}))) "
   ]
  },
  {
   "cell_type": "code",
   "execution_count": 48,
   "metadata": {},
   "outputs": [
    {
     "data": {
      "text/html": [
       "<table class=\"dataframe\">\n",
       "<caption>A data.frame: 2 × 4</caption>\n",
       "<thead>\n",
       "\t<tr><th></th><th scope=col>description</th><th scope=col>full_trait_id</th><th scope=col>chr</th><th scope=col>snp</th></tr>\n",
       "\t<tr><th></th><th scope=col>&lt;chr&gt;</th><th scope=col>&lt;chr&gt;</th><th scope=col>&lt;int&gt;</th><th scope=col>&lt;chr&gt;</th></tr>\n",
       "</thead>\n",
       "<tbody>\n",
       "\t<tr><th scope=row>1</th><td>Longevity</td><td>lifegen_phase2_bothpl_alldr_2017_09_18</td><td>2</td><td>2_630070  </td></tr>\n",
       "\t<tr><th scope=row>2</th><td>Longevity</td><td>lifegen_phase2_bothpl_alldr_2017_09_18</td><td>2</td><td>2_26705229</td></tr>\n",
       "</tbody>\n",
       "</table>\n"
      ],
      "text/latex": [
       "A data.frame: 2 × 4\n",
       "\\begin{tabular}{r|llll}\n",
       "  & description & full\\_trait\\_id & chr & snp\\\\\n",
       "  & <chr> & <chr> & <int> & <chr>\\\\\n",
       "\\hline\n",
       "\t1 & Longevity & lifegen\\_phase2\\_bothpl\\_alldr\\_2017\\_09\\_18 & 2 & 2\\_630070  \\\\\n",
       "\t2 & Longevity & lifegen\\_phase2\\_bothpl\\_alldr\\_2017\\_09\\_18 & 2 & 2\\_26705229\\\\\n",
       "\\end{tabular}\n"
      ],
      "text/markdown": [
       "\n",
       "A data.frame: 2 × 4\n",
       "\n",
       "| <!--/--> | description &lt;chr&gt; | full_trait_id &lt;chr&gt; | chr &lt;int&gt; | snp &lt;chr&gt; |\n",
       "|---|---|---|---|---|\n",
       "| 1 | Longevity | lifegen_phase2_bothpl_alldr_2017_09_18 | 2 | 2_630070   |\n",
       "| 2 | Longevity | lifegen_phase2_bothpl_alldr_2017_09_18 | 2 | 2_26705229 |\n",
       "\n"
      ],
      "text/plain": [
       "  description full_trait_id                          chr snp       \n",
       "1 Longevity   lifegen_phase2_bothpl_alldr_2017_09_18 2   2_630070  \n",
       "2 Longevity   lifegen_phase2_bothpl_alldr_2017_09_18 2   2_26705229"
      ]
     },
     "metadata": {},
     "output_type": "display_data"
    }
   ],
   "source": [
    "pruned %>% head(2)"
   ]
  },
  {
   "cell_type": "code",
   "execution_count": 112,
   "metadata": {},
   "outputs": [
    {
     "data": {
      "text/html": [
       "<style>\n",
       ".list-inline {list-style: none; margin:0; padding: 0}\n",
       ".list-inline>li {display: inline-block}\n",
       ".list-inline>li:not(:last-child)::after {content: \"\\00b7\"; padding: 0 .5ex}\n",
       "</style>\n",
       "<ol class=list-inline><li>'17_42620270'</li><li>'11_61820833'</li></ol>\n"
      ],
      "text/latex": [
       "\\begin{enumerate*}\n",
       "\\item '17\\_42620270'\n",
       "\\item '11\\_61820833'\n",
       "\\end{enumerate*}\n"
      ],
      "text/markdown": [
       "1. '17_42620270'\n",
       "2. '11_61820833'\n",
       "\n",
       "\n"
      ],
      "text/plain": [
       "[1] \"17_42620270\" \"11_61820833\""
      ]
     },
     "metadata": {},
     "output_type": "display_data"
    }
   ],
   "source": [
    "gwas = fread(\"analyses/jennifer/gwas_coloc/all.gwas_summary.all_downstream_traits.2024_0321.txt\", data.table = F)  %>%\n",
    "    filter(full_trait_id %in% manifest$full_trait_id) %>% dplyr::relocate(description, .before = full_trait_id) %>%\n",
    "    filter(coloc_gwas == T ) \n",
    "\n",
    "towrite = gwas %>% select(topsnp)\n",
    "towrite$topsnp = unlist(lapply(towrite$topsnp, function(x) { paste(unlist(strsplit(x, \"_\"))[2:3], collapse = \"_\") }))\n",
    "head(towrite$topsnp,2)\n",
    "writeLines(unique(c(towrite$topsnp, pruned$snp)), \"analyses/jennifer/gwas_independent/tag_qtl/gwas_topsnp.txt\", sep = \"\\n\")"
   ]
  },
  {
   "cell_type": "markdown",
   "metadata": {},
   "source": [
    "### 3.2 Run tags"
   ]
  },
  {
   "cell_type": "code",
   "execution_count": null,
   "metadata": {},
   "outputs": [],
   "source": [
    "cmd = \"cd analyses/jennifer/gwas_independent; qsub /projects/CARDIPS/analysis/epigenome_resource/analyses/jennifer/notebooks/11.02.tagging_gwas_topsnp.sh 500 50 0.01 ct 0.7 500\"\n",
    "system(cmd)"
   ]
  },
  {
   "cell_type": "code",
   "execution_count": null,
   "metadata": {},
   "outputs": [],
   "source": [
    "cmd = \"cd analyses/jennifer/gwas_independent; qsub /projects/CARDIPS/analysis/epigenome_resource/analyses/jennifer/notebooks/11.02.tagging_gwas_topsnp.sh 500 50 0.1 ct 0.7 500\"\n",
    "system(cmd)"
   ]
  },
  {
   "cell_type": "code",
   "execution_count": 128,
   "metadata": {},
   "outputs": [],
   "source": [
    "# cmd = \"qsub /projects/CARDIPS/analysis/epigenome_resource/analyses/jennifer/notebooks/11.02.tagging_gwas_topsnp.sh 500 50 0.1 ct 0.1 1000\"\n",
    "# system(cmd)\n",
    "\n",
    "# cmd = \"qsub /projects/CARDIPS/analysis/epigenome_resource/analyses/jennifer/notebooks/11.02.tagging_gwas_topsnp.sh 500 50 0.01 ct 0.2 500\"\n",
    "# system(cmd)\n",
    "\n",
    "# cmd = \"qsub /projects/CARDIPS/analysis/epigenome_resource/analyses/jennifer/notebooks/11.02.tagging_gwas_topsnp.sh 100 1 0.1 ct 0.1 500\"\n",
    "# system(cmd)\n"
   ]
  },
  {
   "cell_type": "markdown",
   "metadata": {},
   "source": [
    "### 3.3 Analyze"
   ]
  },
  {
   "cell_type": "markdown",
   "metadata": {},
   "source": [
    "### 3.3.1 Get GWAS-colocalized QTLs"
   ]
  },
  {
   "cell_type": "code",
   "execution_count": 114,
   "metadata": {},
   "outputs": [
    {
     "name": "stderr",
     "output_type": "stream",
     "text": [
      "Warning message in cbind(parts$left, chars$ellip_h, parts$right, deparse.level = 0L):\n",
      "“number of rows of result is not a multiple of vector length (arg 2)”\n",
      "Warning message in cbind(parts$left, chars$ellip_h, parts$right, deparse.level = 0L):\n",
      "“number of rows of result is not a multiple of vector length (arg 2)”\n",
      "Warning message in cbind(parts$left, chars$ellip_h, parts$right, deparse.level = 0L):\n",
      "“number of rows of result is not a multiple of vector length (arg 2)”\n",
      "Warning message in cbind(parts$left, chars$ellip_h, parts$right, deparse.level = 0L):\n",
      "“number of rows of result is not a multiple of vector length (arg 2)”\n"
     ]
    },
    {
     "data": {
      "text/html": [
       "<table class=\"dataframe\">\n",
       "<caption>A grouped_df: 0 × 47</caption>\n",
       "<thead>\n",
       "\t<tr><th scope=col>full_trait_id</th><th scope=col>cluster_id</th><th scope=col>element_cond</th><th scope=col>tissue</th><th scope=col>element_id</th><th scope=col>element_chr</th><th scope=col>element_start</th><th scope=col>element_end</th><th scope=col>element_name</th><th scope=col>element_strand</th><th scope=col>⋯</th><th scope=col>qtl_type</th><th scope=col>qtl_combo</th><th scope=col>module</th><th scope=col>n_qtltypes</th><th scope=col>number_elements_coloc</th><th scope=col>prop_cluster_coloc</th><th scope=col>coloc_gwas</th><th scope=col>fetal_unique</th><th scope=col>has_tfbs</th><th scope=col>id</th></tr>\n",
       "\t<tr><th scope=col>&lt;chr&gt;</th><th scope=col>&lt;chr&gt;</th><th scope=col>&lt;chr&gt;</th><th scope=col>&lt;chr&gt;</th><th scope=col>&lt;chr&gt;</th><th scope=col>&lt;chr&gt;</th><th scope=col>&lt;int&gt;</th><th scope=col>&lt;int&gt;</th><th scope=col>&lt;chr&gt;</th><th scope=col>&lt;chr&gt;</th><th scope=col>⋯</th><th scope=col>&lt;chr&gt;</th><th scope=col>&lt;chr&gt;</th><th scope=col>&lt;chr&gt;</th><th scope=col>&lt;int&gt;</th><th scope=col>&lt;int&gt;</th><th scope=col>&lt;dbl&gt;</th><th scope=col>&lt;lgl&gt;</th><th scope=col>&lt;lgl&gt;</th><th scope=col>&lt;lgl&gt;</th><th scope=col>&lt;chr&gt;</th></tr>\n",
       "</thead>\n",
       "<tbody>\n",
       "</tbody>\n",
       "</table>\n"
      ],
      "text/latex": [
       "A grouped\\_df: 0 × 47\n",
       "\\begin{tabular}{lllllllllllllllllllll}\n",
       " full\\_trait\\_id & cluster\\_id & element\\_cond & tissue & element\\_id & element\\_chr & element\\_start & element\\_end & element\\_name & element\\_strand & ⋯ & qtl\\_type & qtl\\_combo & module & n\\_qtltypes & number\\_elements\\_coloc & prop\\_cluster\\_coloc & coloc\\_gwas & fetal\\_unique & has\\_tfbs & id\\\\\n",
       " <chr> & <chr> & <chr> & <chr> & <chr> & <chr> & <int> & <int> & <chr> & <chr> & ⋯ & <chr> & <chr> & <chr> & <int> & <int> & <dbl> & <lgl> & <lgl> & <lgl> & <chr>\\\\\n",
       "\\hline\n",
       "\\end{tabular}\n"
      ],
      "text/markdown": [
       "\n",
       "A grouped_df: 0 × 47\n",
       "\n",
       "| full_trait_id &lt;chr&gt; | cluster_id &lt;chr&gt; | element_cond &lt;chr&gt; | tissue &lt;chr&gt; | element_id &lt;chr&gt; | element_chr &lt;chr&gt; | element_start &lt;int&gt; | element_end &lt;int&gt; | element_name &lt;chr&gt; | element_strand &lt;chr&gt; | ⋯ ⋯ | qtl_type &lt;chr&gt; | qtl_combo &lt;chr&gt; | module &lt;chr&gt; | n_qtltypes &lt;int&gt; | number_elements_coloc &lt;int&gt; | prop_cluster_coloc &lt;dbl&gt; | coloc_gwas &lt;lgl&gt; | fetal_unique &lt;lgl&gt; | has_tfbs &lt;lgl&gt; | id &lt;chr&gt; |\n",
       "|---|---|---|---|---|---|---|---|---|---|---|---|---|---|---|---|---|---|---|---|---|\n",
       "\n"
      ],
      "text/plain": [
       "     full_trait_id cluster_id element_cond tissue element_id element_chr\n",
       "     element_start element_end element_name element_strand ⋯ qtl_type qtl_combo\n",
       "     module n_qtltypes number_elements_coloc prop_cluster_coloc coloc_gwas\n",
       "     fetal_unique has_tfbs id"
      ]
     },
     "metadata": {},
     "output_type": "display_data"
    },
    {
     "name": "stderr",
     "output_type": "stream",
     "text": [
      "Warning message in cbind(parts$left, chars$ellip_h, parts$right, deparse.level = 0L):\n",
      "“number of rows of result is not a multiple of vector length (arg 2)”\n",
      "Warning message in cbind(parts$left, chars$ellip_h, parts$right, deparse.level = 0L):\n",
      "“number of rows of result is not a multiple of vector length (arg 2)”\n",
      "Warning message in cbind(parts$left, chars$ellip_h, parts$right, deparse.level = 0L):\n",
      "“number of rows of result is not a multiple of vector length (arg 2)”\n",
      "Warning message in cbind(parts$left, chars$ellip_h, parts$right, deparse.level = 0L):\n",
      "“number of rows of result is not a multiple of vector length (arg 2)”\n"
     ]
    },
    {
     "data": {
      "text/html": [
       "<table class=\"dataframe\">\n",
       "<caption>A grouped_df: 0 × 47</caption>\n",
       "<thead>\n",
       "\t<tr><th scope=col>full_trait_id</th><th scope=col>cluster_id</th><th scope=col>element_cond</th><th scope=col>tissue</th><th scope=col>element_id</th><th scope=col>element_chr</th><th scope=col>element_start</th><th scope=col>element_end</th><th scope=col>element_name</th><th scope=col>element_strand</th><th scope=col>⋯</th><th scope=col>qtl_type</th><th scope=col>qtl_combo</th><th scope=col>module</th><th scope=col>n_qtltypes</th><th scope=col>number_elements_coloc</th><th scope=col>prop_cluster_coloc</th><th scope=col>coloc_gwas</th><th scope=col>fetal_unique</th><th scope=col>has_tfbs</th><th scope=col>id</th></tr>\n",
       "\t<tr><th scope=col>&lt;chr&gt;</th><th scope=col>&lt;chr&gt;</th><th scope=col>&lt;chr&gt;</th><th scope=col>&lt;chr&gt;</th><th scope=col>&lt;chr&gt;</th><th scope=col>&lt;chr&gt;</th><th scope=col>&lt;int&gt;</th><th scope=col>&lt;int&gt;</th><th scope=col>&lt;chr&gt;</th><th scope=col>&lt;chr&gt;</th><th scope=col>⋯</th><th scope=col>&lt;chr&gt;</th><th scope=col>&lt;chr&gt;</th><th scope=col>&lt;chr&gt;</th><th scope=col>&lt;int&gt;</th><th scope=col>&lt;int&gt;</th><th scope=col>&lt;dbl&gt;</th><th scope=col>&lt;lgl&gt;</th><th scope=col>&lt;lgl&gt;</th><th scope=col>&lt;lgl&gt;</th><th scope=col>&lt;chr&gt;</th></tr>\n",
       "</thead>\n",
       "<tbody>\n",
       "</tbody>\n",
       "</table>\n"
      ],
      "text/latex": [
       "A grouped\\_df: 0 × 47\n",
       "\\begin{tabular}{lllllllllllllllllllll}\n",
       " full\\_trait\\_id & cluster\\_id & element\\_cond & tissue & element\\_id & element\\_chr & element\\_start & element\\_end & element\\_name & element\\_strand & ⋯ & qtl\\_type & qtl\\_combo & module & n\\_qtltypes & number\\_elements\\_coloc & prop\\_cluster\\_coloc & coloc\\_gwas & fetal\\_unique & has\\_tfbs & id\\\\\n",
       " <chr> & <chr> & <chr> & <chr> & <chr> & <chr> & <int> & <int> & <chr> & <chr> & ⋯ & <chr> & <chr> & <chr> & <int> & <int> & <dbl> & <lgl> & <lgl> & <lgl> & <chr>\\\\\n",
       "\\hline\n",
       "\\end{tabular}\n"
      ],
      "text/markdown": [
       "\n",
       "A grouped_df: 0 × 47\n",
       "\n",
       "| full_trait_id &lt;chr&gt; | cluster_id &lt;chr&gt; | element_cond &lt;chr&gt; | tissue &lt;chr&gt; | element_id &lt;chr&gt; | element_chr &lt;chr&gt; | element_start &lt;int&gt; | element_end &lt;int&gt; | element_name &lt;chr&gt; | element_strand &lt;chr&gt; | ⋯ ⋯ | qtl_type &lt;chr&gt; | qtl_combo &lt;chr&gt; | module &lt;chr&gt; | n_qtltypes &lt;int&gt; | number_elements_coloc &lt;int&gt; | prop_cluster_coloc &lt;dbl&gt; | coloc_gwas &lt;lgl&gt; | fetal_unique &lt;lgl&gt; | has_tfbs &lt;lgl&gt; | id &lt;chr&gt; |\n",
       "|---|---|---|---|---|---|---|---|---|---|---|---|---|---|---|---|---|---|---|---|---|\n",
       "\n"
      ],
      "text/plain": [
       "     full_trait_id cluster_id element_cond tissue element_id element_chr\n",
       "     element_start element_end element_name element_strand ⋯ qtl_type qtl_combo\n",
       "     module n_qtltypes number_elements_coloc prop_cluster_coloc coloc_gwas\n",
       "     fetal_unique has_tfbs id"
      ]
     },
     "metadata": {},
     "output_type": "display_data"
    }
   ],
   "source": [
    "gwas = fread(\"analyses/jennifer/gwas_coloc/all.gwas_summary.all_downstream_traits.2024_0321.txt\", data.table = F)  %>% filter(coloc_gwas == T & PP.H4.abf >= 0.8 & p.gwas <= 5e-08 & p.eqtl <= 5e-05)\n",
    "gwas_nodup = gwas  %>% mutate(id = paste(cluster_id, full_trait_id)) %>% group_by(id) %>% dplyr::filter(topsnp_pp == max(topsnp_pp)) # Assign one QTL-GWAS entry\n",
    "\n",
    "gwas_nodup %>% filter(duplicated(id))\n",
    "\n",
    "gwas_nodup = gwas_nodup %>% filter(duplicated(id) == F)\n",
    "\n",
    "gwas_nodup %>% filter(duplicated(id))"
   ]
  },
  {
   "cell_type": "markdown",
   "metadata": {},
   "source": [
    "### 3.3.2 Annotate each GWAS locus"
   ]
  },
  {
   "cell_type": "code",
   "execution_count": 129,
   "metadata": {},
   "outputs": [],
   "source": [
    "kb = 500\n",
    "wind = 50\n",
    "r2 = 0.1\n",
    "type = \"ct\""
   ]
  },
  {
   "cell_type": "code",
   "execution_count": 130,
   "metadata": {},
   "outputs": [],
   "source": [
    "indep = as.data.frame(rbindlist(lapply(manifest$full_trait_id, function(trait)\n",
    "{\n",
    "    as.data.frame(rbindlist(lapply(c(1:22), function(i)\n",
    "    {\n",
    "        file = paste(getwd(), \"analyses/jennifer/gwas_independent/indep\", \n",
    "                     paste(trait, \"hg38_5e-08\", sep = \".\"), \n",
    "                     paste(paste0(\"chr\", i), paste(paste0(kb, \"ct\"), paste0(wind, \"wind\"), paste0(\"r\", r2), sep = \"_\"), \"prune.in\", sep = \".\"), sep = \"/\")\n",
    "        if (file.exists(file))\n",
    "        {\n",
    "            # 1. Get GWAS independent loci (i.e., pruned variants)\n",
    "            snps = readLines(file)\n",
    "            if (i == 6)\n",
    "            {\n",
    "                # 2. Remove loci in MHC regions\n",
    "                tmp = data.frame(snp = snps) %>% filter(!snp %like% \"X\") %>% mutate(pos = unlist(lapply(snp, function(x) { as.numeric(unlist(strsplit(x, \"_\"))[2]) })))\n",
    "                tmp = tmp %>% filter(pos <= 28510120 | pos >= 33480577)\n",
    "                snps = tmp$snp\n",
    "            }\n",
    "            \n",
    "            #2. Output GWAS Index for each locus/signal\n",
    "            data.frame(description = manifest[manifest$full_trait_id == trait,]$description, full_trait_id = trait, chr = i, gwas_index = snps) \n",
    "        } else\n",
    "        {  \n",
    "            # 3. Sometimes, pruning doesn't work if there is only one variant that is genome-wide significant\n",
    "            file = paste(getwd(), \"analyses/jennifer/gwas_independent/indep\", \n",
    "                     paste(trait, \"hg38_5e-08\", sep = \".\"), \n",
    "                     paste(paste0(\"chr\", i), \"snps\", sep = \".\"), sep = \"/\")\n",
    "            \n",
    "            snps = data.frame(snp = readLines(file)) %>%\n",
    "                mutate(chrom = unlist(lapply(snp, function(x) { unlist(strsplit(x, \"_\"))[1] }))) %>%\n",
    "                filter(chrom %in% c(1:22))\n",
    "\n",
    "            snps$chrom = as.numeric(snps$chrom)\n",
    "            snps = snps %>% filter(!is.na(chrom))\n",
    "            snps = snps %>% filter(chrom == i)\n",
    "            \n",
    "            # 4. Output GWAS Index for each locus/signal\n",
    "            if (nrow(snps) > 0)\n",
    "            {\n",
    "                snps = snps$snp\n",
    "                data.frame(description = manifest[manifest$full_trait_id == trait,]$description, full_trait_id = trait, chr = i, gwas_index = snps) \n",
    "            }\n",
    "        }\n",
    "    })))\n",
    "}))) %>% group_by(full_trait_id)  %>% filter(full_trait_id != \"continuous-20022-both_sexes-irnt.meta\" & description != \"Healthspan\") %>% distinct()\n"
   ]
  },
  {
   "cell_type": "code",
   "execution_count": 131,
   "metadata": {},
   "outputs": [
    {
     "data": {
      "text/html": [
       "<table class=\"dataframe\">\n",
       "<caption>A data.frame: 17 × 3</caption>\n",
       "<thead>\n",
       "\t<tr><th scope=col>full_trait_id</th><th scope=col>total</th><th scope=col>description</th></tr>\n",
       "\t<tr><th scope=col>&lt;chr&gt;</th><th scope=col>&lt;int&gt;</th><th scope=col>&lt;chr&gt;</th></tr>\n",
       "</thead>\n",
       "<tbody>\n",
       "\t<tr><td>CHILDHOOD_OBESITY.eur                    </td><td>  14</td><td>childhood obesity (eur)            </td></tr>\n",
       "\t<tr><td>continuous-12336-both_sexes-irnt.meta    </td><td>  14</td><td>Ventricular rate                   </td></tr>\n",
       "\t<tr><td>lifegen_phase2_bothpl_alldr_2017_09_18   </td><td>  25</td><td>Longevity                          </td></tr>\n",
       "\t<tr><td>icd10-I21-both_sexes.meta                </td><td>  30</td><td>I21 Acute myocardial infarction    </td></tr>\n",
       "\t<tr><td>timmers2020_healthspan_lifespan_longevity</td><td>  35</td><td>Multivariate Longevity             </td></tr>\n",
       "\t<tr><td>icd10-I20-both_sexes.meta                </td><td>  45</td><td>I20 Angina pectoris                </td></tr>\n",
       "\t<tr><td>continuous-12340-both_sexes-irnt.meta    </td><td>  50</td><td>QRS duration                       </td></tr>\n",
       "\t<tr><td>BW3_EUR_summary_stats                    </td><td>  66</td><td>birth weight (eur)                 </td></tr>\n",
       "\t<tr><td>icd10-I25-both_sexes.meta                </td><td> 102</td><td>I25 Chronic ischaemic heart disease</td></tr>\n",
       "\t<tr><td>icd10-I48-both_sexes.meta                </td><td> 111</td><td>I48 Atrial fibrillation and flutter</td></tr>\n",
       "\t<tr><td>continuous-4194-both_sexes-irnt.meta     </td><td> 168</td><td>Pulse rate                         </td></tr>\n",
       "\t<tr><td>MAGIC1000G_FG_EUR                        </td><td> 170</td><td>fasting glucose                    </td></tr>\n",
       "\t<tr><td>GCST90014023_buildGRCh38                 </td><td> 224</td><td>type_1_diabetes                    </td></tr>\n",
       "\t<tr><td>Mahajan.NatGenet2018b.T2D.European_sorted</td><td> 409</td><td>type 2 diabetes                    </td></tr>\n",
       "\t<tr><td>biomarkers-30780-both_sexes-irnt.meta    </td><td> 900</td><td>LDL direct                         </td></tr>\n",
       "\t<tr><td>continuous-23104-both_sexes-irnt.meta    </td><td>1857</td><td>Body mass index (BMI)              </td></tr>\n",
       "\t<tr><td>biomarkers-30760-both_sexes-irnt.meta    </td><td>2151</td><td>HDL cholesterol                    </td></tr>\n",
       "</tbody>\n",
       "</table>\n"
      ],
      "text/latex": [
       "A data.frame: 17 × 3\n",
       "\\begin{tabular}{lll}\n",
       " full\\_trait\\_id & total & description\\\\\n",
       " <chr> & <int> & <chr>\\\\\n",
       "\\hline\n",
       "\t CHILDHOOD\\_OBESITY.eur                     &   14 & childhood obesity (eur)            \\\\\n",
       "\t continuous-12336-both\\_sexes-irnt.meta     &   14 & Ventricular rate                   \\\\\n",
       "\t lifegen\\_phase2\\_bothpl\\_alldr\\_2017\\_09\\_18    &   25 & Longevity                          \\\\\n",
       "\t icd10-I21-both\\_sexes.meta                 &   30 & I21 Acute myocardial infarction    \\\\\n",
       "\t timmers2020\\_healthspan\\_lifespan\\_longevity &   35 & Multivariate Longevity             \\\\\n",
       "\t icd10-I20-both\\_sexes.meta                 &   45 & I20 Angina pectoris                \\\\\n",
       "\t continuous-12340-both\\_sexes-irnt.meta     &   50 & QRS duration                       \\\\\n",
       "\t BW3\\_EUR\\_summary\\_stats                     &   66 & birth weight (eur)                 \\\\\n",
       "\t icd10-I25-both\\_sexes.meta                 &  102 & I25 Chronic ischaemic heart disease\\\\\n",
       "\t icd10-I48-both\\_sexes.meta                 &  111 & I48 Atrial fibrillation and flutter\\\\\n",
       "\t continuous-4194-both\\_sexes-irnt.meta      &  168 & Pulse rate                         \\\\\n",
       "\t MAGIC1000G\\_FG\\_EUR                         &  170 & fasting glucose                    \\\\\n",
       "\t GCST90014023\\_buildGRCh38                  &  224 & type\\_1\\_diabetes                    \\\\\n",
       "\t Mahajan.NatGenet2018b.T2D.European\\_sorted &  409 & type 2 diabetes                    \\\\\n",
       "\t biomarkers-30780-both\\_sexes-irnt.meta     &  900 & LDL direct                         \\\\\n",
       "\t continuous-23104-both\\_sexes-irnt.meta     & 1857 & Body mass index (BMI)              \\\\\n",
       "\t biomarkers-30760-both\\_sexes-irnt.meta     & 2151 & HDL cholesterol                    \\\\\n",
       "\\end{tabular}\n"
      ],
      "text/markdown": [
       "\n",
       "A data.frame: 17 × 3\n",
       "\n",
       "| full_trait_id &lt;chr&gt; | total &lt;int&gt; | description &lt;chr&gt; |\n",
       "|---|---|---|\n",
       "| CHILDHOOD_OBESITY.eur                     |   14 | childhood obesity (eur)             |\n",
       "| continuous-12336-both_sexes-irnt.meta     |   14 | Ventricular rate                    |\n",
       "| lifegen_phase2_bothpl_alldr_2017_09_18    |   25 | Longevity                           |\n",
       "| icd10-I21-both_sexes.meta                 |   30 | I21 Acute myocardial infarction     |\n",
       "| timmers2020_healthspan_lifespan_longevity |   35 | Multivariate Longevity              |\n",
       "| icd10-I20-both_sexes.meta                 |   45 | I20 Angina pectoris                 |\n",
       "| continuous-12340-both_sexes-irnt.meta     |   50 | QRS duration                        |\n",
       "| BW3_EUR_summary_stats                     |   66 | birth weight (eur)                  |\n",
       "| icd10-I25-both_sexes.meta                 |  102 | I25 Chronic ischaemic heart disease |\n",
       "| icd10-I48-both_sexes.meta                 |  111 | I48 Atrial fibrillation and flutter |\n",
       "| continuous-4194-both_sexes-irnt.meta      |  168 | Pulse rate                          |\n",
       "| MAGIC1000G_FG_EUR                         |  170 | fasting glucose                     |\n",
       "| GCST90014023_buildGRCh38                  |  224 | type_1_diabetes                     |\n",
       "| Mahajan.NatGenet2018b.T2D.European_sorted |  409 | type 2 diabetes                     |\n",
       "| biomarkers-30780-both_sexes-irnt.meta     |  900 | LDL direct                          |\n",
       "| continuous-23104-both_sexes-irnt.meta     | 1857 | Body mass index (BMI)               |\n",
       "| biomarkers-30760-both_sexes-irnt.meta     | 2151 | HDL cholesterol                     |\n",
       "\n"
      ],
      "text/plain": [
       "   full_trait_id                             total\n",
       "1  CHILDHOOD_OBESITY.eur                       14 \n",
       "2  continuous-12336-both_sexes-irnt.meta       14 \n",
       "3  lifegen_phase2_bothpl_alldr_2017_09_18      25 \n",
       "4  icd10-I21-both_sexes.meta                   30 \n",
       "5  timmers2020_healthspan_lifespan_longevity   35 \n",
       "6  icd10-I20-both_sexes.meta                   45 \n",
       "7  continuous-12340-both_sexes-irnt.meta       50 \n",
       "8  BW3_EUR_summary_stats                       66 \n",
       "9  icd10-I25-both_sexes.meta                  102 \n",
       "10 icd10-I48-both_sexes.meta                  111 \n",
       "11 continuous-4194-both_sexes-irnt.meta       168 \n",
       "12 MAGIC1000G_FG_EUR                          170 \n",
       "13 GCST90014023_buildGRCh38                   224 \n",
       "14 Mahajan.NatGenet2018b.T2D.European_sorted  409 \n",
       "15 biomarkers-30780-both_sexes-irnt.meta      900 \n",
       "16 continuous-23104-both_sexes-irnt.meta     1857 \n",
       "17 biomarkers-30760-both_sexes-irnt.meta     2151 \n",
       "   description                        \n",
       "1  childhood obesity (eur)            \n",
       "2  Ventricular rate                   \n",
       "3  Longevity                          \n",
       "4  I21 Acute myocardial infarction    \n",
       "5  Multivariate Longevity             \n",
       "6  I20 Angina pectoris                \n",
       "7  QRS duration                       \n",
       "8  birth weight (eur)                 \n",
       "9  I25 Chronic ischaemic heart disease\n",
       "10 I48 Atrial fibrillation and flutter\n",
       "11 Pulse rate                         \n",
       "12 fasting glucose                    \n",
       "13 type_1_diabetes                    \n",
       "14 type 2 diabetes                    \n",
       "15 LDL direct                         \n",
       "16 Body mass index (BMI)              \n",
       "17 HDL cholesterol                    "
      ]
     },
     "metadata": {},
     "output_type": "display_data"
    },
    {
     "name": "stderr",
     "output_type": "stream",
     "text": [
      "Total GWAS Loci/Signals: 6371\n",
      "\n"
     ]
    },
    {
     "data": {
      "text/html": [
       "<table class=\"dataframe\">\n",
       "<caption>A data.frame: 0 × 4</caption>\n",
       "<thead>\n",
       "\t<tr><th scope=col>full_trait_id</th><th scope=col>description</th><th scope=col>total.x</th><th scope=col>total.y</th></tr>\n",
       "\t<tr><th scope=col>&lt;chr&gt;</th><th scope=col>&lt;chr&gt;</th><th scope=col>&lt;int&gt;</th><th scope=col>&lt;int&gt;</th></tr>\n",
       "</thead>\n",
       "<tbody>\n",
       "</tbody>\n",
       "</table>\n"
      ],
      "text/latex": [
       "A data.frame: 0 × 4\n",
       "\\begin{tabular}{llll}\n",
       " full\\_trait\\_id & description & total.x & total.y\\\\\n",
       " <chr> & <chr> & <int> & <int>\\\\\n",
       "\\hline\n",
       "\\end{tabular}\n"
      ],
      "text/markdown": [
       "\n",
       "A data.frame: 0 × 4\n",
       "\n",
       "| full_trait_id &lt;chr&gt; | description &lt;chr&gt; | total.x &lt;int&gt; | total.y &lt;int&gt; |\n",
       "|---|---|---|---|\n",
       "\n"
      ],
      "text/plain": [
       "     full_trait_id description total.x total.y"
      ]
     },
     "metadata": {},
     "output_type": "display_data"
    }
   ],
   "source": [
    "# Check that number of loci is the same\n",
    "a = indep %>% group_by(full_trait_id) %>% distinct() %>% dplyr::summarise(total = n())\n",
    "a = merge(a, manifest[,c(\"full_trait_id\", \"description\")], by = \"full_trait_id\")\n",
    "a %>% arrange(total) \n",
    "\n",
    "message(paste(\"Total GWAS Loci/Signals:\", sum(a$total)))\n",
    "\n",
    "merge(b, a, by = c(\"full_trait_id\", \"description\"))  %>% filter(total.x != total.y)"
   ]
  },
  {
   "cell_type": "markdown",
   "metadata": {},
   "source": [
    "## 3.3.3 Match each GWAS signal with the colocalized QTL cluster"
   ]
  },
  {
   "cell_type": "code",
   "execution_count": 132,
   "metadata": {},
   "outputs": [
    {
     "data": {
      "text/html": [
       "<style>\n",
       ".list-inline {list-style: none; margin:0; padding: 0}\n",
       ".list-inline>li {display: inline-block}\n",
       ".list-inline>li:not(:last-child)::after {content: \"\\00b7\"; padding: 0 .5ex}\n",
       "</style>\n",
       "<ol class=list-inline><li>'lifegen_phase2_bothpl_alldr_2017_09_18'</li><li>'timmers2020_healthspan_lifespan_longevity'</li><li>'biomarkers-30760-both_sexes-irnt.meta'</li><li>'biomarkers-30780-both_sexes-irnt.meta'</li><li>'BW3_EUR_summary_stats'</li><li>'CHILDHOOD_OBESITY.eur'</li><li>'continuous-12336-both_sexes-irnt.meta'</li><li>'continuous-12340-both_sexes-irnt.meta'</li><li>'continuous-23104-both_sexes-irnt.meta'</li><li>'continuous-4194-both_sexes-irnt.meta'</li><li>'GCST90014023_buildGRCh38'</li><li>'icd10-I20-both_sexes.meta'</li><li>'icd10-I21-both_sexes.meta'</li><li>'icd10-I25-both_sexes.meta'</li><li>'icd10-I48-both_sexes.meta'</li><li>'MAGIC1000G_FG_EUR'</li><li>'Mahajan.NatGenet2018b.T2D.European_sorted'</li></ol>\n"
      ],
      "text/latex": [
       "\\begin{enumerate*}\n",
       "\\item 'lifegen\\_phase2\\_bothpl\\_alldr\\_2017\\_09\\_18'\n",
       "\\item 'timmers2020\\_healthspan\\_lifespan\\_longevity'\n",
       "\\item 'biomarkers-30760-both\\_sexes-irnt.meta'\n",
       "\\item 'biomarkers-30780-both\\_sexes-irnt.meta'\n",
       "\\item 'BW3\\_EUR\\_summary\\_stats'\n",
       "\\item 'CHILDHOOD\\_OBESITY.eur'\n",
       "\\item 'continuous-12336-both\\_sexes-irnt.meta'\n",
       "\\item 'continuous-12340-both\\_sexes-irnt.meta'\n",
       "\\item 'continuous-23104-both\\_sexes-irnt.meta'\n",
       "\\item 'continuous-4194-both\\_sexes-irnt.meta'\n",
       "\\item 'GCST90014023\\_buildGRCh38'\n",
       "\\item 'icd10-I20-both\\_sexes.meta'\n",
       "\\item 'icd10-I21-both\\_sexes.meta'\n",
       "\\item 'icd10-I25-both\\_sexes.meta'\n",
       "\\item 'icd10-I48-both\\_sexes.meta'\n",
       "\\item 'MAGIC1000G\\_FG\\_EUR'\n",
       "\\item 'Mahajan.NatGenet2018b.T2D.European\\_sorted'\n",
       "\\end{enumerate*}\n"
      ],
      "text/markdown": [
       "1. 'lifegen_phase2_bothpl_alldr_2017_09_18'\n",
       "2. 'timmers2020_healthspan_lifespan_longevity'\n",
       "3. 'biomarkers-30760-both_sexes-irnt.meta'\n",
       "4. 'biomarkers-30780-both_sexes-irnt.meta'\n",
       "5. 'BW3_EUR_summary_stats'\n",
       "6. 'CHILDHOOD_OBESITY.eur'\n",
       "7. 'continuous-12336-both_sexes-irnt.meta'\n",
       "8. 'continuous-12340-both_sexes-irnt.meta'\n",
       "9. 'continuous-23104-both_sexes-irnt.meta'\n",
       "10. 'continuous-4194-both_sexes-irnt.meta'\n",
       "11. 'GCST90014023_buildGRCh38'\n",
       "12. 'icd10-I20-both_sexes.meta'\n",
       "13. 'icd10-I21-both_sexes.meta'\n",
       "14. 'icd10-I25-both_sexes.meta'\n",
       "15. 'icd10-I48-both_sexes.meta'\n",
       "16. 'MAGIC1000G_FG_EUR'\n",
       "17. 'Mahajan.NatGenet2018b.T2D.European_sorted'\n",
       "\n",
       "\n"
      ],
      "text/plain": [
       " [1] \"lifegen_phase2_bothpl_alldr_2017_09_18\"   \n",
       " [2] \"timmers2020_healthspan_lifespan_longevity\"\n",
       " [3] \"biomarkers-30760-both_sexes-irnt.meta\"    \n",
       " [4] \"biomarkers-30780-both_sexes-irnt.meta\"    \n",
       " [5] \"BW3_EUR_summary_stats\"                    \n",
       " [6] \"CHILDHOOD_OBESITY.eur\"                    \n",
       " [7] \"continuous-12336-both_sexes-irnt.meta\"    \n",
       " [8] \"continuous-12340-both_sexes-irnt.meta\"    \n",
       " [9] \"continuous-23104-both_sexes-irnt.meta\"    \n",
       "[10] \"continuous-4194-both_sexes-irnt.meta\"     \n",
       "[11] \"GCST90014023_buildGRCh38\"                 \n",
       "[12] \"icd10-I20-both_sexes.meta\"                \n",
       "[13] \"icd10-I21-both_sexes.meta\"                \n",
       "[14] \"icd10-I25-both_sexes.meta\"                \n",
       "[15] \"icd10-I48-both_sexes.meta\"                \n",
       "[16] \"MAGIC1000G_FG_EUR\"                        \n",
       "[17] \"Mahajan.NatGenet2018b.T2D.European_sorted\""
      ]
     },
     "metadata": {},
     "output_type": "display_data"
    }
   ],
   "source": [
    "unique(manifest$full_trait_id)"
   ]
  },
  {
   "cell_type": "code",
   "execution_count": 134,
   "metadata": {},
   "outputs": [
    {
     "name": "stderr",
     "output_type": "stream",
     "text": [
      "PPC=========\n"
     ]
    },
    {
     "name": "stdout",
     "output_type": "stream",
     "text": [
      "[1] 931\n"
     ]
    },
    {
     "name": "stderr",
     "output_type": "stream",
     "text": [
      "Longevity\n",
      "Multivariate Longevity\n",
      "HDL cholesterol\n",
      "LDL direct\n",
      "birth weight (eur)\n",
      "childhood obesity (eur)\n",
      "Ventricular rate\n",
      "QRS duration\n",
      "Body mass index (BMI)\n",
      "Pulse rate\n",
      "type_1_diabetes\n",
      "I20 Angina pectoris\n",
      "I21 Acute myocardial infarction\n",
      "I25 Chronic ischaemic heart disease\n",
      "I48 Atrial fibrillation and flutter\n",
      "fasting glucose\n",
      "type 2 diabetes\n",
      "CVPC=========\n"
     ]
    },
    {
     "name": "stdout",
     "output_type": "stream",
     "text": [
      "[1] 931\n"
     ]
    },
    {
     "name": "stderr",
     "output_type": "stream",
     "text": [
      "Longevity\n",
      "Multivariate Longevity\n",
      "HDL cholesterol\n",
      "LDL direct\n",
      "birth weight (eur)\n",
      "childhood obesity (eur)\n",
      "Ventricular rate\n",
      "QRS duration\n",
      "Body mass index (BMI)\n",
      "Pulse rate\n",
      "type_1_diabetes\n",
      "I20 Angina pectoris\n",
      "I21 Acute myocardial infarction\n",
      "I25 Chronic ischaemic heart disease\n",
      "I48 Atrial fibrillation and flutter\n",
      "fasting glucose\n",
      "type 2 diabetes\n",
      "iPSC=========\n"
     ]
    },
    {
     "name": "stdout",
     "output_type": "stream",
     "text": [
      "[1] 931\n"
     ]
    },
    {
     "name": "stderr",
     "output_type": "stream",
     "text": [
      "Longevity\n",
      "Multivariate Longevity\n",
      "HDL cholesterol\n",
      "LDL direct\n",
      "birth weight (eur)\n",
      "childhood obesity (eur)\n",
      "Ventricular rate\n",
      "QRS duration\n",
      "Body mass index (BMI)\n",
      "Pulse rate\n",
      "type_1_diabetes\n",
      "I20 Angina pectoris\n",
      "I21 Acute myocardial infarction\n",
      "I25 Chronic ischaemic heart disease\n",
      "I48 Atrial fibrillation and flutter\n",
      "fasting glucose\n",
      "type 2 diabetes\n"
     ]
    }
   ],
   "source": [
    "indep2 = as.data.frame(rbindlist(lapply(c(\"PPC\", \"CVPC\", \"iPSC\"), function(tissue)\n",
    "{\n",
    "    message(paste0(tissue, \"=========\"), appendLF = F)\n",
    "#     if (tissue == \"PPC\" ) { traits = pancreatic_traits }\n",
    "#     if (tissue == \"CVPC\") { traits = cardiac_traits    }\n",
    "#     if (tissue == \"iPSC\") { traits = ipsc_traits       }  \n",
    "\n",
    "    # 1. Get coloc results for relevant traits and tissue\n",
    "    this2 = gwas_nodup %>% \n",
    "            filter(cluster_id %like% tissue) %>%\n",
    "            mutate(cluster_gwas = paste(cluster_id, full_trait_id)) %>% \n",
    "            group_by(cluster_gwas) %>%\n",
    "            filter(topsnp_pp == max(topsnp_pp)) %>% ungroup() \n",
    "    \n",
    "    print(nrow(this2))\n",
    "    \n",
    "    if (nrow(this2) != 0)\n",
    "    {\n",
    "        as.data.frame(rbindlist(lapply(unique(manifest$description), function(trait)\n",
    "        {\n",
    "            message(trait, appendLF = F)\n",
    "            full_trait_id = manifest[manifest$description == trait,]$full_trait_id\n",
    "\n",
    "            tags = as.data.frame(rbindlist(lapply(c(1:22), function(i)\n",
    "            {\n",
    "                # File for tags\n",
    "                tags_file = paste(getwd(), \"analyses/jennifer/gwas_independent/tag_qtl\", \n",
    "                             paste(full_trait_id, \"hg38_5e-08\", sep = \".\"), \n",
    "                             paste(paste0(\"chr\", i), paste(paste0(kb, type), paste0(wind, \"wind\"), paste0(\"r\", r2), sep = \"_\"), \"tags.list\", sep = \".\"), sep = \"/\")\n",
    "\n",
    "                # File for GWAS loci\n",
    "                gwas_loci = paste(getwd(), \"analyses/jennifer/gwas_independent/indep\", \n",
    "                                  paste(full_trait_id, \"hg38_5e-08\", sep = \".\"), \n",
    "                                  paste(paste0(\"chr\", i), paste(paste0(kb, type), paste0(wind, \"wind\"), paste0(\"r\", r2), sep = \"_\"), \"prune.in\", sep = \".\"), sep = \"/\")\n",
    "\n",
    "                if (file.exists(tags_file) & file.exists(gwas_loci))\n",
    "                {\n",
    "                    # Read\n",
    "                    gwas_loci = readLines(gwas_loci)\n",
    "                    tags = fread(tags_file, data.table = F) \n",
    "                    \n",
    "                    if (nrow(tags) != 0)\n",
    "                    {\n",
    "                        # 2. SNP = GWAS Locus, TAGS = QTLs\n",
    "                        tags = tags %>% \n",
    "                            filter(SNP %in% gwas_loci) %>% \n",
    "                            tidyr::separate_rows(TAGS, sep = \"[|]\") \n",
    "\n",
    "                        # 3. If GWAS Locus does not tag a QTL, set tag to itself\n",
    "                        tags$TAGS = ifelse(tags$TAGS == \"NONE\", tags$SNP, tags$TAGS)\n",
    "                    }\n",
    "                    return(tags)\n",
    "                } \n",
    "#                 else\n",
    "#                 {\n",
    "#                     message(paste(\"Skipping\", i, tags_file, file.exists(gwas_loci)), appendLF = F)\n",
    "#                 }\n",
    "            })))\n",
    "            \n",
    "            # Have GWAS index tag itself (same as above)\n",
    "            tags = rbind(tags, tags %>% mutate(TAGS = SNP)) %>% select(SNP, TAGS) %>% distinct()\n",
    "\n",
    "            this3 = this2[this2$description == trait,] %>% \n",
    "                select(cluster_id, full_trait_id, description, topsnp, qtl_combo, n_members) %>% \n",
    "                distinct() %>% \n",
    "                dplyr::rename(TAGS = topsnp)\n",
    "\n",
    "            this3$TAGS = unlist(lapply(this3$TAGS, function(x) { paste(unlist(strsplit(x, \"_\"))[2:3], collapse = \"_\") }))\n",
    "\n",
    "            if (nrow(this3) > 0)\n",
    "            {\n",
    "                # Link QTL to GWAS\n",
    "                out = merge(tags, this3 , by = c(\"TAGS\"))\n",
    "                \n",
    "                # Some might not be in the 1000 Genomes Reference Panel so not tagged\n",
    "                if (nrow(out) > 0)\n",
    "                {\n",
    "                    out$qtl_pos = as.numeric(unlist(lapply(out$TAGS, function(x) { unlist(strsplit(x, \"_\"))[2] })))\n",
    "                    out$gwas_pos = as.numeric(unlist(lapply(out$SNP, function(x) { unlist(strsplit(x, \"_\"))[2] })))\n",
    "                    out$dist = abs(out$gwas_pos - out$qtl_pos)\n",
    "                    out = out %>% group_by(cluster_id) %>% filter(dist == min(dist))\n",
    "                }\n",
    "                \n",
    "                # Add other GWAS loci\n",
    "                out = merge(indep, \n",
    "                            out %>% select(TAGS, SNP, description, full_trait_id, cluster_id, qtl_combo, n_members) %>% dplyr::rename(qtl_index = TAGS, gwas_index = SNP), \n",
    "                            by = c(\"gwas_index\", \"description\", \"full_trait_id\"), all.x = T)\n",
    "\n",
    "                return(out)\n",
    "            }\n",
    "        })))\n",
    "    }\n",
    "}))) %>% \n",
    "    mutate(locus_id = paste(description, gwas_index), cluster_gwas = paste(cluster_id, full_trait_id)) %>% \n",
    "    distinct()  %>% \n",
    "    filter(full_trait_id != \"continuous-20022-both_sexes-irnt.meta\")\n",
    "    \n",
    "indep2$gwas_id = paste(indep2$gwas_index, indep2$full_trait_id)"
   ]
  },
  {
   "cell_type": "code",
   "execution_count": 135,
   "metadata": {},
   "outputs": [
    {
     "data": {
      "text/html": [
       "<table class=\"dataframe\">\n",
       "<caption>A data.frame: 0 × 11</caption>\n",
       "<thead>\n",
       "\t<tr><th scope=col>gwas_index</th><th scope=col>description</th><th scope=col>full_trait_id</th><th scope=col>chr</th><th scope=col>qtl_index</th><th scope=col>cluster_id</th><th scope=col>qtl_combo</th><th scope=col>n_members</th><th scope=col>locus_id</th><th scope=col>cluster_gwas</th><th scope=col>gwas_id</th></tr>\n",
       "\t<tr><th scope=col>&lt;chr&gt;</th><th scope=col>&lt;chr&gt;</th><th scope=col>&lt;chr&gt;</th><th scope=col>&lt;int&gt;</th><th scope=col>&lt;chr&gt;</th><th scope=col>&lt;chr&gt;</th><th scope=col>&lt;chr&gt;</th><th scope=col>&lt;int&gt;</th><th scope=col>&lt;chr&gt;</th><th scope=col>&lt;chr&gt;</th><th scope=col>&lt;chr&gt;</th></tr>\n",
       "</thead>\n",
       "<tbody>\n",
       "</tbody>\n",
       "</table>\n"
      ],
      "text/latex": [
       "A data.frame: 0 × 11\n",
       "\\begin{tabular}{lllllllllll}\n",
       " gwas\\_index & description & full\\_trait\\_id & chr & qtl\\_index & cluster\\_id & qtl\\_combo & n\\_members & locus\\_id & cluster\\_gwas & gwas\\_id\\\\\n",
       " <chr> & <chr> & <chr> & <int> & <chr> & <chr> & <chr> & <int> & <chr> & <chr> & <chr>\\\\\n",
       "\\hline\n",
       "\\end{tabular}\n"
      ],
      "text/markdown": [
       "\n",
       "A data.frame: 0 × 11\n",
       "\n",
       "| gwas_index &lt;chr&gt; | description &lt;chr&gt; | full_trait_id &lt;chr&gt; | chr &lt;int&gt; | qtl_index &lt;chr&gt; | cluster_id &lt;chr&gt; | qtl_combo &lt;chr&gt; | n_members &lt;int&gt; | locus_id &lt;chr&gt; | cluster_gwas &lt;chr&gt; | gwas_id &lt;chr&gt; |\n",
       "|---|---|---|---|---|---|---|---|---|---|---|\n",
       "\n"
      ],
      "text/plain": [
       "     gwas_index description full_trait_id chr qtl_index cluster_id qtl_combo\n",
       "     n_members locus_id cluster_gwas gwas_id"
      ]
     },
     "metadata": {},
     "output_type": "display_data"
    }
   ],
   "source": [
    "indep2 %>% filter(duplicated(cluster_gwas) == T & !is.na(cluster_id))"
   ]
  },
  {
   "cell_type": "code",
   "execution_count": 136,
   "metadata": {},
   "outputs": [],
   "source": [
    "indep$gwas_id = paste(indep$gwas_index, indep$full_trait_id)"
   ]
  },
  {
   "cell_type": "code",
   "execution_count": 137,
   "metadata": {},
   "outputs": [
    {
     "data": {
      "text/html": [
       "<table class=\"dataframe\">\n",
       "<caption>A grouped_df: 0 × 5</caption>\n",
       "<thead>\n",
       "\t<tr><th scope=col>description</th><th scope=col>full_trait_id</th><th scope=col>chr</th><th scope=col>gwas_index</th><th scope=col>gwas_id</th></tr>\n",
       "\t<tr><th scope=col>&lt;chr&gt;</th><th scope=col>&lt;chr&gt;</th><th scope=col>&lt;int&gt;</th><th scope=col>&lt;chr&gt;</th><th scope=col>&lt;chr&gt;</th></tr>\n",
       "</thead>\n",
       "<tbody>\n",
       "</tbody>\n",
       "</table>\n"
      ],
      "text/latex": [
       "A grouped\\_df: 0 × 5\n",
       "\\begin{tabular}{lllll}\n",
       " description & full\\_trait\\_id & chr & gwas\\_index & gwas\\_id\\\\\n",
       " <chr> & <chr> & <int> & <chr> & <chr>\\\\\n",
       "\\hline\n",
       "\\end{tabular}\n"
      ],
      "text/markdown": [
       "\n",
       "A grouped_df: 0 × 5\n",
       "\n",
       "| description &lt;chr&gt; | full_trait_id &lt;chr&gt; | chr &lt;int&gt; | gwas_index &lt;chr&gt; | gwas_id &lt;chr&gt; |\n",
       "|---|---|---|---|---|\n",
       "\n"
      ],
      "text/plain": [
       "     description full_trait_id chr gwas_index gwas_id"
      ]
     },
     "metadata": {},
     "output_type": "display_data"
    }
   ],
   "source": [
    "indep %>% filter(!gwas_id %in% indep2$gwas_id)"
   ]
  },
  {
   "cell_type": "markdown",
   "metadata": {},
   "source": [
    "### Is each cluster assigned to a single locus?"
   ]
  },
  {
   "cell_type": "code",
   "execution_count": 138,
   "metadata": {},
   "outputs": [
    {
     "data": {
      "text/html": [
       "<table class=\"dataframe\">\n",
       "<caption>A data.frame: 0 × 3</caption>\n",
       "<thead>\n",
       "\t<tr><th scope=col>gwas_index</th><th scope=col>cluster_gwas</th><th scope=col>description</th></tr>\n",
       "\t<tr><th scope=col>&lt;chr&gt;</th><th scope=col>&lt;chr&gt;</th><th scope=col>&lt;chr&gt;</th></tr>\n",
       "</thead>\n",
       "<tbody>\n",
       "</tbody>\n",
       "</table>\n"
      ],
      "text/latex": [
       "A data.frame: 0 × 3\n",
       "\\begin{tabular}{lll}\n",
       " gwas\\_index & cluster\\_gwas & description\\\\\n",
       " <chr> & <chr> & <chr>\\\\\n",
       "\\hline\n",
       "\\end{tabular}\n"
      ],
      "text/markdown": [
       "\n",
       "A data.frame: 0 × 3\n",
       "\n",
       "| gwas_index &lt;chr&gt; | cluster_gwas &lt;chr&gt; | description &lt;chr&gt; |\n",
       "|---|---|---|\n",
       "\n"
      ],
      "text/plain": [
       "     gwas_index cluster_gwas description"
      ]
     },
     "metadata": {},
     "output_type": "display_data"
    }
   ],
   "source": [
    "indep2 %>% filter(!is.na(cluster_id)) %>% select(gwas_index, cluster_gwas, description) %>% distinct() %>%\n",
    "    filter(duplicated(cluster_gwas) == T)"
   ]
  },
  {
   "cell_type": "code",
   "execution_count": 139,
   "metadata": {},
   "outputs": [],
   "source": [
    "# gwas_nodup %>% filter(cluster_id == \"PPC_661\") %>% select(cluster_id, description, full_trait_id, topsnp) %>% distinct()"
   ]
  },
  {
   "cell_type": "code",
   "execution_count": 140,
   "metadata": {},
   "outputs": [],
   "source": [
    "# indep2 %>% filter(cluster_gwas == \"PPC_661 biomarkers-30780-both_sexes-irnt.meta\")"
   ]
  },
  {
   "cell_type": "markdown",
   "metadata": {},
   "source": [
    "### Check all independent GWAS loci are in the table and not lost"
   ]
  },
  {
   "cell_type": "code",
   "execution_count": 141,
   "metadata": {},
   "outputs": [
    {
     "data": {
      "text/html": [
       "<table class=\"dataframe\">\n",
       "<caption>A data.frame: 17 × 2</caption>\n",
       "<thead>\n",
       "\t<tr><th scope=col>Var1</th><th scope=col>Freq</th></tr>\n",
       "\t<tr><th scope=col>&lt;fct&gt;</th><th scope=col>&lt;int&gt;</th></tr>\n",
       "</thead>\n",
       "<tbody>\n",
       "\t<tr><td>CHILDHOOD_OBESITY.eur                    </td><td>  14</td></tr>\n",
       "\t<tr><td>continuous-12336-both_sexes-irnt.meta    </td><td>  14</td></tr>\n",
       "\t<tr><td>lifegen_phase2_bothpl_alldr_2017_09_18   </td><td>  25</td></tr>\n",
       "\t<tr><td>icd10-I21-both_sexes.meta                </td><td>  30</td></tr>\n",
       "\t<tr><td>timmers2020_healthspan_lifespan_longevity</td><td>  35</td></tr>\n",
       "\t<tr><td>icd10-I20-both_sexes.meta                </td><td>  45</td></tr>\n",
       "\t<tr><td>continuous-12340-both_sexes-irnt.meta    </td><td>  50</td></tr>\n",
       "\t<tr><td>BW3_EUR_summary_stats                    </td><td>  66</td></tr>\n",
       "\t<tr><td>icd10-I25-both_sexes.meta                </td><td> 102</td></tr>\n",
       "\t<tr><td>icd10-I48-both_sexes.meta                </td><td> 111</td></tr>\n",
       "\t<tr><td>continuous-4194-both_sexes-irnt.meta     </td><td> 168</td></tr>\n",
       "\t<tr><td>MAGIC1000G_FG_EUR                        </td><td> 170</td></tr>\n",
       "\t<tr><td>GCST90014023_buildGRCh38                 </td><td> 224</td></tr>\n",
       "\t<tr><td>Mahajan.NatGenet2018b.T2D.European_sorted</td><td> 409</td></tr>\n",
       "\t<tr><td>biomarkers-30780-both_sexes-irnt.meta    </td><td> 900</td></tr>\n",
       "\t<tr><td>continuous-23104-both_sexes-irnt.meta    </td><td>1857</td></tr>\n",
       "\t<tr><td>biomarkers-30760-both_sexes-irnt.meta    </td><td>2151</td></tr>\n",
       "</tbody>\n",
       "</table>\n"
      ],
      "text/latex": [
       "A data.frame: 17 × 2\n",
       "\\begin{tabular}{ll}\n",
       " Var1 & Freq\\\\\n",
       " <fct> & <int>\\\\\n",
       "\\hline\n",
       "\t CHILDHOOD\\_OBESITY.eur                     &   14\\\\\n",
       "\t continuous-12336-both\\_sexes-irnt.meta     &   14\\\\\n",
       "\t lifegen\\_phase2\\_bothpl\\_alldr\\_2017\\_09\\_18    &   25\\\\\n",
       "\t icd10-I21-both\\_sexes.meta                 &   30\\\\\n",
       "\t timmers2020\\_healthspan\\_lifespan\\_longevity &   35\\\\\n",
       "\t icd10-I20-both\\_sexes.meta                 &   45\\\\\n",
       "\t continuous-12340-both\\_sexes-irnt.meta     &   50\\\\\n",
       "\t BW3\\_EUR\\_summary\\_stats                     &   66\\\\\n",
       "\t icd10-I25-both\\_sexes.meta                 &  102\\\\\n",
       "\t icd10-I48-both\\_sexes.meta                 &  111\\\\\n",
       "\t continuous-4194-both\\_sexes-irnt.meta      &  168\\\\\n",
       "\t MAGIC1000G\\_FG\\_EUR                         &  170\\\\\n",
       "\t GCST90014023\\_buildGRCh38                  &  224\\\\\n",
       "\t Mahajan.NatGenet2018b.T2D.European\\_sorted &  409\\\\\n",
       "\t biomarkers-30780-both\\_sexes-irnt.meta     &  900\\\\\n",
       "\t continuous-23104-both\\_sexes-irnt.meta     & 1857\\\\\n",
       "\t biomarkers-30760-both\\_sexes-irnt.meta     & 2151\\\\\n",
       "\\end{tabular}\n"
      ],
      "text/markdown": [
       "\n",
       "A data.frame: 17 × 2\n",
       "\n",
       "| Var1 &lt;fct&gt; | Freq &lt;int&gt; |\n",
       "|---|---|\n",
       "| CHILDHOOD_OBESITY.eur                     |   14 |\n",
       "| continuous-12336-both_sexes-irnt.meta     |   14 |\n",
       "| lifegen_phase2_bothpl_alldr_2017_09_18    |   25 |\n",
       "| icd10-I21-both_sexes.meta                 |   30 |\n",
       "| timmers2020_healthspan_lifespan_longevity |   35 |\n",
       "| icd10-I20-both_sexes.meta                 |   45 |\n",
       "| continuous-12340-both_sexes-irnt.meta     |   50 |\n",
       "| BW3_EUR_summary_stats                     |   66 |\n",
       "| icd10-I25-both_sexes.meta                 |  102 |\n",
       "| icd10-I48-both_sexes.meta                 |  111 |\n",
       "| continuous-4194-both_sexes-irnt.meta      |  168 |\n",
       "| MAGIC1000G_FG_EUR                         |  170 |\n",
       "| GCST90014023_buildGRCh38                  |  224 |\n",
       "| Mahajan.NatGenet2018b.T2D.European_sorted |  409 |\n",
       "| biomarkers-30780-both_sexes-irnt.meta     |  900 |\n",
       "| continuous-23104-both_sexes-irnt.meta     | 1857 |\n",
       "| biomarkers-30760-both_sexes-irnt.meta     | 2151 |\n",
       "\n"
      ],
      "text/plain": [
       "   Var1                                      Freq\n",
       "1  CHILDHOOD_OBESITY.eur                       14\n",
       "2  continuous-12336-both_sexes-irnt.meta       14\n",
       "3  lifegen_phase2_bothpl_alldr_2017_09_18      25\n",
       "4  icd10-I21-both_sexes.meta                   30\n",
       "5  timmers2020_healthspan_lifespan_longevity   35\n",
       "6  icd10-I20-both_sexes.meta                   45\n",
       "7  continuous-12340-both_sexes-irnt.meta       50\n",
       "8  BW3_EUR_summary_stats                       66\n",
       "9  icd10-I25-both_sexes.meta                  102\n",
       "10 icd10-I48-both_sexes.meta                  111\n",
       "11 continuous-4194-both_sexes-irnt.meta       168\n",
       "12 MAGIC1000G_FG_EUR                          170\n",
       "13 GCST90014023_buildGRCh38                   224\n",
       "14 Mahajan.NatGenet2018b.T2D.European_sorted  409\n",
       "15 biomarkers-30780-both_sexes-irnt.meta      900\n",
       "16 continuous-23104-both_sexes-irnt.meta     1857\n",
       "17 biomarkers-30760-both_sexes-irnt.meta     2151"
      ]
     },
     "metadata": {},
     "output_type": "display_data"
    },
    {
     "data": {
      "text/html": [
       "6371"
      ],
      "text/latex": [
       "6371"
      ],
      "text/markdown": [
       "6371"
      ],
      "text/plain": [
       "[1] 6371"
      ]
     },
     "metadata": {},
     "output_type": "display_data"
    }
   ],
   "source": [
    "a = indep2 %>% select(full_trait_id, gwas_index) %>% distinct()\n",
    "a = data.frame(table(a$full_trait))\n",
    "\n",
    "a %>% arrange(Freq)\n",
    "\n",
    "sum(a$Freq)"
   ]
  },
  {
   "cell_type": "markdown",
   "metadata": {},
   "source": [
    "### Are all clusters assigned to a locus? If not, assign them to the nearest GWAS signal."
   ]
  },
  {
   "cell_type": "markdown",
   "metadata": {},
   "source": [
    "    - This occurs if the lead SNP is not in the 1000 Genomes genotype panel, so can't calculate LD"
   ]
  },
  {
   "cell_type": "code",
   "execution_count": 142,
   "metadata": {},
   "outputs": [
    {
     "name": "stderr",
     "output_type": "stream",
     "text": [
      "\u001b[1m\u001b[22mAdding missing grouping variables: `id`\n"
     ]
    },
    {
     "data": {
      "text/plain": [
       "\n",
       "FALSE  TRUE \n",
       "  446   485 "
      ]
     },
     "metadata": {},
     "output_type": "display_data"
    }
   ],
   "source": [
    "a = gwas_nodup %>% \n",
    "    select(cluster_id, description, full_trait_id, topsnp, qtl_combo, n_members, topsnp_pp) %>% distinct() %>% \n",
    "    mutate(cluster_gwas = paste(cluster_id, full_trait_id))\n",
    "\n",
    "a$paired_with_gwas = ifelse(a$cluster_gwas %in% indep2[!is.na(indep2$cluster_id),]$cluster_gwas, T, F)\n",
    "a$chrom = unlist(lapply(a$topsnp, function(x) { as.numeric(unlist(strsplit(x, \"_\"))[2]) }))\n",
    "\n",
    "table(a$paired_with_gwas)\n",
    "a = a %>% filter(paired_with_gwas == F) %>% arrange(full_trait_id, chrom) \n",
    "a$pos = unlist(lapply(a$topsnp, function(x) { as.numeric(unlist(strsplit(x, \"_\"))[3]) }))\n",
    "\n",
    "a = a %>% group_by(cluster_gwas) %>% filter(topsnp_pp == max(topsnp_pp)) "
   ]
  },
  {
   "cell_type": "code",
   "execution_count": 143,
   "metadata": {},
   "outputs": [
    {
     "name": "stderr",
     "output_type": "stream",
     "text": [
      "biomarkers-30760-both_sexes-irnt.meta\n",
      "biomarkers-30780-both_sexes-irnt.meta\n",
      "BW3_EUR_summary_stats\n",
      "CHILDHOOD_OBESITY.eur\n",
      "continuous-12336-both_sexes-irnt.meta\n",
      "continuous-12340-both_sexes-irnt.meta\n",
      "continuous-23104-both_sexes-irnt.meta\n",
      "continuous-4194-both_sexes-irnt.meta\n",
      "GCST90014023_buildGRCh38\n",
      "icd10-I20-both_sexes.meta\n",
      "icd10-I21-both_sexes.meta\n",
      "icd10-I25-both_sexes.meta\n",
      "icd10-I48-both_sexes.meta\n",
      "lifegen_phase2_bothpl_alldr_2017_09_18\n",
      "MAGIC1000G_FG_EUR\n",
      "Mahajan.NatGenet2018b.T2D.European_sorted\n",
      "timmers2020_healthspan_lifespan_longevity\n"
     ]
    }
   ],
   "source": [
    "a2 = as.data.frame(rbindlist(lapply(unique(a$full_trait_id), function(x)\n",
    "{\n",
    "    message(x, appendLF = F)\n",
    "    this = indep2 %>% filter(full_trait_id == x)\n",
    "    this$gwas_pos = as.numeric(unlist(lapply(this$gwas_index, function(x) { unlist(strsplit(x, \"_\"))[2] })))\n",
    "    this$gwas_chr = as.numeric(unlist(lapply(this$gwas_index, function(x) { unlist(strsplit(x, \"_\"))[1] })))\n",
    "    \n",
    "    this_a = a %>% filter(full_trait_id == x)\n",
    "    \n",
    "    as.data.frame(rbindlist(lapply(c(1:nrow(this_a)), function(row)\n",
    "    {\n",
    "        this2 = this %>% filter(gwas_chr == this_a[row,]$chrom)\n",
    "        this2$dist = abs(this2$gwas_pos - this_a[row,]$pos)\n",
    "        this2 = this2 %>% filter(dist == min(dist)) %>% distinct() \n",
    "        this_a[row,] %>% mutate(gwas_index = unique(this2$gwas_index))\n",
    "        out = this2 %>% filter(duplicated(gwas_index) == F)\n",
    "        out$qtl_index = unlist(lapply(this_a[row,]$topsnp, function(x) { paste(unlist(strsplit(x, \"_\"))[2:3], collapse = \"_\") }))\n",
    "        out$cluster_id = this_a[row,]$cluster_id\n",
    "        out$qtl_combo = this_a[row,]$qtl_combo\n",
    "        out$n_members = this_a[row,]$n_members\n",
    "        out$cluster_gwas = paste(out$cluster_id, out$full_trait_id)\n",
    "        out$gwas_id = paste(out$gwas_index, out$full_trait_id)\n",
    "        out[,c(\"dist\", \"gwas_pos\", \"gwas_chr\")] = NULL\n",
    "        return(out)\n",
    "    })))\n",
    "})))"
   ]
  },
  {
   "cell_type": "code",
   "execution_count": 145,
   "metadata": {},
   "outputs": [
    {
     "data": {
      "text/html": [
       "<table class=\"dataframe\">\n",
       "<caption>A data.frame: 0 × 11</caption>\n",
       "<thead>\n",
       "\t<tr><th scope=col>gwas_index</th><th scope=col>description</th><th scope=col>full_trait_id</th><th scope=col>chr</th><th scope=col>qtl_index</th><th scope=col>cluster_id</th><th scope=col>qtl_combo</th><th scope=col>n_members</th><th scope=col>locus_id</th><th scope=col>cluster_gwas</th><th scope=col>gwas_id</th></tr>\n",
       "\t<tr><th scope=col>&lt;chr&gt;</th><th scope=col>&lt;chr&gt;</th><th scope=col>&lt;chr&gt;</th><th scope=col>&lt;int&gt;</th><th scope=col>&lt;chr&gt;</th><th scope=col>&lt;chr&gt;</th><th scope=col>&lt;chr&gt;</th><th scope=col>&lt;int&gt;</th><th scope=col>&lt;chr&gt;</th><th scope=col>&lt;chr&gt;</th><th scope=col>&lt;chr&gt;</th></tr>\n",
       "</thead>\n",
       "<tbody>\n",
       "</tbody>\n",
       "</table>\n"
      ],
      "text/latex": [
       "A data.frame: 0 × 11\n",
       "\\begin{tabular}{lllllllllll}\n",
       " gwas\\_index & description & full\\_trait\\_id & chr & qtl\\_index & cluster\\_id & qtl\\_combo & n\\_members & locus\\_id & cluster\\_gwas & gwas\\_id\\\\\n",
       " <chr> & <chr> & <chr> & <int> & <chr> & <chr> & <chr> & <int> & <chr> & <chr> & <chr>\\\\\n",
       "\\hline\n",
       "\\end{tabular}\n"
      ],
      "text/markdown": [
       "\n",
       "A data.frame: 0 × 11\n",
       "\n",
       "| gwas_index &lt;chr&gt; | description &lt;chr&gt; | full_trait_id &lt;chr&gt; | chr &lt;int&gt; | qtl_index &lt;chr&gt; | cluster_id &lt;chr&gt; | qtl_combo &lt;chr&gt; | n_members &lt;int&gt; | locus_id &lt;chr&gt; | cluster_gwas &lt;chr&gt; | gwas_id &lt;chr&gt; |\n",
       "|---|---|---|---|---|---|---|---|---|---|---|\n",
       "\n"
      ],
      "text/plain": [
       "     gwas_index description full_trait_id chr qtl_index cluster_id qtl_combo\n",
       "     n_members locus_id cluster_gwas gwas_id"
      ]
     },
     "metadata": {},
     "output_type": "display_data"
    }
   ],
   "source": [
    "a2 %>% filter(duplicated(cluster_gwas) == T)"
   ]
  },
  {
   "cell_type": "code",
   "execution_count": 149,
   "metadata": {},
   "outputs": [
    {
     "data": {
      "text/html": [
       "<table class=\"dataframe\">\n",
       "<caption>A data.frame: 0 × 11</caption>\n",
       "<thead>\n",
       "\t<tr><th scope=col>gwas_index</th><th scope=col>description</th><th scope=col>full_trait_id</th><th scope=col>chr</th><th scope=col>qtl_index</th><th scope=col>cluster_id</th><th scope=col>qtl_combo</th><th scope=col>n_members</th><th scope=col>locus_id</th><th scope=col>cluster_gwas</th><th scope=col>gwas_id</th></tr>\n",
       "\t<tr><th scope=col>&lt;chr&gt;</th><th scope=col>&lt;chr&gt;</th><th scope=col>&lt;chr&gt;</th><th scope=col>&lt;int&gt;</th><th scope=col>&lt;chr&gt;</th><th scope=col>&lt;chr&gt;</th><th scope=col>&lt;chr&gt;</th><th scope=col>&lt;int&gt;</th><th scope=col>&lt;chr&gt;</th><th scope=col>&lt;chr&gt;</th><th scope=col>&lt;chr&gt;</th></tr>\n",
       "</thead>\n",
       "<tbody>\n",
       "</tbody>\n",
       "</table>\n"
      ],
      "text/latex": [
       "A data.frame: 0 × 11\n",
       "\\begin{tabular}{lllllllllll}\n",
       " gwas\\_index & description & full\\_trait\\_id & chr & qtl\\_index & cluster\\_id & qtl\\_combo & n\\_members & locus\\_id & cluster\\_gwas & gwas\\_id\\\\\n",
       " <chr> & <chr> & <chr> & <int> & <chr> & <chr> & <chr> & <int> & <chr> & <chr> & <chr>\\\\\n",
       "\\hline\n",
       "\\end{tabular}\n"
      ],
      "text/markdown": [
       "\n",
       "A data.frame: 0 × 11\n",
       "\n",
       "| gwas_index &lt;chr&gt; | description &lt;chr&gt; | full_trait_id &lt;chr&gt; | chr &lt;int&gt; | qtl_index &lt;chr&gt; | cluster_id &lt;chr&gt; | qtl_combo &lt;chr&gt; | n_members &lt;int&gt; | locus_id &lt;chr&gt; | cluster_gwas &lt;chr&gt; | gwas_id &lt;chr&gt; |\n",
       "|---|---|---|---|---|---|---|---|---|---|---|\n",
       "\n"
      ],
      "text/plain": [
       "     gwas_index description full_trait_id chr qtl_index cluster_id qtl_combo\n",
       "     n_members locus_id cluster_gwas gwas_id"
      ]
     },
     "metadata": {},
     "output_type": "display_data"
    }
   ],
   "source": [
    "# Keep signals that were empty but now paired with a QTL\n",
    "tmp1 = a2\n",
    "\n",
    "# Keep that already have cluster id\n",
    "tmp2 = indep2 %>% filter(!is.na(cluster_id))\n",
    "\n",
    "# keep signals that did not colocalize\n",
    "tmp3 = indep2 %>% filter(!gwas_id %in% c(tmp1$gwas_id, tmp2$gwas_id))\n",
    "\n",
    "indep3 = Reduce(rbind, list(tmp1, tmp2, tmp3))\n",
    "\n",
    "indep3 %>% filter(!is.na(cluster_id)) %>% filter(duplicated(cluster_gwas))"
   ]
  },
  {
   "cell_type": "markdown",
   "metadata": {},
   "source": [
    "### Check that all GWAS signals are there again"
   ]
  },
  {
   "cell_type": "code",
   "execution_count": 150,
   "metadata": {},
   "outputs": [
    {
     "data": {
      "text/html": [
       "<table class=\"dataframe\">\n",
       "<caption>A data.frame: 17 × 2</caption>\n",
       "<thead>\n",
       "\t<tr><th scope=col>Var1</th><th scope=col>Freq</th></tr>\n",
       "\t<tr><th scope=col>&lt;fct&gt;</th><th scope=col>&lt;int&gt;</th></tr>\n",
       "</thead>\n",
       "<tbody>\n",
       "\t<tr><td>biomarkers-30760-both_sexes-irnt.meta    </td><td>2151</td></tr>\n",
       "\t<tr><td>biomarkers-30780-both_sexes-irnt.meta    </td><td> 900</td></tr>\n",
       "\t<tr><td>BW3_EUR_summary_stats                    </td><td>  66</td></tr>\n",
       "\t<tr><td>CHILDHOOD_OBESITY.eur                    </td><td>  14</td></tr>\n",
       "\t<tr><td>continuous-12336-both_sexes-irnt.meta    </td><td>  14</td></tr>\n",
       "\t<tr><td>continuous-12340-both_sexes-irnt.meta    </td><td>  50</td></tr>\n",
       "\t<tr><td>continuous-23104-both_sexes-irnt.meta    </td><td>1857</td></tr>\n",
       "\t<tr><td>continuous-4194-both_sexes-irnt.meta     </td><td> 168</td></tr>\n",
       "\t<tr><td>GCST90014023_buildGRCh38                 </td><td> 224</td></tr>\n",
       "\t<tr><td>icd10-I20-both_sexes.meta                </td><td>  45</td></tr>\n",
       "\t<tr><td>icd10-I21-both_sexes.meta                </td><td>  30</td></tr>\n",
       "\t<tr><td>icd10-I25-both_sexes.meta                </td><td> 102</td></tr>\n",
       "\t<tr><td>icd10-I48-both_sexes.meta                </td><td> 111</td></tr>\n",
       "\t<tr><td>lifegen_phase2_bothpl_alldr_2017_09_18   </td><td>  25</td></tr>\n",
       "\t<tr><td>MAGIC1000G_FG_EUR                        </td><td> 170</td></tr>\n",
       "\t<tr><td>Mahajan.NatGenet2018b.T2D.European_sorted</td><td> 409</td></tr>\n",
       "\t<tr><td>timmers2020_healthspan_lifespan_longevity</td><td>  35</td></tr>\n",
       "</tbody>\n",
       "</table>\n"
      ],
      "text/latex": [
       "A data.frame: 17 × 2\n",
       "\\begin{tabular}{ll}\n",
       " Var1 & Freq\\\\\n",
       " <fct> & <int>\\\\\n",
       "\\hline\n",
       "\t biomarkers-30760-both\\_sexes-irnt.meta     & 2151\\\\\n",
       "\t biomarkers-30780-both\\_sexes-irnt.meta     &  900\\\\\n",
       "\t BW3\\_EUR\\_summary\\_stats                     &   66\\\\\n",
       "\t CHILDHOOD\\_OBESITY.eur                     &   14\\\\\n",
       "\t continuous-12336-both\\_sexes-irnt.meta     &   14\\\\\n",
       "\t continuous-12340-both\\_sexes-irnt.meta     &   50\\\\\n",
       "\t continuous-23104-both\\_sexes-irnt.meta     & 1857\\\\\n",
       "\t continuous-4194-both\\_sexes-irnt.meta      &  168\\\\\n",
       "\t GCST90014023\\_buildGRCh38                  &  224\\\\\n",
       "\t icd10-I20-both\\_sexes.meta                 &   45\\\\\n",
       "\t icd10-I21-both\\_sexes.meta                 &   30\\\\\n",
       "\t icd10-I25-both\\_sexes.meta                 &  102\\\\\n",
       "\t icd10-I48-both\\_sexes.meta                 &  111\\\\\n",
       "\t lifegen\\_phase2\\_bothpl\\_alldr\\_2017\\_09\\_18    &   25\\\\\n",
       "\t MAGIC1000G\\_FG\\_EUR                         &  170\\\\\n",
       "\t Mahajan.NatGenet2018b.T2D.European\\_sorted &  409\\\\\n",
       "\t timmers2020\\_healthspan\\_lifespan\\_longevity &   35\\\\\n",
       "\\end{tabular}\n"
      ],
      "text/markdown": [
       "\n",
       "A data.frame: 17 × 2\n",
       "\n",
       "| Var1 &lt;fct&gt; | Freq &lt;int&gt; |\n",
       "|---|---|\n",
       "| biomarkers-30760-both_sexes-irnt.meta     | 2151 |\n",
       "| biomarkers-30780-both_sexes-irnt.meta     |  900 |\n",
       "| BW3_EUR_summary_stats                     |   66 |\n",
       "| CHILDHOOD_OBESITY.eur                     |   14 |\n",
       "| continuous-12336-both_sexes-irnt.meta     |   14 |\n",
       "| continuous-12340-both_sexes-irnt.meta     |   50 |\n",
       "| continuous-23104-both_sexes-irnt.meta     | 1857 |\n",
       "| continuous-4194-both_sexes-irnt.meta      |  168 |\n",
       "| GCST90014023_buildGRCh38                  |  224 |\n",
       "| icd10-I20-both_sexes.meta                 |   45 |\n",
       "| icd10-I21-both_sexes.meta                 |   30 |\n",
       "| icd10-I25-both_sexes.meta                 |  102 |\n",
       "| icd10-I48-both_sexes.meta                 |  111 |\n",
       "| lifegen_phase2_bothpl_alldr_2017_09_18    |   25 |\n",
       "| MAGIC1000G_FG_EUR                         |  170 |\n",
       "| Mahajan.NatGenet2018b.T2D.European_sorted |  409 |\n",
       "| timmers2020_healthspan_lifespan_longevity |   35 |\n",
       "\n"
      ],
      "text/plain": [
       "   Var1                                      Freq\n",
       "1  biomarkers-30760-both_sexes-irnt.meta     2151\n",
       "2  biomarkers-30780-both_sexes-irnt.meta      900\n",
       "3  BW3_EUR_summary_stats                       66\n",
       "4  CHILDHOOD_OBESITY.eur                       14\n",
       "5  continuous-12336-both_sexes-irnt.meta       14\n",
       "6  continuous-12340-both_sexes-irnt.meta       50\n",
       "7  continuous-23104-both_sexes-irnt.meta     1857\n",
       "8  continuous-4194-both_sexes-irnt.meta       168\n",
       "9  GCST90014023_buildGRCh38                   224\n",
       "10 icd10-I20-both_sexes.meta                   45\n",
       "11 icd10-I21-both_sexes.meta                   30\n",
       "12 icd10-I25-both_sexes.meta                  102\n",
       "13 icd10-I48-both_sexes.meta                  111\n",
       "14 lifegen_phase2_bothpl_alldr_2017_09_18      25\n",
       "15 MAGIC1000G_FG_EUR                          170\n",
       "16 Mahajan.NatGenet2018b.T2D.European_sorted  409\n",
       "17 timmers2020_healthspan_lifespan_longevity   35"
      ]
     },
     "metadata": {},
     "output_type": "display_data"
    },
    {
     "data": {
      "text/html": [
       "6371"
      ],
      "text/latex": [
       "6371"
      ],
      "text/markdown": [
       "6371"
      ],
      "text/plain": [
       "[1] 6371"
      ]
     },
     "metadata": {},
     "output_type": "display_data"
    }
   ],
   "source": [
    "# Check number of GWAS signals is the same\n",
    "a = indep3 %>% select(full_trait_id, gwas_index) %>% distinct()\n",
    "a = data.frame(table(a$full_trait))\n",
    "a\n",
    "sum(a$Freq)"
   ]
  },
  {
   "cell_type": "markdown",
   "metadata": {},
   "source": [
    "### Check that no QTLs clusters are missing from the table"
   ]
  },
  {
   "cell_type": "code",
   "execution_count": 151,
   "metadata": {},
   "outputs": [
    {
     "name": "stderr",
     "output_type": "stream",
     "text": [
      "\u001b[1m\u001b[22mAdding missing grouping variables: `id`\n"
     ]
    },
    {
     "data": {
      "text/plain": [
       "\n",
       "TRUE \n",
       " 931 "
      ]
     },
     "metadata": {},
     "output_type": "display_data"
    }
   ],
   "source": [
    "a = gwas_nodup %>% \n",
    "    select(cluster_id, description, full_trait_id, topsnp, qtl_combo, n_members, topsnp_pp) %>% distinct() %>% \n",
    "    mutate(cluster_gwas = paste(cluster_id, full_trait_id))\n",
    "\n",
    "a$paired_with_gwas = ifelse(a$cluster_gwas %in% indep3[!is.na(indep3$cluster_id),]$cluster_gwas, T, F)\n",
    "table(a$paired_with_gwas)"
   ]
  },
  {
   "cell_type": "code",
   "execution_count": 152,
   "metadata": {},
   "outputs": [
    {
     "data": {
      "text/html": [
       "<table class=\"dataframe\">\n",
       "<caption>A grouped_df: 0 × 10</caption>\n",
       "<thead>\n",
       "\t<tr><th scope=col>id</th><th scope=col>cluster_id</th><th scope=col>description</th><th scope=col>full_trait_id</th><th scope=col>topsnp</th><th scope=col>qtl_combo</th><th scope=col>n_members</th><th scope=col>topsnp_pp</th><th scope=col>cluster_gwas</th><th scope=col>paired_with_gwas</th></tr>\n",
       "\t<tr><th scope=col>&lt;chr&gt;</th><th scope=col>&lt;chr&gt;</th><th scope=col>&lt;chr&gt;</th><th scope=col>&lt;chr&gt;</th><th scope=col>&lt;chr&gt;</th><th scope=col>&lt;chr&gt;</th><th scope=col>&lt;int&gt;</th><th scope=col>&lt;dbl&gt;</th><th scope=col>&lt;chr&gt;</th><th scope=col>&lt;lgl&gt;</th></tr>\n",
       "</thead>\n",
       "<tbody>\n",
       "</tbody>\n",
       "</table>\n"
      ],
      "text/latex": [
       "A grouped\\_df: 0 × 10\n",
       "\\begin{tabular}{llllllllll}\n",
       " id & cluster\\_id & description & full\\_trait\\_id & topsnp & qtl\\_combo & n\\_members & topsnp\\_pp & cluster\\_gwas & paired\\_with\\_gwas\\\\\n",
       " <chr> & <chr> & <chr> & <chr> & <chr> & <chr> & <int> & <dbl> & <chr> & <lgl>\\\\\n",
       "\\hline\n",
       "\\end{tabular}\n"
      ],
      "text/markdown": [
       "\n",
       "A grouped_df: 0 × 10\n",
       "\n",
       "| id &lt;chr&gt; | cluster_id &lt;chr&gt; | description &lt;chr&gt; | full_trait_id &lt;chr&gt; | topsnp &lt;chr&gt; | qtl_combo &lt;chr&gt; | n_members &lt;int&gt; | topsnp_pp &lt;dbl&gt; | cluster_gwas &lt;chr&gt; | paired_with_gwas &lt;lgl&gt; |\n",
       "|---|---|---|---|---|---|---|---|---|---|\n",
       "\n"
      ],
      "text/plain": [
       "     id cluster_id description full_trait_id topsnp qtl_combo n_members\n",
       "     topsnp_pp cluster_gwas paired_with_gwas"
      ]
     },
     "metadata": {},
     "output_type": "display_data"
    }
   ],
   "source": [
    "a %>% filter(paired_with_gwas == F)"
   ]
  },
  {
   "cell_type": "markdown",
   "metadata": {},
   "source": [
    "### Check if each QTL cluster is assigned to one GWAS locus per trait"
   ]
  },
  {
   "cell_type": "code",
   "execution_count": 153,
   "metadata": {},
   "outputs": [
    {
     "data": {
      "text/html": [
       "<table class=\"dataframe\">\n",
       "<caption>A data.frame: 0 × 4</caption>\n",
       "<thead>\n",
       "\t<tr><th scope=col>gwas_index</th><th scope=col>description</th><th scope=col>cluster_id</th><th scope=col>cluster_gwas</th></tr>\n",
       "\t<tr><th scope=col>&lt;chr&gt;</th><th scope=col>&lt;chr&gt;</th><th scope=col>&lt;chr&gt;</th><th scope=col>&lt;chr&gt;</th></tr>\n",
       "</thead>\n",
       "<tbody>\n",
       "</tbody>\n",
       "</table>\n"
      ],
      "text/latex": [
       "A data.frame: 0 × 4\n",
       "\\begin{tabular}{llll}\n",
       " gwas\\_index & description & cluster\\_id & cluster\\_gwas\\\\\n",
       " <chr> & <chr> & <chr> & <chr>\\\\\n",
       "\\hline\n",
       "\\end{tabular}\n"
      ],
      "text/markdown": [
       "\n",
       "A data.frame: 0 × 4\n",
       "\n",
       "| gwas_index &lt;chr&gt; | description &lt;chr&gt; | cluster_id &lt;chr&gt; | cluster_gwas &lt;chr&gt; |\n",
       "|---|---|---|---|\n",
       "\n"
      ],
      "text/plain": [
       "     gwas_index description cluster_id cluster_gwas"
      ]
     },
     "metadata": {},
     "output_type": "display_data"
    }
   ],
   "source": [
    "indep3 %>% select(gwas_index, description, cluster_id, cluster_gwas) %>% distinct() %>% filter(duplicated(cluster_gwas) == T & !is.na(cluster_id))"
   ]
  },
  {
   "cell_type": "markdown",
   "metadata": {},
   "source": [
    "## How many GWAS loci colocalized with multiple modules/singletons from the same tissue?"
   ]
  },
  {
   "cell_type": "code",
   "execution_count": 154,
   "metadata": {},
   "outputs": [
    {
     "name": "stderr",
     "output_type": "stream",
     "text": [
      "# GWAS loci with multiple clusters (PPC): 12 228\n",
      "\n",
      "# GWAS loci with multiple clusters (CVPC): 39 326\n",
      "\n",
      "# GWAS loci with multiple clusters (iPSC): 20 299\n",
      "\n"
     ]
    }
   ],
   "source": [
    "indep3$tissue = unlist(lapply(indep3$cluster_id, function(x) { unlist(strsplit(x, \"_\"))[1] }))\n",
    "\n",
    "a = indep3 %>% select(gwas_index, description, cluster_id, tissue) %>% filter(tissue == \"PPC\") %>% mutate(id = paste(gwas_index, description))\n",
    "b = data.frame(table(a$id)) %>% dplyr::arrange(desc(Freq)) %>% filter(Freq != 1)\n",
    "\n",
    "message(paste(\"# GWAS loci with multiple clusters (PPC):\", nrow(b), nrow(data.frame(table(a$id)))))\n",
    "\n",
    "a = indep3 %>% select(gwas_index, description, cluster_id, tissue) %>% filter(tissue == \"CVPC\") %>% mutate(id = paste(gwas_index, description))\n",
    "b = data.frame(table(a$id)) %>% dplyr::arrange(desc(Freq)) %>% filter(Freq != 1)\n",
    "\n",
    "message(paste(\"# GWAS loci with multiple clusters (CVPC):\", nrow(b), nrow(data.frame(table(a$id)))))\n",
    "\n",
    "a = indep3 %>% select(gwas_index, description, cluster_id, tissue) %>% filter(tissue == \"iPSC\") %>% mutate(id = paste(gwas_index, description))\n",
    "b = data.frame(table(a$id)) %>% dplyr::arrange(desc(Freq)) %>% filter(Freq != 1)\n",
    "\n",
    "message(paste(\"# GWAS loci with multiple clusters (iPSC):\", nrow(b), nrow(data.frame(table(a$id)))))"
   ]
  },
  {
   "cell_type": "code",
   "execution_count": 155,
   "metadata": {},
   "outputs": [
    {
     "data": {
      "text/plain": [
       "\n",
       "CVPC iPSC  PPC \n",
       " 366  319  246 "
      ]
     },
     "metadata": {},
     "output_type": "display_data"
    }
   ],
   "source": [
    "table(indep3$tissue)"
   ]
  },
  {
   "cell_type": "markdown",
   "metadata": {},
   "source": [
    "### check if QTL module/signleton identified the same cand. causal variant for the GWAS locus"
   ]
  },
  {
   "cell_type": "markdown",
   "metadata": {},
   "source": [
    "This is still confounding because coloc assumes that there is a single causal variant."
   ]
  },
  {
   "cell_type": "code",
   "execution_count": 156,
   "metadata": {},
   "outputs": [
    {
     "name": "stderr",
     "output_type": "stream",
     "text": [
      "\u001b[1m\u001b[22mAdding missing grouping variables: `id`\n",
      "\u001b[1m\u001b[22mAdding missing grouping variables: `id`\n",
      "\u001b[1m\u001b[22mAdding missing grouping variables: `id`\n",
      "# loci: 65\n",
      "\n"
     ]
    },
    {
     "data": {
      "text/plain": [
       "\n",
       "different      same \n",
       "       40        31 "
      ]
     },
     "metadata": {},
     "output_type": "display_data"
    },
    {
     "data": {
      "text/plain": [
       "   Min. 1st Qu.  Median    Mean 3rd Qu.    Max. \n",
       "  2.000   2.000   2.000   2.099   2.000   4.000 "
      ]
     },
     "metadata": {},
     "output_type": "display_data"
    },
    {
     "data": {
      "text/html": [
       "<table class=\"dataframe\">\n",
       "<caption>A data.frame: 71 × 5</caption>\n",
       "<thead>\n",
       "\t<tr><th scope=col>id</th><th scope=col>nclusters</th><th scope=col>ntopsnps</th><th scope=col>causal</th><th scope=col>tissue</th></tr>\n",
       "\t<tr><th scope=col>&lt;chr&gt;</th><th scope=col>&lt;int&gt;</th><th scope=col>&lt;int&gt;</th><th scope=col>&lt;chr&gt;</th><th scope=col>&lt;chr&gt;</th></tr>\n",
       "</thead>\n",
       "<tbody>\n",
       "\t<tr><td>1_16980100 continuous-23104-both_sexes-irnt.meta  </td><td>2</td><td>2</td><td>different</td><td>CVPC</td></tr>\n",
       "\t<tr><td>1_205770138 biomarkers-30760-both_sexes-irnt.meta </td><td>2</td><td>1</td><td>same     </td><td>CVPC</td></tr>\n",
       "\t<tr><td>1_62453356 biomarkers-30760-both_sexes-irnt.meta  </td><td>2</td><td>2</td><td>different</td><td>CVPC</td></tr>\n",
       "\t<tr><td>1_62453356 biomarkers-30780-both_sexes-irnt.meta  </td><td>2</td><td>2</td><td>different</td><td>PPC </td></tr>\n",
       "\t<tr><td>10_103707199 icd10-I48-both_sexes.meta            </td><td>2</td><td>1</td><td>same     </td><td>CVPC</td></tr>\n",
       "\t<tr><td>10_63387659 icd10-I48-both_sexes.meta             </td><td>2</td><td>2</td><td>different</td><td>CVPC</td></tr>\n",
       "\t<tr><td>11_119040329 continuous-23104-both_sexes-irnt.meta</td><td>2</td><td>1</td><td>same     </td><td>CVPC</td></tr>\n",
       "\t<tr><td>11_130998688 continuous-23104-both_sexes-irnt.meta</td><td>3</td><td>2</td><td>same     </td><td>CVPC</td></tr>\n",
       "\t<tr><td>11_14673589 biomarkers-30760-both_sexes-irnt.meta </td><td>2</td><td>1</td><td>same     </td><td>iPSC</td></tr>\n",
       "\t<tr><td>11_18636189 biomarkers-30780-both_sexes-irnt.meta </td><td>2</td><td>1</td><td>same     </td><td>CVPC</td></tr>\n",
       "\t<tr><td>11_47501662 continuous-23104-both_sexes-irnt.meta </td><td>2</td><td>2</td><td>different</td><td>PPC </td></tr>\n",
       "\t<tr><td>11_61819414 biomarkers-30760-both_sexes-irnt.meta </td><td>3</td><td>1</td><td>same     </td><td>PPC </td></tr>\n",
       "\t<tr><td>11_61819414 biomarkers-30760-both_sexes-irnt.meta </td><td>2</td><td>1</td><td>same     </td><td>CVPC</td></tr>\n",
       "\t<tr><td>11_61858251 continuous-4194-both_sexes-irnt.meta  </td><td>3</td><td>1</td><td>same     </td><td>PPC </td></tr>\n",
       "\t<tr><td>11_61858251 continuous-4194-both_sexes-irnt.meta  </td><td>2</td><td>2</td><td>different</td><td>CVPC</td></tr>\n",
       "\t<tr><td>11_61874070 biomarkers-30780-both_sexes-irnt.meta </td><td>4</td><td>2</td><td>same     </td><td>PPC </td></tr>\n",
       "\t<tr><td>11_61874070 biomarkers-30780-both_sexes-irnt.meta </td><td>2</td><td>2</td><td>different</td><td>CVPC</td></tr>\n",
       "\t<tr><td>11_61874070 MAGIC1000G_FG_EUR                     </td><td>2</td><td>2</td><td>different</td><td>PPC </td></tr>\n",
       "\t<tr><td>11_61874070 MAGIC1000G_FG_EUR                     </td><td>2</td><td>2</td><td>different</td><td>CVPC</td></tr>\n",
       "\t<tr><td>12_132882706 continuous-23104-both_sexes-irnt.meta</td><td>2</td><td>2</td><td>different</td><td>iPSC</td></tr>\n",
       "\t<tr><td>12_50870851 biomarkers-30760-both_sexes-irnt.meta </td><td>2</td><td>2</td><td>different</td><td>iPSC</td></tr>\n",
       "\t<tr><td>14_103384935 continuous-23104-both_sexes-irnt.meta</td><td>2</td><td>2</td><td>different</td><td>CVPC</td></tr>\n",
       "\t<tr><td>14_68726108 GCST90014023_buildGRCh38              </td><td>2</td><td>1</td><td>same     </td><td>CVPC</td></tr>\n",
       "\t<tr><td>14_68816658 biomarkers-30760-both_sexes-irnt.meta </td><td>2</td><td>1</td><td>same     </td><td>CVPC</td></tr>\n",
       "\t<tr><td>14_71416783 continuous-12340-both_sexes-irnt.meta </td><td>2</td><td>2</td><td>different</td><td>CVPC</td></tr>\n",
       "\t<tr><td>15_74935608 biomarkers-30760-both_sexes-irnt.meta </td><td>2</td><td>2</td><td>different</td><td>CVPC</td></tr>\n",
       "\t<tr><td>15_90879313 biomarkers-30760-both_sexes-irnt.meta </td><td>2</td><td>1</td><td>same     </td><td>CVPC</td></tr>\n",
       "\t<tr><td>15_90885406 icd10-I21-both_sexes.meta             </td><td>2</td><td>2</td><td>different</td><td>iPSC</td></tr>\n",
       "\t<tr><td>15_90885406 icd10-I25-both_sexes.meta             </td><td>2</td><td>2</td><td>different</td><td>iPSC</td></tr>\n",
       "\t<tr><td>15_90885406 lifegen_phase2_bothpl_alldr_2017_09_18</td><td>2</td><td>2</td><td>different</td><td>CVPC</td></tr>\n",
       "\t<tr><td>⋮</td><td>⋮</td><td>⋮</td><td>⋮</td><td>⋮</td></tr>\n",
       "\t<tr><td>17_47543313 biomarkers-30780-both_sexes-irnt.meta    </td><td>2</td><td>2</td><td>different</td><td>PPC </td></tr>\n",
       "\t<tr><td>17_598400 biomarkers-30760-both_sexes-irnt.meta      </td><td>2</td><td>1</td><td>same     </td><td>CVPC</td></tr>\n",
       "\t<tr><td>17_7229843 BW3_EUR_summary_stats                     </td><td>2</td><td>2</td><td>different</td><td>iPSC</td></tr>\n",
       "\t<tr><td>17_76691695 continuous-4194-both_sexes-irnt.meta     </td><td>2</td><td>1</td><td>same     </td><td>CVPC</td></tr>\n",
       "\t<tr><td>19_38670798 continuous-4194-both_sexes-irnt.meta     </td><td>2</td><td>1</td><td>same     </td><td>CVPC</td></tr>\n",
       "\t<tr><td>19_41235373 biomarkers-30760-both_sexes-irnt.meta    </td><td>2</td><td>1</td><td>same     </td><td>CVPC</td></tr>\n",
       "\t<tr><td>2_168975641 biomarkers-30780-both_sexes-irnt.meta    </td><td>2</td><td>1</td><td>same     </td><td>CVPC</td></tr>\n",
       "\t<tr><td>22_38680844 continuous-4194-both_sexes-irnt.meta     </td><td>2</td><td>2</td><td>different</td><td>iPSC</td></tr>\n",
       "\t<tr><td>3_152368744 Mahajan.NatGenet2018b.T2D.European_sorted</td><td>2</td><td>1</td><td>same     </td><td>CVPC</td></tr>\n",
       "\t<tr><td>3_172073485 continuous-4194-both_sexes-irnt.meta     </td><td>2</td><td>2</td><td>different</td><td>CVPC</td></tr>\n",
       "\t<tr><td>3_47205570 Mahajan.NatGenet2018b.T2D.European_sorted </td><td>2</td><td>2</td><td>different</td><td>iPSC</td></tr>\n",
       "\t<tr><td>3_65184286 continuous-23104-both_sexes-irnt.meta     </td><td>2</td><td>1</td><td>same     </td><td>CVPC</td></tr>\n",
       "\t<tr><td>4_102806853 Mahajan.NatGenet2018b.T2D.European_sorted</td><td>2</td><td>2</td><td>different</td><td>PPC </td></tr>\n",
       "\t<tr><td>4_68475769 biomarkers-30760-both_sexes-irnt.meta     </td><td>2</td><td>1</td><td>same     </td><td>CVPC</td></tr>\n",
       "\t<tr><td>5_44648564 Mahajan.NatGenet2018b.T2D.European_sorted </td><td>2</td><td>2</td><td>different</td><td>PPC </td></tr>\n",
       "\t<tr><td>6_108687991 timmers2020_healthspan_lifespan_longevity</td><td>2</td><td>2</td><td>different</td><td>iPSC</td></tr>\n",
       "\t<tr><td>6_118393067 continuous-12340-both_sexes-irnt.meta    </td><td>2</td><td>2</td><td>different</td><td>CVPC</td></tr>\n",
       "\t<tr><td>6_18340056 icd10-I48-both_sexes.meta                 </td><td>2</td><td>2</td><td>different</td><td>CVPC</td></tr>\n",
       "\t<tr><td>7_100879824 continuous-4194-both_sexes-irnt.meta     </td><td>2</td><td>1</td><td>same     </td><td>PPC </td></tr>\n",
       "\t<tr><td>7_116488951 continuous-12340-both_sexes-irnt.meta    </td><td>2</td><td>1</td><td>same     </td><td>CVPC</td></tr>\n",
       "\t<tr><td>7_116498962 icd10-I48-both_sexes.meta                </td><td>2</td><td>1</td><td>same     </td><td>CVPC</td></tr>\n",
       "\t<tr><td>7_2037066 continuous-23104-both_sexes-irnt.meta      </td><td>2</td><td>1</td><td>same     </td><td>iPSC</td></tr>\n",
       "\t<tr><td>7_90173282 MAGIC1000G_FG_EUR                         </td><td>3</td><td>1</td><td>same     </td><td>PPC </td></tr>\n",
       "\t<tr><td>8_11373740 Mahajan.NatGenet2018b.T2D.European_sorted </td><td>2</td><td>2</td><td>different</td><td>iPSC</td></tr>\n",
       "\t<tr><td>8_11930521 continuous-23104-both_sexes-irnt.meta     </td><td>2</td><td>2</td><td>different</td><td>CVPC</td></tr>\n",
       "\t<tr><td>8_143980319 biomarkers-30780-both_sexes-irnt.meta    </td><td>2</td><td>2</td><td>different</td><td>CVPC</td></tr>\n",
       "\t<tr><td>8_54532009 biomarkers-30780-both_sexes-irnt.meta     </td><td>2</td><td>1</td><td>same     </td><td>CVPC</td></tr>\n",
       "\t<tr><td>8_88422176 continuous-23104-both_sexes-irnt.meta     </td><td>2</td><td>2</td><td>different</td><td>CVPC</td></tr>\n",
       "\t<tr><td>9_137081303 biomarkers-30760-both_sexes-irnt.meta    </td><td>2</td><td>2</td><td>different</td><td>iPSC</td></tr>\n",
       "\t<tr><td>9_19047082 Mahajan.NatGenet2018b.T2D.European_sorted </td><td>2</td><td>2</td><td>different</td><td>iPSC</td></tr>\n",
       "</tbody>\n",
       "</table>\n"
      ],
      "text/latex": [
       "A data.frame: 71 × 5\n",
       "\\begin{tabular}{lllll}\n",
       " id & nclusters & ntopsnps & causal & tissue\\\\\n",
       " <chr> & <int> & <int> & <chr> & <chr>\\\\\n",
       "\\hline\n",
       "\t 1\\_16980100 continuous-23104-both\\_sexes-irnt.meta   & 2 & 2 & different & CVPC\\\\\n",
       "\t 1\\_205770138 biomarkers-30760-both\\_sexes-irnt.meta  & 2 & 1 & same      & CVPC\\\\\n",
       "\t 1\\_62453356 biomarkers-30760-both\\_sexes-irnt.meta   & 2 & 2 & different & CVPC\\\\\n",
       "\t 1\\_62453356 biomarkers-30780-both\\_sexes-irnt.meta   & 2 & 2 & different & PPC \\\\\n",
       "\t 10\\_103707199 icd10-I48-both\\_sexes.meta             & 2 & 1 & same      & CVPC\\\\\n",
       "\t 10\\_63387659 icd10-I48-both\\_sexes.meta              & 2 & 2 & different & CVPC\\\\\n",
       "\t 11\\_119040329 continuous-23104-both\\_sexes-irnt.meta & 2 & 1 & same      & CVPC\\\\\n",
       "\t 11\\_130998688 continuous-23104-both\\_sexes-irnt.meta & 3 & 2 & same      & CVPC\\\\\n",
       "\t 11\\_14673589 biomarkers-30760-both\\_sexes-irnt.meta  & 2 & 1 & same      & iPSC\\\\\n",
       "\t 11\\_18636189 biomarkers-30780-both\\_sexes-irnt.meta  & 2 & 1 & same      & CVPC\\\\\n",
       "\t 11\\_47501662 continuous-23104-both\\_sexes-irnt.meta  & 2 & 2 & different & PPC \\\\\n",
       "\t 11\\_61819414 biomarkers-30760-both\\_sexes-irnt.meta  & 3 & 1 & same      & PPC \\\\\n",
       "\t 11\\_61819414 biomarkers-30760-both\\_sexes-irnt.meta  & 2 & 1 & same      & CVPC\\\\\n",
       "\t 11\\_61858251 continuous-4194-both\\_sexes-irnt.meta   & 3 & 1 & same      & PPC \\\\\n",
       "\t 11\\_61858251 continuous-4194-both\\_sexes-irnt.meta   & 2 & 2 & different & CVPC\\\\\n",
       "\t 11\\_61874070 biomarkers-30780-both\\_sexes-irnt.meta  & 4 & 2 & same      & PPC \\\\\n",
       "\t 11\\_61874070 biomarkers-30780-both\\_sexes-irnt.meta  & 2 & 2 & different & CVPC\\\\\n",
       "\t 11\\_61874070 MAGIC1000G\\_FG\\_EUR                      & 2 & 2 & different & PPC \\\\\n",
       "\t 11\\_61874070 MAGIC1000G\\_FG\\_EUR                      & 2 & 2 & different & CVPC\\\\\n",
       "\t 12\\_132882706 continuous-23104-both\\_sexes-irnt.meta & 2 & 2 & different & iPSC\\\\\n",
       "\t 12\\_50870851 biomarkers-30760-both\\_sexes-irnt.meta  & 2 & 2 & different & iPSC\\\\\n",
       "\t 14\\_103384935 continuous-23104-both\\_sexes-irnt.meta & 2 & 2 & different & CVPC\\\\\n",
       "\t 14\\_68726108 GCST90014023\\_buildGRCh38               & 2 & 1 & same      & CVPC\\\\\n",
       "\t 14\\_68816658 biomarkers-30760-both\\_sexes-irnt.meta  & 2 & 1 & same      & CVPC\\\\\n",
       "\t 14\\_71416783 continuous-12340-both\\_sexes-irnt.meta  & 2 & 2 & different & CVPC\\\\\n",
       "\t 15\\_74935608 biomarkers-30760-both\\_sexes-irnt.meta  & 2 & 2 & different & CVPC\\\\\n",
       "\t 15\\_90879313 biomarkers-30760-both\\_sexes-irnt.meta  & 2 & 1 & same      & CVPC\\\\\n",
       "\t 15\\_90885406 icd10-I21-both\\_sexes.meta              & 2 & 2 & different & iPSC\\\\\n",
       "\t 15\\_90885406 icd10-I25-both\\_sexes.meta              & 2 & 2 & different & iPSC\\\\\n",
       "\t 15\\_90885406 lifegen\\_phase2\\_bothpl\\_alldr\\_2017\\_09\\_18 & 2 & 2 & different & CVPC\\\\\n",
       "\t ⋮ & ⋮ & ⋮ & ⋮ & ⋮\\\\\n",
       "\t 17\\_47543313 biomarkers-30780-both\\_sexes-irnt.meta     & 2 & 2 & different & PPC \\\\\n",
       "\t 17\\_598400 biomarkers-30760-both\\_sexes-irnt.meta       & 2 & 1 & same      & CVPC\\\\\n",
       "\t 17\\_7229843 BW3\\_EUR\\_summary\\_stats                      & 2 & 2 & different & iPSC\\\\\n",
       "\t 17\\_76691695 continuous-4194-both\\_sexes-irnt.meta      & 2 & 1 & same      & CVPC\\\\\n",
       "\t 19\\_38670798 continuous-4194-both\\_sexes-irnt.meta      & 2 & 1 & same      & CVPC\\\\\n",
       "\t 19\\_41235373 biomarkers-30760-both\\_sexes-irnt.meta     & 2 & 1 & same      & CVPC\\\\\n",
       "\t 2\\_168975641 biomarkers-30780-both\\_sexes-irnt.meta     & 2 & 1 & same      & CVPC\\\\\n",
       "\t 22\\_38680844 continuous-4194-both\\_sexes-irnt.meta      & 2 & 2 & different & iPSC\\\\\n",
       "\t 3\\_152368744 Mahajan.NatGenet2018b.T2D.European\\_sorted & 2 & 1 & same      & CVPC\\\\\n",
       "\t 3\\_172073485 continuous-4194-both\\_sexes-irnt.meta      & 2 & 2 & different & CVPC\\\\\n",
       "\t 3\\_47205570 Mahajan.NatGenet2018b.T2D.European\\_sorted  & 2 & 2 & different & iPSC\\\\\n",
       "\t 3\\_65184286 continuous-23104-both\\_sexes-irnt.meta      & 2 & 1 & same      & CVPC\\\\\n",
       "\t 4\\_102806853 Mahajan.NatGenet2018b.T2D.European\\_sorted & 2 & 2 & different & PPC \\\\\n",
       "\t 4\\_68475769 biomarkers-30760-both\\_sexes-irnt.meta      & 2 & 1 & same      & CVPC\\\\\n",
       "\t 5\\_44648564 Mahajan.NatGenet2018b.T2D.European\\_sorted  & 2 & 2 & different & PPC \\\\\n",
       "\t 6\\_108687991 timmers2020\\_healthspan\\_lifespan\\_longevity & 2 & 2 & different & iPSC\\\\\n",
       "\t 6\\_118393067 continuous-12340-both\\_sexes-irnt.meta     & 2 & 2 & different & CVPC\\\\\n",
       "\t 6\\_18340056 icd10-I48-both\\_sexes.meta                  & 2 & 2 & different & CVPC\\\\\n",
       "\t 7\\_100879824 continuous-4194-both\\_sexes-irnt.meta      & 2 & 1 & same      & PPC \\\\\n",
       "\t 7\\_116488951 continuous-12340-both\\_sexes-irnt.meta     & 2 & 1 & same      & CVPC\\\\\n",
       "\t 7\\_116498962 icd10-I48-both\\_sexes.meta                 & 2 & 1 & same      & CVPC\\\\\n",
       "\t 7\\_2037066 continuous-23104-both\\_sexes-irnt.meta       & 2 & 1 & same      & iPSC\\\\\n",
       "\t 7\\_90173282 MAGIC1000G\\_FG\\_EUR                          & 3 & 1 & same      & PPC \\\\\n",
       "\t 8\\_11373740 Mahajan.NatGenet2018b.T2D.European\\_sorted  & 2 & 2 & different & iPSC\\\\\n",
       "\t 8\\_11930521 continuous-23104-both\\_sexes-irnt.meta      & 2 & 2 & different & CVPC\\\\\n",
       "\t 8\\_143980319 biomarkers-30780-both\\_sexes-irnt.meta     & 2 & 2 & different & CVPC\\\\\n",
       "\t 8\\_54532009 biomarkers-30780-both\\_sexes-irnt.meta      & 2 & 1 & same      & CVPC\\\\\n",
       "\t 8\\_88422176 continuous-23104-both\\_sexes-irnt.meta      & 2 & 2 & different & CVPC\\\\\n",
       "\t 9\\_137081303 biomarkers-30760-both\\_sexes-irnt.meta     & 2 & 2 & different & iPSC\\\\\n",
       "\t 9\\_19047082 Mahajan.NatGenet2018b.T2D.European\\_sorted  & 2 & 2 & different & iPSC\\\\\n",
       "\\end{tabular}\n"
      ],
      "text/markdown": [
       "\n",
       "A data.frame: 71 × 5\n",
       "\n",
       "| id &lt;chr&gt; | nclusters &lt;int&gt; | ntopsnps &lt;int&gt; | causal &lt;chr&gt; | tissue &lt;chr&gt; |\n",
       "|---|---|---|---|---|\n",
       "| 1_16980100 continuous-23104-both_sexes-irnt.meta   | 2 | 2 | different | CVPC |\n",
       "| 1_205770138 biomarkers-30760-both_sexes-irnt.meta  | 2 | 1 | same      | CVPC |\n",
       "| 1_62453356 biomarkers-30760-both_sexes-irnt.meta   | 2 | 2 | different | CVPC |\n",
       "| 1_62453356 biomarkers-30780-both_sexes-irnt.meta   | 2 | 2 | different | PPC  |\n",
       "| 10_103707199 icd10-I48-both_sexes.meta             | 2 | 1 | same      | CVPC |\n",
       "| 10_63387659 icd10-I48-both_sexes.meta              | 2 | 2 | different | CVPC |\n",
       "| 11_119040329 continuous-23104-both_sexes-irnt.meta | 2 | 1 | same      | CVPC |\n",
       "| 11_130998688 continuous-23104-both_sexes-irnt.meta | 3 | 2 | same      | CVPC |\n",
       "| 11_14673589 biomarkers-30760-both_sexes-irnt.meta  | 2 | 1 | same      | iPSC |\n",
       "| 11_18636189 biomarkers-30780-both_sexes-irnt.meta  | 2 | 1 | same      | CVPC |\n",
       "| 11_47501662 continuous-23104-both_sexes-irnt.meta  | 2 | 2 | different | PPC  |\n",
       "| 11_61819414 biomarkers-30760-both_sexes-irnt.meta  | 3 | 1 | same      | PPC  |\n",
       "| 11_61819414 biomarkers-30760-both_sexes-irnt.meta  | 2 | 1 | same      | CVPC |\n",
       "| 11_61858251 continuous-4194-both_sexes-irnt.meta   | 3 | 1 | same      | PPC  |\n",
       "| 11_61858251 continuous-4194-both_sexes-irnt.meta   | 2 | 2 | different | CVPC |\n",
       "| 11_61874070 biomarkers-30780-both_sexes-irnt.meta  | 4 | 2 | same      | PPC  |\n",
       "| 11_61874070 biomarkers-30780-both_sexes-irnt.meta  | 2 | 2 | different | CVPC |\n",
       "| 11_61874070 MAGIC1000G_FG_EUR                      | 2 | 2 | different | PPC  |\n",
       "| 11_61874070 MAGIC1000G_FG_EUR                      | 2 | 2 | different | CVPC |\n",
       "| 12_132882706 continuous-23104-both_sexes-irnt.meta | 2 | 2 | different | iPSC |\n",
       "| 12_50870851 biomarkers-30760-both_sexes-irnt.meta  | 2 | 2 | different | iPSC |\n",
       "| 14_103384935 continuous-23104-both_sexes-irnt.meta | 2 | 2 | different | CVPC |\n",
       "| 14_68726108 GCST90014023_buildGRCh38               | 2 | 1 | same      | CVPC |\n",
       "| 14_68816658 biomarkers-30760-both_sexes-irnt.meta  | 2 | 1 | same      | CVPC |\n",
       "| 14_71416783 continuous-12340-both_sexes-irnt.meta  | 2 | 2 | different | CVPC |\n",
       "| 15_74935608 biomarkers-30760-both_sexes-irnt.meta  | 2 | 2 | different | CVPC |\n",
       "| 15_90879313 biomarkers-30760-both_sexes-irnt.meta  | 2 | 1 | same      | CVPC |\n",
       "| 15_90885406 icd10-I21-both_sexes.meta              | 2 | 2 | different | iPSC |\n",
       "| 15_90885406 icd10-I25-both_sexes.meta              | 2 | 2 | different | iPSC |\n",
       "| 15_90885406 lifegen_phase2_bothpl_alldr_2017_09_18 | 2 | 2 | different | CVPC |\n",
       "| ⋮ | ⋮ | ⋮ | ⋮ | ⋮ |\n",
       "| 17_47543313 biomarkers-30780-both_sexes-irnt.meta     | 2 | 2 | different | PPC  |\n",
       "| 17_598400 biomarkers-30760-both_sexes-irnt.meta       | 2 | 1 | same      | CVPC |\n",
       "| 17_7229843 BW3_EUR_summary_stats                      | 2 | 2 | different | iPSC |\n",
       "| 17_76691695 continuous-4194-both_sexes-irnt.meta      | 2 | 1 | same      | CVPC |\n",
       "| 19_38670798 continuous-4194-both_sexes-irnt.meta      | 2 | 1 | same      | CVPC |\n",
       "| 19_41235373 biomarkers-30760-both_sexes-irnt.meta     | 2 | 1 | same      | CVPC |\n",
       "| 2_168975641 biomarkers-30780-both_sexes-irnt.meta     | 2 | 1 | same      | CVPC |\n",
       "| 22_38680844 continuous-4194-both_sexes-irnt.meta      | 2 | 2 | different | iPSC |\n",
       "| 3_152368744 Mahajan.NatGenet2018b.T2D.European_sorted | 2 | 1 | same      | CVPC |\n",
       "| 3_172073485 continuous-4194-both_sexes-irnt.meta      | 2 | 2 | different | CVPC |\n",
       "| 3_47205570 Mahajan.NatGenet2018b.T2D.European_sorted  | 2 | 2 | different | iPSC |\n",
       "| 3_65184286 continuous-23104-both_sexes-irnt.meta      | 2 | 1 | same      | CVPC |\n",
       "| 4_102806853 Mahajan.NatGenet2018b.T2D.European_sorted | 2 | 2 | different | PPC  |\n",
       "| 4_68475769 biomarkers-30760-both_sexes-irnt.meta      | 2 | 1 | same      | CVPC |\n",
       "| 5_44648564 Mahajan.NatGenet2018b.T2D.European_sorted  | 2 | 2 | different | PPC  |\n",
       "| 6_108687991 timmers2020_healthspan_lifespan_longevity | 2 | 2 | different | iPSC |\n",
       "| 6_118393067 continuous-12340-both_sexes-irnt.meta     | 2 | 2 | different | CVPC |\n",
       "| 6_18340056 icd10-I48-both_sexes.meta                  | 2 | 2 | different | CVPC |\n",
       "| 7_100879824 continuous-4194-both_sexes-irnt.meta      | 2 | 1 | same      | PPC  |\n",
       "| 7_116488951 continuous-12340-both_sexes-irnt.meta     | 2 | 1 | same      | CVPC |\n",
       "| 7_116498962 icd10-I48-both_sexes.meta                 | 2 | 1 | same      | CVPC |\n",
       "| 7_2037066 continuous-23104-both_sexes-irnt.meta       | 2 | 1 | same      | iPSC |\n",
       "| 7_90173282 MAGIC1000G_FG_EUR                          | 3 | 1 | same      | PPC  |\n",
       "| 8_11373740 Mahajan.NatGenet2018b.T2D.European_sorted  | 2 | 2 | different | iPSC |\n",
       "| 8_11930521 continuous-23104-both_sexes-irnt.meta      | 2 | 2 | different | CVPC |\n",
       "| 8_143980319 biomarkers-30780-both_sexes-irnt.meta     | 2 | 2 | different | CVPC |\n",
       "| 8_54532009 biomarkers-30780-both_sexes-irnt.meta      | 2 | 1 | same      | CVPC |\n",
       "| 8_88422176 continuous-23104-both_sexes-irnt.meta      | 2 | 2 | different | CVPC |\n",
       "| 9_137081303 biomarkers-30760-both_sexes-irnt.meta     | 2 | 2 | different | iPSC |\n",
       "| 9_19047082 Mahajan.NatGenet2018b.T2D.European_sorted  | 2 | 2 | different | iPSC |\n",
       "\n"
      ],
      "text/plain": [
       "   id                                                    nclusters ntopsnps\n",
       "1  1_16980100 continuous-23104-both_sexes-irnt.meta      2         2       \n",
       "2  1_205770138 biomarkers-30760-both_sexes-irnt.meta     2         1       \n",
       "3  1_62453356 biomarkers-30760-both_sexes-irnt.meta      2         2       \n",
       "4  1_62453356 biomarkers-30780-both_sexes-irnt.meta      2         2       \n",
       "5  10_103707199 icd10-I48-both_sexes.meta                2         1       \n",
       "6  10_63387659 icd10-I48-both_sexes.meta                 2         2       \n",
       "7  11_119040329 continuous-23104-both_sexes-irnt.meta    2         1       \n",
       "8  11_130998688 continuous-23104-both_sexes-irnt.meta    3         2       \n",
       "9  11_14673589 biomarkers-30760-both_sexes-irnt.meta     2         1       \n",
       "10 11_18636189 biomarkers-30780-both_sexes-irnt.meta     2         1       \n",
       "11 11_47501662 continuous-23104-both_sexes-irnt.meta     2         2       \n",
       "12 11_61819414 biomarkers-30760-both_sexes-irnt.meta     3         1       \n",
       "13 11_61819414 biomarkers-30760-both_sexes-irnt.meta     2         1       \n",
       "14 11_61858251 continuous-4194-both_sexes-irnt.meta      3         1       \n",
       "15 11_61858251 continuous-4194-both_sexes-irnt.meta      2         2       \n",
       "16 11_61874070 biomarkers-30780-both_sexes-irnt.meta     4         2       \n",
       "17 11_61874070 biomarkers-30780-both_sexes-irnt.meta     2         2       \n",
       "18 11_61874070 MAGIC1000G_FG_EUR                         2         2       \n",
       "19 11_61874070 MAGIC1000G_FG_EUR                         2         2       \n",
       "20 12_132882706 continuous-23104-both_sexes-irnt.meta    2         2       \n",
       "21 12_50870851 biomarkers-30760-both_sexes-irnt.meta     2         2       \n",
       "22 14_103384935 continuous-23104-both_sexes-irnt.meta    2         2       \n",
       "23 14_68726108 GCST90014023_buildGRCh38                  2         1       \n",
       "24 14_68816658 biomarkers-30760-both_sexes-irnt.meta     2         1       \n",
       "25 14_71416783 continuous-12340-both_sexes-irnt.meta     2         2       \n",
       "26 15_74935608 biomarkers-30760-both_sexes-irnt.meta     2         2       \n",
       "27 15_90879313 biomarkers-30760-both_sexes-irnt.meta     2         1       \n",
       "28 15_90885406 icd10-I21-both_sexes.meta                 2         2       \n",
       "29 15_90885406 icd10-I25-both_sexes.meta                 2         2       \n",
       "30 15_90885406 lifegen_phase2_bothpl_alldr_2017_09_18    2         2       \n",
       "⋮  ⋮                                                     ⋮         ⋮       \n",
       "42 17_47543313 biomarkers-30780-both_sexes-irnt.meta     2         2       \n",
       "43 17_598400 biomarkers-30760-both_sexes-irnt.meta       2         1       \n",
       "44 17_7229843 BW3_EUR_summary_stats                      2         2       \n",
       "45 17_76691695 continuous-4194-both_sexes-irnt.meta      2         1       \n",
       "46 19_38670798 continuous-4194-both_sexes-irnt.meta      2         1       \n",
       "47 19_41235373 biomarkers-30760-both_sexes-irnt.meta     2         1       \n",
       "48 2_168975641 biomarkers-30780-both_sexes-irnt.meta     2         1       \n",
       "49 22_38680844 continuous-4194-both_sexes-irnt.meta      2         2       \n",
       "50 3_152368744 Mahajan.NatGenet2018b.T2D.European_sorted 2         1       \n",
       "51 3_172073485 continuous-4194-both_sexes-irnt.meta      2         2       \n",
       "52 3_47205570 Mahajan.NatGenet2018b.T2D.European_sorted  2         2       \n",
       "53 3_65184286 continuous-23104-both_sexes-irnt.meta      2         1       \n",
       "54 4_102806853 Mahajan.NatGenet2018b.T2D.European_sorted 2         2       \n",
       "55 4_68475769 biomarkers-30760-both_sexes-irnt.meta      2         1       \n",
       "56 5_44648564 Mahajan.NatGenet2018b.T2D.European_sorted  2         2       \n",
       "57 6_108687991 timmers2020_healthspan_lifespan_longevity 2         2       \n",
       "58 6_118393067 continuous-12340-both_sexes-irnt.meta     2         2       \n",
       "59 6_18340056 icd10-I48-both_sexes.meta                  2         2       \n",
       "60 7_100879824 continuous-4194-both_sexes-irnt.meta      2         1       \n",
       "61 7_116488951 continuous-12340-both_sexes-irnt.meta     2         1       \n",
       "62 7_116498962 icd10-I48-both_sexes.meta                 2         1       \n",
       "63 7_2037066 continuous-23104-both_sexes-irnt.meta       2         1       \n",
       "64 7_90173282 MAGIC1000G_FG_EUR                          3         1       \n",
       "65 8_11373740 Mahajan.NatGenet2018b.T2D.European_sorted  2         2       \n",
       "66 8_11930521 continuous-23104-both_sexes-irnt.meta      2         2       \n",
       "67 8_143980319 biomarkers-30780-both_sexes-irnt.meta     2         2       \n",
       "68 8_54532009 biomarkers-30780-both_sexes-irnt.meta      2         1       \n",
       "69 8_88422176 continuous-23104-both_sexes-irnt.meta      2         2       \n",
       "70 9_137081303 biomarkers-30760-both_sexes-irnt.meta     2         2       \n",
       "71 9_19047082 Mahajan.NatGenet2018b.T2D.European_sorted  2         2       \n",
       "   causal    tissue\n",
       "1  different CVPC  \n",
       "2  same      CVPC  \n",
       "3  different CVPC  \n",
       "4  different PPC   \n",
       "5  same      CVPC  \n",
       "6  different CVPC  \n",
       "7  same      CVPC  \n",
       "8  same      CVPC  \n",
       "9  same      iPSC  \n",
       "10 same      CVPC  \n",
       "11 different PPC   \n",
       "12 same      PPC   \n",
       "13 same      CVPC  \n",
       "14 same      PPC   \n",
       "15 different CVPC  \n",
       "16 same      PPC   \n",
       "17 different CVPC  \n",
       "18 different PPC   \n",
       "19 different CVPC  \n",
       "20 different iPSC  \n",
       "21 different iPSC  \n",
       "22 different CVPC  \n",
       "23 same      CVPC  \n",
       "24 same      CVPC  \n",
       "25 different CVPC  \n",
       "26 different CVPC  \n",
       "27 same      CVPC  \n",
       "28 different iPSC  \n",
       "29 different iPSC  \n",
       "30 different CVPC  \n",
       "⋮  ⋮         ⋮     \n",
       "42 different PPC   \n",
       "43 same      CVPC  \n",
       "44 different iPSC  \n",
       "45 same      CVPC  \n",
       "46 same      CVPC  \n",
       "47 same      CVPC  \n",
       "48 same      CVPC  \n",
       "49 different iPSC  \n",
       "50 same      CVPC  \n",
       "51 different CVPC  \n",
       "52 different iPSC  \n",
       "53 same      CVPC  \n",
       "54 different PPC   \n",
       "55 same      CVPC  \n",
       "56 different PPC   \n",
       "57 different iPSC  \n",
       "58 different CVPC  \n",
       "59 different CVPC  \n",
       "60 same      PPC   \n",
       "61 same      CVPC  \n",
       "62 same      CVPC  \n",
       "63 same      iPSC  \n",
       "64 same      PPC   \n",
       "65 different iPSC  \n",
       "66 different CVPC  \n",
       "67 different CVPC  \n",
       "68 same      CVPC  \n",
       "69 different CVPC  \n",
       "70 different iPSC  \n",
       "71 different iPSC  "
      ]
     },
     "metadata": {},
     "output_type": "display_data"
    }
   ],
   "source": [
    "tmp = as.data.frame(rbindlist(lapply(c(\"PPC\", \"CVPC\", \"iPSC\"), function(tiss)\n",
    "{\n",
    "    a = indep3 %>% \n",
    "        filter(full_trait_id != \"continuous-20022-both_sexes-irnt.meta\") %>% \n",
    "        select(gwas_index, full_trait_id, description, cluster_id, tissue) %>% \n",
    "        filter(tissue == tiss) %>% \n",
    "        mutate(id = paste(gwas_index, full_trait_id))\n",
    "    b = data.frame(table(a$id)) %>% dplyr::arrange(desc(Freq)) %>% filter(Freq != 1)\n",
    "\n",
    "    c = indep3 %>% \n",
    "        filter(full_trait_id != \"continuous-20022-both_sexes-irnt.meta\") %>% \n",
    "        select(gwas_index, full_trait_id, description, cluster_id, tissue) %>% \n",
    "        filter(tissue == tiss) %>% \n",
    "        mutate(id = paste(gwas_index, full_trait_id)) %>% \n",
    "        filter(id %in% b$Var1) %>%\n",
    "        mutate(cluster_gwas = paste(cluster_id, id)) %>%\n",
    "        mutate(id = paste(cluster_id, full_trait_id))\n",
    "\n",
    "    d = gwas_nodup %>% select(cluster_id, full_trait_id, description, topsnp_pp, topsnp) \n",
    "    d = merge(d %>% select(id, topsnp, topsnp_pp), c %>% mutate(id = paste(cluster_id, full_trait_id)), by = \"id\", all.y = T)\n",
    "\n",
    "    d = d %>% mutate(id = paste(gwas_index, full_trait_id)) %>% arrange(id)\n",
    "\n",
    "    e = as.data.frame(rbindlist(lapply(unique(d$id), function(x)\n",
    "    {\n",
    "        data.frame(id = x, nclusters = length(unique(d[d$id == x,]$cluster_id)), ntopsnps = length(unique(d[d$id == x,]$topsnp)))\n",
    "    }))) %>%\n",
    "        mutate(causal = ifelse(nclusters == ntopsnps, \"different\", \"same\"))\n",
    "\n",
    "    return(e %>% mutate(tissue = tiss))\n",
    "})))\n",
    "\n",
    "message(paste(\"# loci:\", length(unique(tmp$id))))\n",
    "\n",
    "table(tmp$causal)\n",
    "summary(tmp$nclusters)\n",
    "\n",
    "tmp %>% arrange(id)\n",
    "\n"
   ]
  },
  {
   "cell_type": "code",
   "execution_count": 157,
   "metadata": {},
   "outputs": [
    {
     "data": {
      "text/html": [
       "<table class=\"dataframe\">\n",
       "<caption>A data.frame: 31 × 5</caption>\n",
       "<thead>\n",
       "\t<tr><th scope=col>id</th><th scope=col>nclusters</th><th scope=col>ntopsnps</th><th scope=col>causal</th><th scope=col>tissue</th></tr>\n",
       "\t<tr><th scope=col>&lt;chr&gt;</th><th scope=col>&lt;int&gt;</th><th scope=col>&lt;int&gt;</th><th scope=col>&lt;chr&gt;</th><th scope=col>&lt;chr&gt;</th></tr>\n",
       "</thead>\n",
       "<tbody>\n",
       "\t<tr><td>11_61819414 biomarkers-30760-both_sexes-irnt.meta    </td><td>3</td><td>1</td><td>same</td><td>PPC </td></tr>\n",
       "\t<tr><td>11_61858251 continuous-4194-both_sexes-irnt.meta     </td><td>3</td><td>1</td><td>same</td><td>PPC </td></tr>\n",
       "\t<tr><td>11_61874070 biomarkers-30780-both_sexes-irnt.meta    </td><td>4</td><td>2</td><td>same</td><td>PPC </td></tr>\n",
       "\t<tr><td>16_29983601 biomarkers-30760-both_sexes-irnt.meta    </td><td>3</td><td>2</td><td>same</td><td>PPC </td></tr>\n",
       "\t<tr><td>7_100879824 continuous-4194-both_sexes-irnt.meta     </td><td>2</td><td>1</td><td>same</td><td>PPC </td></tr>\n",
       "\t<tr><td>7_90173282 MAGIC1000G_FG_EUR                         </td><td>3</td><td>1</td><td>same</td><td>PPC </td></tr>\n",
       "\t<tr><td>1_205770138 biomarkers-30760-both_sexes-irnt.meta    </td><td>2</td><td>1</td><td>same</td><td>CVPC</td></tr>\n",
       "\t<tr><td>10_103707199 icd10-I48-both_sexes.meta               </td><td>2</td><td>1</td><td>same</td><td>CVPC</td></tr>\n",
       "\t<tr><td>11_119040329 continuous-23104-both_sexes-irnt.meta   </td><td>2</td><td>1</td><td>same</td><td>CVPC</td></tr>\n",
       "\t<tr><td>11_130998688 continuous-23104-both_sexes-irnt.meta   </td><td>3</td><td>2</td><td>same</td><td>CVPC</td></tr>\n",
       "\t<tr><td>11_18636189 biomarkers-30780-both_sexes-irnt.meta    </td><td>2</td><td>1</td><td>same</td><td>CVPC</td></tr>\n",
       "\t<tr><td>11_61819414 biomarkers-30760-both_sexes-irnt.meta    </td><td>2</td><td>1</td><td>same</td><td>CVPC</td></tr>\n",
       "\t<tr><td>14_68726108 GCST90014023_buildGRCh38                 </td><td>2</td><td>1</td><td>same</td><td>CVPC</td></tr>\n",
       "\t<tr><td>14_68816658 biomarkers-30760-both_sexes-irnt.meta    </td><td>2</td><td>1</td><td>same</td><td>CVPC</td></tr>\n",
       "\t<tr><td>15_90879313 biomarkers-30760-both_sexes-irnt.meta    </td><td>2</td><td>1</td><td>same</td><td>CVPC</td></tr>\n",
       "\t<tr><td>16_15045737 biomarkers-30760-both_sexes-irnt.meta    </td><td>2</td><td>1</td><td>same</td><td>CVPC</td></tr>\n",
       "\t<tr><td>17_598400 biomarkers-30760-both_sexes-irnt.meta      </td><td>2</td><td>1</td><td>same</td><td>CVPC</td></tr>\n",
       "\t<tr><td>17_76691695 continuous-4194-both_sexes-irnt.meta     </td><td>2</td><td>1</td><td>same</td><td>CVPC</td></tr>\n",
       "\t<tr><td>19_38670798 continuous-4194-both_sexes-irnt.meta     </td><td>2</td><td>1</td><td>same</td><td>CVPC</td></tr>\n",
       "\t<tr><td>19_41235373 biomarkers-30760-both_sexes-irnt.meta    </td><td>2</td><td>1</td><td>same</td><td>CVPC</td></tr>\n",
       "\t<tr><td>2_168975641 biomarkers-30780-both_sexes-irnt.meta    </td><td>2</td><td>1</td><td>same</td><td>CVPC</td></tr>\n",
       "\t<tr><td>3_152368744 Mahajan.NatGenet2018b.T2D.European_sorted</td><td>2</td><td>1</td><td>same</td><td>CVPC</td></tr>\n",
       "\t<tr><td>3_65184286 continuous-23104-both_sexes-irnt.meta     </td><td>2</td><td>1</td><td>same</td><td>CVPC</td></tr>\n",
       "\t<tr><td>4_68475769 biomarkers-30760-both_sexes-irnt.meta     </td><td>2</td><td>1</td><td>same</td><td>CVPC</td></tr>\n",
       "\t<tr><td>7_116488951 continuous-12340-both_sexes-irnt.meta    </td><td>2</td><td>1</td><td>same</td><td>CVPC</td></tr>\n",
       "\t<tr><td>7_116498962 icd10-I48-both_sexes.meta                </td><td>2</td><td>1</td><td>same</td><td>CVPC</td></tr>\n",
       "\t<tr><td>8_54532009 biomarkers-30780-both_sexes-irnt.meta     </td><td>2</td><td>1</td><td>same</td><td>CVPC</td></tr>\n",
       "\t<tr><td>11_14673589 biomarkers-30760-both_sexes-irnt.meta    </td><td>2</td><td>1</td><td>same</td><td>iPSC</td></tr>\n",
       "\t<tr><td>15_90885406 lifegen_phase2_bothpl_alldr_2017_09_18   </td><td>2</td><td>1</td><td>same</td><td>iPSC</td></tr>\n",
       "\t<tr><td>15_90885406 timmers2020_healthspan_lifespan_longevity</td><td>2</td><td>1</td><td>same</td><td>iPSC</td></tr>\n",
       "\t<tr><td>7_2037066 continuous-23104-both_sexes-irnt.meta      </td><td>2</td><td>1</td><td>same</td><td>iPSC</td></tr>\n",
       "</tbody>\n",
       "</table>\n"
      ],
      "text/latex": [
       "A data.frame: 31 × 5\n",
       "\\begin{tabular}{lllll}\n",
       " id & nclusters & ntopsnps & causal & tissue\\\\\n",
       " <chr> & <int> & <int> & <chr> & <chr>\\\\\n",
       "\\hline\n",
       "\t 11\\_61819414 biomarkers-30760-both\\_sexes-irnt.meta     & 3 & 1 & same & PPC \\\\\n",
       "\t 11\\_61858251 continuous-4194-both\\_sexes-irnt.meta      & 3 & 1 & same & PPC \\\\\n",
       "\t 11\\_61874070 biomarkers-30780-both\\_sexes-irnt.meta     & 4 & 2 & same & PPC \\\\\n",
       "\t 16\\_29983601 biomarkers-30760-both\\_sexes-irnt.meta     & 3 & 2 & same & PPC \\\\\n",
       "\t 7\\_100879824 continuous-4194-both\\_sexes-irnt.meta      & 2 & 1 & same & PPC \\\\\n",
       "\t 7\\_90173282 MAGIC1000G\\_FG\\_EUR                          & 3 & 1 & same & PPC \\\\\n",
       "\t 1\\_205770138 biomarkers-30760-both\\_sexes-irnt.meta     & 2 & 1 & same & CVPC\\\\\n",
       "\t 10\\_103707199 icd10-I48-both\\_sexes.meta                & 2 & 1 & same & CVPC\\\\\n",
       "\t 11\\_119040329 continuous-23104-both\\_sexes-irnt.meta    & 2 & 1 & same & CVPC\\\\\n",
       "\t 11\\_130998688 continuous-23104-both\\_sexes-irnt.meta    & 3 & 2 & same & CVPC\\\\\n",
       "\t 11\\_18636189 biomarkers-30780-both\\_sexes-irnt.meta     & 2 & 1 & same & CVPC\\\\\n",
       "\t 11\\_61819414 biomarkers-30760-both\\_sexes-irnt.meta     & 2 & 1 & same & CVPC\\\\\n",
       "\t 14\\_68726108 GCST90014023\\_buildGRCh38                  & 2 & 1 & same & CVPC\\\\\n",
       "\t 14\\_68816658 biomarkers-30760-both\\_sexes-irnt.meta     & 2 & 1 & same & CVPC\\\\\n",
       "\t 15\\_90879313 biomarkers-30760-both\\_sexes-irnt.meta     & 2 & 1 & same & CVPC\\\\\n",
       "\t 16\\_15045737 biomarkers-30760-both\\_sexes-irnt.meta     & 2 & 1 & same & CVPC\\\\\n",
       "\t 17\\_598400 biomarkers-30760-both\\_sexes-irnt.meta       & 2 & 1 & same & CVPC\\\\\n",
       "\t 17\\_76691695 continuous-4194-both\\_sexes-irnt.meta      & 2 & 1 & same & CVPC\\\\\n",
       "\t 19\\_38670798 continuous-4194-both\\_sexes-irnt.meta      & 2 & 1 & same & CVPC\\\\\n",
       "\t 19\\_41235373 biomarkers-30760-both\\_sexes-irnt.meta     & 2 & 1 & same & CVPC\\\\\n",
       "\t 2\\_168975641 biomarkers-30780-both\\_sexes-irnt.meta     & 2 & 1 & same & CVPC\\\\\n",
       "\t 3\\_152368744 Mahajan.NatGenet2018b.T2D.European\\_sorted & 2 & 1 & same & CVPC\\\\\n",
       "\t 3\\_65184286 continuous-23104-both\\_sexes-irnt.meta      & 2 & 1 & same & CVPC\\\\\n",
       "\t 4\\_68475769 biomarkers-30760-both\\_sexes-irnt.meta      & 2 & 1 & same & CVPC\\\\\n",
       "\t 7\\_116488951 continuous-12340-both\\_sexes-irnt.meta     & 2 & 1 & same & CVPC\\\\\n",
       "\t 7\\_116498962 icd10-I48-both\\_sexes.meta                 & 2 & 1 & same & CVPC\\\\\n",
       "\t 8\\_54532009 biomarkers-30780-both\\_sexes-irnt.meta      & 2 & 1 & same & CVPC\\\\\n",
       "\t 11\\_14673589 biomarkers-30760-both\\_sexes-irnt.meta     & 2 & 1 & same & iPSC\\\\\n",
       "\t 15\\_90885406 lifegen\\_phase2\\_bothpl\\_alldr\\_2017\\_09\\_18    & 2 & 1 & same & iPSC\\\\\n",
       "\t 15\\_90885406 timmers2020\\_healthspan\\_lifespan\\_longevity & 2 & 1 & same & iPSC\\\\\n",
       "\t 7\\_2037066 continuous-23104-both\\_sexes-irnt.meta       & 2 & 1 & same & iPSC\\\\\n",
       "\\end{tabular}\n"
      ],
      "text/markdown": [
       "\n",
       "A data.frame: 31 × 5\n",
       "\n",
       "| id &lt;chr&gt; | nclusters &lt;int&gt; | ntopsnps &lt;int&gt; | causal &lt;chr&gt; | tissue &lt;chr&gt; |\n",
       "|---|---|---|---|---|\n",
       "| 11_61819414 biomarkers-30760-both_sexes-irnt.meta     | 3 | 1 | same | PPC  |\n",
       "| 11_61858251 continuous-4194-both_sexes-irnt.meta      | 3 | 1 | same | PPC  |\n",
       "| 11_61874070 biomarkers-30780-both_sexes-irnt.meta     | 4 | 2 | same | PPC  |\n",
       "| 16_29983601 biomarkers-30760-both_sexes-irnt.meta     | 3 | 2 | same | PPC  |\n",
       "| 7_100879824 continuous-4194-both_sexes-irnt.meta      | 2 | 1 | same | PPC  |\n",
       "| 7_90173282 MAGIC1000G_FG_EUR                          | 3 | 1 | same | PPC  |\n",
       "| 1_205770138 biomarkers-30760-both_sexes-irnt.meta     | 2 | 1 | same | CVPC |\n",
       "| 10_103707199 icd10-I48-both_sexes.meta                | 2 | 1 | same | CVPC |\n",
       "| 11_119040329 continuous-23104-both_sexes-irnt.meta    | 2 | 1 | same | CVPC |\n",
       "| 11_130998688 continuous-23104-both_sexes-irnt.meta    | 3 | 2 | same | CVPC |\n",
       "| 11_18636189 biomarkers-30780-both_sexes-irnt.meta     | 2 | 1 | same | CVPC |\n",
       "| 11_61819414 biomarkers-30760-both_sexes-irnt.meta     | 2 | 1 | same | CVPC |\n",
       "| 14_68726108 GCST90014023_buildGRCh38                  | 2 | 1 | same | CVPC |\n",
       "| 14_68816658 biomarkers-30760-both_sexes-irnt.meta     | 2 | 1 | same | CVPC |\n",
       "| 15_90879313 biomarkers-30760-both_sexes-irnt.meta     | 2 | 1 | same | CVPC |\n",
       "| 16_15045737 biomarkers-30760-both_sexes-irnt.meta     | 2 | 1 | same | CVPC |\n",
       "| 17_598400 biomarkers-30760-both_sexes-irnt.meta       | 2 | 1 | same | CVPC |\n",
       "| 17_76691695 continuous-4194-both_sexes-irnt.meta      | 2 | 1 | same | CVPC |\n",
       "| 19_38670798 continuous-4194-both_sexes-irnt.meta      | 2 | 1 | same | CVPC |\n",
       "| 19_41235373 biomarkers-30760-both_sexes-irnt.meta     | 2 | 1 | same | CVPC |\n",
       "| 2_168975641 biomarkers-30780-both_sexes-irnt.meta     | 2 | 1 | same | CVPC |\n",
       "| 3_152368744 Mahajan.NatGenet2018b.T2D.European_sorted | 2 | 1 | same | CVPC |\n",
       "| 3_65184286 continuous-23104-both_sexes-irnt.meta      | 2 | 1 | same | CVPC |\n",
       "| 4_68475769 biomarkers-30760-both_sexes-irnt.meta      | 2 | 1 | same | CVPC |\n",
       "| 7_116488951 continuous-12340-both_sexes-irnt.meta     | 2 | 1 | same | CVPC |\n",
       "| 7_116498962 icd10-I48-both_sexes.meta                 | 2 | 1 | same | CVPC |\n",
       "| 8_54532009 biomarkers-30780-both_sexes-irnt.meta      | 2 | 1 | same | CVPC |\n",
       "| 11_14673589 biomarkers-30760-both_sexes-irnt.meta     | 2 | 1 | same | iPSC |\n",
       "| 15_90885406 lifegen_phase2_bothpl_alldr_2017_09_18    | 2 | 1 | same | iPSC |\n",
       "| 15_90885406 timmers2020_healthspan_lifespan_longevity | 2 | 1 | same | iPSC |\n",
       "| 7_2037066 continuous-23104-both_sexes-irnt.meta       | 2 | 1 | same | iPSC |\n",
       "\n"
      ],
      "text/plain": [
       "   id                                                    nclusters ntopsnps\n",
       "1  11_61819414 biomarkers-30760-both_sexes-irnt.meta     3         1       \n",
       "2  11_61858251 continuous-4194-both_sexes-irnt.meta      3         1       \n",
       "3  11_61874070 biomarkers-30780-both_sexes-irnt.meta     4         2       \n",
       "4  16_29983601 biomarkers-30760-both_sexes-irnt.meta     3         2       \n",
       "5  7_100879824 continuous-4194-both_sexes-irnt.meta      2         1       \n",
       "6  7_90173282 MAGIC1000G_FG_EUR                          3         1       \n",
       "7  1_205770138 biomarkers-30760-both_sexes-irnt.meta     2         1       \n",
       "8  10_103707199 icd10-I48-both_sexes.meta                2         1       \n",
       "9  11_119040329 continuous-23104-both_sexes-irnt.meta    2         1       \n",
       "10 11_130998688 continuous-23104-both_sexes-irnt.meta    3         2       \n",
       "11 11_18636189 biomarkers-30780-both_sexes-irnt.meta     2         1       \n",
       "12 11_61819414 biomarkers-30760-both_sexes-irnt.meta     2         1       \n",
       "13 14_68726108 GCST90014023_buildGRCh38                  2         1       \n",
       "14 14_68816658 biomarkers-30760-both_sexes-irnt.meta     2         1       \n",
       "15 15_90879313 biomarkers-30760-both_sexes-irnt.meta     2         1       \n",
       "16 16_15045737 biomarkers-30760-both_sexes-irnt.meta     2         1       \n",
       "17 17_598400 biomarkers-30760-both_sexes-irnt.meta       2         1       \n",
       "18 17_76691695 continuous-4194-both_sexes-irnt.meta      2         1       \n",
       "19 19_38670798 continuous-4194-both_sexes-irnt.meta      2         1       \n",
       "20 19_41235373 biomarkers-30760-both_sexes-irnt.meta     2         1       \n",
       "21 2_168975641 biomarkers-30780-both_sexes-irnt.meta     2         1       \n",
       "22 3_152368744 Mahajan.NatGenet2018b.T2D.European_sorted 2         1       \n",
       "23 3_65184286 continuous-23104-both_sexes-irnt.meta      2         1       \n",
       "24 4_68475769 biomarkers-30760-both_sexes-irnt.meta      2         1       \n",
       "25 7_116488951 continuous-12340-both_sexes-irnt.meta     2         1       \n",
       "26 7_116498962 icd10-I48-both_sexes.meta                 2         1       \n",
       "27 8_54532009 biomarkers-30780-both_sexes-irnt.meta      2         1       \n",
       "28 11_14673589 biomarkers-30760-both_sexes-irnt.meta     2         1       \n",
       "29 15_90885406 lifegen_phase2_bothpl_alldr_2017_09_18    2         1       \n",
       "30 15_90885406 timmers2020_healthspan_lifespan_longevity 2         1       \n",
       "31 7_2037066 continuous-23104-both_sexes-irnt.meta       2         1       \n",
       "   causal tissue\n",
       "1  same   PPC   \n",
       "2  same   PPC   \n",
       "3  same   PPC   \n",
       "4  same   PPC   \n",
       "5  same   PPC   \n",
       "6  same   PPC   \n",
       "7  same   CVPC  \n",
       "8  same   CVPC  \n",
       "9  same   CVPC  \n",
       "10 same   CVPC  \n",
       "11 same   CVPC  \n",
       "12 same   CVPC  \n",
       "13 same   CVPC  \n",
       "14 same   CVPC  \n",
       "15 same   CVPC  \n",
       "16 same   CVPC  \n",
       "17 same   CVPC  \n",
       "18 same   CVPC  \n",
       "19 same   CVPC  \n",
       "20 same   CVPC  \n",
       "21 same   CVPC  \n",
       "22 same   CVPC  \n",
       "23 same   CVPC  \n",
       "24 same   CVPC  \n",
       "25 same   CVPC  \n",
       "26 same   CVPC  \n",
       "27 same   CVPC  \n",
       "28 same   iPSC  \n",
       "29 same   iPSC  \n",
       "30 same   iPSC  \n",
       "31 same   iPSC  "
      ]
     },
     "metadata": {},
     "output_type": "display_data"
    }
   ],
   "source": [
    "tmp %>% filter(causal == \"same\")"
   ]
  },
  {
   "cell_type": "markdown",
   "metadata": {},
   "source": [
    "## Create a column annotating each GWAS locus with all QTL types that it colocalized with for each tissue type"
   ]
  },
  {
   "cell_type": "code",
   "execution_count": 158,
   "metadata": {},
   "outputs": [],
   "source": [
    "collapsed = c()"
   ]
  },
  {
   "cell_type": "code",
   "execution_count": 159,
   "metadata": {},
   "outputs": [
    {
     "data": {
      "text/plain": [
       "\n",
       "             ATAC          ATAC-RNA ATAC-RNA,ATAC-RNA  ATAC-RNA,RNA,RNA \n",
       "              105                40                 4                 3 \n",
       "        ATAC,ATAC     ATAC,ATAC,RNA          ATAC,RNA               RNA \n",
       "                4                 3                 2                71 \n",
       "     RNA,ATAC-RNA           RNA,RNA       RNA,RNA,RNA  RNA,RNA,RNA,ATAC \n",
       "                2                 2                 6                 4 "
      ]
     },
     "metadata": {},
     "output_type": "display_data"
    },
    {
     "name": "stderr",
     "output_type": "stream",
     "text": [
      "# GWAS signals that need to be collapsed: 12 228\n",
      "\n"
     ]
    },
    {
     "data": {
      "text/plain": [
       "\n",
       "    ATAC ATAC-RNA      RNA \n",
       "     109       58       79 "
      ]
     },
     "metadata": {},
     "output_type": "display_data"
    }
   ],
   "source": [
    "a = indep3 %>% filter(tissue == \"PPC\") %>%\n",
    "    mutate(gwas_id = paste(gwas_index, full_trait_id)) %>% \n",
    "    group_by(gwas_id) %>%\n",
    "    dplyr::mutate(qtl_combo2 = paste(qtl_combo, collapse = \",\"))\n",
    "\n",
    "table(a$qtl_combo2)\n",
    "\n",
    "message(paste(\"# GWAS signals that need to be collapsed:\", length(unique(a[a$qtl_combo2 %like% \"[,]\",]$gwas_id)), length(unique(a$gwas_id))))\n",
    "\n",
    "collapsed = c(collapsed, a[a$qtl_combo2 %like% \"[,]\",]$gwas_id)\n",
    "\n",
    "a$qtl_combo2 = unlist(lapply(a$qtl_combo2, function(x)\n",
    "{\n",
    "    phenos = sort(unique(unlist(strsplit(unlist(strsplit(x, \"-\")), \",\"))))\n",
    "    paste(phenos, collapse = \"-\")\n",
    "}))\n",
    "\n",
    "table(a$qtl_combo2)"
   ]
  },
  {
   "cell_type": "code",
   "execution_count": 160,
   "metadata": {},
   "outputs": [
    {
     "data": {
      "text/plain": [
       "\n",
       "                        ATAC                    ATAC-ChIP \n",
       "                          90                           39 \n",
       "               ATAC-ChIP-RNA  ATAC-ChIP-RNA,ATAC-ChIP-RNA \n",
       "                          31                            2 \n",
       "              ATAC-ChIP,ATAC          ATAC-ChIP,ATAC-ChIP \n",
       "                           4                            2 \n",
       "ATAC-ChIP,ATAC-ChIP-RNA,ATAC               ATAC-ChIP,ChIP \n",
       "                           3                            2 \n",
       "          ATAC-ChIP,ChIP-RNA                     ATAC-RNA \n",
       "                          10                           19 \n",
       "          ATAC-RNA,ATAC-ChIP                ATAC-RNA,ChIP \n",
       "                           2                            6 \n",
       "                   ATAC,ATAC                    ATAC,ChIP \n",
       "                           4                            6 \n",
       "                        ChIP                     ChIP-RNA \n",
       "                          52                           10 \n",
       "          ChIP-RNA,ATAC-ChIP                ChIP-RNA,ChIP \n",
       "                           2                            2 \n",
       "           ChIP-RNA,ChIP-RNA                    ChIP,ATAC \n",
       "                           4                           12 \n",
       "               ChIP,ATAC-RNA                     ChIP,RNA \n",
       "                           4                            4 \n",
       "                         RNA                     RNA,ATAC \n",
       "                          46                            6 \n",
       "                     RNA,RNA \n",
       "                           4 "
      ]
     },
     "metadata": {},
     "output_type": "display_data"
    },
    {
     "name": "stderr",
     "output_type": "stream",
     "text": [
      "# GWAS signals that need to be collapsed: 39 326\n",
      "\n"
     ]
    },
    {
     "data": {
      "text/plain": [
       "\n",
       "         ATAC     ATAC-ChIP ATAC-ChIP-RNA      ATAC-RNA          ChIP \n",
       "           94            65            60            25            52 \n",
       "     ChIP-RNA           RNA \n",
       "           20            50 "
      ]
     },
     "metadata": {},
     "output_type": "display_data"
    }
   ],
   "source": [
    "a2 = indep3 %>% filter(tissue == \"CVPC\") %>%\n",
    "    mutate(gwas_id = paste(gwas_index, full_trait_id)) %>% \n",
    "    group_by(gwas_id) %>%\n",
    "    dplyr::mutate(qtl_combo2 = paste(qtl_combo, collapse = \",\"))\n",
    "\n",
    "table(a2$qtl_combo2)\n",
    "\n",
    "message(paste(\"# GWAS signals that need to be collapsed:\", length(unique(a2[a2$qtl_combo2 %like% \"[,]\",]$gwas_id)), length(unique(a2$gwas_id))))\n",
    "\n",
    "collapsed = c(collapsed, a2[a2$qtl_combo2 %like% \"[,]\",]$gwas_id)\n",
    "\n",
    "a2$qtl_combo2 = unlist(lapply(a2$qtl_combo2, function(x)\n",
    "{\n",
    "    phenos = sort(unique(unlist(strsplit(unlist(strsplit(x, \"-\")), \",\"))))\n",
    "    paste(phenos, collapse = \"-\")\n",
    "}))\n",
    "\n",
    "table(a2$qtl_combo2)"
   ]
  },
  {
   "cell_type": "code",
   "execution_count": 161,
   "metadata": {},
   "outputs": [
    {
     "data": {
      "text/plain": [
       "\n",
       "             ATAC     ATAC-ChIP-RNA          ATAC-RNA     ATAC-RNA,ATAC \n",
       "               84                 1                64                 2 \n",
       "ATAC-RNA,ATAC-RNA      ATAC-RNA,RNA         ATAC,ATAC     ATAC,ATAC-RNA \n",
       "                4                10                 2                 2 \n",
       "              RNA          RNA,ATAC      RNA,ATAC-RNA           RNA,RNA \n",
       "              130                 6                 4                10 "
      ]
     },
     "metadata": {},
     "output_type": "display_data"
    },
    {
     "name": "stderr",
     "output_type": "stream",
     "text": [
      "# GWAS signals that need to be collapsed: 20 299\n",
      "\n"
     ]
    },
    {
     "data": {
      "text/plain": [
       "\n",
       "         ATAC ATAC-ChIP-RNA      ATAC-RNA           RNA \n",
       "           86             1            92           140 "
      ]
     },
     "metadata": {},
     "output_type": "display_data"
    }
   ],
   "source": [
    "a3 = indep3 %>% filter(tissue == \"iPSC\") %>%\n",
    "    mutate(gwas_id = paste(gwas_index, full_trait_id)) %>% \n",
    "    group_by(gwas_id) %>%\n",
    "    dplyr::mutate(qtl_combo2 = paste(qtl_combo, collapse = \",\"))\n",
    "\n",
    "table(a3$qtl_combo2)\n",
    "\n",
    "message(paste(\"# GWAS signals that need to be collapsed:\", length(unique(a3[a3$qtl_combo2 %like% \"[,]\",]$gwas_id)), length(unique(a3$gwas_id))))\n",
    "\n",
    "collapsed = c(collapsed, a3[a3$qtl_combo2 %like% \"[,]\",]$gwas_id)\n",
    "\n",
    "a3$qtl_combo2 = unlist(lapply(a3$qtl_combo2, function(x)\n",
    "{\n",
    "    phenos = sort(unique(unlist(strsplit(unlist(strsplit(x, \"-\")), \",\"))))\n",
    "    paste(phenos, collapse = \"-\")\n",
    "}))\n",
    "\n",
    "table(a3$qtl_combo2)"
   ]
  },
  {
   "cell_type": "code",
   "execution_count": 162,
   "metadata": {},
   "outputs": [
    {
     "name": "stderr",
     "output_type": "stream",
     "text": [
      "Signals that need to be collapsed: 65\n",
      "\n"
     ]
    },
    {
     "data": {
      "text/html": [],
      "text/latex": [],
      "text/markdown": [],
      "text/plain": [
       "character(0)"
      ]
     },
     "metadata": {},
     "output_type": "display_data"
    },
    {
     "data": {
      "text/html": [],
      "text/latex": [],
      "text/markdown": [],
      "text/plain": [
       "character(0)"
      ]
     },
     "metadata": {},
     "output_type": "display_data"
    }
   ],
   "source": [
    "message(paste(\"Signals that need to be collapsed:\", length(unique(collapsed))))\n",
    "\n",
    "setdiff(collapsed, tmp$id)\n",
    "setdiff(tmp$id, collapsed)"
   ]
  },
  {
   "cell_type": "code",
   "execution_count": 163,
   "metadata": {},
   "outputs": [],
   "source": [
    "indep4 =  data.frame(Reduce(rbind, list(a, a2, a3)) %>% dplyr::rename(qtl_combo_collapse = qtl_combo2) %>% ungroup())\n",
    "indep4 = indep4[rowSums(is.na(indep4)) != ncol(indep4), ] %>% filter(!is.na(gwas_id))"
   ]
  },
  {
   "cell_type": "code",
   "execution_count": 164,
   "metadata": {},
   "outputs": [
    {
     "data": {
      "text/html": [
       "6371"
      ],
      "text/latex": [
       "6371"
      ],
      "text/markdown": [
       "6371"
      ],
      "text/plain": [
       "[1] 6371"
      ]
     },
     "metadata": {},
     "output_type": "display_data"
    },
    {
     "data": {
      "text/html": [
       "586"
      ],
      "text/latex": [
       "586"
      ],
      "text/markdown": [
       "586"
      ],
      "text/plain": [
       "[1] 586"
      ]
     },
     "metadata": {},
     "output_type": "display_data"
    }
   ],
   "source": [
    "length(unique(indep3$gwas_id))\n",
    "length(unique(indep4$gwas_id))"
   ]
  },
  {
   "cell_type": "code",
   "execution_count": 167,
   "metadata": {},
   "outputs": [
    {
     "data": {
      "text/plain": [
       "\n",
       "         ATAC     ATAC-ChIP ATAC-ChIP-RNA      ATAC-RNA          ChIP \n",
       "          289            65            61           175            52 \n",
       "     ChIP-RNA           RNA \n",
       "           20           269 "
      ]
     },
     "metadata": {},
     "output_type": "display_data"
    }
   ],
   "source": [
    "table(indep4$qtl_combo_collapse)"
   ]
  },
  {
   "cell_type": "markdown",
   "metadata": {},
   "source": [
    "# Annotate which is iPSCORE unique"
   ]
  },
  {
   "cell_type": "code",
   "execution_count": 177,
   "metadata": {},
   "outputs": [],
   "source": [
    "indep4$fetal_unique = ifelse(indep4$cluster_id %in% gwas_nodup[gwas_nodup$fetal_unique == T,]$cluster_id, T, F)"
   ]
  },
  {
   "cell_type": "code",
   "execution_count": 179,
   "metadata": {},
   "outputs": [
    {
     "data": {
      "text/plain": [
       "\n",
       "FALSE  TRUE \n",
       "  918    13 "
      ]
     },
     "metadata": {},
     "output_type": "display_data"
    },
    {
     "data": {
      "text/plain": [
       "\n",
       "FALSE  TRUE \n",
       "  919    12 "
      ]
     },
     "metadata": {},
     "output_type": "display_data"
    },
    {
     "data": {
      "text/html": [
       "<table class=\"dataframe\">\n",
       "<caption>A data.frame: 12 × 15</caption>\n",
       "<thead>\n",
       "\t<tr><th scope=col>gwas_index</th><th scope=col>description</th><th scope=col>full_trait_id</th><th scope=col>chr</th><th scope=col>qtl_index</th><th scope=col>cluster_id</th><th scope=col>qtl_combo</th><th scope=col>n_members</th><th scope=col>locus_id</th><th scope=col>cluster_gwas</th><th scope=col>gwas_id</th><th scope=col>tissue</th><th scope=col>qtl_combo_collapse</th><th scope=col>fetal_unique</th><th scope=col>fetal_unique_gwas</th></tr>\n",
       "\t<tr><th scope=col>&lt;chr&gt;</th><th scope=col>&lt;chr&gt;</th><th scope=col>&lt;chr&gt;</th><th scope=col>&lt;int&gt;</th><th scope=col>&lt;chr&gt;</th><th scope=col>&lt;chr&gt;</th><th scope=col>&lt;chr&gt;</th><th scope=col>&lt;int&gt;</th><th scope=col>&lt;chr&gt;</th><th scope=col>&lt;chr&gt;</th><th scope=col>&lt;chr&gt;</th><th scope=col>&lt;chr&gt;</th><th scope=col>&lt;chr&gt;</th><th scope=col>&lt;lgl&gt;</th><th scope=col>&lt;lgl&gt;</th></tr>\n",
       "</thead>\n",
       "<tbody>\n",
       "\t<tr><td>4_54664582  </td><td>Body mass index (BMI)</td><td>continuous-23104-both_sexes-irnt.meta</td><td> 4</td><td>4_54631000  </td><td>PPC_10855 </td><td>ATAC</td><td>1</td><td>Body mass index (BMI) 4_54664582 </td><td>PPC_10855 continuous-23104-both_sexes-irnt.meta </td><td>4_54664582 continuous-23104-both_sexes-irnt.meta  </td><td>PPC </td><td>ATAC</td><td>TRUE</td><td>TRUE</td></tr>\n",
       "\t<tr><td>1_217554709 </td><td>Pulse rate           </td><td>continuous-4194-both_sexes-irnt.meta </td><td> 1</td><td>1_217548256 </td><td>PPC_1868  </td><td>ATAC</td><td>1</td><td>Pulse rate 1_217554709           </td><td>PPC_1868 continuous-4194-both_sexes-irnt.meta   </td><td>1_217554709 continuous-4194-both_sexes-irnt.meta  </td><td>PPC </td><td>ATAC</td><td>TRUE</td><td>TRUE</td></tr>\n",
       "\t<tr><td>12_124385271</td><td>HDL cholesterol      </td><td>biomarkers-30760-both_sexes-irnt.meta</td><td>12</td><td>12_124385271</td><td>CVPC_7091 </td><td>ATAC</td><td>1</td><td>HDL cholesterol 12_124385271     </td><td>CVPC_7091 biomarkers-30760-both_sexes-irnt.meta </td><td>12_124385271 biomarkers-30760-both_sexes-irnt.meta</td><td>CVPC</td><td>ATAC</td><td>TRUE</td><td>TRUE</td></tr>\n",
       "\t<tr><td>5_68418419  </td><td>HDL cholesterol      </td><td>biomarkers-30760-both_sexes-irnt.meta</td><td> 5</td><td>5_68418419  </td><td>CVPC_17073</td><td>ChIP</td><td>1</td><td>HDL cholesterol 5_68418419       </td><td>CVPC_17073 biomarkers-30760-both_sexes-irnt.meta</td><td>5_68418419 biomarkers-30760-both_sexes-irnt.meta  </td><td>CVPC</td><td>ChIP</td><td>TRUE</td><td>TRUE</td></tr>\n",
       "\t<tr><td>9_76115850  </td><td>LDL direct           </td><td>biomarkers-30780-both_sexes-irnt.meta</td><td> 9</td><td>9_76115850  </td><td>CVPC_21110</td><td>ATAC</td><td>1</td><td>LDL direct 9_76115850            </td><td>CVPC_21110 biomarkers-30780-both_sexes-irnt.meta</td><td>9_76115850 biomarkers-30780-both_sexes-irnt.meta  </td><td>CVPC</td><td>ATAC</td><td>TRUE</td><td>TRUE</td></tr>\n",
       "\t<tr><td>2_35296679  </td><td>Body mass index (BMI)</td><td>continuous-23104-both_sexes-irnt.meta</td><td> 2</td><td>2_35296679  </td><td>CVPC_1493 </td><td>ChIP</td><td>2</td><td>Body mass index (BMI) 2_35296679 </td><td>CVPC_1493 continuous-23104-both_sexes-irnt.meta </td><td>2_35296679 continuous-23104-both_sexes-irnt.meta  </td><td>CVPC</td><td>ChIP</td><td>TRUE</td><td>TRUE</td></tr>\n",
       "\t<tr><td>5_166341030 </td><td>Body mass index (BMI)</td><td>continuous-23104-both_sexes-irnt.meta</td><td> 5</td><td>5_166341030 </td><td>CVPC_17699</td><td>ATAC</td><td>1</td><td>Body mass index (BMI) 5_166341030</td><td>CVPC_17699 continuous-23104-both_sexes-irnt.meta</td><td>5_166341030 continuous-23104-both_sexes-irnt.meta </td><td>CVPC</td><td>ATAC</td><td>TRUE</td><td>TRUE</td></tr>\n",
       "\t<tr><td>5_167935411 </td><td>Body mass index (BMI)</td><td>continuous-23104-both_sexes-irnt.meta</td><td> 5</td><td>5_167935411 </td><td>CVPC_17708</td><td>ChIP</td><td>1</td><td>Body mass index (BMI) 5_167935411</td><td>CVPC_17708 continuous-23104-both_sexes-irnt.meta</td><td>5_167935411 continuous-23104-both_sexes-irnt.meta </td><td>CVPC</td><td>ChIP</td><td>TRUE</td><td>TRUE</td></tr>\n",
       "\t<tr><td>9_13703276  </td><td>HDL cholesterol      </td><td>biomarkers-30760-both_sexes-irnt.meta</td><td> 9</td><td>9_13703276  </td><td>iPSC_16946</td><td>ATAC</td><td>1</td><td>HDL cholesterol 9_13703276       </td><td>iPSC_16946 biomarkers-30760-both_sexes-irnt.meta</td><td>9_13703276 biomarkers-30760-both_sexes-irnt.meta  </td><td>iPSC</td><td>ATAC</td><td>TRUE</td><td>TRUE</td></tr>\n",
       "\t<tr><td>1_107436944 </td><td>Body mass index (BMI)</td><td>continuous-23104-both_sexes-irnt.meta</td><td> 1</td><td>1_107440166 </td><td>iPSC_2291 </td><td>ATAC</td><td>1</td><td>Body mass index (BMI) 1_107436944</td><td>iPSC_2291 continuous-23104-both_sexes-irnt.meta </td><td>1_107436944 continuous-23104-both_sexes-irnt.meta </td><td>iPSC</td><td>ATAC</td><td>TRUE</td><td>TRUE</td></tr>\n",
       "\t<tr><td>3_154389091 </td><td>Body mass index (BMI)</td><td>continuous-23104-both_sexes-irnt.meta</td><td> 3</td><td>3_154389091 </td><td>iPSC_12393</td><td>ATAC</td><td>1</td><td>Body mass index (BMI) 3_154389091</td><td>iPSC_12393 continuous-23104-both_sexes-irnt.meta</td><td>3_154389091 continuous-23104-both_sexes-irnt.meta </td><td>iPSC</td><td>ATAC</td><td>TRUE</td><td>TRUE</td></tr>\n",
       "\t<tr><td>8_63919518  </td><td>Body mass index (BMI)</td><td>continuous-23104-both_sexes-irnt.meta</td><td> 8</td><td>8_63804902  </td><td>iPSC_16487</td><td>ATAC</td><td>1</td><td>Body mass index (BMI) 8_63919518 </td><td>iPSC_16487 continuous-23104-both_sexes-irnt.meta</td><td>8_63919518 continuous-23104-both_sexes-irnt.meta  </td><td>iPSC</td><td>ATAC</td><td>TRUE</td><td>TRUE</td></tr>\n",
       "</tbody>\n",
       "</table>\n"
      ],
      "text/latex": [
       "A data.frame: 12 × 15\n",
       "\\begin{tabular}{lllllllllllllll}\n",
       " gwas\\_index & description & full\\_trait\\_id & chr & qtl\\_index & cluster\\_id & qtl\\_combo & n\\_members & locus\\_id & cluster\\_gwas & gwas\\_id & tissue & qtl\\_combo\\_collapse & fetal\\_unique & fetal\\_unique\\_gwas\\\\\n",
       " <chr> & <chr> & <chr> & <int> & <chr> & <chr> & <chr> & <int> & <chr> & <chr> & <chr> & <chr> & <chr> & <lgl> & <lgl>\\\\\n",
       "\\hline\n",
       "\t 4\\_54664582   & Body mass index (BMI) & continuous-23104-both\\_sexes-irnt.meta &  4 & 4\\_54631000   & PPC\\_10855  & ATAC & 1 & Body mass index (BMI) 4\\_54664582  & PPC\\_10855 continuous-23104-both\\_sexes-irnt.meta  & 4\\_54664582 continuous-23104-both\\_sexes-irnt.meta   & PPC  & ATAC & TRUE & TRUE\\\\\n",
       "\t 1\\_217554709  & Pulse rate            & continuous-4194-both\\_sexes-irnt.meta  &  1 & 1\\_217548256  & PPC\\_1868   & ATAC & 1 & Pulse rate 1\\_217554709            & PPC\\_1868 continuous-4194-both\\_sexes-irnt.meta    & 1\\_217554709 continuous-4194-both\\_sexes-irnt.meta   & PPC  & ATAC & TRUE & TRUE\\\\\n",
       "\t 12\\_124385271 & HDL cholesterol       & biomarkers-30760-both\\_sexes-irnt.meta & 12 & 12\\_124385271 & CVPC\\_7091  & ATAC & 1 & HDL cholesterol 12\\_124385271      & CVPC\\_7091 biomarkers-30760-both\\_sexes-irnt.meta  & 12\\_124385271 biomarkers-30760-both\\_sexes-irnt.meta & CVPC & ATAC & TRUE & TRUE\\\\\n",
       "\t 5\\_68418419   & HDL cholesterol       & biomarkers-30760-both\\_sexes-irnt.meta &  5 & 5\\_68418419   & CVPC\\_17073 & ChIP & 1 & HDL cholesterol 5\\_68418419        & CVPC\\_17073 biomarkers-30760-both\\_sexes-irnt.meta & 5\\_68418419 biomarkers-30760-both\\_sexes-irnt.meta   & CVPC & ChIP & TRUE & TRUE\\\\\n",
       "\t 9\\_76115850   & LDL direct            & biomarkers-30780-both\\_sexes-irnt.meta &  9 & 9\\_76115850   & CVPC\\_21110 & ATAC & 1 & LDL direct 9\\_76115850             & CVPC\\_21110 biomarkers-30780-both\\_sexes-irnt.meta & 9\\_76115850 biomarkers-30780-both\\_sexes-irnt.meta   & CVPC & ATAC & TRUE & TRUE\\\\\n",
       "\t 2\\_35296679   & Body mass index (BMI) & continuous-23104-both\\_sexes-irnt.meta &  2 & 2\\_35296679   & CVPC\\_1493  & ChIP & 2 & Body mass index (BMI) 2\\_35296679  & CVPC\\_1493 continuous-23104-both\\_sexes-irnt.meta  & 2\\_35296679 continuous-23104-both\\_sexes-irnt.meta   & CVPC & ChIP & TRUE & TRUE\\\\\n",
       "\t 5\\_166341030  & Body mass index (BMI) & continuous-23104-both\\_sexes-irnt.meta &  5 & 5\\_166341030  & CVPC\\_17699 & ATAC & 1 & Body mass index (BMI) 5\\_166341030 & CVPC\\_17699 continuous-23104-both\\_sexes-irnt.meta & 5\\_166341030 continuous-23104-both\\_sexes-irnt.meta  & CVPC & ATAC & TRUE & TRUE\\\\\n",
       "\t 5\\_167935411  & Body mass index (BMI) & continuous-23104-both\\_sexes-irnt.meta &  5 & 5\\_167935411  & CVPC\\_17708 & ChIP & 1 & Body mass index (BMI) 5\\_167935411 & CVPC\\_17708 continuous-23104-both\\_sexes-irnt.meta & 5\\_167935411 continuous-23104-both\\_sexes-irnt.meta  & CVPC & ChIP & TRUE & TRUE\\\\\n",
       "\t 9\\_13703276   & HDL cholesterol       & biomarkers-30760-both\\_sexes-irnt.meta &  9 & 9\\_13703276   & iPSC\\_16946 & ATAC & 1 & HDL cholesterol 9\\_13703276        & iPSC\\_16946 biomarkers-30760-both\\_sexes-irnt.meta & 9\\_13703276 biomarkers-30760-both\\_sexes-irnt.meta   & iPSC & ATAC & TRUE & TRUE\\\\\n",
       "\t 1\\_107436944  & Body mass index (BMI) & continuous-23104-both\\_sexes-irnt.meta &  1 & 1\\_107440166  & iPSC\\_2291  & ATAC & 1 & Body mass index (BMI) 1\\_107436944 & iPSC\\_2291 continuous-23104-both\\_sexes-irnt.meta  & 1\\_107436944 continuous-23104-both\\_sexes-irnt.meta  & iPSC & ATAC & TRUE & TRUE\\\\\n",
       "\t 3\\_154389091  & Body mass index (BMI) & continuous-23104-both\\_sexes-irnt.meta &  3 & 3\\_154389091  & iPSC\\_12393 & ATAC & 1 & Body mass index (BMI) 3\\_154389091 & iPSC\\_12393 continuous-23104-both\\_sexes-irnt.meta & 3\\_154389091 continuous-23104-both\\_sexes-irnt.meta  & iPSC & ATAC & TRUE & TRUE\\\\\n",
       "\t 8\\_63919518   & Body mass index (BMI) & continuous-23104-both\\_sexes-irnt.meta &  8 & 8\\_63804902   & iPSC\\_16487 & ATAC & 1 & Body mass index (BMI) 8\\_63919518  & iPSC\\_16487 continuous-23104-both\\_sexes-irnt.meta & 8\\_63919518 continuous-23104-both\\_sexes-irnt.meta   & iPSC & ATAC & TRUE & TRUE\\\\\n",
       "\\end{tabular}\n"
      ],
      "text/markdown": [
       "\n",
       "A data.frame: 12 × 15\n",
       "\n",
       "| gwas_index &lt;chr&gt; | description &lt;chr&gt; | full_trait_id &lt;chr&gt; | chr &lt;int&gt; | qtl_index &lt;chr&gt; | cluster_id &lt;chr&gt; | qtl_combo &lt;chr&gt; | n_members &lt;int&gt; | locus_id &lt;chr&gt; | cluster_gwas &lt;chr&gt; | gwas_id &lt;chr&gt; | tissue &lt;chr&gt; | qtl_combo_collapse &lt;chr&gt; | fetal_unique &lt;lgl&gt; | fetal_unique_gwas &lt;lgl&gt; |\n",
       "|---|---|---|---|---|---|---|---|---|---|---|---|---|---|---|\n",
       "| 4_54664582   | Body mass index (BMI) | continuous-23104-both_sexes-irnt.meta |  4 | 4_54631000   | PPC_10855  | ATAC | 1 | Body mass index (BMI) 4_54664582  | PPC_10855 continuous-23104-both_sexes-irnt.meta  | 4_54664582 continuous-23104-both_sexes-irnt.meta   | PPC  | ATAC | TRUE | TRUE |\n",
       "| 1_217554709  | Pulse rate            | continuous-4194-both_sexes-irnt.meta  |  1 | 1_217548256  | PPC_1868   | ATAC | 1 | Pulse rate 1_217554709            | PPC_1868 continuous-4194-both_sexes-irnt.meta    | 1_217554709 continuous-4194-both_sexes-irnt.meta   | PPC  | ATAC | TRUE | TRUE |\n",
       "| 12_124385271 | HDL cholesterol       | biomarkers-30760-both_sexes-irnt.meta | 12 | 12_124385271 | CVPC_7091  | ATAC | 1 | HDL cholesterol 12_124385271      | CVPC_7091 biomarkers-30760-both_sexes-irnt.meta  | 12_124385271 biomarkers-30760-both_sexes-irnt.meta | CVPC | ATAC | TRUE | TRUE |\n",
       "| 5_68418419   | HDL cholesterol       | biomarkers-30760-both_sexes-irnt.meta |  5 | 5_68418419   | CVPC_17073 | ChIP | 1 | HDL cholesterol 5_68418419        | CVPC_17073 biomarkers-30760-both_sexes-irnt.meta | 5_68418419 biomarkers-30760-both_sexes-irnt.meta   | CVPC | ChIP | TRUE | TRUE |\n",
       "| 9_76115850   | LDL direct            | biomarkers-30780-both_sexes-irnt.meta |  9 | 9_76115850   | CVPC_21110 | ATAC | 1 | LDL direct 9_76115850             | CVPC_21110 biomarkers-30780-both_sexes-irnt.meta | 9_76115850 biomarkers-30780-both_sexes-irnt.meta   | CVPC | ATAC | TRUE | TRUE |\n",
       "| 2_35296679   | Body mass index (BMI) | continuous-23104-both_sexes-irnt.meta |  2 | 2_35296679   | CVPC_1493  | ChIP | 2 | Body mass index (BMI) 2_35296679  | CVPC_1493 continuous-23104-both_sexes-irnt.meta  | 2_35296679 continuous-23104-both_sexes-irnt.meta   | CVPC | ChIP | TRUE | TRUE |\n",
       "| 5_166341030  | Body mass index (BMI) | continuous-23104-both_sexes-irnt.meta |  5 | 5_166341030  | CVPC_17699 | ATAC | 1 | Body mass index (BMI) 5_166341030 | CVPC_17699 continuous-23104-both_sexes-irnt.meta | 5_166341030 continuous-23104-both_sexes-irnt.meta  | CVPC | ATAC | TRUE | TRUE |\n",
       "| 5_167935411  | Body mass index (BMI) | continuous-23104-both_sexes-irnt.meta |  5 | 5_167935411  | CVPC_17708 | ChIP | 1 | Body mass index (BMI) 5_167935411 | CVPC_17708 continuous-23104-both_sexes-irnt.meta | 5_167935411 continuous-23104-both_sexes-irnt.meta  | CVPC | ChIP | TRUE | TRUE |\n",
       "| 9_13703276   | HDL cholesterol       | biomarkers-30760-both_sexes-irnt.meta |  9 | 9_13703276   | iPSC_16946 | ATAC | 1 | HDL cholesterol 9_13703276        | iPSC_16946 biomarkers-30760-both_sexes-irnt.meta | 9_13703276 biomarkers-30760-both_sexes-irnt.meta   | iPSC | ATAC | TRUE | TRUE |\n",
       "| 1_107436944  | Body mass index (BMI) | continuous-23104-both_sexes-irnt.meta |  1 | 1_107440166  | iPSC_2291  | ATAC | 1 | Body mass index (BMI) 1_107436944 | iPSC_2291 continuous-23104-both_sexes-irnt.meta  | 1_107436944 continuous-23104-both_sexes-irnt.meta  | iPSC | ATAC | TRUE | TRUE |\n",
       "| 3_154389091  | Body mass index (BMI) | continuous-23104-both_sexes-irnt.meta |  3 | 3_154389091  | iPSC_12393 | ATAC | 1 | Body mass index (BMI) 3_154389091 | iPSC_12393 continuous-23104-both_sexes-irnt.meta | 3_154389091 continuous-23104-both_sexes-irnt.meta  | iPSC | ATAC | TRUE | TRUE |\n",
       "| 8_63919518   | Body mass index (BMI) | continuous-23104-both_sexes-irnt.meta |  8 | 8_63804902   | iPSC_16487 | ATAC | 1 | Body mass index (BMI) 8_63919518  | iPSC_16487 continuous-23104-both_sexes-irnt.meta | 8_63919518 continuous-23104-both_sexes-irnt.meta   | iPSC | ATAC | TRUE | TRUE |\n",
       "\n"
      ],
      "text/plain": [
       "   gwas_index   description           full_trait_id                         chr\n",
       "1  4_54664582   Body mass index (BMI) continuous-23104-both_sexes-irnt.meta  4 \n",
       "2  1_217554709  Pulse rate            continuous-4194-both_sexes-irnt.meta   1 \n",
       "3  12_124385271 HDL cholesterol       biomarkers-30760-both_sexes-irnt.meta 12 \n",
       "4  5_68418419   HDL cholesterol       biomarkers-30760-both_sexes-irnt.meta  5 \n",
       "5  9_76115850   LDL direct            biomarkers-30780-both_sexes-irnt.meta  9 \n",
       "6  2_35296679   Body mass index (BMI) continuous-23104-both_sexes-irnt.meta  2 \n",
       "7  5_166341030  Body mass index (BMI) continuous-23104-both_sexes-irnt.meta  5 \n",
       "8  5_167935411  Body mass index (BMI) continuous-23104-both_sexes-irnt.meta  5 \n",
       "9  9_13703276   HDL cholesterol       biomarkers-30760-both_sexes-irnt.meta  9 \n",
       "10 1_107436944  Body mass index (BMI) continuous-23104-both_sexes-irnt.meta  1 \n",
       "11 3_154389091  Body mass index (BMI) continuous-23104-both_sexes-irnt.meta  3 \n",
       "12 8_63919518   Body mass index (BMI) continuous-23104-both_sexes-irnt.meta  8 \n",
       "   qtl_index    cluster_id qtl_combo n_members\n",
       "1  4_54631000   PPC_10855  ATAC      1        \n",
       "2  1_217548256  PPC_1868   ATAC      1        \n",
       "3  12_124385271 CVPC_7091  ATAC      1        \n",
       "4  5_68418419   CVPC_17073 ChIP      1        \n",
       "5  9_76115850   CVPC_21110 ATAC      1        \n",
       "6  2_35296679   CVPC_1493  ChIP      2        \n",
       "7  5_166341030  CVPC_17699 ATAC      1        \n",
       "8  5_167935411  CVPC_17708 ChIP      1        \n",
       "9  9_13703276   iPSC_16946 ATAC      1        \n",
       "10 1_107440166  iPSC_2291  ATAC      1        \n",
       "11 3_154389091  iPSC_12393 ATAC      1        \n",
       "12 8_63804902   iPSC_16487 ATAC      1        \n",
       "   locus_id                         \n",
       "1  Body mass index (BMI) 4_54664582 \n",
       "2  Pulse rate 1_217554709           \n",
       "3  HDL cholesterol 12_124385271     \n",
       "4  HDL cholesterol 5_68418419       \n",
       "5  LDL direct 9_76115850            \n",
       "6  Body mass index (BMI) 2_35296679 \n",
       "7  Body mass index (BMI) 5_166341030\n",
       "8  Body mass index (BMI) 5_167935411\n",
       "9  HDL cholesterol 9_13703276       \n",
       "10 Body mass index (BMI) 1_107436944\n",
       "11 Body mass index (BMI) 3_154389091\n",
       "12 Body mass index (BMI) 8_63919518 \n",
       "   cluster_gwas                                    \n",
       "1  PPC_10855 continuous-23104-both_sexes-irnt.meta \n",
       "2  PPC_1868 continuous-4194-both_sexes-irnt.meta   \n",
       "3  CVPC_7091 biomarkers-30760-both_sexes-irnt.meta \n",
       "4  CVPC_17073 biomarkers-30760-both_sexes-irnt.meta\n",
       "5  CVPC_21110 biomarkers-30780-both_sexes-irnt.meta\n",
       "6  CVPC_1493 continuous-23104-both_sexes-irnt.meta \n",
       "7  CVPC_17699 continuous-23104-both_sexes-irnt.meta\n",
       "8  CVPC_17708 continuous-23104-both_sexes-irnt.meta\n",
       "9  iPSC_16946 biomarkers-30760-both_sexes-irnt.meta\n",
       "10 iPSC_2291 continuous-23104-both_sexes-irnt.meta \n",
       "11 iPSC_12393 continuous-23104-both_sexes-irnt.meta\n",
       "12 iPSC_16487 continuous-23104-both_sexes-irnt.meta\n",
       "   gwas_id                                            tissue qtl_combo_collapse\n",
       "1  4_54664582 continuous-23104-both_sexes-irnt.meta   PPC    ATAC              \n",
       "2  1_217554709 continuous-4194-both_sexes-irnt.meta   PPC    ATAC              \n",
       "3  12_124385271 biomarkers-30760-both_sexes-irnt.meta CVPC   ATAC              \n",
       "4  5_68418419 biomarkers-30760-both_sexes-irnt.meta   CVPC   ChIP              \n",
       "5  9_76115850 biomarkers-30780-both_sexes-irnt.meta   CVPC   ATAC              \n",
       "6  2_35296679 continuous-23104-both_sexes-irnt.meta   CVPC   ChIP              \n",
       "7  5_166341030 continuous-23104-both_sexes-irnt.meta  CVPC   ATAC              \n",
       "8  5_167935411 continuous-23104-both_sexes-irnt.meta  CVPC   ChIP              \n",
       "9  9_13703276 biomarkers-30760-both_sexes-irnt.meta   iPSC   ATAC              \n",
       "10 1_107436944 continuous-23104-both_sexes-irnt.meta  iPSC   ATAC              \n",
       "11 3_154389091 continuous-23104-both_sexes-irnt.meta  iPSC   ATAC              \n",
       "12 8_63919518 continuous-23104-both_sexes-irnt.meta   iPSC   ATAC              \n",
       "   fetal_unique fetal_unique_gwas\n",
       "1  TRUE         TRUE             \n",
       "2  TRUE         TRUE             \n",
       "3  TRUE         TRUE             \n",
       "4  TRUE         TRUE             \n",
       "5  TRUE         TRUE             \n",
       "6  TRUE         TRUE             \n",
       "7  TRUE         TRUE             \n",
       "8  TRUE         TRUE             \n",
       "9  TRUE         TRUE             \n",
       "10 TRUE         TRUE             \n",
       "11 TRUE         TRUE             \n",
       "12 TRUE         TRUE             "
      ]
     },
     "metadata": {},
     "output_type": "display_data"
    }
   ],
   "source": [
    "indep4$fetal_unique_gwas = ifelse(indep4$cluster_gwas %in% gwas_nodup[gwas_nodup$fetal_unique == F,]$id, F, T)\n",
    "table(indep4$fetal_unique_gwas)\n",
    "\n",
    "indep4$fetal_unique_gwas = ifelse(!indep4$gwas_id %in% indep4[indep4$fetal_unique_gwas == F,]$gwas_id, T, F)\n",
    "table(indep4$fetal_unique_gwas)\n",
    "\n",
    "indep4 %>% filter(fetal_unique_gwas == T)"
   ]
  },
  {
   "cell_type": "code",
   "execution_count": 186,
   "metadata": {},
   "outputs": [],
   "source": [
    "indep4$tissue = unlist(lapply(indep4$cluster_id, function(x) { unlist(strsplit(x, \"_\"))[1] }))"
   ]
  },
  {
   "cell_type": "code",
   "execution_count": 187,
   "metadata": {},
   "outputs": [
    {
     "data": {
      "text/plain": [
       "\n",
       "CVPC iPSC  PPC \n",
       " 366  319  246 "
      ]
     },
     "metadata": {},
     "output_type": "display_data"
    }
   ],
   "source": [
    "table(indep4$tissue)"
   ]
  },
  {
   "cell_type": "code",
   "execution_count": 188,
   "metadata": {},
   "outputs": [],
   "source": [
    "indep4 = indep4 %>% filter(full_trait_id != \"continuous-20022-both_sexes-irnt.meta\" & description != \"Healthspan\")"
   ]
  },
  {
   "cell_type": "code",
   "execution_count": 189,
   "metadata": {},
   "outputs": [
    {
     "data": {
      "text/html": [
       "6371"
      ],
      "text/latex": [
       "6371"
      ],
      "text/markdown": [
       "6371"
      ],
      "text/plain": [
       "[1] 6371"
      ]
     },
     "metadata": {},
     "output_type": "display_data"
    },
    {
     "data": {
      "text/html": [
       "586"
      ],
      "text/latex": [
       "586"
      ],
      "text/markdown": [
       "586"
      ],
      "text/plain": [
       "[1] 586"
      ]
     },
     "metadata": {},
     "output_type": "display_data"
    }
   ],
   "source": [
    "length(unique(indep3$gwas_id))\n",
    "length(unique(indep4$gwas_id))"
   ]
  },
  {
   "cell_type": "code",
   "execution_count": 190,
   "metadata": {},
   "outputs": [
    {
     "data": {
      "text/plain": [
       "                                     \n",
       "                                      CVPC iPSC PPC\n",
       "  birth weight (eur)                     8   11   3\n",
       "  Body mass index (BMI)                108   91  60\n",
       "  childhood obesity (eur)                0    2   2\n",
       "  fasting glucose                        8    8   9\n",
       "  HDL cholesterol                      102   75  63\n",
       "  I20 Angina pectoris                    2    3   3\n",
       "  I21 Acute myocardial infarction        1    3   3\n",
       "  I25 Chronic ischaemic heart disease    4   10   3\n",
       "  I48 Atrial fibrillation and flutter   16    9   5\n",
       "  LDL direct                            31   33  29\n",
       "  Longevity                              2    5   3\n",
       "  Multivariate Longevity                 4    7   3\n",
       "  Pulse rate                            22   13  15\n",
       "  QRS duration                           7    0   0\n",
       "  type 2 diabetes                       36   36  33\n",
       "  type_1_diabetes                       13   13  12\n",
       "  Ventricular rate                       2    0   0"
      ]
     },
     "metadata": {},
     "output_type": "display_data"
    }
   ],
   "source": [
    "table(indep4$description, indep4$tissue)"
   ]
  },
  {
   "cell_type": "code",
   "execution_count": 191,
   "metadata": {},
   "outputs": [],
   "source": [
    "fwrite(indep4, \"analyses/jennifer/gwas_independent/all_results.qtl_coloc.txt\", row.names = F, sep = \"\\t\") # only reports QTL-colocalized GWAS"
   ]
  },
  {
   "cell_type": "code",
   "execution_count": 192,
   "metadata": {},
   "outputs": [],
   "source": [
    "fwrite(indep3, \"analyses/jennifer/gwas_independent/all_results.txt\", row.names = F, sep = \"\\t\") # has gwas loci that did not colocalize"
   ]
  },
  {
   "cell_type": "code",
   "execution_count": 193,
   "metadata": {},
   "outputs": [
    {
     "data": {
      "text/plain": [
       "\n",
       "TRUE \n",
       " 931 "
      ]
     },
     "metadata": {},
     "output_type": "display_data"
    },
    {
     "data": {
      "text/plain": [
       "     Min.   1st Qu.    Median      Mean   3rd Qu.      Max. \n",
       "0.000e+00 0.000e+00 9.680e-09 2.333e-06 8.178e-07 4.864e-05 "
      ]
     },
     "metadata": {},
     "output_type": "display_data"
    },
    {
     "data": {
      "text/plain": [
       "     Min.   1st Qu.    Median      Mean   3rd Qu.      Max. \n",
       "0.000e+00 0.000e+00 3.548e-11 5.635e-09 3.532e-09 4.977e-08 "
      ]
     },
     "metadata": {},
     "output_type": "display_data"
    }
   ],
   "source": [
    "table(gwas_nodup$coloc_gwas)\n",
    "summary(gwas_nodup$p.eqtl)\n",
    "summary(gwas_nodup$p.gwas)"
   ]
  }
 ],
 "metadata": {
  "kernelspec": {
   "display_name": "R 4.2.1",
   "language": "R",
   "name": "ir421"
  },
  "language_info": {
   "codemirror_mode": "r",
   "file_extension": ".r",
   "mimetype": "text/x-r-source",
   "name": "R",
   "pygments_lexer": "r",
   "version": "4.2.1"
  }
 },
 "nbformat": 4,
 "nbformat_minor": 2
}
