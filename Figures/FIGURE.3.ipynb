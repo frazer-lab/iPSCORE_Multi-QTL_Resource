{
 "cells": [
  {
   "cell_type": "code",
   "execution_count": 15,
   "metadata": {},
   "outputs": [
    {
     "data": {
      "text/html": [
       "<table class=\"dataframe\">\n",
       "<caption>A tibble: 3 × 2</caption>\n",
       "<thead>\n",
       "\t<tr><th scope=col>QTL Specificity</th><th scope=col>mean_r</th></tr>\n",
       "\t<tr><th scope=col>&lt;fct&gt;</th><th scope=col>&lt;dbl&gt;</th></tr>\n",
       "</thead>\n",
       "<tbody>\n",
       "\t<tr><td>EDev  </td><td>0.001222009</td></tr>\n",
       "\t<tr><td>Adult </td><td>0.006931362</td></tr>\n",
       "\t<tr><td>Shared</td><td>0.278946015</td></tr>\n",
       "</tbody>\n",
       "</table>\n"
      ],
      "text/latex": [
       "A tibble: 3 × 2\n",
       "\\begin{tabular}{ll}\n",
       " QTL Specificity & mean\\_r\\\\\n",
       " <fct> & <dbl>\\\\\n",
       "\\hline\n",
       "\t EDev   & 0.001222009\\\\\n",
       "\t Adult  & 0.006931362\\\\\n",
       "\t Shared & 0.278946015\\\\\n",
       "\\end{tabular}\n"
      ],
      "text/markdown": [
       "\n",
       "A tibble: 3 × 2\n",
       "\n",
       "| QTL Specificity &lt;fct&gt; | mean_r &lt;dbl&gt; |\n",
       "|---|---|\n",
       "| EDev   | 0.001222009 |\n",
       "| Adult  | 0.006931362 |\n",
       "| Shared | 0.278946015 |\n",
       "\n"
      ],
      "text/plain": [
       "  QTL Specificity mean_r     \n",
       "1 EDev            0.001222009\n",
       "2 Adult           0.006931362\n",
       "3 Shared          0.278946015"
      ]
     },
     "metadata": {},
     "output_type": "display_data"
    },
    {
     "data": {
      "text/html": [
       "2.94247396295678e-22"
      ],
      "text/latex": [
       "2.94247396295678e-22"
      ],
      "text/markdown": [
       "2.94247396295678e-22"
      ],
      "text/plain": [
       "[1] 2.942474e-22"
      ]
     },
     "metadata": {},
     "output_type": "display_data"
    },
    {
     "data": {
      "text/html": [
       "4.78470422073959e-126"
      ],
      "text/latex": [
       "4.78470422073959e-126"
      ],
      "text/markdown": [
       "4.78470422073959e-126"
      ],
      "text/plain": [
       "[1] 4.784704e-126"
      ]
     },
     "metadata": {},
     "output_type": "display_data"
    },
    {
     "data": {
      "text/html": [
       "5.77222114699589e-128"
      ],
      "text/latex": [
       "5.77222114699589e-128"
      ],
      "text/markdown": [
       "5.77222114699589e-128"
      ],
      "text/plain": [
       "[1] 5.772221e-128"
      ]
     },
     "metadata": {},
     "output_type": "display_data"
    },
    {
     "data": {
      "text/html": [
       "<table class=\"dataframe\">\n",
       "<caption>A data.frame: 3 × 5</caption>\n",
       "<thead>\n",
       "\t<tr><th></th><th scope=col>Freq</th><th scope=col>Tissue</th><th scope=col>Stage</th><th scope=col>Total_eGenes</th><th scope=col>Percent</th></tr>\n",
       "\t<tr><th></th><th scope=col>&lt;int&gt;</th><th scope=col>&lt;fct&gt;</th><th scope=col>&lt;fct&gt;</th><th scope=col>&lt;int&gt;</th><th scope=col>&lt;dbl&gt;</th></tr>\n",
       "</thead>\n",
       "<tbody>\n",
       "\t<tr><th scope=row>1</th><td>855</td><td>CVPC</td><td>EDev</td><td>4837</td><td>17.676246</td></tr>\n",
       "\t<tr><th scope=row>4</th><td>951</td><td>iPSC</td><td>EDev</td><td>9012</td><td>10.552597</td></tr>\n",
       "\t<tr><th scope=row>7</th><td>240</td><td>PPC </td><td>EDev</td><td>5456</td><td> 4.398827</td></tr>\n",
       "</tbody>\n",
       "</table>\n"
      ],
      "text/latex": [
       "A data.frame: 3 × 5\n",
       "\\begin{tabular}{r|lllll}\n",
       "  & Freq & Tissue & Stage & Total\\_eGenes & Percent\\\\\n",
       "  & <int> & <fct> & <fct> & <int> & <dbl>\\\\\n",
       "\\hline\n",
       "\t1 & 855 & CVPC & EDev & 4837 & 17.676246\\\\\n",
       "\t4 & 951 & iPSC & EDev & 9012 & 10.552597\\\\\n",
       "\t7 & 240 & PPC  & EDev & 5456 &  4.398827\\\\\n",
       "\\end{tabular}\n"
      ],
      "text/markdown": [
       "\n",
       "A data.frame: 3 × 5\n",
       "\n",
       "| <!--/--> | Freq &lt;int&gt; | Tissue &lt;fct&gt; | Stage &lt;fct&gt; | Total_eGenes &lt;int&gt; | Percent &lt;dbl&gt; |\n",
       "|---|---|---|---|---|---|\n",
       "| 1 | 855 | CVPC | EDev | 4837 | 17.676246 |\n",
       "| 4 | 951 | iPSC | EDev | 9012 | 10.552597 |\n",
       "| 7 | 240 | PPC  | EDev | 5456 |  4.398827 |\n",
       "\n"
      ],
      "text/plain": [
       "  Freq Tissue Stage Total_eGenes Percent  \n",
       "1 855  CVPC   EDev  4837         17.676246\n",
       "4 951  iPSC   EDev  9012         10.552597\n",
       "7 240  PPC    EDev  5456          4.398827"
      ]
     },
     "metadata": {},
     "output_type": "display_data"
    }
   ],
   "source": [
    "source(\"~/software/notebook_assist/packages.R\")\n",
    "source(\"~/software/notebook_assist/functions.R\")\n",
    "setwd(\"~/projects/Resource/iPSCORE_Multi-QTL_Resource/SourceData/\")\n",
    "\n",
    "### load SourceData \n",
    "\n",
    "a_data = fread(\"SOURCEDATA.FIGURE3A.txt\",sep=\"\\t\",data.table=F)\n",
    "b_data = fread(\"SOURCEDATA.FIGURE3B.txt\",sep=\"\\t\",data.table=F)\n",
    "c_data = fread(\"SOURCEDATA.FIGURE3C.txt\",sep=\"\\t\",data.table=F)\n",
    "\n",
    "## plot graphs\n",
    "\n",
    "theme_bw2 = theme_bw() +\n",
    "    theme(\n",
    "        axis.text = element_text(size = 8),\n",
    "        strip.text = element_text(size = 8),\n",
    "        axis.title = element_text(size = 8),\n",
    "        legend.text = element_text(size = 8),\n",
    "        legend.title = element_text(size = 8),\n",
    "        legend.position = \"top\"\n",
    "    )\n",
    "\n",
    "a_data$`iPSCORE Tissue` = ifelse(a_data$Tissue1 %in% c(\"iPSC\",\"CVPC\",\"PPC\"), a_data$Tissue1,\n",
    "                                  ifelse(a_data$Tissue2 %in% c(\"iPSC\",\"CVPC\",\"PPC\"), a_data$Tissue2, NA))\n",
    "a_data$`iPSCORE Tissue` = factor(a_data$`iPSCORE Tissue`, levels = c(\"iPSC\",\"CVPC\",\"PPC\"))\n",
    "a_data$`QTL Specificity` = factor(a_data$Type, levels = c(\"EDev\",\"Adult\",\"Shared\"))\n",
    "a_data %>% group_by(`QTL Specificity`) %>% summarise(mean_r = mean(r2))\n",
    "    \n",
    "a = ggplot(a_data, aes(`QTL Specificity`, r2, group=`QTL Specificity`)) + theme_bw2 + \n",
    "        ylim(c(0,0.4)) + xlab(\"Specificity\") +\n",
    "        ylab(bquote('Correlation'~(r^2))) +  geom_jitter(size=0.75) \n",
    "    \n",
    "t.test(a_data$r2[ a_data$`QTL Specificity` == \"EDev\"],\n",
    "      a_data$r2[ a_data$`QTL Specificity` == \"Adult\"])$p.value\n",
    "\n",
    "t.test(a_data$r2[ a_data$`QTL Specificity` == \"EDev\"],\n",
    "      a_data$r2[ a_data$`QTL Specificity` == \"Shared\"])$p.value\n",
    "\n",
    "t.test(a_data$r2[ a_data$`QTL Specificity` == \"Adult\"],\n",
    "      a_data$r2[ a_data$`QTL Specificity` == \"Shared\"])$p.value\n",
    "\n",
    "b_data$Tissue = factor(b_data$Tissue, levels = c(\"iPSC\",\"CVPC\",\"PPC\"))\n",
    "b_data$Stage = factor(b_data$Stage, levels = c(\"EDev\",\"Shared\",\"No Association\"))\n",
    "b_data[ b_data$Stage == \"EDev\",]\n",
    "b = ggplot(b_data[ b_data$Stage == \"EDev\",], aes(Tissue, Percent, group=Tissue)) + theme_bw2 + \n",
    "        ylab(\"Percent\\nEDev-specific\") + ylim(c(0,20)) +\n",
    "        geom_bar(stat=\"identity\") +\n",
    "        geom_text(aes(label = Freq), vjust = 0, size=3)\n",
    "\n",
    "c_data$Tissue = factor(c_data$Tissue, levels = c(\"iPSC\",\"CVPC\",\"PPC\"))\n",
    "c_data$Stage = factor(c_data$Stage_Specificity, levels = c(\"EDev\",\"Shared\"))\n",
    "\n",
    "\n",
    "c = ggplot(c_data, aes(Tissue, abs(Effect_Size), fill = Stage)) + theme_bw2 + \n",
    "            theme(legend.title = element_text(size = 0)) + \n",
    "            ylab(\"Absolute\\nEffect Size\") + xlab(\"Tissue\") +\n",
    "            ylim(c(0,3)) +\n",
    "            geom_boxplot(outlier.shape =  NA)\n",
    "\n"
   ]
  },
  {
   "cell_type": "code",
   "execution_count": 20,
   "metadata": {},
   "outputs": [
    {
     "name": "stderr",
     "output_type": "stream",
     "text": [
      "Warning message:\n",
      "“\u001b[1m\u001b[22mRemoved 32 rows containing non-finite outside the scale range\n",
      "(`stat_boxplot()`).”\n"
     ]
    },
    {
     "data": {
      "text/html": [
       "<strong>png:</strong> 2"
      ],
      "text/latex": [
       "\\textbf{png:} 2"
      ],
      "text/markdown": [
       "**png:** 2"
      ],
      "text/plain": [
       "png \n",
       "  2 "
      ]
     },
     "metadata": {},
     "output_type": "display_data"
    }
   ],
   "source": [
    "psize(2,5)\n",
    "png(\"~/projects/Resource/figures/Revisions/Figure3.png\",units=\"in\",res=300,height=5,width=2)\n",
    "plot_grid(a,b,c,labels=c(\"a\",\"b\",\"c\"),nrow=3)\n",
    "dev.off()"
   ]
  },
  {
   "cell_type": "code",
   "execution_count": null,
   "metadata": {},
   "outputs": [],
   "source": []
  }
 ],
 "metadata": {
  "kernelspec": {
   "display_name": "R 4.0.1",
   "language": "R",
   "name": "ir40"
  },
  "language_info": {
   "codemirror_mode": "r",
   "file_extension": ".r",
   "mimetype": "text/x-r-source",
   "name": "R",
   "pygments_lexer": "r",
   "version": "4.0.1"
  }
 },
 "nbformat": 4,
 "nbformat_minor": 2
}
