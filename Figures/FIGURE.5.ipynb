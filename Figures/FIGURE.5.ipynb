{
 "cells": [
  {
   "cell_type": "code",
   "execution_count": 2,
   "metadata": {},
   "outputs": [],
   "source": [
    "setwd(\"/projects/CARDIPS/analysis/epigenome_resource\")\n",
    "source(\"analyses/jennifer/notebooks/functions.R\")\n",
    "library(readxl)\n",
    "set.seed(5366)"
   ]
  },
  {
   "cell_type": "code",
   "execution_count": 3,
   "metadata": {},
   "outputs": [],
   "source": [
    "substrRight <- function(x, n){\n",
    "  substr(x, nchar(x)-n+1, nchar(x))\n",
    "}"
   ]
  },
  {
   "cell_type": "markdown",
   "metadata": {},
   "source": [
    "# **Figure 5a: Annotate each GWAS locus based on their QTL types**"
   ]
  },
  {
   "cell_type": "markdown",
   "metadata": {},
   "source": [
    "## **read information QTL modules**"
   ]
  },
  {
   "cell_type": "code",
   "execution_count": 4,
   "metadata": {},
   "outputs": [],
   "source": [
    "\n",
    "qtls = read_xlsx(\"~/projects/Resource/RevisionTables/TableS4.xlsx\") %>% \n",
    "                filter(QTL_Order == \"Primary\") %>% \n",
    "                mutate(tissue_element = paste(Tissue,Element_ID,sep=\"_\"))\n"
   ]
  },
  {
   "cell_type": "markdown",
   "metadata": {},
   "source": [
    "## **read Supplemental Table for GWAS Colocalization**"
   ]
  },
  {
   "cell_type": "code",
   "execution_count": 121,
   "metadata": {},
   "outputs": [],
   "source": [
    "table = fread(\"~/projects/Resource/iPSCORE_Multi-QTL_Resource/SourceData/SOURCEDATA.FIGURE5AB.txt\", data.table = F) \n"
   ]
  },
  {
   "cell_type": "code",
   "execution_count": 7,
   "metadata": {},
   "outputs": [
    {
     "data": {
      "text/html": [
       "540"
      ],
      "text/latex": [
       "540"
      ],
      "text/markdown": [
       "540"
      ],
      "text/plain": [
       "[1] 540"
      ]
     },
     "metadata": {},
     "output_type": "display_data"
    },
    {
     "data": {
      "text/html": [
       "347"
      ],
      "text/latex": [
       "347"
      ],
      "text/markdown": [
       "347"
      ],
      "text/plain": [
       "[1] 347"
      ]
     },
     "metadata": {},
     "output_type": "display_data"
    },
    {
     "data": {
      "text/html": [
       "183"
      ],
      "text/latex": [
       "183"
      ],
      "text/markdown": [
       "183"
      ],
      "text/plain": [
       "[1] 183"
      ]
     },
     "metadata": {},
     "output_type": "display_data"
    },
    {
     "data": {
      "text/html": [
       "261"
      ],
      "text/latex": [
       "261"
      ],
      "text/markdown": [
       "261"
      ],
      "text/plain": [
       "[1] 261"
      ]
     },
     "metadata": {},
     "output_type": "display_data"
    }
   ],
   "source": [
    "coloced = table[ table$QTL_Combination != \"\",]\n",
    "length(unique(coloced$Index_Trait))\n",
    "\n",
    "length(unique(coloced$Index_Trait[ coloced$QTL_Combination_Collapse %in% c(\"caQTL\",\"haQTL\",\"caQTL-haQTL\")]))\n",
    "length(unique(coloced$Index_Trait[ coloced$QTL_Combination_Collapse %in% c(\"eQTL\")]))\n",
    "\n",
    "nrow(coloced[ coloced$QTL_Combination_Collapse == \"eQTL\",])"
   ]
  },
  {
   "cell_type": "markdown",
   "metadata": {},
   "source": [
    "## **total number of independent loci per trait**"
   ]
  },
  {
   "cell_type": "code",
   "execution_count": 8,
   "metadata": {},
   "outputs": [
    {
     "data": {
      "text/html": [
       "<table class=\"dataframe\">\n",
       "<caption>A data.frame: 15 × 2</caption>\n",
       "<thead>\n",
       "\t<tr><th scope=col>Trait_Description</th><th scope=col>n</th></tr>\n",
       "\t<tr><th scope=col>&lt;chr&gt;</th><th scope=col>&lt;int&gt;</th></tr>\n",
       "</thead>\n",
       "<tbody>\n",
       "\t<tr><td>Aging                 </td><td>  35</td></tr>\n",
       "\t<tr><td>Angina Pectoris       </td><td>  34</td></tr>\n",
       "\t<tr><td>Atrial Fibrillation   </td><td>  90</td></tr>\n",
       "\t<tr><td>Birth Weight          </td><td>  65</td></tr>\n",
       "\t<tr><td>Body Mass Index       </td><td>1519</td></tr>\n",
       "\t<tr><td>Childhood Obesity     </td><td>  14</td></tr>\n",
       "\t<tr><td>Fasting Glucose       </td><td> 159</td></tr>\n",
       "\t<tr><td>HDL Cholesterol       </td><td>1837</td></tr>\n",
       "\t<tr><td>Ischemic Heart Disease</td><td>  81</td></tr>\n",
       "\t<tr><td>LDL Direct            </td><td> 752</td></tr>\n",
       "\t<tr><td>Myocardial Infarction </td><td>  21</td></tr>\n",
       "\t<tr><td>Pulse Rate            </td><td> 133</td></tr>\n",
       "\t<tr><td>QRS Duration          </td><td>  38</td></tr>\n",
       "\t<tr><td>Type 2 Diabetes       </td><td> 403</td></tr>\n",
       "\t<tr><td>Ventricular Rate      </td><td>  11</td></tr>\n",
       "</tbody>\n",
       "</table>\n"
      ],
      "text/latex": [
       "A data.frame: 15 × 2\n",
       "\\begin{tabular}{ll}\n",
       " Trait\\_Description & n\\\\\n",
       " <chr> & <int>\\\\\n",
       "\\hline\n",
       "\t Aging                  &   35\\\\\n",
       "\t Angina Pectoris        &   34\\\\\n",
       "\t Atrial Fibrillation    &   90\\\\\n",
       "\t Birth Weight           &   65\\\\\n",
       "\t Body Mass Index        & 1519\\\\\n",
       "\t Childhood Obesity      &   14\\\\\n",
       "\t Fasting Glucose        &  159\\\\\n",
       "\t HDL Cholesterol        & 1837\\\\\n",
       "\t Ischemic Heart Disease &   81\\\\\n",
       "\t LDL Direct             &  752\\\\\n",
       "\t Myocardial Infarction  &   21\\\\\n",
       "\t Pulse Rate             &  133\\\\\n",
       "\t QRS Duration           &   38\\\\\n",
       "\t Type 2 Diabetes        &  403\\\\\n",
       "\t Ventricular Rate       &   11\\\\\n",
       "\\end{tabular}\n"
      ],
      "text/markdown": [
       "\n",
       "A data.frame: 15 × 2\n",
       "\n",
       "| Trait_Description &lt;chr&gt; | n &lt;int&gt; |\n",
       "|---|---|\n",
       "| Aging                  |   35 |\n",
       "| Angina Pectoris        |   34 |\n",
       "| Atrial Fibrillation    |   90 |\n",
       "| Birth Weight           |   65 |\n",
       "| Body Mass Index        | 1519 |\n",
       "| Childhood Obesity      |   14 |\n",
       "| Fasting Glucose        |  159 |\n",
       "| HDL Cholesterol        | 1837 |\n",
       "| Ischemic Heart Disease |   81 |\n",
       "| LDL Direct             |  752 |\n",
       "| Myocardial Infarction  |   21 |\n",
       "| Pulse Rate             |  133 |\n",
       "| QRS Duration           |   38 |\n",
       "| Type 2 Diabetes        |  403 |\n",
       "| Ventricular Rate       |   11 |\n",
       "\n"
      ],
      "text/plain": [
       "   Trait_Description      n   \n",
       "1  Aging                    35\n",
       "2  Angina Pectoris          34\n",
       "3  Atrial Fibrillation      90\n",
       "4  Birth Weight             65\n",
       "5  Body Mass Index        1519\n",
       "6  Childhood Obesity        14\n",
       "7  Fasting Glucose         159\n",
       "8  HDL Cholesterol        1837\n",
       "9  Ischemic Heart Disease   81\n",
       "10 LDL Direct              752\n",
       "11 Myocardial Infarction    21\n",
       "12 Pulse Rate              133\n",
       "13 QRS Duration             38\n",
       "14 Type 2 Diabetes         403\n",
       "15 Ventricular Rate         11"
      ]
     },
     "metadata": {},
     "output_type": "display_data"
    }
   ],
   "source": [
    "total_signals_per_trait = table %>% select(Trait_Description, GWAS_Index) %>% distinct() %>% dplyr::count(Trait_Description)\n",
    "total_signals_per_trait"
   ]
  },
  {
   "cell_type": "markdown",
   "metadata": {},
   "source": [
    "## **aggregate QTL types for each GWAS locus**"
   ]
  },
  {
   "cell_type": "code",
   "execution_count": 9,
   "metadata": {},
   "outputs": [
    {
     "name": "stderr",
     "output_type": "stream",
     "text": [
      "\u001b[1m\u001b[22m`summarise()` has grouped output by 'Index_Trait'. You can override using the\n",
      "`.groups` argument.\n"
     ]
    },
    {
     "data": {
      "text/plain": [
       "\n",
       "                            caQTL                  caQTL-caQTL-eQTL \n",
       "                              203                                 4 \n",
       "                caQTL-caQTL-haQTL                        caQTL-eQTL \n",
       "                                2                                31 \n",
       "                 caQTL-eQTL-caQTL       caQTL-eQTL-caQTL-eQTL-haQTL \n",
       "                                2                                 3 \n",
       "                  caQTL-eQTL-eQTL                  caQTL-eQTL-haQTL \n",
       "                                6                                 6 \n",
       "           caQTL-eQTL-haQTL-caQTL       caQTL-eQTL-haQTL-caQTL-eQTL \n",
       "                                3                                 4 \n",
       "caQTL-eQTL-haQTL-caQTL-eQTL-caQTL             caQTL-eQTL-haQTL-eQTL \n",
       "                                2                                 6 \n",
       "                      caQTL-haQTL                 caQTL-haQTL-caQTL \n",
       "                               36                                11 \n",
       "           caQTL-haQTL-caQTL-eQTL                  caQTL-haQTL-eQTL \n",
       "                                2                                 3 \n",
       "           caQTL-haQTL-eQTL-caQTL                              eQTL \n",
       "                                2                               124 \n",
       "                       eQTL-caQTL                   eQTL-caQTL-eQTL \n",
       "                               13                                 8 \n",
       "            eQTL-caQTL-eQTL-caQTL                        eQTL-haQTL \n",
       "                                1                                 8 \n",
       "            eQTL-haQTL-caQTL-eQTL        eQTL-haQTL-caQTL-eQTL-eQTL \n",
       "                                2                                 1 \n",
       "                  eQTL-haQTL-eQTL        eQTL-haQTL-eQTL-caQTL-eQTL \n",
       "                                5                                 1 \n",
       "                            haQTL                       haQTL-caQTL \n",
       "                               46                                 3 \n",
       "           haQTL-caQTL-eQTL-haQTL                        haQTL-eQTL \n",
       "                                1                                 1 "
      ]
     },
     "metadata": {},
     "output_type": "display_data"
    },
    {
     "data": {
      "text/html": [
       "<table class=\"dataframe\">\n",
       "<caption>A grouped_df: 2 × 3</caption>\n",
       "<thead>\n",
       "\t<tr><th scope=col>Index_Trait</th><th scope=col>Trait_Description</th><th scope=col>QTL_Combination_Collapse</th></tr>\n",
       "\t<tr><th scope=col>&lt;chr&gt;</th><th scope=col>&lt;chr&gt;</th><th scope=col>&lt;chr&gt;</th></tr>\n",
       "</thead>\n",
       "<tbody>\n",
       "\t<tr><td>10_103707199_AT_A icd10-I48-both_sexes.meta           </td><td>Atrial Fibrillation</td><td>caQTL-haQTL</td></tr>\n",
       "\t<tr><td>10_116829668_G_A continuous-23104-both_sexes-irnt.meta</td><td>Body Mass Index    </td><td>caQTL      </td></tr>\n",
       "</tbody>\n",
       "</table>\n"
      ],
      "text/latex": [
       "A grouped\\_df: 2 × 3\n",
       "\\begin{tabular}{lll}\n",
       " Index\\_Trait & Trait\\_Description & QTL\\_Combination\\_Collapse\\\\\n",
       " <chr> & <chr> & <chr>\\\\\n",
       "\\hline\n",
       "\t 10\\_103707199\\_AT\\_A icd10-I48-both\\_sexes.meta            & Atrial Fibrillation & caQTL-haQTL\\\\\n",
       "\t 10\\_116829668\\_G\\_A continuous-23104-both\\_sexes-irnt.meta & Body Mass Index     & caQTL      \\\\\n",
       "\\end{tabular}\n"
      ],
      "text/markdown": [
       "\n",
       "A grouped_df: 2 × 3\n",
       "\n",
       "| Index_Trait &lt;chr&gt; | Trait_Description &lt;chr&gt; | QTL_Combination_Collapse &lt;chr&gt; |\n",
       "|---|---|---|\n",
       "| 10_103707199_AT_A icd10-I48-both_sexes.meta            | Atrial Fibrillation | caQTL-haQTL |\n",
       "| 10_116829668_G_A continuous-23104-both_sexes-irnt.meta | Body Mass Index     | caQTL       |\n",
       "\n"
      ],
      "text/plain": [
       "  Index_Trait                                            Trait_Description  \n",
       "1 10_103707199_AT_A icd10-I48-both_sexes.meta            Atrial Fibrillation\n",
       "2 10_116829668_G_A continuous-23104-both_sexes-irnt.meta Body Mass Index    \n",
       "  QTL_Combination_Collapse\n",
       "1 caQTL-haQTL             \n",
       "2 caQTL                   "
      ]
     },
     "metadata": {},
     "output_type": "display_data"
    }
   ],
   "source": [
    "toplot = table %>%\n",
    "            select(Trait_Description, GWAS_Index, QTL_Combination_Collapse, Index_Trait) %>%\n",
    "            filter(QTL_Combination_Collapse != \"\") %>%\n",
    "            distinct() %>%\n",
    "            group_by(Index_Trait, Trait_Description) %>%\n",
    "            dplyr::summarise(QTL_Combination_Collapse = paste(QTL_Combination_Collapse, collapse = \"-\")) \n",
    "\n",
    "table(toplot$QTL_Combination_Collapse)\n",
    "\n",
    "head(toplot,2)"
   ]
  },
  {
   "cell_type": "markdown",
   "metadata": {},
   "source": [
    "## **sort and de-duplicate QTL_Combination_Collapse column**"
   ]
  },
  {
   "cell_type": "code",
   "execution_count": 10,
   "metadata": {},
   "outputs": [
    {
     "data": {
      "text/plain": [
       "\n",
       "           caQTL       caQTL-eQTL caQTL-eQTL-haQTL      caQTL-haQTL \n",
       "             203               65               36               52 \n",
       "            eQTL       eQTL-haQTL            haQTL \n",
       "             124               14               46 "
      ]
     },
     "metadata": {},
     "output_type": "display_data"
    }
   ],
   "source": [
    "toplot$QTL_Combination_Collapse = unlist(lapply(toplot$QTL_Combination_Collapse, function(x) { paste(sort(unique(unlist(strsplit(x, \"-\")))), collapse = \"-\") }))\n",
    "table(toplot$QTL_Combination_Collapse)"
   ]
  },
  {
   "cell_type": "markdown",
   "metadata": {},
   "source": [
    "## **check non-duplicate GWAS loci**"
   ]
  },
  {
   "cell_type": "code",
   "execution_count": 11,
   "metadata": {},
   "outputs": [
    {
     "data": {
      "text/html": [
       "<table class=\"dataframe\">\n",
       "<caption>A grouped_df: 0 × 3</caption>\n",
       "<thead>\n",
       "\t<tr><th scope=col>Index_Trait</th><th scope=col>Trait_Description</th><th scope=col>QTL_Combination_Collapse</th></tr>\n",
       "\t<tr><th scope=col>&lt;chr&gt;</th><th scope=col>&lt;chr&gt;</th><th scope=col>&lt;chr&gt;</th></tr>\n",
       "</thead>\n",
       "<tbody>\n",
       "</tbody>\n",
       "</table>\n"
      ],
      "text/latex": [
       "A grouped\\_df: 0 × 3\n",
       "\\begin{tabular}{lll}\n",
       " Index\\_Trait & Trait\\_Description & QTL\\_Combination\\_Collapse\\\\\n",
       " <chr> & <chr> & <chr>\\\\\n",
       "\\hline\n",
       "\\end{tabular}\n"
      ],
      "text/markdown": [
       "\n",
       "A grouped_df: 0 × 3\n",
       "\n",
       "| Index_Trait &lt;chr&gt; | Trait_Description &lt;chr&gt; | QTL_Combination_Collapse &lt;chr&gt; |\n",
       "|---|---|---|\n",
       "\n"
      ],
      "text/plain": [
       "     Index_Trait Trait_Description QTL_Combination_Collapse"
      ]
     },
     "metadata": {},
     "output_type": "display_data"
    }
   ],
   "source": [
    "toplot %>% filter(duplicated(Index_Trait))"
   ]
  },
  {
   "cell_type": "markdown",
   "metadata": {},
   "source": [
    "## **count GWAS loci per QTL type**"
   ]
  },
  {
   "cell_type": "code",
   "execution_count": 12,
   "metadata": {},
   "outputs": [
    {
     "data": {
      "text/html": [
       "<table class=\"dataframe\">\n",
       "<caption>A grouped_df: 4 × 3</caption>\n",
       "<thead>\n",
       "\t<tr><th scope=col>Trait_Description</th><th scope=col>QTL_Combination_Collapse</th><th scope=col>n</th></tr>\n",
       "\t<tr><th scope=col>&lt;chr&gt;</th><th scope=col>&lt;chr&gt;</th><th scope=col>&lt;int&gt;</th></tr>\n",
       "</thead>\n",
       "<tbody>\n",
       "\t<tr><td>Aging</td><td>caQTL           </td><td>2</td></tr>\n",
       "\t<tr><td>Aging</td><td>caQTL-eQTL      </td><td>2</td></tr>\n",
       "\t<tr><td>Aging</td><td>caQTL-eQTL-haQTL</td><td>1</td></tr>\n",
       "\t<tr><td>Aging</td><td>eQTL            </td><td>2</td></tr>\n",
       "</tbody>\n",
       "</table>\n"
      ],
      "text/latex": [
       "A grouped\\_df: 4 × 3\n",
       "\\begin{tabular}{lll}\n",
       " Trait\\_Description & QTL\\_Combination\\_Collapse & n\\\\\n",
       " <chr> & <chr> & <int>\\\\\n",
       "\\hline\n",
       "\t Aging & caQTL            & 2\\\\\n",
       "\t Aging & caQTL-eQTL       & 2\\\\\n",
       "\t Aging & caQTL-eQTL-haQTL & 1\\\\\n",
       "\t Aging & eQTL             & 2\\\\\n",
       "\\end{tabular}\n"
      ],
      "text/markdown": [
       "\n",
       "A grouped_df: 4 × 3\n",
       "\n",
       "| Trait_Description &lt;chr&gt; | QTL_Combination_Collapse &lt;chr&gt; | n &lt;int&gt; |\n",
       "|---|---|---|\n",
       "| Aging | caQTL            | 2 |\n",
       "| Aging | caQTL-eQTL       | 2 |\n",
       "| Aging | caQTL-eQTL-haQTL | 1 |\n",
       "| Aging | eQTL             | 2 |\n",
       "\n"
      ],
      "text/plain": [
       "  Trait_Description QTL_Combination_Collapse n\n",
       "1 Aging             caQTL                    2\n",
       "2 Aging             caQTL-eQTL               2\n",
       "3 Aging             caQTL-eQTL-haQTL         1\n",
       "4 Aging             eQTL                     2"
      ]
     },
     "metadata": {},
     "output_type": "display_data"
    }
   ],
   "source": [
    "toplot2 = toplot %>% ungroup() %>% group_by(Trait_Description, QTL_Combination_Collapse) %>% dplyr::count()\n",
    "\n",
    "head(toplot2,4)"
   ]
  },
  {
   "cell_type": "markdown",
   "metadata": {},
   "source": [
    "## **add colums for data labels**"
   ]
  },
  {
   "cell_type": "code",
   "execution_count": 13,
   "metadata": {},
   "outputs": [],
   "source": [
    "toplot2 = merge(toplot2, total_signals_per_trait %>% dplyr::rename(total = n), by = \"Trait_Description\") %>%\n",
    "            mutate(pct = n / total * 100,\n",
    "                   y_label = paste(Trait_Description, paste0(\"(Total=\", total, \")\"), sep = \"\\n\"),\n",
    "                   QTL_Combination_Collapse = gsub(\"-\", \",\", QTL_Combination_Collapse)) %>%\n",
    "            ungroup() %>% group_by(Trait_Description) %>%\n",
    "            dplyr::mutate(total_pct_coloc = sum(pct),\n",
    "                   total_n = sum(n),\n",
    "                   bar_label = paste0(\"n=\", total_n, \"\\n\", signif(total_pct_coloc, 2), \"%\")) %>%\n",
    "            filter(n != 0)\n",
    "            "
   ]
  },
  {
   "cell_type": "code",
   "execution_count": null,
   "metadata": {},
   "outputs": [],
   "source": []
  },
  {
   "cell_type": "code",
   "execution_count": 14,
   "metadata": {},
   "outputs": [
    {
     "data": {
      "text/html": [
       "<table class=\"dataframe\">\n",
       "<caption>A grouped_df: 2 × 9</caption>\n",
       "<thead>\n",
       "\t<tr><th scope=col>Trait_Description</th><th scope=col>QTL_Combination_Collapse</th><th scope=col>n</th><th scope=col>total</th><th scope=col>pct</th><th scope=col>y_label</th><th scope=col>total_pct_coloc</th><th scope=col>total_n</th><th scope=col>bar_label</th></tr>\n",
       "\t<tr><th scope=col>&lt;chr&gt;</th><th scope=col>&lt;chr&gt;</th><th scope=col>&lt;int&gt;</th><th scope=col>&lt;int&gt;</th><th scope=col>&lt;dbl&gt;</th><th scope=col>&lt;chr&gt;</th><th scope=col>&lt;dbl&gt;</th><th scope=col>&lt;int&gt;</th><th scope=col>&lt;chr&gt;</th></tr>\n",
       "</thead>\n",
       "<tbody>\n",
       "\t<tr><td>Aging</td><td>caQTL     </td><td>2</td><td>35</td><td>5.714286</td><td>Aging\n",
       "(Total=35)</td><td>20</td><td>7</td><td>n=7\n",
       "20%</td></tr>\n",
       "\t<tr><td>Aging</td><td>caQTL,eQTL</td><td>2</td><td>35</td><td>5.714286</td><td>Aging\n",
       "(Total=35)</td><td>20</td><td>7</td><td>n=7\n",
       "20%</td></tr>\n",
       "</tbody>\n",
       "</table>\n"
      ],
      "text/latex": [
       "A grouped\\_df: 2 × 9\n",
       "\\begin{tabular}{lllllllll}\n",
       " Trait\\_Description & QTL\\_Combination\\_Collapse & n & total & pct & y\\_label & total\\_pct\\_coloc & total\\_n & bar\\_label\\\\\n",
       " <chr> & <chr> & <int> & <int> & <dbl> & <chr> & <dbl> & <int> & <chr>\\\\\n",
       "\\hline\n",
       "\t Aging & caQTL      & 2 & 35 & 5.714286 & Aging\n",
       "(Total=35) & 20 & 7 & n=7\n",
       "20\\%\\\\\n",
       "\t Aging & caQTL,eQTL & 2 & 35 & 5.714286 & Aging\n",
       "(Total=35) & 20 & 7 & n=7\n",
       "20\\%\\\\\n",
       "\\end{tabular}\n"
      ],
      "text/markdown": [
       "\n",
       "A grouped_df: 2 × 9\n",
       "\n",
       "| Trait_Description &lt;chr&gt; | QTL_Combination_Collapse &lt;chr&gt; | n &lt;int&gt; | total &lt;int&gt; | pct &lt;dbl&gt; | y_label &lt;chr&gt; | total_pct_coloc &lt;dbl&gt; | total_n &lt;int&gt; | bar_label &lt;chr&gt; |\n",
       "|---|---|---|---|---|---|---|---|---|\n",
       "| Aging | caQTL      | 2 | 35 | 5.714286 | Aging\n",
       "(Total=35) | 20 | 7 | n=7\n",
       "20% |\n",
       "| Aging | caQTL,eQTL | 2 | 35 | 5.714286 | Aging\n",
       "(Total=35) | 20 | 7 | n=7\n",
       "20% |\n",
       "\n"
      ],
      "text/plain": [
       "  Trait_Description QTL_Combination_Collapse n total pct      y_label          \n",
       "1 Aging             caQTL                    2 35    5.714286 Aging\\n(Total=35)\n",
       "2 Aging             caQTL,eQTL               2 35    5.714286 Aging\\n(Total=35)\n",
       "  total_pct_coloc total_n bar_label\n",
       "1 20              7       n=7\\n20% \n",
       "2 20              7       n=7\\n20% "
      ]
     },
     "metadata": {},
     "output_type": "display_data"
    }
   ],
   "source": [
    "head(toplot2,2)"
   ]
  },
  {
   "cell_type": "markdown",
   "metadata": {},
   "source": [
    "## **set order to traits by increasing number of colocalizations**"
   ]
  },
  {
   "cell_type": "code",
   "execution_count": 15,
   "metadata": {},
   "outputs": [
    {
     "name": "stderr",
     "output_type": "stream",
     "text": [
      "\u001b[1m\u001b[22mAdding missing grouping variables: `Trait_Description`\n"
     ]
    },
    {
     "data": {
      "text/html": [
       "<style>\n",
       ".list-inline {list-style: none; margin:0; padding: 0}\n",
       ".list-inline>li {display: inline-block}\n",
       ".list-inline>li:not(:last-child)::after {content: \"\\00b7\"; padding: 0 .5ex}\n",
       "</style>\n",
       "<ol class=list-inline><li>'Ventricular Rate\\n(Total=11)'</li><li>'Aging\\n(Total=35)'</li><li>'Birth Weight\\n(Total=65)'</li><li>'Atrial Fibrillation\\n(Total=90)'</li><li>'Pulse Rate\\n(Total=133)'</li><li>'Type 2 Diabetes\\n(Total=403)'</li><li>'Angina Pectoris\\n(Total=34)'</li><li>'Childhood Obesity\\n(Total=14)'</li><li>'Myocardial Infarction\\n(Total=21)'</li><li>'Ischemic Heart Disease\\n(Total=81)'</li><li>'Body Mass Index\\n(Total=1519)'</li><li>'QRS Duration\\n(Total=38)'</li><li>'Fasting Glucose\\n(Total=159)'</li><li>'HDL Cholesterol\\n(Total=1837)'</li><li>'LDL Direct\\n(Total=752)'</li></ol>\n"
      ],
      "text/latex": [
       "\\begin{enumerate*}\n",
       "\\item 'Ventricular Rate\\textbackslash{}n(Total=11)'\n",
       "\\item 'Aging\\textbackslash{}n(Total=35)'\n",
       "\\item 'Birth Weight\\textbackslash{}n(Total=65)'\n",
       "\\item 'Atrial Fibrillation\\textbackslash{}n(Total=90)'\n",
       "\\item 'Pulse Rate\\textbackslash{}n(Total=133)'\n",
       "\\item 'Type 2 Diabetes\\textbackslash{}n(Total=403)'\n",
       "\\item 'Angina Pectoris\\textbackslash{}n(Total=34)'\n",
       "\\item 'Childhood Obesity\\textbackslash{}n(Total=14)'\n",
       "\\item 'Myocardial Infarction\\textbackslash{}n(Total=21)'\n",
       "\\item 'Ischemic Heart Disease\\textbackslash{}n(Total=81)'\n",
       "\\item 'Body Mass Index\\textbackslash{}n(Total=1519)'\n",
       "\\item 'QRS Duration\\textbackslash{}n(Total=38)'\n",
       "\\item 'Fasting Glucose\\textbackslash{}n(Total=159)'\n",
       "\\item 'HDL Cholesterol\\textbackslash{}n(Total=1837)'\n",
       "\\item 'LDL Direct\\textbackslash{}n(Total=752)'\n",
       "\\end{enumerate*}\n"
      ],
      "text/markdown": [
       "1. 'Ventricular Rate\\n(Total=11)'\n",
       "2. 'Aging\\n(Total=35)'\n",
       "3. 'Birth Weight\\n(Total=65)'\n",
       "4. 'Atrial Fibrillation\\n(Total=90)'\n",
       "5. 'Pulse Rate\\n(Total=133)'\n",
       "6. 'Type 2 Diabetes\\n(Total=403)'\n",
       "7. 'Angina Pectoris\\n(Total=34)'\n",
       "8. 'Childhood Obesity\\n(Total=14)'\n",
       "9. 'Myocardial Infarction\\n(Total=21)'\n",
       "10. 'Ischemic Heart Disease\\n(Total=81)'\n",
       "11. 'Body Mass Index\\n(Total=1519)'\n",
       "12. 'QRS Duration\\n(Total=38)'\n",
       "13. 'Fasting Glucose\\n(Total=159)'\n",
       "14. 'HDL Cholesterol\\n(Total=1837)'\n",
       "15. 'LDL Direct\\n(Total=752)'\n",
       "\n",
       "\n"
      ],
      "text/plain": [
       " [1] \"Ventricular Rate\\n(Total=11)\"       \"Aging\\n(Total=35)\"                 \n",
       " [3] \"Birth Weight\\n(Total=65)\"           \"Atrial Fibrillation\\n(Total=90)\"   \n",
       " [5] \"Pulse Rate\\n(Total=133)\"            \"Type 2 Diabetes\\n(Total=403)\"      \n",
       " [7] \"Angina Pectoris\\n(Total=34)\"        \"Childhood Obesity\\n(Total=14)\"     \n",
       " [9] \"Myocardial Infarction\\n(Total=21)\"  \"Ischemic Heart Disease\\n(Total=81)\"\n",
       "[11] \"Body Mass Index\\n(Total=1519)\"      \"QRS Duration\\n(Total=38)\"          \n",
       "[13] \"Fasting Glucose\\n(Total=159)\"       \"HDL Cholesterol\\n(Total=1837)\"     \n",
       "[15] \"LDL Direct\\n(Total=752)\"           "
      ]
     },
     "metadata": {},
     "output_type": "display_data"
    }
   ],
   "source": [
    "order = toplot2 %>% \n",
    "    select(y_label, total_pct_coloc) %>% \n",
    "    distinct() %>% \n",
    "    arrange(desc(total_pct_coloc))\n",
    "\n",
    "order$y_label\n",
    "\n",
    "toplot2$y_label = factor(toplot2$y_label, levels = order$y_label)"
   ]
  },
  {
   "cell_type": "markdown",
   "metadata": {},
   "source": [
    "## **set order to qtl types**"
   ]
  },
  {
   "cell_type": "code",
   "execution_count": 16,
   "metadata": {},
   "outputs": [],
   "source": [
    "qtl_order = c(\"caQTL\", \"haQTL\", \"eQTL\", \"caQTL,haQTL\", \"caQTL,eQTL\", \"eQTL,haQTL\", \"caQTL,eQTL,haQTL\")\n",
    "toplot2$QTL_Combination_Collapse = factor(toplot2$QTL_Combination_Collapse, levels = qtl_order)"
   ]
  },
  {
   "cell_type": "code",
   "execution_count": 17,
   "metadata": {},
   "outputs": [
    {
     "data": {
      "text/html": [
       "<table class=\"dataframe\">\n",
       "<caption>A grouped_df: 2 × 9</caption>\n",
       "<thead>\n",
       "\t<tr><th scope=col>Trait_Description</th><th scope=col>QTL_Combination_Collapse</th><th scope=col>n</th><th scope=col>total</th><th scope=col>pct</th><th scope=col>y_label</th><th scope=col>total_pct_coloc</th><th scope=col>total_n</th><th scope=col>bar_label</th></tr>\n",
       "\t<tr><th scope=col>&lt;chr&gt;</th><th scope=col>&lt;fct&gt;</th><th scope=col>&lt;int&gt;</th><th scope=col>&lt;int&gt;</th><th scope=col>&lt;dbl&gt;</th><th scope=col>&lt;fct&gt;</th><th scope=col>&lt;dbl&gt;</th><th scope=col>&lt;int&gt;</th><th scope=col>&lt;chr&gt;</th></tr>\n",
       "</thead>\n",
       "<tbody>\n",
       "\t<tr><td>Aging</td><td>caQTL     </td><td>2</td><td>35</td><td>5.714286</td><td>Aging\n",
       "(Total=35)</td><td>20</td><td>7</td><td>n=7\n",
       "20%</td></tr>\n",
       "\t<tr><td>Aging</td><td>caQTL,eQTL</td><td>2</td><td>35</td><td>5.714286</td><td>Aging\n",
       "(Total=35)</td><td>20</td><td>7</td><td>n=7\n",
       "20%</td></tr>\n",
       "</tbody>\n",
       "</table>\n"
      ],
      "text/latex": [
       "A grouped\\_df: 2 × 9\n",
       "\\begin{tabular}{lllllllll}\n",
       " Trait\\_Description & QTL\\_Combination\\_Collapse & n & total & pct & y\\_label & total\\_pct\\_coloc & total\\_n & bar\\_label\\\\\n",
       " <chr> & <fct> & <int> & <int> & <dbl> & <fct> & <dbl> & <int> & <chr>\\\\\n",
       "\\hline\n",
       "\t Aging & caQTL      & 2 & 35 & 5.714286 & Aging\n",
       "(Total=35) & 20 & 7 & n=7\n",
       "20\\%\\\\\n",
       "\t Aging & caQTL,eQTL & 2 & 35 & 5.714286 & Aging\n",
       "(Total=35) & 20 & 7 & n=7\n",
       "20\\%\\\\\n",
       "\\end{tabular}\n"
      ],
      "text/markdown": [
       "\n",
       "A grouped_df: 2 × 9\n",
       "\n",
       "| Trait_Description &lt;chr&gt; | QTL_Combination_Collapse &lt;fct&gt; | n &lt;int&gt; | total &lt;int&gt; | pct &lt;dbl&gt; | y_label &lt;fct&gt; | total_pct_coloc &lt;dbl&gt; | total_n &lt;int&gt; | bar_label &lt;chr&gt; |\n",
       "|---|---|---|---|---|---|---|---|---|\n",
       "| Aging | caQTL      | 2 | 35 | 5.714286 | Aging\n",
       "(Total=35) | 20 | 7 | n=7\n",
       "20% |\n",
       "| Aging | caQTL,eQTL | 2 | 35 | 5.714286 | Aging\n",
       "(Total=35) | 20 | 7 | n=7\n",
       "20% |\n",
       "\n"
      ],
      "text/plain": [
       "  Trait_Description QTL_Combination_Collapse n total pct      y_label          \n",
       "1 Aging             caQTL                    2 35    5.714286 Aging\\n(Total=35)\n",
       "2 Aging             caQTL,eQTL               2 35    5.714286 Aging\\n(Total=35)\n",
       "  total_pct_coloc total_n bar_label\n",
       "1 20              7       n=7\\n20% \n",
       "2 20              7       n=7\\n20% "
      ]
     },
     "metadata": {},
     "output_type": "display_data"
    }
   ],
   "source": [
    "head(toplot2,2)"
   ]
  },
  {
   "cell_type": "markdown",
   "metadata": {},
   "source": [
    "## **rename columns**"
   ]
  },
  {
   "cell_type": "code",
   "execution_count": 18,
   "metadata": {},
   "outputs": [
    {
     "data": {
      "text/html": [
       "<table class=\"dataframe\">\n",
       "<caption>A grouped_df: 5 × 9</caption>\n",
       "<thead>\n",
       "\t<tr><th scope=col>Trait_Description</th><th scope=col>QTL_Annotations</th><th scope=col>Number_Signals_with_Annotation</th><th scope=col>Total_Indep_Signals_for_Trait</th><th scope=col>Pct_Signals_Colocalized_with_Annotation</th><th scope=col>Y_label</th><th scope=col>Total_Pct_Colocalized</th><th scope=col>Total_Number_Signals_Colocalized</th><th scope=col>Bar_Label</th></tr>\n",
       "\t<tr><th scope=col>&lt;chr&gt;</th><th scope=col>&lt;fct&gt;</th><th scope=col>&lt;int&gt;</th><th scope=col>&lt;int&gt;</th><th scope=col>&lt;dbl&gt;</th><th scope=col>&lt;fct&gt;</th><th scope=col>&lt;dbl&gt;</th><th scope=col>&lt;int&gt;</th><th scope=col>&lt;chr&gt;</th></tr>\n",
       "</thead>\n",
       "<tbody>\n",
       "\t<tr><td>Aging          </td><td>caQTL           </td><td>2</td><td>35</td><td>5.714286</td><td>Aging\n",
       "(Total=35)          </td><td>20.00000</td><td>7</td><td>n=7\n",
       "20%</td></tr>\n",
       "\t<tr><td>Aging          </td><td>caQTL,eQTL      </td><td>2</td><td>35</td><td>5.714286</td><td>Aging\n",
       "(Total=35)          </td><td>20.00000</td><td>7</td><td>n=7\n",
       "20%</td></tr>\n",
       "\t<tr><td>Aging          </td><td>caQTL,eQTL,haQTL</td><td>1</td><td>35</td><td>2.857143</td><td>Aging\n",
       "(Total=35)          </td><td>20.00000</td><td>7</td><td>n=7\n",
       "20%</td></tr>\n",
       "\t<tr><td>Aging          </td><td>eQTL            </td><td>2</td><td>35</td><td>5.714286</td><td>Aging\n",
       "(Total=35)          </td><td>20.00000</td><td>7</td><td>n=7\n",
       "20%</td></tr>\n",
       "\t<tr><td>Angina Pectoris</td><td>caQTL           </td><td>2</td><td>34</td><td>5.882353</td><td>Angina Pectoris\n",
       "(Total=34)</td><td>14.70588</td><td>5</td><td>n=5\n",
       "15%</td></tr>\n",
       "</tbody>\n",
       "</table>\n"
      ],
      "text/latex": [
       "A grouped\\_df: 5 × 9\n",
       "\\begin{tabular}{lllllllll}\n",
       " Trait\\_Description & QTL\\_Annotations & Number\\_Signals\\_with\\_Annotation & Total\\_Indep\\_Signals\\_for\\_Trait & Pct\\_Signals\\_Colocalized\\_with\\_Annotation & Y\\_label & Total\\_Pct\\_Colocalized & Total\\_Number\\_Signals\\_Colocalized & Bar\\_Label\\\\\n",
       " <chr> & <fct> & <int> & <int> & <dbl> & <fct> & <dbl> & <int> & <chr>\\\\\n",
       "\\hline\n",
       "\t Aging           & caQTL            & 2 & 35 & 5.714286 & Aging\n",
       "(Total=35)           & 20.00000 & 7 & n=7\n",
       "20\\%\\\\\n",
       "\t Aging           & caQTL,eQTL       & 2 & 35 & 5.714286 & Aging\n",
       "(Total=35)           & 20.00000 & 7 & n=7\n",
       "20\\%\\\\\n",
       "\t Aging           & caQTL,eQTL,haQTL & 1 & 35 & 2.857143 & Aging\n",
       "(Total=35)           & 20.00000 & 7 & n=7\n",
       "20\\%\\\\\n",
       "\t Aging           & eQTL             & 2 & 35 & 5.714286 & Aging\n",
       "(Total=35)           & 20.00000 & 7 & n=7\n",
       "20\\%\\\\\n",
       "\t Angina Pectoris & caQTL            & 2 & 34 & 5.882353 & Angina Pectoris\n",
       "(Total=34) & 14.70588 & 5 & n=5\n",
       "15\\%\\\\\n",
       "\\end{tabular}\n"
      ],
      "text/markdown": [
       "\n",
       "A grouped_df: 5 × 9\n",
       "\n",
       "| Trait_Description &lt;chr&gt; | QTL_Annotations &lt;fct&gt; | Number_Signals_with_Annotation &lt;int&gt; | Total_Indep_Signals_for_Trait &lt;int&gt; | Pct_Signals_Colocalized_with_Annotation &lt;dbl&gt; | Y_label &lt;fct&gt; | Total_Pct_Colocalized &lt;dbl&gt; | Total_Number_Signals_Colocalized &lt;int&gt; | Bar_Label &lt;chr&gt; |\n",
       "|---|---|---|---|---|---|---|---|---|\n",
       "| Aging           | caQTL            | 2 | 35 | 5.714286 | Aging\n",
       "(Total=35)           | 20.00000 | 7 | n=7\n",
       "20% |\n",
       "| Aging           | caQTL,eQTL       | 2 | 35 | 5.714286 | Aging\n",
       "(Total=35)           | 20.00000 | 7 | n=7\n",
       "20% |\n",
       "| Aging           | caQTL,eQTL,haQTL | 1 | 35 | 2.857143 | Aging\n",
       "(Total=35)           | 20.00000 | 7 | n=7\n",
       "20% |\n",
       "| Aging           | eQTL             | 2 | 35 | 5.714286 | Aging\n",
       "(Total=35)           | 20.00000 | 7 | n=7\n",
       "20% |\n",
       "| Angina Pectoris | caQTL            | 2 | 34 | 5.882353 | Angina Pectoris\n",
       "(Total=34) | 14.70588 | 5 | n=5\n",
       "15% |\n",
       "\n"
      ],
      "text/plain": [
       "  Trait_Description QTL_Annotations  Number_Signals_with_Annotation\n",
       "1 Aging             caQTL            2                             \n",
       "2 Aging             caQTL,eQTL       2                             \n",
       "3 Aging             caQTL,eQTL,haQTL 1                             \n",
       "4 Aging             eQTL             2                             \n",
       "5 Angina Pectoris   caQTL            2                             \n",
       "  Total_Indep_Signals_for_Trait Pct_Signals_Colocalized_with_Annotation\n",
       "1 35                            5.714286                               \n",
       "2 35                            5.714286                               \n",
       "3 35                            2.857143                               \n",
       "4 35                            5.714286                               \n",
       "5 34                            5.882353                               \n",
       "  Y_label                     Total_Pct_Colocalized\n",
       "1 Aging\\n(Total=35)           20.00000             \n",
       "2 Aging\\n(Total=35)           20.00000             \n",
       "3 Aging\\n(Total=35)           20.00000             \n",
       "4 Aging\\n(Total=35)           20.00000             \n",
       "5 Angina Pectoris\\n(Total=34) 14.70588             \n",
       "  Total_Number_Signals_Colocalized Bar_Label\n",
       "1 7                                n=7\\n20% \n",
       "2 7                                n=7\\n20% \n",
       "3 7                                n=7\\n20% \n",
       "4 7                                n=7\\n20% \n",
       "5 5                                n=5\\n15% "
      ]
     },
     "metadata": {},
     "output_type": "display_data"
    }
   ],
   "source": [
    "toplot3 = toplot2 %>%\n",
    "           dplyr::rename(QTL_Annotations = QTL_Combination_Collapse) %>%\n",
    "           dplyr::rename(Number_Signals_with_Annotation = n) %>%\n",
    "           dplyr::rename(Total_Indep_Signals_for_Trait = total) %>%\n",
    "           dplyr::rename(Pct_Signals_Colocalized_with_Annotation = pct) %>%\n",
    "           dplyr::rename(Bar_Label = bar_label) %>%\n",
    "           dplyr::rename(Total_Pct_Colocalized = total_pct_coloc) %>%\n",
    "           dplyr::rename(Total_Number_Signals_Colocalized = total_n) %>%\n",
    "           dplyr::rename(Y_label = y_label) \n",
    "\n",
    "toplot3 %>% head(5)\n",
    "\n"
   ]
  },
  {
   "cell_type": "markdown",
   "metadata": {},
   "source": [
    "## **prepare data input for plotting QTL types for all GWAS loci**"
   ]
  },
  {
   "cell_type": "code",
   "execution_count": 20,
   "metadata": {},
   "outputs": [
    {
     "data": {
      "text/html": [
       "540"
      ],
      "text/latex": [
       "540"
      ],
      "text/markdown": [
       "540"
      ],
      "text/plain": [
       "[1] 540"
      ]
     },
     "metadata": {},
     "output_type": "display_data"
    }
   ],
   "source": [
    "total_gwas = length(unique(table$Index_Trait))\n",
    "\n",
    "all = toplot3 %>% \n",
    "    ungroup() %>% \n",
    "    select(QTL_Annotations, Number_Signals_with_Annotation)  %>%\n",
    "    mutate(Total_Number_Signals_Colocalized = sum(Number_Signals_with_Annotation)) %>%\n",
    "    group_by(QTL_Annotations) %>%\n",
    "    dplyr::mutate(Number_Signals_with_Annotation = sum(Number_Signals_with_Annotation)) %>%\n",
    "    distinct() %>%\n",
    "    ungroup() %>%\n",
    "    mutate(Total_Indep_Signals_for_Trait = total_gwas) %>%\n",
    "    dplyr::mutate(Pct_Signals_Colocalized_with_Annotation = Number_Signals_with_Annotation / Total_Indep_Signals_for_Trait * 100) %>%\n",
    "    mutate(Total_Pct_Colocalized = sum(Pct_Signals_Colocalized_with_Annotation)) %>%\n",
    "    mutate(Bar_Label = paste0(\"n=\", Total_Number_Signals_Colocalized, \"\\n\", signif(Total_Pct_Colocalized, 2), \"%\")) %>%\n",
    "    mutate(Y_label = paste0(\"All 15 Traits\\n(Total=\", total_gwas, \")\"),\n",
    "           Trait_Description = \"All 15 Traits\")\n",
    "\n",
    "all$QTL_Annotations = factor(all$QTL_Annotations, levels = qtl_order)\n",
    "\n",
    "\n",
    "\n",
    "sum(all$Number_Signals_with_Annotation)"
   ]
  },
  {
   "cell_type": "markdown",
   "metadata": {},
   "source": [
    "## **remove labels that are too small too see**"
   ]
  },
  {
   "cell_type": "code",
   "execution_count": 21,
   "metadata": {},
   "outputs": [],
   "source": [
    "toplot3[toplot3$Trait_Description %like% \"Body\" & toplot3$Number_Signals_with_Annotation %in% 1:10,]$Number_Signals_with_Annotation = NA\n"
   ]
  },
  {
   "cell_type": "code",
   "execution_count": 22,
   "metadata": {},
   "outputs": [],
   "source": [
    "toplot3[toplot3$Trait_Description %like% \"Diabetes\" & toplot3$Number_Signals_with_Annotation %in% 1:5,]$Number_Signals_with_Annotation = NA\n"
   ]
  },
  {
   "cell_type": "code",
   "execution_count": 23,
   "metadata": {},
   "outputs": [],
   "source": [
    "toplot3[toplot3$Trait_Description %like% \"LDL\" & toplot3$Number_Signals_with_Annotation %in% 1:5,]$Number_Signals_with_Annotation = NA\n",
    "toplot3[toplot3$Trait_Description %like% \"HDL\" & toplot3$Number_Signals_with_Annotation %in% 1:10,]$Number_Signals_with_Annotation = NA\n",
    "toplot3[toplot3$Trait_Description %like% \"Glucose\" & toplot3$Number_Signals_with_Annotation == 1,]$Number_Signals_with_Annotation = NA\n"
   ]
  },
  {
   "cell_type": "markdown",
   "metadata": {},
   "source": [
    "## **plot bars for each trait individually**"
   ]
  },
  {
   "cell_type": "code",
   "execution_count": 22,
   "metadata": {},
   "outputs": [],
   "source": [
    "# horizontal orientation\n",
    "# psize(w = 20, h = 12)\n",
    "# p0 = ggplot(toplot3, aes(x = Pct_Signals_Colocalized_with_Annotation, \n",
    "#                     y = Y_label, \n",
    "#                     fill = QTL_Annotations, \n",
    "#                     label = Number_Signals_with_Annotation)) + \n",
    "#     geom_bar(stat = \"identity\", color = \"black\") + \n",
    "#     jn_classic + \n",
    "#     theme(\n",
    "#         legend.text = element_text(size = 20),\n",
    "#         legend.title = element_text(size = 20),\n",
    "#         axis.text = element_text(size = 20)\n",
    "#     ) + xlab(\"\") + ylab(\"\") + \n",
    "#     scale_fill_manual(values = c(\"#b22e18\",\n",
    "#                                  \"#87b6db\",\n",
    "#                                  \"#fbbc33\", \n",
    "#                                  \"#b57b75\",\n",
    "#                                  \"#80b366\",\n",
    "#                                  \"#f4cccc\",\n",
    "#                                  \"#a38dbe\"), \n",
    "#                       name = \"Colocalized with  \") +\n",
    "#      geom_text(position = position_stack(vjust = 0.5), size = 8) +\n",
    "#      geom_text(data = toplot3, \n",
    "#                aes(x = Total_Pct_Colocalized, y = Y_label, label = Bar_Label), color = \"black\",  hjust = -0.2, size = 7) + \n",
    "#      xlim(0, 25)\n",
    "\n",
    "# p0"
   ]
  },
  {
   "cell_type": "code",
   "execution_count": 32,
   "metadata": {},
   "outputs": [
    {
     "name": "stderr",
     "output_type": "stream",
     "text": [
      "Warning message:\n",
      "“\u001b[1m\u001b[22mRemoved 12 rows containing missing values or values outside the scale range\n",
      "(`geom_text()`).”\n"
     ]
    },
    {
     "data": {
      "image/png": "[encoded data removed]",
      "text/plain": [
       "plot without title"
      ]
     },
     "metadata": {
      "image/png": {
       "height": 330,
       "width": 330
      }
     },
     "output_type": "display_data"
    }
   ],
   "source": [
    "psize(w = 5.5, h = 5.5)\n",
    "# png(\"~/projects/Resource/notebooks/toGitHub/figures/figure5a.png\",\n",
    "#    res=300,units=\"in\",width=18,height=15)\n",
    "p0 = ggplot(toplot3 , \n",
    "            aes(y = Pct_Signals_Colocalized_with_Annotation, \n",
    "                x = Y_label, \n",
    "                fill = QTL_Annotations, \n",
    "                label = Number_Signals_with_Annotation)) + \n",
    "    geom_bar(stat = \"identity\", color = \"black\") + \n",
    "    jn_classic + \n",
    "    theme(\n",
    "        legend.text = element_text(size = 8),\n",
    "        legend.title = element_text(size = 8),\n",
    "        axis.text = element_text(size = 8),\n",
    "        axis.text.x = element_text(angle = 90, hjust = 1, vjust = 0.5),\n",
    "        legend.position = c(0.8, 0.8),\n",
    "        axis.title.y = element_text(size = 10)\n",
    "    ) + xlab(\"\") + ylab(\"Percent of Colocalized GWAS Loci\")+\n",
    "    scale_fill_manual(values = c(\"#b22e18\",\n",
    "                                 \"#87b6db\",\n",
    "                                 \"#fbbc33\", \n",
    "                                 \"#b57b75\",\n",
    "                                 \"#80b366\",\n",
    "                                 \"#f4cccc\",\n",
    "                                 \"#a38dbe\"), \n",
    "                      name = \"Colocalized with  \") +\n",
    "     geom_text(position = position_stack(vjust = 0.5), size = 2.5, fontface = \"bold\") +\n",
    "     geom_text(data = toplot3, \n",
    "               aes(y = Total_Pct_Colocalized, x = Y_label, label = Bar_Label), color = \"black\", vjust = -0.2, size = 2.5,fontface = \"bold\") + \n",
    "     ylim(0, 30)\n",
    "\n",
    "p0\n",
    "# dev.off()"
   ]
  },
  {
   "cell_type": "markdown",
   "metadata": {},
   "source": [
    "## **plot all traits together**"
   ]
  },
  {
   "cell_type": "code",
   "execution_count": 33,
   "metadata": {},
   "outputs": [],
   "source": [
    "all[all$Trait_Description %like% \"All\" & all$Number_Signals_with_Annotation < 17,]$Number_Signals_with_Annotation = NA\n"
   ]
  },
  {
   "cell_type": "code",
   "execution_count": 37,
   "metadata": {},
   "outputs": [
    {
     "name": "stderr",
     "output_type": "stream",
     "text": [
      "Warning message in geom_text(data = all, aes(y = Total_Pct_Colocalized, x = Y_label, :\n",
      "“\u001b[1m\u001b[22mIgnoring unknown parameters: `fill`”\n",
      "Warning message:\n",
      "“\u001b[1m\u001b[22mRemoved 1 row containing missing values or values outside the scale range\n",
      "(`geom_text()`).”\n"
     ]
    },
    {
     "data": {
      "image/png": "[encoded data removed]",
      "text/plain": [
       "plot without title"
      ]
     },
     "metadata": {
      "image/png": {
       "height": 330,
       "width": 60
      }
     },
     "output_type": "display_data"
    }
   ],
   "source": [
    "p1 = ggplot(all %>% mutate(Number_Signals_with_Annotation = ifelse(Number_Signals_with_Annotation == 12, NA, Number_Signals_with_Annotation)), aes(y = Pct_Signals_Colocalized_with_Annotation, \n",
    "                     x = Y_label, fill = QTL_Annotations, \n",
    "                     label = Number_Signals_with_Annotation)) + \n",
    "    geom_bar(stat = \"identity\", color = \"black\") + \n",
    "    jn_classic + \n",
    "    theme(\n",
    "#         legend.position = \"none\",\n",
    "        legend.text = element_text(size = 8),\n",
    "        legend.title = element_text(size = 8),\n",
    "        axis.text = element_text(size = 8),\n",
    "        legend.position = \"none\",\n",
    "        axis.text.x = element_text(angle = 90, hjust = 1, vjust = 0.5, size=8),\n",
    "        axis.title.y = element_blank()\n",
    "    ) + xlab(\"\") +\n",
    "    scale_fill_manual(values = c(\"#b22e18\",\n",
    "                                 \"#87b6db\",\n",
    "                                 \"#fbbc33\", \n",
    "                                 \"#b57b75\",\n",
    "                                 \"#80b366\",\n",
    "                                 \"#f4cccc\",\n",
    "                                 \"#a38dbe\"), \n",
    "                      name = \"Colocalized with  \") +\n",
    "     geom_text(position = position_stack(vjust = 0.5), size = 2.5, fontface = \"bold\") +\n",
    "     geom_text(data = all, aes(y = Total_Pct_Colocalized, x = Y_label, label = Bar_Label), \n",
    "               color = \"black\", fill = \"black\", vjust = -0.2, size = 2.5, fontface = \"bold\") + \n",
    "     ylim(0, 30)\n",
    "\n",
    "psize(w = 1, h = 5.5)\n",
    "# png(\"~/projects/Resource/notebooks/toGitHub/figures/figure5a_all.png\",\n",
    "#    res=300,units=\"in\",width=5,height=15)\n",
    "p1\n",
    "# dev.off()\n"
   ]
  },
  {
   "cell_type": "markdown",
   "metadata": {},
   "source": [
    "## **combine plots**"
   ]
  },
  {
   "cell_type": "code",
   "execution_count": 39,
   "metadata": {},
   "outputs": [
    {
     "name": "stderr",
     "output_type": "stream",
     "text": [
      "Warning message:\n",
      "“\u001b[1m\u001b[22mRemoved 12 rows containing missing values or values outside the scale range\n",
      "(`geom_text()`).”\n",
      "Warning message:\n",
      "“\u001b[1m\u001b[22mRemoved 1 row containing missing values or values outside the scale range\n",
      "(`geom_text()`).”\n"
     ]
    },
    {
     "data": {
      "text/html": [
       "<strong>pdf:</strong> 2"
      ],
      "text/latex": [
       "\\textbf{pdf:} 2"
      ],
      "text/markdown": [
       "**pdf:** 2"
      ],
      "text/plain": [
       "pdf \n",
       "  2 "
      ]
     },
     "metadata": {},
     "output_type": "display_data"
    }
   ],
   "source": [
    "psize(w = 6.5, h = 5.5)\n",
    "p2 = plot_grid(p0 + theme(legend.position = \"none\"), \n",
    "               p1, ncol = 2, align = \"hv\", rel_widths = c(1, 0.18))\n",
    "\n",
    "png(\"~/projects/Resource/figures/Revisions/figure5ab.png\",res=300,units=\"in\",width=6.5,height=5.5)\n",
    "p2\n",
    "dev.off()"
   ]
  },
  {
   "cell_type": "markdown",
   "metadata": {},
   "source": [
    "### reverse order of legend labels"
   ]
  },
  {
   "cell_type": "code",
   "execution_count": 27,
   "metadata": {},
   "outputs": [],
   "source": [
    "qtl_order = c(\"caQTL\", \"haQTL\", \"eQTL\", \"caQTL,haQTL\", \"caQTL,eQTL\", \"eQTL,haQTL\", \"caQTL,eQTL,haQTL\")\n",
    "toplot3$QTL_Annotations = factor(toplot3$QTL_Annotations, levels = qtl_order)"
   ]
  },
  {
   "cell_type": "markdown",
   "metadata": {},
   "source": [
    "### plot using reversed order of colors"
   ]
  },
  {
   "cell_type": "code",
   "execution_count": 40,
   "metadata": {},
   "outputs": [
    {
     "name": "stderr",
     "output_type": "stream",
     "text": [
      "Warning message:\n",
      "“\u001b[1m\u001b[22mRemoved 12 rows containing missing values or values outside the scale range\n",
      "(`geom_text()`).”\n",
      "Warning message in get_plot_component(plot, \"guide-box\"):\n",
      "“Multiple components found; returning the first one. To return all, use `return_all = TRUE`.”\n"
     ]
    },
    {
     "data": {
      "image/png": "[encoded data removed]",
      "text/plain": [
       "plot without title"
      ]
     },
     "metadata": {
      "image/png": {
       "height": 180,
       "width": 960
      }
     },
     "output_type": "display_data"
    }
   ],
   "source": [
    "psize(w = 16, h = 3)\n",
    "p0 = ggplot(toplot3, aes(x = Pct_Signals_Colocalized_with_Annotation, y = Trait_Description, fill = QTL_Annotations, label = Number_Signals_with_Annotation)) + \n",
    "    geom_bar(stat = \"identity\", color = \"black\") + \n",
    "    jn_classic + \n",
    "    theme(\n",
    "#         legend.position = \"none\",\n",
    "        legend.text = element_text(size = 8),\n",
    "        legend.title = element_text(size = 8)\n",
    "    ) + xlab(\"\") + ylab(\"\") + \n",
    "    scale_fill_manual(values = c(\"#b22e18\",\n",
    "                                 \"#87b6db\",\n",
    "                                 \"#fbbc33\", \n",
    "                                 \"#b57b75\",\n",
    "                                 \"#80b366\",\n",
    "                                 \"#f4cccc\",\n",
    "                                 \"#a38dbe\"), \n",
    "                      name = \"Colocalized with  \") +\n",
    "     geom_text(position = position_stack(vjust = 0.5), size = 2.5) +\n",
    "     geom_text(data = toplot3, aes(x = Total_Pct_Colocalized, y = Trait_Description, label = Bar_Label), color = \"black\",  hjust = -0.2, size = 2.5) + \n",
    "     xlim(0, 40)\n",
    "\n",
    "library(grid)\n",
    "# png(\"~/projects/Resource/notebooks/toGitHub/figures/figure5a_legend_v2.png\",res=300,units=\"in\",width=3,height=3)\n",
    "plot_grid(get_legend(p0))\n",
    "# dev.off()"
   ]
  },
  {
   "cell_type": "code",
   "execution_count": 41,
   "metadata": {},
   "outputs": [
    {
     "name": "stderr",
     "output_type": "stream",
     "text": [
      "Warning message:\n",
      "“\u001b[1m\u001b[22mRemoved 12 rows containing missing values or values outside the scale range\n",
      "(`geom_text()`).”\n",
      "Warning message in get_plot_component(plot, \"guide-box\"):\n",
      "“Multiple components found; returning the first one. To return all, use `return_all = TRUE`.”\n"
     ]
    },
    {
     "data": {
      "text/html": [
       "<strong>pdf:</strong> 2"
      ],
      "text/latex": [
       "\\textbf{pdf:} 2"
      ],
      "text/markdown": [
       "**pdf:** 2"
      ],
      "text/plain": [
       "pdf \n",
       "  2 "
      ]
     },
     "metadata": {},
     "output_type": "display_data"
    }
   ],
   "source": [
    "png(\"~/projects/Resource/figures/Revisions/figure5ab_legend.png\",res=300,units=\"in\",width=3,height=3)\n",
    "plot_grid(get_legend(p0))\n",
    "dev.off()"
   ]
  },
  {
   "cell_type": "markdown",
   "metadata": {},
   "source": [
    "### Figure 5cd"
   ]
  },
  {
   "cell_type": "code",
   "execution_count": 101,
   "metadata": {},
   "outputs": [
    {
     "data": {
      "text/plain": [
       "\n",
       "\tWilcoxon rank sum test with continuity correction\n",
       "\n",
       "data:  cd_data$distance[cd_data$coloced == \"TRUE\"] and cd_data$distance[cd_data$coloced == \"FALSE\"]\n",
       "W = 1032557, p-value = 1.218e-11\n",
       "alternative hypothesis: true location shift is not equal to 0\n"
      ]
     },
     "metadata": {},
     "output_type": "display_data"
    },
    {
     "name": "stderr",
     "output_type": "stream",
     "text": [
      "Warning message:\n",
      "“\u001b[1m\u001b[22mRemoved 604 rows containing non-finite outside the scale range\n",
      "(`stat_boxplot()`).”\n"
     ]
    },
    {
     "data": {
      "image/png": "[encoded data removed]",
      "text/plain": [
       "plot without title"
      ]
     },
     "metadata": {
      "image/png": {
       "height": 90,
       "width": 180
      }
     },
     "output_type": "display_data"
    }
   ],
   "source": [
    "cd_data = fread(\"~/projects/Resource/iPSCORE_Multi-QTL_Resource/SourceData/SOURCEDATA.FIGURE5CD.txt\",sep=\"\\t\",data.table=F)\n",
    "cd_data$Colocalized = ifelse(cd_data$coloced == \"TRUE\",\"Colocalized\",\"Not\\nColocalized\")\n",
    "psize(3,1.5)\n",
    "cd_data$Colocalized = factor(cd_data$Colocalized, levels = c(\"Not\\nColocalized\",\"Colocalized\"))\n",
    "d = ggplot(cd_data, aes(Colocalized, distance/1000, group=Colocalized)) + theme_bw2 + \n",
    "        theme(axis.text = element_text(size = 8),\n",
    "             axis.title = element_text(size = 8)) +\n",
    "        xlab(\"\") + ylab(\"Distance to\\nNearest TSS (kb)\") + ylim(c(0,250)) +\n",
    "        geom_boxplot(outlier.shape = NA) + coord_flip() \n",
    "wilcox.test(cd_data$distance[ cd_data$coloced == \"TRUE\"],\n",
    "            cd_data$distance[ cd_data$coloced == \"FALSE\"])\n",
    "d"
   ]
  },
  {
   "cell_type": "code",
   "execution_count": 102,
   "metadata": {},
   "outputs": [
    {
     "data": {
      "text/html": [
       "<style>\n",
       ".list-inline {list-style: none; margin:0; padding: 0}\n",
       ".list-inline>li {display: inline-block}\n",
       ".list-inline>li:not(:last-child)::after {content: \"\\00b7\"; padding: 0 .5ex}\n",
       "</style>\n",
       "<ol class=list-inline><li>'eQTL,haQTL'</li><li>'caQTL'</li><li>'eQTL'</li><li>'haQTL'</li><li>'caQTL,haQTL'</li><li>'caQTL,eQTL,haQTL'</li><li>'caQTL,eQTL'</li></ol>\n"
      ],
      "text/latex": [
       "\\begin{enumerate*}\n",
       "\\item 'eQTL,haQTL'\n",
       "\\item 'caQTL'\n",
       "\\item 'eQTL'\n",
       "\\item 'haQTL'\n",
       "\\item 'caQTL,haQTL'\n",
       "\\item 'caQTL,eQTL,haQTL'\n",
       "\\item 'caQTL,eQTL'\n",
       "\\end{enumerate*}\n"
      ],
      "text/markdown": [
       "1. 'eQTL,haQTL'\n",
       "2. 'caQTL'\n",
       "3. 'eQTL'\n",
       "4. 'haQTL'\n",
       "5. 'caQTL,haQTL'\n",
       "6. 'caQTL,eQTL,haQTL'\n",
       "7. 'caQTL,eQTL'\n",
       "\n",
       "\n"
      ],
      "text/plain": [
       "[1] \"eQTL,haQTL\"       \"caQTL\"            \"eQTL\"             \"haQTL\"           \n",
       "[5] \"caQTL,haQTL\"      \"caQTL,eQTL,haQTL\" \"caQTL,eQTL\"      "
      ]
     },
     "metadata": {},
     "output_type": "display_data"
    }
   ],
   "source": [
    "c_data = cd_data[ cd_data$coloced == \"TRUE\",]\n",
    "unique(c_data$qtl_collapse)\n",
    "cd_data$Colocalized = ifelse(cd_data$coloced == \"TRUE\",\"Colocalized\",\"Not\\nColocalized\")\n",
    "psize(3,2)\n",
    "c = ggplot(c_data, aes(reorder(qtl_collapse, distance/1000), distance/1000, group=qtl_collapse)) + theme_bw2 + \n",
    "        theme(axis.text = element_text(size = 8),\n",
    "             axis.title = element_text(size = 8)) +\n",
    "        xlab(\"\") + ylab(\"Distance to\\nNearest TSS (kb)\") + ylim(c(0,350)) +\n",
    "        geom_boxplot(outlier.shape = NA) + geom_jitter(size=0.25) + coord_flip() "
   ]
  },
  {
   "cell_type": "code",
   "execution_count": 103,
   "metadata": {},
   "outputs": [
    {
     "name": "stderr",
     "output_type": "stream",
     "text": [
      "Warning message:\n",
      "“\u001b[1m\u001b[22mRemoved 13 rows containing non-finite outside the scale range\n",
      "(`stat_boxplot()`).”\n",
      "Warning message:\n",
      "“\u001b[1m\u001b[22mRemoved 13 rows containing missing values or values outside the scale range\n",
      "(`geom_point()`).”\n",
      "Warning message:\n",
      "“\u001b[1m\u001b[22mRemoved 604 rows containing non-finite outside the scale range\n",
      "(`stat_boxplot()`).”\n"
     ]
    },
    {
     "data": {
      "text/html": [
       "<strong>pdf:</strong> 2"
      ],
      "text/latex": [
       "\\textbf{pdf:} 2"
      ],
      "text/markdown": [
       "**pdf:** 2"
      ],
      "text/plain": [
       "pdf \n",
       "  2 "
      ]
     },
     "metadata": {},
     "output_type": "display_data"
    }
   ],
   "source": [
    "psize(2.5,2.7)\n",
    "png(\"~/projects/Resource/figures/Revisions/Figure5CD.png\",units=\"in\",res=300,height=3,width=2.5)\n",
    "plot_grid(c,d,nrow=2, align = \"v\", rel_heights = c(1.3,1))\n",
    "dev.off()"
   ]
  },
  {
   "cell_type": "markdown",
   "metadata": {},
   "source": [
    "### Figure 5e"
   ]
  },
  {
   "cell_type": "code",
   "execution_count": 114,
   "metadata": {},
   "outputs": [],
   "source": [
    "e_data = fread(\"~/projects/Resource/iPSCORE_Multi-QTL_Resource/SourceData/SOURCEDATA.FIGURE5E.txt\",sep=\"\\t\",data.table=F)\n"
   ]
  },
  {
   "cell_type": "code",
   "execution_count": 119,
   "metadata": {},
   "outputs": [
    {
     "data": {
      "text/html": [
       "<strong>pdf:</strong> 2"
      ],
      "text/latex": [
       "\\textbf{pdf:} 2"
      ],
      "text/markdown": [
       "**pdf:** 2"
      ],
      "text/plain": [
       "pdf \n",
       "  2 "
      ]
     },
     "metadata": {},
     "output_type": "display_data"
    }
   ],
   "source": [
    "psize(w = 4, h = 4)\n",
    "toplot = e_data\n",
    "order = e_data %>% filter(tissue %like% \"All\") %>% arrange(log2(estimate))\n",
    "order = rev(order$qtl_combo)\n",
    "toplot$qtl_combo = factor(toplot$qtl_combo, levels = order)\n",
    "toplot$is_sig = ifelse(toplot$is_sig == F, \"Not Significant\", \"Significant\")\n",
    "# toplot$is_sig = factor(toplot$is_sig, levels = c(\"Significant\",\"Not Significant\"))\n",
    "psize(2.75,3)\n",
    "png(\"~/projects/Resource/figures/Revisions/figure5e.png\", res =300, units =\"in\", height =3,width=2.75)\n",
    "ggplot(toplot %>% filter(tissue %like% \"All\"), aes(x = qtl_combo, y = log2(estimate), color = is_sig)) + \n",
    "    geom_point(size = 2) + \n",
    "#     facet_wrap(.~tissue, nrow = 1, scales = \"free_x\") + \n",
    "    jn_classic + \n",
    "    theme(axis.text = element_text(angle = 90, hjust = 1, vjust = 0.5, size=8),\n",
    "          strip.text = element_text(size = 8),\n",
    "          axis.title = element_text(size=8),\n",
    "          legend.position = \"none\"\n",
    "#           legend.position = \"none\", legend.text=element_text(size=8),\n",
    "         ) + \n",
    "    geom_hline(yintercept = 0, linetype = \"dashed\") + \n",
    "    xlab(\"\") + ylim(-1.5, 2.5) + \n",
    "    scale_color_manual(values = c(\"gray\", \"black\"), name = \"\") +\n",
    "    geom_segment(data = toplot %>% filter(tissue %like% \"All\" & is_sig == \"Not Significant\"),\n",
    "                 aes(x = qtl_combo, xend = qtl_combo, y = logci1, yend = logci2), color = \"grey\") + \n",
    "    geom_segment(data = toplot %>% filter(tissue %like% \"All\" & is_sig == \"Significant\"), \n",
    "                 aes(x = qtl_combo, xend = qtl_combo, y = logci1, yend = logci2), color = \"black\")  + \n",
    "    ylab(\"log2(OR)\")\n",
    "dev.off()"
   ]
  },
  {
   "cell_type": "markdown",
   "metadata": {},
   "source": [
    "### Supplemental Figure 12"
   ]
  },
  {
   "cell_type": "code",
   "execution_count": 33,
   "metadata": {},
   "outputs": [
    {
     "data": {
      "image/png": "[encoded data removed]",
      "text/plain": [
       "plot without title"
      ]
     },
     "metadata": {
      "image/png": {
       "height": 300,
       "width": 420
      }
     },
     "output_type": "display_data"
    }
   ],
   "source": [
    "psize(w = 7, h = 5)\n",
    "toplot = b_data[ b_data$tissue != \"All tissues\",]\n",
    "toplot$qtl_combo = gsub(\"Module\",\"Complex\",toplot$qtl_combo)\n",
    "order = b_data %>% filter(tissue %like% \"All\") %>% arrange(log2(estimate))\n",
    "order2 = gsub(\"Module\",\"Complex\",rev(order$qtl_combo))\n",
    "toplot$qtl_combo = factor(toplot$qtl_combo, levels = order2)\n",
    "toplot$tissue = factor(toplot$tissue, levels = c(\"iPSC\",\"CVPC\",\"PPC\"))\n",
    "toplot$logci1[ toplot$logci1 < -3 ] =-3\n",
    "toplot$logci2[ toplot$logci2 > 3 ] =3\n",
    "toplot$is_sig = ifelse(toplot$is_sig == F, \"Not Significant\", \"Significant\")\n",
    "ggplot(toplot, aes(x = qtl_combo, y = log2(estimate), color = is_sig)) + \n",
    "    geom_point(size = 3) + \n",
    "    facet_wrap(.~tissue, nrow = 1, scales = \"free_x\") + \n",
    "    theme_bw2 + \n",
    "    theme(axis.text.x = element_text(angle = 90, hjust = 1, vjust = 0.5),\n",
    "          strip.text = element_text(size = 10), legend.title=element_blank()) + \n",
    "    geom_hline(yintercept = 0, linetype = \"dashed\") + \n",
    "    xlab(\"\") + ylim(-3,3) + \n",
    "    scale_color_manual(values = c(\"gray\", \"black\")) +\n",
    "    geom_segment(data = toplot %>% filter(is_sig == \"Not Significant\"), aes(x = qtl_combo, xend = qtl_combo, y = logci1, yend = logci2), color = \"grey\") + \n",
    "    geom_segment(data = toplot %>% filter(is_sig == \"Significant\"), aes(x = qtl_combo, xend = qtl_combo, y = logci1, yend = logci2), color = \"black\") +\n",
    "    ylab(\"log2(OR)\") "
   ]
  },
  {
   "cell_type": "code",
   "execution_count": null,
   "metadata": {},
   "outputs": [],
   "source": []
  }
 ],
 "metadata": {
  "kernelspec": {
   "display_name": "R 4.2.1",
   "language": "R",
   "name": "ir421"
  },
  "language_info": {
   "codemirror_mode": "r",
   "file_extension": ".r",
   "mimetype": "text/x-r-source",
   "name": "R",
   "pygments_lexer": "r",
   "version": "4.2.1"
  }
 },
 "nbformat": 4,
 "nbformat_minor": 2
}
