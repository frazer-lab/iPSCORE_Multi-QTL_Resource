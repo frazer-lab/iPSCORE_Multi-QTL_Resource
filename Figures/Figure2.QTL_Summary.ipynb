{
 "cells": [
  {
   "cell_type": "code",
   "execution_count": 1,
   "metadata": {},
   "outputs": [
    {
     "data": {
      "text/html": [
       "<style>\n",
       ".list-inline {list-style: none; margin:0; padding: 0}\n",
       ".list-inline>li {display: inline-block}\n",
       ".list-inline>li:not(:last-child)::after {content: \"\\00b7\"; padding: 0 .5ex}\n",
       "</style>\n",
       "<ol class=list-inline><li>'figures'</li><li>'input'</li><li>'notebooks'</li><li>'source_data'</li><li>'supplemental_tables'</li></ol>\n"
      ],
      "text/latex": [
       "\\begin{enumerate*}\n",
       "\\item 'figures'\n",
       "\\item 'input'\n",
       "\\item 'notebooks'\n",
       "\\item 'source\\_data'\n",
       "\\item 'supplemental\\_tables'\n",
       "\\end{enumerate*}\n"
      ],
      "text/markdown": [
       "1. 'figures'\n",
       "2. 'input'\n",
       "3. 'notebooks'\n",
       "4. 'source_data'\n",
       "5. 'supplemental_tables'\n",
       "\n",
       "\n"
      ],
      "text/plain": [
       "[1] \"figures\"             \"input\"               \"notebooks\"          \n",
       "[4] \"source_data\"         \"supplemental_tables\""
      ]
     },
     "metadata": {},
     "output_type": "display_data"
    }
   ],
   "source": [
    "source(\"~/software/notebook_assist/functions.R\")\n",
    "source(\"~/software/notebook_assist/packages.R\")\n",
    "\n",
    "setwd(\"../\")\n",
    "list.files()"
   ]
  },
  {
   "cell_type": "code",
   "execution_count": 2,
   "metadata": {},
   "outputs": [],
   "source": [
    "eqtl_path = \"supplemental_tables/Table_SX_eQTLs.For_Print.txt\"\n",
    "caqtl_path = \"supplemental_tables/Table_SX_caQTLs.For_Print.txt\"\n",
    "haqtl_path = \"supplemental_tables/Table_SX_haQTLs.For_Print.txt\""
   ]
  },
  {
   "cell_type": "code",
   "execution_count": 10,
   "metadata": {},
   "outputs": [
    {
     "data": {
      "text/html": [
       "<style>\n",
       ".list-inline {list-style: none; margin:0; padding: 0}\n",
       ".list-inline>li {display: inline-block}\n",
       ".list-inline>li:not(:last-child)::after {content: \"\\00b7\"; padding: 0 .5ex}\n",
       "</style>\n",
       "<ol class=list-inline><li>'Tissue'</li><li>'Element ID'</li><li>'Condition'</li><li>'Element Cond'</li><li>'Element Name'</li><li>'Element Chrom'</li><li>'Element Start'</li><li>'Element End'</li><li>'SNP ID'</li><li>'SNP Chrom'</li><li>'SNP Pos'</li><li>'Ref'</li><li>'Alt'</li><li>'RSID'</li><li>'AF'</li><li>'Beta'</li><li>'SE'</li><li>'P-value'</li><li>'FDR'</li><li>'Tests'</li><li>'Q-value'</li><li>'Significant'</li><li>'Cluster ID'</li><li>'Membership'</li><li>'Fetal-Unique'</li></ol>\n"
      ],
      "text/latex": [
       "\\begin{enumerate*}\n",
       "\\item 'Tissue'\n",
       "\\item 'Element ID'\n",
       "\\item 'Condition'\n",
       "\\item 'Element Cond'\n",
       "\\item 'Element Name'\n",
       "\\item 'Element Chrom'\n",
       "\\item 'Element Start'\n",
       "\\item 'Element End'\n",
       "\\item 'SNP ID'\n",
       "\\item 'SNP Chrom'\n",
       "\\item 'SNP Pos'\n",
       "\\item 'Ref'\n",
       "\\item 'Alt'\n",
       "\\item 'RSID'\n",
       "\\item 'AF'\n",
       "\\item 'Beta'\n",
       "\\item 'SE'\n",
       "\\item 'P-value'\n",
       "\\item 'FDR'\n",
       "\\item 'Tests'\n",
       "\\item 'Q-value'\n",
       "\\item 'Significant'\n",
       "\\item 'Cluster ID'\n",
       "\\item 'Membership'\n",
       "\\item 'Fetal-Unique'\n",
       "\\end{enumerate*}\n"
      ],
      "text/markdown": [
       "1. 'Tissue'\n",
       "2. 'Element ID'\n",
       "3. 'Condition'\n",
       "4. 'Element Cond'\n",
       "5. 'Element Name'\n",
       "6. 'Element Chrom'\n",
       "7. 'Element Start'\n",
       "8. 'Element End'\n",
       "9. 'SNP ID'\n",
       "10. 'SNP Chrom'\n",
       "11. 'SNP Pos'\n",
       "12. 'Ref'\n",
       "13. 'Alt'\n",
       "14. 'RSID'\n",
       "15. 'AF'\n",
       "16. 'Beta'\n",
       "17. 'SE'\n",
       "18. 'P-value'\n",
       "19. 'FDR'\n",
       "20. 'Tests'\n",
       "21. 'Q-value'\n",
       "22. 'Significant'\n",
       "23. 'Cluster ID'\n",
       "24. 'Membership'\n",
       "25. 'Fetal-Unique'\n",
       "\n",
       "\n"
      ],
      "text/plain": [
       " [1] \"Tissue\"        \"Element ID\"    \"Condition\"     \"Element Cond\" \n",
       " [5] \"Element Name\"  \"Element Chrom\" \"Element Start\" \"Element End\"  \n",
       " [9] \"SNP ID\"        \"SNP Chrom\"     \"SNP Pos\"       \"Ref\"          \n",
       "[13] \"Alt\"           \"RSID\"          \"AF\"            \"Beta\"         \n",
       "[17] \"SE\"            \"P-value\"       \"FDR\"           \"Tests\"        \n",
       "[21] \"Q-value\"       \"Significant\"   \"Cluster ID\"    \"Membership\"   \n",
       "[25] \"Fetal-Unique\" "
      ]
     },
     "metadata": {},
     "output_type": "display_data"
    }
   ],
   "source": [
    "colnames(fread(haqtl_path,sep=\"\\t\",data.table=F))"
   ]
  },
  {
   "cell_type": "markdown",
   "metadata": {},
   "source": [
    "### Summarize QTLs - Figure 2a,c,d"
   ]
  },
  {
   "cell_type": "code",
   "execution_count": 336,
   "metadata": {},
   "outputs": [
    {
     "data": {
      "image/png": "[encoded data removed]",
      "text/plain": [
       "plot without title"
      ]
     },
     "metadata": {
      "image/png": {
       "height": 165,
       "width": 165
      }
     },
     "output_type": "display_data"
    },
    {
     "data": {
      "image/png": "[encoded data removed]",
      "text/plain": [
       "plot without title"
      ]
     },
     "metadata": {
      "image/png": {
       "height": 165,
       "width": 165
      }
     },
     "output_type": "display_data"
    },
    {
     "data": {
      "image/png": "[encoded data removed]",
      "text/plain": [
       "plot without title"
      ]
     },
     "metadata": {
      "image/png": {
       "height": 165,
       "width": 165
      }
     },
     "output_type": "display_data"
    }
   ],
   "source": [
    "summarize_qtls = function(path, title, xlabel) {\n",
    "    qtl_df = fread(path, sep=\"\\t\",data.table=F)\n",
    "    qtl_df$QTL = ifelse(qtl_df$Significant == \"TRUE\", 1,0)\n",
    "    qtl_summary = unique(qtl_df %>% group_by(Tissue) %>% \n",
    "                             mutate(Elements_tested = length(unique(`Element ID`))) %>% \n",
    "                            group_by(Tissue,Condition) %>% \n",
    "                            mutate(No_QTLs = sum(QTL)) %>% \n",
    "                            select(Tissue,Condition,Elements_tested,No_QTLs)) %>% \n",
    "                                    mutate(Percent = (No_QTLs/Elements_tested) * 100) %>% \n",
    "                                    rename(Cond_numeric = Condition)\n",
    "    qtl_summary$Condition = ifelse(qtl_summary$Cond_numeric == 0, \"Primary\",\n",
    "                                  paste0(\"Cond. \",qtl_summary$Cond_numeric))\n",
    "    qtl_summary$Condition = factor(qtl_summary$Condition , levels= rev(c(\"Primary\",paste0(\"Cond. \",1:3))))\n",
    "    qtl_summary$Tissue    = factor(qtl_summary$Tissue , levels= c(\"iPSC\",\"CVPC\",\"PPC\"))\n",
    "    p = ggplot(qtl_summary, aes(Percent, Condition, fill = Tissue)) + theme_bw() +\n",
    "                ggtitle(title) + ylab(\"\") + xlab(xlabel) +\n",
    "                xlim(c(0,max(qtl_summary$Percent)+mean(qtl_summary$Percent)+1)) +\n",
    "                theme(legend.position = \"none\", axis.title.x = element_text(size=8)) +\n",
    "                geom_text(aes(label=No_QTLs), position=position_dodge(width=0.9), hjust=-.2, size = 2.5) + \n",
    "                geom_bar(stat= \"identity\", position=\"dodge\") +\n",
    "                scale_fill_manual(values = c(\"lightblue\", \"red\", \"yellow\")) \n",
    "    return(p)\n",
    "    \n",
    "}\n",
    "\n",
    "psize(2.75,2.75)\n",
    "eqtl_summary = summarize_qtls(eqtl_path, \"eQTLs\", \"Percent Expressed\\nGenes\")\n",
    "eqtl_summary\n",
    "caqtl_summary = summarize_qtls(caqtl_path, \"caQTLs\", \"Percent Accessible\\nATAC Peaks\")\n",
    "caqtl_summary\n",
    "haqtl_summary = summarize_qtls(haqtl_path, \"haQTLs\", \"Percent Acetylated\\nH3K27ac Peaks\")\n",
    "haqtl_summary\n"
   ]
  },
  {
   "cell_type": "markdown",
   "metadata": {},
   "source": [
    "### Map distance - Figure 2b,d,f"
   ]
  },
  {
   "cell_type": "code",
   "execution_count": 76,
   "metadata": {},
   "outputs": [],
   "source": [
    "ipsc_topsnp_path=\"input/figure2/iPSC_PP1_SNPs.bed\"\n",
    "cvpc_topsnp_path=\"input/figure2/CVPC_PP1_SNPs.bed\"\n",
    "ppc_topsnp_path=\"input/figure2/PPC_PP1_SNPs.bed\""
   ]
  },
  {
   "cell_type": "code",
   "execution_count": 88,
   "metadata": {},
   "outputs": [],
   "source": [
    "ipsc_topsnp_df = fread(ipsc_topsnp_path, sep=\"\\t\",data.table=F)\n",
    "ipsc_topsnp_df$Tissue = \"iPSC\"\n",
    "\n",
    "cvpc_topsnp_df = fread(cvpc_topsnp_path, sep=\"\\t\",data.table=F)\n",
    "cvpc_topsnp_df$Tissue = \"CVPC\"\n",
    "\n",
    "ppc_topsnp_df = fread(ppc_topsnp_path, sep=\"\\t\",data.table=F)\n",
    "ppc_topsnp_df$Tissue = \"PPC\"\n",
    "top_snps = as.data.frame(rbindlist(list(ipsc_topsnp_df,\n",
    "                                       cvpc_topsnp_df,\n",
    "                                       ppc_topsnp_df))) %>%\n",
    "                            rename(`SNP Chromsome` = V1, `SNP Start` = V2, `SNP End` = V3,\n",
    "                                  `SNP PP` = V4, `Element Cond` = V5)\n"
   ]
  },
  {
   "cell_type": "code",
   "execution_count": 114,
   "metadata": {},
   "outputs": [],
   "source": [
    "process_qtls = function(qtl_path) {\n",
    "    qtl_df = fread(qtl_path,sep=\"\\t\",data.table=F) %>% \n",
    "                    filter(Significant == \"TRUE\") %>% \n",
    "                    select(Tissue, `Element ID`, Condition, `Element Cond`, \n",
    "                           `Element Chrom`,`Element Start`,`Element End`)\n",
    "    return(qtl_df)\n",
    "}\n",
    "\n",
    "all_qtls = as.data.frame(rbindlist(list(process_qtls(eqtl_path),\n",
    "                          process_qtls(caqtl_path),\n",
    "                          process_qtls(haqtl_path))))\n",
    "\n",
    "gencode = fread(\"/reference/private/Gencode.v44lift38/gene_info.txt\",sep=\"\\t\",data.table=F)[,4:5] %>% \n",
    "                rename(Strand = strand, `Element ID` = gene_id)\n",
    "\n",
    "all_qtls = merge(all_qtls, gencode[ gencode$`Element ID` %in% all_qtls$`Element ID`,],all=TRUE,by=\"Element ID\")"
   ]
  },
  {
   "cell_type": "code",
   "execution_count": 338,
   "metadata": {},
   "outputs": [
    {
     "data": {
      "text/html": [
       "36559"
      ],
      "text/latex": [
       "36559"
      ],
      "text/markdown": [
       "36559"
      ],
      "text/plain": [
       "[1] 36559"
      ]
     },
     "metadata": {},
     "output_type": "display_data"
    }
   ],
   "source": [
    "nrow(fread(caqtl_path, sep=\"\\t\",data.table=F) %>% filter(Significant == \"TRUE\"))"
   ]
  },
  {
   "cell_type": "code",
   "execution_count": 117,
   "metadata": {},
   "outputs": [],
   "source": [
    "all_qtl_snps = merge(all_qtls, top_snps, by=c(\"Tissue\",\"Element Cond\"))\n"
   ]
  },
  {
   "cell_type": "code",
   "execution_count": 120,
   "metadata": {},
   "outputs": [],
   "source": [
    "all_qtl_snps$test_start = ifelse(grepl(\"^E\",all_qtl_snps$`Element ID`) & all_qtl_snps$Strand == \"+\", \n",
    "                                 all_qtl_snps$`Element Start`-1000, \n",
    "                                ifelse(grepl(\"^E\",all_qtl_snps$`Element ID`) & all_qtl_snps$Strand == \"-\", \n",
    "                                      all_qtl_snps$`Element End`-1000, all_qtl_snps$`Element Start`))\n",
    "\n",
    "all_qtl_snps$test_end = ifelse(grepl(\"^E\",all_qtl_snps$`Element ID`) & all_qtl_snps$Strand == \"+\", \n",
    "                                 all_qtl_snps$`Element Start`+1000, \n",
    "                                ifelse(grepl(\"^E\",all_qtl_snps$`Element ID`) & all_qtl_snps$Strand == \"-\", \n",
    "                                      all_qtl_snps$`Element End`+1000, all_qtl_snps$`Element End`))\n"
   ]
  },
  {
   "cell_type": "code",
   "execution_count": 137,
   "metadata": {},
   "outputs": [],
   "source": [
    "calculate_min_distance = function(df) {\n",
    "\n",
    "  distances = numeric(nrow(df))\n",
    "\n",
    "  for (i in 1:nrow(df)) {\n",
    "    position = df$`SNP End`[i]\n",
    "    start = df$test_start[i]\n",
    "    end = df$test_end[i]\n",
    "\n",
    "    if (position >= start && position <= end) {\n",
    "      distances[i] = 0\n",
    "    } else {\n",
    "      distances[i] = min(abs(position - start), abs(position - end))\n",
    "    }\n",
    "  }\n",
    "\n",
    "\n",
    "    df$min_distance = distances\n",
    "    df = unique(df %>% group_by(Tissue,`Element ID`,Condition) %>% \n",
    "        summarise(Tissue = Tissue, `Element ID` = `Element ID`, Condition = Condition, Closest = min(min_distance)))\n",
    "  return(df)\n",
    "}"
   ]
  },
  {
   "cell_type": "code",
   "execution_count": 145,
   "metadata": {},
   "outputs": [
    {
     "name": "stderr",
     "output_type": "stream",
     "text": [
      "Warning message:\n",
      "“\u001b[1m\u001b[22mReturning more (or less) than 1 row per `summarise()` group was deprecated in\n",
      "dplyr 1.1.0.\n",
      "\u001b[36mℹ\u001b[39m Please use `reframe()` instead.\n",
      "\u001b[36mℹ\u001b[39m When switching from `summarise()` to `reframe()`, remember that `reframe()`\n",
      "  always returns an ungrouped data frame and adjust accordingly.”\n",
      "\u001b[1m\u001b[22m`summarise()` has grouped output by 'Tissue', 'Element ID', 'Condition'. You\n",
      "can override using the `.groups` argument.\n"
     ]
    }
   ],
   "source": [
    "snp_distances = calculate_min_distance(all_qtl_snps)\n"
   ]
  },
  {
   "cell_type": "code",
   "execution_count": 146,
   "metadata": {},
   "outputs": [],
   "source": [
    "snp_distances$Annotation =  ifelse(snp_distances$Closest == 0 & grepl(\"^E\",snp_distances$`Element ID`), \"In TSS Window\",\n",
    "                            ifelse(snp_distances$Closest == 0 ,   \"In Peak\",\n",
    "                            ifelse(snp_distances$Closest < 1000 ,  \"0-1kb\",\n",
    "                            ifelse(snp_distances$Closest < 5000 , \"1-5kb\",\n",
    "                            ifelse(snp_distances$Closest < 10000 , \"5-10kb\",\n",
    "                            ifelse(snp_distances$Closest < 25000 , \"10-25kb\",\n",
    "                            ifelse(snp_distances$Closest < 50000 , \"25-50kb\",\n",
    "                            ifelse(snp_distances$Closest < 100000 , \"50-100kb\",\n",
    "                            ifelse(snp_distances$Closest < 250000 , \"100-250kb\",\n",
    "                            ifelse(snp_distances$Closest < 500000 , \"250-500kb\",\">500kb\"))))))))))"
   ]
  },
  {
   "cell_type": "code",
   "execution_count": null,
   "metadata": {},
   "outputs": [],
   "source": []
  },
  {
   "cell_type": "code",
   "execution_count": 151,
   "metadata": {},
   "outputs": [],
   "source": [
    "snp_distances$Cond = ifelse(snp_distances$Condition == 0,\"Primary\",paste0(\"Cond. \",snp_distances$Condition))\n",
    "snp_distances$Cond = factor(snp_distances$Cond, levels = c(\"Primary\",paste0(\"Cond. \",1:3)))\n",
    "snp_distances$Tissue = factor(snp_distances$Tissue, levels = c(\"iPSC\",\"CVPC\",\"PPC\"))"
   ]
  },
  {
   "cell_type": "code",
   "execution_count": 316,
   "metadata": {},
   "outputs": [],
   "source": [
    "fwrite(snp_distances,\"input/figure3/finemap_snp_distances.txt\",sep=\"\\t\",row.names=F, quote=F)"
   ]
  },
  {
   "cell_type": "code",
   "execution_count": 153,
   "metadata": {},
   "outputs": [
    {
     "data": {
      "text/html": [
       "<table class=\"dataframe\">\n",
       "<caption>A grouped_df: 6 × 6</caption>\n",
       "<thead>\n",
       "\t<tr><th scope=col>Tissue</th><th scope=col>Element ID</th><th scope=col>Condition</th><th scope=col>Closest</th><th scope=col>Annotation</th><th scope=col>Cond</th></tr>\n",
       "\t<tr><th scope=col>&lt;fct&gt;</th><th scope=col>&lt;chr&gt;</th><th scope=col>&lt;int&gt;</th><th scope=col>&lt;dbl&gt;</th><th scope=col>&lt;chr&gt;</th><th scope=col>&lt;fct&gt;</th></tr>\n",
       "</thead>\n",
       "<tbody>\n",
       "\t<tr><td>CVPC</td><td>ENSG00000001036.14</td><td>0</td><td> 17437</td><td>10-25kb      </td><td>Primary</td></tr>\n",
       "\t<tr><td>CVPC</td><td>ENSG00000001561.7 </td><td>0</td><td>     0</td><td>In TSS Window</td><td>Primary</td></tr>\n",
       "\t<tr><td>CVPC</td><td>ENSG00000001561.7 </td><td>1</td><td> 30019</td><td>25-50kb      </td><td>Cond. 1</td></tr>\n",
       "\t<tr><td>CVPC</td><td>ENSG00000002016.18</td><td>0</td><td>856092</td><td><span style=white-space:pre-wrap>&gt;500kb       </span></td><td>Primary</td></tr>\n",
       "\t<tr><td>CVPC</td><td>ENSG00000002016.18</td><td>1</td><td>856092</td><td><span style=white-space:pre-wrap>&gt;500kb       </span></td><td>Cond. 1</td></tr>\n",
       "\t<tr><td>CVPC</td><td>ENSG00000002016.18</td><td>2</td><td>856092</td><td><span style=white-space:pre-wrap>&gt;500kb       </span></td><td>Cond. 2</td></tr>\n",
       "</tbody>\n",
       "</table>\n"
      ],
      "text/latex": [
       "A grouped\\_df: 6 × 6\n",
       "\\begin{tabular}{llllll}\n",
       " Tissue & Element ID & Condition & Closest & Annotation & Cond\\\\\n",
       " <fct> & <chr> & <int> & <dbl> & <chr> & <fct>\\\\\n",
       "\\hline\n",
       "\t CVPC & ENSG00000001036.14 & 0 &  17437 & 10-25kb       & Primary\\\\\n",
       "\t CVPC & ENSG00000001561.7  & 0 &      0 & In TSS Window & Primary\\\\\n",
       "\t CVPC & ENSG00000001561.7  & 1 &  30019 & 25-50kb       & Cond. 1\\\\\n",
       "\t CVPC & ENSG00000002016.18 & 0 & 856092 & >500kb        & Primary\\\\\n",
       "\t CVPC & ENSG00000002016.18 & 1 & 856092 & >500kb        & Cond. 1\\\\\n",
       "\t CVPC & ENSG00000002016.18 & 2 & 856092 & >500kb        & Cond. 2\\\\\n",
       "\\end{tabular}\n"
      ],
      "text/markdown": [
       "\n",
       "A grouped_df: 6 × 6\n",
       "\n",
       "| Tissue &lt;fct&gt; | Element ID &lt;chr&gt; | Condition &lt;int&gt; | Closest &lt;dbl&gt; | Annotation &lt;chr&gt; | Cond &lt;fct&gt; |\n",
       "|---|---|---|---|---|---|\n",
       "| CVPC | ENSG00000001036.14 | 0 |  17437 | 10-25kb       | Primary |\n",
       "| CVPC | ENSG00000001561.7  | 0 |      0 | In TSS Window | Primary |\n",
       "| CVPC | ENSG00000001561.7  | 1 |  30019 | 25-50kb       | Cond. 1 |\n",
       "| CVPC | ENSG00000002016.18 | 0 | 856092 | &gt;500kb        | Primary |\n",
       "| CVPC | ENSG00000002016.18 | 1 | 856092 | &gt;500kb        | Cond. 1 |\n",
       "| CVPC | ENSG00000002016.18 | 2 | 856092 | &gt;500kb        | Cond. 2 |\n",
       "\n"
      ],
      "text/plain": [
       "  Tissue Element ID         Condition Closest Annotation    Cond   \n",
       "1 CVPC   ENSG00000001036.14 0          17437  10-25kb       Primary\n",
       "2 CVPC   ENSG00000001561.7  0              0  In TSS Window Primary\n",
       "3 CVPC   ENSG00000001561.7  1          30019  25-50kb       Cond. 1\n",
       "4 CVPC   ENSG00000002016.18 0         856092  >500kb        Primary\n",
       "5 CVPC   ENSG00000002016.18 1         856092  >500kb        Cond. 1\n",
       "6 CVPC   ENSG00000002016.18 2         856092  >500kb        Cond. 2"
      ]
     },
     "metadata": {},
     "output_type": "display_data"
    }
   ],
   "source": [
    "eqtl_distances = snp_distances[ grepl(\"^E\",snp_distances$`Element ID`),]\n",
    "caqtl_distances = snp_distances[ grepl(\"atac\",snp_distances$`Element ID`),]\n",
    "haqtl_distances = snp_distances[ grepl(\"chip\",snp_distances$`Element ID`),]\n"
   ]
  },
  {
   "cell_type": "code",
   "execution_count": 414,
   "metadata": {},
   "outputs": [
    {
     "data": {
      "text/html": [
       "0.473996547259387"
      ],
      "text/latex": [
       "0.473996547259387"
      ],
      "text/markdown": [
       "0.473996547259387"
      ],
      "text/plain": [
       "[1] 0.4739965"
      ]
     },
     "metadata": {},
     "output_type": "display_data"
    },
    {
     "data": {
      "text/html": [
       "<table class=\"dataframe\">\n",
       "<caption>A grouped_df: 12 × 5</caption>\n",
       "<thead>\n",
       "\t<tr><th scope=col>Tissue</th><th scope=col>Cond</th><th scope=col>Annotation</th><th scope=col>n_qtls</th><th scope=col>Percent</th></tr>\n",
       "\t<tr><th scope=col>&lt;fct&gt;</th><th scope=col>&lt;fct&gt;</th><th scope=col>&lt;chr&gt;</th><th scope=col>&lt;int&gt;</th><th scope=col>&lt;dbl&gt;</th></tr>\n",
       "</thead>\n",
       "<tbody>\n",
       "\t<tr><td>CVPC</td><td>Primary</td><td>In TSS Window</td><td> 942</td><td> 6.2616325</td></tr>\n",
       "\t<tr><td>CVPC</td><td>Cond. 1</td><td>In TSS Window</td><td>  74</td><td> 1.3136872</td></tr>\n",
       "\t<tr><td>CVPC</td><td>Cond. 2</td><td>In TSS Window</td><td>  12</td><td> 0.6900518</td></tr>\n",
       "\t<tr><td>CVPC</td><td>Cond. 3</td><td>In TSS Window</td><td>   2</td><td> 0.2002002</td></tr>\n",
       "\t<tr><td>PPC </td><td>Primary</td><td>In TSS Window</td><td> 833</td><td> 5.5370912</td></tr>\n",
       "\t<tr><td>PPC </td><td>Cond. 1</td><td>In TSS Window</td><td>  69</td><td> 1.2249246</td></tr>\n",
       "\t<tr><td>PPC </td><td>Cond. 2</td><td>In TSS Window</td><td>  13</td><td> 0.7475561</td></tr>\n",
       "\t<tr><td>PPC </td><td>Cond. 3</td><td>In TSS Window</td><td>   1</td><td> 0.1001001</td></tr>\n",
       "\t<tr><td>iPSC</td><td>Primary</td><td>In TSS Window</td><td>1739</td><td>11.5594257</td></tr>\n",
       "\t<tr><td>iPSC</td><td>Cond. 1</td><td>In TSS Window</td><td> 266</td><td> 4.7221729</td></tr>\n",
       "\t<tr><td>iPSC</td><td>Cond. 2</td><td>In TSS Window</td><td>  61</td><td> 3.5077631</td></tr>\n",
       "\t<tr><td>iPSC</td><td>Cond. 3</td><td>In TSS Window</td><td>  26</td><td> 2.6026026</td></tr>\n",
       "</tbody>\n",
       "</table>\n"
      ],
      "text/latex": [
       "A grouped\\_df: 12 × 5\n",
       "\\begin{tabular}{lllll}\n",
       " Tissue & Cond & Annotation & n\\_qtls & Percent\\\\\n",
       " <fct> & <fct> & <chr> & <int> & <dbl>\\\\\n",
       "\\hline\n",
       "\t CVPC & Primary & In TSS Window &  942 &  6.2616325\\\\\n",
       "\t CVPC & Cond. 1 & In TSS Window &   74 &  1.3136872\\\\\n",
       "\t CVPC & Cond. 2 & In TSS Window &   12 &  0.6900518\\\\\n",
       "\t CVPC & Cond. 3 & In TSS Window &    2 &  0.2002002\\\\\n",
       "\t PPC  & Primary & In TSS Window &  833 &  5.5370912\\\\\n",
       "\t PPC  & Cond. 1 & In TSS Window &   69 &  1.2249246\\\\\n",
       "\t PPC  & Cond. 2 & In TSS Window &   13 &  0.7475561\\\\\n",
       "\t PPC  & Cond. 3 & In TSS Window &    1 &  0.1001001\\\\\n",
       "\t iPSC & Primary & In TSS Window & 1739 & 11.5594257\\\\\n",
       "\t iPSC & Cond. 1 & In TSS Window &  266 &  4.7221729\\\\\n",
       "\t iPSC & Cond. 2 & In TSS Window &   61 &  3.5077631\\\\\n",
       "\t iPSC & Cond. 3 & In TSS Window &   26 &  2.6026026\\\\\n",
       "\\end{tabular}\n"
      ],
      "text/markdown": [
       "\n",
       "A grouped_df: 12 × 5\n",
       "\n",
       "| Tissue &lt;fct&gt; | Cond &lt;fct&gt; | Annotation &lt;chr&gt; | n_qtls &lt;int&gt; | Percent &lt;dbl&gt; |\n",
       "|---|---|---|---|---|\n",
       "| CVPC | Primary | In TSS Window |  942 |  6.2616325 |\n",
       "| CVPC | Cond. 1 | In TSS Window |   74 |  1.3136872 |\n",
       "| CVPC | Cond. 2 | In TSS Window |   12 |  0.6900518 |\n",
       "| CVPC | Cond. 3 | In TSS Window |    2 |  0.2002002 |\n",
       "| PPC  | Primary | In TSS Window |  833 |  5.5370912 |\n",
       "| PPC  | Cond. 1 | In TSS Window |   69 |  1.2249246 |\n",
       "| PPC  | Cond. 2 | In TSS Window |   13 |  0.7475561 |\n",
       "| PPC  | Cond. 3 | In TSS Window |    1 |  0.1001001 |\n",
       "| iPSC | Primary | In TSS Window | 1739 | 11.5594257 |\n",
       "| iPSC | Cond. 1 | In TSS Window |  266 |  4.7221729 |\n",
       "| iPSC | Cond. 2 | In TSS Window |   61 |  3.5077631 |\n",
       "| iPSC | Cond. 3 | In TSS Window |   26 |  2.6026026 |\n",
       "\n"
      ],
      "text/plain": [
       "   Tissue Cond    Annotation    n_qtls Percent   \n",
       "1  CVPC   Primary In TSS Window  942    6.2616325\n",
       "2  CVPC   Cond. 1 In TSS Window   74    1.3136872\n",
       "3  CVPC   Cond. 2 In TSS Window   12    0.6900518\n",
       "4  CVPC   Cond. 3 In TSS Window    2    0.2002002\n",
       "5  PPC    Primary In TSS Window  833    5.5370912\n",
       "6  PPC    Cond. 1 In TSS Window   69    1.2249246\n",
       "7  PPC    Cond. 2 In TSS Window   13    0.7475561\n",
       "8  PPC    Cond. 3 In TSS Window    1    0.1001001\n",
       "9  iPSC   Primary In TSS Window 1739   11.5594257\n",
       "10 iPSC   Cond. 1 In TSS Window  266    4.7221729\n",
       "11 iPSC   Cond. 2 In TSS Window   61    3.5077631\n",
       "12 iPSC   Cond. 3 In TSS Window   26    2.6026026"
      ]
     },
     "metadata": {},
     "output_type": "display_data"
    }
   ],
   "source": [
    "nrow(haqtl_distances[ haqtl_distances$Annotation %in% c(\"In Peak\") & haqtl_distances$Cond == \"Primary\",])/nrow(haqtl_distances[haqtl_distances$Cond == \"Primary\",])\n",
    "tmp = unique(eqtl_distances %>%  group_by(Cond,Tissue,Annotation) %>% \n",
    "                                    mutate(n_qtls = n()) %>% \n",
    "                                    group_by(Cond) %>% \n",
    "                                      mutate(Percent = (n_qtls/n())*100) %>% \n",
    "                                    select(Tissue, Cond,Annotation, n_qtls,Percent))\n",
    "\n",
    "tmp [ tmp$Annotation == \"In TSS Window\",]"
   ]
  },
  {
   "cell_type": "code",
   "execution_count": 402,
   "metadata": {},
   "outputs": [],
   "source": [
    "distance_plot = function(distance_df, datatype, xlabel, ylabel) {\n",
    "    dist_summary = unique(distance_df %>%  group_by(Cond,Tissue,Annotation) %>% \n",
    "                                    mutate(n_qtls = n()) %>% \n",
    "                                    group_by(Cond) %>% \n",
    "                                      mutate(Percent = (n_qtls/n())*100) %>% \n",
    "                                    select(Tissue, Cond,Annotation, n_qtls,Percent))\n",
    "                                    \n",
    "    if (datatype == \"eqtl\") {\n",
    "        dist_summary$Annotation = factor(dist_summary$Annotation,\n",
    "                                        levels = c('In TSS Window','0-1kb','1-5kb','5-10kb','10-25kb','25-50kb',\n",
    "                                                   '50-100kb','100-250kb','250-500kb','>500kb'))\n",
    "        p = ggplot(dist_summary, aes(Annotation,Percent, fill=Tissue)) + theme_bw() +\n",
    "                    theme(axis.text.x = element_text(angle = 90, vjust = 0.5, hjust=1,size=6),\n",
    "                         axis.title.x = element_text(size=8), axis.title.y = element_text(size=8)) +\n",
    "                    xlab(xlabel) + ylab(ylabel) +\n",
    "                    geom_bar(stat=\"identity\") + facet_wrap(~Cond, nrow = 1) +\n",
    "                    scale_fill_manual(values=c(\"lightblue\",\"red\",\"yellow\"))\n",
    "    } else {\n",
    "        dist_summary$Annotation = factor(dist_summary$Annotation,\n",
    "                                        levels = c('In Peak','0-1kb','1-5kb','5-10kb','10-25kb','25-50kb',\n",
    "                                                   '50-100kb'))\n",
    "        p = ggplot(dist_summary, aes(Annotation,Percent, fill=Tissue)) + theme_bw() +\n",
    "                    theme(axis.text.x = element_text(angle = 90, vjust = 0.5, hjust=1,size=8),\n",
    "                         axis.title.x = element_text(size=8), axis.title.y = element_text(size=8)) +\n",
    "                    xlab(xlabel) + ylab(ylabel) +\n",
    "                    geom_bar(stat=\"identity\") + facet_wrap(~Cond, nrow = 1) +\n",
    "                    scale_fill_manual(values=c(\"lightblue\",\"red\",\"yellow\"))\n",
    "    }\n",
    "\n",
    "    return(p)\n",
    "}\n",
    "\n",
    "psize(2.5,5)\n",
    "\n",
    "\n",
    "b = distance_plot(eqtl_distances, \"eqtl\",\"Lead Variant Distance from eGene TSS Window\",\"Percent of eQTLs\\n(By Condition)\")\n",
    "d = distance_plot(caqtl_distances, \"caqtl\",\"Lead Variant Distance from caPeak\",\"Percent of caQTLs\\n(By Condition)\")\n",
    "f = distance_plot(haqtl_distances[ haqtl_distances$Annotation != \"100-250kb\",],\n",
    "                              \"haqtl\",\"Lead Variant Distance from haPeak\",\"Percent ofhaQTLs\\n(By Condition)\")\n",
    "\n"
   ]
  },
  {
   "cell_type": "markdown",
   "metadata": {},
   "source": [
    "### QTL Chromatin State Enrichment - Figure 2g "
   ]
  },
  {
   "cell_type": "code",
   "execution_count": 181,
   "metadata": {},
   "outputs": [],
   "source": [
    "### download ES-derived cardiomyocyte states \n",
    "#### wget https://personal.broadinstitute.org/cboix/epimap/ChromHMM/observed_aux_18_hg38/CALLS/BSS00171_18_CALLS_segments.bed.gz\n",
    "\n",
    "### download iPSC-18a\n",
    "#### wget https://personal.broadinstitute.org/cboix/epimap/ChromHMM/observed_aux_18_hg38/CALLS/BSS00737_18_CALLS_segments.bed.gz"
   ]
  },
  {
   "cell_type": "code",
   "execution_count": 182,
   "metadata": {},
   "outputs": [],
   "source": [
    "cvpc_states = fread(\"input/figure2/BSS00171_18_CALLS_segments.bed.gz\",sep=\"\\t\",data.table=F)\n",
    "ipsc_states = fread(\"input/figure2/BSS00737_18_CALLS_segments.bed.gz\",sep=\"\\t\",data.table=F)"
   ]
  },
  {
   "cell_type": "code",
   "execution_count": 188,
   "metadata": {},
   "outputs": [],
   "source": [
    "collapse_states = function(state_df) {\n",
    "    state_df$state [ state_df$V4 %in% c(\"EnhA1\",\"EnhA2\",\"EnhG1\",\"EnhG2\",\"EnhWk\",\"EnhBiv\")] = \"Enhancer\"\n",
    "    state_df$state [ state_df$V4 %in% c(\"Tx\",\"TxWk\")] = \"Transcribed\"\n",
    "    state_df$state [ state_df$V4 %in% c(\"Quies\")] = \"Quiescent\"\n",
    "    state_df$state [ state_df$V4 %in% c(\"ReprPC\",\"ReprPCWk\",\"Het\",\"ZNF/Rpts\")] = \"Repressed\"\n",
    "    state_df$state [ state_df$V4 %in% c(\"TssA\",\"TssBiv\",\"TssFlnkU\",\"TssFlnkD\",\"TssFlnk\")] = \"Promoter\"\n",
    "    state_df = state_df[ state_df$V1 %in% paste0(\"chr\",1:22),]\n",
    "    state_df = state_df[ order(state_df$V1, state_df$V2, state_df$V3),]\n",
    "    return(state_df[, c(1:3,10)])\n",
    "}\n",
    "\n",
    "fwrite(collapse_states(cvpc_states),\"input/figure2/cvpc_states.bed\",sep=\"\\t\",row.names=F,col.names=F)\n",
    "fwrite(collapse_states(ipsc_states),\"input/figure2/ipsc_states.bed\",sep=\"\\t\",row.names=F,col.names=F)"
   ]
  },
  {
   "cell_type": "code",
   "execution_count": 206,
   "metadata": {},
   "outputs": [],
   "source": [
    "read_all_tests = function(qtl_path, tissue, datatype) {\n",
    "    qtl_df          = fread(qtl_path,sep=\"\\t\",data.table=F) %>% \n",
    "                            filter(Tissue == tissue) %>% \n",
    "                            mutate(start = `SNP Pos` - 1 ) %>% \n",
    "                            select(`SNP Chrom`,start,`SNP Pos`,`Element Cond`,Tissue, `Significant`) \n",
    "    qtl_df$datatype = datatype\n",
    "    return(qtl_df)\n",
    "}\n",
    "\n",
    "fwrite(as.data.frame(rbindlist(list(read_all_tests(eqtl_path, \"iPSC\",\"eQTL\"),\n",
    "                                        read_all_tests(caqtl_path, \"iPSC\",\"caQTL\"),\n",
    "                                        read_all_tests(haqtl_path, \"iPSC\",\"haQTL\")))) %>%\n",
    "                            arrange(`SNP Chrom`,start,`SNP Pos`),\n",
    "       \"input/figure2/ipsc_lead.bed\",sep=\"\\t\",row.names=F,quote=F,col.names=F)\n",
    "\n",
    "fwrite(as.data.frame(rbindlist(list(read_all_tests(eqtl_path, \"CVPC\",\"eQTL\"),\n",
    "                                        read_all_tests(caqtl_path, \"CVPC\",\"caQTL\"),\n",
    "                                        read_all_tests(haqtl_path, \"CVPC\",\"haQTL\")))) %>%\n",
    "                            arrange(`SNP Chrom`,start,`SNP Pos`),\n",
    "       \"input/figure2/cvpc_lead.bed\",sep=\"\\t\",row.names=F,quote=F,col.names=F)"
   ]
  },
  {
   "cell_type": "code",
   "execution_count": 210,
   "metadata": {},
   "outputs": [
    {
     "name": "stderr",
     "output_type": "stream",
     "text": [
      "bedtools intersect -a input/figure2/cvpc_states.bed -b input/figure2/cvpc_lead.bed -wb > input/figure2/cvpc_lead_state_annots.bed\n",
      "\n"
     ]
    }
   ],
   "source": [
    "ipsc_state_path = \"input/figure2/ipsc_states.bed\"\n",
    "ipsc_lead_path  = \"input/figure2/ipsc_lead.bed\"\n",
    "ipsc_command = paste(\"bedtools\", \"intersect\", \"-a\", ipsc_state_path,\n",
    "                     \"-b\", ipsc_lead_path, \"-wb\",\n",
    "                     \"> input/figure2/ipsc_lead_state_annots.bed\")\n",
    "\n",
    "cvpc_state_path = \"input/figure2/cvpc_states.bed\"\n",
    "cvpc_lead_path  = \"input/figure2/cvpc_lead.bed\"\n",
    "cvpc_command = paste(\"bedtools\", \"intersect\", \"-a\", cvpc_state_path,\n",
    "                     \"-b\", cvpc_lead_path, \"-wb\",\n",
    "                     \"> input/figure2/cvpc_lead_state_annots.bed\")\n",
    "message(cvpc_command)\n"
   ]
  },
  {
   "cell_type": "code",
   "execution_count": 211,
   "metadata": {},
   "outputs": [],
   "source": [
    "state_annotations = rbind(fread(\"input/figure2/ipsc_lead_state_annots.bed\",sep=\"\\t\",data.table=F),\n",
    "                          fread(\"input/figure2/cvpc_lead_state_annots.bed\",sep=\"\\t\",data.table=F))\n"
   ]
  },
  {
   "cell_type": "code",
   "execution_count": 387,
   "metadata": {},
   "outputs": [],
   "source": [
    "state_table = as.data.frame(table(state_annotations$V11, state_annotations$V4, state_annotations$V10))\n",
    "\n",
    "chromstate_enrich = function(state, type) {\n",
    "    totest = state_table[ state_table$Var1 == type,]\n",
    "    x11 = totest$Freq[ totest$Var2 == state     & totest$Var3 == \"TRUE\"]\n",
    "    x12 = totest$Freq[ totest$Var2 == state     & totest$Var3 == \"FALSE\"]\n",
    "    x21 = sum(totest$Freq[ totest$Var2 != state & totest$Var3 == \"TRUE\"])\n",
    "    x22 = sum(totest$Freq[ totest$Var2 != state & totest$Var3 == \"FALSE\"])\n",
    "    \n",
    "    fish = fisher.test(matrix(c(x11,x12,x21,x22),nrow=2))\n",
    "    out = data.frame(State = as.character(state), QTL = type,\n",
    "                     `Odds Ratio` = fish$estimate, LowerCI = fish$conf.int[1],\n",
    "                     UpperCI = fish$conf.int[2],Pvalue = fish$p.value)\n",
    "    return(out)\n",
    "}\n",
    "\n",
    "atac_enrich = as.data.frame(rbindlist(lapply(unique(state_table$Var2),chromstate_enrich, type =\"caQTL\")))\n",
    "chip_enrich = as.data.frame(rbindlist(lapply(unique(state_table$Var2),chromstate_enrich, type =\"haQTL\")))\n",
    "rna_enrich  = as.data.frame(rbindlist(lapply(unique(state_table$Var2),chromstate_enrich, type =\"eQTL\")))\n",
    "\n",
    "\n",
    "state_enrich_out = as.data.frame(rbindlist(list(rna_enrich,atac_enrich,chip_enrich)))\n",
    "state_enrich_out$`QTL Type` = factor(state_enrich_out$QTL , levels = rev(c(\"haQTL\",\"caQTL\",\"eQTL\")))\n",
    "state_enrich_out$State = factor(state_enrich_out$State, levels=rev(c(\"Promoter\",\"Enhancer\",\"Transcribed\",\n",
    "                                                                 \"Repressed\",\"Quiescent\")))\n",
    "\n",
    "state_enrich_out$`log2(OR)` = log2(state_enrich_out$Odds.Ratio)\n",
    "state_enrich_out$log2Low = log2(state_enrich_out$LowerCI)\n",
    "state_enrich_out$log2Hi = log2(state_enrich_out$UpperCI)\n",
    "state_enrich_out$significant = ifelse(state_enrich_out$Pvalue > 0.05, \"FALSE\",\"TRUE\")\n",
    "psize(2.5,3.5)\n",
    "g= ggplot(state_enrich_out, aes(`log2(OR)`, State, color = `QTL Type`, group=`QTL Type`, shape=significant)) + theme_bw() +\n",
    "    xlim(c(-1,1.55))+ ylab(\"\") + xlab(\"Chromatin State\\nEnrichment (log2(OR))\") +\n",
    "    theme(axis.text = element_text(size=12),\n",
    "         axis.title = element_text(size=12))  +\n",
    "    geom_point(na.rm=TRUE, position=position_dodge(width=0.75),size=1.5) +\n",
    "    geom_vline(xintercept = 0,lty =2 ) +\n",
    "    geom_linerange(aes(x=`log2(OR)`, xmin=log2Low, xmax=log2Hi), \n",
    "                  na.rm=TRUE, position=position_dodge(width=0.75)) +\n",
    "    scale_color_manual(values = c(\"orange\",\"brown\",\"lightBlue\")) + \n",
    "    geom_hline(yintercept = 1.5, color = \"lightgrey\") +\n",
    "    geom_hline(yintercept = 2.5, color = \"lightgrey\") +\n",
    "    geom_hline(yintercept = 3.5, color = \"lightgrey\") +\n",
    "    geom_hline(yintercept = 4.5, color = \"lightgrey\") +\n",
    "    scale_shape_manual(values = c(1, 16), guide = \"none\") "
   ]
  },
  {
   "cell_type": "code",
   "execution_count": 419,
   "metadata": {},
   "outputs": [
    {
     "data": {
      "text/html": [
       "<table class=\"dataframe\">\n",
       "<caption>A data.frame: 5 × 11</caption>\n",
       "<thead>\n",
       "\t<tr><th></th><th scope=col>State</th><th scope=col>QTL</th><th scope=col>Odds.Ratio</th><th scope=col>LowerCI</th><th scope=col>UpperCI</th><th scope=col>Pvalue</th><th scope=col>QTL Type</th><th scope=col>log2(OR)</th><th scope=col>log2Low</th><th scope=col>log2Hi</th><th scope=col>significant</th></tr>\n",
       "\t<tr><th></th><th scope=col>&lt;fct&gt;</th><th scope=col>&lt;chr&gt;</th><th scope=col>&lt;dbl&gt;</th><th scope=col>&lt;dbl&gt;</th><th scope=col>&lt;dbl&gt;</th><th scope=col>&lt;dbl&gt;</th><th scope=col>&lt;fct&gt;</th><th scope=col>&lt;dbl&gt;</th><th scope=col>&lt;dbl&gt;</th><th scope=col>&lt;dbl&gt;</th><th scope=col>&lt;chr&gt;</th></tr>\n",
       "</thead>\n",
       "<tbody>\n",
       "\t<tr><th scope=row>11</th><td>Enhancer   </td><td>haQTL</td><td>1.8362661</td><td>1.7288822</td><td>1.9490681</td><td>1.038651e-79</td><td>haQTL</td><td> 0.8767751</td><td> 0.789839580</td><td> 0.9627845</td><td>TRUE </td></tr>\n",
       "\t<tr><th scope=row>12</th><td>Promoter   </td><td>haQTL</td><td>1.2221828</td><td>1.1070122</td><td>1.3469895</td><td>7.265498e-05</td><td>haQTL</td><td> 0.2894601</td><td> 0.146671157</td><td> 0.4297386</td><td>TRUE </td></tr>\n",
       "\t<tr><th scope=row>13</th><td>Quiescent  </td><td>haQTL</td><td>1.0317612</td><td>0.9932243</td><td>1.0718641</td><td>1.069866e-01</td><td>haQTL</td><td> 0.0451091</td><td>-0.009808554</td><td> 0.1001220</td><td>FALSE</td></tr>\n",
       "\t<tr><th scope=row>14</th><td>Repressed  </td><td>haQTL</td><td>0.5704042</td><td>0.5187804</td><td>0.6260291</td><td>2.819290e-37</td><td>haQTL</td><td>-0.8099434</td><td>-0.946804166</td><td>-0.6756985</td><td>TRUE </td></tr>\n",
       "\t<tr><th scope=row>15</th><td>Transcribed</td><td>haQTL</td><td>0.8125832</td><td>0.7759532</td><td>0.8507066</td><td>1.578034e-19</td><td>haQTL</td><td>-0.2994126</td><td>-0.365958371</td><td>-0.2332664</td><td>TRUE </td></tr>\n",
       "</tbody>\n",
       "</table>\n"
      ],
      "text/latex": [
       "A data.frame: 5 × 11\n",
       "\\begin{tabular}{r|lllllllllll}\n",
       "  & State & QTL & Odds.Ratio & LowerCI & UpperCI & Pvalue & QTL Type & log2(OR) & log2Low & log2Hi & significant\\\\\n",
       "  & <fct> & <chr> & <dbl> & <dbl> & <dbl> & <dbl> & <fct> & <dbl> & <dbl> & <dbl> & <chr>\\\\\n",
       "\\hline\n",
       "\t11 & Enhancer    & haQTL & 1.8362661 & 1.7288822 & 1.9490681 & 1.038651e-79 & haQTL &  0.8767751 &  0.789839580 &  0.9627845 & TRUE \\\\\n",
       "\t12 & Promoter    & haQTL & 1.2221828 & 1.1070122 & 1.3469895 & 7.265498e-05 & haQTL &  0.2894601 &  0.146671157 &  0.4297386 & TRUE \\\\\n",
       "\t13 & Quiescent   & haQTL & 1.0317612 & 0.9932243 & 1.0718641 & 1.069866e-01 & haQTL &  0.0451091 & -0.009808554 &  0.1001220 & FALSE\\\\\n",
       "\t14 & Repressed   & haQTL & 0.5704042 & 0.5187804 & 0.6260291 & 2.819290e-37 & haQTL & -0.8099434 & -0.946804166 & -0.6756985 & TRUE \\\\\n",
       "\t15 & Transcribed & haQTL & 0.8125832 & 0.7759532 & 0.8507066 & 1.578034e-19 & haQTL & -0.2994126 & -0.365958371 & -0.2332664 & TRUE \\\\\n",
       "\\end{tabular}\n"
      ],
      "text/markdown": [
       "\n",
       "A data.frame: 5 × 11\n",
       "\n",
       "| <!--/--> | State &lt;fct&gt; | QTL &lt;chr&gt; | Odds.Ratio &lt;dbl&gt; | LowerCI &lt;dbl&gt; | UpperCI &lt;dbl&gt; | Pvalue &lt;dbl&gt; | QTL Type &lt;fct&gt; | log2(OR) &lt;dbl&gt; | log2Low &lt;dbl&gt; | log2Hi &lt;dbl&gt; | significant &lt;chr&gt; |\n",
       "|---|---|---|---|---|---|---|---|---|---|---|---|\n",
       "| 11 | Enhancer    | haQTL | 1.8362661 | 1.7288822 | 1.9490681 | 1.038651e-79 | haQTL |  0.8767751 |  0.789839580 |  0.9627845 | TRUE  |\n",
       "| 12 | Promoter    | haQTL | 1.2221828 | 1.1070122 | 1.3469895 | 7.265498e-05 | haQTL |  0.2894601 |  0.146671157 |  0.4297386 | TRUE  |\n",
       "| 13 | Quiescent   | haQTL | 1.0317612 | 0.9932243 | 1.0718641 | 1.069866e-01 | haQTL |  0.0451091 | -0.009808554 |  0.1001220 | FALSE |\n",
       "| 14 | Repressed   | haQTL | 0.5704042 | 0.5187804 | 0.6260291 | 2.819290e-37 | haQTL | -0.8099434 | -0.946804166 | -0.6756985 | TRUE  |\n",
       "| 15 | Transcribed | haQTL | 0.8125832 | 0.7759532 | 0.8507066 | 1.578034e-19 | haQTL | -0.2994126 | -0.365958371 | -0.2332664 | TRUE  |\n",
       "\n"
      ],
      "text/plain": [
       "   State       QTL   Odds.Ratio LowerCI   UpperCI   Pvalue       QTL Type\n",
       "11 Enhancer    haQTL 1.8362661  1.7288822 1.9490681 1.038651e-79 haQTL   \n",
       "12 Promoter    haQTL 1.2221828  1.1070122 1.3469895 7.265498e-05 haQTL   \n",
       "13 Quiescent   haQTL 1.0317612  0.9932243 1.0718641 1.069866e-01 haQTL   \n",
       "14 Repressed   haQTL 0.5704042  0.5187804 0.6260291 2.819290e-37 haQTL   \n",
       "15 Transcribed haQTL 0.8125832  0.7759532 0.8507066 1.578034e-19 haQTL   \n",
       "   log2(OR)   log2Low      log2Hi     significant\n",
       "11  0.8767751  0.789839580  0.9627845 TRUE       \n",
       "12  0.2894601  0.146671157  0.4297386 TRUE       \n",
       "13  0.0451091 -0.009808554  0.1001220 FALSE      \n",
       "14 -0.8099434 -0.946804166 -0.6756985 TRUE       \n",
       "15 -0.2994126 -0.365958371 -0.2332664 TRUE       "
      ]
     },
     "metadata": {},
     "output_type": "display_data"
    }
   ],
   "source": [
    "state_enrich_out[ state_enrich_out$QTL == \"haQTL\",]"
   ]
  },
  {
   "cell_type": "code",
   "execution_count": null,
   "metadata": {},
   "outputs": [],
   "source": []
  },
  {
   "cell_type": "markdown",
   "metadata": {},
   "source": [
    "### caPeak-haPeak overlap - Figure 2h"
   ]
  },
  {
   "cell_type": "code",
   "execution_count": 246,
   "metadata": {},
   "outputs": [],
   "source": [
    "make_peak_beds = function(qtl_path) {\n",
    "    qtl_df  = fread(qtl_path,sep=\"\\t\",data.table=F) %>% filter(Tissue == \"CVPC\")\n",
    "    sig_peaks = qtl_df$`Element ID`[ qtl_df$Significant == \"TRUE\"]\n",
    "    qtl_bed = unique(qtl_df %>% \n",
    "                select(`Element Chrom`, `Element Start`, `Element End`, `Element ID`) %>%\n",
    "                mutate(Significant = `Element ID` %in% sig_peaks ) %>%\n",
    "                arrange(`Element Chrom`, `Element Start`, `Element End`)) \n",
    "    \n",
    "    \n",
    "    return(qtl_bed)\n",
    "}\n",
    "fwrite(make_peak_beds(caqtl_path),\n",
    "       \"input/figure2/cvpc_capeak.bed\",sep=\"\\t\",row.names=F,col.names=F,quote=F)\n",
    "\n",
    "fwrite(make_peak_beds(haqtl_path),\n",
    "       \"input/figure2/cvpc_hapeak.bed\",sep=\"\\t\",row.names=F,col.names=F,quote=F)"
   ]
  },
  {
   "cell_type": "code",
   "execution_count": 352,
   "metadata": {},
   "outputs": [
    {
     "name": "stderr",
     "output_type": "stream",
     "text": [
      "bedtools intersect -a input/figure2/cvpc_capeak.bed -b input/figure2/cvpc_hapeak.bed -loj > input/figure2/cvpc_capeak_hapeak.bed\n",
      "\n"
     ]
    },
    {
     "data": {
      "text/plain": [
       "\n",
       "       caPeak caPeak-haPeak        No QTL \n",
       "         8721          2715        194385 "
      ]
     },
     "metadata": {},
     "output_type": "display_data"
    }
   ],
   "source": [
    "peak_int_command = paste(\"bedtools\", \"intersect\", \"-a\", \"input/figure2/cvpc_capeak.bed\",\n",
    "                     \"-b\", \"input/figure2/cvpc_hapeak.bed\", \"-loj\",\n",
    "                     \"> input/figure2/cvpc_capeak_hapeak.bed\")\n",
    "message(peak_int_command)\n",
    "\n",
    "caha = fread(\"input/figure2/cvpc_capeak_hapeak.bed\",sep=\"\\t\",data.table=F)\n",
    "caha$Annotation = ifelse(caha$V5 == \"TRUE\" & caha$V10 == \"TRUE\", \"caPeak-haPeak\",\n",
    "                        ifelse(caha$V5 == \"TRUE\", \"caPeak\",\"No QTL\"))\n",
    "table(caha$Annotation)"
   ]
  },
  {
   "cell_type": "code",
   "execution_count": 353,
   "metadata": {},
   "outputs": [],
   "source": [
    "atac_bed = make_peak_beds(caqtl_path)\n",
    "\n",
    "atac_bed$Annotation = ifelse(atac_bed$`Element ID` %in% caha$V4[ caha$Annotation == \"caPeak-haPeak\"], \"caPeak-haPeak\",\n",
    "                            ifelse(atac_bed$`Element ID` %in% caha$V4[ caha$Annotation == \"caPeak\"], \"caPeak\",\"No QTL\"))\n",
    "atac_bed = atac_bed %>% select(`Element ID`, Annotation) %>% rename(PeakID = `Element ID`)"
   ]
  },
  {
   "cell_type": "code",
   "execution_count": null,
   "metadata": {},
   "outputs": [],
   "source": [
    "cvpc_gene_express = readRDS(\"/projects/CARDIPS/analysis/epigenome_resource/eqtls/CVPC/step_4/qtl_by_element/qtl_input.rds\")$phenotype_info\n",
    "gencode = fread(\"/reference/private/Gencode.v44lift38/gene_info.txt\",sep=\"\\t\",data.table=F)\n",
    "cvpc_gene_express2 = merge(cvpc_gene_express, gencode[,5:6], by.x=\"element_id\",by.y=\"gene_id\")"
   ]
  },
  {
   "cell_type": "code",
   "execution_count": 377,
   "metadata": {},
   "outputs": [
    {
     "data": {
      "text/html": [
       "444"
      ],
      "text/latex": [
       "444"
      ],
      "text/markdown": [
       "444"
      ],
      "text/plain": [
       "[1] 444"
      ]
     },
     "metadata": {},
     "output_type": "display_data"
    }
   ],
   "source": [
    "### load JASPAR predictions\n",
    "\n",
    "jaspar      = unique(fread(\"input/figure1/CVPC_JAPSAR_TOBIAS.txt\",sep=\"\\t\",data.table=F)[,1:2])\n",
    "jaspar$TFBS = toupper(gsub(\"_MA.*\",\"\",jaspar$MotifID))\n",
    "jaspar$occur = 1 \n",
    "\n",
    "jaspar_expressed = jaspar[ jaspar$TFBS %in% cvpc_gene_express2$gene_name,]\n",
    "length(unique(jaspar_expressed$TFBS))\n",
    "jaspar_cast = reshape2::dcast(PeakID ~ TFBS, data= jaspar_expressed,value.var = \"occur\",fun.aggregate = sum)\n",
    "# head(jaspar)"
   ]
  },
  {
   "cell_type": "code",
   "execution_count": 378,
   "metadata": {},
   "outputs": [],
   "source": [
    "atac_tfbs = merge(atac_bed, jaspar_cast[ jaspar_cast$PeakID %in% atac_bed$PeakID,], all=TRUE)\n",
    "atac_tfbs[ is.na(atac_tfbs)] = 0 "
   ]
  },
  {
   "cell_type": "code",
   "execution_count": 421,
   "metadata": {},
   "outputs": [
    {
     "data": {
      "text/plain": [
       "\n",
       "       caPeak caPeak-haPeak        No QTL \n",
       "         2593          1641         51035 "
      ]
     },
     "metadata": {},
     "output_type": "display_data"
    }
   ],
   "source": [
    "tmp = atac_tfbs[rowSums(data.matrix(atac_tfbs[,3:ncol(atac_tfbs)])) > 0,]\n",
    "table(tmp$Annotation)"
   ]
  },
  {
   "cell_type": "code",
   "execution_count": 380,
   "metadata": {},
   "outputs": [],
   "source": [
    "property = colnames(atac_tfbs)[3:ncol(atac_tfbs)]\n",
    "calculate_enrichment = function(property, vertices){\n",
    "        totest          = vertices[, c(property, \"Annotation\")]\n",
    "\n",
    "        colnames(totest) = c(\"property\", \"annot\")\n",
    "\n",
    "        annots = names(table(totest$annot))\n",
    "    \n",
    "        tests = as.data.frame(rbindlist(lapply(annots, function(annot){\n",
    "            x11  = nrow(totest[ totest$property == 1 & totest$annot == annot, ])\n",
    "            x12  = nrow(totest[ totest$property == 1 & totest$annot != annot, ])\n",
    "            x21  = nrow(totest[ totest$property == 0 & totest$annot == annot, ])\n",
    "            x22  = nrow(totest[ totest$property == 0 & totest$annot != annot, ])\n",
    "            mat  = matrix(c(x11, x12, x21, x22), nrow = 2, byrow = TRUE)\n",
    "            test = fisher.test(mat)\n",
    "            out  = data.frame(TF = property, Annotation = annot, \n",
    "                              x11 = x11, x12 = x12, x21 = x21, x22 = x22, estimate = test$estimate, \n",
    "                              ci1 = test$conf.int[[1]], ci2 = test$conf.int[[2]], pval = test$p.value)\n",
    "            return(out)\n",
    "        })), stringsAsFactors = FALSE)\n",
    "        return(tests)}\n",
    "\n",
    "enrich = function(x, annot){\n",
    "        tests       = as.data.frame(rbindlist(lapply(1:length(property), \n",
    "                                                     function(ii){calculate_enrichment(property[ii], x)})))\n",
    "        tests       = tests\n",
    "        tests$padj  = p.adjust(tests$pval, method = \"BH\")\n",
    "        tests$log2r = log2(tests$estimate)\n",
    "        return(tests)}\n"
   ]
  },
  {
   "cell_type": "code",
   "execution_count": 381,
   "metadata": {},
   "outputs": [],
   "source": [
    "atac_tfbs_enrich = enrich(atac_tfbs[rowSums(data.matrix(atac_tfbs[,3:ncol(atac_tfbs)])) > 0,])\n"
   ]
  },
  {
   "cell_type": "code",
   "execution_count": 382,
   "metadata": {},
   "outputs": [
    {
     "data": {
      "text/html": [
       "<table class=\"dataframe\">\n",
       "<caption>A data.frame: 3 × 12</caption>\n",
       "<thead>\n",
       "\t<tr><th></th><th scope=col>TF</th><th scope=col>Annotation</th><th scope=col>x11</th><th scope=col>x12</th><th scope=col>x21</th><th scope=col>x22</th><th scope=col>estimate</th><th scope=col>ci1</th><th scope=col>ci2</th><th scope=col>pval</th><th scope=col>padj</th><th scope=col>log2r</th></tr>\n",
       "\t<tr><th></th><th scope=col>&lt;chr&gt;</th><th scope=col>&lt;chr&gt;</th><th scope=col>&lt;int&gt;</th><th scope=col>&lt;int&gt;</th><th scope=col>&lt;int&gt;</th><th scope=col>&lt;int&gt;</th><th scope=col>&lt;dbl&gt;</th><th scope=col>&lt;dbl&gt;</th><th scope=col>&lt;dbl&gt;</th><th scope=col>&lt;dbl&gt;</th><th scope=col>&lt;dbl&gt;</th><th scope=col>&lt;dbl&gt;</th></tr>\n",
       "</thead>\n",
       "<tbody>\n",
       "\t<tr><th scope=row>109</th><td>CTCF</td><td>caPeak       </td><td>  815</td><td>16275</td><td> 1778</td><td>36401</td><td>1.025245</td><td>0.9405381</td><td>1.1167979</td><td>5.715266e-01</td><td>7.674128e-01</td><td> 0.03596888</td></tr>\n",
       "\t<tr><th scope=row>110</th><td>CTCF</td><td>caPeak-haPeak</td><td>  280</td><td>16810</td><td> 1361</td><td>36818</td><td>0.450607</td><td>0.3942886</td><td>0.5135223</td><td>1.788535e-38</td><td>2.382328e-35</td><td>-1.15005852</td></tr>\n",
       "\t<tr><th scope=row>111</th><td>CTCF</td><td>No QTL       </td><td>15995</td><td> 1095</td><td>35040</td><td> 3139</td><td>1.308590</td><td>1.2180649</td><td>1.4065717</td><td>5.618292e-14</td><td>1.870891e-11</td><td> 0.38801276</td></tr>\n",
       "</tbody>\n",
       "</table>\n"
      ],
      "text/latex": [
       "A data.frame: 3 × 12\n",
       "\\begin{tabular}{r|llllllllllll}\n",
       "  & TF & Annotation & x11 & x12 & x21 & x22 & estimate & ci1 & ci2 & pval & padj & log2r\\\\\n",
       "  & <chr> & <chr> & <int> & <int> & <int> & <int> & <dbl> & <dbl> & <dbl> & <dbl> & <dbl> & <dbl>\\\\\n",
       "\\hline\n",
       "\t109 & CTCF & caPeak        &   815 & 16275 &  1778 & 36401 & 1.025245 & 0.9405381 & 1.1167979 & 5.715266e-01 & 7.674128e-01 &  0.03596888\\\\\n",
       "\t110 & CTCF & caPeak-haPeak &   280 & 16810 &  1361 & 36818 & 0.450607 & 0.3942886 & 0.5135223 & 1.788535e-38 & 2.382328e-35 & -1.15005852\\\\\n",
       "\t111 & CTCF & No QTL        & 15995 &  1095 & 35040 &  3139 & 1.308590 & 1.2180649 & 1.4065717 & 5.618292e-14 & 1.870891e-11 &  0.38801276\\\\\n",
       "\\end{tabular}\n"
      ],
      "text/markdown": [
       "\n",
       "A data.frame: 3 × 12\n",
       "\n",
       "| <!--/--> | TF &lt;chr&gt; | Annotation &lt;chr&gt; | x11 &lt;int&gt; | x12 &lt;int&gt; | x21 &lt;int&gt; | x22 &lt;int&gt; | estimate &lt;dbl&gt; | ci1 &lt;dbl&gt; | ci2 &lt;dbl&gt; | pval &lt;dbl&gt; | padj &lt;dbl&gt; | log2r &lt;dbl&gt; |\n",
       "|---|---|---|---|---|---|---|---|---|---|---|---|---|\n",
       "| 109 | CTCF | caPeak        |   815 | 16275 |  1778 | 36401 | 1.025245 | 0.9405381 | 1.1167979 | 5.715266e-01 | 7.674128e-01 |  0.03596888 |\n",
       "| 110 | CTCF | caPeak-haPeak |   280 | 16810 |  1361 | 36818 | 0.450607 | 0.3942886 | 0.5135223 | 1.788535e-38 | 2.382328e-35 | -1.15005852 |\n",
       "| 111 | CTCF | No QTL        | 15995 |  1095 | 35040 |  3139 | 1.308590 | 1.2180649 | 1.4065717 | 5.618292e-14 | 1.870891e-11 |  0.38801276 |\n",
       "\n"
      ],
      "text/plain": [
       "    TF   Annotation    x11   x12   x21   x22   estimate ci1       ci2      \n",
       "109 CTCF caPeak          815 16275  1778 36401 1.025245 0.9405381 1.1167979\n",
       "110 CTCF caPeak-haPeak   280 16810  1361 36818 0.450607 0.3942886 0.5135223\n",
       "111 CTCF No QTL        15995  1095 35040  3139 1.308590 1.2180649 1.4065717\n",
       "    pval         padj         log2r      \n",
       "109 5.715266e-01 7.674128e-01  0.03596888\n",
       "110 1.788535e-38 2.382328e-35 -1.15005852\n",
       "111 5.618292e-14 1.870891e-11  0.38801276"
      ]
     },
     "metadata": {},
     "output_type": "display_data"
    }
   ],
   "source": [
    "atac_tfbs_enrich2 = atac_tfbs_enrich[ atac_tfbs_enrich$TF %in% cvpc_gene_express2$gene_name, ]\n",
    "atac_tfbs_enrich2[ atac_tfbs_enrich2$TF == \"CTCF\",]\n"
   ]
  },
  {
   "cell_type": "code",
   "execution_count": 389,
   "metadata": {},
   "outputs": [],
   "source": [
    "top_tfs = atac_tfbs_enrich[  atac_tfbs_enrich$estimate > 1 & atac_tfbs_enrich$padj < 0.05,] %>% \n",
    "                                group_by(Annotation) %>%\n",
    "                                top_n(10, log2r)\n",
    "\n",
    "top_tfs = c(top_tfs$TF,\"GATA4\")\n",
    "\n",
    "atac_tfbs_enrich2 = atac_tfbs_enrich[ atac_tfbs_enrich$TF %in% top_tfs, ]\n",
    "atac_tfbs_enrich2$'log2(OR)' = ifelse(atac_tfbs_enrich2$padj < 0.05, atac_tfbs_enrich2$log2r, 0)\n",
    "atac_tfbs_enrich2$'log2(OR)'[ atac_tfbs_enrich2$'log2(OR)' < -0.75 ] = -0.75\n",
    "atac_tfbs_enrich2$'log2(OR)'[ atac_tfbs_enrich2$'log2(OR)' > 0.75 ] = 0.75\n",
    "atac_tfbs_enrich2$Annotation = factor(atac_tfbs_enrich2$Annotation ,\n",
    "                                      levels = rev(c(\"caPeak\",\"caPeak-haPeak\",\"No QTL\")))\n",
    "\n",
    "\n",
    "atac_tfbs_enrich2_cast = reshape2::dcast(TF ~ Annotation, data = atac_tfbs_enrich2,\n",
    "                                         fun.aggregate = mean, value.var = \"log2(OR)\")\n",
    "rownames(atac_tfbs_enrich2_cast) = atac_tfbs_enrich2_cast$TF\n",
    "atac_tfbs_enrich2_cast$TF = NULL\n",
    "\n",
    "ord <- hclust( dist(atac_tfbs_enrich2_cast, method = \"euclidean\"), method = \"ward.D\" )$order\n",
    "\n",
    "atac_tfbs_enrich2$TF2 = factor(atac_tfbs_enrich2$TF, levels = rev(rownames(atac_tfbs_enrich2_cast[ord,])))\n",
    "psize(2,4)\n",
    "\n",
    "# psize(5,2.5)\n",
    "h = ggplot(atac_tfbs_enrich2, aes(TF2, Annotation,  fill= `log2(OR)`)) + theme_bw()+\n",
    "  geom_tile(color = \"black\")  +  xlab(\"\") + ylab(\"\") +\n",
    "    theme(axis.text.x = element_text(angle = 90, vjust = 0.5, hjust=1), \n",
    "         legend.position =\"bottom\") +\n",
    "  scale_fill_gradient2(low=\"blue\",mid = \"white\", high=\"red\") "
   ]
  },
  {
   "cell_type": "markdown",
   "metadata": {},
   "source": [
    "### Figure 2"
   ]
  },
  {
   "cell_type": "code",
   "execution_count": 395,
   "metadata": {},
   "outputs": [
    {
     "data": {
      "text/html": [
       "<strong>png:</strong> 2"
      ],
      "text/latex": [
       "\\textbf{png:} 2"
      ],
      "text/markdown": [
       "**png:** 2"
      ],
      "text/plain": [
       "png \n",
       "  2 "
      ]
     },
     "metadata": {},
     "output_type": "display_data"
    }
   ],
   "source": [
    "psize(2.25*4,7.5)\n",
    "png(\"figures/Figure2.png\",res=300,units=\"in\",width=7.5,height=9)\n",
    "plot_grid(plot_grid(eqtl_summary,b,rel_widths = c(0.4,1), labels=c(\"a\",\"b\")),\n",
    "          plot_grid(caqtl_summary,d,rel_widths = c(0.4,1), labels=c(\"c\",\"d\")),\n",
    "          plot_grid(haqtl_summary,f,rel_widths = c(0.4,1), labels=c(\"e\",\"f\")),\n",
    "          plot_grid(g,h,nrow=1,rel_widths = c(0.9,1),labels=c(\"g\",\"h\")),nrow=4)\n",
    "dev.off()"
   ]
  },
  {
   "cell_type": "code",
   "execution_count": 393,
   "metadata": {},
   "outputs": [
    {
     "data": {
      "image/png": "[encoded data removed]",
      "text/plain": [
       "plot without title"
      ]
     },
     "metadata": {
      "image/png": {
       "height": 135,
       "width": 450
      }
     },
     "output_type": "display_data"
    }
   ],
   "source": [
    "psize(2.25,7.5)\n",
    "plot_grid(g,h,nrow=1,rel_widths = c(0.9,1),labels=c(\"g\",\"h\"))"
   ]
  },
  {
   "cell_type": "code",
   "execution_count": null,
   "metadata": {},
   "outputs": [],
   "source": []
  }
 ],
 "metadata": {
  "kernelspec": {
   "display_name": "R 4.0",
   "language": "R",
   "name": "ir40"
  },
  "language_info": {
   "codemirror_mode": "r",
   "file_extension": ".r",
   "mimetype": "text/x-r-source",
   "name": "R",
   "pygments_lexer": "r",
   "version": "4.0.1"
  }
 },
 "nbformat": 4,
 "nbformat_minor": 2
}
