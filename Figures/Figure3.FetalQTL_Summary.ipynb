{
 "cells": [
  {
   "cell_type": "code",
   "execution_count": 1,
   "metadata": {},
   "outputs": [
    {
     "data": {
      "text/html": [
       "<style>\n",
       ".list-inline {list-style: none; margin:0; padding: 0}\n",
       ".list-inline>li {display: inline-block}\n",
       ".list-inline>li:not(:last-child)::after {content: \"\\00b7\"; padding: 0 .5ex}\n",
       "</style>\n",
       "<ol class=list-inline><li>'figures'</li><li>'input'</li><li>'notebooks'</li><li>'source_data'</li><li>'supplemental_tables'</li></ol>\n"
      ],
      "text/latex": [
       "\\begin{enumerate*}\n",
       "\\item 'figures'\n",
       "\\item 'input'\n",
       "\\item 'notebooks'\n",
       "\\item 'source\\_data'\n",
       "\\item 'supplemental\\_tables'\n",
       "\\end{enumerate*}\n"
      ],
      "text/markdown": [
       "1. 'figures'\n",
       "2. 'input'\n",
       "3. 'notebooks'\n",
       "4. 'source_data'\n",
       "5. 'supplemental_tables'\n",
       "\n",
       "\n"
      ],
      "text/plain": [
       "[1] \"figures\"             \"input\"               \"notebooks\"          \n",
       "[4] \"source_data\"         \"supplemental_tables\""
      ]
     },
     "metadata": {},
     "output_type": "display_data"
    }
   ],
   "source": [
    "source(\"~/software/notebook_assist/functions.R\")\n",
    "source(\"~/software/notebook_assist/packages.R\")\n",
    "\n",
    "setwd(\"../\")\n",
    "list.files()"
   ]
  },
  {
   "cell_type": "code",
   "execution_count": 2,
   "metadata": {},
   "outputs": [],
   "source": [
    "eqtl_path = \"supplemental_tables/Table_SX_eQTLs.For_Print.txt\"\n",
    "caqtl_path = \"supplemental_tables/Table_SX_caQTLs.For_Print.txt\"\n",
    "haqtl_path = \"supplemental_tables/Table_SX_haQTLs.For_Print.txt\""
   ]
  },
  {
   "cell_type": "markdown",
   "metadata": {},
   "source": [
    "### Fraction Early Developmental (EDev) QTLs - Figure 3a"
   ]
  },
  {
   "cell_type": "code",
   "execution_count": 112,
   "metadata": {},
   "outputs": [],
   "source": [
    "summarize_edev = function(qtl_path, datatype) {\n",
    "    qtl_df = fread(qtl_path, sep=\"\\t\",data.table=F) %>% filter(Significant == \"TRUE\") %>% mutate(n_edev = count(`Fetal-Unique`))\n",
    "    out    = data.frame(Datatype = datatype, \n",
    "                        EDevUnique = unique(qtl_df$n_edev), \n",
    "                        nQTLs = nrow(qtl_df))\n",
    "    out$Percent = (out$EDevUnique/out$nQTLs)*100\n",
    "    return(out)\n",
    "}\n",
    "\n",
    "edev_summary = as.data.frame(rbindlist(list(summarize_edev(eqtl_path, \"eQTL\"),\n",
    "                                             summarize_edev(caqtl_path, \"caQTL\"),\n",
    "                                             summarize_edev(haqtl_path, \"haQTL\"))))\n",
    "\n",
    "edev_summary$Datatype = factor(edev_summary$Datatype, levels = c(\"eQTL\",\"caQTL\",\"haQTL\"))"
   ]
  },
  {
   "cell_type": "code",
   "execution_count": 173,
   "metadata": {},
   "outputs": [
    {
     "data": {
      "text/html": [
       "<table class=\"dataframe\">\n",
       "<caption>A data.frame: 3 × 4</caption>\n",
       "<thead>\n",
       "\t<tr><th scope=col>Datatype</th><th scope=col>EDevUnique</th><th scope=col>nQTLs</th><th scope=col>Percent</th></tr>\n",
       "\t<tr><th scope=col>&lt;fct&gt;</th><th scope=col>&lt;int&gt;</th><th scope=col>&lt;int&gt;</th><th scope=col>&lt;dbl&gt;</th></tr>\n",
       "</thead>\n",
       "<tbody>\n",
       "\t<tr><td>eQTL </td><td>2547</td><td>30265</td><td> 8.415662</td></tr>\n",
       "\t<tr><td>caQTL</td><td>6098</td><td>36559</td><td>16.679887</td></tr>\n",
       "\t<tr><td>haQTL</td><td>1736</td><td>12257</td><td>14.163335</td></tr>\n",
       "</tbody>\n",
       "</table>\n"
      ],
      "text/latex": [
       "A data.frame: 3 × 4\n",
       "\\begin{tabular}{llll}\n",
       " Datatype & EDevUnique & nQTLs & Percent\\\\\n",
       " <fct> & <int> & <int> & <dbl>\\\\\n",
       "\\hline\n",
       "\t eQTL  & 2547 & 30265 &  8.415662\\\\\n",
       "\t caQTL & 6098 & 36559 & 16.679887\\\\\n",
       "\t haQTL & 1736 & 12257 & 14.163335\\\\\n",
       "\\end{tabular}\n"
      ],
      "text/markdown": [
       "\n",
       "A data.frame: 3 × 4\n",
       "\n",
       "| Datatype &lt;fct&gt; | EDevUnique &lt;int&gt; | nQTLs &lt;int&gt; | Percent &lt;dbl&gt; |\n",
       "|---|---|---|---|\n",
       "| eQTL  | 2547 | 30265 |  8.415662 |\n",
       "| caQTL | 6098 | 36559 | 16.679887 |\n",
       "| haQTL | 1736 | 12257 | 14.163335 |\n",
       "\n"
      ],
      "text/plain": [
       "  Datatype EDevUnique nQTLs Percent  \n",
       "1 eQTL     2547       30265  8.415662\n",
       "2 caQTL    6098       36559 16.679887\n",
       "3 haQTL    1736       12257 14.163335"
      ]
     },
     "metadata": {},
     "output_type": "display_data"
    }
   ],
   "source": [
    "edev_summary"
   ]
  },
  {
   "cell_type": "code",
   "execution_count": 175,
   "metadata": {},
   "outputs": [
    {
     "data": {
      "image/png": "[encoded data removed]",
      "text/plain": [
       "plot without title"
      ]
     },
     "metadata": {
      "image/png": {
       "height": 120,
       "width": 120
      }
     },
     "output_type": "display_data"
    }
   ],
   "source": [
    "psize(2,2)\n",
    "sum_plt = ggplot(edev_summary,aes(Datatype,Percent, fill=Datatype)) + geom_bar(stat=\"identity\") + theme_bw() +\n",
    "                ylim(c(0,20)) + ylab(\"Percent\\nEDev-Unique\") + xlab(\"\") +\n",
    "                theme(axis.text=element_text(size=8), axis.title = element_text(size=8),\n",
    "                      legend.position = \"none\") +\n",
    "                geom_text(aes(label=EDevUnique), position=position_dodge(width=0.9), vjust=-0.25, size=3) + \n",
    "                scale_fill_manual(values=c(\"orange\",\"brown\",\"cyan\"))\n",
    "    sum_plt"
   ]
  },
  {
   "cell_type": "markdown",
   "metadata": {},
   "source": [
    "### EDev QTL distance - Figure 3b"
   ]
  },
  {
   "cell_type": "code",
   "execution_count": 115,
   "metadata": {},
   "outputs": [],
   "source": [
    "snp_distances = fread(\"input/figure3/finemap_snp_distances.txt\",sep=\"\\t\",data.table=F)\n",
    "snp_distances$qtl_id = paste(snp_distances$Tissue, snp_distances$`Element ID`, snp_distances$Condition, sep=\"_\")\n"
   ]
  },
  {
   "cell_type": "code",
   "execution_count": 138,
   "metadata": {},
   "outputs": [],
   "source": [
    "edev_eqtl_df = fread(eqtl_path, sep=\"\\t\",data.table=F) %>% \n",
    "                    filter(Significant == \"TRUE\") %>% \n",
    "                    mutate(qtl_id = paste(Tissue,`Element ID`, Condition, sep=\"_\")) %>%\n",
    "                    select(qtl_id, `Fetal-Unique`, Beta)                    \n"
   ]
  },
  {
   "cell_type": "code",
   "execution_count": 155,
   "metadata": {},
   "outputs": [
    {
     "name": "stderr",
     "output_type": "stream",
     "text": [
      "Wilcox test for EDev QTL distance p-value = 6.88109393982867e-222\n",
      "\n",
      "Wilcox test for EDev QTL effect size p-value = 5.50584142962086e-12\n",
      "\n"
     ]
    }
   ],
   "source": [
    "edev_dist = merge(snp_distances, edev_eqtl_df)\n",
    "edev_qtl_dist_test = wilcox.test(edev_dist$Closest[ edev_dist$`Fetal-Unique` == \"TRUE\"],\n",
    "                                 edev_dist$Closest[ edev_dist$`Fetal-Unique` == \"FALSE\"],\n",
    "                                 alternative = \"greater\")$p.value\n",
    "\n",
    "message(\"Wilcox test for EDev QTL distance p-value = \",edev_qtl_dist_test)\n",
    "\n",
    "edev_qtl_effect_test = wilcox.test(abs(edev_dist$Beta[ edev_dist$`Fetal-Unique` == \"TRUE\"]),\n",
    "                                 abs(edev_dist$Beta[ edev_dist$`Fetal-Unique` == \"FALSE\"]),\n",
    "                                   alternative = \"less\")$p.value\n",
    "\n",
    "message(\"Wilcox test for EDev QTL effect size p-value = \",edev_qtl_effect_test)\n",
    "\n",
    "edev_dist$Annotation = ifelse(edev_dist$`Fetal-Unique` == \"TRUE\", \"EDev-unique\",\"Shared\")\n",
    "dist_plt = ggplot(edev_dist, aes(Annotation, Closest/1000)) + theme_bw() +\n",
    "                ylim(c(0,1250)) + ylab(\"Distance from\\neGene TSS (kb)\") +\n",
    "                xlab(\"\") +\n",
    "                geom_boxplot(outlier.shape = NA) "
   ]
  },
  {
   "cell_type": "markdown",
   "metadata": {},
   "source": [
    "### Fetal eQTL Constraint - Figure 3c\n",
    "#### get constraint table `wget https://storage.googleapis.com/gcp-public-data--gnomad/release/4.0/constraint/gnomad.v4.0.constraint_metrics.tsv`"
   ]
  },
  {
   "cell_type": "code",
   "execution_count": 197,
   "metadata": {},
   "outputs": [],
   "source": [
    "constraint = fread(\"input/figure3/gnomad.v4.0.constraint_metrics.tsv\",sep=\"\\t\",data.table=F)\n"
   ]
  },
  {
   "cell_type": "code",
   "execution_count": 208,
   "metadata": {},
   "outputs": [
    {
     "data": {
      "text/html": [
       "9132"
      ],
      "text/latex": [
       "9132"
      ],
      "text/markdown": [
       "9132"
      ],
      "text/plain": [
       "[1] 9132"
      ]
     },
     "metadata": {},
     "output_type": "display_data"
    },
    {
     "data": {
      "text/html": [
       "957"
      ],
      "text/latex": [
       "957"
      ],
      "text/markdown": [
       "957"
      ],
      "text/plain": [
       "[1] 957"
      ]
     },
     "metadata": {},
     "output_type": "display_data"
    },
    {
     "data": {
      "text/plain": [
       "\n",
       "  ZZZ3    ZYX ZYG11B   ZXDC ZWILCH   ZW10 \n",
       "     1      1      1      1      1      1 "
      ]
     },
     "metadata": {},
     "output_type": "display_data"
    },
    {
     "data": {
      "text/plain": [
       "\n",
       "\tFisher's Exact Test for Count Data\n",
       "\n",
       "data:  matrix(c(133, 310, 1555, 6177), nrow = 2)\n",
       "p-value = 1.638e-06\n",
       "alternative hypothesis: true odds ratio is not equal to 1\n",
       "95 percent confidence interval:\n",
       " 1.369647 2.111512\n",
       "sample estimates:\n",
       "odds ratio \n",
       "  1.704137 \n"
      ]
     },
     "metadata": {},
     "output_type": "display_data"
    },
    {
     "data": {
      "text/plain": [
       "       \n",
       "        FALSE TRUE\n",
       "  FALSE  6177  310\n",
       "  TRUE   1555  133"
      ]
     },
     "metadata": {},
     "output_type": "display_data"
    }
   ],
   "source": [
    "eqtl_constraint = unique(merge(unique(fread(eqtl_path, sep=\"\\t\",data.table=F) %>% filter(Significant == \"TRUE\")\n",
    "                                %>% select(`Element Name`, `Fetal-Unique`) %>%\n",
    "                                rename(gene = `Element Name`)), \n",
    "                        constraint[ constraint$mane_select == \"TRUE\", c(\"gene\",\"lof_hc_lc.pLI\")]))\n",
    "length(unique(eqtl_constraint$gene))\n",
    "eqtl_constraint$tissue_fetal = ifelse(eqtl_constraint$gene %in% \n",
    "                                      names(table(eqtl_constraint$gene)[ table(eqtl_constraint$gene) > 1]),\"BOTH\",\n",
    "                                     ifelse(eqtl_constraint$`Fetal-Unique` == \"TRUE\",\"EDev-Unique\",\"Shared\"))\n",
    "eqtl_constraint = eqtl_constraint[ eqtl_constraint$tissue_fetal != \"BOTH\",]\n",
    "9132-nrow(eqtl_constraint)\n",
    "head(rev(sort(table(eqtl_constraint$gene))))\n",
    "eqtl_constraint$constrained = ifelse(eqtl_constraint$lof_hc_lc.pLI > 0.75 , \"TRUE\",\"FALSE\")\n",
    "fisher.test(matrix(c(133,310,1555,6177),nrow=2))\n",
    "table(eqtl_constraint$constrained,eqtl_constraint$`Fetal-Unique`)"
   ]
  },
  {
   "cell_type": "code",
   "execution_count": 191,
   "metadata": {},
   "outputs": [
    {
     "data": {
      "text/html": [
       "9.66490892712927e-07"
      ],
      "text/latex": [
       "9.66490892712927e-07"
      ],
      "text/markdown": [
       "9.66490892712927e-07"
      ],
      "text/plain": [
       "[1] 9.664909e-07"
      ]
     },
     "metadata": {},
     "output_type": "display_data"
    }
   ],
   "source": [
    "breaks = seq(0,1,0.05)\n",
    "eqtl_constraint$bin_annotation = cut(eqtl_constraint$lof_hc_lc.pLI, breaks, include.lowest = TRUE, labels = FALSE)\n",
    "bin_labels = sprintf(\"(%0.2f, %0.2f]\", head(breaks, -1), tail(breaks, -1))\n",
    "eqtl_constraint$bin_annotation_label <- cut(eqtl_constraint$lof_hc_lc.pLI, breaks, include.lowest = TRUE, labels = bin_labels)\n",
    "eqtl_constraint_tab = as.data.frame(table(eqtl_constraint$tissue_fetal,eqtl_constraint$bin_annotation_label))%>% \n",
    "                                        group_by(Var1) %>% mutate(Fraction = (Freq/sum(Freq)*100)) %>%\n",
    "                                        rename(Stage = Var1, pLI = Var2)\n",
    "psize(3,4.5)\n",
    "\n",
    "constraint_pval = wilcox.test(eqtl_constraint$lof_hc_lc.pLI[ eqtl_constraint$tissue_fetal == \"EDev-Unique\"],\n",
    "           eqtl_constraint$lof_hc_lc.pLI[ eqtl_constraint$tissue_fetal == \"Shared\"])$p.value\n",
    "constraint_pval\n",
    "cons_plt =ggplot(eqtl_constraint_tab, aes(pLI,Fraction, fill=Stage )) + theme_bw() +\n",
    "                theme(axis.text.x = element_text(angle = 90, vjust = 0.5, hjust=1)) +\n",
    "                ylab(\"Percent\\neGenes\") + xlab(\"Constraint (pLI)\") +\n",
    "                geom_bar(stat=\"identity\", position=\"dodge\") +\n",
    "                scale_fill_manual(values=c(\"#386CB0\",\"#A65628\"))"
   ]
  },
  {
   "cell_type": "code",
   "execution_count": 196,
   "metadata": {},
   "outputs": [
    {
     "name": "stderr",
     "output_type": "stream",
     "text": [
      "Warning message:\n",
      "“\u001b[1m\u001b[22mRemoved 9 rows containing non-finite values (`stat_boxplot()`).”\n"
     ]
    },
    {
     "data": {
      "text/html": [
       "<strong>png:</strong> 2"
      ],
      "text/latex": [
       "\\textbf{png:} 2"
      ],
      "text/markdown": [
       "**png:** 2"
      ],
      "text/plain": [
       "png \n",
       "  2 "
      ]
     },
     "metadata": {},
     "output_type": "display_data"
    }
   ],
   "source": [
    "psize(4,4.5)\n",
    "png(\"figures/Figure3.png\",res=300,units=\"in\",height = 4,width = 4.5)\n",
    "plot_grid(plot_grid(sum_plt, dist_plt, nrow=1, rel_widths = c(0.7,1), labels=c(\"a\",\"c\")),\n",
    "          plot_grid(cons_plt, labels=c(\"b\")), nrow=2)\n",
    "dev.off()"
   ]
  },
  {
   "cell_type": "code",
   "execution_count": null,
   "metadata": {},
   "outputs": [],
   "source": []
  },
  {
   "cell_type": "code",
   "execution_count": null,
   "metadata": {},
   "outputs": [],
   "source": []
  }
 ],
 "metadata": {
  "kernelspec": {
   "display_name": "R 4.0",
   "language": "R",
   "name": "ir40"
  },
  "language_info": {
   "codemirror_mode": "r",
   "file_extension": ".r",
   "mimetype": "text/x-r-source",
   "name": "R",
   "pygments_lexer": "r",
   "version": "4.0.1"
  }
 },
 "nbformat": 4,
 "nbformat_minor": 2
}
