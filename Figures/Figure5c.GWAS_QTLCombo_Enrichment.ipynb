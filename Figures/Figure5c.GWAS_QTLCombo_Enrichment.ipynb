{
 "cells": [
  {
   "cell_type": "code",
   "execution_count": 3,
   "metadata": {},
   "outputs": [],
   "source": [
    "setwd(\"/projects/CARDIPS/analysis/epigenome_resource\")\n",
    "source(\"analyses/jennifer/notebooks/functions.R\")\n",
    "\n",
    "set.seed(5366)"
   ]
  },
  {
   "cell_type": "markdown",
   "metadata": {},
   "source": [
    "# Figure 5c: Which QTL type is most enriched for GWAS colocalization? "
   ]
  },
  {
   "cell_type": "markdown",
   "metadata": {},
   "source": [
    "## read supplemental table for GWAS colocalizations"
   ]
  },
  {
   "cell_type": "code",
   "execution_count": 4,
   "metadata": {},
   "outputs": [
    {
     "data": {
      "text/html": [
       "<style>\n",
       ".list-inline {list-style: none; margin:0; padding: 0}\n",
       ".list-inline>li {display: inline-block}\n",
       ".list-inline>li:not(:last-child)::after {content: \"\\00b7\"; padding: 0 .5ex}\n",
       "</style>\n",
       "<ol class=list-inline><li>'Tissue'</li><li>'Trait_Description'</li><li>'Trait_ID'</li><li>'Cluster_ID'</li><li>'QTL_Combination'</li><li>'Membership'</li><li>'Element_ID'</li><li>'Condition'</li><li>'Element_Cond'</li><li>'Element_Name'</li><li>'Element_Chrom'</li><li>'Element_Start'</li><li>'Element_End'</li><li>'Nsnps'</li><li>'PP.H0'</li><li>'PP.H1'</li><li>'PP.H2'</li><li>'PP.H3'</li><li>'PP.H4'</li><li>'Max_Hypothesis_PP'</li><li>'Likely_Colocalization_Hypothesis'</li><li>'Top_SNP_ID'</li><li>'Top_SNP_PP'</li><li>'Proportion_Module_Colocalized'</li><li>'Beta.QTL'</li><li>'SE.QTL'</li><li>'Pvalue.QTL'</li><li>'Beta.GWAS'</li><li>'SE.GWAS'</li><li>'Pvalue.GWAS'</li><li>'99Credible_Set_Size'</li><li>'Colocalized'</li><li>'Has_TFBS'</li><li>'GWAS_Index'</li><li>'GWAS_QTL_Combination_Collapse'</li><li>'Fetal_Unique_QTL'</li><li>'Fetal_Unique_GWAS_Locus'</li></ol>\n"
      ],
      "text/latex": [
       "\\begin{enumerate*}\n",
       "\\item 'Tissue'\n",
       "\\item 'Trait\\_Description'\n",
       "\\item 'Trait\\_ID'\n",
       "\\item 'Cluster\\_ID'\n",
       "\\item 'QTL\\_Combination'\n",
       "\\item 'Membership'\n",
       "\\item 'Element\\_ID'\n",
       "\\item 'Condition'\n",
       "\\item 'Element\\_Cond'\n",
       "\\item 'Element\\_Name'\n",
       "\\item 'Element\\_Chrom'\n",
       "\\item 'Element\\_Start'\n",
       "\\item 'Element\\_End'\n",
       "\\item 'Nsnps'\n",
       "\\item 'PP.H0'\n",
       "\\item 'PP.H1'\n",
       "\\item 'PP.H2'\n",
       "\\item 'PP.H3'\n",
       "\\item 'PP.H4'\n",
       "\\item 'Max\\_Hypothesis\\_PP'\n",
       "\\item 'Likely\\_Colocalization\\_Hypothesis'\n",
       "\\item 'Top\\_SNP\\_ID'\n",
       "\\item 'Top\\_SNP\\_PP'\n",
       "\\item 'Proportion\\_Module\\_Colocalized'\n",
       "\\item 'Beta.QTL'\n",
       "\\item 'SE.QTL'\n",
       "\\item 'Pvalue.QTL'\n",
       "\\item 'Beta.GWAS'\n",
       "\\item 'SE.GWAS'\n",
       "\\item 'Pvalue.GWAS'\n",
       "\\item '99Credible\\_Set\\_Size'\n",
       "\\item 'Colocalized'\n",
       "\\item 'Has\\_TFBS'\n",
       "\\item 'GWAS\\_Index'\n",
       "\\item 'GWAS\\_QTL\\_Combination\\_Collapse'\n",
       "\\item 'Fetal\\_Unique\\_QTL'\n",
       "\\item 'Fetal\\_Unique\\_GWAS\\_Locus'\n",
       "\\end{enumerate*}\n"
      ],
      "text/markdown": [
       "1. 'Tissue'\n",
       "2. 'Trait_Description'\n",
       "3. 'Trait_ID'\n",
       "4. 'Cluster_ID'\n",
       "5. 'QTL_Combination'\n",
       "6. 'Membership'\n",
       "7. 'Element_ID'\n",
       "8. 'Condition'\n",
       "9. 'Element_Cond'\n",
       "10. 'Element_Name'\n",
       "11. 'Element_Chrom'\n",
       "12. 'Element_Start'\n",
       "13. 'Element_End'\n",
       "14. 'Nsnps'\n",
       "15. 'PP.H0'\n",
       "16. 'PP.H1'\n",
       "17. 'PP.H2'\n",
       "18. 'PP.H3'\n",
       "19. 'PP.H4'\n",
       "20. 'Max_Hypothesis_PP'\n",
       "21. 'Likely_Colocalization_Hypothesis'\n",
       "22. 'Top_SNP_ID'\n",
       "23. 'Top_SNP_PP'\n",
       "24. 'Proportion_Module_Colocalized'\n",
       "25. 'Beta.QTL'\n",
       "26. 'SE.QTL'\n",
       "27. 'Pvalue.QTL'\n",
       "28. 'Beta.GWAS'\n",
       "29. 'SE.GWAS'\n",
       "30. 'Pvalue.GWAS'\n",
       "31. '99Credible_Set_Size'\n",
       "32. 'Colocalized'\n",
       "33. 'Has_TFBS'\n",
       "34. 'GWAS_Index'\n",
       "35. 'GWAS_QTL_Combination_Collapse'\n",
       "36. 'Fetal_Unique_QTL'\n",
       "37. 'Fetal_Unique_GWAS_Locus'\n",
       "\n",
       "\n"
      ],
      "text/plain": [
       " [1] \"Tissue\"                           \"Trait_Description\"               \n",
       " [3] \"Trait_ID\"                         \"Cluster_ID\"                      \n",
       " [5] \"QTL_Combination\"                  \"Membership\"                      \n",
       " [7] \"Element_ID\"                       \"Condition\"                       \n",
       " [9] \"Element_Cond\"                     \"Element_Name\"                    \n",
       "[11] \"Element_Chrom\"                    \"Element_Start\"                   \n",
       "[13] \"Element_End\"                      \"Nsnps\"                           \n",
       "[15] \"PP.H0\"                            \"PP.H1\"                           \n",
       "[17] \"PP.H2\"                            \"PP.H3\"                           \n",
       "[19] \"PP.H4\"                            \"Max_Hypothesis_PP\"               \n",
       "[21] \"Likely_Colocalization_Hypothesis\" \"Top_SNP_ID\"                      \n",
       "[23] \"Top_SNP_PP\"                       \"Proportion_Module_Colocalized\"   \n",
       "[25] \"Beta.QTL\"                         \"SE.QTL\"                          \n",
       "[27] \"Pvalue.QTL\"                       \"Beta.GWAS\"                       \n",
       "[29] \"SE.GWAS\"                          \"Pvalue.GWAS\"                     \n",
       "[31] \"99Credible_Set_Size\"              \"Colocalized\"                     \n",
       "[33] \"Has_TFBS\"                         \"GWAS_Index\"                      \n",
       "[35] \"GWAS_QTL_Combination_Collapse\"    \"Fetal_Unique_QTL\"                \n",
       "[37] \"Fetal_Unique_GWAS_Locus\"         "
      ]
     },
     "metadata": {},
     "output_type": "display_data"
    },
    {
     "data": {
      "text/html": [
       "<table class=\"dataframe\">\n",
       "<caption>A data.frame: 2 × 37</caption>\n",
       "<thead>\n",
       "\t<tr><th></th><th scope=col>Tissue</th><th scope=col>Trait_Description</th><th scope=col>Trait_ID</th><th scope=col>Cluster_ID</th><th scope=col>QTL_Combination</th><th scope=col>Membership</th><th scope=col>Element_ID</th><th scope=col>Condition</th><th scope=col>Element_Cond</th><th scope=col>Element_Name</th><th scope=col>⋯</th><th scope=col>Beta.GWAS</th><th scope=col>SE.GWAS</th><th scope=col>Pvalue.GWAS</th><th scope=col>99Credible_Set_Size</th><th scope=col>Colocalized</th><th scope=col>Has_TFBS</th><th scope=col>GWAS_Index</th><th scope=col>GWAS_QTL_Combination_Collapse</th><th scope=col>Fetal_Unique_QTL</th><th scope=col>Fetal_Unique_GWAS_Locus</th></tr>\n",
       "\t<tr><th></th><th scope=col>&lt;chr&gt;</th><th scope=col>&lt;chr&gt;</th><th scope=col>&lt;chr&gt;</th><th scope=col>&lt;chr&gt;</th><th scope=col>&lt;chr&gt;</th><th scope=col>&lt;chr&gt;</th><th scope=col>&lt;chr&gt;</th><th scope=col>&lt;int&gt;</th><th scope=col>&lt;chr&gt;</th><th scope=col>&lt;chr&gt;</th><th scope=col>⋯</th><th scope=col>&lt;dbl&gt;</th><th scope=col>&lt;dbl&gt;</th><th scope=col>&lt;dbl&gt;</th><th scope=col>&lt;int&gt;</th><th scope=col>&lt;lgl&gt;</th><th scope=col>&lt;lgl&gt;</th><th scope=col>&lt;chr&gt;</th><th scope=col>&lt;chr&gt;</th><th scope=col>&lt;lgl&gt;</th><th scope=col>&lt;chr&gt;</th></tr>\n",
       "</thead>\n",
       "<tbody>\n",
       "\t<tr><th scope=row>1</th><td>CVPC</td><td>Aging</td><td>timmers2020_healthspan_lifespan_longevity</td><td>CVPC_1059</td><td>caQTL-haQTL</td><td>Module</td><td>cvpc_chip_peak_9032 </td><td>0</td><td>cvpc_chip_peak_9032_0 </td><td>cvpc_chip_peak_9032 </td><td>⋯</td><td>0.000275</td><td>0.001687</td><td>0.870348</td><td>121</td><td>FALSE</td><td>FALSE</td><td>No Colocalization</td><td>No Colocalization</td><td>TRUE</td><td>No Colocalization</td></tr>\n",
       "\t<tr><th scope=row>2</th><td>CVPC</td><td>Aging</td><td>timmers2020_healthspan_lifespan_longevity</td><td>CVPC_1059</td><td>caQTL-haQTL</td><td>Module</td><td>cvpc_atac_peak_37717</td><td>0</td><td>cvpc_atac_peak_37717_0</td><td>cvpc_atac_peak_37717</td><td>⋯</td><td>0.000275</td><td>0.001687</td><td>0.870348</td><td>166</td><td>FALSE</td><td>FALSE</td><td>No Colocalization</td><td>No Colocalization</td><td>TRUE</td><td>No Colocalization</td></tr>\n",
       "</tbody>\n",
       "</table>\n"
      ],
      "text/latex": [
       "A data.frame: 2 × 37\n",
       "\\begin{tabular}{r|lllllllllllllllllllll}\n",
       "  & Tissue & Trait\\_Description & Trait\\_ID & Cluster\\_ID & QTL\\_Combination & Membership & Element\\_ID & Condition & Element\\_Cond & Element\\_Name & ⋯ & Beta.GWAS & SE.GWAS & Pvalue.GWAS & 99Credible\\_Set\\_Size & Colocalized & Has\\_TFBS & GWAS\\_Index & GWAS\\_QTL\\_Combination\\_Collapse & Fetal\\_Unique\\_QTL & Fetal\\_Unique\\_GWAS\\_Locus\\\\\n",
       "  & <chr> & <chr> & <chr> & <chr> & <chr> & <chr> & <chr> & <int> & <chr> & <chr> & ⋯ & <dbl> & <dbl> & <dbl> & <int> & <lgl> & <lgl> & <chr> & <chr> & <lgl> & <chr>\\\\\n",
       "\\hline\n",
       "\t1 & CVPC & Aging & timmers2020\\_healthspan\\_lifespan\\_longevity & CVPC\\_1059 & caQTL-haQTL & Module & cvpc\\_chip\\_peak\\_9032  & 0 & cvpc\\_chip\\_peak\\_9032\\_0  & cvpc\\_chip\\_peak\\_9032  & ⋯ & 0.000275 & 0.001687 & 0.870348 & 121 & FALSE & FALSE & No Colocalization & No Colocalization & TRUE & No Colocalization\\\\\n",
       "\t2 & CVPC & Aging & timmers2020\\_healthspan\\_lifespan\\_longevity & CVPC\\_1059 & caQTL-haQTL & Module & cvpc\\_atac\\_peak\\_37717 & 0 & cvpc\\_atac\\_peak\\_37717\\_0 & cvpc\\_atac\\_peak\\_37717 & ⋯ & 0.000275 & 0.001687 & 0.870348 & 166 & FALSE & FALSE & No Colocalization & No Colocalization & TRUE & No Colocalization\\\\\n",
       "\\end{tabular}\n"
      ],
      "text/markdown": [
       "\n",
       "A data.frame: 2 × 37\n",
       "\n",
       "| <!--/--> | Tissue &lt;chr&gt; | Trait_Description &lt;chr&gt; | Trait_ID &lt;chr&gt; | Cluster_ID &lt;chr&gt; | QTL_Combination &lt;chr&gt; | Membership &lt;chr&gt; | Element_ID &lt;chr&gt; | Condition &lt;int&gt; | Element_Cond &lt;chr&gt; | Element_Name &lt;chr&gt; | ⋯ ⋯ | Beta.GWAS &lt;dbl&gt; | SE.GWAS &lt;dbl&gt; | Pvalue.GWAS &lt;dbl&gt; | 99Credible_Set_Size &lt;int&gt; | Colocalized &lt;lgl&gt; | Has_TFBS &lt;lgl&gt; | GWAS_Index &lt;chr&gt; | GWAS_QTL_Combination_Collapse &lt;chr&gt; | Fetal_Unique_QTL &lt;lgl&gt; | Fetal_Unique_GWAS_Locus &lt;chr&gt; |\n",
       "|---|---|---|---|---|---|---|---|---|---|---|---|---|---|---|---|---|---|---|---|---|---|\n",
       "| 1 | CVPC | Aging | timmers2020_healthspan_lifespan_longevity | CVPC_1059 | caQTL-haQTL | Module | cvpc_chip_peak_9032  | 0 | cvpc_chip_peak_9032_0  | cvpc_chip_peak_9032  | ⋯ | 0.000275 | 0.001687 | 0.870348 | 121 | FALSE | FALSE | No Colocalization | No Colocalization | TRUE | No Colocalization |\n",
       "| 2 | CVPC | Aging | timmers2020_healthspan_lifespan_longevity | CVPC_1059 | caQTL-haQTL | Module | cvpc_atac_peak_37717 | 0 | cvpc_atac_peak_37717_0 | cvpc_atac_peak_37717 | ⋯ | 0.000275 | 0.001687 | 0.870348 | 166 | FALSE | FALSE | No Colocalization | No Colocalization | TRUE | No Colocalization |\n",
       "\n"
      ],
      "text/plain": [
       "  Tissue Trait_Description Trait_ID                                  Cluster_ID\n",
       "1 CVPC   Aging             timmers2020_healthspan_lifespan_longevity CVPC_1059 \n",
       "2 CVPC   Aging             timmers2020_healthspan_lifespan_longevity CVPC_1059 \n",
       "  QTL_Combination Membership Element_ID           Condition\n",
       "1 caQTL-haQTL     Module     cvpc_chip_peak_9032  0        \n",
       "2 caQTL-haQTL     Module     cvpc_atac_peak_37717 0        \n",
       "  Element_Cond           Element_Name         ⋯ Beta.GWAS SE.GWAS  Pvalue.GWAS\n",
       "1 cvpc_chip_peak_9032_0  cvpc_chip_peak_9032  ⋯ 0.000275  0.001687 0.870348   \n",
       "2 cvpc_atac_peak_37717_0 cvpc_atac_peak_37717 ⋯ 0.000275  0.001687 0.870348   \n",
       "  99Credible_Set_Size Colocalized Has_TFBS GWAS_Index       \n",
       "1 121                 FALSE       FALSE    No Colocalization\n",
       "2 166                 FALSE       FALSE    No Colocalization\n",
       "  GWAS_QTL_Combination_Collapse Fetal_Unique_QTL Fetal_Unique_GWAS_Locus\n",
       "1 No Colocalization             TRUE             No Colocalization      \n",
       "2 No Colocalization             TRUE             No Colocalization      "
      ]
     },
     "metadata": {},
     "output_type": "display_data"
    }
   ],
   "source": [
    "gwas_coloc = fread(\"manuscript/tables/Table_SX_GWAS_Colocalizations.txt\", data.table = F)\n",
    "colnames(gwas_coloc)\n",
    "\n",
    "head(gwas_coloc,2)"
   ]
  },
  {
   "cell_type": "markdown",
   "metadata": {},
   "source": [
    "## number of QTL modules / singletons that colocalized"
   ]
  },
  {
   "cell_type": "code",
   "execution_count": 7,
   "metadata": {},
   "outputs": [
    {
     "data": {
      "text/html": [
       "896"
      ],
      "text/latex": [
       "896"
      ],
      "text/markdown": [
       "896"
      ],
      "text/plain": [
       "[1] 896"
      ]
     },
     "metadata": {},
     "output_type": "display_data"
    }
   ],
   "source": [
    "length(unique(gwas_coloc[gwas_coloc$Colocalized == T,]$Cluster_ID))"
   ]
  },
  {
   "cell_type": "markdown",
   "metadata": {},
   "source": [
    "## prepare data for enrichment by annotating each cluster by whether they colocalized with GWAS or not"
   ]
  },
  {
   "cell_type": "code",
   "execution_count": 9,
   "metadata": {},
   "outputs": [
    {
     "data": {
      "text/html": [
       "<table class=\"dataframe\">\n",
       "<caption>A data.frame: 2 × 4</caption>\n",
       "<thead>\n",
       "\t<tr><th></th><th scope=col>Cluster_ID</th><th scope=col>QTL_Combination</th><th scope=col>Colocalized</th><th scope=col>Membership</th></tr>\n",
       "\t<tr><th></th><th scope=col>&lt;chr&gt;</th><th scope=col>&lt;chr&gt;</th><th scope=col>&lt;lgl&gt;</th><th scope=col>&lt;chr&gt;</th></tr>\n",
       "</thead>\n",
       "<tbody>\n",
       "\t<tr><th scope=row>1</th><td>CVPC_10833</td><td>eQTL </td><td>TRUE</td><td>Singleton</td></tr>\n",
       "\t<tr><th scope=row>2</th><td>CVPC_10854</td><td>haQTL</td><td>TRUE</td><td>Singleton</td></tr>\n",
       "</tbody>\n",
       "</table>\n"
      ],
      "text/latex": [
       "A data.frame: 2 × 4\n",
       "\\begin{tabular}{r|llll}\n",
       "  & Cluster\\_ID & QTL\\_Combination & Colocalized & Membership\\\\\n",
       "  & <chr> & <chr> & <lgl> & <chr>\\\\\n",
       "\\hline\n",
       "\t1 & CVPC\\_10833 & eQTL  & TRUE & Singleton\\\\\n",
       "\t2 & CVPC\\_10854 & haQTL & TRUE & Singleton\\\\\n",
       "\\end{tabular}\n"
      ],
      "text/markdown": [
       "\n",
       "A data.frame: 2 × 4\n",
       "\n",
       "| <!--/--> | Cluster_ID &lt;chr&gt; | QTL_Combination &lt;chr&gt; | Colocalized &lt;lgl&gt; | Membership &lt;chr&gt; |\n",
       "|---|---|---|---|---|\n",
       "| 1 | CVPC_10833 | eQTL  | TRUE | Singleton |\n",
       "| 2 | CVPC_10854 | haQTL | TRUE | Singleton |\n",
       "\n"
      ],
      "text/plain": [
       "  Cluster_ID QTL_Combination Colocalized Membership\n",
       "1 CVPC_10833 eQTL            TRUE        Singleton \n",
       "2 CVPC_10854 haQTL           TRUE        Singleton "
      ]
     },
     "metadata": {},
     "output_type": "display_data"
    }
   ],
   "source": [
    "# Sort table by T/F for GWAS Colocalization and remove duplicates\n",
    "# This outputs a list of all tested QTL clusters, annotated by whether they colocalized with GWAS or not\n",
    "gwas_coloc2 = gwas_coloc %>% \n",
    "    select(Cluster_ID, QTL_Combination, Colocalized, Membership) %>% \n",
    "    arrange(desc(Colocalized)) %>% \n",
    "    filter(duplicated(Cluster_ID) == F)\n",
    "\n",
    "head(gwas_coloc2,2)"
   ]
  },
  {
   "cell_type": "markdown",
   "metadata": {},
   "source": [
    "## how many clusters per QTL combination"
   ]
  },
  {
   "cell_type": "code",
   "execution_count": 10,
   "metadata": {},
   "outputs": [
    {
     "data": {
      "text/plain": [
       "\n",
       "           caQTL       caQTL-eQTL      caQTL-haQTL caQTL-haQTL-eQTL \n",
       "           31632             1917             1099              347 \n",
       "            eQTL            haQTL       haQTL-eQTL \n",
       "           25849             9984              229 "
      ]
     },
     "metadata": {},
     "output_type": "display_data"
    }
   ],
   "source": [
    "table(gwas_coloc2$QTL_Combination)"
   ]
  },
  {
   "cell_type": "markdown",
   "metadata": {},
   "source": [
    "## check that there are no duplicate QTL clusters"
   ]
  },
  {
   "cell_type": "code",
   "execution_count": 11,
   "metadata": {},
   "outputs": [
    {
     "data": {
      "text/html": [
       "<table class=\"dataframe\">\n",
       "<caption>A data.frame: 0 × 4</caption>\n",
       "<thead>\n",
       "\t<tr><th scope=col>Cluster_ID</th><th scope=col>QTL_Combination</th><th scope=col>Colocalized</th><th scope=col>Membership</th></tr>\n",
       "\t<tr><th scope=col>&lt;chr&gt;</th><th scope=col>&lt;chr&gt;</th><th scope=col>&lt;lgl&gt;</th><th scope=col>&lt;chr&gt;</th></tr>\n",
       "</thead>\n",
       "<tbody>\n",
       "</tbody>\n",
       "</table>\n"
      ],
      "text/latex": [
       "A data.frame: 0 × 4\n",
       "\\begin{tabular}{llll}\n",
       " Cluster\\_ID & QTL\\_Combination & Colocalized & Membership\\\\\n",
       " <chr> & <chr> & <lgl> & <chr>\\\\\n",
       "\\hline\n",
       "\\end{tabular}\n"
      ],
      "text/markdown": [
       "\n",
       "A data.frame: 0 × 4\n",
       "\n",
       "| Cluster_ID &lt;chr&gt; | QTL_Combination &lt;chr&gt; | Colocalized &lt;lgl&gt; | Membership &lt;chr&gt; |\n",
       "|---|---|---|---|\n",
       "\n"
      ],
      "text/plain": [
       "     Cluster_ID QTL_Combination Colocalized Membership"
      ]
     },
     "metadata": {},
     "output_type": "display_data"
    }
   ],
   "source": [
    "gwas_coloc2 %>% filter(duplicated(Cluster_ID))"
   ]
  },
  {
   "cell_type": "markdown",
   "metadata": {},
   "source": [
    "## annotate cluster"
   ]
  },
  {
   "cell_type": "code",
   "execution_count": 12,
   "metadata": {},
   "outputs": [
    {
     "data": {
      "text/html": [
       "<style>\n",
       ".list-inline {list-style: none; margin:0; padding: 0}\n",
       ".list-inline>li {display: inline-block}\n",
       ".list-inline>li:not(:last-child)::after {content: \"\\00b7\"; padding: 0 .5ex}\n",
       "</style>\n",
       "<ol class=list-inline><li>'Singleton eQTL'</li><li>'Singleton haQTL'</li><li>'Singleton caQTL'</li><li>'Module caQTL-eQTL'</li><li>'Module haQTL-eQTL'</li><li>'Module caQTL-haQTL-eQTL'</li><li>'Module caQTL-haQTL'</li><li>'Module haQTL'</li><li>'Module caQTL'</li><li>'Module eQTL'</li></ol>\n"
      ],
      "text/latex": [
       "\\begin{enumerate*}\n",
       "\\item 'Singleton eQTL'\n",
       "\\item 'Singleton haQTL'\n",
       "\\item 'Singleton caQTL'\n",
       "\\item 'Module caQTL-eQTL'\n",
       "\\item 'Module haQTL-eQTL'\n",
       "\\item 'Module caQTL-haQTL-eQTL'\n",
       "\\item 'Module caQTL-haQTL'\n",
       "\\item 'Module haQTL'\n",
       "\\item 'Module caQTL'\n",
       "\\item 'Module eQTL'\n",
       "\\end{enumerate*}\n"
      ],
      "text/markdown": [
       "1. 'Singleton eQTL'\n",
       "2. 'Singleton haQTL'\n",
       "3. 'Singleton caQTL'\n",
       "4. 'Module caQTL-eQTL'\n",
       "5. 'Module haQTL-eQTL'\n",
       "6. 'Module caQTL-haQTL-eQTL'\n",
       "7. 'Module caQTL-haQTL'\n",
       "8. 'Module haQTL'\n",
       "9. 'Module caQTL'\n",
       "10. 'Module eQTL'\n",
       "\n",
       "\n"
      ],
      "text/plain": [
       " [1] \"Singleton eQTL\"          \"Singleton haQTL\"        \n",
       " [3] \"Singleton caQTL\"         \"Module caQTL-eQTL\"      \n",
       " [5] \"Module haQTL-eQTL\"       \"Module caQTL-haQTL-eQTL\"\n",
       " [7] \"Module caQTL-haQTL\"      \"Module haQTL\"           \n",
       " [9] \"Module caQTL\"            \"Module eQTL\"            "
      ]
     },
     "metadata": {},
     "output_type": "display_data"
    }
   ],
   "source": [
    "# annotate each cluster by:\n",
    "# 1. whether the cluster was a module or a singleton \n",
    "# 2. their molecular phenotypes as well\n",
    "gwas_coloc3 = gwas_coloc2 %>%\n",
    "    mutate(QTL_Combination = paste(Membership, QTL_Combination))\n",
    "\n",
    "unique(gwas_coloc3$QTL_Combination)\n"
   ]
  },
  {
   "cell_type": "markdown",
   "metadata": {},
   "source": [
    "## test enrichment using two-sided fisher's exact tests"
   ]
  },
  {
   "cell_type": "code",
   "execution_count": 20,
   "metadata": {},
   "outputs": [
    {
     "data": {
      "text/html": [
       "<table class=\"dataframe\">\n",
       "<caption>A data.frame: 10 × 10</caption>\n",
       "<thead>\n",
       "\t<tr><th scope=col>qtl_combo</th><th scope=col>estimate</th><th scope=col>pval</th><th scope=col>ci1</th><th scope=col>ci2</th><th scope=col>in_frac</th><th scope=col>ot_frac</th><th scope=col>qval</th><th scope=col>int_zero</th><th scope=col>is_sig</th></tr>\n",
       "\t<tr><th scope=col>&lt;fct&gt;</th><th scope=col>&lt;dbl&gt;</th><th scope=col>&lt;dbl&gt;</th><th scope=col>&lt;dbl&gt;</th><th scope=col>&lt;dbl&gt;</th><th scope=col>&lt;dbl&gt;</th><th scope=col>&lt;dbl&gt;</th><th scope=col>&lt;dbl&gt;</th><th scope=col>&lt;dbl&gt;</th><th scope=col>&lt;chr&gt;</th></tr>\n",
       "</thead>\n",
       "<tbody>\n",
       "\t<tr><td>Module caQTL-haQTL-eQTL</td><td>7.6324365</td><td>2.523810e-16</td><td>5.0341094</td><td>11.1916907</td><td>8.6455331</td><td>1.224721</td><td>8.412700e-16</td><td>6.83698665</td><td><span style=white-space:pre-wrap>Significant (FDR&lt;0.05)     </span></td></tr>\n",
       "\t<tr><td><span style=white-space:pre-wrap>Module haQTL           </span></td><td>6.2694311</td><td>2.092493e-04</td><td>2.4419856</td><td>13.5233422</td><td>7.3684211</td><td>1.252783</td><td>2.324993e-04</td><td>3.41119970</td><td><span style=white-space:pre-wrap>Significant (FDR&lt;0.05)     </span></td></tr>\n",
       "\t<tr><td><span style=white-space:pre-wrap>Module caQTL-eQTL      </span></td><td>5.5848250</td><td>1.340945e-43</td><td>4.5269650</td><td> 6.8420019</td><td>5.9989567</td><td>1.129592</td><td>1.340945e-42</td><td>5.40608360</td><td><span style=white-space:pre-wrap>Significant (FDR&lt;0.05)     </span></td></tr>\n",
       "\t<tr><td><span style=white-space:pre-wrap>Module haQTL-eQTL      </span></td><td>5.1643330</td><td>1.600360e-06</td><td>2.7647371</td><td> 8.8991049</td><td>6.1135371</td><td>1.245270</td><td>2.000450e-06</td><td>3.47504693</td><td><span style=white-space:pre-wrap>Significant (FDR&lt;0.05)     </span></td></tr>\n",
       "\t<tr><td><span style=white-space:pre-wrap>Module eQTL            </span></td><td>4.1250990</td><td>1.098060e-14</td><td>2.9861998</td><td> 5.5806081</td><td>4.8155738</td><td>1.211455</td><td>2.745149e-14</td><td>3.22674371</td><td><span style=white-space:pre-wrap>Significant (FDR&lt;0.05)     </span></td></tr>\n",
       "\t<tr><td><span style=white-space:pre-wrap>Module caQTL           </span></td><td>3.8217082</td><td>5.264005e-08</td><td>2.4367451</td><td> 5.7431060</td><td>4.5620438</td><td>1.235303</td><td>7.520007e-08</td><td>2.48538330</td><td><span style=white-space:pre-wrap>Significant (FDR&lt;0.05)     </span></td></tr>\n",
       "\t<tr><td><span style=white-space:pre-wrap>Module caQTL-haQTL     </span></td><td>3.2987437</td><td>1.196645e-10</td><td>2.3555567</td><td> 4.5130710</td><td>3.9126479</td><td>1.219303</td><td>1.994408e-10</td><td>2.12840620</td><td><span style=white-space:pre-wrap>Significant (FDR&lt;0.05)     </span></td></tr>\n",
       "\t<tr><td><span style=white-space:pre-wrap>Singleton eQTL         </span></td><td>0.8781323</td><td>7.228954e-02</td><td>0.7599207</td><td> 1.0128434</td><td>1.1578820</td><td>1.316473</td><td>7.228954e-02</td><td>0.07426077</td><td>Not Significant (FDR&gt;0.05) </td></tr>\n",
       "\t<tr><td><span style=white-space:pre-wrap>Singleton caQTL        </span></td><td>0.5478104</td><td>2.701801e-17</td><td>0.4727410</td><td> 0.6334460</td><td>0.8653970</td><td>1.568559</td><td>1.350901e-16</td><td>0.93847389</td><td><span style=white-space:pre-wrap>Significant (FDR&lt;0.05)     </span></td></tr>\n",
       "\t<tr><td><span style=white-space:pre-wrap>Singleton haQTL        </span></td><td>0.4247390</td><td>1.769929e-12</td><td>0.3194467</td><td> 0.5551216</td><td>0.5865103</td><td>1.369997</td><td>3.539858e-12</td><td>2.03382410</td><td><span style=white-space:pre-wrap>Significant (FDR&lt;0.05)     </span></td></tr>\n",
       "</tbody>\n",
       "</table>\n"
      ],
      "text/latex": [
       "A data.frame: 10 × 10\n",
       "\\begin{tabular}{llllllllll}\n",
       " qtl\\_combo & estimate & pval & ci1 & ci2 & in\\_frac & ot\\_frac & qval & int\\_zero & is\\_sig\\\\\n",
       " <fct> & <dbl> & <dbl> & <dbl> & <dbl> & <dbl> & <dbl> & <dbl> & <dbl> & <chr>\\\\\n",
       "\\hline\n",
       "\t Module caQTL-haQTL-eQTL & 7.6324365 & 2.523810e-16 & 5.0341094 & 11.1916907 & 8.6455331 & 1.224721 & 8.412700e-16 & 6.83698665 & Significant (FDR<0.05)     \\\\\n",
       "\t Module haQTL            & 6.2694311 & 2.092493e-04 & 2.4419856 & 13.5233422 & 7.3684211 & 1.252783 & 2.324993e-04 & 3.41119970 & Significant (FDR<0.05)     \\\\\n",
       "\t Module caQTL-eQTL       & 5.5848250 & 1.340945e-43 & 4.5269650 &  6.8420019 & 5.9989567 & 1.129592 & 1.340945e-42 & 5.40608360 & Significant (FDR<0.05)     \\\\\n",
       "\t Module haQTL-eQTL       & 5.1643330 & 1.600360e-06 & 2.7647371 &  8.8991049 & 6.1135371 & 1.245270 & 2.000450e-06 & 3.47504693 & Significant (FDR<0.05)     \\\\\n",
       "\t Module eQTL             & 4.1250990 & 1.098060e-14 & 2.9861998 &  5.5806081 & 4.8155738 & 1.211455 & 2.745149e-14 & 3.22674371 & Significant (FDR<0.05)     \\\\\n",
       "\t Module caQTL            & 3.8217082 & 5.264005e-08 & 2.4367451 &  5.7431060 & 4.5620438 & 1.235303 & 7.520007e-08 & 2.48538330 & Significant (FDR<0.05)     \\\\\n",
       "\t Module caQTL-haQTL      & 3.2987437 & 1.196645e-10 & 2.3555567 &  4.5130710 & 3.9126479 & 1.219303 & 1.994408e-10 & 2.12840620 & Significant (FDR<0.05)     \\\\\n",
       "\t Singleton eQTL          & 0.8781323 & 7.228954e-02 & 0.7599207 &  1.0128434 & 1.1578820 & 1.316473 & 7.228954e-02 & 0.07426077 & Not Significant (FDR>0.05) \\\\\n",
       "\t Singleton caQTL         & 0.5478104 & 2.701801e-17 & 0.4727410 &  0.6334460 & 0.8653970 & 1.568559 & 1.350901e-16 & 0.93847389 & Significant (FDR<0.05)     \\\\\n",
       "\t Singleton haQTL         & 0.4247390 & 1.769929e-12 & 0.3194467 &  0.5551216 & 0.5865103 & 1.369997 & 3.539858e-12 & 2.03382410 & Significant (FDR<0.05)     \\\\\n",
       "\\end{tabular}\n"
      ],
      "text/markdown": [
       "\n",
       "A data.frame: 10 × 10\n",
       "\n",
       "| qtl_combo &lt;fct&gt; | estimate &lt;dbl&gt; | pval &lt;dbl&gt; | ci1 &lt;dbl&gt; | ci2 &lt;dbl&gt; | in_frac &lt;dbl&gt; | ot_frac &lt;dbl&gt; | qval &lt;dbl&gt; | int_zero &lt;dbl&gt; | is_sig &lt;chr&gt; |\n",
       "|---|---|---|---|---|---|---|---|---|---|\n",
       "| Module caQTL-haQTL-eQTL | 7.6324365 | 2.523810e-16 | 5.0341094 | 11.1916907 | 8.6455331 | 1.224721 | 8.412700e-16 | 6.83698665 | Significant (FDR&lt;0.05)      |\n",
       "| Module haQTL            | 6.2694311 | 2.092493e-04 | 2.4419856 | 13.5233422 | 7.3684211 | 1.252783 | 2.324993e-04 | 3.41119970 | Significant (FDR&lt;0.05)      |\n",
       "| Module caQTL-eQTL       | 5.5848250 | 1.340945e-43 | 4.5269650 |  6.8420019 | 5.9989567 | 1.129592 | 1.340945e-42 | 5.40608360 | Significant (FDR&lt;0.05)      |\n",
       "| Module haQTL-eQTL       | 5.1643330 | 1.600360e-06 | 2.7647371 |  8.8991049 | 6.1135371 | 1.245270 | 2.000450e-06 | 3.47504693 | Significant (FDR&lt;0.05)      |\n",
       "| Module eQTL             | 4.1250990 | 1.098060e-14 | 2.9861998 |  5.5806081 | 4.8155738 | 1.211455 | 2.745149e-14 | 3.22674371 | Significant (FDR&lt;0.05)      |\n",
       "| Module caQTL            | 3.8217082 | 5.264005e-08 | 2.4367451 |  5.7431060 | 4.5620438 | 1.235303 | 7.520007e-08 | 2.48538330 | Significant (FDR&lt;0.05)      |\n",
       "| Module caQTL-haQTL      | 3.2987437 | 1.196645e-10 | 2.3555567 |  4.5130710 | 3.9126479 | 1.219303 | 1.994408e-10 | 2.12840620 | Significant (FDR&lt;0.05)      |\n",
       "| Singleton eQTL          | 0.8781323 | 7.228954e-02 | 0.7599207 |  1.0128434 | 1.1578820 | 1.316473 | 7.228954e-02 | 0.07426077 | Not Significant (FDR&gt;0.05)  |\n",
       "| Singleton caQTL         | 0.5478104 | 2.701801e-17 | 0.4727410 |  0.6334460 | 0.8653970 | 1.568559 | 1.350901e-16 | 0.93847389 | Significant (FDR&lt;0.05)      |\n",
       "| Singleton haQTL         | 0.4247390 | 1.769929e-12 | 0.3194467 |  0.5551216 | 0.5865103 | 1.369997 | 3.539858e-12 | 2.03382410 | Significant (FDR&lt;0.05)      |\n",
       "\n"
      ],
      "text/plain": [
       "   qtl_combo               estimate  pval         ci1       ci2       \n",
       "1  Module caQTL-haQTL-eQTL 7.6324365 2.523810e-16 5.0341094 11.1916907\n",
       "2  Module haQTL            6.2694311 2.092493e-04 2.4419856 13.5233422\n",
       "3  Module caQTL-eQTL       5.5848250 1.340945e-43 4.5269650  6.8420019\n",
       "4  Module haQTL-eQTL       5.1643330 1.600360e-06 2.7647371  8.8991049\n",
       "5  Module eQTL             4.1250990 1.098060e-14 2.9861998  5.5806081\n",
       "6  Module caQTL            3.8217082 5.264005e-08 2.4367451  5.7431060\n",
       "7  Module caQTL-haQTL      3.2987437 1.196645e-10 2.3555567  4.5130710\n",
       "8  Singleton eQTL          0.8781323 7.228954e-02 0.7599207  1.0128434\n",
       "9  Singleton caQTL         0.5478104 2.701801e-17 0.4727410  0.6334460\n",
       "10 Singleton haQTL         0.4247390 1.769929e-12 0.3194467  0.5551216\n",
       "   in_frac   ot_frac  qval         int_zero   is_sig                     \n",
       "1  8.6455331 1.224721 8.412700e-16 6.83698665 Significant (FDR<0.05)     \n",
       "2  7.3684211 1.252783 2.324993e-04 3.41119970 Significant (FDR<0.05)     \n",
       "3  5.9989567 1.129592 1.340945e-42 5.40608360 Significant (FDR<0.05)     \n",
       "4  6.1135371 1.245270 2.000450e-06 3.47504693 Significant (FDR<0.05)     \n",
       "5  4.8155738 1.211455 2.745149e-14 3.22674371 Significant (FDR<0.05)     \n",
       "6  4.5620438 1.235303 7.520007e-08 2.48538330 Significant (FDR<0.05)     \n",
       "7  3.9126479 1.219303 1.994408e-10 2.12840620 Significant (FDR<0.05)     \n",
       "8  1.1578820 1.316473 7.228954e-02 0.07426077 Not Significant (FDR>0.05) \n",
       "9  0.8653970 1.568559 1.350901e-16 0.93847389 Significant (FDR<0.05)     \n",
       "10 0.5865103 1.369997 3.539858e-12 2.03382410 Significant (FDR<0.05)     "
      ]
     },
     "metadata": {},
     "output_type": "display_data"
    }
   ],
   "source": [
    "# for each QTL combo\n",
    "tests = as.data.frame(rbindlist(lapply(unique(gwas_coloc3$QTL_Combination), function(x)\n",
    "{\n",
    "    # annotation 1: Which cluster has the QTL combination label?\n",
    "    this = gwas_coloc3 %>% mutate(in_cluster = ifelse(QTL_Combination == x, T, F))\n",
    "    \n",
    "    # annotation 2: Which cluster colocalized with at least one GWAS trait (already done)\n",
    "    \n",
    "    # fisher test\n",
    "    test = fisher.test(table(this$in_cluster, this$Colocalized))\n",
    "    f1 = length(unique(this[this$in_cluster == T & this$Colocalized == T,]$Cluster_ID)) / length(unique(this[this$in_cluster == T,]$Cluster_ID)) * 100\n",
    "    f2 = length(unique(this[this$in_cluster == F & this$Colocalized == T,]$Cluster_ID)) / length(unique(this[this$in_cluster == F,]$Cluster_ID)) * 100\n",
    "    \n",
    "    # out\n",
    "    data.frame(qtl_combo = x, \n",
    "               estimate = test$estimate, \n",
    "               pval = test$p.value, \n",
    "               ci1 = test$conf.int[1], \n",
    "               ci2 = test$conf.int[2], \n",
    "               in_frac = f1, \n",
    "               ot_frac = f2)\n",
    "    \n",
    "}))) %>% mutate(qval = p.adjust(pval, \"BH\")) %>% arrange(desc(estimate))\n",
    "\n",
    "# sort by descending enrichment\n",
    "tests$qtl_combo = factor(tests$qtl_combo, levels = tests$qtl_combo)\n",
    "\n",
    "# enrichments that intersects 0 is not significant\n",
    "tests$int_zero = log2(tests$ci1) * log2(tests$estimate)\n",
    "tests$is_sig = ifelse(tests$qval <= 0.05 & tests$int_zero > 0, \"Significant (FDR<0.05)\", \"Not Significant (FDR>0.05) \")\n",
    "\n",
    "\n",
    "tests\n",
    "\n"
   ]
  },
  {
   "cell_type": "markdown",
   "metadata": {},
   "source": [
    "## plot results"
   ]
  },
  {
   "cell_type": "code",
   "execution_count": 21,
   "metadata": {},
   "outputs": [
    {
     "data": {
      "image/png": "[encoded data removed]",
      "text/plain": [
       "plot without title"
      ]
     },
     "metadata": {
      "image/png": {
       "height": 600,
       "width": 480
      }
     },
     "output_type": "display_data"
    }
   ],
   "source": [
    "# plot\n",
    "psize(w = 8, h = 10)\n",
    "p3 = ggplot(tests, aes(x = qtl_combo, y = log2(estimate), color = is_sig)) + \n",
    "    geom_point(size = 5) + \n",
    "    geom_hline(yintercept = 0, linetype = \"dashed\") + \n",
    "    geom_segment(data = tests, aes(x = qtl_combo, xend = qtl_combo, y = log2(ci1), yend = log2(ci2)), size = 2) + \n",
    "    scale_color_manual(values = c(\"gray\", \"black\"), name = \"\") + \n",
    "    jn_classic + \n",
    "    theme(axis.text.x = element_text(angle = 90, hjust = 1, vjust = 0.5), legend.position = \"top\") + \n",
    "    xlab(\"\") + ylab(\"log2(OR)\") \n",
    "p3"
   ]
  },
  {
   "cell_type": "markdown",
   "metadata": {},
   "source": [
    "## write source data"
   ]
  },
  {
   "cell_type": "code",
   "execution_count": 22,
   "metadata": {},
   "outputs": [],
   "source": [
    "tests2 = tests %>% \n",
    "    dplyr::rename(QTL_Combination = qtl_combo,\n",
    "                  Estimate = estimate,\n",
    "                  Pvalue = pval,\n",
    "                  CI1 = ci1,\n",
    "                  CI2 = ci2,\n",
    "                  Qvalue = qval,\n",
    "                  Significant = is_sig) %>%\n",
    "    select(-in_frac, -ot_frac, -int_zero)\n",
    "\n",
    "fwrite(tests2, \"manuscript/figures/SourceData.Figure5c.GWAS_QTL_Combo_Enrichment.txt\", row.names = F, sep = \"\\t\")"
   ]
  },
  {
   "cell_type": "code",
   "execution_count": 23,
   "metadata": {},
   "outputs": [
    {
     "data": {
      "text/html": [
       "<table class=\"dataframe\">\n",
       "<caption>A data.frame: 10 × 7</caption>\n",
       "<thead>\n",
       "\t<tr><th scope=col>QTL_Combination</th><th scope=col>Estimate</th><th scope=col>Pvalue</th><th scope=col>CI1</th><th scope=col>CI2</th><th scope=col>Qvalue</th><th scope=col>Significant</th></tr>\n",
       "\t<tr><th scope=col>&lt;fct&gt;</th><th scope=col>&lt;dbl&gt;</th><th scope=col>&lt;dbl&gt;</th><th scope=col>&lt;dbl&gt;</th><th scope=col>&lt;dbl&gt;</th><th scope=col>&lt;dbl&gt;</th><th scope=col>&lt;chr&gt;</th></tr>\n",
       "</thead>\n",
       "<tbody>\n",
       "\t<tr><td>Module caQTL-haQTL-eQTL</td><td>7.6324365</td><td>2.523810e-16</td><td>5.0341094</td><td>11.1916907</td><td>8.412700e-16</td><td><span style=white-space:pre-wrap>Significant (FDR&lt;0.05)     </span></td></tr>\n",
       "\t<tr><td><span style=white-space:pre-wrap>Module haQTL           </span></td><td>6.2694311</td><td>2.092493e-04</td><td>2.4419856</td><td>13.5233422</td><td>2.324993e-04</td><td><span style=white-space:pre-wrap>Significant (FDR&lt;0.05)     </span></td></tr>\n",
       "\t<tr><td><span style=white-space:pre-wrap>Module caQTL-eQTL      </span></td><td>5.5848250</td><td>1.340945e-43</td><td>4.5269650</td><td> 6.8420019</td><td>1.340945e-42</td><td><span style=white-space:pre-wrap>Significant (FDR&lt;0.05)     </span></td></tr>\n",
       "\t<tr><td><span style=white-space:pre-wrap>Module haQTL-eQTL      </span></td><td>5.1643330</td><td>1.600360e-06</td><td>2.7647371</td><td> 8.8991049</td><td>2.000450e-06</td><td><span style=white-space:pre-wrap>Significant (FDR&lt;0.05)     </span></td></tr>\n",
       "\t<tr><td><span style=white-space:pre-wrap>Module eQTL            </span></td><td>4.1250990</td><td>1.098060e-14</td><td>2.9861998</td><td> 5.5806081</td><td>2.745149e-14</td><td><span style=white-space:pre-wrap>Significant (FDR&lt;0.05)     </span></td></tr>\n",
       "\t<tr><td><span style=white-space:pre-wrap>Module caQTL           </span></td><td>3.8217082</td><td>5.264005e-08</td><td>2.4367451</td><td> 5.7431060</td><td>7.520007e-08</td><td><span style=white-space:pre-wrap>Significant (FDR&lt;0.05)     </span></td></tr>\n",
       "\t<tr><td><span style=white-space:pre-wrap>Module caQTL-haQTL     </span></td><td>3.2987437</td><td>1.196645e-10</td><td>2.3555567</td><td> 4.5130710</td><td>1.994408e-10</td><td><span style=white-space:pre-wrap>Significant (FDR&lt;0.05)     </span></td></tr>\n",
       "\t<tr><td><span style=white-space:pre-wrap>Singleton eQTL         </span></td><td>0.8781323</td><td>7.228954e-02</td><td>0.7599207</td><td> 1.0128434</td><td>7.228954e-02</td><td>Not Significant (FDR&gt;0.05) </td></tr>\n",
       "\t<tr><td><span style=white-space:pre-wrap>Singleton caQTL        </span></td><td>0.5478104</td><td>2.701801e-17</td><td>0.4727410</td><td> 0.6334460</td><td>1.350901e-16</td><td><span style=white-space:pre-wrap>Significant (FDR&lt;0.05)     </span></td></tr>\n",
       "\t<tr><td><span style=white-space:pre-wrap>Singleton haQTL        </span></td><td>0.4247390</td><td>1.769929e-12</td><td>0.3194467</td><td> 0.5551216</td><td>3.539858e-12</td><td><span style=white-space:pre-wrap>Significant (FDR&lt;0.05)     </span></td></tr>\n",
       "</tbody>\n",
       "</table>\n"
      ],
      "text/latex": [
       "A data.frame: 10 × 7\n",
       "\\begin{tabular}{lllllll}\n",
       " QTL\\_Combination & Estimate & Pvalue & CI1 & CI2 & Qvalue & Significant\\\\\n",
       " <fct> & <dbl> & <dbl> & <dbl> & <dbl> & <dbl> & <chr>\\\\\n",
       "\\hline\n",
       "\t Module caQTL-haQTL-eQTL & 7.6324365 & 2.523810e-16 & 5.0341094 & 11.1916907 & 8.412700e-16 & Significant (FDR<0.05)     \\\\\n",
       "\t Module haQTL            & 6.2694311 & 2.092493e-04 & 2.4419856 & 13.5233422 & 2.324993e-04 & Significant (FDR<0.05)     \\\\\n",
       "\t Module caQTL-eQTL       & 5.5848250 & 1.340945e-43 & 4.5269650 &  6.8420019 & 1.340945e-42 & Significant (FDR<0.05)     \\\\\n",
       "\t Module haQTL-eQTL       & 5.1643330 & 1.600360e-06 & 2.7647371 &  8.8991049 & 2.000450e-06 & Significant (FDR<0.05)     \\\\\n",
       "\t Module eQTL             & 4.1250990 & 1.098060e-14 & 2.9861998 &  5.5806081 & 2.745149e-14 & Significant (FDR<0.05)     \\\\\n",
       "\t Module caQTL            & 3.8217082 & 5.264005e-08 & 2.4367451 &  5.7431060 & 7.520007e-08 & Significant (FDR<0.05)     \\\\\n",
       "\t Module caQTL-haQTL      & 3.2987437 & 1.196645e-10 & 2.3555567 &  4.5130710 & 1.994408e-10 & Significant (FDR<0.05)     \\\\\n",
       "\t Singleton eQTL          & 0.8781323 & 7.228954e-02 & 0.7599207 &  1.0128434 & 7.228954e-02 & Not Significant (FDR>0.05) \\\\\n",
       "\t Singleton caQTL         & 0.5478104 & 2.701801e-17 & 0.4727410 &  0.6334460 & 1.350901e-16 & Significant (FDR<0.05)     \\\\\n",
       "\t Singleton haQTL         & 0.4247390 & 1.769929e-12 & 0.3194467 &  0.5551216 & 3.539858e-12 & Significant (FDR<0.05)     \\\\\n",
       "\\end{tabular}\n"
      ],
      "text/markdown": [
       "\n",
       "A data.frame: 10 × 7\n",
       "\n",
       "| QTL_Combination &lt;fct&gt; | Estimate &lt;dbl&gt; | Pvalue &lt;dbl&gt; | CI1 &lt;dbl&gt; | CI2 &lt;dbl&gt; | Qvalue &lt;dbl&gt; | Significant &lt;chr&gt; |\n",
       "|---|---|---|---|---|---|---|\n",
       "| Module caQTL-haQTL-eQTL | 7.6324365 | 2.523810e-16 | 5.0341094 | 11.1916907 | 8.412700e-16 | Significant (FDR&lt;0.05)      |\n",
       "| Module haQTL            | 6.2694311 | 2.092493e-04 | 2.4419856 | 13.5233422 | 2.324993e-04 | Significant (FDR&lt;0.05)      |\n",
       "| Module caQTL-eQTL       | 5.5848250 | 1.340945e-43 | 4.5269650 |  6.8420019 | 1.340945e-42 | Significant (FDR&lt;0.05)      |\n",
       "| Module haQTL-eQTL       | 5.1643330 | 1.600360e-06 | 2.7647371 |  8.8991049 | 2.000450e-06 | Significant (FDR&lt;0.05)      |\n",
       "| Module eQTL             | 4.1250990 | 1.098060e-14 | 2.9861998 |  5.5806081 | 2.745149e-14 | Significant (FDR&lt;0.05)      |\n",
       "| Module caQTL            | 3.8217082 | 5.264005e-08 | 2.4367451 |  5.7431060 | 7.520007e-08 | Significant (FDR&lt;0.05)      |\n",
       "| Module caQTL-haQTL      | 3.2987437 | 1.196645e-10 | 2.3555567 |  4.5130710 | 1.994408e-10 | Significant (FDR&lt;0.05)      |\n",
       "| Singleton eQTL          | 0.8781323 | 7.228954e-02 | 0.7599207 |  1.0128434 | 7.228954e-02 | Not Significant (FDR&gt;0.05)  |\n",
       "| Singleton caQTL         | 0.5478104 | 2.701801e-17 | 0.4727410 |  0.6334460 | 1.350901e-16 | Significant (FDR&lt;0.05)      |\n",
       "| Singleton haQTL         | 0.4247390 | 1.769929e-12 | 0.3194467 |  0.5551216 | 3.539858e-12 | Significant (FDR&lt;0.05)      |\n",
       "\n"
      ],
      "text/plain": [
       "   QTL_Combination         Estimate  Pvalue       CI1       CI2       \n",
       "1  Module caQTL-haQTL-eQTL 7.6324365 2.523810e-16 5.0341094 11.1916907\n",
       "2  Module haQTL            6.2694311 2.092493e-04 2.4419856 13.5233422\n",
       "3  Module caQTL-eQTL       5.5848250 1.340945e-43 4.5269650  6.8420019\n",
       "4  Module haQTL-eQTL       5.1643330 1.600360e-06 2.7647371  8.8991049\n",
       "5  Module eQTL             4.1250990 1.098060e-14 2.9861998  5.5806081\n",
       "6  Module caQTL            3.8217082 5.264005e-08 2.4367451  5.7431060\n",
       "7  Module caQTL-haQTL      3.2987437 1.196645e-10 2.3555567  4.5130710\n",
       "8  Singleton eQTL          0.8781323 7.228954e-02 0.7599207  1.0128434\n",
       "9  Singleton caQTL         0.5478104 2.701801e-17 0.4727410  0.6334460\n",
       "10 Singleton haQTL         0.4247390 1.769929e-12 0.3194467  0.5551216\n",
       "   Qvalue       Significant                \n",
       "1  8.412700e-16 Significant (FDR<0.05)     \n",
       "2  2.324993e-04 Significant (FDR<0.05)     \n",
       "3  1.340945e-42 Significant (FDR<0.05)     \n",
       "4  2.000450e-06 Significant (FDR<0.05)     \n",
       "5  2.745149e-14 Significant (FDR<0.05)     \n",
       "6  7.520007e-08 Significant (FDR<0.05)     \n",
       "7  1.994408e-10 Significant (FDR<0.05)     \n",
       "8  7.228954e-02 Not Significant (FDR>0.05) \n",
       "9  1.350901e-16 Significant (FDR<0.05)     \n",
       "10 3.539858e-12 Significant (FDR<0.05)     "
      ]
     },
     "metadata": {},
     "output_type": "display_data"
    }
   ],
   "source": [
    "tests2"
   ]
  },
  {
   "cell_type": "code",
   "execution_count": null,
   "metadata": {},
   "outputs": [],
   "source": []
  },
  {
   "cell_type": "code",
   "execution_count": null,
   "metadata": {},
   "outputs": [],
   "source": []
  }
 ],
 "metadata": {
  "kernelspec": {
   "display_name": "R 4.2.1",
   "language": "R",
   "name": "ir421"
  },
  "language_info": {
   "codemirror_mode": "r",
   "file_extension": ".r",
   "mimetype": "text/x-r-source",
   "name": "R",
   "pygments_lexer": "r",
   "version": "4.2.1"
  }
 },
 "nbformat": 4,
 "nbformat_minor": 2
}
