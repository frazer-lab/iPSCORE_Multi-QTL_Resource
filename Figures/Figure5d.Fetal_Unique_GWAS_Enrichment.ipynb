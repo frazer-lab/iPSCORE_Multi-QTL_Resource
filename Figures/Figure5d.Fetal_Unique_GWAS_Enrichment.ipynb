{
 "cells": [
  {
   "cell_type": "code",
   "execution_count": 136,
   "metadata": {},
   "outputs": [],
   "source": [
    "setwd(\"/projects/CARDIPS/analysis/epigenome_resource\")\n",
    "source(\"analyses/jennifer/notebooks/functions.R\")\n",
    "\n",
    "set.seed(5366)"
   ]
  },
  {
   "cell_type": "markdown",
   "metadata": {},
   "source": [
    "# Figure 5d: Enrichment of Fetal-unique QTLs for GWAS colocalization"
   ]
  },
  {
   "cell_type": "markdown",
   "metadata": {},
   "source": [
    "## read Supplemental Table for GWAS Colocalization"
   ]
  },
  {
   "cell_type": "code",
   "execution_count": 24,
   "metadata": {},
   "outputs": [
    {
     "data": {
      "text/html": [
       "<table class=\"dataframe\">\n",
       "<caption>A data.frame: 2 × 38</caption>\n",
       "<thead>\n",
       "\t<tr><th></th><th scope=col>Tissue</th><th scope=col>Trait_Description</th><th scope=col>Trait_ID</th><th scope=col>Cluster_ID</th><th scope=col>QTL_Combination</th><th scope=col>Membership</th><th scope=col>Element_ID</th><th scope=col>Condition</th><th scope=col>Element_Cond</th><th scope=col>Element_Name</th><th scope=col>⋯</th><th scope=col>SE.GWAS</th><th scope=col>Pvalue.GWAS</th><th scope=col>99Credible_Set_Size</th><th scope=col>Colocalized</th><th scope=col>Has_TFBS</th><th scope=col>GWAS_Index</th><th scope=col>GWAS_QTL_Combination_Collapse</th><th scope=col>Fetal_Unique_QTL</th><th scope=col>Fetal_Unique_GWAS_Locus</th><th scope=col>GWAS_ID</th></tr>\n",
       "\t<tr><th></th><th scope=col>&lt;chr&gt;</th><th scope=col>&lt;chr&gt;</th><th scope=col>&lt;chr&gt;</th><th scope=col>&lt;chr&gt;</th><th scope=col>&lt;chr&gt;</th><th scope=col>&lt;chr&gt;</th><th scope=col>&lt;chr&gt;</th><th scope=col>&lt;int&gt;</th><th scope=col>&lt;chr&gt;</th><th scope=col>&lt;chr&gt;</th><th scope=col>⋯</th><th scope=col>&lt;dbl&gt;</th><th scope=col>&lt;dbl&gt;</th><th scope=col>&lt;int&gt;</th><th scope=col>&lt;lgl&gt;</th><th scope=col>&lt;lgl&gt;</th><th scope=col>&lt;chr&gt;</th><th scope=col>&lt;chr&gt;</th><th scope=col>&lt;lgl&gt;</th><th scope=col>&lt;chr&gt;</th><th scope=col>&lt;chr&gt;</th></tr>\n",
       "</thead>\n",
       "<tbody>\n",
       "\t<tr><th scope=row>1</th><td>CVPC</td><td>Aging</td><td>timmers2020_healthspan_lifespan_longevity</td><td>CVPC_1059</td><td>caQTL-haQTL</td><td>Module</td><td>cvpc_chip_peak_9032 </td><td>0</td><td>cvpc_chip_peak_9032_0 </td><td>cvpc_chip_peak_9032 </td><td>⋯</td><td>0.001687</td><td>0.870348</td><td>121</td><td>FALSE</td><td>FALSE</td><td>No Colocalization</td><td>No Colocalization</td><td>TRUE</td><td>No Colocalization</td><td>No Colocalization_Aging</td></tr>\n",
       "\t<tr><th scope=row>2</th><td>CVPC</td><td>Aging</td><td>timmers2020_healthspan_lifespan_longevity</td><td>CVPC_1059</td><td>caQTL-haQTL</td><td>Module</td><td>cvpc_atac_peak_37717</td><td>0</td><td>cvpc_atac_peak_37717_0</td><td>cvpc_atac_peak_37717</td><td>⋯</td><td>0.001687</td><td>0.870348</td><td>166</td><td>FALSE</td><td>FALSE</td><td>No Colocalization</td><td>No Colocalization</td><td>TRUE</td><td>No Colocalization</td><td>No Colocalization_Aging</td></tr>\n",
       "</tbody>\n",
       "</table>\n"
      ],
      "text/latex": [
       "A data.frame: 2 × 38\n",
       "\\begin{tabular}{r|lllllllllllllllllllll}\n",
       "  & Tissue & Trait\\_Description & Trait\\_ID & Cluster\\_ID & QTL\\_Combination & Membership & Element\\_ID & Condition & Element\\_Cond & Element\\_Name & ⋯ & SE.GWAS & Pvalue.GWAS & 99Credible\\_Set\\_Size & Colocalized & Has\\_TFBS & GWAS\\_Index & GWAS\\_QTL\\_Combination\\_Collapse & Fetal\\_Unique\\_QTL & Fetal\\_Unique\\_GWAS\\_Locus & GWAS\\_ID\\\\\n",
       "  & <chr> & <chr> & <chr> & <chr> & <chr> & <chr> & <chr> & <int> & <chr> & <chr> & ⋯ & <dbl> & <dbl> & <int> & <lgl> & <lgl> & <chr> & <chr> & <lgl> & <chr> & <chr>\\\\\n",
       "\\hline\n",
       "\t1 & CVPC & Aging & timmers2020\\_healthspan\\_lifespan\\_longevity & CVPC\\_1059 & caQTL-haQTL & Module & cvpc\\_chip\\_peak\\_9032  & 0 & cvpc\\_chip\\_peak\\_9032\\_0  & cvpc\\_chip\\_peak\\_9032  & ⋯ & 0.001687 & 0.870348 & 121 & FALSE & FALSE & No Colocalization & No Colocalization & TRUE & No Colocalization & No Colocalization\\_Aging\\\\\n",
       "\t2 & CVPC & Aging & timmers2020\\_healthspan\\_lifespan\\_longevity & CVPC\\_1059 & caQTL-haQTL & Module & cvpc\\_atac\\_peak\\_37717 & 0 & cvpc\\_atac\\_peak\\_37717\\_0 & cvpc\\_atac\\_peak\\_37717 & ⋯ & 0.001687 & 0.870348 & 166 & FALSE & FALSE & No Colocalization & No Colocalization & TRUE & No Colocalization & No Colocalization\\_Aging\\\\\n",
       "\\end{tabular}\n"
      ],
      "text/markdown": [
       "\n",
       "A data.frame: 2 × 38\n",
       "\n",
       "| <!--/--> | Tissue &lt;chr&gt; | Trait_Description &lt;chr&gt; | Trait_ID &lt;chr&gt; | Cluster_ID &lt;chr&gt; | QTL_Combination &lt;chr&gt; | Membership &lt;chr&gt; | Element_ID &lt;chr&gt; | Condition &lt;int&gt; | Element_Cond &lt;chr&gt; | Element_Name &lt;chr&gt; | ⋯ ⋯ | SE.GWAS &lt;dbl&gt; | Pvalue.GWAS &lt;dbl&gt; | 99Credible_Set_Size &lt;int&gt; | Colocalized &lt;lgl&gt; | Has_TFBS &lt;lgl&gt; | GWAS_Index &lt;chr&gt; | GWAS_QTL_Combination_Collapse &lt;chr&gt; | Fetal_Unique_QTL &lt;lgl&gt; | Fetal_Unique_GWAS_Locus &lt;chr&gt; | GWAS_ID &lt;chr&gt; |\n",
       "|---|---|---|---|---|---|---|---|---|---|---|---|---|---|---|---|---|---|---|---|---|---|\n",
       "| 1 | CVPC | Aging | timmers2020_healthspan_lifespan_longevity | CVPC_1059 | caQTL-haQTL | Module | cvpc_chip_peak_9032  | 0 | cvpc_chip_peak_9032_0  | cvpc_chip_peak_9032  | ⋯ | 0.001687 | 0.870348 | 121 | FALSE | FALSE | No Colocalization | No Colocalization | TRUE | No Colocalization | No Colocalization_Aging |\n",
       "| 2 | CVPC | Aging | timmers2020_healthspan_lifespan_longevity | CVPC_1059 | caQTL-haQTL | Module | cvpc_atac_peak_37717 | 0 | cvpc_atac_peak_37717_0 | cvpc_atac_peak_37717 | ⋯ | 0.001687 | 0.870348 | 166 | FALSE | FALSE | No Colocalization | No Colocalization | TRUE | No Colocalization | No Colocalization_Aging |\n",
       "\n"
      ],
      "text/plain": [
       "  Tissue Trait_Description Trait_ID                                  Cluster_ID\n",
       "1 CVPC   Aging             timmers2020_healthspan_lifespan_longevity CVPC_1059 \n",
       "2 CVPC   Aging             timmers2020_healthspan_lifespan_longevity CVPC_1059 \n",
       "  QTL_Combination Membership Element_ID           Condition\n",
       "1 caQTL-haQTL     Module     cvpc_chip_peak_9032  0        \n",
       "2 caQTL-haQTL     Module     cvpc_atac_peak_37717 0        \n",
       "  Element_Cond           Element_Name         ⋯ SE.GWAS  Pvalue.GWAS\n",
       "1 cvpc_chip_peak_9032_0  cvpc_chip_peak_9032  ⋯ 0.001687 0.870348   \n",
       "2 cvpc_atac_peak_37717_0 cvpc_atac_peak_37717 ⋯ 0.001687 0.870348   \n",
       "  99Credible_Set_Size Colocalized Has_TFBS GWAS_Index       \n",
       "1 121                 FALSE       FALSE    No Colocalization\n",
       "2 166                 FALSE       FALSE    No Colocalization\n",
       "  GWAS_QTL_Combination_Collapse Fetal_Unique_QTL Fetal_Unique_GWAS_Locus\n",
       "1 No Colocalization             TRUE             No Colocalization      \n",
       "2 No Colocalization             TRUE             No Colocalization      \n",
       "  GWAS_ID                \n",
       "1 No Colocalization_Aging\n",
       "2 No Colocalization_Aging"
      ]
     },
     "metadata": {},
     "output_type": "display_data"
    }
   ],
   "source": [
    "gwas_coloc = fread(\"manuscript/tables/Table_SX_GWAS_Colocalizations.txt\", data.table = F) %>% \n",
    "    mutate(GWAS_ID = paste(GWAS_Index, Trait_Description, sep = \"_\"))\n",
    "gwas_coloc$Element_Cond = ifelse(gwas_coloc$Element_Cond %like% \"ENSG\",\n",
    "                                 paste(gwas_coloc$Tissue, gwas_coloc$Element_Cond, sep = \"_\"), \n",
    "                                 gwas_coloc$Element_Cond)\n",
    "\n",
    "head(gwas_coloc,2)"
   ]
  },
  {
   "cell_type": "markdown",
   "metadata": {},
   "source": [
    "## read Supplemental Table for QTL Modules"
   ]
  },
  {
   "cell_type": "code",
   "execution_count": 5,
   "metadata": {},
   "outputs": [
    {
     "data": {
      "text/html": [
       "<table class=\"dataframe\">\n",
       "<caption>A data.frame: 2 × 8</caption>\n",
       "<thead>\n",
       "\t<tr><th></th><th scope=col>Tissue</th><th scope=col>Cluster_ID</th><th scope=col>Element_ID</th><th scope=col>Condition</th><th scope=col>Molecular_QTL_Type</th><th scope=col>Membership</th><th scope=col>No._Colocalizations</th><th scope=col>No._QTLs_in_Module</th></tr>\n",
       "\t<tr><th></th><th scope=col>&lt;chr&gt;</th><th scope=col>&lt;chr&gt;</th><th scope=col>&lt;chr&gt;</th><th scope=col>&lt;int&gt;</th><th scope=col>&lt;chr&gt;</th><th scope=col>&lt;chr&gt;</th><th scope=col>&lt;int&gt;</th><th scope=col>&lt;int&gt;</th></tr>\n",
       "</thead>\n",
       "<tbody>\n",
       "\t<tr><th scope=row>1</th><td>iPSC</td><td>iPSC_1</td><td>ipsc_atac_peak_17280</td><td>0</td><td>caQTL</td><td>Module</td><td>8</td><td>10</td></tr>\n",
       "\t<tr><th scope=row>2</th><td>iPSC</td><td>iPSC_1</td><td>ipsc_atac_peak_17286</td><td>0</td><td>caQTL</td><td>Module</td><td>9</td><td>10</td></tr>\n",
       "</tbody>\n",
       "</table>\n"
      ],
      "text/latex": [
       "A data.frame: 2 × 8\n",
       "\\begin{tabular}{r|llllllll}\n",
       "  & Tissue & Cluster\\_ID & Element\\_ID & Condition & Molecular\\_QTL\\_Type & Membership & No.\\_Colocalizations & No.\\_QTLs\\_in\\_Module\\\\\n",
       "  & <chr> & <chr> & <chr> & <int> & <chr> & <chr> & <int> & <int>\\\\\n",
       "\\hline\n",
       "\t1 & iPSC & iPSC\\_1 & ipsc\\_atac\\_peak\\_17280 & 0 & caQTL & Module & 8 & 10\\\\\n",
       "\t2 & iPSC & iPSC\\_1 & ipsc\\_atac\\_peak\\_17286 & 0 & caQTL & Module & 9 & 10\\\\\n",
       "\\end{tabular}\n"
      ],
      "text/markdown": [
       "\n",
       "A data.frame: 2 × 8\n",
       "\n",
       "| <!--/--> | Tissue &lt;chr&gt; | Cluster_ID &lt;chr&gt; | Element_ID &lt;chr&gt; | Condition &lt;int&gt; | Molecular_QTL_Type &lt;chr&gt; | Membership &lt;chr&gt; | No._Colocalizations &lt;int&gt; | No._QTLs_in_Module &lt;int&gt; |\n",
       "|---|---|---|---|---|---|---|---|---|\n",
       "| 1 | iPSC | iPSC_1 | ipsc_atac_peak_17280 | 0 | caQTL | Module | 8 | 10 |\n",
       "| 2 | iPSC | iPSC_1 | ipsc_atac_peak_17286 | 0 | caQTL | Module | 9 | 10 |\n",
       "\n"
      ],
      "text/plain": [
       "  Tissue Cluster_ID Element_ID           Condition Molecular_QTL_Type\n",
       "1 iPSC   iPSC_1     ipsc_atac_peak_17280 0         caQTL             \n",
       "2 iPSC   iPSC_1     ipsc_atac_peak_17286 0         caQTL             \n",
       "  Membership No._Colocalizations No._QTLs_in_Module\n",
       "1 Module     8                   10                \n",
       "2 Module     9                   10                "
      ]
     },
     "metadata": {},
     "output_type": "display_data"
    }
   ],
   "source": [
    "mods = fread(\"/frazer01/home/tarthur/projects/Resource/SupplementalTables/TableS11_QTLModules.txt\", data.table = F)\n",
    "colnames(mods) = gsub(\" \", \"_\", colnames(mods))\n",
    "head(mods,2)"
   ]
  },
  {
   "cell_type": "markdown",
   "metadata": {},
   "source": [
    "## read Supplemental Tables for QTLs"
   ]
  },
  {
   "cell_type": "code",
   "execution_count": 123,
   "metadata": {},
   "outputs": [
    {
     "data": {
      "text/html": [
       "<table class=\"dataframe\">\n",
       "<caption>A data.frame: 2 × 8</caption>\n",
       "<thead>\n",
       "\t<tr><th></th><th scope=col>Tissue</th><th scope=col>Element_ID</th><th scope=col>Element_Cond</th><th scope=col>Element_Name</th><th scope=col>Significant</th><th scope=col>Cluster_ID</th><th scope=col>Fetal_Unique</th><th scope=col>Type</th></tr>\n",
       "\t<tr><th></th><th scope=col>&lt;chr&gt;</th><th scope=col>&lt;chr&gt;</th><th scope=col>&lt;chr&gt;</th><th scope=col>&lt;chr&gt;</th><th scope=col>&lt;lgl&gt;</th><th scope=col>&lt;chr&gt;</th><th scope=col>&lt;lgl&gt;</th><th scope=col>&lt;chr&gt;</th></tr>\n",
       "</thead>\n",
       "<tbody>\n",
       "\t<tr><th scope=row>1</th><td>CVPC</td><td>cvpc_atac_peak_10 </td><td>cvpc_atac_peak_10_0 </td><td>cvpc_atac_peak_10 </td><td>FALSE</td><td>NA</td><td>NA</td><td>caQTL</td></tr>\n",
       "\t<tr><th scope=row>2</th><td>CVPC</td><td>cvpc_atac_peak_100</td><td>cvpc_atac_peak_100_0</td><td>cvpc_atac_peak_100</td><td>FALSE</td><td>NA</td><td>NA</td><td>caQTL</td></tr>\n",
       "</tbody>\n",
       "</table>\n"
      ],
      "text/latex": [
       "A data.frame: 2 × 8\n",
       "\\begin{tabular}{r|llllllll}\n",
       "  & Tissue & Element\\_ID & Element\\_Cond & Element\\_Name & Significant & Cluster\\_ID & Fetal\\_Unique & Type\\\\\n",
       "  & <chr> & <chr> & <chr> & <chr> & <lgl> & <chr> & <lgl> & <chr>\\\\\n",
       "\\hline\n",
       "\t1 & CVPC & cvpc\\_atac\\_peak\\_10  & cvpc\\_atac\\_peak\\_10\\_0  & cvpc\\_atac\\_peak\\_10  & FALSE & NA & NA & caQTL\\\\\n",
       "\t2 & CVPC & cvpc\\_atac\\_peak\\_100 & cvpc\\_atac\\_peak\\_100\\_0 & cvpc\\_atac\\_peak\\_100 & FALSE & NA & NA & caQTL\\\\\n",
       "\\end{tabular}\n"
      ],
      "text/markdown": [
       "\n",
       "A data.frame: 2 × 8\n",
       "\n",
       "| <!--/--> | Tissue &lt;chr&gt; | Element_ID &lt;chr&gt; | Element_Cond &lt;chr&gt; | Element_Name &lt;chr&gt; | Significant &lt;lgl&gt; | Cluster_ID &lt;chr&gt; | Fetal_Unique &lt;lgl&gt; | Type &lt;chr&gt; |\n",
       "|---|---|---|---|---|---|---|---|---|\n",
       "| 1 | CVPC | cvpc_atac_peak_10  | cvpc_atac_peak_10_0  | cvpc_atac_peak_10  | FALSE | NA | NA | caQTL |\n",
       "| 2 | CVPC | cvpc_atac_peak_100 | cvpc_atac_peak_100_0 | cvpc_atac_peak_100 | FALSE | NA | NA | caQTL |\n",
       "\n"
      ],
      "text/plain": [
       "  Tissue Element_ID         Element_Cond         Element_Name       Significant\n",
       "1 CVPC   cvpc_atac_peak_10  cvpc_atac_peak_10_0  cvpc_atac_peak_10  FALSE      \n",
       "2 CVPC   cvpc_atac_peak_100 cvpc_atac_peak_100_0 cvpc_atac_peak_100 FALSE      \n",
       "  Cluster_ID Fetal_Unique Type \n",
       "1 NA         NA           caQTL\n",
       "2 NA         NA           caQTL"
      ]
     },
     "metadata": {},
     "output_type": "display_data"
    }
   ],
   "source": [
    "a = fread(\"manuscript/tables/Table_SX_caQTLs.txt\", data.table = F) %>% select(Tissue, Element_ID, Element_Cond, Element_Name, Significant, Cluster_ID, Fetal_Unique) %>% mutate(Type = \"caQTL\")\n",
    "b = fread(\"manuscript/tables/Table_SX_eQTLs.txt\" , data.table = F) %>% select(Tissue, Element_ID, Element_Cond, Element_Name, Significant, Cluster_ID, Fetal_Unique) %>% mutate(Type = \"eQTL\") %>% mutate(Element_Cond = paste(Tissue, Element_Cond, sep = \"_\"))\n",
    "c = fread(\"manuscript/tables/Table_SX_haQTLs.txt\", data.table = F) %>% select(Tissue, Element_ID, Element_Cond, Element_Name, Significant, Cluster_ID, Fetal_Unique) %>% mutate(Type = \"haQTL\")\n",
    "\n",
    "qtls = do.call(rbind, list(a, b, c))\n",
    "\n",
    "head(qtls,2)"
   ]
  },
  {
   "cell_type": "markdown",
   "metadata": {},
   "source": [
    "## if a fetal-unique QTL is in the same module as an adult-shared QTL, then we considered it as adult-shared"
   ]
  },
  {
   "cell_type": "code",
   "execution_count": 127,
   "metadata": {},
   "outputs": [],
   "source": [
    "qtls$Fetal_Unique_Cluster = ifelse(qtls$Cluster_ID %in% qtls[qtls$Fetal_Unique == F,]$Cluster_ID, F, T)"
   ]
  },
  {
   "cell_type": "markdown",
   "metadata": {},
   "source": [
    "## how many were converted to adult-shared"
   ]
  },
  {
   "cell_type": "code",
   "execution_count": 128,
   "metadata": {},
   "outputs": [
    {
     "data": {
      "text/plain": [
       "       \n",
       "        FALSE  TRUE\n",
       "  FALSE 68700     0\n",
       "  TRUE    236 10145"
      ]
     },
     "metadata": {},
     "output_type": "display_data"
    }
   ],
   "source": [
    "table(qtls$Fetal_Unique, qtls$Fetal_Unique_Cluster)"
   ]
  },
  {
   "cell_type": "markdown",
   "metadata": {},
   "source": [
    "## label which qtls colocalized with a GWAS signals"
   ]
  },
  {
   "cell_type": "code",
   "execution_count": 129,
   "metadata": {},
   "outputs": [],
   "source": [
    "qtls$Coloc_GWAS = ifelse(qtls$Element_Cond %in% gwas_coloc[gwas_coloc$Colocalized == T,]$Element_Cond, T, F)"
   ]
  },
  {
   "cell_type": "code",
   "execution_count": 130,
   "metadata": {},
   "outputs": [
    {
     "data": {
      "text/plain": [
       "       \n",
       "         caQTL   eQTL  haQTL\n",
       "  FALSE 582444  85391 128656\n",
       "  TRUE     575    615    196"
      ]
     },
     "metadata": {},
     "output_type": "display_data"
    }
   ],
   "source": [
    "table(qtls$Coloc_GWAS, qtls$Type)"
   ]
  },
  {
   "cell_type": "markdown",
   "metadata": {},
   "source": [
    "## remove qtls that were not tested for GWAS (i.e., did not have overlapping variants with GWAS)"
   ]
  },
  {
   "cell_type": "code",
   "execution_count": 131,
   "metadata": {},
   "outputs": [],
   "source": [
    "qtls = qtls %>% filter(Element_Cond %in% gwas_coloc$Element_Cond)"
   ]
  },
  {
   "cell_type": "markdown",
   "metadata": {},
   "source": [
    "## for fetal-unique QTLs that colocalized with GWAS loci that colocalized with shared QTLs, annotate them as non-fetal-unique"
   ]
  },
  {
   "cell_type": "code",
   "execution_count": 111,
   "metadata": {},
   "outputs": [
    {
     "data": {
      "text/plain": [
       "\n",
       "            FALSE No Colocalization              TRUE \n",
       "             1717            264236                19 "
      ]
     },
     "metadata": {},
     "output_type": "display_data"
    }
   ],
   "source": [
    "table(gwas_coloc$Fetal_Unique_GWAS_Locus)"
   ]
  },
  {
   "cell_type": "code",
   "execution_count": 113,
   "metadata": {},
   "outputs": [],
   "source": [
    "a = gwas_coloc %>% filter(Fetal_Unique_GWAS_Locus == T)"
   ]
  },
  {
   "cell_type": "code",
   "execution_count": 116,
   "metadata": {},
   "outputs": [
    {
     "data": {
      "text/html": [
       "17"
      ],
      "text/latex": [
       "17"
      ],
      "text/markdown": [
       "17"
      ],
      "text/plain": [
       "[1] 17"
      ]
     },
     "metadata": {},
     "output_type": "display_data"
    }
   ],
   "source": [
    "length(unique(a$GWAS_ID))"
   ]
  },
  {
   "cell_type": "code",
   "execution_count": 118,
   "metadata": {},
   "outputs": [],
   "source": [
    "qtls$Fetal_Unique_Cluster = ifelse(qtls$Element_Cond %in% a$Element_Cond, T, F)"
   ]
  },
  {
   "cell_type": "markdown",
   "metadata": {},
   "source": [
    "## perform fisher test to calculate "
   ]
  },
  {
   "cell_type": "code",
   "execution_count": 132,
   "metadata": {},
   "outputs": [
    {
     "data": {
      "text/plain": [
       "       \n",
       "        FALSE  TRUE\n",
       "  FALSE 67235 10108\n",
       "  TRUE   1363    23"
      ]
     },
     "metadata": {},
     "output_type": "display_data"
    }
   ],
   "source": [
    "table(qtls$Coloc_GWAS, qtls$Fetal_Unique_Cluster)"
   ]
  },
  {
   "cell_type": "code",
   "execution_count": 133,
   "metadata": {},
   "outputs": [
    {
     "data": {
      "text/plain": [
       "\n",
       "\tFisher's Exact Test for Count Data\n",
       "\n",
       "data:  table(qtls$Coloc_GWAS, qtls$Fetal_Unique_Cluster)\n",
       "p-value < 2.2e-16\n",
       "alternative hypothesis: true odds ratio is not equal to 1\n",
       "95 percent confidence interval:\n",
       " 0.07087822 0.16924508\n",
       "sample estimates:\n",
       "odds ratio \n",
       " 0.1122452 \n"
      ]
     },
     "metadata": {},
     "output_type": "display_data"
    }
   ],
   "source": [
    "test = fisher.test(table(qtls$Coloc_GWAS, qtls$Fetal_Unique_Cluster))\n",
    "test"
   ]
  },
  {
   "cell_type": "code",
   "execution_count": 134,
   "metadata": {},
   "outputs": [
    {
     "data": {
      "text/html": [
       "2.51657052512555e-53"
      ],
      "text/latex": [
       "2.51657052512555e-53"
      ],
      "text/markdown": [
       "2.51657052512555e-53"
      ],
      "text/plain": [
       "[1] 2.516571e-53"
      ]
     },
     "metadata": {},
     "output_type": "display_data"
    }
   ],
   "source": [
    "test$p.value"
   ]
  },
  {
   "cell_type": "markdown",
   "metadata": {},
   "source": [
    "## create input for plotting"
   ]
  },
  {
   "cell_type": "code",
   "execution_count": 145,
   "metadata": {},
   "outputs": [
    {
     "data": {
      "text/html": [
       "<table class=\"dataframe\">\n",
       "<caption>A grouped_df: 4 × 6</caption>\n",
       "<thead>\n",
       "\t<tr><th scope=col>Coloc_GWAS</th><th scope=col>Fetal_Unique_Cluster</th><th scope=col>Freq</th><th scope=col>total</th><th scope=col>pct</th><th scope=col>label</th></tr>\n",
       "\t<tr><th scope=col>&lt;fct&gt;</th><th scope=col>&lt;chr&gt;</th><th scope=col>&lt;int&gt;</th><th scope=col>&lt;int&gt;</th><th scope=col>&lt;dbl&gt;</th><th scope=col>&lt;chr&gt;</th></tr>\n",
       "</thead>\n",
       "<tbody>\n",
       "\t<tr><td>FALSE</td><td>Adult-shared</td><td>67235</td><td>68598</td><td>98.013062</td><td>67235, 98% </td></tr>\n",
       "\t<tr><td>TRUE </td><td>Adult-shared</td><td> 1363</td><td>68598</td><td> 1.986938</td><td>1363, 2%   </td></tr>\n",
       "\t<tr><td>FALSE</td><td>Fetal-unique</td><td>10108</td><td>10131</td><td>99.772974</td><td>10108, 100%</td></tr>\n",
       "\t<tr><td>TRUE </td><td>Fetal-unique</td><td>   23</td><td>10131</td><td> 0.227026</td><td>23, 0.23%  </td></tr>\n",
       "</tbody>\n",
       "</table>\n"
      ],
      "text/latex": [
       "A grouped\\_df: 4 × 6\n",
       "\\begin{tabular}{llllll}\n",
       " Coloc\\_GWAS & Fetal\\_Unique\\_Cluster & Freq & total & pct & label\\\\\n",
       " <fct> & <chr> & <int> & <int> & <dbl> & <chr>\\\\\n",
       "\\hline\n",
       "\t FALSE & Adult-shared & 67235 & 68598 & 98.013062 & 67235, 98\\% \\\\\n",
       "\t TRUE  & Adult-shared &  1363 & 68598 &  1.986938 & 1363, 2\\%   \\\\\n",
       "\t FALSE & Fetal-unique & 10108 & 10131 & 99.772974 & 10108, 100\\%\\\\\n",
       "\t TRUE  & Fetal-unique &    23 & 10131 &  0.227026 & 23, 0.23\\%  \\\\\n",
       "\\end{tabular}\n"
      ],
      "text/markdown": [
       "\n",
       "A grouped_df: 4 × 6\n",
       "\n",
       "| Coloc_GWAS &lt;fct&gt; | Fetal_Unique_Cluster &lt;chr&gt; | Freq &lt;int&gt; | total &lt;int&gt; | pct &lt;dbl&gt; | label &lt;chr&gt; |\n",
       "|---|---|---|---|---|---|\n",
       "| FALSE | Adult-shared | 67235 | 68598 | 98.013062 | 67235, 98%  |\n",
       "| TRUE  | Adult-shared |  1363 | 68598 |  1.986938 | 1363, 2%    |\n",
       "| FALSE | Fetal-unique | 10108 | 10131 | 99.772974 | 10108, 100% |\n",
       "| TRUE  | Fetal-unique |    23 | 10131 |  0.227026 | 23, 0.23%   |\n",
       "\n"
      ],
      "text/plain": [
       "  Coloc_GWAS Fetal_Unique_Cluster Freq  total pct       label      \n",
       "1 FALSE      Adult-shared         67235 68598 98.013062 67235, 98% \n",
       "2 TRUE       Adult-shared          1363 68598  1.986938 1363, 2%   \n",
       "3 FALSE      Fetal-unique         10108 10131 99.772974 10108, 100%\n",
       "4 TRUE       Fetal-unique            23 10131  0.227026 23, 0.23%  "
      ]
     },
     "metadata": {},
     "output_type": "display_data"
    }
   ],
   "source": [
    "toplot = data.frame(table(qtls$Coloc_GWAS, qtls$Fetal_Unique_Cluster)) %>%\n",
    "    group_by(Var2) %>%\n",
    "    dplyr::mutate(total = sum(Freq)) %>%\n",
    "    mutate(pct = Freq / total * 100) %>%\n",
    "    mutate(label = paste0(Freq, \", \", signif(pct, 2), \"%\"))\n",
    "\n",
    "# change columns\n",
    "colnames(toplot)[1] = \"Coloc_GWAS\"\n",
    "colnames(toplot)[2] = \"Fetal_Unique_Cluster\"\n",
    "\n",
    "# convert column from factor to vector (needed to change labels, see next step)\n",
    "toplot$Fetal_Unique_Cluster = as.vector(toplot$Fetal_Unique_Cluster)\n",
    "\n",
    "# re-label\n",
    "toplot[toplot$Fetal_Unique_Cluster == T,]$Fetal_Unique_Cluster = \"Fetal-unique\"\n",
    "toplot[toplot$Fetal_Unique_Cluster == F,]$Fetal_Unique_Cluster = \"Adult-shared\"\n",
    "\n",
    "toplot"
   ]
  },
  {
   "cell_type": "markdown",
   "metadata": {},
   "source": [
    "## write source data"
   ]
  },
  {
   "cell_type": "code",
   "execution_count": 146,
   "metadata": {},
   "outputs": [],
   "source": [
    "towrite = toplot %>% filter(Coloc_GWAS == T) %>%\n",
    "    dplyr::rename(Total_Clusters = total) %>%\n",
    "    dplyr::rename(Pct_Fetal_Unique_Cluster = pct) %>%\n",
    "    dplyr::rename(Bar_Label = label) %>%\n",
    "    dplyr::rename(N = Freq) %>%\n",
    "    select(-Coloc_GWAS)\n",
    "\n",
    "fwrite(towrite, \"manuscript/figures/SourceData.Figure5d.FetalUnique_Enrichment.txt\", row.names = F, sep = \"\\t\")"
   ]
  },
  {
   "cell_type": "markdown",
   "metadata": {},
   "source": [
    "## plot"
   ]
  },
  {
   "cell_type": "code",
   "execution_count": 147,
   "metadata": {},
   "outputs": [
    {
     "data": {
      "image/png": "[encoded data removed]",
      "text/plain": [
       "plot without title"
      ]
     },
     "metadata": {
      "image/png": {
       "height": 180,
       "width": 480
      }
     },
     "output_type": "display_data"
    }
   ],
   "source": [
    "psize(w = 8, h = 3)\n",
    "ggplot(towrite, aes(y = Fetal_Unique_Cluster, x = Pct_Fetal_Unique_Cluster, fill = Fetal_Unique_Cluster, label = Bar_Label)) + \n",
    "    geom_bar(stat = \"identity\", color = \"black\") + \n",
    "    jn_classic +  # personal theme\n",
    "    scale_fill_manual(values = c(\"gray\", \"#915b68\")) + \n",
    "    ylab(\"\") + \n",
    "    theme(legend.position = \"none\") + \n",
    "    xlab(\"Proportion Colocalized\\nwith GWAS (%)\") + \n",
    "    geom_text(hjust = -0.1, size = 7) + \n",
    "    xlim(0, 3)"
   ]
  },
  {
   "cell_type": "code",
   "execution_count": null,
   "metadata": {},
   "outputs": [],
   "source": []
  }
 ],
 "metadata": {
  "kernelspec": {
   "display_name": "R 4.2.1",
   "language": "R",
   "name": "ir421"
  },
  "language_info": {
   "codemirror_mode": "r",
   "file_extension": ".r",
   "mimetype": "text/x-r-source",
   "name": "R",
   "pygments_lexer": "r",
   "version": "4.2.1"
  }
 },
 "nbformat": 4,
 "nbformat_minor": 2
}
