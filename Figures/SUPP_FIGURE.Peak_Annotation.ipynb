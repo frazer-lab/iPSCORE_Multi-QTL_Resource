{
 "cells": [
  {
   "cell_type": "code",
   "execution_count": 1,
   "metadata": {},
   "outputs": [],
   "source": [
    "prj_dir=\"/path/to/project/dir\"\n",
    "function_file=\"/path/to/functions/file\"\n",
    "\n",
    "setwd(prj_dir)\n",
    "source(function_file)\n",
    "\n",
    "library(ChIPseeker)\n",
    "library(TxDb.Hsapiens.UCSC.hg38.knownGene)\n",
    "library(BSgenome.Hsapiens.UCSC.hg38)\n",
    "library(EnsDb.Hsapiens.v86)\n",
    "library(AnnotationDbi)\n",
    "library(org.Hs.eg.db)\n",
    "\n",
    "peak_dir=\"/path/to/directory/with/peak/bedfiles\"\n",
    "\n",
    "samplefiles <- list.files(peak_dir, pattern = \"bed\",full.names = T)\n",
    "\n",
    "samplefiles <- as.list(samplefiles)\n",
    "\n",
    "txdb <- TxDb.Hsapiens.UCSC.hg38.knownGene\n",
    "\n",
    "peakAnnoList <- lapply(samplefiles, annotatePeak, TxDb=txdb, \n",
    "                       tssRegion=c(-1000, 1000), verbose=FALSE)\n",
    "\n",
    "psize(3,5)\n",
    "plotAnnoBar(peakAnnoList)\n"
   ]
  }
 ],
 "metadata": {
  "kernelspec": {
   "display_name": "R 4.0.1",
   "language": "R",
   "name": "ir40"
  },
  "language_info": {
   "codemirror_mode": "r",
   "file_extension": ".r",
   "mimetype": "text/x-r-source",
   "name": "R",
   "pygments_lexer": "r",
   "version": "4.0.1"
  }
 },
 "nbformat": 4,
 "nbformat_minor": 2
}
