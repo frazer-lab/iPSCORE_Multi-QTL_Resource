{
 "cells": [
  {
   "cell_type": "code",
   "execution_count": 1,
   "metadata": {},
   "outputs": [],
   "source": [
    "source(\"~/software/notebook_assist/functions.R\")\n",
    "source(\"~/software/notebook_assist/packages.R\")\n",
    "library(umap)\n",
    "# setwd(\"/projects/CARDIPS/analysis/epigenome_resource/\")\n",
    "theme_bw2 = theme_bw() +\n",
    "    theme(\n",
    "        axis.text = element_text(size = 12),\n",
    "        strip.text = element_text(size = 12),\n",
    "        axis.title = element_text(size = 12),\n",
    "        legend.text = element_text(size = 12),\n",
    "        legend.title = element_text(size = 12),\n",
    "        legend.position = \"top\"\n",
    "    )"
   ]
  },
  {
   "cell_type": "code",
   "execution_count": null,
   "metadata": {},
   "outputs": [],
   "source": []
  },
  {
   "cell_type": "markdown",
   "metadata": {},
   "source": [
    "### Figure SX - Shared and Specific peaks"
   ]
  },
  {
   "cell_type": "code",
   "execution_count": 4,
   "metadata": {},
   "outputs": [],
   "source": [
    "### ATAC and ChIP Peaks found on Figshare\n",
    "ipsc_path=\"path/to/ipsc/atac/peak/bed\"\n",
    "cvpc_path=\"path/to/cvpc/atac/peak/bed\"\n",
    "ppc_path=\"path/to/ppc/atac/peak/bed\"\n",
    "\n",
    "ipsc_path=\"/projects/CARDIPS/analysis/epigenome_resource/analyses/tim/tobias/ipsc_atac/accessible_peaks.bed\"\n",
    "cvpc_path=\"/projects/CARDIPS/analysis/epigenome_resource/analyses/tim/tobias/cvpc_atac/accessible_peaks.bed\"\n",
    "ppc_path =\"/projects/CARDIPS/analysis/epigenome_resource/analyses/tim/tobias/ppc_atac/accessible_peaks.bed\"\n",
    "\n",
    "\n",
    "atac_peaks = rbind(rbind(fread(ipsc_path,sep=\"\\t\",data.table=F),fread(cvpc_path,sep=\"\\t\",data.table=F)),\n",
    "                   fread(ppc_path,sep=\"\\t\",data.table=F))\n",
    "\n",
    "atac_peaks$Tissue = ifelse(grepl(\"ipsc\",atac_peaks$V4), \"iPSC\",\n",
    "                          ifelse(grepl(\"cvpc\",atac_peaks$V4), \"CVPC\",\"PPC\"))\n",
    "\n",
    "atac_peak_path = \"sourcedata/all_atac_peaks.bed\"\n",
    "fwrite(atac_peaks %>% arrange(V1,V2,V3),atac_peak_path, sep=\"\\t\",row.names=F, col.names=F,quote=F)\n",
    "bedtools=\"path/to/bedtools\"\n",
    "bedtools = \"/frazer01/software/bedtools-2.25.0/bin/bedtools\"\n",
    "\n",
    "merge_peak_path = \"sourcedata/merged_peaks.bed\"\n",
    "cmd = paste(bedtools, \"merge -i\", atac_peak_path, \"-c 4 -o distinct >\", merge_peak_path)\n",
    "system(cmd)\n",
    "\n",
    "merged_peaks = fread(merge_peak_path, sep=\"\\t\",data.table=F)\n"
   ]
  },
  {
   "cell_type": "code",
   "execution_count": 5,
   "metadata": {},
   "outputs": [],
   "source": [
    "merged_peaks$Shared = ifelse(grepl(\",\",merged_peaks$V4), \"Shared\",\"Specific\")\n",
    "merged_peaks_long = merged_peaks %>% separate_rows(V4, sep = \",\")"
   ]
  },
  {
   "cell_type": "code",
   "execution_count": null,
   "metadata": {},
   "outputs": [],
   "source": []
  },
  {
   "cell_type": "code",
   "execution_count": 7,
   "metadata": {},
   "outputs": [
    {
     "data": {
      "text/plain": [
       "      \n",
       "       Shared Specific\n",
       "  CVPC 123446    79495\n",
       "  iPSC 105742    66333\n",
       "  PPC  127771    65657"
      ]
     },
     "metadata": {},
     "output_type": "display_data"
    }
   ],
   "source": [
    "merged_peaks_long$Tissue = ifelse(grepl(\"ipsc\",merged_peaks_long$V4), \"iPSC\",\n",
    "                          ifelse(grepl(\"cvpc\",merged_peaks_long$V4), \"CVPC\",\"PPC\"))\n",
    "table(merged_peaks_long$Tissue,merged_peaks_long$Shared)"
   ]
  },
  {
   "cell_type": "code",
   "execution_count": 5,
   "metadata": {},
   "outputs": [
    {
     "name": "stderr",
     "output_type": "stream",
     "text": [
      "\u001b[1m\u001b[22m`summarise()` has grouped output by 'Tissue'. You can override using the\n",
      "`.groups` argument.\n"
     ]
    },
    {
     "data": {
      "image/png": "[encoded data removed]",
      "text/plain": [
       "plot without title"
      ]
     },
     "metadata": {
      "image/png": {
       "height": 240,
       "width": 240
      }
     },
     "output_type": "display_data"
    }
   ],
   "source": [
    "figure_sXa = merged_peaks_long %>%\n",
    "                  group_by(Tissue, Shared) %>% \n",
    "                  summarize(n_peaks = n()) %>%  # Calculate the total number of peaks per tissue\n",
    "                  ungroup() %>%\n",
    "                  group_by(Tissue) %>%\n",
    "                  mutate(total_peaks = sum(n_peaks), Percent = (n_peaks/total_peaks)*100)\n",
    "\n",
    "figure_sXa$Tissue = factor(figure_sXa$Tissue, levels = c(\"iPSC\",\"CVPC\",\"PPC\"))\n",
    "figure_sXa$Specificity = factor(figure_sXa$Shared, levels = c(\"Specific\",\"Shared\"))\n",
    "psize(4,4)\n"
   ]
  },
  {
   "cell_type": "markdown",
   "metadata": {},
   "source": [
    "### Figure SX Peak UMAP\n",
    "#### Make Merged Reference Peaks"
   ]
  },
  {
   "cell_type": "code",
   "execution_count": null,
   "metadata": {},
   "outputs": [],
   "source": [
    "base_dir=\"/projects/CARDIPS/analysis/epigenome_resource/\"\n",
    "atac.fs = c(paste0(base_dir,\"caqtls/iPSC/input/phenotype_info.bed\"),\n",
    "           paste0(base_dir,\"caqtls/CVPC/input/phenotype_info.bed\"),\n",
    "           paste0(base_dir,\"caqtls/PPC/input/phenotype_info.bed\"))\n",
    "chip.fs = c(paste0(base_dir,\"haqtls/iPSC/input/phenotype_info.bed\"),\n",
    "           paste0(base_dir,\"haqtls/CVPC/input/phenotype_info.bed\"))\n",
    "\n",
    "atac_peaks = rbindlist(lapply(atac.fs, function(x){return(fread(x,sep=\"\\t\") %>% filter(V1 %in% paste0(\"chr\",1:22)))})) %>% \n",
    "                    arrange(V1,V2,V3)\n",
    "chip_peaks = rbindlist(lapply(chip.fs, function(x){return(fread(x,sep=\"\\t\") %>% filter(V1 %in% paste0(\"chr\",1:22)))})) %>% \n",
    "                    arrange(V1,V2,V3)\n",
    "\n",
    "# fwrite(atac_peaks, \"analyses/tim/merged_umap/peaks/atac.bed\",sep=\"\\t\",row.names=F,col.names=F,quote=F)\n",
    "# fwrite(chip_peaks, \"analyses/tim/merged_umap/peaks/chip.bed\",sep=\"\\t\",row.names=F,col.names=F,quote=F)\n",
    "\n",
    "\n",
    "bedtools_path=\"/frazer01/software/bedtools-2.25.0/bin/bedtools\"\n",
    "\n",
    "merge_peaks = function(type) {\n",
    "    in_file = paste0(base_dir,\"analyses/tim/merged_umap/peaks/\",type,\".bed\")\n",
    "    out_file = paste0(base_dir,\"analyses/tim/merged_umap/peaks/\",type,\".merged.bed\")\n",
    "    \n",
    "    cmd = paste(bedtools_path, \"merge -i\",in_file,\">\", out_file)\n",
    "    message(cmd)\n",
    "    system(cmd)\n",
    "    toSAF = fread(out_file,sep=\"\\t\",data.table=F) %>% mutate(id = paste(V1,V2,V3,sep=\"_\"), strand = \".\") %>% select(id, V1 ,V2, V3,strand)\n",
    "#     fwrite(toSAF,  paste0(base_dir,\"analyses/tim/merged_umap/peaks/\",type,\".merged.saf\"),sep=\"\\t\",row.names=F,quote=F,col.names=F)\n",
    "    \n",
    "    system(paste(\"rm\", in_file))\n",
    "    \n",
    "}\n",
    "\n",
    "# merge_peaks(\"atac\")\n",
    "# merge_peaks(\"chip\")"
   ]
  },
  {
   "cell_type": "markdown",
   "metadata": {},
   "source": [
    "#### Compile counts "
   ]
  },
  {
   "cell_type": "code",
   "execution_count": null,
   "metadata": {},
   "outputs": [],
   "source": [
    "compile_counts = function(type) {\n",
    "    count_dirs=list.files(paste0(base_dir,\"analyses/tim/merged_umap/counts/\",type),full.names=T)\n",
    "    uuids = gsub(\"/projects/CARDIPS/analysis/epigenome_resource/analyses/tim/merged_umap/counts/[a-z]+/\",\"\",count_dirs)\n",
    "    fs = list.files(count_dirs,pattern=\"all_reference_peaks.counts$\", full.names=T)\n",
    "\n",
    "    counts = lapply(fs, function(f){\n",
    "        ct = fread(f, sep=\"\\t\",data.table=F)[,c(1,7)]\n",
    "        return(ct)\n",
    "    })\n",
    "    out = Reduce(function(...) merge(..., all=T), counts)\n",
    "        return(out)\n",
    "}\n",
    "# atac_compiled = compile_counts(\"atac\")\n",
    "chip_compiled = compile_counts(\"chip\") "
   ]
  },
  {
   "cell_type": "code",
   "execution_count": null,
   "metadata": {},
   "outputs": [],
   "source": [
    "colnames(chip_compiled) = gsub(\"/.*\",\"\",gsub(\".*hg38/\",\"\",colnames(chip_compiled)))\n",
    "head(chip_compiled)"
   ]
  },
  {
   "cell_type": "code",
   "execution_count": 102,
   "metadata": {},
   "outputs": [],
   "source": [
    "atac_tmm = add_rownames(fread(\"/projects/CARDIPS/analysis/epigenome_resource/analyses/tim/merged_umap/scripts/atac_tmm.txt\",sep=\"\\t\",data.table=F))\n",
    "chip_tmm = add_rownames(fread(\"/projects/CARDIPS/analysis/epigenome_resource/analyses/tim/merged_umap/scripts/chip_tmm.txt\",sep=\"\\t\",data.table=F))"
   ]
  },
  {
   "cell_type": "code",
   "execution_count": 103,
   "metadata": {},
   "outputs": [],
   "source": [
    "atac_meta = fread(\"~/projects/Resource/SupplementalTables/TableS3_ATACMetadata_v2.txt\",sep=\"\\t\",data.table=F)[,c(\"ATAC UUID\",\"Tissue\")]\n",
    "names(atac_meta)[1] = \"uuid\"\n",
    "chip_meta = fread(\"~/projects/Resource/SupplementalTables/TableS4_ChIPMetadata_v2.txt\",sep=\"\\t\",data.table=F)[,c(\"ChIP UUID\",\"Tissue\")]\n",
    "names(chip_meta)[1] = \"uuid\"\n",
    "atac_meta$Tissue = factor(atac_meta$Tissue, levels = c(\"iPSC\",\"CVPC\",\"PPC\"))\n",
    "chip_meta$Tissue = factor(chip_meta$Tissue, levels = c(\"iPSC\",\"CVPC\"))"
   ]
  },
  {
   "cell_type": "code",
   "execution_count": 104,
   "metadata": {},
   "outputs": [],
   "source": [
    "run_umap = function(tmm, meta) {\n",
    "    tmm$Variance = rowVars(data.matrix(tmm))\n",
    "    tmm_top = tmm %>% top_n(2000,Variance)\n",
    "    tmm_top$Variance = NULL\n",
    "    pca = as.data.frame(prcomp(tmm_top)$rotation)\n",
    "    umap_out = as.data.frame(umap(pca[,1:6])$layout)\n",
    "    umap_out$uuid = rownames(umap_out)\n",
    "    umap_out2 = merge(umap_out, meta)\n",
    "    return(umap_out2)\n",
    "}\n",
    "chip_umap = run_umap(chip_tmm, chip_meta)\n",
    "atac_umap = run_umap(atac_tmm, atac_meta)"
   ]
  },
  {
   "cell_type": "code",
   "execution_count": 124,
   "metadata": {},
   "outputs": [
    {
     "data": {
      "image/png": "[encoded data removed]",
      "text/plain": [
       "plot without title"
      ]
     },
     "metadata": {
      "image/png": {
       "height": 150,
       "width": 360
      }
     },
     "output_type": "display_data"
    }
   ],
   "source": [
    "atac_plt = ggplot(atac_umap, aes(V1, V2, color =Tissue )) + theme_bw() + \n",
    "                    ggtitle(\"Chromatin\\nAccessibility\") + \n",
    "                    xlab(\"UMAP1\") + ylab(\"UMAP2\") + geom_point()+ \n",
    "                    scale_color_manual(values = c(\"lightBlue\",\"red\",\"yellow\"))\n",
    "chip_plt = ggplot(chip_umap, aes(V1, V2, color =Tissue )) + theme_bw() + \n",
    "                     ggtitle(\"H3K27ac\\nAcetylation\") + \n",
    "                    xlab(\"UMAP1\") + ylab(\"UMAP2\") + geom_point() + \n",
    "                    scale_color_manual(values = c(\"lightBlue\",\"red\"))\n",
    "psize(2.5,6)\n",
    "s4_ab = plot_grid(atac_plt,chip_plt, nrow =1 ,labels = c(\"a\",\"b\"))\n",
    "s4_ab"
   ]
  },
  {
   "cell_type": "code",
   "execution_count": 129,
   "metadata": {},
   "outputs": [
    {
     "data": {
      "text/html": [
       "<strong>png:</strong> 2"
      ],
      "text/latex": [
       "\\textbf{png:} 2"
      ],
      "text/markdown": [
       "**png:** 2"
      ],
      "text/plain": [
       "png \n",
       "  2 "
      ]
     },
     "metadata": {},
     "output_type": "display_data"
    }
   ],
   "source": [
    "shared_plot = ggplot(figure_sXa, aes(Tissue, Percent,fill=Specificity)) + \n",
    "            theme_bw() + \n",
    "            theme(legend.position = \"bottom\") +\n",
    "            ylab(\"Percent\\nATAC-seq peaks\") + xlab(\"\") +\n",
    "            ylim(c(0,75)) +\n",
    "            geom_bar(stat=\"identity\",position=\"dodge\") +\n",
    "            geom_text(aes(label=n_peaks), position=position_dodge(width=0.9), vjust=-0.25) + \n",
    "            guides(fill = guide_legend(title.position = \"top\"))\n",
    "\n",
    "s4_c = plot_grid(shared_plot,NULL,labels = c(\"c\",\"\"), rel_widths = c(2,1))\n",
    "psize(6,6)\n",
    "png(\"~/projects/Resource/notebooks/toGitHub/supplementalfigures/figure_s4.png\",res=300,units = \"in\",\n",
    "   height=6, width=6)\n",
    "plot_grid(s4_ab,s4_c,nrow=2)\n",
    "dev.off()"
   ]
  },
  {
   "cell_type": "markdown",
   "metadata": {},
   "source": [
    "### Figure SX TF Expression"
   ]
  },
  {
   "cell_type": "code",
   "execution_count": 66,
   "metadata": {},
   "outputs": [],
   "source": [
    "gene_info = fread(\"/reference/private/Gencode.v44lift38/gene_info.txt\",sep=\"\\t\",data.table=F)\n",
    "\n",
    "ipsc_exp_path=\"path/to/ipsc/expression\"\n",
    "cvpc_exp_path=\"path/to/cvpc/expression\"\n",
    "ppc_exp_path=\"path/to/ppc/expression\"\n",
    "\n",
    "ipsc_exp_path=\"/projects/CARDIPS/analysis/epigenome_resource/eqtls/iPSC/input/phenotype_tpm_matrix.txt\"\n",
    "cvpc_exp_path=\"/projects/CARDIPS/analysis/epigenome_resource/eqtls/CVPC/input/phenotype_tpm_matrix.txt\"\n",
    "ppc_exp_path=\"/projects/CARDIPS/analysis/epigenome_resource/eqtls/PPC/input/phenotype_tpm_matrix.txt\"\n",
    "\n",
    "ipsc_exp = fread(ipsc_exp_path,sep=\"\\t\",data.table=F)\n",
    "cvpc_exp = fread(cvpc_exp_path,sep=\"\\t\",data.table=F)\n",
    "ppc_exp  = fread(ppc_exp_path,sep=\"\\t\",data.table=F)"
   ]
  },
  {
   "cell_type": "code",
   "execution_count": 81,
   "metadata": {},
   "outputs": [
    {
     "name": "stderr",
     "output_type": "stream",
     "text": [
      "Warning message:\n",
      "“The melt generic in data.table has been passed a data.frame and will attempt to redirect to the relevant reshape2 method; please note that reshape2 is superseded and is no longer actively developed, and this redirection is now deprecated. To continue using melt methods from reshape2 while both libraries are attached, e.g. melt.list, you can prepend the namespace, i.e. reshape2::melt(filt_mat). In the next version, this warning will become an error.”\n",
      "Using V1 as id variables\n",
      "\n",
      "Warning message:\n",
      "“The melt generic in data.table has been passed a data.frame and will attempt to redirect to the relevant reshape2 method; please note that reshape2 is superseded and is no longer actively developed, and this redirection is now deprecated. To continue using melt methods from reshape2 while both libraries are attached, e.g. melt.list, you can prepend the namespace, i.e. reshape2::melt(filt_mat). In the next version, this warning will become an error.”\n",
      "Using V1 as id variables\n",
      "\n",
      "Warning message:\n",
      "“The melt generic in data.table has been passed a data.frame and will attempt to redirect to the relevant reshape2 method; please note that reshape2 is superseded and is no longer actively developed, and this redirection is now deprecated. To continue using melt methods from reshape2 while both libraries are attached, e.g. melt.list, you can prepend the namespace, i.e. reshape2::melt(filt_mat). In the next version, this warning will become an error.”\n",
      "Using V1 as id variables\n",
      "\n"
     ]
    }
   ],
   "source": [
    "exp_tfs = unique(tf_toplot$TF)\n",
    "exp_tfs = gsub(\"var.2\",\"\",exp_tfs)\n",
    "\n",
    "genes2plot = gene_info[ gene_info$gene_name %in% exp_tfs , ]\n",
    "\n",
    "melt_genes = function(exp_mat, tissue) {\n",
    "    filt_mat = exp_mat[ exp_mat$V1 %in% genes2plot$gene_id, ]\n",
    "    melt_filt = melt(filt_mat)\n",
    "    colnames(melt_filt) = c(\"gene_id\",\"sample_id\",\"TPM\")\n",
    "    melt_filt2 = merge(melt_filt,genes2plot[,c(\"gene_name\",\"gene_id\")])\n",
    "    melt_filt2$Tissue = tissue\n",
    "    return(melt_filt2)\n",
    "}\n",
    "\n",
    "melted = rbind(rbind(melt_genes(ipsc_exp, \"iPSC\"),melt_genes(cvpc_exp, \"CVPC\")),melt_genes(ppc_exp, \"PPC\"))"
   ]
  },
  {
   "cell_type": "code",
   "execution_count": 99,
   "metadata": {},
   "outputs": [
    {
     "data": {
      "text/html": [
       "<strong>png:</strong> 2"
      ],
      "text/latex": [
       "\\textbf{png:} 2"
      ],
      "text/markdown": [
       "**png:** 2"
      ],
      "text/plain": [
       "png \n",
       "  2 "
      ]
     },
     "metadata": {},
     "output_type": "display_data"
    }
   ],
   "source": [
    "psize(7,6)\n",
    "gene_factors = c(\"NANOG\",\"POU5F1\",\"SOX2\",\n",
    "                \"NKX2-5\",\"MEF2C\",\"GATA4\",\n",
    "                \"PDX1\",\"HNF1B\",\"NKX6-1\",\n",
    "                \"CTCF\",\"E2F4\",\"TGIF2\")\n",
    "melted2 = melted[ melted$gene_name %in% gene_factors, ]\n",
    "melted2$Gene = factor(melted2$gene_name, levels = gene_factors)\n",
    "melted2$Tissue = factor(melted2$Tissue, levels = c(\"iPSC\",\"CVPC\",\"PPC\"))\n",
    "png(\"supplementalfigures/figure_s5.png\",units=\"in\",res=300, height=7,width=6)\n",
    "ggplot(melted2, aes(Tissue, TPM, group=Tissue)) + theme_bw() + \n",
    "            ylab(\"Expression (TPM)\") +\n",
    "            geom_boxplot() + geom_jitter(size=0.75) + \n",
    "            facet_wrap(~Gene, scales='free', nrow=4)\n",
    "dev.off()"
   ]
  },
  {
   "cell_type": "code",
   "execution_count": null,
   "metadata": {},
   "outputs": [],
   "source": []
  }
 ],
 "metadata": {
  "kernelspec": {
   "display_name": "R 4.0.1",
   "language": "R",
   "name": "ir40"
  },
  "language_info": {
   "codemirror_mode": "r",
   "file_extension": ".r",
   "mimetype": "text/x-r-source",
   "name": "R",
   "pygments_lexer": "r",
   "version": "4.0.1"
  }
 },
 "nbformat": 4,
 "nbformat_minor": 2
}
