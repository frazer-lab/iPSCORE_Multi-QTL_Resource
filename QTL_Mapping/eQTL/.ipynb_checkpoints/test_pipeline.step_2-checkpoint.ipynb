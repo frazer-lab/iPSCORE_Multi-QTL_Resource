{
 "cells": [
  {
   "cell_type": "code",
   "execution_count": 1,
   "metadata": {},
   "outputs": [
    {
     "data": {
      "text/html": [
       "<dl>\n",
       "\t<dt>$out_folder</dt>\n",
       "\t\t<dd>'/projects/CARDIPS/analysis/epigenome_resource/eqtls/CVPC'</dd>\n",
       "\t<dt>$script_dir</dt>\n",
       "\t\t<dd>'/projects/CARDIPS/analysis/epigenome_resource/eqtls/scripts'</dd>\n",
       "\t<dt>$functions_file</dt>\n",
       "\t\t<dd>'/projects/CARDIPS/analysis/epigenome_resource/eqtls/scripts/functions.R'</dd>\n",
       "\t<dt>$bcftools</dt>\n",
       "\t\t<dd>'bcftools'</dd>\n",
       "\t<dt>$python</dt>\n",
       "\t\t<dd>'python'</dd>\n",
       "\t<dt>$qsub_queue</dt>\n",
       "\t\t<dd>''</dd>\n",
       "\t<dt>$config_file</dt>\n",
       "\t\t<dd>'/projects/CARDIPS/analysis/epigenome_resource/eqtls/CVPC/notebooks/qtl.config.sh'</dd>\n",
       "\t<dt>$metadata_sample</dt>\n",
       "\t\t<dd>'/projects/CARDIPS/analysis/epigenome_resource/eqtls/CVPC/input/metadata_sample.txt'</dd>\n",
       "\t<dt>$metadata_subject</dt>\n",
       "\t\t<dd>'/projects/CARDIPS/analysis/epigenome_resource/eqtls/CVPC/input/metadata_subject.txt'</dd>\n",
       "\t<dt>$input_phenotype_tpm_matrix</dt>\n",
       "\t\t<dd>'/projects/CARDIPS/analysis/epigenome_resource/eqtls/CVPC/input/phenotype_tpm_matrix.txt'</dd>\n",
       "\t<dt>$input_phenotype_count_matrix</dt>\n",
       "\t\t<dd>'/projects/CARDIPS/analysis/epigenome_resource/eqtls/CVPC/input/phenotype_count_matrix.txt'</dd>\n",
       "\t<dt>$input_phenotype_info</dt>\n",
       "\t\t<dd>'/projects/CARDIPS/analysis/epigenome_resource/eqtls/CVPC/input/phenotype_info.txt'</dd>\n",
       "\t<dt>$input_vcfs</dt>\n",
       "\t\t<dd>'/projects/CARDIPS/analysis/epigenome_resource/eqtls/prepare_wgs/iPSCORE_hg38.norm.pass.MAF0.05.HWE.GT99.recode.vcf.gz'</dd>\n",
       "\t<dt>$freq_file</dt>\n",
       "\t\t<dd>'/projects/CARDIPS/analysis/epigenome_resource/eqtls/prepare_wgs/iPSCORE_hg38.norm.pass.MAF0.05.HWE.GT99.recode.frq'</dd>\n",
       "\t<dt>$peer_factors_n_peer</dt>\n",
       "\t\t<dd>50</dd>\n",
       "\t<dt>$peer_factors_n_elements</dt>\n",
       "\t\t<dd>2000</dd>\n",
       "\t<dt>$kinship_file</dt>\n",
       "\t\t<dd>'/projects/CARDIPS/analysis/epigenome_resource/eqtls/prepare_wgs/kinship/kinship.rel'</dd>\n",
       "\t<dt>$qtl_distance</dt>\n",
       "\t\t<dd>1e+06</dd>\n",
       "\t<dt>$maf_threshold</dt>\n",
       "\t\t<dd>0.05</dd>\n",
       "\t<dt>$chromsizes_file</dt>\n",
       "\t\t<dd>'/reference/public/ucsc/hg38/hg38.chrom.sizes'</dd>\n",
       "\t<dt>$expressed_pct</dt>\n",
       "\t\t<dd>'0.2'</dd>\n",
       "\t<dt>$expressed_tpm</dt>\n",
       "\t\t<dd>'0.01'</dd>\n",
       "\t<dt>$expressed_counts</dt>\n",
       "\t\t<dd>'6'</dd>\n",
       "</dl>\n"
      ],
      "text/latex": [
       "\\begin{description}\n",
       "\\item[\\$out\\_folder] '/projects/CARDIPS/analysis/epigenome\\_resource/eqtls/CVPC'\n",
       "\\item[\\$script\\_dir] '/projects/CARDIPS/analysis/epigenome\\_resource/eqtls/scripts'\n",
       "\\item[\\$functions\\_file] '/projects/CARDIPS/analysis/epigenome\\_resource/eqtls/scripts/functions.R'\n",
       "\\item[\\$bcftools] 'bcftools'\n",
       "\\item[\\$python] 'python'\n",
       "\\item[\\$qsub\\_queue] ''\n",
       "\\item[\\$config\\_file] '/projects/CARDIPS/analysis/epigenome\\_resource/eqtls/CVPC/notebooks/qtl.config.sh'\n",
       "\\item[\\$metadata\\_sample] '/projects/CARDIPS/analysis/epigenome\\_resource/eqtls/CVPC/input/metadata\\_sample.txt'\n",
       "\\item[\\$metadata\\_subject] '/projects/CARDIPS/analysis/epigenome\\_resource/eqtls/CVPC/input/metadata\\_subject.txt'\n",
       "\\item[\\$input\\_phenotype\\_tpm\\_matrix] '/projects/CARDIPS/analysis/epigenome\\_resource/eqtls/CVPC/input/phenotype\\_tpm\\_matrix.txt'\n",
       "\\item[\\$input\\_phenotype\\_count\\_matrix] '/projects/CARDIPS/analysis/epigenome\\_resource/eqtls/CVPC/input/phenotype\\_count\\_matrix.txt'\n",
       "\\item[\\$input\\_phenotype\\_info] '/projects/CARDIPS/analysis/epigenome\\_resource/eqtls/CVPC/input/phenotype\\_info.txt'\n",
       "\\item[\\$input\\_vcfs] '/projects/CARDIPS/analysis/epigenome\\_resource/eqtls/prepare\\_wgs/iPSCORE\\_hg38.norm.pass.MAF0.05.HWE.GT99.recode.vcf.gz'\n",
       "\\item[\\$freq\\_file] '/projects/CARDIPS/analysis/epigenome\\_resource/eqtls/prepare\\_wgs/iPSCORE\\_hg38.norm.pass.MAF0.05.HWE.GT99.recode.frq'\n",
       "\\item[\\$peer\\_factors\\_n\\_peer] 50\n",
       "\\item[\\$peer\\_factors\\_n\\_elements] 2000\n",
       "\\item[\\$kinship\\_file] '/projects/CARDIPS/analysis/epigenome\\_resource/eqtls/prepare\\_wgs/kinship/kinship.rel'\n",
       "\\item[\\$qtl\\_distance] 1e+06\n",
       "\\item[\\$maf\\_threshold] 0.05\n",
       "\\item[\\$chromsizes\\_file] '/reference/public/ucsc/hg38/hg38.chrom.sizes'\n",
       "\\item[\\$expressed\\_pct] '0.2'\n",
       "\\item[\\$expressed\\_tpm] '0.01'\n",
       "\\item[\\$expressed\\_counts] '6'\n",
       "\\end{description}\n"
      ],
      "text/markdown": [
       "$out_folder\n",
       ":   '/projects/CARDIPS/analysis/epigenome_resource/eqtls/CVPC'\n",
       "$script_dir\n",
       ":   '/projects/CARDIPS/analysis/epigenome_resource/eqtls/scripts'\n",
       "$functions_file\n",
       ":   '/projects/CARDIPS/analysis/epigenome_resource/eqtls/scripts/functions.R'\n",
       "$bcftools\n",
       ":   'bcftools'\n",
       "$python\n",
       ":   'python'\n",
       "$qsub_queue\n",
       ":   ''\n",
       "$config_file\n",
       ":   '/projects/CARDIPS/analysis/epigenome_resource/eqtls/CVPC/notebooks/qtl.config.sh'\n",
       "$metadata_sample\n",
       ":   '/projects/CARDIPS/analysis/epigenome_resource/eqtls/CVPC/input/metadata_sample.txt'\n",
       "$metadata_subject\n",
       ":   '/projects/CARDIPS/analysis/epigenome_resource/eqtls/CVPC/input/metadata_subject.txt'\n",
       "$input_phenotype_tpm_matrix\n",
       ":   '/projects/CARDIPS/analysis/epigenome_resource/eqtls/CVPC/input/phenotype_tpm_matrix.txt'\n",
       "$input_phenotype_count_matrix\n",
       ":   '/projects/CARDIPS/analysis/epigenome_resource/eqtls/CVPC/input/phenotype_count_matrix.txt'\n",
       "$input_phenotype_info\n",
       ":   '/projects/CARDIPS/analysis/epigenome_resource/eqtls/CVPC/input/phenotype_info.txt'\n",
       "$input_vcfs\n",
       ":   '/projects/CARDIPS/analysis/epigenome_resource/eqtls/prepare_wgs/iPSCORE_hg38.norm.pass.MAF0.05.HWE.GT99.recode.vcf.gz'\n",
       "$freq_file\n",
       ":   '/projects/CARDIPS/analysis/epigenome_resource/eqtls/prepare_wgs/iPSCORE_hg38.norm.pass.MAF0.05.HWE.GT99.recode.frq'\n",
       "$peer_factors_n_peer\n",
       ":   50\n",
       "$peer_factors_n_elements\n",
       ":   2000\n",
       "$kinship_file\n",
       ":   '/projects/CARDIPS/analysis/epigenome_resource/eqtls/prepare_wgs/kinship/kinship.rel'\n",
       "$qtl_distance\n",
       ":   1e+06\n",
       "$maf_threshold\n",
       ":   0.05\n",
       "$chromsizes_file\n",
       ":   '/reference/public/ucsc/hg38/hg38.chrom.sizes'\n",
       "$expressed_pct\n",
       ":   '0.2'\n",
       "$expressed_tpm\n",
       ":   '0.01'\n",
       "$expressed_counts\n",
       ":   '6'\n",
       "\n",
       "\n"
      ],
      "text/plain": [
       "$out_folder\n",
       "[1] \"/projects/CARDIPS/analysis/epigenome_resource/eqtls/CVPC\"\n",
       "\n",
       "$script_dir\n",
       "[1] \"/projects/CARDIPS/analysis/epigenome_resource/eqtls/scripts\"\n",
       "\n",
       "$functions_file\n",
       "[1] \"/projects/CARDIPS/analysis/epigenome_resource/eqtls/scripts/functions.R\"\n",
       "\n",
       "$bcftools\n",
       "[1] \"bcftools\"\n",
       "\n",
       "$python\n",
       "[1] \"python\"\n",
       "\n",
       "$qsub_queue\n",
       "[1] \"\"\n",
       "\n",
       "$config_file\n",
       "[1] \"/projects/CARDIPS/analysis/epigenome_resource/eqtls/CVPC/notebooks/qtl.config.sh\"\n",
       "\n",
       "$metadata_sample\n",
       "[1] \"/projects/CARDIPS/analysis/epigenome_resource/eqtls/CVPC/input/metadata_sample.txt\"\n",
       "\n",
       "$metadata_subject\n",
       "[1] \"/projects/CARDIPS/analysis/epigenome_resource/eqtls/CVPC/input/metadata_subject.txt\"\n",
       "\n",
       "$input_phenotype_tpm_matrix\n",
       "[1] \"/projects/CARDIPS/analysis/epigenome_resource/eqtls/CVPC/input/phenotype_tpm_matrix.txt\"\n",
       "\n",
       "$input_phenotype_count_matrix\n",
       "[1] \"/projects/CARDIPS/analysis/epigenome_resource/eqtls/CVPC/input/phenotype_count_matrix.txt\"\n",
       "\n",
       "$input_phenotype_info\n",
       "[1] \"/projects/CARDIPS/analysis/epigenome_resource/eqtls/CVPC/input/phenotype_info.txt\"\n",
       "\n",
       "$input_vcfs\n",
       "[1] \"/projects/CARDIPS/analysis/epigenome_resource/eqtls/prepare_wgs/iPSCORE_hg38.norm.pass.MAF0.05.HWE.GT99.recode.vcf.gz\"\n",
       "\n",
       "$freq_file\n",
       "[1] \"/projects/CARDIPS/analysis/epigenome_resource/eqtls/prepare_wgs/iPSCORE_hg38.norm.pass.MAF0.05.HWE.GT99.recode.frq\"\n",
       "\n",
       "$peer_factors_n_peer\n",
       "[1] 50\n",
       "\n",
       "$peer_factors_n_elements\n",
       "[1] 2000\n",
       "\n",
       "$kinship_file\n",
       "[1] \"/projects/CARDIPS/analysis/epigenome_resource/eqtls/prepare_wgs/kinship/kinship.rel\"\n",
       "\n",
       "$qtl_distance\n",
       "[1] 1e+06\n",
       "\n",
       "$maf_threshold\n",
       "[1] 0.05\n",
       "\n",
       "$chromsizes_file\n",
       "[1] \"/reference/public/ucsc/hg38/hg38.chrom.sizes\"\n",
       "\n",
       "$expressed_pct\n",
       "[1] \"0.2\"\n",
       "\n",
       "$expressed_tpm\n",
       "[1] \"0.01\"\n",
       "\n",
       "$expressed_counts\n",
       "[1] \"6\"\n"
      ]
     },
     "metadata": {},
     "output_type": "display_data"
    }
   ],
   "source": [
    "tissue = \"CVPC\"\n",
    "setwd(\"/projects/CARDIPS/analysis/epigenome_resource\")\n",
    "source(paste(\"eqtls/scripts/functions.R\", sep = \"/\"))\n",
    "\n",
    "opt = list(config = paste(\"eqtls\", tissue, \"notebooks/qtl.config.sh\", sep = \"/\"), step = 1) # change with optparse\n",
    "\n",
    "config_file   = opt$config\n",
    "pipeline_step = opt$step\n",
    "\n",
    "config = parse_config(config_file)\n",
    "config"
   ]
  },
  {
   "cell_type": "markdown",
   "metadata": {},
   "source": [
    "# Step 2: Test run on X elements to determine the optimal number of PEER factors\n"
   ]
  },
  {
   "cell_type": "markdown",
   "metadata": {},
   "source": [
    "## create workspace"
   ]
  },
  {
   "cell_type": "code",
   "execution_count": 16,
   "metadata": {},
   "outputs": [],
   "source": [
    "# from create_workspace\n",
    "dir.create(paste(config$out_folder, \"step_2\", \"test_by_peer\"           , sep = \"/\"), showWarnings = FALSE)\n"
   ]
  },
  {
   "cell_type": "markdown",
   "metadata": {},
   "source": [
    "## select random genes to pilot QTL mapping on"
   ]
  },
  {
   "cell_type": "code",
   "execution_count": 10,
   "metadata": {},
   "outputs": [
    {
     "data": {
      "text/html": [
       "<style>\n",
       ".list-inline {list-style: none; margin:0; padding: 0}\n",
       ".list-inline>li {display: inline-block}\n",
       ".list-inline>li:not(:last-child)::after {content: \"\\00b7\"; padding: 0 .5ex}\n",
       "</style>\n",
       "<ol class=list-inline><li>'ENSG00000000419.14'</li><li>'ENSG00000000457.14'</li><li>'ENSG00000000460.17'</li><li>'ENSG00000000971.17'</li><li>'ENSG00000001036.14'</li><li>'ENSG00000001084.13'</li></ol>\n"
      ],
      "text/latex": [
       "\\begin{enumerate*}\n",
       "\\item 'ENSG00000000419.14'\n",
       "\\item 'ENSG00000000457.14'\n",
       "\\item 'ENSG00000000460.17'\n",
       "\\item 'ENSG00000000971.17'\n",
       "\\item 'ENSG00000001036.14'\n",
       "\\item 'ENSG00000001084.13'\n",
       "\\end{enumerate*}\n"
      ],
      "text/markdown": [
       "1. 'ENSG00000000419.14'\n",
       "2. 'ENSG00000000457.14'\n",
       "3. 'ENSG00000000460.17'\n",
       "4. 'ENSG00000000971.17'\n",
       "5. 'ENSG00000001036.14'\n",
       "6. 'ENSG00000001084.13'\n",
       "\n",
       "\n"
      ],
      "text/plain": [
       "[1] \"ENSG00000000419.14\" \"ENSG00000000457.14\" \"ENSG00000000460.17\"\n",
       "[4] \"ENSG00000000971.17\" \"ENSG00000001036.14\" \"ENSG00000001084.13\""
      ]
     },
     "metadata": {},
     "output_type": "display_data"
    },
    {
     "name": "stderr",
     "output_type": "stream",
     "text": [
      "Genes with GT: 18270\n",
      "\n"
     ]
    }
   ],
   "source": [
    "# use only genes that we have both genotype and phenotype files for\n",
    "# some genes were excluded because there are no snps are in the interval\n",
    "\n",
    "exp_genes     = readLines(paste(config$out_folder, \"step_1\", \"phenotype\", \"elements_ids.txt\" , sep = \"/\"))\n",
    "genes_with_gt = list.files(paste(config$out_folder, \"step_1\", \"genotype/by_element\", sep = \"/\"))\n",
    "genes_with_gt = gsub(\"gt_data.\", \"\", gsub(\"gt_info.\", \"\", gsub(\".txt\", \"\", genes_with_gt)))\n",
    "\n",
    "exp_genes     = intersect(exp_genes, genes_with_gt)\n",
    "\n",
    "message(paste(\"Genes with GT:\", length(unique(exp_genes))))"
   ]
  },
  {
   "cell_type": "code",
   "execution_count": 11,
   "metadata": {},
   "outputs": [
    {
     "name": "stderr",
     "output_type": "stream",
     "text": [
      "Selected 1000 random genes\n",
      "\n"
     ]
    }
   ],
   "source": [
    "element_ids      = select_random_elements(exp_genes, n = 1000, seed = 5366)\n",
    "element_ids_file = paste(config$out_folder, \"step_2\", \"element_ids.txt\", sep = \"/\")\n",
    "\n",
    "writeLines(element_ids, element_ids_file, sep = \"\\n\")"
   ]
  },
  {
   "cell_type": "markdown",
   "metadata": {},
   "source": [
    "## run QTL mapping"
   ]
  },
  {
   "cell_type": "code",
   "execution_count": 4,
   "metadata": {},
   "outputs": [
    {
     "name": "stderr",
     "output_type": "stream",
     "text": [
      "Testing with 0 peer factors: test_by_peer/peer.0 step_2\n",
      "\n",
      "Saved: /projects/CARDIPS/analysis/epigenome_resource/eqtls/CVPC/step_2/test_by_peer/peer.0/covariates.csv\n",
      "Saved: /projects/CARDIPS/analysis/epigenome_resource/eqtls/CVPC/step_2/test_by_peer/peer.0/kinship.csv\n",
      "Written: /projects/CARDIPS/analysis/epigenome_resource/eqtls/CVPC/script/qtl.step_2.peer.0.sh\n",
      "\n",
      "Written: /projects/CARDIPS/analysis/epigenome_resource/eqtls/CVPC/script/qtl.step_2.peer.0.nohup.sh\n",
      "\n",
      "qsub -hold_jid genotype.sh,genotype_redo.sh,genotype_redo,genotype_rerun.sh,genotype_rerun -V -cwd -t 1-1000:1 -tc 300 -o /projects/CARDIPS/analysis/epigenome_resource/eqtls/CVPC/logs/qtl.step_2.peer.0.err -e /projects/CARDIPS/analysis/epigenome_resource/eqtls/CVPC/logs/qtl.step_2.peer.0.out -pe smp 2  /projects/CARDIPS/analysis/epigenome_resource/eqtls/CVPC/script/qtl.step_2.peer.0.sh\n",
      "\n",
      "Testing with 10 peer factors: test_by_peer/peer.10 step_2\n",
      "\n",
      "Saved: /projects/CARDIPS/analysis/epigenome_resource/eqtls/CVPC/step_2/test_by_peer/peer.10/covariates.csv\n",
      "Saved: /projects/CARDIPS/analysis/epigenome_resource/eqtls/CVPC/step_2/test_by_peer/peer.10/kinship.csv\n",
      "Written: /projects/CARDIPS/analysis/epigenome_resource/eqtls/CVPC/script/qtl.step_2.peer.10.sh\n",
      "\n",
      "Written: /projects/CARDIPS/analysis/epigenome_resource/eqtls/CVPC/script/qtl.step_2.peer.10.nohup.sh\n",
      "\n",
      "qsub -hold_jid genotype.sh,genotype_redo.sh,genotype_redo,genotype_rerun.sh,genotype_rerun -V -cwd -t 1-1000:1 -tc 300 -o /projects/CARDIPS/analysis/epigenome_resource/eqtls/CVPC/logs/qtl.step_2.peer.10.err -e /projects/CARDIPS/analysis/epigenome_resource/eqtls/CVPC/logs/qtl.step_2.peer.10.out -pe smp 2  /projects/CARDIPS/analysis/epigenome_resource/eqtls/CVPC/script/qtl.step_2.peer.10.sh\n",
      "\n",
      "Testing with 20 peer factors: test_by_peer/peer.20 step_2\n",
      "\n",
      "Saved: /projects/CARDIPS/analysis/epigenome_resource/eqtls/CVPC/step_2/test_by_peer/peer.20/covariates.csv\n",
      "Saved: /projects/CARDIPS/analysis/epigenome_resource/eqtls/CVPC/step_2/test_by_peer/peer.20/kinship.csv\n",
      "Written: /projects/CARDIPS/analysis/epigenome_resource/eqtls/CVPC/script/qtl.step_2.peer.20.sh\n",
      "\n",
      "Written: /projects/CARDIPS/analysis/epigenome_resource/eqtls/CVPC/script/qtl.step_2.peer.20.nohup.sh\n",
      "\n",
      "qsub -hold_jid genotype.sh,genotype_redo.sh,genotype_redo,genotype_rerun.sh,genotype_rerun -V -cwd -t 1-1000:1 -tc 300 -o /projects/CARDIPS/analysis/epigenome_resource/eqtls/CVPC/logs/qtl.step_2.peer.20.err -e /projects/CARDIPS/analysis/epigenome_resource/eqtls/CVPC/logs/qtl.step_2.peer.20.out -pe smp 2  /projects/CARDIPS/analysis/epigenome_resource/eqtls/CVPC/script/qtl.step_2.peer.20.sh\n",
      "\n"
     ]
    }
   ],
   "source": [
    "for(peer_n in c(0, 10, 20, 30, 33, 34, 35, 36, 39, 40))\n",
    "{\n",
    "    run_conditionals = \"F\"\n",
    "    prefix = paste(\"test_by_peer/peer\", peer_n, sep = \".\")\n",
    "    prepare_qtl_input(config, \"step_2\", prefix, element_ids, peer_n)\n",
    "    run_qsub_qtl   (config, \"step_2\", prefix, element_ids, peer_n, \"peer\", run_conditionals, T)\n",
    "}\n"
   ]
  },
  {
   "cell_type": "code",
   "execution_count": null,
   "metadata": {},
   "outputs": [],
   "source": []
  }
 ],
 "metadata": {
  "kernelspec": {
   "display_name": "R 4.2.1",
   "language": "R",
   "name": "ir421"
  },
  "language_info": {
   "codemirror_mode": "r",
   "file_extension": ".r",
   "mimetype": "text/x-r-source",
   "name": "R",
   "pygments_lexer": "r",
   "version": "4.2.1"
  }
 },
 "nbformat": 4,
 "nbformat_minor": 2
}
