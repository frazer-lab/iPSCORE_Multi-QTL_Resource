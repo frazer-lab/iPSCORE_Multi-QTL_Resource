{
 "cells": [
  {
   "cell_type": "code",
   "execution_count": 1,
   "metadata": {},
   "outputs": [
    {
     "data": {
      "text/html": [
       "<dl>\n",
       "\t<dt>$out_folder</dt>\n",
       "\t\t<dd>'/projects/CARDIPS/analysis/epigenome_resource/eqtls/CVPC'</dd>\n",
       "\t<dt>$script_dir</dt>\n",
       "\t\t<dd>'/projects/CARDIPS/analysis/epigenome_resource/eqtls/scripts'</dd>\n",
       "\t<dt>$functions_file</dt>\n",
       "\t\t<dd>'/projects/CARDIPS/analysis/epigenome_resource/eqtls/scripts/functions.R'</dd>\n",
       "\t<dt>$bcftools</dt>\n",
       "\t\t<dd>'bcftools'</dd>\n",
       "\t<dt>$python</dt>\n",
       "\t\t<dd>'python'</dd>\n",
       "\t<dt>$qsub_queue</dt>\n",
       "\t\t<dd>''</dd>\n",
       "\t<dt>$config_file</dt>\n",
       "\t\t<dd>'/projects/CARDIPS/analysis/epigenome_resource/eqtls/CVPC/notebooks/qtl.config.sh'</dd>\n",
       "\t<dt>$metadata_sample</dt>\n",
       "\t\t<dd>'/projects/CARDIPS/analysis/epigenome_resource/eqtls/CVPC/input/metadata_sample.txt'</dd>\n",
       "\t<dt>$metadata_subject</dt>\n",
       "\t\t<dd>'/projects/CARDIPS/analysis/epigenome_resource/eqtls/CVPC/input/metadata_subject.txt'</dd>\n",
       "\t<dt>$input_phenotype_tpm_matrix</dt>\n",
       "\t\t<dd>'/projects/CARDIPS/analysis/epigenome_resource/eqtls/CVPC/input/phenotype_tpm_matrix.txt'</dd>\n",
       "\t<dt>$input_phenotype_count_matrix</dt>\n",
       "\t\t<dd>'/projects/CARDIPS/analysis/epigenome_resource/eqtls/CVPC/input/phenotype_count_matrix.txt'</dd>\n",
       "\t<dt>$input_phenotype_info</dt>\n",
       "\t\t<dd>'/projects/CARDIPS/analysis/epigenome_resource/eqtls/CVPC/input/phenotype_info.txt'</dd>\n",
       "\t<dt>$input_vcfs</dt>\n",
       "\t\t<dd>'/projects/CARDIPS/analysis/epigenome_resource/eqtls/prepare_wgs/iPSCORE_hg38.norm.pass.MAF0.05.HWE.GT99.recode.vcf.gz'</dd>\n",
       "\t<dt>$freq_file</dt>\n",
       "\t\t<dd>'/projects/CARDIPS/analysis/epigenome_resource/eqtls/prepare_wgs/iPSCORE_hg38.norm.pass.MAF0.05.HWE.GT99.recode.frq'</dd>\n",
       "\t<dt>$peer_factors_n_peer</dt>\n",
       "\t\t<dd>50</dd>\n",
       "\t<dt>$peer_factors_n_elements</dt>\n",
       "\t\t<dd>2000</dd>\n",
       "\t<dt>$kinship_file</dt>\n",
       "\t\t<dd>'/projects/CARDIPS/analysis/epigenome_resource/eqtls/prepare_wgs/kinship/kinship.rel'</dd>\n",
       "\t<dt>$qtl_distance</dt>\n",
       "\t\t<dd>1e+06</dd>\n",
       "\t<dt>$maf_threshold</dt>\n",
       "\t\t<dd>0.05</dd>\n",
       "\t<dt>$chromsizes_file</dt>\n",
       "\t\t<dd>'/reference/public/ucsc/hg38/hg38.chrom.sizes'</dd>\n",
       "\t<dt>$expressed_pct</dt>\n",
       "\t\t<dd>'0.2'</dd>\n",
       "\t<dt>$expressed_tpm</dt>\n",
       "\t\t<dd>'0.01'</dd>\n",
       "\t<dt>$expressed_counts</dt>\n",
       "\t\t<dd>'6'</dd>\n",
       "</dl>\n"
      ],
      "text/latex": [
       "\\begin{description}\n",
       "\\item[\\$out\\_folder] '/projects/CARDIPS/analysis/epigenome\\_resource/eqtls/CVPC'\n",
       "\\item[\\$script\\_dir] '/projects/CARDIPS/analysis/epigenome\\_resource/eqtls/scripts'\n",
       "\\item[\\$functions\\_file] '/projects/CARDIPS/analysis/epigenome\\_resource/eqtls/scripts/functions.R'\n",
       "\\item[\\$bcftools] 'bcftools'\n",
       "\\item[\\$python] 'python'\n",
       "\\item[\\$qsub\\_queue] ''\n",
       "\\item[\\$config\\_file] '/projects/CARDIPS/analysis/epigenome\\_resource/eqtls/CVPC/notebooks/qtl.config.sh'\n",
       "\\item[\\$metadata\\_sample] '/projects/CARDIPS/analysis/epigenome\\_resource/eqtls/CVPC/input/metadata\\_sample.txt'\n",
       "\\item[\\$metadata\\_subject] '/projects/CARDIPS/analysis/epigenome\\_resource/eqtls/CVPC/input/metadata\\_subject.txt'\n",
       "\\item[\\$input\\_phenotype\\_tpm\\_matrix] '/projects/CARDIPS/analysis/epigenome\\_resource/eqtls/CVPC/input/phenotype\\_tpm\\_matrix.txt'\n",
       "\\item[\\$input\\_phenotype\\_count\\_matrix] '/projects/CARDIPS/analysis/epigenome\\_resource/eqtls/CVPC/input/phenotype\\_count\\_matrix.txt'\n",
       "\\item[\\$input\\_phenotype\\_info] '/projects/CARDIPS/analysis/epigenome\\_resource/eqtls/CVPC/input/phenotype\\_info.txt'\n",
       "\\item[\\$input\\_vcfs] '/projects/CARDIPS/analysis/epigenome\\_resource/eqtls/prepare\\_wgs/iPSCORE\\_hg38.norm.pass.MAF0.05.HWE.GT99.recode.vcf.gz'\n",
       "\\item[\\$freq\\_file] '/projects/CARDIPS/analysis/epigenome\\_resource/eqtls/prepare\\_wgs/iPSCORE\\_hg38.norm.pass.MAF0.05.HWE.GT99.recode.frq'\n",
       "\\item[\\$peer\\_factors\\_n\\_peer] 50\n",
       "\\item[\\$peer\\_factors\\_n\\_elements] 2000\n",
       "\\item[\\$kinship\\_file] '/projects/CARDIPS/analysis/epigenome\\_resource/eqtls/prepare\\_wgs/kinship/kinship.rel'\n",
       "\\item[\\$qtl\\_distance] 1e+06\n",
       "\\item[\\$maf\\_threshold] 0.05\n",
       "\\item[\\$chromsizes\\_file] '/reference/public/ucsc/hg38/hg38.chrom.sizes'\n",
       "\\item[\\$expressed\\_pct] '0.2'\n",
       "\\item[\\$expressed\\_tpm] '0.01'\n",
       "\\item[\\$expressed\\_counts] '6'\n",
       "\\end{description}\n"
      ],
      "text/markdown": [
       "$out_folder\n",
       ":   '/projects/CARDIPS/analysis/epigenome_resource/eqtls/CVPC'\n",
       "$script_dir\n",
       ":   '/projects/CARDIPS/analysis/epigenome_resource/eqtls/scripts'\n",
       "$functions_file\n",
       ":   '/projects/CARDIPS/analysis/epigenome_resource/eqtls/scripts/functions.R'\n",
       "$bcftools\n",
       ":   'bcftools'\n",
       "$python\n",
       ":   'python'\n",
       "$qsub_queue\n",
       ":   ''\n",
       "$config_file\n",
       ":   '/projects/CARDIPS/analysis/epigenome_resource/eqtls/CVPC/notebooks/qtl.config.sh'\n",
       "$metadata_sample\n",
       ":   '/projects/CARDIPS/analysis/epigenome_resource/eqtls/CVPC/input/metadata_sample.txt'\n",
       "$metadata_subject\n",
       ":   '/projects/CARDIPS/analysis/epigenome_resource/eqtls/CVPC/input/metadata_subject.txt'\n",
       "$input_phenotype_tpm_matrix\n",
       ":   '/projects/CARDIPS/analysis/epigenome_resource/eqtls/CVPC/input/phenotype_tpm_matrix.txt'\n",
       "$input_phenotype_count_matrix\n",
       ":   '/projects/CARDIPS/analysis/epigenome_resource/eqtls/CVPC/input/phenotype_count_matrix.txt'\n",
       "$input_phenotype_info\n",
       ":   '/projects/CARDIPS/analysis/epigenome_resource/eqtls/CVPC/input/phenotype_info.txt'\n",
       "$input_vcfs\n",
       ":   '/projects/CARDIPS/analysis/epigenome_resource/eqtls/prepare_wgs/iPSCORE_hg38.norm.pass.MAF0.05.HWE.GT99.recode.vcf.gz'\n",
       "$freq_file\n",
       ":   '/projects/CARDIPS/analysis/epigenome_resource/eqtls/prepare_wgs/iPSCORE_hg38.norm.pass.MAF0.05.HWE.GT99.recode.frq'\n",
       "$peer_factors_n_peer\n",
       ":   50\n",
       "$peer_factors_n_elements\n",
       ":   2000\n",
       "$kinship_file\n",
       ":   '/projects/CARDIPS/analysis/epigenome_resource/eqtls/prepare_wgs/kinship/kinship.rel'\n",
       "$qtl_distance\n",
       ":   1e+06\n",
       "$maf_threshold\n",
       ":   0.05\n",
       "$chromsizes_file\n",
       ":   '/reference/public/ucsc/hg38/hg38.chrom.sizes'\n",
       "$expressed_pct\n",
       ":   '0.2'\n",
       "$expressed_tpm\n",
       ":   '0.01'\n",
       "$expressed_counts\n",
       ":   '6'\n",
       "\n",
       "\n"
      ],
      "text/plain": [
       "$out_folder\n",
       "[1] \"/projects/CARDIPS/analysis/epigenome_resource/eqtls/CVPC\"\n",
       "\n",
       "$script_dir\n",
       "[1] \"/projects/CARDIPS/analysis/epigenome_resource/eqtls/scripts\"\n",
       "\n",
       "$functions_file\n",
       "[1] \"/projects/CARDIPS/analysis/epigenome_resource/eqtls/scripts/functions.R\"\n",
       "\n",
       "$bcftools\n",
       "[1] \"bcftools\"\n",
       "\n",
       "$python\n",
       "[1] \"python\"\n",
       "\n",
       "$qsub_queue\n",
       "[1] \"\"\n",
       "\n",
       "$config_file\n",
       "[1] \"/projects/CARDIPS/analysis/epigenome_resource/eqtls/CVPC/notebooks/qtl.config.sh\"\n",
       "\n",
       "$metadata_sample\n",
       "[1] \"/projects/CARDIPS/analysis/epigenome_resource/eqtls/CVPC/input/metadata_sample.txt\"\n",
       "\n",
       "$metadata_subject\n",
       "[1] \"/projects/CARDIPS/analysis/epigenome_resource/eqtls/CVPC/input/metadata_subject.txt\"\n",
       "\n",
       "$input_phenotype_tpm_matrix\n",
       "[1] \"/projects/CARDIPS/analysis/epigenome_resource/eqtls/CVPC/input/phenotype_tpm_matrix.txt\"\n",
       "\n",
       "$input_phenotype_count_matrix\n",
       "[1] \"/projects/CARDIPS/analysis/epigenome_resource/eqtls/CVPC/input/phenotype_count_matrix.txt\"\n",
       "\n",
       "$input_phenotype_info\n",
       "[1] \"/projects/CARDIPS/analysis/epigenome_resource/eqtls/CVPC/input/phenotype_info.txt\"\n",
       "\n",
       "$input_vcfs\n",
       "[1] \"/projects/CARDIPS/analysis/epigenome_resource/eqtls/prepare_wgs/iPSCORE_hg38.norm.pass.MAF0.05.HWE.GT99.recode.vcf.gz\"\n",
       "\n",
       "$freq_file\n",
       "[1] \"/projects/CARDIPS/analysis/epigenome_resource/eqtls/prepare_wgs/iPSCORE_hg38.norm.pass.MAF0.05.HWE.GT99.recode.frq\"\n",
       "\n",
       "$peer_factors_n_peer\n",
       "[1] 50\n",
       "\n",
       "$peer_factors_n_elements\n",
       "[1] 2000\n",
       "\n",
       "$kinship_file\n",
       "[1] \"/projects/CARDIPS/analysis/epigenome_resource/eqtls/prepare_wgs/kinship/kinship.rel\"\n",
       "\n",
       "$qtl_distance\n",
       "[1] 1e+06\n",
       "\n",
       "$maf_threshold\n",
       "[1] 0.05\n",
       "\n",
       "$chromsizes_file\n",
       "[1] \"/reference/public/ucsc/hg38/hg38.chrom.sizes\"\n",
       "\n",
       "$expressed_pct\n",
       "[1] \"0.2\"\n",
       "\n",
       "$expressed_tpm\n",
       "[1] \"0.01\"\n",
       "\n",
       "$expressed_counts\n",
       "[1] \"6\"\n"
      ]
     },
     "metadata": {},
     "output_type": "display_data"
    }
   ],
   "source": [
    "tissue = \"CVPC\"\n",
    "setwd(\"/projects/CARDIPS/analysis/epigenome_resource\")\n",
    "source(paste(\"eqtls/scripts/functions.R\", sep = \"/\"))\n",
    "\n",
    "opt = list(config = paste(\"eqtls\", tissue, \"notebooks/qtl.config.sh\", sep = \"/\"), step = 1) # change with optparse\n",
    "\n",
    "config_file   = opt$config\n",
    "pipeline_step = opt$step\n",
    "\n",
    "config = parse_config(config_file)\n",
    "config"
   ]
  },
  {
   "cell_type": "markdown",
   "metadata": {},
   "source": [
    "# Step 4: Run proper QTLs\n"
   ]
  },
  {
   "cell_type": "markdown",
   "metadata": {},
   "source": [
    "## create workspace"
   ]
  },
  {
   "cell_type": "code",
   "execution_count": 2,
   "metadata": {},
   "outputs": [],
   "source": [
    "dir.create(paste(config$out_folder, \"step_4\", \"qtl_by_element\", sep = \"/\"), showWarnings = FALSE)\n",
    "dir.create(paste(config$out_folder, \"step_4\", \"input\"         , sep = \"/\"), showWarnings = FALSE)\n"
   ]
  },
  {
   "cell_type": "markdown",
   "metadata": {},
   "source": [
    "## get the optimal number of peer factors"
   ]
  },
  {
   "cell_type": "code",
   "execution_count": 3,
   "metadata": {},
   "outputs": [
    {
     "data": {
      "text/html": [
       "'35'"
      ],
      "text/latex": [
       "'35'"
      ],
      "text/markdown": [
       "'35'"
      ],
      "text/plain": [
       "[1] \"35\""
      ]
     },
     "metadata": {},
     "output_type": "display_data"
    }
   ],
   "source": [
    "prefix           = \"qtl_by_element\"\n",
    "peer_n_optimized = readLines(paste(config$out_folder, \"step_3\", \"peer_n_optimized.txt\", sep = \"/\"))\n",
    "\n",
    "peer_n_optimized"
   ]
  },
  {
   "cell_type": "code",
   "execution_count": 4,
   "metadata": {},
   "outputs": [
    {
     "data": {
      "text/html": [
       "18314"
      ],
      "text/latex": [
       "18314"
      ],
      "text/markdown": [
       "18314"
      ],
      "text/plain": [
       "[1] 18314"
      ]
     },
     "metadata": {},
     "output_type": "display_data"
    }
   ],
   "source": [
    "element_ids = readLines(paste(config$out_folder, \"step_1\", \"phenotype\", \"elements_ids.txt\", sep = \"/\"))\n",
    "\n",
    "length(unique(element_ids))"
   ]
  },
  {
   "cell_type": "markdown",
   "metadata": {},
   "source": [
    "## prepare input data for QTLs"
   ]
  },
  {
   "cell_type": "code",
   "execution_count": 5,
   "metadata": {},
   "outputs": [
    {
     "name": "stderr",
     "output_type": "stream",
     "text": [
      "Testing with 35 peer factors: qtl_by_element step_4\n",
      "\n",
      "Saved: /projects/CARDIPS/analysis/epigenome_resource/eqtls/CVPC/step_4/qtl_by_element/covariates.csv\n",
      "Saved: /projects/CARDIPS/analysis/epigenome_resource/eqtls/CVPC/step_4/qtl_by_element/kinship.csv\n"
     ]
    }
   ],
   "source": [
    "prepare_qtl_input(config, \"step_4\", prefix, element_ids, peer_n_optimized)\n"
   ]
  },
  {
   "cell_type": "markdown",
   "metadata": {},
   "source": [
    "## create SH file and run qsub"
   ]
  },
  {
   "cell_type": "code",
   "execution_count": 7,
   "metadata": {},
   "outputs": [
    {
     "name": "stderr",
     "output_type": "stream",
     "text": [
      "Written: /projects/CARDIPS/analysis/epigenome_resource/eqtls/CVPC/script/qtl.step_4.peer.35.sh\n",
      "\n",
      "Written: /projects/CARDIPS/analysis/epigenome_resource/eqtls/CVPC/script/qtl.step_4.peer.35.nohup.sh\n",
      "\n",
      "qsub -hold_jid genotype.sh,genotype_redo.sh,genotype_redo,genotype_rerun.sh,genotype_rerun -V -cwd -t 1-18314:1 -tc 300 -o /projects/CARDIPS/analysis/epigenome_resource/eqtls/CVPC/logs/qtl.step_4.peer.35.err -e /projects/CARDIPS/analysis/epigenome_resource/eqtls/CVPC/logs/qtl.step_4.peer.35.out -pe smp 2  /projects/CARDIPS/analysis/epigenome_resource/eqtls/CVPC/script/qtl.step_4.peer.35.sh\n",
      "\n"
     ]
    }
   ],
   "source": [
    "run_qsub_qtl(config, \"step_4\", \"qtl_by_element\", element_ids, peer_n_optimized, \"peer\", T, T)\n"
   ]
  },
  {
   "cell_type": "code",
   "execution_count": null,
   "metadata": {},
   "outputs": [],
   "source": []
  }
 ],
 "metadata": {
  "kernelspec": {
   "display_name": "R 4.2.1",
   "language": "R",
   "name": "ir421"
  },
  "language_info": {
   "codemirror_mode": "r",
   "file_extension": ".r",
   "mimetype": "text/x-r-source",
   "name": "R",
   "pygments_lexer": "r",
   "version": "4.2.1"
  }
 },
 "nbformat": 4,
 "nbformat_minor": 2
}
